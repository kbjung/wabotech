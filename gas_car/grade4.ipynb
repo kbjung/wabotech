{
 "cells": [
  {
   "cell_type": "markdown",
   "metadata": {},
   "source": [
    "# Library"
   ]
  },
  {
   "cell_type": "code",
   "execution_count": 124,
   "metadata": {},
   "outputs": [],
   "source": [
    "import pandas as pd\n",
    "import numpy as np\n",
    "import re\n",
    "from tqdm import tqdm"
   ]
  },
  {
   "cell_type": "markdown",
   "metadata": {},
   "source": [
    "## [로드] 말소 데이터"
   ]
  },
  {
   "cell_type": "code",
   "execution_count": 35,
   "metadata": {},
   "outputs": [
    {
     "name": "stdout",
     "output_type": "stream",
     "text": [
      "<class 'pandas.core.frame.DataFrame'>\n",
      "RangeIndex: 42 entries, 0 to 41\n",
      "Data columns (total 1 columns):\n",
      " #   Column  Non-Null Count  Dtype \n",
      "---  ------  --------------  ----- \n",
      " 0   컬럼명     42 non-null     object\n",
      "dtypes: object(1)\n",
      "memory usage: 464.0+ bytes\n"
     ]
    }
   ],
   "source": [
    "ex_col_df = pd.read_excel('data/220819_22.06월기준_말소_컬럼.xlsx')\n",
    "ex_col_df.info()"
   ]
  },
  {
   "cell_type": "code",
   "execution_count": 36,
   "metadata": {},
   "outputs": [
    {
     "data": {
      "text/html": [
       "<div>\n",
       "<style scoped>\n",
       "    .dataframe tbody tr th:only-of-type {\n",
       "        vertical-align: middle;\n",
       "    }\n",
       "\n",
       "    .dataframe tbody tr th {\n",
       "        vertical-align: top;\n",
       "    }\n",
       "\n",
       "    .dataframe thead th {\n",
       "        text-align: right;\n",
       "    }\n",
       "</style>\n",
       "<table border=\"1\" class=\"dataframe\">\n",
       "  <thead>\n",
       "    <tr style=\"text-align: right;\">\n",
       "      <th></th>\n",
       "      <th>컬럼명</th>\n",
       "    </tr>\n",
       "  </thead>\n",
       "  <tbody>\n",
       "    <tr>\n",
       "      <th>0</th>\n",
       "      <td>차량관리번호</td>\n",
       "    </tr>\n",
       "    <tr>\n",
       "      <th>1</th>\n",
       "      <td>차량등록번호</td>\n",
       "    </tr>\n",
       "    <tr>\n",
       "      <th>2</th>\n",
       "      <td>본거지법정동코드</td>\n",
       "    </tr>\n",
       "    <tr>\n",
       "      <th>3</th>\n",
       "      <td>소유자구분</td>\n",
       "    </tr>\n",
       "    <tr>\n",
       "      <th>4</th>\n",
       "      <td>차종_등록정보</td>\n",
       "    </tr>\n",
       "  </tbody>\n",
       "</table>\n",
       "</div>"
      ],
      "text/plain": [
       "        컬럼명\n",
       "0    차량관리번호\n",
       "1    차량등록번호\n",
       "2  본거지법정동코드\n",
       "3     소유자구분\n",
       "4   차종_등록정보"
      ]
     },
     "execution_count": 36,
     "metadata": {},
     "output_type": "execute_result"
    }
   ],
   "source": [
    "ex_col_df.head()"
   ]
  },
  {
   "cell_type": "code",
   "execution_count": 37,
   "metadata": {},
   "outputs": [
    {
     "data": {
      "text/plain": [
       "42"
      ]
     },
     "execution_count": 37,
     "metadata": {},
     "output_type": "execute_result"
    }
   ],
   "source": [
    "ex_col = ex_col_df['컬럼명']\n",
    "len(ex_col)"
   ]
  },
  {
   "cell_type": "code",
   "execution_count": 38,
   "metadata": {},
   "outputs": [
    {
     "data": {
      "text/plain": [
       "Index(['차대번호', '차량말소YN'], dtype='object')"
      ]
     },
     "execution_count": 38,
     "metadata": {},
     "output_type": "execute_result"
    }
   ],
   "source": [
    "# 20.8s\n",
    "ex = pd.read_table('data/220819_22.06월기준_말소.txt', header=42, names=ex_col, usecols=['차대번호', '차량말소YN'], encoding='cp949')\n",
    "ex.columns"
   ]
  },
  {
   "cell_type": "code",
   "execution_count": 39,
   "metadata": {},
   "outputs": [
    {
     "name": "stdout",
     "output_type": "stream",
     "text": [
      "<class 'pandas.core.frame.DataFrame'>\n",
      "RangeIndex: 3653054 entries, 0 to 3653053\n",
      "Data columns (total 2 columns):\n",
      " #   Column  Dtype \n",
      "---  ------  ----- \n",
      " 0   차대번호    object\n",
      " 1   차량말소YN  object\n",
      "dtypes: object(2)\n",
      "memory usage: 55.7+ MB\n"
     ]
    }
   ],
   "source": [
    "ex.info()"
   ]
  },
  {
   "cell_type": "markdown",
   "metadata": {},
   "source": [
    "## [로드] 컬럼명 데이터"
   ]
  },
  {
   "cell_type": "code",
   "execution_count": 40,
   "metadata": {},
   "outputs": [],
   "source": [
    "col_df = pd.read_table('data/컬럼명.txt', sep=',')\n",
    "col= col_df.columns"
   ]
  },
  {
   "cell_type": "code",
   "execution_count": 41,
   "metadata": {},
   "outputs": [
    {
     "data": {
      "text/plain": [
       "Index(['차량관리번호', '차량등록번호', '본거지법정동코드', '소유자구분', '차종_등록정보', '용도', '차대번호',\n",
       "       '최초등록일자', '차량연식', '차량제작일자', '검사유효일', '제원관리번호', '배출가스인증번호', '배출가스등급',\n",
       "       '저공해조치종류', '저공해조치구조변경YN', '차량말소YN', '취득일자', '취득금액', '차명', '차종_제원정보',\n",
       "       '차종분류', '차종유형', '자동차형식', '제작사명', '연료', '엔진형식', '총중량', '적재중량', '엔진출력',\n",
       "       '배기량', '승차인원', '차량길이', '차량너비', '차량높이', '원산지명', '삭제YN', '제원승인일자', '구동형식',\n",
       "       '변속기종류'],\n",
       "      dtype='object')"
      ]
     },
     "execution_count": 41,
     "metadata": {},
     "output_type": "execute_result"
    }
   ],
   "source": [
    "col"
   ]
  },
  {
   "cell_type": "markdown",
   "metadata": {},
   "source": [
    "## [로드] 파일"
   ]
  },
  {
   "cell_type": "code",
   "execution_count": 42,
   "metadata": {},
   "outputs": [
    {
     "name": "stderr",
     "output_type": "stream",
     "text": [
      "C:\\Users\\kbjung\\AppData\\Local\\Temp\\ipykernel_8084\\3437007485.py:2: DtypeWarning: Columns (14,17,29,37,38) have mixed types. Specify dtype option on import or set low_memory=False.\n",
      "  df = pd.read_table('data/220819_22.06월기준_4등급.txt', encoding='cp949', header=40, names=col)\n"
     ]
    },
    {
     "name": "stdout",
     "output_type": "stream",
     "text": [
      "<class 'pandas.core.frame.DataFrame'>\n",
      "RangeIndex: 1528586 entries, 0 to 1528585\n",
      "Data columns (total 40 columns):\n",
      " #   Column       Non-Null Count    Dtype  \n",
      "---  ------       --------------    -----  \n",
      " 0   차량관리번호       1528586 non-null  object \n",
      " 1   차량등록번호       1528586 non-null  object \n",
      " 2   본거지법정동코드     1528586 non-null  int64  \n",
      " 3   소유자구분        1528586 non-null  object \n",
      " 4   차종_등록정보      1528584 non-null  object \n",
      " 5   용도           1528586 non-null  object \n",
      " 6   차대번호         1528586 non-null  object \n",
      " 7   최초등록일자       1528586 non-null  int64  \n",
      " 8   차량연식         1528586 non-null  int64  \n",
      " 9   차량제작일자       1358925 non-null  float64\n",
      " 10  검사유효일        1528574 non-null  float64\n",
      " 11  제원관리번호       1528586 non-null  object \n",
      " 12  배출가스인증번호     1405585 non-null  object \n",
      " 13  배출가스등급       1528586 non-null  int64  \n",
      " 14  저공해조치종류      195 non-null      object \n",
      " 15  저공해조치구조변경YN  1528586 non-null  object \n",
      " 16  차량말소YN       1528586 non-null  object \n",
      " 17  취득일자         1435514 non-null  object \n",
      " 18  취득금액         1453613 non-null  float64\n",
      " 19  차명           1528586 non-null  object \n",
      " 20  차종_제원정보      1528586 non-null  object \n",
      " 21  차종분류         1528586 non-null  object \n",
      " 22  차종유형         1528586 non-null  object \n",
      " 23  자동차형식        1528302 non-null  object \n",
      " 24  제작사명         1518694 non-null  object \n",
      " 25  연료           1528586 non-null  object \n",
      " 26  엔진형식         1526740 non-null  object \n",
      " 27  총중량          1528585 non-null  float64\n",
      " 28  적재중량         1528075 non-null  float64\n",
      " 29  엔진출력         1528227 non-null  object \n",
      " 30  배기량          1528582 non-null  float64\n",
      " 31  승차인원         1528586 non-null  int64  \n",
      " 32  차량길이         1528585 non-null  float64\n",
      " 33  차량너비         1528585 non-null  float64\n",
      " 34  차량높이         1528583 non-null  float64\n",
      " 35  원산지명         1509499 non-null  object \n",
      " 36  삭제YN         1528586 non-null  object \n",
      " 37  제원승인일자       1528155 non-null  object \n",
      " 38  구동형식         41 non-null       object \n",
      " 39  변속기종류        1528426 non-null  object \n",
      "dtypes: float64(9), int64(5), object(26)\n",
      "memory usage: 466.5+ MB\n"
     ]
    }
   ],
   "source": [
    "# 22.3s\n",
    "df = pd.read_table('data/220819_22.06월기준_4등급.txt', encoding='cp949', header=40, names=col)\n",
    "df.info()"
   ]
  },
  {
   "attachments": {},
   "cell_type": "markdown",
   "metadata": {},
   "source": [
    "# 전처리"
   ]
  },
  {
   "attachments": {},
   "cell_type": "markdown",
   "metadata": {},
   "source": [
    "## 차량말소 정보 추가"
   ]
  },
  {
   "cell_type": "code",
   "execution_count": 43,
   "metadata": {},
   "outputs": [
    {
     "data": {
      "text/plain": [
       "array(['N'], dtype=object)"
      ]
     },
     "execution_count": 43,
     "metadata": {},
     "output_type": "execute_result"
    }
   ],
   "source": [
    "df['차량말소YN'].unique()"
   ]
  },
  {
   "cell_type": "code",
   "execution_count": 44,
   "metadata": {},
   "outputs": [
    {
     "data": {
      "text/plain": [
       "array([nan, 'Y'], dtype=object)"
      ]
     },
     "execution_count": 44,
     "metadata": {},
     "output_type": "execute_result"
    }
   ],
   "source": [
    "df2 = df.merge(ex, on='차대번호', how='left')\n",
    "df2['차량말소YN_y'].unique()"
   ]
  },
  {
   "cell_type": "code",
   "execution_count": 45,
   "metadata": {},
   "outputs": [
    {
     "data": {
      "text/plain": [
       "(1528579, 41)"
      ]
     },
     "execution_count": 45,
     "metadata": {},
     "output_type": "execute_result"
    }
   ],
   "source": [
    "df3 = df2[df2['차량말소YN_y'].isnull() == True]\n",
    "df3.shape"
   ]
  },
  {
   "attachments": {},
   "cell_type": "markdown",
   "metadata": {},
   "source": [
    "## 연료 정보 수정\n",
    "- 엔진형식, 차명으로 확인"
   ]
  },
  {
   "cell_type": "code",
   "execution_count": 46,
   "metadata": {},
   "outputs": [
    {
     "data": {
      "text/html": [
       "<div>\n",
       "<style scoped>\n",
       "    .dataframe tbody tr th:only-of-type {\n",
       "        vertical-align: middle;\n",
       "    }\n",
       "\n",
       "    .dataframe tbody tr th {\n",
       "        vertical-align: top;\n",
       "    }\n",
       "\n",
       "    .dataframe thead th {\n",
       "        text-align: right;\n",
       "    }\n",
       "</style>\n",
       "<table border=\"1\" class=\"dataframe\">\n",
       "  <thead>\n",
       "    <tr style=\"text-align: right;\">\n",
       "      <th></th>\n",
       "      <th>연료</th>\n",
       "      <th>차대번호</th>\n",
       "    </tr>\n",
       "  </thead>\n",
       "  <tbody>\n",
       "    <tr>\n",
       "      <th>2</th>\n",
       "      <td>경유</td>\n",
       "      <td>1167606</td>\n",
       "    </tr>\n",
       "    <tr>\n",
       "      <th>5</th>\n",
       "      <td>휘발유</td>\n",
       "      <td>334514</td>\n",
       "    </tr>\n",
       "    <tr>\n",
       "      <th>1</th>\n",
       "      <td>LPG(액화석유가스)</td>\n",
       "      <td>26419</td>\n",
       "    </tr>\n",
       "    <tr>\n",
       "      <th>3</th>\n",
       "      <td>기타연료</td>\n",
       "      <td>38</td>\n",
       "    </tr>\n",
       "    <tr>\n",
       "      <th>0</th>\n",
       "      <td>CNG(압축천연가스)</td>\n",
       "      <td>1</td>\n",
       "    </tr>\n",
       "    <tr>\n",
       "      <th>4</th>\n",
       "      <td>알코올</td>\n",
       "      <td>1</td>\n",
       "    </tr>\n",
       "  </tbody>\n",
       "</table>\n",
       "</div>"
      ],
      "text/plain": [
       "            연료     차대번호\n",
       "2           경유  1167606\n",
       "5          휘발유   334514\n",
       "1  LPG(액화석유가스)    26419\n",
       "3         기타연료       38\n",
       "0  CNG(압축천연가스)        1\n",
       "4          알코올        1"
      ]
     },
     "execution_count": 46,
     "metadata": {},
     "output_type": "execute_result"
    }
   ],
   "source": [
    "f = df3.groupby('연료', as_index=False)['차대번호'].count().sort_values('차대번호', ascending=False)\n",
    "f"
   ]
  },
  {
   "cell_type": "code",
   "execution_count": 47,
   "metadata": {},
   "outputs": [
    {
     "data": {
      "text/plain": [
       "Int64Index([  38295,   73224,  103131,  105842,  113699,  121116,  150211,\n",
       "             162707,  373733,  431838,  433717,  452642,  527072,  528529,\n",
       "             539486,  560436,  563710,  684873,  723391,  743410,  760045,\n",
       "             760597,  870040,  922854,  936173,  953452, 1064457, 1094648,\n",
       "            1095179, 1124780, 1178312, 1221151, 1303029, 1353597, 1359097,\n",
       "            1368257, 1408956, 1525597],\n",
       "           dtype='int64')"
      ]
     },
     "execution_count": 47,
     "metadata": {},
     "output_type": "execute_result"
    }
   ],
   "source": [
    "g = df3.groupby('연료', as_index=False)['차대번호'].groups\n",
    "g['기타연료']"
   ]
  },
  {
   "cell_type": "code",
   "execution_count": 48,
   "metadata": {},
   "outputs": [
    {
     "data": {
      "text/plain": [
       "array(['B5', 'G16SF', nan, 'H20MR', 'MSV3', '01821300581', 'G15CF',\n",
       "       'G4AJ', '-'], dtype=object)"
      ]
     },
     "execution_count": 48,
     "metadata": {},
     "output_type": "execute_result"
    }
   ],
   "source": [
    "# B5 : 휘발유\n",
    "# G16SF : 휘발유\n",
    "# H20MR : 휘발유\n",
    "# MSV3 : 휘발유\n",
    "# 01821300581 : \n",
    "# G15CF : 휘발유\n",
    "# G4AJ : 휘발유\n",
    "df3.loc[df3['연료'] == '기타연료', '엔진형식'].unique()"
   ]
  },
  {
   "cell_type": "code",
   "execution_count": 49,
   "metadata": {},
   "outputs": [
    {
     "data": {
      "text/html": [
       "<div>\n",
       "<style scoped>\n",
       "    .dataframe tbody tr th:only-of-type {\n",
       "        vertical-align: middle;\n",
       "    }\n",
       "\n",
       "    .dataframe tbody tr th {\n",
       "        vertical-align: top;\n",
       "    }\n",
       "\n",
       "    .dataframe thead th {\n",
       "        text-align: right;\n",
       "    }\n",
       "</style>\n",
       "<table border=\"1\" class=\"dataframe\">\n",
       "  <thead>\n",
       "    <tr style=\"text-align: right;\">\n",
       "      <th></th>\n",
       "      <th>차명</th>\n",
       "      <th>엔진형식</th>\n",
       "    </tr>\n",
       "  </thead>\n",
       "  <tbody>\n",
       "    <tr>\n",
       "      <th>103131</th>\n",
       "      <td>도요다크라운로얄싸롱</td>\n",
       "      <td>NaN</td>\n",
       "    </tr>\n",
       "    <tr>\n",
       "      <th>150211</th>\n",
       "      <td>스텔라오토매틱</td>\n",
       "      <td>NaN</td>\n",
       "    </tr>\n",
       "    <tr>\n",
       "      <th>373733</th>\n",
       "      <td>벤즈 230E</td>\n",
       "      <td>NaN</td>\n",
       "    </tr>\n",
       "    <tr>\n",
       "      <th>433717</th>\n",
       "      <td>벤즈230E</td>\n",
       "      <td>01821300581</td>\n",
       "    </tr>\n",
       "    <tr>\n",
       "      <th>760045</th>\n",
       "      <td>에어스트림탐지견수송트레일러</td>\n",
       "      <td>-</td>\n",
       "    </tr>\n",
       "  </tbody>\n",
       "</table>\n",
       "</div>"
      ],
      "text/plain": [
       "                    차명         엔진형식\n",
       "103131      도요다크라운로얄싸롱          NaN\n",
       "150211         스텔라오토매틱          NaN\n",
       "373733         벤즈 230E          NaN\n",
       "433717          벤즈230E  01821300581\n",
       "760045  에어스트림탐지견수송트레일러            -"
      ]
     },
     "execution_count": 49,
     "metadata": {},
     "output_type": "execute_result"
    }
   ],
   "source": [
    "df3.loc[df3['엔진형식'] == 'B5', '연료'] = '휘발유'\n",
    "df3.loc[df3['엔진형식'] == 'G16SF', '연료'] = '휘발유'\n",
    "df3.loc[df3['엔진형식'] == 'H20MR', '연료'] = '휘발유'\n",
    "df3.loc[df3['엔진형식'] == 'MSV3', '연료'] = '휘발유'\n",
    "df3.loc[df3['엔진형식'] == 'G15CF', '연료'] = '휘발유'\n",
    "df3.loc[df3['엔진형식'] == 'G4AJ', '연료'] = '휘발유'\n",
    "df3[df3['연료'] == '기타연료'][['차명', '엔진형식']]"
   ]
  },
  {
   "cell_type": "code",
   "execution_count": 50,
   "metadata": {},
   "outputs": [
    {
     "data": {
      "text/html": [
       "<div>\n",
       "<style scoped>\n",
       "    .dataframe tbody tr th:only-of-type {\n",
       "        vertical-align: middle;\n",
       "    }\n",
       "\n",
       "    .dataframe tbody tr th {\n",
       "        vertical-align: top;\n",
       "    }\n",
       "\n",
       "    .dataframe thead th {\n",
       "        text-align: right;\n",
       "    }\n",
       "</style>\n",
       "<table border=\"1\" class=\"dataframe\">\n",
       "  <thead>\n",
       "    <tr style=\"text-align: right;\">\n",
       "      <th></th>\n",
       "      <th>차명</th>\n",
       "      <th>엔진형식</th>\n",
       "    </tr>\n",
       "  </thead>\n",
       "  <tbody>\n",
       "    <tr>\n",
       "      <th>760045</th>\n",
       "      <td>에어스트림탐지견수송트레일러</td>\n",
       "      <td>-</td>\n",
       "    </tr>\n",
       "  </tbody>\n",
       "</table>\n",
       "</div>"
      ],
      "text/plain": [
       "                    차명 엔진형식\n",
       "760045  에어스트림탐지견수송트레일러    -"
      ]
     },
     "execution_count": 50,
     "metadata": {},
     "output_type": "execute_result"
    }
   ],
   "source": [
    "df3.loc[df3['차명'] == '도요다크라운로얄싸롱', '연료'] = '휘발유'\n",
    "df3.loc[df3['차명'] == '스텔라오토매틱', '연료'] = '휘발유'\n",
    "df3.loc[df3['차명'] == '벤즈 230E', '연료'] = '휘발유'\n",
    "df3.loc[df3['차명'] == '벤즈230E', '연료'] = '휘발유'\n",
    "df3[df3['연료'] == '기타연료'][['차명', '엔진형식']]"
   ]
  },
  {
   "cell_type": "code",
   "execution_count": 51,
   "metadata": {},
   "outputs": [
    {
     "data": {
      "text/html": [
       "<div>\n",
       "<style scoped>\n",
       "    .dataframe tbody tr th:only-of-type {\n",
       "        vertical-align: middle;\n",
       "    }\n",
       "\n",
       "    .dataframe tbody tr th {\n",
       "        vertical-align: top;\n",
       "    }\n",
       "\n",
       "    .dataframe thead th {\n",
       "        text-align: right;\n",
       "    }\n",
       "</style>\n",
       "<table border=\"1\" class=\"dataframe\">\n",
       "  <thead>\n",
       "    <tr style=\"text-align: right;\">\n",
       "      <th></th>\n",
       "      <th>연료</th>\n",
       "      <th>차대번호</th>\n",
       "    </tr>\n",
       "  </thead>\n",
       "  <tbody>\n",
       "    <tr>\n",
       "      <th>2</th>\n",
       "      <td>경유</td>\n",
       "      <td>1167606</td>\n",
       "    </tr>\n",
       "    <tr>\n",
       "      <th>5</th>\n",
       "      <td>휘발유</td>\n",
       "      <td>334551</td>\n",
       "    </tr>\n",
       "    <tr>\n",
       "      <th>1</th>\n",
       "      <td>LPG(액화석유가스)</td>\n",
       "      <td>26419</td>\n",
       "    </tr>\n",
       "    <tr>\n",
       "      <th>0</th>\n",
       "      <td>CNG(압축천연가스)</td>\n",
       "      <td>1</td>\n",
       "    </tr>\n",
       "    <tr>\n",
       "      <th>3</th>\n",
       "      <td>기타연료</td>\n",
       "      <td>1</td>\n",
       "    </tr>\n",
       "    <tr>\n",
       "      <th>4</th>\n",
       "      <td>알코올</td>\n",
       "      <td>1</td>\n",
       "    </tr>\n",
       "  </tbody>\n",
       "</table>\n",
       "</div>"
      ],
      "text/plain": [
       "            연료     차대번호\n",
       "2           경유  1167606\n",
       "5          휘발유   334551\n",
       "1  LPG(액화석유가스)    26419\n",
       "0  CNG(압축천연가스)        1\n",
       "3         기타연료        1\n",
       "4          알코올        1"
      ]
     },
     "execution_count": 51,
     "metadata": {},
     "output_type": "execute_result"
    }
   ],
   "source": [
    "f = df3.groupby('연료', as_index=False)['차대번호'].count().sort_values('차대번호', ascending=False)\n",
    "f"
   ]
  },
  {
   "cell_type": "code",
   "execution_count": 52,
   "metadata": {},
   "outputs": [
    {
     "data": {
      "text/html": [
       "<div>\n",
       "<style scoped>\n",
       "    .dataframe tbody tr th:only-of-type {\n",
       "        vertical-align: middle;\n",
       "    }\n",
       "\n",
       "    .dataframe tbody tr th {\n",
       "        vertical-align: top;\n",
       "    }\n",
       "\n",
       "    .dataframe thead th {\n",
       "        text-align: right;\n",
       "    }\n",
       "</style>\n",
       "<table border=\"1\" class=\"dataframe\">\n",
       "  <thead>\n",
       "    <tr style=\"text-align: right;\">\n",
       "      <th></th>\n",
       "      <th>연료</th>\n",
       "      <th>4등급</th>\n",
       "    </tr>\n",
       "  </thead>\n",
       "  <tbody>\n",
       "    <tr>\n",
       "      <th>2</th>\n",
       "      <td>경유</td>\n",
       "      <td>1167606</td>\n",
       "    </tr>\n",
       "    <tr>\n",
       "      <th>5</th>\n",
       "      <td>휘발유</td>\n",
       "      <td>334551</td>\n",
       "    </tr>\n",
       "    <tr>\n",
       "      <th>1</th>\n",
       "      <td>LPG(액화석유가스)</td>\n",
       "      <td>26419</td>\n",
       "    </tr>\n",
       "    <tr>\n",
       "      <th>0</th>\n",
       "      <td>CNG(압축천연가스)</td>\n",
       "      <td>1</td>\n",
       "    </tr>\n",
       "    <tr>\n",
       "      <th>3</th>\n",
       "      <td>기타연료</td>\n",
       "      <td>1</td>\n",
       "    </tr>\n",
       "    <tr>\n",
       "      <th>4</th>\n",
       "      <td>알코올</td>\n",
       "      <td>1</td>\n",
       "    </tr>\n",
       "  </tbody>\n",
       "</table>\n",
       "</div>"
      ],
      "text/plain": [
       "            연료      4등급\n",
       "2           경유  1167606\n",
       "5          휘발유   334551\n",
       "1  LPG(액화석유가스)    26419\n",
       "0  CNG(압축천연가스)        1\n",
       "3         기타연료        1\n",
       "4          알코올        1"
      ]
     },
     "execution_count": 52,
     "metadata": {},
     "output_type": "execute_result"
    }
   ],
   "source": [
    "f.columns = ['연료', '4등급']\n",
    "f"
   ]
  },
  {
   "cell_type": "markdown",
   "metadata": {},
   "source": [
    "## [excel] 연료별 통계"
   ]
  },
  {
   "cell_type": "code",
   "execution_count": 53,
   "metadata": {},
   "outputs": [],
   "source": [
    "f.to_excel('analysis/[G4]연료별_차대번호_통계.xlsx', index=False, encoding='utf-8')"
   ]
  },
  {
   "attachments": {},
   "cell_type": "markdown",
   "metadata": {},
   "source": [
    "## 지역별 수량 통계"
   ]
  },
  {
   "cell_type": "markdown",
   "metadata": {},
   "source": [
    "## [로드] 법정동코드"
   ]
  },
  {
   "cell_type": "code",
   "execution_count": 54,
   "metadata": {},
   "outputs": [
    {
     "name": "stdout",
     "output_type": "stream",
     "text": [
      "<class 'pandas.core.frame.DataFrame'>\n",
      "RangeIndex: 229 entries, 0 to 228\n",
      "Data columns (total 5 columns):\n",
      " #   Column  Non-Null Count  Dtype \n",
      "---  ------  --------------  ----- \n",
      " 0   ad1     229 non-null    object\n",
      " 1   code1   229 non-null    int64 \n",
      " 2   ad2     229 non-null    object\n",
      " 3   code2   229 non-null    int64 \n",
      " 4   code3   229 non-null    int64 \n",
      "dtypes: int64(3), object(2)\n",
      "memory usage: 9.1+ KB\n"
     ]
    }
   ],
   "source": [
    "code = pd.read_excel('data/지역구분코드(수정).xlsx')\n",
    "code.info()"
   ]
  },
  {
   "cell_type": "code",
   "execution_count": 55,
   "metadata": {},
   "outputs": [
    {
     "data": {
      "text/html": [
       "<div>\n",
       "<style scoped>\n",
       "    .dataframe tbody tr th:only-of-type {\n",
       "        vertical-align: middle;\n",
       "    }\n",
       "\n",
       "    .dataframe tbody tr th {\n",
       "        vertical-align: top;\n",
       "    }\n",
       "\n",
       "    .dataframe thead th {\n",
       "        text-align: right;\n",
       "    }\n",
       "</style>\n",
       "<table border=\"1\" class=\"dataframe\">\n",
       "  <thead>\n",
       "    <tr style=\"text-align: right;\">\n",
       "      <th></th>\n",
       "      <th>ad1</th>\n",
       "      <th>code1</th>\n",
       "    </tr>\n",
       "  </thead>\n",
       "  <tbody>\n",
       "    <tr>\n",
       "      <th>0</th>\n",
       "      <td>서울특별시</td>\n",
       "      <td>11</td>\n",
       "    </tr>\n",
       "    <tr>\n",
       "      <th>1</th>\n",
       "      <td>부산광역시</td>\n",
       "      <td>26</td>\n",
       "    </tr>\n",
       "    <tr>\n",
       "      <th>2</th>\n",
       "      <td>대구광역시</td>\n",
       "      <td>27</td>\n",
       "    </tr>\n",
       "    <tr>\n",
       "      <th>3</th>\n",
       "      <td>인천광역시</td>\n",
       "      <td>28</td>\n",
       "    </tr>\n",
       "    <tr>\n",
       "      <th>4</th>\n",
       "      <td>광주광역시</td>\n",
       "      <td>29</td>\n",
       "    </tr>\n",
       "    <tr>\n",
       "      <th>5</th>\n",
       "      <td>대전광역시</td>\n",
       "      <td>30</td>\n",
       "    </tr>\n",
       "    <tr>\n",
       "      <th>6</th>\n",
       "      <td>울산광역시</td>\n",
       "      <td>31</td>\n",
       "    </tr>\n",
       "    <tr>\n",
       "      <th>7</th>\n",
       "      <td>세종특별자치시</td>\n",
       "      <td>36</td>\n",
       "    </tr>\n",
       "    <tr>\n",
       "      <th>8</th>\n",
       "      <td>경기도</td>\n",
       "      <td>41</td>\n",
       "    </tr>\n",
       "    <tr>\n",
       "      <th>9</th>\n",
       "      <td>강원도</td>\n",
       "      <td>42</td>\n",
       "    </tr>\n",
       "    <tr>\n",
       "      <th>10</th>\n",
       "      <td>충청북도</td>\n",
       "      <td>43</td>\n",
       "    </tr>\n",
       "    <tr>\n",
       "      <th>11</th>\n",
       "      <td>충청남도</td>\n",
       "      <td>44</td>\n",
       "    </tr>\n",
       "    <tr>\n",
       "      <th>12</th>\n",
       "      <td>전라북도</td>\n",
       "      <td>45</td>\n",
       "    </tr>\n",
       "    <tr>\n",
       "      <th>13</th>\n",
       "      <td>전라남도</td>\n",
       "      <td>46</td>\n",
       "    </tr>\n",
       "    <tr>\n",
       "      <th>14</th>\n",
       "      <td>경상북도</td>\n",
       "      <td>47</td>\n",
       "    </tr>\n",
       "    <tr>\n",
       "      <th>15</th>\n",
       "      <td>경상남도</td>\n",
       "      <td>48</td>\n",
       "    </tr>\n",
       "    <tr>\n",
       "      <th>16</th>\n",
       "      <td>제주특별자치도</td>\n",
       "      <td>50</td>\n",
       "    </tr>\n",
       "  </tbody>\n",
       "</table>\n",
       "</div>"
      ],
      "text/plain": [
       "        ad1  code1\n",
       "0     서울특별시     11\n",
       "1     부산광역시     26\n",
       "2     대구광역시     27\n",
       "3     인천광역시     28\n",
       "4     광주광역시     29\n",
       "5     대전광역시     30\n",
       "6     울산광역시     31\n",
       "7   세종특별자치시     36\n",
       "8       경기도     41\n",
       "9       강원도     42\n",
       "10     충청북도     43\n",
       "11     충청남도     44\n",
       "12     전라북도     45\n",
       "13     전라남도     46\n",
       "14     경상북도     47\n",
       "15     경상남도     48\n",
       "16  제주특별자치도     50"
      ]
     },
     "execution_count": 55,
     "metadata": {},
     "output_type": "execute_result"
    }
   ],
   "source": [
    "code = code[['ad1', 'code1']].drop_duplicates(['ad1'], keep='first').reset_index(drop=True)\n",
    "code"
   ]
  },
  {
   "attachments": {},
   "cell_type": "markdown",
   "metadata": {},
   "source": [
    "### 법정동 코드 추가"
   ]
  },
  {
   "cell_type": "code",
   "execution_count": 56,
   "metadata": {},
   "outputs": [
    {
     "data": {
      "text/plain": [
       "0    1144010700\n",
       "1    2650010100\n",
       "2    4729025024\n",
       "3    4117110100\n",
       "4    4711331026\n",
       "Name: 본거지법정동코드, dtype: int64"
      ]
     },
     "execution_count": 56,
     "metadata": {},
     "output_type": "execute_result"
    }
   ],
   "source": [
    "df['본거지법정동코드'].head()"
   ]
  },
  {
   "cell_type": "code",
   "execution_count": 57,
   "metadata": {},
   "outputs": [
    {
     "data": {
      "text/plain": [
       "0"
      ]
     },
     "execution_count": 57,
     "metadata": {},
     "output_type": "execute_result"
    }
   ],
   "source": [
    "df['본거지법정동코드'].isnull().sum()"
   ]
  },
  {
   "cell_type": "code",
   "execution_count": 58,
   "metadata": {},
   "outputs": [],
   "source": [
    "df['지역코드'] = df['본거지법정동코드'].astype('str').str[:2]\n",
    "df['지역코드'] = df['지역코드'].astype('int')"
   ]
  },
  {
   "cell_type": "code",
   "execution_count": 59,
   "metadata": {},
   "outputs": [
    {
     "data": {
      "text/plain": [
       "0    11\n",
       "1    26\n",
       "2    47\n",
       "3    41\n",
       "4    47\n",
       "Name: 지역코드, dtype: int32"
      ]
     },
     "execution_count": 59,
     "metadata": {},
     "output_type": "execute_result"
    }
   ],
   "source": [
    "df['지역코드'].head()"
   ]
  },
  {
   "cell_type": "code",
   "execution_count": 60,
   "metadata": {},
   "outputs": [
    {
     "data": {
      "text/plain": [
       "0    11\n",
       "1    26\n",
       "2    27\n",
       "3    28\n",
       "4    29\n",
       "Name: code1, dtype: int64"
      ]
     },
     "execution_count": 60,
     "metadata": {},
     "output_type": "execute_result"
    }
   ],
   "source": [
    "code['code1'].head()"
   ]
  },
  {
   "cell_type": "code",
   "execution_count": 61,
   "metadata": {},
   "outputs": [
    {
     "data": {
      "text/html": [
       "<div>\n",
       "<style scoped>\n",
       "    .dataframe tbody tr th:only-of-type {\n",
       "        vertical-align: middle;\n",
       "    }\n",
       "\n",
       "    .dataframe tbody tr th {\n",
       "        vertical-align: top;\n",
       "    }\n",
       "\n",
       "    .dataframe thead th {\n",
       "        text-align: right;\n",
       "    }\n",
       "</style>\n",
       "<table border=\"1\" class=\"dataframe\">\n",
       "  <thead>\n",
       "    <tr style=\"text-align: right;\">\n",
       "      <th></th>\n",
       "      <th>지역코드</th>\n",
       "      <th>ad1</th>\n",
       "    </tr>\n",
       "  </thead>\n",
       "  <tbody>\n",
       "    <tr>\n",
       "      <th>0</th>\n",
       "      <td>11</td>\n",
       "      <td>서울특별시</td>\n",
       "    </tr>\n",
       "    <tr>\n",
       "      <th>1</th>\n",
       "      <td>26</td>\n",
       "      <td>부산광역시</td>\n",
       "    </tr>\n",
       "    <tr>\n",
       "      <th>2</th>\n",
       "      <td>47</td>\n",
       "      <td>경상북도</td>\n",
       "    </tr>\n",
       "    <tr>\n",
       "      <th>3</th>\n",
       "      <td>41</td>\n",
       "      <td>경기도</td>\n",
       "    </tr>\n",
       "    <tr>\n",
       "      <th>4</th>\n",
       "      <td>47</td>\n",
       "      <td>경상북도</td>\n",
       "    </tr>\n",
       "  </tbody>\n",
       "</table>\n",
       "</div>"
      ],
      "text/plain": [
       "   지역코드    ad1\n",
       "0    11  서울특별시\n",
       "1    26  부산광역시\n",
       "2    47   경상북도\n",
       "3    41    경기도\n",
       "4    47   경상북도"
      ]
     },
     "execution_count": 61,
     "metadata": {},
     "output_type": "execute_result"
    }
   ],
   "source": [
    "df = df.merge(code, left_on='지역코드', right_on='code1', how='left')\n",
    "df[['지역코드', 'ad1']].head()"
   ]
  },
  {
   "cell_type": "code",
   "execution_count": 62,
   "metadata": {},
   "outputs": [
    {
     "data": {
      "text/plain": [
       "0"
      ]
     },
     "execution_count": 62,
     "metadata": {},
     "output_type": "execute_result"
    }
   ],
   "source": [
    "df['ad1'].isnull().sum()"
   ]
  },
  {
   "cell_type": "code",
   "execution_count": 63,
   "metadata": {},
   "outputs": [
    {
     "data": {
      "text/html": [
       "<div>\n",
       "<style scoped>\n",
       "    .dataframe tbody tr th:only-of-type {\n",
       "        vertical-align: middle;\n",
       "    }\n",
       "\n",
       "    .dataframe tbody tr th {\n",
       "        vertical-align: top;\n",
       "    }\n",
       "\n",
       "    .dataframe thead th {\n",
       "        text-align: right;\n",
       "    }\n",
       "</style>\n",
       "<table border=\"1\" class=\"dataframe\">\n",
       "  <thead>\n",
       "    <tr style=\"text-align: right;\">\n",
       "      <th></th>\n",
       "      <th>ad1</th>\n",
       "      <th>차대번호</th>\n",
       "    </tr>\n",
       "  </thead>\n",
       "  <tbody>\n",
       "    <tr>\n",
       "      <th>0</th>\n",
       "      <td>강원도</td>\n",
       "      <td>57012</td>\n",
       "    </tr>\n",
       "    <tr>\n",
       "      <th>1</th>\n",
       "      <td>경기도</td>\n",
       "      <td>367755</td>\n",
       "    </tr>\n",
       "    <tr>\n",
       "      <th>2</th>\n",
       "      <td>경상남도</td>\n",
       "      <td>117829</td>\n",
       "    </tr>\n",
       "    <tr>\n",
       "      <th>3</th>\n",
       "      <td>경상북도</td>\n",
       "      <td>117678</td>\n",
       "    </tr>\n",
       "    <tr>\n",
       "      <th>4</th>\n",
       "      <td>광주광역시</td>\n",
       "      <td>39849</td>\n",
       "    </tr>\n",
       "    <tr>\n",
       "      <th>5</th>\n",
       "      <td>대구광역시</td>\n",
       "      <td>69791</td>\n",
       "    </tr>\n",
       "    <tr>\n",
       "      <th>6</th>\n",
       "      <td>대전광역시</td>\n",
       "      <td>42190</td>\n",
       "    </tr>\n",
       "    <tr>\n",
       "      <th>7</th>\n",
       "      <td>부산광역시</td>\n",
       "      <td>77835</td>\n",
       "    </tr>\n",
       "    <tr>\n",
       "      <th>8</th>\n",
       "      <td>서울특별시</td>\n",
       "      <td>180530</td>\n",
       "    </tr>\n",
       "    <tr>\n",
       "      <th>9</th>\n",
       "      <td>세종특별자치시</td>\n",
       "      <td>8193</td>\n",
       "    </tr>\n",
       "    <tr>\n",
       "      <th>10</th>\n",
       "      <td>울산광역시</td>\n",
       "      <td>32836</td>\n",
       "    </tr>\n",
       "    <tr>\n",
       "      <th>11</th>\n",
       "      <td>인천광역시</td>\n",
       "      <td>81861</td>\n",
       "    </tr>\n",
       "    <tr>\n",
       "      <th>12</th>\n",
       "      <td>전라남도</td>\n",
       "      <td>86657</td>\n",
       "    </tr>\n",
       "    <tr>\n",
       "      <th>13</th>\n",
       "      <td>전라북도</td>\n",
       "      <td>73459</td>\n",
       "    </tr>\n",
       "    <tr>\n",
       "      <th>14</th>\n",
       "      <td>제주특별자치도</td>\n",
       "      <td>26836</td>\n",
       "    </tr>\n",
       "    <tr>\n",
       "      <th>15</th>\n",
       "      <td>충청남도</td>\n",
       "      <td>86466</td>\n",
       "    </tr>\n",
       "    <tr>\n",
       "      <th>16</th>\n",
       "      <td>충청북도</td>\n",
       "      <td>61809</td>\n",
       "    </tr>\n",
       "  </tbody>\n",
       "</table>\n",
       "</div>"
      ],
      "text/plain": [
       "        ad1    차대번호\n",
       "0       강원도   57012\n",
       "1       경기도  367755\n",
       "2      경상남도  117829\n",
       "3      경상북도  117678\n",
       "4     광주광역시   39849\n",
       "5     대구광역시   69791\n",
       "6     대전광역시   42190\n",
       "7     부산광역시   77835\n",
       "8     서울특별시  180530\n",
       "9   세종특별자치시    8193\n",
       "10    울산광역시   32836\n",
       "11    인천광역시   81861\n",
       "12     전라남도   86657\n",
       "13     전라북도   73459\n",
       "14  제주특별자치도   26836\n",
       "15     충청남도   86466\n",
       "16     충청북도   61809"
      ]
     },
     "execution_count": 63,
     "metadata": {},
     "output_type": "execute_result"
    }
   ],
   "source": [
    "l = df.groupby(['ad1'], as_index=False)['차대번호'].count()\n",
    "l"
   ]
  },
  {
   "cell_type": "code",
   "execution_count": 64,
   "metadata": {},
   "outputs": [
    {
     "data": {
      "text/html": [
       "<div>\n",
       "<style scoped>\n",
       "    .dataframe tbody tr th:only-of-type {\n",
       "        vertical-align: middle;\n",
       "    }\n",
       "\n",
       "    .dataframe tbody tr th {\n",
       "        vertical-align: top;\n",
       "    }\n",
       "\n",
       "    .dataframe thead th {\n",
       "        text-align: right;\n",
       "    }\n",
       "</style>\n",
       "<table border=\"1\" class=\"dataframe\">\n",
       "  <thead>\n",
       "    <tr style=\"text-align: right;\">\n",
       "      <th></th>\n",
       "      <th>지역</th>\n",
       "      <th>2등급</th>\n",
       "    </tr>\n",
       "  </thead>\n",
       "  <tbody>\n",
       "    <tr>\n",
       "      <th>0</th>\n",
       "      <td>강원도</td>\n",
       "      <td>57012</td>\n",
       "    </tr>\n",
       "    <tr>\n",
       "      <th>1</th>\n",
       "      <td>경기도</td>\n",
       "      <td>367755</td>\n",
       "    </tr>\n",
       "    <tr>\n",
       "      <th>2</th>\n",
       "      <td>경상남도</td>\n",
       "      <td>117829</td>\n",
       "    </tr>\n",
       "    <tr>\n",
       "      <th>3</th>\n",
       "      <td>경상북도</td>\n",
       "      <td>117678</td>\n",
       "    </tr>\n",
       "    <tr>\n",
       "      <th>4</th>\n",
       "      <td>광주광역시</td>\n",
       "      <td>39849</td>\n",
       "    </tr>\n",
       "    <tr>\n",
       "      <th>5</th>\n",
       "      <td>대구광역시</td>\n",
       "      <td>69791</td>\n",
       "    </tr>\n",
       "    <tr>\n",
       "      <th>6</th>\n",
       "      <td>대전광역시</td>\n",
       "      <td>42190</td>\n",
       "    </tr>\n",
       "    <tr>\n",
       "      <th>7</th>\n",
       "      <td>부산광역시</td>\n",
       "      <td>77835</td>\n",
       "    </tr>\n",
       "    <tr>\n",
       "      <th>8</th>\n",
       "      <td>서울특별시</td>\n",
       "      <td>180530</td>\n",
       "    </tr>\n",
       "    <tr>\n",
       "      <th>9</th>\n",
       "      <td>세종특별자치시</td>\n",
       "      <td>8193</td>\n",
       "    </tr>\n",
       "    <tr>\n",
       "      <th>10</th>\n",
       "      <td>울산광역시</td>\n",
       "      <td>32836</td>\n",
       "    </tr>\n",
       "    <tr>\n",
       "      <th>11</th>\n",
       "      <td>인천광역시</td>\n",
       "      <td>81861</td>\n",
       "    </tr>\n",
       "    <tr>\n",
       "      <th>12</th>\n",
       "      <td>전라남도</td>\n",
       "      <td>86657</td>\n",
       "    </tr>\n",
       "    <tr>\n",
       "      <th>13</th>\n",
       "      <td>전라북도</td>\n",
       "      <td>73459</td>\n",
       "    </tr>\n",
       "    <tr>\n",
       "      <th>14</th>\n",
       "      <td>제주특별자치도</td>\n",
       "      <td>26836</td>\n",
       "    </tr>\n",
       "    <tr>\n",
       "      <th>15</th>\n",
       "      <td>충청남도</td>\n",
       "      <td>86466</td>\n",
       "    </tr>\n",
       "    <tr>\n",
       "      <th>16</th>\n",
       "      <td>충청북도</td>\n",
       "      <td>61809</td>\n",
       "    </tr>\n",
       "  </tbody>\n",
       "</table>\n",
       "</div>"
      ],
      "text/plain": [
       "         지역     2등급\n",
       "0       강원도   57012\n",
       "1       경기도  367755\n",
       "2      경상남도  117829\n",
       "3      경상북도  117678\n",
       "4     광주광역시   39849\n",
       "5     대구광역시   69791\n",
       "6     대전광역시   42190\n",
       "7     부산광역시   77835\n",
       "8     서울특별시  180530\n",
       "9   세종특별자치시    8193\n",
       "10    울산광역시   32836\n",
       "11    인천광역시   81861\n",
       "12     전라남도   86657\n",
       "13     전라북도   73459\n",
       "14  제주특별자치도   26836\n",
       "15     충청남도   86466\n",
       "16     충청북도   61809"
      ]
     },
     "execution_count": 64,
     "metadata": {},
     "output_type": "execute_result"
    }
   ],
   "source": [
    "l.columns = ['지역', '2등급']\n",
    "l"
   ]
  },
  {
   "cell_type": "markdown",
   "metadata": {},
   "source": [
    "### [excel] 지역별 수량 통계"
   ]
  },
  {
   "cell_type": "code",
   "execution_count": 65,
   "metadata": {},
   "outputs": [],
   "source": [
    "l.to_excel('analysis/[G4]지역별_차대번호_통계.xlsx', index=False, encoding='utf-8')"
   ]
  },
  {
   "attachments": {},
   "cell_type": "markdown",
   "metadata": {},
   "source": [
    "## [출력]"
   ]
  },
  {
   "cell_type": "code",
   "execution_count": 32,
   "metadata": {},
   "outputs": [],
   "source": [
    "# 30.2s\n",
    "df.to_csv('data/220819_22.06월기준_4등급(수정).csv', encoding='cp949')"
   ]
  },
  {
   "attachments": {},
   "cell_type": "markdown",
   "metadata": {},
   "source": [
    "## 지역별 연료별 통계"
   ]
  },
  {
   "cell_type": "code",
   "execution_count": 305,
   "metadata": {},
   "outputs": [
    {
     "data": {
      "text/plain": [
       "Index(['차량관리번호', '차량등록번호', '본거지법정동코드', '소유자구분', '차종_등록정보', '용도', '차대번호',\n",
       "       '최초등록일자', '차량연식', '차량제작일자', '검사유효일', '제원관리번호', '배출가스인증번호', '배출가스등급',\n",
       "       '저공해조치종류', '저공해조치구조변경YN', '차량말소YN', '취득일자', '취득금액', '차명', '차종_제원정보',\n",
       "       '차종분류', '차종유형', '자동차형식', '제작사명', '연료', '엔진형식', '총중량', '적재중량', '엔진출력',\n",
       "       '배기량', '승차인원', '차량길이', '차량너비', '차량높이', '원산지명', '삭제YN', '제원승인일자', '구동형식',\n",
       "       '변속기종류', '지역코드', 'ad1', 'code1', '총중량_분류', '배기량_분류'],\n",
       "      dtype='object')"
      ]
     },
     "execution_count": 305,
     "metadata": {},
     "output_type": "execute_result"
    }
   ],
   "source": [
    "df.columns"
   ]
  },
  {
   "cell_type": "code",
   "execution_count": 310,
   "metadata": {},
   "outputs": [
    {
     "data": {
      "text/plain": [
       "ad1      연료         \n",
       "강원도      LPG(액화석유가스)       806\n",
       "         경유              47557\n",
       "         휘발유              8649\n",
       "경기도      LPG(액화석유가스)      6971\n",
       "         경유             271445\n",
       "         기타연료                2\n",
       "         휘발유             89337\n",
       "경상남도     LPG(액화석유가스)      1044\n",
       "         경유              97822\n",
       "         기타연료                1\n",
       "         휘발유             18962\n",
       "경상북도     LPG(액화석유가스)      1471\n",
       "         경유              96365\n",
       "         기타연료                7\n",
       "         휘발유             19835\n",
       "광주광역시    LPG(액화석유가스)       721\n",
       "         경유              30708\n",
       "         휘발유              8420\n",
       "대구광역시    LPG(액화석유가스)      1675\n",
       "         경유              51173\n",
       "         기타연료               24\n",
       "         휘발유             16919\n",
       "대전광역시    LPG(액화석유가스)      1248\n",
       "         경유              30365\n",
       "         휘발유             10577\n",
       "부산광역시    LPG(액화석유가스)      1517\n",
       "         경유              58875\n",
       "         기타연료                1\n",
       "         휘발유             17442\n",
       "서울특별시    LPG(액화석유가스)      4439\n",
       "         경유             112475\n",
       "         기타연료                2\n",
       "         휘발유             63614\n",
       "세종특별자치시  LPG(액화석유가스)        66\n",
       "         경유               6790\n",
       "         휘발유              1337\n",
       "울산광역시    LPG(액화석유가스)       273\n",
       "         경유              26599\n",
       "         휘발유              5964\n",
       "인천광역시    LPG(액화석유가스)      1319\n",
       "         경유              61666\n",
       "         알코올                 1\n",
       "         휘발유             18875\n",
       "전라남도     CNG(압축천연가스)         1\n",
       "         LPG(액화석유가스)      1281\n",
       "         경유              72734\n",
       "         휘발유             12641\n",
       "전라북도     LPG(액화석유가스)       989\n",
       "         경유              61065\n",
       "         기타연료                1\n",
       "         휘발유             11404\n",
       "제주특별자치도  LPG(액화석유가스)       379\n",
       "         경유              22055\n",
       "         휘발유              4402\n",
       "충청남도     LPG(액화석유가스)       990\n",
       "         경유              70581\n",
       "         휘발유             14895\n",
       "충청북도     LPG(액화석유가스)      1230\n",
       "         경유              49335\n",
       "         휘발유             11244\n",
       "Name: 차대번호, dtype: int64"
      ]
     },
     "execution_count": 310,
     "metadata": {},
     "output_type": "execute_result"
    }
   ],
   "source": [
    "statics_by_local_fuel = df.groupby(['ad1', '연료'])['차대번호'].count()\n",
    "statics_by_local_fuel"
   ]
  },
  {
   "cell_type": "code",
   "execution_count": 312,
   "metadata": {},
   "outputs": [
    {
     "data": {
      "text/html": [
       "<div>\n",
       "<style scoped>\n",
       "    .dataframe tbody tr th:only-of-type {\n",
       "        vertical-align: middle;\n",
       "    }\n",
       "\n",
       "    .dataframe tbody tr th {\n",
       "        vertical-align: top;\n",
       "    }\n",
       "\n",
       "    .dataframe thead th {\n",
       "        text-align: right;\n",
       "    }\n",
       "</style>\n",
       "<table border=\"1\" class=\"dataframe\">\n",
       "  <thead>\n",
       "    <tr style=\"text-align: right;\">\n",
       "      <th>연료</th>\n",
       "      <th>CNG(압축천연가스)</th>\n",
       "      <th>LPG(액화석유가스)</th>\n",
       "      <th>경유</th>\n",
       "      <th>기타연료</th>\n",
       "      <th>알코올</th>\n",
       "      <th>휘발유</th>\n",
       "    </tr>\n",
       "    <tr>\n",
       "      <th>ad1</th>\n",
       "      <th></th>\n",
       "      <th></th>\n",
       "      <th></th>\n",
       "      <th></th>\n",
       "      <th></th>\n",
       "      <th></th>\n",
       "    </tr>\n",
       "  </thead>\n",
       "  <tbody>\n",
       "    <tr>\n",
       "      <th>강원도</th>\n",
       "      <td>NaN</td>\n",
       "      <td>806.0</td>\n",
       "      <td>47557.0</td>\n",
       "      <td>NaN</td>\n",
       "      <td>NaN</td>\n",
       "      <td>8649.0</td>\n",
       "    </tr>\n",
       "    <tr>\n",
       "      <th>경기도</th>\n",
       "      <td>NaN</td>\n",
       "      <td>6971.0</td>\n",
       "      <td>271445.0</td>\n",
       "      <td>2.0</td>\n",
       "      <td>NaN</td>\n",
       "      <td>89337.0</td>\n",
       "    </tr>\n",
       "    <tr>\n",
       "      <th>경상남도</th>\n",
       "      <td>NaN</td>\n",
       "      <td>1044.0</td>\n",
       "      <td>97822.0</td>\n",
       "      <td>1.0</td>\n",
       "      <td>NaN</td>\n",
       "      <td>18962.0</td>\n",
       "    </tr>\n",
       "    <tr>\n",
       "      <th>경상북도</th>\n",
       "      <td>NaN</td>\n",
       "      <td>1471.0</td>\n",
       "      <td>96365.0</td>\n",
       "      <td>7.0</td>\n",
       "      <td>NaN</td>\n",
       "      <td>19835.0</td>\n",
       "    </tr>\n",
       "    <tr>\n",
       "      <th>광주광역시</th>\n",
       "      <td>NaN</td>\n",
       "      <td>721.0</td>\n",
       "      <td>30708.0</td>\n",
       "      <td>NaN</td>\n",
       "      <td>NaN</td>\n",
       "      <td>8420.0</td>\n",
       "    </tr>\n",
       "    <tr>\n",
       "      <th>대구광역시</th>\n",
       "      <td>NaN</td>\n",
       "      <td>1675.0</td>\n",
       "      <td>51173.0</td>\n",
       "      <td>24.0</td>\n",
       "      <td>NaN</td>\n",
       "      <td>16919.0</td>\n",
       "    </tr>\n",
       "    <tr>\n",
       "      <th>대전광역시</th>\n",
       "      <td>NaN</td>\n",
       "      <td>1248.0</td>\n",
       "      <td>30365.0</td>\n",
       "      <td>NaN</td>\n",
       "      <td>NaN</td>\n",
       "      <td>10577.0</td>\n",
       "    </tr>\n",
       "    <tr>\n",
       "      <th>부산광역시</th>\n",
       "      <td>NaN</td>\n",
       "      <td>1517.0</td>\n",
       "      <td>58875.0</td>\n",
       "      <td>1.0</td>\n",
       "      <td>NaN</td>\n",
       "      <td>17442.0</td>\n",
       "    </tr>\n",
       "    <tr>\n",
       "      <th>서울특별시</th>\n",
       "      <td>NaN</td>\n",
       "      <td>4439.0</td>\n",
       "      <td>112475.0</td>\n",
       "      <td>2.0</td>\n",
       "      <td>NaN</td>\n",
       "      <td>63614.0</td>\n",
       "    </tr>\n",
       "    <tr>\n",
       "      <th>세종특별자치시</th>\n",
       "      <td>NaN</td>\n",
       "      <td>66.0</td>\n",
       "      <td>6790.0</td>\n",
       "      <td>NaN</td>\n",
       "      <td>NaN</td>\n",
       "      <td>1337.0</td>\n",
       "    </tr>\n",
       "    <tr>\n",
       "      <th>울산광역시</th>\n",
       "      <td>NaN</td>\n",
       "      <td>273.0</td>\n",
       "      <td>26599.0</td>\n",
       "      <td>NaN</td>\n",
       "      <td>NaN</td>\n",
       "      <td>5964.0</td>\n",
       "    </tr>\n",
       "    <tr>\n",
       "      <th>인천광역시</th>\n",
       "      <td>NaN</td>\n",
       "      <td>1319.0</td>\n",
       "      <td>61666.0</td>\n",
       "      <td>NaN</td>\n",
       "      <td>1.0</td>\n",
       "      <td>18875.0</td>\n",
       "    </tr>\n",
       "    <tr>\n",
       "      <th>전라남도</th>\n",
       "      <td>1.0</td>\n",
       "      <td>1281.0</td>\n",
       "      <td>72734.0</td>\n",
       "      <td>NaN</td>\n",
       "      <td>NaN</td>\n",
       "      <td>12641.0</td>\n",
       "    </tr>\n",
       "    <tr>\n",
       "      <th>전라북도</th>\n",
       "      <td>NaN</td>\n",
       "      <td>989.0</td>\n",
       "      <td>61065.0</td>\n",
       "      <td>1.0</td>\n",
       "      <td>NaN</td>\n",
       "      <td>11404.0</td>\n",
       "    </tr>\n",
       "    <tr>\n",
       "      <th>제주특별자치도</th>\n",
       "      <td>NaN</td>\n",
       "      <td>379.0</td>\n",
       "      <td>22055.0</td>\n",
       "      <td>NaN</td>\n",
       "      <td>NaN</td>\n",
       "      <td>4402.0</td>\n",
       "    </tr>\n",
       "    <tr>\n",
       "      <th>충청남도</th>\n",
       "      <td>NaN</td>\n",
       "      <td>990.0</td>\n",
       "      <td>70581.0</td>\n",
       "      <td>NaN</td>\n",
       "      <td>NaN</td>\n",
       "      <td>14895.0</td>\n",
       "    </tr>\n",
       "    <tr>\n",
       "      <th>충청북도</th>\n",
       "      <td>NaN</td>\n",
       "      <td>1230.0</td>\n",
       "      <td>49335.0</td>\n",
       "      <td>NaN</td>\n",
       "      <td>NaN</td>\n",
       "      <td>11244.0</td>\n",
       "    </tr>\n",
       "  </tbody>\n",
       "</table>\n",
       "</div>"
      ],
      "text/plain": [
       "연료       CNG(압축천연가스)  LPG(액화석유가스)        경유  기타연료  알코올      휘발유\n",
       "ad1                                                            \n",
       "강원도              NaN        806.0   47557.0   NaN  NaN   8649.0\n",
       "경기도              NaN       6971.0  271445.0   2.0  NaN  89337.0\n",
       "경상남도             NaN       1044.0   97822.0   1.0  NaN  18962.0\n",
       "경상북도             NaN       1471.0   96365.0   7.0  NaN  19835.0\n",
       "광주광역시            NaN        721.0   30708.0   NaN  NaN   8420.0\n",
       "대구광역시            NaN       1675.0   51173.0  24.0  NaN  16919.0\n",
       "대전광역시            NaN       1248.0   30365.0   NaN  NaN  10577.0\n",
       "부산광역시            NaN       1517.0   58875.0   1.0  NaN  17442.0\n",
       "서울특별시            NaN       4439.0  112475.0   2.0  NaN  63614.0\n",
       "세종특별자치시          NaN         66.0    6790.0   NaN  NaN   1337.0\n",
       "울산광역시            NaN        273.0   26599.0   NaN  NaN   5964.0\n",
       "인천광역시            NaN       1319.0   61666.0   NaN  1.0  18875.0\n",
       "전라남도             1.0       1281.0   72734.0   NaN  NaN  12641.0\n",
       "전라북도             NaN        989.0   61065.0   1.0  NaN  11404.0\n",
       "제주특별자치도          NaN        379.0   22055.0   NaN  NaN   4402.0\n",
       "충청남도             NaN        990.0   70581.0   NaN  NaN  14895.0\n",
       "충청북도             NaN       1230.0   49335.0   NaN  NaN  11244.0"
      ]
     },
     "execution_count": 312,
     "metadata": {},
     "output_type": "execute_result"
    }
   ],
   "source": [
    "statics_by_local_fuel2 = statics_by_local_fuel.unstack(['연료'])\n",
    "statics_by_local_fuel2"
   ]
  },
  {
   "cell_type": "code",
   "execution_count": 313,
   "metadata": {},
   "outputs": [],
   "source": [
    "statics_by_local_fuel2.to_excel('analysis/[G4][법정동코드]지역_연료별_통계.xlsx', encoding='utf-8')"
   ]
  },
  {
   "attachments": {},
   "cell_type": "markdown",
   "metadata": {},
   "source": [
    "# 분석"
   ]
  },
  {
   "attachments": {},
   "cell_type": "markdown",
   "metadata": {},
   "source": [
    "## 배출가스인증번호 내역 확인"
   ]
  },
  {
   "cell_type": "code",
   "execution_count": 164,
   "metadata": {},
   "outputs": [
    {
     "name": "stdout",
     "output_type": "stream",
     "text": [
      "<class 'pandas.core.series.Series'>\n",
      "Int64Index: 1528586 entries, 0 to 1528585\n",
      "Series name: 배출가스인증번호\n",
      "Non-Null Count    Dtype \n",
      "--------------    ----- \n",
      "1405585 non-null  object\n",
      "dtypes: object(1)\n",
      "memory usage: 55.6+ MB\n"
     ]
    }
   ],
   "source": [
    "df['배출가스인증번호'].info()"
   ]
  },
  {
   "cell_type": "code",
   "execution_count": 165,
   "metadata": {},
   "outputs": [
    {
     "data": {
      "text/plain": [
       "123001"
      ]
     },
     "execution_count": 165,
     "metadata": {},
     "output_type": "execute_result"
    }
   ],
   "source": [
    "df['배출가스인증번호'].isnull().sum()"
   ]
  },
  {
   "cell_type": "code",
   "execution_count": 166,
   "metadata": {},
   "outputs": [
    {
     "data": {
      "text/plain": [
       "7MY-HD-14-68      268972\n",
       "8MY-KM-13-19       93969\n",
       "6MY-KM-14-61       76371\n",
       "9MY-KM-14-41       67493\n",
       "7MY-HD-14-46       60364\n",
       "                   ...  \n",
       "8MY-WI-0M-24           1\n",
       "AMY-PPE-14-225         1\n",
       "8MY-SN-0M-24           1\n",
       "7MY-SK-24-03           1\n",
       "AMY-PPE-14-800         1\n",
       "Name: 배출가스인증번호, Length: 304, dtype: int64"
      ]
     },
     "execution_count": 166,
     "metadata": {},
     "output_type": "execute_result"
    }
   ],
   "source": [
    "df['배출가스인증번호'].value_counts()"
   ]
  },
  {
   "cell_type": "code",
   "execution_count": 167,
   "metadata": {},
   "outputs": [
    {
     "data": {
      "text/html": [
       "<div>\n",
       "<style scoped>\n",
       "    .dataframe tbody tr th:only-of-type {\n",
       "        vertical-align: middle;\n",
       "    }\n",
       "\n",
       "    .dataframe tbody tr th {\n",
       "        vertical-align: top;\n",
       "    }\n",
       "\n",
       "    .dataframe thead th {\n",
       "        text-align: right;\n",
       "    }\n",
       "</style>\n",
       "<table border=\"1\" class=\"dataframe\">\n",
       "  <thead>\n",
       "    <tr style=\"text-align: right;\">\n",
       "      <th></th>\n",
       "      <th>index</th>\n",
       "      <th>배출가스인증번호</th>\n",
       "    </tr>\n",
       "  </thead>\n",
       "  <tbody>\n",
       "    <tr>\n",
       "      <th>0</th>\n",
       "      <td>7MY-HD-14-68</td>\n",
       "      <td>268972</td>\n",
       "    </tr>\n",
       "    <tr>\n",
       "      <th>1</th>\n",
       "      <td>8MY-KM-13-19</td>\n",
       "      <td>93969</td>\n",
       "    </tr>\n",
       "    <tr>\n",
       "      <th>2</th>\n",
       "      <td>6MY-KM-14-61</td>\n",
       "      <td>76371</td>\n",
       "    </tr>\n",
       "    <tr>\n",
       "      <th>3</th>\n",
       "      <td>9MY-KM-14-41</td>\n",
       "      <td>67493</td>\n",
       "    </tr>\n",
       "    <tr>\n",
       "      <th>4</th>\n",
       "      <td>7MY-HD-14-46</td>\n",
       "      <td>60364</td>\n",
       "    </tr>\n",
       "    <tr>\n",
       "      <th>...</th>\n",
       "      <td>...</td>\n",
       "      <td>...</td>\n",
       "    </tr>\n",
       "    <tr>\n",
       "      <th>299</th>\n",
       "      <td>8MY-WI-0M-24</td>\n",
       "      <td>1</td>\n",
       "    </tr>\n",
       "    <tr>\n",
       "      <th>300</th>\n",
       "      <td>AMY-PPE-14-225</td>\n",
       "      <td>1</td>\n",
       "    </tr>\n",
       "    <tr>\n",
       "      <th>301</th>\n",
       "      <td>8MY-SN-0M-24</td>\n",
       "      <td>1</td>\n",
       "    </tr>\n",
       "    <tr>\n",
       "      <th>302</th>\n",
       "      <td>7MY-SK-24-03</td>\n",
       "      <td>1</td>\n",
       "    </tr>\n",
       "    <tr>\n",
       "      <th>303</th>\n",
       "      <td>AMY-PPE-14-800</td>\n",
       "      <td>1</td>\n",
       "    </tr>\n",
       "  </tbody>\n",
       "</table>\n",
       "<p>304 rows × 2 columns</p>\n",
       "</div>"
      ],
      "text/plain": [
       "              index  배출가스인증번호\n",
       "0      7MY-HD-14-68    268972\n",
       "1      8MY-KM-13-19     93969\n",
       "2      6MY-KM-14-61     76371\n",
       "3      9MY-KM-14-41     67493\n",
       "4      7MY-HD-14-46     60364\n",
       "..              ...       ...\n",
       "299    8MY-WI-0M-24         1\n",
       "300  AMY-PPE-14-225         1\n",
       "301    8MY-SN-0M-24         1\n",
       "302    7MY-SK-24-03         1\n",
       "303  AMY-PPE-14-800         1\n",
       "\n",
       "[304 rows x 2 columns]"
      ]
     },
     "execution_count": 167,
     "metadata": {},
     "output_type": "execute_result"
    }
   ],
   "source": [
    "temp = df['배출가스인증번호'].value_counts().reset_index()\n",
    "temp"
   ]
  },
  {
   "cell_type": "code",
   "execution_count": 90,
   "metadata": {},
   "outputs": [],
   "source": [
    "# 제원정보 배출가스인증번호 현황\n",
    "temp.to_csv('analysis/[G4][배출가스인증번호]유니크값_통계.csv', encoding='cp949')"
   ]
  },
  {
   "attachments": {},
   "cell_type": "markdown",
   "metadata": {},
   "source": [
    "### 12\\. [e]배출가스인증번호"
   ]
  },
  {
   "cell_type": "code",
   "execution_count": 91,
   "metadata": {},
   "outputs": [],
   "source": [
    "# - 정보\n",
    "#     - 총 : 1528586\n",
    "#     - null : 123001\n",
    "#     - 정상\n",
    "#         - 2005.01.04 이후 표기 방식([숫자문자]{3}-[문자]{2}-[숫자]{2}-[숫자]{2}, 12자리) : 1152680\n",
    "#         - 2005.01.04 이전 표기 방식([숫자문자]{3}-[문자]{2}-[숫자]{2}, 9자리) : 230867\n",
    "#     - 오류(null 값 제외) : 22038\n",
    "#       - 예시\n",
    "#           - 163      TY87-배K-02\n",
    "#           - 173    7MY-KJ-0M-24\n",
    "#           - 216      TY87-배K-03\n",
    "#           - 236      TY87-배K-10\n",
    "#           - 293      TY87-배K-03"
   ]
  },
  {
   "cell_type": "code",
   "execution_count": 92,
   "metadata": {},
   "outputs": [],
   "source": [
    "# 2005년 이후 표기 방식 중 길이가 12자리가 아닌 값 : 3018\n",
    "#     - [max] 차량연식 : 2011\n",
    "# 2005년 이전 표기 방식 중 길이가 9자리가 아닌 값 : 2"
   ]
  },
  {
   "attachments": {},
   "cell_type": "markdown",
   "metadata": {},
   "source": [
    "##### 빈칸 처리"
   ]
  },
  {
   "cell_type": "code",
   "execution_count": 315,
   "metadata": {},
   "outputs": [
    {
     "data": {
      "text/html": [
       "<div>\n",
       "<style scoped>\n",
       "    .dataframe tbody tr th:only-of-type {\n",
       "        vertical-align: middle;\n",
       "    }\n",
       "\n",
       "    .dataframe tbody tr th {\n",
       "        vertical-align: top;\n",
       "    }\n",
       "\n",
       "    .dataframe thead th {\n",
       "        text-align: right;\n",
       "    }\n",
       "</style>\n",
       "<table border=\"1\" class=\"dataframe\">\n",
       "  <thead>\n",
       "    <tr style=\"text-align: right;\">\n",
       "      <th></th>\n",
       "      <th>차량관리번호</th>\n",
       "      <th>차량등록번호</th>\n",
       "      <th>본거지법정동코드</th>\n",
       "      <th>소유자구분</th>\n",
       "      <th>차종_등록정보</th>\n",
       "      <th>용도</th>\n",
       "      <th>차대번호</th>\n",
       "      <th>최초등록일자</th>\n",
       "      <th>차량연식</th>\n",
       "      <th>차량제작일자</th>\n",
       "      <th>...</th>\n",
       "      <th>원산지명</th>\n",
       "      <th>삭제YN</th>\n",
       "      <th>제원승인일자</th>\n",
       "      <th>구동형식</th>\n",
       "      <th>변속기종류</th>\n",
       "      <th>지역코드</th>\n",
       "      <th>ad1</th>\n",
       "      <th>code1</th>\n",
       "      <th>총중량_분류</th>\n",
       "      <th>배기량_분류</th>\n",
       "    </tr>\n",
       "  </thead>\n",
       "  <tbody>\n",
       "    <tr>\n",
       "      <th>0</th>\n",
       "      <td>KMFZCY7JBCU784032-01</td>\n",
       "      <td>97구4490</td>\n",
       "      <td>1144010700</td>\n",
       "      <td>법인</td>\n",
       "      <td>화물</td>\n",
       "      <td>자가용</td>\n",
       "      <td>KMFZCY7JBCU784032</td>\n",
       "      <td>20110817</td>\n",
       "      <td>2012</td>\n",
       "      <td>20110811.0</td>\n",
       "      <td>...</td>\n",
       "      <td>대한민국</td>\n",
       "      <td>N</td>\n",
       "      <td>20110524</td>\n",
       "      <td>NaN</td>\n",
       "      <td>자동</td>\n",
       "      <td>11</td>\n",
       "      <td>서울특별시</td>\n",
       "      <td>11</td>\n",
       "      <td>3.0ton 이상 3.5ton 미만</td>\n",
       "      <td>2.0L 이상 3.0L 미만</td>\n",
       "    </tr>\n",
       "    <tr>\n",
       "      <th>1</th>\n",
       "      <td>KMHJN81VP7U578447-01</td>\n",
       "      <td>11너2154</td>\n",
       "      <td>2650010100</td>\n",
       "      <td>주민</td>\n",
       "      <td>승용</td>\n",
       "      <td>자가용</td>\n",
       "      <td>KMHJN81VP7U578447</td>\n",
       "      <td>20070102</td>\n",
       "      <td>2007</td>\n",
       "      <td>20061104.0</td>\n",
       "      <td>...</td>\n",
       "      <td>대한민국</td>\n",
       "      <td>N</td>\n",
       "      <td>20060621</td>\n",
       "      <td>NaN</td>\n",
       "      <td>자동</td>\n",
       "      <td>26</td>\n",
       "      <td>부산광역시</td>\n",
       "      <td>26</td>\n",
       "      <td>1.5ton 이상 2.0ton 미만</td>\n",
       "      <td>1.6L 이상 2.0L 미만</td>\n",
       "    </tr>\n",
       "    <tr>\n",
       "      <th>2</th>\n",
       "      <td>KPACE4AB1AP070600-01</td>\n",
       "      <td>96어5714</td>\n",
       "      <td>4729025024</td>\n",
       "      <td>주민</td>\n",
       "      <td>화물</td>\n",
       "      <td>자가용</td>\n",
       "      <td>KPACE4AB1AP070600</td>\n",
       "      <td>20091221</td>\n",
       "      <td>2010</td>\n",
       "      <td>20091210.0</td>\n",
       "      <td>...</td>\n",
       "      <td>대한민국</td>\n",
       "      <td>N</td>\n",
       "      <td>20090513</td>\n",
       "      <td>NaN</td>\n",
       "      <td>자동</td>\n",
       "      <td>47</td>\n",
       "      <td>경상북도</td>\n",
       "      <td>47</td>\n",
       "      <td>2.5ton 이상 3.0ton 미만</td>\n",
       "      <td>1.6L 이상 2.0L 미만</td>\n",
       "    </tr>\n",
       "    <tr>\n",
       "      <th>3</th>\n",
       "      <td>KMHNU81WP7U009391-01</td>\n",
       "      <td>11가1154</td>\n",
       "      <td>4117110100</td>\n",
       "      <td>사업자</td>\n",
       "      <td>승용</td>\n",
       "      <td>자가용</td>\n",
       "      <td>KMHNU81WP7U009391</td>\n",
       "      <td>20070212</td>\n",
       "      <td>2007</td>\n",
       "      <td>20070207.0</td>\n",
       "      <td>...</td>\n",
       "      <td>대한민국</td>\n",
       "      <td>N</td>\n",
       "      <td>20060821</td>\n",
       "      <td>NaN</td>\n",
       "      <td>자동</td>\n",
       "      <td>41</td>\n",
       "      <td>경기도</td>\n",
       "      <td>41</td>\n",
       "      <td>2.5ton 이상 3.0ton 미만</td>\n",
       "      <td>2.0L 이상 3.0L 미만</td>\n",
       "    </tr>\n",
       "    <tr>\n",
       "      <th>4</th>\n",
       "      <td>KMHDT41TP9U638425-01</td>\n",
       "      <td>22보7099</td>\n",
       "      <td>4711331026</td>\n",
       "      <td>주민</td>\n",
       "      <td>승용</td>\n",
       "      <td>자가용</td>\n",
       "      <td>KMHDT41TP9U638425</td>\n",
       "      <td>20081128</td>\n",
       "      <td>2009</td>\n",
       "      <td>20081123.0</td>\n",
       "      <td>...</td>\n",
       "      <td>대한민국</td>\n",
       "      <td>N</td>\n",
       "      <td>20080729</td>\n",
       "      <td>NaN</td>\n",
       "      <td>수동</td>\n",
       "      <td>47</td>\n",
       "      <td>경상북도</td>\n",
       "      <td>47</td>\n",
       "      <td>1.5ton 이상 2.0ton 미만</td>\n",
       "      <td>1.0L 이상 1.6L 미만</td>\n",
       "    </tr>\n",
       "  </tbody>\n",
       "</table>\n",
       "<p>5 rows × 45 columns</p>\n",
       "</div>"
      ],
      "text/plain": [
       "                 차량관리번호   차량등록번호    본거지법정동코드 소유자구분 차종_등록정보   용도  \\\n",
       "0  KMFZCY7JBCU784032-01  97구4490  1144010700    법인      화물  자가용   \n",
       "1  KMHJN81VP7U578447-01  11너2154  2650010100    주민      승용  자가용   \n",
       "2  KPACE4AB1AP070600-01  96어5714  4729025024    주민      화물  자가용   \n",
       "3  KMHNU81WP7U009391-01  11가1154  4117110100   사업자      승용  자가용   \n",
       "4  KMHDT41TP9U638425-01  22보7099  4711331026    주민      승용  자가용   \n",
       "\n",
       "                차대번호    최초등록일자  차량연식      차량제작일자  ...  원산지명 삭제YN    제원승인일자  \\\n",
       "0  KMFZCY7JBCU784032  20110817  2012  20110811.0  ...  대한민국    N  20110524   \n",
       "1  KMHJN81VP7U578447  20070102  2007  20061104.0  ...  대한민국    N  20060621   \n",
       "2  KPACE4AB1AP070600  20091221  2010  20091210.0  ...  대한민국    N  20090513   \n",
       "3  KMHNU81WP7U009391  20070212  2007  20070207.0  ...  대한민국    N  20060821   \n",
       "4  KMHDT41TP9U638425  20081128  2009  20081123.0  ...  대한민국    N  20080729   \n",
       "\n",
       "   구동형식 변속기종류 지역코드    ad1 code1               총중량_분류           배기량_분류  \n",
       "0   NaN    자동   11  서울특별시    11  3.0ton 이상 3.5ton 미만  2.0L 이상 3.0L 미만  \n",
       "1   NaN    자동   26  부산광역시    26  1.5ton 이상 2.0ton 미만  1.6L 이상 2.0L 미만  \n",
       "2   NaN    자동   47   경상북도    47  2.5ton 이상 3.0ton 미만  1.6L 이상 2.0L 미만  \n",
       "3   NaN    자동   41    경기도    41  2.5ton 이상 3.0ton 미만  2.0L 이상 3.0L 미만  \n",
       "4   NaN    수동   47   경상북도    47  1.5ton 이상 2.0ton 미만  1.0L 이상 1.6L 미만  \n",
       "\n",
       "[5 rows x 45 columns]"
      ]
     },
     "execution_count": 315,
     "metadata": {},
     "output_type": "execute_result"
    }
   ],
   "source": [
    "gas_df = df.copy()\n",
    "gas_df.head()"
   ]
  },
  {
   "cell_type": "code",
   "execution_count": 316,
   "metadata": {},
   "outputs": [
    {
     "data": {
      "text/plain": [
       "103131      \n",
       "373733      \n",
       "528751      \n",
       "662671      \n",
       "755942      \n",
       "917544      \n",
       "921939      \n",
       "1082924     \n",
       "1085965     \n",
       "1346008     \n",
       "1419281     \n",
       "1528483     \n",
       "Name: 배출가스인증번호, dtype: object"
      ]
     },
     "execution_count": 316,
     "metadata": {},
     "output_type": "execute_result"
    }
   ],
   "source": [
    "gas_df[gas_df['배출가스인증번호'] == ' ']['배출가스인증번호']"
   ]
  },
  {
   "cell_type": "code",
   "execution_count": 317,
   "metadata": {},
   "outputs": [
    {
     "data": {
      "text/plain": [
       "(12,)"
      ]
     },
     "execution_count": 317,
     "metadata": {},
     "output_type": "execute_result"
    }
   ],
   "source": [
    "gas_df[gas_df['배출가스인증번호'] == ' ']['배출가스인증번호'].shape"
   ]
  },
  {
   "cell_type": "code",
   "execution_count": 318,
   "metadata": {},
   "outputs": [
    {
     "data": {
      "text/plain": [
       "Int64Index([ 103131,  373733,  528751,  662671,  755942,  917544,  921939,\n",
       "            1082924, 1085965, 1346008, 1419281, 1528483],\n",
       "           dtype='int64')"
      ]
     },
     "execution_count": 318,
     "metadata": {},
     "output_type": "execute_result"
    }
   ],
   "source": [
    "blank_index = gas_df[gas_df['배출가스인증번호'] == ' ']['배출가스인증번호'].index\n",
    "blank_index"
   ]
  },
  {
   "cell_type": "code",
   "execution_count": 319,
   "metadata": {},
   "outputs": [
    {
     "data": {
      "text/plain": [
       "' '"
      ]
     },
     "execution_count": 319,
     "metadata": {},
     "output_type": "execute_result"
    }
   ],
   "source": [
    "# 빈칸을 포함한 예시\n",
    "gas_df.iloc[103131, 12]"
   ]
  },
  {
   "cell_type": "code",
   "execution_count": 320,
   "metadata": {},
   "outputs": [
    {
     "data": {
      "text/plain": [
       "nan"
      ]
     },
     "execution_count": 320,
     "metadata": {},
     "output_type": "execute_result"
    }
   ],
   "source": [
    "gas_df.loc[blank_index, '배출가스인증번호'] = np.nan\n",
    "gas_df.iloc[103131, 12]"
   ]
  },
  {
   "cell_type": "code",
   "execution_count": 321,
   "metadata": {},
   "outputs": [
    {
     "data": {
      "text/plain": [
       "123013"
      ]
     },
     "execution_count": 321,
     "metadata": {},
     "output_type": "execute_result"
    }
   ],
   "source": [
    "gas_df['배출가스인증번호'].isnull().sum()"
   ]
  },
  {
   "cell_type": "code",
   "execution_count": 322,
   "metadata": {},
   "outputs": [
    {
     "data": {
      "text/plain": [
       "7MY-HD-14-68      268972\n",
       "8MY-KM-13-19       93969\n",
       "6MY-KM-14-61       76371\n",
       "9MY-KM-14-41       67493\n",
       "7MY-HD-14-46       60364\n",
       "                   ...  \n",
       "8MY-WI-0M-24           1\n",
       "AMY-PPE-14-225         1\n",
       "8MY-SN-0M-24           1\n",
       "7MY-SK-24-03           1\n",
       "AMY-PPE-14-800         1\n",
       "Name: 배출가스인증번호, Length: 304, dtype: int64"
      ]
     },
     "execution_count": 322,
     "metadata": {},
     "output_type": "execute_result"
    }
   ],
   "source": [
    "df.iloc[:, 12].value_counts()"
   ]
  },
  {
   "cell_type": "code",
   "execution_count": 323,
   "metadata": {},
   "outputs": [
    {
     "data": {
      "text/plain": [
       "123001"
      ]
     },
     "execution_count": 323,
     "metadata": {},
     "output_type": "execute_result"
    }
   ],
   "source": [
    "df.iloc[:, 12].isnull().sum()"
   ]
  },
  {
   "cell_type": "code",
   "execution_count": 324,
   "metadata": {},
   "outputs": [
    {
     "data": {
      "text/plain": [
       "29    NaN\n",
       "36    NaN\n",
       "42    NaN\n",
       "63    NaN\n",
       "67    NaN\n",
       "Name: 배출가스인증번호, dtype: object"
      ]
     },
     "execution_count": 324,
     "metadata": {},
     "output_type": "execute_result"
    }
   ],
   "source": [
    "df[df['배출가스인증번호'].isnull() == True]['배출가스인증번호'].head()"
   ]
  },
  {
   "cell_type": "code",
   "execution_count": 325,
   "metadata": {},
   "outputs": [
    {
     "name": "stderr",
     "output_type": "stream",
     "text": [
      "1528586it [00:01, 891696.05it/s]\n"
     ]
    },
    {
     "data": {
      "text/plain": [
       "1152680"
      ]
     },
     "execution_count": 325,
     "metadata": {},
     "output_type": "execute_result"
    }
   ],
   "source": [
    "# 2005.01.04 이후 표기 방식 : 1152680\n",
    "count = 0\n",
    "p121 = re.compile('[a-zA-Z0-9]{3}[-][a-zA-Z]{2}[-][0-9]{2}[-][0-9]{2}')\n",
    "idx121 = []\n",
    "for i, one in tqdm(enumerate(gas_df.iloc[:, 12].to_numpy())):\n",
    "    if p121.search(str(one)):\n",
    "        idx121.append(i)\n",
    "        count += 1\n",
    "count"
   ]
  },
  {
   "cell_type": "code",
   "execution_count": 326,
   "metadata": {},
   "outputs": [
    {
     "name": "stderr",
     "output_type": "stream",
     "text": [
      "1528586it [00:01, 1037672.90it/s]\n"
     ]
    },
    {
     "data": {
      "text/plain": [
       "375906"
      ]
     },
     "execution_count": 326,
     "metadata": {},
     "output_type": "execute_result"
    }
   ],
   "source": [
    "# 2005.01.04 이후 표기 방식이 아닌 값 : 375906\n",
    "count = 0\n",
    "idx122 = []\n",
    "for i, one in tqdm(enumerate(gas_df.iloc[:, 12].to_numpy())):\n",
    "    if not p121.search(str(one)):\n",
    "        idx122.append(i)\n",
    "        count += 1\n",
    "count"
   ]
  },
  {
   "cell_type": "code",
   "execution_count": 327,
   "metadata": {},
   "outputs": [
    {
     "data": {
      "text/plain": [
       "5     VMY-KM-38\n",
       "21    RMY-HD-20\n",
       "28    KMY-HD-03\n",
       "29          NaN\n",
       "36          NaN\n",
       "Name: 배출가스인증번호, dtype: object"
      ]
     },
     "execution_count": 327,
     "metadata": {},
     "output_type": "execute_result"
    }
   ],
   "source": [
    "gas_df.iloc[:, 12].reindex(idx122)[:5]"
   ]
  },
  {
   "cell_type": "code",
   "execution_count": 328,
   "metadata": {},
   "outputs": [
    {
     "name": "stderr",
     "output_type": "stream",
     "text": [
      "375906it [00:00, 850457.06it/s]\n"
     ]
    },
    {
     "data": {
      "text/plain": [
       "230867"
      ]
     },
     "execution_count": 328,
     "metadata": {},
     "output_type": "execute_result"
    }
   ],
   "source": [
    "# 2005.01.04 이전 배출가스 표기 방식 : 230867\n",
    "count = 0\n",
    "p123 = re.compile('[a-zA-Z0-9]{3}[-][a-zA-Z]{2}[-][0-9]{2}')\n",
    "idx123 = []\n",
    "for i, one in tqdm(enumerate(gas_df.iloc[idx122, 12].to_numpy())):\n",
    "    if p123.search(str(one)):\n",
    "        idx123.append(idx122[i])\n",
    "        count += 1\n",
    "count"
   ]
  },
  {
   "cell_type": "code",
   "execution_count": 329,
   "metadata": {},
   "outputs": [
    {
     "data": {
      "text/html": [
       "<div>\n",
       "<style scoped>\n",
       "    .dataframe tbody tr th:only-of-type {\n",
       "        vertical-align: middle;\n",
       "    }\n",
       "\n",
       "    .dataframe tbody tr th {\n",
       "        vertical-align: top;\n",
       "    }\n",
       "\n",
       "    .dataframe thead th {\n",
       "        text-align: right;\n",
       "    }\n",
       "</style>\n",
       "<table border=\"1\" class=\"dataframe\">\n",
       "  <thead>\n",
       "    <tr style=\"text-align: right;\">\n",
       "      <th></th>\n",
       "      <th>최초등록일자</th>\n",
       "      <th>차량연식</th>\n",
       "      <th>차량제작일자</th>\n",
       "      <th>취득일자</th>\n",
       "      <th>배출가스인증번호</th>\n",
       "    </tr>\n",
       "  </thead>\n",
       "  <tbody>\n",
       "    <tr>\n",
       "      <th>5</th>\n",
       "      <td>20000609</td>\n",
       "      <td>2000</td>\n",
       "      <td>20000529.0</td>\n",
       "      <td>20030219.0</td>\n",
       "      <td>VMY-KM-38</td>\n",
       "    </tr>\n",
       "    <tr>\n",
       "      <th>21</th>\n",
       "      <td>19990608</td>\n",
       "      <td>1999</td>\n",
       "      <td>19990513.0</td>\n",
       "      <td>20040401.0</td>\n",
       "      <td>RMY-HD-20</td>\n",
       "    </tr>\n",
       "    <tr>\n",
       "      <th>28</th>\n",
       "      <td>19910820</td>\n",
       "      <td>1991</td>\n",
       "      <td>NaN</td>\n",
       "      <td>NaN</td>\n",
       "      <td>KMY-HD-03</td>\n",
       "    </tr>\n",
       "    <tr>\n",
       "      <th>46</th>\n",
       "      <td>19991213</td>\n",
       "      <td>2000</td>\n",
       "      <td>19991202.0</td>\n",
       "      <td>20150914.0</td>\n",
       "      <td>RMY-HD-20</td>\n",
       "    </tr>\n",
       "    <tr>\n",
       "      <th>62</th>\n",
       "      <td>19970522</td>\n",
       "      <td>1997</td>\n",
       "      <td>19970310.0</td>\n",
       "      <td>NaN</td>\n",
       "      <td>MMY-HD-11</td>\n",
       "    </tr>\n",
       "  </tbody>\n",
       "</table>\n",
       "</div>"
      ],
      "text/plain": [
       "      최초등록일자  차량연식      차량제작일자        취득일자   배출가스인증번호\n",
       "5   20000609  2000  20000529.0  20030219.0  VMY-KM-38\n",
       "21  19990608  1999  19990513.0  20040401.0  RMY-HD-20\n",
       "28  19910820  1991         NaN         NaN  KMY-HD-03\n",
       "46  19991213  2000  19991202.0  20150914.0  RMY-HD-20\n",
       "62  19970522  1997  19970310.0         NaN  MMY-HD-11"
      ]
     },
     "execution_count": 329,
     "metadata": {},
     "output_type": "execute_result"
    }
   ],
   "source": [
    "gas_df.iloc[idx123, [7, 8, 9, 17, 12]][:5]"
   ]
  },
  {
   "cell_type": "code",
   "execution_count": 330,
   "metadata": {},
   "outputs": [
    {
     "data": {
      "text/plain": [
       "123013"
      ]
     },
     "execution_count": 330,
     "metadata": {},
     "output_type": "execute_result"
    }
   ],
   "source": [
    "# null 값 : 123013\n",
    "idx124 = gas_df[gas_df['배출가스인증번호'].isnull() == True]['배출가스인증번호'].index\n",
    "len(idx124)"
   ]
  },
  {
   "cell_type": "code",
   "execution_count": 331,
   "metadata": {},
   "outputs": [
    {
     "data": {
      "text/plain": [
       "29    NaN\n",
       "36    NaN\n",
       "42    NaN\n",
       "63    NaN\n",
       "67    NaN\n",
       "Name: 배출가스인증번호, dtype: object"
      ]
     },
     "execution_count": 331,
     "metadata": {},
     "output_type": "execute_result"
    }
   ],
   "source": [
    "gas_df.iloc[:, 12].reindex(idx124)[:5]"
   ]
  },
  {
   "cell_type": "code",
   "execution_count": 332,
   "metadata": {},
   "outputs": [
    {
     "data": {
      "text/plain": [
       "22026"
      ]
     },
     "execution_count": 332,
     "metadata": {},
     "output_type": "execute_result"
    }
   ],
   "source": [
    "# 2005.01.04 이후 표기 방식이 아닌 값 중 null 값 제외한 오류 값 : 22026\n",
    "idx125 = sorted(set(idx122) - set(idx124) - set(idx123))\n",
    "len(idx125)"
   ]
  },
  {
   "cell_type": "code",
   "execution_count": 333,
   "metadata": {},
   "outputs": [
    {
     "data": {
      "text/plain": [
       "163      TY87-배K-02\n",
       "173    7MY-KJ-0M-24\n",
       "216      TY87-배K-03\n",
       "236      TY87-배K-10\n",
       "293      TY87-배K-03\n",
       "Name: 배출가스인증번호, dtype: object"
      ]
     },
     "execution_count": 333,
     "metadata": {},
     "output_type": "execute_result"
    }
   ],
   "source": [
    "gas_df.iloc[:, 12].reindex(idx125)[:5]"
   ]
  },
  {
   "cell_type": "code",
   "execution_count": 334,
   "metadata": {},
   "outputs": [
    {
     "data": {
      "text/html": [
       "<div>\n",
       "<style scoped>\n",
       "    .dataframe tbody tr th:only-of-type {\n",
       "        vertical-align: middle;\n",
       "    }\n",
       "\n",
       "    .dataframe tbody tr th {\n",
       "        vertical-align: top;\n",
       "    }\n",
       "\n",
       "    .dataframe thead th {\n",
       "        text-align: right;\n",
       "    }\n",
       "</style>\n",
       "<table border=\"1\" class=\"dataframe\">\n",
       "  <thead>\n",
       "    <tr style=\"text-align: right;\">\n",
       "      <th></th>\n",
       "      <th>최초등록일자</th>\n",
       "      <th>차량연식</th>\n",
       "      <th>차량제작일자</th>\n",
       "      <th>취득일자</th>\n",
       "      <th>배출가스인증번호</th>\n",
       "    </tr>\n",
       "  </thead>\n",
       "  <tbody>\n",
       "    <tr>\n",
       "      <th>582</th>\n",
       "      <td>20100209</td>\n",
       "      <td>2010</td>\n",
       "      <td>20100205.0</td>\n",
       "      <td>20120910.0</td>\n",
       "      <td>AMY-JL-13-9</td>\n",
       "    </tr>\n",
       "    <tr>\n",
       "      <th>810</th>\n",
       "      <td>20070816</td>\n",
       "      <td>2007</td>\n",
       "      <td>20070816.0</td>\n",
       "      <td>20100423.0</td>\n",
       "      <td>6MY-PA-14-4</td>\n",
       "    </tr>\n",
       "    <tr>\n",
       "      <th>1629</th>\n",
       "      <td>20100409</td>\n",
       "      <td>2010</td>\n",
       "      <td>20100205.0</td>\n",
       "      <td>20180423.0</td>\n",
       "      <td>AMY-JL-13-9</td>\n",
       "    </tr>\n",
       "    <tr>\n",
       "      <th>2087</th>\n",
       "      <td>20100511</td>\n",
       "      <td>2010</td>\n",
       "      <td>20100506.0</td>\n",
       "      <td>20190611.0</td>\n",
       "      <td>AMY-JL-13-9</td>\n",
       "    </tr>\n",
       "    <tr>\n",
       "      <th>2142</th>\n",
       "      <td>20100504</td>\n",
       "      <td>2010</td>\n",
       "      <td>20091207.0</td>\n",
       "      <td>20180430.0</td>\n",
       "      <td>8MY-PA-14-3</td>\n",
       "    </tr>\n",
       "  </tbody>\n",
       "</table>\n",
       "</div>"
      ],
      "text/plain": [
       "        최초등록일자  차량연식      차량제작일자        취득일자     배출가스인증번호\n",
       "582   20100209  2010  20100205.0  20120910.0  AMY-JL-13-9\n",
       "810   20070816  2007  20070816.0  20100423.0  6MY-PA-14-4\n",
       "1629  20100409  2010  20100205.0  20180423.0  AMY-JL-13-9\n",
       "2087  20100511  2010  20100506.0  20190611.0  AMY-JL-13-9\n",
       "2142  20100504  2010  20091207.0  20180430.0  8MY-PA-14-3"
      ]
     },
     "execution_count": 334,
     "metadata": {},
     "output_type": "execute_result"
    }
   ],
   "source": [
    "# 2005년 이상 배출가스인증번호 데이터\n",
    "gas_temp = gas_df.iloc[idx123, [7, 8, 9, 17, 12]]\n",
    "gas_temp[gas_temp['차량연식'] >= 2005].head()"
   ]
  },
  {
   "cell_type": "code",
   "execution_count": 335,
   "metadata": {},
   "outputs": [
    {
     "data": {
      "text/html": [
       "<div>\n",
       "<style scoped>\n",
       "    .dataframe tbody tr th:only-of-type {\n",
       "        vertical-align: middle;\n",
       "    }\n",
       "\n",
       "    .dataframe tbody tr th {\n",
       "        vertical-align: top;\n",
       "    }\n",
       "\n",
       "    .dataframe thead th {\n",
       "        text-align: right;\n",
       "    }\n",
       "</style>\n",
       "<table border=\"1\" class=\"dataframe\">\n",
       "  <thead>\n",
       "    <tr style=\"text-align: right;\">\n",
       "      <th></th>\n",
       "      <th>최초등록일자</th>\n",
       "      <th>차량연식</th>\n",
       "      <th>차량제작일자</th>\n",
       "      <th>취득일자</th>\n",
       "      <th>배출가스인증번호</th>\n",
       "    </tr>\n",
       "  </thead>\n",
       "  <tbody>\n",
       "    <tr>\n",
       "      <th>582</th>\n",
       "      <td>20100209</td>\n",
       "      <td>2010</td>\n",
       "      <td>20100205.0</td>\n",
       "      <td>20120910.0</td>\n",
       "      <td>AMY-JL-13-9</td>\n",
       "    </tr>\n",
       "    <tr>\n",
       "      <th>810</th>\n",
       "      <td>20070816</td>\n",
       "      <td>2007</td>\n",
       "      <td>20070816.0</td>\n",
       "      <td>20100423.0</td>\n",
       "      <td>6MY-PA-14-4</td>\n",
       "    </tr>\n",
       "    <tr>\n",
       "      <th>1629</th>\n",
       "      <td>20100409</td>\n",
       "      <td>2010</td>\n",
       "      <td>20100205.0</td>\n",
       "      <td>20180423.0</td>\n",
       "      <td>AMY-JL-13-9</td>\n",
       "    </tr>\n",
       "    <tr>\n",
       "      <th>2087</th>\n",
       "      <td>20100511</td>\n",
       "      <td>2010</td>\n",
       "      <td>20100506.0</td>\n",
       "      <td>20190611.0</td>\n",
       "      <td>AMY-JL-13-9</td>\n",
       "    </tr>\n",
       "    <tr>\n",
       "      <th>2142</th>\n",
       "      <td>20100504</td>\n",
       "      <td>2010</td>\n",
       "      <td>20091207.0</td>\n",
       "      <td>20180430.0</td>\n",
       "      <td>8MY-PA-14-3</td>\n",
       "    </tr>\n",
       "    <tr>\n",
       "      <th>...</th>\n",
       "      <td>...</td>\n",
       "      <td>...</td>\n",
       "      <td>...</td>\n",
       "      <td>...</td>\n",
       "      <td>...</td>\n",
       "    </tr>\n",
       "    <tr>\n",
       "      <th>1524691</th>\n",
       "      <td>20100409</td>\n",
       "      <td>2010</td>\n",
       "      <td>20100212.0</td>\n",
       "      <td>20191108.0</td>\n",
       "      <td>9MY-JL-14-4</td>\n",
       "    </tr>\n",
       "    <tr>\n",
       "      <th>1524870</th>\n",
       "      <td>20100108</td>\n",
       "      <td>2010</td>\n",
       "      <td>20091102.0</td>\n",
       "      <td>20110119.0</td>\n",
       "      <td>AMY-JL-13-9</td>\n",
       "    </tr>\n",
       "    <tr>\n",
       "      <th>1525658</th>\n",
       "      <td>20090415</td>\n",
       "      <td>2009</td>\n",
       "      <td>20081208.0</td>\n",
       "      <td>20190930.0</td>\n",
       "      <td>8MY-PA-14-3</td>\n",
       "    </tr>\n",
       "    <tr>\n",
       "      <th>1527579</th>\n",
       "      <td>20100108</td>\n",
       "      <td>2010</td>\n",
       "      <td>20091223.0</td>\n",
       "      <td>20100405.0</td>\n",
       "      <td>6MY-PA-14-4</td>\n",
       "    </tr>\n",
       "    <tr>\n",
       "      <th>1528353</th>\n",
       "      <td>20080805</td>\n",
       "      <td>2009</td>\n",
       "      <td>20080725.0</td>\n",
       "      <td>20080805.0</td>\n",
       "      <td>8MY-PA-14-3</td>\n",
       "    </tr>\n",
       "  </tbody>\n",
       "</table>\n",
       "<p>3018 rows × 5 columns</p>\n",
       "</div>"
      ],
      "text/plain": [
       "           최초등록일자  차량연식      차량제작일자        취득일자     배출가스인증번호\n",
       "582      20100209  2010  20100205.0  20120910.0  AMY-JL-13-9\n",
       "810      20070816  2007  20070816.0  20100423.0  6MY-PA-14-4\n",
       "1629     20100409  2010  20100205.0  20180423.0  AMY-JL-13-9\n",
       "2087     20100511  2010  20100506.0  20190611.0  AMY-JL-13-9\n",
       "2142     20100504  2010  20091207.0  20180430.0  8MY-PA-14-3\n",
       "...           ...   ...         ...         ...          ...\n",
       "1524691  20100409  2010  20100212.0  20191108.0  9MY-JL-14-4\n",
       "1524870  20100108  2010  20091102.0  20110119.0  AMY-JL-13-9\n",
       "1525658  20090415  2009  20081208.0  20190930.0  8MY-PA-14-3\n",
       "1527579  20100108  2010  20091223.0  20100405.0  6MY-PA-14-4\n",
       "1528353  20080805  2009  20080725.0  20080805.0  8MY-PA-14-3\n",
       "\n",
       "[3018 rows x 5 columns]"
      ]
     },
     "execution_count": 335,
     "metadata": {},
     "output_type": "execute_result"
    }
   ],
   "source": [
    "# 2005년 이상년도에서 맞지않는 배출가스인증번호 샘플 : 3018\n",
    "gas_temp.loc[(gas_temp['차량연식'] >= 2005) & (gas_temp['배출가스인증번호'].str.len() != 12)]"
   ]
  },
  {
   "cell_type": "code",
   "execution_count": 336,
   "metadata": {},
   "outputs": [
    {
     "data": {
      "text/plain": [
       "(3018, 5)"
      ]
     },
     "execution_count": 336,
     "metadata": {},
     "output_type": "execute_result"
    }
   ],
   "source": [
    "gas_temp.loc[(gas_temp['차량연식'] >= 2005) & (gas_temp['배출가스인증번호'].str.len() != 12 )].shape"
   ]
  },
  {
   "cell_type": "code",
   "execution_count": 337,
   "metadata": {},
   "outputs": [
    {
     "data": {
      "text/plain": [
       "2011"
      ]
     },
     "execution_count": 337,
     "metadata": {},
     "output_type": "execute_result"
    }
   ],
   "source": [
    "gas_temp.loc[(gas_temp['차량연식'] >= 2005) & (gas_temp['배출가스인증번호'].str.len() != 12 ), '차량연식'].max()"
   ]
  },
  {
   "cell_type": "code",
   "execution_count": 338,
   "metadata": {},
   "outputs": [
    {
     "data": {
      "text/html": [
       "<div>\n",
       "<style scoped>\n",
       "    .dataframe tbody tr th:only-of-type {\n",
       "        vertical-align: middle;\n",
       "    }\n",
       "\n",
       "    .dataframe tbody tr th {\n",
       "        vertical-align: top;\n",
       "    }\n",
       "\n",
       "    .dataframe thead th {\n",
       "        text-align: right;\n",
       "    }\n",
       "</style>\n",
       "<table border=\"1\" class=\"dataframe\">\n",
       "  <thead>\n",
       "    <tr style=\"text-align: right;\">\n",
       "      <th></th>\n",
       "      <th>최초등록일자</th>\n",
       "      <th>차량연식</th>\n",
       "      <th>차량제작일자</th>\n",
       "      <th>취득일자</th>\n",
       "      <th>배출가스인증번호</th>\n",
       "    </tr>\n",
       "  </thead>\n",
       "  <tbody>\n",
       "    <tr>\n",
       "      <th>747837</th>\n",
       "      <td>20091013</td>\n",
       "      <td>1999</td>\n",
       "      <td>19991231.0</td>\n",
       "      <td>10091009.0</td>\n",
       "      <td>9MY-PP-14-W38</td>\n",
       "    </tr>\n",
       "    <tr>\n",
       "      <th>1424917</th>\n",
       "      <td>20090917</td>\n",
       "      <td>1999</td>\n",
       "      <td>20081124.0</td>\n",
       "      <td>20201106.0</td>\n",
       "      <td>9MY-PP-14-W38</td>\n",
       "    </tr>\n",
       "  </tbody>\n",
       "</table>\n",
       "</div>"
      ],
      "text/plain": [
       "           최초등록일자  차량연식      차량제작일자        취득일자       배출가스인증번호\n",
       "747837   20091013  1999  19991231.0  10091009.0  9MY-PP-14-W38\n",
       "1424917  20090917  1999  20081124.0  20201106.0  9MY-PP-14-W38"
      ]
     },
     "execution_count": 338,
     "metadata": {},
     "output_type": "execute_result"
    }
   ],
   "source": [
    "# 2005년 미만 년도에서 맞지않는 배출가스인증번호 샘플 : 2\n",
    "gas_temp.loc[(gas_temp['차량연식'] < 2005) & (gas_temp['배출가스인증번호'].str.len() != 9 )]"
   ]
  },
  {
   "cell_type": "code",
   "execution_count": 382,
   "metadata": {},
   "outputs": [
    {
     "data": {
      "text/html": [
       "<div>\n",
       "<style scoped>\n",
       "    .dataframe tbody tr th:only-of-type {\n",
       "        vertical-align: middle;\n",
       "    }\n",
       "\n",
       "    .dataframe tbody tr th {\n",
       "        vertical-align: top;\n",
       "    }\n",
       "\n",
       "    .dataframe thead th {\n",
       "        text-align: right;\n",
       "    }\n",
       "</style>\n",
       "<table border=\"1\" class=\"dataframe\">\n",
       "  <thead>\n",
       "    <tr style=\"text-align: right;\">\n",
       "      <th></th>\n",
       "      <th>배출가스인증번호</th>\n",
       "      <th>차대번호</th>\n",
       "    </tr>\n",
       "  </thead>\n",
       "  <tbody>\n",
       "    <tr>\n",
       "      <th>0</th>\n",
       "      <td>7MY-DC-24-72</td>\n",
       "      <td>1</td>\n",
       "    </tr>\n",
       "    <tr>\n",
       "      <th>1</th>\n",
       "      <td>7MY-HD-24-30</td>\n",
       "      <td>8</td>\n",
       "    </tr>\n",
       "    <tr>\n",
       "      <th>2</th>\n",
       "      <td>8MY-DC-24-12</td>\n",
       "      <td>1</td>\n",
       "    </tr>\n",
       "    <tr>\n",
       "      <th>3</th>\n",
       "      <td>3MY-FK-08</td>\n",
       "      <td>1067</td>\n",
       "    </tr>\n",
       "    <tr>\n",
       "      <th>4</th>\n",
       "      <td>4MY-AD-20</td>\n",
       "      <td>38</td>\n",
       "    </tr>\n",
       "    <tr>\n",
       "      <th>...</th>\n",
       "      <td>...</td>\n",
       "      <td>...</td>\n",
       "    </tr>\n",
       "    <tr>\n",
       "      <th>298</th>\n",
       "      <td>XMY-HD-47</td>\n",
       "      <td>924</td>\n",
       "    </tr>\n",
       "    <tr>\n",
       "      <th>299</th>\n",
       "      <td>XMY-HD-48</td>\n",
       "      <td>364</td>\n",
       "    </tr>\n",
       "    <tr>\n",
       "      <th>300</th>\n",
       "      <td>XMY-HD-55</td>\n",
       "      <td>2532</td>\n",
       "    </tr>\n",
       "    <tr>\n",
       "      <th>301</th>\n",
       "      <td>XMY-KM-47</td>\n",
       "      <td>3217</td>\n",
       "    </tr>\n",
       "    <tr>\n",
       "      <th>302</th>\n",
       "      <td>YKM-KM-12</td>\n",
       "      <td>70</td>\n",
       "    </tr>\n",
       "  </tbody>\n",
       "</table>\n",
       "<p>303 rows × 2 columns</p>\n",
       "</div>"
      ],
      "text/plain": [
       "          배출가스인증번호  차대번호\n",
       "0     7MY-DC-24-72     1\n",
       "1     7MY-HD-24-30     8\n",
       "2     8MY-DC-24-12     1\n",
       "3        3MY-FK-08  1067\n",
       "4        4MY-AD-20    38\n",
       "..             ...   ...\n",
       "298      XMY-HD-47   924\n",
       "299      XMY-HD-48   364\n",
       "300      XMY-HD-55  2532\n",
       "301      XMY-KM-47  3217\n",
       "302      YKM-KM-12    70\n",
       "\n",
       "[303 rows x 2 columns]"
      ]
     },
     "execution_count": 382,
     "metadata": {},
     "output_type": "execute_result"
    }
   ],
   "source": [
    "num_by_gas_num = gas_df.groupby('배출가스인증번호')['차대번호'].count().reset_index()\n",
    "num_by_gas_num"
   ]
  },
  {
   "cell_type": "code",
   "execution_count": 384,
   "metadata": {},
   "outputs": [],
   "source": [
    "num_by_gas_num.to_excel('analysis/[G4][배출가스인증번호]유니크값_통계.xlsx', encoding='utf-8')"
   ]
  },
  {
   "cell_type": "code",
   "execution_count": 385,
   "metadata": {},
   "outputs": [
    {
     "data": {
      "text/plain": [
       "123013"
      ]
     },
     "execution_count": 385,
     "metadata": {},
     "output_type": "execute_result"
    }
   ],
   "source": [
    "gas_df['배출가스인증번호'].isnull().sum()"
   ]
  },
  {
   "attachments": {},
   "cell_type": "markdown",
   "metadata": {},
   "source": [
    "#### 오류 배출가스인증번호 유형 통계"
   ]
  },
  {
   "cell_type": "code",
   "execution_count": 339,
   "metadata": {},
   "outputs": [],
   "source": [
    "# - 총 오류 샘플 수 : 22026\n",
    "#     - 1번째 부분 3자리가 아닌 경우 : 17842\n",
    "#         - 빈 값(' ')인 경우 : 0\n",
    "#         - 바('-') 기호가 없는 경우 : 6\n",
    "#         - 1자리인 경우 : 0\n",
    "#         - 2자리인 경우 : 0\n",
    "#         - 4자리인 경우 : 17836\n",
    "#     - 2번째 부분 2자리가 아닌 경우 : 2827\n",
    "#         - 2번째 부분 1자리인 경우(XXX-n-XX-XX) : 0\n",
    "#         - 2번째 부분 3자리인 경우(XXX-nnn-XX-XX) : 2827\n",
    "#     - 2번째 부분 2자리이면서 숫자만 있는 경우 : 0\n",
    "#     - 3번째 부분 2자리가 아닌 경우 : 1\n",
    "#         - 3번째 부분 1자리인 경우(XXX-XX-n-XX) : 1\n",
    "#     - 3번째 부분 2자리이면서 문자가 있는 경우 : 1356\n",
    "#     - 4번째 부분 2자리가 아닌 경우 : 0(1999)\n",
    "#         - 중복 오류 : 1999\n",
    "#     - 4번째 부분 2자리이면서 문자가 있는 경우 : 0(19193)\n",
    "#         - 중복 오류 : 19193"
   ]
  },
  {
   "cell_type": "code",
   "execution_count": 340,
   "metadata": {},
   "outputs": [
    {
     "data": {
      "text/plain": [
       "163      TY87-배K-02\n",
       "173    7MY-KJ-0M-24\n",
       "216      TY87-배K-03\n",
       "236      TY87-배K-10\n",
       "293      TY87-배K-03\n",
       "Name: 배출가스인증번호, dtype: object"
      ]
     },
     "execution_count": 340,
     "metadata": {},
     "output_type": "execute_result"
    }
   ],
   "source": [
    "gas_df.iloc[idx125[:5], 12]"
   ]
  },
  {
   "cell_type": "code",
   "execution_count": 341,
   "metadata": {},
   "outputs": [
    {
     "data": {
      "text/plain": [
       "163      TY87-배K-02\n",
       "173    7MY-KJ-0M-24\n",
       "216      TY87-배K-03\n",
       "236      TY87-배K-10\n",
       "293      TY87-배K-03\n",
       "Name: 배출가스인증번호, dtype: object"
      ]
     },
     "execution_count": 341,
     "metadata": {},
     "output_type": "execute_result"
    }
   ],
   "source": [
    "gas_temp2 = gas_df.iloc[idx125, 12]\n",
    "gas_temp2.head()"
   ]
  },
  {
   "attachments": {},
   "cell_type": "markdown",
   "metadata": {},
   "source": [
    "##### 1번째 자리 오류 유형"
   ]
  },
  {
   "cell_type": "code",
   "execution_count": 342,
   "metadata": {},
   "outputs": [],
   "source": [
    "# 1번째 부분 3자리가 아닌 경우 : 17842\n",
    "#     - 빈 값(' ')인 경우 : 0\n",
    "#     - 바('-') 기호가 없는 경우 : 6\n",
    "#     - 1자리인 경우 : 0\n",
    "#     - 2자리인 경우 : 0\n",
    "#     - 4자리인 경우 : 17836"
   ]
  },
  {
   "cell_type": "code",
   "execution_count": 343,
   "metadata": {},
   "outputs": [
    {
     "name": "stderr",
     "output_type": "stream",
     "text": [
      "22026it [00:00, 447168.84it/s]\n"
     ]
    },
    {
     "data": {
      "text/plain": [
       "17842"
      ]
     },
     "execution_count": 343,
     "metadata": {},
     "output_type": "execute_result"
    }
   ],
   "source": [
    "idx126 = []\n",
    "count = 0\n",
    "for i, one in tqdm(enumerate(gas_temp2.to_numpy())):\n",
    "    try:\n",
    "        if len(str(one).split('-')[0]) != 3:\n",
    "            idx126.append(gas_temp2.index[i])\n",
    "            count += 1\n",
    "    except:\n",
    "        pass\n",
    "count"
   ]
  },
  {
   "cell_type": "code",
   "execution_count": 344,
   "metadata": {},
   "outputs": [
    {
     "data": {
      "text/plain": [
       "163        TY87-배K-02\n",
       "216        TY87-배K-03\n",
       "236        TY87-배K-10\n",
       "293        TY87-배K-03\n",
       "331        TY87-배K-02\n",
       "              ...    \n",
       "1528154    TY87-배K-02\n",
       "1528199    TY87-배K-10\n",
       "1528407    TY87-배K-10\n",
       "1528409    TY87-배K-03\n",
       "1528552    TY87-배K-10\n",
       "Name: 배출가스인증번호, Length: 17842, dtype: object"
      ]
     },
     "execution_count": 344,
     "metadata": {},
     "output_type": "execute_result"
    }
   ],
   "source": [
    "gas_df.iloc[idx126, 12]"
   ]
  },
  {
   "cell_type": "code",
   "execution_count": 345,
   "metadata": {},
   "outputs": [
    {
     "data": {
      "text/plain": [
       "'TY87-배K-02'"
      ]
     },
     "execution_count": 345,
     "metadata": {},
     "output_type": "execute_result"
    }
   ],
   "source": [
    "gas_df.iloc[idx126[0], 12]"
   ]
  },
  {
   "cell_type": "code",
   "execution_count": 346,
   "metadata": {},
   "outputs": [
    {
     "data": {
      "text/plain": [
       "0"
      ]
     },
     "execution_count": 346,
     "metadata": {},
     "output_type": "execute_result"
    }
   ],
   "source": [
    "count = 0\n",
    "idx126_1 = []\n",
    "for i, one in enumerate(gas_df.iloc[idx126, 12]):\n",
    "    if one == ' ':\n",
    "        idx126_1.append(gas_df.iloc[idx126, 12].index[i])\n",
    "        count += 1\n",
    "count"
   ]
  },
  {
   "cell_type": "code",
   "execution_count": 347,
   "metadata": {},
   "outputs": [
    {
     "data": {
      "text/plain": [
       "Series([], Name: 배출가스인증번호, dtype: object)"
      ]
     },
     "execution_count": 347,
     "metadata": {},
     "output_type": "execute_result"
    }
   ],
   "source": [
    "gas_df.iloc[idx126_1, 12]"
   ]
  },
  {
   "cell_type": "code",
   "execution_count": 348,
   "metadata": {},
   "outputs": [
    {
     "data": {
      "text/plain": [
       "6"
      ]
     },
     "execution_count": 348,
     "metadata": {},
     "output_type": "execute_result"
    }
   ],
   "source": [
    "count = 0\n",
    "idx126_2 = []\n",
    "for i, one in enumerate(gas_df.iloc[idx126, 12]):\n",
    "    if '-' not in one:\n",
    "        idx126_2.append(gas_df.iloc[idx126, 12].index[i])\n",
    "        count += 1\n",
    "count"
   ]
  },
  {
   "cell_type": "code",
   "execution_count": 349,
   "metadata": {},
   "outputs": [
    {
     "data": {
      "text/plain": [
       "67005      C135\n",
       "79069      C135\n",
       "1236747    C135\n",
       "264364     C135\n",
       "1189933    C135\n",
       "1377263    C135\n",
       "Name: 배출가스인증번호, dtype: object"
      ]
     },
     "execution_count": 349,
     "metadata": {},
     "output_type": "execute_result"
    }
   ],
   "source": [
    "gas_df.iloc[list(set(idx126_2) - set(idx126_1)), 12]"
   ]
  },
  {
   "cell_type": "code",
   "execution_count": 350,
   "metadata": {},
   "outputs": [
    {
     "data": {
      "text/plain": [
       "6"
      ]
     },
     "execution_count": 350,
     "metadata": {},
     "output_type": "execute_result"
    }
   ],
   "source": [
    "len(list(set(idx126_2) - set(idx126_1)))"
   ]
  },
  {
   "cell_type": "code",
   "execution_count": 351,
   "metadata": {},
   "outputs": [
    {
     "name": "stderr",
     "output_type": "stream",
     "text": [
      "22026it [00:00, 959621.69it/s]\n"
     ]
    },
    {
     "data": {
      "text/plain": [
       "0"
      ]
     },
     "execution_count": 351,
     "metadata": {},
     "output_type": "execute_result"
    }
   ],
   "source": [
    "idx126_3 = []\n",
    "count = 0\n",
    "for i, one in tqdm(enumerate(gas_temp2.to_numpy())):\n",
    "    try:\n",
    "        if len(str(one).split('-')[0]) == 1:\n",
    "            idx126_3.append(gas_temp2.index[i])\n",
    "            count += 1\n",
    "    except:\n",
    "        pass\n",
    "count"
   ]
  },
  {
   "cell_type": "code",
   "execution_count": 352,
   "metadata": {},
   "outputs": [
    {
     "data": {
      "text/plain": [
       "Series([], Name: 배출가스인증번호, dtype: object)"
      ]
     },
     "execution_count": 352,
     "metadata": {},
     "output_type": "execute_result"
    }
   ],
   "source": [
    "gas_df.iloc[idx126_3[:5], 12]"
   ]
  },
  {
   "cell_type": "code",
   "execution_count": 353,
   "metadata": {},
   "outputs": [
    {
     "data": {
      "text/plain": [
       "True"
      ]
     },
     "execution_count": 353,
     "metadata": {},
     "output_type": "execute_result"
    }
   ],
   "source": [
    "set(idx126_1) == set(idx126_3)"
   ]
  },
  {
   "cell_type": "code",
   "execution_count": 354,
   "metadata": {},
   "outputs": [
    {
     "name": "stderr",
     "output_type": "stream",
     "text": [
      "22026it [00:00, 815606.43it/s]\n"
     ]
    },
    {
     "data": {
      "text/plain": [
       "0"
      ]
     },
     "execution_count": 354,
     "metadata": {},
     "output_type": "execute_result"
    }
   ],
   "source": [
    "idx126_4 = []\n",
    "count = 0\n",
    "for i, one in tqdm(enumerate(gas_temp2.to_numpy())):\n",
    "    try:\n",
    "        if len(str(one).split('-')[0]) == 2:\n",
    "            idx126_4.append(gas_temp2.index[i])\n",
    "            count += 1\n",
    "    except:\n",
    "        pass\n",
    "count"
   ]
  },
  {
   "cell_type": "code",
   "execution_count": 355,
   "metadata": {},
   "outputs": [
    {
     "name": "stderr",
     "output_type": "stream",
     "text": [
      "22026it [00:00, 466398.46it/s]\n"
     ]
    },
    {
     "data": {
      "text/plain": [
       "17842"
      ]
     },
     "execution_count": 355,
     "metadata": {},
     "output_type": "execute_result"
    }
   ],
   "source": [
    "idx126_5 = []\n",
    "count = 0\n",
    "for i, one in tqdm(enumerate(gas_temp2.to_numpy())):\n",
    "    try:\n",
    "        if len(str(one).split('-')[0]) == 4:\n",
    "            idx126_5.append(gas_temp2.index[i])\n",
    "            count += 1\n",
    "    except:\n",
    "        pass\n",
    "count"
   ]
  },
  {
   "cell_type": "code",
   "execution_count": 356,
   "metadata": {},
   "outputs": [
    {
     "data": {
      "text/plain": [
       "17836"
      ]
     },
     "execution_count": 356,
     "metadata": {},
     "output_type": "execute_result"
    }
   ],
   "source": [
    "len(set(idx126_5) - set(idx126_1) - set(idx126_2))"
   ]
  },
  {
   "attachments": {},
   "cell_type": "markdown",
   "metadata": {},
   "source": [
    "##### 2번째 자리 오류 유형"
   ]
  },
  {
   "cell_type": "code",
   "execution_count": 357,
   "metadata": {},
   "outputs": [],
   "source": [
    "# 2번째 부분 2자리가 아닌 경우 : 2827\n",
    "#   - 2번째 부분 1자리인 경우(XXX-n-XX-XX) : 0\n",
    "#   - 2번째 부분 3자리인 경우(XXX-nnn-XX-XX) : 2827\n",
    "# 2번째 부분 2자리이면서 숫자만 있는 경우 : 0"
   ]
  },
  {
   "cell_type": "code",
   "execution_count": 358,
   "metadata": {},
   "outputs": [
    {
     "name": "stderr",
     "output_type": "stream",
     "text": [
      "22026it [00:00, 763861.82it/s]\n"
     ]
    },
    {
     "data": {
      "text/plain": [
       "2827"
      ]
     },
     "execution_count": 358,
     "metadata": {},
     "output_type": "execute_result"
    }
   ],
   "source": [
    "idx127 = []\n",
    "count = 0\n",
    "for i, one in tqdm(enumerate(gas_temp2.to_numpy())):\n",
    "    try:\n",
    "        if len(str(one).split('-')[1]) != 2:\n",
    "            idx127.append(gas_temp2.index[i])\n",
    "            count += 1\n",
    "    except:\n",
    "        pass\n",
    "count"
   ]
  },
  {
   "cell_type": "code",
   "execution_count": 359,
   "metadata": {},
   "outputs": [
    {
     "data": {
      "text/plain": [
       "2827"
      ]
     },
     "execution_count": 359,
     "metadata": {},
     "output_type": "execute_result"
    }
   ],
   "source": [
    "len(set(idx127) - set(idx126))"
   ]
  },
  {
   "cell_type": "code",
   "execution_count": 360,
   "metadata": {},
   "outputs": [
    {
     "data": {
      "text/plain": [
       "547      FMY-VTK-14-1\n",
       "639      FMY-VTK-14-1\n",
       "1812    7MY-VTK-24-01\n",
       "2178    7MY-VTK-24-01\n",
       "2253     FMY-VTK-14-3\n",
       "Name: 배출가스인증번호, dtype: object"
      ]
     },
     "execution_count": 360,
     "metadata": {},
     "output_type": "execute_result"
    }
   ],
   "source": [
    "gas_df.iloc[idx127[:5], 12]"
   ]
  },
  {
   "cell_type": "code",
   "execution_count": 361,
   "metadata": {},
   "outputs": [
    {
     "name": "stderr",
     "output_type": "stream",
     "text": [
      "22026it [00:00, 846935.64it/s]\n"
     ]
    },
    {
     "data": {
      "text/plain": [
       "0"
      ]
     },
     "execution_count": 361,
     "metadata": {},
     "output_type": "execute_result"
    }
   ],
   "source": [
    "idx127_1 = []\n",
    "count = 0\n",
    "for i, one in tqdm(enumerate(gas_temp2.to_numpy())):\n",
    "    try:\n",
    "        if len(str(one).split('-')[1]) == 1:\n",
    "            idx127_1.append(gas_temp2.index[i])\n",
    "            count += 1\n",
    "    except:\n",
    "        pass\n",
    "count"
   ]
  },
  {
   "cell_type": "code",
   "execution_count": 362,
   "metadata": {},
   "outputs": [
    {
     "data": {
      "text/plain": [
       "Series([], Name: 배출가스인증번호, dtype: object)"
      ]
     },
     "execution_count": 362,
     "metadata": {},
     "output_type": "execute_result"
    }
   ],
   "source": [
    "gas_df.iloc[idx127_1[:5], 12]"
   ]
  },
  {
   "cell_type": "code",
   "execution_count": 363,
   "metadata": {},
   "outputs": [
    {
     "name": "stderr",
     "output_type": "stream",
     "text": [
      "22026it [00:00, 687967.68it/s]\n"
     ]
    },
    {
     "data": {
      "text/plain": [
       "2827"
      ]
     },
     "execution_count": 363,
     "metadata": {},
     "output_type": "execute_result"
    }
   ],
   "source": [
    "idx127_3 = []\n",
    "count = 0\n",
    "for i, one in tqdm(enumerate(gas_temp2.to_numpy())):\n",
    "    try:\n",
    "        if len(str(one).split('-')[1]) == 3:\n",
    "            idx127_3.append(gas_temp2.index[i])\n",
    "            count += 1\n",
    "    except:\n",
    "        pass\n",
    "count"
   ]
  },
  {
   "cell_type": "code",
   "execution_count": 364,
   "metadata": {},
   "outputs": [
    {
     "data": {
      "text/plain": [
       "547      FMY-VTK-14-1\n",
       "639      FMY-VTK-14-1\n",
       "1812    7MY-VTK-24-01\n",
       "2178    7MY-VTK-24-01\n",
       "2253     FMY-VTK-14-3\n",
       "Name: 배출가스인증번호, dtype: object"
      ]
     },
     "execution_count": 364,
     "metadata": {},
     "output_type": "execute_result"
    }
   ],
   "source": [
    "gas_df.iloc[idx127_3[:5], 12]"
   ]
  },
  {
   "cell_type": "code",
   "execution_count": 365,
   "metadata": {},
   "outputs": [
    {
     "name": "stderr",
     "output_type": "stream",
     "text": [
      "22026it [00:00, 957433.75it/s]\n"
     ]
    },
    {
     "data": {
      "text/plain": [
       "0"
      ]
     },
     "execution_count": 365,
     "metadata": {},
     "output_type": "execute_result"
    }
   ],
   "source": [
    "idx127_4 = []\n",
    "count = 0\n",
    "for i, one in tqdm(enumerate(gas_temp2.to_numpy())):\n",
    "    try:\n",
    "        if len(str(one).split('-')[1]) == 4:\n",
    "            idx127_4.append(gas_temp2.index[i])\n",
    "            count += 1\n",
    "    except:\n",
    "        pass\n",
    "count"
   ]
  },
  {
   "cell_type": "code",
   "execution_count": 366,
   "metadata": {},
   "outputs": [
    {
     "name": "stderr",
     "output_type": "stream",
     "text": [
      "22026it [00:00, 535731.83it/s]\n"
     ]
    },
    {
     "data": {
      "text/plain": [
       "0"
      ]
     },
     "execution_count": 366,
     "metadata": {},
     "output_type": "execute_result"
    }
   ],
   "source": [
    "# 2번째 부분 2자리이면서 숫자만 있는 경우 : 0\n",
    "idx127_5 = []\n",
    "p127_5 = re.compile('[0-9]+')\n",
    "count = 0\n",
    "for i, one in tqdm(enumerate(gas_temp2.to_numpy())):\n",
    "    try:\n",
    "        if (len(str(one).split('-')[1]) == 2) and p127_5.search(str(one).split('-')[1]):\n",
    "            idx127_5.append(gas_temp2.index[i])\n",
    "            count += 1\n",
    "    except:\n",
    "        pass\n",
    "count"
   ]
  },
  {
   "attachments": {},
   "cell_type": "markdown",
   "metadata": {},
   "source": [
    "##### 3번째 자리 오류 유형"
   ]
  },
  {
   "cell_type": "code",
   "execution_count": 367,
   "metadata": {},
   "outputs": [],
   "source": [
    "# 3번째 부분 2자리가 아닌 경우 : 1\n",
    "#   - 3번째 부분 1자리인 경우(XXX-XX-n-XX) : 1\n",
    "# 3번째 부분 2자리이면서 문자가 있는 경우 : 1357"
   ]
  },
  {
   "cell_type": "code",
   "execution_count": 368,
   "metadata": {},
   "outputs": [
    {
     "name": "stderr",
     "output_type": "stream",
     "text": [
      "22026it [00:00, 956878.41it/s]\n"
     ]
    },
    {
     "data": {
      "text/plain": [
       "1"
      ]
     },
     "execution_count": 368,
     "metadata": {},
     "output_type": "execute_result"
    }
   ],
   "source": [
    "idx128 = []\n",
    "count = 0\n",
    "for i, one in tqdm(enumerate(gas_temp2.to_numpy())):\n",
    "    try:\n",
    "        if len(str(one).split('-')[2]) != 2:\n",
    "            idx128.append(gas_temp2.index[i])\n",
    "            count += 1\n",
    "    except:\n",
    "        pass\n",
    "count"
   ]
  },
  {
   "cell_type": "code",
   "execution_count": 369,
   "metadata": {},
   "outputs": [
    {
     "data": {
      "text/plain": [
       "1470564    NMY-JK-S-107\n",
       "Name: 배출가스인증번호, dtype: object"
      ]
     },
     "execution_count": 369,
     "metadata": {},
     "output_type": "execute_result"
    }
   ],
   "source": [
    "gas_df.iloc[idx128, 12]"
   ]
  },
  {
   "cell_type": "code",
   "execution_count": 370,
   "metadata": {},
   "outputs": [
    {
     "data": {
      "text/plain": [
       "1"
      ]
     },
     "execution_count": 370,
     "metadata": {},
     "output_type": "execute_result"
    }
   ],
   "source": [
    "len(set(idx128) - set(idx126) - set(idx127))"
   ]
  },
  {
   "cell_type": "code",
   "execution_count": 371,
   "metadata": {},
   "outputs": [
    {
     "name": "stderr",
     "output_type": "stream",
     "text": [
      "22026it [00:00, 328611.05it/s]\n"
     ]
    },
    {
     "data": {
      "text/plain": [
       "19193"
      ]
     },
     "execution_count": 371,
     "metadata": {},
     "output_type": "execute_result"
    }
   ],
   "source": [
    "# 3번째 부분 2자리이면서 문자가 있는 경우 : 1357\n",
    "idx128_1 = []\n",
    "p128_1 = re.compile('[a-zA-Z가-힣]+')\n",
    "count = 0\n",
    "for i, one in tqdm(enumerate(gas_temp2.to_numpy())):\n",
    "    try:\n",
    "        if (len(str(one).split('-')[1]) == 2) and p128_1.search(str(one).split('-')[1]):\n",
    "            idx128_1.append(gas_temp2.index[i])\n",
    "            count += 1\n",
    "    except:\n",
    "        pass\n",
    "count"
   ]
  },
  {
   "cell_type": "code",
   "execution_count": 372,
   "metadata": {},
   "outputs": [
    {
     "data": {
      "text/plain": [
       "1356"
      ]
     },
     "execution_count": 372,
     "metadata": {},
     "output_type": "execute_result"
    }
   ],
   "source": [
    "len(set(idx128_1) - set(idx126) - set(idx127) - set(idx128))"
   ]
  },
  {
   "cell_type": "code",
   "execution_count": 373,
   "metadata": {},
   "outputs": [
    {
     "data": {
      "text/plain": [
       "417796     6MY-SS-0M-24\n",
       "286727     7MY-HT-0M-24\n",
       "1499144    7MY-JI-0M-24\n",
       "1130509    7MY-HS-0M-24\n",
       "1363981    7MY-SJ-0M-24\n",
       "Name: 배출가스인증번호, dtype: object"
      ]
     },
     "execution_count": 373,
     "metadata": {},
     "output_type": "execute_result"
    }
   ],
   "source": [
    "gas_df.iloc[list(set(idx128_1) - set(idx126) - set(idx127) - set(idx128))[:5], 12]"
   ]
  },
  {
   "attachments": {},
   "cell_type": "markdown",
   "metadata": {},
   "source": [
    "##### 4번째 자리 오류 유형"
   ]
  },
  {
   "cell_type": "code",
   "execution_count": 374,
   "metadata": {},
   "outputs": [],
   "source": [
    "# 4번째 부분 2자리가 아닌 경우 : 0(1999)\n",
    "#   - 중복 오류 : 1999\n",
    "# 4번째 부분 2자리이면서 문자가 있는 경우 : 0(19193)"
   ]
  },
  {
   "cell_type": "code",
   "execution_count": 375,
   "metadata": {},
   "outputs": [
    {
     "name": "stderr",
     "output_type": "stream",
     "text": [
      "22026it [00:00, 688188.05it/s]\n"
     ]
    },
    {
     "data": {
      "text/plain": [
       "1999"
      ]
     },
     "execution_count": 375,
     "metadata": {},
     "output_type": "execute_result"
    }
   ],
   "source": [
    "idx129 = []\n",
    "count = 0\n",
    "for i, one in tqdm(enumerate(gas_temp2.to_numpy())):\n",
    "    try:\n",
    "        if len(str(one).split('-')[3]) != 2:\n",
    "            idx129.append(gas_temp2.index[i])\n",
    "            count += 1\n",
    "    except:\n",
    "        pass\n",
    "count"
   ]
  },
  {
   "cell_type": "code",
   "execution_count": 376,
   "metadata": {},
   "outputs": [
    {
     "data": {
      "text/plain": [
       "547     FMY-VTK-14-1\n",
       "639     FMY-VTK-14-1\n",
       "2253    FMY-VTK-14-3\n",
       "2338    FMY-VTK-14-1\n",
       "4796    FMY-VTK-14-1\n",
       "Name: 배출가스인증번호, dtype: object"
      ]
     },
     "execution_count": 376,
     "metadata": {},
     "output_type": "execute_result"
    }
   ],
   "source": [
    "gas_df.iloc[idx129[:5], 12]"
   ]
  },
  {
   "cell_type": "code",
   "execution_count": 377,
   "metadata": {},
   "outputs": [
    {
     "data": {
      "text/plain": [
       "0"
      ]
     },
     "execution_count": 377,
     "metadata": {},
     "output_type": "execute_result"
    }
   ],
   "source": [
    "# 중복 추출된 샘플 제거\n",
    "len(set(idx129) - set(idx126) - set(idx127) - set(idx128))"
   ]
  },
  {
   "cell_type": "code",
   "execution_count": 378,
   "metadata": {},
   "outputs": [
    {
     "name": "stderr",
     "output_type": "stream",
     "text": [
      "22026it [00:00, 331535.67it/s]\n"
     ]
    },
    {
     "data": {
      "text/plain": [
       "19193"
      ]
     },
     "execution_count": 378,
     "metadata": {},
     "output_type": "execute_result"
    }
   ],
   "source": [
    "# 4번째 부분 2자리이면서 문자가 있는 경우 : 0\n",
    "idx129_1 = []\n",
    "p129_1 = re.compile('[a-zA-Z가-힣]+')\n",
    "count = 0\n",
    "for i, one in tqdm(enumerate(gas_temp2.to_numpy())):\n",
    "    try:\n",
    "        if (len(str(one).split('-')[1]) == 2) and p129_1.search(str(one).split('-')[1]):\n",
    "            idx129_1.append(gas_temp2.index[i])\n",
    "            count += 1\n",
    "    except:\n",
    "        pass\n",
    "count"
   ]
  },
  {
   "cell_type": "code",
   "execution_count": 379,
   "metadata": {},
   "outputs": [
    {
     "data": {
      "text/plain": [
       "0"
      ]
     },
     "execution_count": 379,
     "metadata": {},
     "output_type": "execute_result"
    }
   ],
   "source": [
    "len(set(idx129_1) - set(idx126) - set(idx127) - set(idx128_1))"
   ]
  },
  {
   "attachments": {},
   "cell_type": "markdown",
   "metadata": {},
   "source": [
    "##### 한글이 포함된 경우"
   ]
  },
  {
   "cell_type": "code",
   "execution_count": 380,
   "metadata": {},
   "outputs": [
    {
     "name": "stderr",
     "output_type": "stream",
     "text": [
      "22026it [00:00, 524186.86it/s]\n"
     ]
    },
    {
     "data": {
      "text/plain": [
       "17836"
      ]
     },
     "execution_count": 380,
     "metadata": {},
     "output_type": "execute_result"
    }
   ],
   "source": [
    "idx1210 = []\n",
    "p1210 = re.compile('[가-힣]')\n",
    "count = 0\n",
    "for i, one in tqdm(enumerate(gas_temp2.to_numpy())):\n",
    "    try:\n",
    "        if p1210.search(one):\n",
    "            idx1210.append(gas_temp2.index[i])\n",
    "            count += 1\n",
    "    except:\n",
    "        pass\n",
    "count"
   ]
  },
  {
   "cell_type": "code",
   "execution_count": 381,
   "metadata": {},
   "outputs": [
    {
     "data": {
      "text/plain": [
       "0"
      ]
     },
     "execution_count": 381,
     "metadata": {},
     "output_type": "execute_result"
    }
   ],
   "source": [
    "len(set(idx1210) - set(idx129) - set(idx126) - set(idx127) - set(idx128))"
   ]
  },
  {
   "attachments": {},
   "cell_type": "markdown",
   "metadata": {},
   "source": [
    "### 배출가스인증번호 미부여 현황\n",
    "- 필요한 컬럼 : 배출가스인증번호, 차량연식, 차량제작일자, 차명, 차종_제원정보, 차종분류, 차종유형, 자동차형식, 제작사명, 연료"
   ]
  },
  {
   "cell_type": "code",
   "execution_count": 235,
   "metadata": {},
   "outputs": [
    {
     "data": {
      "text/plain": [
       "Index(['차량관리번호', '차량등록번호', '본거지법정동코드', '소유자구분', '차종_등록정보', '용도', '차대번호',\n",
       "       '최초등록일자', '차량연식', '차량제작일자', '검사유효일', '제원관리번호', '배출가스인증번호', '배출가스등급',\n",
       "       '저공해조치종류', '저공해조치구조변경YN', '차량말소YN', '취득일자', '취득금액', '차명', '차종_제원정보',\n",
       "       '차종분류', '차종유형', '자동차형식', '제작사명', '연료', '엔진형식', '총중량', '적재중량', '엔진출력',\n",
       "       '배기량', '승차인원', '차량길이', '차량너비', '차량높이', '원산지명', '삭제YN', '제원승인일자', '구동형식',\n",
       "       '변속기종류', '지역코드', 'ad1', 'code1'],\n",
       "      dtype='object')"
      ]
     },
     "execution_count": 235,
     "metadata": {},
     "output_type": "execute_result"
    }
   ],
   "source": [
    "gas_df.columns"
   ]
  },
  {
   "cell_type": "code",
   "execution_count": 236,
   "metadata": {},
   "outputs": [
    {
     "data": {
      "text/html": [
       "<div>\n",
       "<style scoped>\n",
       "    .dataframe tbody tr th:only-of-type {\n",
       "        vertical-align: middle;\n",
       "    }\n",
       "\n",
       "    .dataframe tbody tr th {\n",
       "        vertical-align: top;\n",
       "    }\n",
       "\n",
       "    .dataframe thead th {\n",
       "        text-align: right;\n",
       "    }\n",
       "</style>\n",
       "<table border=\"1\" class=\"dataframe\">\n",
       "  <thead>\n",
       "    <tr style=\"text-align: right;\">\n",
       "      <th></th>\n",
       "      <th>배출가스인증번호</th>\n",
       "      <th>차량연식</th>\n",
       "      <th>차량제작일자</th>\n",
       "      <th>차명</th>\n",
       "      <th>차종_제원정보</th>\n",
       "      <th>차종분류</th>\n",
       "      <th>차종유형</th>\n",
       "      <th>제작사명</th>\n",
       "      <th>연료</th>\n",
       "    </tr>\n",
       "  </thead>\n",
       "  <tbody>\n",
       "    <tr>\n",
       "      <th>29</th>\n",
       "      <td>NaN</td>\n",
       "      <td>1989</td>\n",
       "      <td>19891004.0</td>\n",
       "      <td>로얄살롱 2.0A.T</td>\n",
       "      <td>승용</td>\n",
       "      <td>일반</td>\n",
       "      <td>중형</td>\n",
       "      <td>대우자동차(주)</td>\n",
       "      <td>휘발유</td>\n",
       "    </tr>\n",
       "    <tr>\n",
       "      <th>36</th>\n",
       "      <td>NaN</td>\n",
       "      <td>1997</td>\n",
       "      <td>19970130.0</td>\n",
       "      <td>티코(TICO)</td>\n",
       "      <td>승용</td>\n",
       "      <td>일반</td>\n",
       "      <td>경형</td>\n",
       "      <td>대우중공업(주)</td>\n",
       "      <td>휘발유</td>\n",
       "    </tr>\n",
       "    <tr>\n",
       "      <th>42</th>\n",
       "      <td>NaN</td>\n",
       "      <td>1996</td>\n",
       "      <td>NaN</td>\n",
       "      <td>프린스1.8DOHCAT</td>\n",
       "      <td>승용</td>\n",
       "      <td>일반</td>\n",
       "      <td>중형</td>\n",
       "      <td>대우자동차(주)</td>\n",
       "      <td>휘발유</td>\n",
       "    </tr>\n",
       "    <tr>\n",
       "      <th>63</th>\n",
       "      <td>NaN</td>\n",
       "      <td>1993</td>\n",
       "      <td>NaN</td>\n",
       "      <td>타우너</td>\n",
       "      <td>화물</td>\n",
       "      <td>밴</td>\n",
       "      <td>경형</td>\n",
       "      <td>아시아자동차공업(주)</td>\n",
       "      <td>휘발유</td>\n",
       "    </tr>\n",
       "    <tr>\n",
       "      <th>67</th>\n",
       "      <td>NaN</td>\n",
       "      <td>1994</td>\n",
       "      <td>NaN</td>\n",
       "      <td>프린스1.8AT</td>\n",
       "      <td>승용</td>\n",
       "      <td>일반</td>\n",
       "      <td>중형</td>\n",
       "      <td>대우자동차(주)</td>\n",
       "      <td>휘발유</td>\n",
       "    </tr>\n",
       "  </tbody>\n",
       "</table>\n",
       "</div>"
      ],
      "text/plain": [
       "   배출가스인증번호  차량연식      차량제작일자            차명 차종_제원정보 차종분류 차종유형         제작사명  \\\n",
       "29      NaN  1989  19891004.0   로얄살롱 2.0A.T      승용   일반   중형     대우자동차(주)   \n",
       "36      NaN  1997  19970130.0      티코(TICO)      승용   일반   경형     대우중공업(주)   \n",
       "42      NaN  1996         NaN  프린스1.8DOHCAT      승용   일반   중형     대우자동차(주)   \n",
       "63      NaN  1993         NaN           타우너      화물    밴   경형  아시아자동차공업(주)   \n",
       "67      NaN  1994         NaN      프린스1.8AT      승용   일반   중형     대우자동차(주)   \n",
       "\n",
       "     연료  \n",
       "29  휘발유  \n",
       "36  휘발유  \n",
       "42  휘발유  \n",
       "63  휘발유  \n",
       "67  휘발유  "
      ]
     },
     "execution_count": 236,
     "metadata": {},
     "output_type": "execute_result"
    }
   ],
   "source": [
    "gas_df.loc[gas_df['배출가스인증번호'].isnull() == True, ['배출가스인증번호', '차량연식', '차량제작일자', '차명', '차종_제원정보', '차종분류', '차종유형', '제작사명', '연료']].head()"
   ]
  },
  {
   "cell_type": "code",
   "execution_count": 239,
   "metadata": {},
   "outputs": [
    {
     "data": {
      "text/plain": [
       "(123013, 40)"
      ]
     },
     "execution_count": 239,
     "metadata": {},
     "output_type": "execute_result"
    }
   ],
   "source": [
    "gas_df.loc[gas_df['배출가스인증번호'].isnull() == True, ['차량관리번호', '차량등록번호', '본거지법정동코드', '소유자구분', '차종_등록정보', '용도', '차대번호',\n",
    "       '최초등록일자', '차량연식', '차량제작일자', '검사유효일', '제원관리번호', '배출가스인증번호', '배출가스등급',\n",
    "       '저공해조치종류', '저공해조치구조변경YN', '차량말소YN', '취득일자', '취득금액', '차명', '차종_제원정보',\n",
    "       '차종분류', '차종유형', '자동차형식', '제작사명', '연료', '엔진형식', '총중량', '적재중량', '엔진출력',\n",
    "       '배기량', '승차인원', '차량길이', '차량너비', '차량높이', '원산지명', '삭제YN', '제원승인일자', '구동형식',\n",
    "       '변속기종류']].shape"
   ]
  },
  {
   "cell_type": "code",
   "execution_count": 240,
   "metadata": {},
   "outputs": [],
   "source": [
    "null_num_df = gas_df.loc[gas_df['배출가스인증번호'].isnull() == True, ['차량관리번호', '차량등록번호', '본거지법정동코드', '소유자구분', '차종_등록정보', '용도', '차대번호',\n",
    "       '최초등록일자', '차량연식', '차량제작일자', '검사유효일', '제원관리번호', '배출가스인증번호', '배출가스등급',\n",
    "       '저공해조치종류', '저공해조치구조변경YN', '차량말소YN', '취득일자', '취득금액', '차명', '차종_제원정보',\n",
    "       '차종분류', '차종유형', '자동차형식', '제작사명', '연료', '엔진형식', '총중량', '적재중량', '엔진출력',\n",
    "       '배기량', '승차인원', '차량길이', '차량너비', '차량높이', '원산지명', '삭제YN', '제원승인일자', '구동형식',\n",
    "       '변속기종류']]"
   ]
  },
  {
   "cell_type": "code",
   "execution_count": 242,
   "metadata": {},
   "outputs": [],
   "source": [
    "null_num_df.to_csv('analysis/[G4][배출가스인증번호]미부여_샘플.csv', encoding='cp949')"
   ]
  },
  {
   "attachments": {},
   "cell_type": "markdown",
   "metadata": {},
   "source": [
    "## 배출가스인증번호별 통계"
   ]
  },
  {
   "cell_type": "code",
   "execution_count": 442,
   "metadata": {},
   "outputs": [
    {
     "data": {
      "text/plain": [
       "Index(['차량관리번호', '차량등록번호', '본거지법정동코드', '소유자구분', '차종_등록정보', '용도', '차대번호',\n",
       "       '최초등록일자', '차량연식', '차량제작일자', '검사유효일', '제원관리번호', '배출가스인증번호', '배출가스등급',\n",
       "       '저공해조치종류', '저공해조치구조변경YN', '차량말소YN', '취득일자', '취득금액', '차명', '차종_제원정보',\n",
       "       '차종분류', '차종유형', '자동차형식', '제작사명', '연료', '엔진형식', '총중량', '적재중량', '엔진출력',\n",
       "       '배기량', '승차인원', '차량길이', '차량너비', '차량높이', '원산지명', '삭제YN', '제원승인일자', '구동형식',\n",
       "       '변속기종류', '지역코드', 'ad1', 'code1', '총중량_분류', '배기량_분류'],\n",
       "      dtype='object')"
      ]
     },
     "execution_count": 442,
     "metadata": {},
     "output_type": "execute_result"
    }
   ],
   "source": [
    "gas_df.columns"
   ]
  },
  {
   "cell_type": "code",
   "execution_count": 443,
   "metadata": {},
   "outputs": [],
   "source": [
    "per_inspect = pd.read_csv('data/220819_정기검사.csv', encoding='cp949')"
   ]
  },
  {
   "cell_type": "code",
   "execution_count": 444,
   "metadata": {},
   "outputs": [
    {
     "name": "stderr",
     "output_type": "stream",
     "text": [
      "C:\\Users\\kbjung\\AppData\\Local\\Temp\\ipykernel_8084\\2544207015.py:1: DtypeWarning: Columns (12,72,73) have mixed types. Specify dtype option on import or set low_memory=False.\n",
      "  per_detail_inspect = pd.read_csv('data/220819_정밀검사.csv', encoding='cp949')\n"
     ]
    }
   ],
   "source": [
    "per_detail_inspect = pd.read_csv('data/220819_정밀검사.csv', encoding='cp949')"
   ]
  },
  {
   "cell_type": "code",
   "execution_count": 445,
   "metadata": {},
   "outputs": [
    {
     "data": {
      "text/plain": [
       "Index(['검사소명', '정기검사일자', '검사종류', '검사접수번호', '통합접수번호', '차량번호', '차대번호', '차량형식번호',\n",
       "       '차명', '차종', '차량용도', '차량연식', '차량연료', '주행거리', '차량길이', '차량너비', '차량높이',\n",
       "       '엔진형식', '배기량', '엔진출력', '차량중량', '총중량', '정원', '비고', '최초등록일자', '제작일자',\n",
       "       '검사전 유효기간 만료일', '관능검사판정', '관능부적합항목', '검사방법', '무부하매연측정치1', '무부하매연허용치1',\n",
       "       '무부하매연판정1', '무부하매연측정치2', '무부하매연허용치2', '무부하매연판정2', '무부하매연측정치3',\n",
       "       '무부하매연허용치3', '무부하매연판정3', '무부하매연측정치4', '무부하매연허용치4', '무부하매연판정4',\n",
       "       '무부하매연측정치5', '무부하매연허용치5', '무부하매연판정5', '무부하매연측정치6', '무부하매연허용치6',\n",
       "       '무부하매연판정6', '이산화탄소값', '최대출력허용치', '최대출력측정값', '산소값', '공기온도', '공기압력',\n",
       "       '검사판정', '재검사기간', '검사후 갱신유효기간', '관능검사원', '배출가스검사원', '책임검사원', '검사 판정시간',\n",
       "       '자료구분코드'],\n",
       "      dtype='object')"
      ]
     },
     "execution_count": 445,
     "metadata": {},
     "output_type": "execute_result"
    }
   ],
   "source": [
    "per_inspect.columns"
   ]
  },
  {
   "cell_type": "code",
   "execution_count": 447,
   "metadata": {},
   "outputs": [],
   "source": [
    "temp_pins = per_inspect[['차대번호', '검사방법', '무부하매연측정치1', '무부하매연허용치1', '무부하매연판정1', '무부하매연측정치2', '무부하매연허용치2', '무부하매연판정2', '무부하매연측정치3', '무부하매연허용치3', '무부하매연판정3', '무부하매연측정치4', '무부하매연허용치4', '무부하매연판정4', '무부하매연측정치5', '무부하매연허용치5', '무부하매연판정5', '무부하매연측정치6', '무부하매연허용치6', '무부하매연판정6']]"
   ]
  },
  {
   "cell_type": "code",
   "execution_count": 446,
   "metadata": {},
   "outputs": [
    {
     "data": {
      "text/plain": [
       "Index(['정밀검사소명', '정밀검사일자', '정밀검사종류', '정밀검사접수번호', '차량번호', '차대번호', '차량형식번호',\n",
       "       '차명', '차종', '차량용도', '차량연식', '차량연료', '주행거리', '차량길이', '차량너비', '차량높이',\n",
       "       '엔진형식', '원동기배기량', '엔진출력', '차량중량', '총중량', '정원', '비고', '최초등록일',\n",
       "       '정밀검사유효기간', '관능검사판정', '관능검사부적합내용', '정밀검사측정방법', '무부하매연측정치1', '무부하매연허용치1',\n",
       "       '무부하매연판정1', '무부하매연측정치2', '무부하매연허용치2', '무부하매연판정2', '무부하매연측정치3',\n",
       "       '무부하매연허용치3', '무부하매연판정3', '무부하매연측정치4', '무부하매연허용치4', '무부하매연판정4',\n",
       "       '무부하매연측정치5', '무부하매연허용치5', '무부하매연판정5', '이산화탄소값', '최대출력허용치', '최대출력측정값',\n",
       "       '산소값', '공기온도', '공기압력', '정밀검사판정', '재검사기간', '정밀검사유효기간2', '관능검사등록자',\n",
       "       '정밀검사등록자', '정밀검사소대표명', '기타내용1', '기타내용2', '기타내용3', '기타내용4', '기타내용5',\n",
       "       '원본대장테이블', '정밀검사시간정보', '통합접수번호', '데이터생성일자', '무부하매연측정치6', '무부하매연허용치6',\n",
       "       '무부하매연판정6', '수신파일명', '제작등록일자', '데이터구분', '삭제구분', '삭제사유1', '삭제사유2',\n",
       "       '삭제사유3', '삭제사유4'],\n",
       "      dtype='object')"
      ]
     },
     "execution_count": 446,
     "metadata": {},
     "output_type": "execute_result"
    }
   ],
   "source": [
    "per_detail_inspect.columns"
   ]
  },
  {
   "cell_type": "code",
   "execution_count": 449,
   "metadata": {},
   "outputs": [],
   "source": [
    "temp_pdins = per_detail_inspect[['차대번호', '정밀검사측정방법', '무부하매연측정치1', '무부하매연허용치1', '무부하매연판정1', '무부하매연측정치2', '무부하매연허용치2', '무부하매연판정2', '무부하매연측정치3', '무부하매연허용치3', '무부하매연판정3', '무부하매연측정치4', '무부하매연허용치4', '무부하매연판정4', '무부하매연측정치5', '무부하매연허용치5', '무부하매연판정5', '무부하매연측정치6', '무부하매연허용치6', '무부하매연판정6']]"
   ]
  },
  {
   "cell_type": "code",
   "execution_count": 451,
   "metadata": {},
   "outputs": [
    {
     "data": {
      "text/plain": [
       "(1528586, 45)"
      ]
     },
     "execution_count": 451,
     "metadata": {},
     "output_type": "execute_result"
    }
   ],
   "source": [
    "gas_df.shape"
   ]
  },
  {
   "cell_type": "code",
   "execution_count": 452,
   "metadata": {},
   "outputs": [
    {
     "data": {
      "text/plain": [
       "(1562667, 83)"
      ]
     },
     "execution_count": 452,
     "metadata": {},
     "output_type": "execute_result"
    }
   ],
   "source": [
    "tgas_df = gas_df.merge(temp_pins, on='차대번호', how='left')\n",
    "tgas_df2 = tgas_df.merge(temp_pdins, on='차대번호', how='left')"
   ]
  },
  {
   "cell_type": "code",
   "execution_count": 453,
   "metadata": {},
   "outputs": [
    {
     "data": {
      "text/plain": [
       "((1540457, 64), (1562667, 83))"
      ]
     },
     "execution_count": 453,
     "metadata": {},
     "output_type": "execute_result"
    }
   ],
   "source": [
    "tgas_df.shape, tgas_df2.shape"
   ]
  },
  {
   "cell_type": "code",
   "execution_count": null,
   "metadata": {},
   "outputs": [],
   "source": []
  },
  {
   "cell_type": "code",
   "execution_count": null,
   "metadata": {},
   "outputs": [],
   "source": []
  },
  {
   "cell_type": "code",
   "execution_count": null,
   "metadata": {},
   "outputs": [],
   "source": []
  },
  {
   "cell_type": "code",
   "execution_count": null,
   "metadata": {},
   "outputs": [],
   "source": []
  },
  {
   "cell_type": "code",
   "execution_count": null,
   "metadata": {},
   "outputs": [],
   "source": []
  },
  {
   "cell_type": "code",
   "execution_count": null,
   "metadata": {},
   "outputs": [],
   "source": []
  },
  {
   "cell_type": "code",
   "execution_count": null,
   "metadata": {},
   "outputs": [],
   "source": []
  },
  {
   "cell_type": "code",
   "execution_count": null,
   "metadata": {},
   "outputs": [],
   "source": []
  },
  {
   "cell_type": "code",
   "execution_count": null,
   "metadata": {},
   "outputs": [],
   "source": []
  },
  {
   "cell_type": "code",
   "execution_count": null,
   "metadata": {},
   "outputs": [],
   "source": []
  },
  {
   "cell_type": "code",
   "execution_count": null,
   "metadata": {},
   "outputs": [],
   "source": []
  },
  {
   "cell_type": "code",
   "execution_count": null,
   "metadata": {},
   "outputs": [],
   "source": []
  },
  {
   "cell_type": "code",
   "execution_count": null,
   "metadata": {},
   "outputs": [],
   "source": []
  },
  {
   "cell_type": "code",
   "execution_count": null,
   "metadata": {},
   "outputs": [],
   "source": []
  },
  {
   "attachments": {},
   "cell_type": "markdown",
   "metadata": {},
   "source": [
    "## 총중량으로 분류 현황"
   ]
  },
  {
   "cell_type": "code",
   "execution_count": 243,
   "metadata": {},
   "outputs": [
    {
     "data": {
      "text/plain": [
       "array([ 3280.,  1965.,  2615., ..., 17190., 17340., 21690.])"
      ]
     },
     "execution_count": 243,
     "metadata": {},
     "output_type": "execute_result"
    }
   ],
   "source": [
    "df['총중량'].unique()"
   ]
  },
  {
   "cell_type": "code",
   "execution_count": 245,
   "metadata": {},
   "outputs": [
    {
     "data": {
      "text/plain": [
       "numpy.float64"
      ]
     },
     "execution_count": 245,
     "metadata": {},
     "output_type": "execute_result"
    }
   ],
   "source": [
    "type(df['총중량'][0])"
   ]
  },
  {
   "cell_type": "code",
   "execution_count": 246,
   "metadata": {},
   "outputs": [
    {
     "data": {
      "text/plain": [
       "1"
      ]
     },
     "execution_count": 246,
     "metadata": {},
     "output_type": "execute_result"
    }
   ],
   "source": [
    "df['총중량'].isnull().sum()"
   ]
  },
  {
   "cell_type": "code",
   "execution_count": 249,
   "metadata": {},
   "outputs": [],
   "source": [
    "df['총중량'] = df['총중량'].fillna(-1)"
   ]
  },
  {
   "cell_type": "code",
   "execution_count": 250,
   "metadata": {},
   "outputs": [
    {
     "data": {
      "text/plain": [
       "0"
      ]
     },
     "execution_count": 250,
     "metadata": {},
     "output_type": "execute_result"
    }
   ],
   "source": [
    "df['총중량'].isnull().sum()"
   ]
  },
  {
   "cell_type": "code",
   "execution_count": 251,
   "metadata": {},
   "outputs": [
    {
     "name": "stderr",
     "output_type": "stream",
     "text": [
      "1528586it [00:01, 1030027.78it/s]\n"
     ]
    }
   ],
   "source": [
    "weight_list = []\n",
    "for i, one in tqdm(enumerate(df['총중량'])):\n",
    "    if one == -1:\n",
    "        weight_list.append('미기입')\n",
    "    elif one < 1500:\n",
    "        weight_list.append('1.5ton 미만')\n",
    "    elif one >= 1500 and one < 2000:\n",
    "        weight_list.append('1.5ton 이상 2.0ton 미만')\n",
    "    elif one >= 2000 and one < 2500:\n",
    "        weight_list.append('2.0ton 이상 2.5ton 미만')\n",
    "    elif one >= 2500 and one < 3000:\n",
    "        weight_list.append('2.5ton 이상 3.0ton 미만')\n",
    "    elif one >= 3000 and one < 3500:\n",
    "        weight_list.append('3.0ton 이상 3.5ton 미만')\n",
    "    elif one >= 3500 and one < 4000:\n",
    "        weight_list.append('3.5ton 이상 4.0ton 미만')\n",
    "    elif one >= 4000 and one < 4500:\n",
    "        weight_list.append('4.0ton 이상 4.5ton 미만')\n",
    "    elif one >= 4500 and one < 5000:\n",
    "        weight_list.append('4.5ton 이상 5.0ton 미만')\n",
    "    elif one >= 5000 and one < 5500:\n",
    "        weight_list.append('5.0ton 이상 5.5ton 미만')\n",
    "    elif one >= 5500 and one < 6000:\n",
    "        weight_list.append('4.0ton 이상 4.5ton 미만')\n",
    "    elif one >= 6000 and one < 6500:\n",
    "        weight_list.append('6.0ton 이상 6.5ton 미만')\n",
    "    elif one >= 6500 and one < 7000:\n",
    "        weight_list.append('6.5ton 이상 7.0ton 미만')\n",
    "    elif one >= 7000 and one < 7500:\n",
    "        weight_list.append('7.0ton 이상 7.5ton 미만')\n",
    "    elif one >= 7500 and one < 8000:\n",
    "        weight_list.append('7.5ton 이상 8.0ton 미만')\n",
    "    elif one >= 8000 and one < 8500:\n",
    "        weight_list.append('8.0ton 이상 8.5ton 미만')\n",
    "    elif one >= 8500 and one < 9000:\n",
    "        weight_list.append('8.5ton 이상 9.0ton 미만')\n",
    "    elif one >= 9000 and one < 9500:\n",
    "        weight_list.append('9.0ton 이상 9.5ton 미만')\n",
    "    elif one >= 9500 and one < 10000:\n",
    "        weight_list.append('9.5ton 이상 10.0ton 미만')\n",
    "    elif one >= 10000:\n",
    "        weight_list.append('10.0ton 이상')"
   ]
  },
  {
   "cell_type": "code",
   "execution_count": 252,
   "metadata": {},
   "outputs": [
    {
     "data": {
      "text/plain": [
       "1528586"
      ]
     },
     "execution_count": 252,
     "metadata": {},
     "output_type": "execute_result"
    }
   ],
   "source": [
    "len(weight_list)"
   ]
  },
  {
   "cell_type": "code",
   "execution_count": 253,
   "metadata": {},
   "outputs": [],
   "source": [
    "df['총중량_분류'] = weight_list"
   ]
  },
  {
   "cell_type": "code",
   "execution_count": 255,
   "metadata": {},
   "outputs": [
    {
     "data": {
      "text/html": [
       "<div>\n",
       "<style scoped>\n",
       "    .dataframe tbody tr th:only-of-type {\n",
       "        vertical-align: middle;\n",
       "    }\n",
       "\n",
       "    .dataframe tbody tr th {\n",
       "        vertical-align: top;\n",
       "    }\n",
       "\n",
       "    .dataframe thead th {\n",
       "        text-align: right;\n",
       "    }\n",
       "</style>\n",
       "<table border=\"1\" class=\"dataframe\">\n",
       "  <thead>\n",
       "    <tr style=\"text-align: right;\">\n",
       "      <th></th>\n",
       "      <th>총중량_분류</th>\n",
       "      <th>차대번호</th>\n",
       "    </tr>\n",
       "  </thead>\n",
       "  <tbody>\n",
       "    <tr>\n",
       "      <th>0</th>\n",
       "      <td>1.5ton 미만</td>\n",
       "      <td>198432</td>\n",
       "    </tr>\n",
       "    <tr>\n",
       "      <th>1</th>\n",
       "      <td>1.5ton 이상 2.0ton 미만</td>\n",
       "      <td>331013</td>\n",
       "    </tr>\n",
       "    <tr>\n",
       "      <th>2</th>\n",
       "      <td>10.0ton 이상</td>\n",
       "      <td>30469</td>\n",
       "    </tr>\n",
       "    <tr>\n",
       "      <th>3</th>\n",
       "      <td>2.0ton 이상 2.5ton 미만</td>\n",
       "      <td>240260</td>\n",
       "    </tr>\n",
       "    <tr>\n",
       "      <th>4</th>\n",
       "      <td>2.5ton 이상 3.0ton 미만</td>\n",
       "      <td>436565</td>\n",
       "    </tr>\n",
       "    <tr>\n",
       "      <th>5</th>\n",
       "      <td>3.0ton 이상 3.5ton 미만</td>\n",
       "      <td>262435</td>\n",
       "    </tr>\n",
       "    <tr>\n",
       "      <th>6</th>\n",
       "      <td>3.5ton 이상 4.0ton 미만</td>\n",
       "      <td>135</td>\n",
       "    </tr>\n",
       "    <tr>\n",
       "      <th>7</th>\n",
       "      <td>4.0ton 이상 4.5ton 미만</td>\n",
       "      <td>13997</td>\n",
       "    </tr>\n",
       "    <tr>\n",
       "      <th>8</th>\n",
       "      <td>4.5ton 이상 5.0ton 미만</td>\n",
       "      <td>23</td>\n",
       "    </tr>\n",
       "    <tr>\n",
       "      <th>9</th>\n",
       "      <td>5.0ton 이상 5.5ton 미만</td>\n",
       "      <td>891</td>\n",
       "    </tr>\n",
       "    <tr>\n",
       "      <th>10</th>\n",
       "      <td>6.0ton 이상 6.5ton 미만</td>\n",
       "      <td>3076</td>\n",
       "    </tr>\n",
       "    <tr>\n",
       "      <th>11</th>\n",
       "      <td>6.5ton 이상 7.0ton 미만</td>\n",
       "      <td>322</td>\n",
       "    </tr>\n",
       "    <tr>\n",
       "      <th>12</th>\n",
       "      <td>7.0ton 이상 7.5ton 미만</td>\n",
       "      <td>7368</td>\n",
       "    </tr>\n",
       "    <tr>\n",
       "      <th>13</th>\n",
       "      <td>7.5ton 이상 8.0ton 미만</td>\n",
       "      <td>194</td>\n",
       "    </tr>\n",
       "    <tr>\n",
       "      <th>14</th>\n",
       "      <td>8.0ton 이상 8.5ton 미만</td>\n",
       "      <td>65</td>\n",
       "    </tr>\n",
       "    <tr>\n",
       "      <th>15</th>\n",
       "      <td>8.5ton 이상 9.0ton 미만</td>\n",
       "      <td>44</td>\n",
       "    </tr>\n",
       "    <tr>\n",
       "      <th>16</th>\n",
       "      <td>9.0ton 이상 9.5ton 미만</td>\n",
       "      <td>134</td>\n",
       "    </tr>\n",
       "    <tr>\n",
       "      <th>17</th>\n",
       "      <td>9.5ton 이상 10.0ton 미만</td>\n",
       "      <td>3162</td>\n",
       "    </tr>\n",
       "    <tr>\n",
       "      <th>18</th>\n",
       "      <td>미기입</td>\n",
       "      <td>1</td>\n",
       "    </tr>\n",
       "  </tbody>\n",
       "</table>\n",
       "</div>"
      ],
      "text/plain": [
       "                  총중량_분류    차대번호\n",
       "0              1.5ton 미만  198432\n",
       "1    1.5ton 이상 2.0ton 미만  331013\n",
       "2             10.0ton 이상   30469\n",
       "3    2.0ton 이상 2.5ton 미만  240260\n",
       "4    2.5ton 이상 3.0ton 미만  436565\n",
       "5    3.0ton 이상 3.5ton 미만  262435\n",
       "6    3.5ton 이상 4.0ton 미만     135\n",
       "7    4.0ton 이상 4.5ton 미만   13997\n",
       "8    4.5ton 이상 5.0ton 미만      23\n",
       "9    5.0ton 이상 5.5ton 미만     891\n",
       "10   6.0ton 이상 6.5ton 미만    3076\n",
       "11   6.5ton 이상 7.0ton 미만     322\n",
       "12   7.0ton 이상 7.5ton 미만    7368\n",
       "13   7.5ton 이상 8.0ton 미만     194\n",
       "14   8.0ton 이상 8.5ton 미만      65\n",
       "15   8.5ton 이상 9.0ton 미만      44\n",
       "16   9.0ton 이상 9.5ton 미만     134\n",
       "17  9.5ton 이상 10.0ton 미만    3162\n",
       "18                   미기입       1"
      ]
     },
     "execution_count": 255,
     "metadata": {},
     "output_type": "execute_result"
    }
   ],
   "source": [
    "total_weight_df = df.groupby('총중량_분류')['차대번호'].count().reset_index()\n",
    "total_weight_df"
   ]
  },
  {
   "cell_type": "code",
   "execution_count": 256,
   "metadata": {},
   "outputs": [],
   "source": [
    "total_weight_df.to_excel('analysis/[G4][총중량]분류_통계.xlsx', encoding='utf-8')"
   ]
  },
  {
   "attachments": {},
   "cell_type": "markdown",
   "metadata": {},
   "source": [
    "## 배기량으로 분류 현황"
   ]
  },
  {
   "cell_type": "code",
   "execution_count": 257,
   "metadata": {},
   "outputs": [
    {
     "data": {
      "text/plain": [
       "2497.0     412725\n",
       "1991.0     245078\n",
       "2902.0     139727\n",
       "2959.0      75053\n",
       "1995.0      68705\n",
       "            ...  \n",
       "4701.0          1\n",
       "3803.0          1\n",
       "5958.0          1\n",
       "15607.0         1\n",
       "12412.0         1\n",
       "Name: 배기량, Length: 627, dtype: int64"
      ]
     },
     "execution_count": 257,
     "metadata": {},
     "output_type": "execute_result"
    }
   ],
   "source": [
    "df['배기량'].value_counts()"
   ]
  },
  {
   "cell_type": "code",
   "execution_count": 258,
   "metadata": {},
   "outputs": [
    {
     "data": {
      "text/plain": [
       "4"
      ]
     },
     "execution_count": 258,
     "metadata": {},
     "output_type": "execute_result"
    }
   ],
   "source": [
    "df['배기량'].isnull().sum()"
   ]
  },
  {
   "cell_type": "code",
   "execution_count": 259,
   "metadata": {},
   "outputs": [],
   "source": [
    "df['배기량'] = df['배기량'].fillna(-1)"
   ]
  },
  {
   "cell_type": "code",
   "execution_count": 260,
   "metadata": {},
   "outputs": [
    {
     "name": "stderr",
     "output_type": "stream",
     "text": [
      "1528586it [00:01, 960266.45it/s]\n"
     ]
    }
   ],
   "source": [
    "gas_volume_list = []\n",
    "for i, one in tqdm(enumerate(df['배기량'])):\n",
    "    if one == -1:\n",
    "        gas_volume_list.append('미기입')\n",
    "    elif one < 800:\n",
    "        gas_volume_list.append('0.8L 미만')\n",
    "    elif one >= 800 and one < 1000:\n",
    "        gas_volume_list.append('0.8L 이상 1.0L 미만')\n",
    "    elif one >= 1000 and one < 1600:\n",
    "        gas_volume_list.append('1.0L 이상 1.6L 미만')\n",
    "    elif one >= 1600 and one < 2000:\n",
    "        gas_volume_list.append('1.6L 이상 2.0L 미만')\n",
    "    elif one >= 2000 and one < 3000:\n",
    "        gas_volume_list.append('2.0L 이상 3.0L 미만')\n",
    "    elif one >= 3000 and one < 4000:\n",
    "        gas_volume_list.append('3.0L 이상 4.0L 미만')\n",
    "    elif one >= 4000 and one < 5000:\n",
    "        gas_volume_list.append('4.0L 이상 5.0L 미만')\n",
    "    elif one >= 5000 and one < 6000:\n",
    "        gas_volume_list.append('5.0L 이상 6.0L 미만')\n",
    "    elif one >= 6000 and one < 8000:\n",
    "        gas_volume_list.append('6.0L 이상 8.0L 미만')\n",
    "    elif one >= 8000 and one < 10000:\n",
    "        gas_volume_list.append('8.0L 이상 10.0L 미만')\n",
    "    elif one >= 10000:\n",
    "        gas_volume_list.append('10.0L 이상')"
   ]
  },
  {
   "cell_type": "code",
   "execution_count": 261,
   "metadata": {},
   "outputs": [
    {
     "data": {
      "text/plain": [
       "1528586"
      ]
     },
     "execution_count": 261,
     "metadata": {},
     "output_type": "execute_result"
    }
   ],
   "source": [
    "len(gas_volume_list)"
   ]
  },
  {
   "cell_type": "code",
   "execution_count": 262,
   "metadata": {},
   "outputs": [],
   "source": [
    "df['배기량_분류'] = gas_volume_list"
   ]
  },
  {
   "cell_type": "code",
   "execution_count": 264,
   "metadata": {},
   "outputs": [
    {
     "data": {
      "text/html": [
       "<div>\n",
       "<style scoped>\n",
       "    .dataframe tbody tr th:only-of-type {\n",
       "        vertical-align: middle;\n",
       "    }\n",
       "\n",
       "    .dataframe tbody tr th {\n",
       "        vertical-align: top;\n",
       "    }\n",
       "\n",
       "    .dataframe thead th {\n",
       "        text-align: right;\n",
       "    }\n",
       "</style>\n",
       "<table border=\"1\" class=\"dataframe\">\n",
       "  <thead>\n",
       "    <tr style=\"text-align: right;\">\n",
       "      <th></th>\n",
       "      <th>배기량_분류</th>\n",
       "      <th>차대번호</th>\n",
       "    </tr>\n",
       "  </thead>\n",
       "  <tbody>\n",
       "    <tr>\n",
       "      <th>0</th>\n",
       "      <td>0.8L 미만</td>\n",
       "      <td>28674</td>\n",
       "    </tr>\n",
       "    <tr>\n",
       "      <th>1</th>\n",
       "      <td>0.8L 이상 1.0L 미만</td>\n",
       "      <td>171</td>\n",
       "    </tr>\n",
       "    <tr>\n",
       "      <th>2</th>\n",
       "      <td>1.0L 이상 1.6L 미만</td>\n",
       "      <td>165914</td>\n",
       "    </tr>\n",
       "    <tr>\n",
       "      <th>3</th>\n",
       "      <td>1.6L 이상 2.0L 미만</td>\n",
       "      <td>510894</td>\n",
       "    </tr>\n",
       "    <tr>\n",
       "      <th>4</th>\n",
       "      <td>10.0L 이상</td>\n",
       "      <td>16847</td>\n",
       "    </tr>\n",
       "    <tr>\n",
       "      <th>5</th>\n",
       "      <td>2.0L 이상 3.0L 미만</td>\n",
       "      <td>755439</td>\n",
       "    </tr>\n",
       "    <tr>\n",
       "      <th>6</th>\n",
       "      <td>3.0L 이상 4.0L 미만</td>\n",
       "      <td>31434</td>\n",
       "    </tr>\n",
       "    <tr>\n",
       "      <th>7</th>\n",
       "      <td>4.0L 이상 5.0L 미만</td>\n",
       "      <td>1342</td>\n",
       "    </tr>\n",
       "    <tr>\n",
       "      <th>8</th>\n",
       "      <td>5.0L 이상 6.0L 미만</td>\n",
       "      <td>15493</td>\n",
       "    </tr>\n",
       "    <tr>\n",
       "      <th>9</th>\n",
       "      <td>6.0L 이상 8.0L 미만</td>\n",
       "      <td>711</td>\n",
       "    </tr>\n",
       "    <tr>\n",
       "      <th>10</th>\n",
       "      <td>8.0L 이상 10.0L 미만</td>\n",
       "      <td>1663</td>\n",
       "    </tr>\n",
       "    <tr>\n",
       "      <th>11</th>\n",
       "      <td>미기입</td>\n",
       "      <td>4</td>\n",
       "    </tr>\n",
       "  </tbody>\n",
       "</table>\n",
       "</div>"
      ],
      "text/plain": [
       "              배기량_분류    차대번호\n",
       "0            0.8L 미만   28674\n",
       "1    0.8L 이상 1.0L 미만     171\n",
       "2    1.0L 이상 1.6L 미만  165914\n",
       "3    1.6L 이상 2.0L 미만  510894\n",
       "4           10.0L 이상   16847\n",
       "5    2.0L 이상 3.0L 미만  755439\n",
       "6    3.0L 이상 4.0L 미만   31434\n",
       "7    4.0L 이상 5.0L 미만    1342\n",
       "8    5.0L 이상 6.0L 미만   15493\n",
       "9    6.0L 이상 8.0L 미만     711\n",
       "10  8.0L 이상 10.0L 미만    1663\n",
       "11               미기입       4"
      ]
     },
     "execution_count": 264,
     "metadata": {},
     "output_type": "execute_result"
    }
   ],
   "source": [
    "total_gas_volume_df = df.groupby(['배기량_분류'])['차대번호'].count().reset_index()\n",
    "total_gas_volume_df"
   ]
  },
  {
   "cell_type": "code",
   "execution_count": 265,
   "metadata": {},
   "outputs": [],
   "source": [
    "total_gas_volume_df.to_excel('analysis/[G4][배기량]분류_통계.xlsx', encoding='utf-8')"
   ]
  },
  {
   "attachments": {},
   "cell_type": "markdown",
   "metadata": {},
   "source": [
    "## 차대번호로 분류"
   ]
  },
  {
   "attachments": {},
   "cell_type": "markdown",
   "metadata": {},
   "source": [
    "### wmi 코드로 분류"
   ]
  },
  {
   "cell_type": "code",
   "execution_count": 269,
   "metadata": {},
   "outputs": [
    {
     "name": "stdout",
     "output_type": "stream",
     "text": [
      "<class 'pandas.core.frame.DataFrame'>\n",
      "RangeIndex: 690 entries, 0 to 689\n",
      "Data columns (total 8 columns):\n",
      " #   Column         Non-Null Count  Dtype  \n",
      "---  ------         --------------  -----  \n",
      " 0   WMI            690 non-null    object \n",
      " 1   MF CODE        690 non-null    object \n",
      " 2   Identifier     690 non-null    object \n",
      " 3   Manufacturer   690 non-null    object \n",
      " 4   Country        688 non-null    object \n",
      " 5   Vehicle Types  249 non-null    object \n",
      " 6   Description    54 non-null     object \n",
      " 7   참고             0 non-null      float64\n",
      "dtypes: float64(1), object(7)\n",
      "memory usage: 43.2+ KB\n"
     ]
    }
   ],
   "source": [
    "wmi = pd.read_excel('data/20190730_WMI CODE.xlsx', sheet_name='WMI CODE')\n",
    "wmi.info()"
   ]
  },
  {
   "cell_type": "code",
   "execution_count": 294,
   "metadata": {},
   "outputs": [],
   "source": [
    "df2 = df.copy()"
   ]
  },
  {
   "cell_type": "code",
   "execution_count": 295,
   "metadata": {},
   "outputs": [
    {
     "data": {
      "text/plain": [
       "0    KMFZCY7JBCU784032\n",
       "1    KMHJN81VP7U578447\n",
       "2    KPACE4AB1AP070600\n",
       "3    KMHNU81WP7U009391\n",
       "4    KMHDT41TP9U638425\n",
       "Name: 차대번호, dtype: object"
      ]
     },
     "execution_count": 295,
     "metadata": {},
     "output_type": "execute_result"
    }
   ],
   "source": [
    "df2['차대번호'].head()"
   ]
  },
  {
   "cell_type": "code",
   "execution_count": 296,
   "metadata": {},
   "outputs": [],
   "source": [
    "df2['wmi'] = df2['차대번호'].str[:3]"
   ]
  },
  {
   "cell_type": "code",
   "execution_count": 297,
   "metadata": {},
   "outputs": [
    {
     "data": {
      "text/plain": [
       "0    KMF\n",
       "1    KMH\n",
       "2    KPA\n",
       "3    KMH\n",
       "4    KMH\n",
       "Name: wmi, dtype: object"
      ]
     },
     "execution_count": 297,
     "metadata": {},
     "output_type": "execute_result"
    }
   ],
   "source": [
    "df2['wmi'].head()"
   ]
  },
  {
   "cell_type": "code",
   "execution_count": 298,
   "metadata": {},
   "outputs": [
    {
     "data": {
      "text/html": [
       "<div>\n",
       "<style scoped>\n",
       "    .dataframe tbody tr th:only-of-type {\n",
       "        vertical-align: middle;\n",
       "    }\n",
       "\n",
       "    .dataframe tbody tr th {\n",
       "        vertical-align: top;\n",
       "    }\n",
       "\n",
       "    .dataframe thead th {\n",
       "        text-align: right;\n",
       "    }\n",
       "</style>\n",
       "<table border=\"1\" class=\"dataframe\">\n",
       "  <thead>\n",
       "    <tr style=\"text-align: right;\">\n",
       "      <th></th>\n",
       "      <th>차대번호</th>\n",
       "      <th>wmi</th>\n",
       "      <th>WMI</th>\n",
       "    </tr>\n",
       "  </thead>\n",
       "  <tbody>\n",
       "    <tr>\n",
       "      <th>0</th>\n",
       "      <td>KMFZCY7JBCU784032</td>\n",
       "      <td>KMF</td>\n",
       "      <td>KMF</td>\n",
       "    </tr>\n",
       "    <tr>\n",
       "      <th>1</th>\n",
       "      <td>KMHJN81VP7U578447</td>\n",
       "      <td>KMH</td>\n",
       "      <td>KMH</td>\n",
       "    </tr>\n",
       "    <tr>\n",
       "      <th>2</th>\n",
       "      <td>KPACE4AB1AP070600</td>\n",
       "      <td>KPA</td>\n",
       "      <td>KPA</td>\n",
       "    </tr>\n",
       "    <tr>\n",
       "      <th>3</th>\n",
       "      <td>KMHNU81WP7U009391</td>\n",
       "      <td>KMH</td>\n",
       "      <td>KMH</td>\n",
       "    </tr>\n",
       "    <tr>\n",
       "      <th>4</th>\n",
       "      <td>KMHDT41TP9U638425</td>\n",
       "      <td>KMH</td>\n",
       "      <td>KMH</td>\n",
       "    </tr>\n",
       "  </tbody>\n",
       "</table>\n",
       "</div>"
      ],
      "text/plain": [
       "                차대번호  wmi  WMI\n",
       "0  KMFZCY7JBCU784032  KMF  KMF\n",
       "1  KMHJN81VP7U578447  KMH  KMH\n",
       "2  KPACE4AB1AP070600  KPA  KPA\n",
       "3  KMHNU81WP7U009391  KMH  KMH\n",
       "4  KMHDT41TP9U638425  KMH  KMH"
      ]
     },
     "execution_count": 298,
     "metadata": {},
     "output_type": "execute_result"
    }
   ],
   "source": [
    "df2 = df2.merge(wmi, left_on='wmi', right_on='WMI', how='left')\n",
    "df2[['차대번호', 'wmi', 'WMI']].head()"
   ]
  },
  {
   "cell_type": "code",
   "execution_count": 299,
   "metadata": {},
   "outputs": [
    {
     "data": {
      "text/plain": [
       "75234"
      ]
     },
     "execution_count": 299,
     "metadata": {},
     "output_type": "execute_result"
    }
   ],
   "source": [
    "df2['WMI'].isnull().sum()"
   ]
  },
  {
   "cell_type": "code",
   "execution_count": 300,
   "metadata": {},
   "outputs": [
    {
     "data": {
      "text/plain": [
       "75234"
      ]
     },
     "execution_count": 300,
     "metadata": {},
     "output_type": "execute_result"
    }
   ],
   "source": [
    "df2['Manufacturer'].isnull().sum()"
   ]
  },
  {
   "cell_type": "code",
   "execution_count": 301,
   "metadata": {},
   "outputs": [],
   "source": [
    "df2['Manufacturer'] = df2['Manufacturer'].fillna(-1)\n"
   ]
  },
  {
   "cell_type": "code",
   "execution_count": 302,
   "metadata": {},
   "outputs": [
    {
     "data": {
      "text/html": [
       "<div>\n",
       "<style scoped>\n",
       "    .dataframe tbody tr th:only-of-type {\n",
       "        vertical-align: middle;\n",
       "    }\n",
       "\n",
       "    .dataframe tbody tr th {\n",
       "        vertical-align: top;\n",
       "    }\n",
       "\n",
       "    .dataframe thead th {\n",
       "        text-align: right;\n",
       "    }\n",
       "</style>\n",
       "<table border=\"1\" class=\"dataframe\">\n",
       "  <thead>\n",
       "    <tr style=\"text-align: right;\">\n",
       "      <th></th>\n",
       "      <th>Manufacturer</th>\n",
       "      <th>차대번호</th>\n",
       "    </tr>\n",
       "  </thead>\n",
       "  <tbody>\n",
       "    <tr>\n",
       "      <th>0</th>\n",
       "      <td>-1</td>\n",
       "      <td>75234</td>\n",
       "    </tr>\n",
       "    <tr>\n",
       "      <th>1</th>\n",
       "      <td>Alfa Romeo</td>\n",
       "      <td>1</td>\n",
       "    </tr>\n",
       "    <tr>\n",
       "      <th>2</th>\n",
       "      <td>Audi</td>\n",
       "      <td>2106</td>\n",
       "    </tr>\n",
       "    <tr>\n",
       "      <th>3</th>\n",
       "      <td>Audi Hungary</td>\n",
       "      <td>1</td>\n",
       "    </tr>\n",
       "    <tr>\n",
       "      <th>4</th>\n",
       "      <td>Austin-Rover</td>\n",
       "      <td>83</td>\n",
       "    </tr>\n",
       "    <tr>\n",
       "      <th>...</th>\n",
       "      <td>...</td>\n",
       "      <td>...</td>\n",
       "    </tr>\n",
       "    <tr>\n",
       "      <th>101</th>\n",
       "      <td>Volvo Cars</td>\n",
       "      <td>3873</td>\n",
       "    </tr>\n",
       "    <tr>\n",
       "      <th>102</th>\n",
       "      <td>Volvo Trucks</td>\n",
       "      <td>2793</td>\n",
       "    </tr>\n",
       "    <tr>\n",
       "      <th>103</th>\n",
       "      <td>XLE Scania Netherlands</td>\n",
       "      <td>675</td>\n",
       "    </tr>\n",
       "    <tr>\n",
       "      <th>104</th>\n",
       "      <td>smart</td>\n",
       "      <td>3</td>\n",
       "    </tr>\n",
       "    <tr>\n",
       "      <th>105</th>\n",
       "      <td>국토부 부호</td>\n",
       "      <td>7292</td>\n",
       "    </tr>\n",
       "  </tbody>\n",
       "</table>\n",
       "<p>106 rows × 2 columns</p>\n",
       "</div>"
      ],
      "text/plain": [
       "               Manufacturer   차대번호\n",
       "0                        -1  75234\n",
       "1                Alfa Romeo      1\n",
       "2                      Audi   2106\n",
       "3              Audi Hungary      1\n",
       "4              Austin-Rover     83\n",
       "..                      ...    ...\n",
       "101              Volvo Cars   3873\n",
       "102            Volvo Trucks   2793\n",
       "103  XLE Scania Netherlands    675\n",
       "104                   smart      3\n",
       "105                  국토부 부호   7292\n",
       "\n",
       "[106 rows x 2 columns]"
      ]
     },
     "execution_count": 302,
     "metadata": {},
     "output_type": "execute_result"
    }
   ],
   "source": [
    "manu_df = df2.groupby('Manufacturer')['차대번호'].count().reset_index()\n",
    "manu_df"
   ]
  },
  {
   "cell_type": "code",
   "execution_count": 303,
   "metadata": {},
   "outputs": [
    {
     "data": {
      "text/html": [
       "<div>\n",
       "<style scoped>\n",
       "    .dataframe tbody tr th:only-of-type {\n",
       "        vertical-align: middle;\n",
       "    }\n",
       "\n",
       "    .dataframe tbody tr th {\n",
       "        vertical-align: top;\n",
       "    }\n",
       "\n",
       "    .dataframe thead th {\n",
       "        text-align: right;\n",
       "    }\n",
       "</style>\n",
       "<table border=\"1\" class=\"dataframe\">\n",
       "  <thead>\n",
       "    <tr style=\"text-align: right;\">\n",
       "      <th></th>\n",
       "      <th>Manufacturer</th>\n",
       "      <th>차대번호</th>\n",
       "    </tr>\n",
       "  </thead>\n",
       "  <tbody>\n",
       "    <tr>\n",
       "      <th>0</th>\n",
       "      <td>Hyundai</td>\n",
       "      <td>887094</td>\n",
       "    </tr>\n",
       "    <tr>\n",
       "      <th>1</th>\n",
       "      <td>Kia</td>\n",
       "      <td>358332</td>\n",
       "    </tr>\n",
       "    <tr>\n",
       "      <th>2</th>\n",
       "      <td>Daewoo General Motors South Korea</td>\n",
       "      <td>116241</td>\n",
       "    </tr>\n",
       "    <tr>\n",
       "      <th>3</th>\n",
       "      <td>-1</td>\n",
       "      <td>75234</td>\n",
       "    </tr>\n",
       "    <tr>\n",
       "      <th>4</th>\n",
       "      <td>SsangYong</td>\n",
       "      <td>31201</td>\n",
       "    </tr>\n",
       "    <tr>\n",
       "      <th>...</th>\n",
       "      <td>...</td>\n",
       "      <td>...</td>\n",
       "    </tr>\n",
       "    <tr>\n",
       "      <th>101</th>\n",
       "      <td>Honda</td>\n",
       "      <td>1</td>\n",
       "    </tr>\n",
       "    <tr>\n",
       "      <th>102</th>\n",
       "      <td>Mazda USA</td>\n",
       "      <td>1</td>\n",
       "    </tr>\n",
       "    <tr>\n",
       "      <th>103</th>\n",
       "      <td>Matra</td>\n",
       "      <td>1</td>\n",
       "    </tr>\n",
       "    <tr>\n",
       "      <th>104</th>\n",
       "      <td>Alfa Romeo</td>\n",
       "      <td>1</td>\n",
       "    </tr>\n",
       "    <tr>\n",
       "      <th>105</th>\n",
       "      <td>Freightliner</td>\n",
       "      <td>1</td>\n",
       "    </tr>\n",
       "  </tbody>\n",
       "</table>\n",
       "<p>106 rows × 2 columns</p>\n",
       "</div>"
      ],
      "text/plain": [
       "                          Manufacturer    차대번호\n",
       "0                              Hyundai  887094\n",
       "1                                  Kia  358332\n",
       "2    Daewoo General Motors South Korea  116241\n",
       "3                                   -1   75234\n",
       "4                            SsangYong   31201\n",
       "..                                 ...     ...\n",
       "101                              Honda       1\n",
       "102                          Mazda USA       1\n",
       "103                              Matra       1\n",
       "104                         Alfa Romeo       1\n",
       "105                       Freightliner       1\n",
       "\n",
       "[106 rows x 2 columns]"
      ]
     },
     "execution_count": 303,
     "metadata": {},
     "output_type": "execute_result"
    }
   ],
   "source": [
    "manu_df = manu_df.sort_values('차대번호', ascending=False).reset_index(drop=True)\n",
    "manu_df"
   ]
  },
  {
   "cell_type": "code",
   "execution_count": 304,
   "metadata": {},
   "outputs": [],
   "source": [
    "manu_df.to_excel('analysis/[G4][차대번호]제작사별_통계.xlsx', encoding='utf-8')"
   ]
  },
  {
   "attachments": {},
   "cell_type": "markdown",
   "metadata": {},
   "source": [
    "### 6\\. [e]차대번호"
   ]
  },
  {
   "cell_type": "code",
   "execution_count": null,
   "metadata": {},
   "outputs": [],
   "source": [
    "# - 오류\n",
    "#     - 1\\. null 값 : 0\n",
    "#     - 2\\. 정상(17자리, 영문 포함) : 1525955\n",
    "#     - 3\\. 17자리, 영문X : 1\n",
    "#     - 4\\. 17자리X, 영문 : 57\n",
    "#     - 5\\. 17자리X, 영문X : 2573"
   ]
  },
  {
   "cell_type": "code",
   "execution_count": 386,
   "metadata": {},
   "outputs": [
    {
     "name": "stdout",
     "output_type": "stream",
     "text": [
      "<class 'pandas.core.frame.DataFrame'>\n",
      "Int64Index: 1528586 entries, 0 to 1528585\n",
      "Data columns (total 54 columns):\n",
      " #   Column         Non-Null Count    Dtype  \n",
      "---  ------         --------------    -----  \n",
      " 0   차량관리번호         1528586 non-null  object \n",
      " 1   차량등록번호         1528586 non-null  object \n",
      " 2   본거지법정동코드       1528586 non-null  int64  \n",
      " 3   소유자구분          1528586 non-null  object \n",
      " 4   차종_등록정보        1528584 non-null  object \n",
      " 5   용도             1528586 non-null  object \n",
      " 6   차대번호           1528586 non-null  object \n",
      " 7   최초등록일자         1528586 non-null  int64  \n",
      " 8   차량연식           1528586 non-null  int64  \n",
      " 9   차량제작일자         1358925 non-null  float64\n",
      " 10  검사유효일          1528574 non-null  float64\n",
      " 11  제원관리번호         1528586 non-null  object \n",
      " 12  배출가스인증번호       1405585 non-null  object \n",
      " 13  배출가스등급         1528586 non-null  int64  \n",
      " 14  저공해조치종류        195 non-null      object \n",
      " 15  저공해조치구조변경YN    1528586 non-null  object \n",
      " 16  차량말소YN         1528586 non-null  object \n",
      " 17  취득일자           1435514 non-null  object \n",
      " 18  취득금액           1453613 non-null  float64\n",
      " 19  차명             1528586 non-null  object \n",
      " 20  차종_제원정보        1528586 non-null  object \n",
      " 21  차종분류           1528586 non-null  object \n",
      " 22  차종유형           1528586 non-null  object \n",
      " 23  자동차형식          1528302 non-null  object \n",
      " 24  제작사명           1518694 non-null  object \n",
      " 25  연료             1528586 non-null  object \n",
      " 26  엔진형식           1526740 non-null  object \n",
      " 27  총중량            1528586 non-null  float64\n",
      " 28  적재중량           1528075 non-null  float64\n",
      " 29  엔진출력           1528227 non-null  object \n",
      " 30  배기량            1528586 non-null  float64\n",
      " 31  승차인원           1528586 non-null  int64  \n",
      " 32  차량길이           1528585 non-null  float64\n",
      " 33  차량너비           1528585 non-null  float64\n",
      " 34  차량높이           1528583 non-null  float64\n",
      " 35  원산지명           1509499 non-null  object \n",
      " 36  삭제YN           1528586 non-null  object \n",
      " 37  제원승인일자         1528155 non-null  object \n",
      " 38  구동형식           41 non-null       object \n",
      " 39  변속기종류          1528426 non-null  object \n",
      " 40  지역코드           1528586 non-null  int32  \n",
      " 41  ad1            1528586 non-null  object \n",
      " 42  code1          1528586 non-null  int64  \n",
      " 43  총중량_분류         1528586 non-null  object \n",
      " 44  배기량_분류         1528586 non-null  object \n",
      " 45  wmi            1528586 non-null  object \n",
      " 46  WMI            1453352 non-null  object \n",
      " 47  MF CODE        1453352 non-null  object \n",
      " 48  Identifier     1453352 non-null  object \n",
      " 49  Manufacturer   1528586 non-null  object \n",
      " 50  Country        1422151 non-null  object \n",
      " 51  Vehicle Types  1258301 non-null  object \n",
      " 52  Description    1221 non-null     object \n",
      " 53  참고             0 non-null        float64\n",
      "dtypes: float64(10), int32(1), int64(6), object(37)\n",
      "memory usage: 635.6+ MB\n"
     ]
    }
   ],
   "source": [
    "df2.info()"
   ]
  },
  {
   "cell_type": "code",
   "execution_count": 387,
   "metadata": {},
   "outputs": [
    {
     "data": {
      "text/plain": [
       "0"
      ]
     },
     "execution_count": 387,
     "metadata": {},
     "output_type": "execute_result"
    }
   ],
   "source": [
    "df2['차대번호'].isnull().sum()"
   ]
  },
  {
   "cell_type": "code",
   "execution_count": null,
   "metadata": {},
   "outputs": [
    {
     "data": {
      "text/plain": [
       "17"
      ]
     },
     "metadata": {},
     "output_type": "display_data"
    }
   ],
   "source": [
    "len('KMFZCY7JBCU784032')"
   ]
  },
  {
   "cell_type": "markdown",
   "metadata": {},
   "source": [
    "#### 차대번호 정상 확인"
   ]
  },
  {
   "cell_type": "code",
   "execution_count": 389,
   "metadata": {},
   "outputs": [
    {
     "name": "stderr",
     "output_type": "stream",
     "text": [
      "1528586it [00:02, 715477.40it/s]\n"
     ]
    },
    {
     "data": {
      "text/plain": [
       "1525955"
      ]
     },
     "execution_count": 389,
     "metadata": {},
     "output_type": "execute_result"
    }
   ],
   "source": [
    "# 17자리, 영문 -> 정상 : 1525955\n",
    "count = 0\n",
    "p61 = re.compile('[a-zA-Z]+')\n",
    "idx61 = []\n",
    "for i, one in tqdm(enumerate(df2.iloc[:, 6].to_numpy())):\n",
    "    if len(str(one)) == 17 and p61.search(str(one)):\n",
    "        idx61.append(i)\n",
    "        count += 1\n",
    "count"
   ]
  },
  {
   "cell_type": "code",
   "execution_count": 390,
   "metadata": {},
   "outputs": [
    {
     "name": "stderr",
     "output_type": "stream",
     "text": [
      "1525955it [00:00, 2098635.25it/s]\n"
     ]
    },
    {
     "data": {
      "text/plain": [
       "1018"
      ]
     },
     "execution_count": 390,
     "metadata": {},
     "output_type": "execute_result"
    }
   ],
   "source": [
    "# 정상에서 \"I, O, Q\" 포함한 값 : 1018\n",
    "temp61 = df2.iloc[idx61, 6].to_numpy()\n",
    "idx61_1 = []\n",
    "for i, one in tqdm(enumerate(temp61)):\n",
    "    if ('I' in one) or ('O' in one) or ('Q' in one):\n",
    "        idx61_1.append(idx61[i])\n",
    "len(idx61_1)"
   ]
  },
  {
   "cell_type": "code",
   "execution_count": 391,
   "metadata": {},
   "outputs": [
    {
     "data": {
      "text/plain": [
       "711     WFOFXXGBBVTS14067\n",
       "4089    IMECM53U7LA639275\n",
       "4306    KNFSEOD428K331451\n",
       "7352    IMECM53UXLA639285\n",
       "8869    IMECM53U4LA619808\n",
       "Name: 차대번호, dtype: object"
      ]
     },
     "execution_count": 391,
     "metadata": {},
     "output_type": "execute_result"
    }
   ],
   "source": [
    "df2.iloc[idx61_1, 6][:5]"
   ]
  },
  {
   "cell_type": "code",
   "execution_count": 392,
   "metadata": {},
   "outputs": [
    {
     "name": "stderr",
     "output_type": "stream",
     "text": [
      "1528586it [00:12, 127145.87it/s]\n"
     ]
    },
    {
     "data": {
      "text/plain": [
       "1"
      ]
     },
     "execution_count": 392,
     "metadata": {},
     "output_type": "execute_result"
    }
   ],
   "source": [
    "# 17자리, 영문X  => 숫자만 : 1\n",
    "count = 0\n",
    "p62 = re.compile('[a-zA-Z]+')\n",
    "idx62 = []\n",
    "for i, one in tqdm(enumerate(df2.iloc[:, 6].to_numpy())):\n",
    "    n = 0\n",
    "    for j in str(one):\n",
    "        if p62.search(j):\n",
    "            n += 1\n",
    "    if len(str(one)) == 17 and n == 0:\n",
    "        idx62.append(i)\n",
    "        count += 1\n",
    "count"
   ]
  },
  {
   "cell_type": "code",
   "execution_count": 393,
   "metadata": {},
   "outputs": [
    {
     "data": {
      "text/plain": [
       "708259    01901321371111111\n",
       "Name: 차대번호, dtype: object"
      ]
     },
     "execution_count": 393,
     "metadata": {},
     "output_type": "execute_result"
    }
   ],
   "source": [
    "df2.iloc[:, 6].reindex(idx62)"
   ]
  },
  {
   "cell_type": "code",
   "execution_count": 394,
   "metadata": {},
   "outputs": [
    {
     "name": "stderr",
     "output_type": "stream",
     "text": [
      "1528586it [00:00, 1764494.52it/s]\n"
     ]
    },
    {
     "data": {
      "text/plain": [
       "57"
      ]
     },
     "execution_count": 394,
     "metadata": {},
     "output_type": "execute_result"
    }
   ],
   "source": [
    "# 17자리 X, 영문 : 57\n",
    "count = 0\n",
    "p63 = re.compile('[a-zA-Z]+')\n",
    "idx63 = []\n",
    "for i, one in tqdm(enumerate(df2.iloc[:, 6].to_numpy())):\n",
    "    if len(str(one)) != 17 and p63.search(one):\n",
    "        idx63.append(i)\n",
    "        count += 1\n",
    "count"
   ]
  },
  {
   "cell_type": "code",
   "execution_count": 395,
   "metadata": {},
   "outputs": [
    {
     "data": {
      "text/plain": [
       "34589         SL68T032460\n",
       "69588         RPS13330414\n",
       "71114        CN-62-T-2213\n",
       "91950         KPY30051283\n",
       "96602    KNADA2322HS00898\n",
       "Name: 차대번호, dtype: object"
      ]
     },
     "execution_count": 395,
     "metadata": {},
     "output_type": "execute_result"
    }
   ],
   "source": [
    "df2.iloc[:, 6].reindex(idx63)[:5]"
   ]
  },
  {
   "cell_type": "code",
   "execution_count": 396,
   "metadata": {},
   "outputs": [
    {
     "name": "stderr",
     "output_type": "stream",
     "text": [
      "1528586it [00:11, 129636.60it/s]\n"
     ]
    },
    {
     "data": {
      "text/plain": [
       "2573"
      ]
     },
     "execution_count": 396,
     "metadata": {},
     "output_type": "execute_result"
    }
   ],
   "source": [
    "# 17자리 X, 영문X : 2573\n",
    "count = 0\n",
    "p64 = re.compile('[a-zA-Z]+')\n",
    "idx64 = []\n",
    "for i, one in tqdm(enumerate(df2.iloc[:, 6].to_numpy())):\n",
    "    n = 0\n",
    "    for j in one:\n",
    "        if p64.search(j):\n",
    "            n += 1\n",
    "    if len(str(one)) != 17 and n == 0:\n",
    "        idx64.append(i)\n",
    "        count += 1\n",
    "count"
   ]
  },
  {
   "cell_type": "code",
   "execution_count": 397,
   "metadata": {},
   "outputs": [
    {
     "data": {
      "text/plain": [
       "429       119811326107\n",
       "692     27931130152305\n",
       "1320      119111327184\n",
       "1475      119811229792\n",
       "1544      219211301625\n",
       "Name: 차대번호, dtype: object"
      ]
     },
     "execution_count": 397,
     "metadata": {},
     "output_type": "execute_result"
    }
   ],
   "source": [
    "df2.iloc[:, 6].reindex(idx64)[:5]"
   ]
  },
  {
   "cell_type": "code",
   "execution_count": 398,
   "metadata": {},
   "outputs": [
    {
     "name": "stderr",
     "output_type": "stream",
     "text": [
      "1528586it [00:01, 1494757.53it/s]\n"
     ]
    },
    {
     "data": {
      "text/plain": [
       "{10, 11, 12, 13, 14, 15, 16, 17}"
      ]
     },
     "execution_count": 398,
     "metadata": {},
     "output_type": "execute_result"
    }
   ],
   "source": [
    "# 차대번호 길이 종류 확인\n",
    "len_vin = []\n",
    "for i, one in tqdm(enumerate(df2.iloc[:, 6].to_numpy())):\n",
    "    len_vin.append(len(str(one)))\n",
    "set(len_vin)"
   ]
  },
  {
   "cell_type": "code",
   "execution_count": 399,
   "metadata": {},
   "outputs": [],
   "source": [
    "df2['VIN_length'] = [ len(one) for one in df2['차대번호'] ]"
   ]
  },
  {
   "cell_type": "code",
   "execution_count": 400,
   "metadata": {},
   "outputs": [
    {
     "data": {
      "text/plain": [
       "array([17, 12, 14, 13, 11, 15, 16, 10], dtype=int64)"
      ]
     },
     "execution_count": 400,
     "metadata": {},
     "output_type": "execute_result"
    }
   ],
   "source": [
    "df2['VIN_length'].unique()"
   ]
  },
  {
   "cell_type": "code",
   "execution_count": 401,
   "metadata": {},
   "outputs": [],
   "source": [
    "IOQ = []\n",
    "for one in df2['차대번호']:\n",
    "    if ('I' in one) or ('O' in one) or ('Q' in one):\n",
    "        IOQ.append('Y')\n",
    "    else:\n",
    "        IOQ.append('N')\n",
    "df2['IOQ'] = IOQ"
   ]
  },
  {
   "cell_type": "code",
   "execution_count": 402,
   "metadata": {},
   "outputs": [
    {
     "data": {
      "text/plain": [
       "array(['N', 'Y'], dtype=object)"
      ]
     },
     "execution_count": 402,
     "metadata": {},
     "output_type": "execute_result"
    }
   ],
   "source": [
    "df2['IOQ'].unique()"
   ]
  },
  {
   "cell_type": "code",
   "execution_count": 403,
   "metadata": {},
   "outputs": [
    {
     "name": "stderr",
     "output_type": "stream",
     "text": [
      "1528586it [00:11, 127680.42it/s]\n"
     ]
    },
    {
     "data": {
      "text/plain": [
       "2574"
      ]
     },
     "execution_count": 403,
     "metadata": {},
     "output_type": "execute_result"
    }
   ],
   "source": [
    "# 알파벳 포함\n",
    "included_alpha = []\n",
    "count = 0\n",
    "p65 = re.compile('[a-zA-Z]+')\n",
    "for i, one in tqdm(enumerate(df2.iloc[:, 6].to_numpy())):\n",
    "    n = 0\n",
    "    for j in one:\n",
    "        if p65.search(j):\n",
    "            n += 1\n",
    "    if n == 0:\n",
    "        included_alpha.append('N')\n",
    "        count += 1\n",
    "    else:\n",
    "        included_alpha.append('Y')\n",
    "count"
   ]
  },
  {
   "cell_type": "code",
   "execution_count": 404,
   "metadata": {},
   "outputs": [],
   "source": [
    "df2['alpha'] = included_alpha"
   ]
  },
  {
   "cell_type": "code",
   "execution_count": 405,
   "metadata": {},
   "outputs": [
    {
     "data": {
      "text/plain": [
       "VIN_length  alpha  IOQ\n",
       "10          N      N            1\n",
       "            Y      N            3\n",
       "11          N      N          209\n",
       "            Y      N            7\n",
       "12          N      N         2132\n",
       "            Y      N            2\n",
       "13          N      N          154\n",
       "            Y      N            3\n",
       "14          N      N           22\n",
       "15          N      N           38\n",
       "            Y      N            2\n",
       "                   Y            1\n",
       "16          N      N           17\n",
       "            Y      N           39\n",
       "17          N      N            1\n",
       "            Y      N      1524937\n",
       "                   Y         1018\n",
       "Name: 차대번호, dtype: int64"
      ]
     },
     "execution_count": 405,
     "metadata": {},
     "output_type": "execute_result"
    }
   ],
   "source": [
    "df2.groupby(['VIN_length', 'alpha', 'IOQ'])['차대번호'].count()"
   ]
  },
  {
   "cell_type": "code",
   "execution_count": 406,
   "metadata": {},
   "outputs": [
    {
     "data": {
      "text/plain": [
       "VIN_length  IOQ\n",
       "10          N            4\n",
       "11          N          216\n",
       "12          N         2134\n",
       "13          N          157\n",
       "14          N           22\n",
       "15          N           40\n",
       "            Y            1\n",
       "16          N           56\n",
       "17          N      1524938\n",
       "            Y         1018\n",
       "Name: 차대번호, dtype: int64"
      ]
     },
     "execution_count": 406,
     "metadata": {},
     "output_type": "execute_result"
    }
   ],
   "source": [
    "df2.groupby(['VIN_length', 'IOQ'])['차대번호'].count()"
   ]
  },
  {
   "cell_type": "code",
   "execution_count": 407,
   "metadata": {},
   "outputs": [],
   "source": [
    "V_I_dict = df2.groupby(['VIN_length', 'IOQ'])['차대번호'].groups"
   ]
  },
  {
   "cell_type": "code",
   "execution_count": 408,
   "metadata": {},
   "outputs": [
    {
     "data": {
      "text/plain": [
       "dict_keys([(10, 'N'), (11, 'N'), (12, 'N'), (13, 'N'), (14, 'N'), (15, 'N'), (15, 'Y'), (16, 'N'), (17, 'N'), (17, 'Y')])"
      ]
     },
     "execution_count": 408,
     "metadata": {},
     "output_type": "execute_result"
    }
   ],
   "source": [
    "V_I_dict.keys()"
   ]
  },
  {
   "cell_type": "code",
   "execution_count": 409,
   "metadata": {},
   "outputs": [
    {
     "data": {
      "text/html": [
       "<div>\n",
       "<style scoped>\n",
       "    .dataframe tbody tr th:only-of-type {\n",
       "        vertical-align: middle;\n",
       "    }\n",
       "\n",
       "    .dataframe tbody tr th {\n",
       "        vertical-align: top;\n",
       "    }\n",
       "\n",
       "    .dataframe thead th {\n",
       "        text-align: right;\n",
       "    }\n",
       "</style>\n",
       "<table border=\"1\" class=\"dataframe\">\n",
       "  <thead>\n",
       "    <tr style=\"text-align: right;\">\n",
       "      <th></th>\n",
       "      <th>VIN_length</th>\n",
       "      <th>IOQ</th>\n",
       "      <th>차대번호</th>\n",
       "    </tr>\n",
       "  </thead>\n",
       "  <tbody>\n",
       "    <tr>\n",
       "      <th>0</th>\n",
       "      <td>10</td>\n",
       "      <td>N</td>\n",
       "      <td>4</td>\n",
       "    </tr>\n",
       "    <tr>\n",
       "      <th>1</th>\n",
       "      <td>11</td>\n",
       "      <td>N</td>\n",
       "      <td>216</td>\n",
       "    </tr>\n",
       "    <tr>\n",
       "      <th>2</th>\n",
       "      <td>12</td>\n",
       "      <td>N</td>\n",
       "      <td>2134</td>\n",
       "    </tr>\n",
       "    <tr>\n",
       "      <th>3</th>\n",
       "      <td>13</td>\n",
       "      <td>N</td>\n",
       "      <td>157</td>\n",
       "    </tr>\n",
       "    <tr>\n",
       "      <th>4</th>\n",
       "      <td>14</td>\n",
       "      <td>N</td>\n",
       "      <td>22</td>\n",
       "    </tr>\n",
       "    <tr>\n",
       "      <th>5</th>\n",
       "      <td>15</td>\n",
       "      <td>N</td>\n",
       "      <td>40</td>\n",
       "    </tr>\n",
       "    <tr>\n",
       "      <th>6</th>\n",
       "      <td>15</td>\n",
       "      <td>Y</td>\n",
       "      <td>1</td>\n",
       "    </tr>\n",
       "    <tr>\n",
       "      <th>7</th>\n",
       "      <td>16</td>\n",
       "      <td>N</td>\n",
       "      <td>56</td>\n",
       "    </tr>\n",
       "    <tr>\n",
       "      <th>8</th>\n",
       "      <td>17</td>\n",
       "      <td>N</td>\n",
       "      <td>1524938</td>\n",
       "    </tr>\n",
       "    <tr>\n",
       "      <th>9</th>\n",
       "      <td>17</td>\n",
       "      <td>Y</td>\n",
       "      <td>1018</td>\n",
       "    </tr>\n",
       "  </tbody>\n",
       "</table>\n",
       "</div>"
      ],
      "text/plain": [
       "   VIN_length IOQ     차대번호\n",
       "0          10   N        4\n",
       "1          11   N      216\n",
       "2          12   N     2134\n",
       "3          13   N      157\n",
       "4          14   N       22\n",
       "5          15   N       40\n",
       "6          15   Y        1\n",
       "7          16   N       56\n",
       "8          17   N  1524938\n",
       "9          17   Y     1018"
      ]
     },
     "execution_count": 409,
     "metadata": {},
     "output_type": "execute_result"
    }
   ],
   "source": [
    "g = df2.groupby(['VIN_length', 'IOQ'], as_index=False)['차대번호'].count()\n",
    "g"
   ]
  },
  {
   "cell_type": "code",
   "execution_count": 410,
   "metadata": {},
   "outputs": [
    {
     "data": {
      "text/html": [
       "<div>\n",
       "<style scoped>\n",
       "    .dataframe tbody tr th:only-of-type {\n",
       "        vertical-align: middle;\n",
       "    }\n",
       "\n",
       "    .dataframe tbody tr th {\n",
       "        vertical-align: top;\n",
       "    }\n",
       "\n",
       "    .dataframe thead th {\n",
       "        text-align: right;\n",
       "    }\n",
       "</style>\n",
       "<table border=\"1\" class=\"dataframe\">\n",
       "  <thead>\n",
       "    <tr style=\"text-align: right;\">\n",
       "      <th></th>\n",
       "      <th>VIN_length</th>\n",
       "      <th>IOQ</th>\n",
       "      <th>차대번호</th>\n",
       "    </tr>\n",
       "  </thead>\n",
       "  <tbody>\n",
       "    <tr>\n",
       "      <th>0</th>\n",
       "      <td>10</td>\n",
       "      <td>N</td>\n",
       "      <td>4</td>\n",
       "    </tr>\n",
       "    <tr>\n",
       "      <th>1</th>\n",
       "      <td>11</td>\n",
       "      <td>N</td>\n",
       "      <td>216</td>\n",
       "    </tr>\n",
       "    <tr>\n",
       "      <th>2</th>\n",
       "      <td>12</td>\n",
       "      <td>N</td>\n",
       "      <td>2134</td>\n",
       "    </tr>\n",
       "    <tr>\n",
       "      <th>3</th>\n",
       "      <td>13</td>\n",
       "      <td>N</td>\n",
       "      <td>157</td>\n",
       "    </tr>\n",
       "    <tr>\n",
       "      <th>4</th>\n",
       "      <td>14</td>\n",
       "      <td>N</td>\n",
       "      <td>22</td>\n",
       "    </tr>\n",
       "    <tr>\n",
       "      <th>5</th>\n",
       "      <td>15</td>\n",
       "      <td>N</td>\n",
       "      <td>40</td>\n",
       "    </tr>\n",
       "    <tr>\n",
       "      <th>6</th>\n",
       "      <td>15</td>\n",
       "      <td>Y</td>\n",
       "      <td>1</td>\n",
       "    </tr>\n",
       "    <tr>\n",
       "      <th>7</th>\n",
       "      <td>16</td>\n",
       "      <td>N</td>\n",
       "      <td>56</td>\n",
       "    </tr>\n",
       "    <tr>\n",
       "      <th>8</th>\n",
       "      <td>17</td>\n",
       "      <td>N</td>\n",
       "      <td>1524938</td>\n",
       "    </tr>\n",
       "    <tr>\n",
       "      <th>9</th>\n",
       "      <td>17</td>\n",
       "      <td>Y</td>\n",
       "      <td>1018</td>\n",
       "    </tr>\n",
       "  </tbody>\n",
       "</table>\n",
       "</div>"
      ],
      "text/plain": [
       "   VIN_length IOQ     차대번호\n",
       "0          10   N        4\n",
       "1          11   N      216\n",
       "2          12   N     2134\n",
       "3          13   N      157\n",
       "4          14   N       22\n",
       "5          15   N       40\n",
       "6          15   Y        1\n",
       "7          16   N       56\n",
       "8          17   N  1524938\n",
       "9          17   Y     1018"
      ]
     },
     "execution_count": 410,
     "metadata": {},
     "output_type": "execute_result"
    }
   ],
   "source": [
    "V_I_df = g.sort_values(['VIN_length', 'IOQ'], ascending=[True, True])\n",
    "V_I_df"
   ]
  },
  {
   "cell_type": "code",
   "execution_count": 411,
   "metadata": {},
   "outputs": [
    {
     "name": "stdout",
     "output_type": "stream",
     "text": [
      "[VIN_length : 10, \"IOQ\"포함 : N]\n",
      "예시)\n",
      "274224    FD3S303919\n",
      "303394    EU13315046\n",
      "472456    1102253020\n",
      "Name: 차대번호, dtype: object\n",
      "\n",
      "[VIN_length : 11, \"IOQ\"포함 : N]\n",
      "예시)\n",
      "10469    01891322131\n",
      "12281    01901321765\n",
      "12965    01911322485\n",
      "Name: 차대번호, dtype: object\n",
      "\n",
      "[VIN_length : 12, \"IOQ\"포함 : N]\n",
      "예시)\n",
      "429     119811326107\n",
      "1320    119111327184\n",
      "1475    119811229792\n",
      "Name: 차대번호, dtype: object\n",
      "\n",
      "[VIN_length : 13, \"IOQ\"포함 : N]\n",
      "예시)\n",
      "7610     119213303068다\n",
      "28217    119213302895다\n",
      "48405    119213302724다\n",
      "Name: 차대번호, dtype: object\n",
      "\n",
      "[VIN_length : 14, \"IOQ\"포함 : N]\n",
      "예시)\n",
      "692       27931130152305\n",
      "206507    21891130315401\n",
      "276689    119111200061대서\n",
      "Name: 차대번호, dtype: object\n",
      "\n",
      "[VIN_length : 15, \"IOQ\"포함 : N]\n",
      "예시)\n",
      "19514    28-88-112-06218\n",
      "84146    11-97-113-29992\n",
      "84224    41-77-111-00110\n",
      "Name: 차대번호, dtype: object\n",
      "\n",
      "[VIN_length : 15, \"IOQ\"포함 : Y]\n",
      "예시)\n",
      "103131    12851300018EORN\n",
      "Name: 차대번호, dtype: object\n",
      "\n",
      "[VIN_length : 16, \"IOQ\"포함 : N]\n",
      "예시)\n",
      "23971    11-94-112-09987다\n",
      "96602    KNADA2322HS00898\n",
      "99552    KNAGA222JS117210\n",
      "Name: 차대번호, dtype: object\n",
      "\n",
      "[VIN_length : 17, \"IOQ\"포함 : N]\n",
      "예시)\n",
      "0    KMFZCY7JBCU784032\n",
      "1    KMHJN81VP7U578447\n",
      "2    KPACE4AB1AP070600\n",
      "Name: 차대번호, dtype: object\n",
      "\n",
      "[VIN_length : 17, \"IOQ\"포함 : Y]\n",
      "예시)\n",
      "711     WFOFXXGBBVTS14067\n",
      "4089    IMECM53U7LA639275\n",
      "4306    KNFSEOD428K331451\n",
      "Name: 차대번호, dtype: object\n",
      "\n"
     ]
    }
   ],
   "source": [
    "for v in range(10, 18):\n",
    "    for i in ['N', 'Y']:\n",
    "        try:\n",
    "            idx = V_I_dict[(v, i)]\n",
    "            print(f'[VIN_length : {v}, \"IOQ\"포함 : {i}]')\n",
    "            print('예시)')\n",
    "            print(df2.iloc[idx[:3], 6])\n",
    "            print()\n",
    "        except:\n",
    "            pass"
   ]
  },
  {
   "cell_type": "code",
   "execution_count": 417,
   "metadata": {},
   "outputs": [
    {
     "data": {
      "text/html": [
       "<div>\n",
       "<style scoped>\n",
       "    .dataframe tbody tr th:only-of-type {\n",
       "        vertical-align: middle;\n",
       "    }\n",
       "\n",
       "    .dataframe tbody tr th {\n",
       "        vertical-align: top;\n",
       "    }\n",
       "\n",
       "    .dataframe thead th {\n",
       "        text-align: right;\n",
       "    }\n",
       "</style>\n",
       "<table border=\"1\" class=\"dataframe\">\n",
       "  <thead>\n",
       "    <tr style=\"text-align: right;\">\n",
       "      <th>VIN_length</th>\n",
       "      <th>10</th>\n",
       "      <th>11</th>\n",
       "      <th>12</th>\n",
       "      <th>13</th>\n",
       "      <th>14</th>\n",
       "      <th>15</th>\n",
       "      <th>16</th>\n",
       "      <th>17</th>\n",
       "    </tr>\n",
       "    <tr>\n",
       "      <th>연료</th>\n",
       "      <th></th>\n",
       "      <th></th>\n",
       "      <th></th>\n",
       "      <th></th>\n",
       "      <th></th>\n",
       "      <th></th>\n",
       "      <th></th>\n",
       "      <th></th>\n",
       "    </tr>\n",
       "  </thead>\n",
       "  <tbody>\n",
       "    <tr>\n",
       "      <th>CNG(압축천연가스)</th>\n",
       "      <td>NaN</td>\n",
       "      <td>NaN</td>\n",
       "      <td>NaN</td>\n",
       "      <td>NaN</td>\n",
       "      <td>NaN</td>\n",
       "      <td>NaN</td>\n",
       "      <td>NaN</td>\n",
       "      <td>1.0</td>\n",
       "    </tr>\n",
       "    <tr>\n",
       "      <th>LPG(액화석유가스)</th>\n",
       "      <td>NaN</td>\n",
       "      <td>NaN</td>\n",
       "      <td>15.0</td>\n",
       "      <td>NaN</td>\n",
       "      <td>NaN</td>\n",
       "      <td>NaN</td>\n",
       "      <td>2.0</td>\n",
       "      <td>26402.0</td>\n",
       "    </tr>\n",
       "    <tr>\n",
       "      <th>경유</th>\n",
       "      <td>NaN</td>\n",
       "      <td>NaN</td>\n",
       "      <td>NaN</td>\n",
       "      <td>NaN</td>\n",
       "      <td>NaN</td>\n",
       "      <td>NaN</td>\n",
       "      <td>10.0</td>\n",
       "      <td>1167600.0</td>\n",
       "    </tr>\n",
       "    <tr>\n",
       "      <th>기타연료</th>\n",
       "      <td>NaN</td>\n",
       "      <td>NaN</td>\n",
       "      <td>NaN</td>\n",
       "      <td>NaN</td>\n",
       "      <td>NaN</td>\n",
       "      <td>1.0</td>\n",
       "      <td>NaN</td>\n",
       "      <td>37.0</td>\n",
       "    </tr>\n",
       "    <tr>\n",
       "      <th>알코올</th>\n",
       "      <td>NaN</td>\n",
       "      <td>NaN</td>\n",
       "      <td>NaN</td>\n",
       "      <td>NaN</td>\n",
       "      <td>NaN</td>\n",
       "      <td>NaN</td>\n",
       "      <td>NaN</td>\n",
       "      <td>1.0</td>\n",
       "    </tr>\n",
       "    <tr>\n",
       "      <th>휘발유</th>\n",
       "      <td>4.0</td>\n",
       "      <td>216.0</td>\n",
       "      <td>2119.0</td>\n",
       "      <td>157.0</td>\n",
       "      <td>22.0</td>\n",
       "      <td>40.0</td>\n",
       "      <td>44.0</td>\n",
       "      <td>331915.0</td>\n",
       "    </tr>\n",
       "  </tbody>\n",
       "</table>\n",
       "</div>"
      ],
      "text/plain": [
       "VIN_length    10     11      12     13    14    15    16         17\n",
       "연료                                                                 \n",
       "CNG(압축천연가스)  NaN    NaN     NaN    NaN   NaN   NaN   NaN        1.0\n",
       "LPG(액화석유가스)  NaN    NaN    15.0    NaN   NaN   NaN   2.0    26402.0\n",
       "경유           NaN    NaN     NaN    NaN   NaN   NaN  10.0  1167600.0\n",
       "기타연료         NaN    NaN     NaN    NaN   NaN   1.0   NaN       37.0\n",
       "알코올          NaN    NaN     NaN    NaN   NaN   NaN   NaN        1.0\n",
       "휘발유          4.0  216.0  2119.0  157.0  22.0  40.0  44.0   331915.0"
      ]
     },
     "execution_count": 417,
     "metadata": {},
     "output_type": "execute_result"
    }
   ],
   "source": [
    "df2.groupby(['VIN_length', '연료'])['차대번호'].count().unstack().T"
   ]
  },
  {
   "cell_type": "code",
   "execution_count": 418,
   "metadata": {},
   "outputs": [],
   "source": [
    "df2.groupby(['VIN_length', '연료'])['차대번호'].count().unstack().T.to_excel('analysis/[G4][차대번호]길이_통계.xlsx')"
   ]
  },
  {
   "cell_type": "code",
   "execution_count": 427,
   "metadata": {},
   "outputs": [
    {
     "data": {
      "text/html": [
       "<div>\n",
       "<style scoped>\n",
       "    .dataframe tbody tr th:only-of-type {\n",
       "        vertical-align: middle;\n",
       "    }\n",
       "\n",
       "    .dataframe tbody tr th {\n",
       "        vertical-align: top;\n",
       "    }\n",
       "\n",
       "    .dataframe thead th {\n",
       "        text-align: right;\n",
       "    }\n",
       "</style>\n",
       "<table border=\"1\" class=\"dataframe\">\n",
       "  <thead>\n",
       "    <tr style=\"text-align: right;\">\n",
       "      <th>IOQ</th>\n",
       "      <th>N</th>\n",
       "      <th>Y</th>\n",
       "    </tr>\n",
       "    <tr>\n",
       "      <th>연료</th>\n",
       "      <th></th>\n",
       "      <th></th>\n",
       "    </tr>\n",
       "  </thead>\n",
       "  <tbody>\n",
       "    <tr>\n",
       "      <th>CNG(압축천연가스)</th>\n",
       "      <td>1.0</td>\n",
       "      <td>NaN</td>\n",
       "    </tr>\n",
       "    <tr>\n",
       "      <th>LPG(액화석유가스)</th>\n",
       "      <td>26415.0</td>\n",
       "      <td>4.0</td>\n",
       "    </tr>\n",
       "    <tr>\n",
       "      <th>경유</th>\n",
       "      <td>1167410.0</td>\n",
       "      <td>200.0</td>\n",
       "    </tr>\n",
       "    <tr>\n",
       "      <th>기타연료</th>\n",
       "      <td>36.0</td>\n",
       "      <td>2.0</td>\n",
       "    </tr>\n",
       "    <tr>\n",
       "      <th>알코올</th>\n",
       "      <td>1.0</td>\n",
       "      <td>NaN</td>\n",
       "    </tr>\n",
       "    <tr>\n",
       "      <th>휘발유</th>\n",
       "      <td>333704.0</td>\n",
       "      <td>813.0</td>\n",
       "    </tr>\n",
       "  </tbody>\n",
       "</table>\n",
       "</div>"
      ],
      "text/plain": [
       "IOQ                  N      Y\n",
       "연료                           \n",
       "CNG(압축천연가스)        1.0    NaN\n",
       "LPG(액화석유가스)    26415.0    4.0\n",
       "경유           1167410.0  200.0\n",
       "기타연료              36.0    2.0\n",
       "알코올                1.0    NaN\n",
       "휘발유           333704.0  813.0"
      ]
     },
     "execution_count": 427,
     "metadata": {},
     "output_type": "execute_result"
    }
   ],
   "source": [
    "df2.groupby(['IOQ', '연료'])['차대번호'].count().unstack().T"
   ]
  },
  {
   "cell_type": "code",
   "execution_count": 428,
   "metadata": {},
   "outputs": [],
   "source": [
    "df2.groupby(['IOQ', '연료'])['차대번호'].count().unstack().T.to_excel('analysis/[G4][차대번호]IOQ포함여부_통계.xlsx')"
   ]
  },
  {
   "attachments": {},
   "cell_type": "markdown",
   "metadata": {},
   "source": [
    "#### 차대번호 10번째 자리 문자로 연식 확인"
   ]
  },
  {
   "cell_type": "code",
   "execution_count": 429,
   "metadata": {},
   "outputs": [
    {
     "data": {
      "text/plain": [
       "array([2012, 2007, 2010, 2009, 2000, 2008, 2011, 1999, 1991, 1989, 1997,\n",
       "       1996, 1993, 1994, 1995, 1988, 2002, 2006, 1992, 1990, 1998, 1987,\n",
       "       2001, 2016, 2017, 2005, 2018, 1986, 2015, 2013, 2004, 2003, 1968,\n",
       "       1979, 2014, 2019, 1983, 2020, 1978, 1985, 1981, 1980, 1901, 1984,\n",
       "       1973], dtype=int64)"
      ]
     },
     "execution_count": 429,
     "metadata": {},
     "output_type": "execute_result"
    }
   ],
   "source": [
    "df2['차량연식'].unique()"
   ]
  },
  {
   "cell_type": "code",
   "execution_count": 431,
   "metadata": {},
   "outputs": [
    {
     "data": {
      "text/html": [
       "<div>\n",
       "<style scoped>\n",
       "    .dataframe tbody tr th:only-of-type {\n",
       "        vertical-align: middle;\n",
       "    }\n",
       "\n",
       "    .dataframe tbody tr th {\n",
       "        vertical-align: top;\n",
       "    }\n",
       "\n",
       "    .dataframe thead th {\n",
       "        text-align: right;\n",
       "    }\n",
       "</style>\n",
       "<table border=\"1\" class=\"dataframe\">\n",
       "  <thead>\n",
       "    <tr style=\"text-align: right;\">\n",
       "      <th>연료</th>\n",
       "      <th>CNG(압축천연가스)</th>\n",
       "      <th>LPG(액화석유가스)</th>\n",
       "      <th>경유</th>\n",
       "      <th>기타연료</th>\n",
       "      <th>알코올</th>\n",
       "      <th>휘발유</th>\n",
       "    </tr>\n",
       "    <tr>\n",
       "      <th>차량연식</th>\n",
       "      <th></th>\n",
       "      <th></th>\n",
       "      <th></th>\n",
       "      <th></th>\n",
       "      <th></th>\n",
       "      <th></th>\n",
       "    </tr>\n",
       "  </thead>\n",
       "  <tbody>\n",
       "    <tr>\n",
       "      <th>1901</th>\n",
       "      <td>NaN</td>\n",
       "      <td>NaN</td>\n",
       "      <td>NaN</td>\n",
       "      <td>NaN</td>\n",
       "      <td>NaN</td>\n",
       "      <td>1.0</td>\n",
       "    </tr>\n",
       "    <tr>\n",
       "      <th>1968</th>\n",
       "      <td>NaN</td>\n",
       "      <td>NaN</td>\n",
       "      <td>NaN</td>\n",
       "      <td>NaN</td>\n",
       "      <td>NaN</td>\n",
       "      <td>1.0</td>\n",
       "    </tr>\n",
       "    <tr>\n",
       "      <th>1973</th>\n",
       "      <td>NaN</td>\n",
       "      <td>NaN</td>\n",
       "      <td>NaN</td>\n",
       "      <td>NaN</td>\n",
       "      <td>NaN</td>\n",
       "      <td>1.0</td>\n",
       "    </tr>\n",
       "    <tr>\n",
       "      <th>1978</th>\n",
       "      <td>NaN</td>\n",
       "      <td>NaN</td>\n",
       "      <td>NaN</td>\n",
       "      <td>NaN</td>\n",
       "      <td>NaN</td>\n",
       "      <td>1.0</td>\n",
       "    </tr>\n",
       "    <tr>\n",
       "      <th>1979</th>\n",
       "      <td>NaN</td>\n",
       "      <td>NaN</td>\n",
       "      <td>NaN</td>\n",
       "      <td>NaN</td>\n",
       "      <td>NaN</td>\n",
       "      <td>3.0</td>\n",
       "    </tr>\n",
       "    <tr>\n",
       "      <th>1980</th>\n",
       "      <td>NaN</td>\n",
       "      <td>NaN</td>\n",
       "      <td>NaN</td>\n",
       "      <td>NaN</td>\n",
       "      <td>NaN</td>\n",
       "      <td>1.0</td>\n",
       "    </tr>\n",
       "    <tr>\n",
       "      <th>1981</th>\n",
       "      <td>NaN</td>\n",
       "      <td>NaN</td>\n",
       "      <td>NaN</td>\n",
       "      <td>NaN</td>\n",
       "      <td>NaN</td>\n",
       "      <td>1.0</td>\n",
       "    </tr>\n",
       "    <tr>\n",
       "      <th>1983</th>\n",
       "      <td>NaN</td>\n",
       "      <td>NaN</td>\n",
       "      <td>NaN</td>\n",
       "      <td>NaN</td>\n",
       "      <td>NaN</td>\n",
       "      <td>3.0</td>\n",
       "    </tr>\n",
       "    <tr>\n",
       "      <th>1984</th>\n",
       "      <td>NaN</td>\n",
       "      <td>NaN</td>\n",
       "      <td>NaN</td>\n",
       "      <td>NaN</td>\n",
       "      <td>NaN</td>\n",
       "      <td>3.0</td>\n",
       "    </tr>\n",
       "    <tr>\n",
       "      <th>1985</th>\n",
       "      <td>NaN</td>\n",
       "      <td>NaN</td>\n",
       "      <td>NaN</td>\n",
       "      <td>NaN</td>\n",
       "      <td>NaN</td>\n",
       "      <td>4.0</td>\n",
       "    </tr>\n",
       "    <tr>\n",
       "      <th>1986</th>\n",
       "      <td>NaN</td>\n",
       "      <td>NaN</td>\n",
       "      <td>NaN</td>\n",
       "      <td>NaN</td>\n",
       "      <td>NaN</td>\n",
       "      <td>12.0</td>\n",
       "    </tr>\n",
       "    <tr>\n",
       "      <th>1987</th>\n",
       "      <td>NaN</td>\n",
       "      <td>NaN</td>\n",
       "      <td>NaN</td>\n",
       "      <td>NaN</td>\n",
       "      <td>NaN</td>\n",
       "      <td>1278.0</td>\n",
       "    </tr>\n",
       "    <tr>\n",
       "      <th>1988</th>\n",
       "      <td>NaN</td>\n",
       "      <td>91.0</td>\n",
       "      <td>1.0</td>\n",
       "      <td>10.0</td>\n",
       "      <td>1.0</td>\n",
       "      <td>11751.0</td>\n",
       "    </tr>\n",
       "    <tr>\n",
       "      <th>1989</th>\n",
       "      <td>NaN</td>\n",
       "      <td>52.0</td>\n",
       "      <td>1.0</td>\n",
       "      <td>24.0</td>\n",
       "      <td>NaN</td>\n",
       "      <td>20612.0</td>\n",
       "    </tr>\n",
       "    <tr>\n",
       "      <th>1990</th>\n",
       "      <td>NaN</td>\n",
       "      <td>74.0</td>\n",
       "      <td>NaN</td>\n",
       "      <td>1.0</td>\n",
       "      <td>NaN</td>\n",
       "      <td>26629.0</td>\n",
       "    </tr>\n",
       "    <tr>\n",
       "      <th>1991</th>\n",
       "      <td>NaN</td>\n",
       "      <td>82.0</td>\n",
       "      <td>NaN</td>\n",
       "      <td>NaN</td>\n",
       "      <td>NaN</td>\n",
       "      <td>30246.0</td>\n",
       "    </tr>\n",
       "    <tr>\n",
       "      <th>1992</th>\n",
       "      <td>NaN</td>\n",
       "      <td>471.0</td>\n",
       "      <td>NaN</td>\n",
       "      <td>NaN</td>\n",
       "      <td>NaN</td>\n",
       "      <td>33456.0</td>\n",
       "    </tr>\n",
       "    <tr>\n",
       "      <th>1993</th>\n",
       "      <td>NaN</td>\n",
       "      <td>1468.0</td>\n",
       "      <td>NaN</td>\n",
       "      <td>NaN</td>\n",
       "      <td>NaN</td>\n",
       "      <td>32813.0</td>\n",
       "    </tr>\n",
       "    <tr>\n",
       "      <th>1994</th>\n",
       "      <td>NaN</td>\n",
       "      <td>2290.0</td>\n",
       "      <td>NaN</td>\n",
       "      <td>NaN</td>\n",
       "      <td>NaN</td>\n",
       "      <td>35493.0</td>\n",
       "    </tr>\n",
       "    <tr>\n",
       "      <th>1995</th>\n",
       "      <td>NaN</td>\n",
       "      <td>2122.0</td>\n",
       "      <td>NaN</td>\n",
       "      <td>NaN</td>\n",
       "      <td>NaN</td>\n",
       "      <td>33273.0</td>\n",
       "    </tr>\n",
       "    <tr>\n",
       "      <th>1996</th>\n",
       "      <td>NaN</td>\n",
       "      <td>2605.0</td>\n",
       "      <td>1.0</td>\n",
       "      <td>NaN</td>\n",
       "      <td>NaN</td>\n",
       "      <td>33660.0</td>\n",
       "    </tr>\n",
       "    <tr>\n",
       "      <th>1997</th>\n",
       "      <td>NaN</td>\n",
       "      <td>2785.0</td>\n",
       "      <td>1.0</td>\n",
       "      <td>NaN</td>\n",
       "      <td>NaN</td>\n",
       "      <td>27202.0</td>\n",
       "    </tr>\n",
       "    <tr>\n",
       "      <th>1998</th>\n",
       "      <td>NaN</td>\n",
       "      <td>1660.0</td>\n",
       "      <td>NaN</td>\n",
       "      <td>NaN</td>\n",
       "      <td>NaN</td>\n",
       "      <td>8576.0</td>\n",
       "    </tr>\n",
       "    <tr>\n",
       "      <th>1999</th>\n",
       "      <td>NaN</td>\n",
       "      <td>5579.0</td>\n",
       "      <td>NaN</td>\n",
       "      <td>NaN</td>\n",
       "      <td>NaN</td>\n",
       "      <td>14451.0</td>\n",
       "    </tr>\n",
       "    <tr>\n",
       "      <th>2000</th>\n",
       "      <td>NaN</td>\n",
       "      <td>5111.0</td>\n",
       "      <td>NaN</td>\n",
       "      <td>NaN</td>\n",
       "      <td>NaN</td>\n",
       "      <td>8216.0</td>\n",
       "    </tr>\n",
       "    <tr>\n",
       "      <th>2001</th>\n",
       "      <td>NaN</td>\n",
       "      <td>1043.0</td>\n",
       "      <td>NaN</td>\n",
       "      <td>2.0</td>\n",
       "      <td>NaN</td>\n",
       "      <td>6791.0</td>\n",
       "    </tr>\n",
       "    <tr>\n",
       "      <th>2002</th>\n",
       "      <td>NaN</td>\n",
       "      <td>839.0</td>\n",
       "      <td>2.0</td>\n",
       "      <td>NaN</td>\n",
       "      <td>NaN</td>\n",
       "      <td>8130.0</td>\n",
       "    </tr>\n",
       "    <tr>\n",
       "      <th>2003</th>\n",
       "      <td>NaN</td>\n",
       "      <td>147.0</td>\n",
       "      <td>1.0</td>\n",
       "      <td>NaN</td>\n",
       "      <td>NaN</td>\n",
       "      <td>21.0</td>\n",
       "    </tr>\n",
       "    <tr>\n",
       "      <th>2004</th>\n",
       "      <td>NaN</td>\n",
       "      <td>NaN</td>\n",
       "      <td>1.0</td>\n",
       "      <td>NaN</td>\n",
       "      <td>NaN</td>\n",
       "      <td>213.0</td>\n",
       "    </tr>\n",
       "    <tr>\n",
       "      <th>2005</th>\n",
       "      <td>1.0</td>\n",
       "      <td>NaN</td>\n",
       "      <td>978.0</td>\n",
       "      <td>NaN</td>\n",
       "      <td>NaN</td>\n",
       "      <td>89.0</td>\n",
       "    </tr>\n",
       "    <tr>\n",
       "      <th>2006</th>\n",
       "      <td>NaN</td>\n",
       "      <td>NaN</td>\n",
       "      <td>33825.0</td>\n",
       "      <td>NaN</td>\n",
       "      <td>NaN</td>\n",
       "      <td>185.0</td>\n",
       "    </tr>\n",
       "    <tr>\n",
       "      <th>2007</th>\n",
       "      <td>NaN</td>\n",
       "      <td>NaN</td>\n",
       "      <td>106553.0</td>\n",
       "      <td>1.0</td>\n",
       "      <td>NaN</td>\n",
       "      <td>475.0</td>\n",
       "    </tr>\n",
       "    <tr>\n",
       "      <th>2008</th>\n",
       "      <td>NaN</td>\n",
       "      <td>NaN</td>\n",
       "      <td>226163.0</td>\n",
       "      <td>NaN</td>\n",
       "      <td>NaN</td>\n",
       "      <td>705.0</td>\n",
       "    </tr>\n",
       "    <tr>\n",
       "      <th>2009</th>\n",
       "      <td>NaN</td>\n",
       "      <td>NaN</td>\n",
       "      <td>213447.0</td>\n",
       "      <td>NaN</td>\n",
       "      <td>NaN</td>\n",
       "      <td>97.0</td>\n",
       "    </tr>\n",
       "    <tr>\n",
       "      <th>2010</th>\n",
       "      <td>NaN</td>\n",
       "      <td>NaN</td>\n",
       "      <td>252710.0</td>\n",
       "      <td>NaN</td>\n",
       "      <td>NaN</td>\n",
       "      <td>1.0</td>\n",
       "    </tr>\n",
       "    <tr>\n",
       "      <th>2011</th>\n",
       "      <td>NaN</td>\n",
       "      <td>NaN</td>\n",
       "      <td>237574.0</td>\n",
       "      <td>NaN</td>\n",
       "      <td>NaN</td>\n",
       "      <td>1.0</td>\n",
       "    </tr>\n",
       "    <tr>\n",
       "      <th>2012</th>\n",
       "      <td>NaN</td>\n",
       "      <td>NaN</td>\n",
       "      <td>94135.0</td>\n",
       "      <td>NaN</td>\n",
       "      <td>NaN</td>\n",
       "      <td>52.0</td>\n",
       "    </tr>\n",
       "    <tr>\n",
       "      <th>2013</th>\n",
       "      <td>NaN</td>\n",
       "      <td>NaN</td>\n",
       "      <td>28.0</td>\n",
       "      <td>NaN</td>\n",
       "      <td>NaN</td>\n",
       "      <td>70.0</td>\n",
       "    </tr>\n",
       "    <tr>\n",
       "      <th>2014</th>\n",
       "      <td>NaN</td>\n",
       "      <td>NaN</td>\n",
       "      <td>13.0</td>\n",
       "      <td>NaN</td>\n",
       "      <td>NaN</td>\n",
       "      <td>NaN</td>\n",
       "    </tr>\n",
       "    <tr>\n",
       "      <th>2015</th>\n",
       "      <td>NaN</td>\n",
       "      <td>NaN</td>\n",
       "      <td>463.0</td>\n",
       "      <td>NaN</td>\n",
       "      <td>NaN</td>\n",
       "      <td>NaN</td>\n",
       "    </tr>\n",
       "    <tr>\n",
       "      <th>2016</th>\n",
       "      <td>NaN</td>\n",
       "      <td>NaN</td>\n",
       "      <td>482.0</td>\n",
       "      <td>NaN</td>\n",
       "      <td>NaN</td>\n",
       "      <td>NaN</td>\n",
       "    </tr>\n",
       "    <tr>\n",
       "      <th>2017</th>\n",
       "      <td>NaN</td>\n",
       "      <td>NaN</td>\n",
       "      <td>732.0</td>\n",
       "      <td>NaN</td>\n",
       "      <td>NaN</td>\n",
       "      <td>NaN</td>\n",
       "    </tr>\n",
       "    <tr>\n",
       "      <th>2018</th>\n",
       "      <td>NaN</td>\n",
       "      <td>NaN</td>\n",
       "      <td>483.0</td>\n",
       "      <td>NaN</td>\n",
       "      <td>NaN</td>\n",
       "      <td>NaN</td>\n",
       "    </tr>\n",
       "    <tr>\n",
       "      <th>2019</th>\n",
       "      <td>NaN</td>\n",
       "      <td>NaN</td>\n",
       "      <td>13.0</td>\n",
       "      <td>NaN</td>\n",
       "      <td>NaN</td>\n",
       "      <td>NaN</td>\n",
       "    </tr>\n",
       "    <tr>\n",
       "      <th>2020</th>\n",
       "      <td>NaN</td>\n",
       "      <td>NaN</td>\n",
       "      <td>3.0</td>\n",
       "      <td>NaN</td>\n",
       "      <td>NaN</td>\n",
       "      <td>NaN</td>\n",
       "    </tr>\n",
       "  </tbody>\n",
       "</table>\n",
       "</div>"
      ],
      "text/plain": [
       "연료    CNG(압축천연가스)  LPG(액화석유가스)        경유  기타연료  알코올      휘발유\n",
       "차량연식                                                        \n",
       "1901          NaN          NaN       NaN   NaN  NaN      1.0\n",
       "1968          NaN          NaN       NaN   NaN  NaN      1.0\n",
       "1973          NaN          NaN       NaN   NaN  NaN      1.0\n",
       "1978          NaN          NaN       NaN   NaN  NaN      1.0\n",
       "1979          NaN          NaN       NaN   NaN  NaN      3.0\n",
       "1980          NaN          NaN       NaN   NaN  NaN      1.0\n",
       "1981          NaN          NaN       NaN   NaN  NaN      1.0\n",
       "1983          NaN          NaN       NaN   NaN  NaN      3.0\n",
       "1984          NaN          NaN       NaN   NaN  NaN      3.0\n",
       "1985          NaN          NaN       NaN   NaN  NaN      4.0\n",
       "1986          NaN          NaN       NaN   NaN  NaN     12.0\n",
       "1987          NaN          NaN       NaN   NaN  NaN   1278.0\n",
       "1988          NaN         91.0       1.0  10.0  1.0  11751.0\n",
       "1989          NaN         52.0       1.0  24.0  NaN  20612.0\n",
       "1990          NaN         74.0       NaN   1.0  NaN  26629.0\n",
       "1991          NaN         82.0       NaN   NaN  NaN  30246.0\n",
       "1992          NaN        471.0       NaN   NaN  NaN  33456.0\n",
       "1993          NaN       1468.0       NaN   NaN  NaN  32813.0\n",
       "1994          NaN       2290.0       NaN   NaN  NaN  35493.0\n",
       "1995          NaN       2122.0       NaN   NaN  NaN  33273.0\n",
       "1996          NaN       2605.0       1.0   NaN  NaN  33660.0\n",
       "1997          NaN       2785.0       1.0   NaN  NaN  27202.0\n",
       "1998          NaN       1660.0       NaN   NaN  NaN   8576.0\n",
       "1999          NaN       5579.0       NaN   NaN  NaN  14451.0\n",
       "2000          NaN       5111.0       NaN   NaN  NaN   8216.0\n",
       "2001          NaN       1043.0       NaN   2.0  NaN   6791.0\n",
       "2002          NaN        839.0       2.0   NaN  NaN   8130.0\n",
       "2003          NaN        147.0       1.0   NaN  NaN     21.0\n",
       "2004          NaN          NaN       1.0   NaN  NaN    213.0\n",
       "2005          1.0          NaN     978.0   NaN  NaN     89.0\n",
       "2006          NaN          NaN   33825.0   NaN  NaN    185.0\n",
       "2007          NaN          NaN  106553.0   1.0  NaN    475.0\n",
       "2008          NaN          NaN  226163.0   NaN  NaN    705.0\n",
       "2009          NaN          NaN  213447.0   NaN  NaN     97.0\n",
       "2010          NaN          NaN  252710.0   NaN  NaN      1.0\n",
       "2011          NaN          NaN  237574.0   NaN  NaN      1.0\n",
       "2012          NaN          NaN   94135.0   NaN  NaN     52.0\n",
       "2013          NaN          NaN      28.0   NaN  NaN     70.0\n",
       "2014          NaN          NaN      13.0   NaN  NaN      NaN\n",
       "2015          NaN          NaN     463.0   NaN  NaN      NaN\n",
       "2016          NaN          NaN     482.0   NaN  NaN      NaN\n",
       "2017          NaN          NaN     732.0   NaN  NaN      NaN\n",
       "2018          NaN          NaN     483.0   NaN  NaN      NaN\n",
       "2019          NaN          NaN      13.0   NaN  NaN      NaN\n",
       "2020          NaN          NaN       3.0   NaN  NaN      NaN"
      ]
     },
     "execution_count": 431,
     "metadata": {},
     "output_type": "execute_result"
    }
   ],
   "source": [
    "df2.groupby(['차량연식', '연료'])['차대번호'].count().unstack()"
   ]
  },
  {
   "cell_type": "code",
   "execution_count": 441,
   "metadata": {},
   "outputs": [],
   "source": [
    "df2.groupby(['차량연식', '연료'])['차대번호'].count().unstack().to_excel('analysis/[G4][차량연식]통계.xlsx')"
   ]
  },
  {
   "cell_type": "code",
   "execution_count": 432,
   "metadata": {},
   "outputs": [
    {
     "data": {
      "text/plain": [
       "array(['C', '7', 'A', '9', 'Y', '8', 'B', 'X', 'M', 'K', 'V', 'T', 'P',\n",
       "       'R', 'S', 'J', '2', '6', 'N', 'L', 'W', 'H', '1', 'G', '5', '0',\n",
       "       '4', 'F', '3', 'D', '-', 'E', 'U', 'O'], dtype=object)"
      ]
     },
     "execution_count": 432,
     "metadata": {},
     "output_type": "execute_result"
    }
   ],
   "source": [
    "df2['차대번호_10자리'] = df2['차대번호'].str[9]\n",
    "df2['차대번호_10자리'].unique()"
   ]
  },
  {
   "cell_type": "code",
   "execution_count": 433,
   "metadata": {},
   "outputs": [],
   "source": [
    "vin_10_dict = {'A':1980, 'B':1981, 'C':1982, 'D':1983, 'E':1984, 'F':1985, 'G':1986, 'H':1987, 'J':1988, 'K':1989, 'L':1990, 'M':1991, 'N':1992, 'P':1993, 'R':1994, 'S':1995, 'T':1996, 'V':1997, 'W':1998, 'X':1999, 'Y':2000, '1':2001, '2':2002, '3':2003, '4':2004, '5':2005, '6':2006, '7':2007, '8':2008, '9':2009}"
   ]
  },
  {
   "cell_type": "code",
   "execution_count": 434,
   "metadata": {},
   "outputs": [],
   "source": [
    "df2['차대번호_10자리_기준연식'] = df2['차대번호_10자리'].replace(vin_10_dict)"
   ]
  },
  {
   "cell_type": "code",
   "execution_count": 435,
   "metadata": {},
   "outputs": [
    {
     "data": {
      "text/plain": [
       "array([1982, 2007, 1980, 2009, 2000, 2008, 1981, 1999, 1991, 1989, 1997,\n",
       "       1996, 1993, 1994, 1995, 1988, 2002, 2006, 1992, 1990, 1998, 1987,\n",
       "       2001, 1986, 2005, '0', 2004, 1985, 2003, 1983, '-', 1984, 'U', 'O'],\n",
       "      dtype=object)"
      ]
     },
     "execution_count": 435,
     "metadata": {},
     "output_type": "execute_result"
    }
   ],
   "source": [
    "df2['차대번호_10자리_기준연식'].unique()"
   ]
  },
  {
   "cell_type": "code",
   "execution_count": 437,
   "metadata": {},
   "outputs": [
    {
     "data": {
      "text/html": [
       "<div>\n",
       "<style scoped>\n",
       "    .dataframe tbody tr th:only-of-type {\n",
       "        vertical-align: middle;\n",
       "    }\n",
       "\n",
       "    .dataframe tbody tr th {\n",
       "        vertical-align: top;\n",
       "    }\n",
       "\n",
       "    .dataframe thead th {\n",
       "        text-align: right;\n",
       "    }\n",
       "</style>\n",
       "<table border=\"1\" class=\"dataframe\">\n",
       "  <thead>\n",
       "    <tr style=\"text-align: right;\">\n",
       "      <th>연료</th>\n",
       "      <th>CNG(압축천연가스)</th>\n",
       "      <th>LPG(액화석유가스)</th>\n",
       "      <th>경유</th>\n",
       "      <th>기타연료</th>\n",
       "      <th>알코올</th>\n",
       "      <th>휘발유</th>\n",
       "    </tr>\n",
       "    <tr>\n",
       "      <th>차대번호_10자리_기준연식</th>\n",
       "      <th></th>\n",
       "      <th></th>\n",
       "      <th></th>\n",
       "      <th></th>\n",
       "      <th></th>\n",
       "      <th></th>\n",
       "    </tr>\n",
       "  </thead>\n",
       "  <tbody>\n",
       "    <tr>\n",
       "      <th>1980</th>\n",
       "      <td>NaN</td>\n",
       "      <td>NaN</td>\n",
       "      <td>252706.0</td>\n",
       "      <td>NaN</td>\n",
       "      <td>NaN</td>\n",
       "      <td>2.0</td>\n",
       "    </tr>\n",
       "    <tr>\n",
       "      <th>1981</th>\n",
       "      <td>NaN</td>\n",
       "      <td>NaN</td>\n",
       "      <td>237573.0</td>\n",
       "      <td>NaN</td>\n",
       "      <td>NaN</td>\n",
       "      <td>5.0</td>\n",
       "    </tr>\n",
       "    <tr>\n",
       "      <th>1982</th>\n",
       "      <td>NaN</td>\n",
       "      <td>NaN</td>\n",
       "      <td>94135.0</td>\n",
       "      <td>NaN</td>\n",
       "      <td>NaN</td>\n",
       "      <td>54.0</td>\n",
       "    </tr>\n",
       "    <tr>\n",
       "      <th>1983</th>\n",
       "      <td>NaN</td>\n",
       "      <td>NaN</td>\n",
       "      <td>29.0</td>\n",
       "      <td>NaN</td>\n",
       "      <td>NaN</td>\n",
       "      <td>70.0</td>\n",
       "    </tr>\n",
       "    <tr>\n",
       "      <th>1984</th>\n",
       "      <td>NaN</td>\n",
       "      <td>NaN</td>\n",
       "      <td>13.0</td>\n",
       "      <td>NaN</td>\n",
       "      <td>NaN</td>\n",
       "      <td>1.0</td>\n",
       "    </tr>\n",
       "    <tr>\n",
       "      <th>1985</th>\n",
       "      <td>NaN</td>\n",
       "      <td>NaN</td>\n",
       "      <td>463.0</td>\n",
       "      <td>NaN</td>\n",
       "      <td>NaN</td>\n",
       "      <td>6.0</td>\n",
       "    </tr>\n",
       "    <tr>\n",
       "      <th>1986</th>\n",
       "      <td>NaN</td>\n",
       "      <td>NaN</td>\n",
       "      <td>482.0</td>\n",
       "      <td>NaN</td>\n",
       "      <td>NaN</td>\n",
       "      <td>12.0</td>\n",
       "    </tr>\n",
       "    <tr>\n",
       "      <th>1987</th>\n",
       "      <td>NaN</td>\n",
       "      <td>NaN</td>\n",
       "      <td>732.0</td>\n",
       "      <td>NaN</td>\n",
       "      <td>NaN</td>\n",
       "      <td>1299.0</td>\n",
       "    </tr>\n",
       "    <tr>\n",
       "      <th>1988</th>\n",
       "      <td>NaN</td>\n",
       "      <td>91.0</td>\n",
       "      <td>484.0</td>\n",
       "      <td>9.0</td>\n",
       "      <td>1.0</td>\n",
       "      <td>11646.0</td>\n",
       "    </tr>\n",
       "    <tr>\n",
       "      <th>1989</th>\n",
       "      <td>NaN</td>\n",
       "      <td>52.0</td>\n",
       "      <td>14.0</td>\n",
       "      <td>24.0</td>\n",
       "      <td>NaN</td>\n",
       "      <td>20454.0</td>\n",
       "    </tr>\n",
       "    <tr>\n",
       "      <th>1990</th>\n",
       "      <td>NaN</td>\n",
       "      <td>74.0</td>\n",
       "      <td>3.0</td>\n",
       "      <td>1.0</td>\n",
       "      <td>NaN</td>\n",
       "      <td>26363.0</td>\n",
       "    </tr>\n",
       "    <tr>\n",
       "      <th>1991</th>\n",
       "      <td>NaN</td>\n",
       "      <td>82.0</td>\n",
       "      <td>NaN</td>\n",
       "      <td>NaN</td>\n",
       "      <td>NaN</td>\n",
       "      <td>30013.0</td>\n",
       "    </tr>\n",
       "    <tr>\n",
       "      <th>1992</th>\n",
       "      <td>NaN</td>\n",
       "      <td>471.0</td>\n",
       "      <td>1.0</td>\n",
       "      <td>NaN</td>\n",
       "      <td>NaN</td>\n",
       "      <td>33055.0</td>\n",
       "    </tr>\n",
       "    <tr>\n",
       "      <th>1993</th>\n",
       "      <td>NaN</td>\n",
       "      <td>1468.0</td>\n",
       "      <td>1.0</td>\n",
       "      <td>NaN</td>\n",
       "      <td>NaN</td>\n",
       "      <td>32631.0</td>\n",
       "    </tr>\n",
       "    <tr>\n",
       "      <th>1994</th>\n",
       "      <td>NaN</td>\n",
       "      <td>2290.0</td>\n",
       "      <td>1.0</td>\n",
       "      <td>NaN</td>\n",
       "      <td>NaN</td>\n",
       "      <td>35270.0</td>\n",
       "    </tr>\n",
       "    <tr>\n",
       "      <th>1995</th>\n",
       "      <td>NaN</td>\n",
       "      <td>2121.0</td>\n",
       "      <td>NaN</td>\n",
       "      <td>NaN</td>\n",
       "      <td>NaN</td>\n",
       "      <td>32823.0</td>\n",
       "    </tr>\n",
       "    <tr>\n",
       "      <th>1996</th>\n",
       "      <td>NaN</td>\n",
       "      <td>2605.0</td>\n",
       "      <td>1.0</td>\n",
       "      <td>NaN</td>\n",
       "      <td>NaN</td>\n",
       "      <td>33407.0</td>\n",
       "    </tr>\n",
       "    <tr>\n",
       "      <th>1997</th>\n",
       "      <td>NaN</td>\n",
       "      <td>2785.0</td>\n",
       "      <td>NaN</td>\n",
       "      <td>NaN</td>\n",
       "      <td>NaN</td>\n",
       "      <td>26985.0</td>\n",
       "    </tr>\n",
       "    <tr>\n",
       "      <th>1998</th>\n",
       "      <td>NaN</td>\n",
       "      <td>1660.0</td>\n",
       "      <td>NaN</td>\n",
       "      <td>NaN</td>\n",
       "      <td>NaN</td>\n",
       "      <td>8372.0</td>\n",
       "    </tr>\n",
       "    <tr>\n",
       "      <th>1999</th>\n",
       "      <td>NaN</td>\n",
       "      <td>5575.0</td>\n",
       "      <td>NaN</td>\n",
       "      <td>NaN</td>\n",
       "      <td>NaN</td>\n",
       "      <td>14316.0</td>\n",
       "    </tr>\n",
       "    <tr>\n",
       "      <th>2000</th>\n",
       "      <td>NaN</td>\n",
       "      <td>5114.0</td>\n",
       "      <td>NaN</td>\n",
       "      <td>NaN</td>\n",
       "      <td>NaN</td>\n",
       "      <td>8216.0</td>\n",
       "    </tr>\n",
       "    <tr>\n",
       "      <th>2001</th>\n",
       "      <td>NaN</td>\n",
       "      <td>1036.0</td>\n",
       "      <td>2.0</td>\n",
       "      <td>3.0</td>\n",
       "      <td>NaN</td>\n",
       "      <td>7188.0</td>\n",
       "    </tr>\n",
       "    <tr>\n",
       "      <th>2002</th>\n",
       "      <td>NaN</td>\n",
       "      <td>832.0</td>\n",
       "      <td>2.0</td>\n",
       "      <td>NaN</td>\n",
       "      <td>NaN</td>\n",
       "      <td>8367.0</td>\n",
       "    </tr>\n",
       "    <tr>\n",
       "      <th>2003</th>\n",
       "      <td>NaN</td>\n",
       "      <td>147.0</td>\n",
       "      <td>1.0</td>\n",
       "      <td>NaN</td>\n",
       "      <td>NaN</td>\n",
       "      <td>235.0</td>\n",
       "    </tr>\n",
       "    <tr>\n",
       "      <th>2004</th>\n",
       "      <td>NaN</td>\n",
       "      <td>NaN</td>\n",
       "      <td>1.0</td>\n",
       "      <td>NaN</td>\n",
       "      <td>NaN</td>\n",
       "      <td>457.0</td>\n",
       "    </tr>\n",
       "    <tr>\n",
       "      <th>2005</th>\n",
       "      <td>1.0</td>\n",
       "      <td>NaN</td>\n",
       "      <td>978.0</td>\n",
       "      <td>NaN</td>\n",
       "      <td>NaN</td>\n",
       "      <td>295.0</td>\n",
       "    </tr>\n",
       "    <tr>\n",
       "      <th>2006</th>\n",
       "      <td>NaN</td>\n",
       "      <td>1.0</td>\n",
       "      <td>33822.0</td>\n",
       "      <td>NaN</td>\n",
       "      <td>NaN</td>\n",
       "      <td>420.0</td>\n",
       "    </tr>\n",
       "    <tr>\n",
       "      <th>2007</th>\n",
       "      <td>NaN</td>\n",
       "      <td>2.0</td>\n",
       "      <td>106545.0</td>\n",
       "      <td>1.0</td>\n",
       "      <td>NaN</td>\n",
       "      <td>745.0</td>\n",
       "    </tr>\n",
       "    <tr>\n",
       "      <th>2008</th>\n",
       "      <td>NaN</td>\n",
       "      <td>4.0</td>\n",
       "      <td>226177.0</td>\n",
       "      <td>NaN</td>\n",
       "      <td>NaN</td>\n",
       "      <td>957.0</td>\n",
       "    </tr>\n",
       "    <tr>\n",
       "      <th>2009</th>\n",
       "      <td>NaN</td>\n",
       "      <td>6.0</td>\n",
       "      <td>213441.0</td>\n",
       "      <td>NaN</td>\n",
       "      <td>NaN</td>\n",
       "      <td>362.0</td>\n",
       "    </tr>\n",
       "    <tr>\n",
       "      <th>-</th>\n",
       "      <td>NaN</td>\n",
       "      <td>NaN</td>\n",
       "      <td>NaN</td>\n",
       "      <td>NaN</td>\n",
       "      <td>NaN</td>\n",
       "      <td>55.0</td>\n",
       "    </tr>\n",
       "    <tr>\n",
       "      <th>0</th>\n",
       "      <td>NaN</td>\n",
       "      <td>3.0</td>\n",
       "      <td>NaN</td>\n",
       "      <td>NaN</td>\n",
       "      <td>NaN</td>\n",
       "      <td>430.0</td>\n",
       "    </tr>\n",
       "    <tr>\n",
       "      <th>O</th>\n",
       "      <td>NaN</td>\n",
       "      <td>NaN</td>\n",
       "      <td>NaN</td>\n",
       "      <td>NaN</td>\n",
       "      <td>NaN</td>\n",
       "      <td>3.0</td>\n",
       "    </tr>\n",
       "    <tr>\n",
       "      <th>U</th>\n",
       "      <td>NaN</td>\n",
       "      <td>NaN</td>\n",
       "      <td>3.0</td>\n",
       "      <td>NaN</td>\n",
       "      <td>NaN</td>\n",
       "      <td>3.0</td>\n",
       "    </tr>\n",
       "  </tbody>\n",
       "</table>\n",
       "</div>"
      ],
      "text/plain": [
       "연료              CNG(압축천연가스)  LPG(액화석유가스)        경유  기타연료  알코올      휘발유\n",
       "차대번호_10자리_기준연식                                                        \n",
       "1980                    NaN          NaN  252706.0   NaN  NaN      2.0\n",
       "1981                    NaN          NaN  237573.0   NaN  NaN      5.0\n",
       "1982                    NaN          NaN   94135.0   NaN  NaN     54.0\n",
       "1983                    NaN          NaN      29.0   NaN  NaN     70.0\n",
       "1984                    NaN          NaN      13.0   NaN  NaN      1.0\n",
       "1985                    NaN          NaN     463.0   NaN  NaN      6.0\n",
       "1986                    NaN          NaN     482.0   NaN  NaN     12.0\n",
       "1987                    NaN          NaN     732.0   NaN  NaN   1299.0\n",
       "1988                    NaN         91.0     484.0   9.0  1.0  11646.0\n",
       "1989                    NaN         52.0      14.0  24.0  NaN  20454.0\n",
       "1990                    NaN         74.0       3.0   1.0  NaN  26363.0\n",
       "1991                    NaN         82.0       NaN   NaN  NaN  30013.0\n",
       "1992                    NaN        471.0       1.0   NaN  NaN  33055.0\n",
       "1993                    NaN       1468.0       1.0   NaN  NaN  32631.0\n",
       "1994                    NaN       2290.0       1.0   NaN  NaN  35270.0\n",
       "1995                    NaN       2121.0       NaN   NaN  NaN  32823.0\n",
       "1996                    NaN       2605.0       1.0   NaN  NaN  33407.0\n",
       "1997                    NaN       2785.0       NaN   NaN  NaN  26985.0\n",
       "1998                    NaN       1660.0       NaN   NaN  NaN   8372.0\n",
       "1999                    NaN       5575.0       NaN   NaN  NaN  14316.0\n",
       "2000                    NaN       5114.0       NaN   NaN  NaN   8216.0\n",
       "2001                    NaN       1036.0       2.0   3.0  NaN   7188.0\n",
       "2002                    NaN        832.0       2.0   NaN  NaN   8367.0\n",
       "2003                    NaN        147.0       1.0   NaN  NaN    235.0\n",
       "2004                    NaN          NaN       1.0   NaN  NaN    457.0\n",
       "2005                    1.0          NaN     978.0   NaN  NaN    295.0\n",
       "2006                    NaN          1.0   33822.0   NaN  NaN    420.0\n",
       "2007                    NaN          2.0  106545.0   1.0  NaN    745.0\n",
       "2008                    NaN          4.0  226177.0   NaN  NaN    957.0\n",
       "2009                    NaN          6.0  213441.0   NaN  NaN    362.0\n",
       "-                       NaN          NaN       NaN   NaN  NaN     55.0\n",
       "0                       NaN          3.0       NaN   NaN  NaN    430.0\n",
       "O                       NaN          NaN       NaN   NaN  NaN      3.0\n",
       "U                       NaN          NaN       3.0   NaN  NaN      3.0"
      ]
     },
     "execution_count": 437,
     "metadata": {},
     "output_type": "execute_result"
    }
   ],
   "source": [
    "df2.groupby(['차대번호_10자리_기준연식', '연료'])['차대번호'].count().unstack()"
   ]
  },
  {
   "cell_type": "code",
   "execution_count": 440,
   "metadata": {},
   "outputs": [],
   "source": [
    "df2.groupby(['차대번호_10자리_기준연식', '연료'])['차대번호'].count().unstack().to_excel('analysis/[G4][차량연식]차대번호10번째자리문자기준_통계.xlsx')"
   ]
  },
  {
   "cell_type": "code",
   "execution_count": null,
   "metadata": {},
   "outputs": [],
   "source": []
  },
  {
   "cell_type": "code",
   "execution_count": null,
   "metadata": {},
   "outputs": [],
   "source": []
  },
  {
   "cell_type": "code",
   "execution_count": null,
   "metadata": {},
   "outputs": [],
   "source": []
  },
  {
   "cell_type": "code",
   "execution_count": null,
   "metadata": {},
   "outputs": [],
   "source": []
  },
  {
   "cell_type": "code",
   "execution_count": null,
   "metadata": {},
   "outputs": [],
   "source": []
  },
  {
   "cell_type": "markdown",
   "metadata": {},
   "source": [
    "# 코드 마지막"
   ]
  }
 ],
 "metadata": {
  "kernelspec": {
   "display_name": "Python 3.9.13 ('base')",
   "language": "python",
   "name": "python3"
  },
  "language_info": {
   "codemirror_mode": {
    "name": "ipython",
    "version": 3
   },
   "file_extension": ".py",
   "mimetype": "text/x-python",
   "name": "python",
   "nbconvert_exporter": "python",
   "pygments_lexer": "ipython3",
   "version": "3.9.13"
  },
  "orig_nbformat": 4,
  "vscode": {
   "interpreter": {
    "hash": "ad2bdc8ecc057115af97d19610ffacc2b4e99fae6737bb82f5d7fb13d2f2c186"
   }
  }
 },
 "nbformat": 4,
 "nbformat_minor": 2
}
