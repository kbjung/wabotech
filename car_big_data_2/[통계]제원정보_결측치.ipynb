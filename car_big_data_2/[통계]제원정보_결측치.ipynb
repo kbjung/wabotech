{
 "cells": [
  {
   "attachments": {},
   "cell_type": "markdown",
   "metadata": {},
   "source": [
    "# Library"
   ]
  },
  {
   "cell_type": "code",
   "execution_count": 1,
   "metadata": {},
   "outputs": [],
   "source": [
    "import pandas as pd\n",
    "import numpy as np\n",
    "import os"
   ]
  },
  {
   "cell_type": "code",
   "execution_count": 2,
   "metadata": {},
   "outputs": [],
   "source": [
    "ods_folder = 'D:/data/big2/ODS'\n",
    "file_name = '[ODS]자동차_제원정보(2022.12.29).csv'\n",
    "ods_path = os.path.join(ods_folder, file_name)"
   ]
  },
  {
   "attachments": {},
   "cell_type": "markdown",
   "metadata": {},
   "source": [
    "# 로드"
   ]
  },
  {
   "cell_type": "code",
   "execution_count": 3,
   "metadata": {},
   "outputs": [
    {
     "name": "stdout",
     "output_type": "stream",
     "text": [
      "<class 'pandas.core.frame.DataFrame'>\n",
      "RangeIndex: 545374 entries, 0 to 545373\n",
      "Data columns (total 28 columns):\n",
      " #   Column       Non-Null Count   Dtype  \n",
      "---  ------       --------------   -----  \n",
      " 0   제원관리번호       545374 non-null  object \n",
      " 1   차명           545272 non-null  object \n",
      " 2   차종           545370 non-null  object \n",
      " 3   차종 분류        531367 non-null  object \n",
      " 4   차종 유형 (소분류)  531332 non-null  object \n",
      " 5   자동차 형식       516295 non-null  object \n",
      " 6   제작사 명        529017 non-null  object \n",
      " 7   연료           503254 non-null  object \n",
      " 8   엔진형식         494157 non-null  object \n",
      " 9   공차중량         0 non-null       float64\n",
      " 10  총 중량         541702 non-null  float64\n",
      " 11  적재 중량        446181 non-null  float64\n",
      " 12  엔진출력         471948 non-null  float64\n",
      " 13  배기량          510521 non-null  float64\n",
      " 14  승차 인원        545313 non-null  float64\n",
      " 15  차량 길이        514786 non-null  float64\n",
      " 16  차량 너비        514799 non-null  float64\n",
      " 17  차량 높이        514732 non-null  float64\n",
      " 18  원산지 명        540392 non-null  object \n",
      " 19  미정           0 non-null       float64\n",
      " 20  삭제 YN        545374 non-null  object \n",
      " 21  승인 일자        532881 non-null  object \n",
      " 22  구동 형식        114619 non-null  object \n",
      " 23  변속기 종류       540165 non-null  object \n",
      " 24  미정.1         1 non-null       object \n",
      " 25  생성 일시        545374 non-null  object \n",
      " 26  수정 일시        14578 non-null   object \n",
      " 27  미정.2         545374 non-null  object \n",
      "dtypes: float64(10), object(18)\n",
      "memory usage: 116.5+ MB\n"
     ]
    }
   ],
   "source": [
    "# about 5s\n",
    "df = pd.read_csv(ods_path, encoding='cp949', low_memory=False)\n",
    "df.info()"
   ]
  },
  {
   "cell_type": "code",
   "execution_count": 10,
   "metadata": {},
   "outputs": [
    {
     "name": "stdout",
     "output_type": "stream",
     "text": [
      "<class 'pandas.core.frame.DataFrame'>\n",
      "RangeIndex: 28 entries, 0 to 27\n",
      "Data columns (total 2 columns):\n",
      " #   Column  Non-Null Count  Dtype \n",
      "---  ------  --------------  ----- \n",
      " 0   컬럼      28 non-null     object\n",
      " 1   내용      28 non-null     object\n",
      "dtypes: object(2)\n",
      "memory usage: 576.0+ bytes\n"
     ]
    }
   ],
   "source": [
    "# about 5s\n",
    "file_name = '[정제]CEG_CAR_SRC_MIG.xlsx'\n",
    "ods_path = os.path.join('analysis/ODSvsSTD', file_name)\n",
    "col = pd.read_excel(ods_path, sheet_name='ODS_col')\n",
    "col.info()"
   ]
  },
  {
   "cell_type": "code",
   "execution_count": 13,
   "metadata": {},
   "outputs": [
    {
     "data": {
      "text/plain": [
       "{'수정 일시': 'UPDT_DT',\n",
       " '승인 일자': 'CNFRM_DE',\n",
       " '삭제 YN': 'DELE_YN',\n",
       " '생성 일시': 'CRTN_DT',\n",
       " '총 중량': 'TOT_WGHT',\n",
       " '차종 유형 (소분류)': 'VHCTY_TY',\n",
       " '차종 분류': 'VHCTY_CL',\n",
       " '차종': 'VHCTY',\n",
       " '차명': 'VHCNM',\n",
       " '차량 높이': 'VHCL_HG',\n",
       " '차량 너비': 'VHCL_WH',\n",
       " '차량 길이': 'VHCL_LT',\n",
       " '구동 형식': 'DRV_FRM',\n",
       " '제작사 명': 'MKR_NM',\n",
       " '제원관리번호': 'SRCMNNO',\n",
       " '적재 중량': 'CRYNG_WGHT',\n",
       " '자동차 형식': 'CAR_FRM',\n",
       " '공차중량': 'EMPV_WGHT',\n",
       " '원산지 명': 'PLOR_NM',\n",
       " '연료': 'FUEL',\n",
       " '엔진형식': 'EGINTY',\n",
       " '엔진출력': 'EGINPWR',\n",
       " '승차 인원': 'TKCAR_NMPR',\n",
       " '배기량': 'DSPLVL',\n",
       " '변속기 종류': 'GEARBOX_KND',\n",
       " '미정': 'USER_ID'}"
      ]
     },
     "execution_count": 13,
     "metadata": {},
     "output_type": "execute_result"
    }
   ],
   "source": [
    "col_dict = {b:a for a,b in zip(col['컬럼'], col['내용'])}\n",
    "col_dict"
   ]
  },
  {
   "cell_type": "code",
   "execution_count": 5,
   "metadata": {},
   "outputs": [
    {
     "data": {
      "text/html": [
       "<div>\n",
       "<style scoped>\n",
       "    .dataframe tbody tr th:only-of-type {\n",
       "        vertical-align: middle;\n",
       "    }\n",
       "\n",
       "    .dataframe tbody tr th {\n",
       "        vertical-align: top;\n",
       "    }\n",
       "\n",
       "    .dataframe thead th {\n",
       "        text-align: right;\n",
       "    }\n",
       "</style>\n",
       "<table border=\"1\" class=\"dataframe\">\n",
       "  <thead>\n",
       "    <tr style=\"text-align: right;\">\n",
       "      <th></th>\n",
       "      <th>한글컬럼</th>\n",
       "      <th>결측치</th>\n",
       "    </tr>\n",
       "  </thead>\n",
       "  <tbody>\n",
       "    <tr>\n",
       "      <th>0</th>\n",
       "      <td>제원관리번호</td>\n",
       "      <td>0</td>\n",
       "    </tr>\n",
       "    <tr>\n",
       "      <th>1</th>\n",
       "      <td>차명</td>\n",
       "      <td>102</td>\n",
       "    </tr>\n",
       "    <tr>\n",
       "      <th>2</th>\n",
       "      <td>차종</td>\n",
       "      <td>4</td>\n",
       "    </tr>\n",
       "    <tr>\n",
       "      <th>3</th>\n",
       "      <td>차종 분류</td>\n",
       "      <td>14007</td>\n",
       "    </tr>\n",
       "    <tr>\n",
       "      <th>4</th>\n",
       "      <td>차종 유형 (소분류)</td>\n",
       "      <td>14042</td>\n",
       "    </tr>\n",
       "    <tr>\n",
       "      <th>5</th>\n",
       "      <td>자동차 형식</td>\n",
       "      <td>29079</td>\n",
       "    </tr>\n",
       "    <tr>\n",
       "      <th>6</th>\n",
       "      <td>제작사 명</td>\n",
       "      <td>16357</td>\n",
       "    </tr>\n",
       "    <tr>\n",
       "      <th>7</th>\n",
       "      <td>연료</td>\n",
       "      <td>42120</td>\n",
       "    </tr>\n",
       "    <tr>\n",
       "      <th>8</th>\n",
       "      <td>엔진형식</td>\n",
       "      <td>51217</td>\n",
       "    </tr>\n",
       "    <tr>\n",
       "      <th>9</th>\n",
       "      <td>공차중량</td>\n",
       "      <td>545374</td>\n",
       "    </tr>\n",
       "    <tr>\n",
       "      <th>10</th>\n",
       "      <td>총 중량</td>\n",
       "      <td>3672</td>\n",
       "    </tr>\n",
       "    <tr>\n",
       "      <th>11</th>\n",
       "      <td>적재 중량</td>\n",
       "      <td>99193</td>\n",
       "    </tr>\n",
       "    <tr>\n",
       "      <th>12</th>\n",
       "      <td>엔진출력</td>\n",
       "      <td>73426</td>\n",
       "    </tr>\n",
       "    <tr>\n",
       "      <th>13</th>\n",
       "      <td>배기량</td>\n",
       "      <td>34853</td>\n",
       "    </tr>\n",
       "    <tr>\n",
       "      <th>14</th>\n",
       "      <td>승차 인원</td>\n",
       "      <td>61</td>\n",
       "    </tr>\n",
       "    <tr>\n",
       "      <th>15</th>\n",
       "      <td>차량 길이</td>\n",
       "      <td>30588</td>\n",
       "    </tr>\n",
       "    <tr>\n",
       "      <th>16</th>\n",
       "      <td>차량 너비</td>\n",
       "      <td>30575</td>\n",
       "    </tr>\n",
       "    <tr>\n",
       "      <th>17</th>\n",
       "      <td>차량 높이</td>\n",
       "      <td>30642</td>\n",
       "    </tr>\n",
       "    <tr>\n",
       "      <th>18</th>\n",
       "      <td>원산지 명</td>\n",
       "      <td>4982</td>\n",
       "    </tr>\n",
       "    <tr>\n",
       "      <th>19</th>\n",
       "      <td>미정</td>\n",
       "      <td>545374</td>\n",
       "    </tr>\n",
       "    <tr>\n",
       "      <th>20</th>\n",
       "      <td>삭제 YN</td>\n",
       "      <td>0</td>\n",
       "    </tr>\n",
       "    <tr>\n",
       "      <th>21</th>\n",
       "      <td>승인 일자</td>\n",
       "      <td>12493</td>\n",
       "    </tr>\n",
       "    <tr>\n",
       "      <th>22</th>\n",
       "      <td>구동 형식</td>\n",
       "      <td>430755</td>\n",
       "    </tr>\n",
       "    <tr>\n",
       "      <th>23</th>\n",
       "      <td>변속기 종류</td>\n",
       "      <td>5209</td>\n",
       "    </tr>\n",
       "    <tr>\n",
       "      <th>24</th>\n",
       "      <td>미정.1</td>\n",
       "      <td>545373</td>\n",
       "    </tr>\n",
       "    <tr>\n",
       "      <th>25</th>\n",
       "      <td>생성 일시</td>\n",
       "      <td>0</td>\n",
       "    </tr>\n",
       "    <tr>\n",
       "      <th>26</th>\n",
       "      <td>수정 일시</td>\n",
       "      <td>530796</td>\n",
       "    </tr>\n",
       "    <tr>\n",
       "      <th>27</th>\n",
       "      <td>미정.2</td>\n",
       "      <td>0</td>\n",
       "    </tr>\n",
       "  </tbody>\n",
       "</table>\n",
       "</div>"
      ],
      "text/plain": [
       "           한글컬럼     결측치\n",
       "0        제원관리번호       0\n",
       "1            차명     102\n",
       "2            차종       4\n",
       "3         차종 분류   14007\n",
       "4   차종 유형 (소분류)   14042\n",
       "5        자동차 형식   29079\n",
       "6         제작사 명   16357\n",
       "7            연료   42120\n",
       "8          엔진형식   51217\n",
       "9          공차중량  545374\n",
       "10         총 중량    3672\n",
       "11        적재 중량   99193\n",
       "12         엔진출력   73426\n",
       "13          배기량   34853\n",
       "14        승차 인원      61\n",
       "15        차량 길이   30588\n",
       "16        차량 너비   30575\n",
       "17        차량 높이   30642\n",
       "18        원산지 명    4982\n",
       "19           미정  545374\n",
       "20        삭제 YN       0\n",
       "21        승인 일자   12493\n",
       "22        구동 형식  430755\n",
       "23       변속기 종류    5209\n",
       "24         미정.1  545373\n",
       "25        생성 일시       0\n",
       "26        수정 일시  530796\n",
       "27         미정.2       0"
      ]
     },
     "execution_count": 5,
     "metadata": {},
     "output_type": "execute_result"
    }
   ],
   "source": [
    "an = df.isnull().sum().reset_index()\n",
    "an.columns = ['한글컬럼', '결측치']\n",
    "an"
   ]
  },
  {
   "cell_type": "code",
   "execution_count": 18,
   "metadata": {},
   "outputs": [],
   "source": [
    "temp =[]\n",
    "for x in an['한글컬럼']:\n",
    "    try:\n",
    "        temp.append(col_dict[x])\n",
    "    except:\n",
    "        temp.append('미정')\n",
    "an['컬럼'] = temp\n",
    "an = an[['컬럼', '한글컬럼', '결측치']]"
   ]
  },
  {
   "attachments": {},
   "cell_type": "markdown",
   "metadata": {},
   "source": [
    "## [출력] 제원정보 결측치 통계"
   ]
  },
  {
   "cell_type": "code",
   "execution_count": 19,
   "metadata": {},
   "outputs": [],
   "source": [
    "an.to_excel('analysis2/[통계]제원정보_결측치.xlsx', index=False)"
   ]
  },
  {
   "cell_type": "markdown",
   "metadata": {},
   "source": [
    "# 코드 마지막"
   ]
  }
 ],
 "metadata": {
  "kernelspec": {
   "display_name": "base",
   "language": "python",
   "name": "python3"
  },
  "language_info": {
   "codemirror_mode": {
    "name": "ipython",
    "version": 3
   },
   "file_extension": ".py",
   "mimetype": "text/x-python",
   "name": "python",
   "nbconvert_exporter": "python",
   "pygments_lexer": "ipython3",
   "version": "3.9.13"
  },
  "orig_nbformat": 4,
  "vscode": {
   "interpreter": {
    "hash": "ad2bdc8ecc057115af97d19610ffacc2b4e99fae6737bb82f5d7fb13d2f2c186"
   }
  }
 },
 "nbformat": 4,
 "nbformat_minor": 2
}
