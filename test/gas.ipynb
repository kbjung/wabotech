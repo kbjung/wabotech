{
 "cells": [
  {
   "cell_type": "markdown",
   "metadata": {},
   "source": [
    "# 한국교통안전공단_배출가스 검사 정보_20220818"
   ]
  },
  {
   "cell_type": "markdown",
   "metadata": {},
   "source": [
    "## 라이브러리"
   ]
  },
  {
   "cell_type": "code",
   "execution_count": 53,
   "metadata": {},
   "outputs": [],
   "source": [
    "import pandas as pd\n",
    "import matplotlib.pyplot as plt\n",
    "import numpy as np"
   ]
  },
  {
   "cell_type": "markdown",
   "metadata": {},
   "source": [
    "### pandas option"
   ]
  },
  {
   "cell_type": "code",
   "execution_count": 123,
   "metadata": {},
   "outputs": [],
   "source": [
    "pd.options.display.float_format = '{:.9}'.format\n",
    "# pd.reset_option('display.float_format')\n",
    "# pd.set_option('display.float_format', None)"
   ]
  },
  {
   "cell_type": "markdown",
   "metadata": {},
   "source": [
    "## 데이터 분석"
   ]
  },
  {
   "cell_type": "code",
   "execution_count": 15,
   "metadata": {},
   "outputs": [
    {
     "data": {
      "text/html": [
       "<div>\n",
       "<style scoped>\n",
       "    .dataframe tbody tr th:only-of-type {\n",
       "        vertical-align: middle;\n",
       "    }\n",
       "\n",
       "    .dataframe tbody tr th {\n",
       "        vertical-align: top;\n",
       "    }\n",
       "\n",
       "    .dataframe thead th {\n",
       "        text-align: right;\n",
       "    }\n",
       "</style>\n",
       "<table border=\"1\" class=\"dataframe\">\n",
       "  <thead>\n",
       "    <tr style=\"text-align: right;\">\n",
       "      <th></th>\n",
       "      <th>검사방법</th>\n",
       "      <th>연료</th>\n",
       "      <th>적용법령</th>\n",
       "      <th>차종</th>\n",
       "      <th>제작시작일자</th>\n",
       "      <th>제작종료일자</th>\n",
       "      <th>적용시작일자</th>\n",
       "      <th>적용종료일자</th>\n",
       "      <th>차량최소중량</th>\n",
       "      <th>차량최대중량</th>\n",
       "      <th>일산화탄소-기준치</th>\n",
       "      <th>탄화수소-기준치</th>\n",
       "      <th>질소산화물-기준치</th>\n",
       "      <th>매연-기준치</th>\n",
       "      <th>매연-기준치(촉매)</th>\n",
       "    </tr>\n",
       "  </thead>\n",
       "  <tbody>\n",
       "    <tr>\n",
       "      <th>0</th>\n",
       "      <td>부하검사(LUG DOWN)</td>\n",
       "      <td>경유</td>\n",
       "      <td>대기환경보전법</td>\n",
       "      <td>전차종</td>\n",
       "      <td>2008-01-01</td>\n",
       "      <td>9999-12-31</td>\n",
       "      <td>2010-07-01</td>\n",
       "      <td>9999-12-31</td>\n",
       "      <td>0</td>\n",
       "      <td>5500</td>\n",
       "      <td></td>\n",
       "      <td></td>\n",
       "      <td></td>\n",
       "      <td>20</td>\n",
       "      <td></td>\n",
       "    </tr>\n",
       "    <tr>\n",
       "      <th>1</th>\n",
       "      <td>부하검사(LUG DOWN)</td>\n",
       "      <td>경유</td>\n",
       "      <td>대기환경보전법</td>\n",
       "      <td>전차종</td>\n",
       "      <td>2001-01-01</td>\n",
       "      <td>2007-12-31</td>\n",
       "      <td>2010-07-01</td>\n",
       "      <td>9999-12-31</td>\n",
       "      <td>0</td>\n",
       "      <td>5500</td>\n",
       "      <td></td>\n",
       "      <td></td>\n",
       "      <td></td>\n",
       "      <td>50</td>\n",
       "      <td></td>\n",
       "    </tr>\n",
       "    <tr>\n",
       "      <th>2</th>\n",
       "      <td>부하검사(LUG DOWN)</td>\n",
       "      <td>경유</td>\n",
       "      <td>대기환경보전법</td>\n",
       "      <td>전차종</td>\n",
       "      <td>1996-01-01</td>\n",
       "      <td>2000-12-31</td>\n",
       "      <td>2010-07-01</td>\n",
       "      <td>9999-12-31</td>\n",
       "      <td>0</td>\n",
       "      <td>5500</td>\n",
       "      <td></td>\n",
       "      <td></td>\n",
       "      <td></td>\n",
       "      <td>60</td>\n",
       "      <td></td>\n",
       "    </tr>\n",
       "    <tr>\n",
       "      <th>3</th>\n",
       "      <td>부하검사(LUG DOWN)</td>\n",
       "      <td>경유</td>\n",
       "      <td>대기환경보전법</td>\n",
       "      <td>전차종</td>\n",
       "      <td>1901-01-01</td>\n",
       "      <td>1995-12-31</td>\n",
       "      <td>2010-07-01</td>\n",
       "      <td>9999-12-31</td>\n",
       "      <td>0</td>\n",
       "      <td>5500</td>\n",
       "      <td></td>\n",
       "      <td></td>\n",
       "      <td></td>\n",
       "      <td>70</td>\n",
       "      <td></td>\n",
       "    </tr>\n",
       "    <tr>\n",
       "      <th>4</th>\n",
       "      <td>부하검사(LUG DOWN)</td>\n",
       "      <td>경유</td>\n",
       "      <td>대기환경보전법</td>\n",
       "      <td>전차종</td>\n",
       "      <td>2008-01-01</td>\n",
       "      <td>9999-12-31</td>\n",
       "      <td>2010-07-01</td>\n",
       "      <td>9999-12-31</td>\n",
       "      <td>5501</td>\n",
       "      <td>9999999</td>\n",
       "      <td></td>\n",
       "      <td></td>\n",
       "      <td></td>\n",
       "      <td>15</td>\n",
       "      <td></td>\n",
       "    </tr>\n",
       "  </tbody>\n",
       "</table>\n",
       "</div>"
      ],
      "text/plain": [
       "             검사방법  연료     적용법령   차종      제작시작일자      제작종료일자      적용시작일자  \\\n",
       "0  부하검사(LUG DOWN)  경유  대기환경보전법  전차종  2008-01-01  9999-12-31  2010-07-01   \n",
       "1  부하검사(LUG DOWN)  경유  대기환경보전법  전차종  2001-01-01  2007-12-31  2010-07-01   \n",
       "2  부하검사(LUG DOWN)  경유  대기환경보전법  전차종  1996-01-01  2000-12-31  2010-07-01   \n",
       "3  부하검사(LUG DOWN)  경유  대기환경보전법  전차종  1901-01-01  1995-12-31  2010-07-01   \n",
       "4  부하검사(LUG DOWN)  경유  대기환경보전법  전차종  2008-01-01  9999-12-31  2010-07-01   \n",
       "\n",
       "       적용종료일자  차량최소중량   차량최대중량 일산화탄소-기준치 탄화수소-기준치 질소산화물-기준치 매연-기준치 매연-기준치(촉매)  \n",
       "0  9999-12-31       0     5500                                  20             \n",
       "1  9999-12-31       0     5500                                  50             \n",
       "2  9999-12-31       0     5500                                  60             \n",
       "3  9999-12-31       0     5500                                  70             \n",
       "4  9999-12-31    5501  9999999                                  15             "
      ]
     },
     "execution_count": 15,
     "metadata": {},
     "output_type": "execute_result"
    }
   ],
   "source": [
    "df = pd.read_csv('gas.csv', encoding='EUC-kr')\n",
    "df.head()"
   ]
  },
  {
   "cell_type": "markdown",
   "metadata": {},
   "source": [
    "### 기본 분석"
   ]
  },
  {
   "cell_type": "code",
   "execution_count": 117,
   "metadata": {},
   "outputs": [
    {
     "name": "stdout",
     "output_type": "stream",
     "text": [
      "<class 'pandas.core.frame.DataFrame'>\n",
      "RangeIndex: 4913 entries, 0 to 4912\n",
      "Data columns (total 15 columns):\n",
      " #   Column      Non-Null Count  Dtype \n",
      "---  ------      --------------  ----- \n",
      " 0   검사방법        4913 non-null   object\n",
      " 1   연료          4913 non-null   object\n",
      " 2   적용법령        4913 non-null   object\n",
      " 3   차종          4913 non-null   object\n",
      " 4   제작시작일자      4913 non-null   object\n",
      " 5   제작종료일자      4913 non-null   object\n",
      " 6   적용시작일자      4913 non-null   object\n",
      " 7   적용종료일자      4913 non-null   object\n",
      " 8   차량최소중량      4913 non-null   int64 \n",
      " 9   차량최대중량      4913 non-null   int64 \n",
      " 10  일산화탄소-기준치   4913 non-null   object\n",
      " 11  탄화수소-기준치    4913 non-null   object\n",
      " 12  질소산화물-기준치   4913 non-null   object\n",
      " 13  매연-기준치      4668 non-null   object\n",
      " 14  매연-기준치(촉매)  4668 non-null   object\n",
      "dtypes: int64(2), object(13)\n",
      "memory usage: 575.9+ KB\n"
     ]
    }
   ],
   "source": [
    "df.info()"
   ]
  },
  {
   "cell_type": "code",
   "execution_count": 16,
   "metadata": {},
   "outputs": [
    {
     "data": {
      "text/html": [
       "<div>\n",
       "<style scoped>\n",
       "    .dataframe tbody tr th:only-of-type {\n",
       "        vertical-align: middle;\n",
       "    }\n",
       "\n",
       "    .dataframe tbody tr th {\n",
       "        vertical-align: top;\n",
       "    }\n",
       "\n",
       "    .dataframe thead th {\n",
       "        text-align: right;\n",
       "    }\n",
       "</style>\n",
       "<table border=\"1\" class=\"dataframe\">\n",
       "  <thead>\n",
       "    <tr style=\"text-align: right;\">\n",
       "      <th></th>\n",
       "      <th>검사방법</th>\n",
       "      <th>연료</th>\n",
       "      <th>적용법령</th>\n",
       "      <th>차종</th>\n",
       "      <th>제작시작일자</th>\n",
       "      <th>제작종료일자</th>\n",
       "      <th>적용시작일자</th>\n",
       "      <th>적용종료일자</th>\n",
       "      <th>일산화탄소-기준치</th>\n",
       "      <th>탄화수소-기준치</th>\n",
       "      <th>질소산화물-기준치</th>\n",
       "      <th>매연-기준치</th>\n",
       "      <th>매연-기준치(촉매)</th>\n",
       "    </tr>\n",
       "  </thead>\n",
       "  <tbody>\n",
       "    <tr>\n",
       "      <th>count</th>\n",
       "      <td>4913</td>\n",
       "      <td>4913</td>\n",
       "      <td>4913</td>\n",
       "      <td>4913</td>\n",
       "      <td>4913</td>\n",
       "      <td>4913</td>\n",
       "      <td>4913</td>\n",
       "      <td>4913</td>\n",
       "      <td>4913</td>\n",
       "      <td>4913</td>\n",
       "      <td>4913</td>\n",
       "      <td>4668</td>\n",
       "      <td>4668</td>\n",
       "    </tr>\n",
       "    <tr>\n",
       "      <th>unique</th>\n",
       "      <td>6</td>\n",
       "      <td>9</td>\n",
       "      <td>2</td>\n",
       "      <td>19</td>\n",
       "      <td>13</td>\n",
       "      <td>13</td>\n",
       "      <td>8</td>\n",
       "      <td>7</td>\n",
       "      <td>120</td>\n",
       "      <td>48</td>\n",
       "      <td>124</td>\n",
       "      <td>14</td>\n",
       "      <td>7</td>\n",
       "    </tr>\n",
       "    <tr>\n",
       "      <th>top</th>\n",
       "      <td>부하검사(ASM-Idling)</td>\n",
       "      <td>엘피지</td>\n",
       "      <td>대기환경보전법</td>\n",
       "      <td>승용중형</td>\n",
       "      <td>2001-01-01</td>\n",
       "      <td>9999-12-31</td>\n",
       "      <td>2010-04-01</td>\n",
       "      <td>9999-12-31</td>\n",
       "      <td></td>\n",
       "      <td>100</td>\n",
       "      <td></td>\n",
       "      <td></td>\n",
       "      <td></td>\n",
       "    </tr>\n",
       "    <tr>\n",
       "      <th>freq</th>\n",
       "      <td>3873</td>\n",
       "      <td>676</td>\n",
       "      <td>4877</td>\n",
       "      <td>527</td>\n",
       "      <td>1144</td>\n",
       "      <td>1477</td>\n",
       "      <td>2731</td>\n",
       "      <td>3414</td>\n",
       "      <td>322</td>\n",
       "      <td>438</td>\n",
       "      <td>1038</td>\n",
       "      <td>4330</td>\n",
       "      <td>4408</td>\n",
       "    </tr>\n",
       "  </tbody>\n",
       "</table>\n",
       "</div>"
      ],
      "text/plain": [
       "                    검사방법    연료     적용법령    차종      제작시작일자      제작종료일자  \\\n",
       "count               4913  4913     4913  4913        4913        4913   \n",
       "unique                 6     9        2    19          13          13   \n",
       "top     부하검사(ASM-Idling)   엘피지  대기환경보전법  승용중형  2001-01-01  9999-12-31   \n",
       "freq                3873   676     4877   527        1144        1477   \n",
       "\n",
       "            적용시작일자      적용종료일자 일산화탄소-기준치 탄화수소-기준치 질소산화물-기준치 매연-기준치 매연-기준치(촉매)  \n",
       "count         4913        4913      4913     4913      4913   4668       4668  \n",
       "unique           8           7       120       48       124     14          7  \n",
       "top     2010-04-01  9999-12-31                100                              \n",
       "freq          2731        3414       322      438      1038   4330       4408  "
      ]
     },
     "execution_count": 16,
     "metadata": {},
     "output_type": "execute_result"
    }
   ],
   "source": [
    "df.describe(include=['O'])"
   ]
  },
  {
   "cell_type": "code",
   "execution_count": 19,
   "metadata": {},
   "outputs": [
    {
     "data": {
      "text/html": [
       "<div>\n",
       "<style scoped>\n",
       "    .dataframe tbody tr th:only-of-type {\n",
       "        vertical-align: middle;\n",
       "    }\n",
       "\n",
       "    .dataframe tbody tr th {\n",
       "        vertical-align: top;\n",
       "    }\n",
       "\n",
       "    .dataframe thead th {\n",
       "        text-align: right;\n",
       "    }\n",
       "</style>\n",
       "<table border=\"1\" class=\"dataframe\">\n",
       "  <thead>\n",
       "    <tr style=\"text-align: right;\">\n",
       "      <th></th>\n",
       "      <th>차량최소중량</th>\n",
       "      <th>차량최대중량</th>\n",
       "    </tr>\n",
       "  </thead>\n",
       "  <tbody>\n",
       "    <tr>\n",
       "      <th>count</th>\n",
       "      <td>4913.0</td>\n",
       "      <td>4913.0</td>\n",
       "    </tr>\n",
       "    <tr>\n",
       "      <th>mean</th>\n",
       "      <td>1359.2526</td>\n",
       "      <td>3398467.96</td>\n",
       "    </tr>\n",
       "    <tr>\n",
       "      <th>std</th>\n",
       "      <td>1106.36376</td>\n",
       "      <td>4735617.54</td>\n",
       "    </tr>\n",
       "    <tr>\n",
       "      <th>min</th>\n",
       "      <td>0.0</td>\n",
       "      <td>999.0</td>\n",
       "    </tr>\n",
       "    <tr>\n",
       "      <th>25%</th>\n",
       "      <td>0.0</td>\n",
       "      <td>1749.0</td>\n",
       "    </tr>\n",
       "    <tr>\n",
       "      <th>50%</th>\n",
       "      <td>1600.0</td>\n",
       "      <td>2499.0</td>\n",
       "    </tr>\n",
       "    <tr>\n",
       "      <th>75%</th>\n",
       "      <td>2250.0</td>\n",
       "      <td>9999999.0</td>\n",
       "    </tr>\n",
       "    <tr>\n",
       "      <th>max</th>\n",
       "      <td>5501.0</td>\n",
       "      <td>9999999.0</td>\n",
       "    </tr>\n",
       "  </tbody>\n",
       "</table>\n",
       "</div>"
      ],
      "text/plain": [
       "          차량최소중량     차량최대중량\n",
       "count     4913.0     4913.0\n",
       "mean   1359.2526 3398467.96\n",
       "std   1106.36376 4735617.54\n",
       "min          0.0      999.0\n",
       "25%          0.0     1749.0\n",
       "50%       1600.0     2499.0\n",
       "75%       2250.0  9999999.0\n",
       "max       5501.0  9999999.0"
      ]
     },
     "execution_count": 19,
     "metadata": {},
     "output_type": "execute_result"
    }
   ],
   "source": [
    "df.describe()"
   ]
  },
  {
   "cell_type": "code",
   "execution_count": 21,
   "metadata": {},
   "outputs": [
    {
     "data": {
      "text/plain": [
       "Index(['검사방법', '연료', '적용법령', '차종', '제작시작일자', '제작종료일자', '적용시작일자', '적용종료일자',\n",
       "       '차량최소중량', '차량최대중량', '일산화탄소-기준치', '탄화수소-기준치', '질소산화물-기준치', '매연-기준치',\n",
       "       '매연-기준치(촉매)'],\n",
       "      dtype='object')"
      ]
     },
     "execution_count": 21,
     "metadata": {},
     "output_type": "execute_result"
    }
   ],
   "source": [
    "df.columns"
   ]
  },
  {
   "cell_type": "markdown",
   "metadata": {},
   "source": [
    "### 검사방법"
   ]
  },
  {
   "cell_type": "code",
   "execution_count": 205,
   "metadata": {},
   "outputs": [
    {
     "data": {
      "text/plain": [
       "array(['부하검사(LUG DOWN)', '무부하검사(정지가동)', '무부하검사(급가속)', '무부하검사(TSI)',\n",
       "       '부하검사(KD-147)', '부하검사(ASM-Idling)'], dtype=object)"
      ]
     },
     "execution_count": 205,
     "metadata": {},
     "output_type": "execute_result"
    }
   ],
   "source": [
    "df['검사방법'].unique()"
   ]
  },
  {
   "cell_type": "code",
   "execution_count": 206,
   "metadata": {},
   "outputs": [
    {
     "data": {
      "text/plain": [
       "부하검사(ASM-Idling)    3873\n",
       "무부하검사(정지가동)          351\n",
       "무부하검사(TSI)           351\n",
       "무부하검사(급가속)           268\n",
       "부하검사(KD-147)          46\n",
       "부하검사(LUG DOWN)        24\n",
       "Name: 검사방법, dtype: int64"
      ]
     },
     "execution_count": 206,
     "metadata": {},
     "output_type": "execute_result"
    }
   ],
   "source": [
    "df['검사방법'].value_counts()"
   ]
  },
  {
   "cell_type": "code",
   "execution_count": 208,
   "metadata": {},
   "outputs": [
    {
     "data": {
      "text/plain": [
       "(4913,)"
      ]
     },
     "execution_count": 208,
     "metadata": {},
     "output_type": "execute_result"
    }
   ],
   "source": [
    "df['검사방법'].shape"
   ]
  },
  {
   "cell_type": "code",
   "execution_count": 207,
   "metadata": {},
   "outputs": [
    {
     "data": {
      "text/plain": [
       "count                 4913\n",
       "unique                   6\n",
       "top       부하검사(ASM-Idling)\n",
       "freq                  3873\n",
       "Name: 검사방법, dtype: object"
      ]
     },
     "execution_count": 207,
     "metadata": {},
     "output_type": "execute_result"
    }
   ],
   "source": [
    "df['검사방법'].describe()"
   ]
  },
  {
   "cell_type": "markdown",
   "metadata": {},
   "source": [
    "### 연료"
   ]
  },
  {
   "cell_type": "code",
   "execution_count": 211,
   "metadata": {},
   "outputs": [
    {
     "data": {
      "text/plain": [
       "array(['경유', '하이브리드(경유+전기)', '휘발유', '엘피지', '알코올', '휘발유(유연)', '휘발유(무연)',\n",
       "       '하이브리드(휘발유+전기)', '하이브리드(LPG+전기)'], dtype=object)"
      ]
     },
     "execution_count": 211,
     "metadata": {},
     "output_type": "execute_result"
    }
   ],
   "source": [
    "df['연료'].unique()"
   ]
  },
  {
   "cell_type": "code",
   "execution_count": 212,
   "metadata": {},
   "outputs": [
    {
     "data": {
      "text/plain": [
       "엘피지              676\n",
       "하이브리드(LPG+전기)    676\n",
       "휘발유              647\n",
       "알코올              647\n",
       "휘발유(유연)          647\n",
       "휘발유(무연)          647\n",
       "하이브리드(휘발유+전기)    635\n",
       "경유               169\n",
       "하이브리드(경유+전기)     169\n",
       "Name: 연료, dtype: int64"
      ]
     },
     "execution_count": 212,
     "metadata": {},
     "output_type": "execute_result"
    }
   ],
   "source": [
    "df['연료'].value_counts()"
   ]
  },
  {
   "cell_type": "code",
   "execution_count": 209,
   "metadata": {},
   "outputs": [
    {
     "data": {
      "text/plain": [
       "(4913,)"
      ]
     },
     "execution_count": 209,
     "metadata": {},
     "output_type": "execute_result"
    }
   ],
   "source": [
    "df['연료'].shape"
   ]
  },
  {
   "cell_type": "code",
   "execution_count": 210,
   "metadata": {},
   "outputs": [
    {
     "data": {
      "text/plain": [
       "count     4913\n",
       "unique       9\n",
       "top        엘피지\n",
       "freq       676\n",
       "Name: 연료, dtype: object"
      ]
     },
     "execution_count": 210,
     "metadata": {},
     "output_type": "execute_result"
    }
   ],
   "source": [
    "df['연료'].describe()"
   ]
  },
  {
   "cell_type": "markdown",
   "metadata": {},
   "source": [
    "### 적용법령"
   ]
  },
  {
   "cell_type": "code",
   "execution_count": 213,
   "metadata": {},
   "outputs": [
    {
     "data": {
      "text/plain": [
       "array(['대기환경보전법', '대기관리권역법'], dtype=object)"
      ]
     },
     "execution_count": 213,
     "metadata": {},
     "output_type": "execute_result"
    }
   ],
   "source": [
    "df['적용법령'].unique()"
   ]
  },
  {
   "cell_type": "code",
   "execution_count": 214,
   "metadata": {},
   "outputs": [
    {
     "data": {
      "text/plain": [
       "대기환경보전법    4877\n",
       "대기관리권역법      36\n",
       "Name: 적용법령, dtype: int64"
      ]
     },
     "execution_count": 214,
     "metadata": {},
     "output_type": "execute_result"
    }
   ],
   "source": [
    "df['적용법령'].value_counts()"
   ]
  },
  {
   "cell_type": "code",
   "execution_count": 215,
   "metadata": {},
   "outputs": [
    {
     "data": {
      "text/plain": [
       "(4913,)"
      ]
     },
     "execution_count": 215,
     "metadata": {},
     "output_type": "execute_result"
    }
   ],
   "source": [
    "df['적용법령'].shape"
   ]
  },
  {
   "cell_type": "code",
   "execution_count": 216,
   "metadata": {},
   "outputs": [
    {
     "data": {
      "text/plain": [
       "count        4913\n",
       "unique          2\n",
       "top       대기환경보전법\n",
       "freq         4877\n",
       "Name: 적용법령, dtype: object"
      ]
     },
     "execution_count": 216,
     "metadata": {},
     "output_type": "execute_result"
    }
   ],
   "source": [
    "df['적용법령'].describe()"
   ]
  },
  {
   "cell_type": "code",
   "execution_count": 41,
   "metadata": {},
   "outputs": [
    {
     "data": {
      "text/plain": [
       "Index(['검사방법', '연료', '적용법령', '차종', '제작시작일자', '제작종료일자', '적용시작일자', '적용종료일자',\n",
       "       '차량최소중량', '차량최대중량', '일산화탄소-기준치', '탄화수소-기준치', '질소산화물-기준치', '매연-기준치',\n",
       "       '매연-기준치(촉매)'],\n",
       "      dtype='object')"
      ]
     },
     "execution_count": 41,
     "metadata": {},
     "output_type": "execute_result"
    }
   ],
   "source": [
    "df.columns"
   ]
  },
  {
   "cell_type": "code",
   "execution_count": 42,
   "metadata": {},
   "outputs": [
    {
     "data": {
      "text/html": [
       "<div>\n",
       "<style scoped>\n",
       "    .dataframe tbody tr th:only-of-type {\n",
       "        vertical-align: middle;\n",
       "    }\n",
       "\n",
       "    .dataframe tbody tr th {\n",
       "        vertical-align: top;\n",
       "    }\n",
       "\n",
       "    .dataframe thead th {\n",
       "        text-align: right;\n",
       "    }\n",
       "</style>\n",
       "<table border=\"1\" class=\"dataframe\">\n",
       "  <thead>\n",
       "    <tr style=\"text-align: right;\">\n",
       "      <th></th>\n",
       "      <th>검사방법</th>\n",
       "      <th>연료</th>\n",
       "      <th>적용법령</th>\n",
       "      <th>차종</th>\n",
       "      <th>제작시작일자</th>\n",
       "      <th>제작종료일자</th>\n",
       "      <th>적용시작일자</th>\n",
       "      <th>적용종료일자</th>\n",
       "      <th>차량최소중량</th>\n",
       "      <th>차량최대중량</th>\n",
       "      <th>일산화탄소-기준치</th>\n",
       "      <th>탄화수소-기준치</th>\n",
       "      <th>질소산화물-기준치</th>\n",
       "      <th>매연-기준치</th>\n",
       "      <th>매연-기준치(촉매)</th>\n",
       "    </tr>\n",
       "  </thead>\n",
       "  <tbody>\n",
       "    <tr>\n",
       "      <th>0</th>\n",
       "      <td>부하검사(LUG DOWN)</td>\n",
       "      <td>경유</td>\n",
       "      <td>대기환경보전법</td>\n",
       "      <td>전차종</td>\n",
       "      <td>2008-01-01</td>\n",
       "      <td>9999-12-31</td>\n",
       "      <td>2010-07-01</td>\n",
       "      <td>9999-12-31</td>\n",
       "      <td>0</td>\n",
       "      <td>5500</td>\n",
       "      <td></td>\n",
       "      <td></td>\n",
       "      <td></td>\n",
       "      <td>20</td>\n",
       "      <td></td>\n",
       "    </tr>\n",
       "    <tr>\n",
       "      <th>1</th>\n",
       "      <td>부하검사(LUG DOWN)</td>\n",
       "      <td>경유</td>\n",
       "      <td>대기환경보전법</td>\n",
       "      <td>전차종</td>\n",
       "      <td>2001-01-01</td>\n",
       "      <td>2007-12-31</td>\n",
       "      <td>2010-07-01</td>\n",
       "      <td>9999-12-31</td>\n",
       "      <td>0</td>\n",
       "      <td>5500</td>\n",
       "      <td></td>\n",
       "      <td></td>\n",
       "      <td></td>\n",
       "      <td>50</td>\n",
       "      <td></td>\n",
       "    </tr>\n",
       "    <tr>\n",
       "      <th>2</th>\n",
       "      <td>부하검사(LUG DOWN)</td>\n",
       "      <td>경유</td>\n",
       "      <td>대기환경보전법</td>\n",
       "      <td>전차종</td>\n",
       "      <td>1996-01-01</td>\n",
       "      <td>2000-12-31</td>\n",
       "      <td>2010-07-01</td>\n",
       "      <td>9999-12-31</td>\n",
       "      <td>0</td>\n",
       "      <td>5500</td>\n",
       "      <td></td>\n",
       "      <td></td>\n",
       "      <td></td>\n",
       "      <td>60</td>\n",
       "      <td></td>\n",
       "    </tr>\n",
       "    <tr>\n",
       "      <th>3</th>\n",
       "      <td>부하검사(LUG DOWN)</td>\n",
       "      <td>경유</td>\n",
       "      <td>대기환경보전법</td>\n",
       "      <td>전차종</td>\n",
       "      <td>1901-01-01</td>\n",
       "      <td>1995-12-31</td>\n",
       "      <td>2010-07-01</td>\n",
       "      <td>9999-12-31</td>\n",
       "      <td>0</td>\n",
       "      <td>5500</td>\n",
       "      <td></td>\n",
       "      <td></td>\n",
       "      <td></td>\n",
       "      <td>70</td>\n",
       "      <td></td>\n",
       "    </tr>\n",
       "    <tr>\n",
       "      <th>4</th>\n",
       "      <td>부하검사(LUG DOWN)</td>\n",
       "      <td>경유</td>\n",
       "      <td>대기환경보전법</td>\n",
       "      <td>전차종</td>\n",
       "      <td>2008-01-01</td>\n",
       "      <td>9999-12-31</td>\n",
       "      <td>2010-07-01</td>\n",
       "      <td>9999-12-31</td>\n",
       "      <td>5501</td>\n",
       "      <td>9999999</td>\n",
       "      <td></td>\n",
       "      <td></td>\n",
       "      <td></td>\n",
       "      <td>15</td>\n",
       "      <td></td>\n",
       "    </tr>\n",
       "  </tbody>\n",
       "</table>\n",
       "</div>"
      ],
      "text/plain": [
       "             검사방법  연료     적용법령   차종      제작시작일자      제작종료일자      적용시작일자  \\\n",
       "0  부하검사(LUG DOWN)  경유  대기환경보전법  전차종  2008-01-01  9999-12-31  2010-07-01   \n",
       "1  부하검사(LUG DOWN)  경유  대기환경보전법  전차종  2001-01-01  2007-12-31  2010-07-01   \n",
       "2  부하검사(LUG DOWN)  경유  대기환경보전법  전차종  1996-01-01  2000-12-31  2010-07-01   \n",
       "3  부하검사(LUG DOWN)  경유  대기환경보전법  전차종  1901-01-01  1995-12-31  2010-07-01   \n",
       "4  부하검사(LUG DOWN)  경유  대기환경보전법  전차종  2008-01-01  9999-12-31  2010-07-01   \n",
       "\n",
       "       적용종료일자  차량최소중량   차량최대중량 일산화탄소-기준치 탄화수소-기준치 질소산화물-기준치 매연-기준치 매연-기준치(촉매)  \n",
       "0  9999-12-31       0     5500                                  20             \n",
       "1  9999-12-31       0     5500                                  50             \n",
       "2  9999-12-31       0     5500                                  60             \n",
       "3  9999-12-31       0     5500                                  70             \n",
       "4  9999-12-31    5501  9999999                                  15             "
      ]
     },
     "execution_count": 42,
     "metadata": {},
     "output_type": "execute_result"
    }
   ],
   "source": [
    "df.head()"
   ]
  },
  {
   "cell_type": "markdown",
   "metadata": {},
   "source": [
    "### 차종"
   ]
  },
  {
   "cell_type": "code",
   "execution_count": 44,
   "metadata": {},
   "outputs": [
    {
     "data": {
      "text/plain": [
       "array(['전차종', '승용소형', '승용중형', '승용대형', '승용경형', '승합소형', '승합중형', '승합대형',\n",
       "       '승합경형', '화물소형', '화물중형', '화물대형', '화물경형', '특수소형', '특수중형', '특수대형',\n",
       "       '특수경형', '승합중형(시내버스)', '승합대형(시내버스)'], dtype=object)"
      ]
     },
     "execution_count": 44,
     "metadata": {},
     "output_type": "execute_result"
    }
   ],
   "source": [
    "df['차종'].unique()"
   ]
  },
  {
   "cell_type": "code",
   "execution_count": 47,
   "metadata": {},
   "outputs": [
    {
     "data": {
      "text/plain": [
       "승용중형          527\n",
       "승용대형          527\n",
       "승용소형          527\n",
       "화물소형          506\n",
       "승합소형          506\n",
       "특수소형          506\n",
       "승합중형          214\n",
       "화물중형          214\n",
       "특수중형          214\n",
       "승합대형          210\n",
       "화물대형          210\n",
       "특수대형          210\n",
       "승용경형          127\n",
       "특수경형          111\n",
       "승합경형          111\n",
       "화물경형          111\n",
       "전차종            78\n",
       "승합중형(시내버스)      2\n",
       "승합대형(시내버스)      2\n",
       "Name: 차종, dtype: int64"
      ]
     },
     "execution_count": 47,
     "metadata": {},
     "output_type": "execute_result"
    }
   ],
   "source": [
    "df['차종'].value_counts()"
   ]
  },
  {
   "cell_type": "markdown",
   "metadata": {},
   "source": [
    "### 제작시작일자"
   ]
  },
  {
   "cell_type": "code",
   "execution_count": 218,
   "metadata": {},
   "outputs": [
    {
     "data": {
      "text/plain": [
       "dtype('O')"
      ]
     },
     "execution_count": 218,
     "metadata": {},
     "output_type": "execute_result"
    }
   ],
   "source": [
    "df['제작시작일자'].dtype"
   ]
  },
  {
   "cell_type": "code",
   "execution_count": 219,
   "metadata": {},
   "outputs": [
    {
     "data": {
      "text/plain": [
       "0    2008-01-01\n",
       "1    2001-01-01\n",
       "2    1996-01-01\n",
       "3    1901-01-01\n",
       "4    2008-01-01\n",
       "Name: 제작시작일자, dtype: object"
      ]
     },
     "execution_count": 219,
     "metadata": {},
     "output_type": "execute_result"
    }
   ],
   "source": [
    "df['제작시작일자'].head()"
   ]
  },
  {
   "cell_type": "code",
   "execution_count": 220,
   "metadata": {},
   "outputs": [],
   "source": [
    "make_start = df['제작시작일자'].copy()"
   ]
  },
  {
   "cell_type": "code",
   "execution_count": 221,
   "metadata": {},
   "outputs": [
    {
     "data": {
      "text/plain": [
       "0   2008-01-01\n",
       "1   2001-01-01\n",
       "2   1996-01-01\n",
       "3   1901-01-01\n",
       "4   2008-01-01\n",
       "Name: 제작시작일자, dtype: datetime64[ns]"
      ]
     },
     "execution_count": 221,
     "metadata": {},
     "output_type": "execute_result"
    }
   ],
   "source": [
    "pd.to_datetime(make_start).head()"
   ]
  },
  {
   "cell_type": "code",
   "execution_count": 222,
   "metadata": {},
   "outputs": [
    {
     "data": {
      "text/plain": [
       "4908   2004-01-01\n",
       "4909   2004-01-01\n",
       "4910   2001-01-01\n",
       "4911   1998-01-01\n",
       "4912   1901-01-01\n",
       "Name: 제작시작일자, dtype: datetime64[ns]"
      ]
     },
     "execution_count": 222,
     "metadata": {},
     "output_type": "execute_result"
    }
   ],
   "source": [
    "make_start = pd.to_datetime(make_start)\n",
    "make_start.tail()"
   ]
  },
  {
   "cell_type": "code",
   "execution_count": 223,
   "metadata": {},
   "outputs": [
    {
     "data": {
      "text/plain": [
       "Timestamp('2018-01-01 00:00:00')"
      ]
     },
     "execution_count": 223,
     "metadata": {},
     "output_type": "execute_result"
    }
   ],
   "source": [
    "make_start.max()"
   ]
  },
  {
   "cell_type": "code",
   "execution_count": 224,
   "metadata": {},
   "outputs": [
    {
     "data": {
      "text/plain": [
       "Timestamp('1901-01-01 00:00:00')"
      ]
     },
     "execution_count": 224,
     "metadata": {},
     "output_type": "execute_result"
    }
   ],
   "source": [
    "make_start.min()"
   ]
  },
  {
   "cell_type": "code",
   "execution_count": 235,
   "metadata": {},
   "outputs": [
    {
     "data": {
      "text/plain": [
       "count                             4913\n",
       "mean     1991-04-24 21:43:42.511703680\n",
       "min                1901-01-01 00:00:00\n",
       "25%                1988-01-01 00:00:00\n",
       "50%                2001-01-01 00:00:00\n",
       "75%                2004-01-01 00:00:00\n",
       "max                2018-01-01 00:00:00\n",
       "Name: 제작시작일자, dtype: object"
      ]
     },
     "execution_count": 235,
     "metadata": {},
     "output_type": "execute_result"
    }
   ],
   "source": [
    "make_start.describe(datetime_is_numeric=True)"
   ]
  },
  {
   "cell_type": "markdown",
   "metadata": {},
   "source": [
    "### 제작종료일자"
   ]
  },
  {
   "cell_type": "code",
   "execution_count": 226,
   "metadata": {},
   "outputs": [
    {
     "data": {
      "text/plain": [
       "dtype('O')"
      ]
     },
     "execution_count": 226,
     "metadata": {},
     "output_type": "execute_result"
    }
   ],
   "source": [
    "df['제작종료일자'].dtype"
   ]
  },
  {
   "cell_type": "code",
   "execution_count": 228,
   "metadata": {},
   "outputs": [
    {
     "data": {
      "text/plain": [
       "0          NaT\n",
       "1   2007-12-31\n",
       "2   2000-12-31\n",
       "3   1995-12-31\n",
       "4          NaT\n",
       "Name: 제작종료일자, dtype: datetime64[ns]"
      ]
     },
     "execution_count": 228,
     "metadata": {},
     "output_type": "execute_result"
    }
   ],
   "source": [
    "pd.to_datetime(df['제작종료일자'], errors='coerce').head()"
   ]
  },
  {
   "cell_type": "code",
   "execution_count": 229,
   "metadata": {},
   "outputs": [
    {
     "data": {
      "text/plain": [
       "4908   2007-12-31\n",
       "4909          NaT\n",
       "4910   2003-12-31\n",
       "4911   2000-12-31\n",
       "4912   1997-12-31\n",
       "Name: 제작종료일자, dtype: datetime64[ns]"
      ]
     },
     "execution_count": 229,
     "metadata": {},
     "output_type": "execute_result"
    }
   ],
   "source": [
    "make_end = pd.to_datetime(df['제작종료일자'], errors='coerce')\n",
    "make_end.tail()"
   ]
  },
  {
   "cell_type": "code",
   "execution_count": 230,
   "metadata": {},
   "outputs": [
    {
     "data": {
      "text/plain": [
       "Timestamp('2017-12-31 00:00:00')"
      ]
     },
     "execution_count": 230,
     "metadata": {},
     "output_type": "execute_result"
    }
   ],
   "source": [
    "make_end.max()"
   ]
  },
  {
   "cell_type": "code",
   "execution_count": 231,
   "metadata": {},
   "outputs": [
    {
     "data": {
      "text/plain": [
       "Timestamp('1987-12-31 00:00:00')"
      ]
     },
     "execution_count": 231,
     "metadata": {},
     "output_type": "execute_result"
    }
   ],
   "source": [
    "make_end.min()"
   ]
  },
  {
   "cell_type": "code",
   "execution_count": 234,
   "metadata": {},
   "outputs": [
    {
     "name": "stdout",
     "output_type": "stream",
     "text": [
      "<class 'pandas.core.series.Series'>\n",
      "RangeIndex: 4913 entries, 0 to 4912\n",
      "Series name: 제작종료일자\n",
      "Non-Null Count  Dtype         \n",
      "--------------  -----         \n",
      "3436 non-null   datetime64[ns]\n",
      "dtypes: datetime64[ns](1)\n",
      "memory usage: 38.5 KB\n"
     ]
    }
   ],
   "source": [
    "make_end.info()"
   ]
  },
  {
   "cell_type": "code",
   "execution_count": 232,
   "metadata": {},
   "outputs": [
    {
     "name": "stderr",
     "output_type": "stream",
     "text": [
      "C:\\Users\\kbj\\AppData\\Local\\Temp\\ipykernel_7976\\3313435568.py:1: FutureWarning: Treating datetime data as categorical rather than numeric in `.describe` is deprecated and will be removed in a future version of pandas. Specify `datetime_is_numeric=True` to silence this warning and adopt the future behavior now.\n",
      "  make_end.describe()\n"
     ]
    },
    {
     "data": {
      "text/plain": [
       "count                    3436\n",
       "unique                     12\n",
       "top       2000-12-31 00:00:00\n",
       "freq                     1148\n",
       "first     1987-12-31 00:00:00\n",
       "last      2017-12-31 00:00:00\n",
       "Name: 제작종료일자, dtype: object"
      ]
     },
     "execution_count": 232,
     "metadata": {},
     "output_type": "execute_result"
    }
   ],
   "source": [
    "make_end.describe()"
   ]
  },
  {
   "cell_type": "code",
   "execution_count": 233,
   "metadata": {},
   "outputs": [
    {
     "data": {
      "text/plain": [
       "count                             3436\n",
       "mean     2001-07-03 04:02:14.109429632\n",
       "min                1987-12-31 00:00:00\n",
       "25%                1997-12-31 00:00:00\n",
       "50%                2000-12-31 00:00:00\n",
       "75%                2003-12-31 00:00:00\n",
       "max                2017-12-31 00:00:00\n",
       "Name: 제작종료일자, dtype: object"
      ]
     },
     "execution_count": 233,
     "metadata": {},
     "output_type": "execute_result"
    }
   ],
   "source": [
    "make_end.describe(datetime_is_numeric=True)"
   ]
  },
  {
   "cell_type": "markdown",
   "metadata": {},
   "source": [
    "### 적용시작일자"
   ]
  },
  {
   "cell_type": "code",
   "execution_count": 237,
   "metadata": {},
   "outputs": [
    {
     "data": {
      "text/plain": [
       "dtype('O')"
      ]
     },
     "execution_count": 237,
     "metadata": {},
     "output_type": "execute_result"
    }
   ],
   "source": [
    "df['적용시작일자'].dtype"
   ]
  },
  {
   "cell_type": "code",
   "execution_count": 238,
   "metadata": {},
   "outputs": [
    {
     "data": {
      "text/plain": [
       "0   2010-07-01\n",
       "1   2010-07-01\n",
       "2   2010-07-01\n",
       "3   2010-07-01\n",
       "4   2010-07-01\n",
       "Name: 적용시작일자, dtype: datetime64[ns]"
      ]
     },
     "execution_count": 238,
     "metadata": {},
     "output_type": "execute_result"
    }
   ],
   "source": [
    "pd.to_datetime(df['적용시작일자']).head()"
   ]
  },
  {
   "cell_type": "code",
   "execution_count": 239,
   "metadata": {},
   "outputs": [
    {
     "data": {
      "text/plain": [
       "4908   2016-01-22\n",
       "4909   2010-04-01\n",
       "4910   2010-04-01\n",
       "4911   2010-04-01\n",
       "4912   2010-04-01\n",
       "Name: 적용시작일자, dtype: datetime64[ns]"
      ]
     },
     "execution_count": 239,
     "metadata": {},
     "output_type": "execute_result"
    }
   ],
   "source": [
    "ap_start = pd.to_datetime(df['적용시작일자'])\n",
    "ap_start.tail()"
   ]
  },
  {
   "cell_type": "code",
   "execution_count": 240,
   "metadata": {},
   "outputs": [
    {
     "data": {
      "text/plain": [
       "count                             4913\n",
       "mean     2011-07-17 03:13:09.171585792\n",
       "min                1901-01-01 00:00:00\n",
       "25%                2010-04-01 00:00:00\n",
       "50%                2010-04-01 00:00:00\n",
       "75%                2015-01-01 00:00:00\n",
       "max                2021-01-26 00:00:00\n",
       "Name: 적용시작일자, dtype: object"
      ]
     },
     "execution_count": 240,
     "metadata": {},
     "output_type": "execute_result"
    }
   ],
   "source": [
    "ap_start.describe(datetime_is_numeric=True)"
   ]
  },
  {
   "cell_type": "markdown",
   "metadata": {},
   "source": [
    "### 적용종료일자"
   ]
  },
  {
   "cell_type": "code",
   "execution_count": 241,
   "metadata": {},
   "outputs": [
    {
     "data": {
      "text/plain": [
       "dtype('O')"
      ]
     },
     "execution_count": 241,
     "metadata": {},
     "output_type": "execute_result"
    }
   ],
   "source": [
    "df['적용종료일자'].dtype"
   ]
  },
  {
   "cell_type": "code",
   "execution_count": 243,
   "metadata": {},
   "outputs": [
    {
     "data": {
      "text/plain": [
       "0   NaT\n",
       "1   NaT\n",
       "2   NaT\n",
       "3   NaT\n",
       "4   NaT\n",
       "Name: 적용종료일자, dtype: datetime64[ns]"
      ]
     },
     "execution_count": 243,
     "metadata": {},
     "output_type": "execute_result"
    }
   ],
   "source": [
    "pd.to_datetime(df['적용종료일자'], errors='coerce').head()"
   ]
  },
  {
   "cell_type": "code",
   "execution_count": 244,
   "metadata": {},
   "outputs": [
    {
     "data": {
      "text/plain": [
       "4908          NaT\n",
       "4909   2016-01-21\n",
       "4910          NaT\n",
       "4911          NaT\n",
       "4912          NaT\n",
       "Name: 적용종료일자, dtype: datetime64[ns]"
      ]
     },
     "execution_count": 244,
     "metadata": {},
     "output_type": "execute_result"
    }
   ],
   "source": [
    "ap_end = pd.to_datetime(df['적용종료일자'], errors='coerce')\n",
    "ap_end.tail()"
   ]
  },
  {
   "cell_type": "code",
   "execution_count": 245,
   "metadata": {},
   "outputs": [
    {
     "data": {
      "text/plain": [
       "count                             1499\n",
       "mean     2015-02-04 10:33:03.722481408\n",
       "min                2010-03-31 00:00:00\n",
       "25%                2014-12-31 00:00:00\n",
       "50%                2014-12-31 00:00:00\n",
       "75%                2014-12-31 00:00:00\n",
       "max                2021-01-25 00:00:00\n",
       "Name: 적용종료일자, dtype: object"
      ]
     },
     "execution_count": 245,
     "metadata": {},
     "output_type": "execute_result"
    }
   ],
   "source": [
    "ap_end.describe(datetime_is_numeric=True)"
   ]
  },
  {
   "cell_type": "markdown",
   "metadata": {},
   "source": [
    "### 차량 최소, 최대 중량"
   ]
  },
  {
   "cell_type": "code",
   "execution_count": 23,
   "metadata": {},
   "outputs": [],
   "source": [
    "min_car_weight = df['차량최소중량']\n",
    "max_car_weight = df['차량최대중량']"
   ]
  },
  {
   "cell_type": "code",
   "execution_count": 34,
   "metadata": {},
   "outputs": [
    {
     "data": {
      "text/plain": [
       "count       4913.0\n",
       "mean     1359.2526\n",
       "std     1106.36376\n",
       "min            0.0\n",
       "25%            0.0\n",
       "50%         1600.0\n",
       "75%         2250.0\n",
       "max         5501.0\n",
       "Name: 차량최소중량, dtype: float64"
      ]
     },
     "execution_count": 34,
     "metadata": {},
     "output_type": "execute_result"
    }
   ],
   "source": [
    "min_car_weight.describe()"
   ]
  },
  {
   "cell_type": "code",
   "execution_count": 35,
   "metadata": {},
   "outputs": [
    {
     "data": {
      "text/plain": [
       "count       4913.0\n",
       "mean    3398467.96\n",
       "std     4735617.54\n",
       "min          999.0\n",
       "25%         1749.0\n",
       "50%         2499.0\n",
       "75%      9999999.0\n",
       "max      9999999.0\n",
       "Name: 차량최대중량, dtype: float64"
      ]
     },
     "execution_count": 35,
     "metadata": {},
     "output_type": "execute_result"
    }
   ],
   "source": [
    "max_car_weight.describe()"
   ]
  },
  {
   "cell_type": "code",
   "execution_count": 36,
   "metadata": {},
   "outputs": [
    {
     "data": {
      "image/png": "[encoded data removed]",
      "text/plain": [
       "<Figure size 1800x1200 with 2 Axes>"
      ]
     },
     "metadata": {},
     "output_type": "display_data"
    }
   ],
   "source": [
    "fig = plt.figure(figsize=(18, 12))\n",
    "fig.add_subplot(2, 1, 1)\n",
    "plt.plot(df.index, min_car_weight, 'b.', label='min_weight')\n",
    "\n",
    "fig.add_subplot(2, 1, 2)\n",
    "plt.plot(df.index, max_car_weight, 'r.', label='max_weight');"
   ]
  },
  {
   "cell_type": "code",
   "execution_count": 40,
   "metadata": {},
   "outputs": [
    {
     "data": {
      "image/png": "[encoded data removed]",
      "text/plain": [
       "<Figure size 1200x400 with 2 Axes>"
      ]
     },
     "metadata": {},
     "output_type": "display_data"
    }
   ],
   "source": [
    "fig = plt.figure(figsize=(12, 4))\n",
    "fig.add_subplot(1, 2, 1)\n",
    "plt.boxplot(min_car_weight)\n",
    "\n",
    "fig.add_subplot(1, 2, 2)\n",
    "plt.boxplot(max_car_weight);"
   ]
  },
  {
   "cell_type": "markdown",
   "metadata": {},
   "source": [
    "### pandas option"
   ]
  },
  {
   "cell_type": "code",
   "execution_count": 159,
   "metadata": {},
   "outputs": [],
   "source": [
    "pd.options.display.float_format = '{:.5}'.format\n",
    "# pd.reset_option('display.float_format')\n",
    "# pd.set_option('display.float_format', None)"
   ]
  },
  {
   "cell_type": "markdown",
   "metadata": {},
   "source": [
    "### 일산화탄소-기준치"
   ]
  },
  {
   "cell_type": "code",
   "execution_count": 160,
   "metadata": {},
   "outputs": [
    {
     "data": {
      "text/plain": [
       "array([' ', '1', '1.2', '4.5', '2.5', '시내', '0.77', '1.22', '1.83',\n",
       "       '0.62', '0.81', '0.99', '1.47', '0.52', '0.67', '0.82', '1.21',\n",
       "       '0.46', '0.6', '0.73', '1.08', '0.41', '0.53', '0.65', '0.94',\n",
       "       '0.38', '0.49', '0.87', '0.35', '0.45', '0.55', '0.79', '2.4',\n",
       "       '4.2', '0.48', '0.76', '2.2', '1.84', '2.19', '2.91', '0.43',\n",
       "       '0.69', '2.6', '1.64', '1.96', '1.41', '1.68', '2.22', '1.28',\n",
       "       '1.52', '2.01', '0.42', '0.51', '1.17', '1.38', '1.39', '1.82',\n",
       "       '1.05', '1.24', '1.62', '0.96', '1.13', '1.14', '1.49', '0.34',\n",
       "       '0.89', '1.37', '1.89', '2.51', '1.04', '1.36', '1.3', '1.59',\n",
       "       '2.38', '1.29', '1.91', '0.68', '1.07', '1.57', '0.78', '1.4',\n",
       "       '0.95', '0.85', '0.64', '0.59', '0.72', '1.03', '1.56', '3.12',\n",
       "       '5.46', '2.39', '2.85', '2.86', '3.78', '0.56', '0.9', '2.13',\n",
       "       '2.55', '3.38', '2.18', '2.89', '1.66', '1.98', '2.61', '0.66',\n",
       "       '1.79', '1.81', '2.37', '1.61', '2.11', '1.25', '1.48', '1.94',\n",
       "       '0.44', '1.16', '1.78', '2.46', '3.26', '1.35', '1.77'],\n",
       "      dtype=object)"
      ]
     },
     "execution_count": 160,
     "metadata": {},
     "output_type": "execute_result"
    }
   ],
   "source": [
    "df['일산화탄소-기준치'].unique()"
   ]
  },
  {
   "cell_type": "code",
   "execution_count": 161,
   "metadata": {},
   "outputs": [
    {
     "data": {
      "text/plain": [
       "        322\n",
       "4.5     228\n",
       "1       213\n",
       "1.2     206\n",
       "2.5     182\n",
       "       ... \n",
       "1.66      6\n",
       "2.86      6\n",
       "3.78      6\n",
       "3.38      6\n",
       "1.29      6\n",
       "Name: 일산화탄소-기준치, Length: 120, dtype: int64"
      ]
     },
     "execution_count": 161,
     "metadata": {},
     "output_type": "execute_result"
    }
   ],
   "source": [
    "df['일산화탄소-기준치'].value_counts()"
   ]
  },
  {
   "cell_type": "code",
   "execution_count": 162,
   "metadata": {},
   "outputs": [],
   "source": [
    "co_basic = df['일산화탄소-기준치'].copy()"
   ]
  },
  {
   "cell_type": "code",
   "execution_count": 163,
   "metadata": {},
   "outputs": [
    {
     "data": {
      "text/plain": [
       "array([nan, '1', '1.2', '4.5', '2.5', '시내', '0.77', '1.22', '1.83',\n",
       "       '0.62', '0.81', '0.99', '1.47', '0.52', '0.67', '0.82', '1.21',\n",
       "       '0.46', '0.6', '0.73', '1.08', '0.41', '0.53', '0.65', '0.94',\n",
       "       '0.38', '0.49', '0.87', '0.35', '0.45', '0.55', '0.79', '2.4',\n",
       "       '4.2', '0.48', '0.76', '2.2', '1.84', '2.19', '2.91', '0.43',\n",
       "       '0.69', '2.6', '1.64', '1.96', '1.41', '1.68', '2.22', '1.28',\n",
       "       '1.52', '2.01', '0.42', '0.51', '1.17', '1.38', '1.39', '1.82',\n",
       "       '1.05', '1.24', '1.62', '0.96', '1.13', '1.14', '1.49', '0.34',\n",
       "       '0.89', '1.37', '1.89', '2.51', '1.04', '1.36', '1.3', '1.59',\n",
       "       '2.38', '1.29', '1.91', '0.68', '1.07', '1.57', '0.78', '1.4',\n",
       "       '0.95', '0.85', '0.64', '0.59', '0.72', '1.03', '1.56', '3.12',\n",
       "       '5.46', '2.39', '2.85', '2.86', '3.78', '0.56', '0.9', '2.13',\n",
       "       '2.55', '3.38', '2.18', '2.89', '1.66', '1.98', '2.61', '0.66',\n",
       "       '1.79', '1.81', '2.37', '1.61', '2.11', '1.25', '1.48', '1.94',\n",
       "       '0.44', '1.16', '1.78', '2.46', '3.26', '1.35', '1.77'],\n",
       "      dtype=object)"
      ]
     },
     "execution_count": 163,
     "metadata": {},
     "output_type": "execute_result"
    }
   ],
   "source": [
    "co_basic = co_basic.replace(' ', np.nan)\n",
    "co_basic.unique()"
   ]
  },
  {
   "cell_type": "code",
   "execution_count": 164,
   "metadata": {},
   "outputs": [
    {
     "data": {
      "text/plain": [
       "4.5     228\n",
       "1       213\n",
       "1.2     206\n",
       "2.5     182\n",
       "0.46    153\n",
       "       ... \n",
       "1.66      6\n",
       "2.86      6\n",
       "3.78      6\n",
       "3.38      6\n",
       "1.29      6\n",
       "Name: 일산화탄소-기준치, Length: 119, dtype: int64"
      ]
     },
     "execution_count": 164,
     "metadata": {},
     "output_type": "execute_result"
    }
   ],
   "source": [
    "co_basic.value_counts()"
   ]
  },
  {
   "cell_type": "code",
   "execution_count": 165,
   "metadata": {},
   "outputs": [
    {
     "data": {
      "text/plain": [
       "dtype('O')"
      ]
     },
     "execution_count": 165,
     "metadata": {},
     "output_type": "execute_result"
    }
   ],
   "source": [
    "co_basic.dtype"
   ]
  },
  {
   "cell_type": "code",
   "execution_count": 166,
   "metadata": {},
   "outputs": [
    {
     "data": {
      "text/plain": [
       "dtype('float64')"
      ]
     },
     "execution_count": 166,
     "metadata": {},
     "output_type": "execute_result"
    }
   ],
   "source": [
    "co_basic = pd.to_numeric(co_basic, errors='coerce')\n",
    "co_basic.dtype"
   ]
  },
  {
   "cell_type": "code",
   "execution_count": 196,
   "metadata": {},
   "outputs": [
    {
     "data": {
      "text/plain": [
       "(4913,)"
      ]
     },
     "execution_count": 196,
     "metadata": {},
     "output_type": "execute_result"
    }
   ],
   "source": [
    "co_basic.shape"
   ]
  },
  {
   "cell_type": "code",
   "execution_count": 167,
   "metadata": {},
   "outputs": [
    {
     "data": {
      "text/plain": [
       "count   4575.0\n",
       "mean    1.3773\n",
       "std     1.0026\n",
       "min       0.34\n",
       "25%       0.62\n",
       "50%       1.14\n",
       "75%       1.78\n",
       "max       5.46\n",
       "Name: 일산화탄소-기준치, dtype: float64"
      ]
     },
     "execution_count": 167,
     "metadata": {},
     "output_type": "execute_result"
    }
   ],
   "source": [
    "co_basic.describe()"
   ]
  },
  {
   "cell_type": "code",
   "execution_count": 168,
   "metadata": {},
   "outputs": [
    {
     "data": {
      "text/plain": [
       "(0.334, 0.852]    1626\n",
       "(0.852, 1.364]    1160\n",
       "(1.364, 1.876]     791\n",
       "(1.876, 2.388]     366\n",
       "(2.388, 2.9]       333\n",
       "(4.436, 4.948]     228\n",
       "(2.9, 3.412]        41\n",
       "(3.924, 4.436]      16\n",
       "(4.948, 5.46]        8\n",
       "(3.412, 3.924]       6\n",
       "Name: 일산화탄소-기준치, dtype: int64"
      ]
     },
     "execution_count": 168,
     "metadata": {},
     "output_type": "execute_result"
    }
   ],
   "source": [
    "co_basic.value_counts(bins=10)"
   ]
  },
  {
   "cell_type": "code",
   "execution_count": 169,
   "metadata": {},
   "outputs": [
    {
     "data": {
      "image/png": "[encoded data removed]",
      "text/plain": [
       "<Figure size 640x480 with 1 Axes>"
      ]
     },
     "metadata": {},
     "output_type": "display_data"
    }
   ],
   "source": [
    "co_basic.hist();"
   ]
  },
  {
   "cell_type": "markdown",
   "metadata": {},
   "source": [
    "### 탄화수소-기준치"
   ]
  },
  {
   "cell_type": "code",
   "execution_count": 170,
   "metadata": {},
   "outputs": [
    {
     "data": {
      "text/plain": [
       "Index(['검사방법', '연료', '적용법령', '차종', '제작시작일자', '제작종료일자', '적용시작일자', '적용종료일자',\n",
       "       '차량최소중량', '차량최대중량', '일산화탄소-기준치', '탄화수소-기준치', '질소산화물-기준치', '매연-기준치',\n",
       "       '매연-기준치(촉매)'],\n",
       "      dtype='object')"
      ]
     },
     "execution_count": 170,
     "metadata": {},
     "output_type": "execute_result"
    }
   ],
   "source": [
    "df.columns"
   ]
  },
  {
   "cell_type": "code",
   "execution_count": 171,
   "metadata": {},
   "outputs": [
    {
     "data": {
      "text/plain": [
       "count     4913\n",
       "unique      48\n",
       "top        100\n",
       "freq       438\n",
       "Name: 탄화수소-기준치, dtype: object"
      ]
     },
     "execution_count": 171,
     "metadata": {},
     "output_type": "execute_result"
    }
   ],
   "source": [
    "df['탄화수소-기준치'].describe()"
   ]
  },
  {
   "cell_type": "code",
   "execution_count": 172,
   "metadata": {},
   "outputs": [
    {
     "data": {
      "text/plain": [
       "array([' ', '120', '220', '1200', '150', '400', '59', '180', '140', '210',\n",
       "       '280', '49', '110', '170', '230', '42', '100', '190', '37', '90',\n",
       "       '130', '33', '80', '30', '70', '60', '390', '1090', '200', '160',\n",
       "       '234', '273', '370', '195', '221', '300', '156', '182', '250',\n",
       "       '143', '169', '104', '117', '270', '500', '1410', '240', '260'],\n",
       "      dtype=object)"
      ]
     },
     "execution_count": 172,
     "metadata": {},
     "output_type": "execute_result"
    }
   ],
   "source": [
    "df['탄화수소-기준치'].unique()"
   ]
  },
  {
   "cell_type": "code",
   "execution_count": 173,
   "metadata": {},
   "outputs": [],
   "source": [
    "ch_basic = df['탄화수소-기준치'].copy()"
   ]
  },
  {
   "cell_type": "code",
   "execution_count": 174,
   "metadata": {},
   "outputs": [
    {
     "data": {
      "text/plain": [
       "dtype('float64')"
      ]
     },
     "execution_count": 174,
     "metadata": {},
     "output_type": "execute_result"
    }
   ],
   "source": [
    "ch_basic = pd.to_numeric(ch_basic, errors='coerce')\n",
    "ch_basic.dtype"
   ]
  },
  {
   "cell_type": "code",
   "execution_count": 198,
   "metadata": {},
   "outputs": [
    {
     "data": {
      "text/plain": [
       "(4913,)"
      ]
     },
     "execution_count": 198,
     "metadata": {},
     "output_type": "execute_result"
    }
   ],
   "source": [
    "ch_basic.shape"
   ]
  },
  {
   "cell_type": "code",
   "execution_count": 203,
   "metadata": {},
   "outputs": [
    {
     "data": {
      "text/plain": [
       "count   4575.0\n",
       "mean    206.05\n",
       "std     251.75\n",
       "min       30.0\n",
       "25%      100.0\n",
       "50%      140.0\n",
       "75%      180.0\n",
       "max     1410.0\n",
       "Name: 탄화수소-기준치, dtype: float64"
      ]
     },
     "execution_count": 203,
     "metadata": {},
     "output_type": "execute_result"
    }
   ],
   "source": [
    "ch_basic.describe()"
   ]
  },
  {
   "cell_type": "code",
   "execution_count": 201,
   "metadata": {},
   "outputs": [
    {
     "data": {
      "text/plain": [
       "4575"
      ]
     },
     "execution_count": 201,
     "metadata": {},
     "output_type": "execute_result"
    }
   ],
   "source": [
    "ch_basic.notnull().sum()"
   ]
  },
  {
   "cell_type": "code",
   "execution_count": 175,
   "metadata": {},
   "outputs": [
    {
     "data": {
      "text/plain": [
       "(28.619, 168.0]     3060\n",
       "(168.0, 306.0]      1035\n",
       "(1134.0, 1272.0]     228\n",
       "(306.0, 444.0]       220\n",
       "(996.0, 1134.0]       16\n",
       "(444.0, 582.0]         8\n",
       "(1272.0, 1410.0]       8\n",
       "(582.0, 720.0]         0\n",
       "(720.0, 858.0]         0\n",
       "(858.0, 996.0]         0\n",
       "Name: 탄화수소-기준치, dtype: int64"
      ]
     },
     "execution_count": 175,
     "metadata": {},
     "output_type": "execute_result"
    }
   ],
   "source": [
    "ch_basic.value_counts(bins=10)"
   ]
  },
  {
   "cell_type": "code",
   "execution_count": 176,
   "metadata": {},
   "outputs": [
    {
     "data": {
      "image/png": "[encoded data removed]",
      "text/plain": [
       "<Figure size 640x480 with 1 Axes>"
      ]
     },
     "metadata": {},
     "output_type": "display_data"
    }
   ],
   "source": [
    "ch_basic.hist();"
   ]
  },
  {
   "cell_type": "code",
   "execution_count": 177,
   "metadata": {},
   "outputs": [
    {
     "data": {
      "text/plain": [
       "Index(['검사방법', '연료', '적용법령', '차종', '제작시작일자', '제작종료일자', '적용시작일자', '적용종료일자',\n",
       "       '차량최소중량', '차량최대중량', '일산화탄소-기준치', '탄화수소-기준치', '질소산화물-기준치', '매연-기준치',\n",
       "       '매연-기준치(촉매)'],\n",
       "      dtype='object')"
      ]
     },
     "execution_count": 177,
     "metadata": {},
     "output_type": "execute_result"
    }
   ],
   "source": [
    "df.columns"
   ]
  },
  {
   "cell_type": "markdown",
   "metadata": {},
   "source": [
    "### 질소산화물-기준치"
   ]
  },
  {
   "cell_type": "code",
   "execution_count": 178,
   "metadata": {},
   "outputs": [
    {
     "data": {
      "text/plain": [
       "count     4913\n",
       "unique     124\n",
       "top           \n",
       "freq      1038\n",
       "Name: 질소산화물-기준치, dtype: object"
      ]
     },
     "execution_count": 178,
     "metadata": {},
     "output_type": "execute_result"
    }
   ],
   "source": [
    "df['질소산화물-기준치'].describe()"
   ]
  },
  {
   "cell_type": "code",
   "execution_count": 179,
   "metadata": {},
   "outputs": [
    {
     "data": {
      "text/plain": [
       "array([' ', '2000', '1080', '1400', '1030', '1100', '1550', '1800',\n",
       "       '1990', '850', '830', '870', '1240', '1120', '1440', '1590', '690',\n",
       "       '720', '730', '930', '1190', '1310', '610', '630', '660', '910',\n",
       "       '820', '1050', '1160', '530', '550', '600', '800', '920', '1010',\n",
       "       '490', '500', '840', '440', '450', '760', '1640', '2110', '950',\n",
       "       '1260', '1210', '1470', '590', '1320', '1000', '860', '960',\n",
       "       '1130', '560', '570', '770', '1020', '510', '700', '780', '460',\n",
       "       '670', '620', '810', '420', '740', '380', '520', '580', '1500',\n",
       "       '1720', '1950', '1330', '1530', '1370', '1090', '1230', '990',\n",
       "       '1040', '1860', '1680', '2160', '2390', '1490', '1344', '1728',\n",
       "       '1910', '880', '1116', '1428', '1580', '790', '984', '640', '864',\n",
       "       '1104', '1220', '792', '1008', '912', '1960', '2530', '1140',\n",
       "       '1450', '1350', '1510', '1770', '1300', '1200', '750', '1150',\n",
       "       '680', '940', '970', '890', '2070', '2340', '1830', '1430', '1290',\n",
       "       '1480', '1340', '1110', '1250'], dtype=object)"
      ]
     },
     "execution_count": 179,
     "metadata": {},
     "output_type": "execute_result"
    }
   ],
   "source": [
    "df['질소산화물-기준치'].unique()"
   ]
  },
  {
   "cell_type": "code",
   "execution_count": 180,
   "metadata": {},
   "outputs": [
    {
     "data": {
      "text/plain": [
       "1240.0    156\n",
       "660.0     105\n",
       "920.0     102\n",
       "1120.0     93\n",
       "810.0      87\n",
       "         ... \n",
       "1770.0      6\n",
       "1510.0      6\n",
       "1008.0      6\n",
       "912.0       6\n",
       "2000.0      2\n",
       "Name: 질소산화물-기준치, Length: 123, dtype: int64"
      ]
     },
     "execution_count": 180,
     "metadata": {},
     "output_type": "execute_result"
    }
   ],
   "source": [
    "no_basic = df['질소산화물-기준치'].copy()\n",
    "no_basic = pd.to_numeric(no_basic, errors='coerce')\n",
    "no_basic.value_counts()"
   ]
  },
  {
   "cell_type": "code",
   "execution_count": 202,
   "metadata": {},
   "outputs": [
    {
     "data": {
      "text/plain": [
       "(4913,)"
      ]
     },
     "execution_count": 202,
     "metadata": {},
     "output_type": "execute_result"
    }
   ],
   "source": [
    "no_basic.shape"
   ]
  },
  {
   "cell_type": "code",
   "execution_count": 181,
   "metadata": {},
   "outputs": [
    {
     "data": {
      "text/plain": [
       "count   3875.0\n",
       "mean    1007.7\n",
       "std     406.19\n",
       "min      380.0\n",
       "25%      690.0\n",
       "50%      930.0\n",
       "75%     1240.0\n",
       "max     2530.0\n",
       "Name: 질소산화물-기준치, dtype: float64"
      ]
     },
     "execution_count": 181,
     "metadata": {},
     "output_type": "execute_result"
    }
   ],
   "source": [
    "no_basic.describe()"
   ]
  },
  {
   "cell_type": "code",
   "execution_count": 182,
   "metadata": {},
   "outputs": [
    {
     "data": {
      "text/plain": [
       "(595.0, 810.0]                 909\n",
       "(1025.0, 1240.0]               789\n",
       "(810.0, 1025.0]                735\n",
       "(377.84900000000005, 595.0]    567\n",
       "(1240.0, 1455.0]               297\n",
       "(1455.0, 1670.0]               268\n",
       "(1670.0, 1885.0]               169\n",
       "(1885.0, 2100.0]                85\n",
       "(2100.0, 2315.0]                30\n",
       "(2315.0, 2530.0]                26\n",
       "Name: 질소산화물-기준치, dtype: int64"
      ]
     },
     "execution_count": 182,
     "metadata": {},
     "output_type": "execute_result"
    }
   ],
   "source": [
    "no_basic.value_counts(bins=10)"
   ]
  },
  {
   "cell_type": "markdown",
   "metadata": {},
   "source": [
    "### 매연-기준치"
   ]
  },
  {
   "cell_type": "code",
   "execution_count": 183,
   "metadata": {},
   "outputs": [
    {
     "data": {
      "text/plain": [
       "count     4668\n",
       "unique      14\n",
       "top           \n",
       "freq      4330\n",
       "Name: 매연-기준치, dtype: object"
      ]
     },
     "execution_count": 183,
     "metadata": {},
     "output_type": "execute_result"
    }
   ],
   "source": [
    "df['매연-기준치'].describe()"
   ]
  },
  {
   "cell_type": "code",
   "execution_count": 184,
   "metadata": {},
   "outputs": [
    {
     "data": {
      "text/plain": [
       "array(['20', '50', '60', '70', '15', '30', '45', '35', '25', '40', ' ',\n",
       "       '10', '55', '8', nan], dtype=object)"
      ]
     },
     "execution_count": 184,
     "metadata": {},
     "output_type": "execute_result"
    }
   ],
   "source": [
    "df['매연-기준치'].unique()"
   ]
  },
  {
   "cell_type": "code",
   "execution_count": 185,
   "metadata": {},
   "outputs": [
    {
     "data": {
      "text/plain": [
       "20.0    70\n",
       "45.0    62\n",
       "60.0    54\n",
       "40.0    43\n",
       "55.0    32\n",
       "10.0    26\n",
       "30.0    12\n",
       "25.0    10\n",
       "15.0     9\n",
       "35.0     8\n",
       "50.0     6\n",
       "8.0      4\n",
       "70.0     2\n",
       "Name: 매연-기준치, dtype: int64"
      ]
     },
     "execution_count": 185,
     "metadata": {},
     "output_type": "execute_result"
    }
   ],
   "source": [
    "ex_basic = df['매연-기준치'].copy()\n",
    "ex_basic = pd.to_numeric(ex_basic, errors='coerce')\n",
    "ex_basic.value_counts()"
   ]
  },
  {
   "cell_type": "code",
   "execution_count": 204,
   "metadata": {},
   "outputs": [
    {
     "data": {
      "text/plain": [
       "(4913,)"
      ]
     },
     "execution_count": 204,
     "metadata": {},
     "output_type": "execute_result"
    }
   ],
   "source": [
    "ex_basic.shape"
   ]
  },
  {
   "cell_type": "code",
   "execution_count": 186,
   "metadata": {},
   "outputs": [
    {
     "data": {
      "text/plain": [
       "count    338.0\n",
       "mean    37.476\n",
       "std     16.822\n",
       "min        8.0\n",
       "25%       20.0\n",
       "50%       40.0\n",
       "75%       55.0\n",
       "max       70.0\n",
       "Name: 매연-기준치, dtype: float64"
      ]
     },
     "execution_count": 186,
     "metadata": {},
     "output_type": "execute_result"
    }
   ],
   "source": [
    "ex_basic.describe()"
   ]
  },
  {
   "cell_type": "code",
   "execution_count": 187,
   "metadata": {},
   "outputs": [
    {
     "data": {
      "text/plain": [
       "<AxesSubplot:>"
      ]
     },
     "execution_count": 187,
     "metadata": {},
     "output_type": "execute_result"
    },
    {
     "data": {
      "image/png": "[encoded data removed]",
      "text/plain": [
       "<Figure size 640x480 with 1 Axes>"
      ]
     },
     "metadata": {},
     "output_type": "display_data"
    }
   ],
   "source": [
    "ex_basic.hist()"
   ]
  },
  {
   "cell_type": "markdown",
   "metadata": {},
   "source": [
    "### 매연-기준치(촉매)"
   ]
  },
  {
   "cell_type": "code",
   "execution_count": 188,
   "metadata": {},
   "outputs": [
    {
     "data": {
      "text/plain": [
       "Index(['검사방법', '연료', '적용법령', '차종', '제작시작일자', '제작종료일자', '적용시작일자', '적용종료일자',\n",
       "       '차량최소중량', '차량최대중량', '일산화탄소-기준치', '탄화수소-기준치', '질소산화물-기준치', '매연-기준치',\n",
       "       '매연-기준치(촉매)'],\n",
       "      dtype='object')"
      ]
     },
     "execution_count": 188,
     "metadata": {},
     "output_type": "execute_result"
    }
   ],
   "source": [
    "df.columns"
   ]
  },
  {
   "cell_type": "code",
   "execution_count": 189,
   "metadata": {},
   "outputs": [
    {
     "data": {
      "text/plain": [
       "array([' ', '15', '25', '45', '50', '60', '65', nan], dtype=object)"
      ]
     },
     "execution_count": 189,
     "metadata": {},
     "output_type": "execute_result"
    }
   ],
   "source": [
    "df['매연-기준치(촉매)'].unique()"
   ]
  },
  {
   "cell_type": "code",
   "execution_count": 190,
   "metadata": {},
   "outputs": [
    {
     "name": "stdout",
     "output_type": "stream",
     "text": [
      "<class 'pandas.core.series.Series'>\n",
      "RangeIndex: 4913 entries, 0 to 4912\n",
      "Series name: 매연-기준치(촉매)\n",
      "Non-Null Count  Dtype  \n",
      "--------------  -----  \n",
      "260 non-null    float64\n",
      "dtypes: float64(1)\n",
      "memory usage: 38.5 KB\n"
     ]
    }
   ],
   "source": [
    "ex2_basic = df['매연-기준치(촉매)'].copy()\n",
    "ex2_basic = pd.to_numeric(ex2_basic, errors='coerce')\n",
    "ex2_basic.info()"
   ]
  },
  {
   "cell_type": "code",
   "execution_count": 195,
   "metadata": {},
   "outputs": [
    {
     "data": {
      "text/plain": [
       "(4913,)"
      ]
     },
     "execution_count": 195,
     "metadata": {},
     "output_type": "execute_result"
    }
   ],
   "source": [
    "ex2_basic.shape"
   ]
  },
  {
   "cell_type": "code",
   "execution_count": 191,
   "metadata": {},
   "outputs": [
    {
     "data": {
      "text/plain": [
       "count    260.0\n",
       "mean    43.846\n",
       "std     16.446\n",
       "min       15.0\n",
       "25%       25.0\n",
       "50%       50.0\n",
       "75%       60.0\n",
       "max       65.0\n",
       "Name: 매연-기준치(촉매), dtype: float64"
      ]
     },
     "execution_count": 191,
     "metadata": {},
     "output_type": "execute_result"
    }
   ],
   "source": [
    "ex2_basic.describe()"
   ]
  },
  {
   "cell_type": "code",
   "execution_count": 192,
   "metadata": {},
   "outputs": [
    {
     "data": {
      "text/plain": [
       "60.0    64\n",
       "25.0    58\n",
       "50.0    56\n",
       "45.0    36\n",
       "15.0    26\n",
       "65.0    20\n",
       "Name: 매연-기준치(촉매), dtype: int64"
      ]
     },
     "execution_count": 192,
     "metadata": {},
     "output_type": "execute_result"
    }
   ],
   "source": [
    "ex2_basic.value_counts()"
   ]
  },
  {
   "cell_type": "code",
   "execution_count": 193,
   "metadata": {},
   "outputs": [
    {
     "data": {
      "image/png": "[encoded data removed]",
      "text/plain": [
       "<Figure size 640x480 with 1 Axes>"
      ]
     },
     "metadata": {},
     "output_type": "display_data"
    }
   ],
   "source": [
    "ex2_basic.hist();"
   ]
  },
  {
   "cell_type": "code",
   "execution_count": null,
   "metadata": {},
   "outputs": [],
   "source": []
  },
  {
   "cell_type": "markdown",
   "metadata": {},
   "source": [
    "# 코드 마지막"
   ]
  }
 ],
 "metadata": {
  "kernelspec": {
   "display_name": "Python 3.9.13 ('base')",
   "language": "python",
   "name": "python3"
  },
  "language_info": {
   "codemirror_mode": {
    "name": "ipython",
    "version": 3
   },
   "file_extension": ".py",
   "mimetype": "text/x-python",
   "name": "python",
   "nbconvert_exporter": "python",
   "pygments_lexer": "ipython3",
   "version": "3.9.13"
  },
  "orig_nbformat": 4,
  "vscode": {
   "interpreter": {
    "hash": "ad2bdc8ecc057115af97d19610ffacc2b4e99fae6737bb82f5d7fb13d2f2c186"
   }
  }
 },
 "nbformat": 4,
 "nbformat_minor": 2
}
