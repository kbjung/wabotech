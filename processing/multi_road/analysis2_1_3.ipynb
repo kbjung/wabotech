{
 "cells": [
  {
   "cell_type": "markdown",
   "metadata": {},
   "source": [
    "# 다차선 분석\n",
    "- 2024.01.11 수정사항 반영\n",
    "- 데이터\n",
    "    - RSD데이터 : 매연RSD_도로측정데이터_20221004~20230910\n",
    "    - 등록제원 : 230920_차량제원\n",
    "    - 정밀검사 : 230920_정밀검사"
   ]
  },
  {
   "cell_type": "markdown",
   "metadata": {},
   "source": [
    "# Library"
   ]
  },
  {
   "cell_type": "code",
   "execution_count": 1,
   "metadata": {},
   "outputs": [],
   "source": [
    "import pandas as pd\n",
    "import numpy as np\n",
    "import os\n",
    "from datetime import datetime\n",
    "import datetime as dt\n",
    "import time\n",
    "import math"
   ]
  },
  {
   "cell_type": "code",
   "execution_count": 2,
   "metadata": {},
   "outputs": [],
   "source": [
    "import matplotlib.pyplot as plt\n",
    "import platform\n",
    "from matplotlib import font_manager, rc\n",
    "\n",
    "# 한글 폰트 지정\n",
    "path = \"C:/Windows/Fonts/malgun.ttf\"\n",
    "if platform.system() == \"Windows\":\n",
    "    font_name = font_manager.FontProperties(fname=path).get_name()\n",
    "    rc('font', family=font_name)\n",
    "elif platform.system()==\"Darwin\":\n",
    "    rc('font', family='AppleGothic')\n",
    "else:\n",
    "    print(\"Unknown System\")\n",
    "\n",
    "# 음수 표현\n",
    "plt.rcParams['axes.unicode_minus'] = False"
   ]
  },
  {
   "cell_type": "code",
   "execution_count": 3,
   "metadata": {},
   "outputs": [],
   "source": [
    "pd.options.display.float_format = '{:.2f}'.format\n",
    "# pd.reset_option('display.float_format')"
   ]
  },
  {
   "cell_type": "code",
   "execution_count": 4,
   "metadata": {},
   "outputs": [],
   "source": [
    "start_time = time.time()"
   ]
  },
  {
   "cell_type": "markdown",
   "metadata": {},
   "source": [
    "# Fold"
   ]
  },
  {
   "cell_type": "code",
   "execution_count": 5,
   "metadata": {},
   "outputs": [],
   "source": [
    "raw_fold = 'D:/data/processing/multi_road/raw'\n",
    "an_fold = 'D:/data/processing/multi_road/analysis'\n",
    "df_fold = 'D:/data/processing/multi_road/df'\n",
    "img_fold = 'D:/data/processing/multi_road/img'"
   ]
  },
  {
   "cell_type": "markdown",
   "metadata": {},
   "source": [
    "## xlsx to csv"
   ]
  },
  {
   "cell_type": "markdown",
   "metadata": {},
   "source": [
    "### 매연RSD 데이터"
   ]
  },
  {
   "cell_type": "code",
   "execution_count": 386,
   "metadata": {},
   "outputs": [
    {
     "name": "stdout",
     "output_type": "stream",
     "text": [
      "<class 'pandas.core.frame.DataFrame'>\n",
      "RangeIndex: 414226 entries, 0 to 414225\n",
      "Data columns (total 80 columns):\n",
      " #   Column            Non-Null Count   Dtype  \n",
      "---  ------            --------------   -----  \n",
      " 0   vdfRecordNumber   414226 non-null  int64  \n",
      " 1   vdfUnit           414224 non-null  object \n",
      " 2   vdfDateTime       414226 non-null  object \n",
      " 3   vdfTime           414226 non-null  object \n",
      " 4   vdfRecordStatus   414226 non-null  object \n",
      " 5   vdfValid          414226 non-null  object \n",
      " 6   cvaSessionStatus  1326 non-null    object \n",
      " 7   bookendStatus     0 non-null       float64\n",
      " 8   samSpeed          414226 non-null  float64\n",
      " 9   samAccel          414226 non-null  float64\n",
      " 10  samFlag           414226 non-null  object \n",
      " 11  vdfVSP            414226 non-null  float64\n",
      " 12  perCO             414226 non-null  int64  \n",
      " 13  perCO2            414226 non-null  int64  \n",
      " 14  ppmHC             414226 non-null  int64  \n",
      " 15  ppmHChex          414226 non-null  int64  \n",
      " 16  ppmNO             414226 non-null  int64  \n",
      " 17  ppmNO2            414226 non-null  int64  \n",
      " 18  Smoke             414226 non-null  float64\n",
      " 19  COCO2             414226 non-null  int64  \n",
      " 20  HCCO2             414226 non-null  int64  \n",
      " 21  NOCO2             414226 non-null  int64  \n",
      " 22  NO2CO2            414226 non-null  int64  \n",
      " 23  maxCO2            414226 non-null  int64  \n",
      " 24  avgCO2            414226 non-null  int64  \n",
      " 25  samples           414226 non-null  int64  \n",
      " 26  vdfTempAlarms     0 non-null       float64\n",
      " 27  vdfAmbientAlarms  0 non-null       float64\n",
      " 28  vdfMiscAlarms     0 non-null       float64\n",
      " 29  pcVersion         103 non-null     object \n",
      " 30  sdmVersion        0 non-null       float64\n",
      " 31  calDev            191 non-null     object \n",
      " 32  calfactorCO       0 non-null       float64\n",
      " 33  calfactorCO2      0 non-null       float64\n",
      " 34  calfactorHC       0 non-null       float64\n",
      " 35  calfactorNO       0 non-null       float64\n",
      " 36  calfactorNO2      0 non-null       float64\n",
      " 37  calfactorOPA      191 non-null     float64\n",
      " 38  calDate           414226 non-null  object \n",
      " 39  calTime           414226 non-null  object \n",
      " 40  auditDate         344 non-null     object \n",
      " 41  auditTime         344 non-null     object \n",
      " 42  auditResult       344 non-null     object \n",
      " 43  auditType         0 non-null       float64\n",
      " 44  auditMode         346 non-null     object \n",
      " 45  auditPhase        1899 non-null    object \n",
      " 46  V_PLATE           414226 non-null  object \n",
      " 47  V_PLATE_1         414226 non-null  int64  \n",
      " 48  V_STATE_1         414226 non-null  int64  \n",
      " 49  V_PLATE_STAT      414226 non-null  int64  \n",
      " 50  V_TAG_EDIT_EMP_1  0 non-null       float64\n",
      " 51  V_PLATE_INFO      0 non-null       float64\n",
      " 52  V_PLATE_INFO_1    0 non-null       float64\n",
      " 53  LineNo            253037 non-null  float64\n",
      " 54  alprState         0 non-null       float64\n",
      " 55  alprNumber        0 non-null       float64\n",
      " 56  Wind speed        195040 non-null  float64\n",
      " 57  Humidity          243226 non-null  float64\n",
      " 58  Temp              414226 non-null  float64\n",
      " 59  Baro              414226 non-null  float64\n",
      " 60  ambCO             414226 non-null  int64  \n",
      " 61  ambCO2            414226 non-null  int64  \n",
      " 62  ambHC             414226 non-null  int64  \n",
      " 63  ambCOfast         0 non-null       float64\n",
      " 64  ambCO2fast        0 non-null       float64\n",
      " 65  ambHCfast         0 non-null       float64\n",
      " 66  ambNO             414226 non-null  int64  \n",
      " 67  ambNO2            414226 non-null  int64  \n",
      " 68  ambRef            414226 non-null  int64  \n",
      " 69  imageName         414135 non-null  object \n",
      " 70  siteOper          161 non-null     object \n",
      " 71  siteVanID         0 non-null       float64\n",
      " 72  siteCountyCode    160 non-null     object \n",
      " 73  siteCode          110 non-null     object \n",
      " 74  siteLatitude      0 non-null       float64\n",
      " 75  siteLongitude     0 non-null       float64\n",
      " 76  siteRoadSlope     159 non-null     float64\n",
      " 77  siteDescription   0 non-null       float64\n",
      " 78  siteStateCode     0 non-null       float64\n",
      " 79  siteDate          414226 non-null  object \n",
      "dtypes: float64(35), int64(23), object(22)\n",
      "memory usage: 252.8+ MB\n"
     ]
    }
   ],
   "source": [
    "# 1m 52.8s\n",
    "# 2024.01.12 데이터 수령\n",
    "name = '매연RSD데이터(rawDATA)_20221004 ~ 20231210'\n",
    "file_name = f'{name}.xlsx'\n",
    "rsd = pd.read_excel(os.path.join(raw_fold, file_name))\n",
    "rsd.info()"
   ]
  },
  {
   "cell_type": "code",
   "execution_count": 387,
   "metadata": {},
   "outputs": [],
   "source": [
    "# 6.6s\n",
    "rsd.to_csv(os.path.join(raw_fold, f'{name}.csv'), index=False)"
   ]
  },
  {
   "cell_type": "markdown",
   "metadata": {},
   "source": [
    "### 제원정보"
   ]
  },
  {
   "cell_type": "code",
   "execution_count": 970,
   "metadata": {},
   "outputs": [
    {
     "name": "stdout",
     "output_type": "stream",
     "text": [
      "<class 'pandas.core.frame.DataFrame'>\n",
      "RangeIndex: 194603 entries, 0 to 194602\n",
      "Data columns (total 11 columns):\n",
      " #   Column  Non-Null Count   Dtype  \n",
      "---  ------  --------------   -----  \n",
      " 0   차량번호    194603 non-null  object \n",
      " 1   연료      187617 non-null  object \n",
      " 2   연식      187645 non-null  float64\n",
      " 3   배기량     187621 non-null  float64\n",
      " 4   차종      187645 non-null  object \n",
      " 5   총중량     187645 non-null  float64\n",
      " 6   엔진형식    187627 non-null  object \n",
      " 7   등급      187645 non-null  object \n",
      " 8   차대번호    187645 non-null  object \n",
      " 9   차명      187645 non-null  object \n",
      " 10  폐차여부    187645 non-null  object \n",
      "dtypes: float64(3), object(8)\n",
      "memory usage: 16.3+ MB\n"
     ]
    }
   ],
   "source": [
    "# 1m 52.8s\n",
    "name = '제원정보_20240115'\n",
    "file_name = f'{name}.xlsx'\n",
    "cs = pd.read_excel(os.path.join(raw_fold, file_name))\n",
    "cs.info()"
   ]
  },
  {
   "cell_type": "code",
   "execution_count": 971,
   "metadata": {},
   "outputs": [],
   "source": [
    "# 6.6s\n",
    "cs.to_csv(os.path.join(raw_fold, f'{name}.csv'), index=False)"
   ]
  },
  {
   "cell_type": "markdown",
   "metadata": {},
   "source": [
    "### 정기검사"
   ]
  },
  {
   "cell_type": "code",
   "execution_count": null,
   "metadata": {},
   "outputs": [],
   "source": [
    "# 1m 52.8s\n",
    "name = '정기검사_20240115'\n",
    "file_name = f'{name}.xlsx'\n",
    "jgt = pd.read_excel(os.path.join(raw_fold, file_name))\n",
    "jgt.info()"
   ]
  },
  {
   "cell_type": "code",
   "execution_count": null,
   "metadata": {},
   "outputs": [],
   "source": [
    "# 6.6s\n",
    "jgt.to_csv(os.path.join(raw_fold, f'{name}.csv'), index=False)"
   ]
  },
  {
   "cell_type": "markdown",
   "metadata": {},
   "source": [
    "### 정밀검사"
   ]
  },
  {
   "cell_type": "code",
   "execution_count": 972,
   "metadata": {},
   "outputs": [
    {
     "data": {
      "text/plain": [
       "24"
      ]
     },
     "execution_count": 972,
     "metadata": {},
     "output_type": "execute_result"
    }
   ],
   "source": [
    "eetr_cols = ['차대번호', '정밀검사일자', '정밀검사종류', '관능검사판정', '정밀검사판정', '정밀검사측정방법', '무부하매연측정치1', '무부하매연허용치1', '무부하매연판정1', '무부하매연측정치2', '무부하매연허용치2', '무부하매연판정2', '무부하매연측정치3', '무부하매연허용치3', '무부하매연판정3', '무부하매연측정치4', '무부하매연허용치4', '무부하매연판정4', '무부하매연측정치5', '무부하매연허용치5', '무부하매연판정5', '무부하매연측정치6', '무부하매연허용치6', '무부하매연판정6']\n",
    "len(eetr_cols)"
   ]
  },
  {
   "cell_type": "code",
   "execution_count": 973,
   "metadata": {},
   "outputs": [
    {
     "name": "stdout",
     "output_type": "stream",
     "text": [
      "<class 'pandas.core.frame.DataFrame'>\n",
      "RangeIndex: 146404 entries, 0 to 146403\n",
      "Data columns (total 24 columns):\n",
      " #   Column     Non-Null Count   Dtype  \n",
      "---  ------     --------------   -----  \n",
      " 0   차대번호       146404 non-null  object \n",
      " 1   정밀검사일자     146404 non-null  int64  \n",
      " 2   정밀검사종류     146404 non-null  object \n",
      " 3   관능검사판정     146404 non-null  object \n",
      " 4   정밀검사판정     146404 non-null  object \n",
      " 5   정밀검사측정방법   146404 non-null  object \n",
      " 6   무부하매연측정치1  142933 non-null  float64\n",
      " 7   무부하매연허용치1  142930 non-null  float64\n",
      " 8   무부하매연판정1   142929 non-null  object \n",
      " 9   무부하매연측정치2  106606 non-null  float64\n",
      " 10  무부하매연허용치2  101669 non-null  float64\n",
      " 11  무부하매연판정2   76936 non-null   object \n",
      " 12  무부하매연측정치3  95820 non-null   float64\n",
      " 13  무부하매연허용치3  95817 non-null   float64\n",
      " 14  무부하매연판정3   68016 non-null   object \n",
      " 15  무부하매연측정치4  95818 non-null   float64\n",
      " 16  무부하매연허용치4  95815 non-null   float64\n",
      " 17  무부하매연판정4   68011 non-null   object \n",
      " 18  무부하매연측정치5  95818 non-null   float64\n",
      " 19  무부하매연허용치5  95815 non-null   float64\n",
      " 20  무부하매연판정5   68011 non-null   object \n",
      " 21  무부하매연측정치6  89672 non-null   float64\n",
      " 22  무부하매연허용치6  89670 non-null   float64\n",
      " 23  무부하매연판정6   58303 non-null   object \n",
      "dtypes: float64(12), int64(1), object(11)\n",
      "memory usage: 26.8+ MB\n"
     ]
    }
   ],
   "source": [
    "# 25.9s\n",
    "name = '정밀검사_20240115'\n",
    "file_name = f'{name}.xlsx'\n",
    "eet = pd.read_excel(os.path.join(raw_fold, file_name), usecols=eetr_cols)\n",
    "eet.info()"
   ]
  },
  {
   "cell_type": "code",
   "execution_count": 1459,
   "metadata": {},
   "outputs": [
    {
     "name": "stderr",
     "output_type": "stream",
     "text": [
      "c:\\Users\\kbjung\\anaconda3\\Lib\\site-packages\\IPython\\core\\displayhook.py:281: UserWarning: Output cache limit (currently 1000 entries) hit.\n",
      "Flushing oldest 200 entries.\n",
      "  warn('Output cache limit (currently {sz} entries) hit.\\n'\n"
     ]
    },
    {
     "data": {
      "text/plain": [
       "count     146404.00\n",
       "mean    20221858.94\n",
       "std         7286.53\n",
       "min     20210601.00\n",
       "25%     20220125.00\n",
       "50%     20220823.00\n",
       "75%     20230314.00\n",
       "max     20230909.00\n",
       "Name: 정밀검사일자, dtype: float64"
      ]
     },
     "execution_count": 1459,
     "metadata": {},
     "output_type": "execute_result"
    }
   ],
   "source": [
    "eet['정밀검사일자'].describe()"
   ]
  },
  {
   "cell_type": "code",
   "execution_count": 974,
   "metadata": {},
   "outputs": [],
   "source": [
    "# 0.6s\n",
    "eet.to_csv(os.path.join(raw_fold, f'{name}.csv'), index=False)"
   ]
  },
  {
   "cell_type": "markdown",
   "metadata": {},
   "source": [
    "# Load\n",
    "- 원격 측정 정보(자스텍 제공)\n",
    "- 차량제원(자스텍 제공)\n",
    "- 정밀검사(자스텍 제공)"
   ]
  },
  {
   "cell_type": "markdown",
   "metadata": {},
   "source": [
    "## 원격측정정보"
   ]
  },
  {
   "cell_type": "code",
   "execution_count": 975,
   "metadata": {},
   "outputs": [
    {
     "data": {
      "text/plain": [
       "15"
      ]
     },
     "execution_count": 975,
     "metadata": {},
     "output_type": "execute_result"
    }
   ],
   "source": [
    "rsd_cdict = {\n",
    "    'vdfDateTime':'측정날짜',\n",
    "    'vdfTime':'측정시간',\n",
    "    'vdfRecordStatus':'기록상태',\n",
    "    'vdfValid':'유효',\n",
    "    'samSpeed':'속도',\n",
    "    'samAccel':'가속도',\n",
    "    'samFlag':'플래그',\n",
    "    'vdfVSP':'VSP',\n",
    "    'Smoke':'매연',\n",
    "    'V_PLATE':'차량번호',\n",
    "    'LineNo':'차선번호',\n",
    "    'Wind speed':'풍속',\n",
    "    'Humidity':'습도', \n",
    "    'Temp':'온도',\n",
    "    'siteCode':'측정장소코드',\n",
    "    }\n",
    "len(rsd_cdict)"
   ]
  },
  {
   "cell_type": "code",
   "execution_count": 976,
   "metadata": {},
   "outputs": [
    {
     "name": "stdout",
     "output_type": "stream",
     "text": [
      "<class 'pandas.core.frame.DataFrame'>\n",
      "RangeIndex: 414226 entries, 0 to 414225\n",
      "Data columns (total 15 columns):\n",
      " #   Column           Non-Null Count   Dtype  \n",
      "---  ------           --------------   -----  \n",
      " 0   vdfDateTime      414226 non-null  object \n",
      " 1   vdfTime          414226 non-null  object \n",
      " 2   vdfRecordStatus  414226 non-null  object \n",
      " 3   vdfValid         414226 non-null  object \n",
      " 4   samSpeed         414226 non-null  float64\n",
      " 5   samAccel         414226 non-null  float64\n",
      " 6   samFlag          414226 non-null  object \n",
      " 7   vdfVSP           414226 non-null  float64\n",
      " 8   Smoke            414226 non-null  float64\n",
      " 9   V_PLATE          414226 non-null  object \n",
      " 10  LineNo           253037 non-null  float64\n",
      " 11  Wind speed       195040 non-null  float64\n",
      " 12  Humidity         243226 non-null  float64\n",
      " 13  Temp             414226 non-null  float64\n",
      " 14  siteCode         110 non-null     object \n",
      "dtypes: float64(8), object(7)\n",
      "memory usage: 47.4+ MB\n"
     ]
    },
    {
     "name": "stderr",
     "output_type": "stream",
     "text": [
      "C:\\Users\\kbjung\\AppData\\Local\\Temp\\ipykernel_12976\\2541490547.py:4: DtypeWarning: Columns (73) have mixed types. Specify dtype option on import or set low_memory=False.\n",
      "  rsd = pd.read_csv(os.path.join(raw_fold, file_name), usecols=rsd_cdict.keys())\n"
     ]
    }
   ],
   "source": [
    "# 1s\n",
    "name = '매연RSD데이터(rawDATA)_20221004 ~ 20231210'\n",
    "file_name = f'{name}.csv'\n",
    "rsd = pd.read_csv(os.path.join(raw_fold, file_name), usecols=rsd_cdict.keys())\n",
    "rsd.info()"
   ]
  },
  {
   "cell_type": "code",
   "execution_count": 977,
   "metadata": {},
   "outputs": [
    {
     "data": {
      "text/plain": [
       "Index(['vdfDateTime', 'vdfTime', 'vdfRecordStatus', 'vdfValid', 'samSpeed',\n",
       "       'samAccel', 'samFlag', 'vdfVSP', 'Smoke', 'V_PLATE', 'LineNo',\n",
       "       'Wind speed', 'Humidity', 'Temp', 'siteCode'],\n",
       "      dtype='object')"
      ]
     },
     "execution_count": 977,
     "metadata": {},
     "output_type": "execute_result"
    }
   ],
   "source": [
    "rsd.columns"
   ]
  },
  {
   "cell_type": "code",
   "execution_count": 978,
   "metadata": {},
   "outputs": [
    {
     "data": {
      "text/plain": [
       "Index(['측정날짜', '측정시간', '기록상태', '유효', '속도', '가속도', '플래그', 'VSP', '매연', '차량번호',\n",
       "       '차선번호', '풍속', '습도', '온도', '측정장소코드'],\n",
       "      dtype='object')"
      ]
     },
     "execution_count": 978,
     "metadata": {},
     "output_type": "execute_result"
    }
   ],
   "source": [
    "rsdr = rsd.rename(columns=rsd_cdict)\n",
    "rsdr.columns"
   ]
  },
  {
   "cell_type": "code",
   "execution_count": 979,
   "metadata": {},
   "outputs": [
    {
     "data": {
      "text/html": [
       "<div>\n",
       "<style scoped>\n",
       "    .dataframe tbody tr th:only-of-type {\n",
       "        vertical-align: middle;\n",
       "    }\n",
       "\n",
       "    .dataframe tbody tr th {\n",
       "        vertical-align: top;\n",
       "    }\n",
       "\n",
       "    .dataframe thead th {\n",
       "        text-align: right;\n",
       "    }\n",
       "</style>\n",
       "<table border=\"1\" class=\"dataframe\">\n",
       "  <thead>\n",
       "    <tr style=\"text-align: right;\">\n",
       "      <th></th>\n",
       "      <th>측정날짜</th>\n",
       "      <th>측정시간</th>\n",
       "      <th>기록상태</th>\n",
       "      <th>유효</th>\n",
       "      <th>속도</th>\n",
       "      <th>가속도</th>\n",
       "      <th>플래그</th>\n",
       "      <th>VSP</th>\n",
       "      <th>매연</th>\n",
       "      <th>차량번호</th>\n",
       "      <th>차선번호</th>\n",
       "      <th>풍속</th>\n",
       "      <th>습도</th>\n",
       "      <th>온도</th>\n",
       "      <th>측정장소코드</th>\n",
       "    </tr>\n",
       "  </thead>\n",
       "  <tbody>\n",
       "    <tr>\n",
       "      <th>0</th>\n",
       "      <td>01-02-2023</td>\n",
       "      <td>09:03:00</td>\n",
       "      <td>N</td>\n",
       "      <td>V</td>\n",
       "      <td>56.10</td>\n",
       "      <td>0.00</td>\n",
       "      <td>V</td>\n",
       "      <td>13.29</td>\n",
       "      <td>6.30</td>\n",
       "      <td>38러2039</td>\n",
       "      <td>NaN</td>\n",
       "      <td>NaN</td>\n",
       "      <td>NaN</td>\n",
       "      <td>0.00</td>\n",
       "      <td>NaN</td>\n",
       "    </tr>\n",
       "    <tr>\n",
       "      <th>1</th>\n",
       "      <td>01-02-2023</td>\n",
       "      <td>09:03:08</td>\n",
       "      <td>N</td>\n",
       "      <td>V</td>\n",
       "      <td>58.60</td>\n",
       "      <td>0.70</td>\n",
       "      <td>V</td>\n",
       "      <td>17.34</td>\n",
       "      <td>1.00</td>\n",
       "      <td>274모8753</td>\n",
       "      <td>NaN</td>\n",
       "      <td>NaN</td>\n",
       "      <td>NaN</td>\n",
       "      <td>0.00</td>\n",
       "      <td>NaN</td>\n",
       "    </tr>\n",
       "    <tr>\n",
       "      <th>2</th>\n",
       "      <td>01-02-2023</td>\n",
       "      <td>09:03:14</td>\n",
       "      <td>N</td>\n",
       "      <td>V</td>\n",
       "      <td>57.70</td>\n",
       "      <td>-0.80</td>\n",
       "      <td>V</td>\n",
       "      <td>9.92</td>\n",
       "      <td>0.90</td>\n",
       "      <td>45라0943</td>\n",
       "      <td>NaN</td>\n",
       "      <td>NaN</td>\n",
       "      <td>NaN</td>\n",
       "      <td>0.00</td>\n",
       "      <td>NaN</td>\n",
       "    </tr>\n",
       "    <tr>\n",
       "      <th>3</th>\n",
       "      <td>01-02-2023</td>\n",
       "      <td>09:03:20</td>\n",
       "      <td>N</td>\n",
       "      <td>V</td>\n",
       "      <td>53.50</td>\n",
       "      <td>0.20</td>\n",
       "      <td>V</td>\n",
       "      <td>13.45</td>\n",
       "      <td>0.70</td>\n",
       "      <td>34로8928</td>\n",
       "      <td>NaN</td>\n",
       "      <td>NaN</td>\n",
       "      <td>NaN</td>\n",
       "      <td>0.00</td>\n",
       "      <td>NaN</td>\n",
       "    </tr>\n",
       "    <tr>\n",
       "      <th>4</th>\n",
       "      <td>01-02-2023</td>\n",
       "      <td>09:03:28</td>\n",
       "      <td>N</td>\n",
       "      <td>V</td>\n",
       "      <td>49.70</td>\n",
       "      <td>-0.70</td>\n",
       "      <td>V</td>\n",
       "      <td>8.72</td>\n",
       "      <td>1.10</td>\n",
       "      <td>91모3601</td>\n",
       "      <td>NaN</td>\n",
       "      <td>NaN</td>\n",
       "      <td>NaN</td>\n",
       "      <td>0.00</td>\n",
       "      <td>NaN</td>\n",
       "    </tr>\n",
       "  </tbody>\n",
       "</table>\n",
       "</div>"
      ],
      "text/plain": [
       "         측정날짜      측정시간 기록상태 유효    속도   가속도 플래그   VSP   매연      차량번호  차선번호  \\\n",
       "0  01-02-2023  09:03:00    N  V 56.10  0.00   V 13.29 6.30   38러2039   NaN   \n",
       "1  01-02-2023  09:03:08    N  V 58.60  0.70   V 17.34 1.00  274모8753   NaN   \n",
       "2  01-02-2023  09:03:14    N  V 57.70 -0.80   V  9.92 0.90   45라0943   NaN   \n",
       "3  01-02-2023  09:03:20    N  V 53.50  0.20   V 13.45 0.70   34로8928   NaN   \n",
       "4  01-02-2023  09:03:28    N  V 49.70 -0.70   V  8.72 1.10   91모3601   NaN   \n",
       "\n",
       "   풍속  습도   온도 측정장소코드  \n",
       "0 NaN NaN 0.00    NaN  \n",
       "1 NaN NaN 0.00    NaN  \n",
       "2 NaN NaN 0.00    NaN  \n",
       "3 NaN NaN 0.00    NaN  \n",
       "4 NaN NaN 0.00    NaN  "
      ]
     },
     "execution_count": 979,
     "metadata": {},
     "output_type": "execute_result"
    }
   ],
   "source": [
    "rsdr.head()"
   ]
  },
  {
   "cell_type": "markdown",
   "metadata": {},
   "source": [
    "### [출력] csv"
   ]
  },
  {
   "cell_type": "code",
   "execution_count": 980,
   "metadata": {},
   "outputs": [
    {
     "data": {
      "text/plain": [
       "'매연RSD데이터(rawDATA)_20221004 ~ 20231210'"
      ]
     },
     "execution_count": 980,
     "metadata": {},
     "output_type": "execute_result"
    }
   ],
   "source": [
    "name"
   ]
  },
  {
   "cell_type": "code",
   "execution_count": 981,
   "metadata": {},
   "outputs": [],
   "source": [
    "# # 1s\n",
    "# rsd.to_csv(os.path.join(raw_fold, f'{name}.csv'), index=False)"
   ]
  },
  {
   "cell_type": "markdown",
   "metadata": {},
   "source": [
    "## 차량제원"
   ]
  },
  {
   "cell_type": "code",
   "execution_count": 982,
   "metadata": {},
   "outputs": [
    {
     "name": "stdout",
     "output_type": "stream",
     "text": [
      "<class 'pandas.core.frame.DataFrame'>\n",
      "RangeIndex: 194603 entries, 0 to 194602\n",
      "Data columns (total 11 columns):\n",
      " #   Column  Non-Null Count   Dtype  \n",
      "---  ------  --------------   -----  \n",
      " 0   차량번호    194603 non-null  object \n",
      " 1   연료      187617 non-null  object \n",
      " 2   연식      187645 non-null  float64\n",
      " 3   배기량     187621 non-null  float64\n",
      " 4   차종      187645 non-null  object \n",
      " 5   총중량     187645 non-null  float64\n",
      " 6   엔진형식    187627 non-null  object \n",
      " 7   등급      187645 non-null  object \n",
      " 8   차대번호    187645 non-null  object \n",
      " 9   차명      187645 non-null  object \n",
      " 10  폐차여부    187645 non-null  object \n",
      "dtypes: float64(3), object(8)\n",
      "memory usage: 16.3+ MB\n"
     ]
    }
   ],
   "source": [
    "# 0.5s\n",
    "cs = pd.read_csv(os.path.join(raw_fold, '제원정보_20240115.csv'))\n",
    "cs.info()"
   ]
  },
  {
   "cell_type": "markdown",
   "metadata": {},
   "source": [
    "## 정밀검사"
   ]
  },
  {
   "cell_type": "code",
   "execution_count": 983,
   "metadata": {},
   "outputs": [],
   "source": [
    "# eetr_cols = ['차대번호', '정밀검사일자', '정밀검사종류', '관능검사판정', '정밀검사판정', '정밀검사측정방법', '무부하매연측정치1', '무부하매연허용치1', '무부하매연판정1', '무부하매연측정치2', '무부하매연허용치2', '무부하매연판정2', '무부하매연측정치3', '무부하매연허용치3', '무부하매연판정3', '무부하매연측정치4', '무부하매연허용치4', '무부하매연판정4', '무부하매연측정치5', '무부하매연허용치5', '무부하매연판정5', '무부하매연측정치6', '무부하매연허용치6', '무부하매연판정6']\n",
    "# len(eetr_cols)"
   ]
  },
  {
   "cell_type": "code",
   "execution_count": 984,
   "metadata": {},
   "outputs": [
    {
     "name": "stdout",
     "output_type": "stream",
     "text": [
      "<class 'pandas.core.frame.DataFrame'>\n",
      "RangeIndex: 146404 entries, 0 to 146403\n",
      "Data columns (total 24 columns):\n",
      " #   Column     Non-Null Count   Dtype  \n",
      "---  ------     --------------   -----  \n",
      " 0   차대번호       146404 non-null  object \n",
      " 1   정밀검사일자     146404 non-null  int64  \n",
      " 2   정밀검사종류     146404 non-null  object \n",
      " 3   관능검사판정     146404 non-null  object \n",
      " 4   정밀검사판정     146404 non-null  object \n",
      " 5   정밀검사측정방법   146404 non-null  object \n",
      " 6   무부하매연측정치1  142933 non-null  float64\n",
      " 7   무부하매연허용치1  142930 non-null  float64\n",
      " 8   무부하매연판정1   142929 non-null  object \n",
      " 9   무부하매연측정치2  106606 non-null  float64\n",
      " 10  무부하매연허용치2  101669 non-null  float64\n",
      " 11  무부하매연판정2   76936 non-null   object \n",
      " 12  무부하매연측정치3  95820 non-null   float64\n",
      " 13  무부하매연허용치3  95817 non-null   float64\n",
      " 14  무부하매연판정3   68016 non-null   object \n",
      " 15  무부하매연측정치4  95818 non-null   float64\n",
      " 16  무부하매연허용치4  95815 non-null   float64\n",
      " 17  무부하매연판정4   68011 non-null   object \n",
      " 18  무부하매연측정치5  95818 non-null   float64\n",
      " 19  무부하매연허용치5  95815 non-null   float64\n",
      " 20  무부하매연판정5   68011 non-null   object \n",
      " 21  무부하매연측정치6  89672 non-null   float64\n",
      " 22  무부하매연허용치6  89670 non-null   float64\n",
      " 23  무부하매연판정6   58303 non-null   object \n",
      "dtypes: float64(12), int64(1), object(11)\n",
      "memory usage: 26.8+ MB\n"
     ]
    }
   ],
   "source": [
    "# 0.5s\n",
    "# eetr = pd.read_csv(os.path.join(raw_fold, '정밀검사_20240115.csv'), usecols=eetr_cols)\n",
    "eetr = pd.read_csv(os.path.join(raw_fold, '정밀검사_20240115.csv'))\n",
    "eetr.info()"
   ]
  },
  {
   "cell_type": "code",
   "execution_count": 985,
   "metadata": {},
   "outputs": [
    {
     "data": {
      "text/plain": [
       "Index(['차대번호', '정밀검사일자', '정밀검사종류', '관능검사판정', '정밀검사판정', '정밀검사측정방법', '무부하매연측정치1',\n",
       "       '무부하매연허용치1', '무부하매연판정1', '무부하매연측정치2', '무부하매연허용치2', '무부하매연판정2',\n",
       "       '무부하매연측정치3', '무부하매연허용치3', '무부하매연판정3', '무부하매연측정치4', '무부하매연허용치4',\n",
       "       '무부하매연판정4', '무부하매연측정치5', '무부하매연허용치5', '무부하매연판정5', '무부하매연측정치6',\n",
       "       '무부하매연허용치6', '무부하매연판정6'],\n",
       "      dtype='object')"
      ]
     },
     "execution_count": 985,
     "metadata": {},
     "output_type": "execute_result"
    }
   ],
   "source": [
    "eetr.columns"
   ]
  },
  {
   "cell_type": "markdown",
   "metadata": {},
   "source": [
    "# Preprocessing"
   ]
  },
  {
   "cell_type": "markdown",
   "metadata": {},
   "source": [
    "## 원격측정정보"
   ]
  },
  {
   "cell_type": "markdown",
   "metadata": {},
   "source": [
    "### 측정날짜, 측정시간 전처리\n",
    "- datetime type으로 변환"
   ]
  },
  {
   "cell_type": "code",
   "execution_count": 986,
   "metadata": {},
   "outputs": [
    {
     "data": {
      "text/html": [
       "<div>\n",
       "<style scoped>\n",
       "    .dataframe tbody tr th:only-of-type {\n",
       "        vertical-align: middle;\n",
       "    }\n",
       "\n",
       "    .dataframe tbody tr th {\n",
       "        vertical-align: top;\n",
       "    }\n",
       "\n",
       "    .dataframe thead th {\n",
       "        text-align: right;\n",
       "    }\n",
       "</style>\n",
       "<table border=\"1\" class=\"dataframe\">\n",
       "  <thead>\n",
       "    <tr style=\"text-align: right;\">\n",
       "      <th></th>\n",
       "      <th>측정날짜</th>\n",
       "      <th>측정시간</th>\n",
       "    </tr>\n",
       "  </thead>\n",
       "  <tbody>\n",
       "    <tr>\n",
       "      <th>0</th>\n",
       "      <td>01-02-2023</td>\n",
       "      <td>09:03:00</td>\n",
       "    </tr>\n",
       "    <tr>\n",
       "      <th>1</th>\n",
       "      <td>01-02-2023</td>\n",
       "      <td>09:03:08</td>\n",
       "    </tr>\n",
       "    <tr>\n",
       "      <th>2</th>\n",
       "      <td>01-02-2023</td>\n",
       "      <td>09:03:14</td>\n",
       "    </tr>\n",
       "    <tr>\n",
       "      <th>3</th>\n",
       "      <td>01-02-2023</td>\n",
       "      <td>09:03:20</td>\n",
       "    </tr>\n",
       "    <tr>\n",
       "      <th>4</th>\n",
       "      <td>01-02-2023</td>\n",
       "      <td>09:03:28</td>\n",
       "    </tr>\n",
       "  </tbody>\n",
       "</table>\n",
       "</div>"
      ],
      "text/plain": [
       "         측정날짜      측정시간\n",
       "0  01-02-2023  09:03:00\n",
       "1  01-02-2023  09:03:08\n",
       "2  01-02-2023  09:03:14\n",
       "3  01-02-2023  09:03:20\n",
       "4  01-02-2023  09:03:28"
      ]
     },
     "execution_count": 986,
     "metadata": {},
     "output_type": "execute_result"
    }
   ],
   "source": [
    "rsdr[['측정날짜', '측정시간']].head()"
   ]
  },
  {
   "cell_type": "code",
   "execution_count": 987,
   "metadata": {},
   "outputs": [
    {
     "data": {
      "text/plain": [
       "측정날짜    0\n",
       "측정시간    0\n",
       "dtype: int64"
      ]
     },
     "execution_count": 987,
     "metadata": {},
     "output_type": "execute_result"
    }
   ],
   "source": [
    "rsdr[['측정날짜', '측정시간']].isnull().sum()"
   ]
  },
  {
   "cell_type": "code",
   "execution_count": 988,
   "metadata": {},
   "outputs": [
    {
     "data": {
      "text/plain": [
       "측정날짜    object\n",
       "측정시간    object\n",
       "dtype: object"
      ]
     },
     "execution_count": 988,
     "metadata": {},
     "output_type": "execute_result"
    }
   ],
   "source": [
    "rsdr[['측정날짜', '측정시간']].dtypes"
   ]
  },
  {
   "cell_type": "code",
   "execution_count": 989,
   "metadata": {},
   "outputs": [],
   "source": [
    "rsdr['측정날짜'] = pd.to_datetime(rsdr['측정날짜'])"
   ]
  },
  {
   "cell_type": "code",
   "execution_count": 990,
   "metadata": {},
   "outputs": [
    {
     "data": {
      "text/html": [
       "<div>\n",
       "<style scoped>\n",
       "    .dataframe tbody tr th:only-of-type {\n",
       "        vertical-align: middle;\n",
       "    }\n",
       "\n",
       "    .dataframe tbody tr th {\n",
       "        vertical-align: top;\n",
       "    }\n",
       "\n",
       "    .dataframe thead th {\n",
       "        text-align: right;\n",
       "    }\n",
       "</style>\n",
       "<table border=\"1\" class=\"dataframe\">\n",
       "  <thead>\n",
       "    <tr style=\"text-align: right;\">\n",
       "      <th></th>\n",
       "      <th>측정날짜</th>\n",
       "      <th>측정시간</th>\n",
       "      <th>기록상태</th>\n",
       "      <th>유효</th>\n",
       "      <th>속도</th>\n",
       "      <th>가속도</th>\n",
       "      <th>플래그</th>\n",
       "      <th>VSP</th>\n",
       "      <th>매연</th>\n",
       "      <th>차량번호</th>\n",
       "      <th>차선번호</th>\n",
       "      <th>풍속</th>\n",
       "      <th>습도</th>\n",
       "      <th>온도</th>\n",
       "      <th>측정장소코드</th>\n",
       "    </tr>\n",
       "  </thead>\n",
       "  <tbody>\n",
       "    <tr>\n",
       "      <th>0</th>\n",
       "      <td>2023-01-02</td>\n",
       "      <td>09:03:00</td>\n",
       "      <td>N</td>\n",
       "      <td>V</td>\n",
       "      <td>56.10</td>\n",
       "      <td>0.00</td>\n",
       "      <td>V</td>\n",
       "      <td>13.29</td>\n",
       "      <td>6.30</td>\n",
       "      <td>38러2039</td>\n",
       "      <td>NaN</td>\n",
       "      <td>NaN</td>\n",
       "      <td>NaN</td>\n",
       "      <td>0.00</td>\n",
       "      <td>NaN</td>\n",
       "    </tr>\n",
       "    <tr>\n",
       "      <th>1</th>\n",
       "      <td>2023-01-02</td>\n",
       "      <td>09:03:08</td>\n",
       "      <td>N</td>\n",
       "      <td>V</td>\n",
       "      <td>58.60</td>\n",
       "      <td>0.70</td>\n",
       "      <td>V</td>\n",
       "      <td>17.34</td>\n",
       "      <td>1.00</td>\n",
       "      <td>274모8753</td>\n",
       "      <td>NaN</td>\n",
       "      <td>NaN</td>\n",
       "      <td>NaN</td>\n",
       "      <td>0.00</td>\n",
       "      <td>NaN</td>\n",
       "    </tr>\n",
       "    <tr>\n",
       "      <th>2</th>\n",
       "      <td>2023-01-02</td>\n",
       "      <td>09:03:14</td>\n",
       "      <td>N</td>\n",
       "      <td>V</td>\n",
       "      <td>57.70</td>\n",
       "      <td>-0.80</td>\n",
       "      <td>V</td>\n",
       "      <td>9.92</td>\n",
       "      <td>0.90</td>\n",
       "      <td>45라0943</td>\n",
       "      <td>NaN</td>\n",
       "      <td>NaN</td>\n",
       "      <td>NaN</td>\n",
       "      <td>0.00</td>\n",
       "      <td>NaN</td>\n",
       "    </tr>\n",
       "    <tr>\n",
       "      <th>3</th>\n",
       "      <td>2023-01-02</td>\n",
       "      <td>09:03:20</td>\n",
       "      <td>N</td>\n",
       "      <td>V</td>\n",
       "      <td>53.50</td>\n",
       "      <td>0.20</td>\n",
       "      <td>V</td>\n",
       "      <td>13.45</td>\n",
       "      <td>0.70</td>\n",
       "      <td>34로8928</td>\n",
       "      <td>NaN</td>\n",
       "      <td>NaN</td>\n",
       "      <td>NaN</td>\n",
       "      <td>0.00</td>\n",
       "      <td>NaN</td>\n",
       "    </tr>\n",
       "    <tr>\n",
       "      <th>4</th>\n",
       "      <td>2023-01-02</td>\n",
       "      <td>09:03:28</td>\n",
       "      <td>N</td>\n",
       "      <td>V</td>\n",
       "      <td>49.70</td>\n",
       "      <td>-0.70</td>\n",
       "      <td>V</td>\n",
       "      <td>8.72</td>\n",
       "      <td>1.10</td>\n",
       "      <td>91모3601</td>\n",
       "      <td>NaN</td>\n",
       "      <td>NaN</td>\n",
       "      <td>NaN</td>\n",
       "      <td>0.00</td>\n",
       "      <td>NaN</td>\n",
       "    </tr>\n",
       "  </tbody>\n",
       "</table>\n",
       "</div>"
      ],
      "text/plain": [
       "        측정날짜      측정시간 기록상태 유효    속도   가속도 플래그   VSP   매연      차량번호  차선번호  풍속  \\\n",
       "0 2023-01-02  09:03:00    N  V 56.10  0.00   V 13.29 6.30   38러2039   NaN NaN   \n",
       "1 2023-01-02  09:03:08    N  V 58.60  0.70   V 17.34 1.00  274모8753   NaN NaN   \n",
       "2 2023-01-02  09:03:14    N  V 57.70 -0.80   V  9.92 0.90   45라0943   NaN NaN   \n",
       "3 2023-01-02  09:03:20    N  V 53.50  0.20   V 13.45 0.70   34로8928   NaN NaN   \n",
       "4 2023-01-02  09:03:28    N  V 49.70 -0.70   V  8.72 1.10   91모3601   NaN NaN   \n",
       "\n",
       "   습도   온도 측정장소코드  \n",
       "0 NaN 0.00    NaN  \n",
       "1 NaN 0.00    NaN  \n",
       "2 NaN 0.00    NaN  \n",
       "3 NaN 0.00    NaN  \n",
       "4 NaN 0.00    NaN  "
      ]
     },
     "execution_count": 990,
     "metadata": {},
     "output_type": "execute_result"
    }
   ],
   "source": [
    "rsdr.head()"
   ]
  },
  {
   "cell_type": "code",
   "execution_count": 991,
   "metadata": {},
   "outputs": [
    {
     "data": {
      "text/plain": [
       "(414226, 191052)"
      ]
     },
     "execution_count": 991,
     "metadata": {},
     "output_type": "execute_result"
    }
   ],
   "source": [
    "rsdr.shape[0], len(rsdr['차량번호'].unique())"
   ]
  },
  {
   "cell_type": "markdown",
   "metadata": {},
   "source": [
    "## 차량제원"
   ]
  },
  {
   "cell_type": "code",
   "execution_count": 992,
   "metadata": {},
   "outputs": [
    {
     "data": {
      "text/plain": [
       "Index(['차량번호', '연료', '연식', '배기량', '차종', '총중량', '엔진형식', '등급', '차대번호', '차명',\n",
       "       '폐차여부'],\n",
       "      dtype='object')"
      ]
     },
     "execution_count": 992,
     "metadata": {},
     "output_type": "execute_result"
    }
   ],
   "source": [
    "cs.columns"
   ]
  },
  {
   "cell_type": "code",
   "execution_count": 993,
   "metadata": {},
   "outputs": [
    {
     "data": {
      "text/html": [
       "<div>\n",
       "<style scoped>\n",
       "    .dataframe tbody tr th:only-of-type {\n",
       "        vertical-align: middle;\n",
       "    }\n",
       "\n",
       "    .dataframe tbody tr th {\n",
       "        vertical-align: top;\n",
       "    }\n",
       "\n",
       "    .dataframe thead th {\n",
       "        text-align: right;\n",
       "    }\n",
       "</style>\n",
       "<table border=\"1\" class=\"dataframe\">\n",
       "  <thead>\n",
       "    <tr style=\"text-align: right;\">\n",
       "      <th></th>\n",
       "      <th>차량번호</th>\n",
       "      <th>연료</th>\n",
       "      <th>연식</th>\n",
       "      <th>배기량</th>\n",
       "      <th>차종</th>\n",
       "      <th>총중량</th>\n",
       "      <th>엔진형식</th>\n",
       "      <th>등급</th>\n",
       "      <th>차대번호</th>\n",
       "      <th>차명</th>\n",
       "      <th>폐차여부</th>\n",
       "    </tr>\n",
       "  </thead>\n",
       "  <tbody>\n",
       "    <tr>\n",
       "      <th>0</th>\n",
       "      <td>000다7359</td>\n",
       "      <td>NaN</td>\n",
       "      <td>NaN</td>\n",
       "      <td>NaN</td>\n",
       "      <td>NaN</td>\n",
       "      <td>NaN</td>\n",
       "      <td>NaN</td>\n",
       "      <td>NaN</td>\n",
       "      <td>NaN</td>\n",
       "      <td>NaN</td>\n",
       "      <td>NaN</td>\n",
       "    </tr>\n",
       "    <tr>\n",
       "      <th>1</th>\n",
       "      <td>006가1340</td>\n",
       "      <td>NaN</td>\n",
       "      <td>NaN</td>\n",
       "      <td>NaN</td>\n",
       "      <td>NaN</td>\n",
       "      <td>NaN</td>\n",
       "      <td>NaN</td>\n",
       "      <td>NaN</td>\n",
       "      <td>NaN</td>\n",
       "      <td>NaN</td>\n",
       "      <td>NaN</td>\n",
       "    </tr>\n",
       "    <tr>\n",
       "      <th>2</th>\n",
       "      <td>006가1353</td>\n",
       "      <td>NaN</td>\n",
       "      <td>NaN</td>\n",
       "      <td>NaN</td>\n",
       "      <td>NaN</td>\n",
       "      <td>NaN</td>\n",
       "      <td>NaN</td>\n",
       "      <td>NaN</td>\n",
       "      <td>NaN</td>\n",
       "      <td>NaN</td>\n",
       "      <td>NaN</td>\n",
       "    </tr>\n",
       "    <tr>\n",
       "      <th>3</th>\n",
       "      <td>006가2474</td>\n",
       "      <td>NaN</td>\n",
       "      <td>NaN</td>\n",
       "      <td>NaN</td>\n",
       "      <td>NaN</td>\n",
       "      <td>NaN</td>\n",
       "      <td>NaN</td>\n",
       "      <td>NaN</td>\n",
       "      <td>NaN</td>\n",
       "      <td>NaN</td>\n",
       "      <td>NaN</td>\n",
       "    </tr>\n",
       "    <tr>\n",
       "      <th>4</th>\n",
       "      <td>006가3249</td>\n",
       "      <td>NaN</td>\n",
       "      <td>NaN</td>\n",
       "      <td>NaN</td>\n",
       "      <td>NaN</td>\n",
       "      <td>NaN</td>\n",
       "      <td>NaN</td>\n",
       "      <td>NaN</td>\n",
       "      <td>NaN</td>\n",
       "      <td>NaN</td>\n",
       "      <td>NaN</td>\n",
       "    </tr>\n",
       "  </tbody>\n",
       "</table>\n",
       "</div>"
      ],
      "text/plain": [
       "       차량번호   연료  연식  배기량   차종  총중량 엔진형식   등급 차대번호   차명 폐차여부\n",
       "0  000다7359  NaN NaN  NaN  NaN  NaN  NaN  NaN  NaN  NaN  NaN\n",
       "1  006가1340  NaN NaN  NaN  NaN  NaN  NaN  NaN  NaN  NaN  NaN\n",
       "2  006가1353  NaN NaN  NaN  NaN  NaN  NaN  NaN  NaN  NaN  NaN\n",
       "3  006가2474  NaN NaN  NaN  NaN  NaN  NaN  NaN  NaN  NaN  NaN\n",
       "4  006가3249  NaN NaN  NaN  NaN  NaN  NaN  NaN  NaN  NaN  NaN"
      ]
     },
     "execution_count": 993,
     "metadata": {},
     "output_type": "execute_result"
    }
   ],
   "source": [
    "cs.head()"
   ]
  },
  {
   "cell_type": "code",
   "execution_count": 994,
   "metadata": {},
   "outputs": [
    {
     "data": {
      "text/plain": [
       "(194603, 11)"
      ]
     },
     "execution_count": 994,
     "metadata": {},
     "output_type": "execute_result"
    }
   ],
   "source": [
    "cs.shape"
   ]
  },
  {
   "cell_type": "code",
   "execution_count": 995,
   "metadata": {},
   "outputs": [
    {
     "data": {
      "text/plain": [
       "폐차여부\n",
       "N      180264\n",
       "Y        7381\n",
       "NaN      6958\n",
       "Name: count, dtype: int64"
      ]
     },
     "execution_count": 995,
     "metadata": {},
     "output_type": "execute_result"
    }
   ],
   "source": [
    "cs['폐차여부'].value_counts(dropna=False)"
   ]
  },
  {
   "cell_type": "code",
   "execution_count": 996,
   "metadata": {},
   "outputs": [
    {
     "data": {
      "text/plain": [
       "(187222, 11)"
      ]
     },
     "execution_count": 996,
     "metadata": {},
     "output_type": "execute_result"
    }
   ],
   "source": [
    "csn = cs[cs['폐차여부'] != 'Y'].reset_index(drop=True)\n",
    "csn.shape"
   ]
  },
  {
   "cell_type": "code",
   "execution_count": 997,
   "metadata": {},
   "outputs": [
    {
     "data": {
      "text/plain": [
       "(187222, 11)"
      ]
     },
     "execution_count": 997,
     "metadata": {},
     "output_type": "execute_result"
    }
   ],
   "source": [
    "csn = csn.drop_duplicates().reset_index(drop=True)\n",
    "csn.shape"
   ]
  },
  {
   "cell_type": "code",
   "execution_count": 998,
   "metadata": {},
   "outputs": [
    {
     "data": {
      "text/plain": [
       "(187222, 187222)"
      ]
     },
     "execution_count": 998,
     "metadata": {},
     "output_type": "execute_result"
    }
   ],
   "source": [
    "csn.shape[0], len(csn['차량번호'].unique())"
   ]
  },
  {
   "cell_type": "code",
   "execution_count": 999,
   "metadata": {},
   "outputs": [
    {
     "data": {
      "text/plain": [
       "(187222, 180265)"
      ]
     },
     "execution_count": 999,
     "metadata": {},
     "output_type": "execute_result"
    }
   ],
   "source": [
    "csn.shape[0], len(csn['차대번호'].unique())"
   ]
  },
  {
   "cell_type": "code",
   "execution_count": 1000,
   "metadata": {},
   "outputs": [
    {
     "data": {
      "text/plain": [
       "Index(['차량번호', '연료', '연식', '배기량', '차종', '총중량', '엔진형식', '등급', '차대번호', '차명',\n",
       "       '폐차여부'],\n",
       "      dtype='object')"
      ]
     },
     "execution_count": 1000,
     "metadata": {},
     "output_type": "execute_result"
    }
   ],
   "source": [
    "csn.columns"
   ]
  },
  {
   "cell_type": "markdown",
   "metadata": {},
   "source": [
    "## 정밀검사"
   ]
  },
  {
   "cell_type": "code",
   "execution_count": 1001,
   "metadata": {},
   "outputs": [
    {
     "data": {
      "text/plain": [
       "(146404, 24)"
      ]
     },
     "execution_count": 1001,
     "metadata": {},
     "output_type": "execute_result"
    }
   ],
   "source": [
    "eetr.shape"
   ]
  },
  {
   "cell_type": "code",
   "execution_count": 1002,
   "metadata": {},
   "outputs": [
    {
     "data": {
      "text/plain": [
       "Index(['차대번호', '정밀검사일자', '정밀검사종류', '관능검사판정', '정밀검사판정', '정밀검사측정방법', '무부하매연측정치1',\n",
       "       '무부하매연허용치1', '무부하매연판정1', '무부하매연측정치2', '무부하매연허용치2', '무부하매연판정2',\n",
       "       '무부하매연측정치3', '무부하매연허용치3', '무부하매연판정3', '무부하매연측정치4', '무부하매연허용치4',\n",
       "       '무부하매연판정4', '무부하매연측정치5', '무부하매연허용치5', '무부하매연판정5', '무부하매연측정치6',\n",
       "       '무부하매연허용치6', '무부하매연판정6'],\n",
       "      dtype='object')"
      ]
     },
     "execution_count": 1002,
     "metadata": {},
     "output_type": "execute_result"
    }
   ],
   "source": [
    "eetr.columns"
   ]
  },
  {
   "cell_type": "code",
   "execution_count": 1003,
   "metadata": {},
   "outputs": [
    {
     "data": {
      "text/plain": [
       "dtype('int64')"
      ]
     },
     "execution_count": 1003,
     "metadata": {},
     "output_type": "execute_result"
    }
   ],
   "source": [
    "eetr['정밀검사일자'].dtype"
   ]
  },
  {
   "cell_type": "code",
   "execution_count": 1004,
   "metadata": {},
   "outputs": [
    {
     "data": {
      "text/plain": [
       "0"
      ]
     },
     "execution_count": 1004,
     "metadata": {},
     "output_type": "execute_result"
    }
   ],
   "source": [
    "eetr['정밀검사일자'].isnull().sum()"
   ]
  },
  {
   "cell_type": "code",
   "execution_count": 1005,
   "metadata": {},
   "outputs": [],
   "source": [
    "# 2.1s\n",
    "eetr['정밀검사일자'] = pd.to_datetime(eetr['정밀검사일자'], format=\"%Y%m%d\")"
   ]
  },
  {
   "cell_type": "code",
   "execution_count": 1006,
   "metadata": {},
   "outputs": [
    {
     "data": {
      "text/plain": [
       "0"
      ]
     },
     "execution_count": 1006,
     "metadata": {},
     "output_type": "execute_result"
    }
   ],
   "source": [
    "eetr['정밀검사일자'].isnull().sum()"
   ]
  },
  {
   "cell_type": "code",
   "execution_count": 1007,
   "metadata": {},
   "outputs": [
    {
     "data": {
      "text/plain": [
       "0   2022-04-15\n",
       "1   2022-05-25\n",
       "2   2022-05-02\n",
       "3   2023-01-25\n",
       "4   2022-03-02\n",
       "Name: 정밀검사일자, dtype: datetime64[ns]"
      ]
     },
     "execution_count": 1007,
     "metadata": {},
     "output_type": "execute_result"
    }
   ],
   "source": [
    "eetr['정밀검사일자'].head()"
   ]
  },
  {
   "cell_type": "markdown",
   "metadata": {},
   "source": [
    "### 최신검사만"
   ]
  },
  {
   "cell_type": "code",
   "execution_count": 1008,
   "metadata": {},
   "outputs": [
    {
     "data": {
      "text/plain": [
       "(146404, 24)"
      ]
     },
     "execution_count": 1008,
     "metadata": {},
     "output_type": "execute_result"
    }
   ],
   "source": [
    "eetr_total = eetr.copy()\n",
    "eetr_total.shape"
   ]
  },
  {
   "cell_type": "code",
   "execution_count": 1009,
   "metadata": {},
   "outputs": [
    {
     "data": {
      "text/plain": [
       "(146404, 100950)"
      ]
     },
     "execution_count": 1009,
     "metadata": {},
     "output_type": "execute_result"
    }
   ],
   "source": [
    "# 0s\n",
    "# 113320, 77561\n",
    "eetr.shape[0], len(eetr['차대번호'].unique())"
   ]
  },
  {
   "cell_type": "code",
   "execution_count": 1010,
   "metadata": {},
   "outputs": [
    {
     "data": {
      "text/plain": [
       "(100950, 24)"
      ]
     },
     "execution_count": 1010,
     "metadata": {},
     "output_type": "execute_result"
    }
   ],
   "source": [
    "# 0s\n",
    "eetr = eetr.sort_values('정밀검사일자', ascending=False).drop_duplicates('차대번호').reset_index(drop=True)\n",
    "eetr.shape"
   ]
  },
  {
   "cell_type": "markdown",
   "metadata": {},
   "source": [
    "### 2022년 1월부터 사용"
   ]
  },
  {
   "cell_type": "code",
   "execution_count": 1011,
   "metadata": {},
   "outputs": [
    {
     "data": {
      "text/plain": [
       "0   2023-09-09\n",
       "1   2023-09-09\n",
       "2   2023-09-09\n",
       "3   2023-09-09\n",
       "4   2023-09-09\n",
       "Name: 정밀검사일자, dtype: datetime64[ns]"
      ]
     },
     "execution_count": 1011,
     "metadata": {},
     "output_type": "execute_result"
    }
   ],
   "source": [
    "eetr['정밀검사일자'].head()"
   ]
  },
  {
   "cell_type": "code",
   "execution_count": 1012,
   "metadata": {},
   "outputs": [
    {
     "data": {
      "text/plain": [
       "(90240, 24)"
      ]
     },
     "execution_count": 1012,
     "metadata": {},
     "output_type": "execute_result"
    }
   ],
   "source": [
    "# 0s\n",
    "eetr = eetr[eetr['정밀검사일자'] >= '2022-01-01'].reset_index(drop=True)\n",
    "eetr.shape"
   ]
  },
  {
   "cell_type": "code",
   "execution_count": 1013,
   "metadata": {},
   "outputs": [
    {
     "data": {
      "text/plain": [
       "0"
      ]
     },
     "execution_count": 1013,
     "metadata": {},
     "output_type": "execute_result"
    }
   ],
   "source": [
    "eetr['차대번호'].isnull().sum()"
   ]
  },
  {
   "cell_type": "markdown",
   "metadata": {},
   "source": [
    "## 원격&차량제원"
   ]
  },
  {
   "cell_type": "code",
   "execution_count": 1014,
   "metadata": {},
   "outputs": [
    {
     "data": {
      "text/plain": [
       "(414226, 15)"
      ]
     },
     "execution_count": 1014,
     "metadata": {},
     "output_type": "execute_result"
    }
   ],
   "source": [
    "rsdr.shape"
   ]
  },
  {
   "cell_type": "code",
   "execution_count": 1015,
   "metadata": {},
   "outputs": [
    {
     "data": {
      "text/plain": [
       "Index(['측정날짜', '측정시간', '기록상태', '유효', '속도', '가속도', '플래그', 'VSP', '매연', '차량번호',\n",
       "       '차선번호', '풍속', '습도', '온도', '측정장소코드'],\n",
       "      dtype='object')"
      ]
     },
     "execution_count": 1015,
     "metadata": {},
     "output_type": "execute_result"
    }
   ],
   "source": [
    "rsdr.columns"
   ]
  },
  {
   "cell_type": "code",
   "execution_count": 1016,
   "metadata": {},
   "outputs": [
    {
     "data": {
      "text/plain": [
       "Index(['차량번호', '연료', '연식', '배기량', '차종', '총중량', '엔진형식', '등급', '차대번호', '차명',\n",
       "       '폐차여부'],\n",
       "      dtype='object')"
      ]
     },
     "execution_count": 1016,
     "metadata": {},
     "output_type": "execute_result"
    }
   ],
   "source": [
    "csn.columns"
   ]
  },
  {
   "cell_type": "code",
   "execution_count": 1017,
   "metadata": {},
   "outputs": [
    {
     "data": {
      "text/plain": [
       "(414226, 25)"
      ]
     },
     "execution_count": 1017,
     "metadata": {},
     "output_type": "execute_result"
    }
   ],
   "source": [
    "# 0.3s\n",
    "rcs = rsdr.merge(csn, on='차량번호', how='left')\n",
    "rcs.shape"
   ]
  },
  {
   "cell_type": "code",
   "execution_count": 1018,
   "metadata": {},
   "outputs": [
    {
     "data": {
      "text/plain": [
       "차량번호        0\n",
       "차대번호    22389\n",
       "연료      22420\n",
       "dtype: int64"
      ]
     },
     "execution_count": 1018,
     "metadata": {},
     "output_type": "execute_result"
    }
   ],
   "source": [
    "rcs[['차량번호', '차대번호', '연료']].isnull().sum()"
   ]
  },
  {
   "cell_type": "code",
   "execution_count": 1019,
   "metadata": {},
   "outputs": [
    {
     "data": {
      "text/plain": [
       "(22389,)"
      ]
     },
     "execution_count": 1019,
     "metadata": {},
     "output_type": "execute_result"
    }
   ],
   "source": [
    "rcs.loc[(rcs['차대번호'].isnull() == True) & (rcs['차량번호'] != '********'), '차량번호'].shape"
   ]
  },
  {
   "cell_type": "code",
   "execution_count": 1020,
   "metadata": {},
   "outputs": [
    {
     "data": {
      "text/plain": [
       "0      38러2039\n",
       "11     52루0591\n",
       "20    813아7487\n",
       "23     76마5257\n",
       "40     28우8810\n",
       "Name: 차량번호, dtype: object"
      ]
     },
     "execution_count": 1020,
     "metadata": {},
     "output_type": "execute_result"
    }
   ],
   "source": [
    "rcs.loc[(rcs['차대번호'].isnull() == True) & (rcs['차량번호'] != '********'), '차량번호'].head()"
   ]
  },
  {
   "cell_type": "code",
   "execution_count": 1021,
   "metadata": {},
   "outputs": [
    {
     "data": {
      "text/html": [
       "<div>\n",
       "<style scoped>\n",
       "    .dataframe tbody tr th:only-of-type {\n",
       "        vertical-align: middle;\n",
       "    }\n",
       "\n",
       "    .dataframe tbody tr th {\n",
       "        vertical-align: top;\n",
       "    }\n",
       "\n",
       "    .dataframe thead th {\n",
       "        text-align: right;\n",
       "    }\n",
       "</style>\n",
       "<table border=\"1\" class=\"dataframe\">\n",
       "  <thead>\n",
       "    <tr style=\"text-align: right;\">\n",
       "      <th></th>\n",
       "      <th>측정날짜</th>\n",
       "      <th>측정시간</th>\n",
       "      <th>기록상태</th>\n",
       "      <th>유효</th>\n",
       "      <th>속도</th>\n",
       "      <th>가속도</th>\n",
       "      <th>플래그</th>\n",
       "      <th>VSP</th>\n",
       "      <th>매연</th>\n",
       "      <th>차량번호</th>\n",
       "      <th>차선번호</th>\n",
       "      <th>풍속</th>\n",
       "      <th>습도</th>\n",
       "      <th>온도</th>\n",
       "      <th>측정장소코드</th>\n",
       "    </tr>\n",
       "  </thead>\n",
       "  <tbody>\n",
       "    <tr>\n",
       "      <th>11</th>\n",
       "      <td>2023-01-02</td>\n",
       "      <td>09:04:06</td>\n",
       "      <td>N</td>\n",
       "      <td>V</td>\n",
       "      <td>48.30</td>\n",
       "      <td>-0.10</td>\n",
       "      <td>V</td>\n",
       "      <td>10.80</td>\n",
       "      <td>1.10</td>\n",
       "      <td>52루0591</td>\n",
       "      <td>NaN</td>\n",
       "      <td>NaN</td>\n",
       "      <td>NaN</td>\n",
       "      <td>0.00</td>\n",
       "      <td>NaN</td>\n",
       "    </tr>\n",
       "    <tr>\n",
       "      <th>382441</th>\n",
       "      <td>2022-11-24</td>\n",
       "      <td>10:03:15</td>\n",
       "      <td>N</td>\n",
       "      <td>V</td>\n",
       "      <td>58.20</td>\n",
       "      <td>0.70</td>\n",
       "      <td>V</td>\n",
       "      <td>17.20</td>\n",
       "      <td>0.40</td>\n",
       "      <td>52루0591</td>\n",
       "      <td>NaN</td>\n",
       "      <td>NaN</td>\n",
       "      <td>NaN</td>\n",
       "      <td>0.00</td>\n",
       "      <td>NaN</td>\n",
       "    </tr>\n",
       "  </tbody>\n",
       "</table>\n",
       "</div>"
      ],
      "text/plain": [
       "             측정날짜      측정시간 기록상태 유효    속도   가속도 플래그   VSP   매연     차량번호  차선번호  \\\n",
       "11     2023-01-02  09:04:06    N  V 48.30 -0.10   V 10.80 1.10  52루0591   NaN   \n",
       "382441 2022-11-24  10:03:15    N  V 58.20  0.70   V 17.20 0.40  52루0591   NaN   \n",
       "\n",
       "        풍속  습도   온도 측정장소코드  \n",
       "11     NaN NaN 0.00    NaN  \n",
       "382441 NaN NaN 0.00    NaN  "
      ]
     },
     "execution_count": 1021,
     "metadata": {},
     "output_type": "execute_result"
    }
   ],
   "source": [
    "rsdr[rsdr['차량번호'] == '52루0591']"
   ]
  },
  {
   "cell_type": "code",
   "execution_count": 1022,
   "metadata": {},
   "outputs": [
    {
     "data": {
      "text/html": [
       "<div>\n",
       "<style scoped>\n",
       "    .dataframe tbody tr th:only-of-type {\n",
       "        vertical-align: middle;\n",
       "    }\n",
       "\n",
       "    .dataframe tbody tr th {\n",
       "        vertical-align: top;\n",
       "    }\n",
       "\n",
       "    .dataframe thead th {\n",
       "        text-align: right;\n",
       "    }\n",
       "</style>\n",
       "<table border=\"1\" class=\"dataframe\">\n",
       "  <thead>\n",
       "    <tr style=\"text-align: right;\">\n",
       "      <th></th>\n",
       "      <th>차량번호</th>\n",
       "      <th>연료</th>\n",
       "      <th>연식</th>\n",
       "      <th>배기량</th>\n",
       "      <th>차종</th>\n",
       "      <th>총중량</th>\n",
       "      <th>엔진형식</th>\n",
       "      <th>등급</th>\n",
       "      <th>차대번호</th>\n",
       "      <th>차명</th>\n",
       "      <th>폐차여부</th>\n",
       "    </tr>\n",
       "  </thead>\n",
       "  <tbody>\n",
       "    <tr>\n",
       "      <th>122231</th>\n",
       "      <td>52루0591</td>\n",
       "      <td>휘발유</td>\n",
       "      <td>2013.00</td>\n",
       "      <td>1591.00</td>\n",
       "      <td>승용</td>\n",
       "      <td>1535.00</td>\n",
       "      <td>G4FD</td>\n",
       "      <td>2</td>\n",
       "      <td>KNAFK412BDA053005</td>\n",
       "      <td>K3</td>\n",
       "      <td>Y</td>\n",
       "    </tr>\n",
       "  </tbody>\n",
       "</table>\n",
       "</div>"
      ],
      "text/plain": [
       "           차량번호   연료      연식     배기량  차종     총중량  엔진형식 등급               차대번호  \\\n",
       "122231  52루0591  휘발유 2013.00 1591.00  승용 1535.00  G4FD  2  KNAFK412BDA053005   \n",
       "\n",
       "        차명 폐차여부  \n",
       "122231  K3    Y  "
      ]
     },
     "execution_count": 1022,
     "metadata": {},
     "output_type": "execute_result"
    }
   ],
   "source": [
    "cs[cs['차량번호'] == '52루0591']"
   ]
  },
  {
   "cell_type": "code",
   "execution_count": 1023,
   "metadata": {},
   "outputs": [
    {
     "data": {
      "text/html": [
       "<div>\n",
       "<style scoped>\n",
       "    .dataframe tbody tr th:only-of-type {\n",
       "        vertical-align: middle;\n",
       "    }\n",
       "\n",
       "    .dataframe tbody tr th {\n",
       "        vertical-align: top;\n",
       "    }\n",
       "\n",
       "    .dataframe thead th {\n",
       "        text-align: right;\n",
       "    }\n",
       "</style>\n",
       "<table border=\"1\" class=\"dataframe\">\n",
       "  <thead>\n",
       "    <tr style=\"text-align: right;\">\n",
       "      <th></th>\n",
       "      <th>차량번호</th>\n",
       "      <th>연료</th>\n",
       "      <th>연식</th>\n",
       "      <th>배기량</th>\n",
       "      <th>차종</th>\n",
       "      <th>총중량</th>\n",
       "      <th>엔진형식</th>\n",
       "      <th>등급</th>\n",
       "      <th>차대번호</th>\n",
       "      <th>차명</th>\n",
       "      <th>폐차여부</th>\n",
       "    </tr>\n",
       "  </thead>\n",
       "  <tbody>\n",
       "  </tbody>\n",
       "</table>\n",
       "</div>"
      ],
      "text/plain": [
       "Empty DataFrame\n",
       "Columns: [차량번호, 연료, 연식, 배기량, 차종, 총중량, 엔진형식, 등급, 차대번호, 차명, 폐차여부]\n",
       "Index: []"
      ]
     },
     "execution_count": 1023,
     "metadata": {},
     "output_type": "execute_result"
    }
   ],
   "source": [
    "csn[csn['차량번호'] == '52루0591']"
   ]
  },
  {
   "cell_type": "code",
   "execution_count": 1024,
   "metadata": {},
   "outputs": [
    {
     "data": {
      "text/plain": [
       "(414226, 180265)"
      ]
     },
     "execution_count": 1024,
     "metadata": {},
     "output_type": "execute_result"
    }
   ],
   "source": [
    "rcs.shape[0], len(rcs['차대번호'].unique())"
   ]
  },
  {
   "cell_type": "markdown",
   "metadata": {},
   "source": [
    "## 원격&차량제원&정밀"
   ]
  },
  {
   "cell_type": "code",
   "execution_count": 1025,
   "metadata": {},
   "outputs": [
    {
     "data": {
      "text/plain": [
       "(414226, 25)"
      ]
     },
     "execution_count": 1025,
     "metadata": {},
     "output_type": "execute_result"
    }
   ],
   "source": [
    "rcs.shape"
   ]
  },
  {
   "cell_type": "code",
   "execution_count": 1026,
   "metadata": {},
   "outputs": [
    {
     "data": {
      "text/plain": [
       "(90240, 24)"
      ]
     },
     "execution_count": 1026,
     "metadata": {},
     "output_type": "execute_result"
    }
   ],
   "source": [
    "eetr.shape"
   ]
  },
  {
   "cell_type": "code",
   "execution_count": 1027,
   "metadata": {},
   "outputs": [
    {
     "data": {
      "text/plain": [
       "Index(['측정날짜', '측정시간', '기록상태', '유효', '속도', '가속도', '플래그', 'VSP', '매연', '차량번호',\n",
       "       '차선번호', '풍속', '습도', '온도', '측정장소코드', '연료', '연식', '배기량', '차종', '총중량',\n",
       "       '엔진형식', '등급', '차대번호', '차명', '폐차여부'],\n",
       "      dtype='object')"
      ]
     },
     "execution_count": 1027,
     "metadata": {},
     "output_type": "execute_result"
    }
   ],
   "source": [
    "rcs.columns"
   ]
  },
  {
   "cell_type": "code",
   "execution_count": 1028,
   "metadata": {},
   "outputs": [
    {
     "data": {
      "text/plain": [
       "Index(['차대번호', '정밀검사일자', '정밀검사종류', '관능검사판정', '정밀검사판정', '정밀검사측정방법', '무부하매연측정치1',\n",
       "       '무부하매연허용치1', '무부하매연판정1', '무부하매연측정치2', '무부하매연허용치2', '무부하매연판정2',\n",
       "       '무부하매연측정치3', '무부하매연허용치3', '무부하매연판정3', '무부하매연측정치4', '무부하매연허용치4',\n",
       "       '무부하매연판정4', '무부하매연측정치5', '무부하매연허용치5', '무부하매연판정5', '무부하매연측정치6',\n",
       "       '무부하매연허용치6', '무부하매연판정6'],\n",
       "      dtype='object')"
      ]
     },
     "execution_count": 1028,
     "metadata": {},
     "output_type": "execute_result"
    }
   ],
   "source": [
    "eetr.columns"
   ]
  },
  {
   "cell_type": "code",
   "execution_count": 1029,
   "metadata": {},
   "outputs": [
    {
     "data": {
      "text/plain": [
       "0"
      ]
     },
     "execution_count": 1029,
     "metadata": {},
     "output_type": "execute_result"
    }
   ],
   "source": [
    "eetr['정밀검사일자'].isnull().sum()"
   ]
  },
  {
   "cell_type": "code",
   "execution_count": 1030,
   "metadata": {},
   "outputs": [
    {
     "data": {
      "text/plain": [
       "(414226, 48)"
      ]
     },
     "execution_count": 1030,
     "metadata": {},
     "output_type": "execute_result"
    }
   ],
   "source": [
    "# 38.8s\n",
    "rcse = rcs.merge(eetr, on='차대번호', how='left')\n",
    "rcse.shape"
   ]
  },
  {
   "cell_type": "code",
   "execution_count": 1031,
   "metadata": {},
   "outputs": [
    {
     "data": {
      "text/plain": [
       "차량번호           0\n",
       "연료         22420\n",
       "정밀검사일자    227589\n",
       "dtype: int64"
      ]
     },
     "execution_count": 1031,
     "metadata": {},
     "output_type": "execute_result"
    }
   ],
   "source": [
    "rcse[['차량번호', '연료', '정밀검사일자']].isnull().sum()"
   ]
  },
  {
   "cell_type": "markdown",
   "metadata": {},
   "source": [
    "### [출력] 원격&제원&정밀"
   ]
  },
  {
   "cell_type": "code",
   "execution_count": 1032,
   "metadata": {},
   "outputs": [
    {
     "data": {
      "text/plain": [
       "'20240115'"
      ]
     },
     "execution_count": 1032,
     "metadata": {},
     "output_type": "execute_result"
    }
   ],
   "source": [
    "today_date = datetime.today().strftime(\"%Y%m%d\")\n",
    "today_date"
   ]
  },
  {
   "cell_type": "code",
   "execution_count": 1033,
   "metadata": {},
   "outputs": [
    {
     "data": {
      "text/plain": [
       "Index(['측정날짜', '측정시간', '기록상태', '유효', '속도', '가속도', '플래그', 'VSP', '매연', '차량번호',\n",
       "       '차선번호', '풍속', '습도', '온도', '측정장소코드', '연료', '연식', '배기량', '차종', '총중량',\n",
       "       '엔진형식', '등급', '차대번호', '차명', '폐차여부', '정밀검사일자', '정밀검사종류', '관능검사판정',\n",
       "       '정밀검사판정', '정밀검사측정방법', '무부하매연측정치1', '무부하매연허용치1', '무부하매연판정1', '무부하매연측정치2',\n",
       "       '무부하매연허용치2', '무부하매연판정2', '무부하매연측정치3', '무부하매연허용치3', '무부하매연판정3',\n",
       "       '무부하매연측정치4', '무부하매연허용치4', '무부하매연판정4', '무부하매연측정치5', '무부하매연허용치5',\n",
       "       '무부하매연판정5', '무부하매연측정치6', '무부하매연허용치6', '무부하매연판정6'],\n",
       "      dtype='object')"
      ]
     },
     "execution_count": 1033,
     "metadata": {},
     "output_type": "execute_result"
    }
   ],
   "source": [
    "rcse.columns"
   ]
  },
  {
   "cell_type": "code",
   "execution_count": 1034,
   "metadata": {},
   "outputs": [
    {
     "data": {
      "text/plain": [
       "48"
      ]
     },
     "execution_count": 1034,
     "metadata": {},
     "output_type": "execute_result"
    }
   ],
   "source": [
    "rcse_cols = [\n",
    "    # 원격측정정보\n",
    "    '측정날짜',\n",
    "    '측정시간',\n",
    "    '기록상태',\n",
    "    '유효',\n",
    "    '속도',\n",
    "    '가속도',\n",
    "    '플래그',\n",
    "    'VSP',\n",
    "    '매연',\n",
    "    '차량번호',\n",
    "    '차선번호',\n",
    "    '풍속',\n",
    "    '습도',\n",
    "    '온도',\n",
    "    '측정장소코드',\n",
    "    \n",
    "    # 제원정보\n",
    "    '연료', \n",
    "    '연식', \n",
    "    '배기량', \n",
    "    '차종', \n",
    "    '총중량',\n",
    "    '엔진형식', \n",
    "    '등급', \n",
    "    '차대번호', \n",
    "    '차명', \n",
    "    '폐차여부', \n",
    "    \n",
    "    # 정밀검사\n",
    "    '정밀검사일자', \n",
    "    '정밀검사종류', \n",
    "    '관능검사판정',\n",
    "    '정밀검사판정', \n",
    "    '정밀검사측정방법', \n",
    "    '무부하매연측정치1',  # CO(매연)\n",
    "    '무부하매연허용치1', \n",
    "    '무부하매연판정1', \n",
    "    '무부하매연측정치2',\n",
    "    '무부하매연허용치2', \n",
    "    '무부하매연판정2', \n",
    "    '무부하매연측정치3', # NOx \n",
    "    '무부하매연허용치3', \n",
    "    '무부하매연판정3',\n",
    "    '무부하매연측정치4', \n",
    "    '무부하매연허용치4', \n",
    "    '무부하매연판정4', \n",
    "    '무부하매연측정치5', \n",
    "    '무부하매연허용치5',\n",
    "    '무부하매연판정5', \n",
    "    '무부하매연측정치6', \n",
    "    '무부하매연허용치6', \n",
    "    '무부하매연판정6'\n",
    "    ]\n",
    "len(rcse_cols)"
   ]
  },
  {
   "cell_type": "code",
   "execution_count": 1035,
   "metadata": {},
   "outputs": [
    {
     "data": {
      "text/plain": [
       "(414226, 48)"
      ]
     },
     "execution_count": 1035,
     "metadata": {},
     "output_type": "execute_result"
    }
   ],
   "source": [
    "rcse.shape"
   ]
  },
  {
   "cell_type": "code",
   "execution_count": 1254,
   "metadata": {},
   "outputs": [
    {
     "name": "stdout",
     "output_type": "stream",
     "text": [
      "원격_차량제원_정밀(20240115).csv 출력 완료.\n"
     ]
    }
   ],
   "source": [
    "# 10.6s\n",
    "file_name = f'원격_차량제원_정밀({today_date}).csv'\n",
    "rcse[rcse_cols].to_csv(os.path.join(raw_fold, file_name), index=False)\n",
    "print(f'{file_name} 출력 완료.')"
   ]
  },
  {
   "cell_type": "code",
   "execution_count": 1453,
   "metadata": {},
   "outputs": [
    {
     "name": "stdout",
     "output_type": "stream",
     "text": [
      "원격_차량제원_정밀(20240115).xlsx 출력 완료.\n"
     ]
    }
   ],
   "source": [
    "# 2m 48.5s\n",
    "file_name = f'원격_차량제원_정밀({today_date}).xlsx'\n",
    "rcse[rcse_cols].to_excel(os.path.join(raw_fold, file_name), index=False)\n",
    "print(f'{file_name} 출력 완료.')"
   ]
  },
  {
   "cell_type": "markdown",
   "metadata": {},
   "source": [
    "## 유효데이터만 추출\n",
    "- vdfRecordStatus = N\n",
    "- vdfValid = V\n",
    "- samFlag = V\n",
    "- 자동차등록번호 : nan, 오류 값(********) 제외\n",
    "- 매연 5% 초과 제외"
   ]
  },
  {
   "cell_type": "code",
   "execution_count": 1037,
   "metadata": {},
   "outputs": [
    {
     "data": {
      "text/plain": [
       "차선번호\n",
       "NaN     161189\n",
       "2.00    110168\n",
       "1.00     73409\n",
       "3.00     69460\n",
       "Name: count, dtype: int64"
      ]
     },
     "execution_count": 1037,
     "metadata": {},
     "output_type": "execute_result"
    }
   ],
   "source": [
    "rcse['차선번호'].value_counts(dropna=False)"
   ]
  },
  {
   "cell_type": "code",
   "execution_count": 1038,
   "metadata": {},
   "outputs": [
    {
     "data": {
      "text/plain": [
       "150600   2023-08-14\n",
       "151567   2023-08-14\n",
       "151566   2023-08-14\n",
       "151565   2023-08-14\n",
       "151564   2023-08-14\n",
       "            ...    \n",
       "413989   2023-12-10\n",
       "413988   2023-12-10\n",
       "413987   2023-12-10\n",
       "413995   2023-12-10\n",
       "414225   2023-12-10\n",
       "Name: 측정날짜, Length: 253037, dtype: datetime64[ns]"
      ]
     },
     "execution_count": 1038,
     "metadata": {},
     "output_type": "execute_result"
    }
   ],
   "source": [
    "rcse.loc[rcse['차선번호'].isnull() == False, '측정날짜'].sort_values()"
   ]
  },
  {
   "cell_type": "code",
   "execution_count": 1039,
   "metadata": {},
   "outputs": [
    {
     "name": "stderr",
     "output_type": "stream",
     "text": [
      "C:\\Users\\kbjung\\AppData\\Local\\Temp\\ipykernel_12976\\3811848111.py:2: SettingWithCopyWarning: \n",
      "A value is trying to be set on a copy of a slice from a DataFrame.\n",
      "Try using .loc[row_indexer,col_indexer] = value instead\n",
      "\n",
      "See the caveats in the documentation: https://pandas.pydata.org/pandas-docs/stable/user_guide/indexing.html#returning-a-view-versus-a-copy\n",
      "  temp['측정날짜'] = pd.to_datetime(temp['측정날짜'], errors='coerce')\n"
     ]
    }
   ],
   "source": [
    "temp = rcse.loc[rcse['차선번호'].isnull() == False]\n",
    "temp['측정날짜'] = pd.to_datetime(temp['측정날짜'], errors='coerce')"
   ]
  },
  {
   "cell_type": "code",
   "execution_count": 1040,
   "metadata": {},
   "outputs": [
    {
     "data": {
      "text/plain": [
       "count                           253037\n",
       "mean     2023-10-09 14:22:40.373383936\n",
       "min                2023-08-14 00:00:00\n",
       "25%                2023-09-08 00:00:00\n",
       "50%                2023-10-09 00:00:00\n",
       "75%                2023-11-09 00:00:00\n",
       "max                2023-12-10 00:00:00\n",
       "Name: 측정날짜, dtype: object"
      ]
     },
     "execution_count": 1040,
     "metadata": {},
     "output_type": "execute_result"
    }
   ],
   "source": [
    "temp['측정날짜'].describe()"
   ]
  },
  {
   "cell_type": "code",
   "execution_count": 1041,
   "metadata": {},
   "outputs": [
    {
     "data": {
      "text/plain": [
       "Index(['측정날짜', '측정시간', '기록상태', '유효', '속도', '가속도', '플래그', 'VSP', '매연', '차량번호',\n",
       "       '차선번호', '풍속', '습도', '온도', '측정장소코드', '연료', '연식', '배기량', '차종', '총중량',\n",
       "       '엔진형식', '등급', '차대번호', '차명', '폐차여부', '정밀검사일자', '정밀검사종류', '관능검사판정',\n",
       "       '정밀검사판정', '정밀검사측정방법', '무부하매연측정치1', '무부하매연허용치1', '무부하매연판정1', '무부하매연측정치2',\n",
       "       '무부하매연허용치2', '무부하매연판정2', '무부하매연측정치3', '무부하매연허용치3', '무부하매연판정3',\n",
       "       '무부하매연측정치4', '무부하매연허용치4', '무부하매연판정4', '무부하매연측정치5', '무부하매연허용치5',\n",
       "       '무부하매연판정5', '무부하매연측정치6', '무부하매연허용치6', '무부하매연판정6'],\n",
       "      dtype='object')"
      ]
     },
     "execution_count": 1041,
     "metadata": {},
     "output_type": "execute_result"
    }
   ],
   "source": [
    "rcse.columns"
   ]
  },
  {
   "cell_type": "code",
   "execution_count": 1042,
   "metadata": {},
   "outputs": [
    {
     "data": {
      "text/plain": [
       "0     38러2039\n",
       "1    274모8753\n",
       "2     45라0943\n",
       "3     34로8928\n",
       "4     91모3601\n",
       "Name: 차량번호, dtype: object"
      ]
     },
     "execution_count": 1042,
     "metadata": {},
     "output_type": "execute_result"
    }
   ],
   "source": [
    "rcse['차량번호'].head()"
   ]
  },
  {
   "cell_type": "code",
   "execution_count": 1043,
   "metadata": {},
   "outputs": [
    {
     "data": {
      "text/plain": [
       "((414226, 48), 191052)"
      ]
     },
     "execution_count": 1043,
     "metadata": {},
     "output_type": "execute_result"
    }
   ],
   "source": [
    "rcse.shape, len(rcse['차량번호'].unique())"
   ]
  },
  {
   "cell_type": "code",
   "execution_count": 1044,
   "metadata": {},
   "outputs": [
    {
     "data": {
      "text/plain": [
       "0"
      ]
     },
     "execution_count": 1044,
     "metadata": {},
     "output_type": "execute_result"
    }
   ],
   "source": [
    "rcse['차량번호'].isnull().sum()"
   ]
  },
  {
   "cell_type": "code",
   "execution_count": 1045,
   "metadata": {},
   "outputs": [
    {
     "data": {
      "text/plain": [
       "(0, 48)"
      ]
     },
     "execution_count": 1045,
     "metadata": {},
     "output_type": "execute_result"
    }
   ],
   "source": [
    "rcse[rcse['차량번호'] == '********'].shape"
   ]
  },
  {
   "cell_type": "code",
   "execution_count": 1046,
   "metadata": {},
   "outputs": [
    {
     "data": {
      "text/plain": [
       "기록상태\n",
       "N    414226\n",
       "Name: count, dtype: int64"
      ]
     },
     "execution_count": 1046,
     "metadata": {},
     "output_type": "execute_result"
    }
   ],
   "source": [
    "# N : 일반데이터, C : 교정 중 측정된자료, A : Audit데이터(표준필터 측정값)\n",
    "rcse['기록상태'].value_counts(dropna=False)"
   ]
  },
  {
   "cell_type": "code",
   "execution_count": 1047,
   "metadata": {},
   "outputs": [
    {
     "data": {
      "text/plain": [
       "유효\n",
       "V    414226\n",
       "Name: count, dtype: int64"
      ]
     },
     "execution_count": 1047,
     "metadata": {},
     "output_type": "execute_result"
    }
   ],
   "source": [
    "# V : 일반데이터, x : 교정중\n",
    "rcse['유효'].value_counts(dropna=False)"
   ]
  },
  {
   "cell_type": "code",
   "execution_count": 1048,
   "metadata": {},
   "outputs": [
    {
     "data": {
      "text/plain": [
       "플래그\n",
       "V    414226\n",
       "Name: count, dtype: int64"
      ]
     },
     "execution_count": 1048,
     "metadata": {},
     "output_type": "execute_result"
    }
   ],
   "source": [
    "# V : 일반데이터, x : 교정중\n",
    "rcse['플래그'].value_counts(dropna=False)"
   ]
  },
  {
   "cell_type": "code",
   "execution_count": 1049,
   "metadata": {},
   "outputs": [
    {
     "data": {
      "text/html": [
       "<div>\n",
       "<style scoped>\n",
       "    .dataframe tbody tr th:only-of-type {\n",
       "        vertical-align: middle;\n",
       "    }\n",
       "\n",
       "    .dataframe tbody tr th {\n",
       "        vertical-align: top;\n",
       "    }\n",
       "\n",
       "    .dataframe thead th {\n",
       "        text-align: right;\n",
       "    }\n",
       "</style>\n",
       "<table border=\"1\" class=\"dataframe\">\n",
       "  <thead>\n",
       "    <tr style=\"text-align: right;\">\n",
       "      <th></th>\n",
       "      <th>속도</th>\n",
       "      <th>가속도</th>\n",
       "      <th>매연</th>\n",
       "    </tr>\n",
       "  </thead>\n",
       "  <tbody>\n",
       "    <tr>\n",
       "      <th>count</th>\n",
       "      <td>414226.00</td>\n",
       "      <td>414226.00</td>\n",
       "      <td>414226.00</td>\n",
       "    </tr>\n",
       "    <tr>\n",
       "      <th>mean</th>\n",
       "      <td>68.56</td>\n",
       "      <td>-0.52</td>\n",
       "      <td>1.08</td>\n",
       "    </tr>\n",
       "    <tr>\n",
       "      <th>std</th>\n",
       "      <td>14.20</td>\n",
       "      <td>0.93</td>\n",
       "      <td>2.17</td>\n",
       "    </tr>\n",
       "    <tr>\n",
       "      <th>min</th>\n",
       "      <td>1.00</td>\n",
       "      <td>-25.00</td>\n",
       "      <td>0.00</td>\n",
       "    </tr>\n",
       "    <tr>\n",
       "      <th>25%</th>\n",
       "      <td>59.40</td>\n",
       "      <td>-1.08</td>\n",
       "      <td>0.00</td>\n",
       "    </tr>\n",
       "    <tr>\n",
       "      <th>50%</th>\n",
       "      <td>68.04</td>\n",
       "      <td>-0.36</td>\n",
       "      <td>0.50</td>\n",
       "    </tr>\n",
       "    <tr>\n",
       "      <th>75%</th>\n",
       "      <td>77.76</td>\n",
       "      <td>0.00</td>\n",
       "      <td>1.10</td>\n",
       "    </tr>\n",
       "    <tr>\n",
       "      <th>max</th>\n",
       "      <td>119.88</td>\n",
       "      <td>25.00</td>\n",
       "      <td>29.80</td>\n",
       "    </tr>\n",
       "  </tbody>\n",
       "</table>\n",
       "</div>"
      ],
      "text/plain": [
       "             속도       가속도        매연\n",
       "count 414226.00 414226.00 414226.00\n",
       "mean      68.56     -0.52      1.08\n",
       "std       14.20      0.93      2.17\n",
       "min        1.00    -25.00      0.00\n",
       "25%       59.40     -1.08      0.00\n",
       "50%       68.04     -0.36      0.50\n",
       "75%       77.76      0.00      1.10\n",
       "max      119.88     25.00     29.80"
      ]
     },
     "execution_count": 1049,
     "metadata": {},
     "output_type": "execute_result"
    }
   ],
   "source": [
    "rcse[['속도', '가속도', '매연']].describe()"
   ]
  },
  {
   "cell_type": "code",
   "execution_count": 1050,
   "metadata": {},
   "outputs": [
    {
     "data": {
      "text/plain": [
       "유효\n",
       "V    414226\n",
       "Name: count, dtype: int64"
      ]
     },
     "execution_count": 1050,
     "metadata": {},
     "output_type": "execute_result"
    }
   ],
   "source": [
    "rcse.loc[rcse['기록상태'] == 'N', '유효'].value_counts(dropna=False)"
   ]
  },
  {
   "cell_type": "code",
   "execution_count": 1051,
   "metadata": {},
   "outputs": [
    {
     "data": {
      "text/plain": [
       "플래그\n",
       "V    414226\n",
       "Name: count, dtype: int64"
      ]
     },
     "execution_count": 1051,
     "metadata": {},
     "output_type": "execute_result"
    }
   ],
   "source": [
    "rcse.loc[rcse['기록상태'] == 'N', '플래그'].value_counts(dropna=False)"
   ]
  },
  {
   "cell_type": "code",
   "execution_count": 1052,
   "metadata": {},
   "outputs": [
    {
     "data": {
      "text/plain": [
       "count   414226.00\n",
       "mean         1.08\n",
       "std          2.17\n",
       "min          0.00\n",
       "25%          0.00\n",
       "50%          0.50\n",
       "75%          1.10\n",
       "max         29.80\n",
       "Name: 매연, dtype: float64"
      ]
     },
     "execution_count": 1052,
     "metadata": {},
     "output_type": "execute_result"
    }
   ],
   "source": [
    "rcse['매연'].describe()"
   ]
  },
  {
   "cell_type": "code",
   "execution_count": 1053,
   "metadata": {},
   "outputs": [
    {
     "data": {
      "text/plain": [
       "(414226, 48)"
      ]
     },
     "execution_count": 1053,
     "metadata": {},
     "output_type": "execute_result"
    }
   ],
   "source": [
    "rcse.shape"
   ]
  },
  {
   "cell_type": "code",
   "execution_count": 1054,
   "metadata": {},
   "outputs": [
    {
     "data": {
      "text/plain": [
       "(396394, 48)"
      ]
     },
     "execution_count": 1054,
     "metadata": {},
     "output_type": "execute_result"
    }
   ],
   "source": [
    "# vdfRecordStatus = N, vdfValid = V, samFlag = V, 차량번호 : nan, 오류 값(********) 제외, 매연 5% 초과 제외\n",
    "df = rcse[(rcse['기록상태'] == 'N') & (rcse['유효'] == 'V') & (rcse['플래그'] == 'V') & (rcse['차량번호'] != '********') & (rcse['차량번호'].isnull() == False) & (rcse['매연'] <= 5) & (rcse['매연'] >= 0)].reset_index(drop=True)\n",
    "df.shape"
   ]
  },
  {
   "cell_type": "code",
   "execution_count": 1055,
   "metadata": {},
   "outputs": [
    {
     "data": {
      "text/html": [
       "<div>\n",
       "<style scoped>\n",
       "    .dataframe tbody tr th:only-of-type {\n",
       "        vertical-align: middle;\n",
       "    }\n",
       "\n",
       "    .dataframe tbody tr th {\n",
       "        vertical-align: top;\n",
       "    }\n",
       "\n",
       "    .dataframe thead th {\n",
       "        text-align: right;\n",
       "    }\n",
       "</style>\n",
       "<table border=\"1\" class=\"dataframe\">\n",
       "  <thead>\n",
       "    <tr style=\"text-align: right;\">\n",
       "      <th></th>\n",
       "      <th>속도</th>\n",
       "      <th>가속도</th>\n",
       "      <th>매연</th>\n",
       "    </tr>\n",
       "  </thead>\n",
       "  <tbody>\n",
       "    <tr>\n",
       "      <th>count</th>\n",
       "      <td>396394.00</td>\n",
       "      <td>396394.00</td>\n",
       "      <td>396394.00</td>\n",
       "    </tr>\n",
       "    <tr>\n",
       "      <th>mean</th>\n",
       "      <td>68.59</td>\n",
       "      <td>-0.52</td>\n",
       "      <td>0.70</td>\n",
       "    </tr>\n",
       "    <tr>\n",
       "      <th>std</th>\n",
       "      <td>14.17</td>\n",
       "      <td>0.93</td>\n",
       "      <td>0.90</td>\n",
       "    </tr>\n",
       "    <tr>\n",
       "      <th>min</th>\n",
       "      <td>1.00</td>\n",
       "      <td>-25.00</td>\n",
       "      <td>0.00</td>\n",
       "    </tr>\n",
       "    <tr>\n",
       "      <th>25%</th>\n",
       "      <td>59.40</td>\n",
       "      <td>-1.08</td>\n",
       "      <td>0.00</td>\n",
       "    </tr>\n",
       "    <tr>\n",
       "      <th>50%</th>\n",
       "      <td>68.04</td>\n",
       "      <td>-0.36</td>\n",
       "      <td>0.40</td>\n",
       "    </tr>\n",
       "    <tr>\n",
       "      <th>75%</th>\n",
       "      <td>77.76</td>\n",
       "      <td>0.00</td>\n",
       "      <td>0.90</td>\n",
       "    </tr>\n",
       "    <tr>\n",
       "      <th>max</th>\n",
       "      <td>119.88</td>\n",
       "      <td>25.00</td>\n",
       "      <td>5.00</td>\n",
       "    </tr>\n",
       "  </tbody>\n",
       "</table>\n",
       "</div>"
      ],
      "text/plain": [
       "             속도       가속도        매연\n",
       "count 396394.00 396394.00 396394.00\n",
       "mean      68.59     -0.52      0.70\n",
       "std       14.17      0.93      0.90\n",
       "min        1.00    -25.00      0.00\n",
       "25%       59.40     -1.08      0.00\n",
       "50%       68.04     -0.36      0.40\n",
       "75%       77.76      0.00      0.90\n",
       "max      119.88     25.00      5.00"
      ]
     },
     "execution_count": 1055,
     "metadata": {},
     "output_type": "execute_result"
    }
   ],
   "source": [
    "df[['속도', '가속도', '매연']].describe()"
   ]
  },
  {
   "cell_type": "markdown",
   "metadata": {},
   "source": [
    "### [출력] 유효데이터"
   ]
  },
  {
   "cell_type": "code",
   "execution_count": 1255,
   "metadata": {},
   "outputs": [
    {
     "name": "stdout",
     "output_type": "stream",
     "text": [
      "유효데이터(원격_차량제원_정밀)(20240115).csv 출력 완료.\n"
     ]
    }
   ],
   "source": [
    "# 8.0s\n",
    "file_name = f'유효데이터(원격_차량제원_정밀)({today_date}).csv'\n",
    "df.to_csv(os.path.join(raw_fold, file_name), index=False)\n",
    "print(f'{file_name} 출력 완료.')"
   ]
  },
  {
   "cell_type": "code",
   "execution_count": 1454,
   "metadata": {},
   "outputs": [
    {
     "name": "stdout",
     "output_type": "stream",
     "text": [
      "유효데이터(원격_차량제원_정밀)(20240115).xlsx 출력 완료.\n"
     ]
    }
   ],
   "source": [
    "# 3m 23.8s\n",
    "file_name = f'유효데이터(원격_차량제원_정밀)({today_date}).xlsx'\n",
    "df.to_excel(os.path.join(raw_fold, file_name), index=False)\n",
    "print(f'{file_name} 출력 완료.')"
   ]
  },
  {
   "cell_type": "markdown",
   "metadata": {},
   "source": [
    "# Load csv"
   ]
  },
  {
   "cell_type": "markdown",
   "metadata": {},
   "source": [
    "## [로드] 원격&차량제원&정밀"
   ]
  },
  {
   "cell_type": "code",
   "execution_count": 1256,
   "metadata": {},
   "outputs": [],
   "source": [
    "start_time = time.time()"
   ]
  },
  {
   "cell_type": "code",
   "execution_count": 1257,
   "metadata": {},
   "outputs": [
    {
     "name": "stdout",
     "output_type": "stream",
     "text": [
      "<class 'pandas.core.frame.DataFrame'>\n",
      "RangeIndex: 414226 entries, 0 to 414225\n",
      "Data columns (total 48 columns):\n",
      " #   Column     Non-Null Count   Dtype  \n",
      "---  ------     --------------   -----  \n",
      " 0   측정날짜       414226 non-null  object \n",
      " 1   측정시간       414226 non-null  object \n",
      " 2   기록상태       414226 non-null  object \n",
      " 3   유효         414226 non-null  object \n",
      " 4   속도         414226 non-null  float64\n",
      " 5   가속도        414226 non-null  float64\n",
      " 6   플래그        414226 non-null  object \n",
      " 7   VSP        414226 non-null  float64\n",
      " 8   매연         414226 non-null  float64\n",
      " 9   차량번호       414226 non-null  object \n",
      " 10  차선번호       253037 non-null  float64\n",
      " 11  풍속         195040 non-null  float64\n",
      " 12  습도         243226 non-null  float64\n",
      " 13  온도         414226 non-null  float64\n",
      " 14  측정장소코드     110 non-null     object \n",
      " 15  연료         324218 non-null  object \n",
      " 16  연식         324246 non-null  float64\n",
      " 17  배기량        324222 non-null  float64\n",
      " 18  차종         324246 non-null  object \n",
      " 19  총중량        324246 non-null  float64\n",
      " 20  엔진형식       324229 non-null  object \n",
      " 21  등급         324246 non-null  object \n",
      " 22  차대번호       324246 non-null  object \n",
      " 23  차명         324246 non-null  object \n",
      " 24  폐차여부       324246 non-null  object \n",
      " 25  정밀검사일자     157901 non-null  object \n",
      " 26  정밀검사종류     157901 non-null  object \n",
      " 27  관능검사판정     157901 non-null  object \n",
      " 28  정밀검사판정     157901 non-null  object \n",
      " 29  정밀검사측정방법   157901 non-null  object \n",
      " 30  무부하매연측정치1  156742 non-null  float64\n",
      " 31  무부하매연허용치1  156742 non-null  float64\n",
      " 32  무부하매연판정1   156742 non-null  object \n",
      " 33  무부하매연측정치2  124567 non-null  float64\n",
      " 34  무부하매연허용치2  118531 non-null  float64\n",
      " 35  무부하매연판정2   92487 non-null   object \n",
      " 36  무부하매연측정치3  111462 non-null  float64\n",
      " 37  무부하매연허용치3  111462 non-null  float64\n",
      " 38  무부하매연판정3   80821 non-null   object \n",
      " 39  무부하매연측정치4  111461 non-null  float64\n",
      " 40  무부하매연허용치4  111461 non-null  float64\n",
      " 41  무부하매연판정4   80818 non-null   object \n",
      " 42  무부하매연측정치5  111461 non-null  float64\n",
      " 43  무부하매연허용치5  111461 non-null  float64\n",
      " 44  무부하매연판정5   80818 non-null   object \n",
      " 45  무부하매연측정치6  108849 non-null  float64\n",
      " 46  무부하매연허용치6  108849 non-null  float64\n",
      " 47  무부하매연판정6   73950 non-null   object \n",
      "dtypes: float64(23), object(25)\n",
      "memory usage: 151.7+ MB\n"
     ]
    }
   ],
   "source": [
    "# 3.3s\n",
    "name = '원격_차량제원_정밀(20240115)'\n",
    "file_name = f'{name}.csv'\n",
    "rcse = pd.read_csv(os.path.join(df_fold, file_name), low_memory=False)\n",
    "rcse.info()"
   ]
  },
  {
   "cell_type": "markdown",
   "metadata": {},
   "source": [
    "## [로드] 유효데이터"
   ]
  },
  {
   "cell_type": "code",
   "execution_count": 1258,
   "metadata": {},
   "outputs": [
    {
     "name": "stdout",
     "output_type": "stream",
     "text": [
      "<class 'pandas.core.frame.DataFrame'>\n",
      "RangeIndex: 396394 entries, 0 to 396393\n",
      "Data columns (total 57 columns):\n",
      " #   Column     Non-Null Count   Dtype  \n",
      "---  ------     --------------   -----  \n",
      " 0   측정날짜       396394 non-null  object \n",
      " 1   측정시간       396394 non-null  object \n",
      " 2   기록상태       396394 non-null  object \n",
      " 3   유효         396394 non-null  object \n",
      " 4   속도         396394 non-null  float64\n",
      " 5   가속도        396394 non-null  float64\n",
      " 6   플래그        396394 non-null  object \n",
      " 7   VSP        396394 non-null  float64\n",
      " 8   매연         396394 non-null  float64\n",
      " 9   차량번호       396394 non-null  object \n",
      " 10  차선번호       237995 non-null  float64\n",
      " 11  풍속         180754 non-null  float64\n",
      " 12  습도         228239 non-null  float64\n",
      " 13  온도         396394 non-null  float64\n",
      " 14  측정장소코드     104 non-null     object \n",
      " 15  연료         312775 non-null  object \n",
      " 16  연식         312802 non-null  float64\n",
      " 17  배기량        312779 non-null  float64\n",
      " 18  차종         312802 non-null  object \n",
      " 19  총중량        312802 non-null  float64\n",
      " 20  엔진형식       312785 non-null  object \n",
      " 21  등급         312802 non-null  object \n",
      " 22  차대번호       312802 non-null  object \n",
      " 23  차명         312802 non-null  object \n",
      " 24  폐차여부       312802 non-null  object \n",
      " 25  정밀검사일자     152194 non-null  object \n",
      " 26  정밀검사종류     152194 non-null  object \n",
      " 27  관능검사판정     152194 non-null  object \n",
      " 28  정밀검사판정     152194 non-null  object \n",
      " 29  정밀검사측정방법   152194 non-null  object \n",
      " 30  무부하매연측정치1  151072 non-null  float64\n",
      " 31  무부하매연허용치1  151072 non-null  float64\n",
      " 32  무부하매연판정1   151072 non-null  object \n",
      " 33  무부하매연측정치2  120138 non-null  float64\n",
      " 34  무부하매연허용치2  114328 non-null  float64\n",
      " 35  무부하매연판정2   89347 non-null   object \n",
      " 36  무부하매연측정치3  107492 non-null  float64\n",
      " 37  무부하매연허용치3  107492 non-null  float64\n",
      " 38  무부하매연판정3   78064 non-null   object \n",
      " 39  무부하매연측정치4  107491 non-null  float64\n",
      " 40  무부하매연허용치4  107491 non-null  float64\n",
      " 41  무부하매연판정4   78061 non-null   object \n",
      " 42  무부하매연측정치5  107491 non-null  float64\n",
      " 43  무부하매연허용치5  107491 non-null  float64\n",
      " 44  무부하매연판정5   78061 non-null   object \n",
      " 45  무부하매연측정치6  104988 non-null  float64\n",
      " 46  무부하매연허용치6  104988 non-null  float64\n",
      " 47  무부하매연판정6   71558 non-null   object \n",
      " 48  속도구분       396394 non-null  object \n",
      " 49  속도구분인덱스    396394 non-null  float64\n",
      " 50  배기량구분      285423 non-null  object \n",
      " 51  배기량구분인덱스   285423 non-null  float64\n",
      " 52  총중량구분      312802 non-null  object \n",
      " 53  총중량구분인덱스   312802 non-null  float64\n",
      " 54  매연구분       396394 non-null  object \n",
      " 55  매연구분인덱스    396394 non-null  float64\n",
      " 56  연식구분       312802 non-null  object \n",
      "dtypes: float64(27), object(30)\n",
      "memory usage: 172.4+ MB\n"
     ]
    }
   ],
   "source": [
    "# 2.3s\n",
    "name = '유효데이터(원격_차량제원_정밀)(20240115)'\n",
    "file_name = f'{name}.csv'\n",
    "df = pd.read_csv(os.path.join(raw_fold, file_name), low_memory=False)\n",
    "df.info()"
   ]
  },
  {
   "cell_type": "markdown",
   "metadata": {},
   "source": [
    "## Pre"
   ]
  },
  {
   "cell_type": "markdown",
   "metadata": {},
   "source": [
    "### 타입 변환"
   ]
  },
  {
   "cell_type": "code",
   "execution_count": 1259,
   "metadata": {},
   "outputs": [
    {
     "data": {
      "text/plain": [
       "측정날짜      object\n",
       "정밀검사일자    object\n",
       "dtype: object"
      ]
     },
     "execution_count": 1259,
     "metadata": {},
     "output_type": "execute_result"
    }
   ],
   "source": [
    "df[['측정날짜', '정밀검사일자']].dtypes"
   ]
  },
  {
   "cell_type": "code",
   "execution_count": 1260,
   "metadata": {},
   "outputs": [
    {
     "data": {
      "text/plain": [
       "측정날짜           0\n",
       "정밀검사일자    244200\n",
       "dtype: int64"
      ]
     },
     "execution_count": 1260,
     "metadata": {},
     "output_type": "execute_result"
    }
   ],
   "source": [
    "df[['측정날짜', '정밀검사일자']].isnull().sum()"
   ]
  },
  {
   "cell_type": "code",
   "execution_count": 1261,
   "metadata": {},
   "outputs": [
    {
     "data": {
      "text/html": [
       "<div>\n",
       "<style scoped>\n",
       "    .dataframe tbody tr th:only-of-type {\n",
       "        vertical-align: middle;\n",
       "    }\n",
       "\n",
       "    .dataframe tbody tr th {\n",
       "        vertical-align: top;\n",
       "    }\n",
       "\n",
       "    .dataframe thead th {\n",
       "        text-align: right;\n",
       "    }\n",
       "</style>\n",
       "<table border=\"1\" class=\"dataframe\">\n",
       "  <thead>\n",
       "    <tr style=\"text-align: right;\">\n",
       "      <th></th>\n",
       "      <th>측정날짜</th>\n",
       "      <th>정밀검사일자</th>\n",
       "    </tr>\n",
       "  </thead>\n",
       "  <tbody>\n",
       "    <tr>\n",
       "      <th>0</th>\n",
       "      <td>2023-01-02</td>\n",
       "      <td>NaN</td>\n",
       "    </tr>\n",
       "    <tr>\n",
       "      <th>1</th>\n",
       "      <td>2023-01-02</td>\n",
       "      <td>NaN</td>\n",
       "    </tr>\n",
       "    <tr>\n",
       "      <th>2</th>\n",
       "      <td>2023-01-02</td>\n",
       "      <td>2022-10-28</td>\n",
       "    </tr>\n",
       "    <tr>\n",
       "      <th>3</th>\n",
       "      <td>2023-01-02</td>\n",
       "      <td>NaN</td>\n",
       "    </tr>\n",
       "    <tr>\n",
       "      <th>4</th>\n",
       "      <td>2023-01-02</td>\n",
       "      <td>NaN</td>\n",
       "    </tr>\n",
       "  </tbody>\n",
       "</table>\n",
       "</div>"
      ],
      "text/plain": [
       "         측정날짜      정밀검사일자\n",
       "0  2023-01-02         NaN\n",
       "1  2023-01-02         NaN\n",
       "2  2023-01-02  2022-10-28\n",
       "3  2023-01-02         NaN\n",
       "4  2023-01-02         NaN"
      ]
     },
     "execution_count": 1261,
     "metadata": {},
     "output_type": "execute_result"
    }
   ],
   "source": [
    "df[['측정날짜', '정밀검사일자']].head()"
   ]
  },
  {
   "cell_type": "code",
   "execution_count": 1262,
   "metadata": {},
   "outputs": [],
   "source": [
    "df['측정날짜'] = pd.to_datetime(df['측정날짜'])\n",
    "df['정밀검사일자'] = pd.to_datetime(df['정밀검사일자'], errors='coerce')"
   ]
  },
  {
   "cell_type": "code",
   "execution_count": 1263,
   "metadata": {},
   "outputs": [
    {
     "data": {
      "text/plain": [
       "측정날짜      datetime64[ns]\n",
       "정밀검사일자    datetime64[ns]\n",
       "dtype: object"
      ]
     },
     "execution_count": 1263,
     "metadata": {},
     "output_type": "execute_result"
    }
   ],
   "source": [
    "df[['측정날짜', '정밀검사일자']].dtypes"
   ]
  },
  {
   "cell_type": "code",
   "execution_count": 1264,
   "metadata": {},
   "outputs": [
    {
     "data": {
      "text/plain": [
       "측정날짜           0\n",
       "정밀검사일자    244200\n",
       "dtype: int64"
      ]
     },
     "execution_count": 1264,
     "metadata": {},
     "output_type": "execute_result"
    }
   ],
   "source": [
    "df[['측정날짜', '정밀검사일자']].isnull().sum()"
   ]
  },
  {
   "cell_type": "code",
   "execution_count": 1265,
   "metadata": {},
   "outputs": [
    {
     "data": {
      "text/html": [
       "<div>\n",
       "<style scoped>\n",
       "    .dataframe tbody tr th:only-of-type {\n",
       "        vertical-align: middle;\n",
       "    }\n",
       "\n",
       "    .dataframe tbody tr th {\n",
       "        vertical-align: top;\n",
       "    }\n",
       "\n",
       "    .dataframe thead th {\n",
       "        text-align: right;\n",
       "    }\n",
       "</style>\n",
       "<table border=\"1\" class=\"dataframe\">\n",
       "  <thead>\n",
       "    <tr style=\"text-align: right;\">\n",
       "      <th></th>\n",
       "      <th>측정날짜</th>\n",
       "      <th>정밀검사일자</th>\n",
       "    </tr>\n",
       "  </thead>\n",
       "  <tbody>\n",
       "    <tr>\n",
       "      <th>0</th>\n",
       "      <td>2023-01-02</td>\n",
       "      <td>NaT</td>\n",
       "    </tr>\n",
       "    <tr>\n",
       "      <th>1</th>\n",
       "      <td>2023-01-02</td>\n",
       "      <td>NaT</td>\n",
       "    </tr>\n",
       "    <tr>\n",
       "      <th>2</th>\n",
       "      <td>2023-01-02</td>\n",
       "      <td>2022-10-28</td>\n",
       "    </tr>\n",
       "    <tr>\n",
       "      <th>3</th>\n",
       "      <td>2023-01-02</td>\n",
       "      <td>NaT</td>\n",
       "    </tr>\n",
       "    <tr>\n",
       "      <th>4</th>\n",
       "      <td>2023-01-02</td>\n",
       "      <td>NaT</td>\n",
       "    </tr>\n",
       "  </tbody>\n",
       "</table>\n",
       "</div>"
      ],
      "text/plain": [
       "        측정날짜     정밀검사일자\n",
       "0 2023-01-02        NaT\n",
       "1 2023-01-02        NaT\n",
       "2 2023-01-02 2022-10-28\n",
       "3 2023-01-02        NaT\n",
       "4 2023-01-02        NaT"
      ]
     },
     "execution_count": 1265,
     "metadata": {},
     "output_type": "execute_result"
    }
   ],
   "source": [
    "df[['측정날짜', '정밀검사일자']].head()"
   ]
  },
  {
   "cell_type": "markdown",
   "metadata": {},
   "source": [
    "### 구간 설정"
   ]
  },
  {
   "cell_type": "markdown",
   "metadata": {},
   "source": [
    "#### 속도"
   ]
  },
  {
   "cell_type": "code",
   "execution_count": 1266,
   "metadata": {},
   "outputs": [
    {
     "data": {
      "text/plain": [
       "count   396394.00\n",
       "mean        68.59\n",
       "std         14.17\n",
       "min          1.00\n",
       "25%         59.40\n",
       "50%         68.04\n",
       "75%         77.76\n",
       "max        119.88\n",
       "Name: 속도, dtype: float64"
      ]
     },
     "execution_count": 1266,
     "metadata": {},
     "output_type": "execute_result"
    }
   ],
   "source": [
    "df['속도'].describe()"
   ]
  },
  {
   "cell_type": "code",
   "execution_count": 1267,
   "metadata": {},
   "outputs": [
    {
     "data": {
      "text/plain": [
       "0"
      ]
     },
     "execution_count": 1267,
     "metadata": {},
     "output_type": "execute_result"
    }
   ],
   "source": [
    "df['속도'].isnull().sum()"
   ]
  },
  {
   "cell_type": "code",
   "execution_count": 1268,
   "metadata": {},
   "outputs": [
    {
     "data": {
      "text/plain": [
       "120"
      ]
     },
     "execution_count": 1268,
     "metadata": {},
     "output_type": "execute_result"
    }
   ],
   "source": [
    "math.ceil(df['속도'].max())"
   ]
  },
  {
   "cell_type": "code",
   "execution_count": 1269,
   "metadata": {},
   "outputs": [
    {
     "name": "stdout",
     "output_type": "stream",
     "text": [
      "1 : 0 ~ 10\n",
      "2 : 10 ~ 20\n",
      "3 : 20 ~ 30\n",
      "4 : 30 ~ 40\n",
      "5 : 40 ~ 50\n",
      "6 : 50 ~ 60\n",
      "7 : 60 ~ 70\n",
      "8 : 70 ~ 80\n",
      "9 : 80 ~ 90\n",
      "10 : 90 ~ 100\n",
      "11 : 100 ~ 110\n",
      "12 : 110 ~ 120\n"
     ]
    }
   ],
   "source": [
    "div = 10\n",
    "n = 1\n",
    "num = math.ceil(df['속도'].max())\n",
    "for i in range(0, num, div):\n",
    "    print(f'{n} : {i} ~ {i + div}')\n",
    "    n += 1"
   ]
  },
  {
   "cell_type": "code",
   "execution_count": 1270,
   "metadata": {},
   "outputs": [],
   "source": [
    "# 속도 구간 나누기(10단위)\n",
    "div = 10\n",
    "n = 1\n",
    "num = math.ceil(df['속도'].max())\n",
    "for i in range(0, num, div):\n",
    "    df.loc[(df['속도'] >= i) & (df['속도'] < i + div), '속도구분'] = f'{i}이상 {i + div}미만'\n",
    "    df.loc[(df['속도'] >= i) & (df['속도'] < i + div), '속도구분인덱스'] = n\n",
    "    n += 1"
   ]
  },
  {
   "cell_type": "code",
   "execution_count": 1271,
   "metadata": {},
   "outputs": [
    {
     "data": {
      "text/plain": [
       "array(['50이상 60미만', '40이상 50미만', '60이상 70미만', '70이상 80미만', '30이상 40미만',\n",
       "       '20이상 30미만', '80이상 90미만', '110이상 120미만', '0이상 10미만', '10이상 20미만',\n",
       "       '90이상 100미만', '100이상 110미만'], dtype=object)"
      ]
     },
     "execution_count": 1271,
     "metadata": {},
     "output_type": "execute_result"
    }
   ],
   "source": [
    "df['속도구분'].unique()"
   ]
  },
  {
   "cell_type": "code",
   "execution_count": 1272,
   "metadata": {},
   "outputs": [
    {
     "data": {
      "text/plain": [
       "array([ 6.,  5.,  7.,  8.,  4.,  3.,  9., 12.,  1.,  2., 10., 11.])"
      ]
     },
     "execution_count": 1272,
     "metadata": {},
     "output_type": "execute_result"
    }
   ],
   "source": [
    "df['속도구분인덱스'].unique()"
   ]
  },
  {
   "cell_type": "markdown",
   "metadata": {},
   "source": [
    "#### 배기량"
   ]
  },
  {
   "cell_type": "code",
   "execution_count": 1273,
   "metadata": {},
   "outputs": [
    {
     "data": {
      "text/plain": [
       "83615"
      ]
     },
     "execution_count": 1273,
     "metadata": {},
     "output_type": "execute_result"
    }
   ],
   "source": [
    "df['배기량'].isnull().sum()"
   ]
  },
  {
   "cell_type": "code",
   "execution_count": 1274,
   "metadata": {},
   "outputs": [
    {
     "data": {
      "text/plain": [
       "count   312779.00\n",
       "mean      2354.68\n",
       "std       1511.46\n",
       "min          0.00\n",
       "25%       1598.00\n",
       "50%       1999.00\n",
       "75%       2497.00\n",
       "max      16991.00\n",
       "Name: 배기량, dtype: float64"
      ]
     },
     "execution_count": 1274,
     "metadata": {},
     "output_type": "execute_result"
    }
   ],
   "source": [
    "df['배기량'].describe()"
   ]
  },
  {
   "cell_type": "code",
   "execution_count": 1275,
   "metadata": {},
   "outputs": [
    {
     "name": "stdout",
     "output_type": "stream",
     "text": [
      "1 : 1000 ~ 2000\n",
      "2 : 2000 ~ 3000\n",
      "3 : 3000 ~ 4000\n",
      "4 : 4000 ~ 5000\n",
      "5 : 5000 ~ 6000\n",
      "6 : 6000 ~ 7000\n",
      "7 : 7000 ~ 8000\n",
      "8 : 8000 ~ 9000\n",
      "9 : 9000 ~ 10000\n",
      "10 : 10000 ~ 11000\n",
      "11 : 11000 ~ 12000\n",
      "12 : 12000 ~ 13000\n",
      "13 : 13000 ~ 14000\n",
      "14 : 14000 ~ 15000\n",
      "15 : 15000 ~ 16000\n",
      "16 : 16000 ~ 17000\n"
     ]
    }
   ],
   "source": [
    "div = 1000\n",
    "n = 1\n",
    "num = math.ceil(df['배기량'].max() / div)\n",
    "for i in range(1, num):\n",
    "    print(f'{n} : {i*div} ~ {(i + 1) * 1000}')\n",
    "    n += 1"
   ]
  },
  {
   "cell_type": "code",
   "execution_count": 1276,
   "metadata": {},
   "outputs": [],
   "source": [
    "div = 1000\n",
    "n = 1\n",
    "num = math.ceil(df['배기량'].max() / div)\n",
    "for i in range(1, num):\n",
    "    df.loc[(df['배기량'] >= i * div) & (df['배기량'] < (i + 1) * div), '배기량구분'] = f'{i}천이상 {i + 1}천미만'\n",
    "    df.loc[(df['배기량'] >= i * div) & (df['배기량'] < (i + 1) * div), '배기량구분인덱스'] = n\n",
    "    n += 1"
   ]
  },
  {
   "cell_type": "code",
   "execution_count": 1277,
   "metadata": {},
   "outputs": [
    {
     "data": {
      "text/plain": [
       "array([nan, '1천이상 2천미만', '2천이상 3천미만', '3천이상 4천미만', '6천이상 7천미만',\n",
       "       '5천이상 6천미만', '11천이상 12천미만', '12천이상 13천미만', '8천이상 9천미만',\n",
       "       '9천이상 10천미만', '10천이상 11천미만', '4천이상 5천미만', '16천이상 17천미만',\n",
       "       '7천이상 8천미만', '15천이상 16천미만', '14천이상 15천미만'], dtype=object)"
      ]
     },
     "execution_count": 1277,
     "metadata": {},
     "output_type": "execute_result"
    }
   ],
   "source": [
    "df['배기량구분'].unique()"
   ]
  },
  {
   "cell_type": "code",
   "execution_count": 1278,
   "metadata": {},
   "outputs": [
    {
     "data": {
      "text/plain": [
       "array([nan,  1.,  2.,  3.,  6.,  5., 11., 12.,  8.,  9., 10.,  4., 16.,\n",
       "        7., 15., 14.])"
      ]
     },
     "execution_count": 1278,
     "metadata": {},
     "output_type": "execute_result"
    }
   ],
   "source": [
    "df['배기량구분인덱스'].unique()"
   ]
  },
  {
   "cell_type": "markdown",
   "metadata": {},
   "source": [
    "#### 차량중량(총중량)"
   ]
  },
  {
   "cell_type": "code",
   "execution_count": 1279,
   "metadata": {},
   "outputs": [
    {
     "data": {
      "text/plain": [
       "83592"
      ]
     },
     "execution_count": 1279,
     "metadata": {},
     "output_type": "execute_result"
    }
   ],
   "source": [
    "df['총중량'].isnull().sum()"
   ]
  },
  {
   "cell_type": "code",
   "execution_count": 1280,
   "metadata": {},
   "outputs": [
    {
     "data": {
      "text/plain": [
       "count   312802.00\n",
       "mean      2708.61\n",
       "std       3009.99\n",
       "min          0.00\n",
       "25%       1780.00\n",
       "50%       2030.00\n",
       "75%       2670.00\n",
       "max      39990.00\n",
       "Name: 총중량, dtype: float64"
      ]
     },
     "execution_count": 1280,
     "metadata": {},
     "output_type": "execute_result"
    }
   ],
   "source": [
    "df['총중량'].describe()"
   ]
  },
  {
   "cell_type": "code",
   "execution_count": 1281,
   "metadata": {},
   "outputs": [
    {
     "name": "stdout",
     "output_type": "stream",
     "text": [
      "1 : 1000 ~ 2000\n",
      "2 : 2000 ~ 3000\n",
      "3 : 3000 ~ 4000\n",
      "4 : 4000 ~ 5000\n",
      "5 : 5000 ~ 6000\n",
      "6 : 6000 ~ 7000\n",
      "7 : 7000 ~ 8000\n",
      "8 : 8000 ~ 9000\n",
      "9 : 9000 ~ 10000\n",
      "10 : 10000 ~ 11000\n",
      "11 : 11000 ~ 12000\n",
      "12 : 12000 ~ 13000\n",
      "13 : 13000 ~ 14000\n",
      "14 : 14000 ~ 15000\n",
      "15 : 15000 ~ 16000\n",
      "16 : 16000 ~ 17000\n",
      "17 : 17000 ~ 18000\n",
      "18 : 18000 ~ 19000\n",
      "19 : 19000 ~ 20000\n",
      "20 : 20000 ~ 21000\n",
      "21 : 21000 ~ 22000\n",
      "22 : 22000 ~ 23000\n",
      "23 : 23000 ~ 24000\n",
      "24 : 24000 ~ 25000\n",
      "25 : 25000 ~ 26000\n",
      "26 : 26000 ~ 27000\n",
      "27 : 27000 ~ 28000\n",
      "28 : 28000 ~ 29000\n",
      "29 : 29000 ~ 30000\n",
      "30 : 30000 ~ 31000\n",
      "31 : 31000 ~ 32000\n",
      "32 : 32000 ~ 33000\n",
      "33 : 33000 ~ 34000\n",
      "34 : 34000 ~ 35000\n",
      "35 : 35000 ~ 36000\n",
      "36 : 36000 ~ 37000\n",
      "37 : 37000 ~ 38000\n",
      "38 : 38000 ~ 39000\n",
      "39 : 39000 ~ 40000\n"
     ]
    }
   ],
   "source": [
    "div = 1000\n",
    "n = 1\n",
    "num = math.ceil(df['총중량'].max() / div)\n",
    "for i in range(1, num):\n",
    "    print(f'{n} : {i*div} ~ {(i + 1) * div}')\n",
    "    n += 1"
   ]
  },
  {
   "cell_type": "code",
   "execution_count": 1282,
   "metadata": {},
   "outputs": [
    {
     "data": {
      "text/plain": [
       "40"
      ]
     },
     "execution_count": 1282,
     "metadata": {},
     "output_type": "execute_result"
    }
   ],
   "source": [
    "math.ceil(df['총중량'].max()/1000)"
   ]
  },
  {
   "cell_type": "code",
   "execution_count": 1283,
   "metadata": {},
   "outputs": [],
   "source": [
    "div = 1000\n",
    "n = 1\n",
    "num = math.ceil(df['총중량'].max()/div)\n",
    "for i in range(0, num):\n",
    "    df.loc[(df['총중량'] >= i * div) & (df['총중량'] < (i + div) * div), '총중량구분'] = f'{i}천이상 {i + 1}천미만'\n",
    "    df.loc[(df['총중량'] >= i * div) & (df['총중량'] < (i + div) * div), '총중량구분인덱스'] = n\n",
    "    n += 1"
   ]
  },
  {
   "cell_type": "code",
   "execution_count": 1284,
   "metadata": {},
   "outputs": [
    {
     "data": {
      "text/plain": [
       "array(['1천이상 2천미만', '2천이상 3천미만', '3천이상 4천미만', nan, '13천이상 14천미만',\n",
       "       '7천이상 8천미만', '11천이상 12천미만', '14천이상 15천미만', '10천이상 11천미만',\n",
       "       '38천이상 39천미만', '26천이상 27천미만', '9천이상 10천미만', '15천이상 16천미만',\n",
       "       '5천이상 6천미만', '0천이상 1천미만', '4천이상 5천미만', '30천이상 31천미만', '6천이상 7천미만',\n",
       "       '28천이상 29천미만', '16천이상 17천미만', '21천이상 22천미만', '8천이상 9천미만',\n",
       "       '12천이상 13천미만', '20천이상 21천미만', '39천이상 40천미만', '25천이상 26천미만',\n",
       "       '17천이상 18천미만', '19천이상 20천미만', '35천이상 36천미만', '36천이상 37천미만',\n",
       "       '37천이상 38천미만', '24천이상 25천미만', '22천이상 23천미만', '27천이상 28천미만',\n",
       "       '18천이상 19천미만', '31천이상 32천미만', '29천이상 30천미만', '33천이상 34천미만',\n",
       "       '23천이상 24천미만', '34천이상 35천미만', '32천이상 33천미만'], dtype=object)"
      ]
     },
     "execution_count": 1284,
     "metadata": {},
     "output_type": "execute_result"
    }
   ],
   "source": [
    "df['총중량구분'].unique()"
   ]
  },
  {
   "cell_type": "code",
   "execution_count": 1285,
   "metadata": {},
   "outputs": [
    {
     "data": {
      "text/plain": [
       "array([ 2.,  3.,  4., nan, 14.,  8., 12., 15., 11., 39., 27., 10., 16.,\n",
       "        6.,  1.,  5., 31.,  7., 29., 17., 22.,  9., 13., 21., 40., 26.,\n",
       "       18., 20., 36., 37., 38., 25., 23., 28., 19., 32., 30., 34., 24.,\n",
       "       35., 33.])"
      ]
     },
     "execution_count": 1285,
     "metadata": {},
     "output_type": "execute_result"
    }
   ],
   "source": [
    "df['총중량구분인덱스'].unique()"
   ]
  },
  {
   "cell_type": "markdown",
   "metadata": {},
   "source": [
    "#### 매연농도(원격)\n",
    "- 농도별(0.5 단위) : 0 이상 0.5미만, …"
   ]
  },
  {
   "cell_type": "code",
   "execution_count": 1286,
   "metadata": {},
   "outputs": [
    {
     "data": {
      "text/plain": [
       "count   396394.00\n",
       "mean         0.70\n",
       "std          0.90\n",
       "min          0.00\n",
       "25%          0.00\n",
       "50%          0.40\n",
       "75%          0.90\n",
       "max          5.00\n",
       "Name: 매연, dtype: float64"
      ]
     },
     "execution_count": 1286,
     "metadata": {},
     "output_type": "execute_result"
    }
   ],
   "source": [
    "df['매연'].describe()"
   ]
  },
  {
   "cell_type": "code",
   "execution_count": 1287,
   "metadata": {},
   "outputs": [
    {
     "name": "stdout",
     "output_type": "stream",
     "text": [
      "1 : 0 ~ 0.5\n",
      "2 : 0.5 ~ 1.0\n",
      "3 : 1.0 ~ 1.5\n",
      "4 : 1.5 ~ 2.0\n",
      "5 : 2.0 ~ 2.5\n",
      "6 : 2.5 ~ 3.0\n",
      "7 : 3.0 ~ 3.5\n",
      "8 : 3.5 ~ 4.0\n",
      "9 : 4.0 ~ 4.5\n"
     ]
    }
   ],
   "source": [
    "div = 0.5\n",
    "n = 0\n",
    "for i in range(9):\n",
    "    print(f'{i + 1} : {n} ~ {n + div}')\n",
    "    n += div"
   ]
  },
  {
   "cell_type": "code",
   "execution_count": 1288,
   "metadata": {},
   "outputs": [],
   "source": [
    "div = 0.5\n",
    "n = 0\n",
    "for i in range(9):\n",
    "    df.loc[(df['매연'] >= n) & (df['매연'] < n + div), '매연구분'] = f'{n}이상 {n + div}미만'\n",
    "    df.loc[(df['매연'] >= n) & (df['매연'] < n + div), '매연구분인덱스'] = i + 1\n",
    "    n += div\n",
    "df.loc[df['매연'] >= n, '매연구분'] = f'{n}이상'\n",
    "df.loc[df['매연'] >= n, '매연구분인덱스'] = i + 2"
   ]
  },
  {
   "cell_type": "code",
   "execution_count": 1289,
   "metadata": {},
   "outputs": [
    {
     "data": {
      "text/plain": [
       "array(['1.0이상 1.5미만', '0.5이상 1.0미만', '1.5이상 2.0미만', '3.0이상 3.5미만',\n",
       "       '2.0이상 2.5미만', '0이상 0.5미만', '4.5이상', '3.5이상 4.0미만', '2.5이상 3.0미만',\n",
       "       '4.0이상 4.5미만'], dtype=object)"
      ]
     },
     "execution_count": 1289,
     "metadata": {},
     "output_type": "execute_result"
    }
   ],
   "source": [
    "df['매연구분'].unique()"
   ]
  },
  {
   "cell_type": "code",
   "execution_count": 1290,
   "metadata": {},
   "outputs": [
    {
     "data": {
      "text/plain": [
       "array([ 3.,  2.,  4.,  7.,  5.,  1., 10.,  8.,  6.,  9.])"
      ]
     },
     "execution_count": 1290,
     "metadata": {},
     "output_type": "execute_result"
    }
   ],
   "source": [
    "df['매연구분인덱스'].unique()"
   ]
  },
  {
   "cell_type": "markdown",
   "metadata": {},
   "source": [
    "#### 연식\n",
    "- 2004년 이전(~ 2003년 이하)은 한가지 구분으로 묶기 : 2003년이하"
   ]
  },
  {
   "cell_type": "code",
   "execution_count": 1291,
   "metadata": {},
   "outputs": [
    {
     "data": {
      "text/plain": [
       "dtype('float64')"
      ]
     },
     "execution_count": 1291,
     "metadata": {},
     "output_type": "execute_result"
    }
   ],
   "source": [
    "df['연식'].dtype"
   ]
  },
  {
   "cell_type": "code",
   "execution_count": 1292,
   "metadata": {},
   "outputs": [
    {
     "data": {
      "text/plain": [
       "array([2021., 2016., 2013., 2020., 2015., 2012., 2011., 2006., 2008.,\n",
       "         nan, 2010., 2017., 2004., 2018., 2022., 2014., 2007., 2009.,\n",
       "       2019., 2023., 2002., 2001., 2005., 2003., 1993., 1995., 2024.,\n",
       "       1999., 1998., 1997., 1996., 2000., 1983., 1992., 1994., 1991.,\n",
       "       1990., 1988.])"
      ]
     },
     "execution_count": 1292,
     "metadata": {},
     "output_type": "execute_result"
    }
   ],
   "source": [
    "df['연식'].unique()"
   ]
  },
  {
   "cell_type": "code",
   "execution_count": 1293,
   "metadata": {},
   "outputs": [],
   "source": [
    "df.loc[df['연식'] <= 2000, '연식구분'] = '2000년 이하'\n",
    "df.loc[df['연식구분'].isnull(), '연식구분'] = df.loc[df['연식구분'].isnull(), '연식']"
   ]
  },
  {
   "cell_type": "code",
   "execution_count": 1294,
   "metadata": {},
   "outputs": [
    {
     "data": {
      "text/plain": [
       "array(['2021.0', '2016.0', '2013.0', '2020.0', '2015.0', '2012.0',\n",
       "       '2011.0', '2006.0', '2008.0', nan, '2010.0', '2017.0', '2004.0',\n",
       "       '2018.0', '2022.0', '2014.0', '2007.0', '2009.0', '2019.0',\n",
       "       '2023.0', '2002.0', '2001.0', '2005.0', '2003.0', '2000년 이하',\n",
       "       '2024.0'], dtype=object)"
      ]
     },
     "execution_count": 1294,
     "metadata": {},
     "output_type": "execute_result"
    }
   ],
   "source": [
    "df['연식구분'].unique()"
   ]
  },
  {
   "cell_type": "markdown",
   "metadata": {},
   "source": [
    "# Analysis"
   ]
  },
  {
   "cell_type": "markdown",
   "metadata": {},
   "source": [
    "## 1\\. 연료별 매연RSD 측정 평균, 건수"
   ]
  },
  {
   "cell_type": "code",
   "execution_count": 1295,
   "metadata": {},
   "outputs": [
    {
     "data": {
      "text/plain": [
       "((396394, 57), 184944)"
      ]
     },
     "execution_count": 1295,
     "metadata": {},
     "output_type": "execute_result"
    }
   ],
   "source": [
    "df.shape, len(df['차량번호'].unique())"
   ]
  },
  {
   "cell_type": "code",
   "execution_count": 1296,
   "metadata": {},
   "outputs": [
    {
     "data": {
      "text/plain": [
       "83619"
      ]
     },
     "execution_count": 1296,
     "metadata": {},
     "output_type": "execute_result"
    }
   ],
   "source": [
    "df['연료'].isnull().sum()"
   ]
  },
  {
   "cell_type": "code",
   "execution_count": 1297,
   "metadata": {},
   "outputs": [
    {
     "data": {
      "text/html": [
       "<div>\n",
       "<style scoped>\n",
       "    .dataframe tbody tr th:only-of-type {\n",
       "        vertical-align: middle;\n",
       "    }\n",
       "\n",
       "    .dataframe tbody tr th {\n",
       "        vertical-align: top;\n",
       "    }\n",
       "\n",
       "    .dataframe thead th {\n",
       "        text-align: right;\n",
       "    }\n",
       "</style>\n",
       "<table border=\"1\" class=\"dataframe\">\n",
       "  <thead>\n",
       "    <tr style=\"text-align: right;\">\n",
       "      <th></th>\n",
       "      <th>연료</th>\n",
       "      <th>매연RSD_평균</th>\n",
       "      <th>측정건수</th>\n",
       "    </tr>\n",
       "  </thead>\n",
       "  <tbody>\n",
       "    <tr>\n",
       "      <th>0</th>\n",
       "      <td>CNG(압축천연가스)</td>\n",
       "      <td>1.55</td>\n",
       "      <td>1766</td>\n",
       "    </tr>\n",
       "    <tr>\n",
       "      <th>1</th>\n",
       "      <td>LPG 하이브리드</td>\n",
       "      <td>0.67</td>\n",
       "      <td>151</td>\n",
       "    </tr>\n",
       "    <tr>\n",
       "      <th>2</th>\n",
       "      <td>LPG(액화석유가스)</td>\n",
       "      <td>0.69</td>\n",
       "      <td>24616</td>\n",
       "    </tr>\n",
       "    <tr>\n",
       "      <th>3</th>\n",
       "      <td>경유</td>\n",
       "      <td>0.69</td>\n",
       "      <td>137148</td>\n",
       "    </tr>\n",
       "    <tr>\n",
       "      <th>4</th>\n",
       "      <td>경유 하이브리드</td>\n",
       "      <td>0.62</td>\n",
       "      <td>735</td>\n",
       "    </tr>\n",
       "    <tr>\n",
       "      <th>5</th>\n",
       "      <td>수소</td>\n",
       "      <td>0.59</td>\n",
       "      <td>767</td>\n",
       "    </tr>\n",
       "    <tr>\n",
       "      <th>6</th>\n",
       "      <td>전기</td>\n",
       "      <td>0.58</td>\n",
       "      <td>6060</td>\n",
       "    </tr>\n",
       "    <tr>\n",
       "      <th>7</th>\n",
       "      <td>휘발유</td>\n",
       "      <td>0.67</td>\n",
       "      <td>120285</td>\n",
       "    </tr>\n",
       "    <tr>\n",
       "      <th>8</th>\n",
       "      <td>휘발유 하이브리드</td>\n",
       "      <td>0.62</td>\n",
       "      <td>21247</td>\n",
       "    </tr>\n",
       "    <tr>\n",
       "      <th>9</th>\n",
       "      <td>조회불가</td>\n",
       "      <td>0.80</td>\n",
       "      <td>83619</td>\n",
       "    </tr>\n",
       "    <tr>\n",
       "      <th>10</th>\n",
       "      <td>총합</td>\n",
       "      <td>NaN</td>\n",
       "      <td>396394</td>\n",
       "    </tr>\n",
       "  </tbody>\n",
       "</table>\n",
       "</div>"
      ],
      "text/plain": [
       "             연료  매연RSD_평균    측정건수\n",
       "0   CNG(압축천연가스)      1.55    1766\n",
       "1     LPG 하이브리드      0.67     151\n",
       "2   LPG(액화석유가스)      0.69   24616\n",
       "3            경유      0.69  137148\n",
       "4      경유 하이브리드      0.62     735\n",
       "5            수소      0.59     767\n",
       "6            전기      0.58    6060\n",
       "7           휘발유      0.67  120285\n",
       "8     휘발유 하이브리드      0.62   21247\n",
       "9          조회불가      0.80   83619\n",
       "10           총합       NaN  396394"
      ]
     },
     "execution_count": 1297,
     "metadata": {},
     "output_type": "execute_result"
    }
   ],
   "source": [
    "grp1 = df.groupby(['연료'], dropna=False).agg({'매연':'mean', '차량번호':'count'}).reset_index()\n",
    "grp1['매연'] = grp1['매연'].round(2)\n",
    "grp1 = grp1.rename(columns={'매연':'매연RSD_평균', '차량번호':'측정건수'})\n",
    "grp1.loc[grp1.shape[0]] = ['총합', np.nan, grp1['측정건수'].sum()]\n",
    "grp1['연료'] = grp1['연료'].fillna('조회불가')\n",
    "grp1"
   ]
  },
  {
   "cell_type": "markdown",
   "metadata": {},
   "source": [
    "## 경유차만 추출"
   ]
  },
  {
   "cell_type": "code",
   "execution_count": 1298,
   "metadata": {},
   "outputs": [
    {
     "data": {
      "text/html": [
       "<div>\n",
       "<style scoped>\n",
       "    .dataframe tbody tr th:only-of-type {\n",
       "        vertical-align: middle;\n",
       "    }\n",
       "\n",
       "    .dataframe tbody tr th {\n",
       "        vertical-align: top;\n",
       "    }\n",
       "\n",
       "    .dataframe thead th {\n",
       "        text-align: right;\n",
       "    }\n",
       "</style>\n",
       "<table border=\"1\" class=\"dataframe\">\n",
       "  <thead>\n",
       "    <tr style=\"text-align: right;\">\n",
       "      <th></th>\n",
       "      <th>연료</th>\n",
       "      <th>count</th>\n",
       "    </tr>\n",
       "  </thead>\n",
       "  <tbody>\n",
       "    <tr>\n",
       "      <th>0</th>\n",
       "      <td>경유</td>\n",
       "      <td>137148</td>\n",
       "    </tr>\n",
       "    <tr>\n",
       "      <th>1</th>\n",
       "      <td>휘발유</td>\n",
       "      <td>120285</td>\n",
       "    </tr>\n",
       "    <tr>\n",
       "      <th>2</th>\n",
       "      <td>NaN</td>\n",
       "      <td>83619</td>\n",
       "    </tr>\n",
       "    <tr>\n",
       "      <th>3</th>\n",
       "      <td>LPG(액화석유가스)</td>\n",
       "      <td>24616</td>\n",
       "    </tr>\n",
       "    <tr>\n",
       "      <th>4</th>\n",
       "      <td>휘발유 하이브리드</td>\n",
       "      <td>21247</td>\n",
       "    </tr>\n",
       "    <tr>\n",
       "      <th>5</th>\n",
       "      <td>전기</td>\n",
       "      <td>6060</td>\n",
       "    </tr>\n",
       "    <tr>\n",
       "      <th>6</th>\n",
       "      <td>CNG(압축천연가스)</td>\n",
       "      <td>1766</td>\n",
       "    </tr>\n",
       "    <tr>\n",
       "      <th>7</th>\n",
       "      <td>수소</td>\n",
       "      <td>767</td>\n",
       "    </tr>\n",
       "    <tr>\n",
       "      <th>8</th>\n",
       "      <td>경유 하이브리드</td>\n",
       "      <td>735</td>\n",
       "    </tr>\n",
       "    <tr>\n",
       "      <th>9</th>\n",
       "      <td>LPG 하이브리드</td>\n",
       "      <td>151</td>\n",
       "    </tr>\n",
       "  </tbody>\n",
       "</table>\n",
       "</div>"
      ],
      "text/plain": [
       "            연료   count\n",
       "0           경유  137148\n",
       "1          휘발유  120285\n",
       "2          NaN   83619\n",
       "3  LPG(액화석유가스)   24616\n",
       "4    휘발유 하이브리드   21247\n",
       "5           전기    6060\n",
       "6  CNG(압축천연가스)    1766\n",
       "7           수소     767\n",
       "8     경유 하이브리드     735\n",
       "9    LPG 하이브리드     151"
      ]
     },
     "execution_count": 1298,
     "metadata": {},
     "output_type": "execute_result"
    }
   ],
   "source": [
    "df['연료'].value_counts(dropna=False).reset_index()"
   ]
  },
  {
   "cell_type": "code",
   "execution_count": 1299,
   "metadata": {},
   "outputs": [
    {
     "data": {
      "text/plain": [
       "(137148, 57)"
      ]
     },
     "execution_count": 1299,
     "metadata": {},
     "output_type": "execute_result"
    }
   ],
   "source": [
    "die = df[df['연료'] == '경유'].reset_index(drop=True)\n",
    "die.shape"
   ]
  },
  {
   "cell_type": "markdown",
   "metadata": {},
   "source": [
    "### 2\\. 경유 > 차종별 매연RSD 측정 평균, 건수"
   ]
  },
  {
   "cell_type": "code",
   "execution_count": 1300,
   "metadata": {},
   "outputs": [
    {
     "data": {
      "text/html": [
       "<div>\n",
       "<style scoped>\n",
       "    .dataframe tbody tr th:only-of-type {\n",
       "        vertical-align: middle;\n",
       "    }\n",
       "\n",
       "    .dataframe tbody tr th {\n",
       "        vertical-align: top;\n",
       "    }\n",
       "\n",
       "    .dataframe thead th {\n",
       "        text-align: right;\n",
       "    }\n",
       "</style>\n",
       "<table border=\"1\" class=\"dataframe\">\n",
       "  <thead>\n",
       "    <tr style=\"text-align: right;\">\n",
       "      <th></th>\n",
       "      <th>차종</th>\n",
       "      <th>매연RSD_평균</th>\n",
       "      <th>측정건수</th>\n",
       "    </tr>\n",
       "  </thead>\n",
       "  <tbody>\n",
       "    <tr>\n",
       "      <th>0</th>\n",
       "      <td>승용</td>\n",
       "      <td>0.69</td>\n",
       "      <td>73560</td>\n",
       "    </tr>\n",
       "    <tr>\n",
       "      <th>1</th>\n",
       "      <td>승합</td>\n",
       "      <td>0.87</td>\n",
       "      <td>9989</td>\n",
       "    </tr>\n",
       "    <tr>\n",
       "      <th>2</th>\n",
       "      <td>특수</td>\n",
       "      <td>0.64</td>\n",
       "      <td>1654</td>\n",
       "    </tr>\n",
       "    <tr>\n",
       "      <th>3</th>\n",
       "      <td>화물</td>\n",
       "      <td>0.66</td>\n",
       "      <td>51945</td>\n",
       "    </tr>\n",
       "    <tr>\n",
       "      <th>4</th>\n",
       "      <td>총합</td>\n",
       "      <td>NaN</td>\n",
       "      <td>137148</td>\n",
       "    </tr>\n",
       "  </tbody>\n",
       "</table>\n",
       "</div>"
      ],
      "text/plain": [
       "   차종  매연RSD_평균    측정건수\n",
       "0  승용      0.69   73560\n",
       "1  승합      0.87    9989\n",
       "2  특수      0.64    1654\n",
       "3  화물      0.66   51945\n",
       "4  총합       NaN  137148"
      ]
     },
     "execution_count": 1300,
     "metadata": {},
     "output_type": "execute_result"
    }
   ],
   "source": [
    "grp2 = die.groupby(['차종'], dropna=False).agg({'매연':'mean', '차량번호':'count'}).reset_index()\n",
    "grp2['매연'] = grp2['매연'].round(2)\n",
    "grp2 = grp2.rename(columns={'매연':'매연RSD_평균', '차량번호':'측정건수'})\n",
    "grp2.loc[grp2.shape[0]] = ['총합', np.nan, grp2['측정건수'].sum()]\n",
    "grp2"
   ]
  },
  {
   "cell_type": "markdown",
   "metadata": {},
   "source": [
    "### 3\\. 경유 > 연식별 매연RSD 측정 평균, 건수"
   ]
  },
  {
   "cell_type": "code",
   "execution_count": 1301,
   "metadata": {},
   "outputs": [],
   "source": [
    "# grp3 = die.groupby(['연식'], dropna=False).agg({'매연':'mean', '차량번호':'count'}).reset_index()\n",
    "# grp3['매연'] = grp3['매연'].round(2)\n",
    "# grp3 = grp3.rename(columns={'매연':'매연RSD_평균', '차량번호':'측정건수'})\n",
    "# grp3.loc[grp3.shape[0]] = ['총합', np.nan, grp3['측정건수'].sum()]\n",
    "# grp3"
   ]
  },
  {
   "cell_type": "code",
   "execution_count": 1302,
   "metadata": {},
   "outputs": [
    {
     "data": {
      "text/html": [
       "<div>\n",
       "<style scoped>\n",
       "    .dataframe tbody tr th:only-of-type {\n",
       "        vertical-align: middle;\n",
       "    }\n",
       "\n",
       "    .dataframe tbody tr th {\n",
       "        vertical-align: top;\n",
       "    }\n",
       "\n",
       "    .dataframe thead th {\n",
       "        text-align: right;\n",
       "    }\n",
       "</style>\n",
       "<table border=\"1\" class=\"dataframe\">\n",
       "  <thead>\n",
       "    <tr style=\"text-align: right;\">\n",
       "      <th></th>\n",
       "      <th>연식구분</th>\n",
       "      <th>매연RSD_평균</th>\n",
       "      <th>측정건수</th>\n",
       "    </tr>\n",
       "  </thead>\n",
       "  <tbody>\n",
       "    <tr>\n",
       "      <th>0</th>\n",
       "      <td>2000년 이하</td>\n",
       "      <td>0.99</td>\n",
       "      <td>177</td>\n",
       "    </tr>\n",
       "    <tr>\n",
       "      <th>1</th>\n",
       "      <td>2001.0</td>\n",
       "      <td>0.87</td>\n",
       "      <td>96</td>\n",
       "    </tr>\n",
       "    <tr>\n",
       "      <th>2</th>\n",
       "      <td>2002.0</td>\n",
       "      <td>0.99</td>\n",
       "      <td>338</td>\n",
       "    </tr>\n",
       "    <tr>\n",
       "      <th>3</th>\n",
       "      <td>2003.0</td>\n",
       "      <td>0.84</td>\n",
       "      <td>178</td>\n",
       "    </tr>\n",
       "    <tr>\n",
       "      <th>4</th>\n",
       "      <td>2004.0</td>\n",
       "      <td>0.87</td>\n",
       "      <td>336</td>\n",
       "    </tr>\n",
       "    <tr>\n",
       "      <th>5</th>\n",
       "      <td>2005.0</td>\n",
       "      <td>0.87</td>\n",
       "      <td>419</td>\n",
       "    </tr>\n",
       "    <tr>\n",
       "      <th>6</th>\n",
       "      <td>2006.0</td>\n",
       "      <td>0.79</td>\n",
       "      <td>676</td>\n",
       "    </tr>\n",
       "    <tr>\n",
       "      <th>7</th>\n",
       "      <td>2007.0</td>\n",
       "      <td>0.85</td>\n",
       "      <td>1596</td>\n",
       "    </tr>\n",
       "    <tr>\n",
       "      <th>8</th>\n",
       "      <td>2008.0</td>\n",
       "      <td>0.84</td>\n",
       "      <td>1921</td>\n",
       "    </tr>\n",
       "    <tr>\n",
       "      <th>9</th>\n",
       "      <td>2009.0</td>\n",
       "      <td>0.80</td>\n",
       "      <td>1937</td>\n",
       "    </tr>\n",
       "    <tr>\n",
       "      <th>10</th>\n",
       "      <td>2010.0</td>\n",
       "      <td>0.78</td>\n",
       "      <td>3465</td>\n",
       "    </tr>\n",
       "    <tr>\n",
       "      <th>11</th>\n",
       "      <td>2011.0</td>\n",
       "      <td>0.76</td>\n",
       "      <td>4785</td>\n",
       "    </tr>\n",
       "    <tr>\n",
       "      <th>12</th>\n",
       "      <td>2012.0</td>\n",
       "      <td>0.72</td>\n",
       "      <td>5580</td>\n",
       "    </tr>\n",
       "    <tr>\n",
       "      <th>13</th>\n",
       "      <td>2013.0</td>\n",
       "      <td>0.71</td>\n",
       "      <td>5873</td>\n",
       "    </tr>\n",
       "    <tr>\n",
       "      <th>14</th>\n",
       "      <td>2014.0</td>\n",
       "      <td>0.73</td>\n",
       "      <td>9301</td>\n",
       "    </tr>\n",
       "    <tr>\n",
       "      <th>15</th>\n",
       "      <td>2015.0</td>\n",
       "      <td>0.70</td>\n",
       "      <td>11107</td>\n",
       "    </tr>\n",
       "    <tr>\n",
       "      <th>16</th>\n",
       "      <td>2016.0</td>\n",
       "      <td>0.67</td>\n",
       "      <td>13637</td>\n",
       "    </tr>\n",
       "    <tr>\n",
       "      <th>17</th>\n",
       "      <td>2017.0</td>\n",
       "      <td>0.69</td>\n",
       "      <td>11652</td>\n",
       "    </tr>\n",
       "    <tr>\n",
       "      <th>18</th>\n",
       "      <td>2018.0</td>\n",
       "      <td>0.66</td>\n",
       "      <td>13780</td>\n",
       "    </tr>\n",
       "    <tr>\n",
       "      <th>19</th>\n",
       "      <td>2019.0</td>\n",
       "      <td>0.65</td>\n",
       "      <td>14838</td>\n",
       "    </tr>\n",
       "    <tr>\n",
       "      <th>20</th>\n",
       "      <td>2020.0</td>\n",
       "      <td>0.64</td>\n",
       "      <td>10787</td>\n",
       "    </tr>\n",
       "    <tr>\n",
       "      <th>21</th>\n",
       "      <td>2021.0</td>\n",
       "      <td>0.66</td>\n",
       "      <td>9039</td>\n",
       "    </tr>\n",
       "    <tr>\n",
       "      <th>22</th>\n",
       "      <td>2022.0</td>\n",
       "      <td>0.65</td>\n",
       "      <td>9007</td>\n",
       "    </tr>\n",
       "    <tr>\n",
       "      <th>23</th>\n",
       "      <td>2023.0</td>\n",
       "      <td>0.64</td>\n",
       "      <td>6361</td>\n",
       "    </tr>\n",
       "    <tr>\n",
       "      <th>24</th>\n",
       "      <td>2024.0</td>\n",
       "      <td>0.54</td>\n",
       "      <td>262</td>\n",
       "    </tr>\n",
       "    <tr>\n",
       "      <th>25</th>\n",
       "      <td>총합</td>\n",
       "      <td>NaN</td>\n",
       "      <td>137148</td>\n",
       "    </tr>\n",
       "  </tbody>\n",
       "</table>\n",
       "</div>"
      ],
      "text/plain": [
       "        연식구분  매연RSD_평균    측정건수\n",
       "0   2000년 이하      0.99     177\n",
       "1     2001.0      0.87      96\n",
       "2     2002.0      0.99     338\n",
       "3     2003.0      0.84     178\n",
       "4     2004.0      0.87     336\n",
       "5     2005.0      0.87     419\n",
       "6     2006.0      0.79     676\n",
       "7     2007.0      0.85    1596\n",
       "8     2008.0      0.84    1921\n",
       "9     2009.0      0.80    1937\n",
       "10    2010.0      0.78    3465\n",
       "11    2011.0      0.76    4785\n",
       "12    2012.0      0.72    5580\n",
       "13    2013.0      0.71    5873\n",
       "14    2014.0      0.73    9301\n",
       "15    2015.0      0.70   11107\n",
       "16    2016.0      0.67   13637\n",
       "17    2017.0      0.69   11652\n",
       "18    2018.0      0.66   13780\n",
       "19    2019.0      0.65   14838\n",
       "20    2020.0      0.64   10787\n",
       "21    2021.0      0.66    9039\n",
       "22    2022.0      0.65    9007\n",
       "23    2023.0      0.64    6361\n",
       "24    2024.0      0.54     262\n",
       "25        총합       NaN  137148"
      ]
     },
     "execution_count": 1302,
     "metadata": {},
     "output_type": "execute_result"
    }
   ],
   "source": [
    "grp3 = die.groupby(['연식구분'], dropna=False).agg({'매연':'mean', '차량번호':'count'}).reset_index()\n",
    "grp3['매연'] = grp3['매연'].round(2)\n",
    "grp3 = grp3.rename(columns={'매연':'매연RSD_평균', '차량번호':'측정건수'})\n",
    "grp3.loc[grp3.shape[0]] = ['총합', np.nan, grp3['측정건수'].sum()]\n",
    "grp3"
   ]
  },
  {
   "cell_type": "markdown",
   "metadata": {},
   "source": [
    "### 4\\. 경유 > 차선별 매연RSD 측정 평균, 건수"
   ]
  },
  {
   "cell_type": "code",
   "execution_count": 1303,
   "metadata": {},
   "outputs": [
    {
     "data": {
      "text/html": [
       "<div>\n",
       "<style scoped>\n",
       "    .dataframe tbody tr th:only-of-type {\n",
       "        vertical-align: middle;\n",
       "    }\n",
       "\n",
       "    .dataframe tbody tr th {\n",
       "        vertical-align: top;\n",
       "    }\n",
       "\n",
       "    .dataframe thead th {\n",
       "        text-align: right;\n",
       "    }\n",
       "</style>\n",
       "<table border=\"1\" class=\"dataframe\">\n",
       "  <thead>\n",
       "    <tr style=\"text-align: right;\">\n",
       "      <th></th>\n",
       "      <th>차선번호</th>\n",
       "      <th>매연RSD_평균</th>\n",
       "      <th>측정건수</th>\n",
       "    </tr>\n",
       "  </thead>\n",
       "  <tbody>\n",
       "    <tr>\n",
       "      <th>0</th>\n",
       "      <td>1.00</td>\n",
       "      <td>0.83</td>\n",
       "      <td>20181</td>\n",
       "    </tr>\n",
       "    <tr>\n",
       "      <th>1</th>\n",
       "      <td>2.00</td>\n",
       "      <td>0.72</td>\n",
       "      <td>30190</td>\n",
       "    </tr>\n",
       "    <tr>\n",
       "      <th>2</th>\n",
       "      <td>3.00</td>\n",
       "      <td>0.70</td>\n",
       "      <td>20478</td>\n",
       "    </tr>\n",
       "    <tr>\n",
       "      <th>3</th>\n",
       "      <td>NaN</td>\n",
       "      <td>0.62</td>\n",
       "      <td>66299</td>\n",
       "    </tr>\n",
       "    <tr>\n",
       "      <th>4</th>\n",
       "      <td>총합</td>\n",
       "      <td>NaN</td>\n",
       "      <td>137148</td>\n",
       "    </tr>\n",
       "  </tbody>\n",
       "</table>\n",
       "</div>"
      ],
      "text/plain": [
       "  차선번호  매연RSD_평균    측정건수\n",
       "0 1.00      0.83   20181\n",
       "1 2.00      0.72   30190\n",
       "2 3.00      0.70   20478\n",
       "3  NaN      0.62   66299\n",
       "4   총합       NaN  137148"
      ]
     },
     "execution_count": 1303,
     "metadata": {},
     "output_type": "execute_result"
    }
   ],
   "source": [
    "grp4 = die.groupby(['차선번호'], dropna=False).agg({'매연':'mean', '차량번호':'count'}).reset_index()\n",
    "grp4['매연'] = grp4['매연'].round(2)\n",
    "grp4 = grp4.rename(columns={'매연':'매연RSD_평균', '차량번호':'측정건수'})\n",
    "grp4.loc[grp4.shape[0]] = ['총합', np.nan, grp4['측정건수'].sum()]\n",
    "grp4"
   ]
  },
  {
   "cell_type": "markdown",
   "metadata": {},
   "source": [
    "### 5\\. 경유 > 속도별 매연RSD 측정 평균, 건수"
   ]
  },
  {
   "cell_type": "code",
   "execution_count": 1304,
   "metadata": {},
   "outputs": [
    {
     "data": {
      "text/html": [
       "<div>\n",
       "<style scoped>\n",
       "    .dataframe tbody tr th:only-of-type {\n",
       "        vertical-align: middle;\n",
       "    }\n",
       "\n",
       "    .dataframe tbody tr th {\n",
       "        vertical-align: top;\n",
       "    }\n",
       "\n",
       "    .dataframe thead th {\n",
       "        text-align: right;\n",
       "    }\n",
       "</style>\n",
       "<table border=\"1\" class=\"dataframe\">\n",
       "  <thead>\n",
       "    <tr style=\"text-align: right;\">\n",
       "      <th></th>\n",
       "      <th>속도(km/h)</th>\n",
       "      <th>매연RSD_평균</th>\n",
       "      <th>측정건수</th>\n",
       "    </tr>\n",
       "  </thead>\n",
       "  <tbody>\n",
       "    <tr>\n",
       "      <th>0</th>\n",
       "      <td>0이상 10미만</td>\n",
       "      <td>0.81</td>\n",
       "      <td>45</td>\n",
       "    </tr>\n",
       "    <tr>\n",
       "      <th>1</th>\n",
       "      <td>10이상 20미만</td>\n",
       "      <td>0.76</td>\n",
       "      <td>72</td>\n",
       "    </tr>\n",
       "    <tr>\n",
       "      <th>2</th>\n",
       "      <td>20이상 30미만</td>\n",
       "      <td>0.92</td>\n",
       "      <td>780</td>\n",
       "    </tr>\n",
       "    <tr>\n",
       "      <th>3</th>\n",
       "      <td>30이상 40미만</td>\n",
       "      <td>0.80</td>\n",
       "      <td>2946</td>\n",
       "    </tr>\n",
       "    <tr>\n",
       "      <th>4</th>\n",
       "      <td>40이상 50미만</td>\n",
       "      <td>0.70</td>\n",
       "      <td>9540</td>\n",
       "    </tr>\n",
       "    <tr>\n",
       "      <th>5</th>\n",
       "      <td>50이상 60미만</td>\n",
       "      <td>0.68</td>\n",
       "      <td>26308</td>\n",
       "    </tr>\n",
       "    <tr>\n",
       "      <th>6</th>\n",
       "      <td>60이상 70미만</td>\n",
       "      <td>0.67</td>\n",
       "      <td>39349</td>\n",
       "    </tr>\n",
       "    <tr>\n",
       "      <th>7</th>\n",
       "      <td>70이상 80미만</td>\n",
       "      <td>0.69</td>\n",
       "      <td>32107</td>\n",
       "    </tr>\n",
       "    <tr>\n",
       "      <th>8</th>\n",
       "      <td>80이상 90미만</td>\n",
       "      <td>0.70</td>\n",
       "      <td>17090</td>\n",
       "    </tr>\n",
       "    <tr>\n",
       "      <th>9</th>\n",
       "      <td>90이상 100미만</td>\n",
       "      <td>0.70</td>\n",
       "      <td>6381</td>\n",
       "    </tr>\n",
       "    <tr>\n",
       "      <th>10</th>\n",
       "      <td>100이상 110미만</td>\n",
       "      <td>0.71</td>\n",
       "      <td>2049</td>\n",
       "    </tr>\n",
       "    <tr>\n",
       "      <th>11</th>\n",
       "      <td>110이상 120미만</td>\n",
       "      <td>0.74</td>\n",
       "      <td>481</td>\n",
       "    </tr>\n",
       "    <tr>\n",
       "      <th>12</th>\n",
       "      <td>총합</td>\n",
       "      <td>NaN</td>\n",
       "      <td>137148</td>\n",
       "    </tr>\n",
       "  </tbody>\n",
       "</table>\n",
       "</div>"
      ],
      "text/plain": [
       "       속도(km/h)  매연RSD_평균    측정건수\n",
       "0      0이상 10미만      0.81      45\n",
       "1     10이상 20미만      0.76      72\n",
       "2     20이상 30미만      0.92     780\n",
       "3     30이상 40미만      0.80    2946\n",
       "4     40이상 50미만      0.70    9540\n",
       "5     50이상 60미만      0.68   26308\n",
       "6     60이상 70미만      0.67   39349\n",
       "7     70이상 80미만      0.69   32107\n",
       "8     80이상 90미만      0.70   17090\n",
       "9    90이상 100미만      0.70    6381\n",
       "10  100이상 110미만      0.71    2049\n",
       "11  110이상 120미만      0.74     481\n",
       "12           총합       NaN  137148"
      ]
     },
     "execution_count": 1304,
     "metadata": {},
     "output_type": "execute_result"
    }
   ],
   "source": [
    "grp5 = die.groupby(['속도구분인덱스', '속도구분'], dropna=False).agg({'매연':'mean', '차량번호':'count'}).reset_index()\n",
    "grp5['매연'] = grp5['매연'].round(2)\n",
    "grp5 = grp5.rename(columns={'매연':'매연RSD_평균', '차량번호':'측정건수', '속도구분':'속도(km/h)'})\n",
    "grp5.loc[grp5.shape[0]] = [grp5['속도구분인덱스'].max() + 1, '총합', np.nan, grp5['측정건수'].sum()]\n",
    "grp5 = grp5.drop('속도구분인덱스', axis=1)\n",
    "grp5"
   ]
  },
  {
   "cell_type": "markdown",
   "metadata": {},
   "source": [
    "### 6\\. 경유 > 배출가스등급별 매연RSD 측정 평균, 건수\n",
    "- T3 등급 제외"
   ]
  },
  {
   "cell_type": "code",
   "execution_count": 1305,
   "metadata": {},
   "outputs": [
    {
     "data": {
      "text/html": [
       "<div>\n",
       "<style scoped>\n",
       "    .dataframe tbody tr th:only-of-type {\n",
       "        vertical-align: middle;\n",
       "    }\n",
       "\n",
       "    .dataframe tbody tr th {\n",
       "        vertical-align: top;\n",
       "    }\n",
       "\n",
       "    .dataframe thead th {\n",
       "        text-align: right;\n",
       "    }\n",
       "</style>\n",
       "<table border=\"1\" class=\"dataframe\">\n",
       "  <thead>\n",
       "    <tr style=\"text-align: right;\">\n",
       "      <th></th>\n",
       "      <th>등급</th>\n",
       "      <th>매연RSD_평균</th>\n",
       "      <th>측정건수</th>\n",
       "    </tr>\n",
       "  </thead>\n",
       "  <tbody>\n",
       "    <tr>\n",
       "      <th>0</th>\n",
       "      <td>3</td>\n",
       "      <td>0.67</td>\n",
       "      <td>117958</td>\n",
       "    </tr>\n",
       "    <tr>\n",
       "      <th>1</th>\n",
       "      <td>4</td>\n",
       "      <td>0.83</td>\n",
       "      <td>10081</td>\n",
       "    </tr>\n",
       "    <tr>\n",
       "      <th>2</th>\n",
       "      <td>5</td>\n",
       "      <td>0.85</td>\n",
       "      <td>3156</td>\n",
       "    </tr>\n",
       "    <tr>\n",
       "      <th>3</th>\n",
       "      <td>T3</td>\n",
       "      <td>0.63</td>\n",
       "      <td>5912</td>\n",
       "    </tr>\n",
       "    <tr>\n",
       "      <th>4</th>\n",
       "      <td>X</td>\n",
       "      <td>0.58</td>\n",
       "      <td>41</td>\n",
       "    </tr>\n",
       "    <tr>\n",
       "      <th>5</th>\n",
       "      <td>총합</td>\n",
       "      <td>NaN</td>\n",
       "      <td>137148</td>\n",
       "    </tr>\n",
       "  </tbody>\n",
       "</table>\n",
       "</div>"
      ],
      "text/plain": [
       "   등급  매연RSD_평균    측정건수\n",
       "0   3      0.67  117958\n",
       "1   4      0.83   10081\n",
       "2   5      0.85    3156\n",
       "3  T3      0.63    5912\n",
       "4   X      0.58      41\n",
       "5  총합       NaN  137148"
      ]
     },
     "execution_count": 1305,
     "metadata": {},
     "output_type": "execute_result"
    }
   ],
   "source": [
    "grp6 = die.groupby(['등급'], dropna=False).agg({'매연':'mean', '차량번호':'count'}).reset_index()\n",
    "grp6['매연'] = grp6['매연'].round(2)\n",
    "grp6 = grp6.rename(columns={'매연':'매연RSD_평균', '차량번호':'측정건수'})\n",
    "grp6.loc[grp6.shape[0]] = ['총합', np.nan, grp6['측정건수'].sum()]\n",
    "grp6"
   ]
  },
  {
   "cell_type": "markdown",
   "metadata": {},
   "source": [
    "### 7\\. 경유 > 배기량별 매연RSD 측정 평균, 건수"
   ]
  },
  {
   "cell_type": "code",
   "execution_count": 1306,
   "metadata": {},
   "outputs": [
    {
     "data": {
      "text/html": [
       "<div>\n",
       "<style scoped>\n",
       "    .dataframe tbody tr th:only-of-type {\n",
       "        vertical-align: middle;\n",
       "    }\n",
       "\n",
       "    .dataframe tbody tr th {\n",
       "        vertical-align: top;\n",
       "    }\n",
       "\n",
       "    .dataframe thead th {\n",
       "        text-align: right;\n",
       "    }\n",
       "</style>\n",
       "<table border=\"1\" class=\"dataframe\">\n",
       "  <thead>\n",
       "    <tr style=\"text-align: right;\">\n",
       "      <th></th>\n",
       "      <th>배기량(cc)</th>\n",
       "      <th>매연RSD_평균</th>\n",
       "      <th>측정건수</th>\n",
       "    </tr>\n",
       "  </thead>\n",
       "  <tbody>\n",
       "    <tr>\n",
       "      <th>0</th>\n",
       "      <td>1천이상 2천미만</td>\n",
       "      <td>0.68</td>\n",
       "      <td>44454</td>\n",
       "    </tr>\n",
       "    <tr>\n",
       "      <th>1</th>\n",
       "      <td>2천이상 3천미만</td>\n",
       "      <td>0.69</td>\n",
       "      <td>77609</td>\n",
       "    </tr>\n",
       "    <tr>\n",
       "      <th>2</th>\n",
       "      <td>3천이상 4천미만</td>\n",
       "      <td>0.77</td>\n",
       "      <td>5789</td>\n",
       "    </tr>\n",
       "    <tr>\n",
       "      <th>3</th>\n",
       "      <td>4천이상 5천미만</td>\n",
       "      <td>0.66</td>\n",
       "      <td>305</td>\n",
       "    </tr>\n",
       "    <tr>\n",
       "      <th>4</th>\n",
       "      <td>5천이상 6천미만</td>\n",
       "      <td>0.55</td>\n",
       "      <td>1833</td>\n",
       "    </tr>\n",
       "    <tr>\n",
       "      <th>5</th>\n",
       "      <td>6천이상 7천미만</td>\n",
       "      <td>0.62</td>\n",
       "      <td>3024</td>\n",
       "    </tr>\n",
       "    <tr>\n",
       "      <th>6</th>\n",
       "      <td>7천이상 8천미만</td>\n",
       "      <td>0.66</td>\n",
       "      <td>147</td>\n",
       "    </tr>\n",
       "    <tr>\n",
       "      <th>7</th>\n",
       "      <td>8천이상 9천미만</td>\n",
       "      <td>0.58</td>\n",
       "      <td>350</td>\n",
       "    </tr>\n",
       "    <tr>\n",
       "      <th>8</th>\n",
       "      <td>9천이상 10천미만</td>\n",
       "      <td>1.11</td>\n",
       "      <td>1320</td>\n",
       "    </tr>\n",
       "    <tr>\n",
       "      <th>9</th>\n",
       "      <td>10천이상 11천미만</td>\n",
       "      <td>0.33</td>\n",
       "      <td>316</td>\n",
       "    </tr>\n",
       "    <tr>\n",
       "      <th>10</th>\n",
       "      <td>11천이상 12천미만</td>\n",
       "      <td>0.52</td>\n",
       "      <td>220</td>\n",
       "    </tr>\n",
       "    <tr>\n",
       "      <th>11</th>\n",
       "      <td>12천이상 13천미만</td>\n",
       "      <td>0.74</td>\n",
       "      <td>1722</td>\n",
       "    </tr>\n",
       "    <tr>\n",
       "      <th>12</th>\n",
       "      <td>14천이상 15천미만</td>\n",
       "      <td>0.00</td>\n",
       "      <td>9</td>\n",
       "    </tr>\n",
       "    <tr>\n",
       "      <th>13</th>\n",
       "      <td>15천이상 16천미만</td>\n",
       "      <td>0.33</td>\n",
       "      <td>16</td>\n",
       "    </tr>\n",
       "    <tr>\n",
       "      <th>14</th>\n",
       "      <td>16천이상 17천미만</td>\n",
       "      <td>0.30</td>\n",
       "      <td>34</td>\n",
       "    </tr>\n",
       "    <tr>\n",
       "      <th>15</th>\n",
       "      <td>총합</td>\n",
       "      <td>NaN</td>\n",
       "      <td>137148</td>\n",
       "    </tr>\n",
       "  </tbody>\n",
       "</table>\n",
       "</div>"
      ],
      "text/plain": [
       "        배기량(cc)  매연RSD_평균    측정건수\n",
       "0     1천이상 2천미만      0.68   44454\n",
       "1     2천이상 3천미만      0.69   77609\n",
       "2     3천이상 4천미만      0.77    5789\n",
       "3     4천이상 5천미만      0.66     305\n",
       "4     5천이상 6천미만      0.55    1833\n",
       "5     6천이상 7천미만      0.62    3024\n",
       "6     7천이상 8천미만      0.66     147\n",
       "7     8천이상 9천미만      0.58     350\n",
       "8    9천이상 10천미만      1.11    1320\n",
       "9   10천이상 11천미만      0.33     316\n",
       "10  11천이상 12천미만      0.52     220\n",
       "11  12천이상 13천미만      0.74    1722\n",
       "12  14천이상 15천미만      0.00       9\n",
       "13  15천이상 16천미만      0.33      16\n",
       "14  16천이상 17천미만      0.30      34\n",
       "15           총합       NaN  137148"
      ]
     },
     "execution_count": 1306,
     "metadata": {},
     "output_type": "execute_result"
    }
   ],
   "source": [
    "grp7 = die.groupby(['배기량구분인덱스', '배기량구분'], dropna=False).agg({'매연':'mean', '차량번호':'count'}).reset_index()\n",
    "grp7['매연'] = grp7['매연'].round(2)\n",
    "grp7 = grp7.rename(columns={'매연':'매연RSD_평균', '차량번호':'측정건수', '배기량구분':'배기량(cc)'})\n",
    "grp7.loc[grp7.shape[0]] = [grp7['배기량구분인덱스'].max() + 1, '총합', np.nan, grp7['측정건수'].sum()]\n",
    "grp7 = grp7.drop('배기량구분인덱스', axis=1)\n",
    "grp7    "
   ]
  },
  {
   "cell_type": "markdown",
   "metadata": {},
   "source": [
    "### 8\\. 경유 > 차량중량별 매연RSD 측정 평균, 건수"
   ]
  },
  {
   "cell_type": "code",
   "execution_count": 1307,
   "metadata": {},
   "outputs": [
    {
     "data": {
      "text/html": [
       "<div>\n",
       "<style scoped>\n",
       "    .dataframe tbody tr th:only-of-type {\n",
       "        vertical-align: middle;\n",
       "    }\n",
       "\n",
       "    .dataframe tbody tr th {\n",
       "        vertical-align: top;\n",
       "    }\n",
       "\n",
       "    .dataframe thead th {\n",
       "        text-align: right;\n",
       "    }\n",
       "</style>\n",
       "<table border=\"1\" class=\"dataframe\">\n",
       "  <thead>\n",
       "    <tr style=\"text-align: right;\">\n",
       "      <th></th>\n",
       "      <th>차량중량구분</th>\n",
       "      <th>매연RSD_평균</th>\n",
       "      <th>측정건수</th>\n",
       "    </tr>\n",
       "  </thead>\n",
       "  <tbody>\n",
       "    <tr>\n",
       "      <th>0</th>\n",
       "      <td>1천이상 2천미만</td>\n",
       "      <td>0.67</td>\n",
       "      <td>22182</td>\n",
       "    </tr>\n",
       "    <tr>\n",
       "      <th>1</th>\n",
       "      <td>2천이상 3천미만</td>\n",
       "      <td>0.70</td>\n",
       "      <td>73922</td>\n",
       "    </tr>\n",
       "    <tr>\n",
       "      <th>2</th>\n",
       "      <td>3천이상 4천미만</td>\n",
       "      <td>0.67</td>\n",
       "      <td>25866</td>\n",
       "    </tr>\n",
       "    <tr>\n",
       "      <th>3</th>\n",
       "      <td>4천이상 5천미만</td>\n",
       "      <td>0.75</td>\n",
       "      <td>31</td>\n",
       "    </tr>\n",
       "    <tr>\n",
       "      <th>4</th>\n",
       "      <td>5천이상 6천미만</td>\n",
       "      <td>0.81</td>\n",
       "      <td>2305</td>\n",
       "    </tr>\n",
       "    <tr>\n",
       "      <th>5</th>\n",
       "      <td>6천이상 7천미만</td>\n",
       "      <td>0.87</td>\n",
       "      <td>967</td>\n",
       "    </tr>\n",
       "    <tr>\n",
       "      <th>6</th>\n",
       "      <td>7천이상 8천미만</td>\n",
       "      <td>0.68</td>\n",
       "      <td>2341</td>\n",
       "    </tr>\n",
       "    <tr>\n",
       "      <th>7</th>\n",
       "      <td>8천이상 9천미만</td>\n",
       "      <td>0.65</td>\n",
       "      <td>549</td>\n",
       "    </tr>\n",
       "    <tr>\n",
       "      <th>8</th>\n",
       "      <td>9천이상 10천미만</td>\n",
       "      <td>0.95</td>\n",
       "      <td>370</td>\n",
       "    </tr>\n",
       "    <tr>\n",
       "      <th>9</th>\n",
       "      <td>10천이상 11천미만</td>\n",
       "      <td>0.80</td>\n",
       "      <td>1221</td>\n",
       "    </tr>\n",
       "    <tr>\n",
       "      <th>10</th>\n",
       "      <td>11천이상 12천미만</td>\n",
       "      <td>0.55</td>\n",
       "      <td>930</td>\n",
       "    </tr>\n",
       "    <tr>\n",
       "      <th>11</th>\n",
       "      <td>12천이상 13천미만</td>\n",
       "      <td>0.45</td>\n",
       "      <td>712</td>\n",
       "    </tr>\n",
       "    <tr>\n",
       "      <th>12</th>\n",
       "      <td>13천이상 14천미만</td>\n",
       "      <td>0.83</td>\n",
       "      <td>1259</td>\n",
       "    </tr>\n",
       "    <tr>\n",
       "      <th>13</th>\n",
       "      <td>14천이상 15천미만</td>\n",
       "      <td>0.89</td>\n",
       "      <td>1366</td>\n",
       "    </tr>\n",
       "    <tr>\n",
       "      <th>14</th>\n",
       "      <td>15천이상 16천미만</td>\n",
       "      <td>0.98</td>\n",
       "      <td>1183</td>\n",
       "    </tr>\n",
       "    <tr>\n",
       "      <th>15</th>\n",
       "      <td>16천이상 17천미만</td>\n",
       "      <td>0.42</td>\n",
       "      <td>259</td>\n",
       "    </tr>\n",
       "    <tr>\n",
       "      <th>16</th>\n",
       "      <td>17천이상 18천미만</td>\n",
       "      <td>0.42</td>\n",
       "      <td>82</td>\n",
       "    </tr>\n",
       "    <tr>\n",
       "      <th>17</th>\n",
       "      <td>18천이상 19천미만</td>\n",
       "      <td>0.37</td>\n",
       "      <td>50</td>\n",
       "    </tr>\n",
       "    <tr>\n",
       "      <th>18</th>\n",
       "      <td>19천이상 20천미만</td>\n",
       "      <td>0.19</td>\n",
       "      <td>36</td>\n",
       "    </tr>\n",
       "    <tr>\n",
       "      <th>19</th>\n",
       "      <td>20천이상 21천미만</td>\n",
       "      <td>0.47</td>\n",
       "      <td>15</td>\n",
       "    </tr>\n",
       "    <tr>\n",
       "      <th>20</th>\n",
       "      <td>21천이상 22천미만</td>\n",
       "      <td>0.63</td>\n",
       "      <td>28</td>\n",
       "    </tr>\n",
       "    <tr>\n",
       "      <th>21</th>\n",
       "      <td>22천이상 23천미만</td>\n",
       "      <td>0.34</td>\n",
       "      <td>49</td>\n",
       "    </tr>\n",
       "    <tr>\n",
       "      <th>22</th>\n",
       "      <td>23천이상 24천미만</td>\n",
       "      <td>0.10</td>\n",
       "      <td>16</td>\n",
       "    </tr>\n",
       "    <tr>\n",
       "      <th>23</th>\n",
       "      <td>24천이상 25천미만</td>\n",
       "      <td>0.13</td>\n",
       "      <td>38</td>\n",
       "    </tr>\n",
       "    <tr>\n",
       "      <th>24</th>\n",
       "      <td>25천이상 26천미만</td>\n",
       "      <td>0.25</td>\n",
       "      <td>273</td>\n",
       "    </tr>\n",
       "    <tr>\n",
       "      <th>25</th>\n",
       "      <td>26천이상 27천미만</td>\n",
       "      <td>0.29</td>\n",
       "      <td>124</td>\n",
       "    </tr>\n",
       "    <tr>\n",
       "      <th>26</th>\n",
       "      <td>27천이상 28천미만</td>\n",
       "      <td>0.33</td>\n",
       "      <td>36</td>\n",
       "    </tr>\n",
       "    <tr>\n",
       "      <th>27</th>\n",
       "      <td>28천이상 29천미만</td>\n",
       "      <td>0.00</td>\n",
       "      <td>5</td>\n",
       "    </tr>\n",
       "    <tr>\n",
       "      <th>28</th>\n",
       "      <td>29천이상 30천미만</td>\n",
       "      <td>0.23</td>\n",
       "      <td>19</td>\n",
       "    </tr>\n",
       "    <tr>\n",
       "      <th>29</th>\n",
       "      <td>30천이상 31천미만</td>\n",
       "      <td>0.15</td>\n",
       "      <td>11</td>\n",
       "    </tr>\n",
       "    <tr>\n",
       "      <th>30</th>\n",
       "      <td>31천이상 32천미만</td>\n",
       "      <td>0.06</td>\n",
       "      <td>14</td>\n",
       "    </tr>\n",
       "    <tr>\n",
       "      <th>31</th>\n",
       "      <td>32천이상 33천미만</td>\n",
       "      <td>0.00</td>\n",
       "      <td>1</td>\n",
       "    </tr>\n",
       "    <tr>\n",
       "      <th>32</th>\n",
       "      <td>33천이상 34천미만</td>\n",
       "      <td>0.06</td>\n",
       "      <td>7</td>\n",
       "    </tr>\n",
       "    <tr>\n",
       "      <th>33</th>\n",
       "      <td>34천이상 35천미만</td>\n",
       "      <td>0.72</td>\n",
       "      <td>13</td>\n",
       "    </tr>\n",
       "    <tr>\n",
       "      <th>34</th>\n",
       "      <td>35천이상 36천미만</td>\n",
       "      <td>0.32</td>\n",
       "      <td>115</td>\n",
       "    </tr>\n",
       "    <tr>\n",
       "      <th>35</th>\n",
       "      <td>36천이상 37천미만</td>\n",
       "      <td>0.58</td>\n",
       "      <td>32</td>\n",
       "    </tr>\n",
       "    <tr>\n",
       "      <th>36</th>\n",
       "      <td>37천이상 38천미만</td>\n",
       "      <td>0.29</td>\n",
       "      <td>79</td>\n",
       "    </tr>\n",
       "    <tr>\n",
       "      <th>37</th>\n",
       "      <td>38천이상 39천미만</td>\n",
       "      <td>0.20</td>\n",
       "      <td>286</td>\n",
       "    </tr>\n",
       "    <tr>\n",
       "      <th>38</th>\n",
       "      <td>39천이상 40천미만</td>\n",
       "      <td>0.32</td>\n",
       "      <td>356</td>\n",
       "    </tr>\n",
       "    <tr>\n",
       "      <th>39</th>\n",
       "      <td>총합</td>\n",
       "      <td>NaN</td>\n",
       "      <td>137148</td>\n",
       "    </tr>\n",
       "  </tbody>\n",
       "</table>\n",
       "</div>"
      ],
      "text/plain": [
       "         차량중량구분  매연RSD_평균    측정건수\n",
       "0     1천이상 2천미만      0.67   22182\n",
       "1     2천이상 3천미만      0.70   73922\n",
       "2     3천이상 4천미만      0.67   25866\n",
       "3     4천이상 5천미만      0.75      31\n",
       "4     5천이상 6천미만      0.81    2305\n",
       "5     6천이상 7천미만      0.87     967\n",
       "6     7천이상 8천미만      0.68    2341\n",
       "7     8천이상 9천미만      0.65     549\n",
       "8    9천이상 10천미만      0.95     370\n",
       "9   10천이상 11천미만      0.80    1221\n",
       "10  11천이상 12천미만      0.55     930\n",
       "11  12천이상 13천미만      0.45     712\n",
       "12  13천이상 14천미만      0.83    1259\n",
       "13  14천이상 15천미만      0.89    1366\n",
       "14  15천이상 16천미만      0.98    1183\n",
       "15  16천이상 17천미만      0.42     259\n",
       "16  17천이상 18천미만      0.42      82\n",
       "17  18천이상 19천미만      0.37      50\n",
       "18  19천이상 20천미만      0.19      36\n",
       "19  20천이상 21천미만      0.47      15\n",
       "20  21천이상 22천미만      0.63      28\n",
       "21  22천이상 23천미만      0.34      49\n",
       "22  23천이상 24천미만      0.10      16\n",
       "23  24천이상 25천미만      0.13      38\n",
       "24  25천이상 26천미만      0.25     273\n",
       "25  26천이상 27천미만      0.29     124\n",
       "26  27천이상 28천미만      0.33      36\n",
       "27  28천이상 29천미만      0.00       5\n",
       "28  29천이상 30천미만      0.23      19\n",
       "29  30천이상 31천미만      0.15      11\n",
       "30  31천이상 32천미만      0.06      14\n",
       "31  32천이상 33천미만      0.00       1\n",
       "32  33천이상 34천미만      0.06       7\n",
       "33  34천이상 35천미만      0.72      13\n",
       "34  35천이상 36천미만      0.32     115\n",
       "35  36천이상 37천미만      0.58      32\n",
       "36  37천이상 38천미만      0.29      79\n",
       "37  38천이상 39천미만      0.20     286\n",
       "38  39천이상 40천미만      0.32     356\n",
       "39           총합       NaN  137148"
      ]
     },
     "execution_count": 1307,
     "metadata": {},
     "output_type": "execute_result"
    }
   ],
   "source": [
    "grp8 = die.groupby(['총중량구분인덱스', '총중량구분'], dropna=False).agg({'매연':'mean', '차량번호':'count'}).reset_index()\n",
    "grp8['매연'] = grp8['매연'].round(2)\n",
    "grp8 = grp8.rename(columns={'총중량구분':'차량중량구분', '매연':'매연RSD_평균', '차량번호':'측정건수'})\n",
    "grp8.loc[grp8.shape[0]] = [grp8['총중량구분인덱스'].max() + 1, '총합', np.nan, grp8['측정건수'].sum()]\n",
    "grp8 = grp8.drop('총중량구분인덱스', axis=1)\n",
    "grp8    "
   ]
  },
  {
   "cell_type": "markdown",
   "metadata": {},
   "source": [
    "### 9\\. 경유 > 종합검사 매연허용기준별\n",
    "- 매연허용치 8미만 제외\n",
    "- 4륜 자동차의 경유 검사장비가 없어서 정기검사(무부하)만 가능함으로 정기검사 기준이 기록됨.(2023.09.20, 최이사님)"
   ]
  },
  {
   "cell_type": "code",
   "execution_count": 1308,
   "metadata": {},
   "outputs": [
    {
     "data": {
      "text/plain": [
       "Index(['측정날짜', '측정시간', '기록상태', '유효', '속도', '가속도', '플래그', 'VSP', '매연', '차량번호',\n",
       "       '차선번호', '풍속', '습도', '온도', '측정장소코드', '연료', '연식', '배기량', '차종', '총중량',\n",
       "       '엔진형식', '등급', '차대번호', '차명', '폐차여부', '정밀검사일자', '정밀검사종류', '관능검사판정',\n",
       "       '정밀검사판정', '정밀검사측정방법', '무부하매연측정치1', '무부하매연허용치1', '무부하매연판정1', '무부하매연측정치2',\n",
       "       '무부하매연허용치2', '무부하매연판정2', '무부하매연측정치3', '무부하매연허용치3', '무부하매연판정3',\n",
       "       '무부하매연측정치4', '무부하매연허용치4', '무부하매연판정4', '무부하매연측정치5', '무부하매연허용치5',\n",
       "       '무부하매연판정5', '무부하매연측정치6', '무부하매연허용치6', '무부하매연판정6', '속도구분', '속도구분인덱스',\n",
       "       '배기량구분', '배기량구분인덱스', '총중량구분', '총중량구분인덱스', '매연구분', '매연구분인덱스', '연식구분'],\n",
       "      dtype='object')"
      ]
     },
     "execution_count": 1308,
     "metadata": {},
     "output_type": "execute_result"
    }
   ],
   "source": [
    "die.columns"
   ]
  },
  {
   "cell_type": "code",
   "execution_count": 1309,
   "metadata": {},
   "outputs": [],
   "source": [
    "# die['차량제작일자'].dtype"
   ]
  },
  {
   "cell_type": "code",
   "execution_count": 1310,
   "metadata": {},
   "outputs": [],
   "source": [
    "# die['차량제작일자'] = pd.to_datetime(die['차량제작일자'], format=\"%Y%m%d\", errors='coerce')\n",
    "# die['차량제작일자'].isnull().sum()"
   ]
  },
  {
   "cell_type": "code",
   "execution_count": 1311,
   "metadata": {},
   "outputs": [],
   "source": [
    "# die['차량제작일자'].head()"
   ]
  },
  {
   "cell_type": "code",
   "execution_count": 1312,
   "metadata": {},
   "outputs": [],
   "source": [
    "# die.loc[die['차량제작일자'] == '20170904', '차량제작일자'].head()"
   ]
  },
  {
   "cell_type": "code",
   "execution_count": 1313,
   "metadata": {},
   "outputs": [],
   "source": [
    "# die.loc[die['차량제작일자'] == '2017-09-04', '차량제작일자'].head()"
   ]
  },
  {
   "cell_type": "code",
   "execution_count": 1314,
   "metadata": {},
   "outputs": [],
   "source": [
    "# die.loc[die['차량제작일자'] > '2017-09-04', '차량제작일자'].head()"
   ]
  },
  {
   "cell_type": "code",
   "execution_count": 1315,
   "metadata": {},
   "outputs": [
    {
     "data": {
      "text/plain": [
       "array([nan, '부하검사(KD-147)', '무부하검사(급가속)', '부하검사(LUG DOWN)',\n",
       "       '부하검사(ASM-Idling)'], dtype=object)"
      ]
     },
     "execution_count": 1315,
     "metadata": {},
     "output_type": "execute_result"
    }
   ],
   "source": [
    "die['정밀검사측정방법'].unique()"
   ]
  },
  {
   "cell_type": "code",
   "execution_count": 1316,
   "metadata": {},
   "outputs": [
    {
     "data": {
      "text/plain": [
       "정밀검사측정방법\n",
       "부하검사(KD-147)        63525\n",
       "NaN                 54769\n",
       "무부하검사(급가속)          10094\n",
       "부하검사(LUG DOWN)       8721\n",
       "부하검사(ASM-Idling)       39\n",
       "Name: count, dtype: int64"
      ]
     },
     "execution_count": 1316,
     "metadata": {},
     "output_type": "execute_result"
    }
   ],
   "source": [
    "die['정밀검사측정방법'].value_counts(dropna=False)"
   ]
  },
  {
   "cell_type": "code",
   "execution_count": 1317,
   "metadata": {},
   "outputs": [
    {
     "data": {
      "text/html": [
       "<div>\n",
       "<style scoped>\n",
       "    .dataframe tbody tr th:only-of-type {\n",
       "        vertical-align: middle;\n",
       "    }\n",
       "\n",
       "    .dataframe tbody tr th {\n",
       "        vertical-align: top;\n",
       "    }\n",
       "\n",
       "    .dataframe thead th {\n",
       "        text-align: right;\n",
       "    }\n",
       "</style>\n",
       "<table border=\"1\" class=\"dataframe\">\n",
       "  <thead>\n",
       "    <tr style=\"text-align: right;\">\n",
       "      <th></th>\n",
       "      <th>정밀검사측정방법</th>\n",
       "      <th>무부하매연측정치1</th>\n",
       "      <th>무부하매연허용치1</th>\n",
       "    </tr>\n",
       "  </thead>\n",
       "  <tbody>\n",
       "    <tr>\n",
       "      <th>3</th>\n",
       "      <td>부하검사(KD-147)</td>\n",
       "      <td>0.00</td>\n",
       "      <td>15.00</td>\n",
       "    </tr>\n",
       "    <tr>\n",
       "      <th>4</th>\n",
       "      <td>부하검사(KD-147)</td>\n",
       "      <td>14.00</td>\n",
       "      <td>15.00</td>\n",
       "    </tr>\n",
       "    <tr>\n",
       "      <th>5</th>\n",
       "      <td>부하검사(KD-147)</td>\n",
       "      <td>14.00</td>\n",
       "      <td>15.00</td>\n",
       "    </tr>\n",
       "    <tr>\n",
       "      <th>6</th>\n",
       "      <td>부하검사(KD-147)</td>\n",
       "      <td>12.00</td>\n",
       "      <td>15.00</td>\n",
       "    </tr>\n",
       "    <tr>\n",
       "      <th>7</th>\n",
       "      <td>부하검사(KD-147)</td>\n",
       "      <td>0.00</td>\n",
       "      <td>8.00</td>\n",
       "    </tr>\n",
       "  </tbody>\n",
       "</table>\n",
       "</div>"
      ],
      "text/plain": [
       "       정밀검사측정방법  무부하매연측정치1  무부하매연허용치1\n",
       "3  부하검사(KD-147)       0.00      15.00\n",
       "4  부하검사(KD-147)      14.00      15.00\n",
       "5  부하검사(KD-147)      14.00      15.00\n",
       "6  부하검사(KD-147)      12.00      15.00\n",
       "7  부하검사(KD-147)       0.00       8.00"
      ]
     },
     "execution_count": 1317,
     "metadata": {},
     "output_type": "execute_result"
    }
   ],
   "source": [
    "die.loc[die['정밀검사측정방법'] == '부하검사(KD-147)', ['정밀검사측정방법', '무부하매연측정치1', '무부하매연허용치1']].head()"
   ]
  },
  {
   "cell_type": "code",
   "execution_count": 1318,
   "metadata": {},
   "outputs": [],
   "source": [
    "# die.loc[die['차량제작일자'] <= '1992-12-31', '정밀검사_매연허용치'] = 45\n",
    "# die.loc[(die['차량제작일자'] >= '1993-01-01') & (die['차량제작일자'] <= '1995-12-31'), '정밀검사_매연허용치'] = 40\n",
    "# die.loc[(die['차량제작일자'] >= '1996-01-01') & (die['차량제작일자'] <= '2000-12-31'), '정밀검사_매연허용치'] = 35\n",
    "# die.loc[(die['차량제작일자'] >= '2001-01-01') & (die['차량제작일자'] <= '2007-12-31'), '정밀검사_매연허용치'] = 25\n",
    "# die.loc[(die['차량제작일자'] >= '2008-01-01') & (die['차량제작일자'] <= '2016-08-31'), '정밀검사_매연허용치'] = 15\n",
    "# die.loc[die['차량제작일자'] <= '2018-01-01', '정밀검사_매연허용치'] = 8"
   ]
  },
  {
   "cell_type": "code",
   "execution_count": 1319,
   "metadata": {},
   "outputs": [
    {
     "data": {
      "text/plain": [
       "array([  nan, 15.  ,  8.  , 25.  , 20.  , 10.  , 40.  , 45.  , 35.  ,\n",
       "        3.26,  0.56, 30.  ,  2.18, 50.  ,  2.13,  2.46,  0.49])"
      ]
     },
     "execution_count": 1319,
     "metadata": {},
     "output_type": "execute_result"
    }
   ],
   "source": [
    "die['무부하매연허용치1'].unique()"
   ]
  },
  {
   "cell_type": "code",
   "execution_count": 1320,
   "metadata": {},
   "outputs": [
    {
     "data": {
      "text/plain": [
       "dtype('float64')"
      ]
     },
     "execution_count": 1320,
     "metadata": {},
     "output_type": "execute_result"
    }
   ],
   "source": [
    "die['무부하매연허용치1'].dtype"
   ]
  },
  {
   "cell_type": "code",
   "execution_count": 1321,
   "metadata": {},
   "outputs": [
    {
     "data": {
      "text/plain": [
       "count   81735.00\n",
       "mean       13.77\n",
       "std         4.79\n",
       "min         0.49\n",
       "25%         8.00\n",
       "50%        15.00\n",
       "75%        15.00\n",
       "max        50.00\n",
       "Name: 무부하매연허용치1, dtype: float64"
      ]
     },
     "execution_count": 1321,
     "metadata": {},
     "output_type": "execute_result"
    }
   ],
   "source": [
    "die['무부하매연허용치1'].describe()"
   ]
  },
  {
   "cell_type": "code",
   "execution_count": 1322,
   "metadata": {},
   "outputs": [
    {
     "data": {
      "text/plain": [
       "(81697, 57)"
      ]
     },
     "execution_count": 1322,
     "metadata": {},
     "output_type": "execute_result"
    }
   ],
   "source": [
    "die[die['무부하매연허용치1'] >= 8].shape"
   ]
  },
  {
   "cell_type": "code",
   "execution_count": 1323,
   "metadata": {},
   "outputs": [
    {
     "data": {
      "text/html": [
       "<div>\n",
       "<style scoped>\n",
       "    .dataframe tbody tr th:only-of-type {\n",
       "        vertical-align: middle;\n",
       "    }\n",
       "\n",
       "    .dataframe tbody tr th {\n",
       "        vertical-align: top;\n",
       "    }\n",
       "\n",
       "    .dataframe thead th {\n",
       "        text-align: right;\n",
       "    }\n",
       "</style>\n",
       "<table border=\"1\" class=\"dataframe\">\n",
       "  <thead>\n",
       "    <tr style=\"text-align: right;\">\n",
       "      <th></th>\n",
       "      <th>매연허용기준(%)</th>\n",
       "      <th>매연RSD_평균</th>\n",
       "      <th>측정건수</th>\n",
       "    </tr>\n",
       "  </thead>\n",
       "  <tbody>\n",
       "    <tr>\n",
       "      <th>0</th>\n",
       "      <td>8.00</td>\n",
       "      <td>0.68</td>\n",
       "      <td>24545</td>\n",
       "    </tr>\n",
       "    <tr>\n",
       "      <th>1</th>\n",
       "      <td>10.00</td>\n",
       "      <td>0.64</td>\n",
       "      <td>1918</td>\n",
       "    </tr>\n",
       "    <tr>\n",
       "      <th>2</th>\n",
       "      <td>15.00</td>\n",
       "      <td>0.72</td>\n",
       "      <td>44643</td>\n",
       "    </tr>\n",
       "    <tr>\n",
       "      <th>3</th>\n",
       "      <td>20.00</td>\n",
       "      <td>0.73</td>\n",
       "      <td>5350</td>\n",
       "    </tr>\n",
       "    <tr>\n",
       "      <th>4</th>\n",
       "      <td>25.00</td>\n",
       "      <td>0.75</td>\n",
       "      <td>5091</td>\n",
       "    </tr>\n",
       "    <tr>\n",
       "      <th>5</th>\n",
       "      <td>30.00</td>\n",
       "      <td>1.10</td>\n",
       "      <td>27</td>\n",
       "    </tr>\n",
       "    <tr>\n",
       "      <th>6</th>\n",
       "      <td>35.00</td>\n",
       "      <td>0.40</td>\n",
       "      <td>1</td>\n",
       "    </tr>\n",
       "    <tr>\n",
       "      <th>7</th>\n",
       "      <td>40.00</td>\n",
       "      <td>0.94</td>\n",
       "      <td>65</td>\n",
       "    </tr>\n",
       "    <tr>\n",
       "      <th>8</th>\n",
       "      <td>45.00</td>\n",
       "      <td>0.94</td>\n",
       "      <td>55</td>\n",
       "    </tr>\n",
       "    <tr>\n",
       "      <th>9</th>\n",
       "      <td>50.00</td>\n",
       "      <td>0.50</td>\n",
       "      <td>2</td>\n",
       "    </tr>\n",
       "    <tr>\n",
       "      <th>10</th>\n",
       "      <td>총합</td>\n",
       "      <td>NaN</td>\n",
       "      <td>81697</td>\n",
       "    </tr>\n",
       "  </tbody>\n",
       "</table>\n",
       "</div>"
      ],
      "text/plain": [
       "   매연허용기준(%)  매연RSD_평균   측정건수\n",
       "0       8.00      0.68  24545\n",
       "1      10.00      0.64   1918\n",
       "2      15.00      0.72  44643\n",
       "3      20.00      0.73   5350\n",
       "4      25.00      0.75   5091\n",
       "5      30.00      1.10     27\n",
       "6      35.00      0.40      1\n",
       "7      40.00      0.94     65\n",
       "8      45.00      0.94     55\n",
       "9      50.00      0.50      2\n",
       "10        총합       NaN  81697"
      ]
     },
     "execution_count": 1323,
     "metadata": {},
     "output_type": "execute_result"
    }
   ],
   "source": [
    "grp9 = die[die['무부하매연허용치1'] >= 8].groupby(['무부하매연허용치1'], dropna=False).agg({'매연':'mean', '차량번호':'count'}).reset_index()\n",
    "grp9['매연'] = grp9['매연'].round(2)\n",
    "grp9 = grp9.rename(columns={'무부하매연허용치1':'매연허용기준(%)', '매연':'매연RSD_평균', '차량번호':'측정건수'})\n",
    "grp9.loc[grp9.shape[0]] = ['총합', np.nan, grp9['측정건수'].sum()]\n",
    "grp9"
   ]
  },
  {
   "cell_type": "markdown",
   "metadata": {},
   "source": [
    "### 10\\. 경유 > 종합검사 NOx허용기준별"
   ]
  },
  {
   "cell_type": "code",
   "execution_count": 1324,
   "metadata": {},
   "outputs": [
    {
     "data": {
      "text/plain": [
       "array([  nan,    0.,    8.,   15.,   20.,   25., 2340.,  700.,   30.,\n",
       "       1830.,   50., 1200., 2070.,  580.])"
      ]
     },
     "execution_count": 1324,
     "metadata": {},
     "output_type": "execute_result"
    }
   ],
   "source": [
    "die['무부하매연허용치3'].unique()"
   ]
  },
  {
   "cell_type": "code",
   "execution_count": 1325,
   "metadata": {},
   "outputs": [
    {
     "data": {
      "text/plain": [
       "dtype('float64')"
      ]
     },
     "execution_count": 1325,
     "metadata": {},
     "output_type": "execute_result"
    }
   ],
   "source": [
    "die['무부하매연허용치3'].dtype"
   ]
  },
  {
   "cell_type": "code",
   "execution_count": 1326,
   "metadata": {},
   "outputs": [
    {
     "data": {
      "text/plain": [
       "count   38162.00\n",
       "mean        4.45\n",
       "std        44.94\n",
       "min         0.00\n",
       "25%         0.00\n",
       "50%         0.00\n",
       "75%         0.00\n",
       "max      2340.00\n",
       "Name: 무부하매연허용치3, dtype: float64"
      ]
     },
     "execution_count": 1326,
     "metadata": {},
     "output_type": "execute_result"
    }
   ],
   "source": [
    "die['무부하매연허용치3'].describe()"
   ]
  },
  {
   "cell_type": "code",
   "execution_count": 1327,
   "metadata": {},
   "outputs": [
    {
     "data": {
      "text/html": [
       "<div>\n",
       "<style scoped>\n",
       "    .dataframe tbody tr th:only-of-type {\n",
       "        vertical-align: middle;\n",
       "    }\n",
       "\n",
       "    .dataframe tbody tr th {\n",
       "        vertical-align: top;\n",
       "    }\n",
       "\n",
       "    .dataframe thead th {\n",
       "        text-align: right;\n",
       "    }\n",
       "</style>\n",
       "<table border=\"1\" class=\"dataframe\">\n",
       "  <thead>\n",
       "    <tr style=\"text-align: right;\">\n",
       "      <th></th>\n",
       "      <th>NOx허용기준(ppm)</th>\n",
       "      <th>매연RSD_평균</th>\n",
       "      <th>측정건수</th>\n",
       "    </tr>\n",
       "  </thead>\n",
       "  <tbody>\n",
       "    <tr>\n",
       "      <th>0</th>\n",
       "      <td>0.00</td>\n",
       "      <td>0.70</td>\n",
       "      <td>29427</td>\n",
       "    </tr>\n",
       "    <tr>\n",
       "      <th>1</th>\n",
       "      <td>8.00</td>\n",
       "      <td>0.79</td>\n",
       "      <td>2264</td>\n",
       "    </tr>\n",
       "    <tr>\n",
       "      <th>2</th>\n",
       "      <td>15.00</td>\n",
       "      <td>0.74</td>\n",
       "      <td>5359</td>\n",
       "    </tr>\n",
       "    <tr>\n",
       "      <th>3</th>\n",
       "      <td>20.00</td>\n",
       "      <td>0.76</td>\n",
       "      <td>964</td>\n",
       "    </tr>\n",
       "    <tr>\n",
       "      <th>4</th>\n",
       "      <td>25.00</td>\n",
       "      <td>0.96</td>\n",
       "      <td>81</td>\n",
       "    </tr>\n",
       "    <tr>\n",
       "      <th>5</th>\n",
       "      <td>30.00</td>\n",
       "      <td>1.10</td>\n",
       "      <td>27</td>\n",
       "    </tr>\n",
       "    <tr>\n",
       "      <th>6</th>\n",
       "      <td>50.00</td>\n",
       "      <td>0.50</td>\n",
       "      <td>2</td>\n",
       "    </tr>\n",
       "    <tr>\n",
       "      <th>7</th>\n",
       "      <td>580.00</td>\n",
       "      <td>0.90</td>\n",
       "      <td>1</td>\n",
       "    </tr>\n",
       "    <tr>\n",
       "      <th>8</th>\n",
       "      <td>700.00</td>\n",
       "      <td>0.72</td>\n",
       "      <td>14</td>\n",
       "    </tr>\n",
       "    <tr>\n",
       "      <th>9</th>\n",
       "      <td>1200.00</td>\n",
       "      <td>0.44</td>\n",
       "      <td>8</td>\n",
       "    </tr>\n",
       "    <tr>\n",
       "      <th>10</th>\n",
       "      <td>1830.00</td>\n",
       "      <td>0.85</td>\n",
       "      <td>10</td>\n",
       "    </tr>\n",
       "    <tr>\n",
       "      <th>11</th>\n",
       "      <td>2070.00</td>\n",
       "      <td>0.00</td>\n",
       "      <td>3</td>\n",
       "    </tr>\n",
       "    <tr>\n",
       "      <th>12</th>\n",
       "      <td>2340.00</td>\n",
       "      <td>0.95</td>\n",
       "      <td>2</td>\n",
       "    </tr>\n",
       "    <tr>\n",
       "      <th>13</th>\n",
       "      <td>NaN</td>\n",
       "      <td>0.68</td>\n",
       "      <td>98986</td>\n",
       "    </tr>\n",
       "    <tr>\n",
       "      <th>14</th>\n",
       "      <td>총합</td>\n",
       "      <td>NaN</td>\n",
       "      <td>137148</td>\n",
       "    </tr>\n",
       "  </tbody>\n",
       "</table>\n",
       "</div>"
      ],
      "text/plain": [
       "   NOx허용기준(ppm)  매연RSD_평균    측정건수\n",
       "0          0.00      0.70   29427\n",
       "1          8.00      0.79    2264\n",
       "2         15.00      0.74    5359\n",
       "3         20.00      0.76     964\n",
       "4         25.00      0.96      81\n",
       "5         30.00      1.10      27\n",
       "6         50.00      0.50       2\n",
       "7        580.00      0.90       1\n",
       "8        700.00      0.72      14\n",
       "9       1200.00      0.44       8\n",
       "10      1830.00      0.85      10\n",
       "11      2070.00      0.00       3\n",
       "12      2340.00      0.95       2\n",
       "13          NaN      0.68   98986\n",
       "14           총합       NaN  137148"
      ]
     },
     "execution_count": 1327,
     "metadata": {},
     "output_type": "execute_result"
    }
   ],
   "source": [
    "grp10 = die.groupby(['무부하매연허용치3'], dropna=False).agg({'매연':'mean', '차량번호':'count'}).reset_index()\n",
    "grp10['매연'] = grp10['매연'].round(2)\n",
    "grp10 = grp10.rename(columns={'무부하매연허용치3':'NOx허용기준(ppm)', '매연':'매연RSD_평균', '차량번호':'측정건수'})\n",
    "grp10.loc[grp10.shape[0]] = ['총합', np.nan, grp10['측정건수'].sum()]\n",
    "grp10"
   ]
  },
  {
   "cell_type": "markdown",
   "metadata": {},
   "source": [
    "## 매연RSD 매연농도별 측정건수 분포\n",
    "- 농도별(0.5단위) : 0 이상 0.5미만, …"
   ]
  },
  {
   "cell_type": "markdown",
   "metadata": {},
   "source": [
    "### 11\\. RSD 매연 농도별 데이터 수량"
   ]
  },
  {
   "cell_type": "code",
   "execution_count": 1328,
   "metadata": {},
   "outputs": [
    {
     "data": {
      "text/html": [
       "<div>\n",
       "<style scoped>\n",
       "    .dataframe tbody tr th:only-of-type {\n",
       "        vertical-align: middle;\n",
       "    }\n",
       "\n",
       "    .dataframe tbody tr th {\n",
       "        vertical-align: top;\n",
       "    }\n",
       "\n",
       "    .dataframe thead th {\n",
       "        text-align: right;\n",
       "    }\n",
       "</style>\n",
       "<table border=\"1\" class=\"dataframe\">\n",
       "  <thead>\n",
       "    <tr style=\"text-align: right;\">\n",
       "      <th></th>\n",
       "      <th>매연(%)</th>\n",
       "      <th>측정건수</th>\n",
       "    </tr>\n",
       "  </thead>\n",
       "  <tbody>\n",
       "    <tr>\n",
       "      <th>0</th>\n",
       "      <td>0이상 0.5미만</td>\n",
       "      <td>69267</td>\n",
       "    </tr>\n",
       "    <tr>\n",
       "      <th>1</th>\n",
       "      <td>0.5이상 1.0미만</td>\n",
       "      <td>34852</td>\n",
       "    </tr>\n",
       "    <tr>\n",
       "      <th>2</th>\n",
       "      <td>1.0이상 1.5미만</td>\n",
       "      <td>15738</td>\n",
       "    </tr>\n",
       "    <tr>\n",
       "      <th>3</th>\n",
       "      <td>1.5이상 2.0미만</td>\n",
       "      <td>6566</td>\n",
       "    </tr>\n",
       "    <tr>\n",
       "      <th>4</th>\n",
       "      <td>2.0이상 2.5미만</td>\n",
       "      <td>3521</td>\n",
       "    </tr>\n",
       "    <tr>\n",
       "      <th>5</th>\n",
       "      <td>2.5이상 3.0미만</td>\n",
       "      <td>2303</td>\n",
       "    </tr>\n",
       "    <tr>\n",
       "      <th>6</th>\n",
       "      <td>3.0이상 3.5미만</td>\n",
       "      <td>1579</td>\n",
       "    </tr>\n",
       "    <tr>\n",
       "      <th>7</th>\n",
       "      <td>3.5이상 4.0미만</td>\n",
       "      <td>1253</td>\n",
       "    </tr>\n",
       "    <tr>\n",
       "      <th>8</th>\n",
       "      <td>4.0이상 4.5미만</td>\n",
       "      <td>1037</td>\n",
       "    </tr>\n",
       "    <tr>\n",
       "      <th>9</th>\n",
       "      <td>4.5이상</td>\n",
       "      <td>1032</td>\n",
       "    </tr>\n",
       "    <tr>\n",
       "      <th>10</th>\n",
       "      <td>총합</td>\n",
       "      <td>137148</td>\n",
       "    </tr>\n",
       "  </tbody>\n",
       "</table>\n",
       "</div>"
      ],
      "text/plain": [
       "          매연(%)    측정건수\n",
       "0     0이상 0.5미만   69267\n",
       "1   0.5이상 1.0미만   34852\n",
       "2   1.0이상 1.5미만   15738\n",
       "3   1.5이상 2.0미만    6566\n",
       "4   2.0이상 2.5미만    3521\n",
       "5   2.5이상 3.0미만    2303\n",
       "6   3.0이상 3.5미만    1579\n",
       "7   3.5이상 4.0미만    1253\n",
       "8   4.0이상 4.5미만    1037\n",
       "9         4.5이상    1032\n",
       "10           총합  137148"
      ]
     },
     "execution_count": 1328,
     "metadata": {},
     "output_type": "execute_result"
    }
   ],
   "source": [
    "grp11 = die.groupby(['매연구분인덱스', '매연구분'], dropna=False).agg({'차량번호':'count'}).reset_index()\n",
    "grp11 = grp11.rename(columns={'차량번호':'측정건수', '매연구분':'매연(%)'})\n",
    "grp11.loc[grp11.shape[0]] = [grp11['매연구분인덱스'].max() + 1, '총합', grp11['측정건수'].sum()]\n",
    "grp11 = grp11.drop('매연구분인덱스', axis=1)\n",
    "grp11"
   ]
  },
  {
   "cell_type": "markdown",
   "metadata": {},
   "source": [
    "### 12\\. RSD 매연 농도, 차종별 데이터 수량"
   ]
  },
  {
   "cell_type": "code",
   "execution_count": 1329,
   "metadata": {},
   "outputs": [
    {
     "data": {
      "text/html": [
       "<div>\n",
       "<style scoped>\n",
       "    .dataframe tbody tr th:only-of-type {\n",
       "        vertical-align: middle;\n",
       "    }\n",
       "\n",
       "    .dataframe tbody tr th {\n",
       "        vertical-align: top;\n",
       "    }\n",
       "\n",
       "    .dataframe thead th {\n",
       "        text-align: right;\n",
       "    }\n",
       "</style>\n",
       "<table border=\"1\" class=\"dataframe\">\n",
       "  <thead>\n",
       "    <tr style=\"text-align: right;\">\n",
       "      <th></th>\n",
       "      <th>매연(%)</th>\n",
       "      <th>차종</th>\n",
       "      <th>측정건수(건)</th>\n",
       "    </tr>\n",
       "  </thead>\n",
       "  <tbody>\n",
       "    <tr>\n",
       "      <th>0</th>\n",
       "      <td>0이상 0.5미만</td>\n",
       "      <td>승용</td>\n",
       "      <td>36893</td>\n",
       "    </tr>\n",
       "    <tr>\n",
       "      <th>1</th>\n",
       "      <td>0이상 0.5미만</td>\n",
       "      <td>승합</td>\n",
       "      <td>4270</td>\n",
       "    </tr>\n",
       "    <tr>\n",
       "      <th>2</th>\n",
       "      <td>0이상 0.5미만</td>\n",
       "      <td>특수</td>\n",
       "      <td>923</td>\n",
       "    </tr>\n",
       "    <tr>\n",
       "      <th>3</th>\n",
       "      <td>0이상 0.5미만</td>\n",
       "      <td>화물</td>\n",
       "      <td>27181</td>\n",
       "    </tr>\n",
       "    <tr>\n",
       "      <th>4</th>\n",
       "      <td>0.5이상 1.0미만</td>\n",
       "      <td>승용</td>\n",
       "      <td>19149</td>\n",
       "    </tr>\n",
       "    <tr>\n",
       "      <th>5</th>\n",
       "      <td>0.5이상 1.0미만</td>\n",
       "      <td>승합</td>\n",
       "      <td>2500</td>\n",
       "    </tr>\n",
       "    <tr>\n",
       "      <th>6</th>\n",
       "      <td>0.5이상 1.0미만</td>\n",
       "      <td>특수</td>\n",
       "      <td>364</td>\n",
       "    </tr>\n",
       "    <tr>\n",
       "      <th>7</th>\n",
       "      <td>0.5이상 1.0미만</td>\n",
       "      <td>화물</td>\n",
       "      <td>12839</td>\n",
       "    </tr>\n",
       "    <tr>\n",
       "      <th>8</th>\n",
       "      <td>1.0이상 1.5미만</td>\n",
       "      <td>승용</td>\n",
       "      <td>8528</td>\n",
       "    </tr>\n",
       "    <tr>\n",
       "      <th>9</th>\n",
       "      <td>1.0이상 1.5미만</td>\n",
       "      <td>승합</td>\n",
       "      <td>1317</td>\n",
       "    </tr>\n",
       "    <tr>\n",
       "      <th>10</th>\n",
       "      <td>1.0이상 1.5미만</td>\n",
       "      <td>특수</td>\n",
       "      <td>169</td>\n",
       "    </tr>\n",
       "    <tr>\n",
       "      <th>11</th>\n",
       "      <td>1.0이상 1.5미만</td>\n",
       "      <td>화물</td>\n",
       "      <td>5724</td>\n",
       "    </tr>\n",
       "    <tr>\n",
       "      <th>12</th>\n",
       "      <td>1.5이상 2.0미만</td>\n",
       "      <td>승용</td>\n",
       "      <td>3530</td>\n",
       "    </tr>\n",
       "    <tr>\n",
       "      <th>13</th>\n",
       "      <td>1.5이상 2.0미만</td>\n",
       "      <td>승합</td>\n",
       "      <td>695</td>\n",
       "    </tr>\n",
       "    <tr>\n",
       "      <th>14</th>\n",
       "      <td>1.5이상 2.0미만</td>\n",
       "      <td>특수</td>\n",
       "      <td>63</td>\n",
       "    </tr>\n",
       "    <tr>\n",
       "      <th>15</th>\n",
       "      <td>1.5이상 2.0미만</td>\n",
       "      <td>화물</td>\n",
       "      <td>2278</td>\n",
       "    </tr>\n",
       "    <tr>\n",
       "      <th>16</th>\n",
       "      <td>2.0이상 2.5미만</td>\n",
       "      <td>승용</td>\n",
       "      <td>1829</td>\n",
       "    </tr>\n",
       "    <tr>\n",
       "      <th>17</th>\n",
       "      <td>2.0이상 2.5미만</td>\n",
       "      <td>승합</td>\n",
       "      <td>377</td>\n",
       "    </tr>\n",
       "    <tr>\n",
       "      <th>18</th>\n",
       "      <td>2.0이상 2.5미만</td>\n",
       "      <td>특수</td>\n",
       "      <td>38</td>\n",
       "    </tr>\n",
       "    <tr>\n",
       "      <th>19</th>\n",
       "      <td>2.0이상 2.5미만</td>\n",
       "      <td>화물</td>\n",
       "      <td>1277</td>\n",
       "    </tr>\n",
       "    <tr>\n",
       "      <th>20</th>\n",
       "      <td>2.5이상 3.0미만</td>\n",
       "      <td>승용</td>\n",
       "      <td>1158</td>\n",
       "    </tr>\n",
       "    <tr>\n",
       "      <th>21</th>\n",
       "      <td>2.5이상 3.0미만</td>\n",
       "      <td>승합</td>\n",
       "      <td>261</td>\n",
       "    </tr>\n",
       "    <tr>\n",
       "      <th>22</th>\n",
       "      <td>2.5이상 3.0미만</td>\n",
       "      <td>특수</td>\n",
       "      <td>24</td>\n",
       "    </tr>\n",
       "    <tr>\n",
       "      <th>23</th>\n",
       "      <td>2.5이상 3.0미만</td>\n",
       "      <td>화물</td>\n",
       "      <td>860</td>\n",
       "    </tr>\n",
       "    <tr>\n",
       "      <th>24</th>\n",
       "      <td>3.0이상 3.5미만</td>\n",
       "      <td>승용</td>\n",
       "      <td>818</td>\n",
       "    </tr>\n",
       "    <tr>\n",
       "      <th>25</th>\n",
       "      <td>3.0이상 3.5미만</td>\n",
       "      <td>승합</td>\n",
       "      <td>173</td>\n",
       "    </tr>\n",
       "    <tr>\n",
       "      <th>26</th>\n",
       "      <td>3.0이상 3.5미만</td>\n",
       "      <td>특수</td>\n",
       "      <td>24</td>\n",
       "    </tr>\n",
       "    <tr>\n",
       "      <th>27</th>\n",
       "      <td>3.0이상 3.5미만</td>\n",
       "      <td>화물</td>\n",
       "      <td>564</td>\n",
       "    </tr>\n",
       "    <tr>\n",
       "      <th>28</th>\n",
       "      <td>3.5이상 4.0미만</td>\n",
       "      <td>승용</td>\n",
       "      <td>622</td>\n",
       "    </tr>\n",
       "    <tr>\n",
       "      <th>29</th>\n",
       "      <td>3.5이상 4.0미만</td>\n",
       "      <td>승합</td>\n",
       "      <td>150</td>\n",
       "    </tr>\n",
       "    <tr>\n",
       "      <th>30</th>\n",
       "      <td>3.5이상 4.0미만</td>\n",
       "      <td>특수</td>\n",
       "      <td>24</td>\n",
       "    </tr>\n",
       "    <tr>\n",
       "      <th>31</th>\n",
       "      <td>3.5이상 4.0미만</td>\n",
       "      <td>화물</td>\n",
       "      <td>457</td>\n",
       "    </tr>\n",
       "    <tr>\n",
       "      <th>32</th>\n",
       "      <td>4.0이상 4.5미만</td>\n",
       "      <td>승용</td>\n",
       "      <td>519</td>\n",
       "    </tr>\n",
       "    <tr>\n",
       "      <th>33</th>\n",
       "      <td>4.0이상 4.5미만</td>\n",
       "      <td>승합</td>\n",
       "      <td>126</td>\n",
       "    </tr>\n",
       "    <tr>\n",
       "      <th>34</th>\n",
       "      <td>4.0이상 4.5미만</td>\n",
       "      <td>특수</td>\n",
       "      <td>9</td>\n",
       "    </tr>\n",
       "    <tr>\n",
       "      <th>35</th>\n",
       "      <td>4.0이상 4.5미만</td>\n",
       "      <td>화물</td>\n",
       "      <td>383</td>\n",
       "    </tr>\n",
       "    <tr>\n",
       "      <th>36</th>\n",
       "      <td>4.5이상</td>\n",
       "      <td>승용</td>\n",
       "      <td>514</td>\n",
       "    </tr>\n",
       "    <tr>\n",
       "      <th>37</th>\n",
       "      <td>4.5이상</td>\n",
       "      <td>승합</td>\n",
       "      <td>120</td>\n",
       "    </tr>\n",
       "    <tr>\n",
       "      <th>38</th>\n",
       "      <td>4.5이상</td>\n",
       "      <td>특수</td>\n",
       "      <td>16</td>\n",
       "    </tr>\n",
       "    <tr>\n",
       "      <th>39</th>\n",
       "      <td>4.5이상</td>\n",
       "      <td>화물</td>\n",
       "      <td>382</td>\n",
       "    </tr>\n",
       "    <tr>\n",
       "      <th>40</th>\n",
       "      <td>총합</td>\n",
       "      <td>NaN</td>\n",
       "      <td>137148</td>\n",
       "    </tr>\n",
       "  </tbody>\n",
       "</table>\n",
       "</div>"
      ],
      "text/plain": [
       "          매연(%)   차종  측정건수(건)\n",
       "0     0이상 0.5미만   승용    36893\n",
       "1     0이상 0.5미만   승합     4270\n",
       "2     0이상 0.5미만   특수      923\n",
       "3     0이상 0.5미만   화물    27181\n",
       "4   0.5이상 1.0미만   승용    19149\n",
       "5   0.5이상 1.0미만   승합     2500\n",
       "6   0.5이상 1.0미만   특수      364\n",
       "7   0.5이상 1.0미만   화물    12839\n",
       "8   1.0이상 1.5미만   승용     8528\n",
       "9   1.0이상 1.5미만   승합     1317\n",
       "10  1.0이상 1.5미만   특수      169\n",
       "11  1.0이상 1.5미만   화물     5724\n",
       "12  1.5이상 2.0미만   승용     3530\n",
       "13  1.5이상 2.0미만   승합      695\n",
       "14  1.5이상 2.0미만   특수       63\n",
       "15  1.5이상 2.0미만   화물     2278\n",
       "16  2.0이상 2.5미만   승용     1829\n",
       "17  2.0이상 2.5미만   승합      377\n",
       "18  2.0이상 2.5미만   특수       38\n",
       "19  2.0이상 2.5미만   화물     1277\n",
       "20  2.5이상 3.0미만   승용     1158\n",
       "21  2.5이상 3.0미만   승합      261\n",
       "22  2.5이상 3.0미만   특수       24\n",
       "23  2.5이상 3.0미만   화물      860\n",
       "24  3.0이상 3.5미만   승용      818\n",
       "25  3.0이상 3.5미만   승합      173\n",
       "26  3.0이상 3.5미만   특수       24\n",
       "27  3.0이상 3.5미만   화물      564\n",
       "28  3.5이상 4.0미만   승용      622\n",
       "29  3.5이상 4.0미만   승합      150\n",
       "30  3.5이상 4.0미만   특수       24\n",
       "31  3.5이상 4.0미만   화물      457\n",
       "32  4.0이상 4.5미만   승용      519\n",
       "33  4.0이상 4.5미만   승합      126\n",
       "34  4.0이상 4.5미만   특수        9\n",
       "35  4.0이상 4.5미만   화물      383\n",
       "36        4.5이상   승용      514\n",
       "37        4.5이상   승합      120\n",
       "38        4.5이상   특수       16\n",
       "39        4.5이상   화물      382\n",
       "40           총합  NaN   137148"
      ]
     },
     "execution_count": 1329,
     "metadata": {},
     "output_type": "execute_result"
    }
   ],
   "source": [
    "grp12 = die.groupby(['매연구분인덱스', '매연구분', '차종'], dropna=False).agg({'차량번호':'count'}).reset_index()\n",
    "grp12 = grp12.rename(columns={'차량번호':'측정건수(건)', '매연구분':'매연(%)'})\n",
    "grp12.loc[grp12.shape[0]] = [grp12['매연구분인덱스'].max() + 1, '총합', np.nan, grp12['측정건수(건)'].sum()]\n",
    "grp12 = grp12.drop('매연구분인덱스', axis=1)\n",
    "grp12"
   ]
  },
  {
   "cell_type": "code",
   "execution_count": 1330,
   "metadata": {},
   "outputs": [
    {
     "data": {
      "text/html": [
       "<div>\n",
       "<style scoped>\n",
       "    .dataframe tbody tr th:only-of-type {\n",
       "        vertical-align: middle;\n",
       "    }\n",
       "\n",
       "    .dataframe tbody tr th {\n",
       "        vertical-align: top;\n",
       "    }\n",
       "\n",
       "    .dataframe thead tr th {\n",
       "        text-align: left;\n",
       "    }\n",
       "</style>\n",
       "<table border=\"1\" class=\"dataframe\">\n",
       "  <thead>\n",
       "    <tr>\n",
       "      <th></th>\n",
       "      <th>매연(%)</th>\n",
       "      <th colspan=\"4\" halign=\"left\">차종</th>\n",
       "      <th>합계</th>\n",
       "    </tr>\n",
       "    <tr>\n",
       "      <th>차종</th>\n",
       "      <th></th>\n",
       "      <th>승용</th>\n",
       "      <th>승합</th>\n",
       "      <th>특수</th>\n",
       "      <th>화물</th>\n",
       "      <th></th>\n",
       "    </tr>\n",
       "  </thead>\n",
       "  <tbody>\n",
       "    <tr>\n",
       "      <th>0</th>\n",
       "      <td>0이상 0.5미만</td>\n",
       "      <td>36893</td>\n",
       "      <td>4270</td>\n",
       "      <td>923</td>\n",
       "      <td>27181</td>\n",
       "      <td>69267</td>\n",
       "    </tr>\n",
       "    <tr>\n",
       "      <th>1</th>\n",
       "      <td>0.5이상 1.0미만</td>\n",
       "      <td>19149</td>\n",
       "      <td>2500</td>\n",
       "      <td>364</td>\n",
       "      <td>12839</td>\n",
       "      <td>34852</td>\n",
       "    </tr>\n",
       "    <tr>\n",
       "      <th>2</th>\n",
       "      <td>1.0이상 1.5미만</td>\n",
       "      <td>8528</td>\n",
       "      <td>1317</td>\n",
       "      <td>169</td>\n",
       "      <td>5724</td>\n",
       "      <td>15738</td>\n",
       "    </tr>\n",
       "    <tr>\n",
       "      <th>3</th>\n",
       "      <td>1.5이상 2.0미만</td>\n",
       "      <td>3530</td>\n",
       "      <td>695</td>\n",
       "      <td>63</td>\n",
       "      <td>2278</td>\n",
       "      <td>6566</td>\n",
       "    </tr>\n",
       "    <tr>\n",
       "      <th>4</th>\n",
       "      <td>2.0이상 2.5미만</td>\n",
       "      <td>1829</td>\n",
       "      <td>377</td>\n",
       "      <td>38</td>\n",
       "      <td>1277</td>\n",
       "      <td>3521</td>\n",
       "    </tr>\n",
       "    <tr>\n",
       "      <th>5</th>\n",
       "      <td>2.5이상 3.0미만</td>\n",
       "      <td>1158</td>\n",
       "      <td>261</td>\n",
       "      <td>24</td>\n",
       "      <td>860</td>\n",
       "      <td>2303</td>\n",
       "    </tr>\n",
       "    <tr>\n",
       "      <th>6</th>\n",
       "      <td>3.0이상 3.5미만</td>\n",
       "      <td>818</td>\n",
       "      <td>173</td>\n",
       "      <td>24</td>\n",
       "      <td>564</td>\n",
       "      <td>1579</td>\n",
       "    </tr>\n",
       "    <tr>\n",
       "      <th>7</th>\n",
       "      <td>3.5이상 4.0미만</td>\n",
       "      <td>622</td>\n",
       "      <td>150</td>\n",
       "      <td>24</td>\n",
       "      <td>457</td>\n",
       "      <td>1253</td>\n",
       "    </tr>\n",
       "    <tr>\n",
       "      <th>8</th>\n",
       "      <td>4.0이상 4.5미만</td>\n",
       "      <td>519</td>\n",
       "      <td>126</td>\n",
       "      <td>9</td>\n",
       "      <td>383</td>\n",
       "      <td>1037</td>\n",
       "    </tr>\n",
       "    <tr>\n",
       "      <th>9</th>\n",
       "      <td>4.5이상</td>\n",
       "      <td>514</td>\n",
       "      <td>120</td>\n",
       "      <td>16</td>\n",
       "      <td>382</td>\n",
       "      <td>1032</td>\n",
       "    </tr>\n",
       "    <tr>\n",
       "      <th>10</th>\n",
       "      <td>총합</td>\n",
       "      <td>73560</td>\n",
       "      <td>9989</td>\n",
       "      <td>1654</td>\n",
       "      <td>51945</td>\n",
       "      <td>137148</td>\n",
       "    </tr>\n",
       "  </tbody>\n",
       "</table>\n",
       "</div>"
      ],
      "text/plain": [
       "          매연(%)     차종                         합계\n",
       "차종                  승용    승합    특수     화물        \n",
       "0     0이상 0.5미만  36893  4270   923  27181   69267\n",
       "1   0.5이상 1.0미만  19149  2500   364  12839   34852\n",
       "2   1.0이상 1.5미만   8528  1317   169   5724   15738\n",
       "3   1.5이상 2.0미만   3530   695    63   2278    6566\n",
       "4   2.0이상 2.5미만   1829   377    38   1277    3521\n",
       "5   2.5이상 3.0미만   1158   261    24    860    2303\n",
       "6   3.0이상 3.5미만    818   173    24    564    1579\n",
       "7   3.5이상 4.0미만    622   150    24    457    1253\n",
       "8   4.0이상 4.5미만    519   126     9    383    1037\n",
       "9         4.5이상    514   120    16    382    1032\n",
       "10           총합  73560  9989  1654  51945  137148"
      ]
     },
     "execution_count": 1330,
     "metadata": {},
     "output_type": "execute_result"
    }
   ],
   "source": [
    "grp12 = die.groupby(['매연구분인덱스', '매연구분', '차종'], dropna=False).agg({'차량번호':'count'}).unstack('차종').reset_index()\n",
    "grp12 = grp12.rename(columns={'매연구분':'매연(%)', '차량번호':'차종'})\n",
    "grp12['합계'] = grp12.iloc[:, 2:].sum(axis=1)\n",
    "grp12.loc[grp12.shape[0]] = [grp12['매연구분인덱스'].max() + 1, '총합'] + grp12.iloc[:, 2:].sum().to_list()\n",
    "grp12 = grp12.drop('매연구분인덱스', axis=1, level=0)\n",
    "grp12"
   ]
  },
  {
   "cell_type": "markdown",
   "metadata": {},
   "source": [
    "### 13\\. RSD 매연 농도, 연식별 데이터 수량"
   ]
  },
  {
   "cell_type": "code",
   "execution_count": 1331,
   "metadata": {},
   "outputs": [
    {
     "data": {
      "text/plain": [
       "count   137148.00\n",
       "mean      2016.64\n",
       "std          4.11\n",
       "min       1983.00\n",
       "25%       2014.00\n",
       "50%       2017.00\n",
       "75%       2020.00\n",
       "max       2024.00\n",
       "Name: 연식, dtype: float64"
      ]
     },
     "execution_count": 1331,
     "metadata": {},
     "output_type": "execute_result"
    }
   ],
   "source": [
    "die['연식'].describe()"
   ]
  },
  {
   "cell_type": "code",
   "execution_count": 1332,
   "metadata": {},
   "outputs": [
    {
     "data": {
      "text/html": [
       "<div>\n",
       "<style scoped>\n",
       "    .dataframe tbody tr th:only-of-type {\n",
       "        vertical-align: middle;\n",
       "    }\n",
       "\n",
       "    .dataframe tbody tr th {\n",
       "        vertical-align: top;\n",
       "    }\n",
       "\n",
       "    .dataframe thead th {\n",
       "        text-align: right;\n",
       "    }\n",
       "</style>\n",
       "<table border=\"1\" class=\"dataframe\">\n",
       "  <thead>\n",
       "    <tr style=\"text-align: right;\">\n",
       "      <th></th>\n",
       "      <th>연료</th>\n",
       "      <th>차명</th>\n",
       "      <th>연식</th>\n",
       "      <th>차대번호</th>\n",
       "      <th>폐차여부</th>\n",
       "    </tr>\n",
       "  </thead>\n",
       "  <tbody>\n",
       "    <tr>\n",
       "      <th>3791</th>\n",
       "      <td>경유</td>\n",
       "      <td>마이티</td>\n",
       "      <td>2024.00</td>\n",
       "      <td>KMFHA17GPRC076943</td>\n",
       "      <td>N</td>\n",
       "    </tr>\n",
       "    <tr>\n",
       "      <th>8867</th>\n",
       "      <td>경유</td>\n",
       "      <td>마이티</td>\n",
       "      <td>2024.00</td>\n",
       "      <td>KMFHA17GPRC078773</td>\n",
       "      <td>N</td>\n",
       "    </tr>\n",
       "    <tr>\n",
       "      <th>11409</th>\n",
       "      <td>경유</td>\n",
       "      <td>더쎈</td>\n",
       "      <td>2024.00</td>\n",
       "      <td>KLTEE5AH2RK000687</td>\n",
       "      <td>N</td>\n",
       "    </tr>\n",
       "    <tr>\n",
       "      <th>11448</th>\n",
       "      <td>경유</td>\n",
       "      <td>엑시언트(XCIENT)트랙터</td>\n",
       "      <td>2024.00</td>\n",
       "      <td>KMEKB18KPRC035304</td>\n",
       "      <td>N</td>\n",
       "    </tr>\n",
       "    <tr>\n",
       "      <th>11527</th>\n",
       "      <td>경유</td>\n",
       "      <td>마이티</td>\n",
       "      <td>2024.00</td>\n",
       "      <td>KMFHA17GPRC077101</td>\n",
       "      <td>N</td>\n",
       "    </tr>\n",
       "    <tr>\n",
       "      <th>...</th>\n",
       "      <td>...</td>\n",
       "      <td>...</td>\n",
       "      <td>...</td>\n",
       "      <td>...</td>\n",
       "      <td>...</td>\n",
       "    </tr>\n",
       "    <tr>\n",
       "      <th>135658</th>\n",
       "      <td>경유</td>\n",
       "      <td>렉스턴스포츠 쿨멘</td>\n",
       "      <td>2024.00</td>\n",
       "      <td>KPADA4AE1RP215951</td>\n",
       "      <td>N</td>\n",
       "    </tr>\n",
       "    <tr>\n",
       "      <th>136122</th>\n",
       "      <td>경유</td>\n",
       "      <td>팰리세이드(PALISADE)</td>\n",
       "      <td>2024.00</td>\n",
       "      <td>KMHR281ABRU680579</td>\n",
       "      <td>N</td>\n",
       "    </tr>\n",
       "    <tr>\n",
       "      <th>136715</th>\n",
       "      <td>경유</td>\n",
       "      <td>더쎈</td>\n",
       "      <td>2024.00</td>\n",
       "      <td>KLTEE7AH1RK000022</td>\n",
       "      <td>N</td>\n",
       "    </tr>\n",
       "    <tr>\n",
       "      <th>136958</th>\n",
       "      <td>경유</td>\n",
       "      <td>렉스턴</td>\n",
       "      <td>2024.00</td>\n",
       "      <td>KPBGA2AE1RP100857</td>\n",
       "      <td>N</td>\n",
       "    </tr>\n",
       "    <tr>\n",
       "      <th>137063</th>\n",
       "      <td>경유</td>\n",
       "      <td>렉스턴스포츠 쿨멘</td>\n",
       "      <td>2024.00</td>\n",
       "      <td>KPADA4AE1RP220357</td>\n",
       "      <td>N</td>\n",
       "    </tr>\n",
       "  </tbody>\n",
       "</table>\n",
       "<p>262 rows × 5 columns</p>\n",
       "</div>"
      ],
      "text/plain": [
       "        연료               차명      연식               차대번호 폐차여부\n",
       "3791    경유              마이티 2024.00  KMFHA17GPRC076943    N\n",
       "8867    경유              마이티 2024.00  KMFHA17GPRC078773    N\n",
       "11409   경유               더쎈 2024.00  KLTEE5AH2RK000687    N\n",
       "11448   경유  엑시언트(XCIENT)트랙터 2024.00  KMEKB18KPRC035304    N\n",
       "11527   경유              마이티 2024.00  KMFHA17GPRC077101    N\n",
       "...     ..              ...     ...                ...  ...\n",
       "135658  경유        렉스턴스포츠 쿨멘 2024.00  KPADA4AE1RP215951    N\n",
       "136122  경유  팰리세이드(PALISADE) 2024.00  KMHR281ABRU680579    N\n",
       "136715  경유               더쎈 2024.00  KLTEE7AH1RK000022    N\n",
       "136958  경유              렉스턴 2024.00  KPBGA2AE1RP100857    N\n",
       "137063  경유        렉스턴스포츠 쿨멘 2024.00  KPADA4AE1RP220357    N\n",
       "\n",
       "[262 rows x 5 columns]"
      ]
     },
     "execution_count": 1332,
     "metadata": {},
     "output_type": "execute_result"
    }
   ],
   "source": [
    "die.loc[die['연식'] == 2024, ['연료', '차명', '연식', '차대번호', '폐차여부']]"
   ]
  },
  {
   "cell_type": "code",
   "execution_count": 1333,
   "metadata": {},
   "outputs": [
    {
     "data": {
      "text/plain": [
       "폐차여부\n",
       "N    262\n",
       "Name: count, dtype: int64"
      ]
     },
     "execution_count": 1333,
     "metadata": {},
     "output_type": "execute_result"
    }
   ],
   "source": [
    "die.loc[die['연식'] == 2024, '폐차여부'].value_counts(dropna=False)"
   ]
  },
  {
   "cell_type": "code",
   "execution_count": 1334,
   "metadata": {},
   "outputs": [],
   "source": [
    "# grp13 = die.groupby(['매연구분인덱스', '매연구분', '연식'], dropna=False).agg({'차량번호':'count'}).reset_index()\n",
    "# grp13 = grp13.rename(columns={'차량번호':'측정건수(건)', '매연구분':'매연(%)'})\n",
    "# grp13.loc[grp13.shape[0]] = [grp13['매연구분인덱스'].max() + 1, '총합', np.nan, grp13['측정건수(건)'].sum()]\n",
    "# grp13 = grp13.drop('매연구분인덱스', axis=1)\n",
    "# grp13"
   ]
  },
  {
   "cell_type": "code",
   "execution_count": 1335,
   "metadata": {},
   "outputs": [],
   "source": [
    "# grp13 = die.groupby(['매연구분인덱스', '매연구분', '연식'], dropna=False).agg({'차량번호':'count'}).unstack('연식').reset_index()\n",
    "# grp13 = grp13.rename(columns={'매연구분':'매연(%)', '차량번호':'연식(년)'})\n",
    "# grp13 = grp13.rename_axis(columns={'연식':'연식(년)'})\n",
    "# grp13['합계'] = grp13.iloc[:, 2:].sum(axis=1)\n",
    "# grp13.loc[grp13.shape[0]] = [grp13['매연구분인덱스'].max() + 1, '총합'] + grp13.iloc[:, 2:].sum().to_list()\n",
    "# grp13 = grp13.drop('매연구분인덱스', axis=1, level=0)\n",
    "# grp13"
   ]
  },
  {
   "cell_type": "code",
   "execution_count": 1336,
   "metadata": {},
   "outputs": [
    {
     "data": {
      "text/html": [
       "<div>\n",
       "<style scoped>\n",
       "    .dataframe tbody tr th:only-of-type {\n",
       "        vertical-align: middle;\n",
       "    }\n",
       "\n",
       "    .dataframe tbody tr th {\n",
       "        vertical-align: top;\n",
       "    }\n",
       "\n",
       "    .dataframe thead tr th {\n",
       "        text-align: left;\n",
       "    }\n",
       "</style>\n",
       "<table border=\"1\" class=\"dataframe\">\n",
       "  <thead>\n",
       "    <tr>\n",
       "      <th></th>\n",
       "      <th>매연(%)</th>\n",
       "      <th colspan=\"19\" halign=\"left\">연식(년)</th>\n",
       "      <th>합계</th>\n",
       "    </tr>\n",
       "    <tr>\n",
       "      <th>연식(년)</th>\n",
       "      <th></th>\n",
       "      <th>2000년 이하</th>\n",
       "      <th>2001.0</th>\n",
       "      <th>2002.0</th>\n",
       "      <th>2003.0</th>\n",
       "      <th>2004.0</th>\n",
       "      <th>2005.0</th>\n",
       "      <th>2006.0</th>\n",
       "      <th>2007.0</th>\n",
       "      <th>2008.0</th>\n",
       "      <th>...</th>\n",
       "      <th>2016.0</th>\n",
       "      <th>2017.0</th>\n",
       "      <th>2018.0</th>\n",
       "      <th>2019.0</th>\n",
       "      <th>2020.0</th>\n",
       "      <th>2021.0</th>\n",
       "      <th>2022.0</th>\n",
       "      <th>2023.0</th>\n",
       "      <th>2024.0</th>\n",
       "      <th></th>\n",
       "    </tr>\n",
       "  </thead>\n",
       "  <tbody>\n",
       "    <tr>\n",
       "      <th>0</th>\n",
       "      <td>0이상 0.5미만</td>\n",
       "      <td>83.00</td>\n",
       "      <td>49.00</td>\n",
       "      <td>123.00</td>\n",
       "      <td>83.00</td>\n",
       "      <td>144.00</td>\n",
       "      <td>170.00</td>\n",
       "      <td>295.00</td>\n",
       "      <td>686.00</td>\n",
       "      <td>811.00</td>\n",
       "      <td>...</td>\n",
       "      <td>6923.00</td>\n",
       "      <td>5815.00</td>\n",
       "      <td>7133.00</td>\n",
       "      <td>7726.00</td>\n",
       "      <td>5779.00</td>\n",
       "      <td>4751.00</td>\n",
       "      <td>4808.00</td>\n",
       "      <td>3451.00</td>\n",
       "      <td>162.00</td>\n",
       "      <td>69267.00</td>\n",
       "    </tr>\n",
       "    <tr>\n",
       "      <th>1</th>\n",
       "      <td>0.5이상 1.0미만</td>\n",
       "      <td>25.00</td>\n",
       "      <td>13.00</td>\n",
       "      <td>77.00</td>\n",
       "      <td>24.00</td>\n",
       "      <td>80.00</td>\n",
       "      <td>105.00</td>\n",
       "      <td>162.00</td>\n",
       "      <td>411.00</td>\n",
       "      <td>519.00</td>\n",
       "      <td>...</td>\n",
       "      <td>3582.00</td>\n",
       "      <td>3004.00</td>\n",
       "      <td>3492.00</td>\n",
       "      <td>3868.00</td>\n",
       "      <td>2729.00</td>\n",
       "      <td>2240.00</td>\n",
       "      <td>2233.00</td>\n",
       "      <td>1537.00</td>\n",
       "      <td>50.00</td>\n",
       "      <td>34852.00</td>\n",
       "    </tr>\n",
       "    <tr>\n",
       "      <th>2</th>\n",
       "      <td>1.0이상 1.5미만</td>\n",
       "      <td>22.00</td>\n",
       "      <td>13.00</td>\n",
       "      <td>64.00</td>\n",
       "      <td>35.00</td>\n",
       "      <td>46.00</td>\n",
       "      <td>66.00</td>\n",
       "      <td>110.00</td>\n",
       "      <td>205.00</td>\n",
       "      <td>246.00</td>\n",
       "      <td>...</td>\n",
       "      <td>1521.00</td>\n",
       "      <td>1348.00</td>\n",
       "      <td>1514.00</td>\n",
       "      <td>1602.00</td>\n",
       "      <td>1057.00</td>\n",
       "      <td>977.00</td>\n",
       "      <td>937.00</td>\n",
       "      <td>651.00</td>\n",
       "      <td>23.00</td>\n",
       "      <td>15738.00</td>\n",
       "    </tr>\n",
       "    <tr>\n",
       "      <th>3</th>\n",
       "      <td>1.5이상 2.0미만</td>\n",
       "      <td>16.00</td>\n",
       "      <td>9.00</td>\n",
       "      <td>25.00</td>\n",
       "      <td>12.00</td>\n",
       "      <td>25.00</td>\n",
       "      <td>30.00</td>\n",
       "      <td>48.00</td>\n",
       "      <td>103.00</td>\n",
       "      <td>141.00</td>\n",
       "      <td>...</td>\n",
       "      <td>605.00</td>\n",
       "      <td>574.00</td>\n",
       "      <td>667.00</td>\n",
       "      <td>636.00</td>\n",
       "      <td>477.00</td>\n",
       "      <td>413.00</td>\n",
       "      <td>378.00</td>\n",
       "      <td>258.00</td>\n",
       "      <td>8.00</td>\n",
       "      <td>6566.00</td>\n",
       "    </tr>\n",
       "    <tr>\n",
       "      <th>4</th>\n",
       "      <td>2.0이상 2.5미만</td>\n",
       "      <td>8.00</td>\n",
       "      <td>2.00</td>\n",
       "      <td>17.00</td>\n",
       "      <td>8.00</td>\n",
       "      <td>12.00</td>\n",
       "      <td>19.00</td>\n",
       "      <td>21.00</td>\n",
       "      <td>69.00</td>\n",
       "      <td>59.00</td>\n",
       "      <td>...</td>\n",
       "      <td>307.00</td>\n",
       "      <td>301.00</td>\n",
       "      <td>326.00</td>\n",
       "      <td>335.00</td>\n",
       "      <td>240.00</td>\n",
       "      <td>214.00</td>\n",
       "      <td>218.00</td>\n",
       "      <td>135.00</td>\n",
       "      <td>7.00</td>\n",
       "      <td>3521.00</td>\n",
       "    </tr>\n",
       "    <tr>\n",
       "      <th>5</th>\n",
       "      <td>2.5이상 3.0미만</td>\n",
       "      <td>9.00</td>\n",
       "      <td>4.00</td>\n",
       "      <td>10.00</td>\n",
       "      <td>9.00</td>\n",
       "      <td>8.00</td>\n",
       "      <td>8.00</td>\n",
       "      <td>10.00</td>\n",
       "      <td>37.00</td>\n",
       "      <td>43.00</td>\n",
       "      <td>...</td>\n",
       "      <td>250.00</td>\n",
       "      <td>187.00</td>\n",
       "      <td>197.00</td>\n",
       "      <td>209.00</td>\n",
       "      <td>157.00</td>\n",
       "      <td>141.00</td>\n",
       "      <td>143.00</td>\n",
       "      <td>100.00</td>\n",
       "      <td>7.00</td>\n",
       "      <td>2303.00</td>\n",
       "    </tr>\n",
       "    <tr>\n",
       "      <th>6</th>\n",
       "      <td>3.0이상 3.5미만</td>\n",
       "      <td>3.00</td>\n",
       "      <td>1.00</td>\n",
       "      <td>5.00</td>\n",
       "      <td>5.00</td>\n",
       "      <td>5.00</td>\n",
       "      <td>4.00</td>\n",
       "      <td>9.00</td>\n",
       "      <td>26.00</td>\n",
       "      <td>33.00</td>\n",
       "      <td>...</td>\n",
       "      <td>143.00</td>\n",
       "      <td>143.00</td>\n",
       "      <td>153.00</td>\n",
       "      <td>137.00</td>\n",
       "      <td>112.00</td>\n",
       "      <td>104.00</td>\n",
       "      <td>83.00</td>\n",
       "      <td>79.00</td>\n",
       "      <td>2.00</td>\n",
       "      <td>1579.00</td>\n",
       "    </tr>\n",
       "    <tr>\n",
       "      <th>7</th>\n",
       "      <td>3.5이상 4.0미만</td>\n",
       "      <td>1.00</td>\n",
       "      <td>1.00</td>\n",
       "      <td>8.00</td>\n",
       "      <td>2.00</td>\n",
       "      <td>7.00</td>\n",
       "      <td>8.00</td>\n",
       "      <td>10.00</td>\n",
       "      <td>22.00</td>\n",
       "      <td>29.00</td>\n",
       "      <td>...</td>\n",
       "      <td>108.00</td>\n",
       "      <td>106.00</td>\n",
       "      <td>111.00</td>\n",
       "      <td>115.00</td>\n",
       "      <td>92.00</td>\n",
       "      <td>85.00</td>\n",
       "      <td>74.00</td>\n",
       "      <td>56.00</td>\n",
       "      <td>1.00</td>\n",
       "      <td>1253.00</td>\n",
       "    </tr>\n",
       "    <tr>\n",
       "      <th>8</th>\n",
       "      <td>4.0이상 4.5미만</td>\n",
       "      <td>8.00</td>\n",
       "      <td>NaN</td>\n",
       "      <td>5.00</td>\n",
       "      <td>NaN</td>\n",
       "      <td>3.00</td>\n",
       "      <td>3.00</td>\n",
       "      <td>6.00</td>\n",
       "      <td>23.00</td>\n",
       "      <td>23.00</td>\n",
       "      <td>...</td>\n",
       "      <td>99.00</td>\n",
       "      <td>84.00</td>\n",
       "      <td>90.00</td>\n",
       "      <td>112.00</td>\n",
       "      <td>65.00</td>\n",
       "      <td>59.00</td>\n",
       "      <td>72.00</td>\n",
       "      <td>43.00</td>\n",
       "      <td>1.00</td>\n",
       "      <td>1037.00</td>\n",
       "    </tr>\n",
       "    <tr>\n",
       "      <th>9</th>\n",
       "      <td>4.5이상</td>\n",
       "      <td>2.00</td>\n",
       "      <td>4.00</td>\n",
       "      <td>4.00</td>\n",
       "      <td>NaN</td>\n",
       "      <td>6.00</td>\n",
       "      <td>6.00</td>\n",
       "      <td>5.00</td>\n",
       "      <td>14.00</td>\n",
       "      <td>17.00</td>\n",
       "      <td>...</td>\n",
       "      <td>99.00</td>\n",
       "      <td>90.00</td>\n",
       "      <td>97.00</td>\n",
       "      <td>98.00</td>\n",
       "      <td>79.00</td>\n",
       "      <td>55.00</td>\n",
       "      <td>61.00</td>\n",
       "      <td>51.00</td>\n",
       "      <td>1.00</td>\n",
       "      <td>1032.00</td>\n",
       "    </tr>\n",
       "    <tr>\n",
       "      <th>10</th>\n",
       "      <td>총합</td>\n",
       "      <td>177.00</td>\n",
       "      <td>96.00</td>\n",
       "      <td>338.00</td>\n",
       "      <td>178.00</td>\n",
       "      <td>336.00</td>\n",
       "      <td>419.00</td>\n",
       "      <td>676.00</td>\n",
       "      <td>1596.00</td>\n",
       "      <td>1921.00</td>\n",
       "      <td>...</td>\n",
       "      <td>13637.00</td>\n",
       "      <td>11652.00</td>\n",
       "      <td>13780.00</td>\n",
       "      <td>14838.00</td>\n",
       "      <td>10787.00</td>\n",
       "      <td>9039.00</td>\n",
       "      <td>9007.00</td>\n",
       "      <td>6361.00</td>\n",
       "      <td>262.00</td>\n",
       "      <td>137148.00</td>\n",
       "    </tr>\n",
       "  </tbody>\n",
       "</table>\n",
       "<p>11 rows × 27 columns</p>\n",
       "</div>"
      ],
      "text/plain": [
       "             매연(%)    연식(년)                                                    \\\n",
       "연식(년)              2000년 이하 2001.0 2002.0 2003.0 2004.0 2005.0 2006.0  2007.0   \n",
       "0        0이상 0.5미만    83.00  49.00 123.00  83.00 144.00 170.00 295.00  686.00   \n",
       "1      0.5이상 1.0미만    25.00  13.00  77.00  24.00  80.00 105.00 162.00  411.00   \n",
       "2      1.0이상 1.5미만    22.00  13.00  64.00  35.00  46.00  66.00 110.00  205.00   \n",
       "3      1.5이상 2.0미만    16.00   9.00  25.00  12.00  25.00  30.00  48.00  103.00   \n",
       "4      2.0이상 2.5미만     8.00   2.00  17.00   8.00  12.00  19.00  21.00   69.00   \n",
       "5      2.5이상 3.0미만     9.00   4.00  10.00   9.00   8.00   8.00  10.00   37.00   \n",
       "6      3.0이상 3.5미만     3.00   1.00   5.00   5.00   5.00   4.00   9.00   26.00   \n",
       "7      3.5이상 4.0미만     1.00   1.00   8.00   2.00   7.00   8.00  10.00   22.00   \n",
       "8      4.0이상 4.5미만     8.00    NaN   5.00    NaN   3.00   3.00   6.00   23.00   \n",
       "9            4.5이상     2.00   4.00   4.00    NaN   6.00   6.00   5.00   14.00   \n",
       "10              총합   177.00  96.00 338.00 178.00 336.00 419.00 676.00 1596.00   \n",
       "\n",
       "               ...                                                       \\\n",
       "연식(년)  2008.0  ...   2016.0   2017.0   2018.0   2019.0   2020.0  2021.0   \n",
       "0      811.00  ...  6923.00  5815.00  7133.00  7726.00  5779.00 4751.00   \n",
       "1      519.00  ...  3582.00  3004.00  3492.00  3868.00  2729.00 2240.00   \n",
       "2      246.00  ...  1521.00  1348.00  1514.00  1602.00  1057.00  977.00   \n",
       "3      141.00  ...   605.00   574.00   667.00   636.00   477.00  413.00   \n",
       "4       59.00  ...   307.00   301.00   326.00   335.00   240.00  214.00   \n",
       "5       43.00  ...   250.00   187.00   197.00   209.00   157.00  141.00   \n",
       "6       33.00  ...   143.00   143.00   153.00   137.00   112.00  104.00   \n",
       "7       29.00  ...   108.00   106.00   111.00   115.00    92.00   85.00   \n",
       "8       23.00  ...    99.00    84.00    90.00   112.00    65.00   59.00   \n",
       "9       17.00  ...    99.00    90.00    97.00    98.00    79.00   55.00   \n",
       "10    1921.00  ... 13637.00 11652.00 13780.00 14838.00 10787.00 9039.00   \n",
       "\n",
       "                                    합계  \n",
       "연식(년)  2022.0  2023.0 2024.0            \n",
       "0     4808.00 3451.00 162.00  69267.00  \n",
       "1     2233.00 1537.00  50.00  34852.00  \n",
       "2      937.00  651.00  23.00  15738.00  \n",
       "3      378.00  258.00   8.00   6566.00  \n",
       "4      218.00  135.00   7.00   3521.00  \n",
       "5      143.00  100.00   7.00   2303.00  \n",
       "6       83.00   79.00   2.00   1579.00  \n",
       "7       74.00   56.00   1.00   1253.00  \n",
       "8       72.00   43.00   1.00   1037.00  \n",
       "9       61.00   51.00   1.00   1032.00  \n",
       "10    9007.00 6361.00 262.00 137148.00  \n",
       "\n",
       "[11 rows x 27 columns]"
      ]
     },
     "execution_count": 1336,
     "metadata": {},
     "output_type": "execute_result"
    }
   ],
   "source": [
    "grp13 = die.groupby(['매연구분인덱스', '매연구분', '연식구분'], dropna=False).agg({'차량번호':'count'}).unstack('연식구분').reset_index()\n",
    "grp13 = grp13.rename(columns={'매연구분':'매연(%)', '차량번호':'연식(년)'})\n",
    "grp13 = grp13.rename_axis(columns={'연식구분':'연식(년)'})\n",
    "grp13['합계'] = grp13.iloc[:, 2:].sum(axis=1)\n",
    "grp13.loc[grp13.shape[0]] = [grp13['매연구분인덱스'].max() + 1, '총합'] + grp13.iloc[:, 2:].sum().to_list()\n",
    "grp13 = grp13.drop('매연구분인덱스', axis=1, level=0)\n",
    "grp13"
   ]
  },
  {
   "cell_type": "markdown",
   "metadata": {},
   "source": [
    "### 14\\. RSD 매연 농도, 측정속도별 데이터 수량"
   ]
  },
  {
   "cell_type": "code",
   "execution_count": 1337,
   "metadata": {},
   "outputs": [
    {
     "data": {
      "text/plain": [
       "array(['50이상 60미만', '40이상 50미만', '60이상 70미만', '30이상 40미만', '20이상 30미만',\n",
       "       '70이상 80미만', '80이상 90미만', '0이상 10미만', '10이상 20미만', '110이상 120미만',\n",
       "       '90이상 100미만', '100이상 110미만'], dtype=object)"
      ]
     },
     "execution_count": 1337,
     "metadata": {},
     "output_type": "execute_result"
    }
   ],
   "source": [
    "die['속도구분'].unique()"
   ]
  },
  {
   "cell_type": "code",
   "execution_count": 1338,
   "metadata": {},
   "outputs": [
    {
     "data": {
      "text/plain": [
       "array([ 6.,  5.,  7.,  4.,  3.,  8.,  9.,  1.,  2., 12., 10., 11.])"
      ]
     },
     "execution_count": 1338,
     "metadata": {},
     "output_type": "execute_result"
    }
   ],
   "source": [
    "die['속도구분인덱스'].unique()"
   ]
  },
  {
   "cell_type": "code",
   "execution_count": 1339,
   "metadata": {},
   "outputs": [
    {
     "data": {
      "text/html": [
       "<div>\n",
       "<style scoped>\n",
       "    .dataframe tbody tr th:only-of-type {\n",
       "        vertical-align: middle;\n",
       "    }\n",
       "\n",
       "    .dataframe tbody tr th {\n",
       "        vertical-align: top;\n",
       "    }\n",
       "\n",
       "    .dataframe thead th {\n",
       "        text-align: right;\n",
       "    }\n",
       "</style>\n",
       "<table border=\"1\" class=\"dataframe\">\n",
       "  <thead>\n",
       "    <tr style=\"text-align: right;\">\n",
       "      <th></th>\n",
       "      <th>매연(%)</th>\n",
       "      <th>속도(km/h)</th>\n",
       "      <th>측정건수(건)</th>\n",
       "    </tr>\n",
       "  </thead>\n",
       "  <tbody>\n",
       "    <tr>\n",
       "      <th>0</th>\n",
       "      <td>0이상 0.5미만</td>\n",
       "      <td>0이상 10미만</td>\n",
       "      <td>22</td>\n",
       "    </tr>\n",
       "    <tr>\n",
       "      <th>1</th>\n",
       "      <td>0이상 0.5미만</td>\n",
       "      <td>10이상 20미만</td>\n",
       "      <td>28</td>\n",
       "    </tr>\n",
       "    <tr>\n",
       "      <th>2</th>\n",
       "      <td>0이상 0.5미만</td>\n",
       "      <td>20이상 30미만</td>\n",
       "      <td>312</td>\n",
       "    </tr>\n",
       "    <tr>\n",
       "      <th>3</th>\n",
       "      <td>0이상 0.5미만</td>\n",
       "      <td>30이상 40미만</td>\n",
       "      <td>1259</td>\n",
       "    </tr>\n",
       "    <tr>\n",
       "      <th>4</th>\n",
       "      <td>0이상 0.5미만</td>\n",
       "      <td>40이상 50미만</td>\n",
       "      <td>4561</td>\n",
       "    </tr>\n",
       "    <tr>\n",
       "      <th>...</th>\n",
       "      <td>...</td>\n",
       "      <td>...</td>\n",
       "      <td>...</td>\n",
       "    </tr>\n",
       "    <tr>\n",
       "      <th>109</th>\n",
       "      <td>4.5이상</td>\n",
       "      <td>80이상 90미만</td>\n",
       "      <td>138</td>\n",
       "    </tr>\n",
       "    <tr>\n",
       "      <th>110</th>\n",
       "      <td>4.5이상</td>\n",
       "      <td>90이상 100미만</td>\n",
       "      <td>49</td>\n",
       "    </tr>\n",
       "    <tr>\n",
       "      <th>111</th>\n",
       "      <td>4.5이상</td>\n",
       "      <td>100이상 110미만</td>\n",
       "      <td>16</td>\n",
       "    </tr>\n",
       "    <tr>\n",
       "      <th>112</th>\n",
       "      <td>4.5이상</td>\n",
       "      <td>110이상 120미만</td>\n",
       "      <td>6</td>\n",
       "    </tr>\n",
       "    <tr>\n",
       "      <th>113</th>\n",
       "      <td>총합</td>\n",
       "      <td>NaN</td>\n",
       "      <td>137148</td>\n",
       "    </tr>\n",
       "  </tbody>\n",
       "</table>\n",
       "<p>114 rows × 3 columns</p>\n",
       "</div>"
      ],
      "text/plain": [
       "         매연(%)     속도(km/h)  측정건수(건)\n",
       "0    0이상 0.5미만     0이상 10미만       22\n",
       "1    0이상 0.5미만    10이상 20미만       28\n",
       "2    0이상 0.5미만    20이상 30미만      312\n",
       "3    0이상 0.5미만    30이상 40미만     1259\n",
       "4    0이상 0.5미만    40이상 50미만     4561\n",
       "..         ...          ...      ...\n",
       "109      4.5이상    80이상 90미만      138\n",
       "110      4.5이상   90이상 100미만       49\n",
       "111      4.5이상  100이상 110미만       16\n",
       "112      4.5이상  110이상 120미만        6\n",
       "113         총합          NaN   137148\n",
       "\n",
       "[114 rows x 3 columns]"
      ]
     },
     "execution_count": 1339,
     "metadata": {},
     "output_type": "execute_result"
    }
   ],
   "source": [
    "grp14 = die.groupby(['매연구분인덱스', '매연구분', '속도구분인덱스', '속도구분'], dropna=False).agg({'차량번호':'count'}).reset_index()\n",
    "grp14 = grp14.rename(columns={'차량번호':'측정건수(건)', '매연구분':'매연(%)', '속도구분':'속도(km/h)'})\n",
    "grp14.loc[grp14.shape[0]] = [grp14['매연구분인덱스'].max() + 1, '총합', np.nan, np.nan, grp14['측정건수(건)'].sum()]\n",
    "grp14 = grp14.drop(['매연구분인덱스', '속도구분인덱스'], axis=1)\n",
    "grp14"
   ]
  },
  {
   "cell_type": "code",
   "execution_count": 1340,
   "metadata": {},
   "outputs": [
    {
     "data": {
      "text/html": [
       "<div>\n",
       "<style scoped>\n",
       "    .dataframe tbody tr th:only-of-type {\n",
       "        vertical-align: middle;\n",
       "    }\n",
       "\n",
       "    .dataframe tbody tr th {\n",
       "        vertical-align: top;\n",
       "    }\n",
       "\n",
       "    .dataframe thead tr th {\n",
       "        text-align: left;\n",
       "    }\n",
       "</style>\n",
       "<table border=\"1\" class=\"dataframe\">\n",
       "  <thead>\n",
       "    <tr>\n",
       "      <th></th>\n",
       "      <th>매연(%)</th>\n",
       "      <th colspan=\"12\" halign=\"left\">속도(km/h)</th>\n",
       "      <th>합계</th>\n",
       "    </tr>\n",
       "    <tr>\n",
       "      <th>속도(km/h)</th>\n",
       "      <th></th>\n",
       "      <th>0이상 10미만</th>\n",
       "      <th>10이상 20미만</th>\n",
       "      <th>20이상 30미만</th>\n",
       "      <th>30이상 40미만</th>\n",
       "      <th>40이상 50미만</th>\n",
       "      <th>50이상 60미만</th>\n",
       "      <th>60이상 70미만</th>\n",
       "      <th>70이상 80미만</th>\n",
       "      <th>80이상 90미만</th>\n",
       "      <th>90이상 100미만</th>\n",
       "      <th>100이상 110미만</th>\n",
       "      <th>110이상 120미만</th>\n",
       "      <th></th>\n",
       "    </tr>\n",
       "  </thead>\n",
       "  <tbody>\n",
       "    <tr>\n",
       "      <th>0</th>\n",
       "      <td>0이상 0.5미만</td>\n",
       "      <td>22.00</td>\n",
       "      <td>28.00</td>\n",
       "      <td>312.00</td>\n",
       "      <td>1259.00</td>\n",
       "      <td>4561.00</td>\n",
       "      <td>13298.00</td>\n",
       "      <td>20372.00</td>\n",
       "      <td>16300.00</td>\n",
       "      <td>8637.00</td>\n",
       "      <td>3237.00</td>\n",
       "      <td>1024.00</td>\n",
       "      <td>217.00</td>\n",
       "      <td>69267.00</td>\n",
       "    </tr>\n",
       "    <tr>\n",
       "      <th>1</th>\n",
       "      <td>0.5이상 1.0미만</td>\n",
       "      <td>13.00</td>\n",
       "      <td>20.00</td>\n",
       "      <td>195.00</td>\n",
       "      <td>822.00</td>\n",
       "      <td>2789.00</td>\n",
       "      <td>6897.00</td>\n",
       "      <td>9701.00</td>\n",
       "      <td>7960.00</td>\n",
       "      <td>4252.00</td>\n",
       "      <td>1581.00</td>\n",
       "      <td>488.00</td>\n",
       "      <td>134.00</td>\n",
       "      <td>34852.00</td>\n",
       "    </tr>\n",
       "    <tr>\n",
       "      <th>2</th>\n",
       "      <td>1.0이상 1.5미만</td>\n",
       "      <td>3.00</td>\n",
       "      <td>14.00</td>\n",
       "      <td>119.00</td>\n",
       "      <td>396.00</td>\n",
       "      <td>1020.00</td>\n",
       "      <td>2946.00</td>\n",
       "      <td>4527.00</td>\n",
       "      <td>3676.00</td>\n",
       "      <td>1969.00</td>\n",
       "      <td>729.00</td>\n",
       "      <td>269.00</td>\n",
       "      <td>70.00</td>\n",
       "      <td>15738.00</td>\n",
       "    </tr>\n",
       "    <tr>\n",
       "      <th>3</th>\n",
       "      <td>1.5이상 2.0미만</td>\n",
       "      <td>2.00</td>\n",
       "      <td>8.00</td>\n",
       "      <td>50.00</td>\n",
       "      <td>201.00</td>\n",
       "      <td>459.00</td>\n",
       "      <td>1156.00</td>\n",
       "      <td>1843.00</td>\n",
       "      <td>1607.00</td>\n",
       "      <td>817.00</td>\n",
       "      <td>292.00</td>\n",
       "      <td>105.00</td>\n",
       "      <td>26.00</td>\n",
       "      <td>6566.00</td>\n",
       "    </tr>\n",
       "    <tr>\n",
       "      <th>4</th>\n",
       "      <td>2.0이상 2.5미만</td>\n",
       "      <td>1.00</td>\n",
       "      <td>NaN</td>\n",
       "      <td>39.00</td>\n",
       "      <td>93.00</td>\n",
       "      <td>224.00</td>\n",
       "      <td>660.00</td>\n",
       "      <td>907.00</td>\n",
       "      <td>835.00</td>\n",
       "      <td>497.00</td>\n",
       "      <td>202.00</td>\n",
       "      <td>56.00</td>\n",
       "      <td>7.00</td>\n",
       "      <td>3521.00</td>\n",
       "    </tr>\n",
       "    <tr>\n",
       "      <th>5</th>\n",
       "      <td>2.5이상 3.0미만</td>\n",
       "      <td>2.00</td>\n",
       "      <td>NaN</td>\n",
       "      <td>24.00</td>\n",
       "      <td>66.00</td>\n",
       "      <td>147.00</td>\n",
       "      <td>425.00</td>\n",
       "      <td>649.00</td>\n",
       "      <td>537.00</td>\n",
       "      <td>286.00</td>\n",
       "      <td>120.00</td>\n",
       "      <td>34.00</td>\n",
       "      <td>13.00</td>\n",
       "      <td>2303.00</td>\n",
       "    </tr>\n",
       "    <tr>\n",
       "      <th>6</th>\n",
       "      <td>3.0이상 3.5미만</td>\n",
       "      <td>NaN</td>\n",
       "      <td>2.00</td>\n",
       "      <td>11.00</td>\n",
       "      <td>28.00</td>\n",
       "      <td>120.00</td>\n",
       "      <td>304.00</td>\n",
       "      <td>450.00</td>\n",
       "      <td>380.00</td>\n",
       "      <td>206.00</td>\n",
       "      <td>58.00</td>\n",
       "      <td>17.00</td>\n",
       "      <td>3.00</td>\n",
       "      <td>1579.00</td>\n",
       "    </tr>\n",
       "    <tr>\n",
       "      <th>7</th>\n",
       "      <td>3.5이상 4.0미만</td>\n",
       "      <td>1.00</td>\n",
       "      <td>NaN</td>\n",
       "      <td>14.00</td>\n",
       "      <td>29.00</td>\n",
       "      <td>89.00</td>\n",
       "      <td>230.00</td>\n",
       "      <td>357.00</td>\n",
       "      <td>298.00</td>\n",
       "      <td>154.00</td>\n",
       "      <td>57.00</td>\n",
       "      <td>22.00</td>\n",
       "      <td>2.00</td>\n",
       "      <td>1253.00</td>\n",
       "    </tr>\n",
       "    <tr>\n",
       "      <th>8</th>\n",
       "      <td>4.0이상 4.5미만</td>\n",
       "      <td>NaN</td>\n",
       "      <td>NaN</td>\n",
       "      <td>7.00</td>\n",
       "      <td>28.00</td>\n",
       "      <td>69.00</td>\n",
       "      <td>182.00</td>\n",
       "      <td>270.00</td>\n",
       "      <td>270.00</td>\n",
       "      <td>134.00</td>\n",
       "      <td>56.00</td>\n",
       "      <td>18.00</td>\n",
       "      <td>3.00</td>\n",
       "      <td>1037.00</td>\n",
       "    </tr>\n",
       "    <tr>\n",
       "      <th>9</th>\n",
       "      <td>4.5이상</td>\n",
       "      <td>1.00</td>\n",
       "      <td>NaN</td>\n",
       "      <td>9.00</td>\n",
       "      <td>24.00</td>\n",
       "      <td>62.00</td>\n",
       "      <td>210.00</td>\n",
       "      <td>273.00</td>\n",
       "      <td>244.00</td>\n",
       "      <td>138.00</td>\n",
       "      <td>49.00</td>\n",
       "      <td>16.00</td>\n",
       "      <td>6.00</td>\n",
       "      <td>1032.00</td>\n",
       "    </tr>\n",
       "    <tr>\n",
       "      <th>10</th>\n",
       "      <td>총합</td>\n",
       "      <td>45.00</td>\n",
       "      <td>72.00</td>\n",
       "      <td>780.00</td>\n",
       "      <td>2946.00</td>\n",
       "      <td>9540.00</td>\n",
       "      <td>26308.00</td>\n",
       "      <td>39349.00</td>\n",
       "      <td>32107.00</td>\n",
       "      <td>17090.00</td>\n",
       "      <td>6381.00</td>\n",
       "      <td>2049.00</td>\n",
       "      <td>481.00</td>\n",
       "      <td>137148.00</td>\n",
       "    </tr>\n",
       "  </tbody>\n",
       "</table>\n",
       "</div>"
      ],
      "text/plain": [
       "                매연(%) 속도(km/h)                                          \\\n",
       "속도(km/h)              0이상 10미만 10이상 20미만 20이상 30미만 30이상 40미만 40이상 50미만   \n",
       "0           0이상 0.5미만    22.00     28.00    312.00   1259.00   4561.00   \n",
       "1         0.5이상 1.0미만    13.00     20.00    195.00    822.00   2789.00   \n",
       "2         1.0이상 1.5미만     3.00     14.00    119.00    396.00   1020.00   \n",
       "3         1.5이상 2.0미만     2.00      8.00     50.00    201.00    459.00   \n",
       "4         2.0이상 2.5미만     1.00       NaN     39.00     93.00    224.00   \n",
       "5         2.5이상 3.0미만     2.00       NaN     24.00     66.00    147.00   \n",
       "6         3.0이상 3.5미만      NaN      2.00     11.00     28.00    120.00   \n",
       "7         3.5이상 4.0미만     1.00       NaN     14.00     29.00     89.00   \n",
       "8         4.0이상 4.5미만      NaN       NaN      7.00     28.00     69.00   \n",
       "9               4.5이상     1.00       NaN      9.00     24.00     62.00   \n",
       "10                 총합    45.00     72.00    780.00   2946.00   9540.00   \n",
       "\n",
       "                                                                         \\\n",
       "속도(km/h) 50이상 60미만 60이상 70미만 70이상 80미만 80이상 90미만 90이상 100미만 100이상 110미만   \n",
       "0         13298.00  20372.00  16300.00   8637.00    3237.00     1024.00   \n",
       "1          6897.00   9701.00   7960.00   4252.00    1581.00      488.00   \n",
       "2          2946.00   4527.00   3676.00   1969.00     729.00      269.00   \n",
       "3          1156.00   1843.00   1607.00    817.00     292.00      105.00   \n",
       "4           660.00    907.00    835.00    497.00     202.00       56.00   \n",
       "5           425.00    649.00    537.00    286.00     120.00       34.00   \n",
       "6           304.00    450.00    380.00    206.00      58.00       17.00   \n",
       "7           230.00    357.00    298.00    154.00      57.00       22.00   \n",
       "8           182.00    270.00    270.00    134.00      56.00       18.00   \n",
       "9           210.00    273.00    244.00    138.00      49.00       16.00   \n",
       "10        26308.00  39349.00  32107.00  17090.00    6381.00     2049.00   \n",
       "\n",
       "                            합계  \n",
       "속도(km/h) 110이상 120미만            \n",
       "0             217.00  69267.00  \n",
       "1             134.00  34852.00  \n",
       "2              70.00  15738.00  \n",
       "3              26.00   6566.00  \n",
       "4               7.00   3521.00  \n",
       "5              13.00   2303.00  \n",
       "6               3.00   1579.00  \n",
       "7               2.00   1253.00  \n",
       "8               3.00   1037.00  \n",
       "9               6.00   1032.00  \n",
       "10            481.00 137148.00  "
      ]
     },
     "execution_count": 1340,
     "metadata": {},
     "output_type": "execute_result"
    }
   ],
   "source": [
    "grp14 = die.groupby(['매연구분인덱스', '매연구분', '속도구분인덱스', '속도구분'], dropna=False).agg({'차량번호':'count'}).unstack(['속도구분인덱스', '속도구분']).reset_index()\n",
    "grp14 = grp14.rename(columns={'매연구분':'매연(%)', '차량번호':'속도(km/h)'})\n",
    "grp14 = grp14.rename_axis(columns={'속도구분':'속도(km/h)'})\n",
    "grp14['합계'] = grp14.iloc[:, 2:].sum(axis=1)\n",
    "grp14.loc[grp14.shape[0]] = [grp14['매연구분인덱스'].max() + 1, '총합'] + grp14.iloc[:, 2:].sum().to_list()\n",
    "grp14 = grp14.drop('매연구분인덱스', axis=1, level=0)\n",
    "grp14.columns = grp14.columns.droplevel(1)\n",
    "grp14"
   ]
  },
  {
   "cell_type": "markdown",
   "metadata": {},
   "source": [
    "### 15\\. RSD 매연 농도, 배출가스 등급별 데이터 수량"
   ]
  },
  {
   "cell_type": "code",
   "execution_count": 1341,
   "metadata": {},
   "outputs": [
    {
     "data": {
      "text/html": [
       "<div>\n",
       "<style scoped>\n",
       "    .dataframe tbody tr th:only-of-type {\n",
       "        vertical-align: middle;\n",
       "    }\n",
       "\n",
       "    .dataframe tbody tr th {\n",
       "        vertical-align: top;\n",
       "    }\n",
       "\n",
       "    .dataframe thead th {\n",
       "        text-align: right;\n",
       "    }\n",
       "</style>\n",
       "<table border=\"1\" class=\"dataframe\">\n",
       "  <thead>\n",
       "    <tr style=\"text-align: right;\">\n",
       "      <th></th>\n",
       "      <th>매연(%)</th>\n",
       "      <th>등급</th>\n",
       "      <th>측정건수(건)</th>\n",
       "    </tr>\n",
       "  </thead>\n",
       "  <tbody>\n",
       "    <tr>\n",
       "      <th>0</th>\n",
       "      <td>0이상 0.5미만</td>\n",
       "      <td>3</td>\n",
       "      <td>60330</td>\n",
       "    </tr>\n",
       "    <tr>\n",
       "      <th>1</th>\n",
       "      <td>0이상 0.5미만</td>\n",
       "      <td>4</td>\n",
       "      <td>4213</td>\n",
       "    </tr>\n",
       "    <tr>\n",
       "      <th>2</th>\n",
       "      <td>0이상 0.5미만</td>\n",
       "      <td>5</td>\n",
       "      <td>1430</td>\n",
       "    </tr>\n",
       "    <tr>\n",
       "      <th>3</th>\n",
       "      <td>0이상 0.5미만</td>\n",
       "      <td>T3</td>\n",
       "      <td>3268</td>\n",
       "    </tr>\n",
       "    <tr>\n",
       "      <th>4</th>\n",
       "      <td>0이상 0.5미만</td>\n",
       "      <td>X</td>\n",
       "      <td>26</td>\n",
       "    </tr>\n",
       "    <tr>\n",
       "      <th>5</th>\n",
       "      <td>0.5이상 1.0미만</td>\n",
       "      <td>3</td>\n",
       "      <td>30064</td>\n",
       "    </tr>\n",
       "    <tr>\n",
       "      <th>6</th>\n",
       "      <td>0.5이상 1.0미만</td>\n",
       "      <td>4</td>\n",
       "      <td>2699</td>\n",
       "    </tr>\n",
       "    <tr>\n",
       "      <th>7</th>\n",
       "      <td>0.5이상 1.0미만</td>\n",
       "      <td>5</td>\n",
       "      <td>685</td>\n",
       "    </tr>\n",
       "    <tr>\n",
       "      <th>8</th>\n",
       "      <td>0.5이상 1.0미만</td>\n",
       "      <td>T3</td>\n",
       "      <td>1397</td>\n",
       "    </tr>\n",
       "    <tr>\n",
       "      <th>9</th>\n",
       "      <td>0.5이상 1.0미만</td>\n",
       "      <td>X</td>\n",
       "      <td>7</td>\n",
       "    </tr>\n",
       "    <tr>\n",
       "      <th>10</th>\n",
       "      <td>1.0이상 1.5미만</td>\n",
       "      <td>3</td>\n",
       "      <td>13269</td>\n",
       "    </tr>\n",
       "    <tr>\n",
       "      <th>11</th>\n",
       "      <td>1.0이상 1.5미만</td>\n",
       "      <td>4</td>\n",
       "      <td>1444</td>\n",
       "    </tr>\n",
       "    <tr>\n",
       "      <th>12</th>\n",
       "      <td>1.0이상 1.5미만</td>\n",
       "      <td>5</td>\n",
       "      <td>441</td>\n",
       "    </tr>\n",
       "    <tr>\n",
       "      <th>13</th>\n",
       "      <td>1.0이상 1.5미만</td>\n",
       "      <td>T3</td>\n",
       "      <td>581</td>\n",
       "    </tr>\n",
       "    <tr>\n",
       "      <th>14</th>\n",
       "      <td>1.0이상 1.5미만</td>\n",
       "      <td>X</td>\n",
       "      <td>3</td>\n",
       "    </tr>\n",
       "    <tr>\n",
       "      <th>15</th>\n",
       "      <td>1.5이상 2.0미만</td>\n",
       "      <td>3</td>\n",
       "      <td>5463</td>\n",
       "    </tr>\n",
       "    <tr>\n",
       "      <th>16</th>\n",
       "      <td>1.5이상 2.0미만</td>\n",
       "      <td>4</td>\n",
       "      <td>657</td>\n",
       "    </tr>\n",
       "    <tr>\n",
       "      <th>17</th>\n",
       "      <td>1.5이상 2.0미만</td>\n",
       "      <td>5</td>\n",
       "      <td>211</td>\n",
       "    </tr>\n",
       "    <tr>\n",
       "      <th>18</th>\n",
       "      <td>1.5이상 2.0미만</td>\n",
       "      <td>T3</td>\n",
       "      <td>234</td>\n",
       "    </tr>\n",
       "    <tr>\n",
       "      <th>19</th>\n",
       "      <td>1.5이상 2.0미만</td>\n",
       "      <td>X</td>\n",
       "      <td>1</td>\n",
       "    </tr>\n",
       "    <tr>\n",
       "      <th>20</th>\n",
       "      <td>2.0이상 2.5미만</td>\n",
       "      <td>3</td>\n",
       "      <td>2896</td>\n",
       "    </tr>\n",
       "    <tr>\n",
       "      <th>21</th>\n",
       "      <td>2.0이상 2.5미만</td>\n",
       "      <td>4</td>\n",
       "      <td>360</td>\n",
       "    </tr>\n",
       "    <tr>\n",
       "      <th>22</th>\n",
       "      <td>2.0이상 2.5미만</td>\n",
       "      <td>5</td>\n",
       "      <td>134</td>\n",
       "    </tr>\n",
       "    <tr>\n",
       "      <th>23</th>\n",
       "      <td>2.0이상 2.5미만</td>\n",
       "      <td>T3</td>\n",
       "      <td>131</td>\n",
       "    </tr>\n",
       "    <tr>\n",
       "      <th>24</th>\n",
       "      <td>2.5이상 3.0미만</td>\n",
       "      <td>3</td>\n",
       "      <td>1907</td>\n",
       "    </tr>\n",
       "    <tr>\n",
       "      <th>25</th>\n",
       "      <td>2.5이상 3.0미만</td>\n",
       "      <td>4</td>\n",
       "      <td>225</td>\n",
       "    </tr>\n",
       "    <tr>\n",
       "      <th>26</th>\n",
       "      <td>2.5이상 3.0미만</td>\n",
       "      <td>5</td>\n",
       "      <td>82</td>\n",
       "    </tr>\n",
       "    <tr>\n",
       "      <th>27</th>\n",
       "      <td>2.5이상 3.0미만</td>\n",
       "      <td>T3</td>\n",
       "      <td>88</td>\n",
       "    </tr>\n",
       "    <tr>\n",
       "      <th>28</th>\n",
       "      <td>2.5이상 3.0미만</td>\n",
       "      <td>X</td>\n",
       "      <td>1</td>\n",
       "    </tr>\n",
       "    <tr>\n",
       "      <th>29</th>\n",
       "      <td>3.0이상 3.5미만</td>\n",
       "      <td>3</td>\n",
       "      <td>1288</td>\n",
       "    </tr>\n",
       "    <tr>\n",
       "      <th>30</th>\n",
       "      <td>3.0이상 3.5미만</td>\n",
       "      <td>4</td>\n",
       "      <td>171</td>\n",
       "    </tr>\n",
       "    <tr>\n",
       "      <th>31</th>\n",
       "      <td>3.0이상 3.5미만</td>\n",
       "      <td>5</td>\n",
       "      <td>44</td>\n",
       "    </tr>\n",
       "    <tr>\n",
       "      <th>32</th>\n",
       "      <td>3.0이상 3.5미만</td>\n",
       "      <td>T3</td>\n",
       "      <td>73</td>\n",
       "    </tr>\n",
       "    <tr>\n",
       "      <th>33</th>\n",
       "      <td>3.0이상 3.5미만</td>\n",
       "      <td>X</td>\n",
       "      <td>3</td>\n",
       "    </tr>\n",
       "    <tr>\n",
       "      <th>34</th>\n",
       "      <td>3.5이상 4.0미만</td>\n",
       "      <td>3</td>\n",
       "      <td>1030</td>\n",
       "    </tr>\n",
       "    <tr>\n",
       "      <th>35</th>\n",
       "      <td>3.5이상 4.0미만</td>\n",
       "      <td>4</td>\n",
       "      <td>123</td>\n",
       "    </tr>\n",
       "    <tr>\n",
       "      <th>36</th>\n",
       "      <td>3.5이상 4.0미만</td>\n",
       "      <td>5</td>\n",
       "      <td>47</td>\n",
       "    </tr>\n",
       "    <tr>\n",
       "      <th>37</th>\n",
       "      <td>3.5이상 4.0미만</td>\n",
       "      <td>T3</td>\n",
       "      <td>53</td>\n",
       "    </tr>\n",
       "    <tr>\n",
       "      <th>38</th>\n",
       "      <td>4.0이상 4.5미만</td>\n",
       "      <td>3</td>\n",
       "      <td>853</td>\n",
       "    </tr>\n",
       "    <tr>\n",
       "      <th>39</th>\n",
       "      <td>4.0이상 4.5미만</td>\n",
       "      <td>4</td>\n",
       "      <td>102</td>\n",
       "    </tr>\n",
       "    <tr>\n",
       "      <th>40</th>\n",
       "      <td>4.0이상 4.5미만</td>\n",
       "      <td>5</td>\n",
       "      <td>46</td>\n",
       "    </tr>\n",
       "    <tr>\n",
       "      <th>41</th>\n",
       "      <td>4.0이상 4.5미만</td>\n",
       "      <td>T3</td>\n",
       "      <td>36</td>\n",
       "    </tr>\n",
       "    <tr>\n",
       "      <th>42</th>\n",
       "      <td>4.5이상</td>\n",
       "      <td>3</td>\n",
       "      <td>858</td>\n",
       "    </tr>\n",
       "    <tr>\n",
       "      <th>43</th>\n",
       "      <td>4.5이상</td>\n",
       "      <td>4</td>\n",
       "      <td>87</td>\n",
       "    </tr>\n",
       "    <tr>\n",
       "      <th>44</th>\n",
       "      <td>4.5이상</td>\n",
       "      <td>5</td>\n",
       "      <td>36</td>\n",
       "    </tr>\n",
       "    <tr>\n",
       "      <th>45</th>\n",
       "      <td>4.5이상</td>\n",
       "      <td>T3</td>\n",
       "      <td>51</td>\n",
       "    </tr>\n",
       "    <tr>\n",
       "      <th>46</th>\n",
       "      <td>총합</td>\n",
       "      <td>NaN</td>\n",
       "      <td>137148</td>\n",
       "    </tr>\n",
       "  </tbody>\n",
       "</table>\n",
       "</div>"
      ],
      "text/plain": [
       "          매연(%)   등급  측정건수(건)\n",
       "0     0이상 0.5미만    3    60330\n",
       "1     0이상 0.5미만    4     4213\n",
       "2     0이상 0.5미만    5     1430\n",
       "3     0이상 0.5미만   T3     3268\n",
       "4     0이상 0.5미만    X       26\n",
       "5   0.5이상 1.0미만    3    30064\n",
       "6   0.5이상 1.0미만    4     2699\n",
       "7   0.5이상 1.0미만    5      685\n",
       "8   0.5이상 1.0미만   T3     1397\n",
       "9   0.5이상 1.0미만    X        7\n",
       "10  1.0이상 1.5미만    3    13269\n",
       "11  1.0이상 1.5미만    4     1444\n",
       "12  1.0이상 1.5미만    5      441\n",
       "13  1.0이상 1.5미만   T3      581\n",
       "14  1.0이상 1.5미만    X        3\n",
       "15  1.5이상 2.0미만    3     5463\n",
       "16  1.5이상 2.0미만    4      657\n",
       "17  1.5이상 2.0미만    5      211\n",
       "18  1.5이상 2.0미만   T3      234\n",
       "19  1.5이상 2.0미만    X        1\n",
       "20  2.0이상 2.5미만    3     2896\n",
       "21  2.0이상 2.5미만    4      360\n",
       "22  2.0이상 2.5미만    5      134\n",
       "23  2.0이상 2.5미만   T3      131\n",
       "24  2.5이상 3.0미만    3     1907\n",
       "25  2.5이상 3.0미만    4      225\n",
       "26  2.5이상 3.0미만    5       82\n",
       "27  2.5이상 3.0미만   T3       88\n",
       "28  2.5이상 3.0미만    X        1\n",
       "29  3.0이상 3.5미만    3     1288\n",
       "30  3.0이상 3.5미만    4      171\n",
       "31  3.0이상 3.5미만    5       44\n",
       "32  3.0이상 3.5미만   T3       73\n",
       "33  3.0이상 3.5미만    X        3\n",
       "34  3.5이상 4.0미만    3     1030\n",
       "35  3.5이상 4.0미만    4      123\n",
       "36  3.5이상 4.0미만    5       47\n",
       "37  3.5이상 4.0미만   T3       53\n",
       "38  4.0이상 4.5미만    3      853\n",
       "39  4.0이상 4.5미만    4      102\n",
       "40  4.0이상 4.5미만    5       46\n",
       "41  4.0이상 4.5미만   T3       36\n",
       "42        4.5이상    3      858\n",
       "43        4.5이상    4       87\n",
       "44        4.5이상    5       36\n",
       "45        4.5이상   T3       51\n",
       "46           총합  NaN   137148"
      ]
     },
     "execution_count": 1341,
     "metadata": {},
     "output_type": "execute_result"
    }
   ],
   "source": [
    "# grp15 = die.groupby(['매연구분인덱스', '매연구분', '등급'], dropna=False).agg({'차량번호':'count'}).reset_index()\n",
    "# grp15 = grp15.rename(columns={'차량번호':'측정건수(건)', '매연구분':'매연(%)'})\n",
    "# grp15.loc[grp15.shape[0]] = [grp15['매연구분인덱스'].max() + 1, '총합', np.nan, grp15['측정건수(건)'].sum()]\n",
    "# grp15 = grp15.drop('매연구분인덱스', axis=1)\n",
    "# grp15"
   ]
  },
  {
   "cell_type": "code",
   "execution_count": 1342,
   "metadata": {},
   "outputs": [
    {
     "name": "stderr",
     "output_type": "stream",
     "text": [
      "C:\\Users\\kbjung\\AppData\\Local\\Temp\\ipykernel_12976\\1013039746.py:5: PerformanceWarning: dropping on a non-lexsorted multi-index without a level parameter may impact performance.\n",
      "  grp15 = grp15.drop('매연구분인덱스', axis=1)\n"
     ]
    },
    {
     "data": {
      "text/html": [
       "<div>\n",
       "<style scoped>\n",
       "    .dataframe tbody tr th:only-of-type {\n",
       "        vertical-align: middle;\n",
       "    }\n",
       "\n",
       "    .dataframe tbody tr th {\n",
       "        vertical-align: top;\n",
       "    }\n",
       "\n",
       "    .dataframe thead tr th {\n",
       "        text-align: left;\n",
       "    }\n",
       "</style>\n",
       "<table border=\"1\" class=\"dataframe\">\n",
       "  <thead>\n",
       "    <tr>\n",
       "      <th></th>\n",
       "      <th>매연(%)</th>\n",
       "      <th colspan=\"5\" halign=\"left\">등급</th>\n",
       "      <th>합계</th>\n",
       "    </tr>\n",
       "    <tr>\n",
       "      <th>등급</th>\n",
       "      <th></th>\n",
       "      <th>3</th>\n",
       "      <th>4</th>\n",
       "      <th>5</th>\n",
       "      <th>T3</th>\n",
       "      <th>X</th>\n",
       "      <th></th>\n",
       "    </tr>\n",
       "  </thead>\n",
       "  <tbody>\n",
       "    <tr>\n",
       "      <th>0</th>\n",
       "      <td>0이상 0.5미만</td>\n",
       "      <td>60330.00</td>\n",
       "      <td>4213.00</td>\n",
       "      <td>1430.00</td>\n",
       "      <td>3268.00</td>\n",
       "      <td>26.00</td>\n",
       "      <td>69267.00</td>\n",
       "    </tr>\n",
       "    <tr>\n",
       "      <th>1</th>\n",
       "      <td>0.5이상 1.0미만</td>\n",
       "      <td>30064.00</td>\n",
       "      <td>2699.00</td>\n",
       "      <td>685.00</td>\n",
       "      <td>1397.00</td>\n",
       "      <td>7.00</td>\n",
       "      <td>34852.00</td>\n",
       "    </tr>\n",
       "    <tr>\n",
       "      <th>2</th>\n",
       "      <td>1.0이상 1.5미만</td>\n",
       "      <td>13269.00</td>\n",
       "      <td>1444.00</td>\n",
       "      <td>441.00</td>\n",
       "      <td>581.00</td>\n",
       "      <td>3.00</td>\n",
       "      <td>15738.00</td>\n",
       "    </tr>\n",
       "    <tr>\n",
       "      <th>3</th>\n",
       "      <td>1.5이상 2.0미만</td>\n",
       "      <td>5463.00</td>\n",
       "      <td>657.00</td>\n",
       "      <td>211.00</td>\n",
       "      <td>234.00</td>\n",
       "      <td>1.00</td>\n",
       "      <td>6566.00</td>\n",
       "    </tr>\n",
       "    <tr>\n",
       "      <th>4</th>\n",
       "      <td>2.0이상 2.5미만</td>\n",
       "      <td>2896.00</td>\n",
       "      <td>360.00</td>\n",
       "      <td>134.00</td>\n",
       "      <td>131.00</td>\n",
       "      <td>NaN</td>\n",
       "      <td>3521.00</td>\n",
       "    </tr>\n",
       "    <tr>\n",
       "      <th>5</th>\n",
       "      <td>2.5이상 3.0미만</td>\n",
       "      <td>1907.00</td>\n",
       "      <td>225.00</td>\n",
       "      <td>82.00</td>\n",
       "      <td>88.00</td>\n",
       "      <td>1.00</td>\n",
       "      <td>2303.00</td>\n",
       "    </tr>\n",
       "    <tr>\n",
       "      <th>6</th>\n",
       "      <td>3.0이상 3.5미만</td>\n",
       "      <td>1288.00</td>\n",
       "      <td>171.00</td>\n",
       "      <td>44.00</td>\n",
       "      <td>73.00</td>\n",
       "      <td>3.00</td>\n",
       "      <td>1579.00</td>\n",
       "    </tr>\n",
       "    <tr>\n",
       "      <th>7</th>\n",
       "      <td>3.5이상 4.0미만</td>\n",
       "      <td>1030.00</td>\n",
       "      <td>123.00</td>\n",
       "      <td>47.00</td>\n",
       "      <td>53.00</td>\n",
       "      <td>NaN</td>\n",
       "      <td>1253.00</td>\n",
       "    </tr>\n",
       "    <tr>\n",
       "      <th>8</th>\n",
       "      <td>4.0이상 4.5미만</td>\n",
       "      <td>853.00</td>\n",
       "      <td>102.00</td>\n",
       "      <td>46.00</td>\n",
       "      <td>36.00</td>\n",
       "      <td>NaN</td>\n",
       "      <td>1037.00</td>\n",
       "    </tr>\n",
       "    <tr>\n",
       "      <th>9</th>\n",
       "      <td>4.5이상</td>\n",
       "      <td>858.00</td>\n",
       "      <td>87.00</td>\n",
       "      <td>36.00</td>\n",
       "      <td>51.00</td>\n",
       "      <td>NaN</td>\n",
       "      <td>1032.00</td>\n",
       "    </tr>\n",
       "    <tr>\n",
       "      <th>10</th>\n",
       "      <td>총합</td>\n",
       "      <td>117958.00</td>\n",
       "      <td>10081.00</td>\n",
       "      <td>3156.00</td>\n",
       "      <td>5912.00</td>\n",
       "      <td>41.00</td>\n",
       "      <td>137148.00</td>\n",
       "    </tr>\n",
       "  </tbody>\n",
       "</table>\n",
       "</div>"
      ],
      "text/plain": [
       "          매연(%)        등급                                       합계\n",
       "등급                      3        4       5      T3     X          \n",
       "0     0이상 0.5미만  60330.00  4213.00 1430.00 3268.00 26.00  69267.00\n",
       "1   0.5이상 1.0미만  30064.00  2699.00  685.00 1397.00  7.00  34852.00\n",
       "2   1.0이상 1.5미만  13269.00  1444.00  441.00  581.00  3.00  15738.00\n",
       "3   1.5이상 2.0미만   5463.00   657.00  211.00  234.00  1.00   6566.00\n",
       "4   2.0이상 2.5미만   2896.00   360.00  134.00  131.00   NaN   3521.00\n",
       "5   2.5이상 3.0미만   1907.00   225.00   82.00   88.00  1.00   2303.00\n",
       "6   3.0이상 3.5미만   1288.00   171.00   44.00   73.00  3.00   1579.00\n",
       "7   3.5이상 4.0미만   1030.00   123.00   47.00   53.00   NaN   1253.00\n",
       "8   4.0이상 4.5미만    853.00   102.00   46.00   36.00   NaN   1037.00\n",
       "9         4.5이상    858.00    87.00   36.00   51.00   NaN   1032.00\n",
       "10           총합 117958.00 10081.00 3156.00 5912.00 41.00 137148.00"
      ]
     },
     "execution_count": 1342,
     "metadata": {},
     "output_type": "execute_result"
    }
   ],
   "source": [
    "grp15 = die.groupby(['매연구분인덱스', '매연구분', '등급'], dropna=False).agg({'차량번호':'count'}).unstack('등급').reset_index()\n",
    "grp15 = grp15.rename(columns={'매연구분':'매연(%)', '차량번호':'등급'})\n",
    "grp15['합계'] = grp15.iloc[:, 2:].sum(axis=1)\n",
    "grp15.loc[grp15.shape[0]] = [grp15['매연구분인덱스'].max() + 1, '총합'] + grp15.iloc[:, 2:].sum().to_list()\n",
    "grp15 = grp15.drop('매연구분인덱스', axis=1)\n",
    "grp15"
   ]
  },
  {
   "cell_type": "markdown",
   "metadata": {},
   "source": [
    "### 16\\. RSD 매연 농도, 배기량별 데이터 수량"
   ]
  },
  {
   "cell_type": "code",
   "execution_count": 1343,
   "metadata": {},
   "outputs": [
    {
     "data": {
      "text/html": [
       "<div>\n",
       "<style scoped>\n",
       "    .dataframe tbody tr th:only-of-type {\n",
       "        vertical-align: middle;\n",
       "    }\n",
       "\n",
       "    .dataframe tbody tr th {\n",
       "        vertical-align: top;\n",
       "    }\n",
       "\n",
       "    .dataframe thead th {\n",
       "        text-align: right;\n",
       "    }\n",
       "</style>\n",
       "<table border=\"1\" class=\"dataframe\">\n",
       "  <thead>\n",
       "    <tr style=\"text-align: right;\">\n",
       "      <th></th>\n",
       "      <th>매연(%)</th>\n",
       "      <th>배기량(cc)</th>\n",
       "      <th>측정건수(건)</th>\n",
       "    </tr>\n",
       "  </thead>\n",
       "  <tbody>\n",
       "    <tr>\n",
       "      <th>0</th>\n",
       "      <td>0이상 0.5미만</td>\n",
       "      <td>1천이상 2천미만</td>\n",
       "      <td>22269</td>\n",
       "    </tr>\n",
       "    <tr>\n",
       "      <th>1</th>\n",
       "      <td>0이상 0.5미만</td>\n",
       "      <td>2천이상 3천미만</td>\n",
       "      <td>38961</td>\n",
       "    </tr>\n",
       "    <tr>\n",
       "      <th>2</th>\n",
       "      <td>0이상 0.5미만</td>\n",
       "      <td>3천이상 4천미만</td>\n",
       "      <td>2755</td>\n",
       "    </tr>\n",
       "    <tr>\n",
       "      <th>3</th>\n",
       "      <td>0이상 0.5미만</td>\n",
       "      <td>4천이상 5천미만</td>\n",
       "      <td>166</td>\n",
       "    </tr>\n",
       "    <tr>\n",
       "      <th>4</th>\n",
       "      <td>0이상 0.5미만</td>\n",
       "      <td>5천이상 6천미만</td>\n",
       "      <td>1135</td>\n",
       "    </tr>\n",
       "    <tr>\n",
       "      <th>...</th>\n",
       "      <td>...</td>\n",
       "      <td>...</td>\n",
       "      <td>...</td>\n",
       "    </tr>\n",
       "    <tr>\n",
       "      <th>123</th>\n",
       "      <td>4.5이상</td>\n",
       "      <td>9천이상 10천미만</td>\n",
       "      <td>27</td>\n",
       "    </tr>\n",
       "    <tr>\n",
       "      <th>124</th>\n",
       "      <td>4.5이상</td>\n",
       "      <td>10천이상 11천미만</td>\n",
       "      <td>3</td>\n",
       "    </tr>\n",
       "    <tr>\n",
       "      <th>125</th>\n",
       "      <td>4.5이상</td>\n",
       "      <td>11천이상 12천미만</td>\n",
       "      <td>2</td>\n",
       "    </tr>\n",
       "    <tr>\n",
       "      <th>126</th>\n",
       "      <td>4.5이상</td>\n",
       "      <td>12천이상 13천미만</td>\n",
       "      <td>16</td>\n",
       "    </tr>\n",
       "    <tr>\n",
       "      <th>127</th>\n",
       "      <td>총합</td>\n",
       "      <td>NaN</td>\n",
       "      <td>137148</td>\n",
       "    </tr>\n",
       "  </tbody>\n",
       "</table>\n",
       "<p>128 rows × 3 columns</p>\n",
       "</div>"
      ],
      "text/plain": [
       "         매연(%)      배기량(cc)  측정건수(건)\n",
       "0    0이상 0.5미만    1천이상 2천미만    22269\n",
       "1    0이상 0.5미만    2천이상 3천미만    38961\n",
       "2    0이상 0.5미만    3천이상 4천미만     2755\n",
       "3    0이상 0.5미만    4천이상 5천미만      166\n",
       "4    0이상 0.5미만    5천이상 6천미만     1135\n",
       "..         ...          ...      ...\n",
       "123      4.5이상   9천이상 10천미만       27\n",
       "124      4.5이상  10천이상 11천미만        3\n",
       "125      4.5이상  11천이상 12천미만        2\n",
       "126      4.5이상  12천이상 13천미만       16\n",
       "127         총합          NaN   137148\n",
       "\n",
       "[128 rows x 3 columns]"
      ]
     },
     "execution_count": 1343,
     "metadata": {},
     "output_type": "execute_result"
    }
   ],
   "source": [
    "grp16 = die.groupby(['매연구분인덱스', '매연구분', '배기량구분인덱스', '배기량구분'], dropna=False).agg({'차량번호':'count'}).reset_index()\n",
    "grp16 = grp16.rename(columns={'차량번호':'측정건수(건)', '매연구분':'매연(%)', '배기량구분':'배기량(cc)'})\n",
    "grp16.loc[grp16.shape[0]] = [grp16['매연구분인덱스'].max() + 1, '총합', np.nan, np.nan, grp16['측정건수(건)'].sum()]\n",
    "grp16 = grp16.drop(['매연구분인덱스', '배기량구분인덱스'], axis=1)\n",
    "grp16"
   ]
  },
  {
   "cell_type": "code",
   "execution_count": 1344,
   "metadata": {},
   "outputs": [
    {
     "name": "stderr",
     "output_type": "stream",
     "text": [
      "C:\\Users\\kbjung\\AppData\\Local\\Temp\\ipykernel_12976\\2848121395.py:7: PerformanceWarning: dropping on a non-lexsorted multi-index without a level parameter may impact performance.\n",
      "  grp16 = grp16.drop('매연구분인덱스', axis=1)\n"
     ]
    },
    {
     "data": {
      "text/html": [
       "<div>\n",
       "<style scoped>\n",
       "    .dataframe tbody tr th:only-of-type {\n",
       "        vertical-align: middle;\n",
       "    }\n",
       "\n",
       "    .dataframe tbody tr th {\n",
       "        vertical-align: top;\n",
       "    }\n",
       "\n",
       "    .dataframe thead th {\n",
       "        text-align: right;\n",
       "    }\n",
       "</style>\n",
       "<table border=\"1\" class=\"dataframe\">\n",
       "  <thead>\n",
       "    <tr style=\"text-align: right;\">\n",
       "      <th></th>\n",
       "      <th></th>\n",
       "      <th>0</th>\n",
       "      <th>1</th>\n",
       "      <th>2</th>\n",
       "      <th>3</th>\n",
       "      <th>4</th>\n",
       "      <th>5</th>\n",
       "      <th>6</th>\n",
       "      <th>7</th>\n",
       "      <th>8</th>\n",
       "      <th>9</th>\n",
       "      <th>10</th>\n",
       "    </tr>\n",
       "    <tr>\n",
       "      <th></th>\n",
       "      <th>배기량(cc)</th>\n",
       "      <th></th>\n",
       "      <th></th>\n",
       "      <th></th>\n",
       "      <th></th>\n",
       "      <th></th>\n",
       "      <th></th>\n",
       "      <th></th>\n",
       "      <th></th>\n",
       "      <th></th>\n",
       "      <th></th>\n",
       "      <th></th>\n",
       "    </tr>\n",
       "  </thead>\n",
       "  <tbody>\n",
       "    <tr>\n",
       "      <th>매연(%)</th>\n",
       "      <th></th>\n",
       "      <td>0이상 0.5미만</td>\n",
       "      <td>0.5이상 1.0미만</td>\n",
       "      <td>1.0이상 1.5미만</td>\n",
       "      <td>1.5이상 2.0미만</td>\n",
       "      <td>2.0이상 2.5미만</td>\n",
       "      <td>2.5이상 3.0미만</td>\n",
       "      <td>3.0이상 3.5미만</td>\n",
       "      <td>3.5이상 4.0미만</td>\n",
       "      <td>4.0이상 4.5미만</td>\n",
       "      <td>4.5이상</td>\n",
       "      <td>총합</td>\n",
       "    </tr>\n",
       "    <tr>\n",
       "      <th rowspan=\"15\" valign=\"top\">배기량(cc)</th>\n",
       "      <th>1천이상 2천미만</th>\n",
       "      <td>22269.00</td>\n",
       "      <td>11607.00</td>\n",
       "      <td>5194.00</td>\n",
       "      <td>2117.00</td>\n",
       "      <td>1117.00</td>\n",
       "      <td>704.00</td>\n",
       "      <td>495.00</td>\n",
       "      <td>357.00</td>\n",
       "      <td>303.00</td>\n",
       "      <td>291.00</td>\n",
       "      <td>44454.00</td>\n",
       "    </tr>\n",
       "    <tr>\n",
       "      <th>2천이상 3천미만</th>\n",
       "      <td>38961.00</td>\n",
       "      <td>20303.00</td>\n",
       "      <td>8841.00</td>\n",
       "      <td>3586.00</td>\n",
       "      <td>1904.00</td>\n",
       "      <td>1274.00</td>\n",
       "      <td>856.00</td>\n",
       "      <td>700.00</td>\n",
       "      <td>599.00</td>\n",
       "      <td>585.00</td>\n",
       "      <td>77609.00</td>\n",
       "    </tr>\n",
       "    <tr>\n",
       "      <th>3천이상 4천미만</th>\n",
       "      <td>2755.00</td>\n",
       "      <td>1408.00</td>\n",
       "      <td>716.00</td>\n",
       "      <td>345.00</td>\n",
       "      <td>188.00</td>\n",
       "      <td>111.00</td>\n",
       "      <td>80.00</td>\n",
       "      <td>73.00</td>\n",
       "      <td>51.00</td>\n",
       "      <td>62.00</td>\n",
       "      <td>5789.00</td>\n",
       "    </tr>\n",
       "    <tr>\n",
       "      <th>4천이상 5천미만</th>\n",
       "      <td>166.00</td>\n",
       "      <td>62.00</td>\n",
       "      <td>37.00</td>\n",
       "      <td>14.00</td>\n",
       "      <td>11.00</td>\n",
       "      <td>9.00</td>\n",
       "      <td>2.00</td>\n",
       "      <td>1.00</td>\n",
       "      <td>1.00</td>\n",
       "      <td>2.00</td>\n",
       "      <td>305.00</td>\n",
       "    </tr>\n",
       "    <tr>\n",
       "      <th>5천이상 6천미만</th>\n",
       "      <td>1135.00</td>\n",
       "      <td>306.00</td>\n",
       "      <td>183.00</td>\n",
       "      <td>73.00</td>\n",
       "      <td>47.00</td>\n",
       "      <td>35.00</td>\n",
       "      <td>19.00</td>\n",
       "      <td>13.00</td>\n",
       "      <td>8.00</td>\n",
       "      <td>14.00</td>\n",
       "      <td>1833.00</td>\n",
       "    </tr>\n",
       "    <tr>\n",
       "      <th>6천이상 7천미만</th>\n",
       "      <td>1771.00</td>\n",
       "      <td>554.00</td>\n",
       "      <td>297.00</td>\n",
       "      <td>146.00</td>\n",
       "      <td>71.00</td>\n",
       "      <td>58.00</td>\n",
       "      <td>45.00</td>\n",
       "      <td>33.00</td>\n",
       "      <td>23.00</td>\n",
       "      <td>26.00</td>\n",
       "      <td>3024.00</td>\n",
       "    </tr>\n",
       "    <tr>\n",
       "      <th>7천이상 8천미만</th>\n",
       "      <td>90.00</td>\n",
       "      <td>22.00</td>\n",
       "      <td>10.00</td>\n",
       "      <td>8.00</td>\n",
       "      <td>7.00</td>\n",
       "      <td>3.00</td>\n",
       "      <td>3.00</td>\n",
       "      <td>1.00</td>\n",
       "      <td>2.00</td>\n",
       "      <td>1.00</td>\n",
       "      <td>147.00</td>\n",
       "    </tr>\n",
       "    <tr>\n",
       "      <th>8천이상 9천미만</th>\n",
       "      <td>227.00</td>\n",
       "      <td>40.00</td>\n",
       "      <td>34.00</td>\n",
       "      <td>20.00</td>\n",
       "      <td>8.00</td>\n",
       "      <td>5.00</td>\n",
       "      <td>7.00</td>\n",
       "      <td>4.00</td>\n",
       "      <td>2.00</td>\n",
       "      <td>3.00</td>\n",
       "      <td>350.00</td>\n",
       "    </tr>\n",
       "    <tr>\n",
       "      <th>9천이상 10천미만</th>\n",
       "      <td>484.00</td>\n",
       "      <td>242.00</td>\n",
       "      <td>220.00</td>\n",
       "      <td>120.00</td>\n",
       "      <td>84.00</td>\n",
       "      <td>48.00</td>\n",
       "      <td>34.00</td>\n",
       "      <td>37.00</td>\n",
       "      <td>24.00</td>\n",
       "      <td>27.00</td>\n",
       "      <td>1320.00</td>\n",
       "    </tr>\n",
       "    <tr>\n",
       "      <th>10천이상 11천미만</th>\n",
       "      <td>250.00</td>\n",
       "      <td>27.00</td>\n",
       "      <td>13.00</td>\n",
       "      <td>10.00</td>\n",
       "      <td>5.00</td>\n",
       "      <td>4.00</td>\n",
       "      <td>2.00</td>\n",
       "      <td>1.00</td>\n",
       "      <td>1.00</td>\n",
       "      <td>3.00</td>\n",
       "      <td>316.00</td>\n",
       "    </tr>\n",
       "    <tr>\n",
       "      <th>11천이상 12천미만</th>\n",
       "      <td>158.00</td>\n",
       "      <td>14.00</td>\n",
       "      <td>15.00</td>\n",
       "      <td>11.00</td>\n",
       "      <td>8.00</td>\n",
       "      <td>5.00</td>\n",
       "      <td>4.00</td>\n",
       "      <td>2.00</td>\n",
       "      <td>1.00</td>\n",
       "      <td>2.00</td>\n",
       "      <td>220.00</td>\n",
       "    </tr>\n",
       "    <tr>\n",
       "      <th>12천이상 13천미만</th>\n",
       "      <td>949.00</td>\n",
       "      <td>263.00</td>\n",
       "      <td>178.00</td>\n",
       "      <td>116.00</td>\n",
       "      <td>71.00</td>\n",
       "      <td>47.00</td>\n",
       "      <td>32.00</td>\n",
       "      <td>30.00</td>\n",
       "      <td>20.00</td>\n",
       "      <td>16.00</td>\n",
       "      <td>1722.00</td>\n",
       "    </tr>\n",
       "    <tr>\n",
       "      <th>14천이상 15천미만</th>\n",
       "      <td>9.00</td>\n",
       "      <td>NaN</td>\n",
       "      <td>NaN</td>\n",
       "      <td>NaN</td>\n",
       "      <td>NaN</td>\n",
       "      <td>NaN</td>\n",
       "      <td>NaN</td>\n",
       "      <td>NaN</td>\n",
       "      <td>NaN</td>\n",
       "      <td>NaN</td>\n",
       "      <td>9.00</td>\n",
       "    </tr>\n",
       "    <tr>\n",
       "      <th>15천이상 16천미만</th>\n",
       "      <td>13.00</td>\n",
       "      <td>2.00</td>\n",
       "      <td>NaN</td>\n",
       "      <td>NaN</td>\n",
       "      <td>NaN</td>\n",
       "      <td>NaN</td>\n",
       "      <td>NaN</td>\n",
       "      <td>1.00</td>\n",
       "      <td>NaN</td>\n",
       "      <td>NaN</td>\n",
       "      <td>16.00</td>\n",
       "    </tr>\n",
       "    <tr>\n",
       "      <th>16천이상 17천미만</th>\n",
       "      <td>30.00</td>\n",
       "      <td>2.00</td>\n",
       "      <td>NaN</td>\n",
       "      <td>NaN</td>\n",
       "      <td>NaN</td>\n",
       "      <td>NaN</td>\n",
       "      <td>NaN</td>\n",
       "      <td>NaN</td>\n",
       "      <td>2.00</td>\n",
       "      <td>NaN</td>\n",
       "      <td>34.00</td>\n",
       "    </tr>\n",
       "    <tr>\n",
       "      <th>합계</th>\n",
       "      <th></th>\n",
       "      <td>69267.00</td>\n",
       "      <td>34852.00</td>\n",
       "      <td>15738.00</td>\n",
       "      <td>6566.00</td>\n",
       "      <td>3521.00</td>\n",
       "      <td>2303.00</td>\n",
       "      <td>1579.00</td>\n",
       "      <td>1253.00</td>\n",
       "      <td>1037.00</td>\n",
       "      <td>1032.00</td>\n",
       "      <td>137148.00</td>\n",
       "    </tr>\n",
       "  </tbody>\n",
       "</table>\n",
       "</div>"
      ],
      "text/plain": [
       "                            0            1            2            3   \\\n",
       "        배기량(cc)                                                         \n",
       "매연(%)                0이상 0.5미만  0.5이상 1.0미만  1.0이상 1.5미만  1.5이상 2.0미만   \n",
       "배기량(cc) 1천이상 2천미만     22269.00     11607.00      5194.00      2117.00   \n",
       "        2천이상 3천미만     38961.00     20303.00      8841.00      3586.00   \n",
       "        3천이상 4천미만      2755.00      1408.00       716.00       345.00   \n",
       "        4천이상 5천미만       166.00        62.00        37.00        14.00   \n",
       "        5천이상 6천미만      1135.00       306.00       183.00        73.00   \n",
       "        6천이상 7천미만      1771.00       554.00       297.00       146.00   \n",
       "        7천이상 8천미만        90.00        22.00        10.00         8.00   \n",
       "        8천이상 9천미만       227.00        40.00        34.00        20.00   \n",
       "        9천이상 10천미만      484.00       242.00       220.00       120.00   \n",
       "        10천이상 11천미만     250.00        27.00        13.00        10.00   \n",
       "        11천이상 12천미만     158.00        14.00        15.00        11.00   \n",
       "        12천이상 13천미만     949.00       263.00       178.00       116.00   \n",
       "        14천이상 15천미만       9.00          NaN          NaN          NaN   \n",
       "        15천이상 16천미만      13.00         2.00          NaN          NaN   \n",
       "        16천이상 17천미만      30.00         2.00          NaN          NaN   \n",
       "합계                    69267.00     34852.00     15738.00      6566.00   \n",
       "\n",
       "                              4            5            6            7   \\\n",
       "        배기량(cc)                                                           \n",
       "매연(%)                2.0이상 2.5미만  2.5이상 3.0미만  3.0이상 3.5미만  3.5이상 4.0미만   \n",
       "배기량(cc) 1천이상 2천미만        1117.00       704.00       495.00       357.00   \n",
       "        2천이상 3천미만        1904.00      1274.00       856.00       700.00   \n",
       "        3천이상 4천미만         188.00       111.00        80.00        73.00   \n",
       "        4천이상 5천미만          11.00         9.00         2.00         1.00   \n",
       "        5천이상 6천미만          47.00        35.00        19.00        13.00   \n",
       "        6천이상 7천미만          71.00        58.00        45.00        33.00   \n",
       "        7천이상 8천미만           7.00         3.00         3.00         1.00   \n",
       "        8천이상 9천미만           8.00         5.00         7.00         4.00   \n",
       "        9천이상 10천미만         84.00        48.00        34.00        37.00   \n",
       "        10천이상 11천미만         5.00         4.00         2.00         1.00   \n",
       "        11천이상 12천미만         8.00         5.00         4.00         2.00   \n",
       "        12천이상 13천미만        71.00        47.00        32.00        30.00   \n",
       "        14천이상 15천미만          NaN          NaN          NaN          NaN   \n",
       "        15천이상 16천미만          NaN          NaN          NaN         1.00   \n",
       "        16천이상 17천미만          NaN          NaN          NaN          NaN   \n",
       "합계                       3521.00      2303.00      1579.00      1253.00   \n",
       "\n",
       "                              8       9         10  \n",
       "        배기량(cc)                                     \n",
       "매연(%)                4.0이상 4.5미만   4.5이상        총합  \n",
       "배기량(cc) 1천이상 2천미만         303.00  291.00  44454.00  \n",
       "        2천이상 3천미만         599.00  585.00  77609.00  \n",
       "        3천이상 4천미만          51.00   62.00   5789.00  \n",
       "        4천이상 5천미만           1.00    2.00    305.00  \n",
       "        5천이상 6천미만           8.00   14.00   1833.00  \n",
       "        6천이상 7천미만          23.00   26.00   3024.00  \n",
       "        7천이상 8천미만           2.00    1.00    147.00  \n",
       "        8천이상 9천미만           2.00    3.00    350.00  \n",
       "        9천이상 10천미만         24.00   27.00   1320.00  \n",
       "        10천이상 11천미만         1.00    3.00    316.00  \n",
       "        11천이상 12천미만         1.00    2.00    220.00  \n",
       "        12천이상 13천미만        20.00   16.00   1722.00  \n",
       "        14천이상 15천미만          NaN     NaN      9.00  \n",
       "        15천이상 16천미만          NaN     NaN     16.00  \n",
       "        16천이상 17천미만         2.00     NaN     34.00  \n",
       "합계                       1037.00 1032.00 137148.00  "
      ]
     },
     "execution_count": 1344,
     "metadata": {},
     "output_type": "execute_result"
    }
   ],
   "source": [
    "grp16 = die.groupby(['매연구분인덱스', '매연구분', '배기량구분인덱스', '배기량구분'], dropna=False).agg({'차량번호':'count'}).unstack(['배기량구분인덱스', '배기량구분']).reset_index()\n",
    "grp16 = grp16.rename(columns={'매연구분':'매연(%)', '배기량구분':'배기량(cc)', '차량번호':'배기량(cc)'})\n",
    "grp16 = grp16.rename_axis(columns={'배기량구분':'배기량(cc)'})\n",
    "# grp16 = grp16.rename(columns={'차량번호':'배기량(cc)'}, level=0)\n",
    "grp16['합계'] = grp16.iloc[:, 2:].sum(axis=1)\n",
    "grp16.loc[grp16.shape[0]] = [grp16['매연구분인덱스'].max() + 1, '총합'] + grp16.iloc[:, 2:].sum().to_list()\n",
    "grp16 = grp16.drop('매연구분인덱스', axis=1)\n",
    "grp16.columns = grp16.columns.droplevel(1)\n",
    "grp16 = grp16.T\n",
    "grp16"
   ]
  },
  {
   "cell_type": "markdown",
   "metadata": {},
   "source": [
    "### 17\\. RSD 매연 농도, 차량중량별 데이터 수량"
   ]
  },
  {
   "cell_type": "code",
   "execution_count": 1345,
   "metadata": {},
   "outputs": [
    {
     "data": {
      "text/html": [
       "<div>\n",
       "<style scoped>\n",
       "    .dataframe tbody tr th:only-of-type {\n",
       "        vertical-align: middle;\n",
       "    }\n",
       "\n",
       "    .dataframe tbody tr th {\n",
       "        vertical-align: top;\n",
       "    }\n",
       "\n",
       "    .dataframe thead th {\n",
       "        text-align: right;\n",
       "    }\n",
       "</style>\n",
       "<table border=\"1\" class=\"dataframe\">\n",
       "  <thead>\n",
       "    <tr style=\"text-align: right;\">\n",
       "      <th></th>\n",
       "      <th>매연(%)</th>\n",
       "      <th>차량중량(kg)</th>\n",
       "      <th>측정건수(건)</th>\n",
       "    </tr>\n",
       "  </thead>\n",
       "  <tbody>\n",
       "    <tr>\n",
       "      <th>0</th>\n",
       "      <td>0이상 0.5미만</td>\n",
       "      <td>1천이상 2천미만</td>\n",
       "      <td>11180</td>\n",
       "    </tr>\n",
       "    <tr>\n",
       "      <th>1</th>\n",
       "      <td>0이상 0.5미만</td>\n",
       "      <td>2천이상 3천미만</td>\n",
       "      <td>36842</td>\n",
       "    </tr>\n",
       "    <tr>\n",
       "      <th>2</th>\n",
       "      <td>0이상 0.5미만</td>\n",
       "      <td>3천이상 4천미만</td>\n",
       "      <td>13152</td>\n",
       "    </tr>\n",
       "    <tr>\n",
       "      <th>3</th>\n",
       "      <td>0이상 0.5미만</td>\n",
       "      <td>4천이상 5천미만</td>\n",
       "      <td>14</td>\n",
       "    </tr>\n",
       "    <tr>\n",
       "      <th>4</th>\n",
       "      <td>0이상 0.5미만</td>\n",
       "      <td>5천이상 6천미만</td>\n",
       "      <td>1022</td>\n",
       "    </tr>\n",
       "    <tr>\n",
       "      <th>...</th>\n",
       "      <td>...</td>\n",
       "      <td>...</td>\n",
       "      <td>...</td>\n",
       "    </tr>\n",
       "    <tr>\n",
       "      <th>257</th>\n",
       "      <td>4.5이상</td>\n",
       "      <td>15천이상 16천미만</td>\n",
       "      <td>14</td>\n",
       "    </tr>\n",
       "    <tr>\n",
       "      <th>258</th>\n",
       "      <td>4.5이상</td>\n",
       "      <td>16천이상 17천미만</td>\n",
       "      <td>4</td>\n",
       "    </tr>\n",
       "    <tr>\n",
       "      <th>259</th>\n",
       "      <td>4.5이상</td>\n",
       "      <td>26천이상 27천미만</td>\n",
       "      <td>2</td>\n",
       "    </tr>\n",
       "    <tr>\n",
       "      <th>260</th>\n",
       "      <td>4.5이상</td>\n",
       "      <td>39천이상 40천미만</td>\n",
       "      <td>1</td>\n",
       "    </tr>\n",
       "    <tr>\n",
       "      <th>261</th>\n",
       "      <td>총합</td>\n",
       "      <td>NaN</td>\n",
       "      <td>137148</td>\n",
       "    </tr>\n",
       "  </tbody>\n",
       "</table>\n",
       "<p>262 rows × 3 columns</p>\n",
       "</div>"
      ],
      "text/plain": [
       "         매연(%)     차량중량(kg)  측정건수(건)\n",
       "0    0이상 0.5미만    1천이상 2천미만    11180\n",
       "1    0이상 0.5미만    2천이상 3천미만    36842\n",
       "2    0이상 0.5미만    3천이상 4천미만    13152\n",
       "3    0이상 0.5미만    4천이상 5천미만       14\n",
       "4    0이상 0.5미만    5천이상 6천미만     1022\n",
       "..         ...          ...      ...\n",
       "257      4.5이상  15천이상 16천미만       14\n",
       "258      4.5이상  16천이상 17천미만        4\n",
       "259      4.5이상  26천이상 27천미만        2\n",
       "260      4.5이상  39천이상 40천미만        1\n",
       "261         총합          NaN   137148\n",
       "\n",
       "[262 rows x 3 columns]"
      ]
     },
     "execution_count": 1345,
     "metadata": {},
     "output_type": "execute_result"
    }
   ],
   "source": [
    "grp17 = die.groupby(['매연구분인덱스', '매연구분', '총중량구분인덱스', '총중량구분'], dropna=False).agg({'차량번호':'count'}).reset_index()\n",
    "grp17 = grp17.rename(columns={'총중량구분':'차량중량(kg)', '차량번호':'측정건수(건)', '매연구분':'매연(%)'})\n",
    "grp17.loc[grp17.shape[0]] = [grp17['매연구분인덱스'].max() + 1, '총합', np.nan, np.nan, grp17['측정건수(건)'].sum()]\n",
    "grp17 = grp17.drop(['매연구분인덱스', '총중량구분인덱스'], axis=1)\n",
    "grp17"
   ]
  },
  {
   "cell_type": "code",
   "execution_count": 1346,
   "metadata": {},
   "outputs": [
    {
     "name": "stderr",
     "output_type": "stream",
     "text": [
      "C:\\Users\\kbjung\\AppData\\Local\\Temp\\ipykernel_12976\\2008584361.py:6: PerformanceWarning: dropping on a non-lexsorted multi-index without a level parameter may impact performance.\n",
      "  grp17 = grp17.drop('매연구분인덱스', axis=1)\n"
     ]
    },
    {
     "data": {
      "text/html": [
       "<div>\n",
       "<style scoped>\n",
       "    .dataframe tbody tr th:only-of-type {\n",
       "        vertical-align: middle;\n",
       "    }\n",
       "\n",
       "    .dataframe tbody tr th {\n",
       "        vertical-align: top;\n",
       "    }\n",
       "\n",
       "    .dataframe thead th {\n",
       "        text-align: right;\n",
       "    }\n",
       "</style>\n",
       "<table border=\"1\" class=\"dataframe\">\n",
       "  <thead>\n",
       "    <tr style=\"text-align: right;\">\n",
       "      <th></th>\n",
       "      <th></th>\n",
       "      <th>0</th>\n",
       "      <th>1</th>\n",
       "      <th>2</th>\n",
       "      <th>3</th>\n",
       "      <th>4</th>\n",
       "      <th>5</th>\n",
       "      <th>6</th>\n",
       "      <th>7</th>\n",
       "      <th>8</th>\n",
       "      <th>9</th>\n",
       "      <th>10</th>\n",
       "    </tr>\n",
       "    <tr>\n",
       "      <th></th>\n",
       "      <th>차량중량(kg)</th>\n",
       "      <th></th>\n",
       "      <th></th>\n",
       "      <th></th>\n",
       "      <th></th>\n",
       "      <th></th>\n",
       "      <th></th>\n",
       "      <th></th>\n",
       "      <th></th>\n",
       "      <th></th>\n",
       "      <th></th>\n",
       "      <th></th>\n",
       "    </tr>\n",
       "  </thead>\n",
       "  <tbody>\n",
       "    <tr>\n",
       "      <th>매연(%)</th>\n",
       "      <th></th>\n",
       "      <td>0이상 0.5미만</td>\n",
       "      <td>0.5이상 1.0미만</td>\n",
       "      <td>1.0이상 1.5미만</td>\n",
       "      <td>1.5이상 2.0미만</td>\n",
       "      <td>2.0이상 2.5미만</td>\n",
       "      <td>2.5이상 3.0미만</td>\n",
       "      <td>3.0이상 3.5미만</td>\n",
       "      <td>3.5이상 4.0미만</td>\n",
       "      <td>4.0이상 4.5미만</td>\n",
       "      <td>4.5이상</td>\n",
       "      <td>총합</td>\n",
       "    </tr>\n",
       "    <tr>\n",
       "      <th rowspan=\"39\" valign=\"top\">차량중량(kg)</th>\n",
       "      <th>1천이상 2천미만</th>\n",
       "      <td>11180.00</td>\n",
       "      <td>5868.00</td>\n",
       "      <td>2541.00</td>\n",
       "      <td>1056.00</td>\n",
       "      <td>530.00</td>\n",
       "      <td>328.00</td>\n",
       "      <td>232.00</td>\n",
       "      <td>159.00</td>\n",
       "      <td>155.00</td>\n",
       "      <td>133.00</td>\n",
       "      <td>22182.00</td>\n",
       "    </tr>\n",
       "    <tr>\n",
       "      <th>2천이상 3천미만</th>\n",
       "      <td>36842.00</td>\n",
       "      <td>19198.00</td>\n",
       "      <td>8595.00</td>\n",
       "      <td>3529.00</td>\n",
       "      <td>1891.00</td>\n",
       "      <td>1222.00</td>\n",
       "      <td>848.00</td>\n",
       "      <td>679.00</td>\n",
       "      <td>563.00</td>\n",
       "      <td>555.00</td>\n",
       "      <td>73922.00</td>\n",
       "    </tr>\n",
       "    <tr>\n",
       "      <th>3천이상 4천미만</th>\n",
       "      <td>13152.00</td>\n",
       "      <td>6818.00</td>\n",
       "      <td>2895.00</td>\n",
       "      <td>1114.00</td>\n",
       "      <td>598.00</td>\n",
       "      <td>427.00</td>\n",
       "      <td>271.00</td>\n",
       "      <td>220.00</td>\n",
       "      <td>183.00</td>\n",
       "      <td>188.00</td>\n",
       "      <td>25866.00</td>\n",
       "    </tr>\n",
       "    <tr>\n",
       "      <th>4천이상 5천미만</th>\n",
       "      <td>14.00</td>\n",
       "      <td>7.00</td>\n",
       "      <td>5.00</td>\n",
       "      <td>3.00</td>\n",
       "      <td>1.00</td>\n",
       "      <td>NaN</td>\n",
       "      <td>NaN</td>\n",
       "      <td>NaN</td>\n",
       "      <td>1.00</td>\n",
       "      <td>NaN</td>\n",
       "      <td>31.00</td>\n",
       "    </tr>\n",
       "    <tr>\n",
       "      <th>5천이상 6천미만</th>\n",
       "      <td>1022.00</td>\n",
       "      <td>590.00</td>\n",
       "      <td>312.00</td>\n",
       "      <td>143.00</td>\n",
       "      <td>81.00</td>\n",
       "      <td>49.00</td>\n",
       "      <td>33.00</td>\n",
       "      <td>33.00</td>\n",
       "      <td>19.00</td>\n",
       "      <td>23.00</td>\n",
       "      <td>2305.00</td>\n",
       "    </tr>\n",
       "    <tr>\n",
       "      <th>6천이상 7천미만</th>\n",
       "      <td>416.00</td>\n",
       "      <td>239.00</td>\n",
       "      <td>126.00</td>\n",
       "      <td>76.00</td>\n",
       "      <td>33.00</td>\n",
       "      <td>22.00</td>\n",
       "      <td>15.00</td>\n",
       "      <td>16.00</td>\n",
       "      <td>10.00</td>\n",
       "      <td>14.00</td>\n",
       "      <td>967.00</td>\n",
       "    </tr>\n",
       "    <tr>\n",
       "      <th>7천이상 8천미만</th>\n",
       "      <td>1226.00</td>\n",
       "      <td>543.00</td>\n",
       "      <td>256.00</td>\n",
       "      <td>120.00</td>\n",
       "      <td>65.00</td>\n",
       "      <td>36.00</td>\n",
       "      <td>30.00</td>\n",
       "      <td>25.00</td>\n",
       "      <td>18.00</td>\n",
       "      <td>22.00</td>\n",
       "      <td>2341.00</td>\n",
       "    </tr>\n",
       "    <tr>\n",
       "      <th>8천이상 9천미만</th>\n",
       "      <td>299.00</td>\n",
       "      <td>124.00</td>\n",
       "      <td>61.00</td>\n",
       "      <td>18.00</td>\n",
       "      <td>19.00</td>\n",
       "      <td>15.00</td>\n",
       "      <td>3.00</td>\n",
       "      <td>NaN</td>\n",
       "      <td>5.00</td>\n",
       "      <td>5.00</td>\n",
       "      <td>549.00</td>\n",
       "    </tr>\n",
       "    <tr>\n",
       "      <th>9천이상 10천미만</th>\n",
       "      <td>167.00</td>\n",
       "      <td>68.00</td>\n",
       "      <td>42.00</td>\n",
       "      <td>33.00</td>\n",
       "      <td>17.00</td>\n",
       "      <td>12.00</td>\n",
       "      <td>11.00</td>\n",
       "      <td>7.00</td>\n",
       "      <td>6.00</td>\n",
       "      <td>7.00</td>\n",
       "      <td>370.00</td>\n",
       "    </tr>\n",
       "    <tr>\n",
       "      <th>10천이상 11천미만</th>\n",
       "      <td>593.00</td>\n",
       "      <td>253.00</td>\n",
       "      <td>160.00</td>\n",
       "      <td>73.00</td>\n",
       "      <td>42.00</td>\n",
       "      <td>39.00</td>\n",
       "      <td>18.00</td>\n",
       "      <td>12.00</td>\n",
       "      <td>14.00</td>\n",
       "      <td>17.00</td>\n",
       "      <td>1221.00</td>\n",
       "    </tr>\n",
       "    <tr>\n",
       "      <th>11천이상 12천미만</th>\n",
       "      <td>571.00</td>\n",
       "      <td>168.00</td>\n",
       "      <td>89.00</td>\n",
       "      <td>41.00</td>\n",
       "      <td>20.00</td>\n",
       "      <td>9.00</td>\n",
       "      <td>10.00</td>\n",
       "      <td>10.00</td>\n",
       "      <td>5.00</td>\n",
       "      <td>7.00</td>\n",
       "      <td>930.00</td>\n",
       "    </tr>\n",
       "    <tr>\n",
       "      <th>12천이상 13천미만</th>\n",
       "      <td>501.00</td>\n",
       "      <td>86.00</td>\n",
       "      <td>65.00</td>\n",
       "      <td>16.00</td>\n",
       "      <td>9.00</td>\n",
       "      <td>13.00</td>\n",
       "      <td>12.00</td>\n",
       "      <td>6.00</td>\n",
       "      <td>3.00</td>\n",
       "      <td>1.00</td>\n",
       "      <td>712.00</td>\n",
       "    </tr>\n",
       "    <tr>\n",
       "      <th>13천이상 14천미만</th>\n",
       "      <td>650.00</td>\n",
       "      <td>197.00</td>\n",
       "      <td>150.00</td>\n",
       "      <td>92.00</td>\n",
       "      <td>53.00</td>\n",
       "      <td>36.00</td>\n",
       "      <td>22.00</td>\n",
       "      <td>25.00</td>\n",
       "      <td>12.00</td>\n",
       "      <td>22.00</td>\n",
       "      <td>1259.00</td>\n",
       "    </tr>\n",
       "    <tr>\n",
       "      <th>14천이상 15천미만</th>\n",
       "      <td>601.00</td>\n",
       "      <td>282.00</td>\n",
       "      <td>190.00</td>\n",
       "      <td>97.00</td>\n",
       "      <td>71.00</td>\n",
       "      <td>41.00</td>\n",
       "      <td>30.00</td>\n",
       "      <td>21.00</td>\n",
       "      <td>16.00</td>\n",
       "      <td>17.00</td>\n",
       "      <td>1366.00</td>\n",
       "    </tr>\n",
       "    <tr>\n",
       "      <th>15천이상 16천미만</th>\n",
       "      <td>494.00</td>\n",
       "      <td>230.00</td>\n",
       "      <td>165.00</td>\n",
       "      <td>95.00</td>\n",
       "      <td>65.00</td>\n",
       "      <td>40.00</td>\n",
       "      <td>30.00</td>\n",
       "      <td>30.00</td>\n",
       "      <td>20.00</td>\n",
       "      <td>14.00</td>\n",
       "      <td>1183.00</td>\n",
       "    </tr>\n",
       "    <tr>\n",
       "      <th>16천이상 17천미만</th>\n",
       "      <td>193.00</td>\n",
       "      <td>26.00</td>\n",
       "      <td>11.00</td>\n",
       "      <td>12.00</td>\n",
       "      <td>7.00</td>\n",
       "      <td>2.00</td>\n",
       "      <td>2.00</td>\n",
       "      <td>2.00</td>\n",
       "      <td>NaN</td>\n",
       "      <td>4.00</td>\n",
       "      <td>259.00</td>\n",
       "    </tr>\n",
       "    <tr>\n",
       "      <th>17천이상 18천미만</th>\n",
       "      <td>56.00</td>\n",
       "      <td>14.00</td>\n",
       "      <td>3.00</td>\n",
       "      <td>6.00</td>\n",
       "      <td>2.00</td>\n",
       "      <td>NaN</td>\n",
       "      <td>NaN</td>\n",
       "      <td>1.00</td>\n",
       "      <td>NaN</td>\n",
       "      <td>NaN</td>\n",
       "      <td>82.00</td>\n",
       "    </tr>\n",
       "    <tr>\n",
       "      <th>18천이상 19천미만</th>\n",
       "      <td>37.00</td>\n",
       "      <td>5.00</td>\n",
       "      <td>3.00</td>\n",
       "      <td>2.00</td>\n",
       "      <td>2.00</td>\n",
       "      <td>NaN</td>\n",
       "      <td>1.00</td>\n",
       "      <td>NaN</td>\n",
       "      <td>NaN</td>\n",
       "      <td>NaN</td>\n",
       "      <td>50.00</td>\n",
       "    </tr>\n",
       "    <tr>\n",
       "      <th>19천이상 20천미만</th>\n",
       "      <td>30.00</td>\n",
       "      <td>4.00</td>\n",
       "      <td>1.00</td>\n",
       "      <td>NaN</td>\n",
       "      <td>NaN</td>\n",
       "      <td>1.00</td>\n",
       "      <td>NaN</td>\n",
       "      <td>NaN</td>\n",
       "      <td>NaN</td>\n",
       "      <td>NaN</td>\n",
       "      <td>36.00</td>\n",
       "    </tr>\n",
       "    <tr>\n",
       "      <th>20천이상 21천미만</th>\n",
       "      <td>10.00</td>\n",
       "      <td>2.00</td>\n",
       "      <td>1.00</td>\n",
       "      <td>1.00</td>\n",
       "      <td>NaN</td>\n",
       "      <td>1.00</td>\n",
       "      <td>NaN</td>\n",
       "      <td>NaN</td>\n",
       "      <td>NaN</td>\n",
       "      <td>NaN</td>\n",
       "      <td>15.00</td>\n",
       "    </tr>\n",
       "    <tr>\n",
       "      <th>21천이상 22천미만</th>\n",
       "      <td>18.00</td>\n",
       "      <td>4.00</td>\n",
       "      <td>NaN</td>\n",
       "      <td>4.00</td>\n",
       "      <td>NaN</td>\n",
       "      <td>NaN</td>\n",
       "      <td>NaN</td>\n",
       "      <td>NaN</td>\n",
       "      <td>2.00</td>\n",
       "      <td>NaN</td>\n",
       "      <td>28.00</td>\n",
       "    </tr>\n",
       "    <tr>\n",
       "      <th>22천이상 23천미만</th>\n",
       "      <td>41.00</td>\n",
       "      <td>3.00</td>\n",
       "      <td>1.00</td>\n",
       "      <td>1.00</td>\n",
       "      <td>NaN</td>\n",
       "      <td>1.00</td>\n",
       "      <td>1.00</td>\n",
       "      <td>NaN</td>\n",
       "      <td>1.00</td>\n",
       "      <td>NaN</td>\n",
       "      <td>49.00</td>\n",
       "    </tr>\n",
       "    <tr>\n",
       "      <th>23천이상 24천미만</th>\n",
       "      <td>15.00</td>\n",
       "      <td>NaN</td>\n",
       "      <td>NaN</td>\n",
       "      <td>1.00</td>\n",
       "      <td>NaN</td>\n",
       "      <td>NaN</td>\n",
       "      <td>NaN</td>\n",
       "      <td>NaN</td>\n",
       "      <td>NaN</td>\n",
       "      <td>NaN</td>\n",
       "      <td>16.00</td>\n",
       "    </tr>\n",
       "    <tr>\n",
       "      <th>24천이상 25천미만</th>\n",
       "      <td>35.00</td>\n",
       "      <td>1.00</td>\n",
       "      <td>NaN</td>\n",
       "      <td>1.00</td>\n",
       "      <td>NaN</td>\n",
       "      <td>1.00</td>\n",
       "      <td>NaN</td>\n",
       "      <td>NaN</td>\n",
       "      <td>NaN</td>\n",
       "      <td>NaN</td>\n",
       "      <td>38.00</td>\n",
       "    </tr>\n",
       "    <tr>\n",
       "      <th>25천이상 26천미만</th>\n",
       "      <td>225.00</td>\n",
       "      <td>21.00</td>\n",
       "      <td>16.00</td>\n",
       "      <td>3.00</td>\n",
       "      <td>2.00</td>\n",
       "      <td>1.00</td>\n",
       "      <td>2.00</td>\n",
       "      <td>3.00</td>\n",
       "      <td>NaN</td>\n",
       "      <td>NaN</td>\n",
       "      <td>273.00</td>\n",
       "    </tr>\n",
       "    <tr>\n",
       "      <th>26천이상 27천미만</th>\n",
       "      <td>101.00</td>\n",
       "      <td>12.00</td>\n",
       "      <td>6.00</td>\n",
       "      <td>1.00</td>\n",
       "      <td>NaN</td>\n",
       "      <td>NaN</td>\n",
       "      <td>NaN</td>\n",
       "      <td>2.00</td>\n",
       "      <td>NaN</td>\n",
       "      <td>2.00</td>\n",
       "      <td>124.00</td>\n",
       "    </tr>\n",
       "    <tr>\n",
       "      <th>27천이상 28천미만</th>\n",
       "      <td>25.00</td>\n",
       "      <td>7.00</td>\n",
       "      <td>3.00</td>\n",
       "      <td>1.00</td>\n",
       "      <td>NaN</td>\n",
       "      <td>NaN</td>\n",
       "      <td>NaN</td>\n",
       "      <td>NaN</td>\n",
       "      <td>NaN</td>\n",
       "      <td>NaN</td>\n",
       "      <td>36.00</td>\n",
       "    </tr>\n",
       "    <tr>\n",
       "      <th>28천이상 29천미만</th>\n",
       "      <td>5.00</td>\n",
       "      <td>NaN</td>\n",
       "      <td>NaN</td>\n",
       "      <td>NaN</td>\n",
       "      <td>NaN</td>\n",
       "      <td>NaN</td>\n",
       "      <td>NaN</td>\n",
       "      <td>NaN</td>\n",
       "      <td>NaN</td>\n",
       "      <td>NaN</td>\n",
       "      <td>5.00</td>\n",
       "    </tr>\n",
       "    <tr>\n",
       "      <th>29천이상 30천미만</th>\n",
       "      <td>16.00</td>\n",
       "      <td>1.00</td>\n",
       "      <td>2.00</td>\n",
       "      <td>NaN</td>\n",
       "      <td>NaN</td>\n",
       "      <td>NaN</td>\n",
       "      <td>NaN</td>\n",
       "      <td>NaN</td>\n",
       "      <td>NaN</td>\n",
       "      <td>NaN</td>\n",
       "      <td>19.00</td>\n",
       "    </tr>\n",
       "    <tr>\n",
       "      <th>30천이상 31천미만</th>\n",
       "      <td>9.00</td>\n",
       "      <td>1.00</td>\n",
       "      <td>1.00</td>\n",
       "      <td>NaN</td>\n",
       "      <td>NaN</td>\n",
       "      <td>NaN</td>\n",
       "      <td>NaN</td>\n",
       "      <td>NaN</td>\n",
       "      <td>NaN</td>\n",
       "      <td>NaN</td>\n",
       "      <td>11.00</td>\n",
       "    </tr>\n",
       "    <tr>\n",
       "      <th>31천이상 32천미만</th>\n",
       "      <td>13.00</td>\n",
       "      <td>1.00</td>\n",
       "      <td>NaN</td>\n",
       "      <td>NaN</td>\n",
       "      <td>NaN</td>\n",
       "      <td>NaN</td>\n",
       "      <td>NaN</td>\n",
       "      <td>NaN</td>\n",
       "      <td>NaN</td>\n",
       "      <td>NaN</td>\n",
       "      <td>14.00</td>\n",
       "    </tr>\n",
       "    <tr>\n",
       "      <th>32천이상 33천미만</th>\n",
       "      <td>1.00</td>\n",
       "      <td>NaN</td>\n",
       "      <td>NaN</td>\n",
       "      <td>NaN</td>\n",
       "      <td>NaN</td>\n",
       "      <td>NaN</td>\n",
       "      <td>NaN</td>\n",
       "      <td>NaN</td>\n",
       "      <td>NaN</td>\n",
       "      <td>NaN</td>\n",
       "      <td>1.00</td>\n",
       "    </tr>\n",
       "    <tr>\n",
       "      <th>33천이상 34천미만</th>\n",
       "      <td>7.00</td>\n",
       "      <td>NaN</td>\n",
       "      <td>NaN</td>\n",
       "      <td>NaN</td>\n",
       "      <td>NaN</td>\n",
       "      <td>NaN</td>\n",
       "      <td>NaN</td>\n",
       "      <td>NaN</td>\n",
       "      <td>NaN</td>\n",
       "      <td>NaN</td>\n",
       "      <td>7.00</td>\n",
       "    </tr>\n",
       "    <tr>\n",
       "      <th>34천이상 35천미만</th>\n",
       "      <td>7.00</td>\n",
       "      <td>2.00</td>\n",
       "      <td>2.00</td>\n",
       "      <td>1.00</td>\n",
       "      <td>NaN</td>\n",
       "      <td>NaN</td>\n",
       "      <td>NaN</td>\n",
       "      <td>1.00</td>\n",
       "      <td>NaN</td>\n",
       "      <td>NaN</td>\n",
       "      <td>13.00</td>\n",
       "    </tr>\n",
       "    <tr>\n",
       "      <th>35천이상 36천미만</th>\n",
       "      <td>88.00</td>\n",
       "      <td>9.00</td>\n",
       "      <td>9.00</td>\n",
       "      <td>5.00</td>\n",
       "      <td>2.00</td>\n",
       "      <td>NaN</td>\n",
       "      <td>2.00</td>\n",
       "      <td>NaN</td>\n",
       "      <td>NaN</td>\n",
       "      <td>NaN</td>\n",
       "      <td>115.00</td>\n",
       "    </tr>\n",
       "    <tr>\n",
       "      <th>36천이상 37천미만</th>\n",
       "      <td>23.00</td>\n",
       "      <td>2.00</td>\n",
       "      <td>NaN</td>\n",
       "      <td>2.00</td>\n",
       "      <td>1.00</td>\n",
       "      <td>3.00</td>\n",
       "      <td>1.00</td>\n",
       "      <td>NaN</td>\n",
       "      <td>NaN</td>\n",
       "      <td>NaN</td>\n",
       "      <td>32.00</td>\n",
       "    </tr>\n",
       "    <tr>\n",
       "      <th>37천이상 38천미만</th>\n",
       "      <td>61.00</td>\n",
       "      <td>9.00</td>\n",
       "      <td>3.00</td>\n",
       "      <td>5.00</td>\n",
       "      <td>1.00</td>\n",
       "      <td>NaN</td>\n",
       "      <td>NaN</td>\n",
       "      <td>NaN</td>\n",
       "      <td>NaN</td>\n",
       "      <td>NaN</td>\n",
       "      <td>79.00</td>\n",
       "    </tr>\n",
       "    <tr>\n",
       "      <th>38천이상 39천미만</th>\n",
       "      <td>245.00</td>\n",
       "      <td>22.00</td>\n",
       "      <td>7.00</td>\n",
       "      <td>6.00</td>\n",
       "      <td>1.00</td>\n",
       "      <td>2.00</td>\n",
       "      <td>1.00</td>\n",
       "      <td>NaN</td>\n",
       "      <td>2.00</td>\n",
       "      <td>NaN</td>\n",
       "      <td>286.00</td>\n",
       "    </tr>\n",
       "    <tr>\n",
       "      <th>39천이상 40천미만</th>\n",
       "      <td>278.00</td>\n",
       "      <td>35.00</td>\n",
       "      <td>17.00</td>\n",
       "      <td>8.00</td>\n",
       "      <td>8.00</td>\n",
       "      <td>2.00</td>\n",
       "      <td>4.00</td>\n",
       "      <td>1.00</td>\n",
       "      <td>2.00</td>\n",
       "      <td>1.00</td>\n",
       "      <td>356.00</td>\n",
       "    </tr>\n",
       "    <tr>\n",
       "      <th>합계</th>\n",
       "      <th></th>\n",
       "      <td>69267.00</td>\n",
       "      <td>34852.00</td>\n",
       "      <td>15738.00</td>\n",
       "      <td>6566.00</td>\n",
       "      <td>3521.00</td>\n",
       "      <td>2303.00</td>\n",
       "      <td>1579.00</td>\n",
       "      <td>1253.00</td>\n",
       "      <td>1037.00</td>\n",
       "      <td>1032.00</td>\n",
       "      <td>137148.00</td>\n",
       "    </tr>\n",
       "  </tbody>\n",
       "</table>\n",
       "</div>"
      ],
      "text/plain": [
       "                             0            1            2            3   \\\n",
       "         차량중량(kg)                                                        \n",
       "매연(%)                 0이상 0.5미만  0.5이상 1.0미만  1.0이상 1.5미만  1.5이상 2.0미만   \n",
       "차량중량(kg) 1천이상 2천미만     11180.00      5868.00      2541.00      1056.00   \n",
       "         2천이상 3천미만     36842.00     19198.00      8595.00      3529.00   \n",
       "         3천이상 4천미만     13152.00      6818.00      2895.00      1114.00   \n",
       "         4천이상 5천미만        14.00         7.00         5.00         3.00   \n",
       "         5천이상 6천미만      1022.00       590.00       312.00       143.00   \n",
       "         6천이상 7천미만       416.00       239.00       126.00        76.00   \n",
       "         7천이상 8천미만      1226.00       543.00       256.00       120.00   \n",
       "         8천이상 9천미만       299.00       124.00        61.00        18.00   \n",
       "         9천이상 10천미만      167.00        68.00        42.00        33.00   \n",
       "         10천이상 11천미만     593.00       253.00       160.00        73.00   \n",
       "         11천이상 12천미만     571.00       168.00        89.00        41.00   \n",
       "         12천이상 13천미만     501.00        86.00        65.00        16.00   \n",
       "         13천이상 14천미만     650.00       197.00       150.00        92.00   \n",
       "         14천이상 15천미만     601.00       282.00       190.00        97.00   \n",
       "         15천이상 16천미만     494.00       230.00       165.00        95.00   \n",
       "         16천이상 17천미만     193.00        26.00        11.00        12.00   \n",
       "         17천이상 18천미만      56.00        14.00         3.00         6.00   \n",
       "         18천이상 19천미만      37.00         5.00         3.00         2.00   \n",
       "         19천이상 20천미만      30.00         4.00         1.00          NaN   \n",
       "         20천이상 21천미만      10.00         2.00         1.00         1.00   \n",
       "         21천이상 22천미만      18.00         4.00          NaN         4.00   \n",
       "         22천이상 23천미만      41.00         3.00         1.00         1.00   \n",
       "         23천이상 24천미만      15.00          NaN          NaN         1.00   \n",
       "         24천이상 25천미만      35.00         1.00          NaN         1.00   \n",
       "         25천이상 26천미만     225.00        21.00        16.00         3.00   \n",
       "         26천이상 27천미만     101.00        12.00         6.00         1.00   \n",
       "         27천이상 28천미만      25.00         7.00         3.00         1.00   \n",
       "         28천이상 29천미만       5.00          NaN          NaN          NaN   \n",
       "         29천이상 30천미만      16.00         1.00         2.00          NaN   \n",
       "         30천이상 31천미만       9.00         1.00         1.00          NaN   \n",
       "         31천이상 32천미만      13.00         1.00          NaN          NaN   \n",
       "         32천이상 33천미만       1.00          NaN          NaN          NaN   \n",
       "         33천이상 34천미만       7.00          NaN          NaN          NaN   \n",
       "         34천이상 35천미만       7.00         2.00         2.00         1.00   \n",
       "         35천이상 36천미만      88.00         9.00         9.00         5.00   \n",
       "         36천이상 37천미만      23.00         2.00          NaN         2.00   \n",
       "         37천이상 38천미만      61.00         9.00         3.00         5.00   \n",
       "         38천이상 39천미만     245.00        22.00         7.00         6.00   \n",
       "         39천이상 40천미만     278.00        35.00        17.00         8.00   \n",
       "합계                     69267.00     34852.00     15738.00      6566.00   \n",
       "\n",
       "                               4            5            6            7   \\\n",
       "         차량중량(kg)                                                          \n",
       "매연(%)                 2.0이상 2.5미만  2.5이상 3.0미만  3.0이상 3.5미만  3.5이상 4.0미만   \n",
       "차량중량(kg) 1천이상 2천미만         530.00       328.00       232.00       159.00   \n",
       "         2천이상 3천미만        1891.00      1222.00       848.00       679.00   \n",
       "         3천이상 4천미만         598.00       427.00       271.00       220.00   \n",
       "         4천이상 5천미만           1.00          NaN          NaN          NaN   \n",
       "         5천이상 6천미만          81.00        49.00        33.00        33.00   \n",
       "         6천이상 7천미만          33.00        22.00        15.00        16.00   \n",
       "         7천이상 8천미만          65.00        36.00        30.00        25.00   \n",
       "         8천이상 9천미만          19.00        15.00         3.00          NaN   \n",
       "         9천이상 10천미만         17.00        12.00        11.00         7.00   \n",
       "         10천이상 11천미만        42.00        39.00        18.00        12.00   \n",
       "         11천이상 12천미만        20.00         9.00        10.00        10.00   \n",
       "         12천이상 13천미만         9.00        13.00        12.00         6.00   \n",
       "         13천이상 14천미만        53.00        36.00        22.00        25.00   \n",
       "         14천이상 15천미만        71.00        41.00        30.00        21.00   \n",
       "         15천이상 16천미만        65.00        40.00        30.00        30.00   \n",
       "         16천이상 17천미만         7.00         2.00         2.00         2.00   \n",
       "         17천이상 18천미만         2.00          NaN          NaN         1.00   \n",
       "         18천이상 19천미만         2.00          NaN         1.00          NaN   \n",
       "         19천이상 20천미만          NaN         1.00          NaN          NaN   \n",
       "         20천이상 21천미만          NaN         1.00          NaN          NaN   \n",
       "         21천이상 22천미만          NaN          NaN          NaN          NaN   \n",
       "         22천이상 23천미만          NaN         1.00         1.00          NaN   \n",
       "         23천이상 24천미만          NaN          NaN          NaN          NaN   \n",
       "         24천이상 25천미만          NaN         1.00          NaN          NaN   \n",
       "         25천이상 26천미만         2.00         1.00         2.00         3.00   \n",
       "         26천이상 27천미만          NaN          NaN          NaN         2.00   \n",
       "         27천이상 28천미만          NaN          NaN          NaN          NaN   \n",
       "         28천이상 29천미만          NaN          NaN          NaN          NaN   \n",
       "         29천이상 30천미만          NaN          NaN          NaN          NaN   \n",
       "         30천이상 31천미만          NaN          NaN          NaN          NaN   \n",
       "         31천이상 32천미만          NaN          NaN          NaN          NaN   \n",
       "         32천이상 33천미만          NaN          NaN          NaN          NaN   \n",
       "         33천이상 34천미만          NaN          NaN          NaN          NaN   \n",
       "         34천이상 35천미만          NaN          NaN          NaN         1.00   \n",
       "         35천이상 36천미만         2.00          NaN         2.00          NaN   \n",
       "         36천이상 37천미만         1.00         3.00         1.00          NaN   \n",
       "         37천이상 38천미만         1.00          NaN          NaN          NaN   \n",
       "         38천이상 39천미만         1.00         2.00         1.00          NaN   \n",
       "         39천이상 40천미만         8.00         2.00         4.00         1.00   \n",
       "합계                        3521.00      2303.00      1579.00      1253.00   \n",
       "\n",
       "                               8       9         10  \n",
       "         차량중량(kg)                                    \n",
       "매연(%)                 4.0이상 4.5미만   4.5이상        총합  \n",
       "차량중량(kg) 1천이상 2천미만         155.00  133.00  22182.00  \n",
       "         2천이상 3천미만         563.00  555.00  73922.00  \n",
       "         3천이상 4천미만         183.00  188.00  25866.00  \n",
       "         4천이상 5천미만           1.00     NaN     31.00  \n",
       "         5천이상 6천미만          19.00   23.00   2305.00  \n",
       "         6천이상 7천미만          10.00   14.00    967.00  \n",
       "         7천이상 8천미만          18.00   22.00   2341.00  \n",
       "         8천이상 9천미만           5.00    5.00    549.00  \n",
       "         9천이상 10천미만          6.00    7.00    370.00  \n",
       "         10천이상 11천미만        14.00   17.00   1221.00  \n",
       "         11천이상 12천미만         5.00    7.00    930.00  \n",
       "         12천이상 13천미만         3.00    1.00    712.00  \n",
       "         13천이상 14천미만        12.00   22.00   1259.00  \n",
       "         14천이상 15천미만        16.00   17.00   1366.00  \n",
       "         15천이상 16천미만        20.00   14.00   1183.00  \n",
       "         16천이상 17천미만          NaN    4.00    259.00  \n",
       "         17천이상 18천미만          NaN     NaN     82.00  \n",
       "         18천이상 19천미만          NaN     NaN     50.00  \n",
       "         19천이상 20천미만          NaN     NaN     36.00  \n",
       "         20천이상 21천미만          NaN     NaN     15.00  \n",
       "         21천이상 22천미만         2.00     NaN     28.00  \n",
       "         22천이상 23천미만         1.00     NaN     49.00  \n",
       "         23천이상 24천미만          NaN     NaN     16.00  \n",
       "         24천이상 25천미만          NaN     NaN     38.00  \n",
       "         25천이상 26천미만          NaN     NaN    273.00  \n",
       "         26천이상 27천미만          NaN    2.00    124.00  \n",
       "         27천이상 28천미만          NaN     NaN     36.00  \n",
       "         28천이상 29천미만          NaN     NaN      5.00  \n",
       "         29천이상 30천미만          NaN     NaN     19.00  \n",
       "         30천이상 31천미만          NaN     NaN     11.00  \n",
       "         31천이상 32천미만          NaN     NaN     14.00  \n",
       "         32천이상 33천미만          NaN     NaN      1.00  \n",
       "         33천이상 34천미만          NaN     NaN      7.00  \n",
       "         34천이상 35천미만          NaN     NaN     13.00  \n",
       "         35천이상 36천미만          NaN     NaN    115.00  \n",
       "         36천이상 37천미만          NaN     NaN     32.00  \n",
       "         37천이상 38천미만          NaN     NaN     79.00  \n",
       "         38천이상 39천미만         2.00     NaN    286.00  \n",
       "         39천이상 40천미만         2.00    1.00    356.00  \n",
       "합계                        1037.00 1032.00 137148.00  "
      ]
     },
     "execution_count": 1346,
     "metadata": {},
     "output_type": "execute_result"
    }
   ],
   "source": [
    "grp17 = die.groupby(['매연구분인덱스', '매연구분', '총중량구분인덱스', '총중량구분'], dropna=False).agg({'차량번호':'count'}).unstack(['총중량구분인덱스', '총중량구분']).reset_index()\n",
    "grp17 = grp17.rename(columns={'매연구분':'매연(%)', '차량번호':'차량중량(kg)'})\n",
    "grp17 = grp17.rename_axis(columns={'총중량구분':'차량중량(kg)'})\n",
    "grp17['합계'] = grp17.iloc[:, 2:].sum(axis=1)\n",
    "grp17.loc[grp17.shape[0]] = [grp17['매연구분인덱스'].max() + 1, '총합'] + grp17.iloc[:, 2:].sum().to_list()\n",
    "grp17 = grp17.drop('매연구분인덱스', axis=1)\n",
    "grp17.columns = grp17.columns.droplevel(1)\n",
    "grp17 = grp17.T\n",
    "grp17"
   ]
  },
  {
   "cell_type": "markdown",
   "metadata": {},
   "source": [
    "### 18\\. RSD 매연 농도, 종합검사 매연허용기준별 데이터 수량\n",
    "- 매연허용치 8미만 제외\n",
    "- 4륜 자동차의 경유 검사장비가 없어서 정기검사(무부하)만 가능함으로 정기검사 기준이 기록됨.(2023.09.20, 최이사님)"
   ]
  },
  {
   "cell_type": "code",
   "execution_count": 1347,
   "metadata": {},
   "outputs": [
    {
     "data": {
      "text/plain": [
       "(81697, 57)"
      ]
     },
     "execution_count": 1347,
     "metadata": {},
     "output_type": "execute_result"
    }
   ],
   "source": [
    "die[die['무부하매연허용치1'] >= 8].shape"
   ]
  },
  {
   "cell_type": "code",
   "execution_count": 1348,
   "metadata": {},
   "outputs": [
    {
     "data": {
      "text/html": [
       "<div>\n",
       "<style scoped>\n",
       "    .dataframe tbody tr th:only-of-type {\n",
       "        vertical-align: middle;\n",
       "    }\n",
       "\n",
       "    .dataframe tbody tr th {\n",
       "        vertical-align: top;\n",
       "    }\n",
       "\n",
       "    .dataframe thead th {\n",
       "        text-align: right;\n",
       "    }\n",
       "</style>\n",
       "<table border=\"1\" class=\"dataframe\">\n",
       "  <thead>\n",
       "    <tr style=\"text-align: right;\">\n",
       "      <th></th>\n",
       "      <th>매연(%)</th>\n",
       "      <th>매연허용기준(%)</th>\n",
       "      <th>측정건수(건)</th>\n",
       "    </tr>\n",
       "  </thead>\n",
       "  <tbody>\n",
       "    <tr>\n",
       "      <th>0</th>\n",
       "      <td>0이상 0.5미만</td>\n",
       "      <td>8.00</td>\n",
       "      <td>12510</td>\n",
       "    </tr>\n",
       "    <tr>\n",
       "      <th>1</th>\n",
       "      <td>0이상 0.5미만</td>\n",
       "      <td>10.00</td>\n",
       "      <td>1035</td>\n",
       "    </tr>\n",
       "    <tr>\n",
       "      <th>2</th>\n",
       "      <td>0이상 0.5미만</td>\n",
       "      <td>15.00</td>\n",
       "      <td>21674</td>\n",
       "    </tr>\n",
       "    <tr>\n",
       "      <th>3</th>\n",
       "      <td>0이상 0.5미만</td>\n",
       "      <td>20.00</td>\n",
       "      <td>2690</td>\n",
       "    </tr>\n",
       "    <tr>\n",
       "      <th>4</th>\n",
       "      <td>0이상 0.5미만</td>\n",
       "      <td>25.00</td>\n",
       "      <td>2390</td>\n",
       "    </tr>\n",
       "    <tr>\n",
       "      <th>...</th>\n",
       "      <td>...</td>\n",
       "      <td>...</td>\n",
       "      <td>...</td>\n",
       "    </tr>\n",
       "    <tr>\n",
       "      <th>71</th>\n",
       "      <td>4.5이상</td>\n",
       "      <td>15.00</td>\n",
       "      <td>351</td>\n",
       "    </tr>\n",
       "    <tr>\n",
       "      <th>72</th>\n",
       "      <td>4.5이상</td>\n",
       "      <td>20.00</td>\n",
       "      <td>39</td>\n",
       "    </tr>\n",
       "    <tr>\n",
       "      <th>73</th>\n",
       "      <td>4.5이상</td>\n",
       "      <td>25.00</td>\n",
       "      <td>54</td>\n",
       "    </tr>\n",
       "    <tr>\n",
       "      <th>74</th>\n",
       "      <td>4.5이상</td>\n",
       "      <td>30.00</td>\n",
       "      <td>1</td>\n",
       "    </tr>\n",
       "    <tr>\n",
       "      <th>75</th>\n",
       "      <td>총합</td>\n",
       "      <td>NaN</td>\n",
       "      <td>81697</td>\n",
       "    </tr>\n",
       "  </tbody>\n",
       "</table>\n",
       "<p>76 rows × 3 columns</p>\n",
       "</div>"
      ],
      "text/plain": [
       "        매연(%)  매연허용기준(%)  측정건수(건)\n",
       "0   0이상 0.5미만       8.00    12510\n",
       "1   0이상 0.5미만      10.00     1035\n",
       "2   0이상 0.5미만      15.00    21674\n",
       "3   0이상 0.5미만      20.00     2690\n",
       "4   0이상 0.5미만      25.00     2390\n",
       "..        ...        ...      ...\n",
       "71      4.5이상      15.00      351\n",
       "72      4.5이상      20.00       39\n",
       "73      4.5이상      25.00       54\n",
       "74      4.5이상      30.00        1\n",
       "75         총합        NaN    81697\n",
       "\n",
       "[76 rows x 3 columns]"
      ]
     },
     "execution_count": 1348,
     "metadata": {},
     "output_type": "execute_result"
    }
   ],
   "source": [
    "grp18 = die[die['무부하매연허용치1'] >= 8].groupby(['매연구분인덱스', '매연구분', '무부하매연허용치1'], dropna=False).agg({'차량번호':'count'}).reset_index()\n",
    "grp18 = grp18.rename(columns={'무부하매연허용치1':'매연허용기준(%)', '차량번호':'측정건수(건)', '매연구분':'매연(%)'})\n",
    "grp18.loc[grp18.shape[0]] = [grp18['매연구분인덱스'].max() + 1, '총합', np.nan, grp18['측정건수(건)'].sum()]\n",
    "grp18 = grp18.drop('매연구분인덱스', axis=1)\n",
    "grp18"
   ]
  },
  {
   "cell_type": "code",
   "execution_count": 1349,
   "metadata": {},
   "outputs": [
    {
     "name": "stderr",
     "output_type": "stream",
     "text": [
      "C:\\Users\\kbjung\\AppData\\Local\\Temp\\ipykernel_12976\\1981776434.py:6: PerformanceWarning: dropping on a non-lexsorted multi-index without a level parameter may impact performance.\n",
      "  grp18 = grp18.drop('매연구분인덱스', axis=1)\n"
     ]
    },
    {
     "data": {
      "text/html": [
       "<div>\n",
       "<style scoped>\n",
       "    .dataframe tbody tr th:only-of-type {\n",
       "        vertical-align: middle;\n",
       "    }\n",
       "\n",
       "    .dataframe tbody tr th {\n",
       "        vertical-align: top;\n",
       "    }\n",
       "\n",
       "    .dataframe thead tr th {\n",
       "        text-align: left;\n",
       "    }\n",
       "</style>\n",
       "<table border=\"1\" class=\"dataframe\">\n",
       "  <thead>\n",
       "    <tr>\n",
       "      <th></th>\n",
       "      <th>매연(%)</th>\n",
       "      <th colspan=\"10\" halign=\"left\">매연허용기준(%)</th>\n",
       "      <th>합계</th>\n",
       "    </tr>\n",
       "    <tr>\n",
       "      <th>매연허용기준(%)</th>\n",
       "      <th></th>\n",
       "      <th>8.0</th>\n",
       "      <th>10.0</th>\n",
       "      <th>15.0</th>\n",
       "      <th>20.0</th>\n",
       "      <th>25.0</th>\n",
       "      <th>30.0</th>\n",
       "      <th>35.0</th>\n",
       "      <th>40.0</th>\n",
       "      <th>45.0</th>\n",
       "      <th>50.0</th>\n",
       "      <th></th>\n",
       "    </tr>\n",
       "  </thead>\n",
       "  <tbody>\n",
       "    <tr>\n",
       "      <th>0</th>\n",
       "      <td>0이상 0.5미만</td>\n",
       "      <td>12510.00</td>\n",
       "      <td>1035.00</td>\n",
       "      <td>21674.00</td>\n",
       "      <td>2690.00</td>\n",
       "      <td>2390.00</td>\n",
       "      <td>11.00</td>\n",
       "      <td>1.00</td>\n",
       "      <td>14.00</td>\n",
       "      <td>20.00</td>\n",
       "      <td>1.00</td>\n",
       "      <td>40346.00</td>\n",
       "    </tr>\n",
       "    <tr>\n",
       "      <th>1</th>\n",
       "      <td>0.5이상 1.0미만</td>\n",
       "      <td>6344.00</td>\n",
       "      <td>475.00</td>\n",
       "      <td>11444.00</td>\n",
       "      <td>1223.00</td>\n",
       "      <td>1312.00</td>\n",
       "      <td>3.00</td>\n",
       "      <td>NaN</td>\n",
       "      <td>24.00</td>\n",
       "      <td>15.00</td>\n",
       "      <td>1.00</td>\n",
       "      <td>20841.00</td>\n",
       "    </tr>\n",
       "    <tr>\n",
       "      <th>2</th>\n",
       "      <td>1.0이상 1.5미만</td>\n",
       "      <td>2714.00</td>\n",
       "      <td>196.00</td>\n",
       "      <td>5473.00</td>\n",
       "      <td>672.00</td>\n",
       "      <td>670.00</td>\n",
       "      <td>4.00</td>\n",
       "      <td>NaN</td>\n",
       "      <td>14.00</td>\n",
       "      <td>8.00</td>\n",
       "      <td>NaN</td>\n",
       "      <td>9751.00</td>\n",
       "    </tr>\n",
       "    <tr>\n",
       "      <th>3</th>\n",
       "      <td>1.5이상 2.0미만</td>\n",
       "      <td>1122.00</td>\n",
       "      <td>85.00</td>\n",
       "      <td>2258.00</td>\n",
       "      <td>285.00</td>\n",
       "      <td>289.00</td>\n",
       "      <td>4.00</td>\n",
       "      <td>NaN</td>\n",
       "      <td>9.00</td>\n",
       "      <td>4.00</td>\n",
       "      <td>NaN</td>\n",
       "      <td>4056.00</td>\n",
       "    </tr>\n",
       "    <tr>\n",
       "      <th>4</th>\n",
       "      <td>2.0이상 2.5미만</td>\n",
       "      <td>585.00</td>\n",
       "      <td>43.00</td>\n",
       "      <td>1263.00</td>\n",
       "      <td>157.00</td>\n",
       "      <td>133.00</td>\n",
       "      <td>2.00</td>\n",
       "      <td>NaN</td>\n",
       "      <td>2.00</td>\n",
       "      <td>2.00</td>\n",
       "      <td>NaN</td>\n",
       "      <td>2187.00</td>\n",
       "    </tr>\n",
       "    <tr>\n",
       "      <th>5</th>\n",
       "      <td>2.5이상 3.0미만</td>\n",
       "      <td>402.00</td>\n",
       "      <td>21.00</td>\n",
       "      <td>816.00</td>\n",
       "      <td>107.00</td>\n",
       "      <td>84.00</td>\n",
       "      <td>1.00</td>\n",
       "      <td>NaN</td>\n",
       "      <td>2.00</td>\n",
       "      <td>3.00</td>\n",
       "      <td>NaN</td>\n",
       "      <td>1436.00</td>\n",
       "    </tr>\n",
       "    <tr>\n",
       "      <th>6</th>\n",
       "      <td>3.0이상 3.5미만</td>\n",
       "      <td>278.00</td>\n",
       "      <td>16.00</td>\n",
       "      <td>560.00</td>\n",
       "      <td>60.00</td>\n",
       "      <td>71.00</td>\n",
       "      <td>1.00</td>\n",
       "      <td>NaN</td>\n",
       "      <td>NaN</td>\n",
       "      <td>2.00</td>\n",
       "      <td>NaN</td>\n",
       "      <td>988.00</td>\n",
       "    </tr>\n",
       "    <tr>\n",
       "      <th>7</th>\n",
       "      <td>3.5이상 4.0미만</td>\n",
       "      <td>222.00</td>\n",
       "      <td>11.00</td>\n",
       "      <td>442.00</td>\n",
       "      <td>59.00</td>\n",
       "      <td>48.00</td>\n",
       "      <td>NaN</td>\n",
       "      <td>NaN</td>\n",
       "      <td>NaN</td>\n",
       "      <td>1.00</td>\n",
       "      <td>NaN</td>\n",
       "      <td>783.00</td>\n",
       "    </tr>\n",
       "    <tr>\n",
       "      <th>8</th>\n",
       "      <td>4.0이상 4.5미만</td>\n",
       "      <td>188.00</td>\n",
       "      <td>15.00</td>\n",
       "      <td>362.00</td>\n",
       "      <td>58.00</td>\n",
       "      <td>40.00</td>\n",
       "      <td>NaN</td>\n",
       "      <td>NaN</td>\n",
       "      <td>NaN</td>\n",
       "      <td>NaN</td>\n",
       "      <td>NaN</td>\n",
       "      <td>663.00</td>\n",
       "    </tr>\n",
       "    <tr>\n",
       "      <th>9</th>\n",
       "      <td>4.5이상</td>\n",
       "      <td>180.00</td>\n",
       "      <td>21.00</td>\n",
       "      <td>351.00</td>\n",
       "      <td>39.00</td>\n",
       "      <td>54.00</td>\n",
       "      <td>1.00</td>\n",
       "      <td>NaN</td>\n",
       "      <td>NaN</td>\n",
       "      <td>NaN</td>\n",
       "      <td>NaN</td>\n",
       "      <td>646.00</td>\n",
       "    </tr>\n",
       "    <tr>\n",
       "      <th>10</th>\n",
       "      <td>총합</td>\n",
       "      <td>24545.00</td>\n",
       "      <td>1918.00</td>\n",
       "      <td>44643.00</td>\n",
       "      <td>5350.00</td>\n",
       "      <td>5091.00</td>\n",
       "      <td>27.00</td>\n",
       "      <td>1.00</td>\n",
       "      <td>65.00</td>\n",
       "      <td>55.00</td>\n",
       "      <td>2.00</td>\n",
       "      <td>81697.00</td>\n",
       "    </tr>\n",
       "  </tbody>\n",
       "</table>\n",
       "</div>"
      ],
      "text/plain": [
       "                 매연(%) 매연허용기준(%)                                              \\\n",
       "매연허용기준(%)                    8.0    10.0     15.0    20.0    25.0  30.0 35.0   \n",
       "0            0이상 0.5미만  12510.00 1035.00 21674.00 2690.00 2390.00 11.00 1.00   \n",
       "1          0.5이상 1.0미만   6344.00  475.00 11444.00 1223.00 1312.00  3.00  NaN   \n",
       "2          1.0이상 1.5미만   2714.00  196.00  5473.00  672.00  670.00  4.00  NaN   \n",
       "3          1.5이상 2.0미만   1122.00   85.00  2258.00  285.00  289.00  4.00  NaN   \n",
       "4          2.0이상 2.5미만    585.00   43.00  1263.00  157.00  133.00  2.00  NaN   \n",
       "5          2.5이상 3.0미만    402.00   21.00   816.00  107.00   84.00  1.00  NaN   \n",
       "6          3.0이상 3.5미만    278.00   16.00   560.00   60.00   71.00  1.00  NaN   \n",
       "7          3.5이상 4.0미만    222.00   11.00   442.00   59.00   48.00   NaN  NaN   \n",
       "8          4.0이상 4.5미만    188.00   15.00   362.00   58.00   40.00   NaN  NaN   \n",
       "9                4.5이상    180.00   21.00   351.00   39.00   54.00  1.00  NaN   \n",
       "10                  총합  24545.00 1918.00 44643.00 5350.00 5091.00 27.00 1.00   \n",
       "\n",
       "                                 합계  \n",
       "매연허용기준(%)  40.0  45.0 50.0           \n",
       "0         14.00 20.00 1.00 40346.00  \n",
       "1         24.00 15.00 1.00 20841.00  \n",
       "2         14.00  8.00  NaN  9751.00  \n",
       "3          9.00  4.00  NaN  4056.00  \n",
       "4          2.00  2.00  NaN  2187.00  \n",
       "5          2.00  3.00  NaN  1436.00  \n",
       "6           NaN  2.00  NaN   988.00  \n",
       "7           NaN  1.00  NaN   783.00  \n",
       "8           NaN   NaN  NaN   663.00  \n",
       "9           NaN   NaN  NaN   646.00  \n",
       "10        65.00 55.00 2.00 81697.00  "
      ]
     },
     "execution_count": 1349,
     "metadata": {},
     "output_type": "execute_result"
    }
   ],
   "source": [
    "grp18 = die[die['무부하매연허용치1'] >= 8].groupby(['매연구분인덱스', '매연구분', '무부하매연허용치1'], dropna=False).agg({'차량번호':'count'}).unstack('무부하매연허용치1').reset_index()\n",
    "grp18 = grp18.rename(columns={'매연구분':'매연(%)', '차량번호':'매연허용기준(%)'})\n",
    "grp18 = grp18.rename_axis(columns={'무부하매연허용치1':'매연허용기준(%)'})\n",
    "grp18['합계'] = grp18.iloc[:, 2:].sum(axis=1)\n",
    "grp18.loc[grp18.shape[0]] = [grp18['매연구분인덱스'].max() + 1, '총합'] + grp18.iloc[:, 2:].sum().to_list()\n",
    "grp18 = grp18.drop('매연구분인덱스', axis=1)\n",
    "grp18"
   ]
  },
  {
   "cell_type": "markdown",
   "metadata": {},
   "source": [
    "### 19\\. RSD 매연 농도, 종합검사 NOx허용기준별 데이터 수량"
   ]
  },
  {
   "cell_type": "code",
   "execution_count": 1350,
   "metadata": {},
   "outputs": [
    {
     "data": {
      "text/html": [
       "<div>\n",
       "<style scoped>\n",
       "    .dataframe tbody tr th:only-of-type {\n",
       "        vertical-align: middle;\n",
       "    }\n",
       "\n",
       "    .dataframe tbody tr th {\n",
       "        vertical-align: top;\n",
       "    }\n",
       "\n",
       "    .dataframe thead th {\n",
       "        text-align: right;\n",
       "    }\n",
       "</style>\n",
       "<table border=\"1\" class=\"dataframe\">\n",
       "  <thead>\n",
       "    <tr style=\"text-align: right;\">\n",
       "      <th></th>\n",
       "      <th>매연(%)</th>\n",
       "      <th>NOx허용기준(ppm)</th>\n",
       "      <th>측정건수(건)</th>\n",
       "    </tr>\n",
       "  </thead>\n",
       "  <tbody>\n",
       "    <tr>\n",
       "      <th>0</th>\n",
       "      <td>0이상 0.5미만</td>\n",
       "      <td>0.00</td>\n",
       "      <td>14528</td>\n",
       "    </tr>\n",
       "    <tr>\n",
       "      <th>1</th>\n",
       "      <td>0이상 0.5미만</td>\n",
       "      <td>8.00</td>\n",
       "      <td>1101</td>\n",
       "    </tr>\n",
       "    <tr>\n",
       "      <th>2</th>\n",
       "      <td>0이상 0.5미만</td>\n",
       "      <td>15.00</td>\n",
       "      <td>2878</td>\n",
       "    </tr>\n",
       "    <tr>\n",
       "      <th>3</th>\n",
       "      <td>0이상 0.5미만</td>\n",
       "      <td>20.00</td>\n",
       "      <td>503</td>\n",
       "    </tr>\n",
       "    <tr>\n",
       "      <th>4</th>\n",
       "      <td>0이상 0.5미만</td>\n",
       "      <td>25.00</td>\n",
       "      <td>46</td>\n",
       "    </tr>\n",
       "    <tr>\n",
       "      <th>...</th>\n",
       "      <td>...</td>\n",
       "      <td>...</td>\n",
       "      <td>...</td>\n",
       "    </tr>\n",
       "    <tr>\n",
       "      <th>81</th>\n",
       "      <td>4.5이상</td>\n",
       "      <td>20.00</td>\n",
       "      <td>10</td>\n",
       "    </tr>\n",
       "    <tr>\n",
       "      <th>82</th>\n",
       "      <td>4.5이상</td>\n",
       "      <td>25.00</td>\n",
       "      <td>2</td>\n",
       "    </tr>\n",
       "    <tr>\n",
       "      <th>83</th>\n",
       "      <td>4.5이상</td>\n",
       "      <td>30.00</td>\n",
       "      <td>1</td>\n",
       "    </tr>\n",
       "    <tr>\n",
       "      <th>84</th>\n",
       "      <td>4.5이상</td>\n",
       "      <td>NaN</td>\n",
       "      <td>709</td>\n",
       "    </tr>\n",
       "    <tr>\n",
       "      <th>85</th>\n",
       "      <td>총합</td>\n",
       "      <td>NaN</td>\n",
       "      <td>137148</td>\n",
       "    </tr>\n",
       "  </tbody>\n",
       "</table>\n",
       "<p>86 rows × 3 columns</p>\n",
       "</div>"
      ],
      "text/plain": [
       "        매연(%)  NOx허용기준(ppm)  측정건수(건)\n",
       "0   0이상 0.5미만          0.00    14528\n",
       "1   0이상 0.5미만          8.00     1101\n",
       "2   0이상 0.5미만         15.00     2878\n",
       "3   0이상 0.5미만         20.00      503\n",
       "4   0이상 0.5미만         25.00       46\n",
       "..        ...           ...      ...\n",
       "81      4.5이상         20.00       10\n",
       "82      4.5이상         25.00        2\n",
       "83      4.5이상         30.00        1\n",
       "84      4.5이상           NaN      709\n",
       "85         총합           NaN   137148\n",
       "\n",
       "[86 rows x 3 columns]"
      ]
     },
     "execution_count": 1350,
     "metadata": {},
     "output_type": "execute_result"
    }
   ],
   "source": [
    "grp19 = die.groupby(['매연구분인덱스', '매연구분', '무부하매연허용치3'], dropna=False).agg({'차량번호':'count'}).reset_index()\n",
    "grp19 = grp19.rename(columns={'무부하매연허용치3':'NOx허용기준(ppm)', '차량번호':'측정건수(건)', '매연구분':'매연(%)'})\n",
    "grp19.loc[grp19.shape[0]] = [grp19['매연구분인덱스'].max() + 1, '총합', np.nan, grp19['측정건수(건)'].sum()]\n",
    "grp19 = grp19.drop('매연구분인덱스', axis=1)\n",
    "grp19"
   ]
  },
  {
   "cell_type": "code",
   "execution_count": 1351,
   "metadata": {},
   "outputs": [
    {
     "name": "stderr",
     "output_type": "stream",
     "text": [
      "C:\\Users\\kbjung\\AppData\\Local\\Temp\\ipykernel_12976\\2405951417.py:6: PerformanceWarning: dropping on a non-lexsorted multi-index without a level parameter may impact performance.\n",
      "  grp19 = grp19.drop('매연구분인덱스', axis=1)\n"
     ]
    },
    {
     "data": {
      "text/html": [
       "<div>\n",
       "<style scoped>\n",
       "    .dataframe tbody tr th:only-of-type {\n",
       "        vertical-align: middle;\n",
       "    }\n",
       "\n",
       "    .dataframe tbody tr th {\n",
       "        vertical-align: top;\n",
       "    }\n",
       "\n",
       "    .dataframe thead tr th {\n",
       "        text-align: left;\n",
       "    }\n",
       "</style>\n",
       "<table border=\"1\" class=\"dataframe\">\n",
       "  <thead>\n",
       "    <tr>\n",
       "      <th></th>\n",
       "      <th>매연(%)</th>\n",
       "      <th colspan=\"14\" halign=\"left\">NOx허용기준(ppm)</th>\n",
       "      <th>합계</th>\n",
       "    </tr>\n",
       "    <tr>\n",
       "      <th>NOx허용기준(ppm)</th>\n",
       "      <th></th>\n",
       "      <th>0.0</th>\n",
       "      <th>8.0</th>\n",
       "      <th>15.0</th>\n",
       "      <th>20.0</th>\n",
       "      <th>25.0</th>\n",
       "      <th>30.0</th>\n",
       "      <th>50.0</th>\n",
       "      <th>580.0</th>\n",
       "      <th>700.0</th>\n",
       "      <th>1200.0</th>\n",
       "      <th>1830.0</th>\n",
       "      <th>2070.0</th>\n",
       "      <th>2340.0</th>\n",
       "      <th>NaN</th>\n",
       "      <th></th>\n",
       "    </tr>\n",
       "  </thead>\n",
       "  <tbody>\n",
       "    <tr>\n",
       "      <th>0</th>\n",
       "      <td>0이상 0.5미만</td>\n",
       "      <td>14528.00</td>\n",
       "      <td>1101.00</td>\n",
       "      <td>2878.00</td>\n",
       "      <td>503.00</td>\n",
       "      <td>46.00</td>\n",
       "      <td>11.00</td>\n",
       "      <td>1.00</td>\n",
       "      <td>NaN</td>\n",
       "      <td>5.00</td>\n",
       "      <td>6.00</td>\n",
       "      <td>4.00</td>\n",
       "      <td>3.00</td>\n",
       "      <td>NaN</td>\n",
       "      <td>50181.00</td>\n",
       "      <td>69267.00</td>\n",
       "    </tr>\n",
       "    <tr>\n",
       "      <th>1</th>\n",
       "      <td>0.5이상 1.0미만</td>\n",
       "      <td>7775.00</td>\n",
       "      <td>480.00</td>\n",
       "      <td>968.00</td>\n",
       "      <td>179.00</td>\n",
       "      <td>8.00</td>\n",
       "      <td>3.00</td>\n",
       "      <td>1.00</td>\n",
       "      <td>1.00</td>\n",
       "      <td>5.00</td>\n",
       "      <td>1.00</td>\n",
       "      <td>2.00</td>\n",
       "      <td>NaN</td>\n",
       "      <td>1.00</td>\n",
       "      <td>25428.00</td>\n",
       "      <td>34852.00</td>\n",
       "    </tr>\n",
       "    <tr>\n",
       "      <th>2</th>\n",
       "      <td>1.0이상 1.5미만</td>\n",
       "      <td>3428.00</td>\n",
       "      <td>279.00</td>\n",
       "      <td>596.00</td>\n",
       "      <td>104.00</td>\n",
       "      <td>6.00</td>\n",
       "      <td>4.00</td>\n",
       "      <td>NaN</td>\n",
       "      <td>NaN</td>\n",
       "      <td>2.00</td>\n",
       "      <td>NaN</td>\n",
       "      <td>3.00</td>\n",
       "      <td>NaN</td>\n",
       "      <td>1.00</td>\n",
       "      <td>11315.00</td>\n",
       "      <td>15738.00</td>\n",
       "    </tr>\n",
       "    <tr>\n",
       "      <th>3</th>\n",
       "      <td>1.5이상 2.0미만</td>\n",
       "      <td>1398.00</td>\n",
       "      <td>148.00</td>\n",
       "      <td>304.00</td>\n",
       "      <td>69.00</td>\n",
       "      <td>6.00</td>\n",
       "      <td>4.00</td>\n",
       "      <td>NaN</td>\n",
       "      <td>NaN</td>\n",
       "      <td>NaN</td>\n",
       "      <td>NaN</td>\n",
       "      <td>NaN</td>\n",
       "      <td>NaN</td>\n",
       "      <td>NaN</td>\n",
       "      <td>4637.00</td>\n",
       "      <td>6566.00</td>\n",
       "    </tr>\n",
       "    <tr>\n",
       "      <th>4</th>\n",
       "      <td>2.0이상 2.5미만</td>\n",
       "      <td>766.00</td>\n",
       "      <td>79.00</td>\n",
       "      <td>202.00</td>\n",
       "      <td>34.00</td>\n",
       "      <td>1.00</td>\n",
       "      <td>2.00</td>\n",
       "      <td>NaN</td>\n",
       "      <td>NaN</td>\n",
       "      <td>2.00</td>\n",
       "      <td>NaN</td>\n",
       "      <td>NaN</td>\n",
       "      <td>NaN</td>\n",
       "      <td>NaN</td>\n",
       "      <td>2435.00</td>\n",
       "      <td>3521.00</td>\n",
       "    </tr>\n",
       "    <tr>\n",
       "      <th>5</th>\n",
       "      <td>2.5이상 3.0미만</td>\n",
       "      <td>495.00</td>\n",
       "      <td>61.00</td>\n",
       "      <td>112.00</td>\n",
       "      <td>20.00</td>\n",
       "      <td>4.00</td>\n",
       "      <td>1.00</td>\n",
       "      <td>NaN</td>\n",
       "      <td>NaN</td>\n",
       "      <td>NaN</td>\n",
       "      <td>1.00</td>\n",
       "      <td>NaN</td>\n",
       "      <td>NaN</td>\n",
       "      <td>NaN</td>\n",
       "      <td>1609.00</td>\n",
       "      <td>2303.00</td>\n",
       "    </tr>\n",
       "    <tr>\n",
       "      <th>6</th>\n",
       "      <td>3.0이상 3.5미만</td>\n",
       "      <td>347.00</td>\n",
       "      <td>35.00</td>\n",
       "      <td>93.00</td>\n",
       "      <td>19.00</td>\n",
       "      <td>2.00</td>\n",
       "      <td>1.00</td>\n",
       "      <td>NaN</td>\n",
       "      <td>NaN</td>\n",
       "      <td>NaN</td>\n",
       "      <td>NaN</td>\n",
       "      <td>1.00</td>\n",
       "      <td>NaN</td>\n",
       "      <td>NaN</td>\n",
       "      <td>1081.00</td>\n",
       "      <td>1579.00</td>\n",
       "    </tr>\n",
       "    <tr>\n",
       "      <th>7</th>\n",
       "      <td>3.5이상 4.0미만</td>\n",
       "      <td>253.00</td>\n",
       "      <td>39.00</td>\n",
       "      <td>73.00</td>\n",
       "      <td>15.00</td>\n",
       "      <td>1.00</td>\n",
       "      <td>NaN</td>\n",
       "      <td>NaN</td>\n",
       "      <td>NaN</td>\n",
       "      <td>NaN</td>\n",
       "      <td>NaN</td>\n",
       "      <td>NaN</td>\n",
       "      <td>NaN</td>\n",
       "      <td>NaN</td>\n",
       "      <td>872.00</td>\n",
       "      <td>1253.00</td>\n",
       "    </tr>\n",
       "    <tr>\n",
       "      <th>8</th>\n",
       "      <td>4.0이상 4.5미만</td>\n",
       "      <td>219.00</td>\n",
       "      <td>22.00</td>\n",
       "      <td>61.00</td>\n",
       "      <td>11.00</td>\n",
       "      <td>5.00</td>\n",
       "      <td>NaN</td>\n",
       "      <td>NaN</td>\n",
       "      <td>NaN</td>\n",
       "      <td>NaN</td>\n",
       "      <td>NaN</td>\n",
       "      <td>NaN</td>\n",
       "      <td>NaN</td>\n",
       "      <td>NaN</td>\n",
       "      <td>719.00</td>\n",
       "      <td>1037.00</td>\n",
       "    </tr>\n",
       "    <tr>\n",
       "      <th>9</th>\n",
       "      <td>4.5이상</td>\n",
       "      <td>218.00</td>\n",
       "      <td>20.00</td>\n",
       "      <td>72.00</td>\n",
       "      <td>10.00</td>\n",
       "      <td>2.00</td>\n",
       "      <td>1.00</td>\n",
       "      <td>NaN</td>\n",
       "      <td>NaN</td>\n",
       "      <td>NaN</td>\n",
       "      <td>NaN</td>\n",
       "      <td>NaN</td>\n",
       "      <td>NaN</td>\n",
       "      <td>NaN</td>\n",
       "      <td>709.00</td>\n",
       "      <td>1032.00</td>\n",
       "    </tr>\n",
       "    <tr>\n",
       "      <th>10</th>\n",
       "      <td>총합</td>\n",
       "      <td>29427.00</td>\n",
       "      <td>2264.00</td>\n",
       "      <td>5359.00</td>\n",
       "      <td>964.00</td>\n",
       "      <td>81.00</td>\n",
       "      <td>27.00</td>\n",
       "      <td>2.00</td>\n",
       "      <td>1.00</td>\n",
       "      <td>14.00</td>\n",
       "      <td>8.00</td>\n",
       "      <td>10.00</td>\n",
       "      <td>3.00</td>\n",
       "      <td>2.00</td>\n",
       "      <td>98986.00</td>\n",
       "      <td>137148.00</td>\n",
       "    </tr>\n",
       "  </tbody>\n",
       "</table>\n",
       "</div>"
      ],
      "text/plain": [
       "                    매연(%) NOx허용기준(ppm)                                     \\\n",
       "NOx허용기준(ppm)                       0.0     8.0    15.0   20.0  25.0  30.0   \n",
       "0               0이상 0.5미만     14528.00 1101.00 2878.00 503.00 46.00 11.00   \n",
       "1             0.5이상 1.0미만      7775.00  480.00  968.00 179.00  8.00  3.00   \n",
       "2             1.0이상 1.5미만      3428.00  279.00  596.00 104.00  6.00  4.00   \n",
       "3             1.5이상 2.0미만      1398.00  148.00  304.00  69.00  6.00  4.00   \n",
       "4             2.0이상 2.5미만       766.00   79.00  202.00  34.00  1.00  2.00   \n",
       "5             2.5이상 3.0미만       495.00   61.00  112.00  20.00  4.00  1.00   \n",
       "6             3.0이상 3.5미만       347.00   35.00   93.00  19.00  2.00  1.00   \n",
       "7             3.5이상 4.0미만       253.00   39.00   73.00  15.00  1.00   NaN   \n",
       "8             4.0이상 4.5미만       219.00   22.00   61.00  11.00  5.00   NaN   \n",
       "9                   4.5이상       218.00   20.00   72.00  10.00  2.00  1.00   \n",
       "10                     총합     29427.00 2264.00 5359.00 964.00 81.00 27.00   \n",
       "\n",
       "                                                                          합계  \n",
       "NOx허용기준(ppm) 50.0 580.0 700.0 1200.0 1830.0 2070.0 2340.0      NaN            \n",
       "0            1.00   NaN  5.00   6.00   4.00   3.00    NaN 50181.00  69267.00  \n",
       "1            1.00  1.00  5.00   1.00   2.00    NaN   1.00 25428.00  34852.00  \n",
       "2             NaN   NaN  2.00    NaN   3.00    NaN   1.00 11315.00  15738.00  \n",
       "3             NaN   NaN   NaN    NaN    NaN    NaN    NaN  4637.00   6566.00  \n",
       "4             NaN   NaN  2.00    NaN    NaN    NaN    NaN  2435.00   3521.00  \n",
       "5             NaN   NaN   NaN   1.00    NaN    NaN    NaN  1609.00   2303.00  \n",
       "6             NaN   NaN   NaN    NaN   1.00    NaN    NaN  1081.00   1579.00  \n",
       "7             NaN   NaN   NaN    NaN    NaN    NaN    NaN   872.00   1253.00  \n",
       "8             NaN   NaN   NaN    NaN    NaN    NaN    NaN   719.00   1037.00  \n",
       "9             NaN   NaN   NaN    NaN    NaN    NaN    NaN   709.00   1032.00  \n",
       "10           2.00  1.00 14.00   8.00  10.00   3.00   2.00 98986.00 137148.00  "
      ]
     },
     "execution_count": 1351,
     "metadata": {},
     "output_type": "execute_result"
    }
   ],
   "source": [
    "grp19 = die.groupby(['매연구분인덱스', '매연구분', '무부하매연허용치3'], dropna=False).agg({'차량번호':'count'}).unstack('무부하매연허용치3').reset_index()\n",
    "grp19 = grp19.rename(columns={'매연구분':'매연(%)', '차량번호':'NOx허용기준(ppm)'})\n",
    "grp19 = grp19.rename_axis(columns={'무부하매연허용치3':'NOx허용기준(ppm)'})\n",
    "grp19['합계'] = grp19.iloc[:, 2:].sum(axis=1)\n",
    "grp19.loc[grp19.shape[0]] = [grp19['매연구분인덱스'].max() + 1, '총합'] + grp19.iloc[:, 2:].sum().to_list()\n",
    "grp19 = grp19.drop('매연구분인덱스', axis=1)\n",
    "grp19"
   ]
  },
  {
   "cell_type": "markdown",
   "metadata": {},
   "source": [
    "## 종합검사 매연검사 결과와 매연RSD 매연측정 값 분석\n",
    "- 매연RSD측정 매연농도 상위10%의 종합검사 매연검사 결과(적/부, 농도) 비교\n",
    "- 2023.10.18 자스택 임근태 차장 요청\n",
    "    - 매연RSD측정 매연농도 나머지 하위90%의 종합검사 매연검사 결과(적/부, 농도) 비교\n",
    "    - 매연RSD측정 매연농도 나머지 하위10%의 종합검사 매연검사 결과(적/부, 농도) 비교"
   ]
  },
  {
   "cell_type": "code",
   "execution_count": 1352,
   "metadata": {},
   "outputs": [
    {
     "data": {
      "text/plain": [
       "396394"
      ]
     },
     "execution_count": 1352,
     "metadata": {},
     "output_type": "execute_result"
    }
   ],
   "source": [
    "df.shape[0]"
   ]
  },
  {
   "cell_type": "code",
   "execution_count": 1353,
   "metadata": {},
   "outputs": [
    {
     "data": {
      "text/plain": [
       "137148"
      ]
     },
     "execution_count": 1353,
     "metadata": {},
     "output_type": "execute_result"
    }
   ],
   "source": [
    "die.shape[0]"
   ]
  },
  {
   "cell_type": "code",
   "execution_count": 1354,
   "metadata": {},
   "outputs": [
    {
     "data": {
      "text/plain": [
       "13715"
      ]
     },
     "execution_count": 1354,
     "metadata": {},
     "output_type": "execute_result"
    }
   ],
   "source": [
    "top10_num = round(die.shape[0] * 0.1)\n",
    "top10_num"
   ]
  },
  {
   "cell_type": "code",
   "execution_count": 1355,
   "metadata": {},
   "outputs": [
    {
     "data": {
      "text/plain": [
       "123433"
      ]
     },
     "execution_count": 1355,
     "metadata": {},
     "output_type": "execute_result"
    }
   ],
   "source": [
    "die.shape[0] - top10_num"
   ]
  },
  {
   "cell_type": "code",
   "execution_count": 1356,
   "metadata": {},
   "outputs": [],
   "source": [
    "temp = die.sort_values('매연', ascending=False)"
   ]
  },
  {
   "cell_type": "code",
   "execution_count": 1357,
   "metadata": {},
   "outputs": [
    {
     "data": {
      "text/plain": [
       "113208   5.00\n",
       "111826   5.00\n",
       "107082   5.00\n",
       "116102   5.00\n",
       "107083   5.00\n",
       "         ... \n",
       "137103   1.10\n",
       "36645    1.10\n",
       "23147    1.10\n",
       "84406    1.10\n",
       "10       1.10\n",
       "Name: 매연, Length: 27556, dtype: float64"
      ]
     },
     "execution_count": 1357,
     "metadata": {},
     "output_type": "execute_result"
    }
   ],
   "source": [
    "temp.loc[:10, '매연']"
   ]
  },
  {
   "cell_type": "code",
   "execution_count": 1358,
   "metadata": {},
   "outputs": [
    {
     "data": {
      "text/plain": [
       "106033   0.00\n",
       "106041   0.00\n",
       "106034   0.00\n",
       "106035   0.00\n",
       "106036   0.00\n",
       "106037   0.00\n",
       "106038   0.00\n",
       "106039   0.00\n",
       "106040   0.00\n",
       "68574    0.00\n",
       "Name: 매연, dtype: float64"
      ]
     },
     "execution_count": 1358,
     "metadata": {},
     "output_type": "execute_result"
    }
   ],
   "source": [
    "temp.loc[:, '매연'].tail(10)"
   ]
  },
  {
   "cell_type": "code",
   "execution_count": 1359,
   "metadata": {},
   "outputs": [
    {
     "data": {
      "text/plain": [
       "((13715, 57), (123433, 57), (13715, 57))"
      ]
     },
     "execution_count": 1359,
     "metadata": {},
     "output_type": "execute_result"
    }
   ],
   "source": [
    "top10 = die.sort_values('매연', ascending=False).iloc[:top10_num]\n",
    "nor90 = die.sort_values('매연', ascending=False).iloc[top10_num:]\n",
    "bottom10 = die.sort_values('매연', ascending=False).iloc[-top10_num:]\n",
    "top10.shape, nor90.shape, bottom10.shape"
   ]
  },
  {
   "cell_type": "code",
   "execution_count": 1360,
   "metadata": {},
   "outputs": [
    {
     "data": {
      "text/plain": [
       "True"
      ]
     },
     "execution_count": 1360,
     "metadata": {},
     "output_type": "execute_result"
    }
   ],
   "source": [
    "die.shape[0] == top10.shape[0] + nor90.shape[0]"
   ]
  },
  {
   "cell_type": "markdown",
   "metadata": {},
   "source": [
    "### 20\\. 종합검사의 매연측정결과 적합비율(상위 10%)"
   ]
  },
  {
   "cell_type": "code",
   "execution_count": 1361,
   "metadata": {},
   "outputs": [
    {
     "data": {
      "text/html": [
       "<div>\n",
       "<style scoped>\n",
       "    .dataframe tbody tr th:only-of-type {\n",
       "        vertical-align: middle;\n",
       "    }\n",
       "\n",
       "    .dataframe tbody tr th {\n",
       "        vertical-align: top;\n",
       "    }\n",
       "\n",
       "    .dataframe thead th {\n",
       "        text-align: right;\n",
       "    }\n",
       "</style>\n",
       "<table border=\"1\" class=\"dataframe\">\n",
       "  <thead>\n",
       "    <tr style=\"text-align: right;\">\n",
       "      <th></th>\n",
       "      <th>매연판정</th>\n",
       "      <th>검사건수(건)</th>\n",
       "      <th>비율</th>\n",
       "    </tr>\n",
       "  </thead>\n",
       "  <tbody>\n",
       "    <tr>\n",
       "      <th>1</th>\n",
       "      <td>Y</td>\n",
       "      <td>8452.00</td>\n",
       "      <td>0.62</td>\n",
       "    </tr>\n",
       "    <tr>\n",
       "      <th>0</th>\n",
       "      <td>N</td>\n",
       "      <td>101.00</td>\n",
       "      <td>0.01</td>\n",
       "    </tr>\n",
       "    <tr>\n",
       "      <th>2</th>\n",
       "      <td>NaN</td>\n",
       "      <td>5162.00</td>\n",
       "      <td>0.38</td>\n",
       "    </tr>\n",
       "    <tr>\n",
       "      <th>3</th>\n",
       "      <td>총합</td>\n",
       "      <td>13715.00</td>\n",
       "      <td>1.00</td>\n",
       "    </tr>\n",
       "  </tbody>\n",
       "</table>\n",
       "</div>"
      ],
      "text/plain": [
       "  매연판정  검사건수(건)   비율\n",
       "1    Y  8452.00 0.62\n",
       "0    N   101.00 0.01\n",
       "2  NaN  5162.00 0.38\n",
       "3   총합 13715.00 1.00"
      ]
     },
     "execution_count": 1361,
     "metadata": {},
     "output_type": "execute_result"
    }
   ],
   "source": [
    "# 매연 상위 10%\n",
    "grp20 = top10.groupby(['무부하매연판정1'], dropna=False).agg({'차량번호':'count'}).reset_index().sort_values('무부하매연판정1', ascending=False)\n",
    "grp20['합계'] = grp20['차량번호'].sum()\n",
    "grp20['비율'] = grp20['차량번호'] / grp20['합계']\n",
    "# grp20['비율'] = grp20['비율'].round(2)\n",
    "grp20 = grp20.drop('합계', axis=1)\n",
    "grp20 = grp20.rename(columns={'무부하매연판정1':'매연판정', '차량번호':'검사건수(건)'})\n",
    "grp20.loc[grp20.shape[0]] = ['총합'] + grp20.iloc[:, 1:].sum().to_list()\n",
    "grp20"
   ]
  },
  {
   "cell_type": "markdown",
   "metadata": {},
   "source": [
    "### 21\\. 종합검사의 매연측정결과 적합비율(하위 90%)"
   ]
  },
  {
   "cell_type": "code",
   "execution_count": 1362,
   "metadata": {},
   "outputs": [
    {
     "data": {
      "text/html": [
       "<div>\n",
       "<style scoped>\n",
       "    .dataframe tbody tr th:only-of-type {\n",
       "        vertical-align: middle;\n",
       "    }\n",
       "\n",
       "    .dataframe tbody tr th {\n",
       "        vertical-align: top;\n",
       "    }\n",
       "\n",
       "    .dataframe thead th {\n",
       "        text-align: right;\n",
       "    }\n",
       "</style>\n",
       "<table border=\"1\" class=\"dataframe\">\n",
       "  <thead>\n",
       "    <tr style=\"text-align: right;\">\n",
       "      <th></th>\n",
       "      <th>매연판정</th>\n",
       "      <th>검사건수(건)</th>\n",
       "      <th>비율</th>\n",
       "    </tr>\n",
       "  </thead>\n",
       "  <tbody>\n",
       "    <tr>\n",
       "      <th>1</th>\n",
       "      <td>Y</td>\n",
       "      <td>72528.00</td>\n",
       "      <td>0.59</td>\n",
       "    </tr>\n",
       "    <tr>\n",
       "      <th>0</th>\n",
       "      <td>N</td>\n",
       "      <td>654.00</td>\n",
       "      <td>0.01</td>\n",
       "    </tr>\n",
       "    <tr>\n",
       "      <th>2</th>\n",
       "      <td>NaN</td>\n",
       "      <td>50251.00</td>\n",
       "      <td>0.41</td>\n",
       "    </tr>\n",
       "    <tr>\n",
       "      <th>3</th>\n",
       "      <td>총합</td>\n",
       "      <td>123433.00</td>\n",
       "      <td>1.00</td>\n",
       "    </tr>\n",
       "  </tbody>\n",
       "</table>\n",
       "</div>"
      ],
      "text/plain": [
       "  매연판정   검사건수(건)   비율\n",
       "1    Y  72528.00 0.59\n",
       "0    N    654.00 0.01\n",
       "2  NaN  50251.00 0.41\n",
       "3   총합 123433.00 1.00"
      ]
     },
     "execution_count": 1362,
     "metadata": {},
     "output_type": "execute_result"
    }
   ],
   "source": [
    "# 매연 하위 90%\n",
    "grp21 = nor90.groupby(['무부하매연판정1'], dropna=False).agg({'차량번호':'count'}).reset_index().sort_values('무부하매연판정1', ascending=False)\n",
    "grp21['합계'] = grp21['차량번호'].sum()\n",
    "grp21['비율'] = grp21['차량번호'] / grp21['합계']\n",
    "# grp21['비율'] = grp21['비율'].round(2)\n",
    "grp21 = grp21.drop('합계', axis=1)\n",
    "grp21 = grp21.rename(columns={'무부하매연판정1':'매연판정', '차량번호':'검사건수(건)'})\n",
    "grp21.loc[grp21.shape[0]] = ['총합'] + grp21.iloc[:, 1:].sum().to_list()\n",
    "grp21"
   ]
  },
  {
   "cell_type": "markdown",
   "metadata": {},
   "source": [
    "### 22\\. 종합검사의 매연측정결과 적합비율(하위 10%)"
   ]
  },
  {
   "cell_type": "code",
   "execution_count": 1363,
   "metadata": {},
   "outputs": [
    {
     "data": {
      "text/html": [
       "<div>\n",
       "<style scoped>\n",
       "    .dataframe tbody tr th:only-of-type {\n",
       "        vertical-align: middle;\n",
       "    }\n",
       "\n",
       "    .dataframe tbody tr th {\n",
       "        vertical-align: top;\n",
       "    }\n",
       "\n",
       "    .dataframe thead th {\n",
       "        text-align: right;\n",
       "    }\n",
       "</style>\n",
       "<table border=\"1\" class=\"dataframe\">\n",
       "  <thead>\n",
       "    <tr style=\"text-align: right;\">\n",
       "      <th></th>\n",
       "      <th>매연판정</th>\n",
       "      <th>검사건수(건)</th>\n",
       "      <th>비율</th>\n",
       "    </tr>\n",
       "  </thead>\n",
       "  <tbody>\n",
       "    <tr>\n",
       "      <th>1</th>\n",
       "      <td>Y</td>\n",
       "      <td>8095.00</td>\n",
       "      <td>0.59</td>\n",
       "    </tr>\n",
       "    <tr>\n",
       "      <th>0</th>\n",
       "      <td>N</td>\n",
       "      <td>73.00</td>\n",
       "      <td>0.01</td>\n",
       "    </tr>\n",
       "    <tr>\n",
       "      <th>2</th>\n",
       "      <td>NaN</td>\n",
       "      <td>5547.00</td>\n",
       "      <td>0.40</td>\n",
       "    </tr>\n",
       "    <tr>\n",
       "      <th>3</th>\n",
       "      <td>총합</td>\n",
       "      <td>13715.00</td>\n",
       "      <td>1.00</td>\n",
       "    </tr>\n",
       "  </tbody>\n",
       "</table>\n",
       "</div>"
      ],
      "text/plain": [
       "  매연판정  검사건수(건)   비율\n",
       "1    Y  8095.00 0.59\n",
       "0    N    73.00 0.01\n",
       "2  NaN  5547.00 0.40\n",
       "3   총합 13715.00 1.00"
      ]
     },
     "execution_count": 1363,
     "metadata": {},
     "output_type": "execute_result"
    }
   ],
   "source": [
    "# 매연 하위 10%\n",
    "grp22 = bottom10.groupby(['무부하매연판정1'], dropna=False).agg({'차량번호':'count'}).reset_index().sort_values('무부하매연판정1', ascending=False)\n",
    "grp22['합계'] = grp22['차량번호'].sum()\n",
    "grp22['비율'] = grp22['차량번호'] / grp22['합계']\n",
    "# grp22['비율'] = grp22['비율'].round(2)\n",
    "grp22 = grp22.drop('합계', axis=1)\n",
    "grp22 = grp22.rename(columns={'무부하매연판정1':'매연판정', '차량번호':'검사건수(건)'})\n",
    "grp22.loc[grp22.shape[0]] = ['총합'] + grp22.iloc[:, 1:].sum().to_list()\n",
    "grp22"
   ]
  },
  {
   "cell_type": "markdown",
   "metadata": {},
   "source": [
    "### 23\\. 엔진형식별 매연 평균, 정밀검사 매연 측정치 평균"
   ]
  },
  {
   "cell_type": "code",
   "execution_count": 1364,
   "metadata": {},
   "outputs": [
    {
     "data": {
      "text/plain": [
       "20578   24.00\n",
       "Name: 무부하매연측정치1, dtype: float64"
      ]
     },
     "execution_count": 1364,
     "metadata": {},
     "output_type": "execute_result"
    }
   ],
   "source": [
    "die.loc[die['엔진형식'] == 'D4AE', '무부하매연측정치1']"
   ]
  },
  {
   "cell_type": "code",
   "execution_count": 1458,
   "metadata": {},
   "outputs": [
    {
     "data": {
      "text/html": [
       "<div>\n",
       "<style scoped>\n",
       "    .dataframe tbody tr th:only-of-type {\n",
       "        vertical-align: middle;\n",
       "    }\n",
       "\n",
       "    .dataframe tbody tr th {\n",
       "        vertical-align: top;\n",
       "    }\n",
       "\n",
       "    .dataframe thead th {\n",
       "        text-align: right;\n",
       "    }\n",
       "</style>\n",
       "<table border=\"1\" class=\"dataframe\">\n",
       "  <thead>\n",
       "    <tr style=\"text-align: right;\">\n",
       "      <th></th>\n",
       "      <th>엔진형식</th>\n",
       "      <th>매연(%)</th>\n",
       "      <th>정밀검사매연(%)</th>\n",
       "      <th>검사건수(건)</th>\n",
       "    </tr>\n",
       "  </thead>\n",
       "  <tbody>\n",
       "    <tr>\n",
       "      <th>0</th>\n",
       "      <td>D4CB</td>\n",
       "      <td>0.68</td>\n",
       "      <td>2.44</td>\n",
       "      <td>38727</td>\n",
       "    </tr>\n",
       "    <tr>\n",
       "      <th>1</th>\n",
       "      <td>D4HA</td>\n",
       "      <td>0.68</td>\n",
       "      <td>1.25</td>\n",
       "      <td>20252</td>\n",
       "    </tr>\n",
       "    <tr>\n",
       "      <th>2</th>\n",
       "      <td>D4HB</td>\n",
       "      <td>0.68</td>\n",
       "      <td>1.06</td>\n",
       "      <td>16371</td>\n",
       "    </tr>\n",
       "    <tr>\n",
       "      <th>3</th>\n",
       "      <td>D4HE</td>\n",
       "      <td>0.66</td>\n",
       "      <td>0.16</td>\n",
       "      <td>5579</td>\n",
       "    </tr>\n",
       "    <tr>\n",
       "      <th>4</th>\n",
       "      <td>672960</td>\n",
       "      <td>0.69</td>\n",
       "      <td>0.51</td>\n",
       "      <td>4195</td>\n",
       "    </tr>\n",
       "    <tr>\n",
       "      <th>...</th>\n",
       "      <td>...</td>\n",
       "      <td>...</td>\n",
       "      <td>...</td>\n",
       "      <td>...</td>\n",
       "    </tr>\n",
       "    <tr>\n",
       "      <th>349</th>\n",
       "      <td>CUD</td>\n",
       "      <td>1.60</td>\n",
       "      <td>0.00</td>\n",
       "      <td>1</td>\n",
       "    </tr>\n",
       "    <tr>\n",
       "      <th>350</th>\n",
       "      <td>RT</td>\n",
       "      <td>0.00</td>\n",
       "      <td>10.00</td>\n",
       "      <td>1</td>\n",
       "    </tr>\n",
       "    <tr>\n",
       "      <th>351</th>\n",
       "      <td>642 940</td>\n",
       "      <td>1.00</td>\n",
       "      <td>15.00</td>\n",
       "      <td>1</td>\n",
       "    </tr>\n",
       "    <tr>\n",
       "      <th>352</th>\n",
       "      <td>K6</td>\n",
       "      <td>3.50</td>\n",
       "      <td>19.00</td>\n",
       "      <td>1</td>\n",
       "    </tr>\n",
       "    <tr>\n",
       "      <th>353</th>\n",
       "      <td>총합</td>\n",
       "      <td>NaN</td>\n",
       "      <td>NaN</td>\n",
       "      <td>137148</td>\n",
       "    </tr>\n",
       "  </tbody>\n",
       "</table>\n",
       "<p>354 rows × 4 columns</p>\n",
       "</div>"
      ],
      "text/plain": [
       "        엔진형식  매연(%)  정밀검사매연(%)  검사건수(건)\n",
       "0       D4CB   0.68       2.44    38727\n",
       "1       D4HA   0.68       1.25    20252\n",
       "2       D4HB   0.68       1.06    16371\n",
       "3       D4HE   0.66       0.16     5579\n",
       "4     672960   0.69       0.51     4195\n",
       "..       ...    ...        ...      ...\n",
       "349      CUD   1.60       0.00        1\n",
       "350       RT   0.00      10.00        1\n",
       "351  642 940   1.00      15.00        1\n",
       "352       K6   3.50      19.00        1\n",
       "353       총합    NaN        NaN   137148\n",
       "\n",
       "[354 rows x 4 columns]"
      ]
     },
     "execution_count": 1458,
     "metadata": {},
     "output_type": "execute_result"
    }
   ],
   "source": [
    "grp23 = die.groupby('엔진형식', dropna=False).agg({'매연':'mean', '무부하매연측정치1':'mean', '차량번호':'count'}).reset_index().sort_values('매연', ascending=False)\n",
    "grp23['매연'] = grp23['매연'].round(2)\n",
    "grp23['무부하매연측정치1'] = grp23['무부하매연측정치1'].round(2)\n",
    "grp23 = grp23.sort_values('차량번호', ascending=False).reset_index(drop=True)\n",
    "grp23.loc[grp23.shape[0]] = ['총합', np.nan, np.nan] + grp23.iloc[:, 3:].sum().to_list()\n",
    "grp23 = grp23.rename(columns={'매연':'매연(%)', '무부하매연측정치1':'정밀검사매연(%)', '차량번호':'검사건수(건)'})\n",
    "grp23"
   ]
  },
  {
   "cell_type": "markdown",
   "metadata": {},
   "source": [
    "### [🔺] 24\\. 매연RSD 값과 정밀검사 매연측정치 비교\n",
    "- scatter 그래프\n",
    "- hist 그래프"
   ]
  },
  {
   "cell_type": "code",
   "execution_count": 1366,
   "metadata": {},
   "outputs": [
    {
     "data": {
      "text/html": [
       "<div>\n",
       "<style scoped>\n",
       "    .dataframe tbody tr th:only-of-type {\n",
       "        vertical-align: middle;\n",
       "    }\n",
       "\n",
       "    .dataframe tbody tr th {\n",
       "        vertical-align: top;\n",
       "    }\n",
       "\n",
       "    .dataframe thead th {\n",
       "        text-align: right;\n",
       "    }\n",
       "</style>\n",
       "<table border=\"1\" class=\"dataframe\">\n",
       "  <thead>\n",
       "    <tr style=\"text-align: right;\">\n",
       "      <th></th>\n",
       "      <th>매연</th>\n",
       "      <th>무부하매연측정치1</th>\n",
       "    </tr>\n",
       "  </thead>\n",
       "  <tbody>\n",
       "    <tr>\n",
       "      <th>매연</th>\n",
       "      <td>1.00</td>\n",
       "      <td>0.04</td>\n",
       "    </tr>\n",
       "    <tr>\n",
       "      <th>무부하매연측정치1</th>\n",
       "      <td>0.04</td>\n",
       "      <td>1.00</td>\n",
       "    </tr>\n",
       "  </tbody>\n",
       "</table>\n",
       "</div>"
      ],
      "text/plain": [
       "            매연  무부하매연측정치1\n",
       "매연        1.00       0.04\n",
       "무부하매연측정치1 0.04       1.00"
      ]
     },
     "execution_count": 1366,
     "metadata": {},
     "output_type": "execute_result"
    }
   ],
   "source": [
    "die[['매연', '무부하매연측정치1']].corr()"
   ]
  },
  {
   "cell_type": "code",
   "execution_count": 1367,
   "metadata": {},
   "outputs": [
    {
     "data": {
      "image/png": "[encoded data removed]",
      "text/plain": [
       "<Figure size 1200x700 with 1 Axes>"
      ]
     },
     "metadata": {},
     "output_type": "display_data"
    }
   ],
   "source": [
    "plt.figure(figsize=(12, 7))\n",
    "plt.grid()\n",
    "plt.scatter(die.index, die['매연'], s=3, alpha=.3, label='매연')\n",
    "plt.scatter(die.index, die['무부하매연측정치1'], s=3, alpha=.3, label='정밀매연')\n",
    "plt.title('매연RSD와 정밀검사 매연 비교', fontsize=20)\n",
    "plt.xlabel('index', fontsize=12)\n",
    "plt.ylabel('매연(%)', fontsize=12)\n",
    "plt.legend(fontsize=15);"
   ]
  },
  {
   "cell_type": "code",
   "execution_count": 1368,
   "metadata": {},
   "outputs": [
    {
     "name": "stderr",
     "output_type": "stream",
     "text": [
      "No artists with labels found to put in legend.  Note that artists whose label start with an underscore are ignored when legend() is called with no argument.\n"
     ]
    },
    {
     "data": {
      "image/png": "[encoded data removed]",
      "text/plain": [
       "<Figure size 1200x700 with 1 Axes>"
      ]
     },
     "metadata": {},
     "output_type": "display_data"
    }
   ],
   "source": [
    "plt.figure(figsize=(12, 7))\n",
    "plt.grid()\n",
    "plt.scatter(die['매연'], die['무부하매연측정치1'], s=3 ,alpha=.3)\n",
    "plt.title('매연RSD와 정밀검사 매연 비교', fontsize=20)\n",
    "plt.xlabel('매연(%)', fontsize=12)\n",
    "plt.ylabel('정밀매연(%)', fontsize=12)\n",
    "plt.legend(fontsize=15);"
   ]
  },
  {
   "cell_type": "code",
   "execution_count": 1369,
   "metadata": {},
   "outputs": [
    {
     "data": {
      "image/png": "[encoded data removed]",
      "text/plain": [
       "<Figure size 1200x700 with 1 Axes>"
      ]
     },
     "metadata": {},
     "output_type": "display_data"
    }
   ],
   "source": [
    "plt.figure(figsize=(12, 7))\n",
    "plt.grid()\n",
    "plt.scatter(die.index, die['매연'], alpha=.5, label='매연')\n",
    "plt.scatter(die.index, die['무부하매연측정치1'], alpha=.5, label='정밀매연')\n",
    "plt.xlim([0, 50])\n",
    "plt.title('매연RSD와 정밀검사 매연 비교', fontsize=20)\n",
    "plt.xlabel('index', fontsize=12)\n",
    "plt.ylabel('매연(%)', fontsize=12)\n",
    "plt.legend(fontsize=15);"
   ]
  },
  {
   "cell_type": "code",
   "execution_count": 1370,
   "metadata": {},
   "outputs": [
    {
     "data": {
      "image/png": "[encoded data removed]",
      "text/plain": [
       "<Figure size 1200x700 with 1 Axes>"
      ]
     },
     "metadata": {},
     "output_type": "display_data"
    }
   ],
   "source": [
    "plt.figure(figsize=(12, 7))\n",
    "plt.grid()\n",
    "plt.scatter(die.index, die['매연'], alpha=.5, label='매연')\n",
    "plt.scatter(die.index, die['무부하매연측정치1'], alpha=.5, label='정밀매연')\n",
    "plt.xlim([50, 100])\n",
    "plt.title('매연RSD와 정밀검사 매연 비교', fontsize=20)\n",
    "plt.xlabel('index', fontsize=12)\n",
    "plt.ylabel('매연(%)', fontsize=12)\n",
    "plt.legend(fontsize=15);"
   ]
  },
  {
   "cell_type": "code",
   "execution_count": 1371,
   "metadata": {},
   "outputs": [
    {
     "data": {
      "image/png": "[encoded data removed]",
      "text/plain": [
       "<Figure size 1200x700 with 1 Axes>"
      ]
     },
     "metadata": {},
     "output_type": "display_data"
    }
   ],
   "source": [
    "plt.figure(figsize=(12, 7))\n",
    "plt.grid()\n",
    "plt.hist(die['매연'], alpha=.5, label='매연', bins=200)\n",
    "plt.hist(die['무부하매연측정치1'], alpha=.5, label='정밀매연', bins=200)\n",
    "plt.title('매연RSD와 정밀검사 매연 비교', fontsize=20)\n",
    "plt.xlabel('매연(%)', fontsize=12)\n",
    "plt.ylabel('측정건수(건)', fontsize=12)\n",
    "plt.legend(fontsize=15);"
   ]
  },
  {
   "cell_type": "code",
   "execution_count": 1372,
   "metadata": {},
   "outputs": [
    {
     "data": {
      "image/png": "[encoded data removed]",
      "text/plain": [
       "<Figure size 1200x700 with 1 Axes>"
      ]
     },
     "metadata": {},
     "output_type": "display_data"
    }
   ],
   "source": [
    "plt.figure(figsize=(12, 7))\n",
    "plt.grid()\n",
    "plt.hist(die['매연'], alpha=.5, label='매연', bins=200)\n",
    "plt.hist(die['무부하매연측정치1'], alpha=.5, label='정밀매연', bins=200)\n",
    "plt.xlim([0, 20])\n",
    "plt.title('매연RSD와 정밀검사 매연 비교', fontsize=20)\n",
    "plt.xlabel('매연(%)', fontsize=12)\n",
    "plt.ylabel('측정건수(건)', fontsize=12)\n",
    "plt.legend(fontsize=15);"
   ]
  },
  {
   "cell_type": "code",
   "execution_count": null,
   "metadata": {},
   "outputs": [],
   "source": []
  },
  {
   "cell_type": "markdown",
   "metadata": {},
   "source": [
    "### [❌] 25\\. 종합검사의 매연측정결과 부적합비율\n",
    "- 20 ~ 22번 한번에 처리"
   ]
  },
  {
   "cell_type": "code",
   "execution_count": null,
   "metadata": {},
   "outputs": [],
   "source": []
  },
  {
   "cell_type": "markdown",
   "metadata": {},
   "source": [
    "### [❌] (차후) 26\\. 종합검사의 매연측정값 vs 매연RSD 매연값\n",
    "- Q. 1대1 비교?"
   ]
  },
  {
   "cell_type": "code",
   "execution_count": null,
   "metadata": {},
   "outputs": [],
   "source": []
  },
  {
   "cell_type": "markdown",
   "metadata": {},
   "source": [
    "### 종합검사 매연 부적합 경유차 vs 매연RSD 매연값 비교"
   ]
  },
  {
   "cell_type": "markdown",
   "metadata": {},
   "source": [
    "### [❌] (차후) 27\\. 종합검사 매연농도 vs 매연RSD 매연농도 1:1비교"
   ]
  },
  {
   "cell_type": "code",
   "execution_count": null,
   "metadata": {},
   "outputs": [],
   "source": []
  },
  {
   "cell_type": "markdown",
   "metadata": {},
   "source": [
    "## 28\\. 시험일 후 최초검사 부적합 - 매연RSD 값\n",
    "- 최초 정밀검사 부적합 차량의 매연RSD 값 확인하여 오류-적합, 오류-부적합 확인\n",
    "- 과정\n",
    "    - 1. 유효데이터(매연제한 없음) 중 경유차 추출\n",
    "    - 2. 운행차 정밀검사 기준으로 매연RSD 판정 부적합 데이터 추출\n",
    "    - 3. 검사일자(정밀검사) - 검사날짜(원격측정) = 검사날짜차이\n",
    "    - 4. '검사날짜차이' > 0 인 샘플 추출\n",
    "    - 5. '검사날짜차이' 오름차순, 자동차등록번호 중복 제거\n",
    "    - 6. 정밀검사 '무부하매연판정1' 비율"
   ]
  },
  {
   "cell_type": "code",
   "execution_count": 1373,
   "metadata": {},
   "outputs": [
    {
     "data": {
      "text/plain": [
       "(414226, 48)"
      ]
     },
     "execution_count": 1373,
     "metadata": {},
     "output_type": "execute_result"
    }
   ],
   "source": [
    "rcse.shape"
   ]
  },
  {
   "cell_type": "code",
   "execution_count": 1374,
   "metadata": {},
   "outputs": [
    {
     "data": {
      "text/plain": [
       "Index(['측정날짜', '측정시간', '기록상태', '유효', '속도', '가속도', '플래그', 'VSP', '매연', '차량번호',\n",
       "       '차선번호', '풍속', '습도', '온도', '측정장소코드', '연료', '연식', '배기량', '차종', '총중량',\n",
       "       '엔진형식', '등급', '차대번호', '차명', '폐차여부', '정밀검사일자', '정밀검사종류', '관능검사판정',\n",
       "       '정밀검사판정', '정밀검사측정방법', '무부하매연측정치1', '무부하매연허용치1', '무부하매연판정1', '무부하매연측정치2',\n",
       "       '무부하매연허용치2', '무부하매연판정2', '무부하매연측정치3', '무부하매연허용치3', '무부하매연판정3',\n",
       "       '무부하매연측정치4', '무부하매연허용치4', '무부하매연판정4', '무부하매연측정치5', '무부하매연허용치5',\n",
       "       '무부하매연판정5', '무부하매연측정치6', '무부하매연허용치6', '무부하매연판정6'],\n",
       "      dtype='object')"
      ]
     },
     "execution_count": 1374,
     "metadata": {},
     "output_type": "execute_result"
    }
   ],
   "source": [
    "rcse.columns"
   ]
  },
  {
   "cell_type": "code",
   "execution_count": 1375,
   "metadata": {},
   "outputs": [
    {
     "data": {
      "text/plain": [
       "(142633, 48)"
      ]
     },
     "execution_count": 1375,
     "metadata": {},
     "output_type": "execute_result"
    }
   ],
   "source": [
    "# 1. 경유차(매연제한 없음) 중 유효데이터 추출\n",
    "# vdfRecordStatus = N, vdfValid = V, samFlag = V, 차량번호 : nan, 오류 값(********) 제외, 경유\n",
    "sdie = rcse[(rcse['기록상태'] == 'N') & (rcse['유효'] == 'V') & (rcse['플래그'] == 'V') & (rcse['차량번호'] != '********') & (rcse['차량번호'].isnull() == False) & (rcse['연료'] == '경유')].reset_index(drop=True)\n",
    "sdie.shape"
   ]
  },
  {
   "cell_type": "code",
   "execution_count": 1376,
   "metadata": {},
   "outputs": [
    {
     "data": {
      "text/plain": [
       "array(['경유'], dtype=object)"
      ]
     },
     "execution_count": 1376,
     "metadata": {},
     "output_type": "execute_result"
    }
   ],
   "source": [
    "sdie['연료'].unique()"
   ]
  },
  {
   "cell_type": "code",
   "execution_count": 1377,
   "metadata": {},
   "outputs": [
    {
     "data": {
      "text/plain": [
       "(788, 48)"
      ]
     },
     "execution_count": 1377,
     "metadata": {},
     "output_type": "execute_result"
    }
   ],
   "source": [
    "# 2. 운행차 정밀검사 기준으로 매연RSD 판정 부적합 데이터 추출\n",
    "sdf28 = sdie[sdie['매연'] > sdie['무부하매연허용치1']].reset_index(drop=True)\n",
    "sdf28.shape"
   ]
  },
  {
   "cell_type": "markdown",
   "metadata": {},
   "source": [
    "### [출력] RSD 부적합 데이터"
   ]
  },
  {
   "cell_type": "code",
   "execution_count": 1378,
   "metadata": {},
   "outputs": [],
   "source": [
    "# sdf28.to_excel(os.path.join(an_fold, 'RSD부적합_경유.xlsx'), index=False)"
   ]
  },
  {
   "cell_type": "code",
   "execution_count": 1379,
   "metadata": {},
   "outputs": [
    {
     "data": {
      "text/plain": [
       "정밀검사일자    object\n",
       "측정날짜      object\n",
       "dtype: object"
      ]
     },
     "execution_count": 1379,
     "metadata": {},
     "output_type": "execute_result"
    }
   ],
   "source": [
    "sdf28[['정밀검사일자', '측정날짜']].dtypes"
   ]
  },
  {
   "cell_type": "code",
   "execution_count": 1380,
   "metadata": {},
   "outputs": [
    {
     "data": {
      "text/plain": [
       "정밀검사일자    datetime64[ns]\n",
       "측정날짜      datetime64[ns]\n",
       "dtype: object"
      ]
     },
     "execution_count": 1380,
     "metadata": {},
     "output_type": "execute_result"
    }
   ],
   "source": [
    "sdf28['정밀검사일자'] = pd.to_datetime(sdf28['정밀검사일자'])\n",
    "sdf28['측정날짜'] = pd.to_datetime(sdf28['측정날짜'])\n",
    "sdf28[['정밀검사일자', '측정날짜']].dtypes"
   ]
  },
  {
   "cell_type": "code",
   "execution_count": 1381,
   "metadata": {},
   "outputs": [],
   "source": [
    "# 3-1. 정밀검사일자(정밀검사) - 측정날짜(원격측정) = 검사날짜차이\n",
    "sdf28['검사날짜차이'] = sdf28['정밀검사일자'] - sdf28['측정날짜']\n",
    "sdf28['검사날짜차이'] = sdf28['검사날짜차이'].astype('str')\n",
    "sdf28['검사날짜차이'] = sdf28['검사날짜차이'].str.split(' ').str[0]\n",
    "sdf28['검사날짜차이'] = pd.to_numeric(sdf28['검사날짜차이'], errors='coerce')"
   ]
  },
  {
   "cell_type": "code",
   "execution_count": 1382,
   "metadata": {},
   "outputs": [
    {
     "data": {
      "text/plain": [
       "(145, 49)"
      ]
     },
     "execution_count": 1382,
     "metadata": {},
     "output_type": "execute_result"
    }
   ],
   "source": [
    "# 3-2. '검사날짜차이' > 0 인 샘플 추출\n",
    "sdf28 = sdf28[sdf28['검사날짜차이'] > 0].reset_index(drop=True)\n",
    "sdf28.shape"
   ]
  },
  {
   "cell_type": "code",
   "execution_count": 1383,
   "metadata": {},
   "outputs": [
    {
     "data": {
      "text/plain": [
       "(143, 49)"
      ]
     },
     "execution_count": 1383,
     "metadata": {},
     "output_type": "execute_result"
    }
   ],
   "source": [
    "# 4. '검사날짜차이' 오름차순\n",
    "sdf28a = sdf28.sort_values('검사날짜차이').drop_duplicates('차량번호').reset_index(drop=True)\n",
    "sdf28a.shape"
   ]
  },
  {
   "cell_type": "code",
   "execution_count": 1384,
   "metadata": {},
   "outputs": [
    {
     "data": {
      "text/html": [
       "<div>\n",
       "<style scoped>\n",
       "    .dataframe tbody tr th:only-of-type {\n",
       "        vertical-align: middle;\n",
       "    }\n",
       "\n",
       "    .dataframe tbody tr th {\n",
       "        vertical-align: top;\n",
       "    }\n",
       "\n",
       "    .dataframe thead th {\n",
       "        text-align: right;\n",
       "    }\n",
       "</style>\n",
       "<table border=\"1\" class=\"dataframe\">\n",
       "  <thead>\n",
       "    <tr style=\"text-align: right;\">\n",
       "      <th></th>\n",
       "      <th>정밀검사일자</th>\n",
       "      <th>측정날짜</th>\n",
       "      <th>검사날짜차이</th>\n",
       "    </tr>\n",
       "  </thead>\n",
       "  <tbody>\n",
       "    <tr>\n",
       "      <th>0</th>\n",
       "      <td>2023-04-06</td>\n",
       "      <td>2023-04-04</td>\n",
       "      <td>2</td>\n",
       "    </tr>\n",
       "    <tr>\n",
       "      <th>1</th>\n",
       "      <td>2023-01-05</td>\n",
       "      <td>2023-01-03</td>\n",
       "      <td>2</td>\n",
       "    </tr>\n",
       "    <tr>\n",
       "      <th>2</th>\n",
       "      <td>2023-08-25</td>\n",
       "      <td>2023-08-23</td>\n",
       "      <td>2</td>\n",
       "    </tr>\n",
       "    <tr>\n",
       "      <th>3</th>\n",
       "      <td>2023-07-29</td>\n",
       "      <td>2023-07-26</td>\n",
       "      <td>3</td>\n",
       "    </tr>\n",
       "    <tr>\n",
       "      <th>4</th>\n",
       "      <td>2023-02-11</td>\n",
       "      <td>2023-02-06</td>\n",
       "      <td>5</td>\n",
       "    </tr>\n",
       "  </tbody>\n",
       "</table>\n",
       "</div>"
      ],
      "text/plain": [
       "      정밀검사일자       측정날짜  검사날짜차이\n",
       "0 2023-04-06 2023-04-04       2\n",
       "1 2023-01-05 2023-01-03       2\n",
       "2 2023-08-25 2023-08-23       2\n",
       "3 2023-07-29 2023-07-26       3\n",
       "4 2023-02-11 2023-02-06       5"
      ]
     },
     "execution_count": 1384,
     "metadata": {},
     "output_type": "execute_result"
    }
   ],
   "source": [
    "sdf28a[['정밀검사일자', '측정날짜', '검사날짜차이']].head()"
   ]
  },
  {
   "cell_type": "code",
   "execution_count": 1385,
   "metadata": {},
   "outputs": [
    {
     "data": {
      "text/html": [
       "<div>\n",
       "<style scoped>\n",
       "    .dataframe tbody tr th:only-of-type {\n",
       "        vertical-align: middle;\n",
       "    }\n",
       "\n",
       "    .dataframe tbody tr th {\n",
       "        vertical-align: top;\n",
       "    }\n",
       "\n",
       "    .dataframe thead th {\n",
       "        text-align: right;\n",
       "    }\n",
       "</style>\n",
       "<table border=\"1\" class=\"dataframe\">\n",
       "  <thead>\n",
       "    <tr style=\"text-align: right;\">\n",
       "      <th></th>\n",
       "      <th>매연판정</th>\n",
       "      <th>판정비율</th>\n",
       "    </tr>\n",
       "  </thead>\n",
       "  <tbody>\n",
       "    <tr>\n",
       "      <th>0</th>\n",
       "      <td>Y</td>\n",
       "      <td>0.99</td>\n",
       "    </tr>\n",
       "    <tr>\n",
       "      <th>1</th>\n",
       "      <td>N</td>\n",
       "      <td>0.01</td>\n",
       "    </tr>\n",
       "    <tr>\n",
       "      <th>2</th>\n",
       "      <td>총합</td>\n",
       "      <td>1.00</td>\n",
       "    </tr>\n",
       "  </tbody>\n",
       "</table>\n",
       "</div>"
      ],
      "text/plain": [
       "  매연판정  판정비율\n",
       "0    Y  0.99\n",
       "1    N  0.01\n",
       "2   총합  1.00"
      ]
     },
     "execution_count": 1385,
     "metadata": {},
     "output_type": "execute_result"
    }
   ],
   "source": [
    "# 5. 정밀검사 '무부하매연판정1' 비율\n",
    "grp28 = sdf28a['무부하매연판정1'].value_counts(dropna=False, normalize=True).reset_index()\n",
    "grp28 = grp28.rename(columns={'무부하매연판정1':'매연판정', 'proportion':'판정비율'})\n",
    "grp28['판정비율'] = grp28['판정비율'].round(2)\n",
    "grp28.loc[grp28.shape[0]] = ['총합', round(grp28['판정비율'].sum(), 2)]\n",
    "grp28"
   ]
  },
  {
   "cell_type": "markdown",
   "metadata": {},
   "source": [
    "## 29\\. 시험일 후 최종검사 부적합 - 매연RSD값\n",
    "- 과정\n",
    "    - 1. 유효데이터(매연제한 없음) 중 경유차 추출\n",
    "    - 2. 운행차 정밀검사 기준으로 매연RSD 판정 부적합 데이터 추출\n",
    "    - 3. 검사일자(정밀검사) - 검사날짜(원격측정) = 검사날짜차이\n",
    "    - 4. '검사날짜차이' > 0 인 샘플 추출\n",
    "    - 5. '검사날짜차이' 내림차순, 자동차등록번호 중복 제거\n",
    "    - 6. 정밀검사 '무부하매연판정1' 비율"
   ]
  },
  {
   "cell_type": "code",
   "execution_count": 1386,
   "metadata": {},
   "outputs": [
    {
     "data": {
      "text/plain": [
       "(143, 49)"
      ]
     },
     "execution_count": 1386,
     "metadata": {},
     "output_type": "execute_result"
    }
   ],
   "source": [
    "# 1 ~ 3-2. 동일 과정\n",
    "# 4. '검사날짜차이' 내림차순\n",
    "sdf29 = sdf28.sort_values('검사날짜차이', ascending=False).drop_duplicates('차량번호').reset_index(drop=True)\n",
    "sdf29.shape"
   ]
  },
  {
   "cell_type": "code",
   "execution_count": 1387,
   "metadata": {},
   "outputs": [
    {
     "data": {
      "text/html": [
       "<div>\n",
       "<style scoped>\n",
       "    .dataframe tbody tr th:only-of-type {\n",
       "        vertical-align: middle;\n",
       "    }\n",
       "\n",
       "    .dataframe tbody tr th {\n",
       "        vertical-align: top;\n",
       "    }\n",
       "\n",
       "    .dataframe thead th {\n",
       "        text-align: right;\n",
       "    }\n",
       "</style>\n",
       "<table border=\"1\" class=\"dataframe\">\n",
       "  <thead>\n",
       "    <tr style=\"text-align: right;\">\n",
       "      <th></th>\n",
       "      <th>정밀검사일자</th>\n",
       "      <th>측정날짜</th>\n",
       "      <th>검사날짜차이</th>\n",
       "    </tr>\n",
       "  </thead>\n",
       "  <tbody>\n",
       "    <tr>\n",
       "      <th>0</th>\n",
       "      <td>2023-09-07</td>\n",
       "      <td>2022-10-18</td>\n",
       "      <td>324</td>\n",
       "    </tr>\n",
       "    <tr>\n",
       "      <th>1</th>\n",
       "      <td>2023-09-06</td>\n",
       "      <td>2022-10-24</td>\n",
       "      <td>317</td>\n",
       "    </tr>\n",
       "    <tr>\n",
       "      <th>2</th>\n",
       "      <td>2023-08-21</td>\n",
       "      <td>2022-10-24</td>\n",
       "      <td>301</td>\n",
       "    </tr>\n",
       "    <tr>\n",
       "      <th>3</th>\n",
       "      <td>2023-08-12</td>\n",
       "      <td>2022-10-18</td>\n",
       "      <td>298</td>\n",
       "    </tr>\n",
       "    <tr>\n",
       "      <th>4</th>\n",
       "      <td>2023-08-30</td>\n",
       "      <td>2022-11-08</td>\n",
       "      <td>295</td>\n",
       "    </tr>\n",
       "  </tbody>\n",
       "</table>\n",
       "</div>"
      ],
      "text/plain": [
       "      정밀검사일자       측정날짜  검사날짜차이\n",
       "0 2023-09-07 2022-10-18     324\n",
       "1 2023-09-06 2022-10-24     317\n",
       "2 2023-08-21 2022-10-24     301\n",
       "3 2023-08-12 2022-10-18     298\n",
       "4 2023-08-30 2022-11-08     295"
      ]
     },
     "execution_count": 1387,
     "metadata": {},
     "output_type": "execute_result"
    }
   ],
   "source": [
    "sdf29[['정밀검사일자', '측정날짜', '검사날짜차이']].head()"
   ]
  },
  {
   "cell_type": "code",
   "execution_count": 1388,
   "metadata": {},
   "outputs": [
    {
     "data": {
      "text/html": [
       "<div>\n",
       "<style scoped>\n",
       "    .dataframe tbody tr th:only-of-type {\n",
       "        vertical-align: middle;\n",
       "    }\n",
       "\n",
       "    .dataframe tbody tr th {\n",
       "        vertical-align: top;\n",
       "    }\n",
       "\n",
       "    .dataframe thead th {\n",
       "        text-align: right;\n",
       "    }\n",
       "</style>\n",
       "<table border=\"1\" class=\"dataframe\">\n",
       "  <thead>\n",
       "    <tr style=\"text-align: right;\">\n",
       "      <th></th>\n",
       "      <th>매연판정</th>\n",
       "      <th>판정비율</th>\n",
       "    </tr>\n",
       "  </thead>\n",
       "  <tbody>\n",
       "    <tr>\n",
       "      <th>0</th>\n",
       "      <td>Y</td>\n",
       "      <td>0.99</td>\n",
       "    </tr>\n",
       "    <tr>\n",
       "      <th>1</th>\n",
       "      <td>N</td>\n",
       "      <td>0.01</td>\n",
       "    </tr>\n",
       "    <tr>\n",
       "      <th>2</th>\n",
       "      <td>총합</td>\n",
       "      <td>1.00</td>\n",
       "    </tr>\n",
       "  </tbody>\n",
       "</table>\n",
       "</div>"
      ],
      "text/plain": [
       "  매연판정  판정비율\n",
       "0    Y  0.99\n",
       "1    N  0.01\n",
       "2   총합  1.00"
      ]
     },
     "execution_count": 1388,
     "metadata": {},
     "output_type": "execute_result"
    }
   ],
   "source": [
    "# 5. 정밀검사 '무부하매연판정1' 비율\n",
    "grp29 = sdf29['무부하매연판정1'].value_counts(dropna=False, normalize=True).reset_index()\n",
    "grp29 = grp29.rename(columns={'무부하매연판정1':'매연판정', 'proportion':'판정비율'})\n",
    "grp29['판정비율'] = grp29['판정비율'].round(2)\n",
    "grp29.loc[grp29.shape[0]] = ['총합', round(grp29['판정비율'].sum(), 2)]\n",
    "grp29"
   ]
  },
  {
   "cell_type": "markdown",
   "metadata": {},
   "source": [
    "## 종합검사 NOx 부적합 경유차 vs 매연RSD 매연값 비교"
   ]
  },
  {
   "cell_type": "markdown",
   "metadata": {},
   "source": [
    "### [❌] (차후) 30\\. 종합검사 NOx vs 매연RSD 매연농도 1:1비교"
   ]
  },
  {
   "cell_type": "code",
   "execution_count": null,
   "metadata": {},
   "outputs": [],
   "source": []
  },
  {
   "cell_type": "markdown",
   "metadata": {},
   "source": [
    "## 고정식 다차선 매연 원격측정기 유효 측정수량 검토"
   ]
  },
  {
   "cell_type": "markdown",
   "metadata": {},
   "source": [
    "### [❌] (보류) 31\\. 일자별 유효 측정수량\n",
    "- 1. 전체 통과 차량 건수 : UFM 사진파일 수 기록\n",
    "- 2. 다차선 매연RSD측정 건수 : 해당일 매연RSD측정 유효데이터 건수\n",
    "- 3. 유효율 : b번 / a번 *100(%)"
   ]
  },
  {
   "cell_type": "code",
   "execution_count": null,
   "metadata": {},
   "outputs": [],
   "source": []
  },
  {
   "cell_type": "markdown",
   "metadata": {},
   "source": [
    "## 32\\. 매연농도 상위 5% 단위 측정건수 및 매연 기여도 분석"
   ]
  },
  {
   "cell_type": "code",
   "execution_count": 1389,
   "metadata": {},
   "outputs": [
    {
     "data": {
      "text/plain": [
       "(137148, 57)"
      ]
     },
     "execution_count": 1389,
     "metadata": {},
     "output_type": "execute_result"
    }
   ],
   "source": [
    "die.shape"
   ]
  },
  {
   "cell_type": "code",
   "execution_count": 1390,
   "metadata": {},
   "outputs": [
    {
     "data": {
      "text/plain": [
       "Index(['측정날짜', '측정시간', '기록상태', '유효', '속도', '가속도', '플래그', 'VSP', '매연', '차량번호',\n",
       "       '차선번호', '풍속', '습도', '온도', '측정장소코드', '연료', '연식', '배기량', '차종', '총중량',\n",
       "       '엔진형식', '등급', '차대번호', '차명', '폐차여부', '정밀검사일자', '정밀검사종류', '관능검사판정',\n",
       "       '정밀검사판정', '정밀검사측정방법', '무부하매연측정치1', '무부하매연허용치1', '무부하매연판정1', '무부하매연측정치2',\n",
       "       '무부하매연허용치2', '무부하매연판정2', '무부하매연측정치3', '무부하매연허용치3', '무부하매연판정3',\n",
       "       '무부하매연측정치4', '무부하매연허용치4', '무부하매연판정4', '무부하매연측정치5', '무부하매연허용치5',\n",
       "       '무부하매연판정5', '무부하매연측정치6', '무부하매연허용치6', '무부하매연판정6', '속도구분', '속도구분인덱스',\n",
       "       '배기량구분', '배기량구분인덱스', '총중량구분', '총중량구분인덱스', '매연구분', '매연구분인덱스', '연식구분'],\n",
       "      dtype='object')"
      ]
     },
     "execution_count": 1390,
     "metadata": {},
     "output_type": "execute_result"
    }
   ],
   "source": [
    "die.columns"
   ]
  },
  {
   "cell_type": "code",
   "execution_count": 1391,
   "metadata": {},
   "outputs": [
    {
     "data": {
      "text/html": [
       "<div>\n",
       "<style scoped>\n",
       "    .dataframe tbody tr th:only-of-type {\n",
       "        vertical-align: middle;\n",
       "    }\n",
       "\n",
       "    .dataframe tbody tr th {\n",
       "        vertical-align: top;\n",
       "    }\n",
       "\n",
       "    .dataframe thead th {\n",
       "        text-align: right;\n",
       "    }\n",
       "</style>\n",
       "<table border=\"1\" class=\"dataframe\">\n",
       "  <thead>\n",
       "    <tr style=\"text-align: right;\">\n",
       "      <th></th>\n",
       "      <th>측정날짜</th>\n",
       "      <th>측정시간</th>\n",
       "      <th>기록상태</th>\n",
       "      <th>유효</th>\n",
       "      <th>속도</th>\n",
       "      <th>가속도</th>\n",
       "      <th>플래그</th>\n",
       "      <th>VSP</th>\n",
       "      <th>매연</th>\n",
       "      <th>차량번호</th>\n",
       "      <th>...</th>\n",
       "      <th>무부하매연판정6</th>\n",
       "      <th>속도구분</th>\n",
       "      <th>속도구분인덱스</th>\n",
       "      <th>배기량구분</th>\n",
       "      <th>배기량구분인덱스</th>\n",
       "      <th>총중량구분</th>\n",
       "      <th>총중량구분인덱스</th>\n",
       "      <th>매연구분</th>\n",
       "      <th>매연구분인덱스</th>\n",
       "      <th>연식구분</th>\n",
       "    </tr>\n",
       "  </thead>\n",
       "  <tbody>\n",
       "    <tr>\n",
       "      <th>0</th>\n",
       "      <td>2023-10-30</td>\n",
       "      <td>15:07:43</td>\n",
       "      <td>N</td>\n",
       "      <td>V</td>\n",
       "      <td>106.56</td>\n",
       "      <td>0.72</td>\n",
       "      <td>V</td>\n",
       "      <td>37.48</td>\n",
       "      <td>5.00</td>\n",
       "      <td>69더3400</td>\n",
       "      <td>...</td>\n",
       "      <td>NaN</td>\n",
       "      <td>100이상 110미만</td>\n",
       "      <td>11.00</td>\n",
       "      <td>1천이상 2천미만</td>\n",
       "      <td>1.00</td>\n",
       "      <td>1천이상 2천미만</td>\n",
       "      <td>2.00</td>\n",
       "      <td>4.5이상</td>\n",
       "      <td>10.00</td>\n",
       "      <td>2014.0</td>\n",
       "    </tr>\n",
       "    <tr>\n",
       "      <th>1</th>\n",
       "      <td>2023-10-28</td>\n",
       "      <td>12:16:39</td>\n",
       "      <td>N</td>\n",
       "      <td>V</td>\n",
       "      <td>94.32</td>\n",
       "      <td>0.72</td>\n",
       "      <td>V</td>\n",
       "      <td>31.66</td>\n",
       "      <td>5.00</td>\n",
       "      <td>14소0871</td>\n",
       "      <td>...</td>\n",
       "      <td>NaN</td>\n",
       "      <td>90이상 100미만</td>\n",
       "      <td>10.00</td>\n",
       "      <td>2천이상 3천미만</td>\n",
       "      <td>2.00</td>\n",
       "      <td>1천이상 2천미만</td>\n",
       "      <td>2.00</td>\n",
       "      <td>4.5이상</td>\n",
       "      <td>10.00</td>\n",
       "      <td>2016.0</td>\n",
       "    </tr>\n",
       "    <tr>\n",
       "      <th>2</th>\n",
       "      <td>2023-10-17</td>\n",
       "      <td>15:47:47</td>\n",
       "      <td>N</td>\n",
       "      <td>V</td>\n",
       "      <td>74.52</td>\n",
       "      <td>-0.36</td>\n",
       "      <td>V</td>\n",
       "      <td>16.54</td>\n",
       "      <td>5.00</td>\n",
       "      <td>11무0950</td>\n",
       "      <td>...</td>\n",
       "      <td>NaN</td>\n",
       "      <td>70이상 80미만</td>\n",
       "      <td>8.00</td>\n",
       "      <td>1천이상 2천미만</td>\n",
       "      <td>1.00</td>\n",
       "      <td>1천이상 2천미만</td>\n",
       "      <td>2.00</td>\n",
       "      <td>4.5이상</td>\n",
       "      <td>10.00</td>\n",
       "      <td>2016.0</td>\n",
       "    </tr>\n",
       "    <tr>\n",
       "      <th>3</th>\n",
       "      <td>2023-11-02</td>\n",
       "      <td>09:14:34</td>\n",
       "      <td>N</td>\n",
       "      <td>V</td>\n",
       "      <td>57.60</td>\n",
       "      <td>0.00</td>\n",
       "      <td>V</td>\n",
       "      <td>13.71</td>\n",
       "      <td>5.00</td>\n",
       "      <td>88더7489</td>\n",
       "      <td>...</td>\n",
       "      <td>NaN</td>\n",
       "      <td>50이상 60미만</td>\n",
       "      <td>6.00</td>\n",
       "      <td>2천이상 3천미만</td>\n",
       "      <td>2.00</td>\n",
       "      <td>3천이상 4천미만</td>\n",
       "      <td>4.00</td>\n",
       "      <td>4.5이상</td>\n",
       "      <td>10.00</td>\n",
       "      <td>2013.0</td>\n",
       "    </tr>\n",
       "    <tr>\n",
       "      <th>4</th>\n",
       "      <td>2023-10-17</td>\n",
       "      <td>15:55:48</td>\n",
       "      <td>N</td>\n",
       "      <td>V</td>\n",
       "      <td>68.76</td>\n",
       "      <td>-0.36</td>\n",
       "      <td>V</td>\n",
       "      <td>14.90</td>\n",
       "      <td>5.00</td>\n",
       "      <td>40거7282</td>\n",
       "      <td>...</td>\n",
       "      <td>NaN</td>\n",
       "      <td>60이상 70미만</td>\n",
       "      <td>7.00</td>\n",
       "      <td>1천이상 2천미만</td>\n",
       "      <td>1.00</td>\n",
       "      <td>1천이상 2천미만</td>\n",
       "      <td>2.00</td>\n",
       "      <td>4.5이상</td>\n",
       "      <td>10.00</td>\n",
       "      <td>2007.0</td>\n",
       "    </tr>\n",
       "  </tbody>\n",
       "</table>\n",
       "<p>5 rows × 57 columns</p>\n",
       "</div>"
      ],
      "text/plain": [
       "        측정날짜      측정시간 기록상태 유효     속도   가속도 플래그   VSP   매연     차량번호  ...  \\\n",
       "0 2023-10-30  15:07:43    N  V 106.56  0.72   V 37.48 5.00  69더3400  ...   \n",
       "1 2023-10-28  12:16:39    N  V  94.32  0.72   V 31.66 5.00  14소0871  ...   \n",
       "2 2023-10-17  15:47:47    N  V  74.52 -0.36   V 16.54 5.00  11무0950  ...   \n",
       "3 2023-11-02  09:14:34    N  V  57.60  0.00   V 13.71 5.00  88더7489  ...   \n",
       "4 2023-10-17  15:55:48    N  V  68.76 -0.36   V 14.90 5.00  40거7282  ...   \n",
       "\n",
       "   무부하매연판정6         속도구분  속도구분인덱스      배기량구분 배기량구분인덱스      총중량구분  총중량구분인덱스  \\\n",
       "0       NaN  100이상 110미만    11.00  1천이상 2천미만     1.00  1천이상 2천미만      2.00   \n",
       "1       NaN   90이상 100미만    10.00  2천이상 3천미만     2.00  1천이상 2천미만      2.00   \n",
       "2       NaN    70이상 80미만     8.00  1천이상 2천미만     1.00  1천이상 2천미만      2.00   \n",
       "3       NaN    50이상 60미만     6.00  2천이상 3천미만     2.00  3천이상 4천미만      4.00   \n",
       "4       NaN    60이상 70미만     7.00  1천이상 2천미만     1.00  1천이상 2천미만      2.00   \n",
       "\n",
       "    매연구분 매연구분인덱스    연식구분  \n",
       "0  4.5이상   10.00  2014.0  \n",
       "1  4.5이상   10.00  2016.0  \n",
       "2  4.5이상   10.00  2016.0  \n",
       "3  4.5이상   10.00  2013.0  \n",
       "4  4.5이상   10.00  2007.0  \n",
       "\n",
       "[5 rows x 57 columns]"
      ]
     },
     "execution_count": 1391,
     "metadata": {},
     "output_type": "execute_result"
    }
   ],
   "source": [
    "srt32_1 = die.sort_values('매연', ascending=False).reset_index(drop=True)\n",
    "srt32_1.head()"
   ]
  },
  {
   "cell_type": "code",
   "execution_count": 1392,
   "metadata": {},
   "outputs": [
    {
     "data": {
      "text/plain": [
       "6858"
      ]
     },
     "execution_count": 1392,
     "metadata": {},
     "output_type": "execute_result"
    }
   ],
   "source": [
    "div = math.ceil(srt32_1.shape[0] * 0.05)\n",
    "div"
   ]
  },
  {
   "cell_type": "code",
   "execution_count": 1393,
   "metadata": {},
   "outputs": [
    {
     "data": {
      "text/plain": [
       "array(['0-5%', '5-10%', '10-15%', '15-20%', '20-25%', '25-30%', '30-35%',\n",
       "       '35-40%', '40-45%', '45%~'], dtype=object)"
      ]
     },
     "execution_count": 1393,
     "metadata": {},
     "output_type": "execute_result"
    }
   ],
   "source": [
    "n = 5\n",
    "for i in range(9):\n",
    "    srt32_1.loc[i*div:(i+1)*div, '상위구분'] = f'{i*n}-{(i+1)*n}%'\n",
    "srt32_1.loc[9*div:, '상위구분'] = '45%~'\n",
    "srt32_1['상위구분'].unique()"
   ]
  },
  {
   "cell_type": "code",
   "execution_count": 1394,
   "metadata": {},
   "outputs": [
    {
     "data": {
      "text/plain": [
       "(6858, 58)"
      ]
     },
     "execution_count": 1394,
     "metadata": {},
     "output_type": "execute_result"
    }
   ],
   "source": [
    "srt32_1[srt32_1['상위구분'] == '0-5%'].shape"
   ]
  },
  {
   "cell_type": "code",
   "execution_count": 1395,
   "metadata": {},
   "outputs": [
    {
     "data": {
      "text/html": [
       "<div>\n",
       "<style scoped>\n",
       "    .dataframe tbody tr th:only-of-type {\n",
       "        vertical-align: middle;\n",
       "    }\n",
       "\n",
       "    .dataframe tbody tr th {\n",
       "        vertical-align: top;\n",
       "    }\n",
       "\n",
       "    .dataframe thead th {\n",
       "        text-align: right;\n",
       "    }\n",
       "</style>\n",
       "<table border=\"1\" class=\"dataframe\">\n",
       "  <thead>\n",
       "    <tr style=\"text-align: right;\">\n",
       "      <th></th>\n",
       "      <th>상위구분</th>\n",
       "      <th>매연_RSD평균(%)</th>\n",
       "      <th>측정건수(건)</th>\n",
       "    </tr>\n",
       "  </thead>\n",
       "  <tbody>\n",
       "    <tr>\n",
       "      <th>0</th>\n",
       "      <td>0-5%</td>\n",
       "      <td>3.53</td>\n",
       "      <td>6858.00</td>\n",
       "    </tr>\n",
       "    <tr>\n",
       "      <th>1</th>\n",
       "      <td>10-15%</td>\n",
       "      <td>1.47</td>\n",
       "      <td>6858.00</td>\n",
       "    </tr>\n",
       "    <tr>\n",
       "      <th>2</th>\n",
       "      <td>15-20%</td>\n",
       "      <td>1.18</td>\n",
       "      <td>6858.00</td>\n",
       "    </tr>\n",
       "    <tr>\n",
       "      <th>3</th>\n",
       "      <td>20-25%</td>\n",
       "      <td>1.00</td>\n",
       "      <td>6858.00</td>\n",
       "    </tr>\n",
       "    <tr>\n",
       "      <th>4</th>\n",
       "      <td>25-30%</td>\n",
       "      <td>0.86</td>\n",
       "      <td>6858.00</td>\n",
       "    </tr>\n",
       "    <tr>\n",
       "      <th>5</th>\n",
       "      <td>30-35%</td>\n",
       "      <td>0.75</td>\n",
       "      <td>6858.00</td>\n",
       "    </tr>\n",
       "    <tr>\n",
       "      <th>6</th>\n",
       "      <td>35-40%</td>\n",
       "      <td>0.65</td>\n",
       "      <td>6858.00</td>\n",
       "    </tr>\n",
       "    <tr>\n",
       "      <th>7</th>\n",
       "      <td>40-45%</td>\n",
       "      <td>0.56</td>\n",
       "      <td>6858.00</td>\n",
       "    </tr>\n",
       "    <tr>\n",
       "      <th>8</th>\n",
       "      <td>45%~</td>\n",
       "      <td>0.16</td>\n",
       "      <td>75426.00</td>\n",
       "    </tr>\n",
       "    <tr>\n",
       "      <th>9</th>\n",
       "      <td>5-10%</td>\n",
       "      <td>2.03</td>\n",
       "      <td>6858.00</td>\n",
       "    </tr>\n",
       "    <tr>\n",
       "      <th>10</th>\n",
       "      <td>합계</td>\n",
       "      <td>NaN</td>\n",
       "      <td>137148.00</td>\n",
       "    </tr>\n",
       "  </tbody>\n",
       "</table>\n",
       "</div>"
      ],
      "text/plain": [
       "      상위구분  매연_RSD평균(%)   측정건수(건)\n",
       "0     0-5%         3.53   6858.00\n",
       "1   10-15%         1.47   6858.00\n",
       "2   15-20%         1.18   6858.00\n",
       "3   20-25%         1.00   6858.00\n",
       "4   25-30%         0.86   6858.00\n",
       "5   30-35%         0.75   6858.00\n",
       "6   35-40%         0.65   6858.00\n",
       "7   40-45%         0.56   6858.00\n",
       "8     45%~         0.16  75426.00\n",
       "9    5-10%         2.03   6858.00\n",
       "10      합계          NaN 137148.00"
      ]
     },
     "execution_count": 1395,
     "metadata": {},
     "output_type": "execute_result"
    }
   ],
   "source": [
    "grp32 = srt32_1.groupby(['상위구분'], dropna=False).agg({'매연':'mean', '차량번호':'count'}).reset_index()\n",
    "grp32 = grp32.rename(columns={'매연':'매연_RSD평균(%)', '차량번호':'측정건수(건)'})\n",
    "grp32.loc[grp32.shape[0], ['상위구분', '측정건수(건)']] = ['합계', grp32['측정건수(건)'].sum()]\n",
    "grp32"
   ]
  },
  {
   "cell_type": "markdown",
   "metadata": {},
   "source": [
    "## 33\\. 연식별 측정건수 중 매연 8% 초과 비율 분석"
   ]
  },
  {
   "cell_type": "code",
   "execution_count": 1396,
   "metadata": {},
   "outputs": [
    {
     "data": {
      "text/plain": [
       "(414226, 48)"
      ]
     },
     "execution_count": 1396,
     "metadata": {},
     "output_type": "execute_result"
    }
   ],
   "source": [
    "rcse.shape"
   ]
  },
  {
   "cell_type": "code",
   "execution_count": 1397,
   "metadata": {},
   "outputs": [
    {
     "data": {
      "text/plain": [
       "(414226, 48)"
      ]
     },
     "execution_count": 1397,
     "metadata": {},
     "output_type": "execute_result"
    }
   ],
   "source": [
    "# vdfRecordStatus = N, vdfValid = V, samFlag = V, 차량번호 : nan, 오류 값(********) 제외\n",
    "srt33_1 = rcse[(rcse['기록상태'] == 'N') & (rcse['유효'] == 'V') & (rcse['플래그'] == 'V') & (rcse['차량번호'] != '********') & (rcse['차량번호'].isnull() == False)].reset_index(drop=True)\n",
    "srt33_1.shape"
   ]
  },
  {
   "cell_type": "code",
   "execution_count": 1398,
   "metadata": {},
   "outputs": [
    {
     "data": {
      "text/plain": [
       "count   414226.00\n",
       "mean         1.08\n",
       "std          2.17\n",
       "min          0.00\n",
       "25%          0.00\n",
       "50%          0.50\n",
       "75%          1.10\n",
       "max         29.80\n",
       "Name: 매연, dtype: float64"
      ]
     },
     "execution_count": 1398,
     "metadata": {},
     "output_type": "execute_result"
    }
   ],
   "source": [
    "srt33_1['매연'].describe()"
   ]
  },
  {
   "cell_type": "code",
   "execution_count": 1399,
   "metadata": {},
   "outputs": [
    {
     "data": {
      "text/plain": [
       "(8992, 48)"
      ]
     },
     "execution_count": 1399,
     "metadata": {},
     "output_type": "execute_result"
    }
   ],
   "source": [
    "srt33_1.loc[srt33_1['매연'] > 8].shape"
   ]
  },
  {
   "cell_type": "code",
   "execution_count": 1400,
   "metadata": {},
   "outputs": [],
   "source": [
    "srt33_1.loc[srt33_1['매연'] > 8, '매연_8%초과'] = '매연_8%초과'"
   ]
  },
  {
   "cell_type": "code",
   "execution_count": 1401,
   "metadata": {},
   "outputs": [
    {
     "data": {
      "text/plain": [
       "dtype('float64')"
      ]
     },
     "execution_count": 1401,
     "metadata": {},
     "output_type": "execute_result"
    }
   ],
   "source": [
    "srt33_1['연식'].dtype"
   ]
  },
  {
   "cell_type": "code",
   "execution_count": 1402,
   "metadata": {},
   "outputs": [
    {
     "data": {
      "text/plain": [
       "array([2012., 2021., 2016., 2013., 2020., 2015., 2011., 2006., 2008.,\n",
       "         nan, 2010., 2023., 2017., 2004., 2018., 2022., 2014., 2007.,\n",
       "       2009., 2019., 2002., 2001., 2005., 2003., 1993., 1995., 2024.,\n",
       "       1999., 1998., 1997., 1996., 2000., 1983., 1992., 1994., 1991.,\n",
       "       1990., 1988.])"
      ]
     },
     "execution_count": 1402,
     "metadata": {},
     "output_type": "execute_result"
    }
   ],
   "source": [
    "srt33_1['연식'].unique()"
   ]
  },
  {
   "cell_type": "code",
   "execution_count": 1403,
   "metadata": {},
   "outputs": [
    {
     "data": {
      "text/plain": [
       "array([2012.0, 2021.0, 2016.0, 2013.0, 2020.0, 2015.0, 2011.0, 2006.0,\n",
       "       2008.0, nan, 2010.0, 2023.0, 2017.0, 2004.0, 2018.0, 2022.0,\n",
       "       2014.0, 2007.0, 2009.0, 2019.0, 2002.0, 2001.0, 2005.0, 2003.0,\n",
       "       '2000년 이하', 2024.0], dtype=object)"
      ]
     },
     "execution_count": 1403,
     "metadata": {},
     "output_type": "execute_result"
    }
   ],
   "source": [
    "srt33_1.loc[srt33_1['연식'] <= 2000, '연식구분'] = '2000년 이하'\n",
    "srt33_1.loc[srt33_1['연식구분'].isnull(), '연식구분'] = srt33_1.loc[srt33_1['연식구분'].isnull(), '연식']\n",
    "srt33_1['연식구분'].unique()"
   ]
  },
  {
   "cell_type": "code",
   "execution_count": 1404,
   "metadata": {},
   "outputs": [
    {
     "data": {
      "text/plain": [
       "89980"
      ]
     },
     "execution_count": 1404,
     "metadata": {},
     "output_type": "execute_result"
    }
   ],
   "source": [
    "srt33_1['연식'].isnull().sum()"
   ]
  },
  {
   "cell_type": "code",
   "execution_count": 1405,
   "metadata": {},
   "outputs": [
    {
     "data": {
      "text/html": [
       "<div>\n",
       "<style scoped>\n",
       "    .dataframe tbody tr th:only-of-type {\n",
       "        vertical-align: middle;\n",
       "    }\n",
       "\n",
       "    .dataframe tbody tr th {\n",
       "        vertical-align: top;\n",
       "    }\n",
       "\n",
       "    .dataframe thead th {\n",
       "        text-align: right;\n",
       "    }\n",
       "</style>\n",
       "<table border=\"1\" class=\"dataframe\">\n",
       "  <thead>\n",
       "    <tr style=\"text-align: right;\">\n",
       "      <th></th>\n",
       "      <th>연식구분</th>\n",
       "      <th>측정건수(건)</th>\n",
       "      <th>매연 8%초과건수(건)</th>\n",
       "      <th>매연 8%초과건수 비율</th>\n",
       "    </tr>\n",
       "  </thead>\n",
       "  <tbody>\n",
       "    <tr>\n",
       "      <th>0</th>\n",
       "      <td>2001.00</td>\n",
       "      <td>225.00</td>\n",
       "      <td>12.00</td>\n",
       "      <td>0.05</td>\n",
       "    </tr>\n",
       "    <tr>\n",
       "      <th>1</th>\n",
       "      <td>2002.00</td>\n",
       "      <td>511.00</td>\n",
       "      <td>13.00</td>\n",
       "      <td>0.03</td>\n",
       "    </tr>\n",
       "    <tr>\n",
       "      <th>2</th>\n",
       "      <td>2003.00</td>\n",
       "      <td>451.00</td>\n",
       "      <td>18.00</td>\n",
       "      <td>0.04</td>\n",
       "    </tr>\n",
       "    <tr>\n",
       "      <th>3</th>\n",
       "      <td>2004.00</td>\n",
       "      <td>636.00</td>\n",
       "      <td>7.00</td>\n",
       "      <td>0.01</td>\n",
       "    </tr>\n",
       "    <tr>\n",
       "      <th>4</th>\n",
       "      <td>2005.00</td>\n",
       "      <td>1309.00</td>\n",
       "      <td>25.00</td>\n",
       "      <td>0.02</td>\n",
       "    </tr>\n",
       "    <tr>\n",
       "      <th>5</th>\n",
       "      <td>2006.00</td>\n",
       "      <td>1784.00</td>\n",
       "      <td>34.00</td>\n",
       "      <td>0.02</td>\n",
       "    </tr>\n",
       "    <tr>\n",
       "      <th>6</th>\n",
       "      <td>2007.00</td>\n",
       "      <td>4178.00</td>\n",
       "      <td>82.00</td>\n",
       "      <td>0.02</td>\n",
       "    </tr>\n",
       "    <tr>\n",
       "      <th>7</th>\n",
       "      <td>2008.00</td>\n",
       "      <td>5240.00</td>\n",
       "      <td>124.00</td>\n",
       "      <td>0.02</td>\n",
       "    </tr>\n",
       "    <tr>\n",
       "      <th>8</th>\n",
       "      <td>2009.00</td>\n",
       "      <td>5668.00</td>\n",
       "      <td>120.00</td>\n",
       "      <td>0.02</td>\n",
       "    </tr>\n",
       "    <tr>\n",
       "      <th>9</th>\n",
       "      <td>2010.00</td>\n",
       "      <td>9802.00</td>\n",
       "      <td>197.00</td>\n",
       "      <td>0.02</td>\n",
       "    </tr>\n",
       "    <tr>\n",
       "      <th>10</th>\n",
       "      <td>2011.00</td>\n",
       "      <td>11553.00</td>\n",
       "      <td>209.00</td>\n",
       "      <td>0.02</td>\n",
       "    </tr>\n",
       "    <tr>\n",
       "      <th>11</th>\n",
       "      <td>2012.00</td>\n",
       "      <td>14035.00</td>\n",
       "      <td>209.00</td>\n",
       "      <td>0.01</td>\n",
       "    </tr>\n",
       "    <tr>\n",
       "      <th>12</th>\n",
       "      <td>2013.00</td>\n",
       "      <td>12523.00</td>\n",
       "      <td>244.00</td>\n",
       "      <td>0.02</td>\n",
       "    </tr>\n",
       "    <tr>\n",
       "      <th>13</th>\n",
       "      <td>2014.00</td>\n",
       "      <td>17131.00</td>\n",
       "      <td>375.00</td>\n",
       "      <td>0.02</td>\n",
       "    </tr>\n",
       "    <tr>\n",
       "      <th>14</th>\n",
       "      <td>2015.00</td>\n",
       "      <td>19546.00</td>\n",
       "      <td>350.00</td>\n",
       "      <td>0.02</td>\n",
       "    </tr>\n",
       "    <tr>\n",
       "      <th>15</th>\n",
       "      <td>2016.00</td>\n",
       "      <td>25190.00</td>\n",
       "      <td>417.00</td>\n",
       "      <td>0.02</td>\n",
       "    </tr>\n",
       "    <tr>\n",
       "      <th>16</th>\n",
       "      <td>2017.00</td>\n",
       "      <td>22984.00</td>\n",
       "      <td>461.00</td>\n",
       "      <td>0.02</td>\n",
       "    </tr>\n",
       "    <tr>\n",
       "      <th>17</th>\n",
       "      <td>2018.00</td>\n",
       "      <td>27309.00</td>\n",
       "      <td>465.00</td>\n",
       "      <td>0.02</td>\n",
       "    </tr>\n",
       "    <tr>\n",
       "      <th>18</th>\n",
       "      <td>2019.00</td>\n",
       "      <td>28940.00</td>\n",
       "      <td>501.00</td>\n",
       "      <td>0.02</td>\n",
       "    </tr>\n",
       "    <tr>\n",
       "      <th>19</th>\n",
       "      <td>2020.00</td>\n",
       "      <td>28944.00</td>\n",
       "      <td>473.00</td>\n",
       "      <td>0.02</td>\n",
       "    </tr>\n",
       "    <tr>\n",
       "      <th>20</th>\n",
       "      <td>2021.00</td>\n",
       "      <td>27387.00</td>\n",
       "      <td>512.00</td>\n",
       "      <td>0.02</td>\n",
       "    </tr>\n",
       "    <tr>\n",
       "      <th>21</th>\n",
       "      <td>2022.00</td>\n",
       "      <td>29593.00</td>\n",
       "      <td>472.00</td>\n",
       "      <td>0.02</td>\n",
       "    </tr>\n",
       "    <tr>\n",
       "      <th>22</th>\n",
       "      <td>2023.00</td>\n",
       "      <td>27147.00</td>\n",
       "      <td>433.00</td>\n",
       "      <td>0.02</td>\n",
       "    </tr>\n",
       "    <tr>\n",
       "      <th>23</th>\n",
       "      <td>2024.00</td>\n",
       "      <td>1836.00</td>\n",
       "      <td>28.00</td>\n",
       "      <td>0.02</td>\n",
       "    </tr>\n",
       "    <tr>\n",
       "      <th>24</th>\n",
       "      <td>2000년 이하</td>\n",
       "      <td>324.00</td>\n",
       "      <td>14.00</td>\n",
       "      <td>0.04</td>\n",
       "    </tr>\n",
       "    <tr>\n",
       "      <th>25</th>\n",
       "      <td>NaN</td>\n",
       "      <td>89980.00</td>\n",
       "      <td>3197.00</td>\n",
       "      <td>0.04</td>\n",
       "    </tr>\n",
       "    <tr>\n",
       "      <th>26</th>\n",
       "      <td>합계</td>\n",
       "      <td>414226.00</td>\n",
       "      <td>8992.00</td>\n",
       "      <td>NaN</td>\n",
       "    </tr>\n",
       "  </tbody>\n",
       "</table>\n",
       "</div>"
      ],
      "text/plain": [
       "        연식구분   측정건수(건)  매연 8%초과건수(건)  매연 8%초과건수 비율\n",
       "0    2001.00    225.00         12.00          0.05\n",
       "1    2002.00    511.00         13.00          0.03\n",
       "2    2003.00    451.00         18.00          0.04\n",
       "3    2004.00    636.00          7.00          0.01\n",
       "4    2005.00   1309.00         25.00          0.02\n",
       "5    2006.00   1784.00         34.00          0.02\n",
       "6    2007.00   4178.00         82.00          0.02\n",
       "7    2008.00   5240.00        124.00          0.02\n",
       "8    2009.00   5668.00        120.00          0.02\n",
       "9    2010.00   9802.00        197.00          0.02\n",
       "10   2011.00  11553.00        209.00          0.02\n",
       "11   2012.00  14035.00        209.00          0.01\n",
       "12   2013.00  12523.00        244.00          0.02\n",
       "13   2014.00  17131.00        375.00          0.02\n",
       "14   2015.00  19546.00        350.00          0.02\n",
       "15   2016.00  25190.00        417.00          0.02\n",
       "16   2017.00  22984.00        461.00          0.02\n",
       "17   2018.00  27309.00        465.00          0.02\n",
       "18   2019.00  28940.00        501.00          0.02\n",
       "19   2020.00  28944.00        473.00          0.02\n",
       "20   2021.00  27387.00        512.00          0.02\n",
       "21   2022.00  29593.00        472.00          0.02\n",
       "22   2023.00  27147.00        433.00          0.02\n",
       "23   2024.00   1836.00         28.00          0.02\n",
       "24  2000년 이하    324.00         14.00          0.04\n",
       "25       NaN  89980.00       3197.00          0.04\n",
       "26        합계 414226.00       8992.00           NaN"
      ]
     },
     "execution_count": 1405,
     "metadata": {},
     "output_type": "execute_result"
    }
   ],
   "source": [
    "grp33 = srt33_1.groupby(['연식구분'], dropna=False).agg({'차량번호':'count', '매연_8%초과':'count'}).reset_index()\n",
    "grp33['매연 8%초과건수 비율'] = grp33['매연_8%초과'] / grp33['차량번호']\n",
    "grp33.loc[grp33.shape[0], ['연식구분', '차량번호', '매연_8%초과']] = ['합계', grp33['차량번호'].sum(), grp33['매연_8%초과'].sum()]\n",
    "grp33 = grp33.rename(columns={'차량번호':'측정건수(건)', '매연_8%초과':'매연 8%초과건수(건)'})\n",
    "grp33"
   ]
  },
  {
   "cell_type": "markdown",
   "metadata": {},
   "source": [
    "## 34\\. 매연RSD 상위3% 매연 농도 vs 종합검사 매연 비교\n",
    "- 해당 데이터 추출 방법\n",
    "    - 1. 매연RSD + 등록제원 + 정밀(사용 가능한 데이터만 추출)\n",
    "    - 2. 경유만 추출\n",
    "    - 3. 정밀검사측정방법별 데이터 정리\n",
    "        - KD-147 -> 무부하매연측정치1 사용\n",
    "        - LUG DOWN and 총 중량 5.5톤 미만 -> 무부하매연측정치1 사용\n",
    "        - LUG DOWN and 총 중량 5.5톤 이상 -> 무부하매연측정치1 ~ 3 중 가장 큰 값 사용\n",
    "    - 4. 매연RSD 측정시점에 가장 가까운 검사 기록만 추출\n",
    "        - A안(⭕)\n",
    "            - 측정시점과 정밀검사일자 차이 계산(측정날짜 - 정밀검사일자)\n",
    "            - a. 측정시점 전 데이터(차이가 양수) 중 가장 큰 값 추출\n",
    "            - b. 측정시점 후 데이터(차이가 음수 또는 0) 중 가장 작은 값 추출\n",
    "            - a, b를 '날짜차이' 내림차순 정렬 후 '차량번호' 기준 중복 제거\n",
    "        - B안\n",
    "            - 측정시점과 정밀검사일자 차이 계산\n",
    "            - 검사 기록 추출\n",
    "                - 차량당 양수값이 존재하면, 양수 중 가장 작은 값 데이터 추출\n",
    "                - 차량당 음수값만 존재하면, 음수 중 가장 큰 값 데이터 추출\n",
    "            - '차량번호' 기준 중복 제거(같은 차이 값 존재 가능성 때문에)\n",
    "    - 5. 매연RSD 매연 상위 3% 해당 데이터만 추출"
   ]
  },
  {
   "cell_type": "markdown",
   "metadata": {},
   "source": [
    "### 1\\. 매연RSD + 등록제원 + 정밀(사용 가능한 데이터만 추출)"
   ]
  },
  {
   "cell_type": "code",
   "execution_count": 1406,
   "metadata": {},
   "outputs": [
    {
     "data": {
      "text/plain": [
       "(510647, 48)"
      ]
     },
     "execution_count": 1406,
     "metadata": {},
     "output_type": "execute_result"
    }
   ],
   "source": [
    "total_rcse = rcs.merge(eetr_total, on='차대번호', how='left')\n",
    "total_rcse.shape"
   ]
  },
  {
   "cell_type": "code",
   "execution_count": 1407,
   "metadata": {},
   "outputs": [
    {
     "data": {
      "text/plain": [
       "(510647, 48)"
      ]
     },
     "execution_count": 1407,
     "metadata": {},
     "output_type": "execute_result"
    }
   ],
   "source": [
    "total_rcse.shape"
   ]
  },
  {
   "cell_type": "code",
   "execution_count": 1408,
   "metadata": {},
   "outputs": [
    {
     "data": {
      "text/plain": [
       "(510647, 48)"
      ]
     },
     "execution_count": 1408,
     "metadata": {},
     "output_type": "execute_result"
    }
   ],
   "source": [
    "# vdfRecordStatus = N, vdfValid = V, samFlag = V, 차량번호 : nan, 오류 값(********) 제외, 매연 5% 초과 제외\n",
    "total_df = total_rcse[(total_rcse['기록상태'] == 'N') & (total_rcse['유효'] == 'V') & (total_rcse['플래그'] == 'V') & (total_rcse['차량번호'] != '********') & (total_rcse['차량번호'].isnull() == False)].reset_index(drop=True)\n",
    "total_df.shape"
   ]
  },
  {
   "cell_type": "code",
   "execution_count": 1409,
   "metadata": {},
   "outputs": [
    {
     "data": {
      "text/plain": [
       "(510647, 48)"
      ]
     },
     "execution_count": 1409,
     "metadata": {},
     "output_type": "execute_result"
    }
   ],
   "source": [
    "total_df.shape"
   ]
  },
  {
   "cell_type": "markdown",
   "metadata": {},
   "source": [
    "### 2\\. 경유만 추출"
   ]
  },
  {
   "cell_type": "code",
   "execution_count": 1410,
   "metadata": {},
   "outputs": [
    {
     "data": {
      "text/plain": [
       "연료\n",
       "경유             248278\n",
       "휘발유            162277\n",
       "LPG(액화석유가스)     37654\n",
       "휘발유 하이브리드       27697\n",
       "NaN             22420\n",
       "전기               8065\n",
       "CNG(압축천연가스)      2116\n",
       "수소                964\n",
       "경유 하이브리드          951\n",
       "LPG 하이브리드         225\n",
       "Name: count, dtype: int64"
      ]
     },
     "execution_count": 1410,
     "metadata": {},
     "output_type": "execute_result"
    }
   ],
   "source": [
    "total_df['연료'].value_counts(dropna=False)"
   ]
  },
  {
   "cell_type": "code",
   "execution_count": 1411,
   "metadata": {},
   "outputs": [
    {
     "data": {
      "text/plain": [
       "(248278, 48)"
      ]
     },
     "execution_count": 1411,
     "metadata": {},
     "output_type": "execute_result"
    }
   ],
   "source": [
    "srt34_1 = total_df[total_df['연료'] == '경유'].reset_index(drop=True)\n",
    "srt34_1.shape"
   ]
  },
  {
   "cell_type": "markdown",
   "metadata": {},
   "source": [
    "### 3\\. 정밀검사측정방법별 데이터 정리\n",
    "- KD-147 -> 무부하매연측정치1 사용\n",
    "- LUG DOWN and 총 중량 5.5톤 미만 -> 무부하매연측정치1 사용\n",
    "- LUG DOWN and 총 중량 5.5톤 이상 -> 무부하매연측정치1 ~ 3 중 가장 큰 값 사용"
   ]
  },
  {
   "cell_type": "code",
   "execution_count": 1412,
   "metadata": {},
   "outputs": [
    {
     "data": {
      "text/plain": [
       "Index(['측정날짜', '측정시간', '기록상태', '유효', '속도', '가속도', '플래그', 'VSP', '매연', '차량번호',\n",
       "       '차선번호', '풍속', '습도', '온도', '측정장소코드', '연료', '연식', '배기량', '차종', '총중량',\n",
       "       '엔진형식', '등급', '차대번호', '차명', '폐차여부', '정밀검사일자', '정밀검사종류', '관능검사판정',\n",
       "       '정밀검사판정', '정밀검사측정방법', '무부하매연측정치1', '무부하매연허용치1', '무부하매연판정1', '무부하매연측정치2',\n",
       "       '무부하매연허용치2', '무부하매연판정2', '무부하매연측정치3', '무부하매연허용치3', '무부하매연판정3',\n",
       "       '무부하매연측정치4', '무부하매연허용치4', '무부하매연판정4', '무부하매연측정치5', '무부하매연허용치5',\n",
       "       '무부하매연판정5', '무부하매연측정치6', '무부하매연허용치6', '무부하매연판정6'],\n",
       "      dtype='object')"
      ]
     },
     "execution_count": 1412,
     "metadata": {},
     "output_type": "execute_result"
    }
   ],
   "source": [
    "srt34_1.columns"
   ]
  },
  {
   "cell_type": "code",
   "execution_count": 1413,
   "metadata": {},
   "outputs": [
    {
     "data": {
      "text/plain": [
       "무부하매연측정치1     68346\n",
       "무부하매연측정치2    140472\n",
       "무부하매연측정치3    162619\n",
       "dtype: int64"
      ]
     },
     "execution_count": 1413,
     "metadata": {},
     "output_type": "execute_result"
    }
   ],
   "source": [
    "srt34_1[['무부하매연측정치1', '무부하매연측정치2', '무부하매연측정치3']].isnull().sum()"
   ]
  },
  {
   "cell_type": "code",
   "execution_count": 1414,
   "metadata": {},
   "outputs": [
    {
     "data": {
      "text/plain": [
       "array(['부하검사(KD-147)', nan, '무부하검사(급가속)', '부하검사(LUG DOWN)',\n",
       "       '부하검사(ASM-Idling)'], dtype=object)"
      ]
     },
     "execution_count": 1414,
     "metadata": {},
     "output_type": "execute_result"
    }
   ],
   "source": [
    "srt34_1['정밀검사측정방법'].unique()"
   ]
  },
  {
   "cell_type": "code",
   "execution_count": 1415,
   "metadata": {},
   "outputs": [
    {
     "data": {
      "text/plain": [
       "(168244, 48)"
      ]
     },
     "execution_count": 1415,
     "metadata": {},
     "output_type": "execute_result"
    }
   ],
   "source": [
    "srt34_2 = srt34_1[(srt34_1['정밀검사측정방법'] == '부하검사(KD-147)') | (srt34_1['정밀검사측정방법'] == '부하검사(LUG DOWN)')].reset_index(drop=True)\n",
    "srt34_2.shape"
   ]
  },
  {
   "cell_type": "code",
   "execution_count": 1416,
   "metadata": {},
   "outputs": [
    {
     "data": {
      "text/plain": [
       "5848"
      ]
     },
     "execution_count": 1416,
     "metadata": {},
     "output_type": "execute_result"
    }
   ],
   "source": [
    "srt34_2.loc[srt34_2['정밀검사측정방법'] == '부하검사(KD-147)', '종합검사매연'] = srt34_2.loc[srt34_2['정밀검사측정방법'] == '부하검사(KD-147)', '무부하매연측정치1']\n",
    "srt34_2.loc[(srt34_2['정밀검사측정방법'] == '부하검사(LUG DOWN)') & (srt34_2['총중량'] < 5500), '종합검사매연'] = srt34_2.loc[(srt34_2['정밀검사측정방법'] == '부하검사(LUG DOWN)') & (srt34_2['총중량'] < 5500), '무부하매연측정치1']\n",
    "srt34_2.loc[(srt34_2['정밀검사측정방법'] == '부하검사(LUG DOWN)') & (srt34_2['총중량'] >= 5500), '종합검사매연'] = srt34_2.loc[(srt34_2['정밀검사측정방법'] == '부하검사(LUG DOWN)') & (srt34_2['총중량'] >= 5500), ['무부하매연측정치1', '무부하매연측정치2', '무부하매연측정치3']].max(axis=1)\n",
    "srt34_2['종합검사매연'].isnull().sum()"
   ]
  },
  {
   "cell_type": "markdown",
   "metadata": {},
   "source": [
    "### 4\\. 매연RSD 측정시점에 가장 가까운 검사 기록만 추출\n",
    "- A안(⭕)\n",
    "    - 측정시점과 정밀검사일자 차이 계산(측정날짜 - 정밀검사일자)\n",
    "    - a. 측정시점 전 데이터(차이가 양수) 중 가장 큰 값 추출\n",
    "    - b. 측정시점 후 데이터(차이가 음수) 중 가장 작은 값 추출\n",
    "    - a, b를 '날짜차이' 내림차순 정렬 후 '차량번호' 기준 중복 제거\n",
    "- B안\n",
    "    - 측정시점과 정밀검사일자 차이 계산\n",
    "    - 검사 기록 추출\n",
    "        - 차량당 양수값이 존재하면, 양수 중 가장 작은 값 데이터 추출\n",
    "        - 차량당 음수값만 존재하면, 음수 중 가장 큰 값 데이터 추출\n",
    "    - '차량번호' 기준 중복 제거(같은 차이 값 존재 가능성 때문에)"
   ]
  },
  {
   "cell_type": "code",
   "execution_count": 1417,
   "metadata": {},
   "outputs": [
    {
     "data": {
      "text/plain": [
       "Index(['측정날짜', '측정시간', '기록상태', '유효', '속도', '가속도', '플래그', 'VSP', '매연', '차량번호',\n",
       "       '차선번호', '풍속', '습도', '온도', '측정장소코드', '연료', '연식', '배기량', '차종', '총중량',\n",
       "       '엔진형식', '등급', '차대번호', '차명', '폐차여부', '정밀검사일자', '정밀검사종류', '관능검사판정',\n",
       "       '정밀검사판정', '정밀검사측정방법', '무부하매연측정치1', '무부하매연허용치1', '무부하매연판정1', '무부하매연측정치2',\n",
       "       '무부하매연허용치2', '무부하매연판정2', '무부하매연측정치3', '무부하매연허용치3', '무부하매연판정3',\n",
       "       '무부하매연측정치4', '무부하매연허용치4', '무부하매연판정4', '무부하매연측정치5', '무부하매연허용치5',\n",
       "       '무부하매연판정5', '무부하매연측정치6', '무부하매연허용치6', '무부하매연판정6', '종합검사매연'],\n",
       "      dtype='object')"
      ]
     },
     "execution_count": 1417,
     "metadata": {},
     "output_type": "execute_result"
    }
   ],
   "source": [
    "srt34_2.columns"
   ]
  },
  {
   "cell_type": "code",
   "execution_count": 1418,
   "metadata": {},
   "outputs": [
    {
     "data": {
      "text/plain": [
       "측정날짜      datetime64[ns]\n",
       "정밀검사일자    datetime64[ns]\n",
       "dtype: object"
      ]
     },
     "execution_count": 1418,
     "metadata": {},
     "output_type": "execute_result"
    }
   ],
   "source": [
    "srt34_2[['측정날짜', '정밀검사일자']].dtypes"
   ]
  },
  {
   "cell_type": "code",
   "execution_count": 1419,
   "metadata": {},
   "outputs": [
    {
     "data": {
      "text/plain": [
       "측정날짜      0\n",
       "정밀검사일자    0\n",
       "dtype: int64"
      ]
     },
     "execution_count": 1419,
     "metadata": {},
     "output_type": "execute_result"
    }
   ],
   "source": [
    "srt34_2[['측정날짜', '정밀검사일자']].isnull().sum()"
   ]
  },
  {
   "cell_type": "code",
   "execution_count": 1420,
   "metadata": {},
   "outputs": [
    {
     "data": {
      "text/plain": [
       "0    461\n",
       "1    447\n",
       "2   -242\n",
       "3    553\n",
       "4    164\n",
       "Name: 날짜차이, dtype: int64"
      ]
     },
     "execution_count": 1420,
     "metadata": {},
     "output_type": "execute_result"
    }
   ],
   "source": [
    "srt34_2['날짜차이'] = (srt34_2['측정날짜'] - srt34_2['정밀검사일자']).dt.days\n",
    "srt34_2['날짜차이'].head()"
   ]
  },
  {
   "cell_type": "code",
   "execution_count": 1421,
   "metadata": {},
   "outputs": [
    {
     "data": {
      "text/plain": [
       "count   168244.00\n",
       "mean       368.54\n",
       "std        254.05\n",
       "min       -335.00\n",
       "25%        158.00\n",
       "50%        358.00\n",
       "75%        570.00\n",
       "max        921.00\n",
       "Name: 날짜차이, dtype: float64"
      ]
     },
     "execution_count": 1421,
     "metadata": {},
     "output_type": "execute_result"
    }
   ],
   "source": [
    "srt34_2['날짜차이'].describe()"
   ]
  },
  {
   "cell_type": "code",
   "execution_count": 1422,
   "metadata": {},
   "outputs": [
    {
     "data": {
      "text/plain": [
       "(168244, 50)"
      ]
     },
     "execution_count": 1422,
     "metadata": {},
     "output_type": "execute_result"
    }
   ],
   "source": [
    "srt34_2.shape"
   ]
  },
  {
   "cell_type": "code",
   "execution_count": 1423,
   "metadata": {},
   "outputs": [
    {
     "data": {
      "text/plain": [
       "((158462, 50), (9782, 50), 168244)"
      ]
     },
     "execution_count": 1423,
     "metadata": {},
     "output_type": "execute_result"
    }
   ],
   "source": [
    "srt34_3before = srt34_2[srt34_2['날짜차이'] > 0].reset_index(drop=True)\n",
    "srt34_3after = srt34_2[srt34_2['날짜차이'] <= 0].reset_index(drop=True)\n",
    "srt34_3before.shape, srt34_3after.shape, srt34_3before.shape[0] + srt34_3after.shape[0]"
   ]
  },
  {
   "cell_type": "code",
   "execution_count": 1424,
   "metadata": {},
   "outputs": [
    {
     "data": {
      "text/html": [
       "<div>\n",
       "<style scoped>\n",
       "    .dataframe tbody tr th:only-of-type {\n",
       "        vertical-align: middle;\n",
       "    }\n",
       "\n",
       "    .dataframe tbody tr th {\n",
       "        vertical-align: top;\n",
       "    }\n",
       "\n",
       "    .dataframe thead th {\n",
       "        text-align: right;\n",
       "    }\n",
       "</style>\n",
       "<table border=\"1\" class=\"dataframe\">\n",
       "  <thead>\n",
       "    <tr style=\"text-align: right;\">\n",
       "      <th></th>\n",
       "      <th>차량번호</th>\n",
       "      <th>날짜차이</th>\n",
       "    </tr>\n",
       "  </thead>\n",
       "  <tbody>\n",
       "    <tr>\n",
       "      <th>111250</th>\n",
       "      <td>01가0350</td>\n",
       "      <td>514</td>\n",
       "    </tr>\n",
       "    <tr>\n",
       "      <th>57879</th>\n",
       "      <td>01가0656</td>\n",
       "      <td>473</td>\n",
       "    </tr>\n",
       "    <tr>\n",
       "      <th>60152</th>\n",
       "      <td>01가0656</td>\n",
       "      <td>474</td>\n",
       "    </tr>\n",
       "    <tr>\n",
       "      <th>71016</th>\n",
       "      <td>01가0656</td>\n",
       "      <td>488</td>\n",
       "    </tr>\n",
       "    <tr>\n",
       "      <th>140748</th>\n",
       "      <td>01가0656</td>\n",
       "      <td>562</td>\n",
       "    </tr>\n",
       "  </tbody>\n",
       "</table>\n",
       "</div>"
      ],
      "text/plain": [
       "           차량번호  날짜차이\n",
       "111250  01가0350   514\n",
       "57879   01가0656   473\n",
       "60152   01가0656   474\n",
       "71016   01가0656   488\n",
       "140748  01가0656   562"
      ]
     },
     "execution_count": 1424,
     "metadata": {},
     "output_type": "execute_result"
    }
   ],
   "source": [
    "srt34_3before.sort_values(['차량번호', '날짜차이'], ascending=[True, True])[['차량번호', '날짜차이']].head()"
   ]
  },
  {
   "cell_type": "code",
   "execution_count": 1425,
   "metadata": {},
   "outputs": [
    {
     "data": {
      "text/html": [
       "<div>\n",
       "<style scoped>\n",
       "    .dataframe tbody tr th:only-of-type {\n",
       "        vertical-align: middle;\n",
       "    }\n",
       "\n",
       "    .dataframe tbody tr th {\n",
       "        vertical-align: top;\n",
       "    }\n",
       "\n",
       "    .dataframe thead th {\n",
       "        text-align: right;\n",
       "    }\n",
       "</style>\n",
       "<table border=\"1\" class=\"dataframe\">\n",
       "  <thead>\n",
       "    <tr style=\"text-align: right;\">\n",
       "      <th></th>\n",
       "      <th>차량번호</th>\n",
       "      <th>날짜차이</th>\n",
       "    </tr>\n",
       "  </thead>\n",
       "  <tbody>\n",
       "    <tr>\n",
       "      <th>0</th>\n",
       "      <td>01가0350</td>\n",
       "      <td>514</td>\n",
       "    </tr>\n",
       "    <tr>\n",
       "      <th>1</th>\n",
       "      <td>01가0656</td>\n",
       "      <td>473</td>\n",
       "    </tr>\n",
       "    <tr>\n",
       "      <th>2</th>\n",
       "      <td>01가1396</td>\n",
       "      <td>250</td>\n",
       "    </tr>\n",
       "    <tr>\n",
       "      <th>3</th>\n",
       "      <td>01가2434</td>\n",
       "      <td>137</td>\n",
       "    </tr>\n",
       "    <tr>\n",
       "      <th>4</th>\n",
       "      <td>01가5778</td>\n",
       "      <td>264</td>\n",
       "    </tr>\n",
       "  </tbody>\n",
       "</table>\n",
       "</div>"
      ],
      "text/plain": [
       "      차량번호  날짜차이\n",
       "0  01가0350   514\n",
       "1  01가0656   473\n",
       "2  01가1396   250\n",
       "3  01가2434   137\n",
       "4  01가5778   264"
      ]
     },
     "execution_count": 1425,
     "metadata": {},
     "output_type": "execute_result"
    }
   ],
   "source": [
    "srt34_3before.sort_values(['차량번호', '날짜차이'], ascending=[True, True]).drop_duplicates('차량번호').reset_index(drop=True)[['차량번호', '날짜차이']].head()"
   ]
  },
  {
   "cell_type": "code",
   "execution_count": 1426,
   "metadata": {},
   "outputs": [
    {
     "data": {
      "text/html": [
       "<div>\n",
       "<style scoped>\n",
       "    .dataframe tbody tr th:only-of-type {\n",
       "        vertical-align: middle;\n",
       "    }\n",
       "\n",
       "    .dataframe tbody tr th {\n",
       "        vertical-align: top;\n",
       "    }\n",
       "\n",
       "    .dataframe thead th {\n",
       "        text-align: right;\n",
       "    }\n",
       "</style>\n",
       "<table border=\"1\" class=\"dataframe\">\n",
       "  <thead>\n",
       "    <tr style=\"text-align: right;\">\n",
       "      <th></th>\n",
       "      <th>차량번호</th>\n",
       "      <th>날짜차이</th>\n",
       "    </tr>\n",
       "  </thead>\n",
       "  <tbody>\n",
       "    <tr>\n",
       "      <th>3899</th>\n",
       "      <td>01고6697</td>\n",
       "      <td>-70</td>\n",
       "    </tr>\n",
       "    <tr>\n",
       "      <th>649</th>\n",
       "      <td>01고6806</td>\n",
       "      <td>-121</td>\n",
       "    </tr>\n",
       "    <tr>\n",
       "      <th>847</th>\n",
       "      <td>01나6593</td>\n",
       "      <td>-94</td>\n",
       "    </tr>\n",
       "    <tr>\n",
       "      <th>5906</th>\n",
       "      <td>01나8412</td>\n",
       "      <td>-26</td>\n",
       "    </tr>\n",
       "    <tr>\n",
       "      <th>144</th>\n",
       "      <td>01다1159</td>\n",
       "      <td>-164</td>\n",
       "    </tr>\n",
       "    <tr>\n",
       "      <th>5772</th>\n",
       "      <td>01다9545</td>\n",
       "      <td>-66</td>\n",
       "    </tr>\n",
       "    <tr>\n",
       "      <th>489</th>\n",
       "      <td>01두1408</td>\n",
       "      <td>-6</td>\n",
       "    </tr>\n",
       "    <tr>\n",
       "      <th>5022</th>\n",
       "      <td>01두9699</td>\n",
       "      <td>-48</td>\n",
       "    </tr>\n",
       "    <tr>\n",
       "      <th>1939</th>\n",
       "      <td>01두9699</td>\n",
       "      <td>-82</td>\n",
       "    </tr>\n",
       "    <tr>\n",
       "      <th>6082</th>\n",
       "      <td>01러1587</td>\n",
       "      <td>-1</td>\n",
       "    </tr>\n",
       "  </tbody>\n",
       "</table>\n",
       "</div>"
      ],
      "text/plain": [
       "         차량번호  날짜차이\n",
       "3899  01고6697   -70\n",
       "649   01고6806  -121\n",
       "847   01나6593   -94\n",
       "5906  01나8412   -26\n",
       "144   01다1159  -164\n",
       "5772  01다9545   -66\n",
       "489   01두1408    -6\n",
       "5022  01두9699   -48\n",
       "1939  01두9699   -82\n",
       "6082  01러1587    -1"
      ]
     },
     "execution_count": 1426,
     "metadata": {},
     "output_type": "execute_result"
    }
   ],
   "source": [
    "srt34_3after.sort_values(['차량번호', '날짜차이'], ascending=[True, False])[['차량번호', '날짜차이']].head(10)"
   ]
  },
  {
   "cell_type": "code",
   "execution_count": 1427,
   "metadata": {},
   "outputs": [
    {
     "data": {
      "text/html": [
       "<div>\n",
       "<style scoped>\n",
       "    .dataframe tbody tr th:only-of-type {\n",
       "        vertical-align: middle;\n",
       "    }\n",
       "\n",
       "    .dataframe tbody tr th {\n",
       "        vertical-align: top;\n",
       "    }\n",
       "\n",
       "    .dataframe thead th {\n",
       "        text-align: right;\n",
       "    }\n",
       "</style>\n",
       "<table border=\"1\" class=\"dataframe\">\n",
       "  <thead>\n",
       "    <tr style=\"text-align: right;\">\n",
       "      <th></th>\n",
       "      <th>차량번호</th>\n",
       "      <th>날짜차이</th>\n",
       "    </tr>\n",
       "  </thead>\n",
       "  <tbody>\n",
       "    <tr>\n",
       "      <th>0</th>\n",
       "      <td>01고6697</td>\n",
       "      <td>-70</td>\n",
       "    </tr>\n",
       "    <tr>\n",
       "      <th>1</th>\n",
       "      <td>01고6806</td>\n",
       "      <td>-121</td>\n",
       "    </tr>\n",
       "    <tr>\n",
       "      <th>2</th>\n",
       "      <td>01나6593</td>\n",
       "      <td>-94</td>\n",
       "    </tr>\n",
       "    <tr>\n",
       "      <th>3</th>\n",
       "      <td>01나8412</td>\n",
       "      <td>-26</td>\n",
       "    </tr>\n",
       "    <tr>\n",
       "      <th>4</th>\n",
       "      <td>01다1159</td>\n",
       "      <td>-164</td>\n",
       "    </tr>\n",
       "    <tr>\n",
       "      <th>5</th>\n",
       "      <td>01다9545</td>\n",
       "      <td>-66</td>\n",
       "    </tr>\n",
       "    <tr>\n",
       "      <th>6</th>\n",
       "      <td>01두1408</td>\n",
       "      <td>-6</td>\n",
       "    </tr>\n",
       "    <tr>\n",
       "      <th>7</th>\n",
       "      <td>01두9699</td>\n",
       "      <td>-48</td>\n",
       "    </tr>\n",
       "    <tr>\n",
       "      <th>8</th>\n",
       "      <td>01러1587</td>\n",
       "      <td>-1</td>\n",
       "    </tr>\n",
       "    <tr>\n",
       "      <th>9</th>\n",
       "      <td>01러6546</td>\n",
       "      <td>-52</td>\n",
       "    </tr>\n",
       "  </tbody>\n",
       "</table>\n",
       "</div>"
      ],
      "text/plain": [
       "      차량번호  날짜차이\n",
       "0  01고6697   -70\n",
       "1  01고6806  -121\n",
       "2  01나6593   -94\n",
       "3  01나8412   -26\n",
       "4  01다1159  -164\n",
       "5  01다9545   -66\n",
       "6  01두1408    -6\n",
       "7  01두9699   -48\n",
       "8  01러1587    -1\n",
       "9  01러6546   -52"
      ]
     },
     "execution_count": 1427,
     "metadata": {},
     "output_type": "execute_result"
    }
   ],
   "source": [
    "srt34_3after.sort_values(['차량번호', '날짜차이'], ascending=[True, False]).drop_duplicates('차량번호').reset_index(drop=True)[['차량번호', '날짜차이']].head(10)"
   ]
  },
  {
   "cell_type": "code",
   "execution_count": 1428,
   "metadata": {},
   "outputs": [
    {
     "data": {
      "text/plain": [
       "((41428, 50), (6232, 50), 47660)"
      ]
     },
     "execution_count": 1428,
     "metadata": {},
     "output_type": "execute_result"
    }
   ],
   "source": [
    "srt34_4before = srt34_3before.sort_values(['차량번호', '날짜차이'], ascending=[True, True]).drop_duplicates('차량번호').reset_index(drop=True)\n",
    "srt34_4after = srt34_3after.sort_values(['차량번호', '날짜차이'], ascending=[True, False]).drop_duplicates('차량번호').reset_index(drop=True)\n",
    "srt34_4before.shape, srt34_4after.shape, srt34_4before.shape[0] + srt34_4after.shape[0]"
   ]
  },
  {
   "cell_type": "code",
   "execution_count": 1429,
   "metadata": {},
   "outputs": [
    {
     "data": {
      "text/plain": [
       "(47660, 50)"
      ]
     },
     "execution_count": 1429,
     "metadata": {},
     "output_type": "execute_result"
    }
   ],
   "source": [
    "srt34_4 = pd.concat([srt34_4before, srt34_4after], ignore_index=True)\n",
    "srt34_4.shape"
   ]
  },
  {
   "cell_type": "code",
   "execution_count": 1430,
   "metadata": {},
   "outputs": [
    {
     "data": {
      "text/html": [
       "<div>\n",
       "<style scoped>\n",
       "    .dataframe tbody tr th:only-of-type {\n",
       "        vertical-align: middle;\n",
       "    }\n",
       "\n",
       "    .dataframe tbody tr th {\n",
       "        vertical-align: top;\n",
       "    }\n",
       "\n",
       "    .dataframe thead th {\n",
       "        text-align: right;\n",
       "    }\n",
       "</style>\n",
       "<table border=\"1\" class=\"dataframe\">\n",
       "  <thead>\n",
       "    <tr style=\"text-align: right;\">\n",
       "      <th></th>\n",
       "      <th>차량번호</th>\n",
       "      <th>날짜차이</th>\n",
       "    </tr>\n",
       "  </thead>\n",
       "  <tbody>\n",
       "    <tr>\n",
       "      <th>16</th>\n",
       "      <td>01고6697</td>\n",
       "      <td>3</td>\n",
       "    </tr>\n",
       "    <tr>\n",
       "      <th>41428</th>\n",
       "      <td>01고6697</td>\n",
       "      <td>-70</td>\n",
       "    </tr>\n",
       "    <tr>\n",
       "      <th>63</th>\n",
       "      <td>01러1587</td>\n",
       "      <td>12</td>\n",
       "    </tr>\n",
       "    <tr>\n",
       "      <th>41436</th>\n",
       "      <td>01러1587</td>\n",
       "      <td>-1</td>\n",
       "    </tr>\n",
       "    <tr>\n",
       "      <th>66</th>\n",
       "      <td>01러6546</td>\n",
       "      <td>92</td>\n",
       "    </tr>\n",
       "  </tbody>\n",
       "</table>\n",
       "</div>"
      ],
      "text/plain": [
       "          차량번호  날짜차이\n",
       "16     01고6697     3\n",
       "41428  01고6697   -70\n",
       "63     01러1587    12\n",
       "41436  01러1587    -1\n",
       "66     01러6546    92"
      ]
     },
     "execution_count": 1430,
     "metadata": {},
     "output_type": "execute_result"
    }
   ],
   "source": [
    "temp = srt34_4.sort_values(['차량번호', '날짜차이'], ascending=[True, False])[['차량번호', '날짜차이']]\n",
    "temp[temp['차량번호'].duplicated(keep=False)][['차량번호', '날짜차이']].head()"
   ]
  },
  {
   "cell_type": "code",
   "execution_count": 1431,
   "metadata": {},
   "outputs": [
    {
     "data": {
      "text/plain": [
       "(42574, 50)"
      ]
     },
     "execution_count": 1431,
     "metadata": {},
     "output_type": "execute_result"
    }
   ],
   "source": [
    "srt34_5 = srt34_4.sort_values(['차량번호', '날짜차이'], ascending=[True, False]).drop_duplicates('차량번호').reset_index(drop=True)\n",
    "srt34_5.shape"
   ]
  },
  {
   "cell_type": "code",
   "execution_count": 1432,
   "metadata": {},
   "outputs": [
    {
     "data": {
      "text/html": [
       "<div>\n",
       "<style scoped>\n",
       "    .dataframe tbody tr th:only-of-type {\n",
       "        vertical-align: middle;\n",
       "    }\n",
       "\n",
       "    .dataframe tbody tr th {\n",
       "        vertical-align: top;\n",
       "    }\n",
       "\n",
       "    .dataframe thead th {\n",
       "        text-align: right;\n",
       "    }\n",
       "</style>\n",
       "<table border=\"1\" class=\"dataframe\">\n",
       "  <thead>\n",
       "    <tr style=\"text-align: right;\">\n",
       "      <th></th>\n",
       "      <th>차량번호</th>\n",
       "      <th>날짜차이</th>\n",
       "    </tr>\n",
       "  </thead>\n",
       "  <tbody>\n",
       "    <tr>\n",
       "      <th>16</th>\n",
       "      <td>01고6697</td>\n",
       "      <td>3</td>\n",
       "    </tr>\n",
       "  </tbody>\n",
       "</table>\n",
       "</div>"
      ],
      "text/plain": [
       "       차량번호  날짜차이\n",
       "16  01고6697     3"
      ]
     },
     "execution_count": 1432,
     "metadata": {},
     "output_type": "execute_result"
    }
   ],
   "source": [
    "srt34_5.loc[srt34_5['차량번호'] == '01고6697', ['차량번호', '날짜차이']]"
   ]
  },
  {
   "cell_type": "markdown",
   "metadata": {},
   "source": [
    "### 5\\. 매연RSD 매연 상위 3% 해당 데이터만 추출"
   ]
  },
  {
   "cell_type": "code",
   "execution_count": 1433,
   "metadata": {},
   "outputs": [
    {
     "data": {
      "text/plain": [
       "(42574, 50)"
      ]
     },
     "execution_count": 1433,
     "metadata": {},
     "output_type": "execute_result"
    }
   ],
   "source": [
    "srt34_6 = srt34_5.sort_values('매연', ascending=False).reset_index(drop=True)\n",
    "srt34_6.shape"
   ]
  },
  {
   "cell_type": "code",
   "execution_count": 1434,
   "metadata": {},
   "outputs": [
    {
     "data": {
      "text/plain": [
       "(1277.22, 1277)"
      ]
     },
     "execution_count": 1434,
     "metadata": {},
     "output_type": "execute_result"
    }
   ],
   "source": [
    "srt34_6.shape[0] * 0.03, math.floor(srt34_6.shape[0] * 0.03)"
   ]
  },
  {
   "cell_type": "code",
   "execution_count": 1435,
   "metadata": {},
   "outputs": [
    {
     "data": {
      "text/plain": [
       "(1278, 50)"
      ]
     },
     "execution_count": 1435,
     "metadata": {},
     "output_type": "execute_result"
    }
   ],
   "source": [
    "top3per = math.floor(srt34_6.shape[0] * 0.03)\n",
    "srt34_7 = srt34_6.iloc[:top3per+1]\n",
    "srt34_7.shape"
   ]
  },
  {
   "cell_type": "code",
   "execution_count": 1436,
   "metadata": {},
   "outputs": [
    {
     "data": {
      "text/plain": [
       "Index(['측정날짜', '측정시간', '기록상태', '유효', '속도', '가속도', '플래그', 'VSP', '매연', '차량번호',\n",
       "       '차선번호', '풍속', '습도', '온도', '측정장소코드', '연료', '연식', '배기량', '차종', '총중량',\n",
       "       '엔진형식', '등급', '차대번호', '차명', '폐차여부', '정밀검사일자', '정밀검사종류', '관능검사판정',\n",
       "       '정밀검사판정', '정밀검사측정방법', '무부하매연측정치1', '무부하매연허용치1', '무부하매연판정1', '무부하매연측정치2',\n",
       "       '무부하매연허용치2', '무부하매연판정2', '무부하매연측정치3', '무부하매연허용치3', '무부하매연판정3',\n",
       "       '무부하매연측정치4', '무부하매연허용치4', '무부하매연판정4', '무부하매연측정치5', '무부하매연허용치5',\n",
       "       '무부하매연판정5', '무부하매연측정치6', '무부하매연허용치6', '무부하매연판정6', '종합검사매연', '날짜차이'],\n",
       "      dtype='object')"
      ]
     },
     "execution_count": 1436,
     "metadata": {},
     "output_type": "execute_result"
    }
   ],
   "source": [
    "srt34_7.columns"
   ]
  },
  {
   "cell_type": "markdown",
   "metadata": {},
   "source": [
    "#### [출력] 매연 상위 3% 데이터"
   ]
  },
  {
   "cell_type": "code",
   "execution_count": 1437,
   "metadata": {},
   "outputs": [
    {
     "data": {
      "text/plain": [
       "'20240115'"
      ]
     },
     "execution_count": 1437,
     "metadata": {},
     "output_type": "execute_result"
    }
   ],
   "source": [
    "today_date = dt.datetime.today().strftime(\"%Y%m%d\")\n",
    "today_date"
   ]
  },
  {
   "cell_type": "code",
   "execution_count": 1438,
   "metadata": {},
   "outputs": [
    {
     "data": {
      "text/plain": [
       "(1278, 25)"
      ]
     },
     "execution_count": 1438,
     "metadata": {},
     "output_type": "execute_result"
    }
   ],
   "source": [
    "sdf34 = srt34_7[[\n",
    "    '측정날짜',\n",
    "    '측정시간',\n",
    "    '기록상태',\n",
    "    '유효',\n",
    "    '속도',\n",
    "    '가속도',\n",
    "    '플래그',\n",
    "    'VSP',\n",
    "    # '차선번호',\n",
    "    # '풍속',\n",
    "    # '습도',\n",
    "    # '온도',\n",
    "    # '측정장소코드',\n",
    "    '차대번호',\n",
    "    '차량번호',\n",
    "    '연료',\n",
    "    '연식',\n",
    "    '배기량',\n",
    "    '차종',\n",
    "    '총중량',\n",
    "    '엔진형식',\n",
    "    '등급',\n",
    "    '차명',\n",
    "    '폐차여부',\n",
    "    '정밀검사일자',\n",
    "    '정밀검사종류',\n",
    "    # '관능검사판정',\n",
    "    '매연',\n",
    "    '종합검사매연',\n",
    "    '정밀검사판정',\n",
    "    '정밀검사측정방법',\n",
    "    # '무부하매연측정치1',\n",
    "    # '무부하매연허용치1',\n",
    "    # '무부하매연판정1',\n",
    "    # '무부하매연측정치2',\n",
    "    # '무부하매연허용치2',\n",
    "    # '무부하매연판정2',\n",
    "    # '무부하매연측정치3',\n",
    "    # '무부하매연허용치3',\n",
    "    # '무부하매연판정3',\n",
    "    # '무부하매연측정치4',\n",
    "    # '무부하매연허용치4',\n",
    "    # '무부하매연판정4',\n",
    "    # '무부하매연측정치5',\n",
    "    # '무부하매연허용치5',\n",
    "    # '무부하매연판정5',\n",
    "    # '무부하매연측정치6',\n",
    "    # '무부하매연허용치6',\n",
    "    # '무부하매연판정6',\n",
    "    # '날짜차이'\n",
    "       ]]\n",
    "sdf34.shape"
   ]
  },
  {
   "cell_type": "code",
   "execution_count": 1439,
   "metadata": {},
   "outputs": [],
   "source": [
    "sdf34.to_excel(os.path.join(an_fold, f'34_매연_상위3%_데이터_{today_date}.xlsx'), index=False)"
   ]
  },
  {
   "cell_type": "markdown",
   "metadata": {},
   "source": [
    "## 35\\. 중복 측정 차량 매연 통계\n",
    "- 1\\. 3 <= VSP < 22\n",
    "- 2\\. 중복 측정 차량만 추출\n",
    "- 3\\. 차량당 매연 평균, 편차"
   ]
  },
  {
   "cell_type": "code",
   "execution_count": 1440,
   "metadata": {},
   "outputs": [
    {
     "data": {
      "text/plain": [
       "(248278, 48)"
      ]
     },
     "execution_count": 1440,
     "metadata": {},
     "output_type": "execute_result"
    }
   ],
   "source": [
    "srt34_1.shape"
   ]
  },
  {
   "cell_type": "code",
   "execution_count": 1441,
   "metadata": {},
   "outputs": [
    {
     "data": {
      "text/plain": [
       "count   248278.00\n",
       "mean        14.30\n",
       "std        100.85\n",
       "min       -134.53\n",
       "25%         10.42\n",
       "50%         13.61\n",
       "75%         17.30\n",
       "max      48750.00\n",
       "Name: VSP, dtype: float64"
      ]
     },
     "execution_count": 1441,
     "metadata": {},
     "output_type": "execute_result"
    }
   ],
   "source": [
    "srt34_1['VSP'].describe()"
   ]
  },
  {
   "cell_type": "code",
   "execution_count": 1442,
   "metadata": {},
   "outputs": [
    {
     "data": {
      "text/plain": [
       "(222342, 48)"
      ]
     },
     "execution_count": 1442,
     "metadata": {},
     "output_type": "execute_result"
    }
   ],
   "source": [
    "srt35_1 = srt34_1[(srt34_1['VSP'] >= 3) & (srt34_1['VSP'] < 22)].reset_index(drop=True)\n",
    "srt35_1.shape"
   ]
  },
  {
   "cell_type": "code",
   "execution_count": 1443,
   "metadata": {},
   "outputs": [
    {
     "data": {
      "text/plain": [
       "(188009, 48)"
      ]
     },
     "execution_count": 1443,
     "metadata": {},
     "output_type": "execute_result"
    }
   ],
   "source": [
    "srt35_2 = srt35_1[srt35_1['차량번호'].duplicated(keep=False)].sort_values('차량번호').reset_index(drop=True)\n",
    "srt35_2.shape"
   ]
  },
  {
   "cell_type": "code",
   "execution_count": 1444,
   "metadata": {},
   "outputs": [
    {
     "data": {
      "text/plain": [
       "(188009, 50)"
      ]
     },
     "execution_count": 1444,
     "metadata": {},
     "output_type": "execute_result"
    }
   ],
   "source": [
    "srt35_3 = srt35_2.copy()\n",
    "srt35_3['매연평균'] = srt35_3.groupby(['차량번호'])['매연'].transform('mean')\n",
    "srt35_3['매연편차'] = srt35_3['매연'] - srt35_3['매연평균']\n",
    "srt35_3.shape"
   ]
  },
  {
   "cell_type": "code",
   "execution_count": 1445,
   "metadata": {},
   "outputs": [
    {
     "data": {
      "text/plain": [
       "차량번호    0\n",
       "매연      0\n",
       "매연평균    0\n",
       "매연편차    0\n",
       "dtype: int64"
      ]
     },
     "execution_count": 1445,
     "metadata": {},
     "output_type": "execute_result"
    }
   ],
   "source": [
    "srt35_3[['차량번호', '매연', '매연평균', '매연편차']].isnull().sum()"
   ]
  },
  {
   "cell_type": "code",
   "execution_count": 1446,
   "metadata": {},
   "outputs": [
    {
     "data": {
      "text/html": [
       "<div>\n",
       "<style scoped>\n",
       "    .dataframe tbody tr th:only-of-type {\n",
       "        vertical-align: middle;\n",
       "    }\n",
       "\n",
       "    .dataframe tbody tr th {\n",
       "        vertical-align: top;\n",
       "    }\n",
       "\n",
       "    .dataframe thead th {\n",
       "        text-align: right;\n",
       "    }\n",
       "</style>\n",
       "<table border=\"1\" class=\"dataframe\">\n",
       "  <thead>\n",
       "    <tr style=\"text-align: right;\">\n",
       "      <th></th>\n",
       "      <th>차량번호</th>\n",
       "      <th>매연</th>\n",
       "      <th>매연평균</th>\n",
       "      <th>매연편차</th>\n",
       "    </tr>\n",
       "  </thead>\n",
       "  <tbody>\n",
       "    <tr>\n",
       "      <th>0</th>\n",
       "      <td>01가0338</td>\n",
       "      <td>1.20</td>\n",
       "      <td>0.60</td>\n",
       "      <td>0.60</td>\n",
       "    </tr>\n",
       "    <tr>\n",
       "      <th>1</th>\n",
       "      <td>01가0338</td>\n",
       "      <td>0.00</td>\n",
       "      <td>0.60</td>\n",
       "      <td>-0.60</td>\n",
       "    </tr>\n",
       "    <tr>\n",
       "      <th>2</th>\n",
       "      <td>01가0656</td>\n",
       "      <td>0.50</td>\n",
       "      <td>0.65</td>\n",
       "      <td>-0.15</td>\n",
       "    </tr>\n",
       "    <tr>\n",
       "      <th>3</th>\n",
       "      <td>01가0656</td>\n",
       "      <td>0.00</td>\n",
       "      <td>0.65</td>\n",
       "      <td>-0.65</td>\n",
       "    </tr>\n",
       "    <tr>\n",
       "      <th>4</th>\n",
       "      <td>01가0656</td>\n",
       "      <td>1.20</td>\n",
       "      <td>0.65</td>\n",
       "      <td>0.55</td>\n",
       "    </tr>\n",
       "  </tbody>\n",
       "</table>\n",
       "</div>"
      ],
      "text/plain": [
       "      차량번호   매연  매연평균  매연편차\n",
       "0  01가0338 1.20  0.60  0.60\n",
       "1  01가0338 0.00  0.60 -0.60\n",
       "2  01가0656 0.50  0.65 -0.15\n",
       "3  01가0656 0.00  0.65 -0.65\n",
       "4  01가0656 1.20  0.65  0.55"
      ]
     },
     "execution_count": 1446,
     "metadata": {},
     "output_type": "execute_result"
    }
   ],
   "source": [
    "srt35_3[['차량번호', '매연', '매연평균', '매연편차']].head()"
   ]
  },
  {
   "cell_type": "markdown",
   "metadata": {},
   "source": [
    "### [출력] 중복 측정 차량 매연 통계"
   ]
  },
  {
   "cell_type": "code",
   "execution_count": 1447,
   "metadata": {},
   "outputs": [
    {
     "data": {
      "text/plain": [
       "(188009, 50)"
      ]
     },
     "execution_count": 1447,
     "metadata": {},
     "output_type": "execute_result"
    }
   ],
   "source": [
    "srt35_3.shape"
   ]
  },
  {
   "cell_type": "code",
   "execution_count": 1448,
   "metadata": {},
   "outputs": [
    {
     "data": {
      "text/plain": [
       "Index(['측정날짜', '측정시간', '기록상태', '유효', '속도', '가속도', '플래그', 'VSP', '매연', '차량번호',\n",
       "       '차선번호', '풍속', '습도', '온도', '측정장소코드', '연료', '연식', '배기량', '차종', '총중량',\n",
       "       '엔진형식', '등급', '차대번호', '차명', '폐차여부', '정밀검사일자', '정밀검사종류', '관능검사판정',\n",
       "       '정밀검사판정', '정밀검사측정방법', '무부하매연측정치1', '무부하매연허용치1', '무부하매연판정1', '무부하매연측정치2',\n",
       "       '무부하매연허용치2', '무부하매연판정2', '무부하매연측정치3', '무부하매연허용치3', '무부하매연판정3',\n",
       "       '무부하매연측정치4', '무부하매연허용치4', '무부하매연판정4', '무부하매연측정치5', '무부하매연허용치5',\n",
       "       '무부하매연판정5', '무부하매연측정치6', '무부하매연허용치6', '무부하매연판정6', '매연평균', '매연편차'],\n",
       "      dtype='object')"
      ]
     },
     "execution_count": 1448,
     "metadata": {},
     "output_type": "execute_result"
    }
   ],
   "source": [
    "srt35_3.columns"
   ]
  },
  {
   "cell_type": "code",
   "execution_count": 1449,
   "metadata": {},
   "outputs": [],
   "source": [
    "# 1m 24.4s\n",
    "srt35_3.to_excel(os.path.join(an_fold, f'35_중복측정차량_매연통계_{today_date}.xlsx'), index=False)"
   ]
  },
  {
   "cell_type": "markdown",
   "metadata": {},
   "source": [
    "## 결과 출력"
   ]
  },
  {
   "cell_type": "code",
   "execution_count": 1450,
   "metadata": {},
   "outputs": [
    {
     "data": {
      "text/plain": [
       "'20240115'"
      ]
     },
     "execution_count": 1450,
     "metadata": {},
     "output_type": "execute_result"
    }
   ],
   "source": [
    "today_date = dt.datetime.today().strftime(\"%Y%m%d\")\n",
    "today_date"
   ]
  },
  {
   "cell_type": "code",
   "execution_count": 1451,
   "metadata": {},
   "outputs": [],
   "source": [
    "with pd.ExcelWriter(os.path.join(an_fold, f'매연RSD측정결과_분석(제공차량제원)({today_date}).xlsx')) as writer:\n",
    "    grp1.to_excel(writer, sheet_name='1_연료별', index=False)\n",
    "    grp2.to_excel(writer, sheet_name='2_경유_차종별', index=False)\n",
    "    grp3.to_excel(writer, sheet_name='3_경유_연식별', index=False)\n",
    "    grp4.to_excel(writer, sheet_name='4_경유_차선별', index=False)\n",
    "    grp5.to_excel(writer, sheet_name='5_경유_속도별', index=False)\n",
    "    grp6.to_excel(writer, sheet_name='6_경유_배출가스등급별', index=False)\n",
    "    grp7.to_excel(writer, sheet_name='7_경유_배기량별', index=False)\n",
    "    grp8.to_excel(writer, sheet_name='8_경유_차량중량별', index=False)\n",
    "    grp9.to_excel(writer, sheet_name='9_경유_매연허용기준별', index=False)\n",
    "    grp10.to_excel(writer, sheet_name='10_경유_NOx허용기준별', index=False)\n",
    "\n",
    "    grp11.to_excel(writer, sheet_name='11_농도별', index=False)\n",
    "    grp12.to_excel(writer, sheet_name='12_농도_차종별', index=True)\n",
    "    grp13.to_excel(writer, sheet_name='13_농도_연식별', index=True)\n",
    "    grp14.to_excel(writer, sheet_name='14_농도_측정속도별', index=True)\n",
    "    grp15.to_excel(writer, sheet_name='15_농도_배출가스등급별', index=True)\n",
    "    grp16.to_excel(writer, sheet_name='16_농도_배기량별', index=True)\n",
    "    grp17.to_excel(writer, sheet_name='17_농도_차량중량별', index=True)\n",
    "    grp18.to_excel(writer, sheet_name='18_농도_매연허용기준별', index=True)\n",
    "    grp19.to_excel(writer, sheet_name='19_농도_NOx허용기준별', index=True)\n",
    "\n",
    "    grp20.to_excel(writer, sheet_name='20_매연_적합_부적합비율(상위10%)', index=False)\n",
    "    grp21.to_excel(writer, sheet_name='21_매연_적합_부적합비율(하위90%)', index=False)\n",
    "    grp22.to_excel(writer, sheet_name='22_매연_적합_부적합비율(하위10%)', index=False)\n",
    "    grp23.to_excel(writer, sheet_name='23_엔진형식별_매연_정밀매연', index=False)\n",
    "    # grp24.to_excel(writer, sheet_name='24_매연_정밀매연_비교', index=False) # 시각화방법 고민\n",
    "    # grp25.to_excel(writer, sheet_name='25_매연_적합_부적합비율', index=False) # 20 ~ 22번 한번에 처리\n",
    "    # grp26.to_excel(writer, sheet_name='26_매연측정값과_매연RSD비교', index=False) # 차후 논의\n",
    "\n",
    "    # grp27.to_excel(writer, sheet_name='27_매연농도와_매연RSD_1대1비교', index=False) # 차후 논의\n",
    "    \n",
    "    grp28.to_excel(writer, sheet_name='28_시험일후_최초검사_부적합', index=False) # 문의 필요\n",
    "    grp29.to_excel(writer, sheet_name='29_시험일후_최종검사_부적합', index=False) # 문의 필요\n",
    "\n",
    "    # grp30.to_excel(writer, sheet_name='30_종합검사NOx와_RSD매연_1대1비교', index=False) # 차후 논의\n",
    "\n",
    "    # grp31.to_excel(writer, sheet_name='31_일자별_유효_측정수량', index=False) # 보류\n",
    "\n",
    "    grp32.to_excel(writer, sheet_name='32_매연농도_상위5%단위_측정건수_매연기여도분석', index=False)\n",
    "    grp33.to_excel(writer, sheet_name='33_연식별_측정건수_중_매연8%초과_비율분석', index=False)"
   ]
  },
  {
   "cell_type": "code",
   "execution_count": 1452,
   "metadata": {},
   "outputs": [
    {
     "name": "stdout",
     "output_type": "stream",
     "text": [
      "0:01:44\n"
     ]
    }
   ],
   "source": [
    "sec = time.time() - start_time\n",
    "print(str(dt.timedelta(seconds=sec)).split('.')[0])"
   ]
  },
  {
   "cell_type": "markdown",
   "metadata": {},
   "source": [
    "# End"
   ]
  }
 ],
 "metadata": {
  "kernelspec": {
   "display_name": "base",
   "language": "python",
   "name": "python3"
  },
  "language_info": {
   "codemirror_mode": {
    "name": "ipython",
    "version": 3
   },
   "file_extension": ".py",
   "mimetype": "text/x-python",
   "name": "python",
   "nbconvert_exporter": "python",
   "pygments_lexer": "ipython3",
   "version": "3.11.5"
  },
  "orig_nbformat": 4
 },
 "nbformat": 4,
 "nbformat_minor": 2
}
