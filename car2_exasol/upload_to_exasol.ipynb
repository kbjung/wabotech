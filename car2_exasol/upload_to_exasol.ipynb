{
 "cells": [
  {
   "cell_type": "markdown",
   "metadata": {},
   "source": [
    "# Library\n"
   ]
  },
  {
   "cell_type": "code",
   "execution_count": 1,
   "metadata": {
    "tags": []
   },
   "outputs": [],
   "source": [
    "import pandas as pd\n",
    "import os\n",
    "import pyexasol"
   ]
  },
  {
   "cell_type": "markdown",
   "metadata": {},
   "source": [
    "# folder"
   ]
  },
  {
   "cell_type": "code",
   "execution_count": 2,
   "metadata": {},
   "outputs": [],
   "source": [
    "raw1_fold = 'D:/data/big2/BD1/raw'\n",
    "df1_fold = 'D:/data/big2/BD1/df'\n",
    "raw3_fold = 'D:/data/big2/BD3/raw'\n",
    "df3_fold = 'D:/data/big2/BD3/df'"
   ]
  },
  {
   "cell_type": "code",
   "execution_count": 3,
   "metadata": {},
   "outputs": [],
   "source": [
    "sys_fold = 'D:/data/big2/sys'"
   ]
  },
  {
   "cell_type": "markdown",
   "metadata": {},
   "source": [
    "# server"
   ]
  },
  {
   "cell_type": "code",
   "execution_count": 4,
   "metadata": {
    "tags": []
   },
   "outputs": [],
   "source": [
    "# # insider db\n",
    "# wd = pyexasol.connect(dsn='172.29.135.35/F99FAB2444F86051A9A467F6313FAAB48AF7C4760663430958E3B89A9DC53361:8563', user='sys', password='exasol', compression=True, schema='VSYSD')\n",
    "# we = pyexasol.connect(dsn='172.29.135.35/F99FAB2444F86051A9A467F6313FAAB48AF7C4760663430958E3B89A9DC53361:8563', user='sys', password='exasol', compression=True, schema='VSYSE')"
   ]
  },
  {
   "cell_type": "code",
   "execution_count": 5,
   "metadata": {},
   "outputs": [],
   "source": [
    "# exasol db\n",
    "wd = pyexasol.connect(dsn='dev.openankus.org:8563', user='sys', password='djslzja', compression=True, schema='VSYSD')\n",
    "we = pyexasol.connect(dsn='dev.openankus.org:8563', user='sys', password='djslzja', compression=True, schema='VSYSE')\n",
    "# wbt = pyexasol.connect(dsn='dev.openankus.org:8563', user='sys', password='djslzja', compression=True, schema='wbt')"
   ]
  },
  {
   "cell_type": "markdown",
   "metadata": {},
   "source": [
    "# 분석 테이블 리스트"
   ]
  },
  {
   "cell_type": "code",
   "execution_count": 104,
   "metadata": {},
   "outputs": [
    {
     "data": {
      "text/plain": [
       "(33, 8)"
      ]
     },
     "execution_count": 104,
     "metadata": {},
     "output_type": "execute_result"
    }
   ],
   "source": [
    "# 분석 결과 테이블 41개\n",
    "# 분석 참고 테이블 3개\n",
    "# 동양 요청 테이블 2개\n",
    "varchar_type_list = [\n",
    "    # 'STD_BD_KOSIS', # 분석시 참고 테이블\n",
    "    'STD_BD_GRD4_CAR_CURSTT', # 과제1\n",
    "    'STD_BD_GRD4_CAR_CURSTT_TOT', # 과제1\n",
    "    'STD_BD_GRD4_ELPDSRC_CURSTT', # 과제1\n",
    "    'STD_BD_GRD4_MLSFC_RSLT', # 과제1\n",
    "    'STD_BD_DAT_GRD4_MLSFC', # 과제1\n",
    "    'STD_BD_DAT_GRD4_DTL_INFO', # 과제1\n",
    "    'STD_BD_GRD4_RGN_CURSTT', # 과제1\n",
    "    'STD_BD_GRD4_RGN_CURSTT_MOD', # 과제1\n",
    "    'STD_BD_DAT_GRD4_CAR_CURSTT', # 과제1\n",
    "    'STD_BD_GRD4_EXHST_GAS_MSS_TOT', # 과제1\n",
    "    'STD_BD_GRD4_EXHST_GAS_MSS', # 과제1\n",
    "    'STD_BD_DAT_GRD4_MEVLU', # 과제1\n",
    "    'STD_BD_CAR_CURSTT_MOD', # 과제3\n",
    "    'STD_BD_CAR_CURSTT_MOD2', # 과제3\n",
    "    'STD_BD_CAR_CURSTT', # 과제3\n",
    "    'STD_BD_CAR_REG_MKCNT', # 과제3\n",
    "    'STD_BD_CAR_PRET', # 과제3\n",
    "    'STD_BD_HYBRD_CAR_PRET', # 과제3\n",
    "    'STD_BD_FUEL_GRD_VHCL_CURSTT_PRET', # 과제3\n",
    "    'STD_BD_ECO_CAR_PRET', # 과제3\n",
    "    'STD_BD_ERSR_RSLT', # 과제3\n",
    "    'STD_BD_DAT_GRD_CURSTT', # 과제3\n",
    "    'STD_BD_DAT_FUEL_CAR_DEC', # 과제3\n",
    "    'STD_BD_SEASON_CRDN_NOCS_CURSTT', # 과제3\n",
    "    'STD_BD_ORDITM_DSCL_CURSTT', # 과제3\n",
    "    'STD_BD_SEASON_DSCL_RGN_CURSTT', # 과제3\n",
    "    'STD_BD_DAT_RUN_LMT_CURSTT', # 과제3\n",
    "    'STD_BD_GRD4_DS_CRRLTN_CFFCNT', # 과제3\n",
    "    'STD_BD_GRD4_LEM_PRIO_ORD_SELCT_CURSTT', # 과제3\n",
    "    'STD_BD_GRD5_DS_CRRLTN_CFFCNT', # 과제3\n",
    "    'STD_BD_GRD5_LEM_PRIO_ORD_SELCT_CURSTT', # 과제3\n",
    "    'STD_BD_DAT_LEM_SELCT', # 과제3\n",
    "    'STD_BD_DAT_SELCT_PNT_CURSTT', # 과제3\n",
    "]\n",
    "normal_type_list = [\n",
    "    # 'STD_BD_TB_MAPDATA', # 분석시 참고 테이블\n",
    "    # 'STD_BD_GRD4_RESULT', # 분석시 참고 테이블\n",
    "    'STD_BD_DAT_GRD4_CERT_NO_RVW', # 과제1\n",
    "    'STD_BD_DAT_GRD4_SI', # 과제1\n",
    "    'STD_BD_GRD4_SI', # 과제1\n",
    "    'STD_BD_DAT_GRD4_EXHST_MSS_CURSTT', # 과제1\n",
    "    'STD_BD_GRD5_ELPDSRC_CURSTT', # 과제3\n",
    "    'STD_BD_GRD5_LEM_N_MOD', # 과제3\n",
    "    'STD_BD_SEASON_DY_AVRG_CRDN_NOCS', # 과제3\n",
    "    'STD_BD_DAT_GRD5_REDUC_BIZ', # 과제3\n",
    "    # 'STD_BD_CAR_CURSTT_MOD_4RD_INS', # 동양 요청 테이블\n",
    "    # 'STD_BD_CAR_CURSTT_MOD2_4RD_INS', # 동양 요청 테이블\n",
    "]\n",
    "len(varchar_type_list), len(normal_type_list)"
   ]
  },
  {
   "cell_type": "markdown",
   "metadata": {},
   "source": [
    "# Load"
   ]
  },
  {
   "cell_type": "markdown",
   "metadata": {},
   "source": [
    "## STD_BD_TB_MAPDATA(RH에서 제공한 법정동코드)"
   ]
  },
  {
   "cell_type": "code",
   "execution_count": 5,
   "metadata": {},
   "outputs": [
    {
     "name": "stdout",
     "output_type": "stream",
     "text": [
      "<class 'pandas.core.frame.DataFrame'>\n",
      "RangeIndex: 3799 entries, 0 to 3798\n",
      "Data columns (total 7 columns):\n",
      " #   Column       Non-Null Count  Dtype  \n",
      "---  ------       --------------  -----  \n",
      " 0   DONG_CODE    3799 non-null   int64  \n",
      " 1   CTPRVN_CODE  3798 non-null   float64\n",
      " 2   SIGNGU_CODE  3798 non-null   float64\n",
      " 3   SDSTRD_CODE  3798 non-null   float64\n",
      " 4   CTPRVN_NM    3799 non-null   object \n",
      " 5   SIGNGU_NM    3757 non-null   object \n",
      " 6   SDSTRD_NM    3521 non-null   object \n",
      "dtypes: float64(3), int64(1), object(3)\n",
      "memory usage: 207.9+ KB\n"
     ]
    }
   ],
   "source": [
    "# # name = 'tb_mapdata_gu(2023.04.20)'\n",
    "# name = 'STD_BD_TB_MAPDATA'\n",
    "# file_name = f'{name}.csv'\n",
    "# STD_BD_TB_MAPDATA = pd.read_csv(os.path.join(sys_fold, file_name), low_memory=False)\n",
    "# STD_BD_TB_MAPDATA.info()"
   ]
  },
  {
   "cell_type": "code",
   "execution_count": 6,
   "metadata": {},
   "outputs": [],
   "source": [
    "# expdf = STD_BD_TB_MAPDATA\n",
    "# table_nm = 'STD_BD_TB_MAPDATA'.upper()\n",
    "\n",
    "# # 테이블 생성\n",
    "# sql = 'create or replace table ' + table_nm + '( \\n'\n",
    "\n",
    "# for idx,column in enumerate(expdf.columns):\n",
    "#     if 'float' in expdf[column].dtype.name:\n",
    "#         sql += column + ' float'\n",
    "#     elif 'int' in expdf[column].dtype.name:\n",
    "#         sql += column + ' number'\n",
    "#     else:\n",
    "#         sql += column + ' varchar(255)'\n",
    "\n",
    "#     if len(expdf.columns) - 1 != idx:\n",
    "#         sql += ','\n",
    "#     sql += '\\n'\n",
    "# sql += ')'    \n",
    "# we.execute(sql)\n",
    "\n",
    "# # 데이터 추가\n",
    "# # 1s\n",
    "# we.import_from_pandas(expdf, table_nm)"
   ]
  },
  {
   "cell_type": "code",
   "execution_count": 7,
   "metadata": {},
   "outputs": [
    {
     "data": {
      "text/plain": [
       "'create or replace table STD_BD_TB_MAPDATA( \\nDONG_CODE number,\\nCTPRVN_CODE float,\\nSIGNGU_CODE float,\\nSDSTRD_CODE float,\\nCTPRVN_NM varchar(255),\\nSIGNGU_NM varchar(255),\\nSDSTRD_NM varchar(255)\\n)'"
      ]
     },
     "execution_count": 7,
     "metadata": {},
     "output_type": "execute_result"
    }
   ],
   "source": [
    "# sql"
   ]
  },
  {
   "cell_type": "markdown",
   "metadata": {},
   "source": [
    "## STD_BD_GRD4_RESULT(4등급 result)"
   ]
  },
  {
   "cell_type": "code",
   "execution_count": 8,
   "metadata": {},
   "outputs": [],
   "source": [
    "# # 9.9s\n",
    "# # name = '4등급_차량_리스트_양식_result_최종(전체)(2023.07.03)'\n",
    "# name = 'STD_BD_GRD4_RESULT'\n",
    "# file_name = f'{name}.csv'\n",
    "# STD_BD_GRD4_RESULT = pd.read_csv(os.path.join(sys_fold, file_name), low_memory=False)\n",
    "# STD_BD_GRD4_RESULT.info()"
   ]
  },
  {
   "cell_type": "code",
   "execution_count": 9,
   "metadata": {},
   "outputs": [],
   "source": [
    "# expdf = STD_BD_GRD4_RESULT\n",
    "# table_nm = 'STD_BD_GRD4_RESULT'.upper()\n",
    "\n",
    "# # 테이블 생성\n",
    "# sql = 'create or replace table ' + table_nm + '( \\n'\n",
    "\n",
    "# for idx,column in enumerate(expdf.columns):\n",
    "#     if 'float' in expdf[column].dtype.name:\n",
    "#         sql += column + ' float'\n",
    "#     elif 'int' in expdf[column].dtype.name:\n",
    "#         sql += column + ' number'\n",
    "#     else:\n",
    "#         sql += column + ' varchar(255)'\n",
    "\n",
    "#     if len(expdf.columns) - 1 != idx:\n",
    "#         sql += ','\n",
    "#     sql += '\\n'\n",
    "# sql += ')'    \n",
    "# we.execute(sql)\n",
    "\n",
    "# # 데이터 추가\n",
    "# # 1s\n",
    "# we.import_from_pandas(expdf, table_nm)"
   ]
  },
  {
   "cell_type": "code",
   "execution_count": 10,
   "metadata": {},
   "outputs": [],
   "source": [
    "# sql"
   ]
  },
  {
   "cell_type": "markdown",
   "metadata": {},
   "source": [
    "## STD_BD_KOSIS"
   ]
  },
  {
   "cell_type": "code",
   "execution_count": 11,
   "metadata": {},
   "outputs": [
    {
     "name": "stdout",
     "output_type": "stream",
     "text": [
      "<class 'pandas.core.frame.DataFrame'>\n",
      "RangeIndex: 1230 entries, 0 to 1229\n",
      "Data columns (total 4 columns):\n",
      " #   Column               Non-Null Count  Dtype  \n",
      "---  ------               --------------  -----  \n",
      " 0   CTPV                 1230 non-null   object \n",
      " 1   SGG                  1230 non-null   object \n",
      " 2   VHCTY_CD             1230 non-null   object \n",
      " 3   DY_AVRG_DRVNG_DSTNC  1230 non-null   float64\n",
      "dtypes: float64(1), object(3)\n",
      "memory usage: 38.6+ KB\n"
     ]
    }
   ],
   "source": [
    "# # 9.9s\n",
    "# name = 'STD_BD_KOSIS'\n",
    "# file_name = f'{name}.csv'\n",
    "# STD_BD_KOSIS = pd.read_csv(os.path.join(sys_fold, file_name), low_memory=False)\n",
    "# STD_BD_KOSIS.info()"
   ]
  },
  {
   "cell_type": "code",
   "execution_count": 12,
   "metadata": {},
   "outputs": [],
   "source": [
    "# expdf = STD_BD_KOSIS\n",
    "# table_nm = 'STD_BD_KOSIS'.upper()\n",
    "\n",
    "# # 테이블 생성\n",
    "# sql = 'create or replace table ' + table_nm + '( \\n'\n",
    "\n",
    "# for idx,column in enumerate(expdf.columns):\n",
    "#     # if 'float' in expdf[column].dtype.name:\n",
    "#     #     sql += column + ' float'\n",
    "#     # elif 'int' in expdf[column].dtype.name:\n",
    "#     #     sql += column + ' number'\n",
    "#     # else:\n",
    "#     sql += column + ' varchar(255)'\n",
    "\n",
    "#     if len(expdf.columns) - 1 != idx:\n",
    "#         sql += ','\n",
    "#     sql += '\\n'\n",
    "# sql += ')'    \n",
    "# we.execute(sql)\n",
    "\n",
    "# # 데이터 추가\n",
    "# # 1s\n",
    "# we.import_from_pandas(expdf, table_nm)"
   ]
  },
  {
   "cell_type": "markdown",
   "metadata": {},
   "source": [
    "# BD1"
   ]
  },
  {
   "cell_type": "markdown",
   "metadata": {},
   "source": [
    "## STD_BD_GRD4_CAR_CURSTT"
   ]
  },
  {
   "cell_type": "code",
   "execution_count": 7,
   "metadata": {},
   "outputs": [
    {
     "name": "stdout",
     "output_type": "stream",
     "text": [
      "<class 'pandas.core.frame.DataFrame'>\n",
      "RangeIndex: 1390266 entries, 0 to 1390265\n",
      "Data columns (total 27 columns):\n",
      " #   Column                 Non-Null Count    Dtype  \n",
      "---  ------                 --------------    -----  \n",
      " 0   IDX                    1390266 non-null  int64  \n",
      " 1   LOAD_DT                1390266 non-null  int64  \n",
      " 2   CRTR_YM                1390266 non-null  float64\n",
      " 3   VIN                    1390266 non-null  object \n",
      " 4   MANG_MNG_NO            1390266 non-null  object \n",
      " 5   VHCTY_CD               1390264 non-null  object \n",
      " 6   PURPS_CD2              1390266 non-null  object \n",
      " 7   YRIDNW                 1390266 non-null  int64  \n",
      " 8   VHCTY_TY               1390266 non-null  object \n",
      " 9   FUEL_CD                1390197 non-null  object \n",
      " 10  STDG_CD                1390266 non-null  int64  \n",
      " 11  CTPV_NM                1390266 non-null  object \n",
      " 12  SGG_NM                 1382812 non-null  object \n",
      " 13  VHCNM                  1390266 non-null  object \n",
      " 14  MNFCTR_NM              1380693 non-null  object \n",
      " 15  EXHST_GAS_CERT_NO_MOD  1271957 non-null  object \n",
      " 16  EXHST_GAS_GRD_CD_MOD   1390266 non-null  int64  \n",
      " 17  DPF_MNTNG_YN           1052613 non-null  object \n",
      " 18  INSP_MTHD              1137427 non-null  object \n",
      " 19  INSP_KND               1137425 non-null  object \n",
      " 20  INSP_JGMT              1137427 non-null  object \n",
      " 21  NOLOD_SMO_MEVLU1       1128424 non-null  float64\n",
      " 22  NOLOD_SMO_JGMT_YN1     1128423 non-null  object \n",
      " 23  NOLOD_SMO_MEVLU2       426732 non-null   float64\n",
      " 24  NOLOD_SMO_MEVLU3       395736 non-null   float64\n",
      " 25  STDG_CD_MOD            1390266 non-null  int64  \n",
      " 26  GRD4_MLSFC             1390266 non-null  object \n",
      "dtypes: float64(4), int64(6), object(17)\n",
      "memory usage: 286.4+ MB\n"
     ]
    }
   ],
   "source": [
    "STD_BD_GRD4_CAR_CURSTT = pd.read_csv(os.path.join(sys_fold, 'STD_BD_GRD4_CAR_CURSTT.csv'), low_memory=False)\n",
    "STD_BD_GRD4_CAR_CURSTT.info()"
   ]
  },
  {
   "cell_type": "code",
   "execution_count": 8,
   "metadata": {},
   "outputs": [],
   "source": [
    "expdf = STD_BD_GRD4_CAR_CURSTT\n",
    "table_nm = 'STD_BD_GRD4_CAR_CURSTT'.upper()\n",
    "\n",
    "# 테이블 생성\n",
    "sql = 'create or replace table ' + table_nm + '( \\n'\n",
    "\n",
    "for idx,column in enumerate(expdf.columns):\n",
    "    # if 'float' in expdf[column].dtype.name:\n",
    "    #     sql += column + ' float'\n",
    "    # elif 'int' in expdf[column].dtype.name:\n",
    "    #     sql += column + ' number'\n",
    "    # else:\n",
    "    sql += column + ' varchar(255)'\n",
    "\n",
    "    if len(expdf.columns) - 1 != idx:\n",
    "        sql += ','\n",
    "    sql += '\\n'\n",
    "sql += ')'    \n",
    "we.execute(sql)\n",
    "\n",
    "# 데이터 추가\n",
    "# 9s\n",
    "we.import_from_pandas(expdf, table_nm)"
   ]
  },
  {
   "cell_type": "markdown",
   "metadata": {},
   "source": [
    "## STD_BD_GRD4_SI"
   ]
  },
  {
   "cell_type": "code",
   "execution_count": 9,
   "metadata": {},
   "outputs": [
    {
     "name": "stdout",
     "output_type": "stream",
     "text": [
      "<class 'pandas.core.frame.DataFrame'>\n",
      "RangeIndex: 1052697 entries, 0 to 1052696\n",
      "Data columns (total 11 columns):\n",
      " #   Column                 Non-Null Count    Dtype  \n",
      "---  ------                 --------------    -----  \n",
      " 0   IDX                    1052697 non-null  int64  \n",
      " 1   LOAD_DT                1052697 non-null  int64  \n",
      " 2   VIN                    1052697 non-null  object \n",
      " 3   MANG_MNG_NO            1052697 non-null  object \n",
      " 4   VHCNM                  1052697 non-null  object \n",
      " 5   MNFCTR_NM              1052680 non-null  object \n",
      " 6   EXHST_GAS_CERT_NO_MOD  1046165 non-null  object \n",
      " 7   INSP_MTHD              1047878 non-null  object \n",
      " 8   DRVNG_DSTNC            1047672 non-null  float64\n",
      " 9   VHCAG                  1052697 non-null  int64  \n",
      " 10  SI                     1006355 non-null  float64\n",
      "dtypes: float64(2), int64(3), object(6)\n",
      "memory usage: 88.3+ MB\n"
     ]
    }
   ],
   "source": [
    "STD_BD_GRD4_SI = pd.read_csv(os.path.join(sys_fold, 'STD_BD_GRD4_SI.csv'))\n",
    "STD_BD_GRD4_SI.info()"
   ]
  },
  {
   "cell_type": "code",
   "execution_count": 10,
   "metadata": {},
   "outputs": [],
   "source": [
    "expdf = STD_BD_GRD4_SI\n",
    "table_nm = 'STD_BD_GRD4_SI'.upper()\n",
    "\n",
    "# 테이블 생성\n",
    "sql = 'create or replace table ' + table_nm + '( \\n'\n",
    "\n",
    "for idx,column in enumerate(expdf.columns):\n",
    "    # if 'float' in expdf[column].dtype.name:\n",
    "    #     sql += column + ' float'\n",
    "    # elif 'int' in expdf[column].dtype.name:\n",
    "    #     sql += column + ' number'\n",
    "    # else:\n",
    "    sql += column + ' varchar(255)'\n",
    "\n",
    "    if len(expdf.columns) - 1 != idx:\n",
    "        sql += ','\n",
    "    sql += '\\n'\n",
    "sql += ')'    \n",
    "we.execute(sql)\n",
    "\n",
    "# 데이터 추가\n",
    "# 6s\n",
    "we.import_from_pandas(expdf, table_nm)"
   ]
  },
  {
   "cell_type": "markdown",
   "metadata": {},
   "source": [
    "## STD_BD_GRD4_CAR_CURSTT_TOT"
   ]
  },
  {
   "cell_type": "code",
   "execution_count": 11,
   "metadata": {},
   "outputs": [
    {
     "name": "stdout",
     "output_type": "stream",
     "text": [
      "<class 'pandas.core.frame.DataFrame'>\n",
      "RangeIndex: 1403 entries, 0 to 1402\n",
      "Data columns (total 11 columns):\n",
      " #   Column                 Non-Null Count  Dtype  \n",
      "---  ------                 --------------  -----  \n",
      " 0   IDX                    1403 non-null   int64  \n",
      " 1   LOAD_DT                1403 non-null   int64  \n",
      " 2   VHCNM                  1403 non-null   object \n",
      " 3   MNFCTR_NM              1403 non-null   object \n",
      " 4   MANG_MNG_NO            1403 non-null   object \n",
      " 5   EXHST_GAS_CERT_NO_MOD  1392 non-null   object \n",
      " 6   INSP_MTHD              1403 non-null   object \n",
      " 7   LOWR_QRT               1403 non-null   float64\n",
      " 8   MID_QRT                1403 non-null   float64\n",
      " 9   UP_QRT                 1403 non-null   float64\n",
      " 10  VHCL_MKCNT             1403 non-null   int64  \n",
      "dtypes: float64(3), int64(3), object(5)\n",
      "memory usage: 120.7+ KB\n"
     ]
    }
   ],
   "source": [
    "STD_BD_GRD4_CAR_CURSTT_TOT = pd.read_csv(os.path.join(sys_fold, 'STD_BD_GRD4_CAR_CURSTT_TOT.csv'))\n",
    "STD_BD_GRD4_CAR_CURSTT_TOT.info()"
   ]
  },
  {
   "cell_type": "code",
   "execution_count": 12,
   "metadata": {},
   "outputs": [],
   "source": [
    "expdf = STD_BD_GRD4_CAR_CURSTT_TOT\n",
    "table_nm = 'STD_BD_GRD4_CAR_CURSTT_TOT'.upper()\n",
    "\n",
    "# 테이블 생성\n",
    "sql = 'create or replace table ' + table_nm + '( \\n'\n",
    "\n",
    "for idx,column in enumerate(expdf.columns):\n",
    "    # if 'float' in expdf[column].dtype.name:\n",
    "    #     sql += column + ' float'\n",
    "    # elif 'int' in expdf[column].dtype.name:\n",
    "    #     sql += column + ' number'\n",
    "    # else:\n",
    "    sql += column + ' varchar(255)'\n",
    "\n",
    "    if len(expdf.columns) - 1 != idx:\n",
    "        sql += ','\n",
    "    sql += '\\n'\n",
    "sql += ')'    \n",
    "we.execute(sql)\n",
    "\n",
    "# 데이터 추가\n",
    "# 1s\n",
    "we.import_from_pandas(expdf, table_nm)"
   ]
  },
  {
   "cell_type": "markdown",
   "metadata": {},
   "source": [
    "## STD_BD_DAT_GRD4_CERT_NO_RVW"
   ]
  },
  {
   "cell_type": "code",
   "execution_count": 13,
   "metadata": {},
   "outputs": [
    {
     "name": "stdout",
     "output_type": "stream",
     "text": [
      "<class 'pandas.core.frame.DataFrame'>\n",
      "RangeIndex: 1017 entries, 0 to 1016\n",
      "Data columns (total 11 columns):\n",
      " #   Column             Non-Null Count  Dtype  \n",
      "---  ------             --------------  -----  \n",
      " 0   IDX                1017 non-null   int64  \n",
      " 1   EXHST_GAS_CERT_NO  1006 non-null   object \n",
      " 2   INSP_MTHD          1017 non-null   object \n",
      " 3   RVW_SE             1017 non-null   object \n",
      " 4   RPRS_MNFCTR_NM     1017 non-null   object \n",
      " 5   RPRS_VHCNM         1017 non-null   object \n",
      " 6   MANG_MNG_NO        1017 non-null   object \n",
      " 7   LOWR_QRT           1017 non-null   float64\n",
      " 8   MID_QRT            1017 non-null   float64\n",
      " 9   UP_QRT             1017 non-null   float64\n",
      " 10  LOAD_DT            1017 non-null   int64  \n",
      "dtypes: float64(3), int64(2), object(6)\n",
      "memory usage: 87.5+ KB\n"
     ]
    }
   ],
   "source": [
    "# 0s\n",
    "STD_BD_DAT_GRD4_CERT_NO_RVW = pd.read_csv(os.path.join(sys_fold, 'STD_BD_DAT_GRD4_CERT_NO_RVW.csv'))\n",
    "STD_BD_DAT_GRD4_CERT_NO_RVW.info()"
   ]
  },
  {
   "cell_type": "code",
   "execution_count": 14,
   "metadata": {},
   "outputs": [],
   "source": [
    "expdf = STD_BD_DAT_GRD4_CERT_NO_RVW\n",
    "table_nm = 'STD_BD_DAT_GRD4_CERT_NO_RVW'.upper()\n",
    "\n",
    "# 테이블 생성\n",
    "sql = 'create or replace table ' + table_nm + '( \\n'\n",
    "\n",
    "for idx,column in enumerate(expdf.columns):\n",
    "    if 'float' in expdf[column].dtype.name:\n",
    "        sql += column + ' float'\n",
    "    elif 'int' in expdf[column].dtype.name:\n",
    "        sql += column + ' number'\n",
    "    else:\n",
    "        sql += column + ' varchar(255)'\n",
    "\n",
    "    if len(expdf.columns) - 1 != idx:\n",
    "        sql += ','\n",
    "    sql += '\\n'\n",
    "sql += ')'    \n",
    "we.execute(sql)\n",
    "\n",
    "# 데이터 추가\n",
    "# 1s\n",
    "we.import_from_pandas(expdf, table_nm)"
   ]
  },
  {
   "cell_type": "code",
   "execution_count": 15,
   "metadata": {},
   "outputs": [
    {
     "data": {
      "text/plain": [
       "'create or replace table STD_BD_DAT_GRD4_CERT_NO_RVW( \\nIDX number,\\nEXHST_GAS_CERT_NO varchar(255),\\nINSP_MTHD varchar(255),\\nRVW_SE varchar(255),\\nRPRS_MNFCTR_NM varchar(255),\\nRPRS_VHCNM varchar(255),\\nMANG_MNG_NO varchar(255),\\nLOWR_QRT float,\\nMID_QRT float,\\nUP_QRT float,\\nLOAD_DT number\\n)'"
      ]
     },
     "execution_count": 15,
     "metadata": {},
     "output_type": "execute_result"
    }
   ],
   "source": [
    "sql"
   ]
  },
  {
   "cell_type": "markdown",
   "metadata": {},
   "source": [
    "## STD_BD_DAT_GRD4_SI"
   ]
  },
  {
   "cell_type": "code",
   "execution_count": 16,
   "metadata": {},
   "outputs": [
    {
     "name": "stdout",
     "output_type": "stream",
     "text": [
      "<class 'pandas.core.frame.DataFrame'>\n",
      "RangeIndex: 386 entries, 0 to 385\n",
      "Data columns (total 10 columns):\n",
      " #   Column             Non-Null Count  Dtype  \n",
      "---  ------             --------------  -----  \n",
      " 0   IDX                386 non-null    int64  \n",
      " 1   EXHST_GAS_CERT_NO  382 non-null    object \n",
      " 2   INSP_MTHD          386 non-null    object \n",
      " 3   RPRS_MNFCTR_NM     386 non-null    object \n",
      " 4   RPRS_VHCNM         386 non-null    object \n",
      " 5   RPRS_VHCTY_CD      386 non-null    object \n",
      " 6   RPRS_FUEL          386 non-null    object \n",
      " 7   FRST_YRIDNW        386 non-null    int64  \n",
      " 8   SI                 378 non-null    float64\n",
      " 9   LOAD_DT            386 non-null    int64  \n",
      "dtypes: float64(1), int64(3), object(6)\n",
      "memory usage: 30.3+ KB\n"
     ]
    }
   ],
   "source": [
    "# 0s\n",
    "STD_BD_DAT_GRD4_SI = pd.read_csv(os.path.join(sys_fold, 'STD_BD_DAT_GRD4_SI.csv'))\n",
    "STD_BD_DAT_GRD4_SI.info()"
   ]
  },
  {
   "cell_type": "code",
   "execution_count": 17,
   "metadata": {},
   "outputs": [],
   "source": [
    "expdf = STD_BD_DAT_GRD4_SI\n",
    "table_nm = 'STD_BD_DAT_GRD4_SI'.upper()\n",
    "\n",
    "# 테이블 생성\n",
    "sql = 'create or replace table ' + table_nm + '( \\n'\n",
    "\n",
    "for idx,column in enumerate(expdf.columns):\n",
    "    if 'float' in expdf[column].dtype.name:\n",
    "        sql += column + ' float'\n",
    "    elif 'int' in expdf[column].dtype.name:\n",
    "        sql += column + ' number'\n",
    "    else:\n",
    "        sql += column + ' varchar(255)'\n",
    "\n",
    "    if len(expdf.columns) - 1 != idx:\n",
    "        sql += ','\n",
    "    sql += '\\n'\n",
    "sql += ')'    \n",
    "we.execute(sql)\n",
    "\n",
    "# 데이터 추가\n",
    "# 1s\n",
    "we.import_from_pandas(expdf, table_nm)"
   ]
  },
  {
   "cell_type": "code",
   "execution_count": 18,
   "metadata": {},
   "outputs": [
    {
     "data": {
      "text/plain": [
       "'create or replace table STD_BD_DAT_GRD4_SI( \\nIDX number,\\nEXHST_GAS_CERT_NO varchar(255),\\nINSP_MTHD varchar(255),\\nRPRS_MNFCTR_NM varchar(255),\\nRPRS_VHCNM varchar(255),\\nRPRS_VHCTY_CD varchar(255),\\nRPRS_FUEL varchar(255),\\nFRST_YRIDNW number,\\nSI float,\\nLOAD_DT number\\n)'"
      ]
     },
     "execution_count": 18,
     "metadata": {},
     "output_type": "execute_result"
    }
   ],
   "source": [
    "sql"
   ]
  },
  {
   "cell_type": "markdown",
   "metadata": {},
   "source": [
    "## STD_BD_GRD4_ELPDSRC_CURSTT"
   ]
  },
  {
   "cell_type": "code",
   "execution_count": 19,
   "metadata": {},
   "outputs": [
    {
     "name": "stdout",
     "output_type": "stream",
     "text": [
      "<class 'pandas.core.frame.DataFrame'>\n",
      "RangeIndex: 1411482 entries, 0 to 1411481\n",
      "Data columns (total 13 columns):\n",
      " #   Column               Non-Null Count    Dtype  \n",
      "---  ------               --------------    -----  \n",
      " 0   IDX                  1411482 non-null  int64  \n",
      " 1   CRTR_YM              1411482 non-null  float64\n",
      " 2   VIN                  1411482 non-null  object \n",
      " 3   STDG_CD              1411482 non-null  int64  \n",
      " 4   VHCTY_CD             1411482 non-null  object \n",
      " 5   PURPS_CD2            1411482 non-null  object \n",
      " 6   FUEL_CD              1411482 non-null  object \n",
      " 7   VHCTY_TY             1411482 non-null  object \n",
      " 8   CTPV                 1411482 non-null  object \n",
      " 9   SGG                  1402796 non-null  object \n",
      " 10  ELPDSRC_STTS_CD      30783 non-null    object \n",
      " 11  ELPDSRC_LST_APRV_YN  30783 non-null    object \n",
      " 12  LOAD_DT              1411482 non-null  int64  \n",
      "dtypes: float64(1), int64(3), object(9)\n",
      "memory usage: 140.0+ MB\n"
     ]
    }
   ],
   "source": [
    "STD_BD_GRD4_ELPDSRC_CURSTT = pd.read_csv(os.path.join(sys_fold, 'STD_BD_GRD4_ELPDSRC_CURSTT.csv'))\n",
    "STD_BD_GRD4_ELPDSRC_CURSTT.info()"
   ]
  },
  {
   "cell_type": "code",
   "execution_count": 20,
   "metadata": {},
   "outputs": [],
   "source": [
    "expdf = STD_BD_GRD4_ELPDSRC_CURSTT\n",
    "table_nm = 'STD_BD_GRD4_ELPDSRC_CURSTT'.upper()\n",
    "\n",
    "# 테이블 생성\n",
    "sql = 'create or replace table ' + table_nm + '( \\n'\n",
    "\n",
    "for idx,column in enumerate(expdf.columns):\n",
    "    # if 'float' in expdf[column].dtype.name:\n",
    "    #     sql += column + ' float'\n",
    "    # elif 'int' in expdf[column].dtype.name:\n",
    "    #     sql += column + ' number'\n",
    "    # else:\n",
    "    sql += column + ' varchar(255)'\n",
    "\n",
    "    if len(expdf.columns) - 1 != idx:\n",
    "        sql += ','\n",
    "    sql += '\\n'\n",
    "sql += ')'    \n",
    "we.execute(sql)\n",
    "\n",
    "# 데이터 추가\n",
    "# 5s\n",
    "we.import_from_pandas(expdf, table_nm)"
   ]
  },
  {
   "cell_type": "markdown",
   "metadata": {},
   "source": [
    "## STD_BD_GRD4_MLSFC_RSLT"
   ]
  },
  {
   "cell_type": "code",
   "execution_count": 21,
   "metadata": {},
   "outputs": [
    {
     "name": "stderr",
     "output_type": "stream",
     "text": [
      "C:\\Users\\kbjung\\AppData\\Local\\Temp\\ipykernel_20100\\3387438605.py:1: DtypeWarning: Columns (12) have mixed types. Specify dtype option on import or set low_memory=False.\n",
      "  STD_BD_GRD4_MLSFC_RSLT = pd.read_csv(os.path.join(sys_fold, 'STD_BD_GRD4_MLSFC_RSLT.csv'))\n"
     ]
    },
    {
     "name": "stdout",
     "output_type": "stream",
     "text": [
      "<class 'pandas.core.frame.DataFrame'>\n",
      "RangeIndex: 1390266 entries, 0 to 1390265\n",
      "Data columns (total 15 columns):\n",
      " #   Column        Non-Null Count    Dtype \n",
      "---  ------        --------------    ----- \n",
      " 0   IDX           1390266 non-null  int64 \n",
      " 1   LOAD_DT       1390266 non-null  int64 \n",
      " 2   VIN           1390266 non-null  object\n",
      " 3   MANG_MNG_NO   1390266 non-null  object\n",
      " 4   VHCTY_CD      1390264 non-null  object\n",
      " 5   PURPS_CD2     1390266 non-null  object\n",
      " 6   YRIDNW        1390266 non-null  int64 \n",
      " 7   VHCTY_TY      1390266 non-null  object\n",
      " 8   FUEL_CD       1390197 non-null  object\n",
      " 9   STDG_CD       1390266 non-null  int64 \n",
      " 10  CTPV_NM       1390266 non-null  object\n",
      " 11  SGG_NM        1382812 non-null  object\n",
      " 12  DPF_MNTNG_YN  1052613 non-null  object\n",
      " 13  GRD4_MLSFC    1390266 non-null  object\n",
      " 14  STDG_CD_MOD   1390266 non-null  int64 \n",
      "dtypes: int64(5), object(10)\n",
      "memory usage: 159.1+ MB\n"
     ]
    }
   ],
   "source": [
    "STD_BD_GRD4_MLSFC_RSLT = pd.read_csv(os.path.join(sys_fold, 'STD_BD_GRD4_MLSFC_RSLT.csv'))\n",
    "STD_BD_GRD4_MLSFC_RSLT.info()"
   ]
  },
  {
   "cell_type": "code",
   "execution_count": 22,
   "metadata": {},
   "outputs": [],
   "source": [
    "expdf = STD_BD_GRD4_MLSFC_RSLT\n",
    "table_nm = 'STD_BD_GRD4_MLSFC_RSLT'.upper()\n",
    "\n",
    "# 테이블 생성\n",
    "sql = 'create or replace table ' + table_nm + '( \\n'\n",
    "\n",
    "for idx,column in enumerate(expdf.columns):\n",
    "    # if 'float' in expdf[column].dtype.name:\n",
    "    #     sql += column + ' float'\n",
    "    # elif 'int' in expdf[column].dtype.name:\n",
    "    #     sql += column + ' number'\n",
    "    # else:\n",
    "    sql += column + ' varchar(255)'\n",
    "\n",
    "    if len(expdf.columns) - 1 != idx:\n",
    "        sql += ','\n",
    "    sql += '\\n'\n",
    "sql += ')'    \n",
    "we.execute(sql)\n",
    "\n",
    "# 데이터 추가\n",
    "# 7s\n",
    "we.import_from_pandas(expdf, table_nm)"
   ]
  },
  {
   "cell_type": "markdown",
   "metadata": {},
   "source": [
    "## STD_BD_DAT_GRD4_MLSFC"
   ]
  },
  {
   "cell_type": "code",
   "execution_count": 23,
   "metadata": {},
   "outputs": [
    {
     "name": "stdout",
     "output_type": "stream",
     "text": [
      "<class 'pandas.core.frame.DataFrame'>\n",
      "RangeIndex: 8298 entries, 0 to 8297\n",
      "Data columns (total 14 columns):\n",
      " #   Column     Non-Null Count  Dtype  \n",
      "---  ------     --------------  -----  \n",
      " 0   IDX        8298 non-null   int64  \n",
      " 1   FUEL_CD    8298 non-null   object \n",
      " 2   CTPV       8298 non-null   object \n",
      " 3   SGG        8298 non-null   object \n",
      " 4   VHCTY_CD   8298 non-null   object \n",
      " 5   VHCTY_TY   8298 non-null   object \n",
      " 6   PURPS_CD2  8298 non-null   object \n",
      " 7   A_MKCNT    5066 non-null   float64\n",
      " 8   B_MKCNT    3788 non-null   float64\n",
      " 9   C_MKCNT    3332 non-null   float64\n",
      " 10  D_MKCNT    779 non-null    float64\n",
      " 11  X_MKCNT    3367 non-null   float64\n",
      " 12  YR         8298 non-null   int64  \n",
      " 13  LOAD_DT    8298 non-null   int64  \n",
      "dtypes: float64(5), int64(3), object(6)\n",
      "memory usage: 907.7+ KB\n"
     ]
    }
   ],
   "source": [
    "# 0s\n",
    "STD_BD_DAT_GRD4_MLSFC = pd.read_csv(os.path.join(sys_fold, 'STD_BD_DAT_GRD4_MLSFC.csv'))\n",
    "STD_BD_DAT_GRD4_MLSFC.info()"
   ]
  },
  {
   "cell_type": "code",
   "execution_count": 24,
   "metadata": {},
   "outputs": [],
   "source": [
    "expdf = STD_BD_DAT_GRD4_MLSFC\n",
    "table_nm = 'STD_BD_DAT_GRD4_MLSFC'.upper()\n",
    "\n",
    "# 테이블 생성\n",
    "sql = 'create or replace table ' + table_nm + '( \\n'\n",
    "\n",
    "for idx,column in enumerate(expdf.columns):\n",
    "    # if 'float' in expdf[column].dtype.name:\n",
    "    #     sql += column + ' float'\n",
    "    # elif 'int' in expdf[column].dtype.name:\n",
    "    #     sql += column + ' number'\n",
    "    # else:\n",
    "    sql += column + ' varchar(255)'\n",
    "\n",
    "    if len(expdf.columns) - 1 != idx:\n",
    "        sql += ','\n",
    "    sql += '\\n'\n",
    "sql += ')'    \n",
    "we.execute(sql)\n",
    "\n",
    "# 데이터 추가\n",
    "# 1s\n",
    "we.import_from_pandas(expdf, table_nm)"
   ]
  },
  {
   "cell_type": "markdown",
   "metadata": {},
   "source": [
    "## STD_BD_DAT_GRD4_DTL_INFO"
   ]
  },
  {
   "cell_type": "code",
   "execution_count": 25,
   "metadata": {},
   "outputs": [
    {
     "name": "stderr",
     "output_type": "stream",
     "text": [
      "C:\\Users\\kbjung\\AppData\\Local\\Temp\\ipykernel_20100\\2969779950.py:2: DtypeWarning: Columns (11,12,14,15) have mixed types. Specify dtype option on import or set low_memory=False.\n",
      "  STD_BD_DAT_GRD4_DTL_INFO = pd.read_csv(os.path.join(sys_fold, 'STD_BD_DAT_GRD4_DTL_INFO.csv'))\n"
     ]
    },
    {
     "name": "stdout",
     "output_type": "stream",
     "text": [
      "<class 'pandas.core.frame.DataFrame'>\n",
      "RangeIndex: 1906799 entries, 0 to 1906798\n",
      "Data columns (total 19 columns):\n",
      " #   Column           Dtype  \n",
      "---  ------           -----  \n",
      " 0   IDX              int64  \n",
      " 1   VHRNO            object \n",
      " 2   VIN              object \n",
      " 3   GRD4_MLSFC       object \n",
      " 4   VHCTY_CD         object \n",
      " 5   VHCTY_TY         object \n",
      " 6   PURPS_CD2        object \n",
      " 7   FUEL_CD          object \n",
      " 8   CTPV             object \n",
      " 9   SGG              object \n",
      " 10  YRIDNW           int64  \n",
      " 11  DPF_MNTNG_YN     object \n",
      " 12  RDCDVC_KND       object \n",
      " 13  FRST_REG_YMD     float64\n",
      " 14  ELPDSRC_APLY_YN  object \n",
      " 15  ELPDSRC_STTS_CD  object \n",
      " 16  CHNG_DE          float64\n",
      " 17  VHCL_ERSR_YN     object \n",
      " 18  LOAD_DT          int64  \n",
      "dtypes: float64(2), int64(3), object(14)\n",
      "memory usage: 276.4+ MB\n"
     ]
    }
   ],
   "source": [
    "# 6s\n",
    "STD_BD_DAT_GRD4_DTL_INFO = pd.read_csv(os.path.join(sys_fold, 'STD_BD_DAT_GRD4_DTL_INFO.csv'))\n",
    "STD_BD_DAT_GRD4_DTL_INFO.info()"
   ]
  },
  {
   "cell_type": "code",
   "execution_count": 26,
   "metadata": {},
   "outputs": [],
   "source": [
    "expdf = STD_BD_DAT_GRD4_DTL_INFO\n",
    "table_nm = 'STD_BD_DAT_GRD4_DTL_INFO'.upper()\n",
    "\n",
    "# 테이블 생성\n",
    "sql = 'create or replace table ' + table_nm + '( \\n'\n",
    "\n",
    "for idx,column in enumerate(expdf.columns):\n",
    "    # if 'float' in expdf[column].dtype.name:\n",
    "    #     sql += column + ' float'\n",
    "    # elif 'int' in expdf[column].dtype.name:\n",
    "    #     sql += column + ' number'\n",
    "    # else:\n",
    "    sql += column + ' varchar(255)'\n",
    "\n",
    "    if len(expdf.columns) - 1 != idx:\n",
    "        sql += ','\n",
    "    sql += '\\n'\n",
    "sql += ')'    \n",
    "we.execute(sql)\n",
    "\n",
    "# 데이터 추가\n",
    "# 9s\n",
    "we.import_from_pandas(expdf, table_nm)"
   ]
  },
  {
   "cell_type": "markdown",
   "metadata": {},
   "source": [
    "## STD_BD_GRD4_RGN_CURSTT"
   ]
  },
  {
   "cell_type": "code",
   "execution_count": 27,
   "metadata": {},
   "outputs": [
    {
     "name": "stdout",
     "output_type": "stream",
     "text": [
      "<class 'pandas.core.frame.DataFrame'>\n",
      "RangeIndex: 3712 entries, 0 to 3711\n",
      "Data columns (total 9 columns):\n",
      " #   Column      Non-Null Count  Dtype  \n",
      "---  ------      --------------  -----  \n",
      " 0   IDX         3712 non-null   int64  \n",
      " 1   LOAD_DT     3712 non-null   int64  \n",
      " 2   CRTR_YM     3712 non-null   float64\n",
      " 3   YR          3712 non-null   int64  \n",
      " 4   MM          3712 non-null   int64  \n",
      " 5   FUEL_CD     3712 non-null   object \n",
      " 6   CTPV        3712 non-null   object \n",
      " 7   SGG         3696 non-null   object \n",
      " 8   VHCL_MKCNT  3712 non-null   float64\n",
      "dtypes: float64(2), int64(4), object(3)\n",
      "memory usage: 261.1+ KB\n"
     ]
    }
   ],
   "source": [
    "STD_BD_GRD4_RGN_CURSTT = pd.read_csv(os.path.join(sys_fold, 'STD_BD_GRD4_RGN_CURSTT.csv'))\n",
    "STD_BD_GRD4_RGN_CURSTT.info()"
   ]
  },
  {
   "cell_type": "code",
   "execution_count": 28,
   "metadata": {},
   "outputs": [],
   "source": [
    "expdf = STD_BD_GRD4_RGN_CURSTT\n",
    "table_nm = 'STD_BD_GRD4_RGN_CURSTT'.upper()\n",
    "\n",
    "# 테이블 생성\n",
    "sql = 'create or replace table ' + table_nm + '( \\n'\n",
    "\n",
    "for idx,column in enumerate(expdf.columns):\n",
    "    # if 'float' in expdf[column].dtype.name:\n",
    "    #     sql += column + ' float'\n",
    "    # elif 'int' in expdf[column].dtype.name:\n",
    "    #     sql += column + ' number'\n",
    "    # else:\n",
    "    sql += column + ' varchar(255)'\n",
    "\n",
    "    if len(expdf.columns) - 1 != idx:\n",
    "        sql += ','\n",
    "    sql += '\\n'\n",
    "sql += ')'    \n",
    "we.execute(sql)\n",
    "\n",
    "# 데이터 추가\n",
    "# 5s\n",
    "we.import_from_pandas(expdf, table_nm)"
   ]
  },
  {
   "cell_type": "markdown",
   "metadata": {},
   "source": [
    "## STD_BD_GRD4_RGN_CURSTT_MOD"
   ]
  },
  {
   "cell_type": "code",
   "execution_count": 29,
   "metadata": {},
   "outputs": [
    {
     "name": "stdout",
     "output_type": "stream",
     "text": [
      "<class 'pandas.core.frame.DataFrame'>\n",
      "RangeIndex: 272 entries, 0 to 271\n",
      "Data columns (total 6 columns):\n",
      " #   Column      Non-Null Count  Dtype  \n",
      "---  ------      --------------  -----  \n",
      " 0   IDX         272 non-null    int64  \n",
      " 1   LOAD_DT     272 non-null    int64  \n",
      " 2   CRTR_Y      272 non-null    int64  \n",
      " 3   CTPV        272 non-null    object \n",
      " 4   VHCTY_CD    272 non-null    object \n",
      " 5   VHCL_MKCNT  272 non-null    float64\n",
      "dtypes: float64(1), int64(3), object(2)\n",
      "memory usage: 12.9+ KB\n"
     ]
    }
   ],
   "source": [
    "STD_BD_GRD4_RGN_CURSTT_MOD = pd.read_csv(os.path.join(sys_fold, 'STD_BD_GRD4_RGN_CURSTT_MOD.csv'))\n",
    "STD_BD_GRD4_RGN_CURSTT_MOD.info()"
   ]
  },
  {
   "cell_type": "code",
   "execution_count": 30,
   "metadata": {},
   "outputs": [],
   "source": [
    "expdf = STD_BD_GRD4_RGN_CURSTT_MOD\n",
    "table_nm = 'STD_BD_GRD4_RGN_CURSTT_MOD'.upper()\n",
    "\n",
    "# 테이블 생성\n",
    "sql = 'create or replace table ' + table_nm + '( \\n'\n",
    "\n",
    "for idx,column in enumerate(expdf.columns):\n",
    "    # if 'float' in expdf[column].dtype.name:\n",
    "    #     sql += column + ' float'\n",
    "    # elif 'int' in expdf[column].dtype.name:\n",
    "    #     sql += column + ' number'\n",
    "    # else:\n",
    "    sql += column + ' varchar(255)'\n",
    "\n",
    "    if len(expdf.columns) - 1 != idx:\n",
    "        sql += ','\n",
    "    sql += '\\n'\n",
    "sql += ')'    \n",
    "we.execute(sql)\n",
    "\n",
    "# 데이터 추가\n",
    "# 5s\n",
    "we.import_from_pandas(expdf, table_nm)"
   ]
  },
  {
   "cell_type": "markdown",
   "metadata": {},
   "source": [
    "## STD_BD_DAT_GRD4_CAR_CURSTT"
   ]
  },
  {
   "cell_type": "code",
   "execution_count": 31,
   "metadata": {},
   "outputs": [
    {
     "name": "stdout",
     "output_type": "stream",
     "text": [
      "<class 'pandas.core.frame.DataFrame'>\n",
      "RangeIndex: 266112 entries, 0 to 266111\n",
      "Data columns (total 15 columns):\n",
      " #   Column               Non-Null Count   Dtype  \n",
      "---  ------               --------------   -----  \n",
      " 0   IDX                  266112 non-null  int64  \n",
      " 1   YR                   266112 non-null  int64  \n",
      " 2   MM                   266112 non-null  int64  \n",
      " 3   CTPV                 266112 non-null  object \n",
      " 4   SGG                  266112 non-null  object \n",
      " 5   FUEL_CD              266112 non-null  object \n",
      " 6   VHCTY_CD             266112 non-null  object \n",
      " 7   VHCTY_TY             266112 non-null  object \n",
      " 8   PURPS_CD2            266112 non-null  object \n",
      " 9   VHCL_MKCNT           266112 non-null  float64\n",
      " 10  DEC_RT               266112 non-null  float64\n",
      " 11  RDCDVC_EXTRNS_MKCNT  266112 non-null  float64\n",
      " 12  RDCDVC_UNAT_MKCNT    266112 non-null  float64\n",
      " 13  ELPDSRC_MKCNT        266112 non-null  float64\n",
      " 14  LOAD_DT              266112 non-null  int64  \n",
      "dtypes: float64(5), int64(4), object(6)\n",
      "memory usage: 30.5+ MB\n"
     ]
    }
   ],
   "source": [
    "# 1s\n",
    "STD_BD_DAT_GRD4_CAR_CURSTT = pd.read_csv(os.path.join(sys_fold, 'STD_BD_DAT_GRD4_CAR_CURSTT.csv'))\n",
    "STD_BD_DAT_GRD4_CAR_CURSTT.info()"
   ]
  },
  {
   "cell_type": "code",
   "execution_count": 32,
   "metadata": {},
   "outputs": [],
   "source": [
    "expdf = STD_BD_DAT_GRD4_CAR_CURSTT\n",
    "table_nm = 'STD_BD_DAT_GRD4_CAR_CURSTT'.upper()\n",
    "\n",
    "# 테이블 생성\n",
    "sql = 'create or replace table ' + table_nm + '( \\n'\n",
    "\n",
    "for idx,column in enumerate(expdf.columns):\n",
    "    # if 'float' in expdf[column].dtype.name:\n",
    "    #     sql += column + ' float'\n",
    "    # elif 'int' in expdf[column].dtype.name:\n",
    "    #     sql += column + ' number'\n",
    "    # else:\n",
    "    sql += column + ' varchar(255)'\n",
    "\n",
    "    if len(expdf.columns) - 1 != idx:\n",
    "        sql += ','\n",
    "    sql += '\\n'\n",
    "sql += ')'    \n",
    "we.execute(sql)\n",
    "\n",
    "# 데이터 추가\n",
    "# 2s\n",
    "we.import_from_pandas(expdf, table_nm)"
   ]
  },
  {
   "cell_type": "markdown",
   "metadata": {},
   "source": [
    "## STD_BD_GRD4_EXHST_GAS_MSS_TOT"
   ]
  },
  {
   "cell_type": "code",
   "execution_count": 33,
   "metadata": {},
   "outputs": [
    {
     "name": "stdout",
     "output_type": "stream",
     "text": [
      "<class 'pandas.core.frame.DataFrame'>\n",
      "RangeIndex: 231 entries, 0 to 230\n",
      "Data columns (total 11 columns):\n",
      " #   Column           Non-Null Count  Dtype  \n",
      "---  ------           --------------  -----  \n",
      " 0   IDX              231 non-null    int64  \n",
      " 1   YR               231 non-null    int64  \n",
      " 2   CTPV             231 non-null    object \n",
      " 3   SGG              231 non-null    object \n",
      " 4   CO_EXHST_MSS     231 non-null    float64\n",
      " 5   HC_EXHST_MSS     231 non-null    float64\n",
      " 6   NOX_EXHST_MSS    231 non-null    float64\n",
      " 7   PM10_EXHST_MSS   231 non-null    float64\n",
      " 8   PM2_5_EXHST_MSS  231 non-null    float64\n",
      " 9   LOAD_DT          231 non-null    int64  \n",
      " 10  CRTR_YM          231 non-null    float64\n",
      "dtypes: float64(6), int64(3), object(2)\n",
      "memory usage: 20.0+ KB\n"
     ]
    }
   ],
   "source": [
    "STD_BD_GRD4_EXHST_GAS_MSS_TOT = pd.read_csv(os.path.join(sys_fold, 'STD_BD_GRD4_EXHST_GAS_MSS_TOT.csv'))\n",
    "STD_BD_GRD4_EXHST_GAS_MSS_TOT.info()"
   ]
  },
  {
   "cell_type": "code",
   "execution_count": 34,
   "metadata": {},
   "outputs": [],
   "source": [
    "expdf = STD_BD_GRD4_EXHST_GAS_MSS_TOT\n",
    "table_nm = 'STD_BD_GRD4_EXHST_GAS_MSS_TOT'.upper()\n",
    "\n",
    "# 테이블 생성\n",
    "sql = 'create or replace table ' + table_nm + '( \\n'\n",
    "\n",
    "for idx,column in enumerate(expdf.columns):\n",
    "    # if 'float' in expdf[column].dtype.name:\n",
    "    #     sql += column + ' float'\n",
    "    # elif 'int' in expdf[column].dtype.name:\n",
    "    #     sql += column + ' number'\n",
    "    # else:\n",
    "    sql += column + ' varchar(255)'\n",
    "\n",
    "    if len(expdf.columns) - 1 != idx:\n",
    "        sql += ','\n",
    "    sql += '\\n'\n",
    "sql += ')'    \n",
    "we.execute(sql)\n",
    "\n",
    "# 데이터 추가\n",
    "# 7s\n",
    "we.import_from_pandas(expdf, table_nm)"
   ]
  },
  {
   "cell_type": "markdown",
   "metadata": {},
   "source": [
    "## STD_BD_GRD4_EXHST_GAS_MSS"
   ]
  },
  {
   "cell_type": "code",
   "execution_count": 35,
   "metadata": {},
   "outputs": [
    {
     "name": "stderr",
     "output_type": "stream",
     "text": [
      "C:\\Users\\kbjung\\AppData\\Local\\Temp\\ipykernel_20100\\2736260677.py:1: DtypeWarning: Columns (5,30) have mixed types. Specify dtype option on import or set low_memory=False.\n",
      "  STD_BD_GRD4_EXHST_GAS_MSS = pd.read_csv(os.path.join(sys_fold, 'STD_BD_GRD4_EXHST_GAS_MSS.csv'))\n"
     ]
    },
    {
     "name": "stdout",
     "output_type": "stream",
     "text": [
      "<class 'pandas.core.frame.DataFrame'>\n",
      "RangeIndex: 1390161 entries, 0 to 1390160\n",
      "Data columns (total 37 columns):\n",
      " #   Column                  Non-Null Count    Dtype  \n",
      "---  ------                  --------------    -----  \n",
      " 0   IDX                     1390161 non-null  int64  \n",
      " 1   LOAD_DT                 1390161 non-null  int64  \n",
      " 2   CRTR_YM                 1390161 non-null  float64\n",
      " 3   VIN                     1390161 non-null  object \n",
      " 4   VHRNO                   1390161 non-null  object \n",
      " 5   MANG_MNG_NO             1390161 non-null  object \n",
      " 6   VHCTY_CD                1390159 non-null  object \n",
      " 7   PURPS_CD2               1390161 non-null  object \n",
      " 8   FRST_REG_YMD            1390159 non-null  object \n",
      " 9   YRIDNW                  1390161 non-null  int64  \n",
      " 10  FBCTN_YMD               1226003 non-null  float64\n",
      " 11  EXHST_GAS_INSP_VLD_YMD  1390156 non-null  float64\n",
      " 12  VHCNM                   1390161 non-null  object \n",
      " 13  VHCTY_CL_CD             1390161 non-null  object \n",
      " 14  VHCTY_TY                1390161 non-null  object \n",
      " 15  CAR_FRM                 1389690 non-null  object \n",
      " 16  MNFCTR_NM               1380619 non-null  object \n",
      " 17  FUEL_CD                 1390161 non-null  object \n",
      " 18  EGIN_TY                 1388218 non-null  object \n",
      " 19  TOTL_WGHT               1390146 non-null  float64\n",
      " 20  CRYNG_WGHT              1389637 non-null  float64\n",
      " 21  EGIN_OTPT               1389604 non-null  float64\n",
      " 22  DSPLVL                  1390157 non-null  float64\n",
      " 23  STDG_CD                 1390161 non-null  int64  \n",
      " 24  CTPV_NM                 1390161 non-null  object \n",
      " 25  SGG_NM                  1382707 non-null  object \n",
      " 26  OWNR_SE                 1390161 non-null  object \n",
      " 27  ERSR_YN                 1390161 non-null  object \n",
      " 28  EXHST_GAS_CERT_NO       1271940 non-null  object \n",
      " 29  EXHST_GAS_GRD_CD        1390161 non-null  int64  \n",
      " 30  DPF_YN                  1052613 non-null  object \n",
      " 31  CO_EXHST_MSS            1390161 non-null  float64\n",
      " 32  HC_EXHST_MSS            1390161 non-null  float64\n",
      " 33  NOX_EXHST_MSS           1390161 non-null  float64\n",
      " 34  PM10_EXHST_MSS          1390161 non-null  float64\n",
      " 35  PM2_5_EXHST_MSS         1390161 non-null  float64\n",
      " 36  STDG_CD_MOD             1390161 non-null  int64  \n",
      "dtypes: float64(12), int64(6), object(19)\n",
      "memory usage: 392.4+ MB\n"
     ]
    }
   ],
   "source": [
    "STD_BD_GRD4_EXHST_GAS_MSS = pd.read_csv(os.path.join(sys_fold, 'STD_BD_GRD4_EXHST_GAS_MSS.csv'))\n",
    "STD_BD_GRD4_EXHST_GAS_MSS.info()"
   ]
  },
  {
   "cell_type": "code",
   "execution_count": 36,
   "metadata": {},
   "outputs": [],
   "source": [
    "expdf = STD_BD_GRD4_EXHST_GAS_MSS\n",
    "table_nm = 'STD_BD_GRD4_EXHST_GAS_MSS'.upper()\n",
    "\n",
    "# 테이블 생성\n",
    "sql = 'create or replace table ' + table_nm + '( \\n'\n",
    "\n",
    "for idx,column in enumerate(expdf.columns):\n",
    "    # if 'float' in expdf[column].dtype.name:\n",
    "    #     sql += column + ' float'\n",
    "    # elif 'int' in expdf[column].dtype.name:\n",
    "    #     sql += column + ' number'\n",
    "    # else:\n",
    "    sql += column + ' varchar(255)'\n",
    "\n",
    "    if len(expdf.columns) - 1 != idx:\n",
    "        sql += ','\n",
    "    sql += '\\n'\n",
    "sql += ')'    \n",
    "we.execute(sql)\n",
    "\n",
    "# 데이터 추가\n",
    "# 30.7s\n",
    "we.import_from_pandas(expdf, table_nm)"
   ]
  },
  {
   "cell_type": "markdown",
   "metadata": {},
   "source": [
    "## STD_BD_DAT_GRD4_EXHST_MSS_CURSTT"
   ]
  },
  {
   "cell_type": "code",
   "execution_count": 37,
   "metadata": {},
   "outputs": [
    {
     "name": "stdout",
     "output_type": "stream",
     "text": [
      "<class 'pandas.core.frame.DataFrame'>\n",
      "RangeIndex: 8273 entries, 0 to 8272\n",
      "Data columns (total 14 columns):\n",
      " #   Column              Non-Null Count  Dtype  \n",
      "---  ------              --------------  -----  \n",
      " 0   IDX                 8273 non-null   int64  \n",
      " 1   YR                  8273 non-null   int64  \n",
      " 2   CTPV                8273 non-null   object \n",
      " 3   SGG                 8273 non-null   object \n",
      " 4   FUEL_CD             8273 non-null   object \n",
      " 5   VHCTY_CD            8273 non-null   object \n",
      " 6   VHCTY_TY            8273 non-null   object \n",
      " 7   PURPS_CD2           8273 non-null   object \n",
      " 8   CO_EXHST_MSS_SM     8273 non-null   float64\n",
      " 9   HC_EXHST_MSS_SM     8273 non-null   float64\n",
      " 10  NOX_EXHST_MSS_SM    8273 non-null   float64\n",
      " 11  PM10_EXHST_MSS_SM   8273 non-null   float64\n",
      " 12  PM2_5_EXHST_MSS_SM  8273 non-null   float64\n",
      " 13  LOAD_DT             8273 non-null   int64  \n",
      "dtypes: float64(5), int64(3), object(6)\n",
      "memory usage: 905.0+ KB\n"
     ]
    }
   ],
   "source": [
    "# 0s\n",
    "STD_BD_DAT_GRD4_EXHST_MSS_CURSTT = pd.read_csv(os.path.join(sys_fold, 'STD_BD_DAT_GRD4_EXHST_MSS_CURSTT.csv'))\n",
    "STD_BD_DAT_GRD4_EXHST_MSS_CURSTT.info()"
   ]
  },
  {
   "cell_type": "code",
   "execution_count": 38,
   "metadata": {},
   "outputs": [],
   "source": [
    "expdf = STD_BD_DAT_GRD4_EXHST_MSS_CURSTT\n",
    "table_nm = 'STD_BD_DAT_GRD4_EXHST_MSS_CURSTT'.upper()\n",
    "\n",
    "# 테이블 생성\n",
    "sql = 'create or replace table ' + table_nm + '( \\n'\n",
    "\n",
    "for idx,column in enumerate(expdf.columns):\n",
    "    if 'float' in expdf[column].dtype.name:\n",
    "        sql += column + ' float'\n",
    "    elif 'int' in expdf[column].dtype.name:\n",
    "        sql += column + ' number'\n",
    "    else:\n",
    "        sql += column + ' varchar(255)'\n",
    "\n",
    "    if len(expdf.columns) - 1 != idx:\n",
    "        sql += ','\n",
    "    sql += '\\n'\n",
    "sql += ')'    \n",
    "we.execute(sql)\n",
    "\n",
    "# 데이터 추가\n",
    "# 1s\n",
    "we.import_from_pandas(expdf, table_nm)"
   ]
  },
  {
   "cell_type": "code",
   "execution_count": 39,
   "metadata": {},
   "outputs": [
    {
     "data": {
      "text/plain": [
       "'create or replace table STD_BD_DAT_GRD4_EXHST_MSS_CURSTT( \\nIDX number,\\nYR number,\\nCTPV varchar(255),\\nSGG varchar(255),\\nFUEL_CD varchar(255),\\nVHCTY_CD varchar(255),\\nVHCTY_TY varchar(255),\\nPURPS_CD2 varchar(255),\\nCO_EXHST_MSS_SM float,\\nHC_EXHST_MSS_SM float,\\nNOX_EXHST_MSS_SM float,\\nPM10_EXHST_MSS_SM float,\\nPM2_5_EXHST_MSS_SM float,\\nLOAD_DT number\\n)'"
      ]
     },
     "execution_count": 39,
     "metadata": {},
     "output_type": "execute_result"
    }
   ],
   "source": [
    "sql"
   ]
  },
  {
   "cell_type": "markdown",
   "metadata": {},
   "source": [
    "## STD_BD_DAT_GRD4_MEVLU"
   ]
  },
  {
   "cell_type": "code",
   "execution_count": 40,
   "metadata": {},
   "outputs": [
    {
     "name": "stdout",
     "output_type": "stream",
     "text": [
      "<class 'pandas.core.frame.DataFrame'>\n",
      "RangeIndex: 8273 entries, 0 to 8272\n",
      "Data columns (total 14 columns):\n",
      " #   Column                Non-Null Count  Dtype  \n",
      "---  ------                --------------  -----  \n",
      " 0   IDX                   8273 non-null   int64  \n",
      " 1   YR                    8273 non-null   int64  \n",
      " 2   CTPV                  8273 non-null   object \n",
      " 3   SGG                   8273 non-null   object \n",
      " 4   FUEL_CD               8273 non-null   object \n",
      " 5   VHCTY_CD              8273 non-null   object \n",
      " 6   VHCTY_TY              8273 non-null   object \n",
      " 7   PURPS_CD2             8273 non-null   object \n",
      " 8   CO_EXHST_MSS_AVRG     8273 non-null   float64\n",
      " 9   HC_EXHST_MSS_AVRG     8273 non-null   float64\n",
      " 10  NOX_EXHST_MSS_AVRG    8273 non-null   float64\n",
      " 11  PM10_EXHST_MSS_AVRG   8273 non-null   float64\n",
      " 12  PM2_5_EXHST_MSS_AVRG  8273 non-null   float64\n",
      " 13  LOAD_DT               8273 non-null   int64  \n",
      "dtypes: float64(5), int64(3), object(6)\n",
      "memory usage: 905.0+ KB\n"
     ]
    }
   ],
   "source": [
    "# 0s\n",
    "STD_BD_DAT_GRD4_MEVLU = pd.read_csv(os.path.join(sys_fold, 'STD_BD_DAT_GRD4_MEVLU.csv'))\n",
    "STD_BD_DAT_GRD4_MEVLU.info()"
   ]
  },
  {
   "cell_type": "code",
   "execution_count": 41,
   "metadata": {},
   "outputs": [],
   "source": [
    "expdf = STD_BD_DAT_GRD4_MEVLU\n",
    "table_nm = 'STD_BD_DAT_GRD4_MEVLU'.upper()\n",
    "\n",
    "# 테이블 생성\n",
    "sql = 'create or replace table ' + table_nm + '( \\n'\n",
    "\n",
    "for idx,column in enumerate(expdf.columns):\n",
    "    # if 'float' in expdf[column].dtype.name:\n",
    "    #     sql += column + ' float'\n",
    "    # elif 'int' in expdf[column].dtype.name:\n",
    "    #     sql += column + ' number'\n",
    "    # else:\n",
    "    sql += column + ' varchar(255)'\n",
    "\n",
    "    if len(expdf.columns) - 1 != idx:\n",
    "        sql += ','\n",
    "    sql += '\\n'\n",
    "sql += ')'    \n",
    "we.execute(sql)\n",
    "\n",
    "# 데이터 추가\n",
    "# 1s\n",
    "we.import_from_pandas(expdf, table_nm)"
   ]
  },
  {
   "cell_type": "markdown",
   "metadata": {},
   "source": [
    "# BD3"
   ]
  },
  {
   "cell_type": "markdown",
   "metadata": {},
   "source": [
    "## STD_BD_CAR_CURSTT_MOD"
   ]
  },
  {
   "cell_type": "code",
   "execution_count": 42,
   "metadata": {},
   "outputs": [
    {
     "name": "stdout",
     "output_type": "stream",
     "text": [
      "<class 'pandas.core.frame.DataFrame'>\n",
      "RangeIndex: 408 entries, 0 to 407\n",
      "Data columns (total 8 columns):\n",
      " #   Column            Non-Null Count  Dtype  \n",
      "---  ------            --------------  -----  \n",
      " 0   IDX               408 non-null    int64  \n",
      " 1   YR                408 non-null    int64  \n",
      " 2   RGN               408 non-null    object \n",
      " 3   CTPV_NM           408 non-null    object \n",
      " 4   EXHST_GAS_GRD_CD  408 non-null    object \n",
      " 5   VHCL_MKCNT        408 non-null    float64\n",
      " 6   CRTR_YM           408 non-null    int64  \n",
      " 7   LOAD_DT           408 non-null    int64  \n",
      "dtypes: float64(1), int64(4), object(3)\n",
      "memory usage: 25.6+ KB\n"
     ]
    }
   ],
   "source": [
    "STD_BD_CAR_CURSTT_MOD = pd.read_csv(os.path.join(sys_fold, 'STD_BD_CAR_CURSTT_MOD.csv'))\n",
    "STD_BD_CAR_CURSTT_MOD.info()"
   ]
  },
  {
   "cell_type": "code",
   "execution_count": 43,
   "metadata": {},
   "outputs": [],
   "source": [
    "expdf = STD_BD_CAR_CURSTT_MOD\n",
    "table_nm = 'STD_BD_CAR_CURSTT_MOD'.upper()\n",
    "\n",
    "# 테이블 생성\n",
    "sql = 'create or replace table ' + table_nm + '( \\n'\n",
    "\n",
    "for idx,column in enumerate(expdf.columns):\n",
    "    # if 'float' in expdf[column].dtype.name:\n",
    "    #     sql += column + ' float'\n",
    "    # elif 'int' in expdf[column].dtype.name:\n",
    "    #     sql += column + ' number'\n",
    "    # else:\n",
    "    sql += column + ' varchar(255)'\n",
    "\n",
    "    if len(expdf.columns) - 1 != idx:\n",
    "        sql += ','\n",
    "    sql += '\\n'\n",
    "sql += ')'    \n",
    "we.execute(sql)\n",
    "\n",
    "# 데이터 추가\n",
    "# 1s\n",
    "we.import_from_pandas(expdf, table_nm)"
   ]
  },
  {
   "cell_type": "markdown",
   "metadata": {},
   "source": [
    "## STD_BD_CAR_CURSTT_MOD2"
   ]
  },
  {
   "cell_type": "code",
   "execution_count": 44,
   "metadata": {},
   "outputs": [
    {
     "name": "stdout",
     "output_type": "stream",
     "text": [
      "<class 'pandas.core.frame.DataFrame'>\n",
      "RangeIndex: 120 entries, 0 to 119\n",
      "Data columns (total 7 columns):\n",
      " #   Column            Non-Null Count  Dtype  \n",
      "---  ------            --------------  -----  \n",
      " 0   IDX               120 non-null    int64  \n",
      " 1   YR                120 non-null    int64  \n",
      " 2   FUEL_CD           120 non-null    object \n",
      " 3   EXHST_GAS_GRD_CD  120 non-null    object \n",
      " 4   VHCL_MKCNT        120 non-null    float64\n",
      " 5   CRTR_YM           120 non-null    int64  \n",
      " 6   LOAD_DT           120 non-null    int64  \n",
      "dtypes: float64(1), int64(4), object(2)\n",
      "memory usage: 6.7+ KB\n"
     ]
    }
   ],
   "source": [
    "STD_BD_CAR_CURSTT_MOD2 = pd.read_csv(os.path.join(sys_fold, 'STD_BD_CAR_CURSTT_MOD2.csv'))\n",
    "STD_BD_CAR_CURSTT_MOD2.info()"
   ]
  },
  {
   "cell_type": "code",
   "execution_count": 45,
   "metadata": {},
   "outputs": [],
   "source": [
    "expdf = STD_BD_CAR_CURSTT_MOD2\n",
    "table_nm = 'STD_BD_CAR_CURSTT_MOD2'.upper()\n",
    "\n",
    "# 테이블 생성\n",
    "sql = 'create or replace table ' + table_nm + '( \\n'\n",
    "\n",
    "for idx,column in enumerate(expdf.columns):\n",
    "    # if 'float' in expdf[column].dtype.name:\n",
    "    #     sql += column + ' float'\n",
    "    # elif 'int' in expdf[column].dtype.name:\n",
    "    #     sql += column + ' number'\n",
    "    # else:\n",
    "    sql += column + ' varchar(255)'\n",
    "\n",
    "    if len(expdf.columns) - 1 != idx:\n",
    "        sql += ','\n",
    "    sql += '\\n'\n",
    "sql += ')'    \n",
    "we.execute(sql)\n",
    "\n",
    "# 데이터 추가\n",
    "# 1s\n",
    "we.import_from_pandas(expdf, table_nm)"
   ]
  },
  {
   "cell_type": "markdown",
   "metadata": {},
   "source": [
    "## STD_BD_CAR_CURSTT"
   ]
  },
  {
   "cell_type": "code",
   "execution_count": 46,
   "metadata": {},
   "outputs": [
    {
     "name": "stdout",
     "output_type": "stream",
     "text": [
      "<class 'pandas.core.frame.DataFrame'>\n",
      "RangeIndex: 25615830 entries, 0 to 25615829\n",
      "Data columns (total 13 columns):\n",
      " #   Column             Dtype  \n",
      "---  ------             -----  \n",
      " 0   IDX                int64  \n",
      " 1   LOAD_DT            int64  \n",
      " 2   BSPL_STDG_CD       int64  \n",
      " 3   VHCTY_CD           object \n",
      " 4   PURPS_CD2          object \n",
      " 5   VIN                object \n",
      " 6   MANG_MNG_NO        object \n",
      " 7   EXHST_GAS_CERT_NO  object \n",
      " 8   EXHST_GAS_GRD_CD   float64\n",
      " 9   VHCL_ERSR_YN       object \n",
      " 10  FUEL_CD            object \n",
      " 11  CTPV               object \n",
      " 12  SGG                object \n",
      "dtypes: float64(1), int64(3), object(9)\n",
      "memory usage: 2.5+ GB\n"
     ]
    }
   ],
   "source": [
    "STD_BD_CAR_CURSTT = pd.read_csv(os.path.join(sys_fold, 'STD_BD_CAR_CURSTT.csv'))\n",
    "STD_BD_CAR_CURSTT.info()"
   ]
  },
  {
   "cell_type": "code",
   "execution_count": 47,
   "metadata": {},
   "outputs": [],
   "source": [
    "expdf = STD_BD_CAR_CURSTT\n",
    "table_nm = 'STD_BD_CAR_CURSTT'.upper()\n",
    "\n",
    "# 테이블 생성\n",
    "sql = 'create or replace table ' + table_nm + '( \\n'\n",
    "\n",
    "for idx,column in enumerate(expdf.columns):\n",
    "    # if 'float' in expdf[column].dtype.name:\n",
    "    #     sql += column + ' float'\n",
    "    # elif 'int' in expdf[column].dtype.name:\n",
    "    #     sql += column + ' number'\n",
    "    # else:\n",
    "    sql += column + ' varchar(255)'\n",
    "\n",
    "    if len(expdf.columns) - 1 != idx:\n",
    "        sql += ','\n",
    "    sql += '\\n'\n",
    "sql += ')'    \n",
    "we.execute(sql)\n",
    "\n",
    "# 데이터 추가\n",
    "# 1s\n",
    "we.import_from_pandas(expdf, table_nm)"
   ]
  },
  {
   "cell_type": "markdown",
   "metadata": {},
   "source": [
    "## STD_BD_CAR_REG_MKCNT"
   ]
  },
  {
   "cell_type": "code",
   "execution_count": 48,
   "metadata": {},
   "outputs": [
    {
     "name": "stdout",
     "output_type": "stream",
     "text": [
      "<class 'pandas.core.frame.DataFrame'>\n",
      "RangeIndex: 340 entries, 0 to 339\n",
      "Data columns (total 7 columns):\n",
      " #   Column      Non-Null Count  Dtype  \n",
      "---  ------      --------------  -----  \n",
      " 0   IDX         340 non-null    int64  \n",
      " 1   LOAD_DT     340 non-null    int64  \n",
      " 2   YR          340 non-null    int64  \n",
      " 3   FUEL_CD     340 non-null    object \n",
      " 4   CTPV        340 non-null    object \n",
      " 5   VHCL_MKCNT  340 non-null    float64\n",
      " 6   FUEL_RT     340 non-null    float64\n",
      "dtypes: float64(2), int64(3), object(2)\n",
      "memory usage: 18.7+ KB\n"
     ]
    }
   ],
   "source": [
    "STD_BD_CAR_REG_MKCNT = pd.read_csv(os.path.join(sys_fold, 'STD_BD_CAR_REG_MKCNT.csv'))\n",
    "STD_BD_CAR_REG_MKCNT.info()"
   ]
  },
  {
   "cell_type": "code",
   "execution_count": 49,
   "metadata": {},
   "outputs": [],
   "source": [
    "expdf = STD_BD_CAR_REG_MKCNT\n",
    "table_nm = 'STD_BD_CAR_REG_MKCNT'.upper()\n",
    "\n",
    "# 테이블 생성\n",
    "sql = 'create or replace table ' + table_nm + '( \\n'\n",
    "\n",
    "for idx,column in enumerate(expdf.columns):\n",
    "    # if 'float' in expdf[column].dtype.name:\n",
    "    #     sql += column + ' float'\n",
    "    # elif 'int' in expdf[column].dtype.name:\n",
    "    #     sql += column + ' number'\n",
    "    # else:\n",
    "    sql += column + ' varchar(255)'\n",
    "\n",
    "    if len(expdf.columns) - 1 != idx:\n",
    "        sql += ','\n",
    "    sql += '\\n'\n",
    "sql += ')'    \n",
    "we.execute(sql)\n",
    "\n",
    "# 데이터 추가\n",
    "# 1s\n",
    "we.import_from_pandas(expdf, table_nm)"
   ]
  },
  {
   "cell_type": "markdown",
   "metadata": {},
   "source": [
    "## STD_BD_CAR_PRET"
   ]
  },
  {
   "cell_type": "code",
   "execution_count": 50,
   "metadata": {},
   "outputs": [
    {
     "name": "stdout",
     "output_type": "stream",
     "text": [
      "<class 'pandas.core.frame.DataFrame'>\n",
      "RangeIndex: 17 entries, 0 to 16\n",
      "Data columns (total 15 columns):\n",
      " #   Column          Non-Null Count  Dtype  \n",
      "---  ------          --------------  -----  \n",
      " 0   IDX             17 non-null     int64  \n",
      " 1   LOAD_DT         17 non-null     int64  \n",
      " 2   YR              17 non-null     int64  \n",
      " 3   DSL             4 non-null      float64\n",
      " 4   GSL             4 non-null      float64\n",
      " 5   LPG             4 non-null      float64\n",
      " 6   DSL_PRET        13 non-null     float64\n",
      " 7   DSL_PRET_BSPLN  13 non-null     float64\n",
      " 8   DSL_PRET_AKM    13 non-null     float64\n",
      " 9   GSL_PRET        13 non-null     float64\n",
      " 10  GSL_PRET_BSPLN  13 non-null     float64\n",
      " 11  GSL_PRET_AKM    13 non-null     float64\n",
      " 12  LPG_PRET        13 non-null     float64\n",
      " 13  LPG_PRET_BSPLN  13 non-null     float64\n",
      " 14  LPG_PRET_AKM    13 non-null     float64\n",
      "dtypes: float64(12), int64(3)\n",
      "memory usage: 2.1 KB\n"
     ]
    }
   ],
   "source": [
    "STD_BD_CAR_PRET = pd.read_csv(os.path.join(sys_fold, 'STD_BD_CAR_PRET.csv'))\n",
    "STD_BD_CAR_PRET.info()"
   ]
  },
  {
   "cell_type": "code",
   "execution_count": 51,
   "metadata": {},
   "outputs": [],
   "source": [
    "expdf = STD_BD_CAR_PRET\n",
    "table_nm = 'STD_BD_CAR_PRET'.upper()\n",
    "\n",
    "# 테이블 생성\n",
    "sql = 'create or replace table ' + table_nm + '( \\n'\n",
    "\n",
    "for idx,column in enumerate(expdf.columns):\n",
    "    # if 'float' in expdf[column].dtype.name:\n",
    "    #     sql += column + ' float'\n",
    "    # elif 'int' in expdf[column].dtype.name:\n",
    "    #     sql += column + ' number'\n",
    "    # else:\n",
    "    sql += column + ' varchar(255)'\n",
    "\n",
    "    if len(expdf.columns) - 1 != idx:\n",
    "        sql += ','\n",
    "    sql += '\\n'\n",
    "sql += ')'    \n",
    "we.execute(sql)\n",
    "\n",
    "# 데이터 추가\n",
    "# 1s\n",
    "we.import_from_pandas(expdf, table_nm)"
   ]
  },
  {
   "cell_type": "markdown",
   "metadata": {},
   "source": [
    "## STD_BD_HYBRD_CAR_PRET"
   ]
  },
  {
   "cell_type": "code",
   "execution_count": 52,
   "metadata": {},
   "outputs": [
    {
     "name": "stdout",
     "output_type": "stream",
     "text": [
      "<class 'pandas.core.frame.DataFrame'>\n",
      "RangeIndex: 17 entries, 0 to 16\n",
      "Data columns (total 15 columns):\n",
      " #   Column           Non-Null Count  Dtype  \n",
      "---  ------           --------------  -----  \n",
      " 0   IDX              17 non-null     int64  \n",
      " 1   LOAD_DT          17 non-null     int64  \n",
      " 2   YR               17 non-null     int64  \n",
      " 3   GSLH             4 non-null      float64\n",
      " 4   GSLH_PRET        13 non-null     float64\n",
      " 5   GSLH_PRET_BSPLN  13 non-null     float64\n",
      " 6   GSLH_PRET_AKM    13 non-null     float64\n",
      " 7   DSLH             4 non-null      float64\n",
      " 8   DSLH_PRET        13 non-null     float64\n",
      " 9   DSLH_PRET_BSPLN  13 non-null     float64\n",
      " 10  DSLH_PRET_AKM    13 non-null     float64\n",
      " 11  LPGH             4 non-null      float64\n",
      " 12  LPGH_PRET        13 non-null     float64\n",
      " 13  LPGH_PRET_BSPLN  13 non-null     float64\n",
      " 14  LPGH_PRET_AKM    13 non-null     float64\n",
      "dtypes: float64(12), int64(3)\n",
      "memory usage: 2.1 KB\n"
     ]
    }
   ],
   "source": [
    "STD_BD_HYBRD_CAR_PRET = pd.read_csv(os.path.join(sys_fold, 'STD_BD_HYBRD_CAR_PRET.csv'))\n",
    "STD_BD_HYBRD_CAR_PRET.info()"
   ]
  },
  {
   "cell_type": "code",
   "execution_count": 53,
   "metadata": {},
   "outputs": [],
   "source": [
    "expdf = STD_BD_HYBRD_CAR_PRET\n",
    "table_nm = 'STD_BD_HYBRD_CAR_PRET'.upper()\n",
    "\n",
    "# 테이블 생성\n",
    "sql = 'create or replace table ' + table_nm + '( \\n'\n",
    "\n",
    "for idx,column in enumerate(expdf.columns):\n",
    "    # if 'float' in expdf[column].dtype.name:\n",
    "    #     sql += column + ' float'\n",
    "    # elif 'int' in expdf[column].dtype.name:\n",
    "    #     sql += column + ' number'\n",
    "    # else:\n",
    "    sql += column + ' varchar(255)'\n",
    "\n",
    "    if len(expdf.columns) - 1 != idx:\n",
    "        sql += ','\n",
    "    sql += '\\n'\n",
    "sql += ')'    \n",
    "we.execute(sql)\n",
    "\n",
    "# 데이터 추가\n",
    "# 7s\n",
    "we.import_from_pandas(expdf, table_nm)"
   ]
  },
  {
   "cell_type": "markdown",
   "metadata": {},
   "source": [
    "## STD_BD_FUEL_GRD_VHCL_CURSTT_PRET"
   ]
  },
  {
   "cell_type": "code",
   "execution_count": 54,
   "metadata": {},
   "outputs": [
    {
     "name": "stdout",
     "output_type": "stream",
     "text": [
      "<class 'pandas.core.frame.DataFrame'>\n",
      "RangeIndex: 255 entries, 0 to 254\n",
      "Data columns (total 7 columns):\n",
      " #   Column            Non-Null Count  Dtype  \n",
      "---  ------            --------------  -----  \n",
      " 0   IDX               255 non-null    int64  \n",
      " 1   YR                255 non-null    int64  \n",
      " 2   FUEL_CD           255 non-null    object \n",
      " 3   EXHST_GAS_GRD_CD  255 non-null    int64  \n",
      " 4   VHCL_MKCNT        60 non-null     float64\n",
      " 5   VHCL_PRET         195 non-null    float64\n",
      " 6   LOAD_DT           255 non-null    int64  \n",
      "dtypes: float64(2), int64(4), object(1)\n",
      "memory usage: 14.1+ KB\n"
     ]
    }
   ],
   "source": [
    "STD_BD_FUEL_GRD_VHCL_CURSTT_PRET = pd.read_csv(os.path.join(sys_fold, 'STD_BD_FUEL_GRD_VHCL_CURSTT_PRET.csv'))\n",
    "STD_BD_FUEL_GRD_VHCL_CURSTT_PRET.info()"
   ]
  },
  {
   "cell_type": "code",
   "execution_count": 55,
   "metadata": {},
   "outputs": [],
   "source": [
    "expdf = STD_BD_FUEL_GRD_VHCL_CURSTT_PRET\n",
    "table_nm = 'STD_BD_FUEL_GRD_VHCL_CURSTT_PRET'.upper()\n",
    "\n",
    "# 테이블 생성\n",
    "sql = 'create or replace table ' + table_nm + '( \\n'\n",
    "\n",
    "for idx,column in enumerate(expdf.columns):\n",
    "    # if 'float' in expdf[column].dtype.name:\n",
    "    #     sql += column + ' float'\n",
    "    # elif 'int' in expdf[column].dtype.name:\n",
    "    #     sql += column + ' number'\n",
    "    # else:\n",
    "    sql += column + ' varchar(255)'\n",
    "\n",
    "    if len(expdf.columns) - 1 != idx:\n",
    "        sql += ','\n",
    "    sql += '\\n'\n",
    "sql += ')'    \n",
    "we.execute(sql)\n",
    "\n",
    "# 데이터 추가\n",
    "# 1s\n",
    "we.import_from_pandas(expdf, table_nm)"
   ]
  },
  {
   "cell_type": "markdown",
   "metadata": {},
   "source": [
    "## STD_BD_ECO_CAR_PRET"
   ]
  },
  {
   "cell_type": "code",
   "execution_count": 56,
   "metadata": {},
   "outputs": [
    {
     "name": "stdout",
     "output_type": "stream",
     "text": [
      "<class 'pandas.core.frame.DataFrame'>\n",
      "RangeIndex: 17 entries, 0 to 16\n",
      "Data columns (total 11 columns):\n",
      " #   Column            Non-Null Count  Dtype  \n",
      "---  ------            --------------  -----  \n",
      " 0   IDX               17 non-null     int64  \n",
      " 1   LOAD_DT           17 non-null     int64  \n",
      " 2   YR                17 non-null     int64  \n",
      " 3   BTYCR             4 non-null      float64\n",
      " 4   BTYCR_PRET        13 non-null     float64\n",
      " 5   BTYCR_PRET_BSPLN  13 non-null     float64\n",
      " 6   BTYCR_PRET_AKM    13 non-null     float64\n",
      " 7   HY                4 non-null      float64\n",
      " 8   HY_PRET           13 non-null     float64\n",
      " 9   HY_PRET_BSPLN     13 non-null     float64\n",
      " 10  HY_PRET_AKM       13 non-null     float64\n",
      "dtypes: float64(8), int64(3)\n",
      "memory usage: 1.6 KB\n"
     ]
    }
   ],
   "source": [
    "STD_BD_ECO_CAR_PRET = pd.read_csv(os.path.join(sys_fold, 'STD_BD_ECO_CAR_PRET.csv'))\n",
    "STD_BD_ECO_CAR_PRET.info()"
   ]
  },
  {
   "cell_type": "code",
   "execution_count": 57,
   "metadata": {},
   "outputs": [],
   "source": [
    "expdf = STD_BD_ECO_CAR_PRET\n",
    "table_nm = 'STD_BD_ECO_CAR_PRET'.upper()\n",
    "\n",
    "# 테이블 생성\n",
    "sql = 'create or replace table ' + table_nm + '( \\n'\n",
    "\n",
    "for idx,column in enumerate(expdf.columns):\n",
    "    # if 'float' in expdf[column].dtype.name:\n",
    "    #     sql += column + ' float'\n",
    "    # elif 'int' in expdf[column].dtype.name:\n",
    "    #     sql += column + ' number'\n",
    "    # else:\n",
    "    sql += column + ' varchar(255)'\n",
    "\n",
    "    if len(expdf.columns) - 1 != idx:\n",
    "        sql += ','\n",
    "    sql += '\\n'\n",
    "sql += ')'    \n",
    "we.execute(sql)\n",
    "\n",
    "# 데이터 추가\n",
    "# 7s\n",
    "we.import_from_pandas(expdf, table_nm)"
   ]
  },
  {
   "cell_type": "markdown",
   "metadata": {},
   "source": [
    "## STD_BD_ERSR_RSLT"
   ]
  },
  {
   "cell_type": "code",
   "execution_count": 58,
   "metadata": {},
   "outputs": [
    {
     "name": "stdout",
     "output_type": "stream",
     "text": [
      "<class 'pandas.core.frame.DataFrame'>\n",
      "RangeIndex: 4792996 entries, 0 to 4792995\n",
      "Data columns (total 9 columns):\n",
      " #   Column            Dtype  \n",
      "---  ------            -----  \n",
      " 0   IDX               int64  \n",
      " 1   LOAD_DT           int64  \n",
      " 2   BSPL_STDG_CD      int64  \n",
      " 3   CTPV              object \n",
      " 4   SGG               object \n",
      " 5   VIN               object \n",
      " 6   CHG_YMD           int64  \n",
      " 7   EXHST_GAS_GRD_CD  float64\n",
      " 8   FUEL_CD           object \n",
      "dtypes: float64(1), int64(4), object(4)\n",
      "memory usage: 329.1+ MB\n"
     ]
    }
   ],
   "source": [
    "STD_BD_ERSR_RSLT = pd.read_csv(os.path.join(sys_fold, 'STD_BD_ERSR_RSLT.csv'))\n",
    "STD_BD_ERSR_RSLT.info()"
   ]
  },
  {
   "cell_type": "code",
   "execution_count": 59,
   "metadata": {},
   "outputs": [],
   "source": [
    "expdf = STD_BD_ERSR_RSLT\n",
    "table_nm = 'STD_BD_ERSR_RSLT'.upper()\n",
    "\n",
    "# 테이블 생성\n",
    "sql = 'create or replace table ' + table_nm + '( \\n'\n",
    "\n",
    "for idx,column in enumerate(expdf.columns):\n",
    "    # if 'float' in expdf[column].dtype.name:\n",
    "    #     sql += column + ' float'\n",
    "    # elif 'int' in expdf[column].dtype.name:\n",
    "    #     sql += column + ' number'\n",
    "    # else:\n",
    "    sql += column + ' varchar(255)'\n",
    "\n",
    "    if len(expdf.columns) - 1 != idx:\n",
    "        sql += ','\n",
    "    sql += '\\n'\n",
    "sql += ')'    \n",
    "we.execute(sql)\n",
    "\n",
    "# 데이터 추가\n",
    "# 12.6s\n",
    "we.import_from_pandas(expdf, table_nm)"
   ]
  },
  {
   "cell_type": "markdown",
   "metadata": {},
   "source": [
    "## STD_BD_DAT_GRD_CURSTT"
   ]
  },
  {
   "cell_type": "code",
   "execution_count": 60,
   "metadata": {},
   "outputs": [
    {
     "name": "stdout",
     "output_type": "stream",
     "text": [
      "<class 'pandas.core.frame.DataFrame'>\n",
      "RangeIndex: 212160 entries, 0 to 212159\n",
      "Data columns (total 13 columns):\n",
      " #   Column            Non-Null Count   Dtype  \n",
      "---  ------            --------------   -----  \n",
      " 0   IDX               212160 non-null  int64  \n",
      " 1   CTPV              212160 non-null  object \n",
      " 2   YR                212160 non-null  int64  \n",
      " 3   MM                212160 non-null  int64  \n",
      " 4   EXHST_GAS_GRD_CD  212160 non-null  int64  \n",
      " 5   FUEL_CD           212160 non-null  object \n",
      " 6   VHCTY_CD          212160 non-null  object \n",
      " 7   VHCTY_TY          212160 non-null  object \n",
      " 8   PURPS_CD2         212160 non-null  object \n",
      " 9   VHCL_MKCNT        212160 non-null  float64\n",
      " 10  ERSR_MKCNT        212160 non-null  float64\n",
      " 11  YR_FUEL_VHCL_RT   212160 non-null  float64\n",
      " 12  LOAD_DT           212160 non-null  int64  \n",
      "dtypes: float64(3), int64(5), object(5)\n",
      "memory usage: 21.0+ MB\n"
     ]
    }
   ],
   "source": [
    "# 1s\n",
    "STD_BD_DAT_GRD_CURSTT = pd.read_csv(os.path.join(sys_fold, 'STD_BD_DAT_GRD_CURSTT.csv'))\n",
    "STD_BD_DAT_GRD_CURSTT.info()"
   ]
  },
  {
   "cell_type": "code",
   "execution_count": 61,
   "metadata": {},
   "outputs": [],
   "source": [
    "expdf = STD_BD_DAT_GRD_CURSTT\n",
    "table_nm = 'STD_BD_DAT_GRD_CURSTT'.upper()\n",
    "\n",
    "# 테이블 생성\n",
    "sql = 'create or replace table ' + table_nm + '( \\n'\n",
    "\n",
    "for idx,column in enumerate(expdf.columns):\n",
    "    # if 'float' in expdf[column].dtype.name:\n",
    "    #     sql += column + ' float'\n",
    "    # elif 'int' in expdf[column].dtype.name:\n",
    "    #     sql += column + ' number'\n",
    "    # else:\n",
    "    sql += column + ' varchar(255)'\n",
    "\n",
    "    if len(expdf.columns) - 1 != idx:\n",
    "        sql += ','\n",
    "    sql += '\\n'\n",
    "sql += ')'    \n",
    "we.execute(sql)\n",
    "\n",
    "# 데이터 추가\n",
    "# 12.6s\n",
    "we.import_from_pandas(expdf, table_nm)"
   ]
  },
  {
   "cell_type": "markdown",
   "metadata": {},
   "source": [
    "## STD_BD_DAT_FUEL_CAR_DEC"
   ]
  },
  {
   "cell_type": "code",
   "execution_count": 62,
   "metadata": {},
   "outputs": [
    {
     "name": "stdout",
     "output_type": "stream",
     "text": [
      "<class 'pandas.core.frame.DataFrame'>\n",
      "RangeIndex: 1224 entries, 0 to 1223\n",
      "Data columns (total 18 columns):\n",
      " #   Column            Non-Null Count  Dtype  \n",
      "---  ------            --------------  -----  \n",
      " 0   IDX               1224 non-null   int64  \n",
      " 1   YR                1224 non-null   int64  \n",
      " 2   QRT               1224 non-null   int64  \n",
      " 3   EXHST_GAS_GRD_CD  1224 non-null   object \n",
      " 4   FUEL_CD           1224 non-null   object \n",
      " 5   LPG_MKCNT         96 non-null     float64\n",
      " 6   LPG_PRET          312 non-null    float64\n",
      " 7   LPG_PRET_BSPLN    312 non-null    float64\n",
      " 8   LPG_PRET_AKM      312 non-null    float64\n",
      " 9   DSL_MKCNT         96 non-null     float64\n",
      " 10  DSL_PRET          312 non-null    float64\n",
      " 11  DSL_PRET_BSPLN    312 non-null    float64\n",
      " 12  DSL_PRET_AKM      312 non-null    float64\n",
      " 13  GSL_MKCNT         96 non-null     float64\n",
      " 14  GSL_PRET          312 non-null    float64\n",
      " 15  GSL_PRET_BSPLN    312 non-null    float64\n",
      " 16  GSL_PRET_AKM      312 non-null    float64\n",
      " 17  LOAD_DT           1224 non-null   int64  \n",
      "dtypes: float64(12), int64(4), object(2)\n",
      "memory usage: 172.2+ KB\n"
     ]
    }
   ],
   "source": [
    "# 0s\n",
    "STD_BD_DAT_FUEL_CAR_DEC = pd.read_csv(os.path.join(sys_fold, 'STD_BD_DAT_FUEL_CAR_DEC.csv'))\n",
    "STD_BD_DAT_FUEL_CAR_DEC.info()"
   ]
  },
  {
   "cell_type": "code",
   "execution_count": 63,
   "metadata": {},
   "outputs": [],
   "source": [
    "expdf = STD_BD_DAT_FUEL_CAR_DEC\n",
    "table_nm = 'STD_BD_DAT_FUEL_CAR_DEC'.upper()\n",
    "\n",
    "# 테이블 생성\n",
    "sql = 'create or replace table ' + table_nm + '( \\n'\n",
    "\n",
    "for idx,column in enumerate(expdf.columns):\n",
    "    # if 'float' in expdf[column].dtype.name:\n",
    "    #     sql += column + ' float'\n",
    "    # elif 'int' in expdf[column].dtype.name:\n",
    "    #     sql += column + ' number'\n",
    "    # else:\n",
    "    sql += column + ' varchar(255)'\n",
    "\n",
    "    if len(expdf.columns) - 1 != idx:\n",
    "        sql += ','\n",
    "    sql += '\\n'\n",
    "sql += ')'    \n",
    "we.execute(sql)\n",
    "\n",
    "# 데이터 추가\n",
    "# 12.6s\n",
    "we.import_from_pandas(expdf, table_nm)"
   ]
  },
  {
   "cell_type": "markdown",
   "metadata": {},
   "source": [
    "## STD_BD_GRD5_ELPDSRC_CURSTT"
   ]
  },
  {
   "cell_type": "code",
   "execution_count": 64,
   "metadata": {},
   "outputs": [
    {
     "name": "stdout",
     "output_type": "stream",
     "text": [
      "<class 'pandas.core.frame.DataFrame'>\n",
      "RangeIndex: 73 entries, 0 to 72\n",
      "Data columns (total 8 columns):\n",
      " #   Column      Non-Null Count  Dtype  \n",
      "---  ------      --------------  -----  \n",
      " 0   IDX         73 non-null     int64  \n",
      " 1   RGN         68 non-null     object \n",
      " 2   YR          68 non-null     float64\n",
      " 3   VHCL_MKCNT  68 non-null     object \n",
      " 4   VHCL_REDE   68 non-null     object \n",
      " 5   ELPDSRC     68 non-null     object \n",
      " 6   NTRL_DCLN   68 non-null     object \n",
      " 7   LOAD_DT     73 non-null     int64  \n",
      "dtypes: float64(1), int64(2), object(5)\n",
      "memory usage: 4.7+ KB\n"
     ]
    }
   ],
   "source": [
    "STD_BD_GRD5_ELPDSRC_CURSTT = pd.read_csv(os.path.join(sys_fold, 'STD_BD_GRD5_ELPDSRC_CURSTT.csv'))\n",
    "STD_BD_GRD5_ELPDSRC_CURSTT.info()"
   ]
  },
  {
   "cell_type": "code",
   "execution_count": 65,
   "metadata": {},
   "outputs": [],
   "source": [
    "expdf = STD_BD_GRD5_ELPDSRC_CURSTT\n",
    "table_nm = 'STD_BD_GRD5_ELPDSRC_CURSTT'.upper()\n",
    "\n",
    "# 테이블 생성\n",
    "sql = 'create or replace table ' + table_nm + '( \\n'\n",
    "\n",
    "for idx,column in enumerate(expdf.columns):\n",
    "    if 'float' in expdf[column].dtype.name:\n",
    "        sql += column + ' float'\n",
    "    elif 'int' in expdf[column].dtype.name:\n",
    "        sql += column + ' number'\n",
    "    else:\n",
    "        sql += column + ' varchar(255)'\n",
    "\n",
    "    if len(expdf.columns) - 1 != idx:\n",
    "        sql += ','\n",
    "    sql += '\\n'\n",
    "sql += ')'    \n",
    "we.execute(sql)\n",
    "\n",
    "# 데이터 추가\n",
    "# 5s\n",
    "we.import_from_pandas(expdf, table_nm)"
   ]
  },
  {
   "cell_type": "code",
   "execution_count": 66,
   "metadata": {},
   "outputs": [
    {
     "data": {
      "text/plain": [
       "'create or replace table STD_BD_GRD5_ELPDSRC_CURSTT( \\nIDX number,\\nRGN varchar(255),\\nYR float,\\nVHCL_MKCNT varchar(255),\\nVHCL_REDE varchar(255),\\nELPDSRC varchar(255),\\nNTRL_DCLN varchar(255),\\nLOAD_DT number\\n)'"
      ]
     },
     "execution_count": 66,
     "metadata": {},
     "output_type": "execute_result"
    }
   ],
   "source": [
    "sql"
   ]
  },
  {
   "cell_type": "markdown",
   "metadata": {},
   "source": [
    "## STD_BD_GRD5_LEM_N_MOD"
   ]
  },
  {
   "cell_type": "code",
   "execution_count": 67,
   "metadata": {},
   "outputs": [
    {
     "name": "stdout",
     "output_type": "stream",
     "text": [
      "<class 'pandas.core.frame.DataFrame'>\n",
      "RangeIndex: 12 entries, 0 to 11\n",
      "Data columns (total 5 columns):\n",
      " #   Column      Non-Null Count  Dtype \n",
      "---  ------      --------------  ----- \n",
      " 0   IDX         12 non-null     int64 \n",
      " 1   RGN         12 non-null     object\n",
      " 2   SEASON      12 non-null     object\n",
      " 3   VHCL_MKCNT  12 non-null     object\n",
      " 4   LOAD_DT     12 non-null     int64 \n",
      "dtypes: int64(2), object(3)\n",
      "memory usage: 608.0+ bytes\n"
     ]
    }
   ],
   "source": [
    "STD_BD_GRD5_LEM_N_MOD = pd.read_csv(os.path.join(sys_fold, 'STD_BD_GRD5_LEM_N_MOD.csv'))\n",
    "STD_BD_GRD5_LEM_N_MOD.info()"
   ]
  },
  {
   "cell_type": "code",
   "execution_count": 68,
   "metadata": {},
   "outputs": [],
   "source": [
    "expdf = STD_BD_GRD5_LEM_N_MOD\n",
    "table_nm = 'STD_BD_GRD5_LEM_N_MOD'.upper()\n",
    "\n",
    "# 테이블 생성\n",
    "sql = 'create or replace table ' + table_nm + '( \\n'\n",
    "\n",
    "for idx,column in enumerate(expdf.columns):\n",
    "    if 'float' in expdf[column].dtype.name:\n",
    "        sql += column + ' float'\n",
    "    elif 'int' in expdf[column].dtype.name:\n",
    "        sql += column + ' number'\n",
    "    else:\n",
    "        sql += column + ' varchar(255)'\n",
    "\n",
    "    if len(expdf.columns) - 1 != idx:\n",
    "        sql += ','\n",
    "    sql += '\\n'\n",
    "sql += ')'    \n",
    "we.execute(sql)\n",
    "\n",
    "# 데이터 추가\n",
    "# 5s\n",
    "we.import_from_pandas(expdf, table_nm)"
   ]
  },
  {
   "cell_type": "code",
   "execution_count": 69,
   "metadata": {},
   "outputs": [
    {
     "data": {
      "text/plain": [
       "'create or replace table STD_BD_GRD5_LEM_N_MOD( \\nIDX number,\\nRGN varchar(255),\\nSEASON varchar(255),\\nVHCL_MKCNT varchar(255),\\nLOAD_DT number\\n)'"
      ]
     },
     "execution_count": 69,
     "metadata": {},
     "output_type": "execute_result"
    }
   ],
   "source": [
    "sql"
   ]
  },
  {
   "cell_type": "markdown",
   "metadata": {},
   "source": [
    "## STD_BD_SEASON_CRDN_NOCS_CURSTT"
   ]
  },
  {
   "cell_type": "code",
   "execution_count": 70,
   "metadata": {},
   "outputs": [
    {
     "name": "stdout",
     "output_type": "stream",
     "text": [
      "<class 'pandas.core.frame.DataFrame'>\n",
      "RangeIndex: 973974 entries, 0 to 973973\n",
      "Data columns (total 12 columns):\n",
      " #   Column                 Non-Null Count   Dtype  \n",
      "---  ------                 --------------   -----  \n",
      " 0   IDX                    973974 non-null  int64  \n",
      " 1   LOAD_DT                973974 non-null  int64  \n",
      " 2   VIN                    973974 non-null  object \n",
      " 3   RGN                    973974 non-null  object \n",
      " 4   CTPV                   973974 non-null  object \n",
      " 5   DPF_EXTRNS_YN          973974 non-null  object \n",
      " 6   VHCTY_CD               973962 non-null  object \n",
      " 7   VHCTY_TY               973974 non-null  object \n",
      " 8   SEASON_1ODR_CRDN_NOCS  973974 non-null  float64\n",
      " 9   SEASON_2ODR_CRDN_NOCS  973974 non-null  float64\n",
      " 10  SEASON_3ODR_CRDN_NOCS  973974 non-null  float64\n",
      " 11  SEASON_4ODR_CRDN_NOCS  973974 non-null  float64\n",
      "dtypes: float64(4), int64(2), object(6)\n",
      "memory usage: 89.2+ MB\n"
     ]
    }
   ],
   "source": [
    "STD_BD_SEASON_CRDN_NOCS_CURSTT = pd.read_csv(os.path.join(sys_fold, 'STD_BD_SEASON_CRDN_NOCS_CURSTT.csv'))\n",
    "STD_BD_SEASON_CRDN_NOCS_CURSTT.info()"
   ]
  },
  {
   "cell_type": "code",
   "execution_count": 71,
   "metadata": {},
   "outputs": [],
   "source": [
    "expdf = STD_BD_SEASON_CRDN_NOCS_CURSTT\n",
    "table_nm = 'STD_BD_SEASON_CRDN_NOCS_CURSTT'.upper()\n",
    "\n",
    "# 테이블 생성\n",
    "sql = 'create or replace table ' + table_nm + '( \\n'\n",
    "\n",
    "for idx,column in enumerate(expdf.columns):\n",
    "    # if 'float' in expdf[column].dtype.name:\n",
    "    #     sql += column + ' float'\n",
    "    # elif 'int' in expdf[column].dtype.name:\n",
    "    #     sql += column + ' number'\n",
    "    # else:\n",
    "    sql += column + ' varchar(255)'\n",
    "\n",
    "    if len(expdf.columns) - 1 != idx:\n",
    "        sql += ','\n",
    "    sql += '\\n'\n",
    "sql += ')'    \n",
    "we.execute(sql)\n",
    "\n",
    "# 데이터 추가\n",
    "# 12.6s\n",
    "we.import_from_pandas(expdf, table_nm)"
   ]
  },
  {
   "cell_type": "markdown",
   "metadata": {},
   "source": [
    "## STD_BD_SEASON_DY_AVRG_CRDN_NOCS"
   ]
  },
  {
   "cell_type": "code",
   "execution_count": 72,
   "metadata": {},
   "outputs": [
    {
     "name": "stdout",
     "output_type": "stream",
     "text": [
      "<class 'pandas.core.frame.DataFrame'>\n",
      "RangeIndex: 4 entries, 0 to 3\n",
      "Data columns (total 4 columns):\n",
      " #   Column             Non-Null Count  Dtype  \n",
      "---  ------             --------------  -----  \n",
      " 0   IDX                4 non-null      int64  \n",
      " 1   SEASON_ORD         4 non-null      object \n",
      " 2   DY_AVRG_CRDN_NOCS  4 non-null      float64\n",
      " 3   LOAD_DT            4 non-null      int64  \n",
      "dtypes: float64(1), int64(2), object(1)\n",
      "memory usage: 256.0+ bytes\n"
     ]
    }
   ],
   "source": [
    "STD_BD_SEASON_DY_AVRG_CRDN_NOCS = pd.read_csv(os.path.join(sys_fold, 'STD_BD_SEASON_DY_AVRG_CRDN_NOCS.csv'))\n",
    "STD_BD_SEASON_DY_AVRG_CRDN_NOCS.info()"
   ]
  },
  {
   "cell_type": "code",
   "execution_count": 73,
   "metadata": {},
   "outputs": [],
   "source": [
    "expdf = STD_BD_SEASON_DY_AVRG_CRDN_NOCS\n",
    "table_nm = 'STD_BD_SEASON_DY_AVRG_CRDN_NOCS'.upper()\n",
    "\n",
    "# 테이블 생성\n",
    "sql = 'create or replace table ' + table_nm + '( \\n'\n",
    "\n",
    "for idx,column in enumerate(expdf.columns):\n",
    "    if 'float' in expdf[column].dtype.name:\n",
    "        sql += column + ' float'\n",
    "    elif 'int' in expdf[column].dtype.name:\n",
    "        sql += column + ' number'\n",
    "    else:\n",
    "        sql += column + ' varchar(255)'\n",
    "\n",
    "    if len(expdf.columns) - 1 != idx:\n",
    "        sql += ','\n",
    "    sql += '\\n'\n",
    "sql += ')'    \n",
    "we.execute(sql)\n",
    "\n",
    "# 데이터 추가\n",
    "# 5s\n",
    "we.import_from_pandas(expdf, table_nm)"
   ]
  },
  {
   "cell_type": "code",
   "execution_count": 74,
   "metadata": {},
   "outputs": [
    {
     "data": {
      "text/plain": [
       "'create or replace table STD_BD_SEASON_DY_AVRG_CRDN_NOCS( \\nIDX number,\\nSEASON_ORD varchar(255),\\nDY_AVRG_CRDN_NOCS float,\\nLOAD_DT number\\n)'"
      ]
     },
     "execution_count": 74,
     "metadata": {},
     "output_type": "execute_result"
    }
   ],
   "source": [
    "sql"
   ]
  },
  {
   "cell_type": "markdown",
   "metadata": {},
   "source": [
    "## STD_BD_ORDITM_DSCL_CURSTT"
   ]
  },
  {
   "cell_type": "code",
   "execution_count": 75,
   "metadata": {},
   "outputs": [
    {
     "name": "stdout",
     "output_type": "stream",
     "text": [
      "<class 'pandas.core.frame.DataFrame'>\n",
      "RangeIndex: 84293 entries, 0 to 84292\n",
      "Data columns (total 7 columns):\n",
      " #   Column     Non-Null Count  Dtype  \n",
      "---  ------     --------------  -----  \n",
      " 0   IDX        84293 non-null  int64  \n",
      " 1   VIN        84293 non-null  object \n",
      " 2   DSCL_YR    84293 non-null  int64  \n",
      " 3   DSCL_NOCS  84293 non-null  float64\n",
      " 4   RGN        84293 non-null  object \n",
      " 5   CTPV       84179 non-null  object \n",
      " 6   LOAD_DT    84293 non-null  int64  \n",
      "dtypes: float64(1), int64(3), object(3)\n",
      "memory usage: 4.5+ MB\n"
     ]
    }
   ],
   "source": [
    "STD_BD_ORDITM_DSCL_CURSTT = pd.read_csv(os.path.join(sys_fold, 'STD_BD_ORDITM_DSCL_CURSTT.csv'))\n",
    "STD_BD_ORDITM_DSCL_CURSTT.info()"
   ]
  },
  {
   "cell_type": "code",
   "execution_count": 76,
   "metadata": {},
   "outputs": [],
   "source": [
    "expdf = STD_BD_ORDITM_DSCL_CURSTT\n",
    "table_nm = 'STD_BD_ORDITM_DSCL_CURSTT'.upper()\n",
    "\n",
    "# 테이블 생성\n",
    "sql = 'create or replace table ' + table_nm + '( \\n'\n",
    "\n",
    "for idx,column in enumerate(expdf.columns):\n",
    "    # if 'float' in expdf[column].dtype.name:\n",
    "    #     sql += column + ' float'\n",
    "    # elif 'int' in expdf[column].dtype.name:\n",
    "    #     sql += column + ' number'\n",
    "    # else:\n",
    "    sql += column + ' varchar(255)'\n",
    "\n",
    "    if len(expdf.columns) - 1 != idx:\n",
    "        sql += ','\n",
    "    sql += '\\n'\n",
    "sql += ')'    \n",
    "we.execute(sql)\n",
    "\n",
    "# 데이터 추가\n",
    "# 5s\n",
    "we.import_from_pandas(expdf, table_nm)"
   ]
  },
  {
   "cell_type": "markdown",
   "metadata": {},
   "source": [
    "## STD_BD_SEASON_DSCL_RGN_CURSTT"
   ]
  },
  {
   "cell_type": "code",
   "execution_count": 77,
   "metadata": {},
   "outputs": [
    {
     "name": "stdout",
     "output_type": "stream",
     "text": [
      "<class 'pandas.core.frame.DataFrame'>\n",
      "RangeIndex: 1264089 entries, 0 to 1264088\n",
      "Data columns (total 11 columns):\n",
      " #   Column                 Non-Null Count    Dtype  \n",
      "---  ------                 --------------    -----  \n",
      " 0   IDX                    1264089 non-null  int64  \n",
      " 1   DSCL_RGN               1264089 non-null  object \n",
      " 2   DSCL_CTPV              1264089 non-null  object \n",
      " 3   VIN                    1264089 non-null  object \n",
      " 4   SEASON_1ODR_CRDN_NOCS  0 non-null        float64\n",
      " 5   SEASON_2ODR_CRDN_NOCS  146276 non-null   float64\n",
      " 6   SEASON_3ODR_CRDN_NOCS  75964 non-null    float64\n",
      " 7   SEASON_4ODR_CRDN_NOCS  49717 non-null    float64\n",
      " 8   VHCTY_CD               840194 non-null   object \n",
      " 9   VHCTY_TY               840194 non-null   object \n",
      " 10  LOAD_DT                1264089 non-null  int64  \n",
      "dtypes: float64(4), int64(2), object(5)\n",
      "memory usage: 106.1+ MB\n"
     ]
    }
   ],
   "source": [
    "STD_BD_SEASON_DSCL_RGN_CURSTT = pd.read_csv(os.path.join(sys_fold, 'STD_BD_SEASON_DSCL_RGN_CURSTT.csv'))\n",
    "STD_BD_SEASON_DSCL_RGN_CURSTT.info()"
   ]
  },
  {
   "cell_type": "code",
   "execution_count": 78,
   "metadata": {},
   "outputs": [],
   "source": [
    "expdf = STD_BD_SEASON_DSCL_RGN_CURSTT\n",
    "table_nm = 'STD_BD_SEASON_DSCL_RGN_CURSTT'.upper()\n",
    "\n",
    "# 테이블 생성\n",
    "sql = 'create or replace table ' + table_nm + '( \\n'\n",
    "\n",
    "for idx,column in enumerate(expdf.columns):\n",
    "    # if 'float' in expdf[column].dtype.name:\n",
    "    #     sql += column + ' float'\n",
    "    # elif 'int' in expdf[column].dtype.name:\n",
    "    #     sql += column + ' number'\n",
    "    # else:\n",
    "    sql += column + ' varchar(255)'\n",
    "\n",
    "    if len(expdf.columns) - 1 != idx:\n",
    "        sql += ','\n",
    "    sql += '\\n'\n",
    "sql += ')'    \n",
    "we.execute(sql)\n",
    "\n",
    "# 데이터 추가\n",
    "# 12.6s\n",
    "we.import_from_pandas(expdf, table_nm)"
   ]
  },
  {
   "cell_type": "markdown",
   "metadata": {},
   "source": [
    "## STD_BD_DAT_GRD5_REDUC_BIZ"
   ]
  },
  {
   "cell_type": "code",
   "execution_count": 79,
   "metadata": {},
   "outputs": [
    {
     "name": "stdout",
     "output_type": "stream",
     "text": [
      "<class 'pandas.core.frame.DataFrame'>\n",
      "RangeIndex: 4 entries, 0 to 3\n",
      "Data columns (total 9 columns):\n",
      " #   Column           Non-Null Count  Dtype  \n",
      "---  ------           --------------  -----  \n",
      " 0   IDX              4 non-null      int64  \n",
      " 1   YR               4 non-null      int64  \n",
      " 2   VHCL_MKCNT       4 non-null      float64\n",
      " 3   NTRL_DCLN        3 non-null      float64\n",
      " 4   ELPDSRC          4 non-null      int64  \n",
      " 5   RDCDVC_1KND      4 non-null      float64\n",
      " 6   RDCDVC_1KND_SCR  4 non-null      float64\n",
      " 7   UNMNTNG          4 non-null      float64\n",
      " 8   LOAD_DT          4 non-null      int64  \n",
      "dtypes: float64(5), int64(4)\n",
      "memory usage: 416.0 bytes\n"
     ]
    }
   ],
   "source": [
    "# 0s\n",
    "STD_BD_DAT_GRD5_REDUC_BIZ = pd.read_csv(os.path.join(sys_fold, 'STD_BD_DAT_GRD5_REDUC_BIZ.csv'))\n",
    "STD_BD_DAT_GRD5_REDUC_BIZ.info()"
   ]
  },
  {
   "cell_type": "code",
   "execution_count": 80,
   "metadata": {},
   "outputs": [],
   "source": [
    "expdf = STD_BD_DAT_GRD5_REDUC_BIZ\n",
    "table_nm = 'STD_BD_DAT_GRD5_REDUC_BIZ'.upper()\n",
    "\n",
    "# 테이블 생성\n",
    "sql = 'create or replace table ' + table_nm + '( \\n'\n",
    "\n",
    "for idx,column in enumerate(expdf.columns):\n",
    "    if 'float' in expdf[column].dtype.name:\n",
    "        sql += column + ' float'\n",
    "    elif 'int' in expdf[column].dtype.name:\n",
    "        sql += column + ' number'\n",
    "    else:\n",
    "        sql += column + ' varchar(255)'\n",
    "\n",
    "    if len(expdf.columns) - 1 != idx:\n",
    "        sql += ','\n",
    "    sql += '\\n'\n",
    "sql += ')'    \n",
    "we.execute(sql)\n",
    "\n",
    "# 데이터 추가\n",
    "# 12.6s\n",
    "we.import_from_pandas(expdf, table_nm)"
   ]
  },
  {
   "cell_type": "code",
   "execution_count": 81,
   "metadata": {},
   "outputs": [
    {
     "data": {
      "text/plain": [
       "'create or replace table STD_BD_DAT_GRD5_REDUC_BIZ( \\nIDX number,\\nYR number,\\nVHCL_MKCNT float,\\nNTRL_DCLN float,\\nELPDSRC number,\\nRDCDVC_1KND float,\\nRDCDVC_1KND_SCR float,\\nUNMNTNG float,\\nLOAD_DT number\\n)'"
      ]
     },
     "execution_count": 81,
     "metadata": {},
     "output_type": "execute_result"
    }
   ],
   "source": [
    "sql"
   ]
  },
  {
   "cell_type": "markdown",
   "metadata": {},
   "source": [
    "## STD_BD_DAT_RUN_LMT_CURSTT"
   ]
  },
  {
   "cell_type": "code",
   "execution_count": 82,
   "metadata": {},
   "outputs": [
    {
     "name": "stdout",
     "output_type": "stream",
     "text": [
      "<class 'pandas.core.frame.DataFrame'>\n",
      "RangeIndex: 502 entries, 0 to 501\n",
      "Data columns (total 10 columns):\n",
      " #   Column           Non-Null Count  Dtype  \n",
      "---  ------           --------------  -----  \n",
      " 0   IDX              502 non-null    int64  \n",
      " 1   SEASON           502 non-null    object \n",
      " 2   RGN              502 non-null    object \n",
      " 3   CTPV             502 non-null    object \n",
      " 4   VHCTY_CD         502 non-null    object \n",
      " 5   VHCTY_TY         502 non-null    object \n",
      " 6   DSCL_VHCL_MKCNT  502 non-null    int64  \n",
      " 7   UNLEM            502 non-null    int64  \n",
      " 8   DUP_DSCL_MKCNT   433 non-null    float64\n",
      " 9   LOAD_DT          502 non-null    int64  \n",
      "dtypes: float64(1), int64(4), object(5)\n",
      "memory usage: 39.3+ KB\n"
     ]
    }
   ],
   "source": [
    "# 0s\n",
    "STD_BD_DAT_RUN_LMT_CURSTT = pd.read_csv(os.path.join(sys_fold, 'STD_BD_DAT_RUN_LMT_CURSTT.csv'))\n",
    "STD_BD_DAT_RUN_LMT_CURSTT.info()"
   ]
  },
  {
   "cell_type": "code",
   "execution_count": 83,
   "metadata": {},
   "outputs": [],
   "source": [
    "expdf = STD_BD_DAT_RUN_LMT_CURSTT\n",
    "table_nm = 'STD_BD_DAT_RUN_LMT_CURSTT'.upper()\n",
    "\n",
    "# 테이블 생성\n",
    "sql = 'create or replace table ' + table_nm + '( \\n'\n",
    "\n",
    "for idx,column in enumerate(expdf.columns):\n",
    "    # if 'float' in expdf[column].dtype.name:\n",
    "    #     sql += column + ' float'\n",
    "    # elif 'int' in expdf[column].dtype.name:\n",
    "    #     sql += column + ' number'\n",
    "    # else:\n",
    "    sql += column + ' varchar(255)'\n",
    "\n",
    "    if len(expdf.columns) - 1 != idx:\n",
    "        sql += ','\n",
    "    sql += '\\n'\n",
    "sql += ')'    \n",
    "we.execute(sql)\n",
    "\n",
    "# 데이터 추가\n",
    "# 12.6s\n",
    "we.import_from_pandas(expdf, table_nm)"
   ]
  },
  {
   "cell_type": "markdown",
   "metadata": {},
   "source": [
    "## STD_BD_GRD4_DS_CRRLTN_CFFCNT"
   ]
  },
  {
   "cell_type": "code",
   "execution_count": 84,
   "metadata": {},
   "outputs": [
    {
     "name": "stdout",
     "output_type": "stream",
     "text": [
      "<class 'pandas.core.frame.DataFrame'>\n",
      "RangeIndex: 4 entries, 0 to 3\n",
      "Data columns (total 8 columns):\n",
      " #   Column               Non-Null Count  Dtype  \n",
      "---  ------               --------------  -----  \n",
      " 0   IDX                  4 non-null      int64  \n",
      " 1   LIST                 4 non-null      object \n",
      " 2   NOLOD_SMO_MEVLU1     4 non-null      float64\n",
      " 3   DY_AVRG_DRVNG_DSTNC  4 non-null      float64\n",
      " 4   RCNT_INSP_ELPSD_WHL  4 non-null      float64\n",
      " 5   RUN_LMT_NOCS         4 non-null      float64\n",
      " 6   TOT_CRRLTN_CFFCNT    4 non-null      float64\n",
      " 7   LOAD_DT              4 non-null      int64  \n",
      "dtypes: float64(5), int64(2), object(1)\n",
      "memory usage: 384.0+ bytes\n"
     ]
    }
   ],
   "source": [
    "STD_BD_GRD4_DS_CRRLTN_CFFCNT = pd.read_csv(os.path.join(sys_fold, 'STD_BD_GRD4_DS_CRRLTN_CFFCNT.csv'))\n",
    "STD_BD_GRD4_DS_CRRLTN_CFFCNT.info()"
   ]
  },
  {
   "cell_type": "code",
   "execution_count": 85,
   "metadata": {},
   "outputs": [],
   "source": [
    "expdf = STD_BD_GRD4_DS_CRRLTN_CFFCNT\n",
    "table_nm = 'STD_BD_GRD4_DS_CRRLTN_CFFCNT'.upper()\n",
    "\n",
    "# 테이블 생성\n",
    "sql = 'create or replace table ' + table_nm + '( \\n'\n",
    "\n",
    "for idx,column in enumerate(expdf.columns):\n",
    "    # if 'float' in expdf[column].dtype.name:\n",
    "    #     sql += column + ' float'\n",
    "    # elif 'int' in expdf[column].dtype.name:\n",
    "    #     sql += column + ' number'\n",
    "    # else:\n",
    "    sql += column + ' varchar(255)'\n",
    "\n",
    "    if len(expdf.columns) - 1 != idx:\n",
    "        sql += ','\n",
    "    sql += '\\n'\n",
    "sql += ')'    \n",
    "we.execute(sql)\n",
    "\n",
    "# 데이터 추가\n",
    "# 5s\n",
    "we.import_from_pandas(expdf, table_nm)"
   ]
  },
  {
   "cell_type": "markdown",
   "metadata": {},
   "source": [
    "## STD_BD_GRD4_LEM_PRIO_ORD_SELCT_CURSTT"
   ]
  },
  {
   "cell_type": "code",
   "execution_count": 86,
   "metadata": {},
   "outputs": [
    {
     "name": "stdout",
     "output_type": "stream",
     "text": [
      "<class 'pandas.core.frame.DataFrame'>\n",
      "RangeIndex: 1052791 entries, 0 to 1052790\n",
      "Data columns (total 17 columns):\n",
      " #   Column               Non-Null Count    Dtype  \n",
      "---  ------               --------------    -----  \n",
      " 0   IDX                  1052791 non-null  int64  \n",
      " 1   LOAD_DT              1052791 non-null  int64  \n",
      " 2   VIN                  1052791 non-null  object \n",
      " 3   VHRNO                1052791 non-null  object \n",
      " 4   STDG_CD              1052791 non-null  int64  \n",
      " 5   CTPV_NM              1052791 non-null  object \n",
      " 6   SGG_NM               1046559 non-null  object \n",
      " 7   YRIDNW               1052791 non-null  int64  \n",
      " 8   PURPS_CD2            1052791 non-null  object \n",
      " 9   VHCTY_CD             1052791 non-null  object \n",
      " 10  VHCTY_TY             1052791 non-null  object \n",
      " 11  PRIO_GRD             1052791 non-null  int64  \n",
      " 12  SELCT_PNT            1024883 non-null  float64\n",
      " 13  NOLOD_SMO_MEVLU1     1047848 non-null  float64\n",
      " 14  DY_AVRG_DRVNG_DSTNC  1052791 non-null  float64\n",
      " 15  RCNT_INSP_ELPSD_WHL  1047969 non-null  float64\n",
      " 16  RUN_LMT_NOCS         1052791 non-null  float64\n",
      "dtypes: float64(5), int64(5), object(7)\n",
      "memory usage: 136.5+ MB\n"
     ]
    }
   ],
   "source": [
    "STD_BD_GRD4_LEM_PRIO_ORD_SELCT_CURSTT = pd.read_csv(os.path.join(sys_fold, 'STD_BD_GRD4_LEM_PRIO_ORD_SELCT_CURSTT.csv'))\n",
    "STD_BD_GRD4_LEM_PRIO_ORD_SELCT_CURSTT.info()"
   ]
  },
  {
   "cell_type": "code",
   "execution_count": 87,
   "metadata": {},
   "outputs": [],
   "source": [
    "expdf = STD_BD_GRD4_LEM_PRIO_ORD_SELCT_CURSTT\n",
    "table_nm = 'STD_BD_GRD4_LEM_PRIO_ORD_SELCT_CURSTT'.upper()\n",
    "\n",
    "# 테이블 생성\n",
    "sql = 'create or replace table ' + table_nm + '( \\n'\n",
    "\n",
    "for idx,column in enumerate(expdf.columns):\n",
    "    # if 'float' in expdf[column].dtype.name:\n",
    "    #     sql += column + ' float'\n",
    "    # elif 'int' in expdf[column].dtype.name:\n",
    "    #     sql += column + ' number'\n",
    "    # else:\n",
    "    sql += column + ' varchar(255)'\n",
    "\n",
    "    if len(expdf.columns) - 1 != idx:\n",
    "        sql += ','\n",
    "    sql += '\\n'\n",
    "sql += ')'    \n",
    "we.execute(sql)\n",
    "\n",
    "# 데이터 추가\n",
    "# 12.6s\n",
    "we.import_from_pandas(expdf, table_nm)"
   ]
  },
  {
   "cell_type": "markdown",
   "metadata": {},
   "source": [
    "## STD_BD_GRD5_DS_CRRLTN_CFFCNT"
   ]
  },
  {
   "cell_type": "code",
   "execution_count": 88,
   "metadata": {},
   "outputs": [
    {
     "name": "stdout",
     "output_type": "stream",
     "text": [
      "<class 'pandas.core.frame.DataFrame'>\n",
      "RangeIndex: 4 entries, 0 to 3\n",
      "Data columns (total 8 columns):\n",
      " #   Column               Non-Null Count  Dtype  \n",
      "---  ------               --------------  -----  \n",
      " 0   IDX                  4 non-null      int64  \n",
      " 1   LIST                 4 non-null      object \n",
      " 2   NOLOD_SMO_MEVLU1     4 non-null      float64\n",
      " 3   DY_AVRG_DRVNG_DSTNC  4 non-null      float64\n",
      " 4   RCNT_INSP_ELPSD_WHL  4 non-null      float64\n",
      " 5   RUN_LMT_NOCS         4 non-null      float64\n",
      " 6   TOT_CRRLTN_CFFCNT    4 non-null      float64\n",
      " 7   LOAD_DT              4 non-null      int64  \n",
      "dtypes: float64(5), int64(2), object(1)\n",
      "memory usage: 384.0+ bytes\n"
     ]
    }
   ],
   "source": [
    "STD_BD_GRD5_DS_CRRLTN_CFFCNT = pd.read_csv(os.path.join(sys_fold, 'STD_BD_GRD5_DS_CRRLTN_CFFCNT.csv'))\n",
    "STD_BD_GRD5_DS_CRRLTN_CFFCNT.info()"
   ]
  },
  {
   "cell_type": "code",
   "execution_count": 89,
   "metadata": {},
   "outputs": [],
   "source": [
    "expdf = STD_BD_GRD5_DS_CRRLTN_CFFCNT\n",
    "table_nm = 'STD_BD_GRD5_DS_CRRLTN_CFFCNT'.upper()\n",
    "\n",
    "# 테이블 생성\n",
    "sql = 'create or replace table ' + table_nm + '( \\n'\n",
    "\n",
    "for idx,column in enumerate(expdf.columns):\n",
    "    # if 'float' in expdf[column].dtype.name:\n",
    "    #     sql += column + ' float'\n",
    "    # elif 'int' in expdf[column].dtype.name:\n",
    "    #     sql += column + ' number'\n",
    "    # else:\n",
    "    sql += column + ' varchar(255)'\n",
    "\n",
    "    if len(expdf.columns) - 1 != idx:\n",
    "        sql += ','\n",
    "    sql += '\\n'\n",
    "sql += ')'    \n",
    "we.execute(sql)\n",
    "\n",
    "# 데이터 추가\n",
    "# 5s\n",
    "we.import_from_pandas(expdf, table_nm)"
   ]
  },
  {
   "cell_type": "markdown",
   "metadata": {},
   "source": [
    "## STD_BD_GRD5_LEM_PRIO_ORD_SELCT_CURSTT"
   ]
  },
  {
   "cell_type": "code",
   "execution_count": 90,
   "metadata": {},
   "outputs": [
    {
     "name": "stdout",
     "output_type": "stream",
     "text": [
      "<class 'pandas.core.frame.DataFrame'>\n",
      "RangeIndex: 943881 entries, 0 to 943880\n",
      "Data columns (total 18 columns):\n",
      " #   Column               Non-Null Count   Dtype  \n",
      "---  ------               --------------   -----  \n",
      " 0   IDX                  943881 non-null  int64  \n",
      " 1   VIN                  943881 non-null  object \n",
      " 2   VHRNO                943881 non-null  object \n",
      " 3   STDG_CD              943881 non-null  int64  \n",
      " 4   CTPV_NM              943881 non-null  object \n",
      " 5   SGG_NM               940392 non-null  object \n",
      " 6   YRIDNW               943881 non-null  int64  \n",
      " 7   PURPS_CD2            943881 non-null  object \n",
      " 8   VHCTY_CD             943871 non-null  object \n",
      " 9   VHCTY_TY             943881 non-null  object \n",
      " 10  RDCDVC               281483 non-null  object \n",
      " 11  PRIO_GRD             943881 non-null  int64  \n",
      " 12  SELCT_PNT            555873 non-null  float64\n",
      " 13  NOLOD_SMO_MEVLU1     704145 non-null  float64\n",
      " 14  DY_AVRG_DRVNG_DSTNC  943881 non-null  float64\n",
      " 15  RCNT_INSP_ELPSD_WHL  706055 non-null  float64\n",
      " 16  RUN_LMT_NOCS         943881 non-null  float64\n",
      " 17  LOAD_DT              943881 non-null  int64  \n",
      "dtypes: float64(5), int64(5), object(8)\n",
      "memory usage: 129.6+ MB\n"
     ]
    }
   ],
   "source": [
    "STD_BD_GRD5_LEM_PRIO_ORD_SELCT_CURSTT = pd.read_csv(os.path.join(sys_fold, 'STD_BD_GRD5_LEM_PRIO_ORD_SELCT_CURSTT.csv'))\n",
    "STD_BD_GRD5_LEM_PRIO_ORD_SELCT_CURSTT.info()"
   ]
  },
  {
   "cell_type": "code",
   "execution_count": 91,
   "metadata": {},
   "outputs": [],
   "source": [
    "expdf = STD_BD_GRD5_LEM_PRIO_ORD_SELCT_CURSTT\n",
    "table_nm = 'STD_BD_GRD5_LEM_PRIO_ORD_SELCT_CURSTT'.upper()\n",
    "\n",
    "# 테이블 생성\n",
    "sql = 'create or replace table ' + table_nm + '( \\n'\n",
    "\n",
    "for idx,column in enumerate(expdf.columns):\n",
    "    # if 'float' in expdf[column].dtype.name:\n",
    "    #     sql += column + ' float'\n",
    "    # elif 'int' in expdf[column].dtype.name:\n",
    "    #     sql += column + ' number'\n",
    "    # else:\n",
    "    sql += column + ' varchar(255)'\n",
    "\n",
    "    if len(expdf.columns) - 1 != idx:\n",
    "        sql += ','\n",
    "    sql += '\\n'\n",
    "sql += ')'    \n",
    "we.execute(sql)\n",
    "\n",
    "# 데이터 추가\n",
    "# 12.6s\n",
    "we.import_from_pandas(expdf, table_nm)"
   ]
  },
  {
   "cell_type": "markdown",
   "metadata": {},
   "source": [
    "## STD_BD_DAT_LEM_SELCT"
   ]
  },
  {
   "cell_type": "code",
   "execution_count": 92,
   "metadata": {},
   "outputs": [
    {
     "name": "stdout",
     "output_type": "stream",
     "text": [
      "<class 'pandas.core.frame.DataFrame'>\n",
      "RangeIndex: 397 entries, 0 to 396\n",
      "Data columns (total 14 columns):\n",
      " #   Column               Non-Null Count  Dtype  \n",
      "---  ------               --------------  -----  \n",
      " 0   IDX                  397 non-null    int64  \n",
      " 1   CTPV                 397 non-null    object \n",
      " 2   EXHST_GAS_GRD_CD     397 non-null    int64  \n",
      " 3   VHCTY_CD             397 non-null    object \n",
      " 4   VHCTY_TY             397 non-null    object \n",
      " 5   SELCT_MKCNT          397 non-null    float64\n",
      " 6   SENO1_MKCNT          397 non-null    float64\n",
      " 7   SENO1_RT             397 non-null    float64\n",
      " 8   SENO2_MKCNT          397 non-null    float64\n",
      " 9   SENO2_RT             397 non-null    float64\n",
      " 10  SENO3_MKCNT          397 non-null    float64\n",
      " 11  SENO3_RT             397 non-null    float64\n",
      " 12  RDCDVC_EXTRNS_MKCNT  397 non-null    int64  \n",
      " 13  LOAD_DT              397 non-null    int64  \n",
      "dtypes: float64(7), int64(4), object(3)\n",
      "memory usage: 43.5+ KB\n"
     ]
    }
   ],
   "source": [
    "# 0s\n",
    "STD_BD_DAT_LEM_SELCT = pd.read_csv(os.path.join(sys_fold, 'STD_BD_DAT_LEM_SELCT.csv'))\n",
    "STD_BD_DAT_LEM_SELCT.info()"
   ]
  },
  {
   "cell_type": "code",
   "execution_count": 93,
   "metadata": {},
   "outputs": [],
   "source": [
    "expdf = STD_BD_DAT_LEM_SELCT\n",
    "table_nm = 'STD_BD_DAT_LEM_SELCT'.upper()\n",
    "\n",
    "# 테이블 생성\n",
    "sql = 'create or replace table ' + table_nm + '( \\n'\n",
    "\n",
    "for idx,column in enumerate(expdf.columns):\n",
    "    # if 'float' in expdf[column].dtype.name:\n",
    "    #     sql += column + ' float'\n",
    "    # elif 'int' in expdf[column].dtype.name:\n",
    "    #     sql += column + ' number'\n",
    "    # else:\n",
    "    sql += column + ' varchar(255)'\n",
    "\n",
    "    if len(expdf.columns) - 1 != idx:\n",
    "        sql += ','\n",
    "    sql += '\\n'\n",
    "sql += ')'    \n",
    "we.execute(sql)\n",
    "\n",
    "# 데이터 추가\n",
    "# 1s\n",
    "we.import_from_pandas(expdf, table_nm)"
   ]
  },
  {
   "cell_type": "markdown",
   "metadata": {},
   "source": [
    "## STD_BD_DAT_SELCT_PNT_CURSTT"
   ]
  },
  {
   "cell_type": "code",
   "execution_count": 94,
   "metadata": {},
   "outputs": [
    {
     "name": "stdout",
     "output_type": "stream",
     "text": [
      "<class 'pandas.core.frame.DataFrame'>\n",
      "RangeIndex: 160 entries, 0 to 159\n",
      "Data columns (total 11 columns):\n",
      " #   Column               Non-Null Count  Dtype  \n",
      "---  ------               --------------  -----  \n",
      " 0   IDX                  160 non-null    int64  \n",
      " 1   EXHST_GAS_GRD_CD     160 non-null    int64  \n",
      " 2   SELCT_PNT_RNG        160 non-null    object \n",
      " 3   VHCTY_CD             160 non-null    object \n",
      " 4   VHCTY_TY             160 non-null    object \n",
      " 5   VHCL_MKCNT           160 non-null    int64  \n",
      " 6   SMO_MSRMT_VAL        160 non-null    float64\n",
      " 7   DY_AVRG_DRVNG_DSTNC  160 non-null    float64\n",
      " 8   RCNT_INSP_ELPSD_WHL  160 non-null    float64\n",
      " 9   RUN_LMT_NOCS         160 non-null    float64\n",
      " 10  LOAD_DT              160 non-null    int64  \n",
      "dtypes: float64(4), int64(4), object(3)\n",
      "memory usage: 13.9+ KB\n"
     ]
    }
   ],
   "source": [
    "# 0s\n",
    "STD_BD_DAT_SELCT_PNT_CURSTT = pd.read_csv(os.path.join(sys_fold, 'STD_BD_DAT_SELCT_PNT_CURSTT.csv'))\n",
    "STD_BD_DAT_SELCT_PNT_CURSTT.info()"
   ]
  },
  {
   "cell_type": "code",
   "execution_count": 95,
   "metadata": {},
   "outputs": [],
   "source": [
    "expdf = STD_BD_DAT_SELCT_PNT_CURSTT\n",
    "table_nm = 'STD_BD_DAT_SELCT_PNT_CURSTT'.upper()\n",
    "\n",
    "# 테이블 생성\n",
    "sql = 'create or replace table ' + table_nm + '( \\n'\n",
    "\n",
    "for idx,column in enumerate(expdf.columns):\n",
    "    # if 'float' in expdf[column].dtype.name:\n",
    "    #     sql += column + ' float'\n",
    "    # elif 'int' in expdf[column].dtype.name:\n",
    "    #     sql += column + ' number'\n",
    "    # else:\n",
    "    sql += column + ' varchar(255)'\n",
    "\n",
    "    if len(expdf.columns) - 1 != idx:\n",
    "        sql += ','\n",
    "    sql += '\\n'\n",
    "sql += ')'    \n",
    "we.execute(sql)\n",
    "\n",
    "# 데이터 추가\n",
    "# 1s\n",
    "we.import_from_pandas(expdf, table_nm)"
   ]
  },
  {
   "cell_type": "markdown",
   "metadata": {},
   "source": [
    "# 동양 요청 파일"
   ]
  },
  {
   "cell_type": "markdown",
   "metadata": {},
   "source": [
    "## STD_BD_CAR_CURSTT_MOD_4RD_INS"
   ]
  },
  {
   "cell_type": "code",
   "execution_count": 96,
   "metadata": {},
   "outputs": [],
   "source": [
    "# # 0s\n",
    "# STD_BD_CAR_CURSTT_MOD_4RD_INS = pd.read_csv(os.path.join(sys_fold, 'STD_BD_CAR_CURSTT_MOD_4RD_INS.csv'))\n",
    "# STD_BD_CAR_CURSTT_MOD_4RD_INS.info()"
   ]
  },
  {
   "cell_type": "code",
   "execution_count": 97,
   "metadata": {},
   "outputs": [],
   "source": [
    "# expdf = STD_BD_CAR_CURSTT_MOD_4RD_INS\n",
    "# table_nm = 'STD_BD_CAR_CURSTT_MOD_4RD_INS'.upper()\n",
    "\n",
    "# # 테이블 생성\n",
    "# sql = 'create or replace table ' + table_nm + '( \\n'\n",
    "\n",
    "# for idx,column in enumerate(expdf.columns):\n",
    "#     if 'float' in expdf[column].dtype.name:\n",
    "#         sql += column + ' float'\n",
    "#     elif 'int' in expdf[column].dtype.name:\n",
    "#         sql += column + ' number'\n",
    "#     else:\n",
    "#         sql += column + ' varchar(255)'\n",
    "\n",
    "#     if len(expdf.columns) - 1 != idx:\n",
    "#         sql += ','\n",
    "#     sql += '\\n'\n",
    "# sql += ')'    \n",
    "# we.execute(sql)\n",
    "\n",
    "# # 데이터 추가\n",
    "# # 1s\n",
    "# we.import_from_pandas(expdf, table_nm)"
   ]
  },
  {
   "cell_type": "code",
   "execution_count": 98,
   "metadata": {},
   "outputs": [],
   "source": [
    "# sql"
   ]
  },
  {
   "cell_type": "markdown",
   "metadata": {},
   "source": [
    "## STD_BD_CAR_CURSTT_MOD2_4RD_INS"
   ]
  },
  {
   "cell_type": "code",
   "execution_count": 99,
   "metadata": {},
   "outputs": [],
   "source": [
    "# # 0s\n",
    "# STD_BD_CAR_CURSTT_MOD2_4RD_INS = pd.read_csv(os.path.join(sys_fold, 'STD_BD_CAR_CURSTT_MOD2_4RD_INS.csv'))\n",
    "# STD_BD_CAR_CURSTT_MOD2_4RD_INS.info()"
   ]
  },
  {
   "cell_type": "code",
   "execution_count": 100,
   "metadata": {},
   "outputs": [],
   "source": [
    "# expdf = STD_BD_CAR_CURSTT_MOD2_4RD_INS\n",
    "# table_nm = 'STD_BD_CAR_CURSTT_MOD2_4RD_INS'.upper()\n",
    "\n",
    "# # 테이블 생성\n",
    "# sql = 'create or replace table ' + table_nm + '( \\n'\n",
    "\n",
    "# for idx,column in enumerate(expdf.columns):\n",
    "#     if 'float' in expdf[column].dtype.name:\n",
    "#         sql += column + ' float'\n",
    "#     elif 'int' in expdf[column].dtype.name:\n",
    "#         sql += column + ' number'\n",
    "#     else:\n",
    "#         sql += column + ' varchar(255)'\n",
    "\n",
    "#     if len(expdf.columns) - 1 != idx:\n",
    "#         sql += ','\n",
    "#     sql += '\\n'\n",
    "# sql += ')'    \n",
    "# we.execute(sql)\n",
    "\n",
    "# # 데이터 추가\n",
    "# # 1s\n",
    "# we.import_from_pandas(expdf, table_nm)"
   ]
  },
  {
   "cell_type": "code",
   "execution_count": 101,
   "metadata": {},
   "outputs": [],
   "source": [
    "# sql"
   ]
  },
  {
   "cell_type": "markdown",
   "metadata": {},
   "source": [
    "# code end"
   ]
  }
 ],
 "metadata": {
  "interpreter": {
   "hash": "569b4317022eb29baeafb3d0f1f739310808ea28ce83ca127a35db1c01070585"
  },
  "kernelspec": {
   "display_name": "Python 3 (ipykernel)",
   "language": "python",
   "name": "python3"
  },
  "language_info": {
   "codemirror_mode": {
    "name": "ipython",
    "version": 3
   },
   "file_extension": ".py",
   "mimetype": "text/x-python",
   "name": "python",
   "nbconvert_exporter": "python",
   "pygments_lexer": "ipython3",
   "version": "3.9.13"
  },
  "vscode": {
   "interpreter": {
    "hash": "ad2bdc8ecc057115af97d19610ffacc2b4e99fae6737bb82f5d7fb13d2f2c186"
   }
  }
 },
 "nbformat": 4,
 "nbformat_minor": 4
}
