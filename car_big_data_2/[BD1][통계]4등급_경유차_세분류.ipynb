{
 "cells": [
  {
   "attachments": {},
   "cell_type": "markdown",
   "metadata": {},
   "source": [
    "# Library"
   ]
  },
  {
   "cell_type": "code",
   "execution_count": 163,
   "metadata": {},
   "outputs": [],
   "source": [
    "import pandas as pd\n",
    "import numpy as np\n",
    "import os\n",
    "from tqdm import tqdm\n",
    "from datetime import datetime"
   ]
  },
  {
   "cell_type": "code",
   "execution_count": 55,
   "metadata": {},
   "outputs": [],
   "source": [
    "# 소수점 옵션\n",
    "pd.options.display.float_format = '{:.2f}'.format\n",
    "# pd.reset_option('display.float_format')"
   ]
  },
  {
   "attachments": {},
   "cell_type": "markdown",
   "metadata": {},
   "source": [
    "# fold path"
   ]
  },
  {
   "cell_type": "code",
   "execution_count": 56,
   "metadata": {},
   "outputs": [],
   "source": [
    "ods_fold = 'D:/data/big2/ODS'"
   ]
  },
  {
   "attachments": {},
   "cell_type": "markdown",
   "metadata": {},
   "source": [
    "# Load"
   ]
  },
  {
   "attachments": {},
   "cell_type": "markdown",
   "metadata": {},
   "source": [
    "## 등록&제원(말소제거)"
   ]
  },
  {
   "cell_type": "code",
   "execution_count": 160,
   "metadata": {},
   "outputs": [],
   "source": [
    "grade = 4"
   ]
  },
  {
   "cell_type": "code",
   "execution_count": 6,
   "metadata": {},
   "outputs": [],
   "source": [
    "file_name = f'[ODS][G{grade}]등록정보&제원정보(말소제거)(2022.12.28).csv'"
   ]
  },
  {
   "cell_type": "code",
   "execution_count": 7,
   "metadata": {},
   "outputs": [
    {
     "name": "stdout",
     "output_type": "stream",
     "text": [
      "<class 'pandas.core.frame.DataFrame'>\n",
      "RangeIndex: 1511251 entries, 0 to 1511250\n",
      "Data columns (total 49 columns):\n",
      " #   Column        Non-Null Count    Dtype  \n",
      "---  ------        --------------    -----  \n",
      " 0   차량관리번호        1511251 non-null  object \n",
      " 1   차량등록번호        1511251 non-null  object \n",
      " 2   본거지법정동코드      1511251 non-null  int64  \n",
      " 3   소유자구분         1511251 non-null  object \n",
      " 4   차종_등록정보       1511249 non-null  object \n",
      " 5   용도            1511251 non-null  object \n",
      " 6   현재회원번호        1510412 non-null  object \n",
      " 7   차대번호          1511251 non-null  object \n",
      " 8   최초등록일자        1511251 non-null  int64  \n",
      " 9   차량연식          1511251 non-null  int64  \n",
      " 10  차량제작일자        1342461 non-null  float64\n",
      " 11  배출가스검사유효일자    1511239 non-null  float64\n",
      " 12  제원관리번호        1511251 non-null  object \n",
      " 13  배출가스인증번호      1387530 non-null  object \n",
      " 14  배출가스등급        1511251 non-null  object \n",
      " 15  저공해조치YN(미사용)  1511096 non-null  object \n",
      " 16  저공해조치종류       189 non-null      float64\n",
      " 17  저공해조치구조변경YN   1511251 non-null  object \n",
      " 18  차량등록번호숫자정보    1511251 non-null  int64  \n",
      " 19  차량말소YN        1511251 non-null  object \n",
      " 20  최초회원번호        1506595 non-null  object \n",
      " 21  취득일자          1418010 non-null  object \n",
      " 22  취득금액          1436843 non-null  float64\n",
      " 23  생성일시_등록정보     1511251 non-null  object \n",
      " 24  수정일시_등록정보     915041 non-null   object \n",
      " 25  차명            1511251 non-null  object \n",
      " 26  차종_제원정보       1511251 non-null  object \n",
      " 27  차종분류          1511251 non-null  object \n",
      " 28  차종유형(소분류)     1511251 non-null  object \n",
      " 29  자동차형식         1510723 non-null  object \n",
      " 30  제작사명          1501221 non-null  object \n",
      " 31  연료            1511180 non-null  object \n",
      " 32  엔진형식          1509249 non-null  object \n",
      " 33  공차중량          0 non-null        float64\n",
      " 34  총중량           1511226 non-null  float64\n",
      " 35  적재중량          1510714 non-null  float64\n",
      " 36  엔진출력          1510623 non-null  float64\n",
      " 37  배기량           1511240 non-null  float64\n",
      " 38  승차인원          1511251 non-null  float64\n",
      " 39  차량길이          1511176 non-null  float64\n",
      " 40  차량너비          1511176 non-null  float64\n",
      " 41  차량높이          1511174 non-null  float64\n",
      " 42  원산지명          1492122 non-null  object \n",
      " 43  삭제YN          1511251 non-null  object \n",
      " 44  승인일자          1510704 non-null  object \n",
      " 45  구동형식          47 non-null       float64\n",
      " 46  변속기종류         1511091 non-null  object \n",
      " 47  생성일시_제원정보     1511251 non-null  object \n",
      " 48  수정일시_제원정보     497 non-null      object \n",
      "dtypes: float64(14), int64(4), object(31)\n",
      "memory usage: 565.0+ MB\n"
     ]
    }
   ],
   "source": [
    "# about 32s\n",
    "car_info = pd.read_csv(os.path.join(ods_fold, file_name), encoding='cp949', low_memory=False)\n",
    "car_info.info()"
   ]
  },
  {
   "attachments": {},
   "cell_type": "markdown",
   "metadata": {},
   "source": [
    "## 저감장치 부착이력(중복차대제거)"
   ]
  },
  {
   "cell_type": "code",
   "execution_count": 10,
   "metadata": {},
   "outputs": [],
   "source": [
    "file_name = '[ODS]저감장치부착이력(중복차대제거)(2022.12.28).csv'"
   ]
  },
  {
   "cell_type": "code",
   "execution_count": 12,
   "metadata": {},
   "outputs": [
    {
     "name": "stdout",
     "output_type": "stream",
     "text": [
      "<class 'pandas.core.frame.DataFrame'>\n",
      "RangeIndex: 809255 entries, 0 to 809254\n",
      "Data columns (total 11 columns):\n",
      " #   Column      Non-Null Count   Dtype  \n",
      "---  ------      --------------   -----  \n",
      " 0   저감장치종류      585410 non-null  object \n",
      " 1   TDMS부착여부    204903 non-null  object \n",
      " 2   구조변경일자      809255 non-null  int64  \n",
      " 3   부착업체명       800321 non-null  object \n",
      " 4   부착일자        809254 non-null  float64\n",
      " 5   탈거승인일       169 non-null     float64\n",
      " 6   차량번호        809255 non-null  object \n",
      " 7   차대번호        809255 non-null  object \n",
      " 8   저감장치반납여부    324650 non-null  object \n",
      " 9   저감장치구분      809255 non-null  object \n",
      " 10  삼원촉매장치반납여부  13688 non-null   object \n",
      "dtypes: float64(2), int64(1), object(8)\n",
      "memory usage: 67.9+ MB\n"
     ]
    }
   ],
   "source": [
    "dpf = pd.read_csv(os.path.join(ods_fold, file_name), low_memory=False, encoding='cp949')\n",
    "dpf.info()"
   ]
  },
  {
   "attachments": {},
   "cell_type": "markdown",
   "metadata": {},
   "source": [
    "## 유로4인증대장"
   ]
  },
  {
   "cell_type": "code",
   "execution_count": 13,
   "metadata": {},
   "outputs": [
    {
     "name": "stdout",
     "output_type": "stream",
     "text": [
      "<class 'pandas.core.frame.DataFrame'>\n",
      "RangeIndex: 82 entries, 0 to 81\n",
      "Data columns (total 2 columns):\n",
      " #   Column    Non-Null Count  Dtype \n",
      "---  ------    --------------  ----- \n",
      " 0   배출가스인증번호  82 non-null     object\n",
      " 1   DPF유무     82 non-null     object\n",
      "dtypes: object(2)\n",
      "memory usage: 1.4+ KB\n"
     ]
    }
   ],
   "source": [
    "# 유로4인증대장\n",
    "euro = pd.read_excel('D:/data/big2/dpf.xlsx')\n",
    "euro.info()"
   ]
  },
  {
   "attachments": {},
   "cell_type": "markdown",
   "metadata": {},
   "source": [
    "## 본거지법정동코드"
   ]
  },
  {
   "cell_type": "code",
   "execution_count": 203,
   "metadata": {},
   "outputs": [
    {
     "name": "stdout",
     "output_type": "stream",
     "text": [
      "<class 'pandas.core.frame.DataFrame'>\n",
      "RangeIndex: 46340 entries, 0 to 46339\n",
      "Data columns (total 9 columns):\n",
      " #   Column    Non-Null Count  Dtype  \n",
      "---  ------    --------------  -----  \n",
      " 0   법정동코드     46340 non-null  int64  \n",
      " 1   시도        46340 non-null  object \n",
      " 2   시구군       46317 non-null  object \n",
      " 3   읍면동       45847 non-null  object \n",
      " 4   리         33682 non-null  object \n",
      " 5   지역3       0 non-null      float64\n",
      " 6   폐지여부      46340 non-null  object \n",
      " 7   대기관리권역    46340 non-null  object \n",
      " 8   대기관리권역YN  46334 non-null  object \n",
      "dtypes: float64(1), int64(1), object(7)\n",
      "memory usage: 3.2+ MB\n"
     ]
    }
   ],
   "source": [
    "code = pd.read_excel('D:/data/big2/법정동코드_2022.10.14.xlsx')\n",
    "code.info()"
   ]
  },
  {
   "attachments": {},
   "cell_type": "markdown",
   "metadata": {},
   "source": [
    "# 전처리\n",
    "- 말소제거\n",
    "- 중복 차대 제거\n",
    "- 기타연료 변경\n",
    "    - 다른 연료 샘플과 '자동차형식', '제원관리번호'로 매칭\n",
    "- 저감장치부착이력(차대번호 기준), 유로4인증대장(배인번호 기준)과 병합\n",
    "- 저감장치구분 중 '1종, 1종+SCR'만 DPF 장착으로 입력\n",
    "- 본거지법정동코드(법정동코드 기준)와 병합"
   ]
  },
  {
   "attachments": {},
   "cell_type": "markdown",
   "metadata": {},
   "source": [
    "## 말소제거"
   ]
  },
  {
   "cell_type": "code",
   "execution_count": 57,
   "metadata": {},
   "outputs": [
    {
     "data": {
      "text/plain": [
       "N    1511251\n",
       "Name: 차량말소YN, dtype: int64"
      ]
     },
     "execution_count": 57,
     "metadata": {},
     "output_type": "execute_result"
    }
   ],
   "source": [
    "car_info['차량말소YN'].value_counts(dropna=False)"
   ]
  },
  {
   "attachments": {},
   "cell_type": "markdown",
   "metadata": {},
   "source": [
    "## 중복 차대번호 제거\n",
    "- 최종등록일자, 배출가스검사유효일자 최신 데이터 사용"
   ]
  },
  {
   "cell_type": "code",
   "execution_count": 58,
   "metadata": {},
   "outputs": [
    {
     "data": {
      "text/plain": [
       "(1511211, 49)"
      ]
     },
     "execution_count": 58,
     "metadata": {},
     "output_type": "execute_result"
    }
   ],
   "source": [
    "car_info1 = car_info.sort_values(['최초등록일자', '배출가스검사유효일자'], ascending=[False, False]).drop_duplicates('차대번호').reset_index(drop=True)\n",
    "car_info1.shape"
   ]
  },
  {
   "attachments": {},
   "cell_type": "markdown",
   "metadata": {},
   "source": [
    "## 기타연료 처리\n",
    "- '제원관리번호'로 매칭\n",
    "- '자동차형식' 으로 매칭\n",
    "- '엔진형식' 으로 매칭"
   ]
  },
  {
   "cell_type": "code",
   "execution_count": 59,
   "metadata": {},
   "outputs": [
    {
     "data": {
      "text/plain": [
       "경유             1152697\n",
       "휘발유             332313\n",
       "LPG(액화석유가스)      26089\n",
       "NaN                 71\n",
       "기타연료                39\n",
       "CNG(압축천연가스)          1\n",
       "알코올                  1\n",
       "Name: 연료, dtype: int64"
      ]
     },
     "execution_count": 59,
     "metadata": {},
     "output_type": "execute_result"
    }
   ],
   "source": [
    "car_info1['연료'].value_counts(dropna=False)"
   ]
  },
  {
   "cell_type": "code",
   "execution_count": 108,
   "metadata": {},
   "outputs": [
    {
     "data": {
      "text/plain": [
       "(110, 49)"
      ]
     },
     "execution_count": 108,
     "metadata": {},
     "output_type": "execute_result"
    }
   ],
   "source": [
    "etc_car = car_info1[(car_info1['연료'] == '기타연료') | (car_info1['연료'].isnull() == True)]\n",
    "etc_car.shape"
   ]
  },
  {
   "cell_type": "code",
   "execution_count": 109,
   "metadata": {},
   "outputs": [
    {
     "data": {
      "text/plain": [
       "NaN     71\n",
       "기타연료    39\n",
       "Name: 연료, dtype: int64"
      ]
     },
     "execution_count": 109,
     "metadata": {},
     "output_type": "execute_result"
    }
   ],
   "source": [
    "etc_car['연료'].value_counts(dropna=False)"
   ]
  },
  {
   "cell_type": "code",
   "execution_count": 110,
   "metadata": {},
   "outputs": [
    {
     "data": {
      "text/plain": [
       "(1511101, 49)"
      ]
     },
     "execution_count": 110,
     "metadata": {},
     "output_type": "execute_result"
    }
   ],
   "source": [
    "remain_car = car_info1[(car_info1['연료'] != '기타연료') & (car_info1['연료'].isnull() != True)]\n",
    "remain_car.shape"
   ]
  },
  {
   "cell_type": "code",
   "execution_count": 111,
   "metadata": {},
   "outputs": [
    {
     "data": {
      "text/plain": [
       "경유             1152697\n",
       "휘발유             332313\n",
       "LPG(액화석유가스)      26089\n",
       "CNG(압축천연가스)          1\n",
       "알코올                  1\n",
       "Name: 연료, dtype: int64"
      ]
     },
     "execution_count": 111,
     "metadata": {},
     "output_type": "execute_result"
    }
   ],
   "source": [
    "remain_car['연료'].value_counts(dropna=False)"
   ]
  },
  {
   "cell_type": "code",
   "execution_count": 112,
   "metadata": {},
   "outputs": [
    {
     "data": {
      "text/plain": [
       "0"
      ]
     },
     "execution_count": 112,
     "metadata": {},
     "output_type": "execute_result"
    }
   ],
   "source": [
    "etc_car['제원관리번호'].isnull().sum()"
   ]
  },
  {
   "attachments": {},
   "cell_type": "markdown",
   "metadata": {},
   "source": [
    "### 제원관리번호로 매칭"
   ]
  },
  {
   "cell_type": "code",
   "execution_count": 113,
   "metadata": {},
   "outputs": [
    {
     "data": {
      "text/plain": [
       "0"
      ]
     },
     "execution_count": 113,
     "metadata": {},
     "output_type": "execute_result"
    }
   ],
   "source": [
    "len(set(etc_car['제원관리번호'].unique()) & set(remain_car['제원관리번호'].unique()))"
   ]
  },
  {
   "attachments": {},
   "cell_type": "markdown",
   "metadata": {},
   "source": [
    "### 자동차형식으로 매칭\n",
    "- 이슈 : 'B250' 휘발유, LPG(액화석유가스) 두가지가 존재\n",
    "    - 휘발유 76개, LPG(액화석유가스) 1개 -> '휘발유'로 변경"
   ]
  },
  {
   "cell_type": "code",
   "execution_count": 114,
   "metadata": {},
   "outputs": [
    {
     "data": {
      "text/plain": [
       "array(['휘발유', 'LPG(액화석유가스)'], dtype=object)"
      ]
     },
     "execution_count": 114,
     "metadata": {},
     "output_type": "execute_result"
    }
   ],
   "source": [
    "remain_car.loc[remain_car['자동차형식'] == 'B250', '연료'].unique()"
   ]
  },
  {
   "cell_type": "code",
   "execution_count": 115,
   "metadata": {},
   "outputs": [
    {
     "data": {
      "text/plain": [
       "휘발유            76\n",
       "LPG(액화석유가스)     1\n",
       "Name: 연료, dtype: int64"
      ]
     },
     "execution_count": 115,
     "metadata": {},
     "output_type": "execute_result"
    }
   ],
   "source": [
    "remain_car.loc[remain_car['자동차형식'] == 'B250', '연료'].value_counts(dropna=False)"
   ]
  },
  {
   "cell_type": "code",
   "execution_count": 116,
   "metadata": {},
   "outputs": [],
   "source": [
    "remain_car.loc[remain_car['자동차형식'] == 'B250', '연료'] = '휘발유'"
   ]
  },
  {
   "cell_type": "code",
   "execution_count": 117,
   "metadata": {},
   "outputs": [
    {
     "data": {
      "text/plain": [
       "휘발유    77\n",
       "Name: 연료, dtype: int64"
      ]
     },
     "execution_count": 117,
     "metadata": {},
     "output_type": "execute_result"
    }
   ],
   "source": [
    "remain_car.loc[remain_car['자동차형식'] == 'B250', '연료'].value_counts(dropna=False)"
   ]
  },
  {
   "cell_type": "code",
   "execution_count": 118,
   "metadata": {},
   "outputs": [
    {
     "data": {
      "text/plain": [
       "40"
      ]
     },
     "execution_count": 118,
     "metadata": {},
     "output_type": "execute_result"
    }
   ],
   "source": [
    "etc_car['자동차형식'].isnull().sum()"
   ]
  },
  {
   "cell_type": "code",
   "execution_count": 119,
   "metadata": {},
   "outputs": [
    {
     "data": {
      "text/html": [
       "<div>\n",
       "<style scoped>\n",
       "    .dataframe tbody tr th:only-of-type {\n",
       "        vertical-align: middle;\n",
       "    }\n",
       "\n",
       "    .dataframe tbody tr th {\n",
       "        vertical-align: top;\n",
       "    }\n",
       "\n",
       "    .dataframe thead th {\n",
       "        text-align: right;\n",
       "    }\n",
       "</style>\n",
       "<table border=\"1\" class=\"dataframe\">\n",
       "  <thead>\n",
       "    <tr style=\"text-align: right;\">\n",
       "      <th></th>\n",
       "      <th>자동차형식</th>\n",
       "      <th>연료</th>\n",
       "    </tr>\n",
       "  </thead>\n",
       "  <tbody>\n",
       "    <tr>\n",
       "      <th>1028</th>\n",
       "      <td>JZA 80</td>\n",
       "      <td>NaN</td>\n",
       "    </tr>\n",
       "    <tr>\n",
       "      <th>3398</th>\n",
       "      <td>L4DC</td>\n",
       "      <td>기타연료</td>\n",
       "    </tr>\n",
       "    <tr>\n",
       "      <th>457123</th>\n",
       "      <td>NaN</td>\n",
       "      <td>NaN</td>\n",
       "    </tr>\n",
       "    <tr>\n",
       "      <th>535174</th>\n",
       "      <td>NaN</td>\n",
       "      <td>NaN</td>\n",
       "    </tr>\n",
       "    <tr>\n",
       "      <th>538634</th>\n",
       "      <td>NaN</td>\n",
       "      <td>NaN</td>\n",
       "    </tr>\n",
       "  </tbody>\n",
       "</table>\n",
       "</div>"
      ],
      "text/plain": [
       "         자동차형식    연료\n",
       "1028    JZA 80   NaN\n",
       "3398      L4DC  기타연료\n",
       "457123     NaN   NaN\n",
       "535174     NaN   NaN\n",
       "538634     NaN   NaN"
      ]
     },
     "execution_count": 119,
     "metadata": {},
     "output_type": "execute_result"
    }
   ],
   "source": [
    "etc_car[['자동차형식', '연료']].head()"
   ]
  },
  {
   "cell_type": "code",
   "execution_count": 120,
   "metadata": {},
   "outputs": [
    {
     "data": {
      "text/plain": [
       "Series([], Name: 연료, dtype: object)"
      ]
     },
     "execution_count": 120,
     "metadata": {},
     "output_type": "execute_result"
    }
   ],
   "source": [
    "remain_car.loc[remain_car['자동차형식'] == 'JZA 80', '연료']"
   ]
  },
  {
   "cell_type": "code",
   "execution_count": 121,
   "metadata": {},
   "outputs": [
    {
     "data": {
      "text/plain": [
       "(77,)"
      ]
     },
     "execution_count": 121,
     "metadata": {},
     "output_type": "execute_result"
    }
   ],
   "source": [
    "remain_car.loc[remain_car['자동차형식'] == 'B250', '연료'].shape"
   ]
  },
  {
   "cell_type": "code",
   "execution_count": 122,
   "metadata": {},
   "outputs": [
    {
     "data": {
      "text/plain": [
       "28"
      ]
     },
     "execution_count": 122,
     "metadata": {},
     "output_type": "execute_result"
    }
   ],
   "source": [
    "uni_carform_etc = list(set(etc_car['자동차형식'].unique()) & set(remain_car['자동차형식'].unique()))\n",
    "len(uni_carform_etc)"
   ]
  },
  {
   "cell_type": "code",
   "execution_count": 123,
   "metadata": {},
   "outputs": [
    {
     "data": {
      "text/plain": [
       "[nan,\n",
       " '911터보',\n",
       " 'GR',\n",
       " 'FD3S',\n",
       " 'MS122',\n",
       " '740GLE',\n",
       " 'MR2',\n",
       " 'MSV3-27A',\n",
       " 'B250',\n",
       " 'ST-34',\n",
       " 'SR19F',\n",
       " 'TF68E',\n",
       " '140 051',\n",
       " '1994',\n",
       " 'FE-26HT',\n",
       " 'JA19Y',\n",
       " '202 028',\n",
       " '154AN55A',\n",
       " 'TF19I',\n",
       " 'WA19B',\n",
       " 'FXB',\n",
       " 'TF19T',\n",
       " 'FXA-1',\n",
       " 'B5-25SX',\n",
       " '210 037',\n",
       " 'FXA',\n",
       " 'VG30',\n",
       " '964']"
      ]
     },
     "execution_count": 123,
     "metadata": {},
     "output_type": "execute_result"
    }
   ],
   "source": [
    "uni_carform_etc"
   ]
  },
  {
   "cell_type": "code",
   "execution_count": 124,
   "metadata": {},
   "outputs": [
    {
     "data": {
      "text/plain": [
       "['911터보',\n",
       " 'GR',\n",
       " 'FD3S',\n",
       " 'MS122',\n",
       " '740GLE',\n",
       " 'MR2',\n",
       " 'MSV3-27A',\n",
       " 'B250',\n",
       " 'ST-34',\n",
       " 'SR19F',\n",
       " 'TF68E',\n",
       " '140 051',\n",
       " '1994',\n",
       " 'FE-26HT',\n",
       " 'JA19Y',\n",
       " '202 028',\n",
       " '154AN55A',\n",
       " 'TF19I',\n",
       " 'WA19B',\n",
       " 'FXB',\n",
       " 'TF19T',\n",
       " 'FXA-1',\n",
       " 'B5-25SX',\n",
       " '210 037',\n",
       " 'FXA',\n",
       " 'VG30',\n",
       " '964']"
      ]
     },
     "execution_count": 124,
     "metadata": {},
     "output_type": "execute_result"
    }
   ],
   "source": [
    "uni_carform_etc = uni_carform_etc[1:]\n",
    "uni_carform_etc"
   ]
  },
  {
   "cell_type": "code",
   "execution_count": 88,
   "metadata": {},
   "outputs": [
    {
     "data": {
      "text/plain": [
       "{'911터보': '휘발유',\n",
       " 'GR': '휘발유',\n",
       " 'FD3S': '휘발유',\n",
       " 'MS122': '휘발유',\n",
       " '740GLE': '휘발유',\n",
       " 'MR2': '휘발유',\n",
       " 'MSV3-27A': '휘발유',\n",
       " 'B250': '휘발유',\n",
       " 'ST-34': '휘발유',\n",
       " 'SR19F': '휘발유',\n",
       " 'TF68E': '휘발유',\n",
       " '140 051': '휘발유',\n",
       " '1994': '휘발유',\n",
       " 'FE-26HT': '휘발유',\n",
       " 'JA19Y': '휘발유',\n",
       " '202 028': '휘발유',\n",
       " '154AN55A': '휘발유',\n",
       " 'TF19I': '휘발유',\n",
       " 'WA19B': '휘발유',\n",
       " 'FXB': '휘발유',\n",
       " 'TF19T': '휘발유',\n",
       " 'FXA-1': '휘발유',\n",
       " 'B5-25SX': '휘발유',\n",
       " '210 037': '휘발유',\n",
       " 'FXA': '휘발유',\n",
       " 'VG30': '휘발유',\n",
       " '964': '휘발유'}"
      ]
     },
     "execution_count": 88,
     "metadata": {},
     "output_type": "execute_result"
    }
   ],
   "source": [
    "dict_fuel_by_carform = {}\n",
    "for one in uni_carform_etc:\n",
    "    dict_fuel_by_carform[one] = remain_car[remain_car['자동차형식'] == one]['연료'].unique()[0]\n",
    "dict_fuel_by_carform"
   ]
  },
  {
   "attachments": {},
   "cell_type": "markdown",
   "metadata": {},
   "source": [
    "### 엔진형식으로 매칭"
   ]
  },
  {
   "cell_type": "code",
   "execution_count": 125,
   "metadata": {},
   "outputs": [
    {
     "data": {
      "text/plain": [
       "28"
      ]
     },
     "execution_count": 125,
     "metadata": {},
     "output_type": "execute_result"
    }
   ],
   "source": [
    "uni_engineform_etc = list(set(etc_car['엔진형식'].unique()) & set(remain_car['엔진형식'].unique()))\n",
    "len(uni_engineform_etc)"
   ]
  },
  {
   "cell_type": "code",
   "execution_count": 126,
   "metadata": {},
   "outputs": [
    {
     "data": {
      "text/plain": [
       "[nan,\n",
       " 'C32A1',\n",
       " 'B5',\n",
       " 'F8C',\n",
       " 'M64/02',\n",
       " 'MSV3',\n",
       " 'B230F',\n",
       " 'VQ30',\n",
       " 'G15CF',\n",
       " 'V6',\n",
       " '119',\n",
       " 'G15MF',\n",
       " '112 944',\n",
       " '7M',\n",
       " 'G16SF',\n",
       " 'FE',\n",
       " '102 962',\n",
       " '834C.146',\n",
       " '5E',\n",
       " '111 970',\n",
       " 'G4AJ',\n",
       " 'B',\n",
       " 'SR20',\n",
       " '2JZ',\n",
       " 'H20MR',\n",
       " '104 941',\n",
       " 'G4CP',\n",
       " 'M30-69']"
      ]
     },
     "execution_count": 126,
     "metadata": {},
     "output_type": "execute_result"
    }
   ],
   "source": [
    "uni_engineform_etc"
   ]
  },
  {
   "cell_type": "code",
   "execution_count": 127,
   "metadata": {},
   "outputs": [
    {
     "data": {
      "text/plain": [
       "['C32A1',\n",
       " 'B5',\n",
       " 'F8C',\n",
       " 'M64/02',\n",
       " 'MSV3',\n",
       " 'B230F',\n",
       " 'VQ30',\n",
       " 'G15CF',\n",
       " 'V6',\n",
       " '119',\n",
       " 'G15MF',\n",
       " '112 944',\n",
       " '7M',\n",
       " 'G16SF',\n",
       " 'FE',\n",
       " '102 962',\n",
       " '834C.146',\n",
       " '5E',\n",
       " '111 970',\n",
       " 'G4AJ',\n",
       " 'B',\n",
       " 'SR20',\n",
       " '2JZ',\n",
       " 'H20MR',\n",
       " '104 941',\n",
       " 'G4CP',\n",
       " 'M30-69']"
      ]
     },
     "execution_count": 127,
     "metadata": {},
     "output_type": "execute_result"
    }
   ],
   "source": [
    "uni_engineform_etc = uni_engineform_etc[1:]\n",
    "uni_engineform_etc"
   ]
  },
  {
   "cell_type": "code",
   "execution_count": 128,
   "metadata": {},
   "outputs": [
    {
     "data": {
      "text/plain": [
       "{'C32A1': '휘발유',\n",
       " 'B5': '휘발유',\n",
       " 'F8C': '휘발유',\n",
       " 'M64/02': '휘발유',\n",
       " 'MSV3': '휘발유',\n",
       " 'B230F': '휘발유',\n",
       " 'VQ30': '휘발유',\n",
       " 'G15CF': '휘발유',\n",
       " 'V6': '휘발유',\n",
       " '119': '휘발유',\n",
       " 'G15MF': '휘발유',\n",
       " '112 944': '휘발유',\n",
       " '7M': '휘발유',\n",
       " 'G16SF': '휘발유',\n",
       " 'FE': '휘발유',\n",
       " '102 962': '휘발유',\n",
       " '834C.146': '휘발유',\n",
       " '5E': '휘발유',\n",
       " '111 970': '휘발유',\n",
       " 'G4AJ': '휘발유',\n",
       " 'B': '휘발유',\n",
       " 'SR20': '휘발유',\n",
       " '2JZ': '휘발유',\n",
       " 'H20MR': '휘발유',\n",
       " '104 941': '휘발유',\n",
       " 'G4CP': '휘발유',\n",
       " 'M30-69': '휘발유'}"
      ]
     },
     "execution_count": 128,
     "metadata": {},
     "output_type": "execute_result"
    }
   ],
   "source": [
    "dict_fuel_by_engineform = {}\n",
    "for one in uni_engineform_etc:\n",
    "    dict_fuel_by_engineform[one] = remain_car[remain_car['엔진형식'] == one]['연료'].unique()[0]\n",
    "dict_fuel_by_engineform"
   ]
  },
  {
   "cell_type": "code",
   "execution_count": 133,
   "metadata": {},
   "outputs": [
    {
     "data": {
      "text/plain": [
       "110"
      ]
     },
     "execution_count": 133,
     "metadata": {},
     "output_type": "execute_result"
    }
   ],
   "source": [
    "fuel_list = []\n",
    "for one, two, three in etc_car[['자동차형식', '엔진형식', '연료']].values:\n",
    "    if one in dict_fuel_by_carform.keys():\n",
    "        fuel_list.append(dict_fuel_by_carform[one])\n",
    "    else:\n",
    "        if two in dict_fuel_by_engineform.keys():\n",
    "            fuel_list.append(dict_fuel_by_engineform[two])\n",
    "        else:\n",
    "            fuel_list.append(three)\n",
    "len(fuel_list)"
   ]
  },
  {
   "cell_type": "code",
   "execution_count": 134,
   "metadata": {},
   "outputs": [
    {
     "name": "stderr",
     "output_type": "stream",
     "text": [
      "C:\\Users\\kbjung\\AppData\\Local\\Temp\\ipykernel_14584\\1695469869.py:1: SettingWithCopyWarning: \n",
      "A value is trying to be set on a copy of a slice from a DataFrame.\n",
      "Try using .loc[row_indexer,col_indexer] = value instead\n",
      "\n",
      "See the caveats in the documentation: https://pandas.pydata.org/pandas-docs/stable/user_guide/indexing.html#returning-a-view-versus-a-copy\n",
      "  etc_car['연료'] = fuel_list\n"
     ]
    },
    {
     "data": {
      "text/plain": [
       "휘발유     67\n",
       "NaN     40\n",
       "기타연료     3\n",
       "Name: 연료, dtype: int64"
      ]
     },
     "execution_count": 134,
     "metadata": {},
     "output_type": "execute_result"
    }
   ],
   "source": [
    "etc_car['연료'] = fuel_list\n",
    "etc_car['연료'].value_counts(dropna=False)"
   ]
  },
  {
   "cell_type": "code",
   "execution_count": 135,
   "metadata": {},
   "outputs": [
    {
     "data": {
      "text/plain": [
       "1228842    휘발유\n",
       "Name: 연료, dtype: object"
      ]
     },
     "execution_count": 135,
     "metadata": {},
     "output_type": "execute_result"
    }
   ],
   "source": [
    "etc_car.loc[etc_car['자동차형식'] == 'B250', '연료']"
   ]
  },
  {
   "cell_type": "code",
   "execution_count": 136,
   "metadata": {},
   "outputs": [
    {
     "data": {
      "text/plain": [
       "1167945    휘발유\n",
       "Name: 연료, dtype: object"
      ]
     },
     "execution_count": 136,
     "metadata": {},
     "output_type": "execute_result"
    }
   ],
   "source": [
    "etc_car.loc[etc_car['엔진형식'] == 'C32A1', '연료']"
   ]
  },
  {
   "cell_type": "code",
   "execution_count": 137,
   "metadata": {},
   "outputs": [
    {
     "data": {
      "text/plain": [
       "(1511211, 49)"
      ]
     },
     "execution_count": 137,
     "metadata": {},
     "output_type": "execute_result"
    }
   ],
   "source": [
    "# 병합\n",
    "car_info2 = pd.concat([etc_car, remain_car], ignore_index=True)\n",
    "car_info2.shape"
   ]
  },
  {
   "attachments": {},
   "cell_type": "markdown",
   "metadata": {},
   "source": [
    "## 저감장치부착이력 병합\n",
    "- 차대번호 기준"
   ]
  },
  {
   "cell_type": "code",
   "execution_count": 143,
   "metadata": {},
   "outputs": [
    {
     "data": {
      "text/plain": [
       "(1511211, 59)"
      ]
     },
     "execution_count": 143,
     "metadata": {},
     "output_type": "execute_result"
    }
   ],
   "source": [
    "car_dpf = car_info2.merge(dpf, on='차대번호', how='left')\n",
    "car_dpf.shape"
   ]
  },
  {
   "attachments": {},
   "cell_type": "markdown",
   "metadata": {},
   "source": [
    "## 유로4인증대장 병합\n",
    "- 배인번호 기준"
   ]
  },
  {
   "cell_type": "code",
   "execution_count": 205,
   "metadata": {},
   "outputs": [
    {
     "data": {
      "text/plain": [
       "(1511211, 60)"
      ]
     },
     "execution_count": 205,
     "metadata": {},
     "output_type": "execute_result"
    }
   ],
   "source": [
    "car_euro = car_dpf.merge(euro, on='배출가스인증번호', how='left')\n",
    "car_euro.shape"
   ]
  },
  {
   "cell_type": "code",
   "execution_count": 206,
   "metadata": {},
   "outputs": [
    {
     "data": {
      "text/plain": [
       "Index(['차량관리번호', '차량등록번호', '본거지법정동코드', '소유자구분', '차종_등록정보', '용도', '현재회원번호',\n",
       "       '차대번호', '최초등록일자', '차량연식', '차량제작일자', '배출가스검사유효일자', '제원관리번호', '배출가스인증번호',\n",
       "       '배출가스등급', '저공해조치YN(미사용)', '저공해조치종류', '저공해조치구조변경YN', '차량등록번호숫자정보',\n",
       "       '차량말소YN', '최초회원번호', '취득일자', '취득금액', '생성일시_등록정보', '수정일시_등록정보', '차명',\n",
       "       '차종_제원정보', '차종분류', '차종유형(소분류)', '자동차형식', '제작사명', '연료', '엔진형식', '공차중량',\n",
       "       '총중량', '적재중량', '엔진출력', '배기량', '승차인원', '차량길이', '차량너비', '차량높이', '원산지명',\n",
       "       '삭제YN', '승인일자', '구동형식', '변속기종류', '생성일시_제원정보', '수정일시_제원정보', '저감장치종류',\n",
       "       'TDMS부착여부', '구조변경일자', '부착업체명', '부착일자', '탈거승인일', '차량번호', '저감장치반납여부',\n",
       "       '저감장치구분', '삼원촉매장치반납여부', 'DPF유무'],\n",
       "      dtype='object')"
      ]
     },
     "execution_count": 206,
     "metadata": {},
     "output_type": "execute_result"
    }
   ],
   "source": [
    "car_euro.columns"
   ]
  },
  {
   "cell_type": "code",
   "execution_count": 207,
   "metadata": {},
   "outputs": [
    {
     "data": {
      "text/plain": [
       "무      686158\n",
       "NaN    518957\n",
       "유      306096\n",
       "Name: DPF유무, dtype: int64"
      ]
     },
     "execution_count": 207,
     "metadata": {},
     "output_type": "execute_result"
    }
   ],
   "source": [
    "car_euro['DPF유무'].value_counts(dropna=False)"
   ]
  },
  {
   "cell_type": "code",
   "execution_count": 208,
   "metadata": {},
   "outputs": [
    {
     "data": {
      "text/plain": [
       "무    1205115\n",
       "유     306096\n",
       "Name: DPF유무, dtype: int64"
      ]
     },
     "execution_count": 208,
     "metadata": {},
     "output_type": "execute_result"
    }
   ],
   "source": [
    "car_euro['DPF유무'] = car_euro['DPF유무'].fillna('무')\n",
    "car_euro['DPF유무'].value_counts(dropna=False)"
   ]
  },
  {
   "attachments": {},
   "cell_type": "markdown",
   "metadata": {},
   "source": [
    "## 본거지법정동 코드 병합\n",
    "- 본거지법정동코드, 법정동코드 기준"
   ]
  },
  {
   "cell_type": "code",
   "execution_count": 209,
   "metadata": {},
   "outputs": [
    {
     "data": {
      "text/plain": [
       "(1511211, 69)"
      ]
     },
     "execution_count": 209,
     "metadata": {},
     "output_type": "execute_result"
    }
   ],
   "source": [
    "df = car_euro.merge(code, left_on='본거지법정동코드', right_on='법정동코드', how='left')\n",
    "df.shape"
   ]
  },
  {
   "cell_type": "code",
   "execution_count": 210,
   "metadata": {},
   "outputs": [
    {
     "data": {
      "text/plain": [
       "0"
      ]
     },
     "execution_count": 210,
     "metadata": {},
     "output_type": "execute_result"
    }
   ],
   "source": [
    "df['본거지법정동코드'].isnull().sum()"
   ]
  },
  {
   "cell_type": "code",
   "execution_count": 234,
   "metadata": {},
   "outputs": [],
   "source": [
    "df['본거지법정동코드'] = df['본거지법정동코드'].astype('str')"
   ]
  },
  {
   "cell_type": "code",
   "execution_count": 235,
   "metadata": {},
   "outputs": [
    {
     "data": {
      "text/plain": [
       "0    41220\n",
       "1    48740\n",
       "2    11170\n",
       "3    47850\n",
       "4    47850\n",
       "Name: 행정구역코드, dtype: object"
      ]
     },
     "execution_count": 235,
     "metadata": {},
     "output_type": "execute_result"
    }
   ],
   "source": [
    "df['행정구역코드'] = df['본거지법정동코드'].str[:5]\n",
    "df['행정구역코드'].head()"
   ]
  },
  {
   "attachments": {},
   "cell_type": "markdown",
   "metadata": {},
   "source": [
    "# 분석"
   ]
  },
  {
   "cell_type": "code",
   "execution_count": 213,
   "metadata": {},
   "outputs": [
    {
     "data": {
      "text/plain": [
       "array([nan, '기타연료', '휘발유', '경유', 'LPG(액화석유가스)', 'CNG(압축천연가스)', '알코올'],\n",
       "      dtype=object)"
      ]
     },
     "execution_count": 213,
     "metadata": {},
     "output_type": "execute_result"
    }
   ],
   "source": [
    "df['연료'].unique()"
   ]
  },
  {
   "cell_type": "code",
   "execution_count": 216,
   "metadata": {},
   "outputs": [
    {
     "data": {
      "text/plain": [
       "(26090, 69)"
      ]
     },
     "execution_count": 216,
     "metadata": {},
     "output_type": "execute_result"
    }
   ],
   "source": [
    "df[ (df['연료'] == '휘발유_가스') | (df['연료'] == '알코올') | (df['연료'] == 'LPG(액화석유가스)') | (df['연료'] == 'CNG(압축천연가스)') ].shape"
   ]
  },
  {
   "cell_type": "code",
   "execution_count": 217,
   "metadata": {},
   "outputs": [
    {
     "data": {
      "text/plain": [
       "(1152697, 69)"
      ]
     },
     "execution_count": 217,
     "metadata": {},
     "output_type": "execute_result"
    }
   ],
   "source": [
    "df[df['연료'] == '경유'].shape"
   ]
  },
  {
   "cell_type": "code",
   "execution_count": 218,
   "metadata": {},
   "outputs": [
    {
     "name": "stderr",
     "output_type": "stream",
     "text": [
      "100%|██████████| 1511211/1511211 [00:00<00:00, 1697831.86it/s]\n"
     ]
    },
    {
     "data": {
      "text/plain": [
       "1511211"
      ]
     },
     "execution_count": 218,
     "metadata": {},
     "output_type": "execute_result"
    }
   ],
   "source": [
    "fuel_list = []\n",
    "for one in tqdm(df['연료']):\n",
    "    if one == '휘발유' or one == '알코올' or one == 'LPG(액화석유가스)' or one == 'CNG(압축천연가스)':\n",
    "        fuel_list.append('휘발유_가스')\n",
    "    elif one == '경유':\n",
    "        fuel_list.append('경유')\n",
    "    else:\n",
    "        fuel_list.append('기타')\n",
    "len(fuel_list)"
   ]
  },
  {
   "cell_type": "code",
   "execution_count": 219,
   "metadata": {},
   "outputs": [],
   "source": [
    "df['fuel'] = fuel_list"
   ]
  },
  {
   "cell_type": "code",
   "execution_count": 220,
   "metadata": {},
   "outputs": [
    {
     "data": {
      "text/plain": [
       "경유        1152697\n",
       "휘발유_가스     358471\n",
       "기타             43\n",
       "Name: fuel, dtype: int64"
      ]
     },
     "execution_count": 220,
     "metadata": {},
     "output_type": "execute_result"
    }
   ],
   "source": [
    "df['fuel'].value_counts()"
   ]
  },
  {
   "cell_type": "code",
   "execution_count": 221,
   "metadata": {},
   "outputs": [
    {
     "name": "stderr",
     "output_type": "stream",
     "text": [
      "1511211it [00:02, 505623.00it/s]\n"
     ]
    },
    {
     "data": {
      "text/plain": [
       "1511211"
      ]
     },
     "execution_count": 221,
     "metadata": {},
     "output_type": "execute_result"
    }
   ],
   "source": [
    "grade_list = []\n",
    "for f, y, cy, d, e in tqdm(zip(df['fuel'], df['차량제작일자'], df['차량연식'],df['저감장치구분'], df['DPF유무'])):\n",
    "    if (f == '휘발유_가스') and ( (19980101 <= y <= 20001231) or (1998 <= cy <= 2000) ):\n",
    "        grade_list.append('A')\n",
    "    elif (f == '휘발유_가스') and ( (y <= 19971231) or (cy <= 1997) ):\n",
    "        grade_list.append('B')\n",
    "    elif (f == '경유') and ( (y >= 20080101) or (cy >= 2008) ) and ( (str(d) == '1종') or (str(d) == '1종+SCR') or (e == '유') ):\n",
    "        grade_list.append('A')\n",
    "    elif (f == '경유') and ( (y <= 20071231) or (cy <= 2007) )and ( (str(d) == '1종') or (str(d) == '1종+SCR') or (e == '유') ):\n",
    "        grade_list.append('B')\n",
    "    elif (f == '경유') and ( (y >= 20080101) or (cy >= 2008) ) and ( (str(d) == 'nan') or (str(d) == '2종') or (e == '무') ):\n",
    "        grade_list.append('C')\n",
    "    elif (f == '경유') and ( (y <= 20071231) or (cy <= 2007) ) and ( (str(d) == 'nan') or (str(d) == '2종') or (e == '무') ):\n",
    "        grade_list.append('D')\n",
    "    else:\n",
    "        grade_list.append('X')\n",
    "len(grade_list)"
   ]
  },
  {
   "cell_type": "code",
   "execution_count": 222,
   "metadata": {},
   "outputs": [],
   "source": [
    "df['Grade'] = grade_list"
   ]
  },
  {
   "cell_type": "code",
   "execution_count": 223,
   "metadata": {},
   "outputs": [
    {
     "data": {
      "text/html": [
       "<div>\n",
       "<style scoped>\n",
       "    .dataframe tbody tr th:only-of-type {\n",
       "        vertical-align: middle;\n",
       "    }\n",
       "\n",
       "    .dataframe tbody tr th {\n",
       "        vertical-align: top;\n",
       "    }\n",
       "\n",
       "    .dataframe thead th {\n",
       "        text-align: right;\n",
       "    }\n",
       "</style>\n",
       "<table border=\"1\" class=\"dataframe\">\n",
       "  <thead>\n",
       "    <tr style=\"text-align: right;\">\n",
       "      <th></th>\n",
       "      <th>fuel</th>\n",
       "      <th>대수</th>\n",
       "    </tr>\n",
       "  </thead>\n",
       "  <tbody>\n",
       "    <tr>\n",
       "      <th>0</th>\n",
       "      <td>경유</td>\n",
       "      <td>1152697</td>\n",
       "    </tr>\n",
       "    <tr>\n",
       "      <th>2</th>\n",
       "      <td>휘발유_가스</td>\n",
       "      <td>358471</td>\n",
       "    </tr>\n",
       "    <tr>\n",
       "      <th>1</th>\n",
       "      <td>기타</td>\n",
       "      <td>43</td>\n",
       "    </tr>\n",
       "  </tbody>\n",
       "</table>\n",
       "</div>"
      ],
      "text/plain": [
       "     fuel       대수\n",
       "0      경유  1152697\n",
       "2  휘발유_가스   358471\n",
       "1      기타       43"
      ]
     },
     "execution_count": 223,
     "metadata": {},
     "output_type": "execute_result"
    }
   ],
   "source": [
    "num_by_fuel = df.groupby(['fuel'])['차대번호'].count().reset_index().sort_values('차대번호', ascending=False)\n",
    "num_by_fuel = num_by_fuel.rename(columns={'차대번호':'대수'})\n",
    "num_by_fuel"
   ]
  },
  {
   "cell_type": "code",
   "execution_count": 224,
   "metadata": {},
   "outputs": [
    {
     "data": {
      "text/plain": [
       "fuel    Grade\n",
       "경유      A        206113\n",
       "        B        100004\n",
       "        C        809308\n",
       "        D         37272\n",
       "기타      X            43\n",
       "휘발유_가스  A         43624\n",
       "        B        297398\n",
       "        X         17449\n",
       "Name: 대수, dtype: int64"
      ]
     },
     "execution_count": 224,
     "metadata": {},
     "output_type": "execute_result"
    }
   ],
   "source": [
    "num_by_grade = df.groupby(['fuel', 'Grade'])['차대번호'].count()\n",
    "num_by_grade = num_by_grade.rename('대수')\n",
    "num_by_grade"
   ]
  },
  {
   "attachments": {},
   "cell_type": "markdown",
   "metadata": {},
   "source": [
    "## [출력] EG 통계"
   ]
  },
  {
   "cell_type": "code",
   "execution_count": 200,
   "metadata": {},
   "outputs": [
    {
     "data": {
      "text/plain": [
       "'2023.02.21'"
      ]
     },
     "execution_count": 200,
     "metadata": {},
     "output_type": "execute_result"
    }
   ],
   "source": [
    "today_date = datetime.today().strftime(\"%Y.%m.%d\")\n",
    "today_date"
   ]
  },
  {
   "cell_type": "code",
   "execution_count": 201,
   "metadata": {},
   "outputs": [],
   "source": [
    "with pd.ExcelWriter(f'analysis2/Case5/[BD1][G{grade}][통계]Case5_등급분류(중복차대제거)(말소제거)({today_date}).xlsx') as writer:\n",
    "    num_by_fuel.to_excel(writer, sheet_name='연료별', index=False)\n",
    "    num_by_grade.to_excel(writer, sheet_name='등급별')"
   ]
  },
  {
   "cell_type": "code",
   "execution_count": 211,
   "metadata": {},
   "outputs": [
    {
     "data": {
      "text/plain": [
       "Index(['차량관리번호', '차량등록번호', '본거지법정동코드', '소유자구분', '차종_등록정보', '용도', '현재회원번호',\n",
       "       '차대번호', '최초등록일자', '차량연식', '차량제작일자', '배출가스검사유효일자', '제원관리번호', '배출가스인증번호',\n",
       "       '배출가스등급', '저공해조치YN(미사용)', '저공해조치종류', '저공해조치구조변경YN', '차량등록번호숫자정보',\n",
       "       '차량말소YN', '최초회원번호', '취득일자', '취득금액', '생성일시_등록정보', '수정일시_등록정보', '차명',\n",
       "       '차종_제원정보', '차종분류', '차종유형(소분류)', '자동차형식', '제작사명', '연료', '엔진형식', '공차중량',\n",
       "       '총중량', '적재중량', '엔진출력', '배기량', '승차인원', '차량길이', '차량너비', '차량높이', '원산지명',\n",
       "       '삭제YN', '승인일자', '구동형식', '변속기종류', '생성일시_제원정보', '수정일시_제원정보', '저감장치종류',\n",
       "       'TDMS부착여부', '구조변경일자', '부착업체명', '부착일자', '탈거승인일', '차량번호', '저감장치반납여부',\n",
       "       '저감장치구분', '삼원촉매장치반납여부', 'DPF유무', '법정동코드', '시도', '시구군', '읍면동', '리',\n",
       "       '지역3', '폐지여부', '대기관리권역', '대기관리권역YN'],\n",
       "      dtype='object')"
      ]
     },
     "execution_count": 211,
     "metadata": {},
     "output_type": "execute_result"
    }
   ],
   "source": [
    "df.columns"
   ]
  },
  {
   "attachments": {},
   "cell_type": "markdown",
   "metadata": {},
   "source": [
    "## [출력] 지역별 샘플"
   ]
  },
  {
   "cell_type": "code",
   "execution_count": 239,
   "metadata": {},
   "outputs": [
    {
     "data": {
      "text/html": [
       "<div>\n",
       "<style scoped>\n",
       "    .dataframe tbody tr th:only-of-type {\n",
       "        vertical-align: middle;\n",
       "    }\n",
       "\n",
       "    .dataframe tbody tr th {\n",
       "        vertical-align: top;\n",
       "    }\n",
       "\n",
       "    .dataframe thead th {\n",
       "        text-align: right;\n",
       "    }\n",
       "</style>\n",
       "<table border=\"1\" class=\"dataframe\">\n",
       "  <thead>\n",
       "    <tr style=\"text-align: right;\">\n",
       "      <th></th>\n",
       "      <th>행정구역코드</th>\n",
       "      <th>시도</th>\n",
       "      <th>시구군</th>\n",
       "      <th>Grade</th>\n",
       "      <th>DPF유무</th>\n",
       "      <th>차량연식</th>\n",
       "    </tr>\n",
       "  </thead>\n",
       "  <tbody>\n",
       "    <tr>\n",
       "      <th>1511201</th>\n",
       "      <td>44200</td>\n",
       "      <td>충남</td>\n",
       "      <td>아산시</td>\n",
       "      <td>B</td>\n",
       "      <td>무</td>\n",
       "      <td>1987</td>\n",
       "    </tr>\n",
       "    <tr>\n",
       "      <th>1511202</th>\n",
       "      <td>28710</td>\n",
       "      <td>인천</td>\n",
       "      <td>강화군</td>\n",
       "      <td>B</td>\n",
       "      <td>무</td>\n",
       "      <td>1987</td>\n",
       "    </tr>\n",
       "    <tr>\n",
       "      <th>1511203</th>\n",
       "      <td>44150</td>\n",
       "      <td>충남</td>\n",
       "      <td>공주시</td>\n",
       "      <td>B</td>\n",
       "      <td>무</td>\n",
       "      <td>1987</td>\n",
       "    </tr>\n",
       "    <tr>\n",
       "      <th>1511204</th>\n",
       "      <td>11560</td>\n",
       "      <td>서울</td>\n",
       "      <td>영등포구</td>\n",
       "      <td>B</td>\n",
       "      <td>무</td>\n",
       "      <td>1987</td>\n",
       "    </tr>\n",
       "    <tr>\n",
       "      <th>1511205</th>\n",
       "      <td>11680</td>\n",
       "      <td>서울</td>\n",
       "      <td>강남구</td>\n",
       "      <td>X</td>\n",
       "      <td>무</td>\n",
       "      <td>2007</td>\n",
       "    </tr>\n",
       "    <tr>\n",
       "      <th>1511206</th>\n",
       "      <td>41550</td>\n",
       "      <td>경기</td>\n",
       "      <td>안성시</td>\n",
       "      <td>B</td>\n",
       "      <td>무</td>\n",
       "      <td>1995</td>\n",
       "    </tr>\n",
       "    <tr>\n",
       "      <th>1511207</th>\n",
       "      <td>50110</td>\n",
       "      <td>제주</td>\n",
       "      <td>제주시</td>\n",
       "      <td>B</td>\n",
       "      <td>무</td>\n",
       "      <td>1987</td>\n",
       "    </tr>\n",
       "    <tr>\n",
       "      <th>1511208</th>\n",
       "      <td>11170</td>\n",
       "      <td>서울</td>\n",
       "      <td>용산구</td>\n",
       "      <td>A</td>\n",
       "      <td>무</td>\n",
       "      <td>2000</td>\n",
       "    </tr>\n",
       "    <tr>\n",
       "      <th>1511209</th>\n",
       "      <td>11650</td>\n",
       "      <td>서울</td>\n",
       "      <td>서초구</td>\n",
       "      <td>B</td>\n",
       "      <td>무</td>\n",
       "      <td>1968</td>\n",
       "    </tr>\n",
       "    <tr>\n",
       "      <th>1511210</th>\n",
       "      <td>11590</td>\n",
       "      <td>서울</td>\n",
       "      <td>동작구</td>\n",
       "      <td>X</td>\n",
       "      <td>무</td>\n",
       "      <td>2002</td>\n",
       "    </tr>\n",
       "  </tbody>\n",
       "</table>\n",
       "</div>"
      ],
      "text/plain": [
       "        행정구역코드  시도   시구군 Grade DPF유무  차량연식\n",
       "1511201  44200  충남   아산시     B     무  1987\n",
       "1511202  28710  인천   강화군     B     무  1987\n",
       "1511203  44150  충남   공주시     B     무  1987\n",
       "1511204  11560  서울  영등포구     B     무  1987\n",
       "1511205  11680  서울   강남구     X     무  2007\n",
       "1511206  41550  경기   안성시     B     무  1995\n",
       "1511207  50110  제주   제주시     B     무  1987\n",
       "1511208  11170  서울   용산구     A     무  2000\n",
       "1511209  11650  서울   서초구     B     무  1968\n",
       "1511210  11590  서울   동작구     X     무  2002"
      ]
     },
     "execution_count": 239,
     "metadata": {},
     "output_type": "execute_result"
    }
   ],
   "source": [
    "df[['행정구역코드', '시도', '시구군', 'Grade', 'DPF유무', '차량연식']].tail(10)"
   ]
  },
  {
   "cell_type": "code",
   "execution_count": 240,
   "metadata": {},
   "outputs": [],
   "source": [
    "df[['행정구역코드', '시도', '시구군', 'Grade', 'DPF유무', '차량연식']].tail(10).to_excel(f'analysis2/Case5/샘플_법정동코드_지역({today_date}).xlsx', index=False)"
   ]
  },
  {
   "cell_type": "code",
   "execution_count": null,
   "metadata": {},
   "outputs": [],
   "source": []
  }
 ],
 "metadata": {
  "kernelspec": {
   "display_name": "base",
   "language": "python",
   "name": "python3"
  },
  "language_info": {
   "codemirror_mode": {
    "name": "ipython",
    "version": 3
   },
   "file_extension": ".py",
   "mimetype": "text/x-python",
   "name": "python",
   "nbconvert_exporter": "python",
   "pygments_lexer": "ipython3",
   "version": "3.9.13"
  },
  "orig_nbformat": 4,
  "vscode": {
   "interpreter": {
    "hash": "ad2bdc8ecc057115af97d19610ffacc2b4e99fae6737bb82f5d7fb13d2f2c186"
   }
  }
 },
 "nbformat": 4,
 "nbformat_minor": 2
}
