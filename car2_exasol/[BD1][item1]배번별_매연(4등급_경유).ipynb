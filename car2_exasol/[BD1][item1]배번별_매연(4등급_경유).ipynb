{
 "cells": [
  {
   "attachments": {},
   "cell_type": "markdown",
   "metadata": {},
   "source": [
    "# Library\n"
   ]
  },
  {
   "cell_type": "code",
   "execution_count": 1,
   "metadata": {},
   "outputs": [],
   "source": [
    "import pandas as pd\n",
    "import numpy as np\n",
    "import os\n",
    "from tqdm import tqdm\n",
    "from datetime import datetime\n",
    "from glob import glob\n",
    "import pyexasol"
   ]
  },
  {
   "cell_type": "code",
   "execution_count": 2,
   "metadata": {},
   "outputs": [],
   "source": [
    "# 소수점 옵션\n",
    "pd.options.display.float_format = '{:.2f}'.format\n",
    "# pd.reset_option('display.float_format')"
   ]
  },
  {
   "attachments": {},
   "cell_type": "markdown",
   "metadata": {},
   "source": [
    "# server"
   ]
  },
  {
   "cell_type": "code",
   "execution_count": 3,
   "metadata": {},
   "outputs": [],
   "source": [
    "# # insider db\n",
    "# wb = pyexasol.connect(dsn='172.29.135.35/F99FAB2444F86051A9A467F6313FAAB48AF7C4760663430958E3B89A9DC53361:8563', user='sys', password='exasol', compression=True, schema='VSYSD')\n",
    "# exasol db\n",
    "wb = pyexasol.connect(dsn='dev.openankus.org:8563', user='sys', password='djslzja', compression=True, schema='VSYSD')\n",
    "we = pyexasol.connect(dsn='dev.openankus.org:8563', user='sys', password='djslzja', compression=True, schema='vsyse')\n",
    "wbt = pyexasol.connect(dsn='dev.openankus.org:8563', user='sys', password='djslzja', compression=True, schema='wbt')"
   ]
  },
  {
   "attachments": {},
   "cell_type": "markdown",
   "metadata": {},
   "source": [
    "# fold path"
   ]
  },
  {
   "cell_type": "code",
   "execution_count": 1,
   "metadata": {},
   "outputs": [],
   "source": [
    "drive = 'D'"
   ]
  },
  {
   "cell_type": "code",
   "execution_count": 2,
   "metadata": {},
   "outputs": [],
   "source": [
    "ods_fold = f'{drive}:/data/big2/ODS'\n",
    "raw1_fold = f'{drive}:/data/big2/BD1/raw'\n",
    "df1_fold = f'{drive}:/data/big2/BD1/df'\n",
    "an1_fold = f'{drive}:/data/big2/BD1/an'"
   ]
  },
  {
   "attachments": {},
   "cell_type": "markdown",
   "metadata": {},
   "source": [
    "# Load\n",
    "- 등록정보&제원정보 -> result 4등급(연료 전체)\n",
    "- 정기검사&정밀검사"
   ]
  },
  {
   "attachments": {},
   "cell_type": "markdown",
   "metadata": {},
   "source": [
    "## 등록정보(STD_CEG_CAR_MIG) 4등급만"
   ]
  },
  {
   "cell_type": "code",
   "execution_count": 97,
   "metadata": {},
   "outputs": [
    {
     "name": "stderr",
     "output_type": "stream",
     "text": [
      "C:\\Users\\kbjung\\AppData\\Roaming\\Python\\Python39\\site-packages\\pyexasol\\callback.py:42: DtypeWarning: Columns (5) have mixed types. Specify dtype option on import or set low_memory=False.\n",
      "  return pandas.read_csv(pipe, skip_blank_lines=False, **kwargs)\n"
     ]
    },
    {
     "name": "stdout",
     "output_type": "stream",
     "text": [
      "<class 'pandas.core.frame.DataFrame'>\n",
      "RangeIndex: 1898814 entries, 0 to 1898813\n",
      "Data columns (total 10 columns):\n",
      " #   Column             Dtype \n",
      "---  ------             ----- \n",
      " 0   VIN                object\n",
      " 1   BSPL_STDG_CD       int64 \n",
      " 2   EXHST_GAS_GRD_CD   object\n",
      " 3   EXHST_GAS_CERT_NO  object\n",
      " 4   VHCL_ERSR_YN       object\n",
      " 5   MANP_MNG_NO        object\n",
      " 6   YRIDNW             int64 \n",
      " 7   VHCTY_CD           object\n",
      " 8   PURPS_CD2          object\n",
      " 9   FRST_REG_YMD       int64 \n",
      "dtypes: int64(3), object(7)\n",
      "memory usage: 144.9+ MB\n"
     ]
    }
   ],
   "source": [
    "# 8.6s\n",
    "car = wb.export_to_pandas(\"SELECT VIN, BSPL_STDG_CD, EXHST_GAS_GRD_CD, EXHST_GAS_CERT_NO, VHCL_ERSR_YN, MANP_MNG_NO, YRIDNW, VHCTY_CD, PURPS_CD2, FRST_REG_YMD FROM STD_CEG_CAR_MIG WHERE EXHST_GAS_GRD_CD = 'A0504' OR EXHST_GAS_GRD_CD = 'A05T4';\")\n",
    "car.info()"
   ]
  },
  {
   "cell_type": "code",
   "execution_count": 98,
   "metadata": {},
   "outputs": [],
   "source": [
    "car_ch_col = {\n",
    "    'VIN':'차대번호', \n",
    "    'BSPL_STDG_CD':'법정동코드', \n",
    "    'EXHST_GAS_GRD_CD':'배출가스등급', \n",
    "    'EXHST_GAS_CERT_NO':'배출가스인증번호',\n",
    "    'VHCL_ERSR_YN':'차량말소YN',\n",
    "    'MANP_MNG_NO':'제원관리번호', \n",
    "    'YRIDNW':'차량연식', \n",
    "    'VHCTY_CD':'차종', \n",
    "    'PURPS_CD2':'용도', \n",
    "    'FRST_REG_YMD':'최초등록일자',\n",
    "}"
   ]
  },
  {
   "cell_type": "code",
   "execution_count": 99,
   "metadata": {},
   "outputs": [],
   "source": [
    "carr = car.rename(columns=car_ch_col)"
   ]
  },
  {
   "attachments": {},
   "cell_type": "markdown",
   "metadata": {},
   "source": [
    "## 제원정보(STD_CEG_CAR_SRC_MIG)"
   ]
  },
  {
   "cell_type": "code",
   "execution_count": 100,
   "metadata": {},
   "outputs": [
    {
     "name": "stdout",
     "output_type": "stream",
     "text": [
      "<class 'pandas.core.frame.DataFrame'>\n",
      "RangeIndex: 561153 entries, 0 to 561152\n",
      "Data columns (total 7 columns):\n",
      " #   Column        Non-Null Count   Dtype \n",
      "---  ------        --------------   ----- \n",
      " 0   MANP_MNG_NO   561153 non-null  object\n",
      " 1   FUEL_CD       518235 non-null  object\n",
      " 2   VHCTY_TY_CD2  546198 non-null  object\n",
      " 3   MNFCTR_NM     544020 non-null  object\n",
      " 4   VHCNM         561051 non-null  object\n",
      " 5   VHCL_FRM      531308 non-null  object\n",
      " 6   EGIN_TY       508601 non-null  object\n",
      "dtypes: object(7)\n",
      "memory usage: 30.0+ MB\n"
     ]
    }
   ],
   "source": [
    "# 3.8s\n",
    "src = wb.export_to_pandas(\"SELECT MANP_MNG_NO, FUEL_CD, VHCTY_TY_CD2, MNFCTR_NM, VHCNM, VHCL_FRM, EGIN_TY FROM STD_CEG_CAR_SRC_MIG;\")\n",
    "src.info()"
   ]
  },
  {
   "cell_type": "code",
   "execution_count": 101,
   "metadata": {},
   "outputs": [],
   "source": [
    "src_ch_col = {\n",
    "    'MANP_MNG_NO':'제원관리번호', \n",
    "    'FUEL_CD':'연료',\n",
    "    'VHCTY_TY_CD2':'차종유형', \n",
    "    'MNFCTR_NM':'제작사명', \n",
    "    'VHCNM':'차명', \n",
    "    'VHCL_FRM':'자동차형식', \n",
    "    'EGIN_TY':'엔진형식', \n",
    "}"
   ]
  },
  {
   "cell_type": "code",
   "execution_count": 102,
   "metadata": {},
   "outputs": [],
   "source": [
    "srcr = src.rename(columns=src_ch_col)"
   ]
  },
  {
   "attachments": {},
   "cell_type": "markdown",
   "metadata": {},
   "source": [
    "## 정기검사(STD_TB_JGT_HIS)"
   ]
  },
  {
   "cell_type": "code",
   "execution_count": 103,
   "metadata": {},
   "outputs": [
    {
     "name": "stdout",
     "output_type": "stream",
     "text": [
      "<class 'pandas.core.frame.DataFrame'>\n",
      "RangeIndex: 64316863 entries, 0 to 64316862\n",
      "Data columns (total 11 columns):\n",
      " #   Column                  Dtype  \n",
      "---  ------                  -----  \n",
      " 0   VIN                     object \n",
      " 1   FDRM_INSP_INSP_MTHD_CD  object \n",
      " 2   FDRM_INSP_KND_CD        object \n",
      " 3   FDRM_INSP_JGMT          object \n",
      " 4   FDRM_NLOD_SMO_MSTVL1    float64\n",
      " 5   FDRM_NLOD_SMO_MSTVL2    float64\n",
      " 6   FDRM_NLOD_SMO_MSTVL3    float64\n",
      " 7   FDRM_NLOD_SMO_JT_YN1    object \n",
      " 8   FDRM_INSP_YMD           int64  \n",
      " 9   FDRM_DRVNG_DSTNC        float64\n",
      " 10  FDRM_NLOD_SMO_PRMVL1    float64\n",
      "dtypes: float64(5), int64(1), object(5)\n",
      "memory usage: 5.3+ GB\n"
     ]
    }
   ],
   "source": [
    "# 3m 34.9s\n",
    "# jgt = wb.export_to_pandas(\"SELECT VIN, FDRM_INSP_INSP_MTHD_CD, FDRM_INSP_KND_CD, FDRM_INSP_JGMT, FDRM_NLOD_SMO_MSTVL1, FDRM_NLOD_SMO_MSTVL2, FDRM_NLOD_SMO_MSTVL3, FDRM_NLOD_SMO_JT_YN1, FDRM_INSP_YMD, FDRM_DRVNG_DSTNC, FDRM_NLOD_SMO_PRMVL1 FROM STD_TB_JGT_HIS WHERE ROWNUM <= 10000;\") # 테스트용\n",
    "jgt = wb.export_to_pandas(\"SELECT VIN, FDRM_INSP_INSP_MTHD_CD, FDRM_INSP_KND_CD, FDRM_INSP_JGMT, FDRM_NLOD_SMO_MSTVL1, FDRM_NLOD_SMO_MSTVL2, FDRM_NLOD_SMO_MSTVL3, FDRM_NLOD_SMO_JT_YN1, FDRM_INSP_YMD, FDRM_DRVNG_DSTNC, FDRM_NLOD_SMO_PRMVL1 FROM STD_TB_JGT_HIS;\")\n",
    "jgt.info()"
   ]
  },
  {
   "cell_type": "code",
   "execution_count": 104,
   "metadata": {},
   "outputs": [],
   "source": [
    "jgt_ch_col = {\n",
    "    'VIN':'차대번호', \n",
    "    'FDRM_INSP_INSP_MTHD_CD':'검사방법', \n",
    "    'FDRM_INSP_KND_CD':'검사종류', \n",
    "    'FDRM_INSP_JGMT':'검사판정', \n",
    "    'FDRM_NLOD_SMO_MSTVL1':'무부하매연측정치1', \n",
    "    'FDRM_NLOD_SMO_MSTVL2':'무부하매연측정치2', \n",
    "    'FDRM_NLOD_SMO_MSTVL3':'무부하매연측정치3', \n",
    "    'FDRM_NLOD_SMO_JT_YN1':'무부하매연판정1', \n",
    "    'FDRM_INSP_YMD':'검사일자',\n",
    "    'FDRM_DRVNG_DSTNC':'주행거리',\n",
    "    'FDRM_NLOD_SMO_PRMVL1':'무부하매연허용치1', \n",
    "}"
   ]
  },
  {
   "cell_type": "code",
   "execution_count": 105,
   "metadata": {},
   "outputs": [
    {
     "data": {
      "text/plain": [
       "Index(['차대번호', '검사방법', '검사종류', '검사판정', '무부하매연측정치1', '무부하매연측정치2', '무부하매연측정치3',\n",
       "       '무부하매연판정1', '검사일자', '주행거리', '무부하매연허용치1'],\n",
       "      dtype='object')"
      ]
     },
     "execution_count": 105,
     "metadata": {},
     "output_type": "execute_result"
    }
   ],
   "source": [
    "jgtr = jgt.rename(columns=jgt_ch_col)\n",
    "jgtr.columns"
   ]
  },
  {
   "attachments": {},
   "cell_type": "markdown",
   "metadata": {},
   "source": [
    "## 정밀검사(STD_TB_EET_HIS_ME)"
   ]
  },
  {
   "cell_type": "code",
   "execution_count": 106,
   "metadata": {},
   "outputs": [
    {
     "name": "stdout",
     "output_type": "stream",
     "text": [
      "<class 'pandas.core.frame.DataFrame'>\n",
      "RangeIndex: 99608917 entries, 0 to 99608916\n",
      "Data columns (total 11 columns):\n",
      " #   Column                 Dtype  \n",
      "---  ------                 -----  \n",
      " 0   VIN                    object \n",
      " 1   PRCINSP_MSRMT_MTHD_CD  object \n",
      " 2   PRCINSP_KND_CD         object \n",
      " 3   PRCINSP_JGMT           object \n",
      " 4   PREC_NLOD_SMO_MSTVL1   float64\n",
      " 5   PREC_NLOD_SMO_MSTVL2   float64\n",
      " 6   PREC_NLOD_SMO_MSTVL3   float64\n",
      " 7   PREC_NLOD_SMO_JT_YN1   object \n",
      " 8   PRCINSP_YMD            int64  \n",
      " 9   PRCINSP_DRVNG_DSTNC    float64\n",
      " 10  PREC_NLOD_SMO_PRMVL1   float64\n",
      "dtypes: float64(5), int64(1), object(5)\n",
      "memory usage: 8.2+ GB\n"
     ]
    }
   ],
   "source": [
    "# 6m 36.1s\n",
    "# eet = wb.export_to_pandas(\"SELECT VIN, PRCINSP_MSRMT_MTHD_CD, PRCINSP_KND_CD, PRCINSP_JGMT, PREC_NLOD_SMO_MSTVL1, PREC_NLOD_SMO_MSTVL2, PREC_NLOD_SMO_MSTVL3, PREC_NLOD_SMO_JT_YN1, PRCINSP_YMD, PRCINSP_DRVNG_DSTNC FROM STD_TB_EET_HIS_ME WHERE ROWNUM <= 10000;\") # 테스트용\n",
    "eet = wb.export_to_pandas(\"SELECT VIN, PRCINSP_MSRMT_MTHD_CD, PRCINSP_KND_CD, PRCINSP_JGMT, PREC_NLOD_SMO_MSTVL1, PREC_NLOD_SMO_MSTVL2, PREC_NLOD_SMO_MSTVL3, PREC_NLOD_SMO_JT_YN1, PRCINSP_YMD, PRCINSP_DRVNG_DSTNC, PREC_NLOD_SMO_PRMVL1 FROM STD_TB_EET_HIS_ME;\")\n",
    "eet.info()"
   ]
  },
  {
   "cell_type": "code",
   "execution_count": 107,
   "metadata": {},
   "outputs": [
    {
     "data": {
      "text/plain": [
       "Index(['VIN', 'PRCINSP_MSRMT_MTHD_CD', 'PRCINSP_KND_CD', 'PRCINSP_JGMT',\n",
       "       'PREC_NLOD_SMO_MSTVL1', 'PREC_NLOD_SMO_MSTVL2', 'PREC_NLOD_SMO_MSTVL3',\n",
       "       'PREC_NLOD_SMO_JT_YN1', 'PRCINSP_YMD', 'PRCINSP_DRVNG_DSTNC',\n",
       "       'PREC_NLOD_SMO_PRMVL1'],\n",
       "      dtype='object')"
      ]
     },
     "execution_count": 107,
     "metadata": {},
     "output_type": "execute_result"
    }
   ],
   "source": [
    "eet.columns"
   ]
  },
  {
   "cell_type": "code",
   "execution_count": 108,
   "metadata": {},
   "outputs": [],
   "source": [
    "eet_ch_col = {\n",
    "    'VIN':'차대번호', \n",
    "    'PRCINSP_MSRMT_MTHD_CD':'검사방법', \n",
    "    'PRCINSP_KND_CD':'검사종류', \n",
    "    'PRCINSP_JGMT':'검사판정', \n",
    "    'PREC_NLOD_SMO_MSTVL1':'무부하매연측정치1', \n",
    "    'PREC_NLOD_SMO_MSTVL2':'무부하매연측정치2', \n",
    "    'PREC_NLOD_SMO_MSTVL3':'무부하매연측정치3', \n",
    "    'PREC_NLOD_SMO_JT_YN1':'무부하매연판정1', \n",
    "    'PRCINSP_YMD':'검사일자',\n",
    "    'PRCINSP_DRVNG_DSTNC':'주행거리', \n",
    "    'PREC_NLOD_SMO_PRMVL1':'무부하매연허용치1', \n",
    "}"
   ]
  },
  {
   "cell_type": "code",
   "execution_count": 109,
   "metadata": {},
   "outputs": [
    {
     "data": {
      "text/plain": [
       "Index(['차대번호', '검사방법', '검사종류', '검사판정', '무부하매연측정치1', '무부하매연측정치2', '무부하매연측정치3',\n",
       "       '무부하매연판정1', '검사일자', '주행거리', '무부하매연허용치1'],\n",
       "      dtype='object')"
      ]
     },
     "execution_count": 109,
     "metadata": {},
     "output_type": "execute_result"
    }
   ],
   "source": [
    "eetr = eet.rename(columns=eet_ch_col)\n",
    "eetr.columns"
   ]
  },
  {
   "attachments": {},
   "cell_type": "markdown",
   "metadata": {},
   "source": [
    "## 법정동코드(STD_BJCD_INFO)"
   ]
  },
  {
   "cell_type": "code",
   "execution_count": 147,
   "metadata": {},
   "outputs": [
    {
     "name": "stdout",
     "output_type": "stream",
     "text": [
      "<class 'pandas.core.frame.DataFrame'>\n",
      "RangeIndex: 46333 entries, 0 to 46332\n",
      "Data columns (total 3 columns):\n",
      " #   Column        Non-Null Count  Dtype \n",
      "---  ------        --------------  ----- \n",
      " 0   STDG_CD       46333 non-null  int64 \n",
      " 1   STDG_CTPV_NM  46333 non-null  object\n",
      " 2   STDG_SGG_NM   46310 non-null  object\n",
      "dtypes: int64(1), object(2)\n",
      "memory usage: 1.1+ MB\n"
     ]
    }
   ],
   "source": [
    "# 1.3s\n",
    "code = wb.export_to_pandas(\"SELECT STDG_CD, STDG_CTPV_NM, STDG_SGG_NM FROM STD_BJCD_INFO;\")\n",
    "code.info()"
   ]
  },
  {
   "cell_type": "code",
   "execution_count": 148,
   "metadata": {},
   "outputs": [
    {
     "data": {
      "text/plain": [
       "Index(['STDG_CD', 'STDG_CTPV_NM', 'STDG_SGG_NM'], dtype='object')"
      ]
     },
     "execution_count": 148,
     "metadata": {},
     "output_type": "execute_result"
    }
   ],
   "source": [
    "code.columns"
   ]
  },
  {
   "cell_type": "code",
   "execution_count": 149,
   "metadata": {},
   "outputs": [],
   "source": [
    "code_ch_col = {\n",
    "    'STDG_CD':'법정동코드', \n",
    "    'STDG_CTPV_NM':'시도', \n",
    "    'STDG_SGG_NM':'시군구',  \n",
    "}"
   ]
  },
  {
   "cell_type": "code",
   "execution_count": 150,
   "metadata": {},
   "outputs": [
    {
     "data": {
      "text/plain": [
       "Index(['법정동코드', '시도', '시군구'], dtype='object')"
      ]
     },
     "execution_count": 150,
     "metadata": {},
     "output_type": "execute_result"
    }
   ],
   "source": [
    "coder = code.rename(columns=code_ch_col)\n",
    "coder.columns"
   ]
  },
  {
   "attachments": {},
   "cell_type": "markdown",
   "metadata": {},
   "source": [
    "# 전처리"
   ]
  },
  {
   "attachments": {},
   "cell_type": "markdown",
   "metadata": {},
   "source": [
    "## 중복 차대번호 제거"
   ]
  },
  {
   "cell_type": "code",
   "execution_count": 110,
   "metadata": {},
   "outputs": [
    {
     "data": {
      "text/plain": [
       "((1898814, 10), 1898763)"
      ]
     },
     "execution_count": 110,
     "metadata": {},
     "output_type": "execute_result"
    }
   ],
   "source": [
    "carr.shape, len(carr['차대번호'].unique())"
   ]
  },
  {
   "cell_type": "code",
   "execution_count": 111,
   "metadata": {},
   "outputs": [
    {
     "data": {
      "text/plain": [
       "(1898763, 10)"
      ]
     },
     "execution_count": 111,
     "metadata": {},
     "output_type": "execute_result"
    }
   ],
   "source": [
    "carr = carr.sort_values('최초등록일자', ascending=False).drop_duplicates('차대번호').reset_index(drop=True)\n",
    "carr.shape"
   ]
  },
  {
   "attachments": {},
   "cell_type": "markdown",
   "metadata": {},
   "source": [
    "## 배출가스등급 코드 변환"
   ]
  },
  {
   "cell_type": "code",
   "execution_count": 112,
   "metadata": {},
   "outputs": [
    {
     "data": {
      "text/plain": [
       "array(['4'], dtype=object)"
      ]
     },
     "execution_count": 112,
     "metadata": {},
     "output_type": "execute_result"
    }
   ],
   "source": [
    "grd_dict = {\n",
    "    'A0501':'1', \n",
    "    'A0502':'2', \n",
    "    'A0503':'3', \n",
    "    'A0504':'4', \n",
    "    'A0505':'5', \n",
    "    'A05T2':'2',\n",
    "    'A05T3':'3', \n",
    "    'A05T4':'4', \n",
    "    'A05T5':'5', \n",
    "    'A05X':'X', \n",
    "}\n",
    "carr['배출가스등급'] = carr['배출가스등급'].replace(grd_dict)\n",
    "carr['배출가스등급'].unique()"
   ]
  },
  {
   "attachments": {},
   "cell_type": "markdown",
   "metadata": {},
   "source": [
    "## 차종 코드 변환"
   ]
  },
  {
   "cell_type": "code",
   "execution_count": 113,
   "metadata": {},
   "outputs": [
    {
     "data": {
      "text/plain": [
       "array(['화물', '승합', '승용', '특수', nan], dtype=object)"
      ]
     },
     "execution_count": 113,
     "metadata": {},
     "output_type": "execute_result"
    }
   ],
   "source": [
    "cd_dict = {\n",
    "    'A31M':'이륜', \n",
    "    'A31P':'승용', \n",
    "    'A31S':'특수', \n",
    "    'A31T':'화물', \n",
    "    'A31V':'승합'\n",
    "}\n",
    "carr['차종'] = carr['차종'].replace(cd_dict)\n",
    "carr['차종'].unique()"
   ]
  },
  {
   "attachments": {},
   "cell_type": "markdown",
   "metadata": {},
   "source": [
    "## 용도 코드 변환"
   ]
  },
  {
   "cell_type": "code",
   "execution_count": 114,
   "metadata": {},
   "outputs": [
    {
     "data": {
      "text/plain": [
       "array(['개인용', '영업용', '관용'], dtype=object)"
      ]
     },
     "execution_count": 114,
     "metadata": {},
     "output_type": "execute_result"
    }
   ],
   "source": [
    "purps_dict = {\n",
    "    'A08P':'개인용', \n",
    "    'A08B':'영업용', \n",
    "    'A08O':'관용',\n",
    "}\n",
    "carr['용도'] = carr['용도'].replace(purps_dict)\n",
    "carr['용도'].unique()"
   ]
  },
  {
   "attachments": {},
   "cell_type": "markdown",
   "metadata": {},
   "source": [
    "## 등록정보 말소 제거"
   ]
  },
  {
   "cell_type": "code",
   "execution_count": 115,
   "metadata": {},
   "outputs": [
    {
     "data": {
      "text/plain": [
       "(1515736, 10)"
      ]
     },
     "execution_count": 115,
     "metadata": {},
     "output_type": "execute_result"
    }
   ],
   "source": [
    "carm = carr[carr['차량말소YN'] == 'N'].reset_index(drop=True)\n",
    "carm.shape"
   ]
  },
  {
   "attachments": {},
   "cell_type": "markdown",
   "metadata": {},
   "source": [
    "## 연료 코드 변환"
   ]
  },
  {
   "cell_type": "code",
   "execution_count": 116,
   "metadata": {},
   "outputs": [
    {
     "data": {
      "text/plain": [
       "array(['경유', '휘발유', 'CNG(압축천연가스)', nan, 'LPG(액화석유가스)', '기타연료',\n",
       "       '휘발유 하이브리드', '전기', '알코올', '태양열', 'CNG 하이브리드', '등유', '경유 하이브리드',\n",
       "       'LPG 하이브리드', '수소', 'LNG(액화천연가스)'], dtype=object)"
      ]
     },
     "execution_count": 116,
     "metadata": {},
     "output_type": "execute_result"
    }
   ],
   "source": [
    "fuel_dict = {\n",
    "    'A90GS':'휘발유', \n",
    "    'A91DS':'경유',\n",
    "    'A92LP':'LPG(액화석유가스)', \n",
    "    'A90GH':'휘발유 하이브리드', \n",
    "    'A93EV':'전기', \n",
    "    'A91DH':'경유 하이브리드', \n",
    "    'A92CN':'CNG(압축천연가스)', \n",
    "    'A93HD':'수소', \n",
    "    'A92LH':'LPG 하이브리드', \n",
    "    'A94OT':'기타연료', \n",
    "    'A92CH':'CNG 하이브리드',\n",
    "    'A90AC':'알코올', \n",
    "    'A93SH':'태양열', \n",
    "    'A91KS':'등유', \n",
    "    'A92LN':'LNG(액화천연가스)', \n",
    "    'A90PH':'플러그인 하이브리드', \n",
    "}\n",
    "srcr['연료'] = srcr['연료'].replace(fuel_dict)\n",
    "srcr['연료'].unique()"
   ]
  },
  {
   "attachments": {},
   "cell_type": "markdown",
   "metadata": {},
   "source": [
    "## 차종유형 코드 변환"
   ]
  },
  {
   "cell_type": "code",
   "execution_count": 117,
   "metadata": {},
   "outputs": [
    {
     "data": {
      "text/plain": [
       "array(['대형', '소형', '중형', '경형', nan], dtype=object)"
      ]
     },
     "execution_count": 117,
     "metadata": {},
     "output_type": "execute_result"
    }
   ],
   "source": [
    "ty_dict = {\n",
    "    'A30C':'경형', \n",
    "    'A30L':'대형', \n",
    "    'A30M':'중형', \n",
    "    'A30S':'소형',\n",
    "}\n",
    "srcr['차종유형'] = srcr['차종유형'].replace(ty_dict)\n",
    "srcr['차종유형'].unique()"
   ]
  },
  {
   "attachments": {},
   "cell_type": "markdown",
   "metadata": {},
   "source": [
    "## 등록&제원 병합"
   ]
  },
  {
   "cell_type": "code",
   "execution_count": 118,
   "metadata": {},
   "outputs": [
    {
     "data": {
      "text/plain": [
       "(1515736, 16)"
      ]
     },
     "execution_count": 118,
     "metadata": {},
     "output_type": "execute_result"
    }
   ],
   "source": [
    "# 0.7s\n",
    "cs = carm.merge(srcr, on='제원관리번호', how='left')\n",
    "cs.shape"
   ]
  },
  {
   "cell_type": "code",
   "execution_count": 119,
   "metadata": {},
   "outputs": [
    {
     "data": {
      "text/html": [
       "<div>\n",
       "<style scoped>\n",
       "    .dataframe tbody tr th:only-of-type {\n",
       "        vertical-align: middle;\n",
       "    }\n",
       "\n",
       "    .dataframe tbody tr th {\n",
       "        vertical-align: top;\n",
       "    }\n",
       "\n",
       "    .dataframe thead th {\n",
       "        text-align: right;\n",
       "    }\n",
       "</style>\n",
       "<table border=\"1\" class=\"dataframe\">\n",
       "  <thead>\n",
       "    <tr style=\"text-align: right;\">\n",
       "      <th></th>\n",
       "      <th>차대번호</th>\n",
       "      <th>법정동코드</th>\n",
       "      <th>배출가스등급</th>\n",
       "      <th>배출가스인증번호</th>\n",
       "      <th>차량말소YN</th>\n",
       "      <th>제원관리번호</th>\n",
       "      <th>차량연식</th>\n",
       "      <th>차종</th>\n",
       "      <th>용도</th>\n",
       "      <th>최초등록일자</th>\n",
       "      <th>연료</th>\n",
       "      <th>차종유형</th>\n",
       "      <th>제작사명</th>\n",
       "      <th>차명</th>\n",
       "      <th>자동차형식</th>\n",
       "      <th>엔진형식</th>\n",
       "    </tr>\n",
       "  </thead>\n",
       "  <tbody>\n",
       "    <tr>\n",
       "      <th>0</th>\n",
       "      <td>KMCLK18KP8C035195</td>\n",
       "      <td>4824034000</td>\n",
       "      <td>4</td>\n",
       "      <td>NaN</td>\n",
       "      <td>N</td>\n",
       "      <td>A0810005209353308</td>\n",
       "      <td>2008</td>\n",
       "      <td>화물</td>\n",
       "      <td>개인용</td>\n",
       "      <td>20220614</td>\n",
       "      <td>경유</td>\n",
       "      <td>대형</td>\n",
       "      <td>현대자동차</td>\n",
       "      <td>메가트럭군물자수송</td>\n",
       "      <td>HD050-8MT2-LGc-A</td>\n",
       "      <td>D6GA</td>\n",
       "    </tr>\n",
       "    <tr>\n",
       "      <th>1</th>\n",
       "      <td>KMFLA18KP8C031274</td>\n",
       "      <td>4482533000</td>\n",
       "      <td>4</td>\n",
       "      <td>NaN</td>\n",
       "      <td>N</td>\n",
       "      <td>B1R10005100003308</td>\n",
       "      <td>2008</td>\n",
       "      <td>화물</td>\n",
       "      <td>개인용</td>\n",
       "      <td>20220419</td>\n",
       "      <td>경유</td>\n",
       "      <td>대형</td>\n",
       "      <td>신정개발특장차</td>\n",
       "      <td>신정4㎥급진공노면총소차</td>\n",
       "      <td>RS07GMS2</td>\n",
       "      <td>D6GA</td>\n",
       "    </tr>\n",
       "    <tr>\n",
       "      <th>2</th>\n",
       "      <td>KMCGK17HP9C112030</td>\n",
       "      <td>4518010400</td>\n",
       "      <td>4</td>\n",
       "      <td>7MY-HD-24-28</td>\n",
       "      <td>N</td>\n",
       "      <td>A0810005008143209</td>\n",
       "      <td>2009</td>\n",
       "      <td>화물</td>\n",
       "      <td>개인용</td>\n",
       "      <td>20220407</td>\n",
       "      <td>경유</td>\n",
       "      <td>중형</td>\n",
       "      <td>현대자동차</td>\n",
       "      <td>마이티군물자수송트럭</td>\n",
       "      <td>HD25-9MT0-LHFbF</td>\n",
       "      <td>D4GA</td>\n",
       "    </tr>\n",
       "    <tr>\n",
       "      <th>3</th>\n",
       "      <td>KLACA26RD8B226753</td>\n",
       "      <td>2826011300</td>\n",
       "      <td>4</td>\n",
       "      <td>NaN</td>\n",
       "      <td>N</td>\n",
       "      <td>A0710001100361207</td>\n",
       "      <td>2008</td>\n",
       "      <td>승용</td>\n",
       "      <td>개인용</td>\n",
       "      <td>20210909</td>\n",
       "      <td>경유</td>\n",
       "      <td>중형</td>\n",
       "      <td>한국지엠</td>\n",
       "      <td>윈스톰2.0S디젤</td>\n",
       "      <td>CA26R</td>\n",
       "      <td>Z20S</td>\n",
       "    </tr>\n",
       "    <tr>\n",
       "      <th>4</th>\n",
       "      <td>KNCSE01429K388374</td>\n",
       "      <td>2771026522</td>\n",
       "      <td>4</td>\n",
       "      <td>7MY-KM-14-65</td>\n",
       "      <td>N</td>\n",
       "      <td>A0110003115353108</td>\n",
       "      <td>2009</td>\n",
       "      <td>화물</td>\n",
       "      <td>개인용</td>\n",
       "      <td>20210909</td>\n",
       "      <td>경유</td>\n",
       "      <td>소형</td>\n",
       "      <td>기아자동차</td>\n",
       "      <td>봉고Ⅲ 1톤</td>\n",
       "      <td>SET42K-A</td>\n",
       "      <td>J3</td>\n",
       "    </tr>\n",
       "  </tbody>\n",
       "</table>\n",
       "</div>"
      ],
      "text/plain": [
       "                차대번호       법정동코드 배출가스등급      배출가스인증번호 차량말소YN   \n",
       "0  KMCLK18KP8C035195  4824034000      4           NaN      N  \\\n",
       "1  KMFLA18KP8C031274  4482533000      4           NaN      N   \n",
       "2  KMCGK17HP9C112030  4518010400      4  7MY-HD-24-28      N   \n",
       "3  KLACA26RD8B226753  2826011300      4           NaN      N   \n",
       "4  KNCSE01429K388374  2771026522      4  7MY-KM-14-65      N   \n",
       "\n",
       "              제원관리번호  차량연식  차종   용도    최초등록일자  연료 차종유형     제작사명            차명   \n",
       "0  A0810005209353308  2008  화물  개인용  20220614  경유   대형    현대자동차     메가트럭군물자수송  \\\n",
       "1  B1R10005100003308  2008  화물  개인용  20220419  경유   대형  신정개발특장차  신정4㎥급진공노면총소차   \n",
       "2  A0810005008143209  2009  화물  개인용  20220407  경유   중형    현대자동차    마이티군물자수송트럭   \n",
       "3  A0710001100361207  2008  승용  개인용  20210909  경유   중형     한국지엠     윈스톰2.0S디젤   \n",
       "4  A0110003115353108  2009  화물  개인용  20210909  경유   소형    기아자동차        봉고Ⅲ 1톤   \n",
       "\n",
       "              자동차형식  엔진형식  \n",
       "0  HD050-8MT2-LGc-A  D6GA  \n",
       "1          RS07GMS2  D6GA  \n",
       "2   HD25-9MT0-LHFbF  D4GA  \n",
       "3             CA26R  Z20S  \n",
       "4          SET42K-A    J3  "
      ]
     },
     "execution_count": 119,
     "metadata": {},
     "output_type": "execute_result"
    }
   ],
   "source": [
    "cs.head()"
   ]
  },
  {
   "attachments": {},
   "cell_type": "markdown",
   "metadata": {},
   "source": [
    "## 정기&정밀 병합"
   ]
  },
  {
   "cell_type": "code",
   "execution_count": 120,
   "metadata": {},
   "outputs": [
    {
     "data": {
      "text/plain": [
       "Index(['차대번호', '검사방법', '검사종류', '검사판정', '무부하매연측정치1', '무부하매연측정치2', '무부하매연측정치3',\n",
       "       '무부하매연판정1', '검사일자', '주행거리', '무부하매연허용치1'],\n",
       "      dtype='object')"
      ]
     },
     "execution_count": 120,
     "metadata": {},
     "output_type": "execute_result"
    }
   ],
   "source": [
    "jgtr.columns"
   ]
  },
  {
   "cell_type": "code",
   "execution_count": 121,
   "metadata": {},
   "outputs": [
    {
     "data": {
      "text/plain": [
       "Index(['차대번호', '검사방법', '검사종류', '검사판정', '무부하매연측정치1', '무부하매연측정치2', '무부하매연측정치3',\n",
       "       '무부하매연판정1', '검사일자', '주행거리', '무부하매연허용치1'],\n",
       "      dtype='object')"
      ]
     },
     "execution_count": 121,
     "metadata": {},
     "output_type": "execute_result"
    }
   ],
   "source": [
    "eetr.columns"
   ]
  },
  {
   "cell_type": "code",
   "execution_count": 122,
   "metadata": {},
   "outputs": [],
   "source": [
    "jgtr['정기정밀'] = '정기'\n",
    "eetr['정기정밀'] = '정밀'"
   ]
  },
  {
   "cell_type": "code",
   "execution_count": 123,
   "metadata": {},
   "outputs": [
    {
     "data": {
      "text/plain": [
       "(163925780, 12)"
      ]
     },
     "execution_count": 123,
     "metadata": {},
     "output_type": "execute_result"
    }
   ],
   "source": [
    "# 3m 1.9s\n",
    "ins = pd.concat([jgtr, eetr], ignore_index=True)\n",
    "ins.shape"
   ]
  },
  {
   "attachments": {},
   "cell_type": "markdown",
   "metadata": {},
   "source": [
    "### 최근 검사만 활용"
   ]
  },
  {
   "cell_type": "code",
   "execution_count": 124,
   "metadata": {},
   "outputs": [
    {
     "data": {
      "text/plain": [
       "(34114272, 12)"
      ]
     },
     "execution_count": 124,
     "metadata": {},
     "output_type": "execute_result"
    }
   ],
   "source": [
    "# 4m 14.3s\n",
    "insm = ins.sort_values('검사일자', ascending=False).drop_duplicates('차대번호').reset_index(drop=True)\n",
    "insm.shape"
   ]
  },
  {
   "attachments": {},
   "cell_type": "markdown",
   "metadata": {},
   "source": [
    "## 검사종류 코드 변환"
   ]
  },
  {
   "cell_type": "code",
   "execution_count": 125,
   "metadata": {},
   "outputs": [
    {
     "data": {
      "text/plain": [
       "array(['종합검사', '종합검사(경과)', '2부재검사(종합)', '1부재검사(종합)', '정기(경과)검사', '정기검사',\n",
       "       '재검사(2부재검사)', '재검사(1부재검사)', nan, '배출재검사(구변)', '구조변경검사',\n",
       "       '종합(정밀) 1부재검사', '종합(정밀) 2부재검사', '종합(정밀)', '종합(경과:정밀)', '정밀검사',\n",
       "       '특정검사', '특정재검사(배출)', '임시검사', '배출재검사', '관능재검사', '특정재검사(관능)',\n",
       "       '정밀검사(경과)', '특정검사(경과)', 'A21R03', 'A21R05', 'A21R06', '관능재검사(임시)',\n",
       "       'A21E03'], dtype=object)"
      ]
     },
     "execution_count": 125,
     "metadata": {},
     "output_type": "execute_result"
    }
   ],
   "source": [
    "# 27.5s\n",
    "knd_dict = {\n",
    "    'A21P01':'정밀검사', \n",
    "    'A1904':'정기검사', \n",
    "    'A21T06':'종합검사(경과)', \n",
    "    'A21T05':'종합검사', \n",
    "    'A21S01':'특정검사', \n",
    "    'A1902':'재검사(2부재검사)',\n",
    "    'A21R02':'2부재검사(종합)', \n",
    "    'A21P02':'정밀검사(경과)', \n",
    "    'A1903':'정기(경과)검사', \n",
    "    'A21S04':'특정재검사(배출)', \n",
    "    'A21E01':'배출재검사', \n",
    "    'A21R01':'1부재검사(종합)',\n",
    "    'A21C02':'구조변경검사', \n",
    "    'A21002':'관능재검사(임시)', \n",
    "    'A21S03':'특정재검사(관능)', \n",
    "    'A21S02':'특정검사(경과)', \n",
    "    'A1901':'재검사(1부재검사)', \n",
    "    'A21T02':'종합(정밀)',\n",
    "    'A21E02':'배출재검사(구변)', \n",
    "    'A21T01':'종합(경과:정밀)', \n",
    "    'A21T04':'종합(정밀) 2부재검사', \n",
    "    'A21001':'관능재검사', \n",
    "    'A21T03':'종합(정밀) 1부재검사', \n",
    "    'A21TMP':'임시검사', \n",
    "}\n",
    "insm['검사종류'] = insm['검사종류'].replace(knd_dict)\n",
    "insm['검사종류'].unique()"
   ]
  },
  {
   "attachments": {},
   "cell_type": "markdown",
   "metadata": {},
   "source": [
    "## 검사방법 코드 변환"
   ]
  },
  {
   "cell_type": "code",
   "execution_count": 126,
   "metadata": {},
   "outputs": [
    {
     "data": {
      "text/plain": [
       "array(['무부하검사(급가속)', '부하검사(ASM-Idling)', '부하검사(KD-147)', '부하검사(LUG DOWN)',\n",
       "       '무부하검사(TSI)', '무부하검사(정지가동)', '부하검사(ASM2525)'], dtype=object)"
      ]
     },
     "execution_count": 126,
     "metadata": {},
     "output_type": "execute_result"
    }
   ],
   "source": [
    "# 14.9s\n",
    "mth_dict = {\n",
    "    'A18A':'무부하검사(TSI)', \n",
    "    'A18B':'무부하검사(급가속)', \n",
    "    'A18C':'무부하검사(정지가동)',\n",
    "    'A2301':'무부하검사(급가속)', \n",
    "    'A2302':'무부하검사(정지가동)',\n",
    "    'A2303':'무부하검사(TSI)', \n",
    "    'A2304':'부하검사(LUG DOWN)', \n",
    "    'A2305':'부하검사(ASM-Idling)', \n",
    "    'A2306':'부하검사(KD-147)', \n",
    "    'A2307':'부하검사(ASM2525)', \n",
    "}\n",
    "insm['검사방법'] = insm['검사방법'].replace(mth_dict)\n",
    "insm['검사방법'].unique()"
   ]
  },
  {
   "attachments": {},
   "cell_type": "markdown",
   "metadata": {},
   "source": [
    "## 등록&제원&정기&정밀 병합"
   ]
  },
  {
   "cell_type": "code",
   "execution_count": 141,
   "metadata": {},
   "outputs": [
    {
     "data": {
      "text/plain": [
       "(1515736, 27)"
      ]
     },
     "execution_count": 141,
     "metadata": {},
     "output_type": "execute_result"
    }
   ],
   "source": [
    "# 2m 0.5s\n",
    "csi = cs.merge(insm, on='차대번호', how='left')\n",
    "csi.shape"
   ]
  },
  {
   "cell_type": "code",
   "execution_count": 142,
   "metadata": {},
   "outputs": [
    {
     "data": {
      "text/plain": [
       "Index(['차대번호', '법정동코드', '배출가스등급', '배출가스인증번호', '차량말소YN', '제원관리번호', '차량연식', '차종',\n",
       "       '용도', '최초등록일자', '연료', '차종유형', '제작사명', '차명', '자동차형식', '엔진형식', '검사방법',\n",
       "       '검사종류', '검사판정', '무부하매연측정치1', '무부하매연측정치2', '무부하매연측정치3', '무부하매연판정1',\n",
       "       '검사일자', '주행거리', '무부하매연허용치1', '정기정밀'],\n",
       "      dtype='object')"
      ]
     },
     "execution_count": 142,
     "metadata": {},
     "output_type": "execute_result"
    }
   ],
   "source": [
    "csi.columns"
   ]
  },
  {
   "cell_type": "code",
   "execution_count": 143,
   "metadata": {},
   "outputs": [
    {
     "data": {
      "text/html": [
       "<div>\n",
       "<style scoped>\n",
       "    .dataframe tbody tr th:only-of-type {\n",
       "        vertical-align: middle;\n",
       "    }\n",
       "\n",
       "    .dataframe tbody tr th {\n",
       "        vertical-align: top;\n",
       "    }\n",
       "\n",
       "    .dataframe thead th {\n",
       "        text-align: right;\n",
       "    }\n",
       "</style>\n",
       "<table border=\"1\" class=\"dataframe\">\n",
       "  <thead>\n",
       "    <tr style=\"text-align: right;\">\n",
       "      <th></th>\n",
       "      <th>차대번호</th>\n",
       "      <th>법정동코드</th>\n",
       "      <th>배출가스등급</th>\n",
       "      <th>배출가스인증번호</th>\n",
       "      <th>차량말소YN</th>\n",
       "      <th>제원관리번호</th>\n",
       "      <th>차량연식</th>\n",
       "      <th>차종</th>\n",
       "      <th>용도</th>\n",
       "      <th>최초등록일자</th>\n",
       "      <th>...</th>\n",
       "      <th>검사종류</th>\n",
       "      <th>검사판정</th>\n",
       "      <th>무부하매연측정치1</th>\n",
       "      <th>무부하매연측정치2</th>\n",
       "      <th>무부하매연측정치3</th>\n",
       "      <th>무부하매연판정1</th>\n",
       "      <th>검사일자</th>\n",
       "      <th>주행거리</th>\n",
       "      <th>무부하매연허용치1</th>\n",
       "      <th>정기정밀</th>\n",
       "    </tr>\n",
       "  </thead>\n",
       "  <tbody>\n",
       "    <tr>\n",
       "      <th>0</th>\n",
       "      <td>KMCLK18KP8C035195</td>\n",
       "      <td>4824034000</td>\n",
       "      <td>4</td>\n",
       "      <td>NaN</td>\n",
       "      <td>N</td>\n",
       "      <td>A0810005209353308</td>\n",
       "      <td>2008</td>\n",
       "      <td>화물</td>\n",
       "      <td>개인용</td>\n",
       "      <td>20220614</td>\n",
       "      <td>...</td>\n",
       "      <td>NaN</td>\n",
       "      <td>NaN</td>\n",
       "      <td>NaN</td>\n",
       "      <td>NaN</td>\n",
       "      <td>NaN</td>\n",
       "      <td>NaN</td>\n",
       "      <td>NaN</td>\n",
       "      <td>NaN</td>\n",
       "      <td>NaN</td>\n",
       "      <td>NaN</td>\n",
       "    </tr>\n",
       "    <tr>\n",
       "      <th>1</th>\n",
       "      <td>KMFLA18KP8C031274</td>\n",
       "      <td>4482533000</td>\n",
       "      <td>4</td>\n",
       "      <td>NaN</td>\n",
       "      <td>N</td>\n",
       "      <td>B1R10005100003308</td>\n",
       "      <td>2008</td>\n",
       "      <td>화물</td>\n",
       "      <td>개인용</td>\n",
       "      <td>20220419</td>\n",
       "      <td>...</td>\n",
       "      <td>종합검사</td>\n",
       "      <td>Y</td>\n",
       "      <td>7.00</td>\n",
       "      <td>1.00</td>\n",
       "      <td>0.00</td>\n",
       "      <td>Y</td>\n",
       "      <td>20230330.00</td>\n",
       "      <td>4774.00</td>\n",
       "      <td>15.00</td>\n",
       "      <td>정밀</td>\n",
       "    </tr>\n",
       "    <tr>\n",
       "      <th>2</th>\n",
       "      <td>KMCGK17HP9C112030</td>\n",
       "      <td>4518010400</td>\n",
       "      <td>4</td>\n",
       "      <td>7MY-HD-24-28</td>\n",
       "      <td>N</td>\n",
       "      <td>A0810005008143209</td>\n",
       "      <td>2009</td>\n",
       "      <td>화물</td>\n",
       "      <td>개인용</td>\n",
       "      <td>20220407</td>\n",
       "      <td>...</td>\n",
       "      <td>정기(경과)검사</td>\n",
       "      <td>Y</td>\n",
       "      <td>5.00</td>\n",
       "      <td>NaN</td>\n",
       "      <td>NaN</td>\n",
       "      <td>Y</td>\n",
       "      <td>20230523.00</td>\n",
       "      <td>79425.00</td>\n",
       "      <td>20.00</td>\n",
       "      <td>정기</td>\n",
       "    </tr>\n",
       "    <tr>\n",
       "      <th>3</th>\n",
       "      <td>KLACA26RD8B226753</td>\n",
       "      <td>2826011300</td>\n",
       "      <td>4</td>\n",
       "      <td>NaN</td>\n",
       "      <td>N</td>\n",
       "      <td>A0710001100361207</td>\n",
       "      <td>2008</td>\n",
       "      <td>승용</td>\n",
       "      <td>개인용</td>\n",
       "      <td>20210909</td>\n",
       "      <td>...</td>\n",
       "      <td>NaN</td>\n",
       "      <td>NaN</td>\n",
       "      <td>NaN</td>\n",
       "      <td>NaN</td>\n",
       "      <td>NaN</td>\n",
       "      <td>NaN</td>\n",
       "      <td>NaN</td>\n",
       "      <td>NaN</td>\n",
       "      <td>NaN</td>\n",
       "      <td>NaN</td>\n",
       "    </tr>\n",
       "    <tr>\n",
       "      <th>4</th>\n",
       "      <td>KNCSE01429K388374</td>\n",
       "      <td>2771026522</td>\n",
       "      <td>4</td>\n",
       "      <td>7MY-KM-14-65</td>\n",
       "      <td>N</td>\n",
       "      <td>A0110003115353108</td>\n",
       "      <td>2009</td>\n",
       "      <td>화물</td>\n",
       "      <td>개인용</td>\n",
       "      <td>20210909</td>\n",
       "      <td>...</td>\n",
       "      <td>2부재검사(종합)</td>\n",
       "      <td>Y</td>\n",
       "      <td>14.00</td>\n",
       "      <td>NaN</td>\n",
       "      <td>NaN</td>\n",
       "      <td>Y</td>\n",
       "      <td>20220810.00</td>\n",
       "      <td>50589.00</td>\n",
       "      <td>15.00</td>\n",
       "      <td>정밀</td>\n",
       "    </tr>\n",
       "  </tbody>\n",
       "</table>\n",
       "<p>5 rows × 27 columns</p>\n",
       "</div>"
      ],
      "text/plain": [
       "                차대번호       법정동코드 배출가스등급      배출가스인증번호 차량말소YN   \n",
       "0  KMCLK18KP8C035195  4824034000      4           NaN      N  \\\n",
       "1  KMFLA18KP8C031274  4482533000      4           NaN      N   \n",
       "2  KMCGK17HP9C112030  4518010400      4  7MY-HD-24-28      N   \n",
       "3  KLACA26RD8B226753  2826011300      4           NaN      N   \n",
       "4  KNCSE01429K388374  2771026522      4  7MY-KM-14-65      N   \n",
       "\n",
       "              제원관리번호  차량연식  차종   용도    최초등록일자  ...       검사종류 검사판정 무부하매연측정치1   \n",
       "0  A0810005209353308  2008  화물  개인용  20220614  ...        NaN  NaN       NaN  \\\n",
       "1  B1R10005100003308  2008  화물  개인용  20220419  ...       종합검사    Y      7.00   \n",
       "2  A0810005008143209  2009  화물  개인용  20220407  ...   정기(경과)검사    Y      5.00   \n",
       "3  A0710001100361207  2008  승용  개인용  20210909  ...        NaN  NaN       NaN   \n",
       "4  A0110003115353108  2009  화물  개인용  20210909  ...  2부재검사(종합)    Y     14.00   \n",
       "\n",
       "  무부하매연측정치2 무부하매연측정치3 무부하매연판정1        검사일자     주행거리 무부하매연허용치1  정기정밀  \n",
       "0       NaN       NaN      NaN         NaN      NaN       NaN   NaN  \n",
       "1      1.00      0.00        Y 20230330.00  4774.00     15.00    정밀  \n",
       "2       NaN       NaN        Y 20230523.00 79425.00     20.00    정기  \n",
       "3       NaN       NaN      NaN         NaN      NaN       NaN   NaN  \n",
       "4       NaN       NaN        Y 20220810.00 50589.00     15.00    정밀  \n",
       "\n",
       "[5 rows x 27 columns]"
      ]
     },
     "execution_count": 143,
     "metadata": {},
     "output_type": "execute_result"
    }
   ],
   "source": [
    "csi.head()"
   ]
  },
  {
   "attachments": {},
   "cell_type": "markdown",
   "metadata": {},
   "source": [
    "## 등록&제원&정기&정밀&법정동코드 병합"
   ]
  },
  {
   "cell_type": "code",
   "execution_count": 144,
   "metadata": {},
   "outputs": [
    {
     "data": {
      "text/plain": [
       "(1515736, 27)"
      ]
     },
     "execution_count": 144,
     "metadata": {},
     "output_type": "execute_result"
    }
   ],
   "source": [
    "csi.shape"
   ]
  },
  {
   "cell_type": "code",
   "execution_count": 151,
   "metadata": {},
   "outputs": [],
   "source": [
    "df = csi.merge(coder, on='법정동코드', how='left')"
   ]
  },
  {
   "cell_type": "code",
   "execution_count": 152,
   "metadata": {},
   "outputs": [
    {
     "data": {
      "text/plain": [
       "(1515736, 29)"
      ]
     },
     "execution_count": 152,
     "metadata": {},
     "output_type": "execute_result"
    }
   ],
   "source": [
    "df.shape"
   ]
  },
  {
   "cell_type": "code",
   "execution_count": 159,
   "metadata": {},
   "outputs": [
    {
     "data": {
      "text/plain": [
       "1"
      ]
     },
     "execution_count": 159,
     "metadata": {},
     "output_type": "execute_result"
    }
   ],
   "source": [
    "df['시도'].isnull().sum()"
   ]
  },
  {
   "cell_type": "code",
   "execution_count": 160,
   "metadata": {},
   "outputs": [
    {
     "data": {
      "text/plain": [
       "1403523    4163055000\n",
       "Name: 법정동코드, dtype: int64"
      ]
     },
     "execution_count": 160,
     "metadata": {},
     "output_type": "execute_result"
    }
   ],
   "source": [
    "df.loc[df['시도'].isnull(), '법정동코드']"
   ]
  },
  {
   "cell_type": "code",
   "execution_count": 161,
   "metadata": {},
   "outputs": [],
   "source": [
    "# 주소 수정\n",
    "df.loc[df['법정동코드'] == 4163055000, ['시도', '시군구']] = ['경기도', '양주시'] # 경기도 양주시 회천3동"
   ]
  },
  {
   "attachments": {},
   "cell_type": "markdown",
   "metadata": {},
   "source": [
    "# STD_BD_GRD4_CAR_CURSTT"
   ]
  },
  {
   "attachments": {},
   "cell_type": "markdown",
   "metadata": {},
   "source": [
    "## 4등급차만 추출"
   ]
  },
  {
   "cell_type": "code",
   "execution_count": 162,
   "metadata": {},
   "outputs": [
    {
     "data": {
      "text/plain": [
       "(1515736, 29)"
      ]
     },
     "execution_count": 162,
     "metadata": {},
     "output_type": "execute_result"
    }
   ],
   "source": [
    "# 2.8s\n",
    "df1 = df[df['배출가스등급'] == '4'].reset_index(drop=True)\n",
    "df1.shape"
   ]
  },
  {
   "cell_type": "code",
   "execution_count": 163,
   "metadata": {},
   "outputs": [
    {
     "data": {
      "text/html": [
       "<div>\n",
       "<style scoped>\n",
       "    .dataframe tbody tr th:only-of-type {\n",
       "        vertical-align: middle;\n",
       "    }\n",
       "\n",
       "    .dataframe tbody tr th {\n",
       "        vertical-align: top;\n",
       "    }\n",
       "\n",
       "    .dataframe thead th {\n",
       "        text-align: right;\n",
       "    }\n",
       "</style>\n",
       "<table border=\"1\" class=\"dataframe\">\n",
       "  <thead>\n",
       "    <tr style=\"text-align: right;\">\n",
       "      <th></th>\n",
       "      <th>차대번호</th>\n",
       "      <th>법정동코드</th>\n",
       "      <th>배출가스등급</th>\n",
       "      <th>배출가스인증번호</th>\n",
       "      <th>차량말소YN</th>\n",
       "      <th>제원관리번호</th>\n",
       "      <th>차량연식</th>\n",
       "      <th>차종</th>\n",
       "      <th>용도</th>\n",
       "      <th>최초등록일자</th>\n",
       "      <th>...</th>\n",
       "      <th>무부하매연측정치1</th>\n",
       "      <th>무부하매연측정치2</th>\n",
       "      <th>무부하매연측정치3</th>\n",
       "      <th>무부하매연판정1</th>\n",
       "      <th>검사일자</th>\n",
       "      <th>주행거리</th>\n",
       "      <th>무부하매연허용치1</th>\n",
       "      <th>정기정밀</th>\n",
       "      <th>시도</th>\n",
       "      <th>시군구</th>\n",
       "    </tr>\n",
       "  </thead>\n",
       "  <tbody>\n",
       "    <tr>\n",
       "      <th>0</th>\n",
       "      <td>KMCLK18KP8C035195</td>\n",
       "      <td>4824034000</td>\n",
       "      <td>4</td>\n",
       "      <td>NaN</td>\n",
       "      <td>N</td>\n",
       "      <td>A0810005209353308</td>\n",
       "      <td>2008</td>\n",
       "      <td>화물</td>\n",
       "      <td>개인용</td>\n",
       "      <td>20220614</td>\n",
       "      <td>...</td>\n",
       "      <td>NaN</td>\n",
       "      <td>NaN</td>\n",
       "      <td>NaN</td>\n",
       "      <td>NaN</td>\n",
       "      <td>NaN</td>\n",
       "      <td>NaN</td>\n",
       "      <td>NaN</td>\n",
       "      <td>NaN</td>\n",
       "      <td>경상남도</td>\n",
       "      <td>사천시</td>\n",
       "    </tr>\n",
       "    <tr>\n",
       "      <th>1</th>\n",
       "      <td>KMFLA18KP8C031274</td>\n",
       "      <td>4482533000</td>\n",
       "      <td>4</td>\n",
       "      <td>NaN</td>\n",
       "      <td>N</td>\n",
       "      <td>B1R10005100003308</td>\n",
       "      <td>2008</td>\n",
       "      <td>화물</td>\n",
       "      <td>개인용</td>\n",
       "      <td>20220419</td>\n",
       "      <td>...</td>\n",
       "      <td>7.00</td>\n",
       "      <td>1.00</td>\n",
       "      <td>0.00</td>\n",
       "      <td>Y</td>\n",
       "      <td>20230330.00</td>\n",
       "      <td>4774.00</td>\n",
       "      <td>15.00</td>\n",
       "      <td>정밀</td>\n",
       "      <td>충청남도</td>\n",
       "      <td>태안군</td>\n",
       "    </tr>\n",
       "    <tr>\n",
       "      <th>2</th>\n",
       "      <td>KMCGK17HP9C112030</td>\n",
       "      <td>4518010400</td>\n",
       "      <td>4</td>\n",
       "      <td>7MY-HD-24-28</td>\n",
       "      <td>N</td>\n",
       "      <td>A0810005008143209</td>\n",
       "      <td>2009</td>\n",
       "      <td>화물</td>\n",
       "      <td>개인용</td>\n",
       "      <td>20220407</td>\n",
       "      <td>...</td>\n",
       "      <td>5.00</td>\n",
       "      <td>NaN</td>\n",
       "      <td>NaN</td>\n",
       "      <td>Y</td>\n",
       "      <td>20230523.00</td>\n",
       "      <td>79425.00</td>\n",
       "      <td>20.00</td>\n",
       "      <td>정기</td>\n",
       "      <td>전라북도</td>\n",
       "      <td>정읍시</td>\n",
       "    </tr>\n",
       "    <tr>\n",
       "      <th>3</th>\n",
       "      <td>KLACA26RD8B226753</td>\n",
       "      <td>2826011300</td>\n",
       "      <td>4</td>\n",
       "      <td>NaN</td>\n",
       "      <td>N</td>\n",
       "      <td>A0710001100361207</td>\n",
       "      <td>2008</td>\n",
       "      <td>승용</td>\n",
       "      <td>개인용</td>\n",
       "      <td>20210909</td>\n",
       "      <td>...</td>\n",
       "      <td>NaN</td>\n",
       "      <td>NaN</td>\n",
       "      <td>NaN</td>\n",
       "      <td>NaN</td>\n",
       "      <td>NaN</td>\n",
       "      <td>NaN</td>\n",
       "      <td>NaN</td>\n",
       "      <td>NaN</td>\n",
       "      <td>인천광역시</td>\n",
       "      <td>서구</td>\n",
       "    </tr>\n",
       "    <tr>\n",
       "      <th>4</th>\n",
       "      <td>KNCSE01429K388374</td>\n",
       "      <td>2771026522</td>\n",
       "      <td>4</td>\n",
       "      <td>7MY-KM-14-65</td>\n",
       "      <td>N</td>\n",
       "      <td>A0110003115353108</td>\n",
       "      <td>2009</td>\n",
       "      <td>화물</td>\n",
       "      <td>개인용</td>\n",
       "      <td>20210909</td>\n",
       "      <td>...</td>\n",
       "      <td>14.00</td>\n",
       "      <td>NaN</td>\n",
       "      <td>NaN</td>\n",
       "      <td>Y</td>\n",
       "      <td>20220810.00</td>\n",
       "      <td>50589.00</td>\n",
       "      <td>15.00</td>\n",
       "      <td>정밀</td>\n",
       "      <td>대구광역시</td>\n",
       "      <td>달성군</td>\n",
       "    </tr>\n",
       "  </tbody>\n",
       "</table>\n",
       "<p>5 rows × 29 columns</p>\n",
       "</div>"
      ],
      "text/plain": [
       "                차대번호       법정동코드 배출가스등급      배출가스인증번호 차량말소YN   \n",
       "0  KMCLK18KP8C035195  4824034000      4           NaN      N  \\\n",
       "1  KMFLA18KP8C031274  4482533000      4           NaN      N   \n",
       "2  KMCGK17HP9C112030  4518010400      4  7MY-HD-24-28      N   \n",
       "3  KLACA26RD8B226753  2826011300      4           NaN      N   \n",
       "4  KNCSE01429K388374  2771026522      4  7MY-KM-14-65      N   \n",
       "\n",
       "              제원관리번호  차량연식  차종   용도    최초등록일자  ... 무부하매연측정치1 무부하매연측정치2   \n",
       "0  A0810005209353308  2008  화물  개인용  20220614  ...       NaN       NaN  \\\n",
       "1  B1R10005100003308  2008  화물  개인용  20220419  ...      7.00      1.00   \n",
       "2  A0810005008143209  2009  화물  개인용  20220407  ...      5.00       NaN   \n",
       "3  A0710001100361207  2008  승용  개인용  20210909  ...       NaN       NaN   \n",
       "4  A0110003115353108  2009  화물  개인용  20210909  ...     14.00       NaN   \n",
       "\n",
       "  무부하매연측정치3 무부하매연판정1        검사일자     주행거리 무부하매연허용치1 정기정밀     시도  시군구  \n",
       "0       NaN      NaN         NaN      NaN       NaN  NaN   경상남도  사천시  \n",
       "1      0.00        Y 20230330.00  4774.00     15.00   정밀   충청남도  태안군  \n",
       "2       NaN        Y 20230523.00 79425.00     20.00   정기   전라북도  정읍시  \n",
       "3       NaN      NaN         NaN      NaN       NaN  NaN  인천광역시   서구  \n",
       "4       NaN        Y 20220810.00 50589.00     15.00   정밀  대구광역시  달성군  \n",
       "\n",
       "[5 rows x 29 columns]"
      ]
     },
     "execution_count": 163,
     "metadata": {},
     "output_type": "execute_result"
    }
   ],
   "source": [
    "df1.head()"
   ]
  },
  {
   "attachments": {},
   "cell_type": "markdown",
   "metadata": {},
   "source": [
    "### 기준연월 정보 추가"
   ]
  },
  {
   "cell_type": "code",
   "execution_count": 164,
   "metadata": {},
   "outputs": [
    {
     "data": {
      "text/plain": [
       "'202306'"
      ]
     },
     "execution_count": 164,
     "metadata": {},
     "output_type": "execute_result"
    }
   ],
   "source": [
    "today_date = datetime.today().strftime(\"%Y%m\")\n",
    "today_date"
   ]
  },
  {
   "cell_type": "code",
   "execution_count": 165,
   "metadata": {},
   "outputs": [],
   "source": [
    "df1['기준연월'] = today_date"
   ]
  },
  {
   "cell_type": "code",
   "execution_count": 166,
   "metadata": {},
   "outputs": [
    {
     "data": {
      "text/plain": [
       "Index(['차대번호', '법정동코드', '배출가스등급', '배출가스인증번호', '차량말소YN', '제원관리번호', '차량연식', '차종',\n",
       "       '용도', '최초등록일자', '연료', '차종유형', '제작사명', '차명', '자동차형식', '엔진형식', '검사방법',\n",
       "       '검사종류', '검사판정', '무부하매연측정치1', '무부하매연측정치2', '무부하매연측정치3', '무부하매연판정1',\n",
       "       '검사일자', '주행거리', '무부하매연허용치1', '정기정밀', '시도', '시군구', '기준연월'],\n",
       "      dtype='object')"
      ]
     },
     "execution_count": 166,
     "metadata": {},
     "output_type": "execute_result"
    }
   ],
   "source": [
    "df1.columns"
   ]
  },
  {
   "cell_type": "code",
   "execution_count": 167,
   "metadata": {},
   "outputs": [
    {
     "data": {
      "text/plain": [
       "(1515736, 21)"
      ]
     },
     "execution_count": 167,
     "metadata": {},
     "output_type": "execute_result"
    }
   ],
   "source": [
    "STD_BD_GRD4_CAR_CURSTT = df1[[\n",
    "    '기준연월', \n",
    "    '차대번호', \n",
    "    '제원관리번호', \n",
    "    '차종', \n",
    "    '용도',\n",
    "    '차량연식', \n",
    "    '차종유형', \n",
    "    '연료', \n",
    "    '법정동코드', \n",
    "    '시도',\n",
    "    '시군구',\n",
    "    '차명', \n",
    "    '제작사명', \n",
    "    '배출가스등급', \n",
    "    '검사방법', \n",
    "    '검사종류', \n",
    "    '검사판정', \n",
    "    '무부하매연측정치1', \n",
    "    '무부하매연판정1', \n",
    "    '무부하매연측정치2', \n",
    "    '무부하매연측정치3', \n",
    "    ]]\n",
    "STD_BD_GRD4_CAR_CURSTT.shape"
   ]
  },
  {
   "cell_type": "code",
   "execution_count": 168,
   "metadata": {},
   "outputs": [
    {
     "data": {
      "text/html": [
       "<div>\n",
       "<style scoped>\n",
       "    .dataframe tbody tr th:only-of-type {\n",
       "        vertical-align: middle;\n",
       "    }\n",
       "\n",
       "    .dataframe tbody tr th {\n",
       "        vertical-align: top;\n",
       "    }\n",
       "\n",
       "    .dataframe thead th {\n",
       "        text-align: right;\n",
       "    }\n",
       "</style>\n",
       "<table border=\"1\" class=\"dataframe\">\n",
       "  <thead>\n",
       "    <tr style=\"text-align: right;\">\n",
       "      <th></th>\n",
       "      <th>기준연월</th>\n",
       "      <th>차대번호</th>\n",
       "      <th>제원관리번호</th>\n",
       "      <th>차종</th>\n",
       "      <th>용도</th>\n",
       "      <th>차량연식</th>\n",
       "      <th>차종유형</th>\n",
       "      <th>연료</th>\n",
       "      <th>법정동코드</th>\n",
       "      <th>시도</th>\n",
       "      <th>...</th>\n",
       "      <th>차명</th>\n",
       "      <th>제작사명</th>\n",
       "      <th>배출가스등급</th>\n",
       "      <th>검사방법</th>\n",
       "      <th>검사종류</th>\n",
       "      <th>검사판정</th>\n",
       "      <th>무부하매연측정치1</th>\n",
       "      <th>무부하매연판정1</th>\n",
       "      <th>무부하매연측정치2</th>\n",
       "      <th>무부하매연측정치3</th>\n",
       "    </tr>\n",
       "  </thead>\n",
       "  <tbody>\n",
       "    <tr>\n",
       "      <th>0</th>\n",
       "      <td>202306</td>\n",
       "      <td>KMCLK18KP8C035195</td>\n",
       "      <td>A0810005209353308</td>\n",
       "      <td>화물</td>\n",
       "      <td>개인용</td>\n",
       "      <td>2008</td>\n",
       "      <td>대형</td>\n",
       "      <td>경유</td>\n",
       "      <td>4824034000</td>\n",
       "      <td>경상남도</td>\n",
       "      <td>...</td>\n",
       "      <td>메가트럭군물자수송</td>\n",
       "      <td>현대자동차</td>\n",
       "      <td>4</td>\n",
       "      <td>NaN</td>\n",
       "      <td>NaN</td>\n",
       "      <td>NaN</td>\n",
       "      <td>NaN</td>\n",
       "      <td>NaN</td>\n",
       "      <td>NaN</td>\n",
       "      <td>NaN</td>\n",
       "    </tr>\n",
       "    <tr>\n",
       "      <th>1</th>\n",
       "      <td>202306</td>\n",
       "      <td>KMFLA18KP8C031274</td>\n",
       "      <td>B1R10005100003308</td>\n",
       "      <td>화물</td>\n",
       "      <td>개인용</td>\n",
       "      <td>2008</td>\n",
       "      <td>대형</td>\n",
       "      <td>경유</td>\n",
       "      <td>4482533000</td>\n",
       "      <td>충청남도</td>\n",
       "      <td>...</td>\n",
       "      <td>신정4㎥급진공노면총소차</td>\n",
       "      <td>신정개발특장차</td>\n",
       "      <td>4</td>\n",
       "      <td>부하검사(LUG DOWN)</td>\n",
       "      <td>종합검사</td>\n",
       "      <td>Y</td>\n",
       "      <td>7.00</td>\n",
       "      <td>Y</td>\n",
       "      <td>1.00</td>\n",
       "      <td>0.00</td>\n",
       "    </tr>\n",
       "    <tr>\n",
       "      <th>2</th>\n",
       "      <td>202306</td>\n",
       "      <td>KMCGK17HP9C112030</td>\n",
       "      <td>A0810005008143209</td>\n",
       "      <td>화물</td>\n",
       "      <td>개인용</td>\n",
       "      <td>2009</td>\n",
       "      <td>중형</td>\n",
       "      <td>경유</td>\n",
       "      <td>4518010400</td>\n",
       "      <td>전라북도</td>\n",
       "      <td>...</td>\n",
       "      <td>마이티군물자수송트럭</td>\n",
       "      <td>현대자동차</td>\n",
       "      <td>4</td>\n",
       "      <td>무부하검사(급가속)</td>\n",
       "      <td>정기(경과)검사</td>\n",
       "      <td>Y</td>\n",
       "      <td>5.00</td>\n",
       "      <td>Y</td>\n",
       "      <td>NaN</td>\n",
       "      <td>NaN</td>\n",
       "    </tr>\n",
       "    <tr>\n",
       "      <th>3</th>\n",
       "      <td>202306</td>\n",
       "      <td>KLACA26RD8B226753</td>\n",
       "      <td>A0710001100361207</td>\n",
       "      <td>승용</td>\n",
       "      <td>개인용</td>\n",
       "      <td>2008</td>\n",
       "      <td>중형</td>\n",
       "      <td>경유</td>\n",
       "      <td>2826011300</td>\n",
       "      <td>인천광역시</td>\n",
       "      <td>...</td>\n",
       "      <td>윈스톰2.0S디젤</td>\n",
       "      <td>한국지엠</td>\n",
       "      <td>4</td>\n",
       "      <td>NaN</td>\n",
       "      <td>NaN</td>\n",
       "      <td>NaN</td>\n",
       "      <td>NaN</td>\n",
       "      <td>NaN</td>\n",
       "      <td>NaN</td>\n",
       "      <td>NaN</td>\n",
       "    </tr>\n",
       "    <tr>\n",
       "      <th>4</th>\n",
       "      <td>202306</td>\n",
       "      <td>KNCSE01429K388374</td>\n",
       "      <td>A0110003115353108</td>\n",
       "      <td>화물</td>\n",
       "      <td>개인용</td>\n",
       "      <td>2009</td>\n",
       "      <td>소형</td>\n",
       "      <td>경유</td>\n",
       "      <td>2771026522</td>\n",
       "      <td>대구광역시</td>\n",
       "      <td>...</td>\n",
       "      <td>봉고Ⅲ 1톤</td>\n",
       "      <td>기아자동차</td>\n",
       "      <td>4</td>\n",
       "      <td>부하검사(KD-147)</td>\n",
       "      <td>2부재검사(종합)</td>\n",
       "      <td>Y</td>\n",
       "      <td>14.00</td>\n",
       "      <td>Y</td>\n",
       "      <td>NaN</td>\n",
       "      <td>NaN</td>\n",
       "    </tr>\n",
       "  </tbody>\n",
       "</table>\n",
       "<p>5 rows × 21 columns</p>\n",
       "</div>"
      ],
      "text/plain": [
       "     기준연월               차대번호             제원관리번호  차종   용도  차량연식 차종유형  연료   \n",
       "0  202306  KMCLK18KP8C035195  A0810005209353308  화물  개인용  2008   대형  경유  \\\n",
       "1  202306  KMFLA18KP8C031274  B1R10005100003308  화물  개인용  2008   대형  경유   \n",
       "2  202306  KMCGK17HP9C112030  A0810005008143209  화물  개인용  2009   중형  경유   \n",
       "3  202306  KLACA26RD8B226753  A0710001100361207  승용  개인용  2008   중형  경유   \n",
       "4  202306  KNCSE01429K388374  A0110003115353108  화물  개인용  2009   소형  경유   \n",
       "\n",
       "        법정동코드     시도  ...            차명     제작사명 배출가스등급            검사방법   \n",
       "0  4824034000   경상남도  ...     메가트럭군물자수송    현대자동차      4             NaN  \\\n",
       "1  4482533000   충청남도  ...  신정4㎥급진공노면총소차  신정개발특장차      4  부하검사(LUG DOWN)   \n",
       "2  4518010400   전라북도  ...    마이티군물자수송트럭    현대자동차      4      무부하검사(급가속)   \n",
       "3  2826011300  인천광역시  ...     윈스톰2.0S디젤     한국지엠      4             NaN   \n",
       "4  2771026522  대구광역시  ...        봉고Ⅲ 1톤    기아자동차      4    부하검사(KD-147)   \n",
       "\n",
       "        검사종류 검사판정 무부하매연측정치1  무부하매연판정1 무부하매연측정치2  무부하매연측정치3  \n",
       "0        NaN  NaN       NaN       NaN       NaN        NaN  \n",
       "1       종합검사    Y      7.00         Y      1.00       0.00  \n",
       "2   정기(경과)검사    Y      5.00         Y       NaN        NaN  \n",
       "3        NaN  NaN       NaN       NaN       NaN        NaN  \n",
       "4  2부재검사(종합)    Y     14.00         Y       NaN        NaN  \n",
       "\n",
       "[5 rows x 21 columns]"
      ]
     },
     "execution_count": 168,
     "metadata": {},
     "output_type": "execute_result"
    }
   ],
   "source": [
    "STD_BD_GRD4_CAR_CURSTT.head()"
   ]
  },
  {
   "cell_type": "code",
   "execution_count": 169,
   "metadata": {},
   "outputs": [],
   "source": [
    "ch_col_dict = {\n",
    "                '기준연월':'CRTR_YM',\n",
    "                '차대번호':'VIN', \n",
    "                '제원관리번호':'MANG_MNG_NO', \n",
    "                '차종':'VHCTY_CD', \n",
    "                '용도':'PURPS_CD2', \n",
    "                '차량연식':'YRIDNW', \n",
    "                '차종유형':'VHCTY_TY', \n",
    "                '연료':'FUEL_CD', \n",
    "                '법정동코드':'STDG_CD', \n",
    "                '시도':'CTPV_NM', \n",
    "                '시군구':'SGG_NM', \n",
    "                '차명':'VHCNM', \n",
    "                '제작사명':'MNFCTR_NM', \n",
    "                '배출가스등급':'EXHST_GAS_GRD_CD_MOD',\n",
    "                '검사방법':'INSP_MTHD', \n",
    "                '검사종류':'INSP_KND', \n",
    "                '검사판정':'INSP_JGMT', \n",
    "                '무부하매연측정치1':'NOLOD_SMO_MEVLU1', \n",
    "                '무부하매연판정1':'NOLOD_SMO_JGMT_YN1', \n",
    "                '무부하매연측정치2':'NOLOD_SMO_MEVLU2', \n",
    "                '무부하매연측정치3':'NOLOD_SMO_MEVLU3', \n",
    "\n",
    "                '제작일자':'FBCTN_YMD', \n",
    "                '차종분류':'VHCTY_CL_CD',\n",
    "                }"
   ]
  },
  {
   "cell_type": "code",
   "execution_count": 170,
   "metadata": {},
   "outputs": [
    {
     "data": {
      "text/plain": [
       "Index(['CRTR_YM', 'VIN', 'MANG_MNG_NO', 'VHCTY_CD', 'PURPS_CD2', 'YRIDNW',\n",
       "       'VHCTY_TY', 'FUEL_CD', 'STDG_CD', 'CTPV_NM', 'SGG_NM', 'VHCNM',\n",
       "       'MNFCTR_NM', 'EXHST_GAS_GRD_CD_MOD', 'INSP_MTHD', 'INSP_KND',\n",
       "       'INSP_JGMT', 'NOLOD_SMO_MEVLU1', 'NOLOD_SMO_JGMT_YN1',\n",
       "       'NOLOD_SMO_MEVLU2', 'NOLOD_SMO_MEVLU3'],\n",
       "      dtype='object')"
      ]
     },
     "execution_count": 170,
     "metadata": {},
     "output_type": "execute_result"
    }
   ],
   "source": [
    "STD_BD_GRD4_CAR_CURSTT = STD_BD_GRD4_CAR_CURSTT.rename(columns=ch_col_dict)\n",
    "STD_BD_GRD4_CAR_CURSTT.columns"
   ]
  },
  {
   "cell_type": "code",
   "execution_count": 171,
   "metadata": {},
   "outputs": [
    {
     "data": {
      "text/plain": [
       "(1515736, 21)"
      ]
     },
     "execution_count": 171,
     "metadata": {},
     "output_type": "execute_result"
    }
   ],
   "source": [
    "STD_BD_GRD4_CAR_CURSTT.shape"
   ]
  },
  {
   "attachments": {},
   "cell_type": "markdown",
   "metadata": {},
   "source": [
    "## [출력] STD_BD_GRD4_CAR_CURSTT"
   ]
  },
  {
   "cell_type": "code",
   "execution_count": null,
   "metadata": {},
   "outputs": [],
   "source": [
    "# expdf = STD_BD_GRD4_CAR_CURSTT\n",
    "# table_nm = 'STD_BD_GRD4_CAR_CURSTT'.upper()\n",
    "\n",
    "# # 테이블 생성\n",
    "# sql = 'create table ' + table_nm + '( \\n'\n",
    "\n",
    "# for idx,column in enumerate(expdf.columns):\n",
    "#     if 'float' in expdf[column].dtype.name:\n",
    "#         sql += column + ' float'\n",
    "#     elif 'int' in expdf[column].dtype.name:\n",
    "#         sql += column + ' number'\n",
    "#     else:\n",
    "#         sql += column + ' varchar(255)'\n",
    "\n",
    "#     if len(expdf.columns) - 1 != idx:\n",
    "#         sql += ','\n",
    "#     sql += '\\n'\n",
    "# sql += ')'    \n",
    "# wbt.execute(sql)\n",
    "\n",
    "# # 데이터 추가\n",
    "# # 9s\n",
    "# wbt.import_from_pandas(expdf, table_nm)"
   ]
  },
  {
   "cell_type": "code",
   "execution_count": null,
   "metadata": {},
   "outputs": [],
   "source": [
    "# # about 8.2s\n",
    "# # 4등급 차량 현황\n",
    "# STD_BD_GRD4_CAR_CURSTT.to_csv(os.path.join(df1_fold,  f'STD_BD_GRD4_CAR_CURSTT.csv'), index=False)"
   ]
  },
  {
   "attachments": {},
   "cell_type": "markdown",
   "metadata": {},
   "source": [
    "# STD_BD_GRD4_CAR_CURSTT_TOT"
   ]
  },
  {
   "cell_type": "code",
   "execution_count": 43,
   "metadata": {},
   "outputs": [],
   "source": [
    "df2 = df1.copy()"
   ]
  },
  {
   "attachments": {},
   "cell_type": "markdown",
   "metadata": {},
   "source": [
    "## 경유차만 추출"
   ]
  },
  {
   "cell_type": "code",
   "execution_count": 44,
   "metadata": {},
   "outputs": [],
   "source": [
    "df2 = df2[df2['연료'] == '경유'].reset_index(drop=True)"
   ]
  },
  {
   "attachments": {},
   "cell_type": "markdown",
   "metadata": {},
   "source": [
    "## 차대번호 10자리 연식"
   ]
  },
  {
   "cell_type": "code",
   "execution_count": 45,
   "metadata": {},
   "outputs": [],
   "source": [
    "df2['vin10'] = df2['차대번호'].str[9]"
   ]
  },
  {
   "cell_type": "code",
   "execution_count": 46,
   "metadata": {},
   "outputs": [],
   "source": [
    "vin10_dict = {'J':1988, 'K':1989, 'L':1990, 'M':1991, 'N':1992, 'P':1993, 'R':1994, 'S':1995, 'T':1996, 'V':1997, 'W':1998, 'X':1999, 'Y':2000, '1':2001, '2':2002, '3':2003, '4':2004, '5':2005, '6':2006, '7':2007, '8':2008, '9':2009, 'A':2010, 'B':2011, 'C':2012, 'D':2013, 'E':2014, 'F':2015, 'G':2016, 'H':2017}"
   ]
  },
  {
   "cell_type": "code",
   "execution_count": 47,
   "metadata": {},
   "outputs": [],
   "source": [
    "df2['vin10_year'] = df2['vin10'].map(vin10_dict, na_action='ignore')"
   ]
  },
  {
   "attachments": {},
   "cell_type": "markdown",
   "metadata": {},
   "source": [
    "## 배인번호_수정 문자 타입으로 변경"
   ]
  },
  {
   "cell_type": "code",
   "execution_count": 48,
   "metadata": {},
   "outputs": [],
   "source": [
    "df2['배출가스인증번호'] = df2['배출가스인증번호'].astype('str')"
   ]
  },
  {
   "attachments": {},
   "cell_type": "markdown",
   "metadata": {},
   "source": [
    "## 차대번호 17자리 샘플"
   ]
  },
  {
   "cell_type": "code",
   "execution_count": 49,
   "metadata": {},
   "outputs": [
    {
     "data": {
      "text/plain": [
       "((1156230, 30), (10, 30))"
      ]
     },
     "execution_count": 49,
     "metadata": {},
     "output_type": "execute_result"
    }
   ],
   "source": [
    "df2y = df2.loc[df2['차대번호'].str.len() == 17].reset_index(drop=True)\n",
    "df2n = df2.loc[df2['차대번호'].str.len() != 17].reset_index(drop=True)\n",
    "df2y.shape, df2n.shape"
   ]
  },
  {
   "attachments": {},
   "cell_type": "markdown",
   "metadata": {},
   "source": [
    "## 차대번호 연식과 연식 동일한 샘플"
   ]
  },
  {
   "cell_type": "code",
   "execution_count": 50,
   "metadata": {},
   "outputs": [
    {
     "data": {
      "text/plain": [
       "((1155671, 30), (559, 30))"
      ]
     },
     "execution_count": 50,
     "metadata": {},
     "output_type": "execute_result"
    }
   ],
   "source": [
    "df3y = df2y.loc[df2y['vin10_year'] == df2y['차량연식']].reset_index(drop=True)\n",
    "df3n = df2y.loc[df2y['vin10_year'] != df2y['차량연식']].reset_index(drop=True)\n",
    "df3y.shape, df3n.shape"
   ]
  },
  {
   "attachments": {},
   "cell_type": "markdown",
   "metadata": {},
   "source": [
    "# 배인번호별 분석"
   ]
  },
  {
   "cell_type": "code",
   "execution_count": 51,
   "metadata": {},
   "outputs": [],
   "source": [
    "def flat_cols(df):\n",
    "    df.columns = ['/'.join(x) for x in df.columns.to_flat_index()]\n",
    "    return df"
   ]
  },
  {
   "cell_type": "code",
   "execution_count": 52,
   "metadata": {},
   "outputs": [
    {
     "name": "stderr",
     "output_type": "stream",
     "text": [
      "  0%|          | 0/207 [00:00<?, ?it/s]"
     ]
    },
    {
     "name": "stderr",
     "output_type": "stream",
     "text": [
      "100%|██████████| 207/207 [00:16<00:00, 12.54it/s]\n"
     ]
    }
   ],
   "source": [
    "# about 31.3s\n",
    "# 최적화 24m 51s -> 30.0s\n",
    "total_g_df = pd.DataFrame()\n",
    "groupby_col1 = ['제작사명', '배출가스인증번호', '제원관리번호', '자동차형식', '엔진형식', '검사종류', '검사방법', '검사판정']\n",
    "groupby_col2 = ['제작사명', '배출가스인증번호', '제원관리번호', '자동차형식', '엔진형식', '검사종류', '검사방법']\n",
    "for one in tqdm(df3y['배출가스인증번호'].unique()):\n",
    "    # 배인번호별 df\n",
    "    gas_df = df3y.loc[df3y['배출가스인증번호'] == str(one)].reset_index(drop=True)\n",
    "\n",
    "    if gas_df.shape[0] != 0:\n",
    "        # 제번별, 차형식별, 엔진형식별, 검사판정별 무부하매연측정치1 통계\n",
    "        g = gas_df.groupby(groupby_col1).agg({'차대번호':'count', '무부하매연측정치1':['mean', 'min', 'max']}).pipe(flat_cols).round(2).reset_index()\n",
    "        g = g.rename(columns={'배출가스인증번호':'배출가스인증번호', '차대번호/count':'대수', '무부하매연측정치1/mean':'mean', '무부하매연측정치1/min':'min', '무부하매연측정치1/max':'max'})\n",
    "        # 하나의 배인번호에서 제번별 엔진형식별 비율 계산\n",
    "        g['합격률(%)'] = round(g['대수'] / g.groupby(groupby_col2)['대수'].transform('sum') * 100, 2)\n",
    "        # 종합 - 통계\n",
    "        total_g_df = pd.concat([total_g_df, g], ignore_index=True)\n",
    "    else:\n",
    "        print(f'오류 배인번호 : {one}')\n",
    "        pass"
   ]
  },
  {
   "cell_type": "code",
   "execution_count": 56,
   "metadata": {},
   "outputs": [
    {
     "data": {
      "text/html": [
       "<div>\n",
       "<style scoped>\n",
       "    .dataframe tbody tr th:only-of-type {\n",
       "        vertical-align: middle;\n",
       "    }\n",
       "\n",
       "    .dataframe tbody tr th {\n",
       "        vertical-align: top;\n",
       "    }\n",
       "\n",
       "    .dataframe thead th {\n",
       "        text-align: right;\n",
       "    }\n",
       "</style>\n",
       "<table border=\"1\" class=\"dataframe\">\n",
       "  <thead>\n",
       "    <tr style=\"text-align: right;\">\n",
       "      <th></th>\n",
       "      <th>제작사명</th>\n",
       "      <th>배출가스인증번호</th>\n",
       "      <th>제원관리번호</th>\n",
       "      <th>자동차형식</th>\n",
       "      <th>엔진형식</th>\n",
       "      <th>검사종류</th>\n",
       "      <th>검사방법</th>\n",
       "      <th>검사판정</th>\n",
       "      <th>대수</th>\n",
       "      <th>mean</th>\n",
       "      <th>min</th>\n",
       "      <th>max</th>\n",
       "      <th>합격률(%)</th>\n",
       "    </tr>\n",
       "  </thead>\n",
       "  <tbody>\n",
       "    <tr>\n",
       "      <th>0</th>\n",
       "      <td>SOFA차량</td>\n",
       "      <td>nan</td>\n",
       "      <td>9993411b020881218</td>\n",
       "      <td>CA26R-1</td>\n",
       "      <td>Z20S</td>\n",
       "      <td>정기검사</td>\n",
       "      <td>무부하검사(급가속)</td>\n",
       "      <td>Y</td>\n",
       "      <td>1</td>\n",
       "      <td>11.00</td>\n",
       "      <td>11.00</td>\n",
       "      <td>11.00</td>\n",
       "      <td>100.00</td>\n",
       "    </tr>\n",
       "    <tr>\n",
       "      <th>1</th>\n",
       "      <td>볼보자동차코리아</td>\n",
       "      <td>nan</td>\n",
       "      <td>00920001500141307</td>\n",
       "      <td>C71</td>\n",
       "      <td>D5244T</td>\n",
       "      <td>정기검사</td>\n",
       "      <td>무부하검사(급가속)</td>\n",
       "      <td>Y</td>\n",
       "      <td>1</td>\n",
       "      <td>0.00</td>\n",
       "      <td>0.00</td>\n",
       "      <td>0.00</td>\n",
       "      <td>100.00</td>\n",
       "    </tr>\n",
       "    <tr>\n",
       "      <th>2</th>\n",
       "      <td>에프씨에이코리아</td>\n",
       "      <td>nan</td>\n",
       "      <td>00220004500021306</td>\n",
       "      <td>WH</td>\n",
       "      <td>642980</td>\n",
       "      <td>정기검사</td>\n",
       "      <td>무부하검사(급가속)</td>\n",
       "      <td>Y</td>\n",
       "      <td>1</td>\n",
       "      <td>1.00</td>\n",
       "      <td>1.00</td>\n",
       "      <td>1.00</td>\n",
       "      <td>100.00</td>\n",
       "    </tr>\n",
       "    <tr>\n",
       "      <th>3</th>\n",
       "      <td>에프씨에이코리아</td>\n",
       "      <td>nan</td>\n",
       "      <td>00220005800001307</td>\n",
       "      <td>JK72</td>\n",
       "      <td>50C</td>\n",
       "      <td>정기검사</td>\n",
       "      <td>무부하검사(급가속)</td>\n",
       "      <td>Y</td>\n",
       "      <td>1</td>\n",
       "      <td>3.00</td>\n",
       "      <td>3.00</td>\n",
       "      <td>3.00</td>\n",
       "      <td>100.00</td>\n",
       "    </tr>\n",
       "    <tr>\n",
       "      <th>4</th>\n",
       "      <td>에프씨에이코리아</td>\n",
       "      <td>nan</td>\n",
       "      <td>00220005800011307</td>\n",
       "      <td>JK72</td>\n",
       "      <td>50C</td>\n",
       "      <td>정기검사</td>\n",
       "      <td>무부하검사(급가속)</td>\n",
       "      <td>Y</td>\n",
       "      <td>1</td>\n",
       "      <td>0.00</td>\n",
       "      <td>0.00</td>\n",
       "      <td>0.00</td>\n",
       "      <td>100.00</td>\n",
       "    </tr>\n",
       "  </tbody>\n",
       "</table>\n",
       "</div>"
      ],
      "text/plain": [
       "       제작사명 배출가스인증번호             제원관리번호    자동차형식    엔진형식  검사종류        검사방법   \n",
       "0    SOFA차량      nan  9993411b020881218  CA26R-1    Z20S  정기검사  무부하검사(급가속)  \\\n",
       "1  볼보자동차코리아      nan  00920001500141307      C71  D5244T  정기검사  무부하검사(급가속)   \n",
       "2  에프씨에이코리아      nan  00220004500021306       WH  642980  정기검사  무부하검사(급가속)   \n",
       "3  에프씨에이코리아      nan  00220005800001307     JK72     50C  정기검사  무부하검사(급가속)   \n",
       "4  에프씨에이코리아      nan  00220005800011307     JK72     50C  정기검사  무부하검사(급가속)   \n",
       "\n",
       "  검사판정  대수  mean   min   max  합격률(%)  \n",
       "0    Y   1 11.00 11.00 11.00  100.00  \n",
       "1    Y   1  0.00  0.00  0.00  100.00  \n",
       "2    Y   1  1.00  1.00  1.00  100.00  \n",
       "3    Y   1  3.00  3.00  3.00  100.00  \n",
       "4    Y   1  0.00  0.00  0.00  100.00  "
      ]
     },
     "execution_count": 56,
     "metadata": {},
     "output_type": "execute_result"
    }
   ],
   "source": [
    "total_g_df.head()"
   ]
  },
  {
   "attachments": {},
   "cell_type": "markdown",
   "metadata": {},
   "source": [
    "# 분석"
   ]
  },
  {
   "attachments": {},
   "cell_type": "markdown",
   "metadata": {},
   "source": [
    "## 열화계수(SI) 지수 계산\n",
    "- SI = 측정치 / 허용치"
   ]
  },
  {
   "cell_type": "code",
   "execution_count": 57,
   "metadata": {},
   "outputs": [
    {
     "data": {
      "text/plain": [
       "(1155671, 30)"
      ]
     },
     "execution_count": 57,
     "metadata": {},
     "output_type": "execute_result"
    }
   ],
   "source": [
    "df3y.shape"
   ]
  },
  {
   "cell_type": "code",
   "execution_count": 58,
   "metadata": {},
   "outputs": [
    {
     "data": {
      "text/plain": [
       "Index(['차대번호', '법정동코드', '배출가스등급', '배출가스인증번호', '차량말소YN', '제원관리번호', '차량연식', '차종',\n",
       "       '용도', '최초등록일자', '연료', '차종유형', '제작사명', '차명', '자동차형식', '엔진형식', '검사방법',\n",
       "       '검사종류', '검사판정', '무부하매연측정치1', '무부하매연측정치2', '무부하매연측정치3', '무부하매연판정1',\n",
       "       '검사일자', '주행거리', '무부하매연허용치1', '정기정밀', '기준연월', 'vin10', 'vin10_year'],\n",
       "      dtype='object')"
      ]
     },
     "execution_count": 58,
     "metadata": {},
     "output_type": "execute_result"
    }
   ],
   "source": [
    "df3y.columns"
   ]
  },
  {
   "cell_type": "code",
   "execution_count": 59,
   "metadata": {},
   "outputs": [
    {
     "data": {
      "text/plain": [
       "(1155671, 17)"
      ]
     },
     "execution_count": 59,
     "metadata": {},
     "output_type": "execute_result"
    }
   ],
   "source": [
    "sidf = df3y[[\n",
    "    '차대번호', \n",
    "    '제원관리번호', \n",
    "    '차종', \n",
    "    '차량연식', \n",
    "    '차명', \n",
    "    '차종유형', \n",
    "    '제작사명', \n",
    "    '연료', \n",
    "    '법정동코드', \n",
    "    '배출가스인증번호', \n",
    "    '검사방법', \n",
    "    '검사종류', \n",
    "    '검사판정', \n",
    "    '주행거리', \n",
    "    '무부하매연판정1', \n",
    "    '무부하매연허용치1', \n",
    "    '무부하매연측정치1'\n",
    "    ]]\n",
    "sidf.shape"
   ]
  },
  {
   "cell_type": "code",
   "execution_count": 60,
   "metadata": {},
   "outputs": [
    {
     "data": {
      "text/plain": [
       "2023"
      ]
     },
     "execution_count": 60,
     "metadata": {},
     "output_type": "execute_result"
    }
   ],
   "source": [
    "current_yr = int(datetime.today().strftime(\"%Y\"))\n",
    "current_yr"
   ]
  },
  {
   "cell_type": "code",
   "execution_count": 61,
   "metadata": {},
   "outputs": [
    {
     "name": "stderr",
     "output_type": "stream",
     "text": [
      "C:\\Users\\kbjung\\AppData\\Local\\Temp\\ipykernel_11712\\2774727232.py:1: SettingWithCopyWarning: \n",
      "A value is trying to be set on a copy of a slice from a DataFrame.\n",
      "Try using .loc[row_indexer,col_indexer] = value instead\n",
      "\n",
      "See the caveats in the documentation: https://pandas.pydata.org/pandas-docs/stable/user_guide/indexing.html#returning-a-view-versus-a-copy\n",
      "  sidf['차령'] = 2023 - sidf['차량연식']\n",
      "C:\\Users\\kbjung\\AppData\\Local\\Temp\\ipykernel_11712\\2774727232.py:2: SettingWithCopyWarning: \n",
      "A value is trying to be set on a copy of a slice from a DataFrame.\n",
      "Try using .loc[row_indexer,col_indexer] = value instead\n",
      "\n",
      "See the caveats in the documentation: https://pandas.pydata.org/pandas-docs/stable/user_guide/indexing.html#returning-a-view-versus-a-copy\n",
      "  sidf['SI'] = sidf['무부하매연측정치1'] / sidf['무부하매연허용치1']\n"
     ]
    }
   ],
   "source": [
    "sidf['차령'] = 2023 - sidf['차량연식']\n",
    "sidf['SI'] = sidf['무부하매연측정치1'] / sidf['무부하매연허용치1']"
   ]
  },
  {
   "cell_type": "code",
   "execution_count": 62,
   "metadata": {},
   "outputs": [
    {
     "data": {
      "text/plain": [
       "차령          0\n",
       "SI    1154248\n",
       "dtype: int64"
      ]
     },
     "execution_count": 62,
     "metadata": {},
     "output_type": "execute_result"
    }
   ],
   "source": [
    "sidf[['차령', 'SI']].isnull().sum()"
   ]
  },
  {
   "cell_type": "code",
   "execution_count": 63,
   "metadata": {},
   "outputs": [
    {
     "data": {
      "text/plain": [
       "무부하매연측정치1    1153502\n",
       "무부하매연허용치1    1153587\n",
       "dtype: int64"
      ]
     },
     "execution_count": 63,
     "metadata": {},
     "output_type": "execute_result"
    }
   ],
   "source": [
    "sidf[['무부하매연측정치1', '무부하매연허용치1']].isnull().sum()"
   ]
  },
  {
   "cell_type": "code",
   "execution_count": 66,
   "metadata": {},
   "outputs": [
    {
     "data": {
      "text/html": [
       "<div>\n",
       "<style scoped>\n",
       "    .dataframe tbody tr th:only-of-type {\n",
       "        vertical-align: middle;\n",
       "    }\n",
       "\n",
       "    .dataframe tbody tr th {\n",
       "        vertical-align: top;\n",
       "    }\n",
       "\n",
       "    .dataframe thead th {\n",
       "        text-align: right;\n",
       "    }\n",
       "</style>\n",
       "<table border=\"1\" class=\"dataframe\">\n",
       "  <thead>\n",
       "    <tr style=\"text-align: right;\">\n",
       "      <th></th>\n",
       "      <th>차대번호</th>\n",
       "      <th>제원관리번호</th>\n",
       "      <th>차종</th>\n",
       "      <th>차량연식</th>\n",
       "      <th>차명</th>\n",
       "      <th>차종유형</th>\n",
       "      <th>제작사명</th>\n",
       "      <th>연료</th>\n",
       "      <th>법정동코드</th>\n",
       "      <th>배출가스인증번호</th>\n",
       "      <th>검사방법</th>\n",
       "      <th>검사종류</th>\n",
       "      <th>검사판정</th>\n",
       "      <th>주행거리</th>\n",
       "      <th>무부하매연판정1</th>\n",
       "      <th>무부하매연허용치1</th>\n",
       "      <th>무부하매연측정치1</th>\n",
       "      <th>차령</th>\n",
       "      <th>SI</th>\n",
       "    </tr>\n",
       "  </thead>\n",
       "  <tbody>\n",
       "    <tr>\n",
       "      <th>0</th>\n",
       "      <td>KMCLK18KP8C035195</td>\n",
       "      <td>A0810005209353308</td>\n",
       "      <td>화물</td>\n",
       "      <td>2008</td>\n",
       "      <td>메가트럭군물자수송</td>\n",
       "      <td>대형</td>\n",
       "      <td>현대자동차</td>\n",
       "      <td>경유</td>\n",
       "      <td>4824034000</td>\n",
       "      <td>nan</td>\n",
       "      <td>NaN</td>\n",
       "      <td>NaN</td>\n",
       "      <td>NaN</td>\n",
       "      <td>NaN</td>\n",
       "      <td>NaN</td>\n",
       "      <td>NaN</td>\n",
       "      <td>NaN</td>\n",
       "      <td>15</td>\n",
       "      <td>NaN</td>\n",
       "    </tr>\n",
       "    <tr>\n",
       "      <th>1</th>\n",
       "      <td>KMFLA18KP8C031274</td>\n",
       "      <td>B1R10005100003308</td>\n",
       "      <td>화물</td>\n",
       "      <td>2008</td>\n",
       "      <td>신정4㎥급진공노면총소차</td>\n",
       "      <td>대형</td>\n",
       "      <td>신정개발특장차</td>\n",
       "      <td>경유</td>\n",
       "      <td>4482533000</td>\n",
       "      <td>nan</td>\n",
       "      <td>NaN</td>\n",
       "      <td>NaN</td>\n",
       "      <td>NaN</td>\n",
       "      <td>NaN</td>\n",
       "      <td>NaN</td>\n",
       "      <td>NaN</td>\n",
       "      <td>NaN</td>\n",
       "      <td>15</td>\n",
       "      <td>NaN</td>\n",
       "    </tr>\n",
       "    <tr>\n",
       "      <th>2</th>\n",
       "      <td>KMCGK17HP9C112030</td>\n",
       "      <td>A0810005008143209</td>\n",
       "      <td>화물</td>\n",
       "      <td>2009</td>\n",
       "      <td>마이티군물자수송트럭</td>\n",
       "      <td>중형</td>\n",
       "      <td>현대자동차</td>\n",
       "      <td>경유</td>\n",
       "      <td>4518010400</td>\n",
       "      <td>7MY-HD-24-28</td>\n",
       "      <td>NaN</td>\n",
       "      <td>NaN</td>\n",
       "      <td>NaN</td>\n",
       "      <td>NaN</td>\n",
       "      <td>NaN</td>\n",
       "      <td>NaN</td>\n",
       "      <td>NaN</td>\n",
       "      <td>14</td>\n",
       "      <td>NaN</td>\n",
       "    </tr>\n",
       "    <tr>\n",
       "      <th>3</th>\n",
       "      <td>KLACA26RD8B226753</td>\n",
       "      <td>A0710001100361207</td>\n",
       "      <td>승용</td>\n",
       "      <td>2008</td>\n",
       "      <td>윈스톰2.0S디젤</td>\n",
       "      <td>중형</td>\n",
       "      <td>한국지엠</td>\n",
       "      <td>경유</td>\n",
       "      <td>2826011300</td>\n",
       "      <td>nan</td>\n",
       "      <td>NaN</td>\n",
       "      <td>NaN</td>\n",
       "      <td>NaN</td>\n",
       "      <td>NaN</td>\n",
       "      <td>NaN</td>\n",
       "      <td>NaN</td>\n",
       "      <td>NaN</td>\n",
       "      <td>15</td>\n",
       "      <td>NaN</td>\n",
       "    </tr>\n",
       "    <tr>\n",
       "      <th>4</th>\n",
       "      <td>KNCSE01429K388374</td>\n",
       "      <td>A0110003115353108</td>\n",
       "      <td>화물</td>\n",
       "      <td>2009</td>\n",
       "      <td>봉고Ⅲ 1톤</td>\n",
       "      <td>소형</td>\n",
       "      <td>기아자동차</td>\n",
       "      <td>경유</td>\n",
       "      <td>2771026522</td>\n",
       "      <td>7MY-KM-14-65</td>\n",
       "      <td>NaN</td>\n",
       "      <td>NaN</td>\n",
       "      <td>NaN</td>\n",
       "      <td>NaN</td>\n",
       "      <td>NaN</td>\n",
       "      <td>NaN</td>\n",
       "      <td>NaN</td>\n",
       "      <td>14</td>\n",
       "      <td>NaN</td>\n",
       "    </tr>\n",
       "  </tbody>\n",
       "</table>\n",
       "</div>"
      ],
      "text/plain": [
       "                차대번호             제원관리번호  차종  차량연식            차명 차종유형     제작사명   \n",
       "0  KMCLK18KP8C035195  A0810005209353308  화물  2008     메가트럭군물자수송   대형    현대자동차  \\\n",
       "1  KMFLA18KP8C031274  B1R10005100003308  화물  2008  신정4㎥급진공노면총소차   대형  신정개발특장차   \n",
       "2  KMCGK17HP9C112030  A0810005008143209  화물  2009    마이티군물자수송트럭   중형    현대자동차   \n",
       "3  KLACA26RD8B226753  A0710001100361207  승용  2008     윈스톰2.0S디젤   중형     한국지엠   \n",
       "4  KNCSE01429K388374  A0110003115353108  화물  2009        봉고Ⅲ 1톤   소형    기아자동차   \n",
       "\n",
       "   연료       법정동코드      배출가스인증번호 검사방법 검사종류 검사판정  주행거리 무부하매연판정1  무부하매연허용치1   \n",
       "0  경유  4824034000           nan  NaN  NaN  NaN   NaN      NaN        NaN  \\\n",
       "1  경유  4482533000           nan  NaN  NaN  NaN   NaN      NaN        NaN   \n",
       "2  경유  4518010400  7MY-HD-24-28  NaN  NaN  NaN   NaN      NaN        NaN   \n",
       "3  경유  2826011300           nan  NaN  NaN  NaN   NaN      NaN        NaN   \n",
       "4  경유  2771026522  7MY-KM-14-65  NaN  NaN  NaN   NaN      NaN        NaN   \n",
       "\n",
       "   무부하매연측정치1  차령  SI  \n",
       "0        NaN  15 NaN  \n",
       "1        NaN  15 NaN  \n",
       "2        NaN  14 NaN  \n",
       "3        NaN  15 NaN  \n",
       "4        NaN  14 NaN  "
      ]
     },
     "execution_count": 66,
     "metadata": {},
     "output_type": "execute_result"
    }
   ],
   "source": [
    "sidf.head()"
   ]
  },
  {
   "attachments": {},
   "cell_type": "markdown",
   "metadata": {},
   "source": [
    "### 경유만 추출"
   ]
  },
  {
   "cell_type": "code",
   "execution_count": 67,
   "metadata": {},
   "outputs": [],
   "source": [
    "sidf1 = sidf[sidf['연료'] == '경유'].reset_index(drop=True)"
   ]
  },
  {
   "cell_type": "code",
   "execution_count": 68,
   "metadata": {},
   "outputs": [],
   "source": [
    "sidf1 = sidf1[[\n",
    "    '차대번호', \n",
    "    '제원관리번호', \n",
    "    '차명', \n",
    "    '제작사명', \n",
    "    '배출가스인증번호', \n",
    "    '검사방법',\n",
    "    '주행거리', \n",
    "    '차령',\n",
    "    'SI', \n",
    "    ]]"
   ]
  },
  {
   "cell_type": "code",
   "execution_count": 69,
   "metadata": {},
   "outputs": [],
   "source": [
    "chc_dict = {\n",
    "    '차대번호':'VIN', \n",
    "    '제원관리번호':'MANG_MNG_NO', \n",
    "    '차종':'VHCTY_CD', \n",
    "    '연식':'YRIDNW', \n",
    "    '차명':'VHCNM',\n",
    "    '제작사명':'MNFCTR_NM', \n",
    "    '차종유형':'VHCTY_TY', \n",
    "    '연료':'FUEL_CD',\n",
    "    '법정동코드':'STDG_CD', \n",
    "    '배출가스인증번호':'EXHST_GAS_CERT_NO_MOD', \n",
    "    '검사방법':'INSP_MTHD', \n",
    "    '검사종류':'INSP_KND', \n",
    "    '검사판정':'INSP_JGMT', \n",
    "    '주행거리':'DRVNG_DSTNC',\n",
    "    '무부하매연판정1':'NOLOD_SMO_JGMT_YN1',\n",
    "    '무부하매연허용치1':'NOLOD_SMO_PRMT_VAL1',\n",
    "    '무부하매연측정치1':'NOLOD_SMO_MEVLU1', \n",
    "    '차령':'VHCAG',\n",
    "    }"
   ]
  },
  {
   "cell_type": "code",
   "execution_count": 70,
   "metadata": {},
   "outputs": [
    {
     "data": {
      "text/plain": [
       "Index(['VIN', 'MANG_MNG_NO', 'VHCNM', 'MNFCTR_NM', 'EXHST_GAS_CERT_NO_MOD',\n",
       "       'INSP_MTHD', 'DRVNG_DSTNC', 'VHCAG', 'SI'],\n",
       "      dtype='object')"
      ]
     },
     "execution_count": 70,
     "metadata": {},
     "output_type": "execute_result"
    }
   ],
   "source": [
    "STD_BD_GRD4_SI = sidf1.rename(columns=chc_dict)\n",
    "STD_BD_GRD4_SI.columns"
   ]
  },
  {
   "cell_type": "code",
   "execution_count": 71,
   "metadata": {},
   "outputs": [
    {
     "data": {
      "text/html": [
       "<div>\n",
       "<style scoped>\n",
       "    .dataframe tbody tr th:only-of-type {\n",
       "        vertical-align: middle;\n",
       "    }\n",
       "\n",
       "    .dataframe tbody tr th {\n",
       "        vertical-align: top;\n",
       "    }\n",
       "\n",
       "    .dataframe thead th {\n",
       "        text-align: right;\n",
       "    }\n",
       "</style>\n",
       "<table border=\"1\" class=\"dataframe\">\n",
       "  <thead>\n",
       "    <tr style=\"text-align: right;\">\n",
       "      <th></th>\n",
       "      <th>VIN</th>\n",
       "      <th>MANG_MNG_NO</th>\n",
       "      <th>VHCNM</th>\n",
       "      <th>MNFCTR_NM</th>\n",
       "      <th>EXHST_GAS_CERT_NO_MOD</th>\n",
       "      <th>INSP_MTHD</th>\n",
       "      <th>DRVNG_DSTNC</th>\n",
       "      <th>VHCAG</th>\n",
       "      <th>SI</th>\n",
       "    </tr>\n",
       "  </thead>\n",
       "  <tbody>\n",
       "    <tr>\n",
       "      <th>0</th>\n",
       "      <td>KMCLK18KP8C035195</td>\n",
       "      <td>A0810005209353308</td>\n",
       "      <td>메가트럭군물자수송</td>\n",
       "      <td>현대자동차</td>\n",
       "      <td>nan</td>\n",
       "      <td>NaN</td>\n",
       "      <td>NaN</td>\n",
       "      <td>15</td>\n",
       "      <td>NaN</td>\n",
       "    </tr>\n",
       "    <tr>\n",
       "      <th>1</th>\n",
       "      <td>KMFLA18KP8C031274</td>\n",
       "      <td>B1R10005100003308</td>\n",
       "      <td>신정4㎥급진공노면총소차</td>\n",
       "      <td>신정개발특장차</td>\n",
       "      <td>nan</td>\n",
       "      <td>NaN</td>\n",
       "      <td>NaN</td>\n",
       "      <td>15</td>\n",
       "      <td>NaN</td>\n",
       "    </tr>\n",
       "    <tr>\n",
       "      <th>2</th>\n",
       "      <td>KMCGK17HP9C112030</td>\n",
       "      <td>A0810005008143209</td>\n",
       "      <td>마이티군물자수송트럭</td>\n",
       "      <td>현대자동차</td>\n",
       "      <td>7MY-HD-24-28</td>\n",
       "      <td>NaN</td>\n",
       "      <td>NaN</td>\n",
       "      <td>14</td>\n",
       "      <td>NaN</td>\n",
       "    </tr>\n",
       "    <tr>\n",
       "      <th>3</th>\n",
       "      <td>KLACA26RD8B226753</td>\n",
       "      <td>A0710001100361207</td>\n",
       "      <td>윈스톰2.0S디젤</td>\n",
       "      <td>한국지엠</td>\n",
       "      <td>nan</td>\n",
       "      <td>NaN</td>\n",
       "      <td>NaN</td>\n",
       "      <td>15</td>\n",
       "      <td>NaN</td>\n",
       "    </tr>\n",
       "    <tr>\n",
       "      <th>4</th>\n",
       "      <td>KNCSE01429K388374</td>\n",
       "      <td>A0110003115353108</td>\n",
       "      <td>봉고Ⅲ 1톤</td>\n",
       "      <td>기아자동차</td>\n",
       "      <td>7MY-KM-14-65</td>\n",
       "      <td>NaN</td>\n",
       "      <td>NaN</td>\n",
       "      <td>14</td>\n",
       "      <td>NaN</td>\n",
       "    </tr>\n",
       "  </tbody>\n",
       "</table>\n",
       "</div>"
      ],
      "text/plain": [
       "                 VIN        MANG_MNG_NO         VHCNM MNFCTR_NM   \n",
       "0  KMCLK18KP8C035195  A0810005209353308     메가트럭군물자수송     현대자동차  \\\n",
       "1  KMFLA18KP8C031274  B1R10005100003308  신정4㎥급진공노면총소차   신정개발특장차   \n",
       "2  KMCGK17HP9C112030  A0810005008143209    마이티군물자수송트럭     현대자동차   \n",
       "3  KLACA26RD8B226753  A0710001100361207     윈스톰2.0S디젤      한국지엠   \n",
       "4  KNCSE01429K388374  A0110003115353108        봉고Ⅲ 1톤     기아자동차   \n",
       "\n",
       "  EXHST_GAS_CERT_NO_MOD INSP_MTHD  DRVNG_DSTNC  VHCAG  SI  \n",
       "0                   nan       NaN          NaN     15 NaN  \n",
       "1                   nan       NaN          NaN     15 NaN  \n",
       "2          7MY-HD-24-28       NaN          NaN     14 NaN  \n",
       "3                   nan       NaN          NaN     15 NaN  \n",
       "4          7MY-KM-14-65       NaN          NaN     14 NaN  "
      ]
     },
     "execution_count": 71,
     "metadata": {},
     "output_type": "execute_result"
    }
   ],
   "source": [
    "STD_BD_GRD4_SI.head()"
   ]
  },
  {
   "cell_type": "code",
   "execution_count": 79,
   "metadata": {},
   "outputs": [
    {
     "data": {
      "text/plain": [
       "(1155671, 9)"
      ]
     },
     "execution_count": 79,
     "metadata": {},
     "output_type": "execute_result"
    }
   ],
   "source": [
    "STD_BD_GRD4_SI.shape"
   ]
  },
  {
   "attachments": {},
   "cell_type": "markdown",
   "metadata": {},
   "source": [
    "### [출력] SI 지수 정보(STD_BD_GRD4_SI)"
   ]
  },
  {
   "cell_type": "code",
   "execution_count": null,
   "metadata": {},
   "outputs": [],
   "source": [
    "# expdf = STD_BD_GRD4_SI\n",
    "# table_nm = 'STD_BD_GRD4_SI'.upper()\n",
    "\n",
    "# # 테이블 생성\n",
    "# sql = 'create table ' + table_nm + '( \\n'\n",
    "\n",
    "# for idx,column in enumerate(expdf.columns):\n",
    "#     if 'float' in expdf[column].dtype.name:\n",
    "#         sql += column + ' float'\n",
    "#     elif 'int' in expdf[column].dtype.name:\n",
    "#         sql += column + ' number'\n",
    "#     else:\n",
    "#         sql += column + ' varchar(255)'\n",
    "\n",
    "#     if len(expdf.columns) - 1 != idx:\n",
    "#         sql += ','\n",
    "#     sql += '\\n'\n",
    "# sql += ')'    \n",
    "# wbt.execute(sql)\n",
    "\n",
    "# # 데이터 추가\n",
    "# # 6s\n",
    "# wbt.import_from_pandas(expdf, table_nm)"
   ]
  },
  {
   "cell_type": "code",
   "execution_count": 86,
   "metadata": {},
   "outputs": [],
   "source": [
    "# # about 9.0s\n",
    "# # STD_BD_GRD4_SI\n",
    "# # 4등급_경유차_SI지수\n",
    "# STD_BD_GRD4_SI.to_csv(os.path.join(df1_fold, 'STD_BD_GRD4_SI.csv'), index=False)"
   ]
  },
  {
   "attachments": {},
   "cell_type": "markdown",
   "metadata": {},
   "source": [
    "## 동일 배번에서 제번별 매연 boxplot"
   ]
  },
  {
   "cell_type": "code",
   "execution_count": 80,
   "metadata": {},
   "outputs": [
    {
     "data": {
      "text/plain": [
       "(734, 13)"
      ]
     },
     "execution_count": 80,
     "metadata": {},
     "output_type": "execute_result"
    }
   ],
   "source": [
    "total_g_df1 = total_g_df.loc[(total_g_df['배출가스인증번호'] != '확인불가') | (total_g_df['배출가스인증번호'] != 'nan')]\n",
    "total_g_df1.shape"
   ]
  },
  {
   "cell_type": "code",
   "execution_count": 84,
   "metadata": {},
   "outputs": [
    {
     "data": {
      "text/plain": [
       "(734, 13)"
      ]
     },
     "execution_count": 84,
     "metadata": {},
     "output_type": "execute_result"
    }
   ],
   "source": [
    "sample01 = total_g_df1.loc[total_g_df1['대수'] > 100].reset_index(drop=True)\n",
    "sample01.shape"
   ]
  },
  {
   "attachments": {},
   "cell_type": "markdown",
   "metadata": {},
   "source": [
    "### quantile"
   ]
  },
  {
   "cell_type": "code",
   "execution_count": 85,
   "metadata": {},
   "outputs": [],
   "source": [
    "# 4m 11.2s\n",
    "boxplot_df = pd.DataFrame()\n",
    "quantile_df = pd.DataFrame()\n",
    "for one in sample01['배출가스인증번호'].unique(): # 통계에서 100대 초과인 배인번호만 추출\n",
    "    temp_one = df3y.loc[(df3y['배출가스인증번호'] == one) & (df3y['검사판정'] == 'Y')].reset_index(drop=True) # 해당 배인번호 중 검사판정이 'Y'인 샘플만 추출\n",
    "    if temp_one.shape[0] > 100: # 100대 초과면 진행\n",
    "        for two in temp_one['검사종류'].unique(): # 검사종류별 샘플 추출\n",
    "            temp_two = temp_one.loc[temp_one['검사종류'] == two].reset_index(drop=True)\n",
    "            if temp_two.shape[0] > 100:\n",
    "                for three in temp_two['검사방법'].unique(): # 검사방법별 샘플 추출\n",
    "                    temp_three = temp_two.loc[temp_two['검사방법'] == three].reset_index(drop=True)\n",
    "                    boxplot_df = pd.concat([boxplot_df, temp_three], ignore_index=True) # 해당 샘플만 추출하여 쌓기\n",
    "                    if temp_three.shape[0] > 100:\n",
    "                        xticks_list= []\n",
    "                        data_list = []\n",
    "                        for four in temp_three['제원관리번호'].unique():\n",
    "                            temp_four = temp_three.loc[temp_three['제원관리번호'] == four].reset_index(drop=True).dropna(subset=['무부하매연측정치1'])\n",
    "                            if temp_four.shape[0] > 100:\n",
    "                                xticks_list.append(four)\n",
    "                                data_list.append(temp_four['무부하매연측정치1'])\n",
    "                                temp_four['q1'] = temp_four['무부하매연측정치1'].describe()['25%']\n",
    "                                temp_four['q2'] = temp_four['무부하매연측정치1'].describe()['50%']\n",
    "                                temp_four['q3'] = temp_four['무부하매연측정치1'].describe()['75%']\n",
    "                                quantile_df = pd.concat([quantile_df, temp_four], ignore_index=True) # 제번별 4분위 값 df형태로 저장"
   ]
  },
  {
   "cell_type": "code",
   "execution_count": 88,
   "metadata": {},
   "outputs": [
    {
     "data": {
      "text/plain": [
       "(2096, 33)"
      ]
     },
     "execution_count": 88,
     "metadata": {},
     "output_type": "execute_result"
    }
   ],
   "source": [
    "quantile_df.shape"
   ]
  },
  {
   "cell_type": "code",
   "execution_count": 89,
   "metadata": {},
   "outputs": [
    {
     "data": {
      "text/plain": [
       "Index(['차대번호', '법정동코드', '배출가스등급', '배출가스인증번호', '차량말소YN', '제원관리번호', '차량연식', '차종',\n",
       "       '용도', '최초등록일자', '연료', '차종유형', '제작사명', '차명', '자동차형식', '엔진형식', '검사방법',\n",
       "       '검사종류', '검사판정', '무부하매연측정치1', '무부하매연측정치2', '무부하매연측정치3', '무부하매연판정1',\n",
       "       '검사일자', '주행거리', '무부하매연허용치1', '정기정밀', '기준연월', 'vin10', 'vin10_year',\n",
       "       'q1', 'q2', 'q3'],\n",
       "      dtype='object')"
      ]
     },
     "execution_count": 89,
     "metadata": {},
     "output_type": "execute_result"
    }
   ],
   "source": [
    "quantile_df.columns"
   ]
  },
  {
   "cell_type": "code",
   "execution_count": 90,
   "metadata": {},
   "outputs": [
    {
     "data": {
      "text/plain": [
       "(672, 33)"
      ]
     },
     "execution_count": 90,
     "metadata": {},
     "output_type": "execute_result"
    }
   ],
   "source": [
    "quantile_df1 = quantile_df.drop_duplicates(['배출가스인증번호', '제원관리번호', '검사방법', '검사종류'])\n",
    "quantile_df1.shape"
   ]
  },
  {
   "cell_type": "code",
   "execution_count": 91,
   "metadata": {},
   "outputs": [
    {
     "data": {
      "text/plain": [
       "(672, 8)"
      ]
     },
     "execution_count": 91,
     "metadata": {},
     "output_type": "execute_result"
    }
   ],
   "source": [
    "quantile_df2 = quantile_df1[[\n",
    "    '차명',\n",
    "    '제작사명', \n",
    "    '제원관리번호', \n",
    "    '배출가스인증번호', \n",
    "    '검사방법', \n",
    "    'q1', \n",
    "    'q2', \n",
    "    'q3'\n",
    "    ]]\n",
    "quantile_df2.shape"
   ]
  },
  {
   "cell_type": "code",
   "execution_count": 92,
   "metadata": {},
   "outputs": [],
   "source": [
    "chc_dict = {\n",
    "                '차대번호':'VIN', \n",
    "                '제원관리번호':'MANG_MNG_NO', \n",
    "                '차명':'VHCNM',\n",
    "                '제작사명':'MNFCTR_NM', \n",
    "                '차종':'VHCTY_CD', \n",
    "                '용도':'PURPS_CD2', \n",
    "                '차종유형':'CHCTY_TY', \n",
    "                '법정동코드':'STDG_CD', \n",
    "                '배출가스인증번호':'EXHST_GAS_CERT_NO_MOD', \n",
    "                '검사방법':'INSP_MTHD', \n",
    "                '검사종류':'INSP_KND', \n",
    "                '검사판정':'INSP_JGMT', \n",
    "                '무부하매연측정치1':'NOLOD_SMO_MEVLU1', \n",
    "                '무부하매연판정1':'NOLOD_SMO_JGMT_YN1',\n",
    "                'q1':'LOWR_QRT',\n",
    "                'q2':'MID_QRT',\n",
    "                'q3':'UP_QRT',\n",
    "                }\n",
    "# '등급_수정':'EXHST_GAS_GRD_CD_MOD', \n",
    "# 'DPF유무_수정':'DPF_MNTNG_YN', \n",
    "# '시도명':'CTPV_NM', \n",
    "# '시군구명':'SGG_NM', \n",
    "# '차종분류':'VHCTY_CL_CD', "
   ]
  },
  {
   "cell_type": "code",
   "execution_count": 93,
   "metadata": {},
   "outputs": [
    {
     "data": {
      "text/plain": [
       "Index(['VHCNM', 'MNFCTR_NM', 'MANG_MNG_NO', 'EXHST_GAS_CERT_NO_MOD',\n",
       "       'INSP_MTHD', 'LOWR_QRT', 'MID_QRT', 'UP_QRT'],\n",
       "      dtype='object')"
      ]
     },
     "execution_count": 93,
     "metadata": {},
     "output_type": "execute_result"
    }
   ],
   "source": [
    "STD_BD_GRD4_CAR_CURSTT_TOT = quantile_df2.rename(columns=chc_dict)\n",
    "STD_BD_GRD4_CAR_CURSTT_TOT.columns"
   ]
  },
  {
   "cell_type": "code",
   "execution_count": 94,
   "metadata": {},
   "outputs": [
    {
     "data": {
      "text/plain": [
       "(672, 8)"
      ]
     },
     "execution_count": 94,
     "metadata": {},
     "output_type": "execute_result"
    }
   ],
   "source": [
    "STD_BD_GRD4_CAR_CURSTT_TOT.shape"
   ]
  },
  {
   "cell_type": "code",
   "execution_count": 95,
   "metadata": {},
   "outputs": [
    {
     "data": {
      "text/html": [
       "<div>\n",
       "<style scoped>\n",
       "    .dataframe tbody tr th:only-of-type {\n",
       "        vertical-align: middle;\n",
       "    }\n",
       "\n",
       "    .dataframe tbody tr th {\n",
       "        vertical-align: top;\n",
       "    }\n",
       "\n",
       "    .dataframe thead th {\n",
       "        text-align: right;\n",
       "    }\n",
       "</style>\n",
       "<table border=\"1\" class=\"dataframe\">\n",
       "  <thead>\n",
       "    <tr style=\"text-align: right;\">\n",
       "      <th></th>\n",
       "      <th>VHCNM</th>\n",
       "      <th>MNFCTR_NM</th>\n",
       "      <th>MANG_MNG_NO</th>\n",
       "      <th>EXHST_GAS_CERT_NO_MOD</th>\n",
       "      <th>INSP_MTHD</th>\n",
       "      <th>LOWR_QRT</th>\n",
       "      <th>MID_QRT</th>\n",
       "      <th>UP_QRT</th>\n",
       "    </tr>\n",
       "  </thead>\n",
       "  <tbody>\n",
       "    <tr>\n",
       "      <th>0</th>\n",
       "      <td>윈스톰2.0S디젤</td>\n",
       "      <td>SOFA차량</td>\n",
       "      <td>9993411b020881218</td>\n",
       "      <td>nan</td>\n",
       "      <td>무부하검사(급가속)</td>\n",
       "      <td>11.00</td>\n",
       "      <td>11.00</td>\n",
       "      <td>11.00</td>\n",
       "    </tr>\n",
       "    <tr>\n",
       "      <th>1</th>\n",
       "      <td>이베코6X2트랙터</td>\n",
       "      <td>한국상용차</td>\n",
       "      <td>01220001200064308</td>\n",
       "      <td>nan</td>\n",
       "      <td>무부하검사(급가속)</td>\n",
       "      <td>0.00</td>\n",
       "      <td>0.00</td>\n",
       "      <td>0.00</td>\n",
       "    </tr>\n",
       "    <tr>\n",
       "      <th>2</th>\n",
       "      <td>짚 그랜드 체로키</td>\n",
       "      <td>에프씨에이코리아</td>\n",
       "      <td>00220004500021306</td>\n",
       "      <td>nan</td>\n",
       "      <td>무부하검사(급가속)</td>\n",
       "      <td>1.00</td>\n",
       "      <td>1.00</td>\n",
       "      <td>1.00</td>\n",
       "    </tr>\n",
       "    <tr>\n",
       "      <th>3</th>\n",
       "      <td>짚 랭글러</td>\n",
       "      <td>에프씨에이코리아</td>\n",
       "      <td>00220005800011307</td>\n",
       "      <td>nan</td>\n",
       "      <td>무부하검사(급가속)</td>\n",
       "      <td>0.00</td>\n",
       "      <td>0.00</td>\n",
       "      <td>0.00</td>\n",
       "    </tr>\n",
       "    <tr>\n",
       "      <th>4</th>\n",
       "      <td>이베코6X2트랙터</td>\n",
       "      <td>한국상용차</td>\n",
       "      <td>01220001000014306</td>\n",
       "      <td>nan</td>\n",
       "      <td>무부하검사(급가속)</td>\n",
       "      <td>1.00</td>\n",
       "      <td>1.00</td>\n",
       "      <td>1.00</td>\n",
       "    </tr>\n",
       "  </tbody>\n",
       "</table>\n",
       "</div>"
      ],
      "text/plain": [
       "       VHCNM MNFCTR_NM        MANG_MNG_NO EXHST_GAS_CERT_NO_MOD   INSP_MTHD   \n",
       "0  윈스톰2.0S디젤    SOFA차량  9993411b020881218                   nan  무부하검사(급가속)  \\\n",
       "1  이베코6X2트랙터     한국상용차  01220001200064308                   nan  무부하검사(급가속)   \n",
       "2  짚 그랜드 체로키  에프씨에이코리아  00220004500021306                   nan  무부하검사(급가속)   \n",
       "3      짚 랭글러  에프씨에이코리아  00220005800011307                   nan  무부하검사(급가속)   \n",
       "4  이베코6X2트랙터     한국상용차  01220001000014306                   nan  무부하검사(급가속)   \n",
       "\n",
       "   LOWR_QRT  MID_QRT  UP_QRT  \n",
       "0     11.00    11.00   11.00  \n",
       "1      0.00     0.00    0.00  \n",
       "2      1.00     1.00    1.00  \n",
       "3      0.00     0.00    0.00  \n",
       "4      1.00     1.00    1.00  "
      ]
     },
     "execution_count": 95,
     "metadata": {},
     "output_type": "execute_result"
    }
   ],
   "source": [
    "STD_BD_GRD4_CAR_CURSTT_TOT.head()"
   ]
  },
  {
   "attachments": {},
   "cell_type": "markdown",
   "metadata": {},
   "source": [
    "### [출력] 제번별 4분위 값 df(STD_BD_GRD4_CAR_CURSTT_TOT)"
   ]
  },
  {
   "cell_type": "code",
   "execution_count": null,
   "metadata": {},
   "outputs": [],
   "source": [
    "# expdf = STD_BD_GRD4_CAR_CURSTT_TOT\n",
    "# table_nm = 'STD_BD_GRD4_CAR_CURSTT_TOT'.upper()\n",
    "\n",
    "# # 테이블 생성\n",
    "# sql = 'create table ' + table_nm + '( \\n'\n",
    "\n",
    "# for idx,column in enumerate(expdf.columns):\n",
    "#     if 'float' in expdf[column].dtype.name:\n",
    "#         sql += column + ' float'\n",
    "#     elif 'int' in expdf[column].dtype.name:\n",
    "#         sql += column + ' number'\n",
    "#     else:\n",
    "#         sql += column + ' varchar(255)'\n",
    "\n",
    "#     if len(expdf.columns) - 1 != idx:\n",
    "#         sql += ','\n",
    "#     sql += '\\n'\n",
    "# sql += ')'    \n",
    "# wbt.execute(sql)\n",
    "\n",
    "# # 데이터 추가\n",
    "# # 1s\n",
    "# wbt.import_from_pandas(expdf, table_nm)"
   ]
  },
  {
   "cell_type": "code",
   "execution_count": 131,
   "metadata": {},
   "outputs": [],
   "source": [
    "# # about 5.9s\n",
    "# # STD_BD_GRD4_CAR_CURSTT_TOT\n",
    "# # 4등급_경유_제번별_사분위수\n",
    "# quantile_df2.to_csv(os.path.join(df1_fold, f'STD_BD_GRD4_CAR_CURSTT_TOT.csv'), index=False)"
   ]
  },
  {
   "attachments": {},
   "cell_type": "markdown",
   "metadata": {},
   "source": [
    "# code end"
   ]
  }
 ],
 "metadata": {
  "interpreter": {
   "hash": "569b4317022eb29baeafb3d0f1f739310808ea28ce83ca127a35db1c01070585"
  },
  "kernelspec": {
   "display_name": "Python 3.9.12 ('base')",
   "language": "python",
   "name": "python3"
  },
  "language_info": {
   "codemirror_mode": {
    "name": "ipython",
    "version": 3
   },
   "file_extension": ".py",
   "mimetype": "text/x-python",
   "name": "python",
   "nbconvert_exporter": "python",
   "pygments_lexer": "ipython3",
   "version": "3.9.13"
  },
  "orig_nbformat": 4,
  "vscode": {
   "interpreter": {
    "hash": "ad2bdc8ecc057115af97d19610ffacc2b4e99fae6737bb82f5d7fb13d2f2c186"
   }
  }
 },
 "nbformat": 4,
 "nbformat_minor": 2
}
