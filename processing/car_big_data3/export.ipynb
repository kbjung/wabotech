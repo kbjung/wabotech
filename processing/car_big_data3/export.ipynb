{
 "cells": [
  {
   "cell_type": "markdown",
   "id": "5c092f22-4f5e-43cf-a6b6-419de79303d9",
   "metadata": {},
   "source": [
    "# Library"
   ]
  },
  {
   "cell_type": "code",
   "execution_count": 8,
   "id": "5785fbb2-bb58-4dfc-92fb-93f37fe1f2ba",
   "metadata": {
    "tags": []
   },
   "outputs": [],
   "source": [
    "import pandas as pd\n",
    "import pyexasol\n",
    "import os\n",
    "import datetime\n",
    "import time\n",
    "from tqdm import tqdm\n",
    "import gc"
   ]
  },
  {
   "cell_type": "markdown",
   "id": "a35f1fd7",
   "metadata": {},
   "source": [
    "# Fold"
   ]
  },
  {
   "cell_type": "code",
   "execution_count": 2,
   "id": "e1b7b98a",
   "metadata": {},
   "outputs": [],
   "source": [
    "raw_fold = 'D:/data/big3/raw'"
   ]
  },
  {
   "cell_type": "markdown",
   "id": "0a24ab93-9416-4fad-9858-1f081abdb9b3",
   "metadata": {
    "tags": []
   },
   "source": [
    "# insider db"
   ]
  },
  {
   "cell_type": "code",
   "execution_count": 3,
   "id": "e07dcf0d-0bea-4b22-b2c7-1616fbba2902",
   "metadata": {
    "tags": []
   },
   "outputs": [],
   "source": [
    "# wd = pyexasol.connect(dsn='172.29.135.35/F99FAB2444F86051A9A467F6313FAAB48AF7C4760663430958E3B89A9DC53361:8563', user='sys', password='exasol', compression=True, schema='VSYSD')\n",
    "# we = pyexasol.connect(dsn='172.29.135.35/F99FAB2444F86051A9A467F6313FAAB48AF7C4760663430958E3B89A9DC53361:8563', user='sys', password='exasol', compression=True, schema='VSYSE')"
   ]
  },
  {
   "cell_type": "markdown",
   "id": "a90e70f9",
   "metadata": {},
   "source": [
    "# exasol db"
   ]
  },
  {
   "cell_type": "code",
   "execution_count": 4,
   "id": "834b49ee",
   "metadata": {},
   "outputs": [],
   "source": [
    "# ws = pyexasol.connect(dsn='dev.openankus.org:8563', user='sys', password='djslzja', compression=True, schema='VSYS')\n",
    "wd = pyexasol.connect(dsn='dev.openankus.org:8563', user='sys', password='djslzja', compression=True, schema='VSYSD')\n",
    "we = pyexasol.connect(dsn='dev.openankus.org:8563', user='sys', password='djslzja', compression=True, schema='VSYSE')"
   ]
  },
  {
   "cell_type": "markdown",
   "id": "a8d58b2f",
   "metadata": {},
   "source": [
    "## file export"
   ]
  },
  {
   "cell_type": "code",
   "execution_count": 1,
   "id": "a74f3e03",
   "metadata": {},
   "outputs": [
    {
     "data": {
      "text/plain": [
       "3"
      ]
     },
     "execution_count": 1,
     "metadata": {},
     "output_type": "execute_result"
    }
   ],
   "source": [
    "table_list = [\n",
    "    'STD_TB_ERR_RES', \n",
    "    'STD_TB_ERR_RES_DET', \n",
    "    'STD_TB_EET_HIS_ME',\n",
    "    ]\n",
    "len(table_list)"
   ]
  },
  {
   "cell_type": "code",
   "execution_count": 6,
   "id": "0010d9a3",
   "metadata": {},
   "outputs": [
    {
     "data": {
      "text/plain": [
       "2"
      ]
     },
     "execution_count": 6,
     "metadata": {},
     "output_type": "execute_result"
    }
   ],
   "source": [
    "len(set(table_list))"
   ]
  },
  {
   "cell_type": "code",
   "execution_count": 7,
   "id": "f0104ce2",
   "metadata": {},
   "outputs": [
    {
     "data": {
      "text/plain": [
       "'20230918'"
      ]
     },
     "execution_count": 7,
     "metadata": {},
     "output_type": "execute_result"
    }
   ],
   "source": [
    "today_date = datetime.datetime.today().strftime(\"%Y%m%d\")\n",
    "today_date"
   ]
  },
  {
   "cell_type": "code",
   "execution_count": 14,
   "id": "bdf05caa",
   "metadata": {},
   "outputs": [
    {
     "name": "stderr",
     "output_type": "stream",
     "text": [
      " 50%|█████     | 1/2 [00:02<00:02,  2.02s/it]"
     ]
    },
    {
     "name": "stdout",
     "output_type": "stream",
     "text": [
      "STD_TB_ERR_RES(20230918).csv 출력완료\n",
      "수행시간 : 0:00:02\n"
     ]
    },
    {
     "name": "stderr",
     "output_type": "stream",
     "text": [
      "100%|██████████| 2/2 [00:04<00:00,  2.09s/it]"
     ]
    },
    {
     "name": "stdout",
     "output_type": "stream",
     "text": [
      "STD_TB_ERR_RES_DET(20230918).csv 출력완료\n",
      "수행시간 : 0:00:02\n",
      "\n",
      "전체 수행시간 : 0:00:04\n"
     ]
    },
    {
     "name": "stderr",
     "output_type": "stream",
     "text": [
      "\n"
     ]
    }
   ],
   "source": [
    "# 16m 41s\n",
    "total_start_time = time.time()\n",
    "for table_name in tqdm(table_list):\n",
    "    start_time = time.time()\n",
    "    df = wd.export_to_pandas(f\"SELECT * from {table_name};\")\n",
    "    file_name = table_name + f'({today_date}).csv'\n",
    "    df.to_csv(os.path.join(raw_fold, file_name), index=False)\n",
    "    print(f'{file_name} 출력완료')\n",
    "    sec = time.time() - start_time\n",
    "    print('수행시간 : ' + str(datetime.timedelta(seconds=sec)).split('.')[0])\n",
    "print()\n",
    "sec = time.time() - total_start_time\n",
    "print('전체 수행시간 : ' + str(datetime.timedelta(seconds=sec)).split('.')[0])"
   ]
  },
  {
   "cell_type": "code",
   "execution_count": 5,
   "id": "1abf04b7",
   "metadata": {},
   "outputs": [
    {
     "data": {
      "text/plain": [
       "1"
      ]
     },
     "execution_count": 5,
     "metadata": {},
     "output_type": "execute_result"
    }
   ],
   "source": [
    "table_list = [\n",
    "    'STD_TB_EET_HIS_ME', \n",
    "    ]\n",
    "len(table_list)"
   ]
  },
  {
   "cell_type": "code",
   "execution_count": 6,
   "id": "38424378",
   "metadata": {},
   "outputs": [
    {
     "data": {
      "text/plain": [
       "'20230918'"
      ]
     },
     "execution_count": 6,
     "metadata": {},
     "output_type": "execute_result"
    }
   ],
   "source": [
    "today_date = datetime.datetime.today().strftime(\"%Y%m%d\")\n",
    "today_date"
   ]
  },
  {
   "cell_type": "code",
   "execution_count": null,
   "id": "043522a7",
   "metadata": {},
   "outputs": [
    {
     "name": "stderr",
     "output_type": "stream",
     "text": [
      "  0%|          | 0/1 [00:00<?, ?it/s]"
     ]
    }
   ],
   "source": [
    "# 19m 3.7s\n",
    "start_time = time.time()\n",
    "for table_name in tqdm(table_list):\n",
    "    df = wd.export_to_pandas(f\"SELECT VIN, PRCINSP_JGMT, PREC_NLOD_SMO_MSTVL1, PREC_NLOD_SMO_JT_YN1, PREC_NLOD_SMO_PRMVL1, PREC_NLOD_SMO_MSTVL2, PREC_NLOD_SMO_JT_YN2, PREC_NLOD_SMO_PRMVL2, PREC_NLOD_SMO_MSTVL3, PREC_NLOD_SMO_JT_YN3, PREC_NLOD_SMO_PRMVL3, PRCINSP_MSRMT_MTHD_CD, PRCINSP_KND_CD, PRCINSP_YMD from {table_name};\")\n",
    "    file_name = f'{table_name}({today_date}).csv'\n",
    "    df.to_csv(os.path.join(raw_fold, file_name), index=False)\n",
    "    print(f'{file_name} 출력완료')\n",
    "print()\n",
    "sec = time.time() - start_time\n",
    "print('코드 수행시간 : ' + str(datetime.timedelta(seconds=sec)).split('.')[0])"
   ]
  },
  {
   "cell_type": "code",
   "execution_count": 7,
   "id": "01175b63",
   "metadata": {},
   "outputs": [
    {
     "name": "stderr",
     "output_type": "stream",
     "text": [
      "100%|██████████| 1/1 [18:52<00:00, 1132.63s/it]"
     ]
    },
    {
     "name": "stdout",
     "output_type": "stream",
     "text": [
      "STD_TB_EET_HIS_ME(20230918).csv 출력완료\n",
      "\n",
      "코드 수행시간 : 0:18:52\n"
     ]
    },
    {
     "name": "stderr",
     "output_type": "stream",
     "text": [
      "\n"
     ]
    }
   ],
   "source": [
    "# 전체\n",
    "# \n",
    "start_time = time.time()\n",
    "for table_name in tqdm(table_list):\n",
    "    df = wd.export_to_pandas(f\"SELECT * from {table_name};\")\n",
    "    file_name = f'{table_name}({today_date}).csv'\n",
    "    df.to_csv(os.path.join(raw_fold, file_name), index=False)\n",
    "    print(f'{file_name} 출력완료')\n",
    "print()\n",
    "sec = time.time() - start_time\n",
    "print('코드 수행시간 : ' + str(datetime.timedelta(seconds=sec)).split('.')[0])\n",
    "del df\n",
    "gc.collect()"
   ]
  },
  {
   "cell_type": "markdown",
   "id": "b59fc47a-7468-4ec8-99c5-a129fc0c5c5f",
   "metadata": {},
   "source": [
    "# Code End"
   ]
  }
 ],
 "metadata": {
  "kernelspec": {
   "display_name": "Python 3 (ipykernel)",
   "language": "python",
   "name": "python3"
  },
  "language_info": {
   "codemirror_mode": {
    "name": "ipython",
    "version": 3
   },
   "file_extension": ".py",
   "mimetype": "text/x-python",
   "name": "python",
   "nbconvert_exporter": "python",
   "pygments_lexer": "ipython3",
   "version": "3.11.4"
  }
 },
 "nbformat": 4,
 "nbformat_minor": 5
}
