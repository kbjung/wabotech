{
 "cells": [
  {
   "cell_type": "markdown",
   "metadata": {},
   "source": [
    "# Library"
   ]
  },
  {
   "cell_type": "code",
   "execution_count": 1,
   "metadata": {},
   "outputs": [],
   "source": [
    "import pandas as pd\n",
    "import numpy as np\n",
    "from tqdm import tqdm\n",
    "from datetime import datetime\n",
    "import pyexasol"
   ]
  },
  {
   "cell_type": "code",
   "execution_count": 2,
   "metadata": {},
   "outputs": [],
   "source": [
    "import os"
   ]
  },
  {
   "cell_type": "code",
   "execution_count": 3,
   "metadata": {},
   "outputs": [],
   "source": [
    "# 소수점 옵션\n",
    "pd.options.display.float_format = '{:.2f}'.format\n",
    "# pd.reset_option('display.float_format')"
   ]
  },
  {
   "cell_type": "markdown",
   "metadata": {},
   "source": [
    "# fold"
   ]
  },
  {
   "cell_type": "code",
   "execution_count": 4,
   "metadata": {},
   "outputs": [],
   "source": [
    "df1_fold = 'D:/data/big2/BD1/df'"
   ]
  },
  {
   "cell_type": "markdown",
   "metadata": {},
   "source": [
    "# server"
   ]
  },
  {
   "cell_type": "code",
   "execution_count": 5,
   "metadata": {},
   "outputs": [],
   "source": [
    "# # insider db\n",
    "# wd = pyexasol.connect(dsn='172.29.135.35/F99FAB2444F86051A9A467F6313FAAB48AF7C4760663430958E3B89A9DC53361:8563', user='sys', password='exasol', compression=True, schema='VSYSD')\n",
    "# we = pyexasol.connect(dsn='172.29.135.35/F99FAB2444F86051A9A467F6313FAAB48AF7C4760663430958E3B89A9DC53361:8563', user='sys', password='exasol', compression=True, schema='VSYSE')"
   ]
  },
  {
   "cell_type": "code",
   "execution_count": 6,
   "metadata": {},
   "outputs": [],
   "source": [
    "# exasol db\n",
    "ws = pyexasol.connect(dsn='dev.openankus.org:8563', user='sys', password='djslzja', compression=True, schema='VSYS')\n",
    "wd = pyexasol.connect(dsn='dev.openankus.org:8563', user='sys', password='djslzja', compression=True, schema='VSYSD')\n",
    "we = pyexasol.connect(dsn='dev.openankus.org:8563', user='sys', password='djslzja', compression=True, schema='VSYSE')"
   ]
  },
  {
   "cell_type": "markdown",
   "metadata": {},
   "source": [
    "# Load\n",
    "- 등록&제원 -> result 4등급(연료 : 경유, 휘발유, LPG)\n",
    "- 정기/정밀검사 -> 연간 주행거리(1일평균주행거리)"
   ]
  },
  {
   "cell_type": "markdown",
   "metadata": {},
   "source": [
    "## 등록정보(STD_CEG_CAR_MIG) 4등급만"
   ]
  },
  {
   "cell_type": "code",
   "execution_count": 7,
   "metadata": {},
   "outputs": [],
   "source": [
    "# exasol db\n",
    "# 10.8s\n",
    "car = wd.export_to_pandas(\"SELECT VIN, VHRNO, BSPL_STDG_CD, VHCL_ERSR_YN, MANP_MNG_NO, YRIDNW, VHCTY_CD, PURPS_CD2, FRST_REG_YMD, VHCL_FBCTN_YMD, EXTGAS_INSP_VLD_YMD, VHCL_OWNR_CL_CD, EXHST_GAS_CERT_NO, EXHST_GAS_GRD_CD FROM STD_CEG_CAR_MIG WHERE EXHST_GAS_GRD_CD = 'A0504' OR EXHST_GAS_GRD_CD = 'A05T4';\")"
   ]
  },
  {
   "cell_type": "code",
   "execution_count": 8,
   "metadata": {},
   "outputs": [],
   "source": [
    "car_ch_col = {\n",
    "    'VIN':'차대번호', \n",
    "    'VHRNO':'차량번호',\n",
    "    'BSPL_STDG_CD':'법정동코드', \n",
    "    'VHCL_ERSR_YN':'차량말소YN',\n",
    "    'MANP_MNG_NO':'제원관리번호', \n",
    "    'YRIDNW':'차량연식', \n",
    "    'VHCTY_CD':'차종', \n",
    "    'PURPS_CD2':'용도', \n",
    "    'FRST_REG_YMD':'최초등록일자',\n",
    "    'VHCL_FBCTN_YMD':'제작일자',\n",
    "    'EXTGAS_INSP_VLD_YMD':'검사유효일',\n",
    "    'VHCL_OWNR_CL_CD':'소유자구분',\n",
    "    'EXHST_GAS_CERT_NO':'배출가스인증번호',\n",
    "    'EXHST_GAS_GRD_CD':'배출가스등급', \n",
    "}"
   ]
  },
  {
   "cell_type": "code",
   "execution_count": 9,
   "metadata": {},
   "outputs": [],
   "source": [
    "carr = car.rename(columns=car_ch_col)"
   ]
  },
  {
   "cell_type": "code",
   "execution_count": 10,
   "metadata": {},
   "outputs": [
    {
     "data": {
      "text/plain": [
       "Index(['차대번호', '차량번호', '법정동코드', '차량말소YN', '제원관리번호', '차량연식', '차종', '용도',\n",
       "       '최초등록일자', '제작일자', '검사유효일', '소유자구분', '배출가스인증번호', '배출가스등급'],\n",
       "      dtype='object')"
      ]
     },
     "execution_count": 10,
     "metadata": {},
     "output_type": "execute_result"
    }
   ],
   "source": [
    "carr.columns"
   ]
  },
  {
   "cell_type": "markdown",
   "metadata": {},
   "source": [
    "## 제원정보(STD_CEG_CAR_SRC_MIG)"
   ]
  },
  {
   "cell_type": "code",
   "execution_count": 11,
   "metadata": {},
   "outputs": [],
   "source": [
    "# 2.2s\n",
    "src = wd.export_to_pandas(\"SELECT MANP_MNG_NO, FUEL_CD, VHCTY_TY_CD2, VHCNM, VHCTY_CL_CD, VHCL_FRM, MNFCTR_NM, EGIN_TY, TOTL_WGHT, CRYNG_WGHT, EGIN_OTPT, DSPLVL FROM STD_CEG_CAR_SRC_MIG;\")"
   ]
  },
  {
   "cell_type": "code",
   "execution_count": 12,
   "metadata": {},
   "outputs": [],
   "source": [
    "src_ch_col = {\n",
    "    'MANP_MNG_NO':'제원관리번호', \n",
    "    'FUEL_CD':'연료',\n",
    "    'VHCTY_TY_CD2':'차종유형', \n",
    "    'VHCNM':'차명',\n",
    "    'VHCTY_CL_CD':'차종분류',\n",
    "    'VHCL_FRM':'자동차형식',\n",
    "    'MNFCTR_NM':'제작사명', \n",
    "    'EGIN_TY':'엔진형식',\n",
    "    'TOTL_WGHT':'총중량',\n",
    "    'CRYNG_WGHT':'적재중량',\n",
    "    'EGIN_OTPT':'엔진출력',\n",
    "    'DSPLVL':'배기량',   \n",
    "}"
   ]
  },
  {
   "cell_type": "code",
   "execution_count": 13,
   "metadata": {},
   "outputs": [
    {
     "data": {
      "text/plain": [
       "Index(['제원관리번호', '연료', '차종유형', '차명', '차종분류', '자동차형식', '제작사명', '엔진형식', '총중량',\n",
       "       '적재중량', '엔진출력', '배기량'],\n",
       "      dtype='object')"
      ]
     },
     "execution_count": 13,
     "metadata": {},
     "output_type": "execute_result"
    }
   ],
   "source": [
    "srcr = src.rename(columns=src_ch_col)\n",
    "srcr.columns"
   ]
  },
  {
   "cell_type": "markdown",
   "metadata": {},
   "source": [
    "## 정기검사(STD_TB_JGT_HIS)"
   ]
  },
  {
   "cell_type": "code",
   "execution_count": 14,
   "metadata": {},
   "outputs": [
    {
     "name": "stdout",
     "output_type": "stream",
     "text": [
      "<class 'pandas.core.frame.DataFrame'>\n",
      "RangeIndex: 65903838 entries, 0 to 65903837\n",
      "Data columns (total 3 columns):\n",
      " #   Column            Dtype  \n",
      "---  ------            -----  \n",
      " 0   VIN               object \n",
      " 1   FDRM_INSP_YMD     int64  \n",
      " 2   FDRM_DRVNG_DSTNC  float64\n",
      "dtypes: float64(1), int64(1), object(1)\n",
      "memory usage: 1.5+ GB\n"
     ]
    }
   ],
   "source": [
    "# # 3m 34.9s\n",
    "# jgt = wd.export_to_pandas(\"SELECT VIN, FDRM_INSP_YMD, FDRM_DRVNG_DSTNC FROM STD_TB_JGT_HIS;\")\n",
    "# jgt.info()"
   ]
  },
  {
   "cell_type": "code",
   "execution_count": 15,
   "metadata": {},
   "outputs": [],
   "source": [
    "# jgt_ch_col = {\n",
    "#     'VIN':'차대번호', \n",
    "#     'FDRM_INSP_YMD':'검사일자',\n",
    "#     'FDRM_DRVNG_DSTNC':'주행거리',\n",
    "# }"
   ]
  },
  {
   "cell_type": "code",
   "execution_count": 16,
   "metadata": {},
   "outputs": [
    {
     "data": {
      "text/plain": [
       "Index(['차대번호', '검사일자', '주행거리'], dtype='object')"
      ]
     },
     "execution_count": 16,
     "metadata": {},
     "output_type": "execute_result"
    }
   ],
   "source": [
    "# jgtr = jgt.rename(columns=jgt_ch_col)\n",
    "# jgtr.columns"
   ]
  },
  {
   "cell_type": "code",
   "execution_count": 94,
   "metadata": {},
   "outputs": [
    {
     "name": "stdout",
     "output_type": "stream",
     "text": [
      "<class 'pandas.core.frame.DataFrame'>\n",
      "RangeIndex: 65903838 entries, 0 to 65903837\n",
      "Data columns (total 11 columns):\n",
      " #   Column                  Dtype  \n",
      "---  ------                  -----  \n",
      " 0   VIN                     object \n",
      " 1   FDRM_INSP_INSP_MTHD_CD  object \n",
      " 2   FDRM_INSP_KND_CD        object \n",
      " 3   FDRM_INSP_JGMT          object \n",
      " 4   FDRM_NLOD_SMO_MSTVL1    float64\n",
      " 5   FDRM_NLOD_SMO_MSTVL2    float64\n",
      " 6   FDRM_NLOD_SMO_MSTVL3    float64\n",
      " 7   FDRM_NLOD_SMO_JT_YN1    object \n",
      " 8   FDRM_INSP_YMD           int64  \n",
      " 9   FDRM_DRVNG_DSTNC        float64\n",
      " 10  FDRM_NLOD_SMO_PRMVL1    float64\n",
      "dtypes: float64(5), int64(1), object(5)\n",
      "memory usage: 5.4+ GB\n"
     ]
    }
   ],
   "source": [
    "# 3m 34.9s\n",
    "jgt = wd.export_to_pandas(\"SELECT VIN, FDRM_INSP_INSP_MTHD_CD, FDRM_INSP_KND_CD, FDRM_INSP_JGMT, FDRM_NLOD_SMO_MSTVL1, FDRM_NLOD_SMO_MSTVL2, FDRM_NLOD_SMO_MSTVL3, FDRM_NLOD_SMO_JT_YN1, FDRM_INSP_YMD, FDRM_DRVNG_DSTNC, FDRM_NLOD_SMO_PRMVL1 FROM STD_TB_JGT_HIS;\")\n",
    "jgt_ch_col = {\n",
    "    'VIN':'차대번호', \n",
    "    'FDRM_INSP_INSP_MTHD_CD':'검사방법', \n",
    "    'FDRM_INSP_KND_CD':'검사종류', \n",
    "    'FDRM_INSP_JGMT':'검사판정', \n",
    "    'FDRM_NLOD_SMO_MSTVL1':'무부하매연측정치1', \n",
    "    'FDRM_NLOD_SMO_MSTVL2':'무부하매연측정치2', \n",
    "    'FDRM_NLOD_SMO_MSTVL3':'무부하매연측정치3', \n",
    "    'FDRM_NLOD_SMO_JT_YN1':'무부하매연판정1', \n",
    "    'FDRM_INSP_YMD':'검사일자',\n",
    "    'FDRM_DRVNG_DSTNC':'주행거리',\n",
    "    'FDRM_NLOD_SMO_PRMVL1':'무부하매연허용치1', \n",
    "}\n",
    "jgt.info()"
   ]
  },
  {
   "cell_type": "code",
   "execution_count": 96,
   "metadata": {},
   "outputs": [
    {
     "data": {
      "text/plain": [
       "Index(['차대번호', '검사방법', '검사종류', '검사판정', '무부하매연측정치1', '무부하매연측정치2', '무부하매연측정치3',\n",
       "       '무부하매연판정1', '검사일자', '주행거리', '무부하매연허용치1'],\n",
       "      dtype='object')"
      ]
     },
     "execution_count": 96,
     "metadata": {},
     "output_type": "execute_result"
    }
   ],
   "source": [
    "jgtr = jgt.rename(columns=jgt_ch_col)\n",
    "jgtr.columns"
   ]
  },
  {
   "cell_type": "markdown",
   "metadata": {},
   "source": [
    "## 정밀검사(STD_TB_EET_HIS_ME)"
   ]
  },
  {
   "cell_type": "code",
   "execution_count": 17,
   "metadata": {},
   "outputs": [
    {
     "name": "stdout",
     "output_type": "stream",
     "text": [
      "<class 'pandas.core.frame.DataFrame'>\n",
      "RangeIndex: 102191938 entries, 0 to 102191937\n",
      "Data columns (total 3 columns):\n",
      " #   Column               Dtype  \n",
      "---  ------               -----  \n",
      " 0   VIN                  object \n",
      " 1   PRCINSP_YMD          int64  \n",
      " 2   PRCINSP_DRVNG_DSTNC  float64\n",
      "dtypes: float64(1), int64(1), object(1)\n",
      "memory usage: 2.3+ GB\n"
     ]
    }
   ],
   "source": [
    "# # 6m 36.1s\n",
    "# eet = wd.export_to_pandas(\"SELECT VIN, PRCINSP_YMD, PRCINSP_DRVNG_DSTNC FROM STD_TB_EET_HIS_ME;\")\n",
    "# eet.info()"
   ]
  },
  {
   "cell_type": "code",
   "execution_count": 18,
   "metadata": {},
   "outputs": [
    {
     "data": {
      "text/plain": [
       "Index(['VIN', 'PRCINSP_YMD', 'PRCINSP_DRVNG_DSTNC'], dtype='object')"
      ]
     },
     "execution_count": 18,
     "metadata": {},
     "output_type": "execute_result"
    }
   ],
   "source": [
    "# eet.columns"
   ]
  },
  {
   "cell_type": "code",
   "execution_count": 19,
   "metadata": {},
   "outputs": [],
   "source": [
    "# eet_ch_col = {\n",
    "#     'VIN':'차대번호', \n",
    "#     'PRCINSP_YMD':'검사일자',\n",
    "#     'PRCINSP_DRVNG_DSTNC':'주행거리', \n",
    "# }"
   ]
  },
  {
   "cell_type": "code",
   "execution_count": 20,
   "metadata": {},
   "outputs": [
    {
     "data": {
      "text/plain": [
       "Index(['차대번호', '검사일자', '주행거리'], dtype='object')"
      ]
     },
     "execution_count": 20,
     "metadata": {},
     "output_type": "execute_result"
    }
   ],
   "source": [
    "# eetr = eet.rename(columns=eet_ch_col)\n",
    "# eetr.columns"
   ]
  },
  {
   "cell_type": "code",
   "execution_count": 95,
   "metadata": {},
   "outputs": [
    {
     "name": "stdout",
     "output_type": "stream",
     "text": [
      "<class 'pandas.core.frame.DataFrame'>\n",
      "RangeIndex: 102191938 entries, 0 to 102191937\n",
      "Data columns (total 11 columns):\n",
      " #   Column                 Dtype  \n",
      "---  ------                 -----  \n",
      " 0   VIN                    object \n",
      " 1   PRCINSP_MSRMT_MTHD_CD  object \n",
      " 2   PRCINSP_KND_CD         object \n",
      " 3   PRCINSP_JGMT           object \n",
      " 4   PREC_NLOD_SMO_MSTVL1   float64\n",
      " 5   PREC_NLOD_SMO_MSTVL2   float64\n",
      " 6   PREC_NLOD_SMO_MSTVL3   float64\n",
      " 7   PREC_NLOD_SMO_JT_YN1   object \n",
      " 8   PRCINSP_YMD            int64  \n",
      " 9   PRCINSP_DRVNG_DSTNC    float64\n",
      " 10  PREC_NLOD_SMO_PRMVL1   float64\n",
      "dtypes: float64(5), int64(1), object(5)\n",
      "memory usage: 8.4+ GB\n"
     ]
    }
   ],
   "source": [
    "# 6m 36.1s\n",
    "eet = wd.export_to_pandas(\"SELECT VIN, PRCINSP_MSRMT_MTHD_CD, PRCINSP_KND_CD, PRCINSP_JGMT, PREC_NLOD_SMO_MSTVL1, PREC_NLOD_SMO_MSTVL2, PREC_NLOD_SMO_MSTVL3, PREC_NLOD_SMO_JT_YN1, PRCINSP_YMD, PRCINSP_DRVNG_DSTNC, PREC_NLOD_SMO_PRMVL1 FROM STD_TB_EET_HIS_ME;\")\n",
    "eet_ch_col = {\n",
    "    'VIN':'차대번호', \n",
    "    'PRCINSP_MSRMT_MTHD_CD':'검사방법', \n",
    "    'PRCINSP_KND_CD':'검사종류', \n",
    "    'PRCINSP_JGMT':'검사판정', \n",
    "    'PREC_NLOD_SMO_MSTVL1':'무부하매연측정치1', \n",
    "    'PREC_NLOD_SMO_MSTVL2':'무부하매연측정치2', \n",
    "    'PREC_NLOD_SMO_MSTVL3':'무부하매연측정치3', \n",
    "    'PREC_NLOD_SMO_JT_YN1':'무부하매연판정1', \n",
    "    'PRCINSP_YMD':'검사일자',\n",
    "    'PRCINSP_DRVNG_DSTNC':'주행거리', \n",
    "    'PREC_NLOD_SMO_PRMVL1':'무부하매연허용치1', \n",
    "}\n",
    "eet.info()"
   ]
  },
  {
   "cell_type": "code",
   "execution_count": 97,
   "metadata": {},
   "outputs": [
    {
     "data": {
      "text/plain": [
       "Index(['차대번호', '검사방법', '검사종류', '검사판정', '무부하매연측정치1', '무부하매연측정치2', '무부하매연측정치3',\n",
       "       '무부하매연판정1', '검사일자', '주행거리', '무부하매연허용치1'],\n",
       "      dtype='object')"
      ]
     },
     "execution_count": 97,
     "metadata": {},
     "output_type": "execute_result"
    }
   ],
   "source": [
    "eetr = eet.rename(columns=eet_ch_col)\n",
    "eetr.columns"
   ]
  },
  {
   "cell_type": "markdown",
   "metadata": {},
   "source": [
    "## 법정동코드(STD_BJCD_INFO)"
   ]
  },
  {
   "cell_type": "code",
   "execution_count": 98,
   "metadata": {},
   "outputs": [
    {
     "name": "stdout",
     "output_type": "stream",
     "text": [
      "<class 'pandas.core.frame.DataFrame'>\n",
      "RangeIndex: 47916 entries, 0 to 47915\n",
      "Data columns (total 3 columns):\n",
      " #   Column        Non-Null Count  Dtype \n",
      "---  ------        --------------  ----- \n",
      " 0   STDG_CD       47916 non-null  int64 \n",
      " 1   STDG_CTPV_NM  47916 non-null  object\n",
      " 2   STDG_SGG_NM   47892 non-null  object\n",
      "dtypes: int64(1), object(2)\n",
      "memory usage: 1.1+ MB\n"
     ]
    }
   ],
   "source": [
    "# 1.3s\n",
    "code = wd.export_to_pandas(\"SELECT STDG_CD, STDG_CTPV_NM, STDG_SGG_NM FROM STD_BJCD_INFO;\")\n",
    "code.info()"
   ]
  },
  {
   "cell_type": "code",
   "execution_count": 99,
   "metadata": {},
   "outputs": [
    {
     "data": {
      "text/plain": [
       "Index(['STDG_CD', 'STDG_CTPV_NM', 'STDG_SGG_NM'], dtype='object')"
      ]
     },
     "execution_count": 99,
     "metadata": {},
     "output_type": "execute_result"
    }
   ],
   "source": [
    "code.columns"
   ]
  },
  {
   "cell_type": "code",
   "execution_count": 100,
   "metadata": {},
   "outputs": [],
   "source": [
    "code_ch_col = {\n",
    "    'STDG_CD':'법정동코드', \n",
    "    'STDG_CTPV_NM':'시도', \n",
    "    'STDG_SGG_NM':'시군구',  \n",
    "}"
   ]
  },
  {
   "cell_type": "code",
   "execution_count": 101,
   "metadata": {},
   "outputs": [
    {
     "data": {
      "text/plain": [
       "Index(['법정동코드', '시도', '시군구'], dtype='object')"
      ]
     },
     "execution_count": 101,
     "metadata": {},
     "output_type": "execute_result"
    }
   ],
   "source": [
    "coder = code.rename(columns=code_ch_col)\n",
    "coder.columns"
   ]
  },
  {
   "cell_type": "markdown",
   "metadata": {},
   "source": [
    "## 저감장치 부착이력(STD_DLM_TB_ERP_ATT_HIS)"
   ]
  },
  {
   "cell_type": "code",
   "execution_count": 102,
   "metadata": {},
   "outputs": [
    {
     "name": "stdout",
     "output_type": "stream",
     "text": [
      "<class 'pandas.core.frame.DataFrame'>\n",
      "RangeIndex: 1015941 entries, 0 to 1015940\n",
      "Data columns (total 2 columns):\n",
      " #   Column        Non-Null Count    Dtype \n",
      "---  ------        --------------    ----- \n",
      " 0   VIN           1015941 non-null  object\n",
      " 1   RDCDVC_SE_CD  1015941 non-null  object\n",
      "dtypes: object(2)\n",
      "memory usage: 15.5+ MB\n"
     ]
    }
   ],
   "source": [
    "# 2.9s\n",
    "att = wd.export_to_pandas(\"SELECT VIN, RDCDVC_SE_CD FROM STD_DLM_TB_ERP_ATT_HIS;\")\n",
    "att.info()"
   ]
  },
  {
   "cell_type": "code",
   "execution_count": 103,
   "metadata": {},
   "outputs": [],
   "source": [
    "att_ch_col = {\n",
    "    'VIN':'차대번호', \n",
    "    'RDCDVC_SE_CD':'저감장치구분', \n",
    "}"
   ]
  },
  {
   "cell_type": "code",
   "execution_count": 104,
   "metadata": {},
   "outputs": [
    {
     "data": {
      "text/plain": [
       "Index(['차대번호', '저감장치구분'], dtype='object')"
      ]
     },
     "execution_count": 104,
     "metadata": {},
     "output_type": "execute_result"
    }
   ],
   "source": [
    "attr = att.rename(columns=att_ch_col)\n",
    "attr.columns"
   ]
  },
  {
   "cell_type": "markdown",
   "metadata": {},
   "source": [
    "## STD_KOSIS"
   ]
  },
  {
   "cell_type": "code",
   "execution_count": 105,
   "metadata": {},
   "outputs": [
    {
     "name": "stdout",
     "output_type": "stream",
     "text": [
      "<class 'pandas.core.frame.DataFrame'>\n",
      "RangeIndex: 1230 entries, 0 to 1229\n",
      "Data columns (total 4 columns):\n",
      " #   Column               Non-Null Count  Dtype  \n",
      "---  ------               --------------  -----  \n",
      " 0   CTPV                 1230 non-null   object \n",
      " 1   SGG                  1230 non-null   object \n",
      " 2   VHCTY_CD             1230 non-null   object \n",
      " 3   DY_AVRG_DRVNG_DSTNC  1230 non-null   float64\n",
      "dtypes: float64(1), object(3)\n",
      "memory usage: 38.6+ KB\n"
     ]
    }
   ],
   "source": [
    "kosis = we.export_to_pandas(\"SELECT CTPV, SGG, VHCTY_CD, DY_AVRG_DRVNG_DSTNC FROM STD_BD_KOSIS;\")\n",
    "kosis.info()"
   ]
  },
  {
   "cell_type": "code",
   "execution_count": 106,
   "metadata": {},
   "outputs": [],
   "source": [
    "kosis_ch_col = {\n",
    "    'CTPV':'시도', \n",
    "    'SGG':'시군구', \n",
    "    'VHCTY_CD':'차종', \n",
    "    'DY_AVRG_DRVNG_DSTNC':'일일평균주행거리', \n",
    "}"
   ]
  },
  {
   "cell_type": "code",
   "execution_count": 107,
   "metadata": {},
   "outputs": [
    {
     "data": {
      "text/plain": [
       "Index(['시도', '시군구', '차종', '일일평균주행거리'], dtype='object')"
      ]
     },
     "execution_count": 107,
     "metadata": {},
     "output_type": "execute_result"
    }
   ],
   "source": [
    "kosisr = kosis.rename(columns=kosis_ch_col)\n",
    "kosisr.columns"
   ]
  },
  {
   "cell_type": "code",
   "execution_count": 108,
   "metadata": {},
   "outputs": [
    {
     "data": {
      "text/html": [
       "<div>\n",
       "<style scoped>\n",
       "    .dataframe tbody tr th:only-of-type {\n",
       "        vertical-align: middle;\n",
       "    }\n",
       "\n",
       "    .dataframe tbody tr th {\n",
       "        vertical-align: top;\n",
       "    }\n",
       "\n",
       "    .dataframe thead th {\n",
       "        text-align: right;\n",
       "    }\n",
       "</style>\n",
       "<table border=\"1\" class=\"dataframe\">\n",
       "  <thead>\n",
       "    <tr style=\"text-align: right;\">\n",
       "      <th></th>\n",
       "      <th>시도</th>\n",
       "      <th>시군구</th>\n",
       "      <th>차종</th>\n",
       "      <th>일일평균주행거리</th>\n",
       "    </tr>\n",
       "  </thead>\n",
       "  <tbody>\n",
       "    <tr>\n",
       "      <th>0</th>\n",
       "      <td>서울특별시</td>\n",
       "      <td>소계</td>\n",
       "      <td>합계</td>\n",
       "      <td>36.60</td>\n",
       "    </tr>\n",
       "    <tr>\n",
       "      <th>1</th>\n",
       "      <td>서울특별시</td>\n",
       "      <td>소계</td>\n",
       "      <td>승용</td>\n",
       "      <td>33.90</td>\n",
       "    </tr>\n",
       "    <tr>\n",
       "      <th>2</th>\n",
       "      <td>서울특별시</td>\n",
       "      <td>소계</td>\n",
       "      <td>승합</td>\n",
       "      <td>48.30</td>\n",
       "    </tr>\n",
       "    <tr>\n",
       "      <th>3</th>\n",
       "      <td>서울특별시</td>\n",
       "      <td>소계</td>\n",
       "      <td>화물</td>\n",
       "      <td>54.40</td>\n",
       "    </tr>\n",
       "    <tr>\n",
       "      <th>4</th>\n",
       "      <td>서울특별시</td>\n",
       "      <td>소계</td>\n",
       "      <td>특수</td>\n",
       "      <td>49.30</td>\n",
       "    </tr>\n",
       "  </tbody>\n",
       "</table>\n",
       "</div>"
      ],
      "text/plain": [
       "      시도 시군구  차종  일일평균주행거리\n",
       "0  서울특별시  소계  합계     36.60\n",
       "1  서울특별시  소계  승용     33.90\n",
       "2  서울특별시  소계  승합     48.30\n",
       "3  서울특별시  소계  화물     54.40\n",
       "4  서울특별시  소계  특수     49.30"
      ]
     },
     "execution_count": 108,
     "metadata": {},
     "output_type": "execute_result"
    }
   ],
   "source": [
    "kosisr.head()"
   ]
  },
  {
   "cell_type": "markdown",
   "metadata": {},
   "source": [
    "## RH에서 제공한 법정동코드"
   ]
  },
  {
   "cell_type": "code",
   "execution_count": 109,
   "metadata": {},
   "outputs": [
    {
     "name": "stdout",
     "output_type": "stream",
     "text": [
      "<class 'pandas.core.frame.DataFrame'>\n",
      "RangeIndex: 3799 entries, 0 to 3798\n",
      "Data columns (total 3 columns):\n",
      " #   Column     Non-Null Count  Dtype \n",
      "---  ------     --------------  ----- \n",
      " 0   DONG_CODE  3799 non-null   int64 \n",
      " 1   CTPRVN_NM  3799 non-null   object\n",
      " 2   SIGNGU_NM  3757 non-null   object\n",
      "dtypes: int64(1), object(2)\n",
      "memory usage: 89.2+ KB\n"
     ]
    }
   ],
   "source": [
    "rh = we.export_to_pandas(\"SELECT DONG_CODE, CTPRVN_NM, SIGNGU_NM FROM STD_BD_TB_MAPDATA;\")\n",
    "rh.info()"
   ]
  },
  {
   "cell_type": "code",
   "execution_count": 110,
   "metadata": {},
   "outputs": [
    {
     "data": {
      "text/html": [
       "<div>\n",
       "<style scoped>\n",
       "    .dataframe tbody tr th:only-of-type {\n",
       "        vertical-align: middle;\n",
       "    }\n",
       "\n",
       "    .dataframe tbody tr th {\n",
       "        vertical-align: top;\n",
       "    }\n",
       "\n",
       "    .dataframe thead th {\n",
       "        text-align: right;\n",
       "    }\n",
       "</style>\n",
       "<table border=\"1\" class=\"dataframe\">\n",
       "  <thead>\n",
       "    <tr style=\"text-align: right;\">\n",
       "      <th></th>\n",
       "      <th>법정동코드_rh</th>\n",
       "      <th>시도</th>\n",
       "      <th>시군구</th>\n",
       "    </tr>\n",
       "  </thead>\n",
       "  <tbody>\n",
       "    <tr>\n",
       "      <th>0</th>\n",
       "      <td>4882000000</td>\n",
       "      <td>경상남도</td>\n",
       "      <td>고성군</td>\n",
       "    </tr>\n",
       "    <tr>\n",
       "      <th>1</th>\n",
       "      <td>4882025000</td>\n",
       "      <td>경상남도</td>\n",
       "      <td>고성군</td>\n",
       "    </tr>\n",
       "    <tr>\n",
       "      <th>2</th>\n",
       "      <td>4882031000</td>\n",
       "      <td>경상남도</td>\n",
       "      <td>고성군</td>\n",
       "    </tr>\n",
       "    <tr>\n",
       "      <th>3</th>\n",
       "      <td>4882032000</td>\n",
       "      <td>경상남도</td>\n",
       "      <td>고성군</td>\n",
       "    </tr>\n",
       "    <tr>\n",
       "      <th>4</th>\n",
       "      <td>4882033000</td>\n",
       "      <td>경상남도</td>\n",
       "      <td>고성군</td>\n",
       "    </tr>\n",
       "  </tbody>\n",
       "</table>\n",
       "</div>"
      ],
      "text/plain": [
       "     법정동코드_rh    시도  시군구\n",
       "0  4882000000  경상남도  고성군\n",
       "1  4882025000  경상남도  고성군\n",
       "2  4882031000  경상남도  고성군\n",
       "3  4882032000  경상남도  고성군\n",
       "4  4882033000  경상남도  고성군"
      ]
     },
     "execution_count": 110,
     "metadata": {},
     "output_type": "execute_result"
    }
   ],
   "source": [
    "rh = rh.rename(columns={'DONG_CODE':'법정동코드_rh', 'CTPRVN_NM':'시도', 'SIGNGU_NM':'시군구'})\n",
    "rh.head()"
   ]
  },
  {
   "cell_type": "markdown",
   "metadata": {},
   "source": [
    "## 4등급 result(for DPF유무)"
   ]
  },
  {
   "cell_type": "code",
   "execution_count": 111,
   "metadata": {},
   "outputs": [
    {
     "name": "stdout",
     "output_type": "stream",
     "text": [
      "<class 'pandas.core.frame.DataFrame'>\n",
      "RangeIndex: 1502235 entries, 0 to 1502234\n",
      "Data columns (total 2 columns):\n",
      " #   Column    Non-Null Count    Dtype \n",
      "---  ------    --------------    ----- \n",
      " 0   차대번호      1502235 non-null  object\n",
      " 1   DPF유무_수정  1153813 non-null  object\n",
      "dtypes: object(2)\n",
      "memory usage: 22.9+ MB\n"
     ]
    }
   ],
   "source": [
    "rs = we.export_to_pandas(\"SELECT 차대번호, DPF유무_수정 FROM STD_BD_GRD4_RESULT;\")\n",
    "rs.info()"
   ]
  },
  {
   "cell_type": "markdown",
   "metadata": {},
   "source": [
    "# 전처리"
   ]
  },
  {
   "cell_type": "markdown",
   "metadata": {},
   "source": [
    "## 중복 차대번호 제거"
   ]
  },
  {
   "cell_type": "code",
   "execution_count": 112,
   "metadata": {},
   "outputs": [
    {
     "data": {
      "text/plain": [
       "((1906823, 14), 1906823)"
      ]
     },
     "execution_count": 112,
     "metadata": {},
     "output_type": "execute_result"
    }
   ],
   "source": [
    "carr.shape, len(carr['차대번호'].unique())"
   ]
  },
  {
   "cell_type": "code",
   "execution_count": 113,
   "metadata": {},
   "outputs": [
    {
     "data": {
      "text/plain": [
       "(1906823, 14)"
      ]
     },
     "execution_count": 113,
     "metadata": {},
     "output_type": "execute_result"
    }
   ],
   "source": [
    "carr = carr.sort_values('최초등록일자', ascending=False).drop_duplicates('차대번호').reset_index(drop=True)\n",
    "carr.shape"
   ]
  },
  {
   "cell_type": "markdown",
   "metadata": {},
   "source": [
    "## 차종 코드 변환"
   ]
  },
  {
   "cell_type": "code",
   "execution_count": 114,
   "metadata": {},
   "outputs": [
    {
     "data": {
      "text/plain": [
       "array(['승용', '화물', '승합', '특수'], dtype=object)"
      ]
     },
     "execution_count": 114,
     "metadata": {},
     "output_type": "execute_result"
    }
   ],
   "source": [
    "cd_dict = {\n",
    "    'A31M':'이륜', \n",
    "    'A31P':'승용', \n",
    "    'A31S':'특수', \n",
    "    'A31T':'화물', \n",
    "    'A31V':'승합'\n",
    "}\n",
    "carr['차종'] = carr['차종'].replace(cd_dict)\n",
    "carr['차종'].unique()"
   ]
  },
  {
   "cell_type": "markdown",
   "metadata": {},
   "source": [
    "## 용도 코드 변환"
   ]
  },
  {
   "cell_type": "code",
   "execution_count": 115,
   "metadata": {},
   "outputs": [
    {
     "data": {
      "text/plain": [
       "array(['개인용', '영업용', '관용'], dtype=object)"
      ]
     },
     "execution_count": 115,
     "metadata": {},
     "output_type": "execute_result"
    }
   ],
   "source": [
    "purps_dict = {\n",
    "    'A08P':'개인용', \n",
    "    'A08B':'영업용', \n",
    "    'A08O':'관용',\n",
    "}\n",
    "carr['용도'] = carr['용도'].replace(purps_dict)\n",
    "carr['용도'].unique()"
   ]
  },
  {
   "cell_type": "markdown",
   "metadata": {},
   "source": [
    "## 배출가스등급 코드 변환"
   ]
  },
  {
   "cell_type": "code",
   "execution_count": 116,
   "metadata": {},
   "outputs": [],
   "source": [
    "grd_dict = {\n",
    "    'A0501':'1', \n",
    "    'A0502':'2', \n",
    "    'A0503':'3', \n",
    "    'A0504':'4', \n",
    "    'A0505':'5', \n",
    "    'A05T2':'2',\n",
    "    'A05T3':'3', \n",
    "    'A05T4':'4', \n",
    "    'A05T5':'5', \n",
    "    'A05X':'X', \n",
    "}\n",
    "carr['배출가스등급'] = carr['배출가스등급'].replace(grd_dict)"
   ]
  },
  {
   "cell_type": "markdown",
   "metadata": {},
   "source": [
    "## 소유자구분 코드 변환"
   ]
  },
  {
   "cell_type": "code",
   "execution_count": 117,
   "metadata": {},
   "outputs": [
    {
     "data": {
      "text/plain": [
       "array(['주민', '법인', '기타', '외국인', '사업자'], dtype=object)"
      ]
     },
     "execution_count": 117,
     "metadata": {},
     "output_type": "execute_result"
    }
   ],
   "source": [
    "ownr_dict = {\n",
    "    'A27B':'사업자', \n",
    "    'A27F':'외국인', \n",
    "    'A27L':'법인', \n",
    "    'A27O':'기타', \n",
    "    'A27R':'주민', \n",
    "}\n",
    "carr['소유자구분'] = carr['소유자구분'].replace(ownr_dict)\n",
    "carr['소유자구분'].unique()"
   ]
  },
  {
   "cell_type": "markdown",
   "metadata": {},
   "source": [
    "## 등록정보 말소 제거"
   ]
  },
  {
   "cell_type": "code",
   "execution_count": 118,
   "metadata": {},
   "outputs": [
    {
     "data": {
      "text/plain": [
       "(1390280, 14)"
      ]
     },
     "execution_count": 118,
     "metadata": {},
     "output_type": "execute_result"
    }
   ],
   "source": [
    "carm = carr[carr['차량말소YN'] == 'N'].reset_index(drop=True)\n",
    "carm.shape"
   ]
  },
  {
   "cell_type": "markdown",
   "metadata": {},
   "source": [
    "## 연료 코드 변환"
   ]
  },
  {
   "cell_type": "code",
   "execution_count": 119,
   "metadata": {},
   "outputs": [
    {
     "data": {
      "text/plain": [
       "array(['휘발유', '경유', '기타연료', 'LPG(액화석유가스)', nan, '휘발유 하이브리드',\n",
       "       'CNG(압축천연가스)', '알코올', '등유', '전기', '태양열', '경유 하이브리드', 'LPG 하이브리드',\n",
       "       '수소', 'LNG(액화천연가스)', 'CNG 하이브리드'], dtype=object)"
      ]
     },
     "execution_count": 119,
     "metadata": {},
     "output_type": "execute_result"
    }
   ],
   "source": [
    "fuel_dict = {\n",
    "    'A90GS':'휘발유', \n",
    "    'A91DS':'경유',\n",
    "    'A92LP':'LPG(액화석유가스)', \n",
    "    'A90GH':'휘발유 하이브리드', \n",
    "    'A93EV':'전기', \n",
    "    'A91DH':'경유 하이브리드', \n",
    "    'A92CN':'CNG(압축천연가스)', \n",
    "    'A93HD':'수소', \n",
    "    'A92LH':'LPG 하이브리드', \n",
    "    'A94OT':'기타연료', \n",
    "    'A92CH':'CNG 하이브리드',\n",
    "    'A90AC':'알코올', \n",
    "    'A93SH':'태양열', \n",
    "    'A91KS':'등유', \n",
    "    'A92LN':'LNG(액화천연가스)', \n",
    "    'A90PH':'플러그인 하이브리드', \n",
    "}\n",
    "srcr['연료'] = srcr['연료'].replace(fuel_dict)\n",
    "srcr['연료'].unique()"
   ]
  },
  {
   "cell_type": "markdown",
   "metadata": {},
   "source": [
    "## 차종유형 코드 변환"
   ]
  },
  {
   "cell_type": "code",
   "execution_count": 120,
   "metadata": {},
   "outputs": [
    {
     "data": {
      "text/plain": [
       "array(['대형', '중형', '소형', '경형', nan], dtype=object)"
      ]
     },
     "execution_count": 120,
     "metadata": {},
     "output_type": "execute_result"
    }
   ],
   "source": [
    "ty_dict = {\n",
    "    'A30C':'경형', \n",
    "    'A30L':'대형', \n",
    "    'A30M':'중형', \n",
    "    'A30S':'소형',\n",
    "}\n",
    "srcr['차종유형'] = srcr['차종유형'].replace(ty_dict)\n",
    "srcr['차종유형'].unique()"
   ]
  },
  {
   "cell_type": "markdown",
   "metadata": {},
   "source": [
    "## 등록&제원 병합"
   ]
  },
  {
   "cell_type": "code",
   "execution_count": 121,
   "metadata": {},
   "outputs": [
    {
     "data": {
      "text/plain": [
       "(1390280, 25)"
      ]
     },
     "execution_count": 121,
     "metadata": {},
     "output_type": "execute_result"
    }
   ],
   "source": [
    "# 19.4s\n",
    "cs = carm.merge(srcr, on='제원관리번호', how='left')\n",
    "cs.shape"
   ]
  },
  {
   "cell_type": "markdown",
   "metadata": {},
   "source": [
    "## 정기&정밀 병합"
   ]
  },
  {
   "cell_type": "code",
   "execution_count": 122,
   "metadata": {},
   "outputs": [
    {
     "data": {
      "text/plain": [
       "Index(['차대번호', '검사방법', '검사종류', '검사판정', '무부하매연측정치1', '무부하매연측정치2', '무부하매연측정치3',\n",
       "       '무부하매연판정1', '검사일자', '주행거리', '무부하매연허용치1'],\n",
       "      dtype='object')"
      ]
     },
     "execution_count": 122,
     "metadata": {},
     "output_type": "execute_result"
    }
   ],
   "source": [
    "jgtr.columns"
   ]
  },
  {
   "cell_type": "code",
   "execution_count": 123,
   "metadata": {},
   "outputs": [
    {
     "data": {
      "text/plain": [
       "Index(['차대번호', '검사방법', '검사종류', '검사판정', '무부하매연측정치1', '무부하매연측정치2', '무부하매연측정치3',\n",
       "       '무부하매연판정1', '검사일자', '주행거리', '무부하매연허용치1'],\n",
       "      dtype='object')"
      ]
     },
     "execution_count": 123,
     "metadata": {},
     "output_type": "execute_result"
    }
   ],
   "source": [
    "eetr.columns"
   ]
  },
  {
   "cell_type": "code",
   "execution_count": 124,
   "metadata": {},
   "outputs": [],
   "source": [
    "jgtr['정기정밀'] = '정기'\n",
    "eetr['정기정밀'] = '정밀'"
   ]
  },
  {
   "cell_type": "code",
   "execution_count": 125,
   "metadata": {},
   "outputs": [
    {
     "data": {
      "text/plain": [
       "(168095776, 12)"
      ]
     },
     "execution_count": 125,
     "metadata": {},
     "output_type": "execute_result"
    }
   ],
   "source": [
    "# 3m 1.9s\n",
    "ins = pd.concat([jgtr, eetr], ignore_index=True)\n",
    "ins.shape"
   ]
  },
  {
   "cell_type": "markdown",
   "metadata": {},
   "source": [
    "### 최근 검사만 활용"
   ]
  },
  {
   "cell_type": "code",
   "execution_count": 126,
   "metadata": {},
   "outputs": [
    {
     "data": {
      "text/plain": [
       "(34641431, 12)"
      ]
     },
     "execution_count": 126,
     "metadata": {},
     "output_type": "execute_result"
    }
   ],
   "source": [
    "# 4m 6.9s\n",
    "insm = ins.sort_values(['검사일자', '주행거리'], ascending=False).drop_duplicates('차대번호').reset_index(drop=True)\n",
    "insm.shape"
   ]
  },
  {
   "cell_type": "code",
   "execution_count": 185,
   "metadata": {},
   "outputs": [],
   "source": [
    "knd_dict = {\n",
    "    'A21P01':'정밀검사', \n",
    "    'A1904':'정기검사', \n",
    "    'A21T06':'종합검사(경과)', \n",
    "    'A21T05':'종합검사', \n",
    "    'A21S01':'특정검사', \n",
    "    'A1902':'재검사(2부재검사)',\n",
    "    'A21R02':'2부재검사(종합)', \n",
    "    'A21P02':'정밀검사(경과)', \n",
    "    'A1903':'정기(경과)검사', \n",
    "    'A21S04':'특정재검사(배출)', \n",
    "    'A21E01':'배출재검사', \n",
    "    'A21R01':'1부재검사(종합)',\n",
    "    'A21C02':'구조변경검사', \n",
    "    'A21002':'관능재검사(임시)', \n",
    "    'A21S03':'특정재검사(관능)', \n",
    "    'A21S02':'특정검사(경과)', \n",
    "    'A1901':'재검사(1부재검사)', \n",
    "    'A21T02':'종합(정밀)',\n",
    "    'A21E02':'배출재검사(구변)', \n",
    "    'A21T01':'종합(경과:정밀)', \n",
    "    'A21T04':'종합(정밀) 2부재검사', \n",
    "    'A21001':'관능재검사', \n",
    "    'A21T03':'종합(정밀) 1부재검사', \n",
    "    'A21TMP':'임시검사', \n",
    "}\n",
    "insm['검사종류'] = insm['검사종류'].replace(knd_dict)\n",
    "\n",
    "## 검사방법 코드 변환\n",
    "# 14.9s\n",
    "mth_dict = {\n",
    "    'A18A':'무부하검사(TSI)', \n",
    "    'A18B':'무부하검사(급가속)', \n",
    "    'A18C':'무부하검사(정지가동)',\n",
    "    'A2301':'무부하검사(급가속)', \n",
    "    'A2302':'무부하검사(정지가동)',\n",
    "    'A2303':'무부하검사(TSI)', \n",
    "    'A2304':'부하검사(LUG DOWN)', \n",
    "    'A2305':'부하검사(ASM-Idling)', \n",
    "    'A2306':'부하검사(KD-147)', \n",
    "    'A2307':'부하검사(ASM2525)', \n",
    "}\n",
    "insm['검사방법'] = insm['검사방법'].replace(mth_dict)"
   ]
  },
  {
   "cell_type": "markdown",
   "metadata": {},
   "source": [
    "## 등록&제원&정기&정밀 병합"
   ]
  },
  {
   "cell_type": "code",
   "execution_count": 186,
   "metadata": {},
   "outputs": [
    {
     "data": {
      "text/plain": [
       "(1390280, 36)"
      ]
     },
     "execution_count": 186,
     "metadata": {},
     "output_type": "execute_result"
    }
   ],
   "source": [
    "# 47.5s\n",
    "csi = cs.merge(insm, on='차대번호', how='left')\n",
    "csi.shape"
   ]
  },
  {
   "cell_type": "code",
   "execution_count": 187,
   "metadata": {},
   "outputs": [
    {
     "data": {
      "text/plain": [
       "Index(['차대번호', '차량번호', '법정동코드', '차량말소YN', '제원관리번호', '차량연식', '차종', '용도',\n",
       "       '최초등록일자', '제작일자', '검사유효일', '소유자구분', '배출가스인증번호', '배출가스등급', '연료', '차종유형',\n",
       "       '차명', '차종분류', '자동차형식', '제작사명', '엔진형식', '총중량', '적재중량', '엔진출력', '배기량',\n",
       "       '검사방법', '검사종류', '검사판정', '무부하매연측정치1', '무부하매연측정치2', '무부하매연측정치3',\n",
       "       '무부하매연판정1', '검사일자', '주행거리', '무부하매연허용치1', '정기정밀'],\n",
       "      dtype='object')"
      ]
     },
     "execution_count": 187,
     "metadata": {},
     "output_type": "execute_result"
    }
   ],
   "source": [
    "csi.columns"
   ]
  },
  {
   "cell_type": "markdown",
   "metadata": {},
   "source": [
    "## 지역정보 병합"
   ]
  },
  {
   "cell_type": "code",
   "execution_count": 188,
   "metadata": {},
   "outputs": [],
   "source": [
    "csi['법정동코드'] = csi['법정동코드'].astype('str')\n",
    "csi['법정동코드'] = csi['법정동코드'].str[:5] + '00000'\n",
    "csi['법정동코드'] = pd.to_numeric(csi['법정동코드'], errors='coerce')"
   ]
  },
  {
   "cell_type": "code",
   "execution_count": 189,
   "metadata": {},
   "outputs": [],
   "source": [
    "df = csi.merge(coder, on='법정동코드', how='left')"
   ]
  },
  {
   "cell_type": "code",
   "execution_count": 190,
   "metadata": {},
   "outputs": [
    {
     "data": {
      "text/plain": [
       "0"
      ]
     },
     "execution_count": 190,
     "metadata": {},
     "output_type": "execute_result"
    }
   ],
   "source": [
    "df['시도'].isnull().sum()"
   ]
  },
  {
   "cell_type": "code",
   "execution_count": 191,
   "metadata": {},
   "outputs": [],
   "source": [
    "df['법정동코드_mod'] = df['법정동코드'].copy()"
   ]
  },
  {
   "cell_type": "markdown",
   "metadata": {},
   "source": [
    "## 일일평균주행거리 계산"
   ]
  },
  {
   "cell_type": "code",
   "execution_count": 192,
   "metadata": {},
   "outputs": [
    {
     "data": {
      "text/plain": [
       "최초등록일자    float64\n",
       "검사일자      float64\n",
       "dtype: object"
      ]
     },
     "execution_count": 192,
     "metadata": {},
     "output_type": "execute_result"
    }
   ],
   "source": [
    "df[['최초등록일자', '검사일자']].dtypes"
   ]
  },
  {
   "cell_type": "code",
   "execution_count": 193,
   "metadata": {},
   "outputs": [],
   "source": [
    "df['검사일자'] = df['검사일자'].fillna(0)"
   ]
  },
  {
   "cell_type": "code",
   "execution_count": 194,
   "metadata": {},
   "outputs": [],
   "source": [
    "df['검사일자'] = df['검사일자'].astype('str')\n",
    "df['검사일자'] = df['검사일자'].str.split('.').str[0]"
   ]
  },
  {
   "cell_type": "code",
   "execution_count": 195,
   "metadata": {},
   "outputs": [],
   "source": [
    "df['최초등록일자'] = pd.to_datetime(df['최초등록일자'], errors='coerce')\n",
    "df['검사일자'] = pd.to_datetime(df['검사일자'], errors='coerce')"
   ]
  },
  {
   "cell_type": "code",
   "execution_count": 196,
   "metadata": {},
   "outputs": [],
   "source": [
    "df['기간차이'] = df['검사일자'] - df['최초등록일자']"
   ]
  },
  {
   "cell_type": "code",
   "execution_count": 197,
   "metadata": {},
   "outputs": [],
   "source": [
    "# 23.2s\n",
    "df['기간차이'] = df['기간차이'].astype('str')\n",
    "df['기간차이'] = df['기간차이'].str.split(' ').str[0]"
   ]
  },
  {
   "cell_type": "code",
   "execution_count": 198,
   "metadata": {},
   "outputs": [],
   "source": [
    "df['기간차이'] = pd.to_numeric(df['기간차이'], errors='coerce')"
   ]
  },
  {
   "cell_type": "code",
   "execution_count": 199,
   "metadata": {},
   "outputs": [],
   "source": [
    "df['일일평균주행거리'] = df['주행거리'] / (df['기간차이'])"
   ]
  },
  {
   "cell_type": "markdown",
   "metadata": {},
   "source": [
    "### 빈 값 kosis로 대체"
   ]
  },
  {
   "cell_type": "code",
   "execution_count": 200,
   "metadata": {},
   "outputs": [
    {
     "data": {
      "text/plain": [
       "((1137525, 41), (252755, 41))"
      ]
     },
     "execution_count": 200,
     "metadata": {},
     "output_type": "execute_result"
    }
   ],
   "source": [
    "df1y = df[df['일일평균주행거리'].isnull() == False]\n",
    "df1n = df[df['일일평균주행거리'].isnull() == True]\n",
    "df1y.shape, df1n.shape"
   ]
  },
  {
   "cell_type": "code",
   "execution_count": 201,
   "metadata": {},
   "outputs": [],
   "source": [
    "df1n = df1n.drop('일일평균주행거리', axis=1)"
   ]
  },
  {
   "cell_type": "code",
   "execution_count": 202,
   "metadata": {},
   "outputs": [
    {
     "data": {
      "text/plain": [
       "8253"
      ]
     },
     "execution_count": 202,
     "metadata": {},
     "output_type": "execute_result"
    }
   ],
   "source": [
    "df1nm = df1n.merge(kosisr, on=['시도', '시군구', '차종'], how='left')\n",
    "df1nm['일일평균주행거리'].isnull().sum()"
   ]
  },
  {
   "cell_type": "code",
   "execution_count": 203,
   "metadata": {},
   "outputs": [],
   "source": [
    "df2y = df1nm[df1nm['일일평균주행거리'].isnull() == False]\n",
    "df2n = df1nm[df1nm['일일평균주행거리'].isnull() == True]"
   ]
  },
  {
   "cell_type": "code",
   "execution_count": 204,
   "metadata": {},
   "outputs": [],
   "source": [
    "df2n = df2n.drop('일일평균주행거리', axis=1)"
   ]
  },
  {
   "cell_type": "code",
   "execution_count": 205,
   "metadata": {},
   "outputs": [],
   "source": [
    "df2nm = df2n.merge(kosisr.drop_duplicates(['시도', '차종'])[['시도', '차종', '일일평균주행거리']], on=['시도', '차종'], how='left')"
   ]
  },
  {
   "cell_type": "code",
   "execution_count": 206,
   "metadata": {},
   "outputs": [],
   "source": [
    "df3y = df2nm[df2nm['일일평균주행거리'].isnull() == False]\n",
    "df3n = df2nm[df2nm['일일평균주행거리'].isnull() == True]"
   ]
  },
  {
   "cell_type": "code",
   "execution_count": 207,
   "metadata": {},
   "outputs": [],
   "source": [
    "for ctpv, sgg, cd in df3n.loc[df3n['일일평균주행거리'].isnull() == True, ['시도', '시군구', '차종']].values:\n",
    "    try:\n",
    "        df3n.loc[(df3n['일일평균주행거리'].isnull() == True) & (df3n['시도'] == ctpv) & (df3n['시군구'] == sgg), '일일평균주행거리'] = kosisr.loc[(kosisr['시도'] == ctpv) & (kosisr['시군구'] == '소계') & (kosisr['차종'] == '합계'), '일일평균주행거리'].values\n",
    "    except:\n",
    "        df3n.loc[(df3n['일일평균주행거리'].isnull() == True) & (df3n['시도'].isnull() ==  True) & (df3n['시군구'].isnull() == True), '일일평균주행거리'] = kosisr.loc[(kosisr['시도'] == '서울특별시') & (kosisr['시군구'] == '소계') & (kosisr['차종'] == '합계'), '일일평균주행거리'].values"
   ]
  },
  {
   "cell_type": "code",
   "execution_count": 208,
   "metadata": {},
   "outputs": [],
   "source": [
    "df2nm = pd.concat([df3y, df3n], ignore_index=True)"
   ]
  },
  {
   "cell_type": "code",
   "execution_count": 209,
   "metadata": {},
   "outputs": [],
   "source": [
    "df1nm = pd.concat([df2y, df2nm], ignore_index=True)"
   ]
  },
  {
   "cell_type": "code",
   "execution_count": 210,
   "metadata": {},
   "outputs": [],
   "source": [
    "df = pd.concat([df1y, df1nm], ignore_index=True)"
   ]
  },
  {
   "cell_type": "markdown",
   "metadata": {},
   "source": [
    "## 저감장치구분 코드 변환"
   ]
  },
  {
   "cell_type": "code",
   "execution_count": 211,
   "metadata": {},
   "outputs": [
    {
     "data": {
      "text/plain": [
       "array(['1종', '1종+SCR', '3종', '엔진개조', '2종', '엔진교체', '삼원촉매'], dtype=object)"
      ]
     },
     "execution_count": 211,
     "metadata": {},
     "output_type": "execute_result"
    }
   ],
   "source": [
    "# 27.5s\n",
    "rdcdvc_dict = {\n",
    "    'A1001':'1종', \n",
    "    'A1002':'2종', \n",
    "    'A1003':'3종', \n",
    "    'A1004':'1종+SCR', \n",
    "    'A1005':'엔진개조', \n",
    "    'A1006':'엔진교체',\n",
    "    'A1007':'삼원촉매',\n",
    "}\n",
    "attr['저감장치구분'] = attr['저감장치구분'].replace(rdcdvc_dict)\n",
    "attr['저감장치구분'].unique()"
   ]
  },
  {
   "cell_type": "markdown",
   "metadata": {},
   "source": [
    "## 저감장치 부착 유무"
   ]
  },
  {
   "cell_type": "code",
   "execution_count": 212,
   "metadata": {},
   "outputs": [],
   "source": [
    "attr.loc[(attr['저감장치구분'] == '1종') | (attr['저감장치구분'] == '1종+SCR'), 'DPF_YN'] = '유'"
   ]
  },
  {
   "cell_type": "code",
   "execution_count": 213,
   "metadata": {},
   "outputs": [
    {
     "data": {
      "text/plain": [
       "DPF_YN\n",
       "NaN    532389\n",
       "유      481980\n",
       "Name: count, dtype: int64"
      ]
     },
     "execution_count": 213,
     "metadata": {},
     "output_type": "execute_result"
    }
   ],
   "source": [
    "attr['DPF_YN'].value_counts(dropna=False)"
   ]
  },
  {
   "cell_type": "code",
   "execution_count": 214,
   "metadata": {},
   "outputs": [
    {
     "data": {
      "text/plain": [
       "(1014369, 3)"
      ]
     },
     "execution_count": 214,
     "metadata": {},
     "output_type": "execute_result"
    }
   ],
   "source": [
    "attr = attr.sort_values('DPF_YN').drop_duplicates('차대번호').reset_index(drop=True)\n",
    "attr.shape"
   ]
  },
  {
   "cell_type": "markdown",
   "metadata": {},
   "source": [
    "### 저감장치 부착 유무 정보 병합"
   ]
  },
  {
   "cell_type": "code",
   "execution_count": 215,
   "metadata": {},
   "outputs": [
    {
     "data": {
      "text/plain": [
       "(1390280, 41)"
      ]
     },
     "execution_count": 215,
     "metadata": {},
     "output_type": "execute_result"
    }
   ],
   "source": [
    "df.shape"
   ]
  },
  {
   "cell_type": "code",
   "execution_count": 216,
   "metadata": {},
   "outputs": [
    {
     "data": {
      "text/plain": [
       "(1390280, 42)"
      ]
     },
     "execution_count": 216,
     "metadata": {},
     "output_type": "execute_result"
    }
   ],
   "source": [
    "df1 = df.merge(attr[['차대번호', 'DPF_YN']], on='차대번호', how='left')\n",
    "df1.shape"
   ]
  },
  {
   "cell_type": "markdown",
   "metadata": {},
   "source": [
    "## 4등급 result 파일 참고하여 DPF유무 수정"
   ]
  },
  {
   "cell_type": "code",
   "execution_count": 217,
   "metadata": {},
   "outputs": [],
   "source": [
    "rdf = df1.copy()"
   ]
  },
  {
   "cell_type": "code",
   "execution_count": 218,
   "metadata": {},
   "outputs": [
    {
     "data": {
      "text/plain": [
       "2092"
      ]
     },
     "execution_count": 218,
     "metadata": {},
     "output_type": "execute_result"
    }
   ],
   "source": [
    "len(set(rdf['차대번호'].unique()) - set(rs['차대번호'].unique()))"
   ]
  },
  {
   "cell_type": "code",
   "execution_count": 219,
   "metadata": {},
   "outputs": [
    {
     "data": {
      "text/plain": [
       "DPF_YN\n",
       "NaN    1390227\n",
       "유           53\n",
       "Name: count, dtype: int64"
      ]
     },
     "execution_count": 219,
     "metadata": {},
     "output_type": "execute_result"
    }
   ],
   "source": [
    "rdf['DPF_YN'].value_counts(dropna=False)"
   ]
  },
  {
   "cell_type": "code",
   "execution_count": 220,
   "metadata": {},
   "outputs": [
    {
     "data": {
      "text/plain": [
       "DPF유무_수정\n",
       "무       879481\n",
       "NaN     348400\n",
       "유       261897\n",
       "확인불가     12435\n",
       "Name: count, dtype: int64"
      ]
     },
     "execution_count": 220,
     "metadata": {},
     "output_type": "execute_result"
    }
   ],
   "source": [
    "rs['DPF유무_수정'].value_counts(dropna=False)"
   ]
  },
  {
   "cell_type": "code",
   "execution_count": 221,
   "metadata": {},
   "outputs": [
    {
     "data": {
      "text/plain": [
       "(1502213, 2)"
      ]
     },
     "execution_count": 221,
     "metadata": {},
     "output_type": "execute_result"
    }
   ],
   "source": [
    "rs = rs.drop_duplicates('차대번호').reset_index(drop=True)\n",
    "rs.shape"
   ]
  },
  {
   "cell_type": "code",
   "execution_count": 222,
   "metadata": {},
   "outputs": [],
   "source": [
    "rdf1 = rdf.merge(rs, on='차대번호', how='left')"
   ]
  },
  {
   "cell_type": "code",
   "execution_count": 223,
   "metadata": {},
   "outputs": [],
   "source": [
    "rdf1.loc[(rdf1['DPF_YN'] == '유') | (rdf1['DPF유무_수정'] == '유'), 'DPF_YN'] = '유'\n",
    "rdf1.loc[(rdf1['DPF유무_수정'] == '무'), 'DPF_YN'] = '무'\n",
    "rdf1.loc[(rdf1['DPF유무_수정'] == '확인불가'), 'DPF_YN'] = '확인불가'"
   ]
  },
  {
   "cell_type": "code",
   "execution_count": 224,
   "metadata": {},
   "outputs": [
    {
     "data": {
      "text/plain": [
       "DPF_YN\n",
       "무       806992\n",
       "NaN     337657\n",
       "유       234291\n",
       "확인불가     11340\n",
       "Name: count, dtype: int64"
      ]
     },
     "execution_count": 224,
     "metadata": {},
     "output_type": "execute_result"
    }
   ],
   "source": [
    "rdf1['DPF_YN'].value_counts(dropna=False)"
   ]
  },
  {
   "cell_type": "code",
   "execution_count": 225,
   "metadata": {},
   "outputs": [
    {
     "data": {
      "text/plain": [
       "Index(['차대번호', '차량번호', '법정동코드', '차량말소YN', '제원관리번호', '차량연식', '차종', '용도',\n",
       "       '최초등록일자', '제작일자', '검사유효일', '소유자구분', '배출가스인증번호', '배출가스등급', '연료', '차종유형',\n",
       "       '차명', '차종분류', '자동차형식', '제작사명', '엔진형식', '총중량', '적재중량', '엔진출력', '배기량',\n",
       "       '검사방법', '검사종류', '검사판정', '무부하매연측정치1', '무부하매연측정치2', '무부하매연측정치3',\n",
       "       '무부하매연판정1', '검사일자', '주행거리', '무부하매연허용치1', '정기정밀', '시도', '시군구',\n",
       "       '법정동코드_mod', '기간차이', '일일평균주행거리', 'DPF_YN', 'DPF유무_수정'],\n",
       "      dtype='object')"
      ]
     },
     "execution_count": 225,
     "metadata": {},
     "output_type": "execute_result"
    }
   ],
   "source": [
    "rdf1.columns"
   ]
  },
  {
   "cell_type": "code",
   "execution_count": 226,
   "metadata": {},
   "outputs": [],
   "source": [
    "df1 = rdf1.drop('DPF유무_수정', axis=1)"
   ]
  },
  {
   "cell_type": "code",
   "execution_count": 227,
   "metadata": {},
   "outputs": [
    {
     "data": {
      "text/plain": [
       "(1390280, 42)"
      ]
     },
     "execution_count": 227,
     "metadata": {},
     "output_type": "execute_result"
    }
   ],
   "source": [
    "df1.shape"
   ]
  },
  {
   "cell_type": "markdown",
   "metadata": {},
   "source": [
    "## 4등급 차량(휘발유, 경유, LPG) 추출"
   ]
  },
  {
   "cell_type": "code",
   "execution_count": 228,
   "metadata": {},
   "outputs": [
    {
     "data": {
      "text/plain": [
       "연료\n",
       "경유             1052802\n",
       "휘발유             313038\n",
       "LPG(액화석유가스)      24355\n",
       "NaN                 49\n",
       "기타연료                34\n",
       "CNG(압축천연가스)          1\n",
       "알코올                  1\n",
       "Name: count, dtype: int64"
      ]
     },
     "execution_count": 228,
     "metadata": {},
     "output_type": "execute_result"
    }
   ],
   "source": [
    "df1['연료'].value_counts(dropna=False)"
   ]
  },
  {
   "cell_type": "code",
   "execution_count": 229,
   "metadata": {},
   "outputs": [
    {
     "data": {
      "text/plain": [
       "(85, 42)"
      ]
     },
     "execution_count": 229,
     "metadata": {},
     "output_type": "execute_result"
    }
   ],
   "source": [
    "etc = df1[(df1['연료'] == '알코올') | (df1['연료'] == 'CNG(압축천연가스)') | (df1['연료'] == '기타연료') | (df1['연료'].isnull() == True)].reset_index(drop=True)\n",
    "etc.shape"
   ]
  },
  {
   "cell_type": "code",
   "execution_count": 230,
   "metadata": {},
   "outputs": [
    {
     "data": {
      "text/plain": [
       "(1390195, 42)"
      ]
     },
     "execution_count": 230,
     "metadata": {},
     "output_type": "execute_result"
    }
   ],
   "source": [
    "dgl = df1[(df1['연료'] == '휘발유') | (df1['연료'] == '경유') | (df1['연료'] == 'LPG(액화석유가스)')].reset_index(drop=True)\n",
    "dgl.shape"
   ]
  },
  {
   "cell_type": "code",
   "execution_count": 231,
   "metadata": {},
   "outputs": [
    {
     "data": {
      "text/plain": [
       "연료\n",
       "경유             1052802\n",
       "휘발유             313038\n",
       "LPG(액화석유가스)      24355\n",
       "Name: count, dtype: int64"
      ]
     },
     "execution_count": 231,
     "metadata": {},
     "output_type": "execute_result"
    }
   ],
   "source": [
    "dgl['연료'].value_counts(dropna=False)"
   ]
  },
  {
   "cell_type": "markdown",
   "metadata": {},
   "source": [
    "### 차령 정보 계산 및 데이터 추가"
   ]
  },
  {
   "cell_type": "code",
   "execution_count": 232,
   "metadata": {},
   "outputs": [
    {
     "data": {
      "text/plain": [
       "2023"
      ]
     },
     "execution_count": 232,
     "metadata": {},
     "output_type": "execute_result"
    }
   ],
   "source": [
    "current_yr = int(datetime.today().strftime(\"%Y\"))\n",
    "current_yr"
   ]
  },
  {
   "cell_type": "code",
   "execution_count": 233,
   "metadata": {},
   "outputs": [
    {
     "data": {
      "text/plain": [
       "count   1390195.00\n",
       "mean         17.27\n",
       "std           6.99\n",
       "min           3.00\n",
       "25%          13.00\n",
       "50%          14.00\n",
       "75%          17.00\n",
       "max         122.00\n",
       "Name: 차령, dtype: float64"
      ]
     },
     "execution_count": 233,
     "metadata": {},
     "output_type": "execute_result"
    }
   ],
   "source": [
    "dgl['차령'] = current_yr - dgl['차량연식']\n",
    "dgl['차령'].describe()"
   ]
  },
  {
   "cell_type": "markdown",
   "metadata": {},
   "source": [
    "## 시군구명 앞쪽만 사용\n",
    "- 시군구명 앞지역명만 추출"
   ]
  },
  {
   "cell_type": "code",
   "execution_count": 234,
   "metadata": {},
   "outputs": [],
   "source": [
    "dgl['시군구_수정'] = dgl['시군구'].str.split(' ').str[0]"
   ]
  },
  {
   "cell_type": "markdown",
   "metadata": {},
   "source": [
    "# 자동차-엔진 가열(Hot-start) 배출"
   ]
  },
  {
   "cell_type": "markdown",
   "metadata": {},
   "source": [
    "## 배출량 식\n",
    "$$E_{i, j} = VKT \\times {EF_i \\over {1000}} \\times DF \\times (1 - {R \\over {100}})$$\n",
    "\n",
    "$E_{i, j}$ : 자동차 $j$의 도로주행시 발생한 오염물질 $i$의 배출량($kg/yr$)\n",
    "\n",
    "$VKT$ : 주행거리($km/yr$)\n",
    "\n",
    "$EF_i$ : 차종별, 연료별, 연식별, 차속별 배출계수($g/km$)\n",
    "\n",
    "$DF$ : 열화계수\n",
    "\n",
    "$R$ : 저감장치 부착 효율(%)"
   ]
  },
  {
   "cell_type": "code",
   "execution_count": 106,
   "metadata": {},
   "outputs": [],
   "source": [
    "df2 = dgl.copy()"
   ]
  },
  {
   "cell_type": "markdown",
   "metadata": {},
   "source": [
    "## 주행거리(VKT)\n",
    "- [현재 설정] \"용도별_차종별_시군구별_자동차주행거리\" 자료(KOSIS)(2021)의 1일 평균주행거리 * 365 = 주행거리(km/yr)"
   ]
  },
  {
   "cell_type": "code",
   "execution_count": 107,
   "metadata": {},
   "outputs": [],
   "source": [
    "df2['VKT'] = df2['일일평균주행거리'] * 365"
   ]
  },
  {
   "cell_type": "code",
   "execution_count": 108,
   "metadata": {},
   "outputs": [
    {
     "data": {
      "text/plain": [
       "Index(['차대번호', '차량번호', '법정동코드', '차량말소YN', '제원관리번호', '차량연식', '차종', '용도',\n",
       "       '최초등록일자', '제작일자', '검사유효일', '소유자구분', '배출가스인증번호', '배출가스등급', '연료', '차종유형',\n",
       "       '차명', '차종분류', '자동차형식', '제작사명', '엔진형식', '총중량', '적재중량', '엔진출력', '배기량',\n",
       "       '검사일자', '주행거리', '정기정밀', '시도', '시군구', '법정동코드_mod', '기간차이', '일일평균주행거리',\n",
       "       'DPF_YN', '차령', '시군구_수정', 'VKT'],\n",
       "      dtype='object')"
      ]
     },
     "execution_count": 108,
     "metadata": {},
     "output_type": "execute_result"
    }
   ],
   "source": [
    "df2.columns"
   ]
  },
  {
   "cell_type": "markdown",
   "metadata": {},
   "source": [
    "## DF(열화계수)\n",
    "- 필요한 정보 : 연료, 차종, 차종유형, 연식, 차령\n",
    "- 조건 수정(2023.04.20, 최)\n",
    "    - 특수 소형 = 승용 소형\n",
    "    - 승합 대형 = 화물 대형"
   ]
  },
  {
   "cell_type": "code",
   "execution_count": 109,
   "metadata": {},
   "outputs": [
    {
     "data": {
      "text/plain": [
       "array(['경유', '휘발유', 'LPG(액화석유가스)'], dtype=object)"
      ]
     },
     "execution_count": 109,
     "metadata": {},
     "output_type": "execute_result"
    }
   ],
   "source": [
    "df2['연료'].unique()"
   ]
  },
  {
   "cell_type": "code",
   "execution_count": 110,
   "metadata": {},
   "outputs": [],
   "source": [
    "DF_col = ['연료', '차종', '차종유형', '차량연식', '차령']"
   ]
  },
  {
   "cell_type": "code",
   "execution_count": 111,
   "metadata": {},
   "outputs": [
    {
     "data": {
      "text/html": [
       "<div>\n",
       "<style scoped>\n",
       "    .dataframe tbody tr th:only-of-type {\n",
       "        vertical-align: middle;\n",
       "    }\n",
       "\n",
       "    .dataframe tbody tr th {\n",
       "        vertical-align: top;\n",
       "    }\n",
       "\n",
       "    .dataframe thead th {\n",
       "        text-align: right;\n",
       "    }\n",
       "</style>\n",
       "<table border=\"1\" class=\"dataframe\">\n",
       "  <thead>\n",
       "    <tr style=\"text-align: right;\">\n",
       "      <th></th>\n",
       "      <th>연료</th>\n",
       "      <th>차종</th>\n",
       "      <th>차종유형</th>\n",
       "      <th>차량연식</th>\n",
       "      <th>차령</th>\n",
       "    </tr>\n",
       "  </thead>\n",
       "  <tbody>\n",
       "    <tr>\n",
       "      <th>0</th>\n",
       "      <td>경유</td>\n",
       "      <td>화물</td>\n",
       "      <td>대형</td>\n",
       "      <td>2008</td>\n",
       "      <td>15</td>\n",
       "    </tr>\n",
       "    <tr>\n",
       "      <th>1</th>\n",
       "      <td>경유</td>\n",
       "      <td>화물</td>\n",
       "      <td>중형</td>\n",
       "      <td>2009</td>\n",
       "      <td>14</td>\n",
       "    </tr>\n",
       "    <tr>\n",
       "      <th>2</th>\n",
       "      <td>경유</td>\n",
       "      <td>화물</td>\n",
       "      <td>소형</td>\n",
       "      <td>2009</td>\n",
       "      <td>14</td>\n",
       "    </tr>\n",
       "    <tr>\n",
       "      <th>3</th>\n",
       "      <td>경유</td>\n",
       "      <td>화물</td>\n",
       "      <td>소형</td>\n",
       "      <td>2009</td>\n",
       "      <td>14</td>\n",
       "    </tr>\n",
       "    <tr>\n",
       "      <th>4</th>\n",
       "      <td>경유</td>\n",
       "      <td>화물</td>\n",
       "      <td>소형</td>\n",
       "      <td>2009</td>\n",
       "      <td>14</td>\n",
       "    </tr>\n",
       "  </tbody>\n",
       "</table>\n",
       "</div>"
      ],
      "text/plain": [
       "   연료  차종 차종유형  차량연식  차령\n",
       "0  경유  화물   대형  2008  15\n",
       "1  경유  화물   중형  2009  14\n",
       "2  경유  화물   소형  2009  14\n",
       "3  경유  화물   소형  2009  14\n",
       "4  경유  화물   소형  2009  14"
      ]
     },
     "execution_count": 111,
     "metadata": {},
     "output_type": "execute_result"
    }
   ],
   "source": [
    "df2[DF_col].head()"
   ]
  },
  {
   "cell_type": "code",
   "execution_count": 112,
   "metadata": {},
   "outputs": [
    {
     "data": {
      "text/plain": [
       "array(['경유', '화물', '대형', 2008, 15], dtype=object)"
      ]
     },
     "execution_count": 112,
     "metadata": {},
     "output_type": "execute_result"
    }
   ],
   "source": [
    "df2[DF_col].values[0]"
   ]
  },
  {
   "cell_type": "markdown",
   "metadata": {},
   "source": [
    "### ❗ DF(열화계수) 코드\n",
    "- 연료, 차종, 차종유형 설정에 해당되지 않는 차량의 열화계수 값 설정\n",
    "    - 현재 설정값 : np.nan\n",
    "    - 고려 설정값 : 1"
   ]
  },
  {
   "cell_type": "code",
   "execution_count": 113,
   "metadata": {},
   "outputs": [
    {
     "name": "stderr",
     "output_type": "stream",
     "text": [
      "  4%|▍         | 59922/1515624 [00:00<00:04, 300693.01it/s]"
     ]
    },
    {
     "name": "stderr",
     "output_type": "stream",
     "text": [
      "100%|██████████| 1515624/1515624 [00:04<00:00, 305490.95it/s]\n"
     ]
    }
   ],
   "source": [
    "# about 5.0s\n",
    "DF_CO_list = []\n",
    "DF_HC_list = []\n",
    "DF_PM_list = []\n",
    "DF_NOx_list = []\n",
    "# '연료', '차종', '차종유형', '차량연식', '차령'\n",
    "for fuel, car_type, car_size, car_birth, car_age in tqdm(df2[DF_col].values):    \n",
    "    if fuel == '경유':\n",
    "        if (car_type == '승용') or ( (car_type == '특수') and (car_size == '소형') ): # 최 확인(2023.04.20) : \"특수 소형\" -> \"승용 소형\" 조건으로 계산\n",
    "            warranty = 5\n",
    "            if car_age <= warranty:\n",
    "                DF_CO = 1\n",
    "                DF_HC = 1\n",
    "                DF_PM = 1\n",
    "                DF_NOx = 1\n",
    "            else:\n",
    "                DF_CO = 1 + (car_age - warranty)*0.05\n",
    "                DF_HC = 1 + (car_age - warranty)*0.05\n",
    "                DF_PM = 1 + (car_age - warranty)*0.05\n",
    "                DF_NOx = 1 + (car_age - warranty)*0.02\n",
    "                if DF_CO > 1.5:\n",
    "                    DF_CO = 1.5\n",
    "                if DF_HC > 1.5:\n",
    "                    DF_HC = 1.5\n",
    "                if DF_PM > 1.5:\n",
    "                    DF_PM = 1.5\n",
    "                if DF_NOx > 1.2:\n",
    "                    DF_NOx = 1.2\n",
    "        elif car_type == '승합':\n",
    "            if car_size == '소형' or car_size == '중형':\n",
    "                warranty = 5\n",
    "                if car_age <= warranty:\n",
    "                    DF_CO = 1\n",
    "                    DF_HC = 1\n",
    "                    DF_PM = 1\n",
    "                    DF_NOx = 1\n",
    "                else:\n",
    "                    DF_CO = 1 + (car_age - warranty)*0.05\n",
    "                    DF_HC = 1 + (car_age - warranty)*0.05\n",
    "                    DF_PM = 1 + (car_age - warranty)*0.05\n",
    "                    DF_NOx = 1 + (car_age - warranty)*0.02\n",
    "                    if DF_CO > 1.5:\n",
    "                        DF_CO = 1.5\n",
    "                    if DF_HC > 1.5:\n",
    "                        DF_HC = 1.5\n",
    "                    if DF_PM > 1.5:\n",
    "                        DF_PM = 1.5\n",
    "                    if DF_NOx > 1.2:\n",
    "                        DF_NOx = 1.2\n",
    "            elif car_size == '대형':\n",
    "                warranty = 3\n",
    "                if car_age <= warranty:\n",
    "                    DF_CO = 1\n",
    "                    DF_HC = 1\n",
    "                    DF_PM = 1\n",
    "                    DF_NOx = 1\n",
    "                else:\n",
    "                    DF_CO = 1 + (car_age - warranty)*0.05\n",
    "                    DF_HC = 1 + (car_age - warranty)*0.05\n",
    "                    DF_PM = 1 + (car_age - warranty)*0.05\n",
    "                    DF_NOx = 1 + (car_age - warranty)*0.02\n",
    "                    if DF_CO > 1.5:\n",
    "                        DF_CO = 1.5\n",
    "                    if DF_HC > 1.5:\n",
    "                        DF_HC = 1.5\n",
    "                    if DF_PM > 1.5:\n",
    "                        DF_PM = 1.5\n",
    "                    if DF_NOx > 1.2:\n",
    "                        DF_NOx = 1.2\n",
    "        elif car_type == '화물':\n",
    "            # car_size : 경, 소, 중, 대\n",
    "            warranty = 5\n",
    "            if car_age <= warranty:\n",
    "                DF_CO = 1\n",
    "                DF_HC = 1\n",
    "                DF_PM = 1\n",
    "                DF_NOx = 1\n",
    "            else:\n",
    "                DF_CO = 1 + (car_age - warranty)*0.05\n",
    "                DF_HC = 1 + (car_age - warranty)*0.05\n",
    "                DF_PM = 1 + (car_age - warranty)*0.05\n",
    "                DF_NOx = 1 + (car_age - warranty)*0.02\n",
    "                if DF_CO > 1.5:\n",
    "                    DF_CO = 1.5\n",
    "                if DF_HC > 1.5:\n",
    "                    DF_HC = 1.5\n",
    "                if DF_PM > 1.5:\n",
    "                    DF_PM = 1.5\n",
    "                if DF_NOx > 1.2:\n",
    "                    DF_NOx = 1.2\n",
    "        elif car_type == '특수':\n",
    "            # car_size : 중, 대\n",
    "            warranty = 5\n",
    "            if car_age <= warranty:\n",
    "                DF_CO = 1\n",
    "                DF_HC = 1\n",
    "                DF_PM = 1\n",
    "                DF_NOx = 1\n",
    "            else:\n",
    "                DF_CO = 1 + (car_age - warranty)*0.05\n",
    "                DF_HC = 1 + (car_age - warranty)*0.05\n",
    "                DF_PM = 1 + (car_age - warranty)*0.05\n",
    "                DF_NOx = 1 + (car_age - warranty)*0.02\n",
    "                if DF_CO > 1.5:\n",
    "                    DF_CO = 1.5\n",
    "                if DF_HC > 1.5:\n",
    "                    DF_HC = 1.5\n",
    "                if DF_PM > 1.5:\n",
    "                    DF_PM = 1.5\n",
    "                if DF_NOx > 1.2:\n",
    "                    DF_NOx = 1.2\n",
    "    elif (fuel == '휘발유') or (fuel == 'LPG(액화석유가스)'):\n",
    "        if car_type == '승용':\n",
    "            # 경, 소, 중, 대\n",
    "            if car_birth <= 2000:\n",
    "                warranty = 5\n",
    "                if car_age <= warranty:\n",
    "                    DF_CO = 1\n",
    "                    DF_HC = 1\n",
    "                    DF_PM = 1\n",
    "                    DF_NOx = 1\n",
    "                else:\n",
    "                    DF_CO = 1 + (car_age - warranty)*0.1\n",
    "                    DF_HC = 1 + (car_age - warranty)*0.1\n",
    "                    DF_PM = 1 + (car_age - warranty)*0.1\n",
    "                    DF_NOx = 1 + (car_age - warranty)*0.1\n",
    "                    if DF_CO > 2.0:\n",
    "                        DF_CO = 2.0\n",
    "                    if DF_HC > 2.0:\n",
    "                        DF_HC = 2.0\n",
    "                    if DF_PM > 2.0:\n",
    "                        DF_PM = 2.0\n",
    "                    if DF_NOx > 2.0:\n",
    "                        DF_NOx = 2.0\n",
    "            elif car_birth >= 2001:\n",
    "                warranty = 10\n",
    "                if car_age <= warranty:\n",
    "                    DF_CO = 1\n",
    "                    DF_HC = 1\n",
    "                    DF_PM = 1\n",
    "                    DF_NOx = 1\n",
    "                else:\n",
    "                    DF_CO = 1 + (car_age - warranty)*0.1\n",
    "                    DF_HC = 1 + (car_age - warranty)*0.1\n",
    "                    DF_PM = 1 + (car_age - warranty)*0.1\n",
    "                    DF_NOx = 1 + (car_age - warranty)*0.1\n",
    "                    if DF_CO > 2.0:\n",
    "                        DF_CO = 2.0\n",
    "                    if DF_HC > 2.0:\n",
    "                        DF_HC = 2.0\n",
    "                    if DF_PM > 2.0:\n",
    "                        DF_PM = 2.0\n",
    "                    if DF_NOx > 2.0:\n",
    "                        DF_NOx = 2.0\n",
    "        elif car_type == '승합':\n",
    "            if car_size == '경형':\n",
    "                warranty = 5\n",
    "                if car_age <= warranty:\n",
    "                    DF_CO = 1\n",
    "                    DF_HC = 1\n",
    "                    DF_PM = 1\n",
    "                    DF_NOx = 1\n",
    "                else:\n",
    "                    DF_CO = 1 + (car_age - warranty)*0.1\n",
    "                    DF_HC = 1 + (car_age - warranty)*0.1\n",
    "                    DF_PM = 1 + (car_age - warranty)*0.1\n",
    "                    DF_NOx = 1 + (car_age - warranty)*0.1\n",
    "                    if DF_CO > 2.0:\n",
    "                        DF_CO = 2.0\n",
    "                    if DF_HC > 2.0:\n",
    "                        DF_HC = 2.0\n",
    "                    if DF_PM > 2.0:\n",
    "                        DF_PM = 2.0\n",
    "                    if DF_NOx > 2.0:\n",
    "                        DF_NOx = 2.0\n",
    "            elif (car_size == '소형') or (car_size == '중형'):\n",
    "                if car_birth <= 2005:\n",
    "                    warranty = 5\n",
    "                    if car_age <= warranty:\n",
    "                        DF_CO = 1\n",
    "                        DF_HC = 1\n",
    "                        DF_PM = 1\n",
    "                        DF_NOx = 1\n",
    "                    else:\n",
    "                        DF_CO = 1 + (car_age - warranty)*0.1\n",
    "                        DF_HC = 1 + (car_age - warranty)*0.1\n",
    "                        DF_PM = 1 + (car_age - warranty)*0.1\n",
    "                        DF_NOx = 1 + (car_age - warranty)*0.1\n",
    "                        if DF_CO > 2.0:\n",
    "                            DF_CO = 2.0\n",
    "                        if DF_HC > 2.0:\n",
    "                            DF_HC = 2.0\n",
    "                        if DF_PM > 2.0:\n",
    "                            DF_PM = 2.0\n",
    "                        if DF_NOx > 2.0:\n",
    "                            DF_NOx = 2.0\n",
    "                elif car_birth >= 2006:\n",
    "                    warranty = 10\n",
    "                    if car_age <= warranty:\n",
    "                        DF_CO = 1\n",
    "                        DF_HC = 1\n",
    "                        DF_PM = 1\n",
    "                        DF_NOx = 1\n",
    "                    else:\n",
    "                        DF_CO = 1 + (car_age - warranty)*0.1\n",
    "                        DF_HC = 1 + (car_age - warranty)*0.1\n",
    "                        DF_PM = 1 + (car_age - warranty)*0.1\n",
    "                        DF_NOx = 1 + (car_age - warranty)*0.1\n",
    "                        if DF_CO > 2.0:\n",
    "                            DF_CO = 2.0\n",
    "                        if DF_HC > 2.0:\n",
    "                            DF_HC = 2.0\n",
    "                        if DF_PM > 2.0:\n",
    "                            DF_PM = 2.0\n",
    "                        if DF_NOx > 2.0:\n",
    "                            DF_NOx = 2.0\n",
    "        elif (car_type == '화물') or ( (car_type == '승합') and (car_size == '대형')): # 최 확인(2023.04.20) : 습합 대형 -> 화물 대형 조건으로 계산\n",
    "            # 경, 소, 중, 대\n",
    "            warranty = 5\n",
    "            if car_age <= warranty:\n",
    "                DF_CO = 1\n",
    "                DF_HC = 1\n",
    "                DF_PM = 1\n",
    "                DF_NOx = 1\n",
    "            else:\n",
    "                DF_CO = 1 + (car_age - warranty)*0.1\n",
    "                DF_HC = 1 + (car_age - warranty)*0.1\n",
    "                DF_PM = 1 + (car_age - warranty)*0.1\n",
    "                DF_NOx = 1 + (car_age - warranty)*0.1\n",
    "                if DF_CO > 2.0:\n",
    "                    DF_CO = 2.0\n",
    "                if DF_HC > 2.0:\n",
    "                    DF_HC = 2.0\n",
    "                if DF_PM > 2.0:\n",
    "                    DF_PM = 2.0\n",
    "                if DF_NOx > 2.0:\n",
    "                    DF_NOx = 2.0\n",
    "        elif car_type == '특수':\n",
    "            # 중, 대\n",
    "            warranty = 5\n",
    "            if car_age <= warranty:\n",
    "                DF_CO = 1\n",
    "                DF_HC = 1\n",
    "                DF_PM = 1\n",
    "                DF_NOx = 1\n",
    "            else:\n",
    "                DF_CO = 1 + (car_age - warranty)*0.1\n",
    "                DF_HC = 1 + (car_age - warranty)*0.1\n",
    "                DF_PM = 1 + (car_age - warranty)*0.1\n",
    "                DF_NOx = 1 + (car_age - warranty)*0.1\n",
    "                if DF_CO > 2.0:\n",
    "                    DF_CO = 2.0\n",
    "                if DF_HC > 2.0:\n",
    "                    DF_HC = 2.0\n",
    "                if DF_PM > 2.0:\n",
    "                    DF_PM = 2.0\n",
    "                if DF_NOx > 2.0:\n",
    "                    DF_NOx = 2.0\n",
    "    else:\n",
    "        # 설정 고민\n",
    "            # 고려 : 1\n",
    "        # DF_CO, DF_HC, DF_PM, DF_NOx = np.nan, np.nan, np.nan, np.nan\n",
    "        DF_CO, DF_HC, DF_PM, DF_NOx = 1, 1, 1, 1\n",
    "\n",
    "    # 열화계수(DF) 리스트에 저장\n",
    "    DF_CO_list.append(DF_CO)\n",
    "    DF_HC_list.append(DF_HC)\n",
    "    DF_PM_list.append(DF_PM)\n",
    "    DF_NOx_list.append(DF_NOx)"
   ]
  },
  {
   "cell_type": "code",
   "execution_count": 114,
   "metadata": {},
   "outputs": [
    {
     "data": {
      "text/plain": [
       "1515624"
      ]
     },
     "execution_count": 114,
     "metadata": {},
     "output_type": "execute_result"
    }
   ],
   "source": [
    "df2.shape[0]"
   ]
  },
  {
   "cell_type": "code",
   "execution_count": 115,
   "metadata": {},
   "outputs": [
    {
     "data": {
      "text/plain": [
       "(1515624, 1515624, 1515624, 1515624)"
      ]
     },
     "execution_count": 115,
     "metadata": {},
     "output_type": "execute_result"
    }
   ],
   "source": [
    "len(DF_CO_list), len(DF_HC_list), len(DF_PM_list), len(DF_NOx_list)"
   ]
  },
  {
   "cell_type": "code",
   "execution_count": 116,
   "metadata": {},
   "outputs": [],
   "source": [
    "df2['DF_CO'] = DF_CO_list\n",
    "df2['DF_HC'] = DF_HC_list\n",
    "df2['DF_PM'] = DF_PM_list\n",
    "df2['DF_NOx'] = DF_NOx_list"
   ]
  },
  {
   "cell_type": "code",
   "execution_count": 117,
   "metadata": {},
   "outputs": [
    {
     "data": {
      "text/html": [
       "<div>\n",
       "<style scoped>\n",
       "    .dataframe tbody tr th:only-of-type {\n",
       "        vertical-align: middle;\n",
       "    }\n",
       "\n",
       "    .dataframe tbody tr th {\n",
       "        vertical-align: top;\n",
       "    }\n",
       "\n",
       "    .dataframe thead th {\n",
       "        text-align: right;\n",
       "    }\n",
       "</style>\n",
       "<table border=\"1\" class=\"dataframe\">\n",
       "  <thead>\n",
       "    <tr style=\"text-align: right;\">\n",
       "      <th></th>\n",
       "      <th>연료</th>\n",
       "      <th>차종</th>\n",
       "      <th>차종유형</th>\n",
       "      <th>차량연식</th>\n",
       "      <th>차령</th>\n",
       "      <th>DF_CO</th>\n",
       "      <th>DF_HC</th>\n",
       "      <th>DF_PM</th>\n",
       "      <th>DF_NOx</th>\n",
       "    </tr>\n",
       "  </thead>\n",
       "  <tbody>\n",
       "    <tr>\n",
       "      <th>57</th>\n",
       "      <td>경유</td>\n",
       "      <td>승합</td>\n",
       "      <td>중형</td>\n",
       "      <td>2019</td>\n",
       "      <td>4</td>\n",
       "      <td>1.00</td>\n",
       "      <td>1.00</td>\n",
       "      <td>1.00</td>\n",
       "      <td>1.00</td>\n",
       "    </tr>\n",
       "    <tr>\n",
       "      <th>60</th>\n",
       "      <td>경유</td>\n",
       "      <td>승합</td>\n",
       "      <td>중형</td>\n",
       "      <td>2019</td>\n",
       "      <td>4</td>\n",
       "      <td>1.00</td>\n",
       "      <td>1.00</td>\n",
       "      <td>1.00</td>\n",
       "      <td>1.00</td>\n",
       "    </tr>\n",
       "    <tr>\n",
       "      <th>61</th>\n",
       "      <td>경유</td>\n",
       "      <td>승합</td>\n",
       "      <td>중형</td>\n",
       "      <td>2019</td>\n",
       "      <td>4</td>\n",
       "      <td>1.00</td>\n",
       "      <td>1.00</td>\n",
       "      <td>1.00</td>\n",
       "      <td>1.00</td>\n",
       "    </tr>\n",
       "    <tr>\n",
       "      <th>62</th>\n",
       "      <td>경유</td>\n",
       "      <td>승합</td>\n",
       "      <td>중형</td>\n",
       "      <td>2019</td>\n",
       "      <td>4</td>\n",
       "      <td>1.00</td>\n",
       "      <td>1.00</td>\n",
       "      <td>1.00</td>\n",
       "      <td>1.00</td>\n",
       "    </tr>\n",
       "    <tr>\n",
       "      <th>86</th>\n",
       "      <td>경유</td>\n",
       "      <td>화물</td>\n",
       "      <td>대형</td>\n",
       "      <td>2020</td>\n",
       "      <td>3</td>\n",
       "      <td>1.00</td>\n",
       "      <td>1.00</td>\n",
       "      <td>1.00</td>\n",
       "      <td>1.00</td>\n",
       "    </tr>\n",
       "  </tbody>\n",
       "</table>\n",
       "</div>"
      ],
      "text/plain": [
       "    연료  차종 차종유형  차량연식  차령  DF_CO  DF_HC  DF_PM  DF_NOx\n",
       "57  경유  승합   중형  2019   4   1.00   1.00   1.00    1.00\n",
       "60  경유  승합   중형  2019   4   1.00   1.00   1.00    1.00\n",
       "61  경유  승합   중형  2019   4   1.00   1.00   1.00    1.00\n",
       "62  경유  승합   중형  2019   4   1.00   1.00   1.00    1.00\n",
       "86  경유  화물   대형  2020   3   1.00   1.00   1.00    1.00"
      ]
     },
     "execution_count": 117,
     "metadata": {},
     "output_type": "execute_result"
    }
   ],
   "source": [
    "check_DF_col = ['DF_CO', 'DF_HC', 'DF_PM', 'DF_NOx']\n",
    "df2.loc[df2['차령'] < 10, DF_col + check_DF_col].head()"
   ]
  },
  {
   "cell_type": "markdown",
   "metadata": {},
   "source": [
    "## 저감장치 부착 효율(R) 계산\n",
    "- DPF유무_수정 : 유 -> DPF로 가정하고 진행\n",
    "- 휘발성 유기 화합물(Volatile Organic Compounds:VOC) : 생활주변에서 흔히 사용하는 탄화수소류가 거의 해당됨.\n",
    "- 저감장치별 물질 제거 효율(%)\n",
    "\n",
    "    장치종류|CO|VOC|PM\n",
    "    :-:|:-:|:-:|:-:\n",
    "    DPF|99.5|90|83.6\n",
    "    pDPF|94.6|89.3|56\n",
    "    DOC|85.4|72|35"
   ]
  },
  {
   "cell_type": "code",
   "execution_count": 118,
   "metadata": {},
   "outputs": [],
   "source": [
    "df2.loc[df2['DPF_YN'] == '유', ['R_CO', 'R_HC', 'R_PM']] = 99.5, 90, 83.6"
   ]
  },
  {
   "cell_type": "code",
   "execution_count": 119,
   "metadata": {},
   "outputs": [],
   "source": [
    "check_R_col = ['R_CO', 'R_HC', 'R_PM']"
   ]
  },
  {
   "cell_type": "code",
   "execution_count": 120,
   "metadata": {},
   "outputs": [],
   "source": [
    "df2[check_R_col] = df2[check_R_col].fillna(0)"
   ]
  },
  {
   "cell_type": "markdown",
   "metadata": {},
   "source": [
    "## ❗ 배출계수(EFi)\n",
    "- 연료, 차종, 차종유형 설정에 해당되지 않는 차량의 배출계수 값 설정\n",
    "    - 현재 설정값 : np.nan\n",
    "    - 고려 설정값 : 1\n",
    "- 조건 수정(2023.04.20, 최)\n",
    "    - 특수 중형 = 승합 중형\n",
    "    - 화물 중형 = 승합 중형\n",
    "    - 화물 대형 = 승합 대형\n",
    "    - 특수 중형 = 승용 중형"
   ]
  },
  {
   "cell_type": "code",
   "execution_count": 121,
   "metadata": {},
   "outputs": [],
   "source": [
    "EFi_col = ['차종', '차종유형', '연료', '차량연식']\n",
    "# 참고 : KOSIS 차량속도(2017) 일반국도 평균 (https://kosis.kr/statHtml/statHtml.do?orgId=210&tblId=DT_21002_J008)\n",
    "V = 54.1\n",
    "# 국가 대기오염물질 배출량 산정방법 편람(V)(2022) 부록 참고(for PM-2.5)\n",
    "k = 0.92"
   ]
  },
  {
   "cell_type": "code",
   "execution_count": 122,
   "metadata": {},
   "outputs": [
    {
     "data": {
      "text/plain": [
       "array(['화물', '대형', '경유', 2008], dtype=object)"
      ]
     },
     "execution_count": 122,
     "metadata": {},
     "output_type": "execute_result"
    }
   ],
   "source": [
    "df2[EFi_col].values[0]"
   ]
  },
  {
   "cell_type": "code",
   "execution_count": 123,
   "metadata": {},
   "outputs": [
    {
     "data": {
      "text/plain": [
       "array(['대형', '중형', '소형', '경형'], dtype=object)"
      ]
     },
     "execution_count": 123,
     "metadata": {},
     "output_type": "execute_result"
    }
   ],
   "source": [
    "df2['차종유형'].unique()"
   ]
  },
  {
   "cell_type": "code",
   "execution_count": 124,
   "metadata": {},
   "outputs": [
    {
     "name": "stderr",
     "output_type": "stream",
     "text": [
      "  0%|          | 0/1515624 [00:00<?, ?it/s]"
     ]
    },
    {
     "name": "stderr",
     "output_type": "stream",
     "text": [
      "100%|██████████| 1515624/1515624 [00:20<00:00, 75599.92it/s]\n"
     ]
    }
   ],
   "source": [
    "# about 20.1s\n",
    "EFi_CO_list = []\n",
    "EFi_HC_list = []\n",
    "EFi_NOx_list = []\n",
    "EFi_PM10_list = []\n",
    "EFi_PM2_5_list = []\n",
    "EFi_NH3_list = []\n",
    "\n",
    "# 차종, 차종유형, 연료, 연식\n",
    "for car_type, car_size, fuel, car_birth in tqdm(df2[EFi_col].values):\n",
    "    EFi_COm = 0\n",
    "    EFi_HCm = 0\n",
    "    EFi_NOxm = 0\n",
    "    EFi_PM10m = 0\n",
    "    EFi_PM2_5m = 0\n",
    "    EFi_NH3m = 0\n",
    "    for V in [35, 70, 100]:\n",
    "        if fuel == '휘발유':\n",
    "            if (car_type == '승용') and (car_size == '경형'):\n",
    "                if car_birth <= 1996:\n",
    "                    if V <= 65:\n",
    "                        EFi_CO = 59.783 * (V**-1.0007)\n",
    "                    else:\n",
    "                        EFi_CO = 0.0874 * V - 3.5618\n",
    "                    EFi_HC = 7.6244 * (V**-0.8364)\n",
    "                    EFi_NOx = 2.6754 * (V**-0.3236)\n",
    "                    if V < 85:\n",
    "                        EFi_PM10 = 0.00030\n",
    "                        EFi_PM2_5 = k * 0.00030\n",
    "                    else:\n",
    "                        EFi_PM10 = 0.00075\n",
    "                        EFi_PM2_5 = k * 0.00075\n",
    "                    if V <= 65:\n",
    "                        EFi_NH3 = 0.1\n",
    "                    else:\n",
    "                        EFi_NH3 = 0.07\n",
    "                elif 1997 <= car_birth <= 1999:\n",
    "                    if V <= 65:\n",
    "                        EFi_CO = 59.783 * (V**-1.0007)\n",
    "                    else:\n",
    "                        EFi_CO = 0.0874 * V - 3.5618\n",
    "                    EFi_HC = 8.6275 * (V**-1.0722)\n",
    "                    EFi_NOx = 3.2294 * (V**-0.5763)\n",
    "                    if V < 85:\n",
    "                        EFi_PM10 = 0.00030\n",
    "                        EFi_PM2_5 = k * 0.00030\n",
    "                    else:\n",
    "                        EFi_PM10 = 0.00075\n",
    "                        EFi_PM2_5 = k * 0.00075\n",
    "                    if V <= 65:\n",
    "                        EFi_NH3 = 0.1\n",
    "                    else:\n",
    "                        EFi_NH3 = 0.07\n",
    "                elif 2000 <= car_birth <= 2002:\n",
    "                    if V <= 65:\n",
    "                        EFi_CO = 60.556 * (V**-1.2501)\n",
    "                    else:\n",
    "                        EFi_CO = -0.0006 * V + 0.5753\n",
    "                    EFi_HC = 5.1835 * (V**-1.1889)\n",
    "                    EFi_NOx = 1.7525 * (V**-0.6481)\n",
    "                    if V < 85:\n",
    "                        EFi_PM10 = 0.00030\n",
    "                        EFi_PM2_5 = k * 0.00030\n",
    "                    else:\n",
    "                        EFi_PM10 = 0.00075\n",
    "                        EFi_PM2_5 = k * 0.00075\n",
    "                    if V <= 60:\n",
    "                        EFi_NH3 = 0.169\n",
    "                    elif 60 < V <= 90:\n",
    "                        EFi_NH3 = 0.149\n",
    "                    elif V > 90:\n",
    "                        EFi_NH3 = 0.084\n",
    "                elif 2003 <= car_birth <= 2005:\n",
    "                    if V <= 65:\n",
    "                        EFi_CO = 60.556 * (V**-1.2501)\n",
    "                    else:\n",
    "                        EFi_CO = -0.0006 * V + 0.5753\n",
    "                    EFi_HC = 0.7446 * (V**-0.9392)\n",
    "                    EFi_NOx = 0.3403 * (V**-0.5455)\n",
    "                    if V < 85:\n",
    "                        EFi_PM10 = 0.00030\n",
    "                        EFi_PM2_5 = k * 0.00030\n",
    "                    else:\n",
    "                        EFi_PM10 = 0.00075\n",
    "                        EFi_PM2_5 = k * 0.00075\n",
    "                    if V <= 60:\n",
    "                        EFi_NH3 = 0.002\n",
    "                    elif 60 < V <= 90:\n",
    "                        EFi_NH3 = 0.03\n",
    "                    elif V > 90:\n",
    "                        EFi_NH3 = 0.065\n",
    "                elif 2006 <= car_birth <= 2008:\n",
    "                    if V <= 45:\n",
    "                        EFi_CO = 4.9952 * (V**-0.8461)\n",
    "                    else:\n",
    "                        EFi_CO = -0.0001 * V**2 + 0.0229 * V - 0.5701\n",
    "                    EFi_HC = 0.2958 * (V**-0.7830)\n",
    "                    EFi_NOx = 0.4819 * (V**-0.9198)\n",
    "                    if V < 85:\n",
    "                        EFi_PM10 = 0.00030\n",
    "                        EFi_PM2_5 = k * 0.00030\n",
    "                    else:\n",
    "                        EFi_PM10 = 0.00075\n",
    "                        EFi_PM2_5 = k * 0.00075\n",
    "                    if V <= 60:\n",
    "                        EFi_NH3 = 0.002\n",
    "                    elif 60 < V <= 90:\n",
    "                        EFi_NH3 = 0.03\n",
    "                    elif V > 90:\n",
    "                        EFi_NH3 = 0.065\n",
    "                elif 2009 <= car_birth <= 2011:\n",
    "                    if V <= 45:\n",
    "                        EFi_CO = 4.5956 * (V**-0.8461)\n",
    "                    else:\n",
    "                        EFi_CO = -9.2000*(10**-5) * (V**2) + 2.1068*(10**-2) * V - 5.2449*(10**-1)\n",
    "                    EFi_HC = 0.2662 * (V**-0.7830)\n",
    "                    EFi_NOx = 0.4476 * (V**-0.9198)\n",
    "                    if V < 85:\n",
    "                        EFi_PM10 = 0.00030\n",
    "                        EFi_PM2_5 = k * 0.00030\n",
    "                    else:\n",
    "                        EFi_PM10 = 0.00075\n",
    "                        EFi_PM2_5 = k * 0.00075\n",
    "                    if V <= 60:\n",
    "                        EFi_NH3 = 0.004\n",
    "                    elif 60 < V <= 90:\n",
    "                        EFi_NH3 = 0.008\n",
    "                    elif V > 90:\n",
    "                        EFi_NH3 = 0.022\n",
    "                elif 2012 <= car_birth <= 2013:\n",
    "                    if V <= 45:\n",
    "                        EFi_CO = 4.4517 * (V**-0.8461)\n",
    "                    else:\n",
    "                        EFi_CO = -8.9120*(10**-5) * (V**2) + 2.0408*(10**-2)*V - 5.0807*(10**-1)\n",
    "                    EFi_HC = 0.2556 * (V**-0.7830)\n",
    "                    EFi_NOx = 0.4353 * (V**-0.9198)\n",
    "                    if V < 85:\n",
    "                        EFi_PM10 = 0.00030\n",
    "                        EFi_PM2_5 = k * 0.00030\n",
    "                    else:\n",
    "                        EFi_PM10 = 0.00075\n",
    "                        EFi_PM2_5 = k * 0.00075\n",
    "                    if V <= 60:\n",
    "                        EFi_NH3 = 0.004\n",
    "                    elif 60 < V <= 90:\n",
    "                        EFi_NH3 = 0.008\n",
    "                    elif V > 90:\n",
    "                        EFi_NH3 = 0.022\n",
    "                elif car_birth == 2014:\n",
    "                    if V <= 45:\n",
    "                        EFi_CO = 4.3079 * (V**-0.8461)\n",
    "                    else:\n",
    "                        EFi_CO = -8.6240*(10**-5) * (V**2) + 1.9749*(10**-2)*V - 4.9165*(10**-1)\n",
    "                    EFi_HC = 0.2449 * (V**-0.7830)\n",
    "                    EFi_NOx = 0.4230 * (V**-0.9198)\n",
    "                    if V < 85:\n",
    "                        EFi_PM10 = 0.00030\n",
    "                        EFi_PM2_5 = k * 0.00030\n",
    "                    else:\n",
    "                        EFi_PM10 = 0.00075\n",
    "                        EFi_PM2_5 = k * 0.00075\n",
    "                    if V <= 60:\n",
    "                        EFi_NH3 = 0.004\n",
    "                    elif 60 < V <= 90:\n",
    "                        EFi_NH3 = 0.008\n",
    "                    elif V > 90:\n",
    "                        EFi_NH3 = 0.022\n",
    "                elif 2015 <= car_birth:\n",
    "                    if V <= 45:\n",
    "                        EFi_CO = 4.164 * (V**-0.8461)\n",
    "                    else:\n",
    "                        EFi_CO = -8.3360*(10**-5) * (V**2) + 1.9089*(10**-2)*V - 4.7524*(10**-1)\n",
    "                    EFi_HC = 0.2343 * (V**-0.7830)\n",
    "                    EFi_NOx = 0.4106 * (V**-0.9198)\n",
    "                    if V < 85:\n",
    "                        EFi_PM10 = 0.00030\n",
    "                        EFi_PM2_5 = k * 0.00030\n",
    "                    else:\n",
    "                        EFi_PM10 = 0.00075\n",
    "                        EFi_PM2_5 = k * 0.00075\n",
    "                    if V <= 60:\n",
    "                        EFi_NH3 = 0.004\n",
    "                    elif 60 < V <= 90:\n",
    "                        EFi_NH3 = 0.008\n",
    "                    elif V > 90:\n",
    "                        EFi_NH3 = 0.022\n",
    "            elif (car_type == '승용') and (car_size == '소형'):\n",
    "                if car_birth <= 1986:\n",
    "                    EFi_CO = 247.00 * (V**-0.6651)\n",
    "                    EFi_HC = 15.953 * (V**-0.5059)\n",
    "                    EFi_NOx = 3.1140 * (V**-0.2278)\n",
    "                    if V < 85:\n",
    "                        EFi_PM10 = 0.00030\n",
    "                        EFi_PM2_5 = k * 0.00030\n",
    "                    else:\n",
    "                        EFi_PM10 = 0.00075\n",
    "                        EFi_PM2_5 = k * 0.00075\n",
    "                    if V <= 65:\n",
    "                        EFi_NH3 = 0.1\n",
    "                    else:\n",
    "                        EFi_NH3 = 0.07\n",
    "                elif 1987 <= car_birth <= 1990:\n",
    "                    EFi_CO = 36.169 * (V**-0.7587)\n",
    "                    EFi_HC = 15.607 * (V**-1.0423)\n",
    "                    EFi_NOx = 6.2007 * (V**-0.6781)\n",
    "                    if V < 85:\n",
    "                        EFi_PM10 = 0.00030\n",
    "                        EFi_PM2_5 = k * 0.00030\n",
    "                    else:\n",
    "                        EFi_PM10 = 0.00075\n",
    "                        EFi_PM2_5 = k * 0.00075\n",
    "                    if V <= 65:\n",
    "                        EFi_NH3 = 0.1\n",
    "                    else:\n",
    "                        EFi_NH3 = 0.07\n",
    "                elif 1991 <= car_birth <= 1999:\n",
    "                    EFi_CO = 111.67 * (V**-1.1566)\n",
    "                    EFi_HC = 32.017 * (V**-1.4171)\n",
    "                    EFi_NOx = 7.5244 * (V**-0.7634)\n",
    "                    if V < 85:\n",
    "                        EFi_PM10 = 0.00030\n",
    "                        EFi_PM2_5 = k * 0.00030\n",
    "                    else:\n",
    "                        EFi_PM10 = 0.00075\n",
    "                        EFi_PM2_5 = k * 0.00075\n",
    "                    if V <= 65:\n",
    "                        EFi_NH3 = 0.1\n",
    "                    else:\n",
    "                        EFi_NH3 = 0.07\n",
    "                elif 2000 <= car_birth <= 2002:\n",
    "                    EFi_CO = 22.356 * (V**-0.9068)\n",
    "                    EFi_HC = 0.8428 * (V**-0.8829)\n",
    "                    EFi_NOx = 1.2613 * (V**-0.3873)\n",
    "                    if V < 85:\n",
    "                        EFi_PM10 = 0.00030\n",
    "                        EFi_PM2_5 = k * 0.00030\n",
    "                    else:\n",
    "                        EFi_PM10 = 0.00075\n",
    "                        EFi_PM2_5 = k * 0.00075\n",
    "                    if V <= 60:\n",
    "                        EFi_NH3 = 0.169\n",
    "                    elif 60 < V <= 90:\n",
    "                        EFi_NH3 = 0.149\n",
    "                    elif V > 90:\n",
    "                        EFi_NH3 = 0.084\n",
    "                elif 2003 <= car_birth <= 2005:\n",
    "                    EFi_CO = 1.4898 * (V**-0.3837)\n",
    "                    EFi_HC = 0.1738 * (V**-0.7268)\n",
    "                    EFi_NOx = 0.1563 * (V**-0.2671)\n",
    "                    if V < 85:\n",
    "                        EFi_PM10 = 0.00030\n",
    "                        EFi_PM2_5 = k * 0.00030\n",
    "                    else:\n",
    "                        EFi_PM10 = 0.00075\n",
    "                        EFi_PM2_5 = k * 0.00075\n",
    "                    if V <= 60:\n",
    "                        EFi_NH3 = 0.002\n",
    "                    elif 60 < V <= 90:\n",
    "                        EFi_NH3 = 0.03\n",
    "                    elif V > 90:\n",
    "                        EFi_NH3 = 0.065\n",
    "                elif 2006 <= car_birth <= 2008:\n",
    "                    EFi_CO = 1.0000*(10**-4)*(V**2) - 7.1000*(10**-3)*V + 2.2450*(10**-1)\n",
    "                    if V <= 65.4:\n",
    "                        EFi_HC = 0.0633 * (V**-1.0484)\n",
    "                    else:\n",
    "                        EFi_HC = 1.3200*(10**-6)*(V**2) - 1.8800*(10**-4)*V + 7.7000*(10**-3)\n",
    "                    EFi_NOx = -3.5000*(10**-6)*(V**2) + 3.3000*(10**-4)*V + 1.1200*(10**-2)\n",
    "                    if V < 85:\n",
    "                        EFi_PM10 = 0.00030\n",
    "                        EFi_PM2_5 = k * 0.00030\n",
    "                    else:\n",
    "                        EFi_PM10 = 0.00075\n",
    "                        EFi_PM2_5 = k * 0.00075\n",
    "                    if V <= 60:\n",
    "                        EFi_NH3 = 0.002\n",
    "                    elif 60 < V <= 90:\n",
    "                        EFi_NH3 = 0.03\n",
    "                    elif V > 90:\n",
    "                        EFi_NH3 = 0.065\n",
    "                elif 2009 <= car_birth <= 2011:\n",
    "                    EFi_CO = 9.2000*(10**-5)*(V**2) - 6.5320*(10**-3)*V + 2.0654*(10**-1)\n",
    "                    if V <= 65.4:\n",
    "                        EFi_HC = 0.0570 * (V**-1.0484)\n",
    "                    else:\n",
    "                        EFi_HC = 1.1880*(10**-6)*(V**2) - 1.6920*(10**-4)*V + 6.9300*(10**-3)\n",
    "                    EFi_NOx = -3.2511*(10**-6)*(V**2) + 3.0653*(10**-4)*V + 1.0404*(10**-2)\n",
    "                    if V < 85:\n",
    "                        EFi_PM10 = 0.00030\n",
    "                        EFi_PM2_5 = k * 0.00030\n",
    "                    else:\n",
    "                        EFi_PM10 = 0.00075\n",
    "                        EFi_PM2_5 = k * 0.00075\n",
    "                    if V <= 60:\n",
    "                        EFi_NH3 = 0.004\n",
    "                    elif 60 < V <= 90:\n",
    "                        EFi_NH3 = 0.008\n",
    "                    elif V > 90:\n",
    "                        EFi_NH3 = 0.022\n",
    "                elif 2012 <= car_birth <= 2013:\n",
    "                    EFi_CO = 8.9120*(10**-5)*(V**2) - 6.3275*(10**-3)*V + 2.0007*(10**-1)\n",
    "                    if V <= 65.4:\n",
    "                        EFi_HC = 0.0547 * (V**-1.0484)\n",
    "                    else:\n",
    "                        EFi_HC = 1.1405*(10**-6)*(V**2) - 1.6243*(10**-4)*V + 6.6528*(10**-3)\n",
    "                    EFi_NOx = -3.1615*(10**-6)*(V**2) + 2.9809*(10**-4)*V + 1.0117*(10**-2)\n",
    "                    if V < 85:\n",
    "                        EFi_PM10 = 0.00030\n",
    "                        EFi_PM2_5 = k * 0.00030\n",
    "                    else:\n",
    "                        EFi_PM10 = 0.00075\n",
    "                        EFi_PM2_5 = k * 0.00075\n",
    "                    if V <= 60:\n",
    "                        EFi_NH3 = 0.004\n",
    "                    elif 60 < V <= 90:\n",
    "                        EFi_NH3 = 0.008\n",
    "                    elif V > 90:\n",
    "                        EFi_NH3 = 0.022\n",
    "                elif car_birth == 2014:\n",
    "                    EFi_CO = 8.6240*(10**-5)*(V**2) - 6.1230*(10**-3)*V + 1.9361*(10**-1)\n",
    "                    if V <= 65.4:\n",
    "                        EFi_HC = 0.0524 * (V**-1.0484)\n",
    "                    else:\n",
    "                        EFi_HC = 1.0930*(10**-6)*(V**2) - 1.5566*(10**-4)*V + 6.3756*(10**-3)\n",
    "                    EFi_NOx = -3.0719*(10**-6)*(V**2) + 2.8964*(10**-4)*V + 9.8301*(10**-3)\n",
    "                    if V < 85:\n",
    "                        EFi_PM10 = 0.00030\n",
    "                        EFi_PM2_5 = k * 0.00030\n",
    "                    else:\n",
    "                        EFi_PM10 = 0.00075\n",
    "                        EFi_PM2_5 = k * 0.00075\n",
    "                    if V <= 60:\n",
    "                        EFi_NH3 = 0.004\n",
    "                    elif 60 < V <= 90:\n",
    "                        EFi_NH3 = 0.008\n",
    "                    elif V > 90:\n",
    "                        EFi_NH3 = 0.022\n",
    "                elif 2015 <= car_birth:\n",
    "                    EFi_CO = 8.3360*(10**-5)*(V**2) - 5.9186*(10**-3)*V + 1.8714*(10**-1)\n",
    "                    if V <= 65.4:\n",
    "                        EFi_HC = 0.0501 * (V**-1.0484)\n",
    "                    else:\n",
    "                        EFi_HC = 1.0500*(10**-6)*(V**2) - 1.4890*(10**-4)*V + 6.09840*(10**-3)\n",
    "                    EFi_NOx = -2.9823*(10**-6)*(V**2) + 2.8119*(10**-4)*V + 9.5434*(10**-3)\n",
    "                    if V < 85:\n",
    "                        EFi_PM10 = 0.00030\n",
    "                        EFi_PM2_5 = k * 0.00030\n",
    "                    else:\n",
    "                        EFi_PM10 = 0.00075\n",
    "                        EFi_PM2_5 = k * 0.00075\n",
    "                    if V <= 60:\n",
    "                        EFi_NH3 = 0.004\n",
    "                    elif 60 < V <= 90:\n",
    "                        EFi_NH3 = 0.008\n",
    "                    elif V > 90:\n",
    "                        EFi_NH3 = 0.022\n",
    "            elif ( (car_type == '승용') and (car_size == '중형') ) or ( (car_type == '특수') and (car_size == '중형') ): # 최이사님 확인(2023.04.20) : 특수 중형 -> 승용 중형 조건으로 계산\n",
    "                if car_birth <= 1986:\n",
    "                    EFi_CO = 247.00 * (V**-0.6651)\n",
    "                    EFi_HC = 15.953 * (V**-0.5059)\n",
    "                    EFi_NOx = 3.1140 * (V**-0.2278)\n",
    "                    if V < 85:\n",
    "                        EFi_PM10 = 0.00030\n",
    "                        EFi_PM2_5 = k * 0.00030\n",
    "                    else:\n",
    "                        EFi_PM10 = 0.00075\n",
    "                        EFi_PM2_5 = k * 0.00075\n",
    "                    if V <= 65:\n",
    "                        EFi_NH3 = 0.1\n",
    "                    else:\n",
    "                        EFi_NH3 = 0.07\n",
    "                elif 1987 <= car_birth <= 1990:\n",
    "                    EFi_CO = 36.169 * (V**-0.7587)\n",
    "                    EFi_HC = 15.607 * (V**-1.0423)\n",
    "                    EFi_NOx = 6.2007 * (V**-0.6781)\n",
    "                    if V < 85:\n",
    "                        EFi_PM10 = 0.00030\n",
    "                        EFi_PM2_5 = k * 0.00030\n",
    "                    else:\n",
    "                        EFi_PM10 = 0.00075\n",
    "                        EFi_PM2_5 = k * 0.00075\n",
    "                    if V <= 65:\n",
    "                        EFi_NH3 = 0.1\n",
    "                    else:\n",
    "                        EFi_NH3 = 0.07\n",
    "                elif 1991 <= car_birth <= 1999:\n",
    "                    EFi_CO = 51.555 * (V**-0.9531)\n",
    "                    EFi_HC = 31.816 * (V**-1.4804)\n",
    "                    EFi_NOx = 7.5244 * (V**-0.7634)\n",
    "                    if V < 85:\n",
    "                        EFi_PM10 = 0.00030\n",
    "                        EFi_PM2_5 = k * 0.00030\n",
    "                    else:\n",
    "                        EFi_PM10 = 0.00075\n",
    "                        EFi_PM2_5 = k * 0.00075\n",
    "                    if V <= 65:\n",
    "                        EFi_NH3 = 0.1\n",
    "                    else:\n",
    "                        EFi_NH3 = 0.07\n",
    "                elif 2000 <= car_birth <= 2002:\n",
    "                    EFi_CO = 29.921 * (V**-0.8868)\n",
    "                    EFi_HC = 7.9374 * (V**-1.3041)\n",
    "                    EFi_NOx = 1.8525 * (V**-0.4192)\n",
    "                    if V < 85:\n",
    "                        EFi_PM10 = 0.00030\n",
    "                        EFi_PM2_5 = k * 0.00030\n",
    "                    else:\n",
    "                        EFi_PM10 = 0.00075\n",
    "                        EFi_PM2_5 = k * 0.00075\n",
    "                    if V <= 60:\n",
    "                        EFi_NH3 = 0.169\n",
    "                    elif 60 < V <= 90:\n",
    "                        EFi_NH3 = 0.149\n",
    "                    elif V > 90:\n",
    "                        EFi_NH3 = 0.084\n",
    "                elif 2003 <= car_birth <= 2005:\n",
    "                    EFi_CO = 2.4938 * (V**-0.6106)\n",
    "                    EFi_HC = 0.4262 * (V**-1.0122)\n",
    "                    EFi_NOx = 0.1818 * (V**-0.4316)\n",
    "                    if V < 85:\n",
    "                        EFi_PM10 = 0.00030\n",
    "                        EFi_PM2_5 = k * 0.00030\n",
    "                    else:\n",
    "                        EFi_PM10 = 0.00075\n",
    "                        EFi_PM2_5 = k * 0.00075\n",
    "                    if V <= 60:\n",
    "                        EFi_NH3 = 0.002\n",
    "                    elif 60 < V <= 90:\n",
    "                        EFi_NH3 = 0.03\n",
    "                    elif V > 90:\n",
    "                        EFi_NH3 = 0.065\n",
    "                elif 2006 <= car_birth <= 2008:\n",
    "                    EFi_CO = 2.2900*(10**-5)*(V**2) - 1.6300*(10**-3)*V + 5.8300*(10**-2)\n",
    "                    if V <= 65.4:\n",
    "                        EFi_HC = 0.0633 * (V**-1.0484)\n",
    "                    else:\n",
    "                        EFi_HC = 1.3200*(10**-6)*(V**2) - 1.8800*(10**-4)*V + 7.7000*(10**-3)\n",
    "                    EFi_NOx = -3.5000*(10**-6)*(V**2) + 3.3000*(10**-4)*V + 1.1200*(10**-2)\n",
    "                    if V < 85:\n",
    "                        EFi_PM10 = 0.00030\n",
    "                        EFi_PM2_5 = k * 0.00030\n",
    "                    else:\n",
    "                        EFi_PM10 = 0.00075\n",
    "                        EFi_PM2_5 = k * 0.00075\n",
    "                    if V <= 60:\n",
    "                        EFi_NH3 = 0.002\n",
    "                    elif 60 < V <= 90:\n",
    "                        EFi_NH3 = 0.03\n",
    "                    elif V > 90:\n",
    "                        EFi_NH3 = 0.065\n",
    "                elif 2009 <= car_birth <= 2011:\n",
    "                    EFi_CO = 2.1068*(10**-5)*(V**2) - 1.4996*(10**-3)*V + 5.3636*(10**-2)\n",
    "                    if V <= 65.4:\n",
    "                        EFi_HC = 0.0570 * (V**-1.0484)\n",
    "                    else:\n",
    "                        EFi_HC = 1.1880*(10**-6)*(V**2) - 1.6920*(10**-4)*V + 6.9300*(10**-3)\n",
    "                    EFi_NOx = -3.2511*(10**-6)*(V**2) + 3.0653*(10**-4)*V + 1.0404*(10**-2)\n",
    "                    if V < 85:\n",
    "                        EFi_PM10 = 0.00030\n",
    "                        EFi_PM2_5 = k * 0.00030\n",
    "                    else:\n",
    "                        EFi_PM10 = 0.00075\n",
    "                        EFi_PM2_5 = k * 0.00075\n",
    "                    if V <= 60:\n",
    "                        EFi_NH3 = 0.004\n",
    "                    elif 60 < V <= 90:\n",
    "                        EFi_NH3 = 0.008\n",
    "                    elif V > 90:\n",
    "                        EFi_NH3 = 0.022\n",
    "                elif 2012 <= car_birth <= 2013:\n",
    "                    EFi_CO = 2.0408*(10**-5)*(V**2) - 1.4527*(10**-3)*V + 5.1957*(10**-2)\n",
    "                    if V <= 65.4:\n",
    "                        EFi_HC = 0.0547 * (V**-1.0484)\n",
    "                    else:\n",
    "                        EFi_HC = 1.1405*(10**-6)*(V**2) - 1.6243*(10**-4)*V + 6.6528*(10**-3)\n",
    "                    EFi_NOx = -3.1615*(10**-6)*(V**2) + 2.9809*(10**-4)*V + 1.0117*(10**-2)\n",
    "                    if V < 85:\n",
    "                        EFi_PM10 = 0.00030\n",
    "                        EFi_PM2_5 = k * 0.00030\n",
    "                    else:\n",
    "                        EFi_PM10 = 0.00075\n",
    "                        EFi_PM2_5 = k * 0.00075\n",
    "                    if V <= 60:\n",
    "                        EFi_NH3 = 0.004\n",
    "                    elif 60 < V <= 90:\n",
    "                        EFi_NH3 = 0.008\n",
    "                    elif V > 90:\n",
    "                        EFi_NH3 = 0.022\n",
    "                elif car_birth == 2014:\n",
    "                    EFi_CO = 1.9749*(10**-5)*(V**2) - 1.4057*(10**-3)*V + 5.0278*(10**-2)\n",
    "                    if V <= 65.4:\n",
    "                        EFi_HC = 0.0524 * (V**-1.0484)\n",
    "                    else:\n",
    "                        EFi_HC = 1.0930*(10**-6)*(V**2) - 1.5566*(10**-4)*V + 6.3756*(10**-3)\n",
    "                    EFi_NOx = -3.0719*(10**-6)*(V**2) + 2.8964*(10**-4)*V + 9.8301*(10**-3)\n",
    "                    if V < 85:\n",
    "                        EFi_PM10 = 0.00030\n",
    "                        EFi_PM2_5 = k * 0.00030\n",
    "                    else:\n",
    "                        EFi_PM10 = 0.00075\n",
    "                        EFi_PM2_5 = k * 0.00075\n",
    "                    if V <= 60:\n",
    "                        EFi_NH3 = 0.004\n",
    "                    elif 60 < V <= 90:\n",
    "                        EFi_NH3 = 0.008\n",
    "                    elif V > 90:\n",
    "                        EFi_NH3 = 0.022\n",
    "                elif 2015 <= car_birth:\n",
    "                    EFi_CO = 1.9089*(10**-5)*(V**2) - 1.3588*(10**-3)*V + 4.8599*(10**-2)\n",
    "                    if V <= 65.4:\n",
    "                        EFi_HC = 0.0501 * (V**-1.0484)\n",
    "                    else:\n",
    "                        EFi_HC = 1.0500*(10**-6)*(V**2) - 1.4890*(10**-4)*V + 6.0984*(10**-3)\n",
    "                    EFi_NOx = -2.9823*(10**-6)*(V**2) + 2.8119*(10**-4)*V + 9.5434*(10**-3)\n",
    "                    if V < 85:\n",
    "                        EFi_PM10 = 0.00030\n",
    "                        EFi_PM2_5 = k * 0.00030\n",
    "                    else:\n",
    "                        EFi_PM10 = 0.00075\n",
    "                        EFi_PM2_5 = k * 0.00075\n",
    "                    if V <= 60:\n",
    "                        EFi_NH3 = 0.004\n",
    "                    elif 60 < V <= 90:\n",
    "                        EFi_NH3 = 0.008\n",
    "                    elif V > 90:\n",
    "                        EFi_NH3 = 0.022\n",
    "            elif (car_type == '승용') and (car_size == '대형'):\n",
    "                if car_birth <= 1986:\n",
    "                    EFi_CO = 247.00 * (V**-0.6651)\n",
    "                    EFi_HC = 15.953 * (V**-0.5059)\n",
    "                    EFi_NOx = 3.1140 * (V**-0.2278)\n",
    "                    if V < 85:\n",
    "                        EFi_PM10 = 0.00030\n",
    "                        EFi_PM2_5 = k * 0.00030\n",
    "                    else:\n",
    "                        EFi_PM10 = 0.00075\n",
    "                        EFi_PM2_5 = k * 0.00075\n",
    "                    if V <= 65:\n",
    "                        EFi_NH3 = 0.1\n",
    "                    else:\n",
    "                        EFi_NH3 = 0.07\n",
    "                elif 1987 <= car_birth <= 1990:\n",
    "                    EFi_CO = 36.169 * (V**-0.7587)\n",
    "                    EFi_HC = 15.607 * (V**-1.0423)\n",
    "                    EFi_NOx = 6.2007 * (V**-0.6781)\n",
    "                    if V < 85:\n",
    "                        EFi_PM10 = 0.00030\n",
    "                        EFi_PM2_5 = k * 0.00030\n",
    "                    else:\n",
    "                        EFi_PM10 = 0.00075\n",
    "                        EFi_PM2_5 = k * 0.00075\n",
    "                    if V <= 65:\n",
    "                        EFi_NH3 = 0.1\n",
    "                    else:\n",
    "                        EFi_NH3 = 0.07\n",
    "                elif 1991 <= car_birth <= 1999:\n",
    "                    EFi_CO = 51.555 * (V**-0.9531)\n",
    "                    EFi_HC = 31.816 * (V**-1.4804)\n",
    "                    EFi_NOx = 7.5244 * (V**-0.7634)\n",
    "                    if V < 85:\n",
    "                        EFi_PM10 = 0.00030\n",
    "                        EFi_PM2_5 = k * 0.00030\n",
    "                    else:\n",
    "                        EFi_PM10 = 0.00075\n",
    "                        EFi_PM2_5 = k * 0.00075\n",
    "                    if V <= 65:\n",
    "                        EFi_NH3 = 0.1\n",
    "                    else:\n",
    "                        EFi_NH3 = 0.07\n",
    "                elif 2000 <= car_birth <= 2002:\n",
    "                    EFi_CO = 29.921 * (V**-0.8868)\n",
    "                    EFi_HC = 7.9374 * (V**-1.3041)\n",
    "                    EFi_NOx = 1.8525 * (V**-0.4192)\n",
    "                    if V < 85:\n",
    "                        EFi_PM10 = 0.00030\n",
    "                        EFi_PM2_5 = k * 0.00030\n",
    "                    else:\n",
    "                        EFi_PM10 = 0.00075\n",
    "                        EFi_PM2_5 = k * 0.00075\n",
    "                    if V <= 60:\n",
    "                        EFi_NH3 = 0.169\n",
    "                    elif 60 < V <= 90:\n",
    "                        EFi_NH3 = 0.149\n",
    "                    elif V > 90:\n",
    "                        EFi_NH3 = 0.084\n",
    "                elif 2003 <= car_birth <= 2005:\n",
    "                    EFi_CO = 2.4938 * (V**-0.6106)\n",
    "                    EFi_HC = 0.4262 * (V**-1.0122)\n",
    "                    EFi_NOx = 0.1818 * (V**-0.4316)\n",
    "                    if V < 85:\n",
    "                        EFi_PM10 = 0.00030\n",
    "                        EFi_PM2_5 = k * 0.00030\n",
    "                    else:\n",
    "                        EFi_PM10 = 0.00075\n",
    "                        EFi_PM2_5 = k * 0.00075\n",
    "                    if V <= 60:\n",
    "                        EFi_NH3 = 0.002\n",
    "                    elif 60 < V <= 90:\n",
    "                        EFi_NH3 = 0.03\n",
    "                    elif V > 90:\n",
    "                        EFi_NH3 = 0.065\n",
    "                elif 2006 <= car_birth <= 2008:\n",
    "                    if V <= 65.4:\n",
    "                        EFi_CO = 1.4082 * (V**-0.7728)\n",
    "                    else:\n",
    "                        EFi_CO = 8.0000*(10**-5)*(V**2) - 1.2700*(10**-2)*V + 5.7510*(10**-1)\n",
    "                    if V <= 65.4:\n",
    "                        EFi_HC = 0.0633 * (V**-1.0484)\n",
    "                    else:\n",
    "                        EFi_HC = 1.3200*(10**-6)*(V**2) - 1.8800*(10**-4)*V + 7.7000*(10**-3)\n",
    "                    EFi_NOx = -3.5000*(10**-6)*(V**2) + 3.3000*(10**-4)*V + 1.1200*(10**-2)\n",
    "                    if V < 85:\n",
    "                        EFi_PM10 = 0.00030\n",
    "                        EFi_PM2_5 = k * 0.00030\n",
    "                    else:\n",
    "                        EFi_PM10 = 0.00075\n",
    "                        EFi_PM2_5 = k * 0.00075\n",
    "                    if V <= 60:\n",
    "                        EFi_NH3 = 0.002\n",
    "                    elif 60 < V <= 90:\n",
    "                        EFi_NH3 = 0.03\n",
    "                    elif V > 90:\n",
    "                        EFi_NH3 = 0.065\n",
    "                elif 2009 <= car_birth <= 2011:\n",
    "                    if V <= 65.4:\n",
    "                        EFi_CO = 1.2955 * (V**-0.7728)\n",
    "                    else:\n",
    "                        EFi_CO = 7.3600*(10**-5)*(V**2) - 1.1684*(10**-2)*V + 5.2909*(10**-1)\n",
    "                    if V <= 65.4:\n",
    "                        EFi_HC = 0.0570 * (V**-1.0484)\n",
    "                    else:\n",
    "                        EFi_HC = 1.1880*(10**-6)*(V**2) - 1.6920*(10**-4)*V + 6.9300*(10**-3)\n",
    "                    EFi_NOx = -3.2511*(10**-6)*(V**2) + 3.0653*(10**-4)*V + 1.0404*(10**-2)\n",
    "                    if V < 85:\n",
    "                        EFi_PM10 = 0.00030\n",
    "                        EFi_PM2_5 = k * 0.00030\n",
    "                    else:\n",
    "                        EFi_PM10 = 0.00075\n",
    "                        EFi_PM2_5 = k * 0.00075\n",
    "                    if V <= 60:\n",
    "                        EFi_NH3 = 0.004\n",
    "                    elif 60 < V <= 90:\n",
    "                        EFi_NH3 = 0.008\n",
    "                    elif V > 90:\n",
    "                        EFi_NH3 = 0.022\n",
    "                elif 2012 <= car_birth <= 2013:\n",
    "                    if V <= 65.4:\n",
    "                        EFi_CO = 1.2550 * (V**-0.7728)\n",
    "                    else:\n",
    "                        EFi_CO = 7.1296*(10**-5)*(V**2) - 1.1318*(10**-2)*V + 5.1253*(10**-1)\n",
    "                    if V <= 65.4:\n",
    "                        EFi_HC = 0.0547 * (V**-1.0484)\n",
    "                    else:\n",
    "                        EFi_HC = 1.1405*(10**-6)*(V**2) - 1.6243*(10**-4)*V + 6.6528*(10**-3)\n",
    "                    EFi_NOx = -3.1615*(10**-6)*(V**2) + 2.9809*(10**-4)*V + 1.0117*(10**-2)\n",
    "                    if V < 85:\n",
    "                        EFi_PM10 = 0.00030\n",
    "                        EFi_PM2_5 = k * 0.00030\n",
    "                    else:\n",
    "                        EFi_PM10 = 0.00075\n",
    "                        EFi_PM2_5 = k * 0.00075\n",
    "                    if V <= 60:\n",
    "                        EFi_NH3 = 0.004\n",
    "                    elif 60 < V <= 90:\n",
    "                        EFi_NH3 = 0.008\n",
    "                    elif V > 90:\n",
    "                        EFi_NH3 = 0.022\n",
    "                elif car_birth == 2014:\n",
    "                    if V <= 65.4:\n",
    "                        EFi_CO = 1.2144 * (V**-0.7728)\n",
    "                    else:\n",
    "                        EFi_CO = 6.8992*(10**-5)*(V**2) - 1.0952*(10**-2)*V + 4.9597*(10**-1)\n",
    "                    if V <= 65.4:\n",
    "                        EFi_HC = 0.0524 * (V**-1.0484)\n",
    "                    else:\n",
    "                        EFi_HC = 1.0930*(10**-6)*(V**2) - 1.5566*(10**-4)*V + 6.3756*(10**-3)\n",
    "                    EFi_NOx = -3.0719*(10**-6)*(V**2) + 2.8964*(10**-4)*V + 9.8301*(10**-3)\n",
    "                    if V < 85:\n",
    "                        EFi_PM10 = 0.00030\n",
    "                        EFi_PM2_5 = k * 0.00030\n",
    "                    else:\n",
    "                        EFi_PM10 = 0.00075\n",
    "                        EFi_PM2_5 = k * 0.00075\n",
    "                    if V <= 60:\n",
    "                        EFi_NH3 = 0.004\n",
    "                    elif 60 < V <= 90:\n",
    "                        EFi_NH3 = 0.008\n",
    "                    elif V > 90:\n",
    "                        EFi_NH3 = 0.022\n",
    "                elif 2015 <= car_birth:\n",
    "                    if V <= 65.4:\n",
    "                        EFi_CO = 1.1739 * (V**-0.7728)\n",
    "                    else:\n",
    "                        EFi_CO = 6.6688*(10**-5)*(V**2) - 1.0587*(10**-2)*V + 4.7940*(10**-1)\n",
    "                    if V <= 65.4:\n",
    "                        EFi_HC = 0.0501 * (V**-1.0484)\n",
    "                    else:\n",
    "                        EFi_HC = 1.0500*(10**-6)*(V**2) - 1.4890*(10**-4)*V + 6.0984*(10**-3)\n",
    "                    EFi_NOx = -2.9823*(10**-6)*(V**2) + 2.8119*(10**-4)*V + 9.5434*(10**-3)\n",
    "                    if V < 85:\n",
    "                        EFi_PM10 = 0.00030\n",
    "                        EFi_PM2_5 = k * 0.00030\n",
    "                    else:\n",
    "                        EFi_PM10 = 0.00075\n",
    "                        EFi_PM2_5 = k * 0.00075\n",
    "                    if V <= 60:\n",
    "                        EFi_NH3 = 0.004\n",
    "                    elif 60 < V <= 90:\n",
    "                        EFi_NH3 = 0.008\n",
    "                    elif V > 90:\n",
    "                        EFi_NH3 = 0.022\n",
    "            elif ( (car_type == '승합') and (car_size == '경형') ) or ( (car_type == '화물') and (car_size == '경형') ):\n",
    "                if car_birth <= 1996:\n",
    "                    if V <= 45:\n",
    "                        EFi_CO = 11.249 * (V**-0.6579)\n",
    "                    else:\n",
    "                        EFi_CO = 0.0003 * (V**2) + 0.0002 * V + 0.4136\n",
    "                    EFi_HC = 7.6244 * (V**-0.8364)\n",
    "                    EFi_NOx = 2.6754 * (V**-0.3236)\n",
    "                    if V < 85:\n",
    "                        EFi_PM10 = 0.00030\n",
    "                        EFi_PM2_5 = k * 0.00030\n",
    "                    else:\n",
    "                        EFi_PM10 = 0.00075\n",
    "                        EFi_PM2_5 = k * 0.00075\n",
    "                    if V <= 65:\n",
    "                        EFi_NH3 = 0.1\n",
    "                    else:\n",
    "                        EFi_NH3 = 0.07\n",
    "                elif 1997 <= car_birth <= 1999:\n",
    "                    if V <= 45:\n",
    "                        EFi_CO = 16.965 * (V**-0.8461)\n",
    "                    else:\n",
    "                        EFi_CO = -0.0003 * (V**2) + 0.0777 * V - 1.9363\n",
    "                    EFi_HC = 3.0285 * (V**-0.7830)\n",
    "                    EFi_NOx = 1.9923 * (V**-0.3889)\n",
    "                    if V < 85:\n",
    "                        EFi_PM10 = 0.00030\n",
    "                        EFi_PM2_5 = k * 0.00030\n",
    "                    else:\n",
    "                        EFi_PM10 = 0.00075\n",
    "                        EFi_PM2_5 = k * 0.00075\n",
    "                    if V <= 65:\n",
    "                        EFi_NH3 = 0.1\n",
    "                    else:\n",
    "                        EFi_NH3 = 0.07\n",
    "                elif 2000 <= car_birth <= 2002:\n",
    "                    if V <= 45:\n",
    "                        EFi_CO = 9.9433 * (V**-0.8461)\n",
    "                    else:\n",
    "                        EFi_CO = -0.0002 * (V**2) + 0.0455 * V - 1.1349\n",
    "                    EFi_HC = 1.8928 * (V**-0.7830)\n",
    "                    EFi_NOx = 1.2352 * (V**-0.3889)\n",
    "                    if V < 85:\n",
    "                        EFi_PM10 = 0.00030\n",
    "                        EFi_PM2_5 = k * 0.00030\n",
    "                    else:\n",
    "                        EFi_PM10 = 0.00075\n",
    "                        EFi_PM2_5 = k * 0.00075\n",
    "                    if V <= 60:\n",
    "                        EFi_NH3 = 0.169\n",
    "                    elif 60 < V <= 90:\n",
    "                        EFi_NH3 = 0.149\n",
    "                    elif V >= 90:\n",
    "                        EFi_NH3 = 0.084\n",
    "                elif 2003 <= car_birth <= 2005:\n",
    "                    if V <= 45:\n",
    "                        EFi_CO = 9.9433 * (V**-0.8461)\n",
    "                    else:\n",
    "                        EFi_CO = -0.0002 * (V**2) + 0.0455 * V - 1.1349\n",
    "                    EFi_HC = 0.9227 * (V**-0.7830)\n",
    "                    EFi_NOx = 3.8859 * (V**-0.9198)\n",
    "                    if V < 85:\n",
    "                        EFi_PM10 = 0.00030\n",
    "                        EFi_PM2_5 = k * 0.00030\n",
    "                    else:\n",
    "                        EFi_PM10 = 0.00075\n",
    "                        EFi_PM2_5 = k * 0.00075\n",
    "                    if V <= 60:\n",
    "                        EFi_NH3 = 0.002\n",
    "                    elif 60 < V <= 90:\n",
    "                        EFi_NH3 = 0.03\n",
    "                    elif V >= 90:\n",
    "                        EFi_NH3 = 0.065\n",
    "                elif 2006 <= car_birth <= 2008:\n",
    "                    if V <= 45:\n",
    "                        EFi_CO = 4.4952 * (V**-0.8461)\n",
    "                    else:\n",
    "                        EFi_CO = -0.0001 * (V**2) + 0.0229 * V - 0.5701\n",
    "                    EFi_HC = 0.2958 * (V**-0.7830)\n",
    "                    EFi_NOx = 0.4819 * (V**-0.9198)\n",
    "                    if V < 85:\n",
    "                        EFi_PM10 = 0.00030\n",
    "                        EFi_PM2_5 = k * 0.00030\n",
    "                    else:\n",
    "                        EFi_PM10 = 0.00075\n",
    "                        EFi_PM2_5 = k * 0.00075\n",
    "                    if V <= 60:\n",
    "                        EFi_NH3 = 0.002\n",
    "                    elif 60 < V <= 90:\n",
    "                        EFi_NH3 = 0.03\n",
    "                    elif V >= 90:\n",
    "                        EFi_NH3 = 0.065\n",
    "                elif 2009 <= car_birth:\n",
    "                    if V <= 45:\n",
    "                        EFi_CO = 4.4952 * (V**-0.8461)\n",
    "                    else:\n",
    "                        EFi_CO = -0.0001 * (V**2) + 0.0229 * V - 0.5701\n",
    "                    EFi_HC = 0.2958 * (V**-0.7830)\n",
    "                    EFi_NOx = 0.4819 * (V**-0.9198)\n",
    "                    if V < 85:\n",
    "                        EFi_PM10 = 0.00030\n",
    "                        EFi_PM2_5 = k * 0.00030\n",
    "                    else:\n",
    "                        EFi_PM10 = 0.00075\n",
    "                        EFi_PM2_5 = k * 0.00075\n",
    "                    if V <= 60:\n",
    "                        EFi_NH3 = 0.004\n",
    "                    elif 60 < V <= 90:\n",
    "                        EFi_NH3 = 0.008\n",
    "                    elif V >= 90:\n",
    "                        EFi_NH3 = 0.022\n",
    "            elif (car_type == '승합') and (car_size == '소형'):\n",
    "                if car_birth <= 1990:\n",
    "                    EFi_CO = 36.169 * (V**-0.7587)\n",
    "                    EFi_HC = 15.607 * (V**-1.0423)\n",
    "                    EFi_NOx = 6.2007 * (V**-0.6781)\n",
    "                    if V < 85:\n",
    "                        EFi_PM10 = 0.00030\n",
    "                        EFi_PM2_5 = k * 0.00030\n",
    "                    else:\n",
    "                        EFi_PM10 = 0.00075\n",
    "                        EFi_PM2_5 = k * 0.00075\n",
    "                    EFi_NH3 = 0.002\n",
    "                elif 1991 <= car_birth <= 1996:\n",
    "                    EFi_CO = 39.402 * (V**-0.8879)\n",
    "                    EFi_HC = 23.400 * (V**-1.4041)\n",
    "                    EFi_NOx = 7.5244 * (V**-0.7634)\n",
    "                    if V < 85:\n",
    "                        EFi_PM10 = 0.00030\n",
    "                        EFi_PM2_5 = k * 0.00030\n",
    "                    else:\n",
    "                        EFi_PM10 = 0.00075\n",
    "                        EFi_PM2_5 = k * 0.00075\n",
    "                    EFi_NH3 = 0.002\n",
    "                elif 1997 <= car_birth <= 1999:\n",
    "                    EFi_CO = 77.088 * (V**-1.2078)\n",
    "                    EFi_HC = 18.731 * (V**-1.5356)\n",
    "                    EFi_NOx = 4.4260 * (V**-0.7978)\n",
    "                    if V < 85:\n",
    "                        EFi_PM10 = 0.00030\n",
    "                        EFi_PM2_5 = k * 0.00030\n",
    "                    else:\n",
    "                        EFi_PM10 = 0.00075\n",
    "                        EFi_PM2_5 = k * 0.00075\n",
    "                    EFi_NH3 = 0.002\n",
    "                elif car_birth == 2000:\n",
    "                    EFi_CO = 41.669 * (V**-1.2078)\n",
    "                    EFi_HC = 14.190 * (V**-1.5356)\n",
    "                    EFi_NOx = 3.4578 * (V**-0.7978)\n",
    "                    if V < 85:\n",
    "                        EFi_PM10 = 0.00030\n",
    "                        EFi_PM2_5 = k * 0.00030\n",
    "                    else:\n",
    "                        EFi_PM10 = 0.00075\n",
    "                        EFi_PM2_5 = k * 0.00075\n",
    "                    if V <= 60:\n",
    "                        EFi_NH3 = 0.169\n",
    "                    elif 60 < V <= 90:\n",
    "                        EFi_NH3 = 0.149\n",
    "                    elif V >= 90:\n",
    "                        EFi_NH3 = 0.084\n",
    "                elif 2001 <= car_birth <= 2002:\n",
    "                    EFi_CO = 41.669 * (V**-1.2078)\n",
    "                    EFi_HC = 11.920 * (V**-1.5356)\n",
    "                    EFi_NOx = 3.0649 * (V**-0.7978)\n",
    "                    if V < 85:\n",
    "                        EFi_PM10 = 0.00030\n",
    "                        EFi_PM2_5 = k * 0.00030\n",
    "                    else:\n",
    "                        EFi_PM10 = 0.00075\n",
    "                        EFi_PM2_5 = k * 0.00075\n",
    "                    if V <= 60:\n",
    "                        EFi_NH3 = 0.169\n",
    "                    elif 60 < V <= 90:\n",
    "                        EFi_NH3 = 0.149\n",
    "                    elif V >= 90:\n",
    "                        EFi_NH3 = 0.084\n",
    "                elif 2003 <= car_birth <= 2005:\n",
    "                    EFi_CO = 37.573 * (V**-1.2078)\n",
    "                    EFi_HC = 3.1786 * (V**-1.5356)\n",
    "                    EFi_NOx = 1.4931 * (V**-0.7978)\n",
    "                    if V < 85:\n",
    "                        EFi_PM10 = 0.00030\n",
    "                        EFi_PM2_5 = k * 0.00030\n",
    "                    else:\n",
    "                        EFi_PM10 = 0.00075\n",
    "                        EFi_PM2_5 = k * 0.00075\n",
    "                    if V <= 60:\n",
    "                        EFi_NH3 = 0.002\n",
    "                    elif 60 < V <= 90:\n",
    "                        EFi_NH3 = 0.03\n",
    "                    elif V >= 90:\n",
    "                        EFi_NH3 = 0.065\n",
    "                elif 2006 <= car_birth <= 2008:\n",
    "                    EFi_CO = 32.899 * (V**-1.2078)\n",
    "                    EFi_HC = 2.7387 * (V**-1.5356)\n",
    "                    EFi_NOx = 1.1808 * (V**-0.7978)\n",
    "                    if V < 85:\n",
    "                        EFi_PM10 = 0.00030\n",
    "                        EFi_PM2_5 = k * 0.00030\n",
    "                    else:\n",
    "                        EFi_PM10 = 0.00075\n",
    "                        EFi_PM2_5 = k * 0.00075\n",
    "                    if V <= 60:\n",
    "                        EFi_NH3 = 0.002\n",
    "                    elif 60 < V <= 90:\n",
    "                        EFi_NH3 = 0.03\n",
    "                    elif V >= 90:\n",
    "                        EFi_NH3 = 0.065\n",
    "                elif 2009 <= car_birth:\n",
    "                    EFi_CO = 32.899 * (V**-1.2078)\n",
    "                    EFi_HC = 2.7387 * (V**-1.5356)\n",
    "                    EFi_NOx = 1.1808 * (V**-0.7978)\n",
    "                    if V < 85:\n",
    "                        EFi_PM10 = 0.00030\n",
    "                        EFi_PM2_5 = k * 0.00030\n",
    "                    else:\n",
    "                        EFi_PM10 = 0.00075\n",
    "                        EFi_PM2_5 = k * 0.00075\n",
    "                    if V <= 60:\n",
    "                        EFi_NH3 = 0.004\n",
    "                    elif 60 < V <= 90:\n",
    "                        EFi_NH3 = 0.08\n",
    "                    elif V >= 90:\n",
    "                        EFi_NH3 = 0.022\n",
    "            elif ( (car_type == '승합') and (car_size == '중형') or (car_size == '대형') ) or ( (car_type == '화물') and (car_size == '소형') ):\n",
    "                if car_birth <= 1990:\n",
    "                    EFi_CO = 36.169 * (V**-0.7587)\n",
    "                    EFi_HC = 15.607 * (V**-1.0423)\n",
    "                    EFi_NOx = 6.2007 * (V**-0.6781)\n",
    "                    if V < 85:\n",
    "                        EFi_PM10 = 0.00030\n",
    "                        EFi_PM2_5 = k * 0.00030\n",
    "                    else:\n",
    "                        EFi_PM10 = 0.00075\n",
    "                        EFi_PM2_5 = k * 0.00075\n",
    "                    EFi_NH3 = 0.002\n",
    "                elif 1991 <= car_birth <= 1996:\n",
    "                    EFi_CO = 39.402 * (V**-0.8879)\n",
    "                    EFi_HC = 23.400 * (V**-1.4041)\n",
    "                    EFi_NOx = 7.5244 * (V**-0.7634)\n",
    "                    if V < 85:\n",
    "                        EFi_PM10 = 0.00030\n",
    "                        EFi_PM2_5 = k * 0.00030\n",
    "                    else:\n",
    "                        EFi_PM10 = 0.00075\n",
    "                        EFi_PM2_5 = k * 0.00075\n",
    "                    EFi_NH3 = 0.002\n",
    "                elif 1997 <= car_birth <= 1999:\n",
    "                    EFi_CO = 77.088 * (V**-1.2078)\n",
    "                    EFi_HC = 18.731 * (V**-1.5356)\n",
    "                    EFi_NOx = 4.4260 * (V**-0.7978)\n",
    "                    if V < 85:\n",
    "                        EFi_PM10 = 0.00030\n",
    "                        EFi_PM2_5 = k * 0.00030\n",
    "                    else:\n",
    "                        EFi_PM10 = 0.00075\n",
    "                        EFi_PM2_5 = k * 0.00075\n",
    "                    EFi_NH3 = 0.002\n",
    "                elif 2000 <= car_birth <= 2002:\n",
    "                    EFi_CO = 41.669 * (V**-1.2078)\n",
    "                    EFi_HC = 14.190 * (V**-1.5356)\n",
    "                    EFi_NOx = 3.4578 * (V**-0.7978)\n",
    "                    if V < 85:\n",
    "                        EFi_PM10 = 0.00030\n",
    "                        EFi_PM2_5 = k * 0.00030\n",
    "                    else:\n",
    "                        EFi_PM10 = 0.00075\n",
    "                        EFi_PM2_5 = k * 0.00075\n",
    "                    if V <= 60:\n",
    "                        EFi_NH3 = 0.169\n",
    "                    elif 60 < V <= 90:\n",
    "                        EFi_NH3 = 0.149\n",
    "                    elif V >= 90:\n",
    "                        EFi_NH3 = 0.084\n",
    "                elif 2003 <= car_birth <= 2005:\n",
    "                    EFi_CO = 36.578 * (V**-1.2078)\n",
    "                    EFi_HC = 3.0337 * (V**-1.5356)\n",
    "                    EFi_NOx = 2.0104 * (V**-0.7978)\n",
    "                    if V < 85:\n",
    "                        EFi_PM10 = 0.00030\n",
    "                        EFi_PM2_5 = k * 0.00030\n",
    "                    else:\n",
    "                        EFi_PM10 = 0.00075\n",
    "                        EFi_PM2_5 = k * 0.00075\n",
    "                    if V <= 60:\n",
    "                        EFi_NH3 = 0.002\n",
    "                    elif 60 < V <= 90:\n",
    "                        EFi_NH3 = 0.03\n",
    "                    elif V >= 90:\n",
    "                        EFi_NH3 = 0.065\n",
    "                elif 2006 <= car_birth <= 2008:\n",
    "                    EFi_CO = 14.202 * (V**-1.2078)\n",
    "                    EFi_HC = 1.2233 * (V**-1.5356)\n",
    "                    EFi_NOx = 0.2493 * (V**-0.7978)\n",
    "                    if V < 85:\n",
    "                        EFi_PM10 = 0.00030\n",
    "                        EFi_PM2_5 = k * 0.00030\n",
    "                    else:\n",
    "                        EFi_PM10 = 0.00075\n",
    "                        EFi_PM2_5 = k * 0.00075\n",
    "                    if V <= 60:\n",
    "                        EFi_NH3 = 0.002\n",
    "                    elif 60 < V <= 90:\n",
    "                        EFi_NH3 = 0.03\n",
    "                    elif V >= 90:\n",
    "                        EFi_NH3 = 0.065\n",
    "                elif 2009 <= car_birth:\n",
    "                    EFi_CO = 14.202 * (V**-1.2078)\n",
    "                    EFi_HC = 1.2233 * (V**-1.5356)\n",
    "                    EFi_NOx = 0.2493 * (V**-0.7978)\n",
    "                    if V < 85:\n",
    "                        EFi_PM10 = 0.00030\n",
    "                        EFi_PM2_5 = k * 0.00030\n",
    "                    else:\n",
    "                        EFi_PM10 = 0.00075\n",
    "                        EFi_PM2_5 = k * 0.00075\n",
    "                    if V <= 60:\n",
    "                        EFi_NH3 = 0.004\n",
    "                    elif 60 < V <= 90:\n",
    "                        EFi_NH3 = 0.008\n",
    "                    elif V >= 90:\n",
    "                        EFi_NH3 = 0.022\n",
    "            elif (car_type == '화물') and (car_size == '중형'):\n",
    "                if 1993 <= car_birth <= 1998:\n",
    "                    if V <= 65:\n",
    "                        EFi_CO = 70\n",
    "                        EFi_HC = 7\n",
    "                        EFi_NOx = 4.5\n",
    "                    else:\n",
    "                        EFi_CO = 55\n",
    "                        EFi_HC = 3.5\n",
    "                        EFi_NOx = 7.5\n",
    "                    if V < 85:\n",
    "                        EFi_PM10 = 0.00030\n",
    "                        EFi_PM2_5 = k * 0.00030\n",
    "                    else:\n",
    "                        EFi_PM10 = 0.00075\n",
    "                        EFi_PM2_5 = k * 0.00075\n",
    "                    EFi_NH3 = 0.002\n",
    "                elif car_birth == 1999:\n",
    "                    if V <= 65:\n",
    "                        EFi_CO = 70\n",
    "                        EFi_HC = 7\n",
    "                        EFi_NOx = 4.5\n",
    "                    else:\n",
    "                        EFi_CO = 55\n",
    "                        EFi_HC = 3.5\n",
    "                        EFi_NOx = 7.5\n",
    "                    if V < 85:\n",
    "                        EFi_PM10 = 0.00030\n",
    "                        EFi_PM2_5 = k * 0.00030\n",
    "                    else:\n",
    "                        EFi_PM10 = 0.00075\n",
    "                        EFi_PM2_5 = k * 0.00075\n",
    "                    EFi_NH3 = 0.002\n",
    "                elif 2000 <= car_birth <= 2002: # CO, HC, NOx 배출계수 누락(⭕)\n",
    "                    if V <= 65:\n",
    "                        EFi_CO = 70\n",
    "                        EFi_HC = 7\n",
    "                        EFi_NOx = 4.5\n",
    "                    else:\n",
    "                        EFi_CO = 55\n",
    "                        EFi_HC = 3.5\n",
    "                        EFi_NOx = 7.5\n",
    "                    if V < 85:\n",
    "                        EFi_PM10 = 0.00030\n",
    "                        EFi_PM2_5 = k * 0.00030\n",
    "                    else:\n",
    "                        EFi_PM10 = 0.00075\n",
    "                        EFi_PM2_5 = k * 0.00075\n",
    "                    if V <= 60:\n",
    "                        EFi_NH3 = 0.169\n",
    "                    elif 60 < V <= 90:\n",
    "                        EFi_NH3 = 0.149\n",
    "                    elif V > 90:\n",
    "                        EFi_NH3 = 0.084\n",
    "                elif 2003 <= car_birth <= 2008: # CO, HC, NOx 배출계수 누락(⭕)\n",
    "                    if V <= 65:\n",
    "                        EFi_CO = 70\n",
    "                        EFi_HC = 7\n",
    "                        EFi_NOx = 4.5\n",
    "                    else:\n",
    "                        EFi_CO = 55\n",
    "                        EFi_HC = 3.5\n",
    "                        EFi_NOx = 7.5\n",
    "                    if V < 85:\n",
    "                        EFi_PM10 = 0.00030\n",
    "                        EFi_PM2_5 = k * 0.00030\n",
    "                    else:\n",
    "                        EFi_PM10 = 0.00075\n",
    "                        EFi_PM2_5 = k * 0.00075\n",
    "                    if V <= 60:\n",
    "                        EFi_NH3 = 0.002\n",
    "                    elif 60 < V <= 90:\n",
    "                        EFi_NH3 = 0.03\n",
    "                    elif V > 90:\n",
    "                        EFi_NH3 = 0.065\n",
    "                elif 2009 <= car_birth:\n",
    "                    if V <= 60:\n",
    "                        EFi_NH3 = 0.004\n",
    "                    elif 60 < V <= 90:\n",
    "                        EFi_NH3 = 0.008\n",
    "                    elif V > 90:\n",
    "                        EFi_NH3 = 0.022\n",
    "            elif (car_type == '화물') and (car_size == '대형'):\n",
    "                if 1993 <= car_birth:\n",
    "                    if V <= 65:\n",
    "                        EFi_CO = 70\n",
    "                        EFi_HC = 7\n",
    "                        EFi_NOx = 4.5\n",
    "                    else:\n",
    "                        EFi_CO = 55\n",
    "                        EFi_HC = 3.5\n",
    "                        EFi_NOx = 7.5\n",
    "                    if V < 85:\n",
    "                        EFi_PM10 = 0.00030\n",
    "                        EFi_PM2_5 = k * 0.00030\n",
    "                    else:\n",
    "                        EFi_PM10 = 0.00075\n",
    "                        EFi_PM2_5 = k * 0.00075\n",
    "                else:\n",
    "                    EFi_CO = 1\n",
    "                    EFi_HC = 1\n",
    "                    EFi_NOx = 1\n",
    "                    EFi_PM10 = 1\n",
    "                    EFi_PM2_5 = 1\n",
    "                EFi_NH3 = 0.002\n",
    "        elif fuel == '경유':\n",
    "            if (car_type == '승용') and (car_size == '경형'):\n",
    "                if car_birth <= 2005:\n",
    "                    EFi_CO = 0.7392 * (V**-0.7524)\n",
    "                    EFi_HC = 0.0989 * (V**-0.6848)\n",
    "                    EFi_NOx = 24.3491 * (V**-0.7277)\n",
    "                    EFi_PM10 = 0.0839 * (V**-0.3420)\n",
    "                    EFi_PM2_5 = k * 0.0839 * (V**-0.3420)\n",
    "                    EFi_NH3 = 0.001\n",
    "                elif 2006 <= car_birth <= 2010:\n",
    "                    EFi_CO = 0.5775 * (V**-0.7524)\n",
    "                    EFi_HC = 0.0825 * (V**-0.6848)\n",
    "                    EFi_NOx = 24.3491 * (V**-0.7277)\n",
    "                    EFi_PM10 = 0.0420 * (V**-0.3420)\n",
    "                    EFi_PM2_5 = k * 0.0420 * (V**-0.3420)\n",
    "                    EFi_NH3 = 0.001\n",
    "                elif 2011 <= car_birth <= 2015:\n",
    "                    EFi_CO = 0.5141 * (V**-0.6792)\n",
    "                    EFi_HC = 0.3713 * (V**-0.7513)\n",
    "                    EFi_NOx = 0.0003 * (V**2) - 0.0324 * V + 1.4773\n",
    "                    if V <= 65.4:\n",
    "                        EFi_PM10 = 0.0225 * (V**-0.7264)\n",
    "                        EFi_PM2_5 = k * 0.0225 * (V**-0.7264)\n",
    "                    else:\n",
    "                        EFi_PM10 = 0.0009 * (V**0.0416)      # EFi_PM10 = 0.0009 * (V**0.0416) (⭕)\n",
    "                        EFi_PM2_5 = k * 0.0009 * (V**0.0416) # EFi_PM2_5 = k * 0.0009 * (V**0.0416) (⭕)\n",
    "                    EFi_NH3 = 0.0019\n",
    "                elif 2016 <= car_birth:\n",
    "                    EFi_CO = 0.4574 * (V**-0.5215)\n",
    "                    EFi_HC = 0.1300 * (V**-0.7265)\n",
    "                    EFi_NOx = 2.7702 * (V**-0.3869)\n",
    "                    if V <= 65.4:\n",
    "                        EFi_PM10 = 0.0225 * (V**-0.7264)\n",
    "                        EFi_PM2_5 = k * 0.0225 * (V**-0.7264)\n",
    "                    else:\n",
    "                        EFi_PM10 = 0.0009 * (V**0.0416)     # EFi_PM10 = 0.0009 * (V**0.0416) (⭕)\n",
    "                        EFi_PM2_5 = k * 0.0009 * (V**0.0416) # EFi_PM2_5 = k * 0.0009 * (V**0.0416) (⭕)\n",
    "                    EFi_NH3 = 0.0019\n",
    "            elif (car_type == '승용') and (car_size == '소형'):\n",
    "                if car_birth <= 2004:\n",
    "                    EFi_CO = 5.9672 * (V**-0.9534)\n",
    "                    EFi_HC = 0.6523 * (V**-1.0167)\n",
    "                    EFi_NOx = 24.3491 * (V**-0.7277)\n",
    "                    if V <= 65:\n",
    "                        EFi_PM10 = 0.3861 * (V**-0.5093)\n",
    "                        EFi_PM2_5 = k * 0.3861 * (V**-0.5093)\n",
    "                    else:\n",
    "                        EFi_PM10 = -0.00001 * (V**2) + 0.0026 * V - 0.0618\n",
    "                        EFi_PM2_5 = k * -0.00001 * (V**2) + 0.0026 * V - 0.0618\n",
    "                    EFi_NH3 = 0.001\n",
    "                elif car_birth == 2005:\n",
    "                    EFi_CO = 0.7392 * (V**-0.7524)\n",
    "                    EFi_HC = 0.0989 * (V**-0.6848)\n",
    "                    EFi_NOx = 24.3491 * (V**-0.7277)\n",
    "                    EFi_PM10 = 0.0839 * (V**-0.3420)\n",
    "                    EFi_PM2_5 = k * 0.0839 * (V**-0.3420)\n",
    "                    EFi_NH3 = 0.001\n",
    "                elif 2006 <= car_birth <= 2010:\n",
    "                    EFi_CO = 0.5775 * (V**-0.7524)\n",
    "                    EFi_HC = 0.0825 * (V**-0.6848)\n",
    "                    EFi_NOx = 24.3491 * (V**-0.7277)\n",
    "                    EFi_PM10 = 0.0420 * (V**-0.3420)\n",
    "                    EFi_PM2_5 = k * 0.0420 * (V**-0.3420)\n",
    "                    EFi_NH3 = 0.001\n",
    "                elif 2011 <= car_birth <= 2015:\n",
    "                    EFi_CO = 0.5141 * (V**-0.6792)\n",
    "                    EFi_HC = 0.3713 * (V**-0.7513)\n",
    "                    EFi_NOx = 0.0003 * (V**2) - 0.0324 * V + 1.4773\n",
    "                    if V <= 65.4:\n",
    "                        EFi_PM10 = 0.0225 * (V**-0.7264)\n",
    "                        EFi_PM2_5 = k * 0.0225 * (V**-0.7264)\n",
    "                    else:\n",
    "                        EFi_PM10 = 0.0009 * (V**0.0416)        # EFi_PM10 = 0.0009 * (V**0.0416) (⭕)\n",
    "                        EFi_PM2_5 = k * 0.0009 * (V**0.0416)   # EFi_PM2_5 = k * 0.0009 * (V**0.0416) (⭕)\n",
    "                    EFi_NH3 = 0.0019\n",
    "                elif 2016 <= car_birth:\n",
    "                    EFi_CO = 0.4574 * (V**-0.5215)\n",
    "                    EFi_HC = 0.1300 * (V**-0.7265)\n",
    "                    EFi_NOx = 2.7702 * (V**-0.3869)\n",
    "                    if V <= 65.4:\n",
    "                        EFi_PM10 = 0.0225 * (V**-0.7264)\n",
    "                        EFi_PM2_5 = k * 0.0225 * (V**-0.7264)\n",
    "                    else:\n",
    "                        EFi_PM10 = 0.0009 * (V**0.0416)           # EFi_PM10 = 0.0009 * (V**0.0416) (⭕)\n",
    "                        EFi_PM2_5 = k * 0.0009 * (V**0.0416)      # EFi_PM2_5 = k * 0.0009 * (V**0.0416) (⭕)\n",
    "                    EFi_NH3 = 0.0019\n",
    "            elif (car_type == '승용') and (car_size == '중형'):\n",
    "                if car_birth <= 2004:\n",
    "                    EFi_CO = 5.9672 * (V**-0.9534)\n",
    "                    EFi_HC = 0.6523 * (V**-1.0167)\n",
    "                    EFi_NOx = 24.3491 * (V**-0.7277)\n",
    "                    if V <= 65:\n",
    "                        EFi_PM10 = 0.3861 * (V**-0.5093)\n",
    "                        EFi_PM2_5 = k * 0.3861 * (V**-0.5093)\n",
    "                    else:\n",
    "                        EFi_PM10 = -0.00001 * (V**2) + 0.0026 * V - 0.0618\n",
    "                        EFi_PM2_5 = k * -0.00001 * (V**2) + 0.0026 * V - 0.0618\n",
    "                    EFi_NH3 = 0.001\n",
    "                elif car_birth == 2005:\n",
    "                    EFi_CO = 0.6930 * (V**-0.7524)\n",
    "                    EFi_HC = 0.1865 * (V**-0.6848)\n",
    "                    EFi_NOx = 24.3491 * (V**-0.7277)\n",
    "                    EFi_PM10 = 0.0723 * (V**-0.3420)\n",
    "                    EFi_PM2_5 = k * 0.0723 * (V**-0.3420)\n",
    "                    EFi_NH3 = 0.001\n",
    "                elif 2006 <= car_birth <= 2010:\n",
    "                    EFi_CO = 0.5414 * (V**-0.7524)\n",
    "                    EFi_HC = 0.0927 * (V**-0.6848)\n",
    "                    EFi_NOx = 24.3491 * (V**-0.7277)\n",
    "                    EFi_PM10 = 0.0396 * (V**-0.3420)\n",
    "                    EFi_PM2_5 = k * 0.0396 * (V**-0.3420)\n",
    "                    EFi_NH3 = 0.001\n",
    "                elif 2011 <= car_birth <= 2015:\n",
    "                    EFi_CO = 0.5141 * (V**-0.6792)\n",
    "                    EFi_HC = 0.3713 * (V**-0.7513)\n",
    "                    EFi_NOx = 0.0003 * (V**2) - 0.0324 * V + 1.4773\n",
    "                    if V <= 65.4:\n",
    "                        EFi_PM10 = 0.0225 * (V**-0.7264)\n",
    "                        EFi_PM2_5 = k * 0.0225 * (V**-0.7264)\n",
    "                    else:\n",
    "                        EFi_PM10 = 0.0009 * (V**0.0416)            # EFi_PM10 = 0.0009 * (V**0.0416) (⭕)\n",
    "                        EFi_PM2_5 = k * 0.0009 * (V**0.0416)      # EFi_PM2_5 = k * 0.0009 * (V**0.0416) (⭕)\n",
    "                    EFi_NH3 = 0.0019\n",
    "                elif 2016 <= car_birth:\n",
    "                    EFi_CO = 0.4574 * (V**-0.5215)\n",
    "                    EFi_HC = 0.1300 * (V**-0.7265)\n",
    "                    EFi_NOx = 2.7702 * (V**-0.3869)\n",
    "                    if V <= 65.4:\n",
    "                        EFi_PM10 = 0.0225 * (V**-0.7264)\n",
    "                        EFi_PM2_5 = k * 0.0225 * (V**-0.7264)\n",
    "                    else:\n",
    "                        EFi_PM10 = 0.0009 * (V**0.0416)              # EFi_PM10 = 0.0009 * (V**0.0416) (⭕)\n",
    "                        EFi_PM2_5 = k * 0.0009 * (V**0.0416)         # EFi_PM2_5 = k * 0.0009 * (V**0.0416) (⭕)\n",
    "                    EFi_NH3 = 0.0019\n",
    "            elif (car_type == '승용') and (car_size == '대형'):\n",
    "                if car_birth <= 2004:\n",
    "                    EFi_CO = 5.9672 * (V**-0.9534)\n",
    "                    EFi_HC = 0.6523 * (V**-1.0167)\n",
    "                    EFi_NOx = 24.3491 * (V**-0.7277)\n",
    "                    if V <= 65:\n",
    "                        EFi_PM10 = 0.3861 * (V**-0.5093)\n",
    "                        EFi_PM2_5 = k * 0.3861 * (V**-0.5093)\n",
    "                    else:\n",
    "                        EFi_PM10 = -0.00001 * (V**2) + 0.0026 * V - 0.0618\n",
    "                        EFi_PM2_5 = k * -0.00001 * (V**2) + 0.0026 * V - 0.0618\n",
    "                    EFi_NH3 = 0.001\n",
    "                elif car_birth == 2005:\n",
    "                    EFi_CO = 0.9609 * (V**-0.7524)\n",
    "                    EFi_HC = 0.1865 * (V**-0.6848)\n",
    "                    EFi_NOx = 24.3491 * (V**-0.7277)\n",
    "                    EFi_PM10 = 0.0723 * (V**-0.3420)\n",
    "                    EFi_PM2_5 = k * 0.0723 * (V**-0.3420)\n",
    "                    EFi_NH3 = 0.001\n",
    "                elif 2006 <= car_birth <= 2010:\n",
    "                    EFi_CO = 0.7507 * (V**-0.7524)\n",
    "                    EFi_HC = 0.1554 * (V**-0.6848)\n",
    "                    EFi_NOx = 24.3491 * (V**-0.7277)\n",
    "                    EFi_PM10 = 0.0361 * (V**-0.3420)\n",
    "                    EFi_PM2_5 = k * 0.0361 * (V**-0.3420)\n",
    "                    EFi_NH3 = 0.001\n",
    "                elif 2011 <= car_birth <= 2015:\n",
    "                    EFi_CO = 0.5141 * (V**-0.6792)\n",
    "                    EFi_HC = 0.3713 * (V**-0.7513)\n",
    "                    EFi_NOx = 0.0003 * (V**2) - 0.0324 * V + 1.4773\n",
    "                    if V <= 65.4:\n",
    "                        EFi_PM10 = 0.0225 * (V**-0.7264)\n",
    "                        EFi_PM2_5 = k * 0.0225 * (V**-0.7264)\n",
    "                    else:\n",
    "                        EFi_PM10 = 0.0009 * (V**0.0416)              # EFi_PM10 = 0.0009 * (V**0.0416) (⭕)\n",
    "                        EFi_PM2_5 = k * 0.0009 * (V**0.0416)         # EFi_PM2_5 = k * 0.0009 * (V**0.0416) (⭕)\n",
    "                    EFi_NH3 = 0.0019\n",
    "                elif 2016 <= car_birth:\n",
    "                    EFi_CO = 0.4574 * (V**-0.5215)\n",
    "                    EFi_HC = 0.1300 * (V**-0.7265)\n",
    "                    EFi_NOx = 2.7702 * (V**-0.3869)\n",
    "                    if V <= 65.4:\n",
    "                        EFi_PM10 = 0.0225 * (V**-0.7264)\n",
    "                        EFi_PM2_5 = k * 0.0225 * (V**-0.7264)\n",
    "                    else:\n",
    "                        EFi_PM10 = 0.0009 * (V**0.0416)              # EFi_PM10 = 0.0009 * (V**0.0416) (⭕)\n",
    "                        EFi_PM2_5 = k * 0.0009 * (V**0.0416)         # EFi_PM2_5 = k * 0.0009 * (V**0.0416) (⭕)\n",
    "                    EFi_NH3 = 0.0019\n",
    "            elif (car_type == '승합') and (car_size == '소형'):\n",
    "                if car_birth <= 1990:\n",
    "                    if V <= 65.4:\n",
    "                        EFi_CO = 3.4539 * (V**-0.4266)\n",
    "                    else:\n",
    "                        EFi_CO = 0.0051 * V + 0.2212\n",
    "                    EFi_HC = 0.9835 * (V**-0.5096)\n",
    "                    EFi_NOx = 24.3491 * (V**-0.7277)\n",
    "                    EFi_PM10 = 1.1412 * (V**-0.4324)\n",
    "                    EFi_PM2_5 = k * 1.1412 * (V**-0.4324)\n",
    "                elif 1991 <= car_birth <= 1995:\n",
    "                    if V <= 65.4:\n",
    "                        EFi_CO = 3.4539 * (V**-0.4266)\n",
    "                    else:\n",
    "                        EFi_CO = 0.0051 * V + 0.2212\n",
    "                    EFi_HC = 1.6313 * (V**-0.7298)\n",
    "                    EFi_NOx = 24.3491 * (V**-0.7277)\n",
    "                    EFi_PM10 = 0.5999 * (V**-0.3294)\n",
    "                    EFi_PM2_5 = k * 0.5999 * (V**-0.3294)\n",
    "                elif 1996 <= car_birth <= 1997:\n",
    "                    if V <= 65.4:\n",
    "                        EFi_CO = 3.4539 * (V**-0.4266)\n",
    "                    else:\n",
    "                        EFi_CO = 0.0051 * V + 0.2212\n",
    "                    EFi_HC = 1.1293 * (V**-0.6588)\n",
    "                    EFi_NOx = 24.3491 * (V**-0.7277)\n",
    "                    EFi_PM10 = 0.6408 * (V**-0.3596)\n",
    "                    EFi_PM2_5 = k * 0.6408 * (V**-0.3596)\n",
    "                elif 1998 <= car_birth <= 1999:\n",
    "                    EFi_CO = 3.7564 * (V**-0.5175)\n",
    "                    EFi_HC = 1.1293 * (V**-0.6588)\n",
    "                    EFi_NOx = 24.3491 * (V**-0.7277)\n",
    "                    EFi_PM10 = 0.5168 * (V**-0.3596)\n",
    "                    EFi_PM2_5 = k * 0.5168 * (V**-0.3596)\n",
    "                elif 2000 <= car_birth <= 2003:\n",
    "                    EFi_CO = 3.7564 * (V**-0.5175)\n",
    "                    EFi_HC = 1.1293 * (V**-0.6588)\n",
    "                    EFi_NOx = 24.3491 * (V**-0.7277)\n",
    "                    EFi_PM10 = 0.2894 * (V**-0.3596)\n",
    "                    EFi_PM2_5 = k * 0.2894 * (V**-0.3596)\n",
    "                elif 2004 <= car_birth <= 2007:\n",
    "                    EFi_CO = 3.2797 * (V**-0.8887)\n",
    "                    EFi_HC = 0.1807 * (V**-0.6588)\n",
    "                    EFi_NOx = 24.3491 * (V**-0.7277)\n",
    "                    EFi_PM10 = 0.2067 * (V**-0.3596)\n",
    "                    EFi_PM2_5 = k * 0.2067 * (V**-0.3596)\n",
    "                elif 2008 <= car_birth <= 2011:\n",
    "                    if V <= 65.4:\n",
    "                        EFi_CO = 4.222 * (V**-1.4035)\n",
    "                    else:\n",
    "                        EFi_CO = 0.01166 * (V**0.09222)         # EFi_CO = 0.01166 * (V**0.09222) (⭕)\n",
    "                    if V <= 97.3:                               # 97.3 초과에 대한 내용 없음.(편람 p.371)\n",
    "                        EFi_HC = 0.829 * (V**-1.0961)\n",
    "                    EFi_NOx = 24.3491 * (V**-0.7277)\n",
    "                    EFi_PM10 = 0.3111 * (V**-0.5125)\n",
    "                    EFi_PM2_5 = k * 0.3111 * (V**-0.5125)\n",
    "                elif 2012 <= car_birth:\n",
    "                    if V <= 65.4:\n",
    "                        EFi_CO = 4.222 * (V**-1.4035)\n",
    "                    else:\n",
    "                        EFi_CO = 0.01166 * (V**0.09222)         # EFi_CO = 0.01166 * (V**0.09222) (⭕)\n",
    "                    if V <= 97.3:                               # 97.3 초과에 대한 내용 없음.(편람 p.371)\n",
    "                        EFi_HC = 0.829 * (V**-1.0961)\n",
    "                    if V <= 65.4:\n",
    "                        EFi_NOx = 2.0217 * (V**-0.2645)\n",
    "                    else:\n",
    "                        EFi_NOx = 0.0271 * (V**0.7596)\n",
    "                    EFi_PM10 = 0.1119 * (V**-0.5125)\n",
    "                    EFi_PM2_5 = k * 0.1119 * (V**-0.5125)\n",
    "                EFi_NH3 = 0.001\n",
    "            elif (car_type == '승합') and (car_size == '중형'):\n",
    "                if car_birth <= 1995:\n",
    "                    EFi_CO = 32.550 * (V**-0.4944)\n",
    "                    EFi_HC = 15.753 * (V**-0.5912)\n",
    "                    if V < 80:\n",
    "                        EFi_NOx = 40.692 * (V**-0.5590)\n",
    "                    else:\n",
    "                        EFi_NOx = -0.0023 * (V**2) + 0.5381 * V - 23.590\n",
    "                    EFi_PM10 = 5.4886 * (V**-0.5911)\n",
    "                    EFi_PM2_5 = k * 5.4886 * (V**-0.5911)\n",
    "                elif 1996 <= car_birth <= 1997:\n",
    "                    EFi_CO = 16.410 * (V**-0.3790)\n",
    "                    EFi_HC = 4.2324 * (V**-0.3926)\n",
    "                    if V < 80:\n",
    "                        EFi_NOx = 22.804 * (V**-0.4660)\n",
    "                    else:\n",
    "                        EFi_NOx = -0.0021 * (V**2) + 0.4430 * V - 18.730\n",
    "                    EFi_PM10 = 1.6593 * (V**-0.3935)\n",
    "                    EFi_PM2_5 = k * 1.6593 * (V**-0.3935)\n",
    "                elif 1998 <= car_birth <= 2000:\n",
    "                    EFi_CO = 16.410 * (V**-0.3790)\n",
    "                    EFi_HC = 4.2324 * (V**-0.3926)\n",
    "                    if V < 80:\n",
    "                        EFi_NOx = 25.708 * (V**-0.4772)\n",
    "                    else:\n",
    "                        EFi_NOx = 0.0019 * (V**2) - 0.2628 * V + 12.145\n",
    "                    EFi_PM10 = 1.6593 * (V**-0.3935)\n",
    "                    EFi_PM2_5 = k * 1.6593 * (V**-0.3935)\n",
    "                elif 2001 <= car_birth <= 2004:\n",
    "                    EFi_CO = 16.378 * (V**-0.5340)\n",
    "                    EFi_HC = 5.8477 * (V**-0.5466)\n",
    "                    if V < 80:\n",
    "                        EFi_NOx = 25.436 * (V**-0.4656)\n",
    "                    else:\n",
    "                        EFi_NOx = 0.0008 * (V**2) - 0.0482 * V + 1.8424\n",
    "                    EFi_PM10 = 1.2848 * (V**-0.4715)\n",
    "                    EFi_PM2_5 = k * 1.2848 * (V**-0.4715)\n",
    "                elif 2005 <= car_birth <= 2007:\n",
    "                    EFi_CO = 15.256 * (V**-0.7448)\n",
    "                    EFi_HC = 2.0502 * (V**-0.6504)\n",
    "                    EFi_NOx = 15.001 * (V**-0.4528)\n",
    "                    EFi_PM10 = 0.2979 * (V**-0.4008)\n",
    "                    EFi_PM2_5 = k * 1.0457 * (V**-0.4527)\n",
    "                elif 2008 <= car_birth <= 2010:\n",
    "                    EFi_CO = 8.1771 * (V**-0.7725)\n",
    "                    EFi_HC = 1.2991 * (V**-0.6538)\n",
    "                    if V <= 64.7:\n",
    "                        EFi_NOx = 17.3032 * (V**-0.3660)\n",
    "                        EFi_PM10 = 0.0539 * (V**-0.5182)\n",
    "                        EFi_PM2_5 = k * 0.0539 * (V**-0.5182)\n",
    "                    else:\n",
    "                        EFi_NOx = 0.3259 * (V**0.5773)\n",
    "                        EFi_PM10 = 2.0000*(10**-4) * V - 7.5600*(10**-3)\n",
    "                        EFi_PM2_5 = k * 2.0000*(10**-4) * V - 7.5600*(10**-3)\n",
    "                elif 2011 <= car_birth <= 2014:\n",
    "                    EFi_CO = 4.5201 * (V**-0.7279)\n",
    "                    EFi_HC = 1.6826 * (V**-0.8045)\n",
    "                    if V <= 64.7:\n",
    "                        EFi_NOx = 17.2485 * (V**-0.4040)\n",
    "                        EFi_PM10 = 0.0469 * (V**-0.4674)\n",
    "                        EFi_PM2_5 = k * 0.0469 * (V**-0.4674)\n",
    "                    else:\n",
    "                        EFi_NOx = 1.1797 * (V**0.2308)\n",
    "                        EFi_PM10 = 1.6800*(10**-4) * V - 5.1600*(10**-3)\n",
    "                        EFi_PM2_5 = k * 1.6800*(10**-4) * V - 5.1600*(10**-3)\n",
    "                elif 2015 <= car_birth:\n",
    "                    EFi_CO = 7.4065 * (V**-0.5995)\n",
    "                    EFi_HC = 2.4562 * (V**-1.3145)\n",
    "                    EFi_NOx = 42.7393 * (V**-1.2949)\n",
    "                    if V <= 64.7:\n",
    "                        EFi_PM10 = 0.0081 * (V**-0.5182)\n",
    "                        EFi_PM2_5 = k * 0.0081 * (V**-0.5182)\n",
    "                    else:\n",
    "                        EFi_PM10 = 3.0000*(10**-5) * V - 0.0011\n",
    "                        EFi_PM2_5 = k * 3.0000*(10**-5) * V - 0.0011\n",
    "                EFi_NH3 = 0.001\n",
    "            elif (car_type == '승합') and (car_size == '대형'):\n",
    "                if car_birth <= 1995:\n",
    "                    EFi_CO = 28.205 * (V**-0.5337)\n",
    "                    EFi_HC = 6.1146 * (V**-0.4979)\n",
    "                    EFi_NOx = 41.346 * (V**-0.3645)\n",
    "                    EFi_PM10 = 5.2158 * (V**-0.5048)\n",
    "                    EFi_PM2_5 = k * 5.2158 * (V**-0.5048)\n",
    "                    EFi_NH3 = 0.003\n",
    "                elif 1996 <= car_birth <= 1997:\n",
    "                    EFi_CO = 23.205 * (V**-0.5425)\n",
    "                    EFi_HC = 6.5657 * (V**-0.5431)\n",
    "                    EFi_NOx = 42.1379 * (V**-0.3786)\n",
    "                    EFi_PM10 = 2.4911 * (V**-0.4149)\n",
    "                    EFi_PM2_5 = k * 2.4911 * (V**-0.4149)\n",
    "                    EFi_NH3 = 0.003\n",
    "                elif 1998 <= car_birth <= 2000:\n",
    "                    EFi_CO = 23.205 * (V**-0.5425)\n",
    "                    EFi_HC = 6.5657 * (V**-0.5431)\n",
    "                    EFi_NOx = 42.1379 * (V**-0.3786)\n",
    "                    EFi_PM10 = 1.4432 * (V**-0.3870)\n",
    "                    EFi_PM2_5 = k * 1.4432 * (V**-0.3870)\n",
    "                    EFi_NH3 = 0.003\n",
    "                elif car_birth == 2001:\n",
    "                    EFi_CO = 21.348 * (V**-0.5806)\n",
    "                    EFi_HC = 6.6390 * (V**-0.5760)\n",
    "                    EFi_NOx = 36.7191 * (V**-0.3548)\n",
    "                    EFi_PM10 = 0.9375 * (V**-0.3910)\n",
    "                    EFi_PM2_5 = k * 0.9375 * (V**-0.3910)\n",
    "                    EFi_NH3 = 0.003\n",
    "                elif 2002 <= car_birth <= 2004:\n",
    "                    EFi_CO = 21.348 * (V**-0.5806)\n",
    "                    EFi_HC = 6.6390 * (V**-0.5760)\n",
    "                    EFi_NOx = 36.7191 * (V**-0.3548)\n",
    "                    EFi_PM10 = 1.1507 * (V**-0.4804)\n",
    "                    EFi_PM2_5 = k * 1.1507 * (V**-0.4804)\n",
    "                    EFi_NH3 = 0.003\n",
    "                elif 2005 <= car_birth <= 2007:\n",
    "                    EFi_CO = 9.6452 * (V**-0.5291)\n",
    "                    EFi_HC = 3.2339 * (V**-0.7436)\n",
    "                    EFi_NOx = 30.5870 * (V**-0.3548)\n",
    "                    if V <= 80:\n",
    "                        EFi_PM10 = 0.4657 * (V**-0.5634)\n",
    "                        EFi_PM2_5 = k * 0.4657 * (V**-0.5634)\n",
    "                    else:\n",
    "                        EFi_PM10 = 0.0014 * (V**0.7970)\n",
    "                        EFi_PM2_5 = k * 0.0014 * (V**0.7970)\n",
    "                    EFi_NH3 = 0.003\n",
    "                elif 2008 <= car_birth <= 2010:\n",
    "                    EFi_CO = 6.8493 * (V**-0.6506)\n",
    "                    EFi_HC = 1.7177 * (V**-0.6781)\n",
    "                    EFi_NOx = 40.7564 * (V**-0.4757)\n",
    "                    EFi_PM10 = 0.2418 * (V**-0.4727)\n",
    "                    EFi_PM2_5 = k * 0.2418 * (V**-0.4727)\n",
    "                    EFi_NH3 = 0.003\n",
    "                elif 2011 <= car_birth <= 2014:\n",
    "                    EFi_CO = 5.4607 * (V**-0.2990)\n",
    "                    EFi_HC = 0.8863 * (V**-0.6933)\n",
    "                    EFi_NOx = 40.3729 * (V**-0.5386)\n",
    "                    EFi_PM10 = 0.2125 * (V**-0.4650)\n",
    "                    EFi_PM2_5 = k * 0.2125 * (V**-0.4650)\n",
    "                    EFi_NH3 = 0.003\n",
    "                elif 2015 <= car_birth:\n",
    "                    EFi_CO = 11.4415 * (V**-0.8036)\n",
    "                    EFi_HC = 0.6774 * (V**-0.8321)\n",
    "                    EFi_NOx = 112.1229 * (V**-1.6393)\n",
    "                    EFi_PM10 = 0.0363 * (V**-0.4727)\n",
    "                    EFi_PM2_5 = k * 0.0363 * (V**-0.4727)\n",
    "                    EFi_NH3 = 0.007\n",
    "            elif (car_type == '화물') and (car_size == '소형'):\n",
    "                if car_birth <= 1990:\n",
    "                    EFi_CO = 4.5854 * (V**-0.3613)\n",
    "                    EFi_HC = 0.4840 * (V**-0.2756)\n",
    "                    EFi_NOx = 24.3491 * (V**-0.7277)\n",
    "                    EFi_PM10 = 0.8117 * (V**-0.4071)\n",
    "                    EFi_PM2_5 = k * 0.8117 * (V**-0.4071)\n",
    "                elif 1991 <= car_birth <= 1995:\n",
    "                    EFi_CO = 3.4774 * (V**-0.3483)\n",
    "                    EFi_HC = 0.4844 * (V**-0.3288)\n",
    "                    EFi_NOx = 24.3491 * (V**-0.7277)\n",
    "                    EFi_PM10 = 0.6188 * (V**-0.4540)\n",
    "                    EFi_PM2_5 = k * 0.6188 * (V**-0.4540)\n",
    "                elif 1996 <= car_birth <= 1997:\n",
    "                    EFi_CO = 3.3934 * (V**-0.3837)\n",
    "                    EFi_HC = 0.4955 * (V**-0.3393)\n",
    "                    EFi_NOx = 24.3491 * (V**-0.7277)\n",
    "                    EFi_PM10 = 0.7037 * (V**-0.5357)\n",
    "                    EFi_PM2_5 = k * 0.7037 * (V**-0.5357)\n",
    "                elif 1998 <= car_birth <= 1999:\n",
    "                    EFi_CO = 4.0896 * (V**-0.6083)\n",
    "                    EFi_HC = 0.6122 * (V**-0.5684)\n",
    "                    EFi_NOx = 24.3491 * (V**-0.7277)\n",
    "                    EFi_PM10 = 0.6157 * (V**-0.5357)\n",
    "                    EFi_PM2_5 = k * 0.6157 * (V**-0.5357)\n",
    "                elif 2000 <= car_birth <= 2003:\n",
    "                    EFi_CO = 4.0896 * (V**-0.6083)\n",
    "                    EFi_HC = 0.6122 * (V**-0.5684)\n",
    "                    EFi_NOx = 24.3491 * (V**-0.7277)\n",
    "                    EFi_PM10 = 0.4838 * (V**-0.5357)\n",
    "                    EFi_PM2_5 = k * 0.4838 * (V**-0.5357)\n",
    "                elif 2004 <= car_birth <= 2007:\n",
    "                    EFi_CO = 3.2797 * (V**-0.8887)\n",
    "                    EFi_HC = 0.1807 * (V**-0.6588)\n",
    "                    EFi_NOx = 24.3491 * (V**-0.7277)\n",
    "                    EFi_PM10 = 0.2067 * (V**-0.3596)\n",
    "                    EFi_PM2_5 = k * 0.2067 * (V**-0.3596)\n",
    "                elif 2008 <= car_birth <= 2011:\n",
    "                    if V <= 65.4:\n",
    "                        EFi_CO = 4.222 * (V**-1.4035)\n",
    "                    else:\n",
    "                        EFi_CO = 0.01166 * (V**0.09222)\n",
    "                    if V <= 97.3:                               # 97.3 초과에 대한 내용 없음.(편람 p.374)\n",
    "                        EFi_HC = 0.829 * (V**-1.0961)\n",
    "                    EFi_NOx = 24.3491 * (V**-0.7277)\n",
    "                    EFi_PM10 = 0.3111 * (V**-0.5125)\n",
    "                    EFi_PM2_5 = k * 0.3111 * (V**-0.5125)\n",
    "                elif 2012 <= car_birth <= 2016:\n",
    "                    if V <= 65.4:\n",
    "                        EFi_CO = 4.222 * (V**-1.4035)\n",
    "                        EFi_NOx = 2.0217 * (V**-0.2645)\n",
    "                    else:\n",
    "                        EFi_CO = 0.01166 * (V**0.09222)\n",
    "                        EFi_NOx = 0.0271 * (V**0.7596)\n",
    "                    if V <= 97.3:                               # 97.3 초과에 대한 내용 없음.(편람 p.374)\n",
    "                        EFi_HC = 0.829 * (V**-1.0961)\n",
    "                    EFi_PM10 = 0.1119 * (V**-0.5125)\n",
    "                    EFi_PM2_5 = k * 0.1119 * (V**-0.5125)\n",
    "                EFi_NH3 = 0.001\n",
    "            elif (car_type == '화물') and (car_size == '중형'):\n",
    "                if car_birth <= 1995:\n",
    "                    EFi_CO = 16.769 * (V**-0.3772)\n",
    "                    EFi_HC = 6.7755 * (V**-0.5003)\n",
    "                    EFi_NOx = 24.915 * (V**-0.3942)\n",
    "                    EFi_PM10 = 3.6772 * (V**-0.5514)\n",
    "                    EFi_PM2_5 = k * 3.6772 * (V**-0.5514)\n",
    "                elif 1996 <= car_birth <= 2000:\n",
    "                    EFi_CO = 21.057 * (V**-0.4958)\n",
    "                    EFi_HC = 6.7532 * (V**-0.5711)\n",
    "                    EFi_NOx = 25.022 * (V**-0.4240)\n",
    "                    EFi_PM10 = 3.5285 * (V**-0.5962)\n",
    "                    EFi_PM2_5 = k * 3.5285 * (V**-0.5962)\n",
    "                elif car_birth == 2001:\n",
    "                    EFi_CO = 23.501 * (V**-0.6100)        # EFi_CO = 23.501 * (V**-0.6100) (⭕)     \n",
    "                    EFi_HC = 6.8738 * (V**-0.5913)\n",
    "                    if V <= 64.7:\n",
    "                        EFi_NOx = 17.3032 * (V**-0.3660)\n",
    "                    else:\n",
    "                        EFi_NOx = 0.3259 * (V**0.5773)\n",
    "                    EFi_PM10 = 1.4444 * (V**-0.4824)\n",
    "                    EFi_PM2_5 = k * 1.4444 * (V**-0.4824)\n",
    "                elif 2002 <= car_birth <= 2004:\n",
    "                    EFi_CO = 23.501 * (V**-0.6100)        # EFi_CO = 23.501 * (V**-0.6100) (⭕)\n",
    "                    EFi_HC = 6.8738 * (V**-0.5913)\n",
    "                    if V <= 64.7:\n",
    "                        EFi_NOx = 17.3032 * (V**-0.3660)\n",
    "                    else:\n",
    "                        EFi_NOx = 0.3259 * (V**0.5773)\n",
    "                    EFi_PM10 = 1.0432 * (V**-0.4992)\n",
    "                    EFi_PM2_5 = k * 1.0432 * (V**-0.4992)\n",
    "                elif 2005 <= car_birth <= 2007:\n",
    "                    EFi_CO = 15.256 * (V**-0.7448)\n",
    "                    EFi_HC = 2.0502 * (V**-0.6504)\n",
    "                    if V <= 64.7:\n",
    "                        EFi_NOx = 17.3032 * (V**-0.3660)\n",
    "                    else:\n",
    "                        EFi_NOx = 0.3259 * (V**0.5773)\n",
    "                    EFi_PM10 = 0.2979 * (V**-0.4008)\n",
    "                    EFi_PM2_5 = k * 0.2979 * (V**-0.4008)\n",
    "                elif 2008 <= car_birth <= 2010:\n",
    "                    EFi_CO = 8.1771 * (V**-0.7725)\n",
    "                    EFi_HC = 1.2991 * (V**-0.6538)\n",
    "                    if V <= 64.7:\n",
    "                        EFi_NOx = 17.3032 * (V**-0.3660)\n",
    "                        EFi_PM10 = 0.0539 * (V**-0.5182)\n",
    "                        EFi_PM2_5 = k * 0.0539 * (V**-0.5182)\n",
    "                    else:\n",
    "                        EFi_NOx = 0.3259 * (V**0.5773)\n",
    "                        EFi_PM10 = 0.0002 * V - 0.00756\n",
    "                        EFi_PM2_5 = k * 0.0002 * V - 0.00756\n",
    "                elif 2011 <= car_birth <= 2014:\n",
    "                    EFi_CO = 4.5201 * (V**-0.7279)\n",
    "                    EFi_HC = 1.6826 * (V**-0.8045)\n",
    "                    if V <= 64.7:\n",
    "                        EFi_NOx = 17.2485 * (V**-0.4040)\n",
    "                        EFi_PM10 = 0.0469 * (V**-0.4674)\n",
    "                        EFi_PM2_5 = k * 0.0469 * (V**-0.4674)\n",
    "                    else:\n",
    "                        EFi_NOx = 1.1797 * (V**0.2308)\n",
    "                        EFi_PM10 = 0.000168 * V - 0.00516\n",
    "                        EFi_PM2_5 = k * 0.000168 * V - 0.00516\n",
    "                elif 2015 <= car_birth:\n",
    "                    EFi_CO = 7.4065 * (V**-0.5995)\n",
    "                    EFi_HC = 2.4562 * (V**-1.3145)\n",
    "                    EFi_NOx = 42.7393 * (V**-1.2949)\n",
    "                    if V <= 64.7:\n",
    "                        EFi_PM10 = 0.0081 * (V**-0.5182)\n",
    "                        EFi_PM2_5 = k * 0.0081 * (V**-0.5182)\n",
    "                    else:\n",
    "                        EFi_PM10 = 3.0000 * (10**-5) * V - 0.0011\n",
    "                        EFi_PM2_5 = k * 3.0000 * (10**-5) * V - 0.0011\n",
    "                EFi_NH3 = 0.001\n",
    "            elif car_type == '특수':\n",
    "                if car_birth <= 1995:\n",
    "                    EFi_CO = 16.769 * (V**-0.3772)\n",
    "                    EFi_HC = 6.7755 * (V**-0.5003)\n",
    "                    EFi_NOx = 24.915 * (V**-0.3942)\n",
    "                    EFi_PM10 = 3.6772 * (V**-0.5514)\n",
    "                    EFi_PM2_5 = k * 3.6772 * (V**-0.5514)\n",
    "                    EFi_NH3 = 0.003\n",
    "                elif 1996 <= car_birth <= 2000:\n",
    "                    EFi_CO = 21.057 * (V**-0.4958)\n",
    "                    EFi_HC = 6.7532 * (V**-0.5711)\n",
    "                    EFi_NOx = 25.022 * (V**-0.4240)\n",
    "                    EFi_PM10 = 3.5285 * (V**-0.5962)\n",
    "                    EFi_PM2_5 = k * 3.5285 * (V**-0.5962)\n",
    "                    EFi_NH3 = 0.003\n",
    "                elif car_birth == 2001:\n",
    "                    EFi_CO = 23.501 * (V**-0.6100)             # EFi_CO = 23.501 * (V**-0.6100) (⭕)\n",
    "                    EFi_HC = 6.8738 * (V**-0.5913)\n",
    "                    if V <= 64.7:\n",
    "                        EFi_NOx = 17.3032 * (V**-0.3660)\n",
    "                    else:\n",
    "                        EFi_NOx = 0.3259 * (V**0.5773)\n",
    "                    EFi_PM10 = 1.4444 * (V**-0.4824)\n",
    "                    EFi_PM2_5 = k * 1.4444 * (V**-0.4824)\n",
    "                    EFi_NH3 = 0.003\n",
    "                elif 2002 <= car_birth <= 2004:\n",
    "                    EFi_CO = 23.501 * (V**-0.6100)             # EFi_CO = 23.501 * (V**-0.6100) (⭕)\n",
    "                    EFi_HC = 6.8738 * (V**-0.5913)\n",
    "                    if V <= 64.7:\n",
    "                        EFi_NOx = 17.3032 * (V**-0.3660)\n",
    "                    else:\n",
    "                        EFi_NOx = 0.3259 * (V**0.5773)\n",
    "                    EFi_PM10 = 1.0432 * (V**-0.4992)\n",
    "                    EFi_PM2_5 = k * 1.0432 * (V**-0.4992)\n",
    "                    EFi_NH3 = 0.003\n",
    "                elif 2005 <= car_birth <= 2007:\n",
    "                    EFi_CO = 15.256 * (V**-0.7448)\n",
    "                    EFi_HC = 2.0502 * (V**-0.6504)\n",
    "                    if V <= 64.7:\n",
    "                        EFi_NOx = 17.3032 * (V**-0.3660)\n",
    "                    else:\n",
    "                        EFi_NOx = 0.3259 * (V**0.5773)\n",
    "                    EFi_PM10 = 0.2979 * (V**-0.4008)\n",
    "                    EFi_PM2_5 = k * 0.2979 * (V**-0.4008)\n",
    "                    EFi_NH3 = 0.003\n",
    "                elif 2008 <= car_birth <= 2009:\n",
    "                    EFi_CO = 8.1771 * (V**-0.7725)\n",
    "                    EFi_HC = 1.2991 * (V**-0.6538)\n",
    "                    if V <= 64.7:\n",
    "                        EFi_NOx = 17.3032 * (V**-0.3660)\n",
    "                        EFi_PM10 = 0.0539 * (V**-0.5182)\n",
    "                        EFi_PM2_5 = k * 0.0539 * (V**-0.5182)\n",
    "                    else:\n",
    "                        EFi_NOx = 0.3259 * (V**0.5773)\n",
    "                        EFi_PM10 = 0.0002 * V - 0.00756\n",
    "                        EFi_PM2_5 = k * 0.0002 * V - 0.00756\n",
    "                    EFi_NH3 = 0.003\n",
    "                elif car_birth == 2010:\n",
    "                    EFi_CO = 8.1771 * (V**-0.7725)\n",
    "                    EFi_HC = 1.2991 * (V**-0.6538)\n",
    "                    if V <= 64.7:\n",
    "                        EFi_NOx = 17.3032 * (V**-0.3660)\n",
    "                        EFi_PM10 = 0.0539 * (V**-0.5182)\n",
    "                        EFi_PM2_5 = k * 0.0539 * (V**-0.5182)\n",
    "                    else:\n",
    "                        EFi_NOx = 0.3259 * (V**0.5773)\n",
    "                        EFi_PM10 = 0.0002 * V - 0.00756\n",
    "                        EFi_PM2_5 = k * 0.0002 * V - 0.00756\n",
    "                    EFi_NH3 = 0.011\n",
    "                elif 2011 <= car_birth <= 2014:\n",
    "                    EFi_CO = 4.5201 * (V**-0.7279)\n",
    "                    EFi_HC = 1.6826 * (V**-0.8045)\n",
    "                    if V <= 64.7:\n",
    "                        EFi_NOx = 17.2485 * (V**-0.4040)\n",
    "                        EFi_PM10 = 0.0469 * (V**-0.4674)\n",
    "                        EFi_PM2_5 = k * 0.0469 * (V**-0.4674)\n",
    "                    else:\n",
    "                        EFi_NOx = 1.1797 * (V**0.2308)\n",
    "                        EFi_PM10 = 0.000168 * V - 0.00516\n",
    "                        EFi_PM2_5 = k * 0.000168 * V - 0.00516\n",
    "                    EFi_NH3 = 0.011\n",
    "                elif 2015 <= car_birth:\n",
    "                    EFi_CO = 7.4065 * (V**-0.5995)\n",
    "                    EFi_HC = 2.4562 * (V**-1.3145)\n",
    "                    EFi_NOx = 42.7393 * (V**-1.2949)\n",
    "                    if V <= 64.7:\n",
    "                        EFi_PM10 = 0.0081 * (V**-0.5182)\n",
    "                        EFi_PM2_5 = k * 0.0081 * (V**-0.5182)\n",
    "                    else:\n",
    "                        EFi_PM10 = 3.0000 * (10**-5) * V - 0.0011\n",
    "                        EFi_PM2_5 = k * 3.0000 * (10**-5) * V - 0.0011\n",
    "                    EFi_NH3 = 0.007\n",
    "            elif (car_type == '화물') and (car_size == '대형'):\n",
    "                if car_birth <= 1995:\n",
    "                    EFi_CO = 30.402 * (V**-0.4685)\n",
    "                    EFi_HC = 15.75 * (V**-0.582)\n",
    "                    EFi_NOx = 117.49 * (V**-0.365)\n",
    "                    EFi_PM10 = 7.6212 * (V**-0.4183)\n",
    "                    EFi_PM2_5 = k * 7.6212 * (V**-0.4183)\n",
    "                    EFi_NH3 = 0.003\n",
    "                elif 1996 <= car_birth <= 1997:\n",
    "                    EFi_CO = 18.101 * (V**-0.3454)\n",
    "                    EFi_HC = 10.301 * (V**-0.5856)\n",
    "                    EFi_NOx = 94.319 * (V**-0.4061)\n",
    "                    EFi_PM10 = 6.0264 * (V**-0.4627)\n",
    "                    EFi_PM2_5 = k * 6.0264 * (V**-0.4627)\n",
    "                    EFi_NH3 = 0.003\n",
    "                elif 1998 <= car_birth <= 2000:\n",
    "                    EFi_CO = 18.101 * (V**-0.3454)\n",
    "                    EFi_HC = 10.301 * (V**-0.5856)\n",
    "                    EFi_NOx = 94.319 * (V**-0.4061)\n",
    "                    EFi_PM10 = 4.873 * (V**-0.4382)\n",
    "                    EFi_PM2_5 = k * 4.873 * (V**-0.4382)\n",
    "                    EFi_NH3 = 0.003\n",
    "                elif 2001 <= car_birth <= 2004:\n",
    "                    EFi_CO = 28.399 * (V**-0.5999)\n",
    "                    EFi_HC = 10.031 * (V**-0.5828)\n",
    "                    EFi_NOx = 85.301 * (V**-0.4023)\n",
    "                    EFi_PM10 = 3.7541 * (V**-0.4055)\n",
    "                    EFi_PM2_5 = k * 3.7541 * (V**-0.4055)\n",
    "                    EFi_NH3 = 0.003\n",
    "                elif 2005 <= car_birth <= 2007:\n",
    "                    EFi_CO = 52.136 * (V**-0.8618)\n",
    "                    EFi_HC = 3.7878 * (V**-0.5425)\n",
    "                    EFi_NOx = 107.5 * (V**-0.5679)\n",
    "                    EFi_PM10 = 2.6847 * (V**-0.6112)\n",
    "                    EFi_PM2_5 = k * 2.6847 * (V**-0.6112)\n",
    "                    EFi_NH3 = 0.003\n",
    "                elif car_birth == 2008:                    # 2008 <= car_birth <= 2009 -> 2008 == car_birth: 변경 (⭕)\n",
    "                    EFi_CO = 6.8493 * (V**-0.6506)\n",
    "                    EFi_HC = 1.7177 * (V**-0.6781)\n",
    "                    EFi_NOx = 40.7564 * (V**-0.4757)\n",
    "                    EFi_PM10 = 0.2418 * (V**-0.4727)\n",
    "                    EFi_PM2_5 = k * 0.2418 * (V**-0.4727)\n",
    "                    EFi_NH3 = 0.003\n",
    "                elif 2009 <= car_birth <= 2010:\n",
    "                    EFi_CO = 6.8493 * (V**-0.6506)\n",
    "                    EFi_HC = 1.7177 * (V**-0.6781)\n",
    "                    EFi_NOx = 40.7564 * (V**-0.4757)\n",
    "                    EFi_PM10 = 0.2418 * (V**-0.4727)\n",
    "                    EFi_PM2_5 = k * 0.2418 * (V**-0.4727)\n",
    "                    EFi_NH3 = 0.011\n",
    "                elif 2011 <= car_birth <= 2014:\n",
    "                    EFi_CO = 5.4607 * (V**-0.2990)\n",
    "                    EFi_HC = 0.8863 * (V**-0.6933)\n",
    "                    EFi_NOx = 40.3729 * (V**-0.5386)\n",
    "                    EFi_PM10 = 0.2125 * (V**-0.4650)\n",
    "                    EFi_PM2_5 = k * 0.2125 * (V**-0.4650)\n",
    "                    EFi_NH3 = 0.011\n",
    "                elif 2015 <= car_birth:\n",
    "                    EFi_CO = 4.3762 * (V**-0.4550)\n",
    "                    EFi_HC = 0.3627 * (V**-0.7071)\n",
    "                    EFi_NOx = 18.0405 * (V**-1.0986)\n",
    "                    EFi_PM10 = 0.0363 * (V**-0.4727)\n",
    "                    EFi_PM2_5 = k * 0.0363 * (V**-0.4727)\n",
    "                    EFi_NH3 = 0.007\n",
    "        elif fuel == 'LPG':\n",
    "            if (car_type == '승용') and (car_size == '경형'):\n",
    "                if car_birth <= 1996:\n",
    "                    if V <= 45:\n",
    "                        EFi_CO = 22.498 * (V**-0.6579)\n",
    "                    else:\n",
    "                        EFi_CO = 0.0006 * (V**2) + 0.0004 * V + 0.8272\n",
    "                    EFi_HC = 12.961 * (V**-0.8364)\n",
    "                    EFi_NOx = 4.0131 * (V**-0.3236)\n",
    "                    if V < 85:\n",
    "                        EFi_PM10 = 0.0002\n",
    "                        EFi_PM2_5 = k * 0.0002\n",
    "                    else:\n",
    "                        EFi_PM10 = 0.0005\n",
    "                        EFi_PM2_5 = k * 0.0005\n",
    "                elif 1997 <= car_birth <= 1999:\n",
    "                    if V <= 45:\n",
    "                        EFi_CO = 19.887 * (V**-0.8461)\n",
    "                    else:\n",
    "                        EFi_CO = -0.0004 * (V**2) + 0.0911 * V - 2.2698\n",
    "                    EFi_HC = 2.2714 * (V**-0.7830)\n",
    "                    EFi_NOx = 1.8528 * (V**-0.3889)\n",
    "                    if V < 85:\n",
    "                        EFi_PM10 = 0.0002\n",
    "                        EFi_PM2_5 = k * 0.0002\n",
    "                    else:\n",
    "                        EFi_PM10 = 0.0005\n",
    "                        EFi_PM2_5 = k * 0.0005\n",
    "                elif 2000 <= car_birth <= 2002:\n",
    "                    if V <= 45:\n",
    "                        EFi_CO = 19.887 * (V**-0.8461)\n",
    "                    else:\n",
    "                        EFi_CO = -0.0004 * (V**2) + 0.0911 * V - 2.2698\n",
    "                    EFi_HC = 2.2714 * (V**-0.7830)\n",
    "                    EFi_NOx = 5.8289 * (V**-0.9198)\n",
    "                    if V < 85:\n",
    "                        EFi_PM10 = 0.0002\n",
    "                        EFi_PM2_5 = k * 0.0002\n",
    "                    else:\n",
    "                        EFi_PM10 = 0.0005\n",
    "                        EFi_PM2_5 = k * 0.0005\n",
    "                elif 2003 <= car_birth <= 2005:\n",
    "                    if V <= 45:\n",
    "                        EFi_CO = 19.887 * (V**-0.8461)\n",
    "                    else:\n",
    "                        EFi_CO = -0.0004 * (V**2) + 0.0911 * V - 2.2698\n",
    "                    EFi_HC = 1.1073 * (V**-0.7830)\n",
    "                    EFi_NOx = 5.8289 * (V**-0.9198)\n",
    "                    if V < 85:\n",
    "                        EFi_PM10 = 0.0002\n",
    "                        EFi_PM2_5 = k * 0.0002\n",
    "                    else:\n",
    "                        EFi_PM10 = 0.0005\n",
    "                        EFi_PM2_5 = k * 0.0005\n",
    "                elif 2006 <= car_birth <= 2007:\n",
    "                    if V <= 45:\n",
    "                        EFi_CO = 8.9904 * (V**-0.8461)\n",
    "                    else:\n",
    "                        EFi_CO = -0.0002 * (V**2) + 0.0457 * V - 1.1403\n",
    "                    EFi_HC = 0.3549 * (V**-0.7830)\n",
    "                    EFi_NOx = 0.7228 * (V**-0.9198)\n",
    "                    if V < 85:\n",
    "                        EFi_PM10 = 0.0002\n",
    "                        EFi_PM2_5 = k * 0.0002\n",
    "                    else:\n",
    "                        EFi_PM10 = 0.0005\n",
    "                        EFi_PM2_5 = k * 0.0005\n",
    "                elif car_birth == 2008:\n",
    "                    if V <= 79.6:\n",
    "                        EFi_CO = 0.7693 * (V**-0.7666)\n",
    "                        EFi_HC = 0.1063 * (V**-1.0745)\n",
    "                    else:\n",
    "                        EFi_CO = 5.0000 * (10**-16) * (V**7.2766)\n",
    "                        EFi_HC = 1.0000 * (10**-15) * (V**6.2696)\n",
    "                    EFi_NOx = -4.0000 * (10**-6) * (V**2) + 6.0000 * (10**-4) * V + 5.5000 * (10**-3)\n",
    "                    if V < 85:\n",
    "                        EFi_PM10 = 0.0002\n",
    "                        EFi_PM2_5 = k * 0.0002\n",
    "                    else:\n",
    "                        EFi_PM10 = 0.0005\n",
    "                        EFi_PM2_5 = k * 0.0005\n",
    "                elif 2009 <= car_birth <= 2011:\n",
    "                    if V <= 79.6:\n",
    "                        EFi_CO = 0.7059 * (V**-0.7666)\n",
    "                        EFi_HC = 0.0974 * (V**-1.0745)\n",
    "                    else:\n",
    "                        EFi_CO = 4.5878 * (10**-16) * (V**7.2766)\n",
    "                        EFi_HC = 9.1667 * (10**-16) * (V**6.2696)\n",
    "                    EFi_NOx = -3.7333 * (10**-6) * (V**2) + 5.6000 * (10**-4) * V + 5.1333 * (10**-3)\n",
    "                    if V < 85:\n",
    "                        EFi_PM10 = 0.0002\n",
    "                        EFi_PM2_5 = k * 0.0002\n",
    "                    else:\n",
    "                        EFi_PM10 = 0.0005\n",
    "                        EFi_PM2_5 = k * 0.0005\n",
    "                elif 2012 <= car_birth <= 2013:\n",
    "                    if V <= 79.6:\n",
    "                        EFi_CO = 0.6830 * (V**-0.7666)\n",
    "                        EFi_HC = 0.0943 * (V**-1.0745)\n",
    "                    else:\n",
    "                        EFi_CO = 4.4393 * (10**-16) * (V**7.2766)\n",
    "                        EFi_HC = 8.8667 * (10**-16) * (V**6.2696)\n",
    "                    EFi_NOx = -3.6373 * (10**-6) * (V**2) + 5.4560 * (10**-4) * V + 5.0013 * (10**-3)\n",
    "                    if V < 85:\n",
    "                        EFi_PM10 = 0.0002\n",
    "                        EFi_PM2_5 = k * 0.0002\n",
    "                    else:\n",
    "                        EFi_PM10 = 0.0005\n",
    "                        EFi_PM2_5 = k * 0.0005\n",
    "                elif car_birth == 2014:\n",
    "                    if V <= 79.6:\n",
    "                        EFi_CO = 0.6602 * (V**-0.7666)\n",
    "                        EFi_HC = 0.0911 * (V**-1.0745)\n",
    "                    else:\n",
    "                        EFi_CO = 4.2909 * (10**-16) * (V**7.2766)\n",
    "                        EFi_HC = 8.5667 * (10**-16) * (V**6.2696)\n",
    "                    EFi_NOx = -3.5413 * (10**-6) * (V**2) + 5.3120 * (10**-4) * V + 4.8693 * (10**-3)\n",
    "                    if V < 85:\n",
    "                        EFi_PM10 = 0.0002\n",
    "                        EFi_PM2_5 = k * 0.0002\n",
    "                    else:\n",
    "                        EFi_PM10 = 0.0005\n",
    "                        EFi_PM2_5 = k * 0.0005\n",
    "                elif 2015 <= car_birth:\n",
    "                    if V <= 79.6:\n",
    "                        EFi_CO = 0.6374 * (V**-0.7666)\n",
    "                        EFi_HC = 0.0879 * (V**-1.0745)\n",
    "                    else:\n",
    "                        EFi_CO = 4.1425 * (10**-16) * (V**7.2766)\n",
    "                        EFi_HC = 8.2667 * (10**-16) * (V**6.2696)\n",
    "                    EFi_NOx = -3.4453 * (10**-6) * (V**2) + 5.1680 * (10**-4) * V + 4.7373 * (10**-3)\n",
    "                    if V < 85:\n",
    "                        EFi_PM10 = 0.0002\n",
    "                        EFi_PM2_5 = k * 0.0002\n",
    "                    else:\n",
    "                        EFi_PM10 = 0.0005\n",
    "                        EFi_PM2_5 = k * 0.0005\n",
    "            elif (car_type == '승용') and (car_size == '소형'):\n",
    "                if car_birth <= 1990:\n",
    "                    EFi_CO = 72.338 * (V**-0.7587)\n",
    "                    EFi_HC = 26.532 * (V**-1.0423)\n",
    "                    EFi_NOx = 9.3011 * (V**-0.6781)\n",
    "                    if V < 85:\n",
    "                        EFi_PM10 = 0.0002\n",
    "                        EFi_PM2_5 = k * 0.0002\n",
    "                    else:\n",
    "                        EFi_PM10 = 0.0005\n",
    "                        EFi_PM2_5 = k * 0.0005\n",
    "                elif 1991 <= car_birth == 1996:\n",
    "                    EFi_CO = 72.338 * (V**-0.7587)\n",
    "                    EFi_HC = 101.79 * (V**-1.6823)\n",
    "                    EFi_NOx = 11.287 * (V**-0.7634)\n",
    "                    if V < 85:\n",
    "                        EFi_PM10 = 0.0002\n",
    "                        EFi_PM2_5 = k * 0.0002\n",
    "                    else:\n",
    "                        EFi_PM10 = 0.0005\n",
    "                        EFi_PM2_5 = k * 0.0005\n",
    "                elif 1997 <= car_birth <= 1999:\n",
    "                    EFi_CO = 44.956 * (V**-1.0085)\n",
    "                    EFi_HC = 11.173 * (V**-1.3927)\n",
    "                    EFi_NOx = 7.5371 * (V**-0.7864)\n",
    "                    if V < 85:\n",
    "                        EFi_PM10 = 0.0002\n",
    "                        EFi_PM2_5 = k * 0.0002\n",
    "                    else:\n",
    "                        EFi_PM10 = 0.0005\n",
    "                        EFi_PM2_5 = k * 0.0005\n",
    "                elif 2000 <= car_birth <= 2002:\n",
    "                    EFi_CO = 44.956 * (V**-1.0085)\n",
    "                    EFi_HC = 11.173 * (V**-1.3927)\n",
    "                    EFi_NOx = 4.7108 * (V**-0.7864)\n",
    "                    if V < 85:\n",
    "                        EFi_PM10 = 0.0002\n",
    "                        EFi_PM2_5 = k * 0.0002\n",
    "                    else:\n",
    "                        EFi_PM10 = 0.0005\n",
    "                        EFi_PM2_5 = k * 0.0005\n",
    "                elif 2003 <= car_birth <= 2005:\n",
    "                    EFi_CO = 44.956 * (V**-1.0085)\n",
    "                    EFi_HC = 3.2821 * (V**-1.3927)\n",
    "                    EFi_NOx = 4.7108 * (V**-0.7864)\n",
    "                    if V < 85:\n",
    "                        EFi_PM10 = 0.0002\n",
    "                        EFi_PM2_5 = k * 0.0002\n",
    "                    else:\n",
    "                        EFi_PM10 = 0.0005\n",
    "                        EFi_PM2_5 = k * 0.0005\n",
    "                elif 2006 <= car_birth <= 2007:\n",
    "                    EFi_CO = 39.362 * (V**-1.0085)\n",
    "                    EFi_HC = 2.8981 * (V**-1.3927)\n",
    "                    EFi_NOx = 1.8419 * (V**-0.7864)\n",
    "                    if V < 85:\n",
    "                        EFi_PM10 = 0.0002\n",
    "                        EFi_PM2_5 = k * 0.0002\n",
    "                    else:\n",
    "                        EFi_PM10 = 0.0005\n",
    "                        EFi_PM2_5 = k * 0.0005\n",
    "                elif car_birth == 2008:\n",
    "                    if V <= 79.6:\n",
    "                        EFi_CO = 0.7693 * (V**-0.7666)\n",
    "                        EFi_HC = 0.1063 * (V**-1.0745)\n",
    "                    else:\n",
    "                        EFi_CO = 5.0000 * (10**-16) * (V**7.2766)\n",
    "                        EFi_HC = 1.0000 * (10**-15) * (V**6.2696)\n",
    "                    EFi_NOx = -4.0000 * (10**-6) * (V**2) + 6.0000 * (10**-4) * V + 5.5000 * (10**-3)\n",
    "                    if V < 85:\n",
    "                        EFi_PM10 = 0.0002\n",
    "                        EFi_PM2_5 = k * 0.0002\n",
    "                    else:\n",
    "                        EFi_PM10 = 0.0005\n",
    "                        EFi_PM2_5 = k * 0.0005\n",
    "                elif 2009 <= car_birth <= 2011:\n",
    "                    if V <= 79.6:\n",
    "                        EFi_CO = 0.7059 * (V**-0.7666)\n",
    "                        EFi_HC = 0.0974 * (V**-1.0745)\n",
    "                    else:\n",
    "                        EFi_CO = 4.5878 * (10**-16) * (V**7.2766)\n",
    "                        EFi_HC = 9.1667 * (10**-16) * (V**6.2696)\n",
    "                    EFi_NOx = -3.7333 * (10**-6) * (V**2) + 5.6000 * (10**-4) * V + 5.1333 * (10**-3)\n",
    "                    if V < 85:\n",
    "                        EFi_PM10 = 0.0002\n",
    "                        EFi_PM2_5 = k * 0.0002\n",
    "                    else:\n",
    "                        EFi_PM10 = 0.0005\n",
    "                        EFi_PM2_5 = k * 0.0005\n",
    "                elif 2012 <= car_birth <= 2013:\n",
    "                    if V <= 79.6:\n",
    "                        EFi_CO = 0.6830 * (V**-0.7666)\n",
    "                        EFi_HC = 0.0943 * (V**-1.0745)\n",
    "                    else:\n",
    "                        EFi_CO = 4.4393 * (10**-16) * (V**7.2766)\n",
    "                        EFi_HC = 8.8667 * (10**-16) * (V**6.2696)\n",
    "                    EFi_NOx = -3.6373 * (10**-6) * (V**2) + 5.4560 * (10**-4) * V + 5.0013 * (10**-3)\n",
    "                    if V < 85:\n",
    "                        EFi_PM10 = 0.0002\n",
    "                        EFi_PM2_5 = k * 0.0002\n",
    "                    else:\n",
    "                        EFi_PM10 = 0.0005\n",
    "                        EFi_PM2_5 = k * 0.0005\n",
    "                elif car_birth == 2014:\n",
    "                    if V <= 79.6:\n",
    "                        EFi_CO = 0.6602 * (V**-0.7666)\n",
    "                        EFi_HC = 0.0911 * (V**-1.0745)\n",
    "                    else:\n",
    "                        EFi_CO = 4.2909 * (10**-16) * (V**7.2766)\n",
    "                        EFi_HC = 8.5667 * (10**-16) * (V**6.2696)\n",
    "                    EFi_NOx = -3.5413 * (10**-6) * (V**2) + 5.3120 * (10**-4) * V + 4.8693 * (10**-3)\n",
    "                    if V < 85:\n",
    "                        EFi_PM10 = 0.0002\n",
    "                        EFi_PM2_5 = k * 0.0002\n",
    "                    else:\n",
    "                        EFi_PM10 = 0.0005\n",
    "                        EFi_PM2_5 = k * 0.0005\n",
    "                elif 2015 <= car_birth:\n",
    "                    if V <= 79.6:\n",
    "                        EFi_CO = 0.6374 * (V**-0.7666)\n",
    "                        EFi_HC = 0.0879 * (V**-1.0745)\n",
    "                    else:\n",
    "                        EFi_CO = 4.1425 * (10**-16) * (V**7.2766)\n",
    "                        EFi_HC = 8.2667 * (10**-16) * (V**6.2696)\n",
    "                    EFi_NOx = -3.4453 * (10**-6) * (V**2) + 5.1680 * (10**-4) * V + 4.7373 * (10**-3)\n",
    "                    if V < 85:\n",
    "                        EFi_PM10 = 0.0002\n",
    "                        EFi_PM2_5 = k * 0.0002\n",
    "                    else:\n",
    "                        EFi_PM10 = 0.0005\n",
    "                        EFi_PM2_5 = k * 0.0005\n",
    "                if V <= 60:\n",
    "                    EFi_NH3 = 0.0095\n",
    "                elif 60 < V <= 90:\n",
    "                    EFi_NH3 = 0.0082\n",
    "                else:\n",
    "                    EFi_NH3 = 0.022\n",
    "            elif ( (car_type == '승용') and ( (car_size == '중형') or (car_size == '대형') ) or ( (car_type == '특수') and (car_size == '중형') ) ): # 최이사님 확인(2023.04.20) : 특수 중형 -> 승용 중형 조건으로 계산\n",
    "                if car_birth <= 1990:\n",
    "                    EFi_CO = 72.338 * (V**-0.7587)\n",
    "                    EFi_HC = 26.532 * (V**-1.0423)\n",
    "                    EFi_NOx = 9.3011 * (V**-0.6781)\n",
    "                    if V < 85:\n",
    "                        EFi_PM10 = 0.0002\n",
    "                        EFi_PM2_5 = k * 0.0002\n",
    "                    else:\n",
    "                        EFi_PM10 = 0.0005\n",
    "                        EFi_PM2_5 = k * 0.0005\n",
    "                elif 1991 <= car_birth == 1996:\n",
    "                    EFi_CO = 29.825 * (V**-0.6771)\n",
    "                    EFi_HC = 26.520 * (V**-1.4041)\n",
    "                    EFi_NOx = 11.287 * (V**-0.7634)\n",
    "                    if V < 85:\n",
    "                        EFi_PM10 = 0.0002\n",
    "                        EFi_PM2_5 = k * 0.0002\n",
    "                    else:\n",
    "                        EFi_PM10 = 0.0005\n",
    "                        EFi_PM2_5 = k * 0.0005\n",
    "                elif 1997 <= car_birth <= 1999:\n",
    "                    EFi_CO = 29.825 * (V**-0.6771)\n",
    "                    EFi_HC = 4.7595 * (V**-0.9512)\n",
    "                    EFi_NOx = 12.562 * (V**-0.8606)\n",
    "                    if V < 85:\n",
    "                        EFi_PM10 = 0.0002\n",
    "                        EFi_PM2_5 = k * 0.0002\n",
    "                    else:\n",
    "                        EFi_PM10 = 0.0005\n",
    "                        EFi_PM2_5 = k * 0.0005\n",
    "                elif 2000 <= car_birth <= 2005:\n",
    "                    EFi_CO = 17.829 * (V**-0.6778)\n",
    "                    EFi_HC = 6.3668 * (V**-1.2849)\n",
    "                    EFi_NOx = 8.8952 * (V**-0.8119)\n",
    "                    if V < 85:\n",
    "                        EFi_PM10 = 0.0002\n",
    "                        EFi_PM2_5 = k * 0.0002\n",
    "                    else:\n",
    "                        EFi_PM10 = 0.0005\n",
    "                        EFi_PM2_5 = k * 0.0005\n",
    "                elif 2006 <= car_birth <= 2007:\n",
    "                    EFi_CO = 73.022 * (V**-1.2078)\n",
    "                    EFi_HC = 4.4166 * (V**-1.5356)\n",
    "                    EFi_NOx = 2.0280 * (V**-0.7978)\n",
    "                    if V < 85:\n",
    "                        EFi_PM10 = 0.0002\n",
    "                        EFi_PM2_5 = k * 0.0002\n",
    "                    else:\n",
    "                        EFi_PM10 = 0.0005\n",
    "                        EFi_PM2_5 = k * 0.0005\n",
    "                elif car_birth == 2008:\n",
    "                    if V <= 79.6:\n",
    "                        EFi_CO = 0.7693 * (V**-0.7666)\n",
    "                        EFi_HC = 0.1063 * (V**-1.0745)\n",
    "                    else:\n",
    "                        EFi_CO = 5.0000 * (10**-16) * (V**7.2766)\n",
    "                        EFi_HC = 1.0000 * (10**-15) * (V**6.2696)\n",
    "                    EFi_NOx = -4.0000 * (10**-6) * (V**2) + 6.0000 * (10**-4) * V + 5.5000 * (10**-3)\n",
    "                    if V < 85:\n",
    "                        EFi_PM10 = 0.0002\n",
    "                        EFi_PM2_5 = k * 0.0002\n",
    "                    else:\n",
    "                        EFi_PM10 = 0.0005\n",
    "                        EFi_PM2_5 = k * 0.0005\n",
    "                elif 2009 <= car_birth <= 2011:\n",
    "                    if V <= 79.6:\n",
    "                        EFi_CO = 0.7059 * (V**-0.7666)\n",
    "                        EFi_HC = 0.0974 * (V**-1.0745)\n",
    "                    else:\n",
    "                        EFi_CO = 4.5878 * (10**-16) * (V**7.2766)\n",
    "                        EFi_HC = 9.1667 * (10**-16) * (V**6.2696)\n",
    "                    EFi_NOx = -3.7333 * (10**-6) * (V**2) + 5.6000 * (10**-4) * V + 5.1333 * (10**-3)\n",
    "                    if V < 85:\n",
    "                        EFi_PM10 = 0.0002\n",
    "                        EFi_PM2_5 = k * 0.0002\n",
    "                    else:\n",
    "                        EFi_PM10 = 0.0005\n",
    "                        EFi_PM2_5 = k * 0.0005\n",
    "                elif 2012 <= car_birth <= 2013:\n",
    "                    if V <= 79.6:\n",
    "                        EFi_CO = 0.6830 * (V**-0.7666)\n",
    "                        EFi_HC = 0.0943 * (V**-1.0745)\n",
    "                    else:\n",
    "                        EFi_CO = 4.4393 * (10**-16) * (V**7.2766)\n",
    "                        EFi_HC = 8.8667 * (10**-16) * (V**6.2696)\n",
    "                    EFi_NOx = -3.6373 * (10**-6) * (V**2) + 5.4560 * (10**-4) * V + 5.0013 * (10**-3)\n",
    "                    if V < 85:\n",
    "                        EFi_PM10 = 0.0002\n",
    "                        EFi_PM2_5 = k * 0.0002\n",
    "                    else:\n",
    "                        EFi_PM10 = 0.0005\n",
    "                        EFi_PM2_5 = k * 0.0005\n",
    "                elif car_birth == 2014:\n",
    "                    if V <= 79.6:\n",
    "                        EFi_CO = 0.6602 * (V**-0.7666)\n",
    "                        EFi_HC = 0.0911 * (V**-1.0745)\n",
    "                    else:\n",
    "                        EFi_CO = 4.2909 * (10**-16) * (V**7.2766)\n",
    "                        EFi_HC = 8.5667 * (10**-16) * (V**6.2696)\n",
    "                    EFi_NOx = -3.5413 * (10**-6) * (V**2) + 5.3120 * (10**-4) * V + 4.8693 * (10**-3)\n",
    "                    if V < 85:\n",
    "                        EFi_PM10 = 0.0002\n",
    "                        EFi_PM2_5 = k * 0.0002\n",
    "                    else:\n",
    "                        EFi_PM10 = 0.0005\n",
    "                        EFi_PM2_5 = k * 0.0005\n",
    "                elif 2015 <= car_birth:\n",
    "                    if V <= 79.6:\n",
    "                        EFi_CO = 0.6374 * (V**-0.7666)\n",
    "                        EFi_HC = 0.0879 * (V**-1.0745)\n",
    "                    else:\n",
    "                        EFi_CO = 4.1425 * (10**-16) * (V**7.2766)\n",
    "                        EFi_HC = 8.2667 * (10**-16) * (V**6.2696)\n",
    "                    EFi_NOx = -3.4453 * (10**-6) * (V**2) + 5.1680 * (10**-4) * V + 4.7373 * (10**-3)\n",
    "                    if V < 85:\n",
    "                        EFi_PM10 = 0.0002\n",
    "                        EFi_PM2_5 = k * 0.0002\n",
    "                    else:\n",
    "                        EFi_PM10 = 0.0005\n",
    "                        EFi_PM2_5 = k * 0.0005\n",
    "                if V <= 60:\n",
    "                    EFi_NH3 = 0.0095\n",
    "                elif 60 < V <= 90:\n",
    "                    EFi_NH3 = 0.0082\n",
    "                else:\n",
    "                    EFi_NH3 = 0.022\n",
    "            elif ( (car_type == '승합') and (car_size == '경형') ) or ( (car_type == '화물') and (car_size == '경형') ):\n",
    "                if car_birth <= 1996:\n",
    "                    if V <= 45:\n",
    "                        EFi_CO = 22.498 * (V**-0.6579)\n",
    "                    else:\n",
    "                        EFi_CO = 0.0006 * (V**2) + 0.0004 * V + 0.8272\n",
    "                    EFi_HC = 12.961 * (V**-0.8364)\n",
    "                    EFi_NOx = 4.0131 * (V**-0.3236)\n",
    "                    if V < 85:\n",
    "                        EFi_PM10 = 0.0002\n",
    "                        EFi_PM2_5 = k * 0.0002\n",
    "                    else:\n",
    "                        EFi_PM10 = 0.0005\n",
    "                        EFi_PM2_5 = k * 0.0005\n",
    "                elif 1997 <= car_birth == 1999:\n",
    "                    if V <= 45:\n",
    "                        EFi_CO = 19.887 * (V**-0.8461)\n",
    "                    else:\n",
    "                        EFi_CO = -0.0004 * (V**2) + 0.0911 * V - 2.2698\n",
    "                    EFi_HC = 2.2714 * (V**-0.7830)\n",
    "                    EFi_NOx = 1.8528 * (V**-0.3889)\n",
    "                    if V < 85:\n",
    "                        EFi_PM10 = 0.0002\n",
    "                        EFi_PM2_5 = k * 0.0002\n",
    "                    else:\n",
    "                        EFi_PM10 = 0.0005\n",
    "                        EFi_PM2_5 = k * 0.0005\n",
    "                elif 2000 <= car_birth <= 2002:\n",
    "                    if V <= 45:\n",
    "                        EFi_CO = 19.887 * (V**-0.8461)\n",
    "                    else:\n",
    "                        EFi_CO = -0.0004 * (V**2) + 0.0911 * V - 2.2698\n",
    "                    EFi_HC = 2.2714 * (V**-0.7830)\n",
    "                    EFi_NOx = 5.8289 * (V**-0.9198)\n",
    "                    if V < 85:\n",
    "                        EFi_PM10 = 0.0002\n",
    "                        EFi_PM2_5 = k * 0.0002\n",
    "                    else:\n",
    "                        EFi_PM10 = 0.0005\n",
    "                        EFi_PM2_5 = k * 0.0005\n",
    "                elif 2003 <= car_birth <= 2005:\n",
    "                    if V <= 45:\n",
    "                        EFi_CO = 19.887 * (V**-0.8461)\n",
    "                    else:\n",
    "                        EFi_CO = -0.0004 * (V**2) + 0.0911 * V - 2.2698\n",
    "                    EFi_HC = 1.1073 * (V**-0.7830)\n",
    "                    EFi_NOx = 5.8289 * (V**-0.9198)\n",
    "                    if V < 85:\n",
    "                        EFi_PM10 = 0.0002\n",
    "                        EFi_PM2_5 = k * 0.0002\n",
    "                    else:\n",
    "                        EFi_PM10 = 0.0005\n",
    "                        EFi_PM2_5 = k * 0.0005\n",
    "                elif 2006 <= car_birth:\n",
    "                    if V <= 45:\n",
    "                        EFi_CO = 8.9904 * (V**-0.8461)\n",
    "                    else:\n",
    "                        EFi_CO = -0.0002 * (V**2) + 0.0457 * V - 1.1403\n",
    "                    EFi_HC = 0.3549 * (V**-0.7830)\n",
    "                    EFi_NOx = 0.7228 * (V**-0.9198)\n",
    "                    if V < 85:\n",
    "                        EFi_PM10 = 0.0002\n",
    "                        EFi_PM2_5 = k * 0.0002\n",
    "                    else:\n",
    "                        EFi_PM10 = 0.0005\n",
    "                        EFi_PM2_5 = k * 0.0005\n",
    "                if V <= 60:\n",
    "                    EFi_NH3 = 0.0095\n",
    "                elif 60 < V <= 90:\n",
    "                    EFi_NH3 = 0.0082\n",
    "                else:\n",
    "                    EFi_NH3 = 0.022\n",
    "            elif (car_type == '승합') and (car_size == '소형'):\n",
    "                if car_birth <= 1990:\n",
    "                    EFi_CO = 72.338 * (V**-0.7587)\n",
    "                    EFi_HC = 26.532 * (V**-1.0423)\n",
    "                    EFi_NOx = 9.3011 * (V**-0.6781)\n",
    "                    if V < 85:\n",
    "                        EFi_PM10 = 0.0002\n",
    "                        EFi_PM2_5 = k * 0.0002\n",
    "                    else:\n",
    "                        EFi_PM10 = 0.0005\n",
    "                        EFi_PM2_5 = k * 0.0005\n",
    "                elif 1991 <= car_birth == 1996:\n",
    "                    EFi_CO = 29.825 * (V**-0.6771)\n",
    "                    EFi_HC = 26.520 * (V**-1.4041)\n",
    "                    EFi_NOx = 11.287 * (V**-0.7634)\n",
    "                    if V < 85:\n",
    "                        EFi_PM10 = 0.0002\n",
    "                        EFi_PM2_5 = k * 0.0002\n",
    "                    else:\n",
    "                        EFi_PM10 = 0.0005\n",
    "                        EFi_PM2_5 = k * 0.0005\n",
    "                elif 1997 <= car_birth <= 1999:\n",
    "                    EFi_CO = 29.825 * (V**-0.6771)\n",
    "                    EFi_HC = 4.7595 * (V**-0.9512)\n",
    "                    EFi_NOx = 12.562 * (V**-0.8606)\n",
    "                    if V < 85:\n",
    "                        EFi_PM10 = 0.0002\n",
    "                        EFi_PM2_5 = k * 0.0002\n",
    "                    else:\n",
    "                        EFi_PM10 = 0.0005\n",
    "                        EFi_PM2_5 = k * 0.0005\n",
    "                elif 2000 <= car_birth <= 2005:\n",
    "                    EFi_CO = 17.829 * (V**-0.6778)\n",
    "                    EFi_HC = 6.3668 * (V**-1.2849)\n",
    "                    EFi_NOx = 8.8952 * (V**-0.8119)\n",
    "                    if V < 85:\n",
    "                        EFi_PM10 = 0.0002\n",
    "                        EFi_PM2_5 = k * 0.0002\n",
    "                    else:\n",
    "                        EFi_PM10 = 0.0005\n",
    "                        EFi_PM2_5 = k * 0.0005\n",
    "                elif 2006 <= car_birth:\n",
    "                    if V <= 65.4:\n",
    "                        EFi_CO = 6.1701 * (V**-1.0719)\n",
    "                        EFi_HC = 2.3782 * (V**-1.9979)\n",
    "                    else:\n",
    "                        EFi_CO = 3.0000 * (10**-10) * (V**4.5809)\n",
    "                        EFi_HC = 5.0000 * (10**-10) * (V**3.4895)\n",
    "                    if V <= 97.3:\n",
    "                        EFi_NOx = 0.4758 * (V**-1.0665)\n",
    "                    if V < 85:\n",
    "                        EFi_PM10 = 0.0002\n",
    "                        EFi_PM2_5 = k * 0.0002\n",
    "                    else:\n",
    "                        EFi_PM10 = 0.0005\n",
    "                        EFi_PM2_5 = k * 0.0005\n",
    "                if V <= 60:\n",
    "                    EFi_NH3 = 0.0095\n",
    "                elif 60 < V <= 90:\n",
    "                    EFi_NH3 = 0.0082\n",
    "                else:\n",
    "                    EFi_NH3 = 0.022\n",
    "            # 최이사님 확인(2023.04.20) : 화물 중형 -> 승합 중형 조건, 화물 대형 -> 승합 대형 조건으로 계산\n",
    "            elif ( (car_type == '승합') and ( (car_size == '중형') or (car_size == '대형') ) ) or ( (car_type == '화물') and ((car_size == '소형') or (car_size == '중형') or (car_size == '대형')) ):\n",
    "                if car_birth <= 1990:\n",
    "                    EFi_CO = 72.338 * (V**-0.7587)\n",
    "                    EFi_HC = 26.532 * (V**-1.0423)\n",
    "                    EFi_NOx = 9.3011 * (V**-0.6781)\n",
    "                    if V < 85:\n",
    "                        EFi_PM10 = 0.0002\n",
    "                        EFi_PM2_5 = k * 0.0002\n",
    "                    else:\n",
    "                        EFi_PM10 = 0.0005\n",
    "                        EFi_PM2_5 = k * 0.0005\n",
    "                elif 1991 <= car_birth == 1996:\n",
    "                    EFi_CO = 29.825 * (V**-0.6771)\n",
    "                    EFi_HC = 26.520 * (V**-1.4041)\n",
    "                    EFi_NOx = 11.287 * (V**-0.7634)\n",
    "                    if V < 85:\n",
    "                        EFi_PM10 = 0.0002\n",
    "                        EFi_PM2_5 = k * 0.0002\n",
    "                    else:\n",
    "                        EFi_PM10 = 0.0005\n",
    "                        EFi_PM2_5 = k * 0.0005\n",
    "                elif 1997 <= car_birth <= 1999:\n",
    "                    EFi_CO = 29.825 * (V**-0.6771)\n",
    "                    EFi_HC = 4.7595 * (V**-0.9512)\n",
    "                    EFi_NOx = 12.562 * (V**-0.8606)\n",
    "                    if V < 85:\n",
    "                        EFi_PM10 = 0.0002\n",
    "                        EFi_PM2_5 = k * 0.0002\n",
    "                    else:\n",
    "                        EFi_PM10 = 0.0005\n",
    "                        EFi_PM2_5 = k * 0.0005\n",
    "                elif 2000 <= car_birth <= 2005:\n",
    "                    EFi_CO = 17.829 * (V**-0.6778)\n",
    "                    EFi_HC = 6.3668 * (V**-1.2849)\n",
    "                    EFi_NOx = 8.8952 * (V**-0.8119)\n",
    "                    if V < 85:\n",
    "                        EFi_PM10 = 0.0002\n",
    "                        EFi_PM2_5 = k * 0.0002\n",
    "                    else:\n",
    "                        EFi_PM10 = 0.0005\n",
    "                        EFi_PM2_5 = k * 0.0005\n",
    "                elif 2006 <= car_birth:\n",
    "                    if V <= 65.4:\n",
    "                        EFi_CO = 16.491 * (V**-1.4713)\n",
    "                        EFi_HC = 1.9218 * (V**-1.8418)\n",
    "                    else:\n",
    "                        EFi_CO = 3.0000 * (10**-13) * (V**6.0619)\n",
    "                        EFi_HC = 3.0000 * (10**-9) * (V**3.0639)\n",
    "                    if V <= 97.3:\n",
    "                        EFi_NOx = 0.1246 * (V**-0.441)\n",
    "                    if V < 85:\n",
    "                        EFi_PM10 = 0.0002\n",
    "                        EFi_PM2_5 = k * 0.0002\n",
    "                    else:\n",
    "                        EFi_PM10 = 0.0005\n",
    "                        EFi_PM2_5 = k * 0.0005\n",
    "                if V <= 60:\n",
    "                    EFi_NH3 = 0.0095\n",
    "                elif 60 < V <= 90:\n",
    "                    EFi_NH3 = 0.0082\n",
    "                else:\n",
    "                    EFi_NH3 = 0.022\n",
    "        # else:\n",
    "        #     # 값 고민 : 1\n",
    "        #     # EFi_CO, EFi_HC, EFi_NOx, EFi_PM10, EFi_PM2_5 = np.nan, np.nan, np.nan, np.nan, np.nan\n",
    "        #     EFi_CO, EFi_HC, EFi_NOx, EFi_PM10, EFi_PM2_5 = 1, 1, 1, 1, 1\n",
    "\n",
    "        if V < 60:\n",
    "            EFi_COm += EFi_CO*0.34\n",
    "            EFi_HCm += EFi_HC*0.34\n",
    "            EFi_NOxm += EFi_NOx*0.34\n",
    "            EFi_PM10m += EFi_PM10*0.34\n",
    "            EFi_PM2_5m += EFi_PM2_5*0.34\n",
    "            EFi_NH3m += EFi_NH3*0.34\n",
    "        elif 60 <= V < 90:\n",
    "            EFi_COm += EFi_CO*0.33\n",
    "            EFi_HCm += EFi_HC*0.33\n",
    "            EFi_NOxm += EFi_NOx*0.33\n",
    "            EFi_PM10m += EFi_PM10*0.33\n",
    "            EFi_PM2_5m += EFi_PM2_5*0.33\n",
    "            EFi_NH3m += EFi_NH3*0.33\n",
    "        elif V > 90:\n",
    "            EFi_COm += EFi_CO*0.33\n",
    "            EFi_HCm += EFi_HC*0.33\n",
    "            EFi_NOxm += EFi_NOx*0.33\n",
    "            EFi_PM10m += EFi_PM10*0.33\n",
    "            EFi_PM2_5m += EFi_PM2_5*0.33\n",
    "            EFi_NH3m += EFi_NH3*0.33\n",
    "\n",
    "    # 배출계수(EFi) 리스트에 저장\n",
    "    EFi_CO_list.append(EFi_COm)\n",
    "    EFi_HC_list.append(EFi_HCm)\n",
    "    EFi_NOx_list.append(EFi_NOxm)\n",
    "    EFi_PM10_list.append(EFi_PM10m)\n",
    "    EFi_PM2_5_list.append(EFi_PM2_5m)\n",
    "    EFi_NH3_list.append(EFi_NH3m)"
   ]
  },
  {
   "cell_type": "code",
   "execution_count": 125,
   "metadata": {},
   "outputs": [
    {
     "data": {
      "text/plain": [
       "1515624"
      ]
     },
     "execution_count": 125,
     "metadata": {},
     "output_type": "execute_result"
    }
   ],
   "source": [
    "df2.shape[0]"
   ]
  },
  {
   "cell_type": "code",
   "execution_count": 126,
   "metadata": {},
   "outputs": [
    {
     "data": {
      "text/plain": [
       "(1515624, 1515624, 1515624, 1515624, 1515624)"
      ]
     },
     "execution_count": 126,
     "metadata": {},
     "output_type": "execute_result"
    }
   ],
   "source": [
    "len(EFi_CO_list), len(EFi_HC_list), len(EFi_NOx_list), len(EFi_PM10_list), len(EFi_PM2_5_list)"
   ]
  },
  {
   "cell_type": "code",
   "execution_count": 127,
   "metadata": {},
   "outputs": [],
   "source": [
    "df2['EFi_CO'] = EFi_CO_list\n",
    "df2['EFi_HC'] = EFi_HC_list\n",
    "df2['EFi_NOx'] = EFi_NOx_list\n",
    "df2['EFi_PM10'] = EFi_PM10_list\n",
    "df2['EFi_PM2_5'] = EFi_PM2_5_list"
   ]
  },
  {
   "cell_type": "code",
   "execution_count": 128,
   "metadata": {},
   "outputs": [],
   "source": [
    "check_EFi_col = ['EFi_CO', 'EFi_HC', 'EFi_NOx', 'EFi_PM10', 'EFi_PM2_5']"
   ]
  },
  {
   "cell_type": "markdown",
   "metadata": {},
   "source": [
    "## 배출량 계산"
   ]
  },
  {
   "cell_type": "code",
   "execution_count": 129,
   "metadata": {},
   "outputs": [
    {
     "data": {
      "text/plain": [
       "['연료',\n",
       " '차종',\n",
       " '차종유형',\n",
       " '차량연식',\n",
       " '차령',\n",
       " 'DF_CO',\n",
       " 'DF_HC',\n",
       " 'DF_PM',\n",
       " 'DF_NOx',\n",
       " 'R_CO',\n",
       " 'R_HC',\n",
       " 'R_PM']"
      ]
     },
     "execution_count": 129,
     "metadata": {},
     "output_type": "execute_result"
    }
   ],
   "source": [
    "DF_col + check_DF_col + check_R_col"
   ]
  },
  {
   "cell_type": "code",
   "execution_count": 130,
   "metadata": {},
   "outputs": [
    {
     "data": {
      "text/html": [
       "<div>\n",
       "<style scoped>\n",
       "    .dataframe tbody tr th:only-of-type {\n",
       "        vertical-align: middle;\n",
       "    }\n",
       "\n",
       "    .dataframe tbody tr th {\n",
       "        vertical-align: top;\n",
       "    }\n",
       "\n",
       "    .dataframe thead th {\n",
       "        text-align: right;\n",
       "    }\n",
       "</style>\n",
       "<table border=\"1\" class=\"dataframe\">\n",
       "  <thead>\n",
       "    <tr style=\"text-align: right;\">\n",
       "      <th></th>\n",
       "      <th>연료</th>\n",
       "      <th>차종</th>\n",
       "      <th>차종유형</th>\n",
       "      <th>차량연식</th>\n",
       "      <th>차령</th>\n",
       "      <th>DF_CO</th>\n",
       "      <th>DF_HC</th>\n",
       "      <th>DF_PM</th>\n",
       "      <th>DF_NOx</th>\n",
       "      <th>R_CO</th>\n",
       "      <th>R_HC</th>\n",
       "      <th>R_PM</th>\n",
       "      <th>EFi_CO</th>\n",
       "      <th>EFi_HC</th>\n",
       "      <th>EFi_NOx</th>\n",
       "      <th>EFi_PM10</th>\n",
       "      <th>EFi_PM2_5</th>\n",
       "    </tr>\n",
       "  </thead>\n",
       "  <tbody>\n",
       "    <tr>\n",
       "      <th>0</th>\n",
       "      <td>경유</td>\n",
       "      <td>화물</td>\n",
       "      <td>대형</td>\n",
       "      <td>2008</td>\n",
       "      <td>15</td>\n",
       "      <td>1.50</td>\n",
       "      <td>1.50</td>\n",
       "      <td>1.50</td>\n",
       "      <td>1.20</td>\n",
       "      <td>0.00</td>\n",
       "      <td>0.00</td>\n",
       "      <td>0.00</td>\n",
       "      <td>0.49</td>\n",
       "      <td>0.11</td>\n",
       "      <td>5.84</td>\n",
       "      <td>0.04</td>\n",
       "      <td>0.03</td>\n",
       "    </tr>\n",
       "    <tr>\n",
       "      <th>1</th>\n",
       "      <td>경유</td>\n",
       "      <td>화물</td>\n",
       "      <td>중형</td>\n",
       "      <td>2009</td>\n",
       "      <td>14</td>\n",
       "      <td>1.45</td>\n",
       "      <td>1.45</td>\n",
       "      <td>1.45</td>\n",
       "      <td>1.18</td>\n",
       "      <td>99.50</td>\n",
       "      <td>90.00</td>\n",
       "      <td>83.60</td>\n",
       "      <td>0.36</td>\n",
       "      <td>0.09</td>\n",
       "      <td>4.39</td>\n",
       "      <td>0.01</td>\n",
       "      <td>0.01</td>\n",
       "    </tr>\n",
       "    <tr>\n",
       "      <th>2</th>\n",
       "      <td>경유</td>\n",
       "      <td>화물</td>\n",
       "      <td>소형</td>\n",
       "      <td>2009</td>\n",
       "      <td>14</td>\n",
       "      <td>1.45</td>\n",
       "      <td>1.45</td>\n",
       "      <td>1.45</td>\n",
       "      <td>1.18</td>\n",
       "      <td>0.00</td>\n",
       "      <td>0.00</td>\n",
       "      <td>0.00</td>\n",
       "      <td>0.02</td>\n",
       "      <td>0.01</td>\n",
       "      <td>1.27</td>\n",
       "      <td>0.04</td>\n",
       "      <td>0.04</td>\n",
       "    </tr>\n",
       "    <tr>\n",
       "      <th>3</th>\n",
       "      <td>경유</td>\n",
       "      <td>화물</td>\n",
       "      <td>소형</td>\n",
       "      <td>2009</td>\n",
       "      <td>14</td>\n",
       "      <td>1.45</td>\n",
       "      <td>1.45</td>\n",
       "      <td>1.45</td>\n",
       "      <td>1.18</td>\n",
       "      <td>0.00</td>\n",
       "      <td>0.00</td>\n",
       "      <td>0.00</td>\n",
       "      <td>0.02</td>\n",
       "      <td>0.01</td>\n",
       "      <td>1.27</td>\n",
       "      <td>0.04</td>\n",
       "      <td>0.04</td>\n",
       "    </tr>\n",
       "    <tr>\n",
       "      <th>4</th>\n",
       "      <td>경유</td>\n",
       "      <td>화물</td>\n",
       "      <td>소형</td>\n",
       "      <td>2009</td>\n",
       "      <td>14</td>\n",
       "      <td>1.45</td>\n",
       "      <td>1.45</td>\n",
       "      <td>1.45</td>\n",
       "      <td>1.18</td>\n",
       "      <td>0.00</td>\n",
       "      <td>0.00</td>\n",
       "      <td>0.00</td>\n",
       "      <td>0.02</td>\n",
       "      <td>0.01</td>\n",
       "      <td>1.27</td>\n",
       "      <td>0.04</td>\n",
       "      <td>0.04</td>\n",
       "    </tr>\n",
       "  </tbody>\n",
       "</table>\n",
       "</div>"
      ],
      "text/plain": [
       "   연료  차종 차종유형  차량연식  차령  DF_CO  DF_HC  DF_PM  DF_NOx  R_CO  R_HC  R_PM   \n",
       "0  경유  화물   대형  2008  15   1.50   1.50   1.50    1.20  0.00  0.00  0.00  \\\n",
       "1  경유  화물   중형  2009  14   1.45   1.45   1.45    1.18 99.50 90.00 83.60   \n",
       "2  경유  화물   소형  2009  14   1.45   1.45   1.45    1.18  0.00  0.00  0.00   \n",
       "3  경유  화물   소형  2009  14   1.45   1.45   1.45    1.18  0.00  0.00  0.00   \n",
       "4  경유  화물   소형  2009  14   1.45   1.45   1.45    1.18  0.00  0.00  0.00   \n",
       "\n",
       "   EFi_CO  EFi_HC  EFi_NOx  EFi_PM10  EFi_PM2_5  \n",
       "0    0.49    0.11     5.84      0.04       0.03  \n",
       "1    0.36    0.09     4.39      0.01       0.01  \n",
       "2    0.02    0.01     1.27      0.04       0.04  \n",
       "3    0.02    0.01     1.27      0.04       0.04  \n",
       "4    0.02    0.01     1.27      0.04       0.04  "
      ]
     },
     "execution_count": 130,
     "metadata": {},
     "output_type": "execute_result"
    }
   ],
   "source": [
    "df2[DF_col + check_DF_col + check_R_col + check_EFi_col].head()"
   ]
  },
  {
   "cell_type": "code",
   "execution_count": 131,
   "metadata": {},
   "outputs": [],
   "source": [
    "# E = VKT * (EFi / 1000) * DF * (1 - R / 100)\n",
    "df2['E_HOT_CO'] = df2['VKT'] * (df2['EFi_CO'] / 1000) * df2['DF_CO'] * (1 - df2['R_CO'] / 100)\n",
    "df2['E_HOT_HC'] = df2['VKT'] * (df2['EFi_HC'] / 1000) * df2['DF_HC'] * (1 - df2['R_HC'] / 100)\n",
    "df2['E_HOT_NOx'] = df2['VKT'] * (df2['EFi_NOx'] / 1000) * df2['DF_NOx'] * (1 - 0 / 100)\n",
    "df2['E_HOT_PM10'] = df2['VKT'] * (df2['EFi_PM10'] / 1000) * df2['DF_PM'] * (1 - df2['R_PM'] / 100)\n",
    "df2['E_HOT_PM2_5'] = df2['VKT'] * (df2['EFi_PM2_5'] / 1000) * df2['DF_PM'] * (1 - df2['R_PM'] / 100)"
   ]
  },
  {
   "cell_type": "code",
   "execution_count": 132,
   "metadata": {},
   "outputs": [],
   "source": [
    "check_E_HOT_col = ['E_HOT_CO', 'E_HOT_HC', 'E_HOT_NOx', 'E_HOT_PM10', 'E_HOT_PM2_5']"
   ]
  },
  {
   "cell_type": "code",
   "execution_count": 133,
   "metadata": {},
   "outputs": [
    {
     "data": {
      "text/html": [
       "<div>\n",
       "<style scoped>\n",
       "    .dataframe tbody tr th:only-of-type {\n",
       "        vertical-align: middle;\n",
       "    }\n",
       "\n",
       "    .dataframe tbody tr th {\n",
       "        vertical-align: top;\n",
       "    }\n",
       "\n",
       "    .dataframe thead th {\n",
       "        text-align: right;\n",
       "    }\n",
       "</style>\n",
       "<table border=\"1\" class=\"dataframe\">\n",
       "  <thead>\n",
       "    <tr style=\"text-align: right;\">\n",
       "      <th></th>\n",
       "      <th>연료</th>\n",
       "      <th>차종</th>\n",
       "      <th>차종유형</th>\n",
       "      <th>차량연식</th>\n",
       "      <th>차령</th>\n",
       "      <th>DF_CO</th>\n",
       "      <th>DF_HC</th>\n",
       "      <th>DF_PM</th>\n",
       "      <th>DF_NOx</th>\n",
       "      <th>R_CO</th>\n",
       "      <th>...</th>\n",
       "      <th>EFi_CO</th>\n",
       "      <th>EFi_HC</th>\n",
       "      <th>EFi_NOx</th>\n",
       "      <th>EFi_PM10</th>\n",
       "      <th>EFi_PM2_5</th>\n",
       "      <th>E_HOT_CO</th>\n",
       "      <th>E_HOT_HC</th>\n",
       "      <th>E_HOT_NOx</th>\n",
       "      <th>E_HOT_PM10</th>\n",
       "      <th>E_HOT_PM2_5</th>\n",
       "    </tr>\n",
       "  </thead>\n",
       "  <tbody>\n",
       "    <tr>\n",
       "      <th>0</th>\n",
       "      <td>경유</td>\n",
       "      <td>화물</td>\n",
       "      <td>대형</td>\n",
       "      <td>2008</td>\n",
       "      <td>15</td>\n",
       "      <td>1.50</td>\n",
       "      <td>1.50</td>\n",
       "      <td>1.50</td>\n",
       "      <td>1.20</td>\n",
       "      <td>0.00</td>\n",
       "      <td>...</td>\n",
       "      <td>0.49</td>\n",
       "      <td>0.11</td>\n",
       "      <td>5.84</td>\n",
       "      <td>0.04</td>\n",
       "      <td>0.03</td>\n",
       "      <td>0.07</td>\n",
       "      <td>0.01</td>\n",
       "      <td>0.63</td>\n",
       "      <td>0.00</td>\n",
       "      <td>0.00</td>\n",
       "    </tr>\n",
       "    <tr>\n",
       "      <th>1</th>\n",
       "      <td>경유</td>\n",
       "      <td>화물</td>\n",
       "      <td>중형</td>\n",
       "      <td>2009</td>\n",
       "      <td>14</td>\n",
       "      <td>1.45</td>\n",
       "      <td>1.45</td>\n",
       "      <td>1.45</td>\n",
       "      <td>1.18</td>\n",
       "      <td>99.50</td>\n",
       "      <td>...</td>\n",
       "      <td>0.36</td>\n",
       "      <td>0.09</td>\n",
       "      <td>4.39</td>\n",
       "      <td>0.01</td>\n",
       "      <td>0.01</td>\n",
       "      <td>0.00</td>\n",
       "      <td>0.02</td>\n",
       "      <td>7.70</td>\n",
       "      <td>0.00</td>\n",
       "      <td>0.00</td>\n",
       "    </tr>\n",
       "    <tr>\n",
       "      <th>2</th>\n",
       "      <td>경유</td>\n",
       "      <td>화물</td>\n",
       "      <td>소형</td>\n",
       "      <td>2009</td>\n",
       "      <td>14</td>\n",
       "      <td>1.45</td>\n",
       "      <td>1.45</td>\n",
       "      <td>1.45</td>\n",
       "      <td>1.18</td>\n",
       "      <td>0.00</td>\n",
       "      <td>...</td>\n",
       "      <td>0.02</td>\n",
       "      <td>0.01</td>\n",
       "      <td>1.27</td>\n",
       "      <td>0.04</td>\n",
       "      <td>0.04</td>\n",
       "      <td>0.03</td>\n",
       "      <td>0.02</td>\n",
       "      <td>1.44</td>\n",
       "      <td>0.05</td>\n",
       "      <td>0.05</td>\n",
       "    </tr>\n",
       "    <tr>\n",
       "      <th>3</th>\n",
       "      <td>경유</td>\n",
       "      <td>화물</td>\n",
       "      <td>소형</td>\n",
       "      <td>2009</td>\n",
       "      <td>14</td>\n",
       "      <td>1.45</td>\n",
       "      <td>1.45</td>\n",
       "      <td>1.45</td>\n",
       "      <td>1.18</td>\n",
       "      <td>0.00</td>\n",
       "      <td>...</td>\n",
       "      <td>0.02</td>\n",
       "      <td>0.01</td>\n",
       "      <td>1.27</td>\n",
       "      <td>0.04</td>\n",
       "      <td>0.04</td>\n",
       "      <td>0.09</td>\n",
       "      <td>0.05</td>\n",
       "      <td>4.30</td>\n",
       "      <td>0.16</td>\n",
       "      <td>0.15</td>\n",
       "    </tr>\n",
       "    <tr>\n",
       "      <th>4</th>\n",
       "      <td>경유</td>\n",
       "      <td>화물</td>\n",
       "      <td>소형</td>\n",
       "      <td>2009</td>\n",
       "      <td>14</td>\n",
       "      <td>1.45</td>\n",
       "      <td>1.45</td>\n",
       "      <td>1.45</td>\n",
       "      <td>1.18</td>\n",
       "      <td>0.00</td>\n",
       "      <td>...</td>\n",
       "      <td>0.02</td>\n",
       "      <td>0.01</td>\n",
       "      <td>1.27</td>\n",
       "      <td>0.04</td>\n",
       "      <td>0.04</td>\n",
       "      <td>0.02</td>\n",
       "      <td>0.01</td>\n",
       "      <td>1.04</td>\n",
       "      <td>0.04</td>\n",
       "      <td>0.04</td>\n",
       "    </tr>\n",
       "  </tbody>\n",
       "</table>\n",
       "<p>5 rows × 22 columns</p>\n",
       "</div>"
      ],
      "text/plain": [
       "   연료  차종 차종유형  차량연식  차령  DF_CO  DF_HC  DF_PM  DF_NOx  R_CO  ...  EFi_CO   \n",
       "0  경유  화물   대형  2008  15   1.50   1.50   1.50    1.20  0.00  ...    0.49  \\\n",
       "1  경유  화물   중형  2009  14   1.45   1.45   1.45    1.18 99.50  ...    0.36   \n",
       "2  경유  화물   소형  2009  14   1.45   1.45   1.45    1.18  0.00  ...    0.02   \n",
       "3  경유  화물   소형  2009  14   1.45   1.45   1.45    1.18  0.00  ...    0.02   \n",
       "4  경유  화물   소형  2009  14   1.45   1.45   1.45    1.18  0.00  ...    0.02   \n",
       "\n",
       "   EFi_HC  EFi_NOx  EFi_PM10  EFi_PM2_5  E_HOT_CO  E_HOT_HC  E_HOT_NOx   \n",
       "0    0.11     5.84      0.04       0.03      0.07      0.01       0.63  \\\n",
       "1    0.09     4.39      0.01       0.01      0.00      0.02       7.70   \n",
       "2    0.01     1.27      0.04       0.04      0.03      0.02       1.44   \n",
       "3    0.01     1.27      0.04       0.04      0.09      0.05       4.30   \n",
       "4    0.01     1.27      0.04       0.04      0.02      0.01       1.04   \n",
       "\n",
       "   E_HOT_PM10  E_HOT_PM2_5  \n",
       "0        0.00         0.00  \n",
       "1        0.00         0.00  \n",
       "2        0.05         0.05  \n",
       "3        0.16         0.15  \n",
       "4        0.04         0.04  \n",
       "\n",
       "[5 rows x 22 columns]"
      ]
     },
     "execution_count": 133,
     "metadata": {},
     "output_type": "execute_result"
    }
   ],
   "source": [
    "df2[DF_col + check_DF_col + check_R_col + check_EFi_col + check_E_HOT_col].head()"
   ]
  },
  {
   "cell_type": "code",
   "execution_count": 134,
   "metadata": {},
   "outputs": [
    {
     "data": {
      "text/plain": [
       "(1515624, 54)"
      ]
     },
     "execution_count": 134,
     "metadata": {},
     "output_type": "execute_result"
    }
   ],
   "source": [
    "df2.shape"
   ]
  },
  {
   "cell_type": "markdown",
   "metadata": {},
   "source": [
    "# 자동차-엔진 미가열(Cold-start) 배출"
   ]
  },
  {
   "cell_type": "markdown",
   "metadata": {},
   "source": [
    "## 배출량 식\n",
    "$$E_{COLD :i, j} = \\beta_{i, j} \\times N_j \\times M_j \\times e^{HOT}_j \\times (e^{COLD} / e^{HOT} \\vert_{i, j} - 1)$$\n",
    "\n",
    "- $E_{COLD :i, j}$ : 차종 $j$에서 배출되는 오염물질 $i$의 엔진미가열 배출량\n",
    "- $\\beta_{i, j}$ : 차종 $j$의 엔진미가열 상태의 주행거리 분율\n",
    "- $N_j$ : 차종 $j$의 수\n",
    "- $M_j$ : 차종 $j$의 주행거리\n",
    "- $e^{HOT}_j$ : 차종 $j$의 엔진가열 상태에서의 배출계수\n",
    "- $e^{COLD} / e^{HOT} \\vert_{i, j}$ : 차종 $j$의 엔진가열상태 대비 엔진미가열 상태에서의 배출 비율"
   ]
  },
  {
   "cell_type": "markdown",
   "metadata": {},
   "source": [
    "## 베타($\\beta$)\n",
    "- 1회 평균주행거리(1 trip length)와 대기온도, 자동차 이용 패턴을 고려\n",
    "    - 1회 평균주행거리 정보는 모든 차종에 대하여 각각 적용하는 방안은 수집자료의 한계로 국내 연구결과를 바탕으로 수도권 지역 승용차의 1회 평균 주행거리 12.35km를 적용\n",
    "    - 이때 과대산정 가능성을 염두하여, 도시지역의 택시를 제외한 승용차(경형, 소형, 중형, 대형), 승합차(경형, 소형), RV(소형, 중형)에 적용\n",
    "\n",
    "    - 1회 주행거리 : 12.35 km (2002년 기준)\n",
    "    - 미가열 배출 적용 차종 : 승용차(경형, 소형, 중형, 대형) / 승합차(경형, 소형) / RV(소형, 중형)\n",
    "    - 미가열 배출 적용 지역 : 도시지역(고속도로 구간 제외)\n",
    "\n",
    "- 산정식\n",
    "\n",
    "-|Factor $\\beta$의 산정식\n",
    "-|-\n",
    "$Estimated$ $l_{trip}$|$0.647-0.025 \\times l_{trip} - (0.00974 - 0.000385 \\times l_{trip}) \\times T_a$\n",
    "$Measured$ $l_{trip}$|$0.698-0.051 \\times l_{trip} - (0.01051 - 0.000770 \\times l_{trip}) \\times T_a$\n",
    "\n",
    "- $T_a$ : 대기온도\n",
    "- $Estimated$ $l_{trip}$ : 유럽평균(1985) 약 11.8km / 유럽평균(1998) 약 12.4km(Andre et al., 1998)"
   ]
  },
  {
   "cell_type": "code",
   "execution_count": 135,
   "metadata": {},
   "outputs": [],
   "source": [
    "l_trip = 12.35 # 국립환경과학원(2007), 도로 이동오염원 대기오염 배출량 산정방법 개선 및 장래 배출량 예측방법 연구\n",
    "Ta = 12.4 # e-나라지표 (https://www.index.go.kr/unity/potal/main/EachDtlPageDetail.do?idx_cd=1400) 2002년 년 평균 기온"
   ]
  },
  {
   "cell_type": "code",
   "execution_count": 136,
   "metadata": {},
   "outputs": [],
   "source": [
    "df2['Beta(Estimated)'] = 0.647 - 0.025 * l_trip - (0.00974 - 0.000385 * l_trip) * Ta\n",
    "# df2['Beta(Measured)'] = 0.698 - 0.051 * l_trip - (0.01051 - 0.000770 * l_trip) * Ta"
   ]
  },
  {
   "cell_type": "code",
   "execution_count": 137,
   "metadata": {},
   "outputs": [
    {
     "data": {
      "text/plain": [
       "0   0.28\n",
       "1   0.28\n",
       "2   0.28\n",
       "3   0.28\n",
       "4   0.28\n",
       "Name: Beta(Estimated), dtype: float64"
      ]
     },
     "execution_count": 137,
     "metadata": {},
     "output_type": "execute_result"
    }
   ],
   "source": [
    "df2['Beta(Estimated)'].head()"
   ]
  },
  {
   "cell_type": "code",
   "execution_count": 138,
   "metadata": {},
   "outputs": [
    {
     "data": {
      "text/plain": [
       "0"
      ]
     },
     "execution_count": 138,
     "metadata": {},
     "output_type": "execute_result"
    }
   ],
   "source": [
    "df2['Beta(Estimated)'].isnull().sum()"
   ]
  },
  {
   "cell_type": "markdown",
   "metadata": {},
   "source": [
    "## $e^{COLD} / e^{HOT}$"
   ]
  },
  {
   "cell_type": "code",
   "execution_count": 139,
   "metadata": {},
   "outputs": [
    {
     "data": {
      "text/plain": [
       "array(['경유', '휘발유', 'LPG(액화석유가스)'], dtype=object)"
      ]
     },
     "execution_count": 139,
     "metadata": {},
     "output_type": "execute_result"
    }
   ],
   "source": [
    "df2['연료'].unique()"
   ]
  },
  {
   "cell_type": "code",
   "execution_count": 140,
   "metadata": {},
   "outputs": [],
   "source": [
    "# 휘발유(자동 제어)\n",
    "df2.loc[(df2['연료'] == '휘발유') & (df2['차량연식'] < 1991) & ( (df2['차종'] == '승용') | ( (df2['차종'] == '승합') & ((df2['차종유형'] == '경형') | (df2['차종유형'] == '소형')) ) ), 'eCOLD/eHOT_CO'] = 3.7 - 0.09 * Ta\n",
    "df2.loc[(df2['연료'] == '휘발유') & (df2['차량연식'] >= 1991) & ( (df2['차종'] == '승용') | ( (df2['차종'] == '승합') & ((df2['차종유형'] == '경형') | (df2['차종유형'] == '소형')) ) ), 'eCOLD/eHOT_CO'] = 9.04 - 0.09 * Ta\n",
    "df2.loc[(df2['연료'] == '휘발유') & (df2['차량연식'] < 1991) & ( (df2['차종'] == '승용') | ( (df2['차종'] == '승합') & ((df2['차종유형'] == '경형') | (df2['차종유형'] == '소형')) ) ), 'eCOLD/eHOT_NOx'] = 1.14 - 0.006 * Ta\n",
    "df2.loc[(df2['연료'] == '휘발유') & (df2['차량연식'] >= 1991) & ( (df2['차종'] == '승용') | ( (df2['차종'] == '승합') & ((df2['차종유형'] == '경형') | (df2['차종유형'] == '소형')) ) ), 'eCOLD/eHOT_NOx'] = 3.66 - 0.006 * Ta\n",
    "df2.loc[(df2['연료'] == '휘발유') & (df2['차량연식'] < 1991) & ( (df2['차종'] == '승용') | ( (df2['차종'] == '승합') & ((df2['차종유형'] == '경형') | (df2['차종유형'] == '소형')) ) ), 'eCOLD/eHOT_HC'] = 2.8 - 0.06 * Ta\n",
    "df2.loc[(df2['연료'] == '휘발유') & (df2['차량연식'] >= 1991) & ( (df2['차종'] == '승용') | ( (df2['차종'] == '승합') & ((df2['차종유형'] == '경형') | (df2['차종유형'] == '소형')) ) ), 'eCOLD/eHOT_HC'] = 12.59 - 0.06 * Ta\n",
    "df2.loc[df2['연료'] == '휘발유', 'eCOLD/eHOT_PM'] = 1\n",
    "# 경유\n",
    "df2.loc[(df2['연료'] == '경유') & ( (df2['차종'] == '승용') | ( (df2['차종'] == '승합') & ((df2['차종유형'] == '경형') | (df2['차종유형'] == '소형')) ) ),'eCOLD/eHOT_CO'] = 1.9 - 0.03 * Ta\n",
    "df2.loc[(df2['연료'] == '경유') & ( (df2['차종'] == '승용') | ( (df2['차종'] == '승합') & ((df2['차종유형'] == '경형') | (df2['차종유형'] == '소형')) ) ),'eCOLD/eHOT_NOx'] = 1.3 - 0.013 * Ta\n",
    "df2.loc[(df2['연료'] == '경유') & ( (df2['차종'] == '승용') | ( (df2['차종'] == '승합') & ((df2['차종유형'] == '경형') | (df2['차종유형'] == '소형')) ) ),'eCOLD/eHOT_HC'] = 3.1 - 0.09 * Ta\n",
    "df2.loc[(df2['연료'] == '경유') & ( (df2['차종'] == '승용') | ( (df2['차종'] == '승합') & ((df2['차종유형'] == '경형') | (df2['차종유형'] == '소형')) ) ),'eCOLD/eHOT_PM'] = 3.1 - 0.1 * Ta\n",
    "# LPG(액화석유가스)\n",
    "df2.loc[(df2['연료'] == 'LPG(액화석유가스)') & ( (df2['차종'] == '승용') | ( (df2['차종'] == '승합') & ((df2['차종유형'] == '경형') | (df2['차종유형'] == '소형')) ) ),'eCOLD/eHOT_CO'] = 3.66 - 0.09 * Ta\n",
    "df2.loc[(df2['연료'] == 'LPG(액화석유가스)') & ( (df2['차종'] == '승용') | ( (df2['차종'] == '승합') & ((df2['차종유형'] == '경형') | (df2['차종유형'] == '소형')) ) ),'eCOLD/eHOT_NOx'] = 0.98 - 0.006 * Ta\n",
    "df2.loc[(df2['연료'] == 'LPG(액화석유가스)') & ( (df2['차종'] == '승용') | ( (df2['차종'] == '승합') & ((df2['차종유형'] == '경형') | (df2['차종유형'] == '소형')) ) ),'eCOLD/eHOT_HC'] = 2.24 - 0.06 * Ta\n",
    "df2.loc[(df2['연료'] == 'LPG(액화석유가스)') & ( (df2['차종'] == '승용') | ( (df2['차종'] == '승합') & ((df2['차종유형'] == '경형') | (df2['차종유형'] == '소형')) ) ),'eCOLD/eHOT_PM'] = 1"
   ]
  },
  {
   "cell_type": "code",
   "execution_count": 141,
   "metadata": {},
   "outputs": [
    {
     "data": {
      "text/plain": [
       "eCOLD/eHOT_CO     667686\n",
       "eCOLD/eHOT_NOx    667686\n",
       "eCOLD/eHOT_HC     667686\n",
       "eCOLD/eHOT_PM     662121\n",
       "dtype: int64"
      ]
     },
     "execution_count": 141,
     "metadata": {},
     "output_type": "execute_result"
    }
   ],
   "source": [
    "check_ecoldhot_col = ['eCOLD/eHOT_CO', 'eCOLD/eHOT_NOx', 'eCOLD/eHOT_HC', 'eCOLD/eHOT_PM']\n",
    "df2[check_ecoldhot_col].isnull().sum()"
   ]
  },
  {
   "cell_type": "code",
   "execution_count": 142,
   "metadata": {},
   "outputs": [
    {
     "data": {
      "text/plain": [
       "eCOLD/eHOT_CO     0\n",
       "eCOLD/eHOT_NOx    0\n",
       "eCOLD/eHOT_HC     0\n",
       "eCOLD/eHOT_PM     0\n",
       "dtype: int64"
      ]
     },
     "execution_count": 142,
     "metadata": {},
     "output_type": "execute_result"
    }
   ],
   "source": [
    "df2[check_ecoldhot_col] = df2[check_ecoldhot_col].fillna(1)\n",
    "df2[check_ecoldhot_col].isnull().sum()"
   ]
  },
  {
   "cell_type": "markdown",
   "metadata": {},
   "source": [
    "## 배출량 계산"
   ]
  },
  {
   "cell_type": "markdown",
   "metadata": {},
   "source": [
    "### 🔺 계산식 고민\n",
    "$$E_{COLD :i, j} = \\beta_{i, j} \\times N_j \\times M_j \\times e^{HOT}_j \\times (e^{COLD} / e^{HOT} \\vert_{i, j} - 1)$$\n",
    "- $M_j$ : 차종 $j$의 주행거리\n",
    "    - 1년 주행거리로 계산? \n",
    "        - VKT\n",
    "    - 1회 주행거리로 계산?\n",
    "        - l_trip"
   ]
  },
  {
   "cell_type": "code",
   "execution_count": 143,
   "metadata": {},
   "outputs": [],
   "source": [
    "#         E      =             B          *     M      *    e(HOT)     * ( e(COLD)/e(HOT)      - 1 )\n",
    "df2['E_COLD_CO'] = df2['Beta(Estimated)'] * df2['VKT'] * df2['EFi_CO'] * (df2['eCOLD/eHOT_CO'] - 1)\n",
    "df2['E_COLD_NOx'] = df2['Beta(Estimated)'] * df2['VKT'] * df2['EFi_NOx'] * (df2['eCOLD/eHOT_NOx'] - 1)\n",
    "df2['E_COLD_HC'] = df2['Beta(Estimated)'] * df2['VKT'] * df2['EFi_HC'] * (df2['eCOLD/eHOT_HC'] - 1)\n",
    "df2['E_COLD_PM10'] = df2['Beta(Estimated)'] * df2['VKT'] * df2['EFi_PM10'] * (df2['eCOLD/eHOT_PM'] - 1)\n",
    "df2['E_COLD_PM2_5'] = df2['Beta(Estimated)'] * df2['VKT'] * df2['EFi_PM2_5'] * (df2['eCOLD/eHOT_PM'] - 1)"
   ]
  },
  {
   "cell_type": "code",
   "execution_count": 144,
   "metadata": {},
   "outputs": [
    {
     "data": {
      "text/html": [
       "<div>\n",
       "<style scoped>\n",
       "    .dataframe tbody tr th:only-of-type {\n",
       "        vertical-align: middle;\n",
       "    }\n",
       "\n",
       "    .dataframe tbody tr th {\n",
       "        vertical-align: top;\n",
       "    }\n",
       "\n",
       "    .dataframe thead th {\n",
       "        text-align: right;\n",
       "    }\n",
       "</style>\n",
       "<table border=\"1\" class=\"dataframe\">\n",
       "  <thead>\n",
       "    <tr style=\"text-align: right;\">\n",
       "      <th></th>\n",
       "      <th>E_HOT_CO</th>\n",
       "      <th>E_HOT_HC</th>\n",
       "      <th>E_HOT_NOx</th>\n",
       "      <th>E_HOT_PM10</th>\n",
       "      <th>E_HOT_PM2_5</th>\n",
       "      <th>E_COLD_CO</th>\n",
       "      <th>E_COLD_NOx</th>\n",
       "      <th>E_COLD_HC</th>\n",
       "      <th>E_COLD_PM10</th>\n",
       "      <th>E_COLD_PM2_5</th>\n",
       "    </tr>\n",
       "  </thead>\n",
       "  <tbody>\n",
       "    <tr>\n",
       "      <th>0</th>\n",
       "      <td>0.07</td>\n",
       "      <td>0.01</td>\n",
       "      <td>0.63</td>\n",
       "      <td>0.00</td>\n",
       "      <td>0.00</td>\n",
       "      <td>0.00</td>\n",
       "      <td>0.00</td>\n",
       "      <td>0.00</td>\n",
       "      <td>0.00</td>\n",
       "      <td>0.00</td>\n",
       "    </tr>\n",
       "    <tr>\n",
       "      <th>1</th>\n",
       "      <td>0.00</td>\n",
       "      <td>0.02</td>\n",
       "      <td>7.70</td>\n",
       "      <td>0.00</td>\n",
       "      <td>0.00</td>\n",
       "      <td>0.00</td>\n",
       "      <td>0.00</td>\n",
       "      <td>0.00</td>\n",
       "      <td>0.00</td>\n",
       "      <td>0.00</td>\n",
       "    </tr>\n",
       "    <tr>\n",
       "      <th>2</th>\n",
       "      <td>0.03</td>\n",
       "      <td>0.02</td>\n",
       "      <td>1.44</td>\n",
       "      <td>0.05</td>\n",
       "      <td>0.05</td>\n",
       "      <td>0.00</td>\n",
       "      <td>0.00</td>\n",
       "      <td>0.00</td>\n",
       "      <td>0.00</td>\n",
       "      <td>0.00</td>\n",
       "    </tr>\n",
       "    <tr>\n",
       "      <th>3</th>\n",
       "      <td>0.09</td>\n",
       "      <td>0.05</td>\n",
       "      <td>4.30</td>\n",
       "      <td>0.16</td>\n",
       "      <td>0.15</td>\n",
       "      <td>0.00</td>\n",
       "      <td>0.00</td>\n",
       "      <td>0.00</td>\n",
       "      <td>0.00</td>\n",
       "      <td>0.00</td>\n",
       "    </tr>\n",
       "    <tr>\n",
       "      <th>4</th>\n",
       "      <td>0.02</td>\n",
       "      <td>0.01</td>\n",
       "      <td>1.04</td>\n",
       "      <td>0.04</td>\n",
       "      <td>0.04</td>\n",
       "      <td>0.00</td>\n",
       "      <td>0.00</td>\n",
       "      <td>0.00</td>\n",
       "      <td>0.00</td>\n",
       "      <td>0.00</td>\n",
       "    </tr>\n",
       "  </tbody>\n",
       "</table>\n",
       "</div>"
      ],
      "text/plain": [
       "   E_HOT_CO  E_HOT_HC  E_HOT_NOx  E_HOT_PM10  E_HOT_PM2_5  E_COLD_CO   \n",
       "0      0.07      0.01       0.63        0.00         0.00       0.00  \\\n",
       "1      0.00      0.02       7.70        0.00         0.00       0.00   \n",
       "2      0.03      0.02       1.44        0.05         0.05       0.00   \n",
       "3      0.09      0.05       4.30        0.16         0.15       0.00   \n",
       "4      0.02      0.01       1.04        0.04         0.04       0.00   \n",
       "\n",
       "   E_COLD_NOx  E_COLD_HC  E_COLD_PM10  E_COLD_PM2_5  \n",
       "0        0.00       0.00         0.00          0.00  \n",
       "1        0.00       0.00         0.00          0.00  \n",
       "2        0.00       0.00         0.00          0.00  \n",
       "3        0.00       0.00         0.00          0.00  \n",
       "4        0.00       0.00         0.00          0.00  "
      ]
     },
     "execution_count": 144,
     "metadata": {},
     "output_type": "execute_result"
    }
   ],
   "source": [
    "check_E_cold_col = ['E_COLD_CO', 'E_COLD_NOx', 'E_COLD_HC', 'E_COLD_PM10', 'E_COLD_PM2_5']\n",
    "df2[check_E_HOT_col + check_E_cold_col].head()"
   ]
  },
  {
   "cell_type": "code",
   "execution_count": 145,
   "metadata": {},
   "outputs": [
    {
     "data": {
      "text/plain": [
       "E_COLD_CO       0\n",
       "E_COLD_NOx      0\n",
       "E_COLD_HC       0\n",
       "E_COLD_PM10     0\n",
       "E_COLD_PM2_5    0\n",
       "dtype: int64"
      ]
     },
     "execution_count": 145,
     "metadata": {},
     "output_type": "execute_result"
    }
   ],
   "source": [
    "df2[check_E_cold_col].isnull().sum()"
   ]
  },
  {
   "cell_type": "markdown",
   "metadata": {},
   "source": [
    "# 자동차-휘발유 증발 배출"
   ]
  },
  {
   "cell_type": "markdown",
   "metadata": {},
   "source": [
    "## 배출량 식\n",
    "- 3가지\n",
    "    - 주간증발손실(Diurnal loss)\n",
    "    - 고온증발손실(Hot and warm soak)\n",
    "    - 주행손실(Running loss)\n",
    "- 현재('19 배출량 기준) 휘발유 증발 배출원\n",
    "    - 주간증발손실, 주행손실 고려\n",
    "    - 우리나라 휘발유 차량 대부분이 방지설비로 카본 캐니스터를 장착하고 있으므로 $e^{S,HOT}$, $e^{S,WARM}$, 고온증발손실(hot and warm soak) 배출은 없는 것으로 가정\n",
    "\n",
    "---\n",
    "\n",
    "$$E_{EVA, VOC:j} = 365 \\times N_j \\times (e^d + S^c + S^{fi}) + R$$\n",
    "$S^c = (1-q)(p \\times x \\times e^{S, HOT} + w \\times x \\times e^{S,WARM})$\n",
    "\n",
    "$S^{fi} = q \\times e^{fi} \\times x$\n",
    "$$R = m_j(p \\times e^{R,HOT} + w \\times e^{R,WARM})$$\n",
    "\n",
    "- $E_{EVA, VOC:j}$ : 차종 j의 증발손실에 의한 VOC 배출량(g/yr)\n",
    "- $N_j$ : 차종 j의 휘발유 사용 차량 등록대수(대)\n",
    "- $e^d$ : 금속탱크를 가지고 있는 휘발유 차량의 일중 VOC 배출량(g/day-대)\n",
    "- $S^c$ : Carburetor 휘발유 차량의 일중 hot and warm soak 배출량(g/day-대)\n",
    "- $S^{fi}$ : Fuel injection 휘발유 차량의 일중 hot and warm soak 배출량(g/day-대)\n",
    "- $R$ : Running loss에 의한 휘발유 차량의 연중 배출량(g/yr)\n",
    "- $q$ : Fuel injection 휘발유 차량의 비율\n",
    "- $p$ : 가열 엔진 상태로 끝나는 trip의 비율\n",
    "- $x$ : 일평균 통행횟수 $= V_j / 365 \\times l_{trip}$\n",
    "- $w$ : 미가열 엔진 상태료 끝나는 trip의 비율\n",
    "- $e^{S,HOT}$ : Hot soak emission의 평균 배출계수\n",
    "- $e^{S,WARM}$ : Cold and warm soak emission의 평균 배출계수\n",
    "- $e^{fi}$ : Fuel injection 휘발유 차량의 평균 hot and warm soak 배출계수\n",
    "- $e^{R,HOT}$ : 휘발유 차량의 평균 hot running loss 배출계수\n",
    "- $e^{R,WARM}$ : 휘발유 차량의 평균 warm running loss 배출계수\n",
    "- $m_j$ : 차종 j의 연간 총 주행거리\n",
    "- $V_j$ : 차종 j의 1대당 평균 연간 주행거리"
   ]
  },
  {
   "cell_type": "markdown",
   "metadata": {},
   "source": [
    "## 배출계수"
   ]
  },
  {
   "cell_type": "markdown",
   "metadata": {},
   "source": [
    "### 🔺 수정 중"
   ]
  },
  {
   "cell_type": "markdown",
   "metadata": {},
   "source": [
    "### $e^d$ Diurnal(g/day)\n",
    "- $e^d$ : 금속탱크를 가지고 있는 휘발유 차량의 일중 VOC 배출량(g/day-대)"
   ]
  },
  {
   "cell_type": "markdown",
   "metadata": {},
   "source": [
    "#### 🔺 RVP(증기압)\n",
    "- 참고 COPERT 3(p.80) Table 6.10: Gasoline fuel specifications\n",
    "    - summer : 60\n",
    "    - winter : 70\n",
    "    - 평균 : 65\n",
    "- 수정 사항(2023.04.20, 최)\n",
    "    - 국내 과학기술원, 환경부 자료 찾아서 사용 추천"
   ]
  },
  {
   "cell_type": "code",
   "execution_count": 146,
   "metadata": {},
   "outputs": [],
   "source": [
    "RVP = 65"
   ]
  },
  {
   "cell_type": "markdown",
   "metadata": {},
   "source": [
    "#### ❗ t_a(기온)\n",
    "- t_a, t_min, t_rise\n",
    "    - 참고 COPERT 3(p.72) Table 5.32: Summary of emission factors for estimating evaporative emissions of gasoline vehicles(all RVp in kPa, all temperatures in °C)\n",
    "        - t_a = (t_max + t_min) / 2\n",
    "        - t_rise = t_max - t_min\n",
    "    - 기상자료개방포털(2002년) 연평균 기온\n",
    "        - https://data.kma.go.kr/stcs/grnd/grndTaList.do?pgmNo=70\n",
    "        - 7.5°C(최저), 12.4°C(평균), 17.9°C(최고)"
   ]
  },
  {
   "cell_type": "code",
   "execution_count": 147,
   "metadata": {},
   "outputs": [],
   "source": [
    "t_min = 7.5 # 평균 최저 온도\n",
    "t_max = 17.9\n",
    "t_a = (t_min + t_max) / 2\n",
    "t_rise = 12.4 # 평균 상승 온도"
   ]
  },
  {
   "cell_type": "code",
   "execution_count": 148,
   "metadata": {},
   "outputs": [],
   "source": [
    "df2.loc[df2['차량연식'] < 1991, 'e_d'] = 9.1 * np.exp( 0.0158 * (RVP - 61.2) + 0.0574 * (t_min - 22.5) + 0.0614 * (t_rise - 11.7) )\n",
    "df2.loc[df2['차량연식'] >= 1991, 'e_d'] = 0.2 * (9.1 * np.exp( 0.0158 * (RVP - 61.2) + 0.0574 * (t_min - 22.5) + 0.0614 * (t_rise - 11.7) ))"
   ]
  },
  {
   "cell_type": "code",
   "execution_count": 149,
   "metadata": {},
   "outputs": [
    {
     "data": {
      "text/plain": [
       "0"
      ]
     },
     "execution_count": 149,
     "metadata": {},
     "output_type": "execute_result"
    }
   ],
   "source": [
    "df2['e_d'].isnull().sum()"
   ]
  },
  {
   "cell_type": "markdown",
   "metadata": {},
   "source": [
    "### $e^{R,HOT}$ Hot running loss(g/km)\n",
    "- $e^{R,HOT}$ : 휘발유 차량의 평균 hot running loss 배출계수"
   ]
  },
  {
   "cell_type": "code",
   "execution_count": 150,
   "metadata": {},
   "outputs": [],
   "source": [
    "df2.loc[df2['차량연식'] < 1991, 'e_RHOT'] = 0.136 * np.exp( - 5.967 + 0.04259 * RVP + 0.1773 * t_a)\n",
    "df2.loc[df2['차량연식'] >= 1991, 'e_RHOT'] = 0.1 * (0.136 * np.exp( - 5.967 + 0.04259 * RVP + 0.1773 * t_a))"
   ]
  },
  {
   "cell_type": "code",
   "execution_count": 151,
   "metadata": {},
   "outputs": [
    {
     "data": {
      "text/plain": [
       "0"
      ]
     },
     "execution_count": 151,
     "metadata": {},
     "output_type": "execute_result"
    }
   ],
   "source": [
    "df2['e_RHOT'].isnull().sum()"
   ]
  },
  {
   "cell_type": "markdown",
   "metadata": {},
   "source": [
    "### $e^{S,HOT}$ Hot soak(g/procedure)\n",
    "- $e^{S,HOT}$ : Hot soak emission의 평균 배출계수"
   ]
  },
  {
   "cell_type": "code",
   "execution_count": 152,
   "metadata": {},
   "outputs": [],
   "source": [
    "df2.loc[df2['차량연식'] < 1991, 'e_SHOT'] = 3.0042 * np.exp(0.02 * RVP)\n",
    "df2.loc[df2['차량연식'] >= 1991, 'e_SHOT'] = 0.3 * np.exp(-2.14 + 0.02302 * RVP + 0.09408 * t_a)"
   ]
  },
  {
   "cell_type": "markdown",
   "metadata": {},
   "source": [
    "### $e^{S,WARM}$ Waram soak(g/procedure)\n",
    "- $e^{S,WARM}$ : Cold and warm soak emission의 평균 배출계수"
   ]
  },
  {
   "cell_type": "code",
   "execution_count": 153,
   "metadata": {},
   "outputs": [],
   "source": [
    "df2.loc[df2['차량연식'] < 1991, 'e_SWARM'] = np.exp(-1.644 + 0.01993 * RVP + 0.07521 * t_a)\n",
    "df2.loc[df2['차량연식'] >= 1991, 'e_SWARM'] = 0.2 * np.exp(-2.41 + 0.02302 * RVP + 0.09408 * t_a)"
   ]
  },
  {
   "cell_type": "markdown",
   "metadata": {},
   "source": [
    "### $e^{fi}$ Warm and hot soak for Fuel injected vehicle(g/procedure)\n",
    "- $e^{fi}$ : Fuel injection 휘발유 차량의 평균 hot and warm soak 배출계수"
   ]
  },
  {
   "cell_type": "code",
   "execution_count": 154,
   "metadata": {},
   "outputs": [],
   "source": [
    "df2.loc[df2['차량연식'] < 1991, 'e_fi'] = 0.7\n",
    "df2.loc[df2['차량연식'] >= 1991, 'e_fi'] = 0"
   ]
  },
  {
   "cell_type": "markdown",
   "metadata": {},
   "source": [
    "### $e^{R,WARM}$ Warm running loss(g/km)\n",
    "- $e^{R,HOT}$ : 휘발유 차량의 평균 hot running loss 배출계수"
   ]
  },
  {
   "cell_type": "code",
   "execution_count": 155,
   "metadata": {},
   "outputs": [],
   "source": [
    "df2.loc[df2['차량연식'] < 1991, 'e_RWARM'] = 0.1 * np.exp(-5.967 + 0.04259 * RVP + 0.1773 * t_a)\n",
    "df2.loc[df2['차량연식'] >= 1991, 'e_RWARM'] = 0.1 * (0.1 * np.exp(-5.967 + 0.04259 * RVP + 0.1773 * t_a))"
   ]
  },
  {
   "cell_type": "code",
   "execution_count": 156,
   "metadata": {},
   "outputs": [
    {
     "data": {
      "text/plain": [
       "0"
      ]
     },
     "execution_count": 156,
     "metadata": {},
     "output_type": "execute_result"
    }
   ],
   "source": [
    "df2['e_RWARM'].isnull().sum()"
   ]
  },
  {
   "cell_type": "markdown",
   "metadata": {},
   "source": [
    "## $R$\n",
    "$R = m_j(p \\times e^{R,HOT} + w \\times e^{R,WARM})$\n",
    "- Running loss에 의한 휘발유 차량의 연중 배출량(g/yr)\n",
    "- $m_j$ : 차종 j의 연간 총 주행거리\n",
    "- $p$ : 가열 엔진 상태로 끝나는 trip의 비율\n",
    "- $e^{R,HOT}$ : 휘발유 차량의 평균 hot running loss 배출계수\n",
    "- $w$ : 미가열 엔진 상태로 끝나는 trip의 비율\n",
    "- $e^{R,WARM}$ : 휘발유 차량의 평균 warm running loss 배출계수"
   ]
  },
  {
   "cell_type": "markdown",
   "metadata": {},
   "source": [
    "### ❓ 확인 중\n",
    "- 수정 사항(2023.04.20, 최)\n",
    "    - 찾는 중\n",
    "    - p:w = 0.2:0.8(2023.06.29, 최)"
   ]
  },
  {
   "cell_type": "code",
   "execution_count": 157,
   "metadata": {},
   "outputs": [],
   "source": [
    "p = 0.2 # 가열 엔진 상태로 끝나는 trip의 비율\n",
    "w = 0.8 # 미가열 엔진 상태로 끝나는 trip의 비율"
   ]
  },
  {
   "cell_type": "code",
   "execution_count": 158,
   "metadata": {},
   "outputs": [],
   "source": [
    "df2['R'] = df2['VKT'] * (p * df2['e_RHOT'] + w * df2['e_RWARM'])"
   ]
  },
  {
   "cell_type": "code",
   "execution_count": 159,
   "metadata": {},
   "outputs": [
    {
     "data": {
      "text/plain": [
       "0"
      ]
     },
     "execution_count": 159,
     "metadata": {},
     "output_type": "execute_result"
    }
   ],
   "source": [
    "df2['R'].isnull().sum()"
   ]
  },
  {
   "cell_type": "markdown",
   "metadata": {},
   "source": [
    "## $S^{fi}$\n",
    "$S^{fi} = q \\times e^{fi} \\times x$\n",
    "- Fuel injection 휘발유 차량의 일중 hot and warm soak 배출량(g/day-대)\n",
    "- $q$ : Fuel injection 휘발유 차량의 비율\n",
    "- $e^{fi}$ : Fuel injection 휘발유 차량의 평균 hot and warm soak 배출계수\n",
    "- $x$ : 일평균 통행횟수 $= V_j / 365 \\times l_{trip}$\n",
    "- $V_j$ : 차종 j의 1대당 평균 연간 주행거리"
   ]
  },
  {
   "cell_type": "code",
   "execution_count": 160,
   "metadata": {},
   "outputs": [
    {
     "data": {
      "text/plain": [
       "0.8184811152293633"
      ]
     },
     "execution_count": 160,
     "metadata": {},
     "output_type": "execute_result"
    }
   ],
   "source": [
    "not_injection = df2[(df2['연료'] == '휘발유') & (df2['차량연식'] < 1991)].shape[0]\n",
    "injection = df2[(df2['연료'] == '휘발유') & (df2['차량연식'] >= 1991)].shape[0]\n",
    "# Fuel injection 휘발유 차량의 비율\n",
    "q = injection / (injection + not_injection)\n",
    "q"
   ]
  },
  {
   "cell_type": "code",
   "execution_count": 161,
   "metadata": {},
   "outputs": [],
   "source": [
    "# x = df2['VKT'] / (365 * l_trip)\n",
    "df2['S_fi'] = q * df2['e_fi'] * ( df2['VKT'] / (365 * l_trip) )"
   ]
  },
  {
   "cell_type": "markdown",
   "metadata": {},
   "source": [
    "## $S^c$\n",
    "$S^c = (1-q)(p \\times x \\times e^{S, HOT} + w \\times x \\times e^{S,WARM})$\n",
    "- Carburetor 휘발유 차량의 일중 hot and warm soak 배출량(g/day-대)\n",
    "- $q$ : Fuel injection 휘발유 차량의 비율\n",
    "- $p$ : 가열 엔진 상태로 끝나는 trip의 비율\n",
    "- $x$ : 일평균 통행횟수 $= V_j / 365 \\times l_{trip}$\n",
    "- $e^{S,HOT}$ : Hot soak emission의 평균 배출계수\n",
    "- $w$ : 미가열 엔진 상태료 끝나는 trip의 비율\n",
    "- $x$ : 일평균 통행횟수 $= V_j / 365 \\times l_{trip}$\n",
    "- $V_j$ : 차종 j의 1대당 평균 연간 주행거리\n",
    "- $e^{S,WARM}$ : Cold and warm soak emission의 평균 배출계수"
   ]
  },
  {
   "cell_type": "code",
   "execution_count": 162,
   "metadata": {},
   "outputs": [],
   "source": [
    "# x = df2['VKT'] / (365 * l_trip)\n",
    "df2['S_c'] = (1-q) * (p * (df2['VKT'] / (365 * l_trip)) * df2['e_SHOT'] + w * (df2['VKT'] / (365 * l_trip)) * df2['e_SWARM'])"
   ]
  },
  {
   "cell_type": "markdown",
   "metadata": {},
   "source": [
    "## $E_{EVA,VOC}$\n",
    "$E_{EVA, VOC:j} = 365 \\times N_j \\times (e^d + S^c + S^{fi}) + R$\n",
    "- $N_j$ : 차종 j의 휘발유 사용 차량 등록대수(대)\n",
    "- $e^d$ : 금속탱크를 가지고 있는 휘발유 차량의 일중 VOC 배출량(g/day-대)\n",
    "- $S^c$ : Carburetor 휘발유 차량의 일중 hot and warm soak 배출량(g/day-대)\n",
    "- $S^{fi}$ : Fuel injection 휘발유 차량의 일중 hot and warm soak 배출량(g/day-대)\n",
    "- $R$ : Running loss에 의한 휘발유 차량의 연중 배출량(g/yr)"
   ]
  },
  {
   "cell_type": "code",
   "execution_count": 163,
   "metadata": {},
   "outputs": [],
   "source": [
    "df2['E_EVA_VOC'] = 365 * (df2['e_d'] + df2['S_c'] + df2['S_fi']) + df2['R']"
   ]
  },
  {
   "cell_type": "code",
   "execution_count": 164,
   "metadata": {},
   "outputs": [
    {
     "data": {
      "text/plain": [
       "0"
      ]
     },
     "execution_count": 164,
     "metadata": {},
     "output_type": "execute_result"
    }
   ],
   "source": [
    "df2['E_EVA_VOC'].isnull().sum()"
   ]
  },
  {
   "cell_type": "markdown",
   "metadata": {},
   "source": [
    "# 배출량 합계\n",
    "$E_{total}(kg) = E_{HOT}(kg) + E_{COLD}(g) + E_{EVAP}(g)$"
   ]
  },
  {
   "cell_type": "code",
   "execution_count": 165,
   "metadata": {},
   "outputs": [
    {
     "data": {
      "text/plain": [
       "(15148, 74)"
      ]
     },
     "execution_count": 165,
     "metadata": {},
     "output_type": "execute_result"
    }
   ],
   "source": [
    "df2[df2['E_COLD_NOx'] < 0].shape"
   ]
  },
  {
   "cell_type": "code",
   "execution_count": 166,
   "metadata": {},
   "outputs": [],
   "source": [
    "# E_COLD_NOx 음수 -> 0으로 처리(2023.04.24 from 최이사님)\n",
    "df2.loc[df2['E_COLD_NOx'] < 0, 'E_COLD_NOx'] = 0"
   ]
  },
  {
   "cell_type": "code",
   "execution_count": 167,
   "metadata": {},
   "outputs": [
    {
     "data": {
      "text/plain": [
       "(0, 74)"
      ]
     },
     "execution_count": 167,
     "metadata": {},
     "output_type": "execute_result"
    }
   ],
   "source": [
    "df2[df2['E_COLD_NOx'] < 0].shape"
   ]
  },
  {
   "cell_type": "code",
   "execution_count": 168,
   "metadata": {},
   "outputs": [
    {
     "data": {
      "text/plain": [
       "(['E_HOT_CO', 'E_HOT_HC', 'E_HOT_NOx', 'E_HOT_PM10', 'E_HOT_PM2_5'],\n",
       " ['E_COLD_CO', 'E_COLD_NOx', 'E_COLD_HC', 'E_COLD_PM10', 'E_COLD_PM2_5'])"
      ]
     },
     "execution_count": 168,
     "metadata": {},
     "output_type": "execute_result"
    }
   ],
   "source": [
    "check_E_HOT_col, check_E_cold_col"
   ]
  },
  {
   "cell_type": "code",
   "execution_count": 169,
   "metadata": {},
   "outputs": [
    {
     "data": {
      "text/plain": [
       "(0, 74)"
      ]
     },
     "execution_count": 169,
     "metadata": {},
     "output_type": "execute_result"
    }
   ],
   "source": [
    "df2.loc[(df2['연료'] == '휘발유') & (df2['E_COLD_PM10'] != 0)].shape"
   ]
  },
  {
   "cell_type": "code",
   "execution_count": 170,
   "metadata": {},
   "outputs": [
    {
     "data": {
      "text/plain": [
       "array(['경유', '휘발유', 'LPG(액화석유가스)'], dtype=object)"
      ]
     },
     "execution_count": 170,
     "metadata": {},
     "output_type": "execute_result"
    }
   ],
   "source": [
    "df2['연료'].unique()"
   ]
  },
  {
   "cell_type": "code",
   "execution_count": 171,
   "metadata": {},
   "outputs": [],
   "source": [
    "# 단위 변환(g -> kg)\n",
    "df2['E_COLD_CO'] = df2['E_COLD_CO'] / 1000\n",
    "df2['E_COLD_HC'] = df2['E_COLD_HC'] / 1000\n",
    "df2['E_COLD_NOx'] = df2['E_COLD_NOx'] / 1000\n",
    "df2['E_COLD_PM10'] = df2['E_COLD_PM10'] / 1000\n",
    "df2['E_COLD_PM2_5'] = df2['E_COLD_PM2_5'] / 1000\n",
    "df2['E_EVA_VOC'] = df2['E_EVA_VOC'] / 1000"
   ]
  },
  {
   "cell_type": "code",
   "execution_count": 172,
   "metadata": {},
   "outputs": [],
   "source": [
    "fuel = '휘발유'\n",
    "df2.loc[df2['연료'] == fuel, 'E_CO_total'] = df2.loc[df2['연료'] == fuel , 'E_HOT_CO'] + df2.loc[df2['연료'] == fuel , 'E_COLD_CO']\n",
    "df2.loc[df2['연료'] == fuel, 'E_HC_total'] = df2.loc[df2['연료'] == fuel , 'E_HOT_HC'] + df2.loc[df2['연료'] == fuel , 'E_COLD_HC'] + df2.loc[df2['연료'] == fuel , 'E_EVA_VOC']\n",
    "df2.loc[df2['연료'] == fuel, 'E_NOx_total'] = df2.loc[df2['연료'] == fuel , 'E_HOT_NOx'] + df2.loc[df2['연료'] == fuel , 'E_COLD_NOx']\n",
    "df2.loc[df2['연료'] == fuel, 'E_PM10_total'] = df2.loc[df2['연료'] == fuel , 'E_HOT_PM10'] + df2.loc[df2['연료'] == fuel , 'E_COLD_PM10']\n",
    "df2.loc[df2['연료'] == fuel, 'E_PM2_5_total'] = df2.loc[df2['연료'] == fuel , 'E_HOT_PM2_5'] + df2.loc[df2['연료'] == fuel , 'E_COLD_PM2_5']"
   ]
  },
  {
   "cell_type": "code",
   "execution_count": 173,
   "metadata": {},
   "outputs": [],
   "source": [
    "fuel = '경유'\n",
    "df2.loc[df2['연료'] == fuel, 'E_CO_total'] = df2.loc[df2['연료'] == fuel , 'E_HOT_CO'] + df2.loc[df2['연료'] == fuel , 'E_COLD_CO']\n",
    "df2.loc[df2['연료'] == fuel, 'E_HC_total'] = df2.loc[df2['연료'] == fuel , 'E_HOT_HC'] + df2.loc[df2['연료'] == fuel , 'E_COLD_HC']\n",
    "df2.loc[df2['연료'] == fuel, 'E_NOx_total'] = df2.loc[df2['연료'] == fuel , 'E_HOT_NOx'] + df2.loc[df2['연료'] == fuel , 'E_COLD_NOx']\n",
    "df2.loc[df2['연료'] == fuel, 'E_PM10_total'] = df2.loc[df2['연료'] == fuel , 'E_HOT_PM10'] + df2.loc[df2['연료'] == fuel , 'E_COLD_PM10']\n",
    "df2.loc[df2['연료'] == fuel, 'E_PM2_5_total'] = df2.loc[df2['연료'] == fuel , 'E_HOT_PM2_5'] + df2.loc[df2['연료'] == fuel , 'E_COLD_PM2_5']"
   ]
  },
  {
   "cell_type": "code",
   "execution_count": 174,
   "metadata": {},
   "outputs": [],
   "source": [
    "# 20.0s\n",
    "fuel = 'LPG(액화석유가스)'\n",
    "df2.loc[df2['연료'] == fuel, 'E_CO_total'] = df2.loc[df2['연료'] == fuel , 'E_HOT_CO'] + df2.loc[df2['연료'] == fuel , 'E_COLD_CO']\n",
    "df2.loc[df2['연료'] == fuel, 'E_HC_total'] = df2.loc[df2['연료'] == fuel , 'E_HOT_HC'] + df2.loc[df2['연료'] == fuel , 'E_COLD_HC']\n",
    "df2.loc[df2['연료'] == fuel, 'E_NOx_total'] = df2.loc[df2['연료'] == fuel , 'E_HOT_NOx'] + df2.loc[df2['연료'] == fuel , 'E_COLD_NOx']\n",
    "df2.loc[df2['연료'] == fuel, 'E_PM10_total'] = df2.loc[df2['연료'] == fuel , 'E_HOT_PM10'] + df2.loc[df2['연료'] == fuel , 'E_COLD_PM10']\n",
    "df2.loc[df2['연료'] == fuel, 'E_PM2_5_total'] = df2.loc[df2['연료'] == fuel , 'E_HOT_PM2_5'] + df2.loc[df2['연료'] == fuel , 'E_COLD_PM2_5']"
   ]
  },
  {
   "cell_type": "code",
   "execution_count": 175,
   "metadata": {},
   "outputs": [
    {
     "data": {
      "text/html": [
       "<div>\n",
       "<style scoped>\n",
       "    .dataframe tbody tr th:only-of-type {\n",
       "        vertical-align: middle;\n",
       "    }\n",
       "\n",
       "    .dataframe tbody tr th {\n",
       "        vertical-align: top;\n",
       "    }\n",
       "\n",
       "    .dataframe thead th {\n",
       "        text-align: right;\n",
       "    }\n",
       "</style>\n",
       "<table border=\"1\" class=\"dataframe\">\n",
       "  <thead>\n",
       "    <tr style=\"text-align: right;\">\n",
       "      <th></th>\n",
       "      <th>E_CO_total</th>\n",
       "      <th>E_HC_total</th>\n",
       "      <th>E_NOx_total</th>\n",
       "      <th>E_PM10_total</th>\n",
       "      <th>E_PM2_5_total</th>\n",
       "    </tr>\n",
       "  </thead>\n",
       "  <tbody>\n",
       "    <tr>\n",
       "      <th>0</th>\n",
       "      <td>0.07</td>\n",
       "      <td>0.01</td>\n",
       "      <td>0.63</td>\n",
       "      <td>0.00</td>\n",
       "      <td>0.00</td>\n",
       "    </tr>\n",
       "    <tr>\n",
       "      <th>1</th>\n",
       "      <td>0.00</td>\n",
       "      <td>0.02</td>\n",
       "      <td>7.70</td>\n",
       "      <td>0.00</td>\n",
       "      <td>0.00</td>\n",
       "    </tr>\n",
       "    <tr>\n",
       "      <th>2</th>\n",
       "      <td>0.03</td>\n",
       "      <td>0.02</td>\n",
       "      <td>1.44</td>\n",
       "      <td>0.05</td>\n",
       "      <td>0.05</td>\n",
       "    </tr>\n",
       "    <tr>\n",
       "      <th>3</th>\n",
       "      <td>0.09</td>\n",
       "      <td>0.05</td>\n",
       "      <td>4.30</td>\n",
       "      <td>0.16</td>\n",
       "      <td>0.15</td>\n",
       "    </tr>\n",
       "    <tr>\n",
       "      <th>4</th>\n",
       "      <td>0.02</td>\n",
       "      <td>0.01</td>\n",
       "      <td>1.04</td>\n",
       "      <td>0.04</td>\n",
       "      <td>0.04</td>\n",
       "    </tr>\n",
       "  </tbody>\n",
       "</table>\n",
       "</div>"
      ],
      "text/plain": [
       "   E_CO_total  E_HC_total  E_NOx_total  E_PM10_total  E_PM2_5_total\n",
       "0        0.07        0.01         0.63          0.00           0.00\n",
       "1        0.00        0.02         7.70          0.00           0.00\n",
       "2        0.03        0.02         1.44          0.05           0.05\n",
       "3        0.09        0.05         4.30          0.16           0.15\n",
       "4        0.02        0.01         1.04          0.04           0.04"
      ]
     },
     "execution_count": 175,
     "metadata": {},
     "output_type": "execute_result"
    }
   ],
   "source": [
    "check_E_col = ['E_CO_total', 'E_HC_total', 'E_NOx_total', 'E_PM10_total', 'E_PM2_5_total']\n",
    "df2[check_E_col].head()"
   ]
  },
  {
   "cell_type": "markdown",
   "metadata": {},
   "source": [
    "## 배출량\n",
    "- 연료 : 휘발유, 경유, LPG(액화석유가스)\n",
    "- 물질 : CO, HC, NOx, PM10, PM2.5"
   ]
  },
  {
   "cell_type": "code",
   "execution_count": 176,
   "metadata": {},
   "outputs": [
    {
     "data": {
      "text/html": [
       "<div>\n",
       "<style scoped>\n",
       "    .dataframe tbody tr th:only-of-type {\n",
       "        vertical-align: middle;\n",
       "    }\n",
       "\n",
       "    .dataframe tbody tr th {\n",
       "        vertical-align: top;\n",
       "    }\n",
       "\n",
       "    .dataframe thead th {\n",
       "        text-align: right;\n",
       "    }\n",
       "</style>\n",
       "<table border=\"1\" class=\"dataframe\">\n",
       "  <thead>\n",
       "    <tr style=\"text-align: right;\">\n",
       "      <th></th>\n",
       "      <th>차대번호</th>\n",
       "      <th>차량번호</th>\n",
       "      <th>법정동코드</th>\n",
       "      <th>차량말소YN</th>\n",
       "      <th>제원관리번호</th>\n",
       "      <th>차량연식</th>\n",
       "      <th>차종</th>\n",
       "      <th>용도</th>\n",
       "      <th>최초등록일자</th>\n",
       "      <th>제작일자</th>\n",
       "      <th>...</th>\n",
       "      <th>e_RWARM</th>\n",
       "      <th>R</th>\n",
       "      <th>S_fi</th>\n",
       "      <th>S_c</th>\n",
       "      <th>E_EVA_VOC</th>\n",
       "      <th>E_CO_total</th>\n",
       "      <th>E_HC_total</th>\n",
       "      <th>E_NOx_total</th>\n",
       "      <th>E_PM10_total</th>\n",
       "      <th>E_PM2_5_total</th>\n",
       "    </tr>\n",
       "  </thead>\n",
       "  <tbody>\n",
       "    <tr>\n",
       "      <th>0</th>\n",
       "      <td>KMFLA18KP8C031274</td>\n",
       "      <td>92도0997</td>\n",
       "      <td>4482533000</td>\n",
       "      <td>N</td>\n",
       "      <td>B1R10005100003308</td>\n",
       "      <td>2008</td>\n",
       "      <td>화물</td>\n",
       "      <td>개인용</td>\n",
       "      <td>1970-01-01 00:00:00.020220419</td>\n",
       "      <td>20080605.00</td>\n",
       "      <td>...</td>\n",
       "      <td>0.00</td>\n",
       "      <td>0.37</td>\n",
       "      <td>0.00</td>\n",
       "      <td>0.00</td>\n",
       "      <td>0.31</td>\n",
       "      <td>0.07</td>\n",
       "      <td>0.01</td>\n",
       "      <td>0.63</td>\n",
       "      <td>0.00</td>\n",
       "      <td>0.00</td>\n",
       "    </tr>\n",
       "    <tr>\n",
       "      <th>1</th>\n",
       "      <td>KMCGK17HP9C112030</td>\n",
       "      <td>93루6527</td>\n",
       "      <td>4518010400</td>\n",
       "      <td>N</td>\n",
       "      <td>A0810005008143209</td>\n",
       "      <td>2009</td>\n",
       "      <td>화물</td>\n",
       "      <td>개인용</td>\n",
       "      <td>1970-01-01 00:00:00.020220407</td>\n",
       "      <td>20090316.00</td>\n",
       "      <td>...</td>\n",
       "      <td>0.00</td>\n",
       "      <td>6.18</td>\n",
       "      <td>0.00</td>\n",
       "      <td>0.02</td>\n",
       "      <td>0.32</td>\n",
       "      <td>0.00</td>\n",
       "      <td>0.02</td>\n",
       "      <td>7.70</td>\n",
       "      <td>0.00</td>\n",
       "      <td>0.00</td>\n",
       "    </tr>\n",
       "    <tr>\n",
       "      <th>2</th>\n",
       "      <td>KNCSE01429K388374</td>\n",
       "      <td>87너9428</td>\n",
       "      <td>2771026522</td>\n",
       "      <td>N</td>\n",
       "      <td>A0110003115353108</td>\n",
       "      <td>2009</td>\n",
       "      <td>화물</td>\n",
       "      <td>개인용</td>\n",
       "      <td>1970-01-01 00:00:00.020210909</td>\n",
       "      <td>20090312.00</td>\n",
       "      <td>...</td>\n",
       "      <td>0.00</td>\n",
       "      <td>4.00</td>\n",
       "      <td>0.00</td>\n",
       "      <td>0.01</td>\n",
       "      <td>0.32</td>\n",
       "      <td>0.03</td>\n",
       "      <td>0.02</td>\n",
       "      <td>1.44</td>\n",
       "      <td>0.05</td>\n",
       "      <td>0.05</td>\n",
       "    </tr>\n",
       "    <tr>\n",
       "      <th>3</th>\n",
       "      <td>KNFSE0A439K387582</td>\n",
       "      <td>96구5391</td>\n",
       "      <td>3020011900</td>\n",
       "      <td>N</td>\n",
       "      <td>A0110003116073108</td>\n",
       "      <td>2009</td>\n",
       "      <td>화물</td>\n",
       "      <td>개인용</td>\n",
       "      <td>1970-01-01 00:00:00.020210902</td>\n",
       "      <td>20090320.00</td>\n",
       "      <td>...</td>\n",
       "      <td>0.00</td>\n",
       "      <td>11.94</td>\n",
       "      <td>0.00</td>\n",
       "      <td>0.04</td>\n",
       "      <td>0.34</td>\n",
       "      <td>0.09</td>\n",
       "      <td>0.05</td>\n",
       "      <td>4.30</td>\n",
       "      <td>0.16</td>\n",
       "      <td>0.15</td>\n",
       "    </tr>\n",
       "    <tr>\n",
       "      <th>4</th>\n",
       "      <td>KNCSE01429K388695</td>\n",
       "      <td>96구5394</td>\n",
       "      <td>2626010300</td>\n",
       "      <td>N</td>\n",
       "      <td>A0110003115353108</td>\n",
       "      <td>2009</td>\n",
       "      <td>화물</td>\n",
       "      <td>개인용</td>\n",
       "      <td>1970-01-01 00:00:00.020210902</td>\n",
       "      <td>20090317.00</td>\n",
       "      <td>...</td>\n",
       "      <td>0.00</td>\n",
       "      <td>2.88</td>\n",
       "      <td>0.00</td>\n",
       "      <td>0.01</td>\n",
       "      <td>0.32</td>\n",
       "      <td>0.02</td>\n",
       "      <td>0.01</td>\n",
       "      <td>1.04</td>\n",
       "      <td>0.04</td>\n",
       "      <td>0.04</td>\n",
       "    </tr>\n",
       "  </tbody>\n",
       "</table>\n",
       "<p>5 rows × 79 columns</p>\n",
       "</div>"
      ],
      "text/plain": [
       "                차대번호     차량번호       법정동코드 차량말소YN             제원관리번호  차량연식  차종   \n",
       "0  KMFLA18KP8C031274  92도0997  4482533000      N  B1R10005100003308  2008  화물  \\\n",
       "1  KMCGK17HP9C112030  93루6527  4518010400      N  A0810005008143209  2009  화물   \n",
       "2  KNCSE01429K388374  87너9428  2771026522      N  A0110003115353108  2009  화물   \n",
       "3  KNFSE0A439K387582  96구5391  3020011900      N  A0110003116073108  2009  화물   \n",
       "4  KNCSE01429K388695  96구5394  2626010300      N  A0110003115353108  2009  화물   \n",
       "\n",
       "    용도                        최초등록일자        제작일자  ...  e_RWARM     R S_fi   \n",
       "0  개인용 1970-01-01 00:00:00.020220419 20080605.00  ...     0.00  0.37 0.00  \\\n",
       "1  개인용 1970-01-01 00:00:00.020220407 20090316.00  ...     0.00  6.18 0.00   \n",
       "2  개인용 1970-01-01 00:00:00.020210909 20090312.00  ...     0.00  4.00 0.00   \n",
       "3  개인용 1970-01-01 00:00:00.020210902 20090320.00  ...     0.00 11.94 0.00   \n",
       "4  개인용 1970-01-01 00:00:00.020210902 20090317.00  ...     0.00  2.88 0.00   \n",
       "\n",
       "   S_c E_EVA_VOC E_CO_total E_HC_total E_NOx_total E_PM10_total E_PM2_5_total  \n",
       "0 0.00      0.31       0.07       0.01        0.63         0.00          0.00  \n",
       "1 0.02      0.32       0.00       0.02        7.70         0.00          0.00  \n",
       "2 0.01      0.32       0.03       0.02        1.44         0.05          0.05  \n",
       "3 0.04      0.34       0.09       0.05        4.30         0.16          0.15  \n",
       "4 0.01      0.32       0.02       0.01        1.04         0.04          0.04  \n",
       "\n",
       "[5 rows x 79 columns]"
      ]
     },
     "execution_count": 176,
     "metadata": {},
     "output_type": "execute_result"
    }
   ],
   "source": [
    "df2.head()"
   ]
  },
  {
   "cell_type": "markdown",
   "metadata": {},
   "source": [
    "## 시도/시군구별 배출량 합계"
   ]
  },
  {
   "cell_type": "code",
   "execution_count": 177,
   "metadata": {},
   "outputs": [
    {
     "data": {
      "text/html": [
       "<div>\n",
       "<style scoped>\n",
       "    .dataframe tbody tr th:only-of-type {\n",
       "        vertical-align: middle;\n",
       "    }\n",
       "\n",
       "    .dataframe tbody tr th {\n",
       "        vertical-align: top;\n",
       "    }\n",
       "\n",
       "    .dataframe thead th {\n",
       "        text-align: right;\n",
       "    }\n",
       "</style>\n",
       "<table border=\"1\" class=\"dataframe\">\n",
       "  <thead>\n",
       "    <tr style=\"text-align: right;\">\n",
       "      <th></th>\n",
       "      <th>시도</th>\n",
       "      <th>시군구_수정</th>\n",
       "      <th>E_CO_total</th>\n",
       "      <th>E_HC_total</th>\n",
       "      <th>E_NOx_total</th>\n",
       "      <th>E_PM10_total</th>\n",
       "      <th>E_PM2_5_total</th>\n",
       "    </tr>\n",
       "  </thead>\n",
       "  <tbody>\n",
       "    <tr>\n",
       "      <th>0</th>\n",
       "      <td>강원도</td>\n",
       "      <td>강릉시</td>\n",
       "      <td>61671.91</td>\n",
       "      <td>8268.55</td>\n",
       "      <td>60589.65</td>\n",
       "      <td>581.14</td>\n",
       "      <td>533.26</td>\n",
       "    </tr>\n",
       "    <tr>\n",
       "      <th>1</th>\n",
       "      <td>강원도</td>\n",
       "      <td>고성군</td>\n",
       "      <td>15627.99</td>\n",
       "      <td>1919.46</td>\n",
       "      <td>12044.04</td>\n",
       "      <td>122.24</td>\n",
       "      <td>112.18</td>\n",
       "    </tr>\n",
       "    <tr>\n",
       "      <th>2</th>\n",
       "      <td>강원도</td>\n",
       "      <td>동해시</td>\n",
       "      <td>33153.23</td>\n",
       "      <td>3924.06</td>\n",
       "      <td>28320.23</td>\n",
       "      <td>241.14</td>\n",
       "      <td>221.13</td>\n",
       "    </tr>\n",
       "    <tr>\n",
       "      <th>3</th>\n",
       "      <td>강원도</td>\n",
       "      <td>삼척시</td>\n",
       "      <td>20130.29</td>\n",
       "      <td>2528.39</td>\n",
       "      <td>20413.36</td>\n",
       "      <td>219.76</td>\n",
       "      <td>201.75</td>\n",
       "    </tr>\n",
       "    <tr>\n",
       "      <th>4</th>\n",
       "      <td>강원도</td>\n",
       "      <td>속초시</td>\n",
       "      <td>31201.50</td>\n",
       "      <td>3933.23</td>\n",
       "      <td>20679.36</td>\n",
       "      <td>171.91</td>\n",
       "      <td>157.89</td>\n",
       "    </tr>\n",
       "    <tr>\n",
       "      <th>...</th>\n",
       "      <td>...</td>\n",
       "      <td>...</td>\n",
       "      <td>...</td>\n",
       "      <td>...</td>\n",
       "      <td>...</td>\n",
       "      <td>...</td>\n",
       "      <td>...</td>\n",
       "    </tr>\n",
       "    <tr>\n",
       "      <th>253</th>\n",
       "      <td>충청북도</td>\n",
       "      <td>증평군</td>\n",
       "      <td>19801.38</td>\n",
       "      <td>2622.65</td>\n",
       "      <td>16783.48</td>\n",
       "      <td>128.67</td>\n",
       "      <td>117.99</td>\n",
       "    </tr>\n",
       "    <tr>\n",
       "      <th>254</th>\n",
       "      <td>충청북도</td>\n",
       "      <td>진천군</td>\n",
       "      <td>52613.36</td>\n",
       "      <td>6401.32</td>\n",
       "      <td>38610.79</td>\n",
       "      <td>300.43</td>\n",
       "      <td>275.53</td>\n",
       "    </tr>\n",
       "    <tr>\n",
       "      <th>255</th>\n",
       "      <td>충청북도</td>\n",
       "      <td>청원군</td>\n",
       "      <td>191.39</td>\n",
       "      <td>31.01</td>\n",
       "      <td>40.86</td>\n",
       "      <td>0.06</td>\n",
       "      <td>0.05</td>\n",
       "    </tr>\n",
       "    <tr>\n",
       "      <th>256</th>\n",
       "      <td>충청북도</td>\n",
       "      <td>청주시</td>\n",
       "      <td>292108.65</td>\n",
       "      <td>37569.27</td>\n",
       "      <td>244757.12</td>\n",
       "      <td>2030.86</td>\n",
       "      <td>1863.07</td>\n",
       "    </tr>\n",
       "    <tr>\n",
       "      <th>257</th>\n",
       "      <td>충청북도</td>\n",
       "      <td>충주시</td>\n",
       "      <td>94139.82</td>\n",
       "      <td>11726.05</td>\n",
       "      <td>76630.28</td>\n",
       "      <td>693.58</td>\n",
       "      <td>636.48</td>\n",
       "    </tr>\n",
       "  </tbody>\n",
       "</table>\n",
       "<p>258 rows × 7 columns</p>\n",
       "</div>"
      ],
      "text/plain": [
       "       시도 시군구_수정  E_CO_total  E_HC_total  E_NOx_total  E_PM10_total   \n",
       "0     강원도    강릉시    61671.91     8268.55     60589.65        581.14  \\\n",
       "1     강원도    고성군    15627.99     1919.46     12044.04        122.24   \n",
       "2     강원도    동해시    33153.23     3924.06     28320.23        241.14   \n",
       "3     강원도    삼척시    20130.29     2528.39     20413.36        219.76   \n",
       "4     강원도    속초시    31201.50     3933.23     20679.36        171.91   \n",
       "..    ...    ...         ...         ...          ...           ...   \n",
       "253  충청북도    증평군    19801.38     2622.65     16783.48        128.67   \n",
       "254  충청북도    진천군    52613.36     6401.32     38610.79        300.43   \n",
       "255  충청북도    청원군      191.39       31.01        40.86          0.06   \n",
       "256  충청북도    청주시   292108.65    37569.27    244757.12       2030.86   \n",
       "257  충청북도    충주시    94139.82    11726.05     76630.28        693.58   \n",
       "\n",
       "     E_PM2_5_total  \n",
       "0           533.26  \n",
       "1           112.18  \n",
       "2           221.13  \n",
       "3           201.75  \n",
       "4           157.89  \n",
       "..             ...  \n",
       "253         117.99  \n",
       "254         275.53  \n",
       "255           0.05  \n",
       "256        1863.07  \n",
       "257         636.48  \n",
       "\n",
       "[258 rows x 7 columns]"
      ]
     },
     "execution_count": 177,
     "metadata": {},
     "output_type": "execute_result"
    }
   ],
   "source": [
    "grp1 = df2.groupby(['시도', '시군구_수정'], as_index=False).agg({'E_CO_total':'sum', 'E_HC_total':'sum', 'E_NOx_total':'sum', 'E_PM10_total':'sum', 'E_PM2_5_total':'sum'})\n",
    "grp1"
   ]
  },
  {
   "cell_type": "code",
   "execution_count": 178,
   "metadata": {},
   "outputs": [
    {
     "data": {
      "text/plain": [
       "Index(['시도', '시군구_수정', 'E_CO_total', 'E_HC_total', 'E_NOx_total',\n",
       "       'E_PM10_total', 'E_PM2_5_total'],\n",
       "      dtype='object')"
      ]
     },
     "execution_count": 178,
     "metadata": {},
     "output_type": "execute_result"
    }
   ],
   "source": [
    "grp1.columns"
   ]
  },
  {
   "cell_type": "code",
   "execution_count": null,
   "metadata": {},
   "outputs": [],
   "source": [
    "today_date = datetime.today().strftime(\"%Y%m%d\")\n",
    "today_date"
   ]
  },
  {
   "cell_type": "code",
   "execution_count": 179,
   "metadata": {},
   "outputs": [
    {
     "data": {
      "text/html": [
       "<div>\n",
       "<style scoped>\n",
       "    .dataframe tbody tr th:only-of-type {\n",
       "        vertical-align: middle;\n",
       "    }\n",
       "\n",
       "    .dataframe tbody tr th {\n",
       "        vertical-align: top;\n",
       "    }\n",
       "\n",
       "    .dataframe thead th {\n",
       "        text-align: right;\n",
       "    }\n",
       "</style>\n",
       "<table border=\"1\" class=\"dataframe\">\n",
       "  <thead>\n",
       "    <tr style=\"text-align: right;\">\n",
       "      <th></th>\n",
       "      <th>연도</th>\n",
       "      <th>시도</th>\n",
       "      <th>시군구_수정</th>\n",
       "      <th>E_CO_total</th>\n",
       "      <th>E_HC_total</th>\n",
       "      <th>E_NOx_total</th>\n",
       "      <th>E_PM10_total</th>\n",
       "      <th>E_PM2_5_total</th>\n",
       "    </tr>\n",
       "  </thead>\n",
       "  <tbody>\n",
       "    <tr>\n",
       "      <th>0</th>\n",
       "      <td>2022</td>\n",
       "      <td>강원도</td>\n",
       "      <td>강릉시</td>\n",
       "      <td>61671.91</td>\n",
       "      <td>8268.55</td>\n",
       "      <td>60589.65</td>\n",
       "      <td>581.14</td>\n",
       "      <td>533.26</td>\n",
       "    </tr>\n",
       "    <tr>\n",
       "      <th>1</th>\n",
       "      <td>2022</td>\n",
       "      <td>강원도</td>\n",
       "      <td>고성군</td>\n",
       "      <td>15627.99</td>\n",
       "      <td>1919.46</td>\n",
       "      <td>12044.04</td>\n",
       "      <td>122.24</td>\n",
       "      <td>112.18</td>\n",
       "    </tr>\n",
       "    <tr>\n",
       "      <th>2</th>\n",
       "      <td>2022</td>\n",
       "      <td>강원도</td>\n",
       "      <td>동해시</td>\n",
       "      <td>33153.23</td>\n",
       "      <td>3924.06</td>\n",
       "      <td>28320.23</td>\n",
       "      <td>241.14</td>\n",
       "      <td>221.13</td>\n",
       "    </tr>\n",
       "    <tr>\n",
       "      <th>3</th>\n",
       "      <td>2022</td>\n",
       "      <td>강원도</td>\n",
       "      <td>삼척시</td>\n",
       "      <td>20130.29</td>\n",
       "      <td>2528.39</td>\n",
       "      <td>20413.36</td>\n",
       "      <td>219.76</td>\n",
       "      <td>201.75</td>\n",
       "    </tr>\n",
       "    <tr>\n",
       "      <th>4</th>\n",
       "      <td>2022</td>\n",
       "      <td>강원도</td>\n",
       "      <td>속초시</td>\n",
       "      <td>31201.50</td>\n",
       "      <td>3933.23</td>\n",
       "      <td>20679.36</td>\n",
       "      <td>171.91</td>\n",
       "      <td>157.89</td>\n",
       "    </tr>\n",
       "    <tr>\n",
       "      <th>...</th>\n",
       "      <td>...</td>\n",
       "      <td>...</td>\n",
       "      <td>...</td>\n",
       "      <td>...</td>\n",
       "      <td>...</td>\n",
       "      <td>...</td>\n",
       "      <td>...</td>\n",
       "      <td>...</td>\n",
       "    </tr>\n",
       "    <tr>\n",
       "      <th>253</th>\n",
       "      <td>2022</td>\n",
       "      <td>충청북도</td>\n",
       "      <td>증평군</td>\n",
       "      <td>19801.38</td>\n",
       "      <td>2622.65</td>\n",
       "      <td>16783.48</td>\n",
       "      <td>128.67</td>\n",
       "      <td>117.99</td>\n",
       "    </tr>\n",
       "    <tr>\n",
       "      <th>254</th>\n",
       "      <td>2022</td>\n",
       "      <td>충청북도</td>\n",
       "      <td>진천군</td>\n",
       "      <td>52613.36</td>\n",
       "      <td>6401.32</td>\n",
       "      <td>38610.79</td>\n",
       "      <td>300.43</td>\n",
       "      <td>275.53</td>\n",
       "    </tr>\n",
       "    <tr>\n",
       "      <th>255</th>\n",
       "      <td>2022</td>\n",
       "      <td>충청북도</td>\n",
       "      <td>청원군</td>\n",
       "      <td>191.39</td>\n",
       "      <td>31.01</td>\n",
       "      <td>40.86</td>\n",
       "      <td>0.06</td>\n",
       "      <td>0.05</td>\n",
       "    </tr>\n",
       "    <tr>\n",
       "      <th>256</th>\n",
       "      <td>2022</td>\n",
       "      <td>충청북도</td>\n",
       "      <td>청주시</td>\n",
       "      <td>292108.65</td>\n",
       "      <td>37569.27</td>\n",
       "      <td>244757.12</td>\n",
       "      <td>2030.86</td>\n",
       "      <td>1863.07</td>\n",
       "    </tr>\n",
       "    <tr>\n",
       "      <th>257</th>\n",
       "      <td>2022</td>\n",
       "      <td>충청북도</td>\n",
       "      <td>충주시</td>\n",
       "      <td>94139.82</td>\n",
       "      <td>11726.05</td>\n",
       "      <td>76630.28</td>\n",
       "      <td>693.58</td>\n",
       "      <td>636.48</td>\n",
       "    </tr>\n",
       "  </tbody>\n",
       "</table>\n",
       "<p>258 rows × 8 columns</p>\n",
       "</div>"
      ],
      "text/plain": [
       "       연도    시도 시군구_수정  E_CO_total  E_HC_total  E_NOx_total  E_PM10_total   \n",
       "0    2022   강원도    강릉시    61671.91     8268.55     60589.65        581.14  \\\n",
       "1    2022   강원도    고성군    15627.99     1919.46     12044.04        122.24   \n",
       "2    2022   강원도    동해시    33153.23     3924.06     28320.23        241.14   \n",
       "3    2022   강원도    삼척시    20130.29     2528.39     20413.36        219.76   \n",
       "4    2022   강원도    속초시    31201.50     3933.23     20679.36        171.91   \n",
       "..    ...   ...    ...         ...         ...          ...           ...   \n",
       "253  2022  충청북도    증평군    19801.38     2622.65     16783.48        128.67   \n",
       "254  2022  충청북도    진천군    52613.36     6401.32     38610.79        300.43   \n",
       "255  2022  충청북도    청원군      191.39       31.01        40.86          0.06   \n",
       "256  2022  충청북도    청주시   292108.65    37569.27    244757.12       2030.86   \n",
       "257  2022  충청북도    충주시    94139.82    11726.05     76630.28        693.58   \n",
       "\n",
       "     E_PM2_5_total  \n",
       "0           533.26  \n",
       "1           112.18  \n",
       "2           221.13  \n",
       "3           201.75  \n",
       "4           157.89  \n",
       "..             ...  \n",
       "253         117.99  \n",
       "254         275.53  \n",
       "255           0.05  \n",
       "256        1863.07  \n",
       "257         636.48  \n",
       "\n",
       "[258 rows x 8 columns]"
      ]
     },
     "execution_count": 179,
     "metadata": {},
     "output_type": "execute_result"
    }
   ],
   "source": [
    "# grp1['연도'] = today_date[:4]\n",
    "grp1['연도'] = '2022' # 날짜 지정\n",
    "grp1 = grp1[['연도', '시도', '시군구_수정', 'E_CO_total', 'E_HC_total', 'E_NOx_total', 'E_PM10_total', 'E_PM2_5_total']]\n",
    "grp1"
   ]
  },
  {
   "cell_type": "code",
   "execution_count": 180,
   "metadata": {},
   "outputs": [
    {
     "data": {
      "text/plain": [
       "Index(['연도', '시도', '시군구_수정', 'E_CO_total', 'E_HC_total', 'E_NOx_total',\n",
       "       'E_PM10_total', 'E_PM2_5_total'],\n",
       "      dtype='object')"
      ]
     },
     "execution_count": 180,
     "metadata": {},
     "output_type": "execute_result"
    }
   ],
   "source": [
    "grp1.columns"
   ]
  },
  {
   "cell_type": "code",
   "execution_count": 183,
   "metadata": {},
   "outputs": [
    {
     "name": "stderr",
     "output_type": "stream",
     "text": [
      "C:\\Users\\kbjung\\AppData\\Local\\Temp\\ipykernel_9348\\99436472.py:1: SettingWithCopyWarning: \n",
      "A value is trying to be set on a copy of a slice from a DataFrame.\n",
      "Try using .loc[row_indexer,col_indexer] = value instead\n",
      "\n",
      "See the caveats in the documentation: https://pandas.pydata.org/pandas-docs/stable/user_guide/indexing.html#returning-a-view-versus-a-copy\n",
      "  grp1['테이블생성일자'] = today_date\n"
     ]
    }
   ],
   "source": [
    "grp1['테이블생성일자'] = today_date"
   ]
  },
  {
   "cell_type": "code",
   "execution_count": 181,
   "metadata": {},
   "outputs": [
    {
     "name": "stderr",
     "output_type": "stream",
     "text": [
      "C:\\Users\\kbjung\\AppData\\Local\\Temp\\ipykernel_9348\\85231019.py:1: SettingWithCopyWarning: \n",
      "A value is trying to be set on a copy of a slice from a DataFrame.\n",
      "Try using .loc[row_indexer,col_indexer] = value instead\n",
      "\n",
      "See the caveats in the documentation: https://pandas.pydata.org/pandas-docs/stable/user_guide/indexing.html#returning-a-view-versus-a-copy\n",
      "  grp1['기준연월'] = '202212'\n"
     ]
    }
   ],
   "source": [
    "grp1['기준연월'] = '2022.12'\n",
    "# grp1['기준연월'] = today_date[:4] + '.' + today_date[4:6]"
   ]
  },
  {
   "cell_type": "code",
   "execution_count": 184,
   "metadata": {},
   "outputs": [
    {
     "data": {
      "text/plain": [
       "Index(['연도', '시도', '시군구_수정', 'E_CO_total', 'E_HC_total', 'E_NOx_total',\n",
       "       'E_PM10_total', 'E_PM2_5_total', '기준연월', '테이블생성일자'],\n",
       "      dtype='object')"
      ]
     },
     "execution_count": 184,
     "metadata": {},
     "output_type": "execute_result"
    }
   ],
   "source": [
    "grp1.columns"
   ]
  },
  {
   "cell_type": "code",
   "execution_count": 185,
   "metadata": {},
   "outputs": [],
   "source": [
    "chc_dict = {\n",
    "    '테이블생성일자':'LOAD_DT', \n",
    "    '기준연월':'CRTR_YM', \n",
    "    '연도':'YR', \n",
    "    '시도':'CTPV', \n",
    "    '시군구_수정':'SGG', \n",
    "    'E_CO_total':'CO_EXHST_MSS', \n",
    "    'E_HC_total':'HC_EXHST_MSS', \n",
    "    'E_NOx_total':'NOx_EXHST_MSS',\n",
    "    'E_PM10_total':'PM10_EXHST_MSS', \n",
    "    'E_PM2_5_total':'PM2_5_EXHST_MSS', \n",
    "}"
   ]
  },
  {
   "cell_type": "code",
   "execution_count": 186,
   "metadata": {},
   "outputs": [
    {
     "data": {
      "text/plain": [
       "Index(['YR', 'CTPV', 'SGG', 'CO_EXHST_MSS', 'HC_EXHST_MSS', 'NOx_EXHST_MSS',\n",
       "       'PM10_EXHST_MSS', 'PM2_5_EXHST_MSS', 'CRTR_YM', 'LOAD_DT'],\n",
       "      dtype='object')"
      ]
     },
     "execution_count": 186,
     "metadata": {},
     "output_type": "execute_result"
    }
   ],
   "source": [
    "STD_BD_GRD4_EXHST_GAS_MSS_TOT = grp1.rename(columns=chc_dict)\n",
    "STD_BD_GRD4_EXHST_GAS_MSS_TOT.columns"
   ]
  },
  {
   "cell_type": "markdown",
   "metadata": {},
   "source": [
    "### [출력] STD_BD_GRD4_EXHST_GAS_MSS_TOT"
   ]
  },
  {
   "cell_type": "code",
   "execution_count": 187,
   "metadata": {},
   "outputs": [],
   "source": [
    "# expdf = STD_BD_GRD4_EXHST_GAS_MSS_TOT\n",
    "# table_nm = 'STD_BD_GRD4_EXHST_GAS_MSS_TOT'.upper()\n",
    "\n",
    "# # 테이블 생성\n",
    "# sql = 'create or replace table ' + table_nm + '( \\n'\n",
    "\n",
    "# for idx,column in enumerate(expdf.columns):\n",
    "#     # if 'float' in expdf[column].dtype.name:\n",
    "#     #     sql += column + ' float'\n",
    "#     # elif 'int' in expdf[column].dtype.name:\n",
    "#     #     sql += column + ' number'\n",
    "#     # else:\n",
    "#     sql += column + ' varchar(255)'\n",
    "\n",
    "#     if len(expdf.columns) - 1 != idx:\n",
    "#         sql += ','\n",
    "#     sql += '\\n'\n",
    "# sql += ')'    \n",
    "# we.execute(sql)\n",
    "\n",
    "# # 데이터 추가\n",
    "# # 7s\n",
    "# we.import_from_pandas(expdf, table_nm)"
   ]
  },
  {
   "cell_type": "code",
   "execution_count": 188,
   "metadata": {},
   "outputs": [],
   "source": [
    "# # \n",
    "# STD_BD_GRD4_EXHST_GAS_MSS_TOT.to_csv(os.path.join(df1_fold, 'STD_BD_GRD4_EXHST_GAS_MSS_TOT.csv'), index=False)"
   ]
  },
  {
   "cell_type": "markdown",
   "metadata": {},
   "source": [
    "## 출력(4등급)"
   ]
  },
  {
   "cell_type": "code",
   "execution_count": 189,
   "metadata": {},
   "outputs": [
    {
     "data": {
      "text/plain": [
       "Index(['차대번호', '차량번호', '법정동코드', '차량말소YN', '제원관리번호', '차량연식', '차종', '용도',\n",
       "       '최초등록일자', '제작일자', '검사유효일', '소유자구분', '배출가스인증번호', '배출가스등급', '연료', '차종유형',\n",
       "       '차명', '차종분류', '자동차형식', '제작사명', '엔진형식', '총중량', '적재중량', '엔진출력', '배기량',\n",
       "       '검사일자', '주행거리', '정기정밀', '시도', '시군구', '법정동코드_mod', '기간차이', '일일평균주행거리',\n",
       "       'DPF_YN', '차령', '시군구_수정', 'VKT', 'DF_CO', 'DF_HC', 'DF_PM', 'DF_NOx',\n",
       "       'R_CO', 'R_HC', 'R_PM', 'EFi_CO', 'EFi_HC', 'EFi_NOx', 'EFi_PM10',\n",
       "       'EFi_PM2_5', 'E_HOT_CO', 'E_HOT_HC', 'E_HOT_NOx', 'E_HOT_PM10',\n",
       "       'E_HOT_PM2_5', 'Beta(Estimated)', 'eCOLD/eHOT_CO', 'eCOLD/eHOT_NOx',\n",
       "       'eCOLD/eHOT_HC', 'eCOLD/eHOT_PM', 'E_COLD_CO', 'E_COLD_NOx',\n",
       "       'E_COLD_HC', 'E_COLD_PM10', 'E_COLD_PM2_5', 'e_d', 'e_RHOT', 'e_SHOT',\n",
       "       'e_SWARM', 'e_fi', 'e_RWARM', 'R', 'S_fi', 'S_c', 'E_EVA_VOC',\n",
       "       'E_CO_total', 'E_HC_total', 'E_NOx_total', 'E_PM10_total',\n",
       "       'E_PM2_5_total'],\n",
       "      dtype='object')"
      ]
     },
     "execution_count": 189,
     "metadata": {},
     "output_type": "execute_result"
    }
   ],
   "source": [
    "df2.columns"
   ]
  },
  {
   "cell_type": "code",
   "execution_count": 190,
   "metadata": {},
   "outputs": [],
   "source": [
    "STD_BD_GRD4_EXHST_GAS_MSS = df2[[\n",
    "    '차대번호',\n",
    "    '차량번호',\n",
    "    '제원관리번호',\n",
    "    '차종', \n",
    "    '용도', \n",
    "    '최초등록일자',\n",
    "    '차량연식',\n",
    "    '제작일자',\n",
    "    '검사유효일',\n",
    "    '차명',\n",
    "    '차종분류',\n",
    "    '차종유형', \n",
    "    '자동차형식', \n",
    "    '제작사명',\n",
    "    '연료', \n",
    "    '엔진형식',\n",
    "    '총중량', \n",
    "    '적재중량', \n",
    "    '엔진출력', \n",
    "    '배기량', \n",
    "    '시도', \n",
    "    '시군구',\n",
    "    '소유자구분',\n",
    "    '차량말소YN',\n",
    "    '배출가스인증번호',\n",
    "    '배출가스등급',\n",
    "    'DPF_YN',\n",
    "    '법정동코드', \n",
    "    'E_CO_total', \n",
    "    'E_HC_total', \n",
    "    'E_NOx_total', \n",
    "    'E_PM10_total',\n",
    "    'E_PM2_5_total', \n",
    "    '법정동코드_mod',\n",
    "    ]]"
   ]
  },
  {
   "cell_type": "code",
   "execution_count": 191,
   "metadata": {},
   "outputs": [
    {
     "name": "stderr",
     "output_type": "stream",
     "text": [
      "C:\\Users\\kbjung\\AppData\\Local\\Temp\\ipykernel_9348\\239130551.py:1: SettingWithCopyWarning: \n",
      "A value is trying to be set on a copy of a slice from a DataFrame.\n",
      "Try using .loc[row_indexer,col_indexer] = value instead\n",
      "\n",
      "See the caveats in the documentation: https://pandas.pydata.org/pandas-docs/stable/user_guide/indexing.html#returning-a-view-versus-a-copy\n",
      "  STD_BD_GRD4_EXHST_GAS_MSS['기준연월'] = '202212'\n"
     ]
    }
   ],
   "source": [
    "STD_BD_GRD4_EXHST_GAS_MSS['기준연월'] = '2022.12'\n",
    "# STD_BD_GRD4_EXHST_GAS_MSS['기준연월'] = today_date[:4] + '.' + today_date[4:6]"
   ]
  },
  {
   "cell_type": "code",
   "execution_count": 192,
   "metadata": {},
   "outputs": [
    {
     "data": {
      "text/plain": [
       "'20230718'"
      ]
     },
     "execution_count": 192,
     "metadata": {},
     "output_type": "execute_result"
    }
   ],
   "source": [
    "today_date = datetime.today().strftime(\"%Y%m%d\")\n",
    "today_date"
   ]
  },
  {
   "cell_type": "code",
   "execution_count": 193,
   "metadata": {},
   "outputs": [
    {
     "name": "stderr",
     "output_type": "stream",
     "text": [
      "C:\\Users\\kbjung\\AppData\\Local\\Temp\\ipykernel_9348\\1730191749.py:1: SettingWithCopyWarning: \n",
      "A value is trying to be set on a copy of a slice from a DataFrame.\n",
      "Try using .loc[row_indexer,col_indexer] = value instead\n",
      "\n",
      "See the caveats in the documentation: https://pandas.pydata.org/pandas-docs/stable/user_guide/indexing.html#returning-a-view-versus-a-copy\n",
      "  STD_BD_GRD4_EXHST_GAS_MSS['테이블생성일자'] = today_date\n"
     ]
    }
   ],
   "source": [
    "STD_BD_GRD4_EXHST_GAS_MSS['테이블생성일자'] = today_date"
   ]
  },
  {
   "cell_type": "code",
   "execution_count": 194,
   "metadata": {},
   "outputs": [
    {
     "name": "stderr",
     "output_type": "stream",
     "text": [
      "C:\\Users\\kbjung\\AppData\\Local\\Temp\\ipykernel_9348\\352573298.py:1: SettingWithCopyWarning: \n",
      "A value is trying to be set on a copy of a slice from a DataFrame.\n",
      "Try using .loc[row_indexer,col_indexer] = value instead\n",
      "\n",
      "See the caveats in the documentation: https://pandas.pydata.org/pandas-docs/stable/user_guide/indexing.html#returning-a-view-versus-a-copy\n",
      "  STD_BD_GRD4_EXHST_GAS_MSS['법정동코드_mod'] = STD_BD_GRD4_EXHST_GAS_MSS['법정동코드_mod'].astype('str')\n"
     ]
    }
   ],
   "source": [
    "STD_BD_GRD4_EXHST_GAS_MSS['법정동코드_mod'] = STD_BD_GRD4_EXHST_GAS_MSS['법정동코드_mod'].astype('str')"
   ]
  },
  {
   "cell_type": "code",
   "execution_count": 195,
   "metadata": {},
   "outputs": [],
   "source": [
    "STD_BD_GRD4_EXHST_GAS_MSS = STD_BD_GRD4_EXHST_GAS_MSS[[\n",
    "    '테이블생성일자', \n",
    "    '기준연월', \n",
    "    '차대번호',\n",
    "    '차량번호',\n",
    "    '제원관리번호',\n",
    "    '차종', \n",
    "    '용도', \n",
    "    '최초등록일자',\n",
    "    '차량연식',\n",
    "    '제작일자',\n",
    "    '검사유효일',\n",
    "    '차명',\n",
    "    '차종분류',\n",
    "    '차종유형', \n",
    "    '자동차형식', \n",
    "    '제작사명',\n",
    "    '연료', \n",
    "    '엔진형식',\n",
    "    '총중량', \n",
    "    '적재중량', \n",
    "    '엔진출력', \n",
    "    '배기량', \n",
    "    '법정동코드', \n",
    "    '시도', \n",
    "    '시군구',\n",
    "    '소유자구분',\n",
    "    '차량말소YN',\n",
    "    '배출가스인증번호',\n",
    "    '배출가스등급',\n",
    "    'DPF_YN',\n",
    "    'E_CO_total', \n",
    "    'E_HC_total', \n",
    "    'E_NOx_total', \n",
    "    'E_PM10_total',\n",
    "    'E_PM2_5_total', \n",
    "    '법정동코드_mod',\n",
    "    ]]"
   ]
  },
  {
   "cell_type": "code",
   "execution_count": 196,
   "metadata": {},
   "outputs": [],
   "source": [
    "ch_col_dict = {\n",
    "                '테이블생성일자':'LOAD_DT', \n",
    "                '기준연월':'CRTR_YM',\n",
    "                '차대번호':'VIN', \n",
    "                '차량번호':'VHRNO', \n",
    "                '제원관리번호':'MANG_MNG_NO', \n",
    "                '차종':'VHCTY_CD', \n",
    "                '용도':'PURPS_CD2', \n",
    "                '최초등록일자':'FRST_REG_YMD', \n",
    "                '차량연식':'YRIDNW', \n",
    "                '제작일자':'FBCTN_YMD', \n",
    "                '검사유효일':'EXHST_GAS_INSP_VLD_YMD',\n",
    "                '차명':'VHCNM', \n",
    "                '차종분류':'VHCTY_CL_CD', \n",
    "                '차종유형':'VHCTY_TY', \n",
    "                '자동차형식':'CAR_FRM', \n",
    "                '제작사명':'MNFCTR_NM', \n",
    "                '연료':'FUEL_CD', \n",
    "                '엔진형식':'EGIN_TY',\n",
    "                '총중량':'TOTL_WGHT', \n",
    "                '적재중량':'CRYNG_WGHT', \n",
    "                '엔진출력':'EGIN_OTPT',\n",
    "                '배기량':'DSPLVL', \n",
    "                '법정동코드':'STDG_CD', \n",
    "                '시도':'CTPV_NM', \n",
    "                '시군구':'SGG_NM', \n",
    "                '소유자구분':'OWNR_SE', \n",
    "                '차량말소YN':'ERSR_YN',\n",
    "                '배출가스인증번호':'EXHST_GAS_CERT_NO', \n",
    "                '배출가스등급':'EXHST_GAS_GRD_CD', \n",
    "                'DPF유무_수정':'DPF_MNTNG_YN', \n",
    "                'Grade':'GRD4_MLSFC',\n",
    "                'E_CO_total':'CO_EXHST_MSS',\n",
    "                'E_HC_total':'HC_EXHST_MSS',\n",
    "                'E_NOx_total':'NOx_EXHST_MSS', \n",
    "                'E_PM10_total':'PM10_EXHST_MSS',\n",
    "                'E_PM2_5_total':'PM2_5_EXHST_MSS',\n",
    "                '법정동코드_mod':'STDG_CD_MOD',\n",
    "                }\n",
    "                "
   ]
  },
  {
   "cell_type": "code",
   "execution_count": 197,
   "metadata": {},
   "outputs": [
    {
     "data": {
      "text/plain": [
       "Index(['LOAD_DT', 'CRTR_YM', 'VIN', 'VHRNO', 'MANG_MNG_NO', 'VHCTY_CD',\n",
       "       'PURPS_CD2', 'FRST_REG_YMD', 'YRIDNW', 'FBCTN_YMD',\n",
       "       'EXHST_GAS_INSP_VLD_YMD', 'VHCNM', 'VHCTY_CL_CD', 'VHCTY_TY', 'CAR_FRM',\n",
       "       'MNFCTR_NM', 'FUEL_CD', 'EGIN_TY', 'TOTL_WGHT', 'CRYNG_WGHT',\n",
       "       'EGIN_OTPT', 'DSPLVL', 'CTPV_NM', 'SGG_NM', 'OWNR_SE', 'ERSR_YN',\n",
       "       'EXHST_GAS_CERT_NO', 'EXHST_GAS_GRD_CD', 'DPF_YN', 'STDG_CD',\n",
       "       'CO_EXHST_MSS', 'HC_EXHST_MSS', 'NOx_EXHST_MSS', 'PM10_EXHST_MSS',\n",
       "       'PM2_5_EXHST_MSS', 'STDG_CD_MOD'],\n",
       "      dtype='object')"
      ]
     },
     "execution_count": 197,
     "metadata": {},
     "output_type": "execute_result"
    }
   ],
   "source": [
    "STD_BD_GRD4_EXHST_GAS_MSS = STD_BD_GRD4_EXHST_GAS_MSS.rename(columns=ch_col_dict)\n",
    "STD_BD_GRD4_EXHST_GAS_MSS.columns"
   ]
  },
  {
   "cell_type": "markdown",
   "metadata": {},
   "source": [
    "### [출력] STD_BD_GRD4_EXHST_GAS_MSS"
   ]
  },
  {
   "cell_type": "code",
   "execution_count": 198,
   "metadata": {},
   "outputs": [],
   "source": [
    "# expdf = STD_BD_GRD4_EXHST_GAS_MSS\n",
    "# table_nm = 'STD_BD_GRD4_EXHST_GAS_MSS'.upper()\n",
    "\n",
    "# # 테이블 생성\n",
    "# sql = 'create or replace table ' + table_nm + '( \\n'\n",
    "\n",
    "# for idx,column in enumerate(expdf.columns):\n",
    "#     # if 'float' in expdf[column].dtype.name:\n",
    "#     #     sql += column + ' float'\n",
    "#     # elif 'int' in expdf[column].dtype.name:\n",
    "#     #     sql += column + ' number'\n",
    "#     # else:\n",
    "#     sql += column + ' varchar(255)'\n",
    "\n",
    "#     if len(expdf.columns) - 1 != idx:\n",
    "#         sql += ','\n",
    "#     sql += '\\n'\n",
    "# sql += ')'    \n",
    "# we.execute(sql)\n",
    "\n",
    "# # 데이터 추가\n",
    "# # 30.7s\n",
    "# we.import_from_pandas(expdf, table_nm)"
   ]
  },
  {
   "cell_type": "code",
   "execution_count": 199,
   "metadata": {},
   "outputs": [],
   "source": [
    "# # \n",
    "# STD_BD_GRD4_EXHST_GAS_MSS.to_csv(os.path.join(df1_fold, 'STD_BD_GRD4_EXHST_GAS_MSS.csv'), index=False)"
   ]
  },
  {
   "cell_type": "markdown",
   "metadata": {},
   "source": [
    "## 배출량 현황"
   ]
  },
  {
   "cell_type": "code",
   "execution_count": 200,
   "metadata": {},
   "outputs": [
    {
     "data": {
      "text/plain": [
       "Index(['차대번호', '차량번호', '법정동코드', '차량말소YN', '제원관리번호', '차량연식', '차종', '용도',\n",
       "       '최초등록일자', '제작일자', '검사유효일', '소유자구분', '배출가스인증번호', '배출가스등급', '연료', '차종유형',\n",
       "       '차명', '차종분류', '자동차형식', '제작사명', '엔진형식', '총중량', '적재중량', '엔진출력', '배기량',\n",
       "       '검사일자', '주행거리', '정기정밀', '시도', '시군구', '법정동코드_mod', '기간차이', '일일평균주행거리',\n",
       "       'DPF_YN', '차령', '시군구_수정', 'VKT', 'DF_CO', 'DF_HC', 'DF_PM', 'DF_NOx',\n",
       "       'R_CO', 'R_HC', 'R_PM', 'EFi_CO', 'EFi_HC', 'EFi_NOx', 'EFi_PM10',\n",
       "       'EFi_PM2_5', 'E_HOT_CO', 'E_HOT_HC', 'E_HOT_NOx', 'E_HOT_PM10',\n",
       "       'E_HOT_PM2_5', 'Beta(Estimated)', 'eCOLD/eHOT_CO', 'eCOLD/eHOT_NOx',\n",
       "       'eCOLD/eHOT_HC', 'eCOLD/eHOT_PM', 'E_COLD_CO', 'E_COLD_NOx',\n",
       "       'E_COLD_HC', 'E_COLD_PM10', 'E_COLD_PM2_5', 'e_d', 'e_RHOT', 'e_SHOT',\n",
       "       'e_SWARM', 'e_fi', 'e_RWARM', 'R', 'S_fi', 'S_c', 'E_EVA_VOC',\n",
       "       'E_CO_total', 'E_HC_total', 'E_NOx_total', 'E_PM10_total',\n",
       "       'E_PM2_5_total'],\n",
       "      dtype='object')"
      ]
     },
     "execution_count": 200,
     "metadata": {},
     "output_type": "execute_result"
    }
   ],
   "source": [
    "df2.columns"
   ]
  },
  {
   "cell_type": "code",
   "execution_count": 201,
   "metadata": {},
   "outputs": [
    {
     "data": {
      "text/html": [
       "<div>\n",
       "<style scoped>\n",
       "    .dataframe tbody tr th:only-of-type {\n",
       "        vertical-align: middle;\n",
       "    }\n",
       "\n",
       "    .dataframe tbody tr th {\n",
       "        vertical-align: top;\n",
       "    }\n",
       "\n",
       "    .dataframe thead th {\n",
       "        text-align: right;\n",
       "    }\n",
       "</style>\n",
       "<table border=\"1\" class=\"dataframe\">\n",
       "  <thead>\n",
       "    <tr style=\"text-align: right;\">\n",
       "      <th></th>\n",
       "      <th>시도</th>\n",
       "      <th>시군구_수정</th>\n",
       "      <th>연료</th>\n",
       "      <th>차종</th>\n",
       "      <th>차종유형</th>\n",
       "      <th>용도</th>\n",
       "      <th>E_CO_total_sum</th>\n",
       "      <th>E_HC_total_sum</th>\n",
       "      <th>E_NOx_total_sum</th>\n",
       "      <th>E_PM10_total_sum</th>\n",
       "      <th>E_PM2_5_total_sum</th>\n",
       "    </tr>\n",
       "  </thead>\n",
       "  <tbody>\n",
       "    <tr>\n",
       "      <th>0</th>\n",
       "      <td>강원도</td>\n",
       "      <td>강릉시</td>\n",
       "      <td>LPG(액화석유가스)</td>\n",
       "      <td>승용</td>\n",
       "      <td>대형</td>\n",
       "      <td>개인용</td>\n",
       "      <td>182.70</td>\n",
       "      <td>2.31</td>\n",
       "      <td>13.14</td>\n",
       "      <td>0.04</td>\n",
       "      <td>0.04</td>\n",
       "    </tr>\n",
       "    <tr>\n",
       "      <th>1</th>\n",
       "      <td>강원도</td>\n",
       "      <td>강릉시</td>\n",
       "      <td>LPG(액화석유가스)</td>\n",
       "      <td>승용</td>\n",
       "      <td>중형</td>\n",
       "      <td>개인용</td>\n",
       "      <td>589.48</td>\n",
       "      <td>17.74</td>\n",
       "      <td>94.29</td>\n",
       "      <td>0.27</td>\n",
       "      <td>0.25</td>\n",
       "    </tr>\n",
       "    <tr>\n",
       "      <th>2</th>\n",
       "      <td>강원도</td>\n",
       "      <td>강릉시</td>\n",
       "      <td>LPG(액화석유가스)</td>\n",
       "      <td>승용</td>\n",
       "      <td>중형</td>\n",
       "      <td>영업용</td>\n",
       "      <td>73.36</td>\n",
       "      <td>5.95</td>\n",
       "      <td>19.09</td>\n",
       "      <td>0.06</td>\n",
       "      <td>0.05</td>\n",
       "    </tr>\n",
       "    <tr>\n",
       "      <th>3</th>\n",
       "      <td>강원도</td>\n",
       "      <td>강릉시</td>\n",
       "      <td>LPG(액화석유가스)</td>\n",
       "      <td>승합</td>\n",
       "      <td>경형</td>\n",
       "      <td>개인용</td>\n",
       "      <td>80.25</td>\n",
       "      <td>5.27</td>\n",
       "      <td>25.72</td>\n",
       "      <td>0.09</td>\n",
       "      <td>0.08</td>\n",
       "    </tr>\n",
       "    <tr>\n",
       "      <th>4</th>\n",
       "      <td>강원도</td>\n",
       "      <td>강릉시</td>\n",
       "      <td>LPG(액화석유가스)</td>\n",
       "      <td>승합</td>\n",
       "      <td>소형</td>\n",
       "      <td>개인용</td>\n",
       "      <td>29.75</td>\n",
       "      <td>1.43</td>\n",
       "      <td>8.57</td>\n",
       "      <td>0.03</td>\n",
       "      <td>0.03</td>\n",
       "    </tr>\n",
       "    <tr>\n",
       "      <th>...</th>\n",
       "      <td>...</td>\n",
       "      <td>...</td>\n",
       "      <td>...</td>\n",
       "      <td>...</td>\n",
       "      <td>...</td>\n",
       "      <td>...</td>\n",
       "      <td>...</td>\n",
       "      <td>...</td>\n",
       "      <td>...</td>\n",
       "      <td>...</td>\n",
       "      <td>...</td>\n",
       "    </tr>\n",
       "    <tr>\n",
       "      <th>9087</th>\n",
       "      <td>충청북도</td>\n",
       "      <td>충주시</td>\n",
       "      <td>휘발유</td>\n",
       "      <td>승합</td>\n",
       "      <td>경형</td>\n",
       "      <td>개인용</td>\n",
       "      <td>1750.84</td>\n",
       "      <td>276.93</td>\n",
       "      <td>405.20</td>\n",
       "      <td>0.19</td>\n",
       "      <td>0.17</td>\n",
       "    </tr>\n",
       "    <tr>\n",
       "      <th>9088</th>\n",
       "      <td>충청북도</td>\n",
       "      <td>충주시</td>\n",
       "      <td>휘발유</td>\n",
       "      <td>승합</td>\n",
       "      <td>소형</td>\n",
       "      <td>개인용</td>\n",
       "      <td>172.83</td>\n",
       "      <td>23.73</td>\n",
       "      <td>35.46</td>\n",
       "      <td>0.04</td>\n",
       "      <td>0.04</td>\n",
       "    </tr>\n",
       "    <tr>\n",
       "      <th>9089</th>\n",
       "      <td>충청북도</td>\n",
       "      <td>충주시</td>\n",
       "      <td>휘발유</td>\n",
       "      <td>승합</td>\n",
       "      <td>중형</td>\n",
       "      <td>개인용</td>\n",
       "      <td>25.88</td>\n",
       "      <td>2.58</td>\n",
       "      <td>7.46</td>\n",
       "      <td>0.02</td>\n",
       "      <td>0.02</td>\n",
       "    </tr>\n",
       "    <tr>\n",
       "      <th>9090</th>\n",
       "      <td>충청북도</td>\n",
       "      <td>충주시</td>\n",
       "      <td>휘발유</td>\n",
       "      <td>화물</td>\n",
       "      <td>경형</td>\n",
       "      <td>개인용</td>\n",
       "      <td>564.23</td>\n",
       "      <td>72.06</td>\n",
       "      <td>188.27</td>\n",
       "      <td>0.12</td>\n",
       "      <td>0.11</td>\n",
       "    </tr>\n",
       "    <tr>\n",
       "      <th>9091</th>\n",
       "      <td>충청북도</td>\n",
       "      <td>충주시</td>\n",
       "      <td>휘발유</td>\n",
       "      <td>화물</td>\n",
       "      <td>소형</td>\n",
       "      <td>개인용</td>\n",
       "      <td>422.30</td>\n",
       "      <td>41.07</td>\n",
       "      <td>132.10</td>\n",
       "      <td>0.17</td>\n",
       "      <td>0.16</td>\n",
       "    </tr>\n",
       "  </tbody>\n",
       "</table>\n",
       "<p>9092 rows × 11 columns</p>\n",
       "</div>"
      ],
      "text/plain": [
       "        시도 시군구_수정           연료  차종 차종유형   용도  E_CO_total_sum  E_HC_total_sum   \n",
       "0      강원도    강릉시  LPG(액화석유가스)  승용   대형  개인용          182.70            2.31  \\\n",
       "1      강원도    강릉시  LPG(액화석유가스)  승용   중형  개인용          589.48           17.74   \n",
       "2      강원도    강릉시  LPG(액화석유가스)  승용   중형  영업용           73.36            5.95   \n",
       "3      강원도    강릉시  LPG(액화석유가스)  승합   경형  개인용           80.25            5.27   \n",
       "4      강원도    강릉시  LPG(액화석유가스)  승합   소형  개인용           29.75            1.43   \n",
       "...    ...    ...          ...  ..  ...  ...             ...             ...   \n",
       "9087  충청북도    충주시          휘발유  승합   경형  개인용         1750.84          276.93   \n",
       "9088  충청북도    충주시          휘발유  승합   소형  개인용          172.83           23.73   \n",
       "9089  충청북도    충주시          휘발유  승합   중형  개인용           25.88            2.58   \n",
       "9090  충청북도    충주시          휘발유  화물   경형  개인용          564.23           72.06   \n",
       "9091  충청북도    충주시          휘발유  화물   소형  개인용          422.30           41.07   \n",
       "\n",
       "      E_NOx_total_sum  E_PM10_total_sum  E_PM2_5_total_sum  \n",
       "0               13.14              0.04               0.04  \n",
       "1               94.29              0.27               0.25  \n",
       "2               19.09              0.06               0.05  \n",
       "3               25.72              0.09               0.08  \n",
       "4                8.57              0.03               0.03  \n",
       "...               ...               ...                ...  \n",
       "9087           405.20              0.19               0.17  \n",
       "9088            35.46              0.04               0.04  \n",
       "9089             7.46              0.02               0.02  \n",
       "9090           188.27              0.12               0.11  \n",
       "9091           132.10              0.17               0.16  \n",
       "\n",
       "[9092 rows x 11 columns]"
      ]
     },
     "execution_count": 201,
     "metadata": {},
     "output_type": "execute_result"
    }
   ],
   "source": [
    "grp2 = df2.groupby(['시도', '시군구_수정', '연료', '차종', '차종유형', '용도']).agg({'E_CO_total':'sum', 'E_HC_total':'sum', 'E_NOx_total':'sum', 'E_PM10_total':'sum', 'E_PM2_5_total':'sum'}).reset_index()\n",
    "grp2 = grp2.rename(columns={'E_CO_total':'E_CO_total_sum', 'E_HC_total':'E_HC_total_sum', 'E_NOx_total':'E_NOx_total_sum', 'E_PM10_total':'E_PM10_total_sum', 'E_PM2_5_total':'E_PM2_5_total_sum'})\n",
    "grp2"
   ]
  },
  {
   "cell_type": "code",
   "execution_count": 202,
   "metadata": {},
   "outputs": [],
   "source": [
    "# 연도 설정\n",
    "# grp2['연도'] = today_date[:4]\n",
    "grp2['연도'] = '2022'\n",
    "grp2['테이블생성일자'] = today_date"
   ]
  },
  {
   "cell_type": "code",
   "execution_count": 203,
   "metadata": {},
   "outputs": [
    {
     "data": {
      "text/plain": [
       "['시도',\n",
       " '시군구_수정',\n",
       " '연료',\n",
       " '차종',\n",
       " '차종유형',\n",
       " '용도',\n",
       " 'E_CO_total_sum',\n",
       " 'E_HC_total_sum',\n",
       " 'E_NOx_total_sum',\n",
       " 'E_PM10_total_sum',\n",
       " 'E_PM2_5_total_sum',\n",
       " '연도',\n",
       " '테이블생성일자']"
      ]
     },
     "execution_count": 203,
     "metadata": {},
     "output_type": "execute_result"
    }
   ],
   "source": [
    "list(grp2.columns)"
   ]
  },
  {
   "cell_type": "code",
   "execution_count": 204,
   "metadata": {},
   "outputs": [],
   "source": [
    "STD_BD_DAT_GRD4_EXHST_MASS_CURSTT = grp2[[\n",
    "    '연도',\n",
    "    '시도',\n",
    "    '시군구_수정',\n",
    "    '연료',\n",
    "    '차종',\n",
    "    '차종유형',\n",
    "    '용도',\n",
    "    'E_CO_total_sum',\n",
    "    'E_HC_total_sum',\n",
    "    'E_NOx_total_sum',\n",
    "    'E_PM10_total_sum',\n",
    "    'E_PM2_5_total_sum',\n",
    "    '테이블생성일자',\n",
    "]]"
   ]
  },
  {
   "cell_type": "code",
   "execution_count": 205,
   "metadata": {},
   "outputs": [
    {
     "data": {
      "text/plain": [
       "Index(['YR', 'CTPV', 'SGG', 'FUEL_CD', 'VHCTY_CD', 'VHCTY_TY', 'PURPS_CD2',\n",
       "       'CO_EXHST_MSS_SM', 'HC_EXHST_MSS_SM', 'NOx_EXHST_MSS_SM',\n",
       "       'PM10_EXHST_MSS_SM', 'PM2_5_EXHST_MSS_SM', 'LOAD_DT'],\n",
       "      dtype='object')"
      ]
     },
     "execution_count": 205,
     "metadata": {},
     "output_type": "execute_result"
    }
   ],
   "source": [
    "cdict = {\n",
    "    '연도':'YR',\n",
    "    '시도':'CTPV',\n",
    "    '시군구_수정':'SGG',\n",
    "    '연료':'FUEL_CD',\n",
    "    '차종':'VHCTY_CD',\n",
    "    '차종유형':'VHCTY_TY',\n",
    "    '용도':'PURPS_CD2',\n",
    "    'E_CO_total_sum':'CO_EXHST_MSS_SM',\n",
    "    'E_HC_total_sum':'HC_EXHST_MSS_SM',\n",
    "    'E_NOx_total_sum':'NOx_EXHST_MSS_SM',\n",
    "    'E_PM10_total_sum':'PM10_EXHST_MSS_SM',\n",
    "    'E_PM2_5_total_sum':'PM2_5_EXHST_MSS_SM',\n",
    "    '테이블생성일자':'LOAD_DT',\n",
    "}\n",
    "STD_BD_DAT_GRD4_EXHST_MASS_CURSTT = STD_BD_DAT_GRD4_EXHST_MASS_CURSTT.rename(columns=cdict)\n",
    "STD_BD_DAT_GRD4_EXHST_MASS_CURSTT.columns"
   ]
  },
  {
   "cell_type": "code",
   "execution_count": 206,
   "metadata": {},
   "outputs": [
    {
     "data": {
      "text/plain": [
       "['YR',\n",
       " 'CTPV',\n",
       " 'SGG',\n",
       " 'FUEL_CD',\n",
       " 'VHCTY_CD',\n",
       " 'VHCTY_TY',\n",
       " 'PURPS_CD2',\n",
       " 'CO_EXHST_MSS_SM',\n",
       " 'HC_EXHST_MSS_SM',\n",
       " 'NOx_EXHST_MSS_SM',\n",
       " 'PM10_EXHST_MSS_SM',\n",
       " 'PM2_5_EXHST_MSS_SM',\n",
       " 'LOAD_DT']"
      ]
     },
     "execution_count": 206,
     "metadata": {},
     "output_type": "execute_result"
    }
   ],
   "source": [
    "list(STD_BD_DAT_GRD4_EXHST_MASS_CURSTT.columns)"
   ]
  },
  {
   "cell_type": "markdown",
   "metadata": {},
   "source": [
    "### [출력] STD_BD_DAT_GRD4_EXHST_MSS_CURSTT"
   ]
  },
  {
   "cell_type": "code",
   "execution_count": null,
   "metadata": {},
   "outputs": [],
   "source": [
    "# expdf = STD_BD_DAT_GRD4_EXHST_MSS_CURSTT\n",
    "# table_nm = 'STD_BD_DAT_GRD4_EXHST_MSS_CURSTT'.upper()\n",
    "\n",
    "# # 테이블 생성\n",
    "# sql = 'create or replace table ' + table_nm + '( \\n'\n",
    "\n",
    "# for idx,column in enumerate(expdf.columns):\n",
    "#     # if 'float' in expdf[column].dtype.name:\n",
    "#     #     sql += column + ' float'\n",
    "#     # elif 'int' in expdf[column].dtype.name:\n",
    "#     #     sql += column + ' number'\n",
    "#     # else:\n",
    "#     sql += column + ' varchar(255)'\n",
    "\n",
    "#     if len(expdf.columns) - 1 != idx:\n",
    "#         sql += ','\n",
    "#     sql += '\\n'\n",
    "# sql += ')'    \n",
    "# we.execute(sql)\n",
    "\n",
    "# # 데이터 추가\n",
    "# # 30.7s\n",
    "# we.import_from_pandas(expdf, table_nm)"
   ]
  },
  {
   "cell_type": "code",
   "execution_count": 207,
   "metadata": {},
   "outputs": [],
   "source": [
    "# # 0s\n",
    "# STD_BD_DAT_GRD4_EXHST_MSS_CURSTT.to_csv(os.path.join(df1_fold, 'STD_BD_DAT_GRD4_EXHST_MSS_CURSTT.csv'), index=False)"
   ]
  },
  {
   "cell_type": "markdown",
   "metadata": {},
   "source": [
    "## 측정치 현황"
   ]
  },
  {
   "cell_type": "code",
   "execution_count": 235,
   "metadata": {},
   "outputs": [
    {
     "data": {
      "text/plain": [
       "Index(['차대번호', '차량번호', '법정동코드', '차량말소YN', '제원관리번호', '차량연식', '차종', '용도',\n",
       "       '최초등록일자', '제작일자', '검사유효일', '소유자구분', '배출가스인증번호', '배출가스등급', '연료', '차종유형',\n",
       "       '차명', '차종분류', '자동차형식', '제작사명', '엔진형식', '총중량', '적재중량', '엔진출력', '배기량',\n",
       "       '검사방법', '검사종류', '검사판정', '무부하매연측정치1', '무부하매연측정치2', '무부하매연측정치3',\n",
       "       '무부하매연판정1', '검사일자', '주행거리', '무부하매연허용치1', '정기정밀', '시도', '시군구',\n",
       "       '법정동코드_mod', '기간차이', '일일평균주행거리', 'DPF_YN', '차령', '시군구_수정'],\n",
       "      dtype='object')"
      ]
     },
     "execution_count": 235,
     "metadata": {},
     "output_type": "execute_result"
    }
   ],
   "source": [
    "dgl.columns"
   ]
  },
  {
   "cell_type": "code",
   "execution_count": 236,
   "metadata": {},
   "outputs": [
    {
     "data": {
      "text/plain": [
       "연료\n",
       "경유             1052802\n",
       "휘발유             313038\n",
       "LPG(액화석유가스)      24355\n",
       "Name: count, dtype: int64"
      ]
     },
     "execution_count": 236,
     "metadata": {},
     "output_type": "execute_result"
    }
   ],
   "source": [
    "dgl['연료'].value_counts(dropna=False)"
   ]
  },
  {
   "cell_type": "code",
   "execution_count": 237,
   "metadata": {},
   "outputs": [
    {
     "data": {
      "text/plain": [
       "((1052802, 44), (337393, 44))"
      ]
     },
     "execution_count": 237,
     "metadata": {},
     "output_type": "execute_result"
    }
   ],
   "source": [
    "diesel = dgl[dgl['연료'] == '경유'].reset_index(drop=True)\n",
    "gas_lpg = dgl[(dgl['연료'] == '휘발유') | (dgl['연료'] == 'LPG(액화석유가스)')].reset_index(drop=True)\n",
    "diesel.shape, gas_lpg.shape"
   ]
  },
  {
   "cell_type": "code",
   "execution_count": 240,
   "metadata": {},
   "outputs": [
    {
     "data": {
      "text/html": [
       "<div>\n",
       "<style scoped>\n",
       "    .dataframe tbody tr th:only-of-type {\n",
       "        vertical-align: middle;\n",
       "    }\n",
       "\n",
       "    .dataframe tbody tr th {\n",
       "        vertical-align: top;\n",
       "    }\n",
       "\n",
       "    .dataframe thead th {\n",
       "        text-align: right;\n",
       "    }\n",
       "</style>\n",
       "<table border=\"1\" class=\"dataframe\">\n",
       "  <thead>\n",
       "    <tr style=\"text-align: right;\">\n",
       "      <th></th>\n",
       "      <th>시도</th>\n",
       "      <th>시군구_수정</th>\n",
       "      <th>연료</th>\n",
       "      <th>차종</th>\n",
       "      <th>차종유형</th>\n",
       "      <th>용도</th>\n",
       "      <th>검사방법</th>\n",
       "      <th>매연(평균)</th>\n",
       "    </tr>\n",
       "  </thead>\n",
       "  <tbody>\n",
       "    <tr>\n",
       "      <th>0</th>\n",
       "      <td>강원특별자치도</td>\n",
       "      <td>강릉시</td>\n",
       "      <td>경유</td>\n",
       "      <td>승용</td>\n",
       "      <td>대형</td>\n",
       "      <td>개인용</td>\n",
       "      <td>무부하검사(급가속)</td>\n",
       "      <td>9.08</td>\n",
       "    </tr>\n",
       "    <tr>\n",
       "      <th>1</th>\n",
       "      <td>강원특별자치도</td>\n",
       "      <td>강릉시</td>\n",
       "      <td>경유</td>\n",
       "      <td>승용</td>\n",
       "      <td>대형</td>\n",
       "      <td>개인용</td>\n",
       "      <td>부하검사(KD-147)</td>\n",
       "      <td>5.15</td>\n",
       "    </tr>\n",
       "    <tr>\n",
       "      <th>2</th>\n",
       "      <td>강원특별자치도</td>\n",
       "      <td>강릉시</td>\n",
       "      <td>경유</td>\n",
       "      <td>승용</td>\n",
       "      <td>대형</td>\n",
       "      <td>관용</td>\n",
       "      <td>무부하검사(급가속)</td>\n",
       "      <td>2.33</td>\n",
       "    </tr>\n",
       "    <tr>\n",
       "      <th>3</th>\n",
       "      <td>강원특별자치도</td>\n",
       "      <td>강릉시</td>\n",
       "      <td>경유</td>\n",
       "      <td>승용</td>\n",
       "      <td>소형</td>\n",
       "      <td>개인용</td>\n",
       "      <td>무부하검사(급가속)</td>\n",
       "      <td>14.94</td>\n",
       "    </tr>\n",
       "    <tr>\n",
       "      <th>4</th>\n",
       "      <td>강원특별자치도</td>\n",
       "      <td>강릉시</td>\n",
       "      <td>경유</td>\n",
       "      <td>승용</td>\n",
       "      <td>소형</td>\n",
       "      <td>개인용</td>\n",
       "      <td>부하검사(KD-147)</td>\n",
       "      <td>7.33</td>\n",
       "    </tr>\n",
       "    <tr>\n",
       "      <th>...</th>\n",
       "      <td>...</td>\n",
       "      <td>...</td>\n",
       "      <td>...</td>\n",
       "      <td>...</td>\n",
       "      <td>...</td>\n",
       "      <td>...</td>\n",
       "      <td>...</td>\n",
       "      <td>...</td>\n",
       "    </tr>\n",
       "    <tr>\n",
       "      <th>7212</th>\n",
       "      <td>충청북도</td>\n",
       "      <td>충주시</td>\n",
       "      <td>경유</td>\n",
       "      <td>화물</td>\n",
       "      <td>중형</td>\n",
       "      <td>개인용</td>\n",
       "      <td>부하검사(KD-147)</td>\n",
       "      <td>8.01</td>\n",
       "    </tr>\n",
       "    <tr>\n",
       "      <th>7213</th>\n",
       "      <td>충청북도</td>\n",
       "      <td>충주시</td>\n",
       "      <td>경유</td>\n",
       "      <td>화물</td>\n",
       "      <td>중형</td>\n",
       "      <td>개인용</td>\n",
       "      <td>부하검사(LUG DOWN)</td>\n",
       "      <td>7.35</td>\n",
       "    </tr>\n",
       "    <tr>\n",
       "      <th>7214</th>\n",
       "      <td>충청북도</td>\n",
       "      <td>충주시</td>\n",
       "      <td>경유</td>\n",
       "      <td>화물</td>\n",
       "      <td>중형</td>\n",
       "      <td>관용</td>\n",
       "      <td>부하검사(LUG DOWN)</td>\n",
       "      <td>6.00</td>\n",
       "    </tr>\n",
       "    <tr>\n",
       "      <th>7215</th>\n",
       "      <td>충청북도</td>\n",
       "      <td>충주시</td>\n",
       "      <td>경유</td>\n",
       "      <td>화물</td>\n",
       "      <td>중형</td>\n",
       "      <td>영업용</td>\n",
       "      <td>부하검사(KD-147)</td>\n",
       "      <td>9.50</td>\n",
       "    </tr>\n",
       "    <tr>\n",
       "      <th>7216</th>\n",
       "      <td>충청북도</td>\n",
       "      <td>충주시</td>\n",
       "      <td>경유</td>\n",
       "      <td>화물</td>\n",
       "      <td>중형</td>\n",
       "      <td>영업용</td>\n",
       "      <td>부하검사(LUG DOWN)</td>\n",
       "      <td>7.74</td>\n",
       "    </tr>\n",
       "  </tbody>\n",
       "</table>\n",
       "<p>7217 rows × 8 columns</p>\n",
       "</div>"
      ],
      "text/plain": [
       "           시도 시군구_수정  연료  차종 차종유형   용도            검사방법  매연(평균)\n",
       "0     강원특별자치도    강릉시  경유  승용   대형  개인용      무부하검사(급가속)    9.08\n",
       "1     강원특별자치도    강릉시  경유  승용   대형  개인용    부하검사(KD-147)    5.15\n",
       "2     강원특별자치도    강릉시  경유  승용   대형   관용      무부하검사(급가속)    2.33\n",
       "3     강원특별자치도    강릉시  경유  승용   소형  개인용      무부하검사(급가속)   14.94\n",
       "4     강원특별자치도    강릉시  경유  승용   소형  개인용    부하검사(KD-147)    7.33\n",
       "...       ...    ...  ..  ..  ...  ...             ...     ...\n",
       "7212     충청북도    충주시  경유  화물   중형  개인용    부하검사(KD-147)    8.01\n",
       "7213     충청북도    충주시  경유  화물   중형  개인용  부하검사(LUG DOWN)    7.35\n",
       "7214     충청북도    충주시  경유  화물   중형   관용  부하검사(LUG DOWN)    6.00\n",
       "7215     충청북도    충주시  경유  화물   중형  영업용    부하검사(KD-147)    9.50\n",
       "7216     충청북도    충주시  경유  화물   중형  영업용  부하검사(LUG DOWN)    7.74\n",
       "\n",
       "[7217 rows x 8 columns]"
      ]
     },
     "execution_count": 240,
     "metadata": {},
     "output_type": "execute_result"
    }
   ],
   "source": [
    "grp_diesel = diesel.groupby(['시도', '시군구_수정', '연료', '차종', '차종유형', '용도', '검사방법']).agg({'무부하매연측정치1':'mean', '차대번호':'count'}).reset_index() # !!! 수정(2023.11.15)\n",
    "grp_diesel = grp_diesel.rename(columns={'무부하매연측정치1':'매연(평균)', '차대번호':'차량대수'}) # !!! 수정(2023.11.15)\n",
    "grp_diesel"
   ]
  },
  {
   "cell_type": "code",
   "execution_count": 241,
   "metadata": {},
   "outputs": [
    {
     "data": {
      "text/html": [
       "<div>\n",
       "<style scoped>\n",
       "    .dataframe tbody tr th:only-of-type {\n",
       "        vertical-align: middle;\n",
       "    }\n",
       "\n",
       "    .dataframe tbody tr th {\n",
       "        vertical-align: top;\n",
       "    }\n",
       "\n",
       "    .dataframe thead th {\n",
       "        text-align: right;\n",
       "    }\n",
       "</style>\n",
       "<table border=\"1\" class=\"dataframe\">\n",
       "  <thead>\n",
       "    <tr style=\"text-align: right;\">\n",
       "      <th></th>\n",
       "      <th>시도</th>\n",
       "      <th>시군구_수정</th>\n",
       "      <th>연료</th>\n",
       "      <th>차종</th>\n",
       "      <th>차종유형</th>\n",
       "      <th>용도</th>\n",
       "      <th>검사방법</th>\n",
       "      <th>CO(평균)</th>\n",
       "      <th>HC(평균)</th>\n",
       "      <th>NOx(평균)</th>\n",
       "    </tr>\n",
       "  </thead>\n",
       "  <tbody>\n",
       "    <tr>\n",
       "      <th>0</th>\n",
       "      <td>강원특별자치도</td>\n",
       "      <td>강릉시</td>\n",
       "      <td>LPG(액화석유가스)</td>\n",
       "      <td>승용</td>\n",
       "      <td>중형</td>\n",
       "      <td>개인용</td>\n",
       "      <td>무부하검사(TSI)</td>\n",
       "      <td>0.30</td>\n",
       "      <td>237.50</td>\n",
       "      <td>1.06</td>\n",
       "    </tr>\n",
       "    <tr>\n",
       "      <th>1</th>\n",
       "      <td>강원특별자치도</td>\n",
       "      <td>강릉시</td>\n",
       "      <td>LPG(액화석유가스)</td>\n",
       "      <td>승합</td>\n",
       "      <td>중형</td>\n",
       "      <td>개인용</td>\n",
       "      <td>무부하검사(정지가동)</td>\n",
       "      <td>0.02</td>\n",
       "      <td>54.00</td>\n",
       "      <td>1.09</td>\n",
       "    </tr>\n",
       "    <tr>\n",
       "      <th>2</th>\n",
       "      <td>강원특별자치도</td>\n",
       "      <td>강릉시</td>\n",
       "      <td>LPG(액화석유가스)</td>\n",
       "      <td>화물</td>\n",
       "      <td>경형</td>\n",
       "      <td>개인용</td>\n",
       "      <td>무부하검사(정지가동)</td>\n",
       "      <td>0.00</td>\n",
       "      <td>1510.00</td>\n",
       "      <td>1.86</td>\n",
       "    </tr>\n",
       "    <tr>\n",
       "      <th>3</th>\n",
       "      <td>강원특별자치도</td>\n",
       "      <td>강릉시</td>\n",
       "      <td>LPG(액화석유가스)</td>\n",
       "      <td>화물</td>\n",
       "      <td>소형</td>\n",
       "      <td>개인용</td>\n",
       "      <td>부하검사(ASM2525)</td>\n",
       "      <td>0.30</td>\n",
       "      <td>238.75</td>\n",
       "      <td>996.25</td>\n",
       "    </tr>\n",
       "    <tr>\n",
       "      <th>4</th>\n",
       "      <td>강원특별자치도</td>\n",
       "      <td>강릉시</td>\n",
       "      <td>LPG(액화석유가스)</td>\n",
       "      <td>화물</td>\n",
       "      <td>중형</td>\n",
       "      <td>개인용</td>\n",
       "      <td>무부하검사(정지가동)</td>\n",
       "      <td>0.00</td>\n",
       "      <td>77.00</td>\n",
       "      <td>1.00</td>\n",
       "    </tr>\n",
       "    <tr>\n",
       "      <th>...</th>\n",
       "      <td>...</td>\n",
       "      <td>...</td>\n",
       "      <td>...</td>\n",
       "      <td>...</td>\n",
       "      <td>...</td>\n",
       "      <td>...</td>\n",
       "      <td>...</td>\n",
       "      <td>...</td>\n",
       "      <td>...</td>\n",
       "      <td>...</td>\n",
       "    </tr>\n",
       "    <tr>\n",
       "      <th>5518</th>\n",
       "      <td>충청북도</td>\n",
       "      <td>충주시</td>\n",
       "      <td>휘발유</td>\n",
       "      <td>승용</td>\n",
       "      <td>중형</td>\n",
       "      <td>개인용</td>\n",
       "      <td>부하검사(ASM2525)</td>\n",
       "      <td>0.24</td>\n",
       "      <td>51.53</td>\n",
       "      <td>647.86</td>\n",
       "    </tr>\n",
       "    <tr>\n",
       "      <th>5519</th>\n",
       "      <td>충청북도</td>\n",
       "      <td>충주시</td>\n",
       "      <td>휘발유</td>\n",
       "      <td>승합</td>\n",
       "      <td>중형</td>\n",
       "      <td>개인용</td>\n",
       "      <td>부하검사(ASM2525)</td>\n",
       "      <td>0.00</td>\n",
       "      <td>34.00</td>\n",
       "      <td>404.00</td>\n",
       "    </tr>\n",
       "    <tr>\n",
       "      <th>5520</th>\n",
       "      <td>충청북도</td>\n",
       "      <td>충주시</td>\n",
       "      <td>휘발유</td>\n",
       "      <td>화물</td>\n",
       "      <td>소형</td>\n",
       "      <td>개인용</td>\n",
       "      <td>무부하검사(TSI)</td>\n",
       "      <td>0.00</td>\n",
       "      <td>0.00</td>\n",
       "      <td>1.05</td>\n",
       "    </tr>\n",
       "    <tr>\n",
       "      <th>5521</th>\n",
       "      <td>충청북도</td>\n",
       "      <td>충주시</td>\n",
       "      <td>휘발유</td>\n",
       "      <td>화물</td>\n",
       "      <td>소형</td>\n",
       "      <td>개인용</td>\n",
       "      <td>부하검사(ASM-Idling)</td>\n",
       "      <td>1.77</td>\n",
       "      <td>111.00</td>\n",
       "      <td>526.00</td>\n",
       "    </tr>\n",
       "    <tr>\n",
       "      <th>5522</th>\n",
       "      <td>충청북도</td>\n",
       "      <td>충주시</td>\n",
       "      <td>휘발유</td>\n",
       "      <td>화물</td>\n",
       "      <td>소형</td>\n",
       "      <td>개인용</td>\n",
       "      <td>부하검사(ASM2525)</td>\n",
       "      <td>2.40</td>\n",
       "      <td>156.00</td>\n",
       "      <td>26.00</td>\n",
       "    </tr>\n",
       "  </tbody>\n",
       "</table>\n",
       "<p>5523 rows × 10 columns</p>\n",
       "</div>"
      ],
      "text/plain": [
       "           시도 시군구_수정           연료  차종 차종유형   용도              검사방법  CO(평균)   \n",
       "0     강원특별자치도    강릉시  LPG(액화석유가스)  승용   중형  개인용        무부하검사(TSI)    0.30  \\\n",
       "1     강원특별자치도    강릉시  LPG(액화석유가스)  승합   중형  개인용       무부하검사(정지가동)    0.02   \n",
       "2     강원특별자치도    강릉시  LPG(액화석유가스)  화물   경형  개인용       무부하검사(정지가동)    0.00   \n",
       "3     강원특별자치도    강릉시  LPG(액화석유가스)  화물   소형  개인용     부하검사(ASM2525)    0.30   \n",
       "4     강원특별자치도    강릉시  LPG(액화석유가스)  화물   중형  개인용       무부하검사(정지가동)    0.00   \n",
       "...       ...    ...          ...  ..  ...  ...               ...     ...   \n",
       "5518     충청북도    충주시          휘발유  승용   중형  개인용     부하검사(ASM2525)    0.24   \n",
       "5519     충청북도    충주시          휘발유  승합   중형  개인용     부하검사(ASM2525)    0.00   \n",
       "5520     충청북도    충주시          휘발유  화물   소형  개인용        무부하검사(TSI)    0.00   \n",
       "5521     충청북도    충주시          휘발유  화물   소형  개인용  부하검사(ASM-Idling)    1.77   \n",
       "5522     충청북도    충주시          휘발유  화물   소형  개인용     부하검사(ASM2525)    2.40   \n",
       "\n",
       "      HC(평균)  NOx(평균)  \n",
       "0     237.50     1.06  \n",
       "1      54.00     1.09  \n",
       "2    1510.00     1.86  \n",
       "3     238.75   996.25  \n",
       "4      77.00     1.00  \n",
       "...      ...      ...  \n",
       "5518   51.53   647.86  \n",
       "5519   34.00   404.00  \n",
       "5520    0.00     1.05  \n",
       "5521  111.00   526.00  \n",
       "5522  156.00    26.00  \n",
       "\n",
       "[5523 rows x 10 columns]"
      ]
     },
     "execution_count": 241,
     "metadata": {},
     "output_type": "execute_result"
    }
   ],
   "source": [
    "grp_gas_lpg = gas_lpg.groupby(['시도', '시군구_수정', '연료', '차종', '차종유형', '용도', '검사방법']).agg({'무부하매연측정치1':'mean', '무부하매연측정치2':'mean', '무부하매연측정치3':'mean', '차대번호':'count'}).reset_index() # !!! 수정(2023.11.15)\n",
    "grp_gas_lpg = grp_gas_lpg.rename(columns={'무부하매연측정치1':'CO(평균)', '무부하매연측정치2':'HC(평균)', '무부하매연측정치3':'NOx(평균)', '차대번호':'차량대수'}) # !!! 수정(2023.11.15)\n",
    "grp_gas_lpg"
   ]
  },
  {
   "cell_type": "code",
   "execution_count": 242,
   "metadata": {},
   "outputs": [
    {
     "data": {
      "text/html": [
       "<div>\n",
       "<style scoped>\n",
       "    .dataframe tbody tr th:only-of-type {\n",
       "        vertical-align: middle;\n",
       "    }\n",
       "\n",
       "    .dataframe tbody tr th {\n",
       "        vertical-align: top;\n",
       "    }\n",
       "\n",
       "    .dataframe thead th {\n",
       "        text-align: right;\n",
       "    }\n",
       "</style>\n",
       "<table border=\"1\" class=\"dataframe\">\n",
       "  <thead>\n",
       "    <tr style=\"text-align: right;\">\n",
       "      <th></th>\n",
       "      <th>시도</th>\n",
       "      <th>시군구_수정</th>\n",
       "      <th>연료</th>\n",
       "      <th>차종</th>\n",
       "      <th>차종유형</th>\n",
       "      <th>용도</th>\n",
       "      <th>검사방법</th>\n",
       "      <th>매연(평균)</th>\n",
       "      <th>CO(평균)</th>\n",
       "      <th>HC(평균)</th>\n",
       "      <th>NOx(평균)</th>\n",
       "    </tr>\n",
       "  </thead>\n",
       "  <tbody>\n",
       "    <tr>\n",
       "      <th>0</th>\n",
       "      <td>강원특별자치도</td>\n",
       "      <td>강릉시</td>\n",
       "      <td>경유</td>\n",
       "      <td>승용</td>\n",
       "      <td>대형</td>\n",
       "      <td>개인용</td>\n",
       "      <td>무부하검사(급가속)</td>\n",
       "      <td>9.08</td>\n",
       "      <td>NaN</td>\n",
       "      <td>NaN</td>\n",
       "      <td>NaN</td>\n",
       "    </tr>\n",
       "    <tr>\n",
       "      <th>1</th>\n",
       "      <td>강원특별자치도</td>\n",
       "      <td>강릉시</td>\n",
       "      <td>경유</td>\n",
       "      <td>승용</td>\n",
       "      <td>대형</td>\n",
       "      <td>개인용</td>\n",
       "      <td>부하검사(KD-147)</td>\n",
       "      <td>5.15</td>\n",
       "      <td>NaN</td>\n",
       "      <td>NaN</td>\n",
       "      <td>NaN</td>\n",
       "    </tr>\n",
       "    <tr>\n",
       "      <th>2</th>\n",
       "      <td>강원특별자치도</td>\n",
       "      <td>강릉시</td>\n",
       "      <td>경유</td>\n",
       "      <td>승용</td>\n",
       "      <td>대형</td>\n",
       "      <td>관용</td>\n",
       "      <td>무부하검사(급가속)</td>\n",
       "      <td>2.33</td>\n",
       "      <td>NaN</td>\n",
       "      <td>NaN</td>\n",
       "      <td>NaN</td>\n",
       "    </tr>\n",
       "    <tr>\n",
       "      <th>3</th>\n",
       "      <td>강원특별자치도</td>\n",
       "      <td>강릉시</td>\n",
       "      <td>경유</td>\n",
       "      <td>승용</td>\n",
       "      <td>소형</td>\n",
       "      <td>개인용</td>\n",
       "      <td>무부하검사(급가속)</td>\n",
       "      <td>14.94</td>\n",
       "      <td>NaN</td>\n",
       "      <td>NaN</td>\n",
       "      <td>NaN</td>\n",
       "    </tr>\n",
       "    <tr>\n",
       "      <th>4</th>\n",
       "      <td>강원특별자치도</td>\n",
       "      <td>강릉시</td>\n",
       "      <td>경유</td>\n",
       "      <td>승용</td>\n",
       "      <td>소형</td>\n",
       "      <td>개인용</td>\n",
       "      <td>부하검사(KD-147)</td>\n",
       "      <td>7.33</td>\n",
       "      <td>NaN</td>\n",
       "      <td>NaN</td>\n",
       "      <td>NaN</td>\n",
       "    </tr>\n",
       "    <tr>\n",
       "      <th>...</th>\n",
       "      <td>...</td>\n",
       "      <td>...</td>\n",
       "      <td>...</td>\n",
       "      <td>...</td>\n",
       "      <td>...</td>\n",
       "      <td>...</td>\n",
       "      <td>...</td>\n",
       "      <td>...</td>\n",
       "      <td>...</td>\n",
       "      <td>...</td>\n",
       "      <td>...</td>\n",
       "    </tr>\n",
       "    <tr>\n",
       "      <th>5518</th>\n",
       "      <td>충청북도</td>\n",
       "      <td>충주시</td>\n",
       "      <td>휘발유</td>\n",
       "      <td>승용</td>\n",
       "      <td>중형</td>\n",
       "      <td>개인용</td>\n",
       "      <td>부하검사(ASM2525)</td>\n",
       "      <td>NaN</td>\n",
       "      <td>0.24</td>\n",
       "      <td>51.53</td>\n",
       "      <td>647.86</td>\n",
       "    </tr>\n",
       "    <tr>\n",
       "      <th>5519</th>\n",
       "      <td>충청북도</td>\n",
       "      <td>충주시</td>\n",
       "      <td>휘발유</td>\n",
       "      <td>승합</td>\n",
       "      <td>중형</td>\n",
       "      <td>개인용</td>\n",
       "      <td>부하검사(ASM2525)</td>\n",
       "      <td>NaN</td>\n",
       "      <td>0.00</td>\n",
       "      <td>34.00</td>\n",
       "      <td>404.00</td>\n",
       "    </tr>\n",
       "    <tr>\n",
       "      <th>5520</th>\n",
       "      <td>충청북도</td>\n",
       "      <td>충주시</td>\n",
       "      <td>휘발유</td>\n",
       "      <td>화물</td>\n",
       "      <td>소형</td>\n",
       "      <td>개인용</td>\n",
       "      <td>무부하검사(TSI)</td>\n",
       "      <td>NaN</td>\n",
       "      <td>0.00</td>\n",
       "      <td>0.00</td>\n",
       "      <td>1.05</td>\n",
       "    </tr>\n",
       "    <tr>\n",
       "      <th>5521</th>\n",
       "      <td>충청북도</td>\n",
       "      <td>충주시</td>\n",
       "      <td>휘발유</td>\n",
       "      <td>화물</td>\n",
       "      <td>소형</td>\n",
       "      <td>개인용</td>\n",
       "      <td>부하검사(ASM-Idling)</td>\n",
       "      <td>NaN</td>\n",
       "      <td>1.77</td>\n",
       "      <td>111.00</td>\n",
       "      <td>526.00</td>\n",
       "    </tr>\n",
       "    <tr>\n",
       "      <th>5522</th>\n",
       "      <td>충청북도</td>\n",
       "      <td>충주시</td>\n",
       "      <td>휘발유</td>\n",
       "      <td>화물</td>\n",
       "      <td>소형</td>\n",
       "      <td>개인용</td>\n",
       "      <td>부하검사(ASM2525)</td>\n",
       "      <td>NaN</td>\n",
       "      <td>2.40</td>\n",
       "      <td>156.00</td>\n",
       "      <td>26.00</td>\n",
       "    </tr>\n",
       "  </tbody>\n",
       "</table>\n",
       "<p>12740 rows × 11 columns</p>\n",
       "</div>"
      ],
      "text/plain": [
       "           시도 시군구_수정   연료  차종 차종유형   용도              검사방법  매연(평균)  CO(평균)   \n",
       "0     강원특별자치도    강릉시   경유  승용   대형  개인용        무부하검사(급가속)    9.08     NaN  \\\n",
       "1     강원특별자치도    강릉시   경유  승용   대형  개인용      부하검사(KD-147)    5.15     NaN   \n",
       "2     강원특별자치도    강릉시   경유  승용   대형   관용        무부하검사(급가속)    2.33     NaN   \n",
       "3     강원특별자치도    강릉시   경유  승용   소형  개인용        무부하검사(급가속)   14.94     NaN   \n",
       "4     강원특별자치도    강릉시   경유  승용   소형  개인용      부하검사(KD-147)    7.33     NaN   \n",
       "...       ...    ...  ...  ..  ...  ...               ...     ...     ...   \n",
       "5518     충청북도    충주시  휘발유  승용   중형  개인용     부하검사(ASM2525)     NaN    0.24   \n",
       "5519     충청북도    충주시  휘발유  승합   중형  개인용     부하검사(ASM2525)     NaN    0.00   \n",
       "5520     충청북도    충주시  휘발유  화물   소형  개인용        무부하검사(TSI)     NaN    0.00   \n",
       "5521     충청북도    충주시  휘발유  화물   소형  개인용  부하검사(ASM-Idling)     NaN    1.77   \n",
       "5522     충청북도    충주시  휘발유  화물   소형  개인용     부하검사(ASM2525)     NaN    2.40   \n",
       "\n",
       "      HC(평균)  NOx(평균)  \n",
       "0        NaN      NaN  \n",
       "1        NaN      NaN  \n",
       "2        NaN      NaN  \n",
       "3        NaN      NaN  \n",
       "4        NaN      NaN  \n",
       "...      ...      ...  \n",
       "5518   51.53   647.86  \n",
       "5519   34.00   404.00  \n",
       "5520    0.00     1.05  \n",
       "5521  111.00   526.00  \n",
       "5522  156.00    26.00  \n",
       "\n",
       "[12740 rows x 11 columns]"
      ]
     },
     "execution_count": 242,
     "metadata": {},
     "output_type": "execute_result"
    }
   ],
   "source": [
    "grp3 = pd.concat([grp_diesel, grp_gas_lpg], ignore_index=False)\n",
    "grp3"
   ]
  },
  {
   "cell_type": "code",
   "execution_count": 208,
   "metadata": {},
   "outputs": [
    {
     "data": {
      "text/html": [
       "<div>\n",
       "<style scoped>\n",
       "    .dataframe tbody tr th:only-of-type {\n",
       "        vertical-align: middle;\n",
       "    }\n",
       "\n",
       "    .dataframe tbody tr th {\n",
       "        vertical-align: top;\n",
       "    }\n",
       "\n",
       "    .dataframe thead th {\n",
       "        text-align: right;\n",
       "    }\n",
       "</style>\n",
       "<table border=\"1\" class=\"dataframe\">\n",
       "  <thead>\n",
       "    <tr style=\"text-align: right;\">\n",
       "      <th></th>\n",
       "      <th>시도</th>\n",
       "      <th>시군구_수정</th>\n",
       "      <th>연료</th>\n",
       "      <th>차종</th>\n",
       "      <th>차종유형</th>\n",
       "      <th>용도</th>\n",
       "      <th>E_CO_total_mean</th>\n",
       "      <th>E_HC_total_mean</th>\n",
       "      <th>E_NOx_total_mean</th>\n",
       "      <th>E_PM10_total_mean</th>\n",
       "      <th>E_PM2_5_total_mean</th>\n",
       "    </tr>\n",
       "  </thead>\n",
       "  <tbody>\n",
       "    <tr>\n",
       "      <th>0</th>\n",
       "      <td>강원도</td>\n",
       "      <td>강릉시</td>\n",
       "      <td>LPG(액화석유가스)</td>\n",
       "      <td>승용</td>\n",
       "      <td>대형</td>\n",
       "      <td>개인용</td>\n",
       "      <td>91.35</td>\n",
       "      <td>1.15</td>\n",
       "      <td>6.57</td>\n",
       "      <td>0.02</td>\n",
       "      <td>0.02</td>\n",
       "    </tr>\n",
       "    <tr>\n",
       "      <th>1</th>\n",
       "      <td>강원도</td>\n",
       "      <td>강릉시</td>\n",
       "      <td>LPG(액화석유가스)</td>\n",
       "      <td>승용</td>\n",
       "      <td>중형</td>\n",
       "      <td>개인용</td>\n",
       "      <td>32.75</td>\n",
       "      <td>0.99</td>\n",
       "      <td>5.24</td>\n",
       "      <td>0.02</td>\n",
       "      <td>0.01</td>\n",
       "    </tr>\n",
       "    <tr>\n",
       "      <th>2</th>\n",
       "      <td>강원도</td>\n",
       "      <td>강릉시</td>\n",
       "      <td>LPG(액화석유가스)</td>\n",
       "      <td>승용</td>\n",
       "      <td>중형</td>\n",
       "      <td>영업용</td>\n",
       "      <td>24.45</td>\n",
       "      <td>1.98</td>\n",
       "      <td>6.36</td>\n",
       "      <td>0.02</td>\n",
       "      <td>0.02</td>\n",
       "    </tr>\n",
       "    <tr>\n",
       "      <th>3</th>\n",
       "      <td>강원도</td>\n",
       "      <td>강릉시</td>\n",
       "      <td>LPG(액화석유가스)</td>\n",
       "      <td>승합</td>\n",
       "      <td>경형</td>\n",
       "      <td>개인용</td>\n",
       "      <td>26.75</td>\n",
       "      <td>1.76</td>\n",
       "      <td>8.57</td>\n",
       "      <td>0.03</td>\n",
       "      <td>0.03</td>\n",
       "    </tr>\n",
       "    <tr>\n",
       "      <th>4</th>\n",
       "      <td>강원도</td>\n",
       "      <td>강릉시</td>\n",
       "      <td>LPG(액화석유가스)</td>\n",
       "      <td>승합</td>\n",
       "      <td>소형</td>\n",
       "      <td>개인용</td>\n",
       "      <td>29.75</td>\n",
       "      <td>1.43</td>\n",
       "      <td>8.57</td>\n",
       "      <td>0.03</td>\n",
       "      <td>0.03</td>\n",
       "    </tr>\n",
       "    <tr>\n",
       "      <th>...</th>\n",
       "      <td>...</td>\n",
       "      <td>...</td>\n",
       "      <td>...</td>\n",
       "      <td>...</td>\n",
       "      <td>...</td>\n",
       "      <td>...</td>\n",
       "      <td>...</td>\n",
       "      <td>...</td>\n",
       "      <td>...</td>\n",
       "      <td>...</td>\n",
       "      <td>...</td>\n",
       "    </tr>\n",
       "    <tr>\n",
       "      <th>9087</th>\n",
       "      <td>충청북도</td>\n",
       "      <td>충주시</td>\n",
       "      <td>휘발유</td>\n",
       "      <td>승합</td>\n",
       "      <td>경형</td>\n",
       "      <td>개인용</td>\n",
       "      <td>134.68</td>\n",
       "      <td>21.30</td>\n",
       "      <td>31.17</td>\n",
       "      <td>0.01</td>\n",
       "      <td>0.01</td>\n",
       "    </tr>\n",
       "    <tr>\n",
       "      <th>9088</th>\n",
       "      <td>충청북도</td>\n",
       "      <td>충주시</td>\n",
       "      <td>휘발유</td>\n",
       "      <td>승합</td>\n",
       "      <td>소형</td>\n",
       "      <td>개인용</td>\n",
       "      <td>57.61</td>\n",
       "      <td>7.91</td>\n",
       "      <td>11.82</td>\n",
       "      <td>0.01</td>\n",
       "      <td>0.01</td>\n",
       "    </tr>\n",
       "    <tr>\n",
       "      <th>9089</th>\n",
       "      <td>충청북도</td>\n",
       "      <td>충주시</td>\n",
       "      <td>휘발유</td>\n",
       "      <td>승합</td>\n",
       "      <td>중형</td>\n",
       "      <td>개인용</td>\n",
       "      <td>12.94</td>\n",
       "      <td>1.29</td>\n",
       "      <td>3.73</td>\n",
       "      <td>0.01</td>\n",
       "      <td>0.01</td>\n",
       "    </tr>\n",
       "    <tr>\n",
       "      <th>9090</th>\n",
       "      <td>충청북도</td>\n",
       "      <td>충주시</td>\n",
       "      <td>휘발유</td>\n",
       "      <td>화물</td>\n",
       "      <td>경형</td>\n",
       "      <td>개인용</td>\n",
       "      <td>70.53</td>\n",
       "      <td>9.01</td>\n",
       "      <td>23.53</td>\n",
       "      <td>0.01</td>\n",
       "      <td>0.01</td>\n",
       "    </tr>\n",
       "    <tr>\n",
       "      <th>9091</th>\n",
       "      <td>충청북도</td>\n",
       "      <td>충주시</td>\n",
       "      <td>휘발유</td>\n",
       "      <td>화물</td>\n",
       "      <td>소형</td>\n",
       "      <td>개인용</td>\n",
       "      <td>28.15</td>\n",
       "      <td>2.74</td>\n",
       "      <td>8.81</td>\n",
       "      <td>0.01</td>\n",
       "      <td>0.01</td>\n",
       "    </tr>\n",
       "  </tbody>\n",
       "</table>\n",
       "<p>9092 rows × 11 columns</p>\n",
       "</div>"
      ],
      "text/plain": [
       "        시도 시군구_수정           연료  차종 차종유형   용도  E_CO_total_mean   \n",
       "0      강원도    강릉시  LPG(액화석유가스)  승용   대형  개인용            91.35  \\\n",
       "1      강원도    강릉시  LPG(액화석유가스)  승용   중형  개인용            32.75   \n",
       "2      강원도    강릉시  LPG(액화석유가스)  승용   중형  영업용            24.45   \n",
       "3      강원도    강릉시  LPG(액화석유가스)  승합   경형  개인용            26.75   \n",
       "4      강원도    강릉시  LPG(액화석유가스)  승합   소형  개인용            29.75   \n",
       "...    ...    ...          ...  ..  ...  ...              ...   \n",
       "9087  충청북도    충주시          휘발유  승합   경형  개인용           134.68   \n",
       "9088  충청북도    충주시          휘발유  승합   소형  개인용            57.61   \n",
       "9089  충청북도    충주시          휘발유  승합   중형  개인용            12.94   \n",
       "9090  충청북도    충주시          휘발유  화물   경형  개인용            70.53   \n",
       "9091  충청북도    충주시          휘발유  화물   소형  개인용            28.15   \n",
       "\n",
       "      E_HC_total_mean  E_NOx_total_mean  E_PM10_total_mean  E_PM2_5_total_mean  \n",
       "0                1.15              6.57               0.02                0.02  \n",
       "1                0.99              5.24               0.02                0.01  \n",
       "2                1.98              6.36               0.02                0.02  \n",
       "3                1.76              8.57               0.03                0.03  \n",
       "4                1.43              8.57               0.03                0.03  \n",
       "...               ...               ...                ...                 ...  \n",
       "9087            21.30             31.17               0.01                0.01  \n",
       "9088             7.91             11.82               0.01                0.01  \n",
       "9089             1.29              3.73               0.01                0.01  \n",
       "9090             9.01             23.53               0.01                0.01  \n",
       "9091             2.74              8.81               0.01                0.01  \n",
       "\n",
       "[9092 rows x 11 columns]"
      ]
     },
     "execution_count": 208,
     "metadata": {},
     "output_type": "execute_result"
    }
   ],
   "source": [
    "# grp3 = df2.groupby(['시도', '시군구_수정', '연료', '차종', '차종유형', '용도']).agg({'E_CO_total':'mean', 'E_HC_total':'mean', 'E_NOx_total':'mean', 'E_PM10_total':'mean', 'E_PM2_5_total':'mean'}).reset_index()\n",
    "# grp3 = grp3.rename(columns={'E_CO_total':'E_CO_total_mean', 'E_HC_total':'E_HC_total_mean', 'E_NOx_total':'E_NOx_total_mean', 'E_PM10_total':'E_PM10_total_mean', 'E_PM2_5_total':'E_PM2_5_total_mean'})\n",
    "# grp3"
   ]
  },
  {
   "cell_type": "code",
   "execution_count": 244,
   "metadata": {},
   "outputs": [
    {
     "data": {
      "text/plain": [
       "'20230821'"
      ]
     },
     "execution_count": 244,
     "metadata": {},
     "output_type": "execute_result"
    }
   ],
   "source": [
    "today_date = datetime.today().strftime(\"%Y%m%d\")\n",
    "today_date"
   ]
  },
  {
   "cell_type": "code",
   "execution_count": 245,
   "metadata": {},
   "outputs": [],
   "source": [
    "# 연도 설정\n",
    "# grp3['연도'] = today_date[:4]\n",
    "grp3['연도'] = '2022'\n",
    "grp3['테이블생성일자'] = today_date"
   ]
  },
  {
   "cell_type": "code",
   "execution_count": 246,
   "metadata": {},
   "outputs": [
    {
     "data": {
      "text/plain": [
       "['시도',\n",
       " '시군구_수정',\n",
       " '연료',\n",
       " '차종',\n",
       " '차종유형',\n",
       " '용도',\n",
       " '검사방법',\n",
       " '매연(평균)',\n",
       " 'CO(평균)',\n",
       " 'HC(평균)',\n",
       " 'NOx(평균)',\n",
       " '연도',\n",
       " '테이블생성일자']"
      ]
     },
     "execution_count": 246,
     "metadata": {},
     "output_type": "execute_result"
    }
   ],
   "source": [
    "list(grp3.columns)"
   ]
  },
  {
   "cell_type": "code",
   "execution_count": 247,
   "metadata": {},
   "outputs": [],
   "source": [
    "STD_BD_DAT_GRD4_MEVLU = grp3[[\n",
    "    '연도',\n",
    "    '시도',\n",
    "    '시군구_수정',\n",
    "    '연료',\n",
    "    '차종',\n",
    "    '차종유형',\n",
    "    '용도',\n",
    "    '검사방법',\n",
    "    '매연(평균)',\n",
    "    'CO(평균)',\n",
    "    'HC(평균)',\n",
    "    'NOx(평균)',\n",
    "    '차량대수', # !!! 수정(2023.11.15)\n",
    "    '테이블생성일자', \n",
    "]]"
   ]
  },
  {
   "cell_type": "code",
   "execution_count": 249,
   "metadata": {},
   "outputs": [
    {
     "data": {
      "text/html": [
       "<div>\n",
       "<style scoped>\n",
       "    .dataframe tbody tr th:only-of-type {\n",
       "        vertical-align: middle;\n",
       "    }\n",
       "\n",
       "    .dataframe tbody tr th {\n",
       "        vertical-align: top;\n",
       "    }\n",
       "\n",
       "    .dataframe thead th {\n",
       "        text-align: right;\n",
       "    }\n",
       "</style>\n",
       "<table border=\"1\" class=\"dataframe\">\n",
       "  <thead>\n",
       "    <tr style=\"text-align: right;\">\n",
       "      <th></th>\n",
       "      <th>연도</th>\n",
       "      <th>시도</th>\n",
       "      <th>시군구_수정</th>\n",
       "      <th>연료</th>\n",
       "      <th>차종</th>\n",
       "      <th>차종유형</th>\n",
       "      <th>용도</th>\n",
       "      <th>검사방법</th>\n",
       "      <th>매연(평균)</th>\n",
       "      <th>CO(평균)</th>\n",
       "      <th>HC(평균)</th>\n",
       "      <th>NOx(평균)</th>\n",
       "      <th>테이블생성일자</th>\n",
       "    </tr>\n",
       "  </thead>\n",
       "  <tbody>\n",
       "    <tr>\n",
       "      <th>0</th>\n",
       "      <td>2022</td>\n",
       "      <td>강원특별자치도</td>\n",
       "      <td>강릉시</td>\n",
       "      <td>경유</td>\n",
       "      <td>승용</td>\n",
       "      <td>대형</td>\n",
       "      <td>개인용</td>\n",
       "      <td>무부하검사(급가속)</td>\n",
       "      <td>9.08</td>\n",
       "      <td>NaN</td>\n",
       "      <td>NaN</td>\n",
       "      <td>NaN</td>\n",
       "      <td>20230821</td>\n",
       "    </tr>\n",
       "    <tr>\n",
       "      <th>1</th>\n",
       "      <td>2022</td>\n",
       "      <td>강원특별자치도</td>\n",
       "      <td>강릉시</td>\n",
       "      <td>경유</td>\n",
       "      <td>승용</td>\n",
       "      <td>대형</td>\n",
       "      <td>개인용</td>\n",
       "      <td>부하검사(KD-147)</td>\n",
       "      <td>5.15</td>\n",
       "      <td>NaN</td>\n",
       "      <td>NaN</td>\n",
       "      <td>NaN</td>\n",
       "      <td>20230821</td>\n",
       "    </tr>\n",
       "    <tr>\n",
       "      <th>2</th>\n",
       "      <td>2022</td>\n",
       "      <td>강원특별자치도</td>\n",
       "      <td>강릉시</td>\n",
       "      <td>경유</td>\n",
       "      <td>승용</td>\n",
       "      <td>대형</td>\n",
       "      <td>관용</td>\n",
       "      <td>무부하검사(급가속)</td>\n",
       "      <td>2.33</td>\n",
       "      <td>NaN</td>\n",
       "      <td>NaN</td>\n",
       "      <td>NaN</td>\n",
       "      <td>20230821</td>\n",
       "    </tr>\n",
       "    <tr>\n",
       "      <th>3</th>\n",
       "      <td>2022</td>\n",
       "      <td>강원특별자치도</td>\n",
       "      <td>강릉시</td>\n",
       "      <td>경유</td>\n",
       "      <td>승용</td>\n",
       "      <td>소형</td>\n",
       "      <td>개인용</td>\n",
       "      <td>무부하검사(급가속)</td>\n",
       "      <td>14.94</td>\n",
       "      <td>NaN</td>\n",
       "      <td>NaN</td>\n",
       "      <td>NaN</td>\n",
       "      <td>20230821</td>\n",
       "    </tr>\n",
       "    <tr>\n",
       "      <th>4</th>\n",
       "      <td>2022</td>\n",
       "      <td>강원특별자치도</td>\n",
       "      <td>강릉시</td>\n",
       "      <td>경유</td>\n",
       "      <td>승용</td>\n",
       "      <td>소형</td>\n",
       "      <td>개인용</td>\n",
       "      <td>부하검사(KD-147)</td>\n",
       "      <td>7.33</td>\n",
       "      <td>NaN</td>\n",
       "      <td>NaN</td>\n",
       "      <td>NaN</td>\n",
       "      <td>20230821</td>\n",
       "    </tr>\n",
       "    <tr>\n",
       "      <th>...</th>\n",
       "      <td>...</td>\n",
       "      <td>...</td>\n",
       "      <td>...</td>\n",
       "      <td>...</td>\n",
       "      <td>...</td>\n",
       "      <td>...</td>\n",
       "      <td>...</td>\n",
       "      <td>...</td>\n",
       "      <td>...</td>\n",
       "      <td>...</td>\n",
       "      <td>...</td>\n",
       "      <td>...</td>\n",
       "      <td>...</td>\n",
       "    </tr>\n",
       "    <tr>\n",
       "      <th>5518</th>\n",
       "      <td>2022</td>\n",
       "      <td>충청북도</td>\n",
       "      <td>충주시</td>\n",
       "      <td>휘발유</td>\n",
       "      <td>승용</td>\n",
       "      <td>중형</td>\n",
       "      <td>개인용</td>\n",
       "      <td>부하검사(ASM2525)</td>\n",
       "      <td>NaN</td>\n",
       "      <td>0.24</td>\n",
       "      <td>51.53</td>\n",
       "      <td>647.86</td>\n",
       "      <td>20230821</td>\n",
       "    </tr>\n",
       "    <tr>\n",
       "      <th>5519</th>\n",
       "      <td>2022</td>\n",
       "      <td>충청북도</td>\n",
       "      <td>충주시</td>\n",
       "      <td>휘발유</td>\n",
       "      <td>승합</td>\n",
       "      <td>중형</td>\n",
       "      <td>개인용</td>\n",
       "      <td>부하검사(ASM2525)</td>\n",
       "      <td>NaN</td>\n",
       "      <td>0.00</td>\n",
       "      <td>34.00</td>\n",
       "      <td>404.00</td>\n",
       "      <td>20230821</td>\n",
       "    </tr>\n",
       "    <tr>\n",
       "      <th>5520</th>\n",
       "      <td>2022</td>\n",
       "      <td>충청북도</td>\n",
       "      <td>충주시</td>\n",
       "      <td>휘발유</td>\n",
       "      <td>화물</td>\n",
       "      <td>소형</td>\n",
       "      <td>개인용</td>\n",
       "      <td>무부하검사(TSI)</td>\n",
       "      <td>NaN</td>\n",
       "      <td>0.00</td>\n",
       "      <td>0.00</td>\n",
       "      <td>1.05</td>\n",
       "      <td>20230821</td>\n",
       "    </tr>\n",
       "    <tr>\n",
       "      <th>5521</th>\n",
       "      <td>2022</td>\n",
       "      <td>충청북도</td>\n",
       "      <td>충주시</td>\n",
       "      <td>휘발유</td>\n",
       "      <td>화물</td>\n",
       "      <td>소형</td>\n",
       "      <td>개인용</td>\n",
       "      <td>부하검사(ASM-Idling)</td>\n",
       "      <td>NaN</td>\n",
       "      <td>1.77</td>\n",
       "      <td>111.00</td>\n",
       "      <td>526.00</td>\n",
       "      <td>20230821</td>\n",
       "    </tr>\n",
       "    <tr>\n",
       "      <th>5522</th>\n",
       "      <td>2022</td>\n",
       "      <td>충청북도</td>\n",
       "      <td>충주시</td>\n",
       "      <td>휘발유</td>\n",
       "      <td>화물</td>\n",
       "      <td>소형</td>\n",
       "      <td>개인용</td>\n",
       "      <td>부하검사(ASM2525)</td>\n",
       "      <td>NaN</td>\n",
       "      <td>2.40</td>\n",
       "      <td>156.00</td>\n",
       "      <td>26.00</td>\n",
       "      <td>20230821</td>\n",
       "    </tr>\n",
       "  </tbody>\n",
       "</table>\n",
       "<p>12740 rows × 13 columns</p>\n",
       "</div>"
      ],
      "text/plain": [
       "        연도       시도 시군구_수정   연료  차종 차종유형   용도              검사방법  매연(평균)   \n",
       "0     2022  강원특별자치도    강릉시   경유  승용   대형  개인용        무부하검사(급가속)    9.08  \\\n",
       "1     2022  강원특별자치도    강릉시   경유  승용   대형  개인용      부하검사(KD-147)    5.15   \n",
       "2     2022  강원특별자치도    강릉시   경유  승용   대형   관용        무부하검사(급가속)    2.33   \n",
       "3     2022  강원특별자치도    강릉시   경유  승용   소형  개인용        무부하검사(급가속)   14.94   \n",
       "4     2022  강원특별자치도    강릉시   경유  승용   소형  개인용      부하검사(KD-147)    7.33   \n",
       "...    ...      ...    ...  ...  ..  ...  ...               ...     ...   \n",
       "5518  2022     충청북도    충주시  휘발유  승용   중형  개인용     부하검사(ASM2525)     NaN   \n",
       "5519  2022     충청북도    충주시  휘발유  승합   중형  개인용     부하검사(ASM2525)     NaN   \n",
       "5520  2022     충청북도    충주시  휘발유  화물   소형  개인용        무부하검사(TSI)     NaN   \n",
       "5521  2022     충청북도    충주시  휘발유  화물   소형  개인용  부하검사(ASM-Idling)     NaN   \n",
       "5522  2022     충청북도    충주시  휘발유  화물   소형  개인용     부하검사(ASM2525)     NaN   \n",
       "\n",
       "      CO(평균)  HC(평균)  NOx(평균)   테이블생성일자  \n",
       "0        NaN     NaN      NaN  20230821  \n",
       "1        NaN     NaN      NaN  20230821  \n",
       "2        NaN     NaN      NaN  20230821  \n",
       "3        NaN     NaN      NaN  20230821  \n",
       "4        NaN     NaN      NaN  20230821  \n",
       "...      ...     ...      ...       ...  \n",
       "5518    0.24   51.53   647.86  20230821  \n",
       "5519    0.00   34.00   404.00  20230821  \n",
       "5520    0.00    0.00     1.05  20230821  \n",
       "5521    1.77  111.00   526.00  20230821  \n",
       "5522    2.40  156.00    26.00  20230821  \n",
       "\n",
       "[12740 rows x 13 columns]"
      ]
     },
     "execution_count": 249,
     "metadata": {},
     "output_type": "execute_result"
    }
   ],
   "source": [
    "STD_BD_DAT_GRD4_MEVLU"
   ]
  },
  {
   "cell_type": "code",
   "execution_count": 250,
   "metadata": {},
   "outputs": [
    {
     "data": {
      "text/plain": [
       "Index(['YR', 'CTPV', 'SGG', 'FUEL_CD', 'VHCTY_CD', 'VHCTY_TY', 'PURPS_CD2',\n",
       "       'INSP_MTHD', 'SMO_MEVLU_AVRG', 'CO_MEVLU_AVRG', 'HC_MEVLU_AVRG',\n",
       "       'NOx_MEVLU_AVRG', 'LOAD_DT'],\n",
       "      dtype='object')"
      ]
     },
     "execution_count": 250,
     "metadata": {},
     "output_type": "execute_result"
    }
   ],
   "source": [
    "cdict = {\n",
    "    '연도':'YR',\n",
    "    '시도':'CTPV',\n",
    "    '시군구_수정':'SGG',\n",
    "    '연료':'FUEL_CD',\n",
    "    '차종':'VHCTY_CD',\n",
    "    '차종유형':'VHCTY_TY',\n",
    "    '용도':'PURPS_CD2',\n",
    "    '검사방법':'INSP_MTHD',\n",
    "    '매연(평균)':'SMO_MEVLU_AVRG',\n",
    "    'CO(평균)':'CO_MEVLU_AVRG',\n",
    "    'HC(평균)':'HC_MEVLU_AVRG',\n",
    "    'NOx(평균)':'NOx_MEVLU_AVRG',\n",
    "    '차량대수':'VHCL_MKCNT', # !!! 수정(2023.11.15)\n",
    "    '테이블생성일자':'LOAD_DT',\n",
    "}\n",
    "STD_BD_DAT_GRD4_MEVLU = STD_BD_DAT_GRD4_MEVLU.rename(columns=cdict)\n",
    "STD_BD_DAT_GRD4_MEVLU.columns"
   ]
  },
  {
   "cell_type": "code",
   "execution_count": 251,
   "metadata": {},
   "outputs": [
    {
     "data": {
      "text/plain": [
       "['YR',\n",
       " 'CTPV',\n",
       " 'SGG',\n",
       " 'FUEL_CD',\n",
       " 'VHCTY_CD',\n",
       " 'VHCTY_TY',\n",
       " 'PURPS_CD2',\n",
       " 'INSP_MTHD',\n",
       " 'SMO_MEVLU_AVRG',\n",
       " 'CO_MEVLU_AVRG',\n",
       " 'HC_MEVLU_AVRG',\n",
       " 'NOx_MEVLU_AVRG',\n",
       " 'LOAD_DT']"
      ]
     },
     "execution_count": 251,
     "metadata": {},
     "output_type": "execute_result"
    }
   ],
   "source": [
    "list(STD_BD_DAT_GRD4_MEVLU.columns)"
   ]
  },
  {
   "cell_type": "markdown",
   "metadata": {},
   "source": [
    "### [출력] STD_BD_DAT_GRD4_MEVLU"
   ]
  },
  {
   "cell_type": "code",
   "execution_count": 253,
   "metadata": {},
   "outputs": [],
   "source": [
    "expdf = STD_BD_DAT_GRD4_MEVLU\n",
    "table_nm = 'STD_BD_DAT_GRD4_MEVLU'.upper()\n",
    "\n",
    "# 테이블 생성\n",
    "sql = 'create or replace table ' + table_nm + '( \\n'\n",
    "\n",
    "for idx,column in enumerate(expdf.columns):\n",
    "    # if 'float' in expdf[column].dtype.name:\n",
    "    #     sql += column + ' float'\n",
    "    # elif 'int' in expdf[column].dtype.name:\n",
    "    #     sql += column + ' number'\n",
    "    # else:\n",
    "    sql += column + ' varchar(255)'\n",
    "\n",
    "    if len(expdf.columns) - 1 != idx:\n",
    "        sql += ','\n",
    "    sql += '\\n'\n",
    "sql += ')'    \n",
    "we.execute(sql)\n",
    "\n",
    "# 데이터 추가\n",
    "# 30.7s\n",
    "we.import_from_pandas(expdf, table_nm)"
   ]
  },
  {
   "cell_type": "code",
   "execution_count": 252,
   "metadata": {},
   "outputs": [],
   "source": [
    "# 0s\n",
    "STD_BD_DAT_GRD4_MEVLU.to_csv(os.path.join(df1_fold, 'STD_BD_DAT_GRD4_MEVLU.csv'), index=False)"
   ]
  },
  {
   "cell_type": "markdown",
   "metadata": {},
   "source": [
    "# 코드 마지막"
   ]
  }
 ],
 "metadata": {
  "kernelspec": {
   "display_name": "Python 3 (ipykernel)",
   "language": "python",
   "name": "python3"
  },
  "language_info": {
   "codemirror_mode": {
    "name": "ipython",
    "version": 3
   },
   "file_extension": ".py",
   "mimetype": "text/x-python",
   "name": "python",
   "nbconvert_exporter": "python",
   "pygments_lexer": "ipython3",
   "version": "3.9.13"
  },
  "vscode": {
   "interpreter": {
    "hash": "ad2bdc8ecc057115af97d19610ffacc2b4e99fae6737bb82f5d7fb13d2f2c186"
   }
  }
 },
 "nbformat": 4,
 "nbformat_minor": 4
}
