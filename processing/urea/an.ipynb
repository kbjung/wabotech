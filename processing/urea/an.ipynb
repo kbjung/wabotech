{
 "cells": [
  {
   "cell_type": "markdown",
   "metadata": {},
   "source": [
    "# Library"
   ]
  },
  {
   "cell_type": "code",
   "execution_count": 2,
   "metadata": {},
   "outputs": [],
   "source": [
    "import pandas as pd\n",
    "import numpy as np\n",
    "import os\n",
    "from datetime import datetime\n",
    "import pyexasol"
   ]
  },
  {
   "cell_type": "code",
   "execution_count": 484,
   "metadata": {},
   "outputs": [],
   "source": [
    "# 소수점 2자리까지 표기\n",
    "pd.options.display.float_format = '{:.2f}'.format\n",
    "# pd.reset_option('display.float_format')"
   ]
  },
  {
   "cell_type": "code",
   "execution_count": 313,
   "metadata": {},
   "outputs": [],
   "source": [
    "from tqdm import tqdm"
   ]
  },
  {
   "cell_type": "markdown",
   "metadata": {},
   "source": [
    "# fold"
   ]
  },
  {
   "cell_type": "code",
   "execution_count": 3,
   "metadata": {},
   "outputs": [
    {
     "data": {
      "text/plain": [
       "{'raw_fold': 'D:/data/processing/urea/raw',\n",
       " 'df_fold': 'D:/data/processing/urea/df',\n",
       " 'an_fold': 'D:/data/processing/urea/an'}"
      ]
     },
     "execution_count": 3,
     "metadata": {},
     "output_type": "execute_result"
    }
   ],
   "source": [
    "raw_fold = 'D:/data/processing/urea/raw'\n",
    "df_fold = 'D:/data/processing/urea/df'\n",
    "an_fold = 'D:/data/processing/urea/an'\n",
    "folds = {\n",
    "    'raw_fold':raw_fold, \n",
    "    'df_fold':df_fold, \n",
    "    'an_fold':an_fold, \n",
    "}\n",
    "folds"
   ]
  },
  {
   "cell_type": "markdown",
   "metadata": {},
   "source": [
    "# server"
   ]
  },
  {
   "cell_type": "code",
   "execution_count": 4,
   "metadata": {},
   "outputs": [],
   "source": [
    "wd = pyexasol.connect(dsn='dev.openankus.org:8563', user='sys', password='djslzja', compression=True, schema='VSYSD')"
   ]
  },
  {
   "cell_type": "markdown",
   "metadata": {},
   "source": [
    "# load"
   ]
  },
  {
   "cell_type": "markdown",
   "metadata": {},
   "source": [
    "## 등록제원 경유, 경유하이브리드"
   ]
  },
  {
   "cell_type": "code",
   "execution_count": 488,
   "metadata": {},
   "outputs": [
    {
     "name": "stdout",
     "output_type": "stream",
     "text": [
      "<class 'pandas.core.frame.DataFrame'>\n",
      "RangeIndex: 11905778 entries, 0 to 11905777\n",
      "Data columns (total 16 columns):\n",
      " #   Column    Dtype  \n",
      "---  ------    -----  \n",
      " 0   배출가스인증번호  object \n",
      " 1   배출가스등급    object \n",
      " 2   최초등록일자    object \n",
      " 3   용도        object \n",
      " 4   제원관리번호    object \n",
      " 5   차량말소유무    object \n",
      " 6   연식        int64  \n",
      " 7   차종        object \n",
      " 8   차대번호      object \n",
      " 9   배기량       float64\n",
      " 10  엔진출력      float64\n",
      " 11  엔진형식      object \n",
      " 12  연료        object \n",
      " 13  제작사명      object \n",
      " 14  총중량       float64\n",
      " 15  차명        object \n",
      "dtypes: float64(3), int64(1), object(12)\n",
      "memory usage: 1.4+ GB\n"
     ]
    }
   ],
   "source": [
    "# 1m 21.8s\n",
    "name = '경유_경유하이브리드_20231206'\n",
    "file_name = f'{name}.csv'\n",
    "ch_col = {\n",
    "    'VIN':'차대번호', \n",
    "    'EXHST_GAS_GRD_CD':'배출가스등급', \n",
    "    'EXHST_GAS_CERT_NO':'배출가스인증번호',\n",
    "    'VHCL_ERSR_YN':'차량말소유무',\n",
    "    'FRST_REG_YMD':'최초등록일자',\n",
    "    'YRIDNW':'연식', \n",
    "    'FUEL_CD':'연료',\n",
    "    'VHCTY_CD_x':'차종', \n",
    "    'PURPS_CD2':'용도', \n",
    "    'MNFCTR_NM':'제작사명', \n",
    "    'EGIN_TY':'엔진형식', \n",
    "    'TOTL_WGHT':'총중량', \n",
    "    'VHCNM':'차명', \n",
    "    'MANP_MNG_NO':'제원관리번호', \n",
    "    'EGIN_OTPT':'엔진출력', \n",
    "    'DSPLVL':'배기량', \n",
    "    \n",
    "    # 'BSPL_STDG_CD':'법정동코드', \n",
    "    # 'VHCL_FBCTN_YMD':'제작일자', \n",
    "    # 'VHCL_MNG_NO':'차량관리번호', \n",
    "    # 'VHRNO':'자동차등록번호',\n",
    "    # 'EXTGAS_INSP_VLD_YMD':'검사유효일',\n",
    "    # 'VHCL_OWNR_CL_CD':'소유자구분',  \n",
    "}\n",
    "\n",
    "# cs_dgl = pd.read_csv(os.path.join(raw_fold, file_name), low_memory=False, nrows=10)\n",
    "# cs_dgl.columns\n",
    "\n",
    "cs_dgl = pd.read_csv(os.path.join(raw_fold, file_name), low_memory=False, usecols=ch_col.keys())\n",
    "cs_dglr = cs_dgl.rename(columns=ch_col)\n",
    "cs_dglr.info()"
   ]
  },
  {
   "cell_type": "code",
   "execution_count": 698,
   "metadata": {},
   "outputs": [
    {
     "data": {
      "text/plain": [
       "0"
      ]
     },
     "execution_count": 698,
     "metadata": {},
     "output_type": "execute_result"
    }
   ],
   "source": [
    "cs_dglr['차명'].isnull().sum()"
   ]
  },
  {
   "cell_type": "code",
   "execution_count": 490,
   "metadata": {},
   "outputs": [
    {
     "data": {
      "text/plain": [
       "array(['A0505', 'A0503', 'A0504', nan], dtype=object)"
      ]
     },
     "execution_count": 490,
     "metadata": {},
     "output_type": "execute_result"
    }
   ],
   "source": [
    "cs_dglr['배출가스등급'].unique()"
   ]
  },
  {
   "cell_type": "code",
   "execution_count": 491,
   "metadata": {},
   "outputs": [
    {
     "data": {
      "text/plain": [
       "array(['5', '3', '4', nan], dtype=object)"
      ]
     },
     "execution_count": 491,
     "metadata": {},
     "output_type": "execute_result"
    }
   ],
   "source": [
    "## 배출가스등급 코드 변환\n",
    "grd_dict = {\n",
    "    'A0501':'1', \n",
    "    'A0502':'2', \n",
    "    'A0503':'3', \n",
    "    'A0504':'4', \n",
    "    'A0505':'5', \n",
    "    'A05T2':'2',\n",
    "    'A05T3':'3', \n",
    "    'A05T4':'4', \n",
    "    'A05T5':'5', \n",
    "    'A05X':'X', \n",
    "}\n",
    "cs_dglr['배출가스등급'] = cs_dglr['배출가스등급'].replace(grd_dict)\n",
    "cs_dglr['배출가스등급'].unique()"
   ]
  },
  {
   "cell_type": "code",
   "execution_count": 492,
   "metadata": {},
   "outputs": [
    {
     "data": {
      "text/plain": [
       "array(['화물', '승용', '승합', '특수'], dtype=object)"
      ]
     },
     "execution_count": 492,
     "metadata": {},
     "output_type": "execute_result"
    }
   ],
   "source": [
    "# 4.0s\n",
    "## 차종 코드 변환\n",
    "cd_dict = {\n",
    "    'A31M':'이륜', \n",
    "    'A31P':'승용', \n",
    "    'A31S':'특수', \n",
    "    'A31T':'화물', \n",
    "    'A31V':'승합'\n",
    "}\n",
    "cs_dglr['차종'] = cs_dglr['차종'].replace(cd_dict)\n",
    "cs_dglr['차종'].unique()"
   ]
  },
  {
   "cell_type": "code",
   "execution_count": 493,
   "metadata": {},
   "outputs": [
    {
     "data": {
      "text/plain": [
       "array(['개인용', '영업용', '관용'], dtype=object)"
      ]
     },
     "execution_count": 493,
     "metadata": {},
     "output_type": "execute_result"
    }
   ],
   "source": [
    "## 용도 코드 변환\n",
    "purps_dict = {\n",
    "    'A08P':'개인용', \n",
    "    'A08B':'영업용', \n",
    "    'A08O':'관용',\n",
    "}\n",
    "cs_dglr['용도'] = cs_dglr['용도'].replace(purps_dict)\n",
    "cs_dglr['용도'].unique()"
   ]
  },
  {
   "cell_type": "code",
   "execution_count": 494,
   "metadata": {},
   "outputs": [
    {
     "data": {
      "text/plain": [
       "array(['경유', '경유 하이브리드'], dtype=object)"
      ]
     },
     "execution_count": 494,
     "metadata": {},
     "output_type": "execute_result"
    }
   ],
   "source": [
    "# 7.9s\n",
    "## 연료 코드 변환\n",
    "fuel_dict = {\n",
    "    'A90GS':'휘발유', \n",
    "    'A91DS':'경유',\n",
    "    'A92LP':'LPG(액화석유가스)', \n",
    "    'A90GH':'휘발유 하이브리드', \n",
    "    'A93EV':'전기', \n",
    "    'A91DH':'경유 하이브리드', \n",
    "    'A92CN':'CNG(압축천연가스)', \n",
    "    'A93HD':'수소', \n",
    "    'A92LH':'LPG 하이브리드', \n",
    "    'A94OT':'기타연료', \n",
    "    'A92CH':'CNG 하이브리드',\n",
    "    'A90AC':'알코올', \n",
    "    'A93SH':'태양열', \n",
    "    'A91KS':'등유', \n",
    "    'A92LN':'LNG(액화천연가스)', \n",
    "    'A90PH':'플러그인 하이브리드', \n",
    "}\n",
    "cs_dglr['연료'] = cs_dglr['연료'].replace(fuel_dict)\n",
    "cs_dglr['연료'].unique()"
   ]
  },
  {
   "cell_type": "code",
   "execution_count": 495,
   "metadata": {},
   "outputs": [],
   "source": [
    "# ## 차종유형 코드 변환\n",
    "# ty_dict = {\n",
    "#     'A30C':'경형', \n",
    "#     'A30L':'대형', \n",
    "#     'A30M':'중형', \n",
    "#     'A30S':'소형',\n",
    "# }\n",
    "# cs_dglr['차종유형'] = cs_dglr['차종유형'].replace(ty_dict)"
   ]
  },
  {
   "cell_type": "code",
   "execution_count": 496,
   "metadata": {},
   "outputs": [
    {
     "data": {
      "text/plain": [
       "(11905778, 16)"
      ]
     },
     "execution_count": 496,
     "metadata": {},
     "output_type": "execute_result"
    }
   ],
   "source": [
    "cs_dglr.shape"
   ]
  },
  {
   "cell_type": "markdown",
   "metadata": {},
   "source": [
    "## 등록정보"
   ]
  },
  {
   "cell_type": "code",
   "execution_count": 14,
   "metadata": {},
   "outputs": [],
   "source": [
    "# # 1m 21.8s\n",
    "# name = 'ods_ceg_car_mid'\n",
    "# file_name = f'{name}.csv'\n",
    "# # STD\n",
    "# ch_col = {\n",
    "#     'VIN':'차대번호', \n",
    "#     'EXHST_GAS_GRD_CD':'배출가스등급', \n",
    "#     'EXHST_GAS_CERT_NO':'배출가스인증번호',\n",
    "#     'VHCL_ERSR_YN':'차량말소유무',\n",
    "#     'MANP_MNG_NO':'제원관리번호', \n",
    "#     'YRIDNW':'연식', \n",
    "#     'VHCTY_CD':'차종', \n",
    "#     'PURPS_CD2':'용도', \n",
    "#     'FRST_REG_YMD':'최초등록일자',\n",
    "\n",
    "#     # 'BSPL_STDG_CD':'법정동코드', \n",
    "#     # 'VHRNO':'자동차등록번호',\n",
    "#     # 'VHCL_FBCTN_YMD':'제작일자', \n",
    "#     # 'VHCL_MNG_NO':'차량관리번호', \n",
    "#     # 'EXTGAS_INSP_VLD_YMD':'검사유효일',\n",
    "#     # 'VHCL_OWNR_CL_CD':'소유자구분', \n",
    "# }\n",
    "\n",
    "# # ODS\n",
    "# ch_col = {\n",
    "#     'VIN':'차대번호', \n",
    "#     'EMIS_GRD':'배출가스등급', \n",
    "#     'EMIS_CRTCNO':'배출가스인증번호',\n",
    "#     'VHCL_ERSR_YN':'차량말소유무',\n",
    "#     'SRCMNNO':'제원관리번호', \n",
    "#     'VHCL_YRIDNW':'연식', \n",
    "#     'VHCTY':'차종', \n",
    "#     'PURPS':'용도', \n",
    "#     'FST_REG_DE':'최초등록일자',\n",
    "\n",
    "#     # 'BSPL_LEDO_CD':'법정동코드', \n",
    "#     # 'VHRNO':'자동차등록번호',\n",
    "#     # 'VHCL_MNFCT_DE':'제작일자', \n",
    "#     # 'VHMNO':'차량관리번호', \n",
    "#     # 'EMIS_INSP_EFCT_DE':'검사유효일',\n",
    "#     # 'OWNR_SE':'소유자구분', \n",
    "# }\n",
    "# car = pd.read_csv(os.path.join(raw_fold, file_name), low_memory=False, usecols=ch_col.keys())\n",
    "# carr = car.rename(columns=ch_col)\n",
    "# carr.info()"
   ]
  },
  {
   "cell_type": "code",
   "execution_count": 15,
   "metadata": {},
   "outputs": [],
   "source": [
    "# carr.columns"
   ]
  },
  {
   "cell_type": "code",
   "execution_count": 16,
   "metadata": {},
   "outputs": [],
   "source": [
    "# carr['배출가스등급'].unique()"
   ]
  },
  {
   "cell_type": "code",
   "execution_count": 17,
   "metadata": {},
   "outputs": [],
   "source": [
    "# ## 배출가스등급 코드 변환\n",
    "# grd_dict = {\n",
    "#     'A0501':'1', \n",
    "#     'A0502':'2', \n",
    "#     'A0503':'3', \n",
    "#     'A0504':'4', \n",
    "#     'A0505':'5', \n",
    "#     'A05T2':'2',\n",
    "#     'A05T3':'3', \n",
    "#     'A05T4':'4', \n",
    "#     'A05T5':'5', \n",
    "#     'A05X':'X', \n",
    "# }\n",
    "# carr['배출가스등급'] = carr['배출가스등급'].replace(grd_dict)\n",
    "# carr['배출가스등급'].unique()"
   ]
  },
  {
   "cell_type": "code",
   "execution_count": 18,
   "metadata": {},
   "outputs": [],
   "source": [
    "# # 4.0s\n",
    "# ## 차종 코드 변환\n",
    "# cd_dict = {\n",
    "#     'A31M':'이륜', \n",
    "#     'A31P':'승용', \n",
    "#     'A31S':'특수', \n",
    "#     'A31T':'화물', \n",
    "#     'A31V':'승합'\n",
    "# }\n",
    "# carr['차종'] = carr['차종'].replace(cd_dict)\n",
    "# carr['차종'].unique()"
   ]
  },
  {
   "cell_type": "code",
   "execution_count": 19,
   "metadata": {},
   "outputs": [],
   "source": [
    "# ## 용도 코드 변환\n",
    "# purps_dict = {\n",
    "#     'A08P':'개인용', \n",
    "#     'A08B':'영업용', \n",
    "#     'A08O':'관용',\n",
    "# }\n",
    "# carr['용도'] = carr['용도'].replace(purps_dict)\n",
    "# carr['용도'].unique()"
   ]
  },
  {
   "cell_type": "code",
   "execution_count": 20,
   "metadata": {},
   "outputs": [],
   "source": [
    "# carr.shape"
   ]
  },
  {
   "cell_type": "code",
   "execution_count": 21,
   "metadata": {},
   "outputs": [],
   "source": [
    "# # 차대번호 중복 제거\n",
    "# carr['최초등록일자'] = pd.to_numeric(carr['최초등록일자'], errors='coerce')\n",
    "# carr['최초등록일자'].dtype\n",
    "# # 19.4s\n",
    "# carm = carr.sort_values('최초등록일자', ascending=False).drop_duplicates('차대번호').reset_index(drop=True)\n",
    "# carm.shape"
   ]
  },
  {
   "cell_type": "markdown",
   "metadata": {},
   "source": [
    "## 제원정보"
   ]
  },
  {
   "cell_type": "code",
   "execution_count": 22,
   "metadata": {},
   "outputs": [],
   "source": [
    "# # 1m 21.8s\n",
    "# name = 'ods_ceg_car_src_mig'\n",
    "# file_name = f'{name}.csv'\n",
    "# # STD\n",
    "# ch_col = {\n",
    "#     'MANP_MNG_NO':'제원관리번호', \n",
    "#     'FUEL_CD':'연료',\n",
    "#     'VHCTY_TY_CD2':'차종유형', \n",
    "#     'MNFCTR_NM':'제작사명', \n",
    "#     'VHCNM':'차명', \n",
    "#     'VHCL_FRM':'자동차형식', \n",
    "#     'EGIN_TY':'엔진형식', \n",
    "#     'TOTL_WGHT':'총중량',\n",
    "\n",
    "#     # 'VHCTY_CL_CD':'차종분류',\n",
    "#     # 'CRYNG_WGHT':'적재중량',\n",
    "#     # 'DSPLVL':'배기량', \n",
    "#     # 'EGIN_OTPT':'엔진출력', \n",
    "# }\n",
    "\n",
    "# # ODS\n",
    "# ch_col = {\n",
    "#     'SRCMNNO':'제원관리번호', \n",
    "#     'FUEL':'연료',\n",
    "#     'VHCTY_TY':'차종유형', \n",
    "#     'MKR_NM':'제작사명', \n",
    "#     'VHCNM':'차명', \n",
    "#     'CAR_FRM':'자동차형식', \n",
    "#     'EGINTY':'엔진형식', \n",
    "#     'TOT_WGHT':'총중량',\n",
    "\n",
    "#     # 'VHCTY_CL':'차종분류',\n",
    "#     # 'CRYNG_WGHT':'적재중량',\n",
    "#     # 'DSPLVL':'배기량', \n",
    "#     # 'EGINPWR':'엔진출력', \n",
    "# }\n",
    "# src = pd.read_csv(os.path.join(raw_fold, file_name), low_memory=False, usecols=ch_col.keys())\n",
    "# srcr = src.rename(columns=ch_col)\n",
    "# srcr.info()"
   ]
  },
  {
   "cell_type": "code",
   "execution_count": 23,
   "metadata": {},
   "outputs": [],
   "source": [
    "# # 7.9s\n",
    "# ## 연료 코드 변환\n",
    "# fuel_dict = {\n",
    "#     'A90GS':'휘발유', \n",
    "#     'A91DS':'경유',\n",
    "#     'A92LP':'LPG(액화석유가스)', \n",
    "#     'A90GH':'휘발유 하이브리드', \n",
    "#     'A93EV':'전기', \n",
    "#     'A91DH':'경유 하이브리드', \n",
    "#     'A92CN':'CNG(압축천연가스)', \n",
    "#     'A93HD':'수소', \n",
    "#     'A92LH':'LPG 하이브리드', \n",
    "#     'A94OT':'기타연료', \n",
    "#     'A92CH':'CNG 하이브리드',\n",
    "#     'A90AC':'알코올', \n",
    "#     'A93SH':'태양열', \n",
    "#     'A91KS':'등유', \n",
    "#     'A92LN':'LNG(액화천연가스)', \n",
    "#     'A90PH':'플러그인 하이브리드', \n",
    "# }\n",
    "# srcr['연료'] = srcr['연료'].replace(fuel_dict)\n",
    "# srcr['연료'].unique()"
   ]
  },
  {
   "cell_type": "code",
   "execution_count": 24,
   "metadata": {},
   "outputs": [],
   "source": [
    "# ## 차종유형 코드 변환\n",
    "# ty_dict = {\n",
    "#     'A30C':'경형', \n",
    "#     'A30L':'대형', \n",
    "#     'A30M':'중형', \n",
    "#     'A30S':'소형',\n",
    "# }\n",
    "# srcr['차종유형'] = srcr['차종유형'].replace(ty_dict)"
   ]
  },
  {
   "cell_type": "markdown",
   "metadata": {},
   "source": [
    "## 등록&제원 병합"
   ]
  },
  {
   "cell_type": "code",
   "execution_count": 25,
   "metadata": {},
   "outputs": [],
   "source": [
    "# srcr.shape, len(srcr['제원관리번호'].unique())"
   ]
  },
  {
   "cell_type": "code",
   "execution_count": 26,
   "metadata": {},
   "outputs": [],
   "source": [
    "# carm.shape, len(carm['차대번호'].unique())"
   ]
  },
  {
   "cell_type": "code",
   "execution_count": 27,
   "metadata": {},
   "outputs": [],
   "source": [
    "# cs = carm.merge(srcr, on='제원관리번호', how='left')\n",
    "# cs.shape"
   ]
  },
  {
   "cell_type": "markdown",
   "metadata": {},
   "source": [
    "## 경유차량, 말소제거, 중복차대 제거"
   ]
  },
  {
   "cell_type": "code",
   "execution_count": 497,
   "metadata": {},
   "outputs": [],
   "source": [
    "cs = cs_dglr.copy()"
   ]
  },
  {
   "cell_type": "code",
   "execution_count": 498,
   "metadata": {},
   "outputs": [
    {
     "data": {
      "text/plain": [
       "(11905778, 16)"
      ]
     },
     "execution_count": 498,
     "metadata": {},
     "output_type": "execute_result"
    }
   ],
   "source": [
    "cs.shape"
   ]
  },
  {
   "cell_type": "code",
   "execution_count": 499,
   "metadata": {},
   "outputs": [
    {
     "data": {
      "text/plain": [
       "(11902152, 16)"
      ]
     },
     "execution_count": 499,
     "metadata": {},
     "output_type": "execute_result"
    }
   ],
   "source": [
    "# 차대번호 중복 제거\n",
    "cs['최초등록일자'] = pd.to_numeric(cs['최초등록일자'], errors='coerce')\n",
    "cs['최초등록일자'].dtype\n",
    "# 19.4s\n",
    "cs = cs.sort_values('최초등록일자', ascending=False).drop_duplicates('차대번호').reset_index(drop=True)\n",
    "cs.shape"
   ]
  },
  {
   "cell_type": "code",
   "execution_count": 500,
   "metadata": {},
   "outputs": [
    {
     "data": {
      "text/html": [
       "<div>\n",
       "<style scoped>\n",
       "    .dataframe tbody tr th:only-of-type {\n",
       "        vertical-align: middle;\n",
       "    }\n",
       "\n",
       "    .dataframe tbody tr th {\n",
       "        vertical-align: top;\n",
       "    }\n",
       "\n",
       "    .dataframe thead th {\n",
       "        text-align: right;\n",
       "    }\n",
       "</style>\n",
       "<table border=\"1\" class=\"dataframe\">\n",
       "  <thead>\n",
       "    <tr style=\"text-align: right;\">\n",
       "      <th></th>\n",
       "      <th>연료</th>\n",
       "      <th>차량말소유무</th>\n",
       "      <th>차대번호</th>\n",
       "    </tr>\n",
       "  </thead>\n",
       "  <tbody>\n",
       "    <tr>\n",
       "      <th>0</th>\n",
       "      <td>경유</td>\n",
       "      <td>N</td>\n",
       "      <td>9533735</td>\n",
       "    </tr>\n",
       "    <tr>\n",
       "      <th>1</th>\n",
       "      <td>경유</td>\n",
       "      <td>Y</td>\n",
       "      <td>2316604</td>\n",
       "    </tr>\n",
       "    <tr>\n",
       "      <th>2</th>\n",
       "      <td>경유 하이브리드</td>\n",
       "      <td>N</td>\n",
       "      <td>48708</td>\n",
       "    </tr>\n",
       "    <tr>\n",
       "      <th>3</th>\n",
       "      <td>경유 하이브리드</td>\n",
       "      <td>Y</td>\n",
       "      <td>3105</td>\n",
       "    </tr>\n",
       "  </tbody>\n",
       "</table>\n",
       "</div>"
      ],
      "text/plain": [
       "         연료 차량말소유무     차대번호\n",
       "0        경유      N  9533735\n",
       "1        경유      Y  2316604\n",
       "2  경유 하이브리드      N    48708\n",
       "3  경유 하이브리드      Y     3105"
      ]
     },
     "execution_count": 500,
     "metadata": {},
     "output_type": "execute_result"
    }
   ],
   "source": [
    "cs.groupby(['연료', '차량말소유무'], dropna=False)['차대번호'].count().reset_index()"
   ]
  },
  {
   "cell_type": "code",
   "execution_count": 501,
   "metadata": {},
   "outputs": [
    {
     "data": {
      "text/plain": [
       "(9533735, 16)"
      ]
     },
     "execution_count": 501,
     "metadata": {},
     "output_type": "execute_result"
    }
   ],
   "source": [
    "# 5.0s\n",
    "csm = cs[(cs['연료'] == '경유') & (cs['차량말소유무'] == 'N')].reset_index(drop=True)\n",
    "csm.shape"
   ]
  },
  {
   "cell_type": "markdown",
   "metadata": {},
   "source": [
    "## 저감장치 부착이력"
   ]
  },
  {
   "cell_type": "code",
   "execution_count": 33,
   "metadata": {},
   "outputs": [
    {
     "name": "stdout",
     "output_type": "stream",
     "text": [
      "Index(['차대번호', '저감장치구분'], dtype='object')\n",
      "data load : STD_DLM_TB_ERP_ATT_HIS\n"
     ]
    }
   ],
   "source": [
    "# 3.0s\n",
    "att = wd.export_to_pandas(\"SELECT VIN, RDCDVC_SE_CD FROM STD_DLM_TB_ERP_ATT_HIS;\")\n",
    "# STD\n",
    "att_ch_col = {\n",
    "    'VIN':'차대번호', \n",
    "    'RDCDVC_SE_CD':'저감장치구분',\n",
    "    # 'RDCDVC_KND_CD':'저감장치종류',\n",
    "}\n",
    "\n",
    "# # ODS\n",
    "# att_ch_col = {\n",
    "#     'VIN':'차대번호', \n",
    "#     'RDCDVC_SE':'저감장치구분',\n",
    "#     # 'RDCDVC_KND':'저감장치종류',\n",
    "# }\n",
    "attr = att.rename(columns=att_ch_col)\n",
    "print(attr.columns)\n",
    "print('data load : STD_DLM_TB_ERP_ATT_HIS')"
   ]
  },
  {
   "cell_type": "code",
   "execution_count": 34,
   "metadata": {},
   "outputs": [
    {
     "data": {
      "text/plain": [
       "array(['1종', '3종', '엔진개조', '2종', '엔진교체', '삼원촉매', '1종+SCR'], dtype=object)"
      ]
     },
     "execution_count": 34,
     "metadata": {},
     "output_type": "execute_result"
    }
   ],
   "source": [
    "rdcdvc_dict = {\n",
    "    'A1001':'1종', \n",
    "    'A1002':'2종', \n",
    "    'A1003':'3종', \n",
    "    'A1004':'1종+SCR', \n",
    "    'A1005':'엔진개조', \n",
    "    'A1006':'엔진교체',\n",
    "    'A1007':'삼원촉매',\n",
    "}\n",
    "attr['저감장치구분'] = attr['저감장치구분'].replace(rdcdvc_dict)\n",
    "attr['저감장치구분'].unique()"
   ]
  },
  {
   "cell_type": "code",
   "execution_count": 35,
   "metadata": {},
   "outputs": [
    {
     "data": {
      "text/plain": [
       "((1015941, 2), 1014369)"
      ]
     },
     "execution_count": 35,
     "metadata": {},
     "output_type": "execute_result"
    }
   ],
   "source": [
    "attr.shape, len(attr['차대번호'].unique())"
   ]
  },
  {
   "cell_type": "code",
   "execution_count": 36,
   "metadata": {},
   "outputs": [
    {
     "data": {
      "text/plain": [
       "['1종', '1종+SCR', '2종', '3종', '삼원촉매', '엔진개조', '엔진교체']"
      ]
     },
     "execution_count": 36,
     "metadata": {},
     "output_type": "execute_result"
    }
   ],
   "source": [
    "sorted(['1종', '3종', '엔진개조', '2종', '엔진교체', '삼원촉매', '1종+SCR'])"
   ]
  },
  {
   "cell_type": "code",
   "execution_count": 37,
   "metadata": {},
   "outputs": [
    {
     "data": {
      "text/html": [
       "<div>\n",
       "<style scoped>\n",
       "    .dataframe tbody tr th:only-of-type {\n",
       "        vertical-align: middle;\n",
       "    }\n",
       "\n",
       "    .dataframe tbody tr th {\n",
       "        vertical-align: top;\n",
       "    }\n",
       "\n",
       "    .dataframe thead th {\n",
       "        text-align: right;\n",
       "    }\n",
       "</style>\n",
       "<table border=\"1\" class=\"dataframe\">\n",
       "  <thead>\n",
       "    <tr style=\"text-align: right;\">\n",
       "      <th></th>\n",
       "      <th>차대번호</th>\n",
       "      <th>저감장치구분</th>\n",
       "    </tr>\n",
       "  </thead>\n",
       "  <tbody>\n",
       "    <tr>\n",
       "      <th>0</th>\n",
       "      <td>KL2UR52FDXP016197</td>\n",
       "      <td>1종</td>\n",
       "    </tr>\n",
       "    <tr>\n",
       "      <th>719912</th>\n",
       "      <td>KMHMJ81VP7U291509</td>\n",
       "      <td>1종</td>\n",
       "    </tr>\n",
       "    <tr>\n",
       "      <th>719913</th>\n",
       "      <td>KMFZSN7JP7U290144</td>\n",
       "      <td>1종</td>\n",
       "    </tr>\n",
       "    <tr>\n",
       "      <th>719914</th>\n",
       "      <td>KMFZCS7HP7U256498</td>\n",
       "      <td>1종</td>\n",
       "    </tr>\n",
       "    <tr>\n",
       "      <th>719917</th>\n",
       "      <td>KMFWVH7HP7U825459</td>\n",
       "      <td>1종</td>\n",
       "    </tr>\n",
       "  </tbody>\n",
       "</table>\n",
       "</div>"
      ],
      "text/plain": [
       "                     차대번호 저감장치구분\n",
       "0       KL2UR52FDXP016197     1종\n",
       "719912  KMHMJ81VP7U291509     1종\n",
       "719913  KMFZSN7JP7U290144     1종\n",
       "719914  KMFZCS7HP7U256498     1종\n",
       "719917  KMFWVH7HP7U825459     1종"
      ]
     },
     "execution_count": 37,
     "metadata": {},
     "output_type": "execute_result"
    }
   ],
   "source": [
    "attr.sort_values('저감장치구분').head()"
   ]
  },
  {
   "cell_type": "code",
   "execution_count": 38,
   "metadata": {},
   "outputs": [
    {
     "data": {
      "text/plain": [
       "(1014369, 2)"
      ]
     },
     "execution_count": 38,
     "metadata": {},
     "output_type": "execute_result"
    }
   ],
   "source": [
    "# 차대번호 중복 제거\n",
    "attm = attr.sort_values('저감장치구분').drop_duplicates('차대번호').reset_index(drop=True)\n",
    "attm.shape"
   ]
  },
  {
   "cell_type": "markdown",
   "metadata": {},
   "source": [
    "## 인증대장"
   ]
  },
  {
   "cell_type": "code",
   "execution_count": 39,
   "metadata": {},
   "outputs": [
    {
     "name": "stdout",
     "output_type": "stream",
     "text": [
      "<class 'pandas.core.frame.DataFrame'>\n",
      "RangeIndex: 43 entries, 0 to 42\n",
      "Data columns (total 15 columns):\n",
      " #   Column      Non-Null Count  Dtype  \n",
      "---  ------      --------------  -----  \n",
      " 0   제작사         42 non-null     object \n",
      " 1   차명          42 non-null     object \n",
      " 2   자동차형식       42 non-null     object \n",
      " 3   엔진형식        42 non-null     object \n",
      " 4   배기량         42 non-null     float64\n",
      " 5   최대출력        43 non-null     object \n",
      " 6   Unnamed: 6  43 non-null     object \n",
      " 7   변속기         42 non-null     object \n",
      " 8   총중량         42 non-null     object \n",
      " 9   공차중량        42 non-null     object \n",
      " 10  제작사.1       42 non-null     object \n",
      " 11  제작국         42 non-null     object \n",
      " 12  인증번호        43 non-null     object \n",
      " 13  인증일자        43 non-null     object \n",
      " 14  비고          42 non-null     object \n",
      "dtypes: float64(1), object(14)\n",
      "memory usage: 5.2+ KB\n"
     ]
    }
   ],
   "source": [
    "name = '인증대장(대형)_SCR_적용차종(EURO 4, 5)'\n",
    "file_name = f'{name}.xlsx'\n",
    "l45 = pd.read_excel(os.path.join(raw_fold, file_name))\n",
    "l45.info()"
   ]
  },
  {
   "cell_type": "code",
   "execution_count": 40,
   "metadata": {},
   "outputs": [
    {
     "data": {
      "text/plain": [
       "Index(['제작사1', '차명', '자동차형식', '엔진형식', '배기량', '최대출력_PS', '최대출력_RPM', '변속기',\n",
       "       '총중량', '공차중량', '제작사2', '제작국', '인증번호', '인증일자', '비고'],\n",
       "      dtype='object')"
      ]
     },
     "execution_count": 40,
     "metadata": {},
     "output_type": "execute_result"
    }
   ],
   "source": [
    "l45_col = [\n",
    "    '제작사1',\n",
    "    '차명',\n",
    "    '자동차형식',\n",
    "    '엔진형식',\n",
    "    '배기량',\n",
    "    '최대출력_PS',\n",
    "    '최대출력_RPM',\n",
    "    '변속기',\n",
    "    '총중량',\n",
    "    '공차중량',\n",
    "    '제작사2',\n",
    "    '제작국',\n",
    "    '인증번호',\n",
    "    '인증일자',\n",
    "    '비고',\n",
    "]\n",
    "l45.columns = l45_col\n",
    "l45.columns"
   ]
  },
  {
   "cell_type": "code",
   "execution_count": 41,
   "metadata": {},
   "outputs": [
    {
     "data": {
      "text/plain": [
       "(43, 15)"
      ]
     },
     "execution_count": 41,
     "metadata": {},
     "output_type": "execute_result"
    }
   ],
   "source": [
    "l45.shape"
   ]
  },
  {
   "cell_type": "code",
   "execution_count": 42,
   "metadata": {},
   "outputs": [
    {
     "data": {
      "text/html": [
       "<div>\n",
       "<style scoped>\n",
       "    .dataframe tbody tr th:only-of-type {\n",
       "        vertical-align: middle;\n",
       "    }\n",
       "\n",
       "    .dataframe tbody tr th {\n",
       "        vertical-align: top;\n",
       "    }\n",
       "\n",
       "    .dataframe thead th {\n",
       "        text-align: right;\n",
       "    }\n",
       "</style>\n",
       "<table border=\"1\" class=\"dataframe\">\n",
       "  <thead>\n",
       "    <tr style=\"text-align: right;\">\n",
       "      <th></th>\n",
       "      <th>제작사1</th>\n",
       "      <th>차명</th>\n",
       "      <th>자동차형식</th>\n",
       "      <th>엔진형식</th>\n",
       "      <th>배기량</th>\n",
       "      <th>최대출력_PS</th>\n",
       "      <th>최대출력_RPM</th>\n",
       "      <th>변속기</th>\n",
       "      <th>총중량</th>\n",
       "      <th>공차중량</th>\n",
       "      <th>제작사2</th>\n",
       "      <th>제작국</th>\n",
       "      <th>인증번호</th>\n",
       "      <th>인증일자</th>\n",
       "      <th>비고</th>\n",
       "    </tr>\n",
       "  </thead>\n",
       "  <tbody>\n",
       "    <tr>\n",
       "      <th>0</th>\n",
       "      <td>NaN</td>\n",
       "      <td>NaN</td>\n",
       "      <td>NaN</td>\n",
       "      <td>NaN</td>\n",
       "      <td>NaN</td>\n",
       "      <td>PS</td>\n",
       "      <td>RPM</td>\n",
       "      <td>NaN</td>\n",
       "      <td>NaN</td>\n",
       "      <td>NaN</td>\n",
       "      <td>NaN</td>\n",
       "      <td>NaN</td>\n",
       "      <td>배출</td>\n",
       "      <td>배출</td>\n",
       "      <td>NaN</td>\n",
       "    </tr>\n",
       "    <tr>\n",
       "      <th>1</th>\n",
       "      <td>현대자동차</td>\n",
       "      <td>현대25.5톤덤프트럭</td>\n",
       "      <td>HD255-YDU0-DHECA</td>\n",
       "      <td>D6CE</td>\n",
       "      <td>12742.0</td>\n",
       "      <td>520</td>\n",
       "      <td>1700</td>\n",
       "      <td>자동12단</td>\n",
       "      <td>38730</td>\n",
       "      <td>13230</td>\n",
       "      <td>현대자동차</td>\n",
       "      <td>한국</td>\n",
       "      <td>AMY-HD-14-35</td>\n",
       "      <td>2010-07-19 00:00:00</td>\n",
       "      <td>유로5</td>\n",
       "    </tr>\n",
       "    <tr>\n",
       "      <th>2</th>\n",
       "      <td>타타대우</td>\n",
       "      <td>대우25톤장축카고트럭</td>\n",
       "      <td>BT9CC1</td>\n",
       "      <td>DV11</td>\n",
       "      <td>10964.0</td>\n",
       "      <td>440</td>\n",
       "      <td>1900</td>\n",
       "      <td>수동16단</td>\n",
       "      <td>38800</td>\n",
       "      <td>13670</td>\n",
       "      <td>타타대우상용차</td>\n",
       "      <td>한국</td>\n",
       "      <td>7MY-DC-23-70</td>\n",
       "      <td>2007-12-18 00:00:00</td>\n",
       "      <td>유로4</td>\n",
       "    </tr>\n",
       "    <tr>\n",
       "      <th>3</th>\n",
       "      <td>타타대우</td>\n",
       "      <td>대우5톤초장축카고트럭</td>\n",
       "      <td>BC4AH1</td>\n",
       "      <td>F4AE3681D</td>\n",
       "      <td>5880.0</td>\n",
       "      <td>251</td>\n",
       "      <td>2700</td>\n",
       "      <td>수동6단</td>\n",
       "      <td>11415</td>\n",
       "      <td>6285</td>\n",
       "      <td>타타대우상용차</td>\n",
       "      <td>한국</td>\n",
       "      <td>7MY-DC-23-72</td>\n",
       "      <td>2007-12-18 00:00:00</td>\n",
       "      <td>유로4</td>\n",
       "    </tr>\n",
       "    <tr>\n",
       "      <th>4</th>\n",
       "      <td>타타대우</td>\n",
       "      <td>대우5톤초장축카고트럭</td>\n",
       "      <td>BC4AT1</td>\n",
       "      <td>DL06</td>\n",
       "      <td>5890.0</td>\n",
       "      <td>270</td>\n",
       "      <td>2500</td>\n",
       "      <td>수동6단</td>\n",
       "      <td>11500</td>\n",
       "      <td>6370</td>\n",
       "      <td>타타대우상용차</td>\n",
       "      <td>한국</td>\n",
       "      <td>8MY-DC-24-12</td>\n",
       "      <td>2008-05-21 00:00:00</td>\n",
       "      <td>유로4</td>\n",
       "    </tr>\n",
       "  </tbody>\n",
       "</table>\n",
       "</div>"
      ],
      "text/plain": [
       "    제작사1           차명             자동차형식       엔진형식      배기량 최대출력_PS 최대출력_RPM  \\\n",
       "0    NaN          NaN               NaN        NaN      NaN      PS      RPM   \n",
       "1  현대자동차  현대25.5톤덤프트럭  HD255-YDU0-DHECA       D6CE  12742.0     520     1700   \n",
       "2   타타대우  대우25톤장축카고트럭            BT9CC1       DV11  10964.0     440     1900   \n",
       "3   타타대우  대우5톤초장축카고트럭            BC4AH1  F4AE3681D   5880.0     251     2700   \n",
       "4   타타대우  대우5톤초장축카고트럭            BC4AT1       DL06   5890.0     270     2500   \n",
       "\n",
       "     변속기    총중량   공차중량     제작사2  제작국          인증번호                 인증일자   비고  \n",
       "0    NaN    NaN    NaN      NaN  NaN            배출                   배출  NaN  \n",
       "1  자동12단  38730  13230    현대자동차   한국  AMY-HD-14-35  2010-07-19 00:00:00  유로5  \n",
       "2  수동16단  38800  13670  타타대우상용차   한국  7MY-DC-23-70  2007-12-18 00:00:00  유로4  \n",
       "3   수동6단  11415   6285  타타대우상용차   한국  7MY-DC-23-72  2007-12-18 00:00:00  유로4  \n",
       "4   수동6단  11500   6370  타타대우상용차   한국  8MY-DC-24-12  2008-05-21 00:00:00  유로4  "
      ]
     },
     "execution_count": 42,
     "metadata": {},
     "output_type": "execute_result"
    }
   ],
   "source": [
    "l45.head()"
   ]
  },
  {
   "cell_type": "code",
   "execution_count": 43,
   "metadata": {},
   "outputs": [
    {
     "data": {
      "text/html": [
       "<div>\n",
       "<style scoped>\n",
       "    .dataframe tbody tr th:only-of-type {\n",
       "        vertical-align: middle;\n",
       "    }\n",
       "\n",
       "    .dataframe tbody tr th {\n",
       "        vertical-align: top;\n",
       "    }\n",
       "\n",
       "    .dataframe thead th {\n",
       "        text-align: right;\n",
       "    }\n",
       "</style>\n",
       "<table border=\"1\" class=\"dataframe\">\n",
       "  <thead>\n",
       "    <tr style=\"text-align: right;\">\n",
       "      <th></th>\n",
       "      <th>제작사1</th>\n",
       "      <th>차명</th>\n",
       "      <th>자동차형식</th>\n",
       "      <th>엔진형식</th>\n",
       "      <th>배기량</th>\n",
       "      <th>최대출력_PS</th>\n",
       "      <th>최대출력_RPM</th>\n",
       "      <th>변속기</th>\n",
       "      <th>총중량</th>\n",
       "      <th>공차중량</th>\n",
       "      <th>제작사2</th>\n",
       "      <th>제작국</th>\n",
       "      <th>인증번호</th>\n",
       "      <th>인증일자</th>\n",
       "      <th>비고</th>\n",
       "    </tr>\n",
       "  </thead>\n",
       "  <tbody>\n",
       "    <tr>\n",
       "      <th>0</th>\n",
       "      <td>현대자동차</td>\n",
       "      <td>현대25.5톤덤프트럭</td>\n",
       "      <td>HD255-YDU0-DHECA</td>\n",
       "      <td>D6CE</td>\n",
       "      <td>12742.0</td>\n",
       "      <td>520</td>\n",
       "      <td>1700</td>\n",
       "      <td>자동12단</td>\n",
       "      <td>38730</td>\n",
       "      <td>13230</td>\n",
       "      <td>현대자동차</td>\n",
       "      <td>한국</td>\n",
       "      <td>AMY-HD-14-35</td>\n",
       "      <td>2010-07-19 00:00:00</td>\n",
       "      <td>유로5</td>\n",
       "    </tr>\n",
       "    <tr>\n",
       "      <th>1</th>\n",
       "      <td>타타대우</td>\n",
       "      <td>대우25톤장축카고트럭</td>\n",
       "      <td>BT9CC1</td>\n",
       "      <td>DV11</td>\n",
       "      <td>10964.0</td>\n",
       "      <td>440</td>\n",
       "      <td>1900</td>\n",
       "      <td>수동16단</td>\n",
       "      <td>38800</td>\n",
       "      <td>13670</td>\n",
       "      <td>타타대우상용차</td>\n",
       "      <td>한국</td>\n",
       "      <td>7MY-DC-23-70</td>\n",
       "      <td>2007-12-18 00:00:00</td>\n",
       "      <td>유로4</td>\n",
       "    </tr>\n",
       "    <tr>\n",
       "      <th>2</th>\n",
       "      <td>타타대우</td>\n",
       "      <td>대우5톤초장축카고트럭</td>\n",
       "      <td>BC4AH1</td>\n",
       "      <td>F4AE3681D</td>\n",
       "      <td>5880.0</td>\n",
       "      <td>251</td>\n",
       "      <td>2700</td>\n",
       "      <td>수동6단</td>\n",
       "      <td>11415</td>\n",
       "      <td>6285</td>\n",
       "      <td>타타대우상용차</td>\n",
       "      <td>한국</td>\n",
       "      <td>7MY-DC-23-72</td>\n",
       "      <td>2007-12-18 00:00:00</td>\n",
       "      <td>유로4</td>\n",
       "    </tr>\n",
       "    <tr>\n",
       "      <th>3</th>\n",
       "      <td>타타대우</td>\n",
       "      <td>대우5톤초장축카고트럭</td>\n",
       "      <td>BC4AT1</td>\n",
       "      <td>DL06</td>\n",
       "      <td>5890.0</td>\n",
       "      <td>270</td>\n",
       "      <td>2500</td>\n",
       "      <td>수동6단</td>\n",
       "      <td>11500</td>\n",
       "      <td>6370</td>\n",
       "      <td>타타대우상용차</td>\n",
       "      <td>한국</td>\n",
       "      <td>8MY-DC-24-12</td>\n",
       "      <td>2008-05-21 00:00:00</td>\n",
       "      <td>유로4</td>\n",
       "    </tr>\n",
       "    <tr>\n",
       "      <th>4</th>\n",
       "      <td>타타대우</td>\n",
       "      <td>대우트랙터</td>\n",
       "      <td>EX3TX2</td>\n",
       "      <td>F3BE3681B</td>\n",
       "      <td>12882.0</td>\n",
       "      <td>560</td>\n",
       "      <td>1900</td>\n",
       "      <td>자동12단</td>\n",
       "      <td>26020</td>\n",
       "      <td>8810</td>\n",
       "      <td>타타대우상용차</td>\n",
       "      <td>한국</td>\n",
       "      <td>8MY-DC-24-15</td>\n",
       "      <td>2008-06-30 00:00:00</td>\n",
       "      <td>유로4</td>\n",
       "    </tr>\n",
       "  </tbody>\n",
       "</table>\n",
       "</div>"
      ],
      "text/plain": [
       "    제작사1           차명             자동차형식       엔진형식      배기량 최대출력_PS 최대출력_RPM  \\\n",
       "0  현대자동차  현대25.5톤덤프트럭  HD255-YDU0-DHECA       D6CE  12742.0     520     1700   \n",
       "1   타타대우  대우25톤장축카고트럭            BT9CC1       DV11  10964.0     440     1900   \n",
       "2   타타대우  대우5톤초장축카고트럭            BC4AH1  F4AE3681D   5880.0     251     2700   \n",
       "3   타타대우  대우5톤초장축카고트럭            BC4AT1       DL06   5890.0     270     2500   \n",
       "4   타타대우        대우트랙터            EX3TX2  F3BE3681B  12882.0     560     1900   \n",
       "\n",
       "     변속기    총중량   공차중량     제작사2 제작국          인증번호                 인증일자   비고  \n",
       "0  자동12단  38730  13230    현대자동차  한국  AMY-HD-14-35  2010-07-19 00:00:00  유로5  \n",
       "1  수동16단  38800  13670  타타대우상용차  한국  7MY-DC-23-70  2007-12-18 00:00:00  유로4  \n",
       "2   수동6단  11415   6285  타타대우상용차  한국  7MY-DC-23-72  2007-12-18 00:00:00  유로4  \n",
       "3   수동6단  11500   6370  타타대우상용차  한국  8MY-DC-24-12  2008-05-21 00:00:00  유로4  \n",
       "4  자동12단  26020   8810  타타대우상용차  한국  8MY-DC-24-15  2008-06-30 00:00:00  유로4  "
      ]
     },
     "execution_count": 43,
     "metadata": {},
     "output_type": "execute_result"
    }
   ],
   "source": [
    "l45 = l45.iloc[1:].reset_index(drop=True)\n",
    "l45.head()"
   ]
  },
  {
   "cell_type": "code",
   "execution_count": 44,
   "metadata": {},
   "outputs": [
    {
     "name": "stdout",
     "output_type": "stream",
     "text": [
      "<class 'pandas.core.frame.DataFrame'>\n",
      "RangeIndex: 21 entries, 0 to 20\n",
      "Data columns (total 19 columns):\n",
      " #   Column       Non-Null Count  Dtype \n",
      "---  ------       --------------  ----- \n",
      " 0   No           21 non-null     int64 \n",
      " 1   제작사          21 non-null     object\n",
      " 2   인증번호         21 non-null     object\n",
      " 3   인증일자         21 non-null     object\n",
      " 4   차명           21 non-null     object\n",
      " 5   차종           21 non-null     object\n",
      " 6   차형식          21 non-null     object\n",
      " 7   엔진형식         21 non-null     object\n",
      " 8   배기량          21 non-null     int64 \n",
      " 9   변속기          21 non-null     object\n",
      " 10  최대출력         21 non-null     int64 \n",
      " 11  Unnamed: 11  21 non-null     int64 \n",
      " 12  총중량          21 non-null     object\n",
      " 13  공차중량         21 non-null     object\n",
      " 14  제작국          21 non-null     object\n",
      " 15  사용연료         21 non-null     object\n",
      " 16  배출기준         21 non-null     object\n",
      " 17  유럽기준         21 non-null     object\n",
      " 18  SCR유무        21 non-null     object\n",
      "dtypes: int64(4), object(15)\n",
      "memory usage: 3.2+ KB\n"
     ]
    }
   ],
   "source": [
    "name = '인증대장(대형)_SCR_적용차종(EURO 6)'\n",
    "file_name = f'{name}.xlsx'\n",
    "l6 = pd.read_excel(os.path.join(raw_fold, file_name))\n",
    "l6.info()"
   ]
  },
  {
   "cell_type": "code",
   "execution_count": 45,
   "metadata": {},
   "outputs": [
    {
     "name": "stdout",
     "output_type": "stream",
     "text": [
      "<class 'pandas.core.frame.DataFrame'>\n",
      "RangeIndex: 47 entries, 0 to 46\n",
      "Data columns (total 19 columns):\n",
      " #   Column        Non-Null Count  Dtype \n",
      "---  ------        --------------  ----- \n",
      " 0   일련번호          47 non-null     int64 \n",
      " 1   제작사           47 non-null     object\n",
      " 2   배출가스차종        47 non-null     object\n",
      " 3   배출가스인증번호      47 non-null     object\n",
      " 4   배출가스인증일       47 non-null     object\n",
      " 5   차명            47 non-null     object\n",
      " 6   자동차형식         47 non-null     object\n",
      " 7   엔진형식          47 non-null     object\n",
      " 8   배기량           47 non-null     int64 \n",
      " 9   변속기           47 non-null     object\n",
      " 10  최대출력PS        47 non-null     int64 \n",
      " 11  최대출력RPM       47 non-null     int64 \n",
      " 12  총중량           47 non-null     int64 \n",
      " 13  공차중량          47 non-null     int64 \n",
      " 14  제작국가          47 non-null     object\n",
      " 15  사용연료          47 non-null     object\n",
      " 16  배출가스기준        47 non-null     object\n",
      " 17  유럽 기준         47 non-null     object\n",
      " 18  SCR 유(Y)무(N)  47 non-null     object\n",
      "dtypes: int64(6), object(13)\n",
      "memory usage: 7.1+ KB\n"
     ]
    }
   ],
   "source": [
    "name = '인증대장(소형)_SCR_적용차종(EURO 6)'\n",
    "file_name = f'{name}.xlsx'\n",
    "s6 = pd.read_excel(os.path.join(raw_fold, file_name))\n",
    "s6.info()"
   ]
  },
  {
   "cell_type": "code",
   "execution_count": 46,
   "metadata": {},
   "outputs": [],
   "source": [
    "# 확인된 사항\n",
    "# l45, l6, s6 배출가스인증번호(인증번호) 중복 없음"
   ]
  },
  {
   "cell_type": "code",
   "execution_count": 47,
   "metadata": {},
   "outputs": [
    {
     "data": {
      "text/plain": [
       "42"
      ]
     },
     "execution_count": 47,
     "metadata": {},
     "output_type": "execute_result"
    }
   ],
   "source": [
    "len(set(l45['인증번호'].to_list()))"
   ]
  },
  {
   "cell_type": "code",
   "execution_count": 48,
   "metadata": {},
   "outputs": [
    {
     "data": {
      "text/plain": [
       "42"
      ]
     },
     "execution_count": 48,
     "metadata": {},
     "output_type": "execute_result"
    }
   ],
   "source": [
    "len(set(l45['인증번호'].to_list()) - set(l6['인증번호'].to_list()))"
   ]
  },
  {
   "cell_type": "code",
   "execution_count": 49,
   "metadata": {},
   "outputs": [
    {
     "data": {
      "text/plain": [
       "21"
      ]
     },
     "execution_count": 49,
     "metadata": {},
     "output_type": "execute_result"
    }
   ],
   "source": [
    "len(set(l6['인증번호'].to_list()))"
   ]
  },
  {
   "cell_type": "code",
   "execution_count": 50,
   "metadata": {},
   "outputs": [
    {
     "data": {
      "text/plain": [
       "21"
      ]
     },
     "execution_count": 50,
     "metadata": {},
     "output_type": "execute_result"
    }
   ],
   "source": [
    "len(set(l6['인증번호'].to_list()) - set(s6['배출가스인증번호'].to_list()))"
   ]
  },
  {
   "cell_type": "code",
   "execution_count": 51,
   "metadata": {},
   "outputs": [
    {
     "data": {
      "text/plain": [
       "42"
      ]
     },
     "execution_count": 51,
     "metadata": {},
     "output_type": "execute_result"
    }
   ],
   "source": [
    "len(set(l45['인증번호'].to_list()) - set(s6['배출가스인증번호'].to_list()))"
   ]
  },
  {
   "cell_type": "markdown",
   "metadata": {},
   "source": [
    "## 제작사 구분"
   ]
  },
  {
   "cell_type": "code",
   "execution_count": 681,
   "metadata": {},
   "outputs": [
    {
     "name": "stdout",
     "output_type": "stream",
     "text": [
      "<class 'pandas.core.frame.DataFrame'>\n",
      "RangeIndex: 8679 entries, 0 to 8678\n",
      "Data columns (total 4 columns):\n",
      " #   Column               Non-Null Count  Dtype \n",
      "---  ------               --------------  ----- \n",
      " 0   엔진형식                 8679 non-null   object\n",
      " 1   제작사명                 8679 non-null   object\n",
      " 2   차대번호                 8679 non-null   int64 \n",
      " 3   국내/외 구분(1:국내, 2:국외)  8679 non-null   int64 \n",
      "dtypes: int64(2), object(2)\n",
      "memory usage: 271.3+ KB\n"
     ]
    }
   ],
   "source": [
    "name = '엔진형식_제작사명_리스트(수정)'\n",
    "file_name = f'{name}.xlsx'\n",
    "ck = pd.read_excel(os.path.join(raw_fold, file_name))\n",
    "ck.info()"
   ]
  },
  {
   "cell_type": "code",
   "execution_count": 682,
   "metadata": {},
   "outputs": [
    {
     "data": {
      "text/html": [
       "<div>\n",
       "<style scoped>\n",
       "    .dataframe tbody tr th:only-of-type {\n",
       "        vertical-align: middle;\n",
       "    }\n",
       "\n",
       "    .dataframe tbody tr th {\n",
       "        vertical-align: top;\n",
       "    }\n",
       "\n",
       "    .dataframe thead th {\n",
       "        text-align: right;\n",
       "    }\n",
       "</style>\n",
       "<table border=\"1\" class=\"dataframe\">\n",
       "  <thead>\n",
       "    <tr style=\"text-align: right;\">\n",
       "      <th></th>\n",
       "      <th>엔진형식</th>\n",
       "      <th>제작사명</th>\n",
       "      <th>차대번호</th>\n",
       "      <th>국내/외 구분(1:국내, 2:국외)</th>\n",
       "    </tr>\n",
       "  </thead>\n",
       "  <tbody>\n",
       "    <tr>\n",
       "      <th>0</th>\n",
       "      <td>-</td>\n",
       "      <td>(주) 두성특장차</td>\n",
       "      <td>1</td>\n",
       "      <td>1</td>\n",
       "    </tr>\n",
       "    <tr>\n",
       "      <th>1</th>\n",
       "      <td>-</td>\n",
       "      <td>한국특장차(주)</td>\n",
       "      <td>1</td>\n",
       "      <td>1</td>\n",
       "    </tr>\n",
       "    <tr>\n",
       "      <th>2</th>\n",
       "      <td>.D4GB</td>\n",
       "      <td>(주) 골드밴</td>\n",
       "      <td>1</td>\n",
       "      <td>1</td>\n",
       "    </tr>\n",
       "    <tr>\n",
       "      <th>3</th>\n",
       "      <td>0</td>\n",
       "      <td>SOFA차량</td>\n",
       "      <td>4</td>\n",
       "      <td>1</td>\n",
       "    </tr>\n",
       "    <tr>\n",
       "      <th>4</th>\n",
       "      <td>0</td>\n",
       "      <td>남도수입</td>\n",
       "      <td>1</td>\n",
       "      <td>2</td>\n",
       "    </tr>\n",
       "  </tbody>\n",
       "</table>\n",
       "</div>"
      ],
      "text/plain": [
       "    엔진형식       제작사명  차대번호  국내/외 구분(1:국내, 2:국외)\n",
       "0      -  (주) 두성특장차     1                    1\n",
       "1      -   한국특장차(주)     1                    1\n",
       "2  .D4GB    (주) 골드밴     1                    1\n",
       "3      0     SOFA차량     4                    1\n",
       "4      0       남도수입     1                    2"
      ]
     },
     "execution_count": 682,
     "metadata": {},
     "output_type": "execute_result"
    }
   ],
   "source": [
    "ck.head()"
   ]
  },
  {
   "cell_type": "code",
   "execution_count": 683,
   "metadata": {},
   "outputs": [
    {
     "data": {
      "text/html": [
       "<div>\n",
       "<style scoped>\n",
       "    .dataframe tbody tr th:only-of-type {\n",
       "        vertical-align: middle;\n",
       "    }\n",
       "\n",
       "    .dataframe tbody tr th {\n",
       "        vertical-align: top;\n",
       "    }\n",
       "\n",
       "    .dataframe thead th {\n",
       "        text-align: right;\n",
       "    }\n",
       "</style>\n",
       "<table border=\"1\" class=\"dataframe\">\n",
       "  <thead>\n",
       "    <tr style=\"text-align: right;\">\n",
       "      <th></th>\n",
       "      <th>엔진형식</th>\n",
       "      <th>제작사명</th>\n",
       "      <th>차대번호</th>\n",
       "      <th>구분</th>\n",
       "    </tr>\n",
       "  </thead>\n",
       "  <tbody>\n",
       "    <tr>\n",
       "      <th>0</th>\n",
       "      <td>-</td>\n",
       "      <td>(주) 두성특장차</td>\n",
       "      <td>1</td>\n",
       "      <td>국내</td>\n",
       "    </tr>\n",
       "    <tr>\n",
       "      <th>1</th>\n",
       "      <td>-</td>\n",
       "      <td>한국특장차(주)</td>\n",
       "      <td>1</td>\n",
       "      <td>국내</td>\n",
       "    </tr>\n",
       "    <tr>\n",
       "      <th>2</th>\n",
       "      <td>.D4GB</td>\n",
       "      <td>(주) 골드밴</td>\n",
       "      <td>1</td>\n",
       "      <td>국내</td>\n",
       "    </tr>\n",
       "    <tr>\n",
       "      <th>3</th>\n",
       "      <td>0</td>\n",
       "      <td>SOFA차량</td>\n",
       "      <td>4</td>\n",
       "      <td>국내</td>\n",
       "    </tr>\n",
       "    <tr>\n",
       "      <th>4</th>\n",
       "      <td>0</td>\n",
       "      <td>남도수입</td>\n",
       "      <td>1</td>\n",
       "      <td>국외</td>\n",
       "    </tr>\n",
       "  </tbody>\n",
       "</table>\n",
       "</div>"
      ],
      "text/plain": [
       "    엔진형식       제작사명  차대번호  구분\n",
       "0      -  (주) 두성특장차     1  국내\n",
       "1      -   한국특장차(주)     1  국내\n",
       "2  .D4GB    (주) 골드밴     1  국내\n",
       "3      0     SOFA차량     4  국내\n",
       "4      0       남도수입     1  국외"
      ]
     },
     "execution_count": 683,
     "metadata": {},
     "output_type": "execute_result"
    }
   ],
   "source": [
    "ck = ck.rename(columns={'국내/외 구분(1:국내, 2:국외)':'구분'})\n",
    "ck['구분'] = ck['구분'].replace({1:'국내', 2:'국외'})\n",
    "ck.head()"
   ]
  },
  {
   "cell_type": "code",
   "execution_count": 684,
   "metadata": {},
   "outputs": [
    {
     "data": {
      "text/html": [
       "<div>\n",
       "<style scoped>\n",
       "    .dataframe tbody tr th:only-of-type {\n",
       "        vertical-align: middle;\n",
       "    }\n",
       "\n",
       "    .dataframe tbody tr th {\n",
       "        vertical-align: top;\n",
       "    }\n",
       "\n",
       "    .dataframe thead th {\n",
       "        text-align: right;\n",
       "    }\n",
       "</style>\n",
       "<table border=\"1\" class=\"dataframe\">\n",
       "  <thead>\n",
       "    <tr style=\"text-align: right;\">\n",
       "      <th></th>\n",
       "      <th>엔진형식</th>\n",
       "      <th>제작사명</th>\n",
       "      <th>구분</th>\n",
       "    </tr>\n",
       "  </thead>\n",
       "  <tbody>\n",
       "    <tr>\n",
       "      <th>0</th>\n",
       "      <td>-</td>\n",
       "      <td>(주) 두성특장차</td>\n",
       "      <td>국내</td>\n",
       "    </tr>\n",
       "    <tr>\n",
       "      <th>1</th>\n",
       "      <td>-</td>\n",
       "      <td>한국특장차(주)</td>\n",
       "      <td>국내</td>\n",
       "    </tr>\n",
       "    <tr>\n",
       "      <th>2</th>\n",
       "      <td>.D4GB</td>\n",
       "      <td>(주) 골드밴</td>\n",
       "      <td>국내</td>\n",
       "    </tr>\n",
       "    <tr>\n",
       "      <th>3</th>\n",
       "      <td>0</td>\n",
       "      <td>SOFA차량</td>\n",
       "      <td>국내</td>\n",
       "    </tr>\n",
       "    <tr>\n",
       "      <th>4</th>\n",
       "      <td>0</td>\n",
       "      <td>남도수입</td>\n",
       "      <td>국외</td>\n",
       "    </tr>\n",
       "  </tbody>\n",
       "</table>\n",
       "</div>"
      ],
      "text/plain": [
       "    엔진형식       제작사명  구분\n",
       "0      -  (주) 두성특장차  국내\n",
       "1      -   한국특장차(주)  국내\n",
       "2  .D4GB    (주) 골드밴  국내\n",
       "3      0     SOFA차량  국내\n",
       "4      0       남도수입  국외"
      ]
     },
     "execution_count": 684,
     "metadata": {},
     "output_type": "execute_result"
    }
   ],
   "source": [
    "ck = ck.drop(['차대번호'], axis=1)\n",
    "ck.head()"
   ]
  },
  {
   "cell_type": "code",
   "execution_count": 685,
   "metadata": {},
   "outputs": [
    {
     "data": {
      "text/plain": [
       "((8679, 3), (8679, 3))"
      ]
     },
     "execution_count": 685,
     "metadata": {},
     "output_type": "execute_result"
    }
   ],
   "source": [
    "ck.shape, ck.drop_duplicates(['엔진형식', '제작사명']).shape"
   ]
  },
  {
   "cell_type": "markdown",
   "metadata": {},
   "source": [
    "## 220630_기준_SCR_부착_차량_통계자료_수정"
   ]
  },
  {
   "cell_type": "code",
   "execution_count": 57,
   "metadata": {},
   "outputs": [
    {
     "name": "stdout",
     "output_type": "stream",
     "text": [
      "<class 'pandas.core.frame.DataFrame'>\n",
      "RangeIndex: 501 entries, 0 to 500\n",
      "Data columns (total 6 columns):\n",
      " #   Column    Non-Null Count  Dtype \n",
      "---  ------    --------------  ----- \n",
      " 0   인증번호      501 non-null    object\n",
      " 1   차종        500 non-null    object\n",
      " 2   원본차종      500 non-null    object\n",
      " 3   제조사       500 non-null    object\n",
      " 4   차명        351 non-null    object\n",
      " 5   통계자료존재유무  501 non-null    object\n",
      "dtypes: object(6)\n",
      "memory usage: 23.6+ KB\n"
     ]
    }
   ],
   "source": [
    "scr = pd.read_excel(os.path.join(raw_fold, '220630_기준_SCR_부착_차량_통계자료_수정.xlsx'))\n",
    "scr.info()"
   ]
  },
  {
   "cell_type": "code",
   "execution_count": 58,
   "metadata": {},
   "outputs": [
    {
     "data": {
      "text/plain": [
       "(501, 5)"
      ]
     },
     "execution_count": 58,
     "metadata": {},
     "output_type": "execute_result"
    }
   ],
   "source": [
    "scr = scr[['인증번호', '차종', '제조사', '차명', '통계자료존재유무']]\n",
    "scr.shape"
   ]
  },
  {
   "cell_type": "code",
   "execution_count": 59,
   "metadata": {},
   "outputs": [
    {
     "data": {
      "text/plain": [
       "인증번호          0\n",
       "차종            1\n",
       "제조사           1\n",
       "차명          150\n",
       "통계자료존재유무      0\n",
       "dtype: int64"
      ]
     },
     "execution_count": 59,
     "metadata": {},
     "output_type": "execute_result"
    }
   ],
   "source": [
    "scr.isnull().sum()"
   ]
  },
  {
   "cell_type": "code",
   "execution_count": 60,
   "metadata": {},
   "outputs": [
    {
     "data": {
      "text/plain": [
       "((501, 5), 501)"
      ]
     },
     "execution_count": 60,
     "metadata": {},
     "output_type": "execute_result"
    }
   ],
   "source": [
    "scr.shape, len(scr['인증번호'].unique())"
   ]
  },
  {
   "cell_type": "markdown",
   "metadata": {},
   "source": [
    "## SCR 장착 확인 차량"
   ]
  },
  {
   "cell_type": "code",
   "execution_count": 428,
   "metadata": {},
   "outputs": [
    {
     "name": "stdout",
     "output_type": "stream",
     "text": [
      "<class 'pandas.core.frame.DataFrame'>\n",
      "RangeIndex: 65321 entries, 0 to 65320\n",
      "Data columns (total 14 columns):\n",
      " #   Column                     Non-Null Count  Dtype  \n",
      "---  ------                     --------------  -----  \n",
      " 0   배출가스인증번호                   27771 non-null  object \n",
      " 1   제원관리번호                     65321 non-null  object \n",
      " 2   제작사명                       65321 non-null  object \n",
      " 3   연식                         65321 non-null  int64  \n",
      " 4   차종                         65321 non-null  object \n",
      " 5   엔진형식                       65321 non-null  object \n",
      " 6   배기량                        65321 non-null  int64  \n",
      " 7   엔진출력                       65320 non-null  float64\n",
      " 8   차명                         65321 non-null  object \n",
      " 9   유럽기준                       17601 non-null  object \n",
      " 10  저감장치구분                     487 non-null    object \n",
      " 11  통계자료존재유무                   23301 non-null  object \n",
      " 12  차량대수                       65321 non-null  int64  \n",
      " 13  SCR 장착여부 확인 (1:장착, 2:미장착)  64834 non-null  float64\n",
      "dtypes: float64(2), int64(3), object(9)\n",
      "memory usage: 7.0+ MB\n"
     ]
    }
   ],
   "source": [
    "scr_ck = pd.read_excel(os.path.join(raw_fold, '경유차량_SCR_통계_20231216.xlsx'))\n",
    "scr_ck.info()"
   ]
  },
  {
   "cell_type": "code",
   "execution_count": 429,
   "metadata": {},
   "outputs": [
    {
     "data": {
      "text/html": [
       "<div>\n",
       "<style scoped>\n",
       "    .dataframe tbody tr th:only-of-type {\n",
       "        vertical-align: middle;\n",
       "    }\n",
       "\n",
       "    .dataframe tbody tr th {\n",
       "        vertical-align: top;\n",
       "    }\n",
       "\n",
       "    .dataframe thead th {\n",
       "        text-align: right;\n",
       "    }\n",
       "</style>\n",
       "<table border=\"1\" class=\"dataframe\">\n",
       "  <thead>\n",
       "    <tr style=\"text-align: right;\">\n",
       "      <th></th>\n",
       "      <th>배출가스인증번호</th>\n",
       "      <th>제원관리번호</th>\n",
       "      <th>제작사명</th>\n",
       "      <th>연식</th>\n",
       "      <th>차종</th>\n",
       "      <th>엔진형식</th>\n",
       "      <th>배기량</th>\n",
       "      <th>엔진출력</th>\n",
       "      <th>차명</th>\n",
       "      <th>유럽기준</th>\n",
       "      <th>저감장치구분</th>\n",
       "      <th>통계자료존재유무</th>\n",
       "      <th>차량대수</th>\n",
       "      <th>SCR 장착여부 확인 (1:장착, 2:미장착)</th>\n",
       "    </tr>\n",
       "  </thead>\n",
       "  <tbody>\n",
       "    <tr>\n",
       "      <th>0</th>\n",
       "      <td>NaN</td>\n",
       "      <td>0003412h000061221</td>\n",
       "      <td>자기인증면제차량</td>\n",
       "      <td>2015</td>\n",
       "      <td>승용</td>\n",
       "      <td>20953</td>\n",
       "      <td>1598</td>\n",
       "      <td>100.0</td>\n",
       "      <td>MERCEDES-BENZ C200</td>\n",
       "      <td>NaN</td>\n",
       "      <td>NaN</td>\n",
       "      <td>NaN</td>\n",
       "      <td>1</td>\n",
       "      <td>1.0</td>\n",
       "    </tr>\n",
       "    <tr>\n",
       "      <th>1</th>\n",
       "      <td>NaN</td>\n",
       "      <td>2GY20000300003320</td>\n",
       "      <td>전라남도소방본부</td>\n",
       "      <td>2019</td>\n",
       "      <td>화물</td>\n",
       "      <td>542972</td>\n",
       "      <td>15930</td>\n",
       "      <td>700.0</td>\n",
       "      <td>ZIEGLER내폭화학소방차</td>\n",
       "      <td>NaN</td>\n",
       "      <td>NaN</td>\n",
       "      <td>NaN</td>\n",
       "      <td>1</td>\n",
       "      <td>1.0</td>\n",
       "    </tr>\n",
       "    <tr>\n",
       "      <th>2</th>\n",
       "      <td>BMY-MK-12-8</td>\n",
       "      <td>00820003200111313</td>\n",
       "      <td>메르세데스벤츠코리아(주)</td>\n",
       "      <td>2015</td>\n",
       "      <td>승용</td>\n",
       "      <td>642826</td>\n",
       "      <td>2987</td>\n",
       "      <td>258.0</td>\n",
       "      <td>ML350 BlueTEC 4Matic</td>\n",
       "      <td>NaN</td>\n",
       "      <td>NaN</td>\n",
       "      <td>NaN</td>\n",
       "      <td>2</td>\n",
       "      <td>1.0</td>\n",
       "    </tr>\n",
       "    <tr>\n",
       "      <th>3</th>\n",
       "      <td>BMY-MK-12-8</td>\n",
       "      <td>00820003200121314</td>\n",
       "      <td>메르세데스벤츠코리아(주)</td>\n",
       "      <td>2015</td>\n",
       "      <td>승용</td>\n",
       "      <td>642826</td>\n",
       "      <td>2987</td>\n",
       "      <td>258.0</td>\n",
       "      <td>ML350 BlueTEC 4Matic</td>\n",
       "      <td>NaN</td>\n",
       "      <td>NaN</td>\n",
       "      <td>NaN</td>\n",
       "      <td>718</td>\n",
       "      <td>1.0</td>\n",
       "    </tr>\n",
       "    <tr>\n",
       "      <th>4</th>\n",
       "      <td>NaN</td>\n",
       "      <td>00031105000111319</td>\n",
       "      <td>자기인증면제차량</td>\n",
       "      <td>2016</td>\n",
       "      <td>승용</td>\n",
       "      <td>642826</td>\n",
       "      <td>2987</td>\n",
       "      <td>258.0</td>\n",
       "      <td>MERCEDES-BENZ GLE350d</td>\n",
       "      <td>NaN</td>\n",
       "      <td>NaN</td>\n",
       "      <td>NaN</td>\n",
       "      <td>1</td>\n",
       "      <td>1.0</td>\n",
       "    </tr>\n",
       "  </tbody>\n",
       "</table>\n",
       "</div>"
      ],
      "text/plain": [
       "      배출가스인증번호             제원관리번호           제작사명    연식  차종    엔진형식    배기량  \\\n",
       "0          NaN  0003412h000061221       자기인증면제차량  2015  승용   20953   1598   \n",
       "1          NaN  2GY20000300003320       전라남도소방본부  2019  화물  542972  15930   \n",
       "2  BMY-MK-12-8  00820003200111313  메르세데스벤츠코리아(주)  2015  승용  642826   2987   \n",
       "3  BMY-MK-12-8  00820003200121314  메르세데스벤츠코리아(주)  2015  승용  642826   2987   \n",
       "4          NaN  00031105000111319       자기인증면제차량  2016  승용  642826   2987   \n",
       "\n",
       "    엔진출력                     차명 유럽기준 저감장치구분 통계자료존재유무  차량대수  \\\n",
       "0  100.0     MERCEDES-BENZ C200  NaN    NaN      NaN     1   \n",
       "1  700.0         ZIEGLER내폭화학소방차  NaN    NaN      NaN     1   \n",
       "2  258.0   ML350 BlueTEC 4Matic  NaN    NaN      NaN     2   \n",
       "3  258.0   ML350 BlueTEC 4Matic  NaN    NaN      NaN   718   \n",
       "4  258.0  MERCEDES-BENZ GLE350d  NaN    NaN      NaN     1   \n",
       "\n",
       "   SCR 장착여부 확인 (1:장착, 2:미장착)  \n",
       "0                        1.0  \n",
       "1                        1.0  \n",
       "2                        1.0  \n",
       "3                        1.0  \n",
       "4                        1.0  "
      ]
     },
     "execution_count": 429,
     "metadata": {},
     "output_type": "execute_result"
    }
   ],
   "source": [
    "scr_ck.head()"
   ]
  },
  {
   "cell_type": "code",
   "execution_count": 430,
   "metadata": {},
   "outputs": [
    {
     "data": {
      "text/plain": [
       "1.0    60041\n",
       "2.0     4793\n",
       "NaN      487\n",
       "Name: SCR 장착여부 확인 (1:장착, 2:미장착), dtype: int64"
      ]
     },
     "execution_count": 430,
     "metadata": {},
     "output_type": "execute_result"
    }
   ],
   "source": [
    "scr_ck['SCR 장착여부 확인 (1:장착, 2:미장착)'].value_counts(dropna=False)"
   ]
  },
  {
   "cell_type": "markdown",
   "metadata": {},
   "source": [
    "# 전처리\n",
    "- 컬럼명 수정\n",
    "- 필수 컬럼만 추출\n",
    "- 등록 + 인증대장 + 저감\n",
    "- 등록 + 인증대장 + 저감 + SCR 통계자료(차종, 제조사, 차명 우선)"
   ]
  },
  {
   "cell_type": "markdown",
   "metadata": {},
   "source": [
    "## 인증대장 병합"
   ]
  },
  {
   "cell_type": "code",
   "execution_count": 65,
   "metadata": {},
   "outputs": [
    {
     "data": {
      "text/plain": [
       "['제작사1',\n",
       " '차명',\n",
       " '자동차형식',\n",
       " '엔진형식',\n",
       " '배기량',\n",
       " '최대출력_PS',\n",
       " '최대출력_RPM',\n",
       " '변속기',\n",
       " '총중량',\n",
       " '공차중량',\n",
       " '제작사2',\n",
       " '제작국',\n",
       " '인증번호',\n",
       " '인증일자',\n",
       " '비고']"
      ]
     },
     "execution_count": 65,
     "metadata": {},
     "output_type": "execute_result"
    }
   ],
   "source": [
    "l45.columns.to_list()"
   ]
  },
  {
   "cell_type": "code",
   "execution_count": 66,
   "metadata": {},
   "outputs": [
    {
     "data": {
      "text/html": [
       "<div>\n",
       "<style scoped>\n",
       "    .dataframe tbody tr th:only-of-type {\n",
       "        vertical-align: middle;\n",
       "    }\n",
       "\n",
       "    .dataframe tbody tr th {\n",
       "        vertical-align: top;\n",
       "    }\n",
       "\n",
       "    .dataframe thead th {\n",
       "        text-align: right;\n",
       "    }\n",
       "</style>\n",
       "<table border=\"1\" class=\"dataframe\">\n",
       "  <thead>\n",
       "    <tr style=\"text-align: right;\">\n",
       "      <th></th>\n",
       "      <th>제작사1</th>\n",
       "      <th>차명</th>\n",
       "      <th>자동차형식</th>\n",
       "      <th>엔진형식</th>\n",
       "      <th>배기량</th>\n",
       "      <th>최대출력_PS</th>\n",
       "      <th>최대출력_RPM</th>\n",
       "      <th>변속기</th>\n",
       "      <th>총중량</th>\n",
       "      <th>공차중량</th>\n",
       "      <th>제작사2</th>\n",
       "      <th>제작국</th>\n",
       "      <th>인증번호</th>\n",
       "      <th>인증일자</th>\n",
       "      <th>비고</th>\n",
       "    </tr>\n",
       "  </thead>\n",
       "  <tbody>\n",
       "    <tr>\n",
       "      <th>0</th>\n",
       "      <td>현대자동차</td>\n",
       "      <td>현대25.5톤덤프트럭</td>\n",
       "      <td>HD255-YDU0-DHECA</td>\n",
       "      <td>D6CE</td>\n",
       "      <td>12742.0</td>\n",
       "      <td>520</td>\n",
       "      <td>1700</td>\n",
       "      <td>자동12단</td>\n",
       "      <td>38730</td>\n",
       "      <td>13230</td>\n",
       "      <td>현대자동차</td>\n",
       "      <td>한국</td>\n",
       "      <td>AMY-HD-14-35</td>\n",
       "      <td>2010-07-19 00:00:00</td>\n",
       "      <td>유로5</td>\n",
       "    </tr>\n",
       "    <tr>\n",
       "      <th>1</th>\n",
       "      <td>타타대우</td>\n",
       "      <td>대우25톤장축카고트럭</td>\n",
       "      <td>BT9CC1</td>\n",
       "      <td>DV11</td>\n",
       "      <td>10964.0</td>\n",
       "      <td>440</td>\n",
       "      <td>1900</td>\n",
       "      <td>수동16단</td>\n",
       "      <td>38800</td>\n",
       "      <td>13670</td>\n",
       "      <td>타타대우상용차</td>\n",
       "      <td>한국</td>\n",
       "      <td>7MY-DC-23-70</td>\n",
       "      <td>2007-12-18 00:00:00</td>\n",
       "      <td>유로4</td>\n",
       "    </tr>\n",
       "    <tr>\n",
       "      <th>2</th>\n",
       "      <td>타타대우</td>\n",
       "      <td>대우5톤초장축카고트럭</td>\n",
       "      <td>BC4AH1</td>\n",
       "      <td>F4AE3681D</td>\n",
       "      <td>5880.0</td>\n",
       "      <td>251</td>\n",
       "      <td>2700</td>\n",
       "      <td>수동6단</td>\n",
       "      <td>11415</td>\n",
       "      <td>6285</td>\n",
       "      <td>타타대우상용차</td>\n",
       "      <td>한국</td>\n",
       "      <td>7MY-DC-23-72</td>\n",
       "      <td>2007-12-18 00:00:00</td>\n",
       "      <td>유로4</td>\n",
       "    </tr>\n",
       "    <tr>\n",
       "      <th>3</th>\n",
       "      <td>타타대우</td>\n",
       "      <td>대우5톤초장축카고트럭</td>\n",
       "      <td>BC4AT1</td>\n",
       "      <td>DL06</td>\n",
       "      <td>5890.0</td>\n",
       "      <td>270</td>\n",
       "      <td>2500</td>\n",
       "      <td>수동6단</td>\n",
       "      <td>11500</td>\n",
       "      <td>6370</td>\n",
       "      <td>타타대우상용차</td>\n",
       "      <td>한국</td>\n",
       "      <td>8MY-DC-24-12</td>\n",
       "      <td>2008-05-21 00:00:00</td>\n",
       "      <td>유로4</td>\n",
       "    </tr>\n",
       "    <tr>\n",
       "      <th>4</th>\n",
       "      <td>타타대우</td>\n",
       "      <td>대우트랙터</td>\n",
       "      <td>EX3TX2</td>\n",
       "      <td>F3BE3681B</td>\n",
       "      <td>12882.0</td>\n",
       "      <td>560</td>\n",
       "      <td>1900</td>\n",
       "      <td>자동12단</td>\n",
       "      <td>26020</td>\n",
       "      <td>8810</td>\n",
       "      <td>타타대우상용차</td>\n",
       "      <td>한국</td>\n",
       "      <td>8MY-DC-24-15</td>\n",
       "      <td>2008-06-30 00:00:00</td>\n",
       "      <td>유로4</td>\n",
       "    </tr>\n",
       "  </tbody>\n",
       "</table>\n",
       "</div>"
      ],
      "text/plain": [
       "    제작사1           차명             자동차형식       엔진형식      배기량 최대출력_PS 최대출력_RPM  \\\n",
       "0  현대자동차  현대25.5톤덤프트럭  HD255-YDU0-DHECA       D6CE  12742.0     520     1700   \n",
       "1   타타대우  대우25톤장축카고트럭            BT9CC1       DV11  10964.0     440     1900   \n",
       "2   타타대우  대우5톤초장축카고트럭            BC4AH1  F4AE3681D   5880.0     251     2700   \n",
       "3   타타대우  대우5톤초장축카고트럭            BC4AT1       DL06   5890.0     270     2500   \n",
       "4   타타대우        대우트랙터            EX3TX2  F3BE3681B  12882.0     560     1900   \n",
       "\n",
       "     변속기    총중량   공차중량     제작사2 제작국          인증번호                 인증일자   비고  \n",
       "0  자동12단  38730  13230    현대자동차  한국  AMY-HD-14-35  2010-07-19 00:00:00  유로5  \n",
       "1  수동16단  38800  13670  타타대우상용차  한국  7MY-DC-23-70  2007-12-18 00:00:00  유로4  \n",
       "2   수동6단  11415   6285  타타대우상용차  한국  7MY-DC-23-72  2007-12-18 00:00:00  유로4  \n",
       "3   수동6단  11500   6370  타타대우상용차  한국  8MY-DC-24-12  2008-05-21 00:00:00  유로4  \n",
       "4  자동12단  26020   8810  타타대우상용차  한국  8MY-DC-24-15  2008-06-30 00:00:00  유로4  "
      ]
     },
     "execution_count": 66,
     "metadata": {},
     "output_type": "execute_result"
    }
   ],
   "source": [
    "l45.head()"
   ]
  },
  {
   "cell_type": "code",
   "execution_count": 67,
   "metadata": {},
   "outputs": [
    {
     "data": {
      "text/html": [
       "<div>\n",
       "<style scoped>\n",
       "    .dataframe tbody tr th:only-of-type {\n",
       "        vertical-align: middle;\n",
       "    }\n",
       "\n",
       "    .dataframe tbody tr th {\n",
       "        vertical-align: top;\n",
       "    }\n",
       "\n",
       "    .dataframe thead th {\n",
       "        text-align: right;\n",
       "    }\n",
       "</style>\n",
       "<table border=\"1\" class=\"dataframe\">\n",
       "  <thead>\n",
       "    <tr style=\"text-align: right;\">\n",
       "      <th></th>\n",
       "      <th>인증번호</th>\n",
       "      <th>제작사2</th>\n",
       "      <th>차명</th>\n",
       "      <th>제작국</th>\n",
       "      <th>비고</th>\n",
       "    </tr>\n",
       "  </thead>\n",
       "  <tbody>\n",
       "    <tr>\n",
       "      <th>0</th>\n",
       "      <td>AMY-HD-14-35</td>\n",
       "      <td>현대자동차</td>\n",
       "      <td>현대25.5톤덤프트럭</td>\n",
       "      <td>한국</td>\n",
       "      <td>유로5</td>\n",
       "    </tr>\n",
       "    <tr>\n",
       "      <th>1</th>\n",
       "      <td>7MY-DC-23-70</td>\n",
       "      <td>타타대우상용차</td>\n",
       "      <td>대우25톤장축카고트럭</td>\n",
       "      <td>한국</td>\n",
       "      <td>유로4</td>\n",
       "    </tr>\n",
       "    <tr>\n",
       "      <th>2</th>\n",
       "      <td>7MY-DC-23-72</td>\n",
       "      <td>타타대우상용차</td>\n",
       "      <td>대우5톤초장축카고트럭</td>\n",
       "      <td>한국</td>\n",
       "      <td>유로4</td>\n",
       "    </tr>\n",
       "    <tr>\n",
       "      <th>3</th>\n",
       "      <td>8MY-DC-24-12</td>\n",
       "      <td>타타대우상용차</td>\n",
       "      <td>대우5톤초장축카고트럭</td>\n",
       "      <td>한국</td>\n",
       "      <td>유로4</td>\n",
       "    </tr>\n",
       "    <tr>\n",
       "      <th>4</th>\n",
       "      <td>8MY-DC-24-15</td>\n",
       "      <td>타타대우상용차</td>\n",
       "      <td>대우트랙터</td>\n",
       "      <td>한국</td>\n",
       "      <td>유로4</td>\n",
       "    </tr>\n",
       "  </tbody>\n",
       "</table>\n",
       "</div>"
      ],
      "text/plain": [
       "           인증번호     제작사2           차명 제작국   비고\n",
       "0  AMY-HD-14-35    현대자동차  현대25.5톤덤프트럭  한국  유로5\n",
       "1  7MY-DC-23-70  타타대우상용차  대우25톤장축카고트럭  한국  유로4\n",
       "2  7MY-DC-23-72  타타대우상용차  대우5톤초장축카고트럭  한국  유로4\n",
       "3  8MY-DC-24-12  타타대우상용차  대우5톤초장축카고트럭  한국  유로4\n",
       "4  8MY-DC-24-15  타타대우상용차        대우트랙터  한국  유로4"
      ]
     },
     "execution_count": 67,
     "metadata": {},
     "output_type": "execute_result"
    }
   ],
   "source": [
    "l45m = l45[[\n",
    "    '인증번호',\n",
    "    '제작사2',\n",
    "    '차명',\n",
    "    '제작국',\n",
    "    '비고'\n",
    "\n",
    "    # '제작사1',\n",
    "    # '자동차형식',\n",
    "    # '엔진형식',\n",
    "    # '배기량',\n",
    "    # '최대출력_PS',\n",
    "    # '최대출력_RPM',\n",
    "    # '변속기',\n",
    "    # '총중량',\n",
    "    # '공차중량',\n",
    "    # '인증일자',\n",
    "]]\n",
    "l45m.head()"
   ]
  },
  {
   "cell_type": "code",
   "execution_count": 68,
   "metadata": {},
   "outputs": [
    {
     "data": {
      "text/html": [
       "<div>\n",
       "<style scoped>\n",
       "    .dataframe tbody tr th:only-of-type {\n",
       "        vertical-align: middle;\n",
       "    }\n",
       "\n",
       "    .dataframe tbody tr th {\n",
       "        vertical-align: top;\n",
       "    }\n",
       "\n",
       "    .dataframe thead th {\n",
       "        text-align: right;\n",
       "    }\n",
       "</style>\n",
       "<table border=\"1\" class=\"dataframe\">\n",
       "  <thead>\n",
       "    <tr style=\"text-align: right;\">\n",
       "      <th></th>\n",
       "      <th>배출가스인증번호</th>\n",
       "      <th>제작사</th>\n",
       "      <th>차명</th>\n",
       "      <th>제작국</th>\n",
       "      <th>유럽기준</th>\n",
       "      <th>SCR유무</th>\n",
       "    </tr>\n",
       "  </thead>\n",
       "  <tbody>\n",
       "    <tr>\n",
       "      <th>0</th>\n",
       "      <td>AMY-HD-14-35</td>\n",
       "      <td>현대자동차</td>\n",
       "      <td>현대25.5톤덤프트럭</td>\n",
       "      <td>한국</td>\n",
       "      <td>유로5</td>\n",
       "      <td>Y</td>\n",
       "    </tr>\n",
       "    <tr>\n",
       "      <th>1</th>\n",
       "      <td>7MY-DC-23-70</td>\n",
       "      <td>타타대우상용차</td>\n",
       "      <td>대우25톤장축카고트럭</td>\n",
       "      <td>한국</td>\n",
       "      <td>유로4</td>\n",
       "      <td>Y</td>\n",
       "    </tr>\n",
       "    <tr>\n",
       "      <th>2</th>\n",
       "      <td>7MY-DC-23-72</td>\n",
       "      <td>타타대우상용차</td>\n",
       "      <td>대우5톤초장축카고트럭</td>\n",
       "      <td>한국</td>\n",
       "      <td>유로4</td>\n",
       "      <td>Y</td>\n",
       "    </tr>\n",
       "    <tr>\n",
       "      <th>3</th>\n",
       "      <td>8MY-DC-24-12</td>\n",
       "      <td>타타대우상용차</td>\n",
       "      <td>대우5톤초장축카고트럭</td>\n",
       "      <td>한국</td>\n",
       "      <td>유로4</td>\n",
       "      <td>Y</td>\n",
       "    </tr>\n",
       "    <tr>\n",
       "      <th>4</th>\n",
       "      <td>8MY-DC-24-15</td>\n",
       "      <td>타타대우상용차</td>\n",
       "      <td>대우트랙터</td>\n",
       "      <td>한국</td>\n",
       "      <td>유로4</td>\n",
       "      <td>Y</td>\n",
       "    </tr>\n",
       "  </tbody>\n",
       "</table>\n",
       "</div>"
      ],
      "text/plain": [
       "       배출가스인증번호      제작사           차명 제작국 유럽기준 SCR유무\n",
       "0  AMY-HD-14-35    현대자동차  현대25.5톤덤프트럭  한국  유로5     Y\n",
       "1  7MY-DC-23-70  타타대우상용차  대우25톤장축카고트럭  한국  유로4     Y\n",
       "2  7MY-DC-23-72  타타대우상용차  대우5톤초장축카고트럭  한국  유로4     Y\n",
       "3  8MY-DC-24-12  타타대우상용차  대우5톤초장축카고트럭  한국  유로4     Y\n",
       "4  8MY-DC-24-15  타타대우상용차        대우트랙터  한국  유로4     Y"
      ]
     },
     "execution_count": 68,
     "metadata": {},
     "output_type": "execute_result"
    }
   ],
   "source": [
    "l45m = l45m.rename(columns={'인증번호':'배출가스인증번호', '제작사2':'제작사', '제작국가':'제작사', '비고':'유럽기준'})\n",
    "l45m['SCR유무'] = 'Y'\n",
    "l45m.head()"
   ]
  },
  {
   "cell_type": "code",
   "execution_count": 69,
   "metadata": {},
   "outputs": [
    {
     "data": {
      "text/html": [
       "<div>\n",
       "<style scoped>\n",
       "    .dataframe tbody tr th:only-of-type {\n",
       "        vertical-align: middle;\n",
       "    }\n",
       "\n",
       "    .dataframe tbody tr th {\n",
       "        vertical-align: top;\n",
       "    }\n",
       "\n",
       "    .dataframe thead th {\n",
       "        text-align: right;\n",
       "    }\n",
       "</style>\n",
       "<table border=\"1\" class=\"dataframe\">\n",
       "  <thead>\n",
       "    <tr style=\"text-align: right;\">\n",
       "      <th></th>\n",
       "      <th>No</th>\n",
       "      <th>제작사</th>\n",
       "      <th>인증번호</th>\n",
       "      <th>인증일자</th>\n",
       "      <th>차명</th>\n",
       "      <th>차종</th>\n",
       "      <th>차형식</th>\n",
       "      <th>엔진형식</th>\n",
       "      <th>배기량</th>\n",
       "      <th>변속기</th>\n",
       "      <th>최대출력</th>\n",
       "      <th>Unnamed: 11</th>\n",
       "      <th>총중량</th>\n",
       "      <th>공차중량</th>\n",
       "      <th>제작국</th>\n",
       "      <th>사용연료</th>\n",
       "      <th>배출기준</th>\n",
       "      <th>유럽기준</th>\n",
       "      <th>SCR유무</th>\n",
       "    </tr>\n",
       "  </thead>\n",
       "  <tbody>\n",
       "    <tr>\n",
       "      <th>0</th>\n",
       "      <td>6</td>\n",
       "      <td>자일대우버스(주)</td>\n",
       "      <td>LMY-DB-14-105</td>\n",
       "      <td>2020-12-31</td>\n",
       "      <td>BX212</td>\n",
       "      <td>승용(초대형)</td>\n",
       "      <td>BX212M-GPLBZC441L</td>\n",
       "      <td>OM470LA.6-6</td>\n",
       "      <td>10677</td>\n",
       "      <td>자동화수동변속기</td>\n",
       "      <td>456</td>\n",
       "      <td>1600</td>\n",
       "      <td>16035</td>\n",
       "      <td>13110</td>\n",
       "      <td>한국</td>\n",
       "      <td>경유(Diesel)</td>\n",
       "      <td>2017년 10월 기준</td>\n",
       "      <td>유로6</td>\n",
       "      <td>Y</td>\n",
       "    </tr>\n",
       "    <tr>\n",
       "      <th>1</th>\n",
       "      <td>8</td>\n",
       "      <td>타타대우상용차(주)</td>\n",
       "      <td>LMY-DC-14-87</td>\n",
       "      <td>2020-11-03</td>\n",
       "      <td>LD트럭</td>\n",
       "      <td>화물(대형)</td>\n",
       "      <td>FE5BC1</td>\n",
       "      <td>F4AFE411C</td>\n",
       "      <td>4485</td>\n",
       "      <td>수동6단</td>\n",
       "      <td>206</td>\n",
       "      <td>2500</td>\n",
       "      <td>9910</td>\n",
       "      <td>4715</td>\n",
       "      <td>한국</td>\n",
       "      <td>경유(Diesel)</td>\n",
       "      <td>2017년 10월 기준</td>\n",
       "      <td>유로6</td>\n",
       "      <td>Y</td>\n",
       "    </tr>\n",
       "    <tr>\n",
       "      <th>2</th>\n",
       "      <td>12</td>\n",
       "      <td>타타대우상용차(주)</td>\n",
       "      <td>KMY-DC-14-82</td>\n",
       "      <td>2019-11-26</td>\n",
       "      <td>프리마14톤장축카고트럭</td>\n",
       "      <td>화물(초대형)</td>\n",
       "      <td>JL8A82</td>\n",
       "      <td>DX12P</td>\n",
       "      <td>11051</td>\n",
       "      <td>자동12단</td>\n",
       "      <td>460</td>\n",
       "      <td>1900</td>\n",
       "      <td>25800(25260)</td>\n",
       "      <td>11670(11130)</td>\n",
       "      <td>한국</td>\n",
       "      <td>경유(Diesel)</td>\n",
       "      <td>2017년 10월 기준</td>\n",
       "      <td>유로6</td>\n",
       "      <td>Y</td>\n",
       "    </tr>\n",
       "    <tr>\n",
       "      <th>3</th>\n",
       "      <td>17</td>\n",
       "      <td>(주)우진산전</td>\n",
       "      <td>GMY-WJ-14-02</td>\n",
       "      <td>2016-01-06</td>\n",
       "      <td>우진산전 굴절버스</td>\n",
       "      <td>승용(대형)</td>\n",
       "      <td>KM9ZGCZE</td>\n",
       "      <td>ISB6.7E6</td>\n",
       "      <td>6690</td>\n",
       "      <td>없음</td>\n",
       "      <td>280</td>\n",
       "      <td>2100</td>\n",
       "      <td>25995</td>\n",
       "      <td>19495</td>\n",
       "      <td>한국</td>\n",
       "      <td>경유-하이브리드(D-Hybrid)</td>\n",
       "      <td>2014년 1월 기준</td>\n",
       "      <td>유로6</td>\n",
       "      <td>Y</td>\n",
       "    </tr>\n",
       "    <tr>\n",
       "      <th>4</th>\n",
       "      <td>19</td>\n",
       "      <td>타타대우상용차(주)</td>\n",
       "      <td>GMY-DC-14-52</td>\n",
       "      <td>2016-11-07</td>\n",
       "      <td>노부스5톤극초장축플러스8.6카고트럭</td>\n",
       "      <td>화물(대형)</td>\n",
       "      <td>DC8CT7</td>\n",
       "      <td>DL06P</td>\n",
       "      <td>5890</td>\n",
       "      <td>수동 9단</td>\n",
       "      <td>280</td>\n",
       "      <td>2500</td>\n",
       "      <td>12500(12710)</td>\n",
       "      <td>7370(7580)</td>\n",
       "      <td>한국</td>\n",
       "      <td>경유(Diesel)</td>\n",
       "      <td>2014년 1월 기준</td>\n",
       "      <td>유로6</td>\n",
       "      <td>Y</td>\n",
       "    </tr>\n",
       "  </tbody>\n",
       "</table>\n",
       "</div>"
      ],
      "text/plain": [
       "   No         제작사           인증번호        인증일자                   차명       차종  \\\n",
       "0   6   자일대우버스(주)  LMY-DB-14-105  2020-12-31                BX212  승용(초대형)   \n",
       "1   8  타타대우상용차(주)   LMY-DC-14-87  2020-11-03                 LD트럭   화물(대형)   \n",
       "2  12  타타대우상용차(주)   KMY-DC-14-82  2019-11-26         프리마14톤장축카고트럭  화물(초대형)   \n",
       "3  17     (주)우진산전   GMY-WJ-14-02  2016-01-06            우진산전 굴절버스   승용(대형)   \n",
       "4  19  타타대우상용차(주)   GMY-DC-14-52  2016-11-07  노부스5톤극초장축플러스8.6카고트럭   화물(대형)   \n",
       "\n",
       "                 차형식         엔진형식    배기량       변속기  최대출력  Unnamed: 11  \\\n",
       "0  BX212M-GPLBZC441L  OM470LA.6-6  10677  자동화수동변속기   456         1600   \n",
       "1             FE5BC1    F4AFE411C   4485      수동6단   206         2500   \n",
       "2             JL8A82        DX12P  11051     자동12단   460         1900   \n",
       "3           KM9ZGCZE     ISB6.7E6   6690        없음   280         2100   \n",
       "4             DC8CT7        DL06P   5890     수동 9단   280         2500   \n",
       "\n",
       "            총중량          공차중량 제작국                사용연료          배출기준 유럽기준 SCR유무  \n",
       "0         16035         13110  한국          경유(Diesel)  2017년 10월 기준  유로6     Y  \n",
       "1          9910          4715  한국          경유(Diesel)  2017년 10월 기준  유로6     Y  \n",
       "2  25800(25260)  11670(11130)  한국          경유(Diesel)  2017년 10월 기준  유로6     Y  \n",
       "3         25995         19495  한국  경유-하이브리드(D-Hybrid)   2014년 1월 기준  유로6     Y  \n",
       "4  12500(12710)    7370(7580)  한국          경유(Diesel)   2014년 1월 기준  유로6     Y  "
      ]
     },
     "execution_count": 69,
     "metadata": {},
     "output_type": "execute_result"
    }
   ],
   "source": [
    "l6.head()"
   ]
  },
  {
   "cell_type": "code",
   "execution_count": 70,
   "metadata": {},
   "outputs": [
    {
     "data": {
      "text/plain": [
       "['No',\n",
       " '제작사',\n",
       " '인증번호',\n",
       " '인증일자',\n",
       " '차명',\n",
       " '차종',\n",
       " '차형식',\n",
       " '엔진형식',\n",
       " '배기량',\n",
       " '변속기',\n",
       " '최대출력',\n",
       " 'Unnamed: 11',\n",
       " '총중량',\n",
       " '공차중량',\n",
       " '제작국',\n",
       " '사용연료',\n",
       " '배출기준',\n",
       " '유럽기준',\n",
       " 'SCR유무']"
      ]
     },
     "execution_count": 70,
     "metadata": {},
     "output_type": "execute_result"
    }
   ],
   "source": [
    "l6.columns.to_list()"
   ]
  },
  {
   "cell_type": "code",
   "execution_count": 71,
   "metadata": {},
   "outputs": [
    {
     "data": {
      "text/html": [
       "<div>\n",
       "<style scoped>\n",
       "    .dataframe tbody tr th:only-of-type {\n",
       "        vertical-align: middle;\n",
       "    }\n",
       "\n",
       "    .dataframe tbody tr th {\n",
       "        vertical-align: top;\n",
       "    }\n",
       "\n",
       "    .dataframe thead th {\n",
       "        text-align: right;\n",
       "    }\n",
       "</style>\n",
       "<table border=\"1\" class=\"dataframe\">\n",
       "  <thead>\n",
       "    <tr style=\"text-align: right;\">\n",
       "      <th></th>\n",
       "      <th>인증번호</th>\n",
       "      <th>제작사</th>\n",
       "      <th>차명</th>\n",
       "      <th>제작국</th>\n",
       "      <th>유럽기준</th>\n",
       "      <th>SCR유무</th>\n",
       "    </tr>\n",
       "  </thead>\n",
       "  <tbody>\n",
       "    <tr>\n",
       "      <th>0</th>\n",
       "      <td>LMY-DB-14-105</td>\n",
       "      <td>자일대우버스(주)</td>\n",
       "      <td>BX212</td>\n",
       "      <td>한국</td>\n",
       "      <td>유로6</td>\n",
       "      <td>Y</td>\n",
       "    </tr>\n",
       "    <tr>\n",
       "      <th>1</th>\n",
       "      <td>LMY-DC-14-87</td>\n",
       "      <td>타타대우상용차(주)</td>\n",
       "      <td>LD트럭</td>\n",
       "      <td>한국</td>\n",
       "      <td>유로6</td>\n",
       "      <td>Y</td>\n",
       "    </tr>\n",
       "    <tr>\n",
       "      <th>2</th>\n",
       "      <td>KMY-DC-14-82</td>\n",
       "      <td>타타대우상용차(주)</td>\n",
       "      <td>프리마14톤장축카고트럭</td>\n",
       "      <td>한국</td>\n",
       "      <td>유로6</td>\n",
       "      <td>Y</td>\n",
       "    </tr>\n",
       "    <tr>\n",
       "      <th>3</th>\n",
       "      <td>GMY-WJ-14-02</td>\n",
       "      <td>(주)우진산전</td>\n",
       "      <td>우진산전 굴절버스</td>\n",
       "      <td>한국</td>\n",
       "      <td>유로6</td>\n",
       "      <td>Y</td>\n",
       "    </tr>\n",
       "    <tr>\n",
       "      <th>4</th>\n",
       "      <td>GMY-DC-14-52</td>\n",
       "      <td>타타대우상용차(주)</td>\n",
       "      <td>노부스5톤극초장축플러스8.6카고트럭</td>\n",
       "      <td>한국</td>\n",
       "      <td>유로6</td>\n",
       "      <td>Y</td>\n",
       "    </tr>\n",
       "  </tbody>\n",
       "</table>\n",
       "</div>"
      ],
      "text/plain": [
       "            인증번호         제작사                   차명 제작국 유럽기준 SCR유무\n",
       "0  LMY-DB-14-105   자일대우버스(주)                BX212  한국  유로6     Y\n",
       "1   LMY-DC-14-87  타타대우상용차(주)                 LD트럭  한국  유로6     Y\n",
       "2   KMY-DC-14-82  타타대우상용차(주)         프리마14톤장축카고트럭  한국  유로6     Y\n",
       "3   GMY-WJ-14-02     (주)우진산전            우진산전 굴절버스  한국  유로6     Y\n",
       "4   GMY-DC-14-52  타타대우상용차(주)  노부스5톤극초장축플러스8.6카고트럭  한국  유로6     Y"
      ]
     },
     "execution_count": 71,
     "metadata": {},
     "output_type": "execute_result"
    }
   ],
   "source": [
    "l6m = l6[[\n",
    "    '인증번호',\n",
    "    '제작사',\n",
    "    '차명',\n",
    "    '제작국',\n",
    "    '유럽기준',\n",
    "    'SCR유무',\n",
    "    \n",
    "    # 'No',\n",
    "    # '인증일자',\n",
    "    # '차종',\n",
    "    # '차형식',\n",
    "    # '엔진형식',\n",
    "    # '배기량',\n",
    "    # '변속기',\n",
    "    # '최대출력',\n",
    "    # 'Unnamed: 11',\n",
    "    # '총중량',\n",
    "    # '공차중량',\n",
    "    # '사용연료',\n",
    "    # '배출기준',\n",
    "]]\n",
    "l6m.head()"
   ]
  },
  {
   "cell_type": "code",
   "execution_count": 72,
   "metadata": {},
   "outputs": [
    {
     "data": {
      "text/html": [
       "<div>\n",
       "<style scoped>\n",
       "    .dataframe tbody tr th:only-of-type {\n",
       "        vertical-align: middle;\n",
       "    }\n",
       "\n",
       "    .dataframe tbody tr th {\n",
       "        vertical-align: top;\n",
       "    }\n",
       "\n",
       "    .dataframe thead th {\n",
       "        text-align: right;\n",
       "    }\n",
       "</style>\n",
       "<table border=\"1\" class=\"dataframe\">\n",
       "  <thead>\n",
       "    <tr style=\"text-align: right;\">\n",
       "      <th></th>\n",
       "      <th>배출가스인증번호</th>\n",
       "      <th>제작사</th>\n",
       "      <th>차명</th>\n",
       "      <th>제작국</th>\n",
       "      <th>유럽기준</th>\n",
       "      <th>SCR유무</th>\n",
       "    </tr>\n",
       "  </thead>\n",
       "  <tbody>\n",
       "    <tr>\n",
       "      <th>0</th>\n",
       "      <td>LMY-DB-14-105</td>\n",
       "      <td>자일대우버스(주)</td>\n",
       "      <td>BX212</td>\n",
       "      <td>한국</td>\n",
       "      <td>유로6</td>\n",
       "      <td>Y</td>\n",
       "    </tr>\n",
       "    <tr>\n",
       "      <th>1</th>\n",
       "      <td>LMY-DC-14-87</td>\n",
       "      <td>타타대우상용차(주)</td>\n",
       "      <td>LD트럭</td>\n",
       "      <td>한국</td>\n",
       "      <td>유로6</td>\n",
       "      <td>Y</td>\n",
       "    </tr>\n",
       "    <tr>\n",
       "      <th>2</th>\n",
       "      <td>KMY-DC-14-82</td>\n",
       "      <td>타타대우상용차(주)</td>\n",
       "      <td>프리마14톤장축카고트럭</td>\n",
       "      <td>한국</td>\n",
       "      <td>유로6</td>\n",
       "      <td>Y</td>\n",
       "    </tr>\n",
       "    <tr>\n",
       "      <th>3</th>\n",
       "      <td>GMY-WJ-14-02</td>\n",
       "      <td>(주)우진산전</td>\n",
       "      <td>우진산전 굴절버스</td>\n",
       "      <td>한국</td>\n",
       "      <td>유로6</td>\n",
       "      <td>Y</td>\n",
       "    </tr>\n",
       "    <tr>\n",
       "      <th>4</th>\n",
       "      <td>GMY-DC-14-52</td>\n",
       "      <td>타타대우상용차(주)</td>\n",
       "      <td>노부스5톤극초장축플러스8.6카고트럭</td>\n",
       "      <td>한국</td>\n",
       "      <td>유로6</td>\n",
       "      <td>Y</td>\n",
       "    </tr>\n",
       "  </tbody>\n",
       "</table>\n",
       "</div>"
      ],
      "text/plain": [
       "        배출가스인증번호         제작사                   차명 제작국 유럽기준 SCR유무\n",
       "0  LMY-DB-14-105   자일대우버스(주)                BX212  한국  유로6     Y\n",
       "1   LMY-DC-14-87  타타대우상용차(주)                 LD트럭  한국  유로6     Y\n",
       "2   KMY-DC-14-82  타타대우상용차(주)         프리마14톤장축카고트럭  한국  유로6     Y\n",
       "3   GMY-WJ-14-02     (주)우진산전            우진산전 굴절버스  한국  유로6     Y\n",
       "4   GMY-DC-14-52  타타대우상용차(주)  노부스5톤극초장축플러스8.6카고트럭  한국  유로6     Y"
      ]
     },
     "execution_count": 72,
     "metadata": {},
     "output_type": "execute_result"
    }
   ],
   "source": [
    "l6m = l6m.rename(columns={'인증번호':'배출가스인증번호'})\n",
    "l6m.head()"
   ]
  },
  {
   "cell_type": "code",
   "execution_count": 73,
   "metadata": {},
   "outputs": [
    {
     "data": {
      "text/html": [
       "<div>\n",
       "<style scoped>\n",
       "    .dataframe tbody tr th:only-of-type {\n",
       "        vertical-align: middle;\n",
       "    }\n",
       "\n",
       "    .dataframe tbody tr th {\n",
       "        vertical-align: top;\n",
       "    }\n",
       "\n",
       "    .dataframe thead th {\n",
       "        text-align: right;\n",
       "    }\n",
       "</style>\n",
       "<table border=\"1\" class=\"dataframe\">\n",
       "  <thead>\n",
       "    <tr style=\"text-align: right;\">\n",
       "      <th></th>\n",
       "      <th>일련번호</th>\n",
       "      <th>제작사</th>\n",
       "      <th>배출가스차종</th>\n",
       "      <th>배출가스인증번호</th>\n",
       "      <th>배출가스인증일</th>\n",
       "      <th>차명</th>\n",
       "      <th>자동차형식</th>\n",
       "      <th>엔진형식</th>\n",
       "      <th>배기량</th>\n",
       "      <th>변속기</th>\n",
       "      <th>최대출력PS</th>\n",
       "      <th>최대출력RPM</th>\n",
       "      <th>총중량</th>\n",
       "      <th>공차중량</th>\n",
       "      <th>제작국가</th>\n",
       "      <th>사용연료</th>\n",
       "      <th>배출가스기준</th>\n",
       "      <th>유럽 기준</th>\n",
       "      <th>SCR 유(Y)무(N)</th>\n",
       "    </tr>\n",
       "  </thead>\n",
       "  <tbody>\n",
       "    <tr>\n",
       "      <th>0</th>\n",
       "      <td>27</td>\n",
       "      <td>현대자동차(주)</td>\n",
       "      <td>승용(중형)</td>\n",
       "      <td>FMY-HD-14-38</td>\n",
       "      <td>2015-07-29</td>\n",
       "      <td>그랜드스타렉스 2.5디젤 12인(4WD)</td>\n",
       "      <td>TQ-25D12-E6-4W5A</td>\n",
       "      <td>D4CB</td>\n",
       "      <td>2497</td>\n",
       "      <td>자동5단</td>\n",
       "      <td>175</td>\n",
       "      <td>3600</td>\n",
       "      <td>3395</td>\n",
       "      <td>2505</td>\n",
       "      <td>한국</td>\n",
       "      <td>경유(Diesel)</td>\n",
       "      <td>2014년 1월 기준</td>\n",
       "      <td>유로6</td>\n",
       "      <td>Y</td>\n",
       "    </tr>\n",
       "    <tr>\n",
       "      <th>1</th>\n",
       "      <td>29</td>\n",
       "      <td>현대자동차(주)</td>\n",
       "      <td>승용(소형)</td>\n",
       "      <td>HMY-HD-14-61</td>\n",
       "      <td>2017-12-15</td>\n",
       "      <td>G80 2.2디젤 2WD</td>\n",
       "      <td>DH-22D-H6-2W8A</td>\n",
       "      <td>D4HC</td>\n",
       "      <td>2199</td>\n",
       "      <td>자동8단</td>\n",
       "      <td>202</td>\n",
       "      <td>3800</td>\n",
       "      <td>2435</td>\n",
       "      <td>2025</td>\n",
       "      <td>한국</td>\n",
       "      <td>경유(Diesel)</td>\n",
       "      <td>2017년 10월 기준</td>\n",
       "      <td>유로6</td>\n",
       "      <td>Y</td>\n",
       "    </tr>\n",
       "    <tr>\n",
       "      <th>2</th>\n",
       "      <td>31</td>\n",
       "      <td>현대자동차(주)</td>\n",
       "      <td>승용(소형)</td>\n",
       "      <td>HMY-HD-14-63</td>\n",
       "      <td>2017-12-15</td>\n",
       "      <td>G70 2.2 디젤 2WD</td>\n",
       "      <td>IK-22D-E6C-2W8A</td>\n",
       "      <td>D4HC</td>\n",
       "      <td>2199</td>\n",
       "      <td>자동8단</td>\n",
       "      <td>202</td>\n",
       "      <td>3800</td>\n",
       "      <td>2140</td>\n",
       "      <td>1765</td>\n",
       "      <td>한국</td>\n",
       "      <td>경유(Diesel)</td>\n",
       "      <td>2017년 10월 기준</td>\n",
       "      <td>유로6</td>\n",
       "      <td>Y</td>\n",
       "    </tr>\n",
       "    <tr>\n",
       "      <th>3</th>\n",
       "      <td>32</td>\n",
       "      <td>현대자동차(주)</td>\n",
       "      <td>승용(소형)</td>\n",
       "      <td>JMY-HD-14-15</td>\n",
       "      <td>2018-02-02</td>\n",
       "      <td>싼타페 2.0디젤 2WD</td>\n",
       "      <td>TM-20D7-H6-2W8A</td>\n",
       "      <td>D4HA</td>\n",
       "      <td>1995</td>\n",
       "      <td>자동8단</td>\n",
       "      <td>186</td>\n",
       "      <td>4000</td>\n",
       "      <td>2485</td>\n",
       "      <td>1910</td>\n",
       "      <td>한국</td>\n",
       "      <td>경유(Diesel)</td>\n",
       "      <td>2017년 10월 기준</td>\n",
       "      <td>유로6</td>\n",
       "      <td>Y</td>\n",
       "    </tr>\n",
       "    <tr>\n",
       "      <th>4</th>\n",
       "      <td>33</td>\n",
       "      <td>현대자동차(주)</td>\n",
       "      <td>승용(소형)</td>\n",
       "      <td>HMY-HD-14-62</td>\n",
       "      <td>2017-12-15</td>\n",
       "      <td>G70 2.2 디젤 AWD</td>\n",
       "      <td>IK-22D-E6C-AW8A</td>\n",
       "      <td>D4HC</td>\n",
       "      <td>2199</td>\n",
       "      <td>자동8단</td>\n",
       "      <td>202</td>\n",
       "      <td>3800</td>\n",
       "      <td>2215</td>\n",
       "      <td>1840</td>\n",
       "      <td>한국</td>\n",
       "      <td>경유(Diesel)</td>\n",
       "      <td>2017년 10월 기준</td>\n",
       "      <td>유로6</td>\n",
       "      <td>Y</td>\n",
       "    </tr>\n",
       "  </tbody>\n",
       "</table>\n",
       "</div>"
      ],
      "text/plain": [
       "   일련번호       제작사  배출가스차종      배출가스인증번호     배출가스인증일                      차명  \\\n",
       "0    27  현대자동차(주)  승용(중형)  FMY-HD-14-38  2015-07-29  그랜드스타렉스 2.5디젤 12인(4WD)   \n",
       "1    29  현대자동차(주)  승용(소형)  HMY-HD-14-61  2017-12-15           G80 2.2디젤 2WD   \n",
       "2    31  현대자동차(주)  승용(소형)  HMY-HD-14-63  2017-12-15          G70 2.2 디젤 2WD   \n",
       "3    32  현대자동차(주)  승용(소형)  JMY-HD-14-15  2018-02-02           싼타페 2.0디젤 2WD   \n",
       "4    33  현대자동차(주)  승용(소형)  HMY-HD-14-62  2017-12-15          G70 2.2 디젤 AWD   \n",
       "\n",
       "              자동차형식  엔진형식   배기량   변속기  최대출력PS  최대출력RPM   총중량  공차중량 제작국가  \\\n",
       "0  TQ-25D12-E6-4W5A  D4CB  2497  자동5단     175     3600  3395  2505   한국   \n",
       "1    DH-22D-H6-2W8A  D4HC  2199  자동8단     202     3800  2435  2025   한국   \n",
       "2   IK-22D-E6C-2W8A  D4HC  2199  자동8단     202     3800  2140  1765   한국   \n",
       "3   TM-20D7-H6-2W8A  D4HA  1995  자동8단     186     4000  2485  1910   한국   \n",
       "4   IK-22D-E6C-AW8A  D4HC  2199  자동8단     202     3800  2215  1840   한국   \n",
       "\n",
       "         사용연료        배출가스기준 유럽 기준 SCR 유(Y)무(N)  \n",
       "0  경유(Diesel)   2014년 1월 기준   유로6            Y  \n",
       "1  경유(Diesel)  2017년 10월 기준   유로6            Y  \n",
       "2  경유(Diesel)  2017년 10월 기준   유로6            Y  \n",
       "3  경유(Diesel)  2017년 10월 기준   유로6            Y  \n",
       "4  경유(Diesel)  2017년 10월 기준   유로6            Y  "
      ]
     },
     "execution_count": 73,
     "metadata": {},
     "output_type": "execute_result"
    }
   ],
   "source": [
    "s6.head()"
   ]
  },
  {
   "cell_type": "code",
   "execution_count": 74,
   "metadata": {},
   "outputs": [
    {
     "data": {
      "text/plain": [
       "['일련번호',\n",
       " '제작사',\n",
       " '배출가스차종',\n",
       " '배출가스인증번호',\n",
       " '배출가스인증일',\n",
       " '차명',\n",
       " '자동차형식',\n",
       " '엔진형식',\n",
       " '배기량',\n",
       " '변속기',\n",
       " '최대출력PS',\n",
       " '최대출력RPM',\n",
       " '총중량',\n",
       " '공차중량',\n",
       " '제작국가',\n",
       " '사용연료',\n",
       " '배출가스기준',\n",
       " '유럽 기준',\n",
       " 'SCR 유(Y)무(N)']"
      ]
     },
     "execution_count": 74,
     "metadata": {},
     "output_type": "execute_result"
    }
   ],
   "source": [
    "s6.columns.to_list()"
   ]
  },
  {
   "cell_type": "code",
   "execution_count": 75,
   "metadata": {},
   "outputs": [
    {
     "data": {
      "text/html": [
       "<div>\n",
       "<style scoped>\n",
       "    .dataframe tbody tr th:only-of-type {\n",
       "        vertical-align: middle;\n",
       "    }\n",
       "\n",
       "    .dataframe tbody tr th {\n",
       "        vertical-align: top;\n",
       "    }\n",
       "\n",
       "    .dataframe thead th {\n",
       "        text-align: right;\n",
       "    }\n",
       "</style>\n",
       "<table border=\"1\" class=\"dataframe\">\n",
       "  <thead>\n",
       "    <tr style=\"text-align: right;\">\n",
       "      <th></th>\n",
       "      <th>배출가스인증번호</th>\n",
       "      <th>제작사</th>\n",
       "      <th>차명</th>\n",
       "      <th>제작국가</th>\n",
       "      <th>유럽 기준</th>\n",
       "      <th>SCR 유(Y)무(N)</th>\n",
       "    </tr>\n",
       "  </thead>\n",
       "  <tbody>\n",
       "    <tr>\n",
       "      <th>0</th>\n",
       "      <td>FMY-HD-14-38</td>\n",
       "      <td>현대자동차(주)</td>\n",
       "      <td>그랜드스타렉스 2.5디젤 12인(4WD)</td>\n",
       "      <td>한국</td>\n",
       "      <td>유로6</td>\n",
       "      <td>Y</td>\n",
       "    </tr>\n",
       "    <tr>\n",
       "      <th>1</th>\n",
       "      <td>HMY-HD-14-61</td>\n",
       "      <td>현대자동차(주)</td>\n",
       "      <td>G80 2.2디젤 2WD</td>\n",
       "      <td>한국</td>\n",
       "      <td>유로6</td>\n",
       "      <td>Y</td>\n",
       "    </tr>\n",
       "    <tr>\n",
       "      <th>2</th>\n",
       "      <td>HMY-HD-14-63</td>\n",
       "      <td>현대자동차(주)</td>\n",
       "      <td>G70 2.2 디젤 2WD</td>\n",
       "      <td>한국</td>\n",
       "      <td>유로6</td>\n",
       "      <td>Y</td>\n",
       "    </tr>\n",
       "    <tr>\n",
       "      <th>3</th>\n",
       "      <td>JMY-HD-14-15</td>\n",
       "      <td>현대자동차(주)</td>\n",
       "      <td>싼타페 2.0디젤 2WD</td>\n",
       "      <td>한국</td>\n",
       "      <td>유로6</td>\n",
       "      <td>Y</td>\n",
       "    </tr>\n",
       "    <tr>\n",
       "      <th>4</th>\n",
       "      <td>HMY-HD-14-62</td>\n",
       "      <td>현대자동차(주)</td>\n",
       "      <td>G70 2.2 디젤 AWD</td>\n",
       "      <td>한국</td>\n",
       "      <td>유로6</td>\n",
       "      <td>Y</td>\n",
       "    </tr>\n",
       "  </tbody>\n",
       "</table>\n",
       "</div>"
      ],
      "text/plain": [
       "       배출가스인증번호       제작사                      차명 제작국가 유럽 기준 SCR 유(Y)무(N)\n",
       "0  FMY-HD-14-38  현대자동차(주)  그랜드스타렉스 2.5디젤 12인(4WD)   한국   유로6            Y\n",
       "1  HMY-HD-14-61  현대자동차(주)           G80 2.2디젤 2WD   한국   유로6            Y\n",
       "2  HMY-HD-14-63  현대자동차(주)          G70 2.2 디젤 2WD   한국   유로6            Y\n",
       "3  JMY-HD-14-15  현대자동차(주)           싼타페 2.0디젤 2WD   한국   유로6            Y\n",
       "4  HMY-HD-14-62  현대자동차(주)          G70 2.2 디젤 AWD   한국   유로6            Y"
      ]
     },
     "execution_count": 75,
     "metadata": {},
     "output_type": "execute_result"
    }
   ],
   "source": [
    "s6m = s6[[\n",
    "    '배출가스인증번호',\n",
    "    '제작사',\n",
    "    '차명',\n",
    "    '제작국가',\n",
    "    '유럽 기준',\n",
    "    'SCR 유(Y)무(N)'\n",
    "\n",
    "    # '일련번호',\n",
    "    # '배출가스차종',\n",
    "    # '배출가스인증일',\n",
    "    # '자동차형식',\n",
    "    # '엔진형식',\n",
    "    # '배기량',\n",
    "    # '변속기',\n",
    "    # '최대출력PS',\n",
    "    # '최대출력RPM',\n",
    "    # '총중량',\n",
    "    # '공차중량',\n",
    "    # '사용연료',\n",
    "    # '배출가스기준',\n",
    "]]\n",
    "s6m.head()"
   ]
  },
  {
   "cell_type": "code",
   "execution_count": 76,
   "metadata": {},
   "outputs": [
    {
     "data": {
      "text/html": [
       "<div>\n",
       "<style scoped>\n",
       "    .dataframe tbody tr th:only-of-type {\n",
       "        vertical-align: middle;\n",
       "    }\n",
       "\n",
       "    .dataframe tbody tr th {\n",
       "        vertical-align: top;\n",
       "    }\n",
       "\n",
       "    .dataframe thead th {\n",
       "        text-align: right;\n",
       "    }\n",
       "</style>\n",
       "<table border=\"1\" class=\"dataframe\">\n",
       "  <thead>\n",
       "    <tr style=\"text-align: right;\">\n",
       "      <th></th>\n",
       "      <th>배출가스인증번호</th>\n",
       "      <th>제작사</th>\n",
       "      <th>차명</th>\n",
       "      <th>제작국</th>\n",
       "      <th>유럽기준</th>\n",
       "      <th>SCR유무</th>\n",
       "    </tr>\n",
       "  </thead>\n",
       "  <tbody>\n",
       "    <tr>\n",
       "      <th>0</th>\n",
       "      <td>FMY-HD-14-38</td>\n",
       "      <td>현대자동차(주)</td>\n",
       "      <td>그랜드스타렉스 2.5디젤 12인(4WD)</td>\n",
       "      <td>한국</td>\n",
       "      <td>유로6</td>\n",
       "      <td>Y</td>\n",
       "    </tr>\n",
       "    <tr>\n",
       "      <th>1</th>\n",
       "      <td>HMY-HD-14-61</td>\n",
       "      <td>현대자동차(주)</td>\n",
       "      <td>G80 2.2디젤 2WD</td>\n",
       "      <td>한국</td>\n",
       "      <td>유로6</td>\n",
       "      <td>Y</td>\n",
       "    </tr>\n",
       "    <tr>\n",
       "      <th>2</th>\n",
       "      <td>HMY-HD-14-63</td>\n",
       "      <td>현대자동차(주)</td>\n",
       "      <td>G70 2.2 디젤 2WD</td>\n",
       "      <td>한국</td>\n",
       "      <td>유로6</td>\n",
       "      <td>Y</td>\n",
       "    </tr>\n",
       "    <tr>\n",
       "      <th>3</th>\n",
       "      <td>JMY-HD-14-15</td>\n",
       "      <td>현대자동차(주)</td>\n",
       "      <td>싼타페 2.0디젤 2WD</td>\n",
       "      <td>한국</td>\n",
       "      <td>유로6</td>\n",
       "      <td>Y</td>\n",
       "    </tr>\n",
       "    <tr>\n",
       "      <th>4</th>\n",
       "      <td>HMY-HD-14-62</td>\n",
       "      <td>현대자동차(주)</td>\n",
       "      <td>G70 2.2 디젤 AWD</td>\n",
       "      <td>한국</td>\n",
       "      <td>유로6</td>\n",
       "      <td>Y</td>\n",
       "    </tr>\n",
       "  </tbody>\n",
       "</table>\n",
       "</div>"
      ],
      "text/plain": [
       "       배출가스인증번호       제작사                      차명 제작국 유럽기준 SCR유무\n",
       "0  FMY-HD-14-38  현대자동차(주)  그랜드스타렉스 2.5디젤 12인(4WD)  한국  유로6     Y\n",
       "1  HMY-HD-14-61  현대자동차(주)           G80 2.2디젤 2WD  한국  유로6     Y\n",
       "2  HMY-HD-14-63  현대자동차(주)          G70 2.2 디젤 2WD  한국  유로6     Y\n",
       "3  JMY-HD-14-15  현대자동차(주)           싼타페 2.0디젤 2WD  한국  유로6     Y\n",
       "4  HMY-HD-14-62  현대자동차(주)          G70 2.2 디젤 AWD  한국  유로6     Y"
      ]
     },
     "execution_count": 76,
     "metadata": {},
     "output_type": "execute_result"
    }
   ],
   "source": [
    "s6m = s6m.rename(columns={'SCR 유(Y)무(N)':'SCR유무', '제작국가':'제작국', '유럽 기준':'유럽기준'})\n",
    "s6m.head()"
   ]
  },
  {
   "cell_type": "code",
   "execution_count": 77,
   "metadata": {},
   "outputs": [
    {
     "data": {
      "text/plain": [
       "110"
      ]
     },
     "execution_count": 77,
     "metadata": {},
     "output_type": "execute_result"
    }
   ],
   "source": [
    "l45m.shape[0] + l6m.shape[0] + s6m.shape[0]"
   ]
  },
  {
   "cell_type": "code",
   "execution_count": 78,
   "metadata": {},
   "outputs": [
    {
     "data": {
      "text/plain": [
       "(110, 6)"
      ]
     },
     "execution_count": 78,
     "metadata": {},
     "output_type": "execute_result"
    }
   ],
   "source": [
    "cert = pd.concat([l45m, l6m, s6m], ignore_index=True)\n",
    "cert.shape"
   ]
  },
  {
   "cell_type": "code",
   "execution_count": 79,
   "metadata": {},
   "outputs": [
    {
     "data": {
      "text/html": [
       "<div>\n",
       "<style scoped>\n",
       "    .dataframe tbody tr th:only-of-type {\n",
       "        vertical-align: middle;\n",
       "    }\n",
       "\n",
       "    .dataframe tbody tr th {\n",
       "        vertical-align: top;\n",
       "    }\n",
       "\n",
       "    .dataframe thead th {\n",
       "        text-align: right;\n",
       "    }\n",
       "</style>\n",
       "<table border=\"1\" class=\"dataframe\">\n",
       "  <thead>\n",
       "    <tr style=\"text-align: right;\">\n",
       "      <th></th>\n",
       "      <th>배출가스인증번호</th>\n",
       "      <th>제작사</th>\n",
       "      <th>차명</th>\n",
       "      <th>제작국</th>\n",
       "      <th>유럽기준</th>\n",
       "      <th>SCR유무</th>\n",
       "    </tr>\n",
       "  </thead>\n",
       "  <tbody>\n",
       "    <tr>\n",
       "      <th>22</th>\n",
       "      <td>AMY-SK-14-02</td>\n",
       "      <td>스카니아</td>\n",
       "      <td>스카니아트랙터\\n(견인형)</td>\n",
       "      <td>스웨덴</td>\n",
       "      <td>유로5</td>\n",
       "      <td>Y</td>\n",
       "    </tr>\n",
       "    <tr>\n",
       "      <th>23</th>\n",
       "      <td>AMY-SK-14-03</td>\n",
       "      <td>스카니아</td>\n",
       "      <td>스카니아카고트럭\\n(견인형)</td>\n",
       "      <td>스웨덴</td>\n",
       "      <td>유로5</td>\n",
       "      <td>Y</td>\n",
       "    </tr>\n",
       "    <tr>\n",
       "      <th>24</th>\n",
       "      <td>CMY-SK-14-01</td>\n",
       "      <td>스카니아</td>\n",
       "      <td>스카니아카고트럭\\n(견인형)</td>\n",
       "      <td>스웨덴</td>\n",
       "      <td>유로5</td>\n",
       "      <td>Y</td>\n",
       "    </tr>\n",
       "  </tbody>\n",
       "</table>\n",
       "</div>"
      ],
      "text/plain": [
       "        배출가스인증번호   제작사               차명  제작국 유럽기준 SCR유무\n",
       "22  AMY-SK-14-02  스카니아   스카니아트랙터\\n(견인형)  스웨덴  유로5     Y\n",
       "23  AMY-SK-14-03  스카니아  스카니아카고트럭\\n(견인형)  스웨덴  유로5     Y\n",
       "24  CMY-SK-14-01  스카니아  스카니아카고트럭\\n(견인형)  스웨덴  유로5     Y"
      ]
     },
     "execution_count": 79,
     "metadata": {},
     "output_type": "execute_result"
    }
   ],
   "source": [
    "cert[cert['차명'].str.contains(r'\\n')]"
   ]
  },
  {
   "cell_type": "code",
   "execution_count": 80,
   "metadata": {},
   "outputs": [
    {
     "data": {
      "text/html": [
       "<div>\n",
       "<style scoped>\n",
       "    .dataframe tbody tr th:only-of-type {\n",
       "        vertical-align: middle;\n",
       "    }\n",
       "\n",
       "    .dataframe tbody tr th {\n",
       "        vertical-align: top;\n",
       "    }\n",
       "\n",
       "    .dataframe thead th {\n",
       "        text-align: right;\n",
       "    }\n",
       "</style>\n",
       "<table border=\"1\" class=\"dataframe\">\n",
       "  <thead>\n",
       "    <tr style=\"text-align: right;\">\n",
       "      <th></th>\n",
       "      <th>배출가스인증번호</th>\n",
       "      <th>제작사</th>\n",
       "      <th>차명</th>\n",
       "      <th>제작국</th>\n",
       "      <th>유럽기준</th>\n",
       "      <th>SCR유무</th>\n",
       "    </tr>\n",
       "  </thead>\n",
       "  <tbody>\n",
       "    <tr>\n",
       "      <th>22</th>\n",
       "      <td>AMY-SK-14-02</td>\n",
       "      <td>스카니아</td>\n",
       "      <td>스카니아트랙터(견인형)</td>\n",
       "      <td>스웨덴</td>\n",
       "      <td>유로5</td>\n",
       "      <td>Y</td>\n",
       "    </tr>\n",
       "    <tr>\n",
       "      <th>23</th>\n",
       "      <td>AMY-SK-14-03</td>\n",
       "      <td>스카니아</td>\n",
       "      <td>스카니아카고트럭(견인형)</td>\n",
       "      <td>스웨덴</td>\n",
       "      <td>유로5</td>\n",
       "      <td>Y</td>\n",
       "    </tr>\n",
       "    <tr>\n",
       "      <th>24</th>\n",
       "      <td>CMY-SK-14-01</td>\n",
       "      <td>스카니아</td>\n",
       "      <td>스카니아카고트럭(견인형)</td>\n",
       "      <td>스웨덴</td>\n",
       "      <td>유로5</td>\n",
       "      <td>Y</td>\n",
       "    </tr>\n",
       "  </tbody>\n",
       "</table>\n",
       "</div>"
      ],
      "text/plain": [
       "        배출가스인증번호   제작사             차명  제작국 유럽기준 SCR유무\n",
       "22  AMY-SK-14-02  스카니아   스카니아트랙터(견인형)  스웨덴  유로5     Y\n",
       "23  AMY-SK-14-03  스카니아  스카니아카고트럭(견인형)  스웨덴  유로5     Y\n",
       "24  CMY-SK-14-01  스카니아  스카니아카고트럭(견인형)  스웨덴  유로5     Y"
      ]
     },
     "execution_count": 80,
     "metadata": {},
     "output_type": "execute_result"
    }
   ],
   "source": [
    "cert['차명'] = cert['차명'].str.replace('\\n', '')\n",
    "cert.loc[22:24, :]"
   ]
  },
  {
   "cell_type": "code",
   "execution_count": 81,
   "metadata": {},
   "outputs": [
    {
     "data": {
      "text/plain": [
       "현대자동차(주)      40\n",
       "타타대우상용차       11\n",
       "대우버스          10\n",
       "타타대우상용차(주)     8\n",
       "현대자동차㈜         7\n",
       "현대자동차          6\n",
       "볼보트럭코퍼레이션      5\n",
       "Daimler AG     5\n",
       "자일대우버스(주)      5\n",
       "스카니아           3\n",
       "만              3\n",
       "이베코            3\n",
       "기아(주)          2\n",
       "진화영맨           1\n",
       "(주)우진산전        1\n",
       "Name: 제작사, dtype: int64"
      ]
     },
     "execution_count": 81,
     "metadata": {},
     "output_type": "execute_result"
    }
   ],
   "source": [
    "cert['제작사'].value_counts(dropna=False)"
   ]
  },
  {
   "cell_type": "code",
   "execution_count": 82,
   "metadata": {},
   "outputs": [
    {
     "data": {
      "text/plain": [
       "한국      90\n",
       "스웨덴      8\n",
       "독일       8\n",
       "이탈리아     3\n",
       "중국       1\n",
       "Name: 제작국, dtype: int64"
      ]
     },
     "execution_count": 82,
     "metadata": {},
     "output_type": "execute_result"
    }
   ],
   "source": [
    "cert['제작국'].value_counts(dropna=False)"
   ]
  },
  {
   "cell_type": "code",
   "execution_count": 83,
   "metadata": {},
   "outputs": [
    {
     "data": {
      "text/plain": [
       "유로6    68\n",
       "유로5    33\n",
       "유로4     9\n",
       "Name: 유럽기준, dtype: int64"
      ]
     },
     "execution_count": 83,
     "metadata": {},
     "output_type": "execute_result"
    }
   ],
   "source": [
    "cert['유럽기준'].value_counts(dropna=False)"
   ]
  },
  {
   "cell_type": "code",
   "execution_count": 84,
   "metadata": {},
   "outputs": [
    {
     "data": {
      "text/plain": [
       "Y    110\n",
       "Name: SCR유무, dtype: int64"
      ]
     },
     "execution_count": 84,
     "metadata": {},
     "output_type": "execute_result"
    }
   ],
   "source": [
    "cert['SCR유무'].value_counts(dropna=False)"
   ]
  },
  {
   "cell_type": "code",
   "execution_count": 85,
   "metadata": {},
   "outputs": [
    {
     "data": {
      "text/html": [
       "<div>\n",
       "<style scoped>\n",
       "    .dataframe tbody tr th:only-of-type {\n",
       "        vertical-align: middle;\n",
       "    }\n",
       "\n",
       "    .dataframe tbody tr th {\n",
       "        vertical-align: top;\n",
       "    }\n",
       "\n",
       "    .dataframe thead th {\n",
       "        text-align: right;\n",
       "    }\n",
       "</style>\n",
       "<table border=\"1\" class=\"dataframe\">\n",
       "  <thead>\n",
       "    <tr style=\"text-align: right;\">\n",
       "      <th></th>\n",
       "      <th>배출가스인증번호</th>\n",
       "      <th>제작사</th>\n",
       "      <th>차명</th>\n",
       "      <th>제작국</th>\n",
       "      <th>유럽기준</th>\n",
       "      <th>SCR유무</th>\n",
       "    </tr>\n",
       "  </thead>\n",
       "  <tbody>\n",
       "    <tr>\n",
       "      <th>0</th>\n",
       "      <td>AMY-HD-14-35</td>\n",
       "      <td>현대자동차</td>\n",
       "      <td>현대25.5톤덤프트럭</td>\n",
       "      <td>한국</td>\n",
       "      <td>유로5</td>\n",
       "      <td>Y</td>\n",
       "    </tr>\n",
       "    <tr>\n",
       "      <th>1</th>\n",
       "      <td>7MY-DC-23-70</td>\n",
       "      <td>타타대우상용차</td>\n",
       "      <td>대우25톤장축카고트럭</td>\n",
       "      <td>한국</td>\n",
       "      <td>유로4</td>\n",
       "      <td>Y</td>\n",
       "    </tr>\n",
       "    <tr>\n",
       "      <th>2</th>\n",
       "      <td>7MY-DC-23-72</td>\n",
       "      <td>타타대우상용차</td>\n",
       "      <td>대우5톤초장축카고트럭</td>\n",
       "      <td>한국</td>\n",
       "      <td>유로4</td>\n",
       "      <td>Y</td>\n",
       "    </tr>\n",
       "    <tr>\n",
       "      <th>3</th>\n",
       "      <td>8MY-DC-24-12</td>\n",
       "      <td>타타대우상용차</td>\n",
       "      <td>대우5톤초장축카고트럭</td>\n",
       "      <td>한국</td>\n",
       "      <td>유로4</td>\n",
       "      <td>Y</td>\n",
       "    </tr>\n",
       "    <tr>\n",
       "      <th>4</th>\n",
       "      <td>8MY-DC-24-15</td>\n",
       "      <td>타타대우상용차</td>\n",
       "      <td>대우트랙터</td>\n",
       "      <td>한국</td>\n",
       "      <td>유로4</td>\n",
       "      <td>Y</td>\n",
       "    </tr>\n",
       "  </tbody>\n",
       "</table>\n",
       "</div>"
      ],
      "text/plain": [
       "       배출가스인증번호      제작사           차명 제작국 유럽기준 SCR유무\n",
       "0  AMY-HD-14-35    현대자동차  현대25.5톤덤프트럭  한국  유로5     Y\n",
       "1  7MY-DC-23-70  타타대우상용차  대우25톤장축카고트럭  한국  유로4     Y\n",
       "2  7MY-DC-23-72  타타대우상용차  대우5톤초장축카고트럭  한국  유로4     Y\n",
       "3  8MY-DC-24-12  타타대우상용차  대우5톤초장축카고트럭  한국  유로4     Y\n",
       "4  8MY-DC-24-15  타타대우상용차        대우트랙터  한국  유로4     Y"
      ]
     },
     "execution_count": 85,
     "metadata": {},
     "output_type": "execute_result"
    }
   ],
   "source": [
    "cert.head()"
   ]
  },
  {
   "cell_type": "code",
   "execution_count": 86,
   "metadata": {},
   "outputs": [
    {
     "data": {
      "text/plain": [
       "배출가스인증번호    0\n",
       "제작사         0\n",
       "차명          0\n",
       "제작국         0\n",
       "유럽기준        0\n",
       "SCR유무       0\n",
       "dtype: int64"
      ]
     },
     "execution_count": 86,
     "metadata": {},
     "output_type": "execute_result"
    }
   ],
   "source": [
    "cert.isnull().sum()"
   ]
  },
  {
   "cell_type": "markdown",
   "metadata": {},
   "source": [
    "### [출력] 인증대장"
   ]
  },
  {
   "cell_type": "code",
   "execution_count": 87,
   "metadata": {},
   "outputs": [
    {
     "data": {
      "text/plain": [
       "'20231216'"
      ]
     },
     "execution_count": 87,
     "metadata": {},
     "output_type": "execute_result"
    }
   ],
   "source": [
    "today_date = datetime.today().strftime('%Y%m%d')\n",
    "today_date"
   ]
  },
  {
   "cell_type": "code",
   "execution_count": 88,
   "metadata": {},
   "outputs": [],
   "source": [
    "# # 0.0s\n",
    "# cert.to_csv(os.path.join(raw_fold, f'인증대장_{today_date}.csv'), index=False)\n",
    "# print(os.path.join(raw_fold, f'인증대장_{today_date}.csv'))"
   ]
  },
  {
   "cell_type": "markdown",
   "metadata": {},
   "source": [
    "### [로드] 인증대장 종합"
   ]
  },
  {
   "cell_type": "code",
   "execution_count": 699,
   "metadata": {},
   "outputs": [
    {
     "name": "stdout",
     "output_type": "stream",
     "text": [
      "<class 'pandas.core.frame.DataFrame'>\n",
      "RangeIndex: 110 entries, 0 to 109\n",
      "Data columns (total 6 columns):\n",
      " #   Column    Non-Null Count  Dtype \n",
      "---  ------    --------------  ----- \n",
      " 0   배출가스인증번호  110 non-null    object\n",
      " 1   제작사       110 non-null    object\n",
      " 2   차명        110 non-null    object\n",
      " 3   제작국       110 non-null    object\n",
      " 4   유럽기준      110 non-null    object\n",
      " 5   SCR유무     110 non-null    object\n",
      "dtypes: object(6)\n",
      "memory usage: 5.3+ KB\n"
     ]
    }
   ],
   "source": [
    "cert = pd.read_csv(os.path.join(raw_fold, '인증대장_20231214.csv'))\n",
    "cert.info()"
   ]
  },
  {
   "cell_type": "markdown",
   "metadata": {},
   "source": [
    "## 등록 + 인증"
   ]
  },
  {
   "cell_type": "code",
   "execution_count": 722,
   "metadata": {},
   "outputs": [
    {
     "data": {
      "text/plain": [
       "(9533735, 16)"
      ]
     },
     "execution_count": 722,
     "metadata": {},
     "output_type": "execute_result"
    }
   ],
   "source": [
    "csm.shape"
   ]
  },
  {
   "cell_type": "code",
   "execution_count": 723,
   "metadata": {},
   "outputs": [],
   "source": [
    "cc = csm.copy()"
   ]
  },
  {
   "cell_type": "code",
   "execution_count": 742,
   "metadata": {},
   "outputs": [
    {
     "data": {
      "text/plain": [
       "제작사명     592\n",
       "엔진형식    1311\n",
       "차명         0\n",
       "dtype: int64"
      ]
     },
     "execution_count": 742,
     "metadata": {},
     "output_type": "execute_result"
    }
   ],
   "source": [
    "csm[['제작사명', '엔진형식', '차명']].isnull().sum()"
   ]
  },
  {
   "cell_type": "code",
   "execution_count": 724,
   "metadata": {},
   "outputs": [
    {
     "data": {
      "text/plain": [
       "Index(['배출가스인증번호', '제작사', '차명', '제작국', '유럽기준', 'SCR유무'], dtype='object')"
      ]
     },
     "execution_count": 724,
     "metadata": {},
     "output_type": "execute_result"
    }
   ],
   "source": [
    "cert.columns"
   ]
  },
  {
   "cell_type": "code",
   "execution_count": 725,
   "metadata": {},
   "outputs": [
    {
     "data": {
      "text/plain": [
       "(110, 6)"
      ]
     },
     "execution_count": 725,
     "metadata": {},
     "output_type": "execute_result"
    }
   ],
   "source": [
    "cert.shape"
   ]
  },
  {
   "cell_type": "code",
   "execution_count": 726,
   "metadata": {},
   "outputs": [],
   "source": [
    "# 1m 6.8s\n",
    "for one, two, three, four, five, six in cert.values:\n",
    "    cc.loc[cc['배출가스인증번호'] == one, ['제작사명', '차명', '제작국', '유럽기준', 'SCR유무']] = [two, three, four, five, six]"
   ]
  },
  {
   "cell_type": "code",
   "execution_count": 727,
   "metadata": {},
   "outputs": [
    {
     "data": {
      "text/plain": [
       "Index(['배출가스인증번호', '배출가스등급', '최초등록일자', '용도', '제원관리번호', '차량말소유무', '연식', '차종',\n",
       "       '차대번호', '배기량', '엔진출력', '엔진형식', '연료', '제작사명', '총중량', '차명', '제작국', '유럽기준',\n",
       "       'SCR유무'],\n",
       "      dtype='object')"
      ]
     },
     "execution_count": 727,
     "metadata": {},
     "output_type": "execute_result"
    }
   ],
   "source": [
    "cc.columns"
   ]
  },
  {
   "cell_type": "code",
   "execution_count": 728,
   "metadata": {},
   "outputs": [
    {
     "data": {
      "text/plain": [
       "제작사명         592\n",
       "차명             0\n",
       "제작국      8473081\n",
       "유럽기준     8473081\n",
       "SCR유무    8473081\n",
       "dtype: int64"
      ]
     },
     "execution_count": 728,
     "metadata": {},
     "output_type": "execute_result"
    }
   ],
   "source": [
    "cc[['제작사명', '차명', '제작국', '유럽기준', 'SCR유무']].isnull().sum()"
   ]
  },
  {
   "cell_type": "markdown",
   "metadata": {},
   "source": [
    "## 등록 + 인증 + 저감"
   ]
  },
  {
   "cell_type": "code",
   "execution_count": 729,
   "metadata": {},
   "outputs": [
    {
     "data": {
      "text/plain": [
       "(9533735, 20)"
      ]
     },
     "execution_count": 729,
     "metadata": {},
     "output_type": "execute_result"
    }
   ],
   "source": [
    "# 13.8s\n",
    "cca = cc.merge(attm, on='차대번호', how='left')\n",
    "cca.shape"
   ]
  },
  {
   "cell_type": "code",
   "execution_count": 730,
   "metadata": {},
   "outputs": [
    {
     "data": {
      "text/plain": [
       "Index(['배출가스인증번호', '배출가스등급', '최초등록일자', '용도', '제원관리번호', '차량말소유무', '연식', '차종',\n",
       "       '차대번호', '배기량', '엔진출력', '엔진형식', '연료', '제작사명', '총중량', '차명', '제작국', '유럽기준',\n",
       "       'SCR유무', '저감장치구분'],\n",
       "      dtype='object')"
      ]
     },
     "execution_count": 730,
     "metadata": {},
     "output_type": "execute_result"
    }
   ],
   "source": [
    "cca.columns"
   ]
  },
  {
   "cell_type": "code",
   "execution_count": 731,
   "metadata": {},
   "outputs": [
    {
     "data": {
      "text/plain": [
       "엔진형식    1311\n",
       "제작사명     592\n",
       "dtype: int64"
      ]
     },
     "execution_count": 731,
     "metadata": {},
     "output_type": "execute_result"
    }
   ],
   "source": [
    "cca[['엔진형식', '제작사명']].isnull().sum()"
   ]
  },
  {
   "cell_type": "code",
   "execution_count": 732,
   "metadata": {},
   "outputs": [
    {
     "data": {
      "text/plain": [
       "(168, 20)"
      ]
     },
     "execution_count": 732,
     "metadata": {},
     "output_type": "execute_result"
    }
   ],
   "source": [
    "cca[(cca['엔진형식'].isnull()) & (cca['제작사명'].isnull())].shape"
   ]
  },
  {
   "cell_type": "code",
   "execution_count": 735,
   "metadata": {},
   "outputs": [
    {
     "data": {
      "text/plain": [
       "0"
      ]
     },
     "execution_count": 735,
     "metadata": {},
     "output_type": "execute_result"
    }
   ],
   "source": [
    "cca.loc[(cca['엔진형식'].isnull()) & (cca['제작사명'].isnull()), '차명'].isnull().sum()"
   ]
  },
  {
   "cell_type": "code",
   "execution_count": 736,
   "metadata": {},
   "outputs": [
    {
     "data": {
      "text/plain": [
       "array(['이스스', '타다노대형렉카트럭', '바나곤 GL', '코로나웨곤', '시발 G.M.C', '스키니아구난차',\n",
       "       '제설차', '캔워스트랙타', '벤즈300TD보통승합', '고려식트럭', '도요다크라운로얄살롱', '이동방송차',\n",
       "       '인타트레이러', '렌드로바', '미쓰버시렉카추럭', '비리몬트트렉타', '장비운반트럭', '후소디젤담프',\n",
       "       'G M C', '중앙식덤푸트럭', '캔위즈 트렉타', '찌프 웨곤', '렉카트럭', '하이드로켄 세이트레일러',\n",
       "       '후소15톤카고트럭', '카이자카고트럭', '후소카고', '캔위즈트렉타', '인타담프', '후소탱크로리', '히노카고',\n",
       "       '히노CBU담프', '히노탱크로리', '후소카고트럭', '후소11톤카고', '후소', '국일GMC담프', '춘천식화물',\n",
       "       '도요다랜드크루사', '후소(렉카)', '인타트렉타', '랜드로바', '인타덤프', '맥크트랙타', '인타',\n",
       "       '고려식 G M C', '인타5톤레카차', '진디추레라샤시', '트렉타', '시발G.M.C', '닛산트랙타',\n",
       "       '서울보데식추럭', '콘테이너샷시트레일러', '콘테이너 트레라', '지엠시', '후소 트레라', '히노 트레일러',\n",
       "       '삼양식트럭', '히다치샷시', '대전식 덤프', '고려식화물', '인타담프추럭', '인타트렉타견인용',\n",
       "       '서울보레식G.M.C', '이스스트랙타', '한국화물식 추럭', '성암식GMC', '국제식G.M.C', '시발GMC',\n",
       "       '시발식 G M C', '지엠씨', 'GMC덤프', 'G M C 담뿌'], dtype=object)"
      ]
     },
     "execution_count": 736,
     "metadata": {},
     "output_type": "execute_result"
    }
   ],
   "source": [
    "cca.loc[(cca['엔진형식'].isnull()) & (cca['제작사명'].isnull()), '차명'].unique()"
   ]
  },
  {
   "cell_type": "markdown",
   "metadata": {},
   "source": [
    "### [출력] 제작사명, 엔진형식\n",
    "- 국내외 구분 위해"
   ]
  },
  {
   "cell_type": "code",
   "execution_count": 737,
   "metadata": {},
   "outputs": [
    {
     "data": {
      "text/plain": [
       "(8637, 3)"
      ]
     },
     "execution_count": 737,
     "metadata": {},
     "output_type": "execute_result"
    }
   ],
   "source": [
    "ex = cca.groupby(['엔진형식', '제작사명'], dropna=False)['차대번호'].count().reset_index()\n",
    "ex.shape"
   ]
  },
  {
   "cell_type": "code",
   "execution_count": 738,
   "metadata": {},
   "outputs": [
    {
     "data": {
      "text/html": [
       "<div>\n",
       "<style scoped>\n",
       "    .dataframe tbody tr th:only-of-type {\n",
       "        vertical-align: middle;\n",
       "    }\n",
       "\n",
       "    .dataframe tbody tr th {\n",
       "        vertical-align: top;\n",
       "    }\n",
       "\n",
       "    .dataframe thead th {\n",
       "        text-align: right;\n",
       "    }\n",
       "</style>\n",
       "<table border=\"1\" class=\"dataframe\">\n",
       "  <thead>\n",
       "    <tr style=\"text-align: right;\">\n",
       "      <th></th>\n",
       "      <th>엔진형식</th>\n",
       "      <th>제작사명</th>\n",
       "      <th>차대번호</th>\n",
       "    </tr>\n",
       "  </thead>\n",
       "  <tbody>\n",
       "    <tr>\n",
       "      <th>0</th>\n",
       "      <td>-</td>\n",
       "      <td>(주) 두성특장차</td>\n",
       "      <td>1</td>\n",
       "    </tr>\n",
       "    <tr>\n",
       "      <th>1</th>\n",
       "      <td>-</td>\n",
       "      <td>한국특장차(주)</td>\n",
       "      <td>1</td>\n",
       "    </tr>\n",
       "    <tr>\n",
       "      <th>2</th>\n",
       "      <td>.D4GB</td>\n",
       "      <td>(주) 골드밴</td>\n",
       "      <td>1</td>\n",
       "    </tr>\n",
       "    <tr>\n",
       "      <th>3</th>\n",
       "      <td>0</td>\n",
       "      <td>SOFA차량</td>\n",
       "      <td>4</td>\n",
       "    </tr>\n",
       "    <tr>\n",
       "      <th>4</th>\n",
       "      <td>0</td>\n",
       "      <td>남도수입</td>\n",
       "      <td>1</td>\n",
       "    </tr>\n",
       "  </tbody>\n",
       "</table>\n",
       "</div>"
      ],
      "text/plain": [
       "    엔진형식       제작사명  차대번호\n",
       "0      -  (주) 두성특장차     1\n",
       "1      -   한국특장차(주)     1\n",
       "2  .D4GB    (주) 골드밴     1\n",
       "3      0     SOFA차량     4\n",
       "4      0       남도수입     1"
      ]
     },
     "execution_count": 738,
     "metadata": {},
     "output_type": "execute_result"
    }
   ],
   "source": [
    "ex.head()"
   ]
  },
  {
   "cell_type": "code",
   "execution_count": 741,
   "metadata": {},
   "outputs": [
    {
     "data": {
      "text/html": [
       "<div>\n",
       "<style scoped>\n",
       "    .dataframe tbody tr th:only-of-type {\n",
       "        vertical-align: middle;\n",
       "    }\n",
       "\n",
       "    .dataframe tbody tr th {\n",
       "        vertical-align: top;\n",
       "    }\n",
       "\n",
       "    .dataframe thead th {\n",
       "        text-align: right;\n",
       "    }\n",
       "</style>\n",
       "<table border=\"1\" class=\"dataframe\">\n",
       "  <thead>\n",
       "    <tr style=\"text-align: right;\">\n",
       "      <th></th>\n",
       "      <th>엔진형식</th>\n",
       "      <th>제작사명</th>\n",
       "      <th>차대번호</th>\n",
       "    </tr>\n",
       "  </thead>\n",
       "  <tbody>\n",
       "    <tr>\n",
       "      <th>8636</th>\n",
       "      <td>NaN</td>\n",
       "      <td>NaN</td>\n",
       "      <td>168</td>\n",
       "    </tr>\n",
       "  </tbody>\n",
       "</table>\n",
       "</div>"
      ],
      "text/plain": [
       "     엔진형식 제작사명  차대번호\n",
       "8636  NaN  NaN   168"
      ]
     },
     "execution_count": 741,
     "metadata": {},
     "output_type": "execute_result"
    }
   ],
   "source": [
    "ex[(ex['엔진형식'].isnull()) & (ex['제작사명'].isnull())]"
   ]
  },
  {
   "cell_type": "code",
   "execution_count": 279,
   "metadata": {},
   "outputs": [],
   "source": [
    "# exc = ex[['엔진형식', '제작사명']].merge(ck, on=['엔진형식', '제작사명'], how='left')\n",
    "# exc1 = exc[exc['구분'].isnull()].reset_index(drop=True)\n",
    "# exc1.shape"
   ]
  },
  {
   "cell_type": "code",
   "execution_count": 280,
   "metadata": {},
   "outputs": [],
   "source": [
    "# today_date = datetime.today().strftime('%Y%m%d')\n",
    "# today_date"
   ]
  },
  {
   "cell_type": "code",
   "execution_count": 281,
   "metadata": {},
   "outputs": [],
   "source": [
    "# ex.to_excel(os.path.join(an_fold, f'엔진형식_제작사명_리스트_{today_date}.xlsx'), index=False)"
   ]
  },
  {
   "cell_type": "code",
   "execution_count": 282,
   "metadata": {},
   "outputs": [],
   "source": [
    "# exc1.to_excel(os.path.join(an_fold, f'추가_엔진형식_제작사명_리스트_{today_date}.xlsx'), index=False)"
   ]
  },
  {
   "cell_type": "markdown",
   "metadata": {},
   "source": [
    "## 제작사 국내외 구분 설정"
   ]
  },
  {
   "cell_type": "code",
   "execution_count": 709,
   "metadata": {},
   "outputs": [
    {
     "data": {
      "text/plain": [
       "Index(['배출가스인증번호', '배출가스등급', '최초등록일자', '용도', '제원관리번호', '차량말소유무', '연식', '차종',\n",
       "       '차대번호', '배기량', '엔진출력', '엔진형식', '연료', '제작사명', '총중량', '차명', '제작국', '유럽기준',\n",
       "       'SCR유무', '저감장치구분'],\n",
       "      dtype='object')"
      ]
     },
     "execution_count": 709,
     "metadata": {},
     "output_type": "execute_result"
    }
   ],
   "source": [
    "cca.columns"
   ]
  },
  {
   "cell_type": "code",
   "execution_count": 710,
   "metadata": {},
   "outputs": [
    {
     "data": {
      "text/plain": [
       "Index(['엔진형식', '제작사명', '구분'], dtype='object')"
      ]
     },
     "execution_count": 710,
     "metadata": {},
     "output_type": "execute_result"
    }
   ],
   "source": [
    "# 제작사 구분\n",
    "ck.columns"
   ]
  },
  {
   "cell_type": "code",
   "execution_count": 711,
   "metadata": {},
   "outputs": [
    {
     "data": {
      "text/plain": [
       "113"
      ]
     },
     "execution_count": 711,
     "metadata": {},
     "output_type": "execute_result"
    }
   ],
   "source": [
    "len(set(cca['엔진형식'].values) - set(ck['엔진형식'].values))"
   ]
  },
  {
   "cell_type": "code",
   "execution_count": 712,
   "metadata": {},
   "outputs": [
    {
     "data": {
      "text/plain": [
       "{'01744200032',\n",
       " '01781200884',\n",
       " '01781200916',\n",
       " '01831103592',\n",
       " '02-81-11-77160',\n",
       " '02701202291',\n",
       " '02791164595',\n",
       " '02791167174',\n",
       " '02791167182',\n",
       " '02791167971',\n",
       " '02801168480',\n",
       " '02801171957',\n",
       " '03017806811310333',\n",
       " '03701216281',\n",
       " '03701270607',\n",
       " '03721290085',\n",
       " '03741217014',\n",
       " '03741221799',\n",
       " '03741229497',\n",
       " '03751251614',\n",
       " '03801173800',\n",
       " '04-72-12-00656',\n",
       " '06711201574',\n",
       " '07-78-12-00934',\n",
       " '07834301513',\n",
       " '07851301678',\n",
       " '09684120002',\n",
       " '09761200515',\n",
       " '10781152968',\n",
       " '10801125134',\n",
       " '10804205108',\n",
       " '10864103435',\n",
       " '10PCI',\n",
       " '3306',\n",
       " '3306C',\n",
       " '3406C',\n",
       " '3406E',\n",
       " '356.956',\n",
       " '357 913',\n",
       " '357.912',\n",
       " '357.913',\n",
       " '364 982',\n",
       " '364.982',\n",
       " '366.948',\n",
       " '366.963',\n",
       " '401 979',\n",
       " '413B',\n",
       " '4D31',\n",
       " '59A/3',\n",
       " '601.941',\n",
       " '601940',\n",
       " '617.952',\n",
       " '6BD1-T',\n",
       " '6D16',\n",
       " '6HH1',\n",
       " '7.8L',\n",
       " '8210.42K',\n",
       " '8210.42R',\n",
       " '821022',\n",
       " '8DC11',\n",
       " '8DC4',\n",
       " '8DC8-2A',\n",
       " '8DC81A',\n",
       " '8VF',\n",
       " '8dc81a',\n",
       " '9.0DM2U28977',\n",
       " '92A/3',\n",
       " 'BF8L513',\n",
       " 'C8.3-210',\n",
       " 'D-3.9L',\n",
       " 'D2866LF03',\n",
       " 'D41 8.3',\n",
       " 'D421.85',\n",
       " 'D7',\n",
       " 'D706LT',\n",
       " 'DS50(히노)',\n",
       " 'DS905',\n",
       " 'DSC 1123',\n",
       " 'DSC1123',\n",
       " 'DTA466',\n",
       " 'EF 750',\n",
       " 'FD1060',\n",
       " 'FE6',\n",
       " 'GM8V',\n",
       " 'HE',\n",
       " 'JN-71-C-004138',\n",
       " 'KVT',\n",
       " 'L10-240',\n",
       " 'L10-250',\n",
       " 'L10-280',\n",
       " 'LFM07.8FPDO',\n",
       " 'LL4',\n",
       " 'LTC350',\n",
       " 'M11-310E',\n",
       " 'MFM 07.8 FPK8',\n",
       " 'MIDR',\n",
       " 'MIDS',\n",
       " 'N14-502',\n",
       " 'NTC-350',\n",
       " 'NTC400',\n",
       " 'OM364A',\n",
       " 'OM442LAIII/I',\n",
       " 'OM601 D23 LA',\n",
       " 'PE6',\n",
       " 'PERKINS 4.236',\n",
       " 'SL65BD026896',\n",
       " 'TD102',\n",
       " 'TD122FL',\n",
       " 'V865',\n",
       " 'VED7',\n",
       " 'VZ 087281',\n",
       " 'ZB-999242',\n",
       " nan}"
      ]
     },
     "execution_count": 712,
     "metadata": {},
     "output_type": "execute_result"
    }
   ],
   "source": [
    "set(cca['엔진형식'].values) - set(ck['엔진형식'].values)"
   ]
  },
  {
   "cell_type": "code",
   "execution_count": 713,
   "metadata": {},
   "outputs": [],
   "source": [
    "merge_col = ['엔진형식', '제작사명']"
   ]
  },
  {
   "cell_type": "code",
   "execution_count": 714,
   "metadata": {},
   "outputs": [
    {
     "data": {
      "text/html": [
       "<div>\n",
       "<style scoped>\n",
       "    .dataframe tbody tr th:only-of-type {\n",
       "        vertical-align: middle;\n",
       "    }\n",
       "\n",
       "    .dataframe tbody tr th {\n",
       "        vertical-align: top;\n",
       "    }\n",
       "\n",
       "    .dataframe thead th {\n",
       "        text-align: right;\n",
       "    }\n",
       "</style>\n",
       "<table border=\"1\" class=\"dataframe\">\n",
       "  <thead>\n",
       "    <tr style=\"text-align: right;\">\n",
       "      <th></th>\n",
       "      <th>엔진형식</th>\n",
       "      <th>제작사명</th>\n",
       "    </tr>\n",
       "  </thead>\n",
       "  <tbody>\n",
       "    <tr>\n",
       "      <th>9533183</th>\n",
       "      <td>01744200032</td>\n",
       "      <td>NaN</td>\n",
       "    </tr>\n",
       "  </tbody>\n",
       "</table>\n",
       "</div>"
      ],
      "text/plain": [
       "                엔진형식 제작사명\n",
       "9533183  01744200032  NaN"
      ]
     },
     "execution_count": 714,
     "metadata": {},
     "output_type": "execute_result"
    }
   ],
   "source": [
    "cca.loc[cca['엔진형식'] == '01744200032', merge_col]"
   ]
  },
  {
   "cell_type": "code",
   "execution_count": 715,
   "metadata": {},
   "outputs": [
    {
     "data": {
      "text/plain": [
       "set()"
      ]
     },
     "execution_count": 715,
     "metadata": {},
     "output_type": "execute_result"
    }
   ],
   "source": [
    "set(ck['엔진형식'].values) - set(cca['엔진형식'].values)"
   ]
  },
  {
   "cell_type": "code",
   "execution_count": 718,
   "metadata": {},
   "outputs": [
    {
     "data": {
      "text/html": [
       "<div>\n",
       "<style scoped>\n",
       "    .dataframe tbody tr th:only-of-type {\n",
       "        vertical-align: middle;\n",
       "    }\n",
       "\n",
       "    .dataframe tbody tr th {\n",
       "        vertical-align: top;\n",
       "    }\n",
       "\n",
       "    .dataframe thead th {\n",
       "        text-align: right;\n",
       "    }\n",
       "</style>\n",
       "<table border=\"1\" class=\"dataframe\">\n",
       "  <thead>\n",
       "    <tr style=\"text-align: right;\">\n",
       "      <th></th>\n",
       "      <th>엔진형식</th>\n",
       "      <th>제작사명</th>\n",
       "    </tr>\n",
       "  </thead>\n",
       "  <tbody>\n",
       "  </tbody>\n",
       "</table>\n",
       "</div>"
      ],
      "text/plain": [
       "Empty DataFrame\n",
       "Columns: [엔진형식, 제작사명]\n",
       "Index: []"
      ]
     },
     "execution_count": 718,
     "metadata": {},
     "output_type": "execute_result"
    }
   ],
   "source": [
    "ck.loc[ck['엔진형식'] == '01744200032', merge_col]"
   ]
  },
  {
   "cell_type": "code",
   "execution_count": 719,
   "metadata": {},
   "outputs": [
    {
     "data": {
      "text/plain": [
       "9"
      ]
     },
     "execution_count": 719,
     "metadata": {},
     "output_type": "execute_result"
    }
   ],
   "source": [
    "len(set(csm['제작사명'].values) - set(ck['제작사명'].values))"
   ]
  },
  {
   "cell_type": "code",
   "execution_count": 720,
   "metadata": {},
   "outputs": [
    {
     "data": {
      "text/plain": [
       "{'(주)진도',\n",
       " '(주)케이원모터스',\n",
       " '(주)한원모터스',\n",
       " nan,\n",
       " '대원기계',\n",
       " '모터팍',\n",
       " '세일특장',\n",
       " '해동정공',\n",
       " '혼다코리아(주)'}"
      ]
     },
     "execution_count": 720,
     "metadata": {},
     "output_type": "execute_result"
    }
   ],
   "source": [
    "set(csm['제작사명'].values) - set(ck['제작사명'].values)"
   ]
  },
  {
   "cell_type": "code",
   "execution_count": 697,
   "metadata": {},
   "outputs": [
    {
     "data": {
      "text/plain": [
       "28"
      ]
     },
     "execution_count": 697,
     "metadata": {},
     "output_type": "execute_result"
    }
   ],
   "source": [
    "len(set(ck['제작사명'].values) - set(cca['제작사명'].values))"
   ]
  },
  {
   "cell_type": "code",
   "execution_count": 666,
   "metadata": {},
   "outputs": [],
   "source": [
    "cca['엔진형식'] = cca['엔진형식'].astype('str')\n",
    "ck['엔진형식'] = ck['엔진형식'].astype('str')"
   ]
  },
  {
   "cell_type": "code",
   "execution_count": 667,
   "metadata": {},
   "outputs": [
    {
     "data": {
      "text/plain": [
       "(9533735, 21)"
      ]
     },
     "execution_count": 667,
     "metadata": {},
     "output_type": "execute_result"
    }
   ],
   "source": [
    "ccac = cca.merge(ck, on=['제작사명', '엔진형식'], how='left')\n",
    "ccac.shape"
   ]
  },
  {
   "cell_type": "code",
   "execution_count": 668,
   "metadata": {},
   "outputs": [
    {
     "data": {
      "text/plain": [
       "429555"
      ]
     },
     "execution_count": 668,
     "metadata": {},
     "output_type": "execute_result"
    }
   ],
   "source": [
    "ccac['구분'].isnull().sum()"
   ]
  },
  {
   "cell_type": "code",
   "execution_count": 516,
   "metadata": {},
   "outputs": [
    {
     "data": {
      "text/plain": [
       "Index(['배출가스인증번호', '배출가스등급', '최초등록일자', '용도', '제원관리번호', '차량말소유무', '연식', '차종',\n",
       "       '차대번호', '배기량', '엔진출력', '엔진형식', '연료', '제작사명', '총중량', '차명', '제작국', '유럽기준',\n",
       "       'SCR유무', '저감장치구분', '구분'],\n",
       "      dtype='object')"
      ]
     },
     "execution_count": 516,
     "metadata": {},
     "output_type": "execute_result"
    }
   ],
   "source": [
    "ccac.columns"
   ]
  },
  {
   "cell_type": "markdown",
   "metadata": {},
   "source": [
    "## 등록 + 인증 + 저감 + 제작국 + SCR 통계"
   ]
  },
  {
   "cell_type": "code",
   "execution_count": 517,
   "metadata": {},
   "outputs": [
    {
     "data": {
      "text/html": [
       "<div>\n",
       "<style scoped>\n",
       "    .dataframe tbody tr th:only-of-type {\n",
       "        vertical-align: middle;\n",
       "    }\n",
       "\n",
       "    .dataframe tbody tr th {\n",
       "        vertical-align: top;\n",
       "    }\n",
       "\n",
       "    .dataframe thead th {\n",
       "        text-align: right;\n",
       "    }\n",
       "</style>\n",
       "<table border=\"1\" class=\"dataframe\">\n",
       "  <thead>\n",
       "    <tr style=\"text-align: right;\">\n",
       "      <th></th>\n",
       "      <th>인증번호</th>\n",
       "      <th>차종</th>\n",
       "      <th>제조사</th>\n",
       "      <th>차명</th>\n",
       "      <th>통계자료존재유무</th>\n",
       "    </tr>\n",
       "  </thead>\n",
       "  <tbody>\n",
       "    <tr>\n",
       "      <th>0</th>\n",
       "      <td>AMY-HD-14-35</td>\n",
       "      <td>화물</td>\n",
       "      <td>현대</td>\n",
       "      <td>트라고/엑시언트 (L엔진, D6CE)</td>\n",
       "      <td>Y</td>\n",
       "    </tr>\n",
       "    <tr>\n",
       "      <th>1</th>\n",
       "      <td>EMY-HD-14-45</td>\n",
       "      <td>승합</td>\n",
       "      <td>현대</td>\n",
       "      <td>유니버스 / 엑시언트 (L엔진, D6CG)</td>\n",
       "      <td>Y</td>\n",
       "    </tr>\n",
       "    <tr>\n",
       "      <th>2</th>\n",
       "      <td>EMY-HD-14-48</td>\n",
       "      <td>승합</td>\n",
       "      <td>현대</td>\n",
       "      <td>유니버스,뉴슈퍼에어로시티 / 엑시언트 (H엔진, D6HC)</td>\n",
       "      <td>Y</td>\n",
       "    </tr>\n",
       "    <tr>\n",
       "      <th>3</th>\n",
       "      <td>EMY-HD-14-51</td>\n",
       "      <td>승합</td>\n",
       "      <td>현대</td>\n",
       "      <td>현대그린시티, 이-에어로타운 / 메가트럭, 메가트럭(와이드캡), 파비스 (G엔진, ...</td>\n",
       "      <td>Y</td>\n",
       "    </tr>\n",
       "    <tr>\n",
       "      <th>4</th>\n",
       "      <td>EMY-HD-14-53</td>\n",
       "      <td>승합</td>\n",
       "      <td>현대</td>\n",
       "      <td>뉴카운티 / 마이티  (F엔진, D4GB)</td>\n",
       "      <td>Y</td>\n",
       "    </tr>\n",
       "  </tbody>\n",
       "</table>\n",
       "</div>"
      ],
      "text/plain": [
       "           인증번호  차종 제조사                                                 차명  \\\n",
       "0  AMY-HD-14-35  화물  현대                               트라고/엑시언트 (L엔진, D6CE)   \n",
       "1  EMY-HD-14-45  승합  현대                            유니버스 / 엑시언트 (L엔진, D6CG)   \n",
       "2  EMY-HD-14-48  승합  현대                   유니버스,뉴슈퍼에어로시티 / 엑시언트 (H엔진, D6HC)   \n",
       "3  EMY-HD-14-51  승합  현대  현대그린시티, 이-에어로타운 / 메가트럭, 메가트럭(와이드캡), 파비스 (G엔진, ...   \n",
       "4  EMY-HD-14-53  승합  현대                            뉴카운티 / 마이티  (F엔진, D4GB)   \n",
       "\n",
       "  통계자료존재유무  \n",
       "0        Y  \n",
       "1        Y  \n",
       "2        Y  \n",
       "3        Y  \n",
       "4        Y  "
      ]
     },
     "execution_count": 517,
     "metadata": {},
     "output_type": "execute_result"
    }
   ],
   "source": [
    "scr.head()"
   ]
  },
  {
   "cell_type": "code",
   "execution_count": 518,
   "metadata": {},
   "outputs": [
    {
     "data": {
      "text/plain": [
       "(501, 5)"
      ]
     },
     "execution_count": 518,
     "metadata": {},
     "output_type": "execute_result"
    }
   ],
   "source": [
    "scr.shape"
   ]
  },
  {
   "cell_type": "code",
   "execution_count": 519,
   "metadata": {},
   "outputs": [
    {
     "data": {
      "text/plain": [
       "150"
      ]
     },
     "execution_count": 519,
     "metadata": {},
     "output_type": "execute_result"
    }
   ],
   "source": [
    "scr['차명'].isnull().sum()"
   ]
  },
  {
   "cell_type": "code",
   "execution_count": 520,
   "metadata": {},
   "outputs": [
    {
     "data": {
      "text/html": [
       "<div>\n",
       "<style scoped>\n",
       "    .dataframe tbody tr th:only-of-type {\n",
       "        vertical-align: middle;\n",
       "    }\n",
       "\n",
       "    .dataframe tbody tr th {\n",
       "        vertical-align: top;\n",
       "    }\n",
       "\n",
       "    .dataframe thead th {\n",
       "        text-align: right;\n",
       "    }\n",
       "</style>\n",
       "<table border=\"1\" class=\"dataframe\">\n",
       "  <thead>\n",
       "    <tr style=\"text-align: right;\">\n",
       "      <th></th>\n",
       "      <th>배출가스인증번호</th>\n",
       "      <th>배출가스등급</th>\n",
       "      <th>최초등록일자</th>\n",
       "      <th>용도</th>\n",
       "      <th>제원관리번호</th>\n",
       "      <th>차량말소유무</th>\n",
       "      <th>연식</th>\n",
       "      <th>차종</th>\n",
       "      <th>차대번호</th>\n",
       "      <th>배기량</th>\n",
       "      <th>...</th>\n",
       "      <th>엔진형식</th>\n",
       "      <th>연료</th>\n",
       "      <th>제작사명</th>\n",
       "      <th>총중량</th>\n",
       "      <th>차명</th>\n",
       "      <th>제작국</th>\n",
       "      <th>유럽기준</th>\n",
       "      <th>SCR유무</th>\n",
       "      <th>저감장치구분</th>\n",
       "      <th>구분</th>\n",
       "    </tr>\n",
       "  </thead>\n",
       "  <tbody>\n",
       "  </tbody>\n",
       "</table>\n",
       "<p>0 rows × 21 columns</p>\n",
       "</div>"
      ],
      "text/plain": [
       "Empty DataFrame\n",
       "Columns: [배출가스인증번호, 배출가스등급, 최초등록일자, 용도, 제원관리번호, 차량말소유무, 연식, 차종, 차대번호, 배기량, 엔진출력, 엔진형식, 연료, 제작사명, 총중량, 차명, 제작국, 유럽기준, SCR유무, 저감장치구분, 구분]\n",
       "Index: []\n",
       "\n",
       "[0 rows x 21 columns]"
      ]
     },
     "execution_count": 520,
     "metadata": {},
     "output_type": "execute_result"
    }
   ],
   "source": [
    "ccac[ccac['배출가스인증번호'].str.contains(' ', regex=False, na=False)]"
   ]
  },
  {
   "cell_type": "code",
   "execution_count": 521,
   "metadata": {},
   "outputs": [
    {
     "data": {
      "text/html": [
       "<div>\n",
       "<style scoped>\n",
       "    .dataframe tbody tr th:only-of-type {\n",
       "        vertical-align: middle;\n",
       "    }\n",
       "\n",
       "    .dataframe tbody tr th {\n",
       "        vertical-align: top;\n",
       "    }\n",
       "\n",
       "    .dataframe thead th {\n",
       "        text-align: right;\n",
       "    }\n",
       "</style>\n",
       "<table border=\"1\" class=\"dataframe\">\n",
       "  <thead>\n",
       "    <tr style=\"text-align: right;\">\n",
       "      <th></th>\n",
       "      <th>인증번호</th>\n",
       "      <th>차종</th>\n",
       "      <th>제조사</th>\n",
       "      <th>차명</th>\n",
       "      <th>통계자료존재유무</th>\n",
       "    </tr>\n",
       "  </thead>\n",
       "  <tbody>\n",
       "  </tbody>\n",
       "</table>\n",
       "</div>"
      ],
      "text/plain": [
       "Empty DataFrame\n",
       "Columns: [인증번호, 차종, 제조사, 차명, 통계자료존재유무]\n",
       "Index: []"
      ]
     },
     "execution_count": 521,
     "metadata": {},
     "output_type": "execute_result"
    }
   ],
   "source": [
    "scr[scr['인증번호'].str.contains(' ', regex=False, na=False)]"
   ]
  },
  {
   "cell_type": "code",
   "execution_count": 522,
   "metadata": {},
   "outputs": [
    {
     "data": {
      "text/plain": [
       "dtype('O')"
      ]
     },
     "execution_count": 522,
     "metadata": {},
     "output_type": "execute_result"
    }
   ],
   "source": [
    "ccac['배출가스인증번호'].dtype"
   ]
  },
  {
   "cell_type": "code",
   "execution_count": 523,
   "metadata": {},
   "outputs": [
    {
     "data": {
      "text/plain": [
       "dtype('O')"
      ]
     },
     "execution_count": 523,
     "metadata": {},
     "output_type": "execute_result"
    }
   ],
   "source": [
    "scr['인증번호'].dtype"
   ]
  },
  {
   "cell_type": "code",
   "execution_count": 524,
   "metadata": {},
   "outputs": [
    {
     "data": {
      "text/plain": [
       "Index(['배출가스인증번호', '배출가스등급', '최초등록일자', '용도', '제원관리번호', '차량말소유무', '연식', '차종',\n",
       "       '차대번호', '배기량', '엔진출력', '엔진형식', '연료', '제작사명', '총중량', '차명', '제작국', '유럽기준',\n",
       "       'SCR유무', '저감장치구분', '구분'],\n",
       "      dtype='object')"
      ]
     },
     "execution_count": 524,
     "metadata": {},
     "output_type": "execute_result"
    }
   ],
   "source": [
    "ccac.columns"
   ]
  },
  {
   "cell_type": "code",
   "execution_count": 525,
   "metadata": {},
   "outputs": [
    {
     "data": {
      "text/html": [
       "<div>\n",
       "<style scoped>\n",
       "    .dataframe tbody tr th:only-of-type {\n",
       "        vertical-align: middle;\n",
       "    }\n",
       "\n",
       "    .dataframe tbody tr th {\n",
       "        vertical-align: top;\n",
       "    }\n",
       "\n",
       "    .dataframe thead th {\n",
       "        text-align: right;\n",
       "    }\n",
       "</style>\n",
       "<table border=\"1\" class=\"dataframe\">\n",
       "  <thead>\n",
       "    <tr style=\"text-align: right;\">\n",
       "      <th></th>\n",
       "      <th>차종</th>\n",
       "      <th>제작사명</th>\n",
       "      <th>차명</th>\n",
       "    </tr>\n",
       "  </thead>\n",
       "  <tbody>\n",
       "    <tr>\n",
       "      <th>0</th>\n",
       "      <td>승합</td>\n",
       "      <td>현대자동차(주)</td>\n",
       "      <td>스타리아 (STARIA)</td>\n",
       "    </tr>\n",
       "    <tr>\n",
       "      <th>1</th>\n",
       "      <td>화물</td>\n",
       "      <td>쌍용자동차(주)</td>\n",
       "      <td>렉스턴스포츠 쿨멘 칸</td>\n",
       "    </tr>\n",
       "    <tr>\n",
       "      <th>2</th>\n",
       "      <td>승합</td>\n",
       "      <td>현대자동차(주)</td>\n",
       "      <td>뉴-카운티</td>\n",
       "    </tr>\n",
       "    <tr>\n",
       "      <th>3</th>\n",
       "      <td>승합</td>\n",
       "      <td>자기인증면제차량</td>\n",
       "      <td>이-카운티</td>\n",
       "    </tr>\n",
       "    <tr>\n",
       "      <th>4</th>\n",
       "      <td>승합</td>\n",
       "      <td>현대자동차(주)</td>\n",
       "      <td>뉴-카운티 어린이운송차</td>\n",
       "    </tr>\n",
       "  </tbody>\n",
       "</table>\n",
       "</div>"
      ],
      "text/plain": [
       "   차종      제작사명             차명\n",
       "0  승합  현대자동차(주)  스타리아 (STARIA)\n",
       "1  화물  쌍용자동차(주)    렉스턴스포츠 쿨멘 칸\n",
       "2  승합  현대자동차(주)          뉴-카운티\n",
       "3  승합  자기인증면제차량          이-카운티\n",
       "4  승합  현대자동차(주)   뉴-카운티 어린이운송차"
      ]
     },
     "execution_count": 525,
     "metadata": {},
     "output_type": "execute_result"
    }
   ],
   "source": [
    "ccac[['차종', '제작사명', '차명']].head()"
   ]
  },
  {
   "cell_type": "code",
   "execution_count": 526,
   "metadata": {},
   "outputs": [
    {
     "data": {
      "text/html": [
       "<div>\n",
       "<style scoped>\n",
       "    .dataframe tbody tr th:only-of-type {\n",
       "        vertical-align: middle;\n",
       "    }\n",
       "\n",
       "    .dataframe tbody tr th {\n",
       "        vertical-align: top;\n",
       "    }\n",
       "\n",
       "    .dataframe thead th {\n",
       "        text-align: right;\n",
       "    }\n",
       "</style>\n",
       "<table border=\"1\" class=\"dataframe\">\n",
       "  <thead>\n",
       "    <tr style=\"text-align: right;\">\n",
       "      <th></th>\n",
       "      <th>인증번호</th>\n",
       "      <th>차종</th>\n",
       "      <th>제조사</th>\n",
       "      <th>차명</th>\n",
       "      <th>통계자료존재유무</th>\n",
       "    </tr>\n",
       "  </thead>\n",
       "  <tbody>\n",
       "    <tr>\n",
       "      <th>0</th>\n",
       "      <td>AMY-HD-14-35</td>\n",
       "      <td>화물</td>\n",
       "      <td>현대</td>\n",
       "      <td>트라고/엑시언트 (L엔진, D6CE)</td>\n",
       "      <td>Y</td>\n",
       "    </tr>\n",
       "    <tr>\n",
       "      <th>1</th>\n",
       "      <td>EMY-HD-14-45</td>\n",
       "      <td>승합</td>\n",
       "      <td>현대</td>\n",
       "      <td>유니버스 / 엑시언트 (L엔진, D6CG)</td>\n",
       "      <td>Y</td>\n",
       "    </tr>\n",
       "    <tr>\n",
       "      <th>2</th>\n",
       "      <td>EMY-HD-14-48</td>\n",
       "      <td>승합</td>\n",
       "      <td>현대</td>\n",
       "      <td>유니버스,뉴슈퍼에어로시티 / 엑시언트 (H엔진, D6HC)</td>\n",
       "      <td>Y</td>\n",
       "    </tr>\n",
       "    <tr>\n",
       "      <th>3</th>\n",
       "      <td>EMY-HD-14-51</td>\n",
       "      <td>승합</td>\n",
       "      <td>현대</td>\n",
       "      <td>현대그린시티, 이-에어로타운 / 메가트럭, 메가트럭(와이드캡), 파비스 (G엔진, ...</td>\n",
       "      <td>Y</td>\n",
       "    </tr>\n",
       "    <tr>\n",
       "      <th>4</th>\n",
       "      <td>EMY-HD-14-53</td>\n",
       "      <td>승합</td>\n",
       "      <td>현대</td>\n",
       "      <td>뉴카운티 / 마이티  (F엔진, D4GB)</td>\n",
       "      <td>Y</td>\n",
       "    </tr>\n",
       "  </tbody>\n",
       "</table>\n",
       "</div>"
      ],
      "text/plain": [
       "           인증번호  차종 제조사                                                 차명  \\\n",
       "0  AMY-HD-14-35  화물  현대                               트라고/엑시언트 (L엔진, D6CE)   \n",
       "1  EMY-HD-14-45  승합  현대                            유니버스 / 엑시언트 (L엔진, D6CG)   \n",
       "2  EMY-HD-14-48  승합  현대                   유니버스,뉴슈퍼에어로시티 / 엑시언트 (H엔진, D6HC)   \n",
       "3  EMY-HD-14-51  승합  현대  현대그린시티, 이-에어로타운 / 메가트럭, 메가트럭(와이드캡), 파비스 (G엔진, ...   \n",
       "4  EMY-HD-14-53  승합  현대                            뉴카운티 / 마이티  (F엔진, D4GB)   \n",
       "\n",
       "  통계자료존재유무  \n",
       "0        Y  \n",
       "1        Y  \n",
       "2        Y  \n",
       "3        Y  \n",
       "4        Y  "
      ]
     },
     "execution_count": 526,
     "metadata": {},
     "output_type": "execute_result"
    }
   ],
   "source": [
    "scr.head()"
   ]
  },
  {
   "cell_type": "code",
   "execution_count": 527,
   "metadata": {},
   "outputs": [],
   "source": [
    "pr = ccac.copy()"
   ]
  },
  {
   "cell_type": "code",
   "execution_count": 528,
   "metadata": {},
   "outputs": [
    {
     "data": {
      "text/plain": [
       "150"
      ]
     },
     "execution_count": 528,
     "metadata": {},
     "output_type": "execute_result"
    }
   ],
   "source": [
    "scr['차명'].isnull().sum()"
   ]
  },
  {
   "cell_type": "code",
   "execution_count": 529,
   "metadata": {},
   "outputs": [
    {
     "data": {
      "text/plain": [
       "False"
      ]
     },
     "execution_count": 529,
     "metadata": {},
     "output_type": "execute_result"
    }
   ],
   "source": [
    "not pd.isna(scr.loc[scr['차명'].isnull(), '차명'].values[0])"
   ]
  },
  {
   "cell_type": "code",
   "execution_count": 530,
   "metadata": {},
   "outputs": [],
   "source": [
    "# 5m 17.2s\n",
    "for one, two, three, four, five in scr.values: # 배출가스인증번호, 차종, 제조사, 차명, 통계자료존재유무\n",
    "    if one == 'FMY-DW-14-34': # FMY-DW-14-34의 값(차종, 제조사, 차명)이 비어있음\n",
    "        pr.loc[pr['배출가스인증번호'] == one, '통계자료존재유무'] = five\n",
    "    elif not pd.isna(four): # SCR통계에 차명이 존재하는 경우\n",
    "        pr.loc[pr['배출가스인증번호'] == one, ['차종', '제작사명', '차명', '통계자료존재유무']] = [two, three, four, five]\n",
    "    else: # SCR통계에 차명이 존재하지 않는 경우\n",
    "        pr.loc[pr['배출가스인증번호'] == one, ['차종', '제작사명', '통계자료존재유무']] = [two, three, five]"
   ]
  },
  {
   "cell_type": "code",
   "execution_count": 531,
   "metadata": {},
   "outputs": [
    {
     "data": {
      "text/plain": [
       "0"
      ]
     },
     "execution_count": 531,
     "metadata": {},
     "output_type": "execute_result"
    }
   ],
   "source": [
    "pr['차명'].isnull().sum()"
   ]
  },
  {
   "cell_type": "code",
   "execution_count": 532,
   "metadata": {},
   "outputs": [
    {
     "data": {
      "text/plain": [
       "(9533735, 22)"
      ]
     },
     "execution_count": 532,
     "metadata": {},
     "output_type": "execute_result"
    }
   ],
   "source": [
    "pr.shape"
   ]
  },
  {
   "cell_type": "code",
   "execution_count": 533,
   "metadata": {},
   "outputs": [
    {
     "data": {
      "text/plain": [
       "7379999"
      ]
     },
     "execution_count": 533,
     "metadata": {},
     "output_type": "execute_result"
    }
   ],
   "source": [
    "pr['통계자료존재유무'].isnull().sum()"
   ]
  },
  {
   "cell_type": "code",
   "execution_count": 534,
   "metadata": {},
   "outputs": [
    {
     "data": {
      "text/plain": [
       "차종           0\n",
       "제작사명       592\n",
       "차명           0\n",
       "구분      429555\n",
       "dtype: int64"
      ]
     },
     "execution_count": 534,
     "metadata": {},
     "output_type": "execute_result"
    }
   ],
   "source": [
    "pr[['차종', '제작사명', '차명', '구분']].isnull().sum()"
   ]
  },
  {
   "cell_type": "code",
   "execution_count": 535,
   "metadata": {},
   "outputs": [
    {
     "data": {
      "text/html": [
       "<div>\n",
       "<style scoped>\n",
       "    .dataframe tbody tr th:only-of-type {\n",
       "        vertical-align: middle;\n",
       "    }\n",
       "\n",
       "    .dataframe tbody tr th {\n",
       "        vertical-align: top;\n",
       "    }\n",
       "\n",
       "    .dataframe thead th {\n",
       "        text-align: right;\n",
       "    }\n",
       "</style>\n",
       "<table border=\"1\" class=\"dataframe\">\n",
       "  <thead>\n",
       "    <tr style=\"text-align: right;\">\n",
       "      <th></th>\n",
       "      <th>배출가스인증번호</th>\n",
       "      <th>배출가스등급</th>\n",
       "      <th>최초등록일자</th>\n",
       "      <th>용도</th>\n",
       "      <th>제원관리번호</th>\n",
       "      <th>차량말소유무</th>\n",
       "      <th>연식</th>\n",
       "      <th>차종</th>\n",
       "      <th>차대번호</th>\n",
       "      <th>배기량</th>\n",
       "      <th>...</th>\n",
       "      <th>연료</th>\n",
       "      <th>제작사명</th>\n",
       "      <th>총중량</th>\n",
       "      <th>차명</th>\n",
       "      <th>제작국</th>\n",
       "      <th>유럽기준</th>\n",
       "      <th>SCR유무</th>\n",
       "      <th>저감장치구분</th>\n",
       "      <th>구분</th>\n",
       "      <th>통계자료존재유무</th>\n",
       "    </tr>\n",
       "  </thead>\n",
       "  <tbody>\n",
       "    <tr>\n",
       "      <th>0</th>\n",
       "      <td>NaN</td>\n",
       "      <td>NaN</td>\n",
       "      <td>20231129.00</td>\n",
       "      <td>개인용</td>\n",
       "      <td>A0810012801972223</td>\n",
       "      <td>N</td>\n",
       "      <td>2024</td>\n",
       "      <td>승합</td>\n",
       "      <td>KMJYB371BRU160978</td>\n",
       "      <td>2199.00</td>\n",
       "      <td>...</td>\n",
       "      <td>경유</td>\n",
       "      <td>현대자동차(주)</td>\n",
       "      <td>3035.00</td>\n",
       "      <td>스타리아 (STARIA)</td>\n",
       "      <td>NaN</td>\n",
       "      <td>NaN</td>\n",
       "      <td>NaN</td>\n",
       "      <td>NaN</td>\n",
       "      <td>국내</td>\n",
       "      <td>NaN</td>\n",
       "    </tr>\n",
       "    <tr>\n",
       "      <th>1</th>\n",
       "      <td>NaN</td>\n",
       "      <td>NaN</td>\n",
       "      <td>20231129.00</td>\n",
       "      <td>개인용</td>\n",
       "      <td>A0510002302113123</td>\n",
       "      <td>N</td>\n",
       "      <td>2024</td>\n",
       "      <td>화물</td>\n",
       "      <td>KPADM4AE1RP216080</td>\n",
       "      <td>2157.00</td>\n",
       "      <td>...</td>\n",
       "      <td>경유</td>\n",
       "      <td>쌍용자동차(주)</td>\n",
       "      <td>3005.00</td>\n",
       "      <td>렉스턴스포츠 쿨멘 칸</td>\n",
       "      <td>NaN</td>\n",
       "      <td>NaN</td>\n",
       "      <td>NaN</td>\n",
       "      <td>NaN</td>\n",
       "      <td>국내</td>\n",
       "      <td>NaN</td>\n",
       "    </tr>\n",
       "    <tr>\n",
       "      <th>2</th>\n",
       "      <td>NaN</td>\n",
       "      <td>NaN</td>\n",
       "      <td>20231129.00</td>\n",
       "      <td>영업용</td>\n",
       "      <td>A0810005611852223</td>\n",
       "      <td>N</td>\n",
       "      <td>2024</td>\n",
       "      <td>승합</td>\n",
       "      <td>KMJHG17GPRC005566</td>\n",
       "      <td>3933.00</td>\n",
       "      <td>...</td>\n",
       "      <td>경유</td>\n",
       "      <td>현대자동차(주)</td>\n",
       "      <td>6195.00</td>\n",
       "      <td>뉴-카운티</td>\n",
       "      <td>NaN</td>\n",
       "      <td>NaN</td>\n",
       "      <td>NaN</td>\n",
       "      <td>NaN</td>\n",
       "      <td>국내</td>\n",
       "      <td>NaN</td>\n",
       "    </tr>\n",
       "    <tr>\n",
       "      <th>3</th>\n",
       "      <td>NaN</td>\n",
       "      <td>NaN</td>\n",
       "      <td>20231129.00</td>\n",
       "      <td>개인용</td>\n",
       "      <td>00034427000122223</td>\n",
       "      <td>N</td>\n",
       "      <td>2012</td>\n",
       "      <td>승합</td>\n",
       "      <td>KMJHG17HPCC011410</td>\n",
       "      <td>3933.00</td>\n",
       "      <td>...</td>\n",
       "      <td>경유</td>\n",
       "      <td>자기인증면제차량</td>\n",
       "      <td>5965.00</td>\n",
       "      <td>이-카운티</td>\n",
       "      <td>NaN</td>\n",
       "      <td>NaN</td>\n",
       "      <td>NaN</td>\n",
       "      <td>NaN</td>\n",
       "      <td>국내</td>\n",
       "      <td>NaN</td>\n",
       "    </tr>\n",
       "    <tr>\n",
       "      <th>4</th>\n",
       "      <td>NaN</td>\n",
       "      <td>NaN</td>\n",
       "      <td>20231129.00</td>\n",
       "      <td>영업용</td>\n",
       "      <td>A0810005612022223</td>\n",
       "      <td>N</td>\n",
       "      <td>2024</td>\n",
       "      <td>승합</td>\n",
       "      <td>KMJHK17GPRC005512</td>\n",
       "      <td>3933.00</td>\n",
       "      <td>...</td>\n",
       "      <td>경유</td>\n",
       "      <td>현대자동차(주)</td>\n",
       "      <td>6430.00</td>\n",
       "      <td>뉴-카운티 어린이운송차</td>\n",
       "      <td>NaN</td>\n",
       "      <td>NaN</td>\n",
       "      <td>NaN</td>\n",
       "      <td>NaN</td>\n",
       "      <td>국내</td>\n",
       "      <td>NaN</td>\n",
       "    </tr>\n",
       "  </tbody>\n",
       "</table>\n",
       "<p>5 rows × 22 columns</p>\n",
       "</div>"
      ],
      "text/plain": [
       "  배출가스인증번호 배출가스등급      최초등록일자   용도             제원관리번호 차량말소유무    연식  차종  \\\n",
       "0      NaN    NaN 20231129.00  개인용  A0810012801972223      N  2024  승합   \n",
       "1      NaN    NaN 20231129.00  개인용  A0510002302113123      N  2024  화물   \n",
       "2      NaN    NaN 20231129.00  영업용  A0810005611852223      N  2024  승합   \n",
       "3      NaN    NaN 20231129.00  개인용  00034427000122223      N  2012  승합   \n",
       "4      NaN    NaN 20231129.00  영업용  A0810005612022223      N  2024  승합   \n",
       "\n",
       "                차대번호     배기량  ...  연료      제작사명     총중량             차명  제작국  \\\n",
       "0  KMJYB371BRU160978 2199.00  ...  경유  현대자동차(주) 3035.00  스타리아 (STARIA)  NaN   \n",
       "1  KPADM4AE1RP216080 2157.00  ...  경유  쌍용자동차(주) 3005.00    렉스턴스포츠 쿨멘 칸  NaN   \n",
       "2  KMJHG17GPRC005566 3933.00  ...  경유  현대자동차(주) 6195.00          뉴-카운티  NaN   \n",
       "3  KMJHG17HPCC011410 3933.00  ...  경유  자기인증면제차량 5965.00          이-카운티  NaN   \n",
       "4  KMJHK17GPRC005512 3933.00  ...  경유  현대자동차(주) 6430.00   뉴-카운티 어린이운송차  NaN   \n",
       "\n",
       "  유럽기준 SCR유무 저감장치구분  구분 통계자료존재유무  \n",
       "0  NaN   NaN    NaN  국내      NaN  \n",
       "1  NaN   NaN    NaN  국내      NaN  \n",
       "2  NaN   NaN    NaN  국내      NaN  \n",
       "3  NaN   NaN    NaN  국내      NaN  \n",
       "4  NaN   NaN    NaN  국내      NaN  \n",
       "\n",
       "[5 rows x 22 columns]"
      ]
     },
     "execution_count": 535,
     "metadata": {},
     "output_type": "execute_result"
    }
   ],
   "source": [
    "pr.head()"
   ]
  },
  {
   "cell_type": "code",
   "execution_count": 536,
   "metadata": {},
   "outputs": [
    {
     "data": {
      "text/plain": [
       "Index(['배출가스인증번호', '배출가스등급', '최초등록일자', '용도', '제원관리번호', '차량말소유무', '연식', '차종',\n",
       "       '차대번호', '배기량', '엔진출력', '엔진형식', '연료', '제작사명', '총중량', '차명', '제작국', '유럽기준',\n",
       "       'SCR유무', '저감장치구분', '구분', '통계자료존재유무'],\n",
       "      dtype='object')"
      ]
     },
     "execution_count": 536,
     "metadata": {},
     "output_type": "execute_result"
    }
   ],
   "source": [
    "pr.columns"
   ]
  },
  {
   "cell_type": "code",
   "execution_count": 537,
   "metadata": {},
   "outputs": [
    {
     "data": {
      "text/plain": [
       "(9533735, 22)"
      ]
     },
     "execution_count": 537,
     "metadata": {},
     "output_type": "execute_result"
    }
   ],
   "source": [
    "pr.shape"
   ]
  },
  {
   "cell_type": "markdown",
   "metadata": {},
   "source": [
    "### [출력] 전처리 완료 파일"
   ]
  },
  {
   "cell_type": "code",
   "execution_count": 538,
   "metadata": {},
   "outputs": [
    {
     "data": {
      "text/plain": [
       "'20231217_AM_123124'"
      ]
     },
     "execution_count": 538,
     "metadata": {},
     "output_type": "execute_result"
    }
   ],
   "source": [
    "today_date_dtl = datetime.today().strftime('%Y%m%d_%p_%I%M%S')\n",
    "today_date_dtl"
   ]
  },
  {
   "cell_type": "code",
   "execution_count": 539,
   "metadata": {},
   "outputs": [
    {
     "name": "stdout",
     "output_type": "stream",
     "text": [
      "D:/data/processing/urea/raw\\등록_인증_저감_국내외구분_SCR통계참고_20231217_AM_123124.csv\n"
     ]
    }
   ],
   "source": [
    "# 1m 40.6s\n",
    "pr.to_csv(os.path.join(raw_fold, f'등록_인증_저감_국내외구분_SCR통계참고_{today_date_dtl}.csv'), index=False)\n",
    "print(os.path.join(raw_fold, f'등록_인증_저감_국내외구분_SCR통계참고_{today_date_dtl}.csv'))"
   ]
  },
  {
   "cell_type": "markdown",
   "metadata": {},
   "source": [
    "### [로드] 전처리 완료 파일"
   ]
  },
  {
   "cell_type": "code",
   "execution_count": 93,
   "metadata": {},
   "outputs": [
    {
     "name": "stderr",
     "output_type": "stream",
     "text": [
      "C:\\Users\\kbjung\\AppData\\Local\\Temp\\ipykernel_17400\\403363107.py:1: DtypeWarning: Columns (3,15,16,17,18,20) have mixed types. Specify dtype option on import or set low_memory=False.\n",
      "  pr = pd.read_csv(os.path.join(raw_fold, '등록_인증_저감_국내외구분_SCR통계참고_20231214_PM_094352.csv'))\n"
     ]
    },
    {
     "name": "stdout",
     "output_type": "stream",
     "text": [
      "<class 'pandas.core.frame.DataFrame'>\n",
      "RangeIndex: 9533735 entries, 0 to 9533734\n",
      "Data columns (total 21 columns):\n",
      " #   Column    Dtype  \n",
      "---  ------    -----  \n",
      " 0   배출가스인증번호  object \n",
      " 1   배출가스등급    float64\n",
      " 2   최초등록일자    float64\n",
      " 3   제원관리번호    object \n",
      " 4   차량말소유무    object \n",
      " 5   연식        int64  \n",
      " 6   차종        object \n",
      " 7   차대번호      object \n",
      " 8   배기량       float64\n",
      " 9   엔진출력      float64\n",
      " 10  엔진형식      object \n",
      " 11  연료        object \n",
      " 12  제작사명      object \n",
      " 13  총중량       float64\n",
      " 14  차명        object \n",
      " 15  제작국       object \n",
      " 16  유럽기준      object \n",
      " 17  SCR유무     object \n",
      " 18  저감장치구분    object \n",
      " 19  구분        object \n",
      " 20  통계자료존재유무  object \n",
      "dtypes: float64(5), int64(1), object(15)\n",
      "memory usage: 1.5+ GB\n"
     ]
    }
   ],
   "source": [
    "# # 31.0s\n",
    "# pr = pd.read_csv(os.path.join(raw_fold, '등록_인증_저감_국내외구분_SCR통계참고_20231217_AM_123124.csv'))\n",
    "# pr.info()"
   ]
  },
  {
   "cell_type": "code",
   "execution_count": 540,
   "metadata": {},
   "outputs": [
    {
     "data": {
      "text/plain": [
       "0"
      ]
     },
     "execution_count": 540,
     "metadata": {},
     "output_type": "execute_result"
    }
   ],
   "source": [
    "pr['차명'].isnull().sum()"
   ]
  },
  {
   "cell_type": "markdown",
   "metadata": {},
   "source": [
    "## 저공해조치 차량과 SCR차량 구분"
   ]
  },
  {
   "cell_type": "code",
   "execution_count": 314,
   "metadata": {},
   "outputs": [],
   "source": [
    "# 저공해조치차량\n",
    "    # 저감장치구분 : 1종+SCR인 차량\n",
    "# SCR차량(EURO6)\n",
    "    # SCR유무 : Y\n",
    "    # 국내 : 2017년 이상\n",
    "    # 국외 : 2015년 이상"
   ]
  },
  {
   "cell_type": "code",
   "execution_count": 541,
   "metadata": {},
   "outputs": [
    {
     "data": {
      "text/plain": [
       "2372"
      ]
     },
     "execution_count": 541,
     "metadata": {},
     "output_type": "execute_result"
    }
   ],
   "source": [
    "mnt_idx = pr[pr['저감장치구분'] == '1종+SCR'].index\n",
    "len(mnt_idx)"
   ]
  },
  {
   "cell_type": "code",
   "execution_count": 542,
   "metadata": {},
   "outputs": [
    {
     "data": {
      "text/plain": [
       "(2372, 22)"
      ]
     },
     "execution_count": 542,
     "metadata": {},
     "output_type": "execute_result"
    }
   ],
   "source": [
    "mnt = pr[pr['저감장치구분'] == '1종+SCR'].reset_index(drop=True)\n",
    "mnt.shape"
   ]
  },
  {
   "cell_type": "markdown",
   "metadata": {},
   "source": [
    "### [출력] 저공해조치 차량"
   ]
  },
  {
   "cell_type": "code",
   "execution_count": 543,
   "metadata": {},
   "outputs": [
    {
     "data": {
      "text/plain": [
       "'20231217_AM_123306'"
      ]
     },
     "execution_count": 543,
     "metadata": {},
     "output_type": "execute_result"
    }
   ],
   "source": [
    "today_date_dtl = datetime.today().strftime('%Y%m%d_%p_%I%M%S')\n",
    "today_date_dtl"
   ]
  },
  {
   "cell_type": "code",
   "execution_count": 544,
   "metadata": {},
   "outputs": [],
   "source": [
    "# # 1.7s\n",
    "# mnt.to_excel(os.path.join(df_fold, f'경유_저공해조치차량_{today_date_dtl}.xlsx'), index=False)"
   ]
  },
  {
   "cell_type": "code",
   "execution_count": 545,
   "metadata": {},
   "outputs": [
    {
     "data": {
      "text/plain": [
       "429555"
      ]
     },
     "execution_count": 545,
     "metadata": {},
     "output_type": "execute_result"
    }
   ],
   "source": [
    "pr['구분'].isnull().sum()"
   ]
  },
  {
   "cell_type": "code",
   "execution_count": 546,
   "metadata": {},
   "outputs": [
    {
     "data": {
      "text/plain": [
       "4433293"
      ]
     },
     "execution_count": 546,
     "metadata": {},
     "output_type": "execute_result"
    }
   ],
   "source": [
    "euro_idx = pr[(pr['저감장치구분'] != '1종+SCR') & ( ((pr['구분'] == '국내') & (pr['연식'] >= 2017)) | ((pr['구분'] == '국외') & (pr['연식'] >= 2015)) | (pr['SCR유무'] == 'Y') )].index\n",
    "len(euro_idx)"
   ]
  },
  {
   "cell_type": "code",
   "execution_count": 547,
   "metadata": {},
   "outputs": [
    {
     "data": {
      "text/plain": [
       "(4433293, 22)"
      ]
     },
     "execution_count": 547,
     "metadata": {},
     "output_type": "execute_result"
    }
   ],
   "source": [
    "euro = pr[(pr['저감장치구분'] != '1종+SCR') & ( ((pr['구분'] == '국내') & (pr['연식'] >= 2017)) | ((pr['구분'] == '국외') & (pr['연식'] >= 2015)) | (pr['SCR유무'] == 'Y') )].reset_index(drop=True)\n",
    "euro.shape"
   ]
  },
  {
   "cell_type": "code",
   "execution_count": 548,
   "metadata": {},
   "outputs": [
    {
     "data": {
      "text/plain": [
       "(9533735, 22)"
      ]
     },
     "execution_count": 548,
     "metadata": {},
     "output_type": "execute_result"
    }
   ],
   "source": [
    "pr.shape"
   ]
  },
  {
   "cell_type": "code",
   "execution_count": 549,
   "metadata": {},
   "outputs": [
    {
     "data": {
      "text/plain": [
       "5098070"
      ]
     },
     "execution_count": 549,
     "metadata": {},
     "output_type": "execute_result"
    }
   ],
   "source": [
    "total_idx = set(pr.index)\n",
    "rest_idx = total_idx - set(mnt_idx) - set(euro_idx)\n",
    "len(rest_idx)"
   ]
  },
  {
   "cell_type": "code",
   "execution_count": 550,
   "metadata": {},
   "outputs": [
    {
     "data": {
      "text/plain": [
       "(5098070, 22)"
      ]
     },
     "execution_count": 550,
     "metadata": {},
     "output_type": "execute_result"
    }
   ],
   "source": [
    "rest = pr.loc[list(rest_idx)].reset_index(drop=True)\n",
    "rest.shape"
   ]
  },
  {
   "cell_type": "code",
   "execution_count": 551,
   "metadata": {},
   "outputs": [
    {
     "data": {
      "text/plain": [
       "True"
      ]
     },
     "execution_count": 551,
     "metadata": {},
     "output_type": "execute_result"
    }
   ],
   "source": [
    "pr.shape[0] == len(mnt_idx) + len(euro_idx) + len(rest_idx)"
   ]
  },
  {
   "cell_type": "code",
   "execution_count": 552,
   "metadata": {},
   "outputs": [
    {
     "name": "stdout",
     "output_type": "stream",
     "text": [
      "1 0 500000\n",
      "2 500000 1000000\n",
      "3 1000000 1500000\n",
      "4 1500000 2000000\n",
      "5 2000000 2500000\n",
      "6 2500000 3000000\n",
      "7 3000000 3500000\n",
      "8 3500000 4000000\n",
      "9 4000000 4500000\n"
     ]
    }
   ],
   "source": [
    "div = 50 * 10**4\n",
    "for n in range(euro.shape[0] // div + 1):\n",
    "    print(n+1, n*div, (n+1) *div)"
   ]
  },
  {
   "cell_type": "code",
   "execution_count": 553,
   "metadata": {},
   "outputs": [],
   "source": [
    "# # \n",
    "# div = 50 * 10**4\n",
    "# for n in range(euro.shape[0] // div + 1):\n",
    "#     # print(n*div, (n+1) *div)\n",
    "#     euro.iloc[n*div:(n+1)*div].to_excel(os.path.join(df_fold, f'EURO차량현황{n+1}_{today_date}.xlsx'), index=False)"
   ]
  },
  {
   "cell_type": "markdown",
   "metadata": {},
   "source": [
    "# 분석"
   ]
  },
  {
   "cell_type": "markdown",
   "metadata": {},
   "source": [
    "## SCR 장착 차량 현황"
   ]
  },
  {
   "cell_type": "code",
   "execution_count": 554,
   "metadata": {},
   "outputs": [
    {
     "data": {
      "text/plain": [
       "4435665"
      ]
     },
     "execution_count": 554,
     "metadata": {},
     "output_type": "execute_result"
    }
   ],
   "source": [
    "mnt.shape[0] + euro.shape[0]"
   ]
  },
  {
   "cell_type": "code",
   "execution_count": 555,
   "metadata": {},
   "outputs": [
    {
     "data": {
      "text/plain": [
       "(4435665, 22)"
      ]
     },
     "execution_count": 555,
     "metadata": {},
     "output_type": "execute_result"
    }
   ],
   "source": [
    "me = pd.concat([mnt, euro], ignore_index=False).reset_index(drop=True)\n",
    "me.shape"
   ]
  },
  {
   "cell_type": "code",
   "execution_count": 556,
   "metadata": {},
   "outputs": [
    {
     "data": {
      "text/plain": [
       "Index(['배출가스인증번호', '배출가스등급', '최초등록일자', '용도', '제원관리번호', '차량말소유무', '연식', '차종',\n",
       "       '차대번호', '배기량', '엔진출력', '엔진형식', '연료', '제작사명', '총중량', '차명', '제작국', '유럽기준',\n",
       "       'SCR유무', '저감장치구분', '구분', '통계자료존재유무'],\n",
       "      dtype='object')"
      ]
     },
     "execution_count": 556,
     "metadata": {},
     "output_type": "execute_result"
    }
   ],
   "source": [
    "me.columns"
   ]
  },
  {
   "cell_type": "code",
   "execution_count": 557,
   "metadata": {},
   "outputs": [
    {
     "data": {
      "text/html": [
       "<div>\n",
       "<style scoped>\n",
       "    .dataframe tbody tr th:only-of-type {\n",
       "        vertical-align: middle;\n",
       "    }\n",
       "\n",
       "    .dataframe tbody tr th {\n",
       "        vertical-align: top;\n",
       "    }\n",
       "\n",
       "    .dataframe thead th {\n",
       "        text-align: right;\n",
       "    }\n",
       "</style>\n",
       "<table border=\"1\" class=\"dataframe\">\n",
       "  <thead>\n",
       "    <tr style=\"text-align: right;\">\n",
       "      <th></th>\n",
       "      <th>배출가스인증번호</th>\n",
       "      <th>제원관리번호</th>\n",
       "      <th>제작사명</th>\n",
       "      <th>연식</th>\n",
       "      <th>차종</th>\n",
       "      <th>엔진형식</th>\n",
       "      <th>배기량</th>\n",
       "      <th>엔진출력</th>\n",
       "      <th>차명</th>\n",
       "      <th>유럽기준</th>\n",
       "      <th>저감장치구분</th>\n",
       "      <th>통계자료존재유무</th>\n",
       "      <th>차량대수</th>\n",
       "    </tr>\n",
       "  </thead>\n",
       "  <tbody>\n",
       "    <tr>\n",
       "      <th>0</th>\n",
       "      <td>1MY-HD-52</td>\n",
       "      <td>A0810005400273304</td>\n",
       "      <td>현대자동차(주)</td>\n",
       "      <td>2004</td>\n",
       "      <td>화물</td>\n",
       "      <td>D6CA</td>\n",
       "      <td>12920.00</td>\n",
       "      <td>440.00</td>\n",
       "      <td>현대슈퍼트럭</td>\n",
       "      <td>NaN</td>\n",
       "      <td>1종+SCR</td>\n",
       "      <td>NaN</td>\n",
       "      <td>3</td>\n",
       "    </tr>\n",
       "    <tr>\n",
       "      <th>1</th>\n",
       "      <td>2MY-DW-04</td>\n",
       "      <td>A0310006500023303</td>\n",
       "      <td>타타대우상용차(주)</td>\n",
       "      <td>2003</td>\n",
       "      <td>화물</td>\n",
       "      <td>ISM</td>\n",
       "      <td>10824.00</td>\n",
       "      <td>415.00</td>\n",
       "      <td>대우25톤카고트럭</td>\n",
       "      <td>NaN</td>\n",
       "      <td>1종+SCR</td>\n",
       "      <td>NaN</td>\n",
       "      <td>1</td>\n",
       "    </tr>\n",
       "    <tr>\n",
       "      <th>2</th>\n",
       "      <td>2MY-DW-04</td>\n",
       "      <td>A0310006500023303</td>\n",
       "      <td>타타대우상용차(주)</td>\n",
       "      <td>2004</td>\n",
       "      <td>화물</td>\n",
       "      <td>ISM</td>\n",
       "      <td>10824.00</td>\n",
       "      <td>415.00</td>\n",
       "      <td>대우25톤카고트럭</td>\n",
       "      <td>NaN</td>\n",
       "      <td>1종+SCR</td>\n",
       "      <td>NaN</td>\n",
       "      <td>2</td>\n",
       "    </tr>\n",
       "    <tr>\n",
       "      <th>3</th>\n",
       "      <td>2MY-DW-04</td>\n",
       "      <td>A0310006500073303</td>\n",
       "      <td>타타대우상용차(주)</td>\n",
       "      <td>2004</td>\n",
       "      <td>화물</td>\n",
       "      <td>ISM</td>\n",
       "      <td>10824.00</td>\n",
       "      <td>415.00</td>\n",
       "      <td>대우25톤카고트럭</td>\n",
       "      <td>NaN</td>\n",
       "      <td>1종+SCR</td>\n",
       "      <td>NaN</td>\n",
       "      <td>27</td>\n",
       "    </tr>\n",
       "    <tr>\n",
       "      <th>4</th>\n",
       "      <td>2MY-DW-04</td>\n",
       "      <td>A0310006701013306</td>\n",
       "      <td>타타대우상용차(주)</td>\n",
       "      <td>2007</td>\n",
       "      <td>화물</td>\n",
       "      <td>ISM</td>\n",
       "      <td>10824.00</td>\n",
       "      <td>385.00</td>\n",
       "      <td>대우11.5톤장축카고트럭</td>\n",
       "      <td>NaN</td>\n",
       "      <td>1종+SCR</td>\n",
       "      <td>NaN</td>\n",
       "      <td>1</td>\n",
       "    </tr>\n",
       "    <tr>\n",
       "      <th>...</th>\n",
       "      <td>...</td>\n",
       "      <td>...</td>\n",
       "      <td>...</td>\n",
       "      <td>...</td>\n",
       "      <td>...</td>\n",
       "      <td>...</td>\n",
       "      <td>...</td>\n",
       "      <td>...</td>\n",
       "      <td>...</td>\n",
       "      <td>...</td>\n",
       "      <td>...</td>\n",
       "      <td>...</td>\n",
       "      <td>...</td>\n",
       "    </tr>\n",
       "    <tr>\n",
       "      <th>65316</th>\n",
       "      <td>NaN</td>\n",
       "      <td>EFW20000200004223</td>\n",
       "      <td>(주)영남캠핑카</td>\n",
       "      <td>2023</td>\n",
       "      <td>특수</td>\n",
       "      <td>F1CFL4117</td>\n",
       "      <td>2998.00</td>\n",
       "      <td>180.00</td>\n",
       "      <td>영남캠핑카</td>\n",
       "      <td>NaN</td>\n",
       "      <td>NaN</td>\n",
       "      <td>NaN</td>\n",
       "      <td>1</td>\n",
       "    </tr>\n",
       "    <tr>\n",
       "      <th>65317</th>\n",
       "      <td>NaN</td>\n",
       "      <td>EG810000100003323</td>\n",
       "      <td>토마토특장</td>\n",
       "      <td>2024</td>\n",
       "      <td>화물</td>\n",
       "      <td>F3GGE611A</td>\n",
       "      <td>11120.00</td>\n",
       "      <td>480.00</td>\n",
       "      <td>토마토12.5톤윙바디트럭</td>\n",
       "      <td>NaN</td>\n",
       "      <td>NaN</td>\n",
       "      <td>NaN</td>\n",
       "      <td>1</td>\n",
       "    </tr>\n",
       "    <tr>\n",
       "      <th>65318</th>\n",
       "      <td>NaN</td>\n",
       "      <td>EGA20000100003323</td>\n",
       "      <td>이노특장</td>\n",
       "      <td>2023</td>\n",
       "      <td>화물</td>\n",
       "      <td>DC13164</td>\n",
       "      <td>12742.00</td>\n",
       "      <td>450.00</td>\n",
       "      <td>이노특장16톤상승윙바디</td>\n",
       "      <td>NaN</td>\n",
       "      <td>NaN</td>\n",
       "      <td>NaN</td>\n",
       "      <td>1</td>\n",
       "    </tr>\n",
       "    <tr>\n",
       "      <th>65319</th>\n",
       "      <td>NaN</td>\n",
       "      <td>EGA20000300003323</td>\n",
       "      <td>이노특장</td>\n",
       "      <td>2024</td>\n",
       "      <td>화물</td>\n",
       "      <td>DC13173</td>\n",
       "      <td>12742.00</td>\n",
       "      <td>560.00</td>\n",
       "      <td>이노특장23톤상승윙바디</td>\n",
       "      <td>NaN</td>\n",
       "      <td>NaN</td>\n",
       "      <td>NaN</td>\n",
       "      <td>1</td>\n",
       "    </tr>\n",
       "    <tr>\n",
       "      <th>65320</th>\n",
       "      <td>NaN</td>\n",
       "      <td>EH020000100003323</td>\n",
       "      <td>티엠(TM)공업</td>\n",
       "      <td>2023</td>\n",
       "      <td>화물</td>\n",
       "      <td>D13</td>\n",
       "      <td>12777.00</td>\n",
       "      <td>540.00</td>\n",
       "      <td>티엠21.5톤무빙워크재활용품운송차량</td>\n",
       "      <td>NaN</td>\n",
       "      <td>NaN</td>\n",
       "      <td>NaN</td>\n",
       "      <td>1</td>\n",
       "    </tr>\n",
       "  </tbody>\n",
       "</table>\n",
       "<p>65321 rows × 13 columns</p>\n",
       "</div>"
      ],
      "text/plain": [
       "        배출가스인증번호             제원관리번호        제작사명    연식  차종       엔진형식      배기량  \\\n",
       "0      1MY-HD-52  A0810005400273304    현대자동차(주)  2004  화물       D6CA 12920.00   \n",
       "1      2MY-DW-04  A0310006500023303  타타대우상용차(주)  2003  화물        ISM 10824.00   \n",
       "2      2MY-DW-04  A0310006500023303  타타대우상용차(주)  2004  화물        ISM 10824.00   \n",
       "3      2MY-DW-04  A0310006500073303  타타대우상용차(주)  2004  화물        ISM 10824.00   \n",
       "4      2MY-DW-04  A0310006701013306  타타대우상용차(주)  2007  화물        ISM 10824.00   \n",
       "...          ...                ...         ...   ...  ..        ...      ...   \n",
       "65316        NaN  EFW20000200004223    (주)영남캠핑카  2023  특수  F1CFL4117  2998.00   \n",
       "65317        NaN  EG810000100003323       토마토특장  2024  화물  F3GGE611A 11120.00   \n",
       "65318        NaN  EGA20000100003323        이노특장  2023  화물    DC13164 12742.00   \n",
       "65319        NaN  EGA20000300003323        이노특장  2024  화물    DC13173 12742.00   \n",
       "65320        NaN  EH020000100003323    티엠(TM)공업  2023  화물        D13 12777.00   \n",
       "\n",
       "        엔진출력                   차명 유럽기준  저감장치구분 통계자료존재유무  차량대수  \n",
       "0     440.00               현대슈퍼트럭  NaN  1종+SCR      NaN     3  \n",
       "1     415.00            대우25톤카고트럭  NaN  1종+SCR      NaN     1  \n",
       "2     415.00            대우25톤카고트럭  NaN  1종+SCR      NaN     2  \n",
       "3     415.00            대우25톤카고트럭  NaN  1종+SCR      NaN    27  \n",
       "4     385.00        대우11.5톤장축카고트럭  NaN  1종+SCR      NaN     1  \n",
       "...      ...                  ...  ...     ...      ...   ...  \n",
       "65316 180.00                영남캠핑카  NaN     NaN      NaN     1  \n",
       "65317 480.00        토마토12.5톤윙바디트럭  NaN     NaN      NaN     1  \n",
       "65318 450.00         이노특장16톤상승윙바디  NaN     NaN      NaN     1  \n",
       "65319 560.00         이노특장23톤상승윙바디  NaN     NaN      NaN     1  \n",
       "65320 540.00  티엠21.5톤무빙워크재활용품운송차량  NaN     NaN      NaN     1  \n",
       "\n",
       "[65321 rows x 13 columns]"
      ]
     },
     "execution_count": 557,
     "metadata": {},
     "output_type": "execute_result"
    }
   ],
   "source": [
    "# 3.6s\n",
    "# megrp1 = me.groupby(['배출가스인증번호', '제작사명', '연식', '차종', '차명', '통계자료존재유무'], dropna=False)['차대번호'].count().reset_index()\n",
    "megrp1 = me.groupby(['배출가스인증번호', '제원관리번호', '제작사명', '연식', '차종', '엔진형식', '배기량', '엔진출력', '차명', '유럽기준', '저감장치구분', '통계자료존재유무'], dropna=False)['차대번호'].count().reset_index()\n",
    "megrp1 = megrp1.rename(columns={'차대번호':'차량대수'})\n",
    "megrp1"
   ]
  },
  {
   "cell_type": "code",
   "execution_count": 558,
   "metadata": {},
   "outputs": [
    {
     "data": {
      "text/plain": [
       "4435665"
      ]
     },
     "execution_count": 558,
     "metadata": {},
     "output_type": "execute_result"
    }
   ],
   "source": [
    "megrp1['차량대수'].sum()"
   ]
  },
  {
   "cell_type": "code",
   "execution_count": 559,
   "metadata": {},
   "outputs": [
    {
     "data": {
      "text/plain": [
       "배출가스인증번호    37550\n",
       "제원관리번호          0\n",
       "제작사명            0\n",
       "연식              0\n",
       "차종              0\n",
       "엔진형식            0\n",
       "배기량             0\n",
       "엔진출력            1\n",
       "차명              0\n",
       "유럽기준        47720\n",
       "저감장치구분      64834\n",
       "통계자료존재유무    42020\n",
       "차량대수            0\n",
       "dtype: int64"
      ]
     },
     "execution_count": 559,
     "metadata": {},
     "output_type": "execute_result"
    }
   ],
   "source": [
    "megrp1.isnull().sum()"
   ]
  },
  {
   "cell_type": "code",
   "execution_count": 560,
   "metadata": {},
   "outputs": [
    {
     "data": {
      "text/plain": [
       "2372"
      ]
     },
     "execution_count": 560,
     "metadata": {},
     "output_type": "execute_result"
    }
   ],
   "source": [
    "megrp1.loc[megrp1['저감장치구분'].notnull(), '차량대수'].sum()"
   ]
  },
  {
   "cell_type": "code",
   "execution_count": 561,
   "metadata": {},
   "outputs": [
    {
     "data": {
      "text/plain": [
       "66790"
      ]
     },
     "execution_count": 561,
     "metadata": {},
     "output_type": "execute_result"
    }
   ],
   "source": [
    "megrp1.loc[(megrp1['유럽기준'].notnull()) & (megrp1['통계자료존재유무'].isnull()), '차량대수'].sum()"
   ]
  },
  {
   "cell_type": "code",
   "execution_count": 562,
   "metadata": {},
   "outputs": [
    {
     "data": {
      "text/plain": [
       "1114766"
      ]
     },
     "execution_count": 562,
     "metadata": {},
     "output_type": "execute_result"
    }
   ],
   "source": [
    "megrp1.loc[(megrp1['유럽기준'].isnull()) & (megrp1['통계자료존재유무'].notnull()), '차량대수'].sum()"
   ]
  },
  {
   "cell_type": "code",
   "execution_count": 563,
   "metadata": {},
   "outputs": [
    {
     "data": {
      "text/plain": [
       "2175420"
      ]
     },
     "execution_count": 563,
     "metadata": {},
     "output_type": "execute_result"
    }
   ],
   "source": [
    "megrp1.loc[(megrp1['유럽기준'].notnull()) | (megrp1['통계자료존재유무'].notnull()), '차량대수'].sum()"
   ]
  },
  {
   "cell_type": "code",
   "execution_count": 564,
   "metadata": {},
   "outputs": [
    {
     "data": {
      "text/plain": [
       "'20231217_AM_123328'"
      ]
     },
     "execution_count": 564,
     "metadata": {},
     "output_type": "execute_result"
    }
   ],
   "source": [
    "today_date_dtl = datetime.today().strftime('%Y%m%d_%p_%I%M%S')\n",
    "today_date_dtl"
   ]
  },
  {
   "cell_type": "markdown",
   "metadata": {},
   "source": [
    "### [출력] 경유차량 통계"
   ]
  },
  {
   "cell_type": "code",
   "execution_count": 565,
   "metadata": {},
   "outputs": [],
   "source": [
    "# # 19.0s\n",
    "# megrp1.to_excel(os.path.join(an_fold, f'경유차량_통계_{today_date_dtl}.xlsx'), index=False)"
   ]
  },
  {
   "cell_type": "markdown",
   "metadata": {},
   "source": [
    "## SCR 장착 확인 차량 정보 추가"
   ]
  },
  {
   "cell_type": "code",
   "execution_count": 566,
   "metadata": {},
   "outputs": [
    {
     "data": {
      "text/html": [
       "<div>\n",
       "<style scoped>\n",
       "    .dataframe tbody tr th:only-of-type {\n",
       "        vertical-align: middle;\n",
       "    }\n",
       "\n",
       "    .dataframe tbody tr th {\n",
       "        vertical-align: top;\n",
       "    }\n",
       "\n",
       "    .dataframe thead th {\n",
       "        text-align: right;\n",
       "    }\n",
       "</style>\n",
       "<table border=\"1\" class=\"dataframe\">\n",
       "  <thead>\n",
       "    <tr style=\"text-align: right;\">\n",
       "      <th></th>\n",
       "      <th>배출가스인증번호</th>\n",
       "      <th>제원관리번호</th>\n",
       "      <th>제작사명</th>\n",
       "      <th>연식</th>\n",
       "      <th>차종</th>\n",
       "      <th>엔진형식</th>\n",
       "      <th>배기량</th>\n",
       "      <th>엔진출력</th>\n",
       "      <th>차명</th>\n",
       "      <th>유럽기준</th>\n",
       "      <th>저감장치구분</th>\n",
       "      <th>통계자료존재유무</th>\n",
       "      <th>차량대수</th>\n",
       "      <th>SCR 장착여부 확인 (1:장착, 2:미장착)</th>\n",
       "    </tr>\n",
       "  </thead>\n",
       "  <tbody>\n",
       "    <tr>\n",
       "      <th>0</th>\n",
       "      <td>NaN</td>\n",
       "      <td>0003412h000061221</td>\n",
       "      <td>자기인증면제차량</td>\n",
       "      <td>2015</td>\n",
       "      <td>승용</td>\n",
       "      <td>20953</td>\n",
       "      <td>1598</td>\n",
       "      <td>100.00</td>\n",
       "      <td>MERCEDES-BENZ C200</td>\n",
       "      <td>NaN</td>\n",
       "      <td>NaN</td>\n",
       "      <td>NaN</td>\n",
       "      <td>1</td>\n",
       "      <td>1.00</td>\n",
       "    </tr>\n",
       "    <tr>\n",
       "      <th>1</th>\n",
       "      <td>NaN</td>\n",
       "      <td>2GY20000300003320</td>\n",
       "      <td>전라남도소방본부</td>\n",
       "      <td>2019</td>\n",
       "      <td>화물</td>\n",
       "      <td>542972</td>\n",
       "      <td>15930</td>\n",
       "      <td>700.00</td>\n",
       "      <td>ZIEGLER내폭화학소방차</td>\n",
       "      <td>NaN</td>\n",
       "      <td>NaN</td>\n",
       "      <td>NaN</td>\n",
       "      <td>1</td>\n",
       "      <td>1.00</td>\n",
       "    </tr>\n",
       "    <tr>\n",
       "      <th>2</th>\n",
       "      <td>BMY-MK-12-8</td>\n",
       "      <td>00820003200111313</td>\n",
       "      <td>메르세데스벤츠코리아(주)</td>\n",
       "      <td>2015</td>\n",
       "      <td>승용</td>\n",
       "      <td>642826</td>\n",
       "      <td>2987</td>\n",
       "      <td>258.00</td>\n",
       "      <td>ML350 BlueTEC 4Matic</td>\n",
       "      <td>NaN</td>\n",
       "      <td>NaN</td>\n",
       "      <td>NaN</td>\n",
       "      <td>2</td>\n",
       "      <td>1.00</td>\n",
       "    </tr>\n",
       "    <tr>\n",
       "      <th>3</th>\n",
       "      <td>BMY-MK-12-8</td>\n",
       "      <td>00820003200121314</td>\n",
       "      <td>메르세데스벤츠코리아(주)</td>\n",
       "      <td>2015</td>\n",
       "      <td>승용</td>\n",
       "      <td>642826</td>\n",
       "      <td>2987</td>\n",
       "      <td>258.00</td>\n",
       "      <td>ML350 BlueTEC 4Matic</td>\n",
       "      <td>NaN</td>\n",
       "      <td>NaN</td>\n",
       "      <td>NaN</td>\n",
       "      <td>718</td>\n",
       "      <td>1.00</td>\n",
       "    </tr>\n",
       "    <tr>\n",
       "      <th>4</th>\n",
       "      <td>NaN</td>\n",
       "      <td>00031105000111319</td>\n",
       "      <td>자기인증면제차량</td>\n",
       "      <td>2016</td>\n",
       "      <td>승용</td>\n",
       "      <td>642826</td>\n",
       "      <td>2987</td>\n",
       "      <td>258.00</td>\n",
       "      <td>MERCEDES-BENZ GLE350d</td>\n",
       "      <td>NaN</td>\n",
       "      <td>NaN</td>\n",
       "      <td>NaN</td>\n",
       "      <td>1</td>\n",
       "      <td>1.00</td>\n",
       "    </tr>\n",
       "  </tbody>\n",
       "</table>\n",
       "</div>"
      ],
      "text/plain": [
       "      배출가스인증번호             제원관리번호           제작사명    연식  차종    엔진형식    배기량  \\\n",
       "0          NaN  0003412h000061221       자기인증면제차량  2015  승용   20953   1598   \n",
       "1          NaN  2GY20000300003320       전라남도소방본부  2019  화물  542972  15930   \n",
       "2  BMY-MK-12-8  00820003200111313  메르세데스벤츠코리아(주)  2015  승용  642826   2987   \n",
       "3  BMY-MK-12-8  00820003200121314  메르세데스벤츠코리아(주)  2015  승용  642826   2987   \n",
       "4          NaN  00031105000111319       자기인증면제차량  2016  승용  642826   2987   \n",
       "\n",
       "    엔진출력                     차명 유럽기준 저감장치구분 통계자료존재유무  차량대수  \\\n",
       "0 100.00     MERCEDES-BENZ C200  NaN    NaN      NaN     1   \n",
       "1 700.00         ZIEGLER내폭화학소방차  NaN    NaN      NaN     1   \n",
       "2 258.00   ML350 BlueTEC 4Matic  NaN    NaN      NaN     2   \n",
       "3 258.00   ML350 BlueTEC 4Matic  NaN    NaN      NaN   718   \n",
       "4 258.00  MERCEDES-BENZ GLE350d  NaN    NaN      NaN     1   \n",
       "\n",
       "   SCR 장착여부 확인 (1:장착, 2:미장착)  \n",
       "0                       1.00  \n",
       "1                       1.00  \n",
       "2                       1.00  \n",
       "3                       1.00  \n",
       "4                       1.00  "
      ]
     },
     "execution_count": 566,
     "metadata": {},
     "output_type": "execute_result"
    }
   ],
   "source": [
    "scr_ck.head()"
   ]
  },
  {
   "cell_type": "code",
   "execution_count": 567,
   "metadata": {},
   "outputs": [],
   "source": [
    "scr_ckm = scr_ck.reset_index(drop=True).copy()\n",
    "scr_ckm['확인'] = 1"
   ]
  },
  {
   "cell_type": "code",
   "execution_count": 568,
   "metadata": {},
   "outputs": [
    {
     "data": {
      "text/html": [
       "<div>\n",
       "<style scoped>\n",
       "    .dataframe tbody tr th:only-of-type {\n",
       "        vertical-align: middle;\n",
       "    }\n",
       "\n",
       "    .dataframe tbody tr th {\n",
       "        vertical-align: top;\n",
       "    }\n",
       "\n",
       "    .dataframe thead th {\n",
       "        text-align: right;\n",
       "    }\n",
       "</style>\n",
       "<table border=\"1\" class=\"dataframe\">\n",
       "  <thead>\n",
       "    <tr style=\"text-align: right;\">\n",
       "      <th></th>\n",
       "      <th>배출가스인증번호</th>\n",
       "      <th>배출가스등급</th>\n",
       "      <th>최초등록일자</th>\n",
       "      <th>용도</th>\n",
       "      <th>제원관리번호</th>\n",
       "      <th>차량말소유무</th>\n",
       "      <th>연식</th>\n",
       "      <th>차종</th>\n",
       "      <th>차대번호</th>\n",
       "      <th>배기량</th>\n",
       "      <th>...</th>\n",
       "      <th>연료</th>\n",
       "      <th>제작사명</th>\n",
       "      <th>총중량</th>\n",
       "      <th>차명</th>\n",
       "      <th>제작국</th>\n",
       "      <th>유럽기준</th>\n",
       "      <th>SCR유무</th>\n",
       "      <th>저감장치구분</th>\n",
       "      <th>구분</th>\n",
       "      <th>통계자료존재유무</th>\n",
       "    </tr>\n",
       "  </thead>\n",
       "  <tbody>\n",
       "    <tr>\n",
       "      <th>0</th>\n",
       "      <td>4MY-HD-34</td>\n",
       "      <td>5</td>\n",
       "      <td>20201223.00</td>\n",
       "      <td>영업용</td>\n",
       "      <td>A0810005301663304</td>\n",
       "      <td>N</td>\n",
       "      <td>2005</td>\n",
       "      <td>화물</td>\n",
       "      <td>KMFDA18TP5C003803</td>\n",
       "      <td>12344.00</td>\n",
       "      <td>...</td>\n",
       "      <td>경유</td>\n",
       "      <td>현대자동차(주)</td>\n",
       "      <td>22710.00</td>\n",
       "      <td>뉴파워트럭</td>\n",
       "      <td>NaN</td>\n",
       "      <td>NaN</td>\n",
       "      <td>NaN</td>\n",
       "      <td>1종+SCR</td>\n",
       "      <td>국내</td>\n",
       "      <td>NaN</td>\n",
       "    </tr>\n",
       "    <tr>\n",
       "      <th>1</th>\n",
       "      <td>NaN</td>\n",
       "      <td>5</td>\n",
       "      <td>20191118.00</td>\n",
       "      <td>영업용</td>\n",
       "      <td>00034416000083319</td>\n",
       "      <td>N</td>\n",
       "      <td>2006</td>\n",
       "      <td>화물</td>\n",
       "      <td>KMFDA18TP6C011717</td>\n",
       "      <td>12344.00</td>\n",
       "      <td>...</td>\n",
       "      <td>경유</td>\n",
       "      <td>자기인증면제차량</td>\n",
       "      <td>22605.00</td>\n",
       "      <td>뉴파워트럭</td>\n",
       "      <td>NaN</td>\n",
       "      <td>NaN</td>\n",
       "      <td>NaN</td>\n",
       "      <td>1종+SCR</td>\n",
       "      <td>국내</td>\n",
       "      <td>NaN</td>\n",
       "    </tr>\n",
       "    <tr>\n",
       "      <th>2</th>\n",
       "      <td>4MY-HD-55</td>\n",
       "      <td>5</td>\n",
       "      <td>20171027.00</td>\n",
       "      <td>영업용</td>\n",
       "      <td>A0810005302353305</td>\n",
       "      <td>N</td>\n",
       "      <td>2006</td>\n",
       "      <td>화물</td>\n",
       "      <td>KMFDA18BP6C007799</td>\n",
       "      <td>11149.00</td>\n",
       "      <td>...</td>\n",
       "      <td>경유</td>\n",
       "      <td>현대자동차(주)</td>\n",
       "      <td>16400.00</td>\n",
       "      <td>뉴 파워트럭</td>\n",
       "      <td>NaN</td>\n",
       "      <td>NaN</td>\n",
       "      <td>NaN</td>\n",
       "      <td>1종+SCR</td>\n",
       "      <td>국내</td>\n",
       "      <td>NaN</td>\n",
       "    </tr>\n",
       "    <tr>\n",
       "      <th>3</th>\n",
       "      <td>4MY-HD-55</td>\n",
       "      <td>5</td>\n",
       "      <td>20151028.00</td>\n",
       "      <td>개인용</td>\n",
       "      <td>A0810005301343304</td>\n",
       "      <td>N</td>\n",
       "      <td>2005</td>\n",
       "      <td>화물</td>\n",
       "      <td>KMFDA18BP5C002336</td>\n",
       "      <td>11149.00</td>\n",
       "      <td>...</td>\n",
       "      <td>경유</td>\n",
       "      <td>현대자동차(주)</td>\n",
       "      <td>19185.00</td>\n",
       "      <td>뉴 파워트럭</td>\n",
       "      <td>NaN</td>\n",
       "      <td>NaN</td>\n",
       "      <td>NaN</td>\n",
       "      <td>1종+SCR</td>\n",
       "      <td>국내</td>\n",
       "      <td>NaN</td>\n",
       "    </tr>\n",
       "    <tr>\n",
       "      <th>4</th>\n",
       "      <td>4MY-HD-55</td>\n",
       "      <td>5</td>\n",
       "      <td>20141126.00</td>\n",
       "      <td>영업용</td>\n",
       "      <td>A0810005301343304</td>\n",
       "      <td>N</td>\n",
       "      <td>2005</td>\n",
       "      <td>화물</td>\n",
       "      <td>KMFDA18BP5C002335</td>\n",
       "      <td>11149.00</td>\n",
       "      <td>...</td>\n",
       "      <td>경유</td>\n",
       "      <td>현대자동차(주)</td>\n",
       "      <td>19185.00</td>\n",
       "      <td>뉴 파워트럭</td>\n",
       "      <td>NaN</td>\n",
       "      <td>NaN</td>\n",
       "      <td>NaN</td>\n",
       "      <td>1종+SCR</td>\n",
       "      <td>국내</td>\n",
       "      <td>NaN</td>\n",
       "    </tr>\n",
       "  </tbody>\n",
       "</table>\n",
       "<p>5 rows × 22 columns</p>\n",
       "</div>"
      ],
      "text/plain": [
       "    배출가스인증번호 배출가스등급      최초등록일자   용도             제원관리번호 차량말소유무    연식  차종  \\\n",
       "0  4MY-HD-34      5 20201223.00  영업용  A0810005301663304      N  2005  화물   \n",
       "1        NaN      5 20191118.00  영업용  00034416000083319      N  2006  화물   \n",
       "2  4MY-HD-55      5 20171027.00  영업용  A0810005302353305      N  2006  화물   \n",
       "3  4MY-HD-55      5 20151028.00  개인용  A0810005301343304      N  2005  화물   \n",
       "4  4MY-HD-55      5 20141126.00  영업용  A0810005301343304      N  2005  화물   \n",
       "\n",
       "                차대번호      배기량  ...  연료      제작사명      총중량      차명  제작국 유럽기준  \\\n",
       "0  KMFDA18TP5C003803 12344.00  ...  경유  현대자동차(주) 22710.00   뉴파워트럭  NaN  NaN   \n",
       "1  KMFDA18TP6C011717 12344.00  ...  경유  자기인증면제차량 22605.00   뉴파워트럭  NaN  NaN   \n",
       "2  KMFDA18BP6C007799 11149.00  ...  경유  현대자동차(주) 16400.00  뉴 파워트럭  NaN  NaN   \n",
       "3  KMFDA18BP5C002336 11149.00  ...  경유  현대자동차(주) 19185.00  뉴 파워트럭  NaN  NaN   \n",
       "4  KMFDA18BP5C002335 11149.00  ...  경유  현대자동차(주) 19185.00  뉴 파워트럭  NaN  NaN   \n",
       "\n",
       "  SCR유무  저감장치구분  구분 통계자료존재유무  \n",
       "0   NaN  1종+SCR  국내      NaN  \n",
       "1   NaN  1종+SCR  국내      NaN  \n",
       "2   NaN  1종+SCR  국내      NaN  \n",
       "3   NaN  1종+SCR  국내      NaN  \n",
       "4   NaN  1종+SCR  국내      NaN  \n",
       "\n",
       "[5 rows x 22 columns]"
      ]
     },
     "execution_count": 568,
     "metadata": {},
     "output_type": "execute_result"
    }
   ],
   "source": [
    "me.head()"
   ]
  },
  {
   "cell_type": "markdown",
   "metadata": {},
   "source": [
    "### 엔진형식 빈칸 제거"
   ]
  },
  {
   "cell_type": "code",
   "execution_count": 569,
   "metadata": {},
   "outputs": [
    {
     "data": {
      "text/plain": [
       "5612      651 921\n",
       "16534     651 921\n",
       "49311     654 920\n",
       "121842    654 920\n",
       "130562    651 950\n",
       "Name: 엔진형식, dtype: object"
      ]
     },
     "execution_count": 569,
     "metadata": {},
     "output_type": "execute_result"
    }
   ],
   "source": [
    "me.loc[me['엔진형식'].str.contains(' '), '엔진형식'].head()"
   ]
  },
  {
   "cell_type": "code",
   "execution_count": 570,
   "metadata": {},
   "outputs": [
    {
     "data": {
      "text/plain": [
       "5612     651921\n",
       "16534    651921\n",
       "49311    654920\n",
       "Name: 엔진형식, dtype: object"
      ]
     },
     "execution_count": 570,
     "metadata": {},
     "output_type": "execute_result"
    }
   ],
   "source": [
    "me['엔진형식'] = me['엔진형식'].str.replace(' ', '')\n",
    "me.loc[[5612, 16534, 49311], '엔진형식']"
   ]
  },
  {
   "cell_type": "code",
   "execution_count": 571,
   "metadata": {},
   "outputs": [
    {
     "data": {
      "text/plain": [
       "dtype('O')"
      ]
     },
     "execution_count": 571,
     "metadata": {},
     "output_type": "execute_result"
    }
   ],
   "source": [
    "me['엔진형식'].dtype"
   ]
  },
  {
   "cell_type": "code",
   "execution_count": 572,
   "metadata": {},
   "outputs": [
    {
     "data": {
      "text/plain": [
       "dtype('O')"
      ]
     },
     "execution_count": 572,
     "metadata": {},
     "output_type": "execute_result"
    }
   ],
   "source": [
    "scr_ckm['엔진형식'].dtype"
   ]
  },
  {
   "cell_type": "markdown",
   "metadata": {},
   "source": [
    "#### 오류 수정\n",
    "- scr_ck : 20953 -> '020953'\n",
    "- 엔진형식 str 타입으로 수정"
   ]
  },
  {
   "cell_type": "code",
   "execution_count": 573,
   "metadata": {},
   "outputs": [
    {
     "data": {
      "text/plain": [
       "801702    020953\n",
       "Name: 엔진형식, dtype: object"
      ]
     },
     "execution_count": 573,
     "metadata": {},
     "output_type": "execute_result"
    }
   ],
   "source": [
    "me.loc[me['엔진형식'] == '020953', '엔진형식']"
   ]
  },
  {
   "cell_type": "code",
   "execution_count": 574,
   "metadata": {},
   "outputs": [],
   "source": [
    "me['엔진형식'] = me['엔진형식'].astype('str')"
   ]
  },
  {
   "cell_type": "code",
   "execution_count": 575,
   "metadata": {},
   "outputs": [
    {
     "data": {
      "text/plain": [
       "0    20953\n",
       "Name: 엔진형식, dtype: object"
      ]
     },
     "execution_count": 575,
     "metadata": {},
     "output_type": "execute_result"
    }
   ],
   "source": [
    "scr_ckm.loc[scr_ckm['엔진형식'] == 20953, '엔진형식']"
   ]
  },
  {
   "cell_type": "code",
   "execution_count": 576,
   "metadata": {},
   "outputs": [],
   "source": [
    "scr_ckm['엔진형식'] = scr_ckm['엔진형식'].astype('str')\n",
    "scr_ckm['엔진형식'] = scr_ckm['엔진형식'].str.replace('20953', '020953')"
   ]
  },
  {
   "cell_type": "code",
   "execution_count": 577,
   "metadata": {},
   "outputs": [
    {
     "data": {
      "text/plain": [
       "Series([], Name: 엔진형식, dtype: object)"
      ]
     },
     "execution_count": 577,
     "metadata": {},
     "output_type": "execute_result"
    }
   ],
   "source": [
    "scr_ckm.loc[scr_ckm['엔진형식'] == 20953, '엔진형식']"
   ]
  },
  {
   "cell_type": "code",
   "execution_count": 578,
   "metadata": {},
   "outputs": [
    {
     "data": {
      "text/plain": [
       "0    020953\n",
       "Name: 엔진형식, dtype: object"
      ]
     },
     "execution_count": 578,
     "metadata": {},
     "output_type": "execute_result"
    }
   ],
   "source": [
    "scr_ckm.loc[scr_ckm['엔진형식'] == '020953', '엔진형식']"
   ]
  },
  {
   "cell_type": "markdown",
   "metadata": {},
   "source": [
    "### 제원관리번호 타입 변환\n",
    "- str"
   ]
  },
  {
   "cell_type": "code",
   "execution_count": 579,
   "metadata": {},
   "outputs": [],
   "source": [
    "me['제원관리번호'] = me['제원관리번호'].astype('str')"
   ]
  },
  {
   "cell_type": "code",
   "execution_count": 580,
   "metadata": {},
   "outputs": [
    {
     "data": {
      "text/plain": [
       "(65321, 13)"
      ]
     },
     "execution_count": 580,
     "metadata": {},
     "output_type": "execute_result"
    }
   ],
   "source": [
    "megrp1.shape"
   ]
  },
  {
   "cell_type": "code",
   "execution_count": 581,
   "metadata": {},
   "outputs": [
    {
     "data": {
      "text/plain": [
       "(65321, 15)"
      ]
     },
     "execution_count": 581,
     "metadata": {},
     "output_type": "execute_result"
    }
   ],
   "source": [
    "scr_ckm.shape"
   ]
  },
  {
   "cell_type": "markdown",
   "metadata": {},
   "source": [
    "### 차명 오류 수정\n",
    "- 제원관리번호 : 02420006800231217\n",
    "- me : Passat GT 2.0 TDI 4Motion\n",
    "- scr_ckm : Passat GT 2.0 TDI -> Passat GT 2.0 TDI 4Motion"
   ]
  },
  {
   "cell_type": "code",
   "execution_count": 582,
   "metadata": {},
   "outputs": [
    {
     "data": {
      "text/plain": [
       "array(['Passat GT 2.0 TDI 4Motion'], dtype=object)"
      ]
     },
     "execution_count": 582,
     "metadata": {},
     "output_type": "execute_result"
    }
   ],
   "source": [
    "me.loc[me['제원관리번호'] == '02420006800231217', '차명'].unique()"
   ]
  },
  {
   "cell_type": "code",
   "execution_count": 583,
   "metadata": {},
   "outputs": [
    {
     "data": {
      "text/plain": [
       "array(['Passat GT 2.0 TDI'], dtype=object)"
      ]
     },
     "execution_count": 583,
     "metadata": {},
     "output_type": "execute_result"
    }
   ],
   "source": [
    "scr_ckm.loc[scr_ckm['제원관리번호'] == '02420006800231217', '차명'].unique()"
   ]
  },
  {
   "cell_type": "code",
   "execution_count": 584,
   "metadata": {},
   "outputs": [],
   "source": [
    "scr_ckm.loc[scr_ckm['제원관리번호'] == '02420006800231217', '차명'] = 'Passat GT 2.0 TDI 4Motion'"
   ]
  },
  {
   "cell_type": "code",
   "execution_count": 585,
   "metadata": {},
   "outputs": [
    {
     "data": {
      "text/plain": [
       "array(['Passat GT 2.0 TDI 4Motion'], dtype=object)"
      ]
     },
     "execution_count": 585,
     "metadata": {},
     "output_type": "execute_result"
    }
   ],
   "source": [
    "scr_ckm.loc[scr_ckm['제원관리번호'] == '02420006800231217', '차명'].unique()"
   ]
  },
  {
   "cell_type": "code",
   "execution_count": 586,
   "metadata": {},
   "outputs": [
    {
     "data": {
      "text/plain": [
       "(유럽기준\n",
       " 유로4       1640\n",
       " 유로5      23953\n",
       " 유로6    1035061\n",
       " NaN    3375011\n",
       " Name: 차량대수, dtype: int64,\n",
       " NaN    3375011\n",
       " 유로6    1035061\n",
       " 유로5      23953\n",
       " 유로4       1640\n",
       " Name: 유럽기준, dtype: int64)"
      ]
     },
     "execution_count": 586,
     "metadata": {},
     "output_type": "execute_result"
    }
   ],
   "source": [
    "scr_ckm.groupby('유럽기준', dropna=False)['차량대수'].sum(), me['유럽기준'].value_counts(dropna=False)"
   ]
  },
  {
   "cell_type": "code",
   "execution_count": 587,
   "metadata": {},
   "outputs": [
    {
     "data": {
      "text/plain": [
       "(저감장치구분\n",
       " 1종+SCR       2372\n",
       " NaN       4433293\n",
       " Name: 차량대수, dtype: int64,\n",
       " NaN       4433293\n",
       " 1종+SCR       2372\n",
       " Name: 저감장치구분, dtype: int64)"
      ]
     },
     "execution_count": 587,
     "metadata": {},
     "output_type": "execute_result"
    }
   ],
   "source": [
    "scr_ckm.groupby('저감장치구분', dropna=False)['차량대수'].sum(), me['저감장치구분'].value_counts(dropna=False)"
   ]
  },
  {
   "cell_type": "code",
   "execution_count": 588,
   "metadata": {},
   "outputs": [
    {
     "data": {
      "text/plain": [
       "(통계자료존재유무\n",
       " Y      2108630\n",
       " NaN    2327035\n",
       " Name: 차량대수, dtype: int64,\n",
       " NaN    2327035\n",
       " Y      2108630\n",
       " Name: 통계자료존재유무, dtype: int64)"
      ]
     },
     "execution_count": 588,
     "metadata": {},
     "output_type": "execute_result"
    }
   ],
   "source": [
    "scr_ckm.groupby('통계자료존재유무', dropna=False)['차량대수'].sum(), me['통계자료존재유무'].value_counts(dropna=False)"
   ]
  },
  {
   "cell_type": "code",
   "execution_count": 589,
   "metadata": {},
   "outputs": [
    {
     "data": {
      "text/plain": [
       "(4435665, 22)"
      ]
     },
     "execution_count": 589,
     "metadata": {},
     "output_type": "execute_result"
    }
   ],
   "source": [
    "me.shape"
   ]
  },
  {
   "cell_type": "code",
   "execution_count": 590,
   "metadata": {},
   "outputs": [
    {
     "data": {
      "text/plain": [
       "배출가스인증번호     object\n",
       "배출가스등급       object\n",
       "최초등록일자      float64\n",
       "용도           object\n",
       "제원관리번호       object\n",
       "차량말소유무       object\n",
       "연식            int64\n",
       "차종           object\n",
       "차대번호         object\n",
       "배기량         float64\n",
       "엔진출력        float64\n",
       "엔진형식         object\n",
       "연료           object\n",
       "제작사명         object\n",
       "총중량         float64\n",
       "차명           object\n",
       "제작국          object\n",
       "유럽기준         object\n",
       "SCR유무        object\n",
       "저감장치구분       object\n",
       "구분           object\n",
       "통계자료존재유무     object\n",
       "dtype: object"
      ]
     },
     "execution_count": 590,
     "metadata": {},
     "output_type": "execute_result"
    }
   ],
   "source": [
    "me.dtypes"
   ]
  },
  {
   "cell_type": "code",
   "execution_count": 591,
   "metadata": {},
   "outputs": [
    {
     "data": {
      "text/plain": [
       "배출가스인증번호                      object\n",
       "제원관리번호                        object\n",
       "제작사명                          object\n",
       "연식                             int64\n",
       "차종                            object\n",
       "엔진형식                          object\n",
       "배기량                            int64\n",
       "엔진출력                         float64\n",
       "차명                            object\n",
       "유럽기준                          object\n",
       "저감장치구분                        object\n",
       "통계자료존재유무                      object\n",
       "차량대수                           int64\n",
       "SCR 장착여부 확인 (1:장착, 2:미장착)    float64\n",
       "확인                             int64\n",
       "dtype: object"
      ]
     },
     "execution_count": 591,
     "metadata": {},
     "output_type": "execute_result"
    }
   ],
   "source": [
    "scr_ckm.dtypes"
   ]
  },
  {
   "cell_type": "markdown",
   "metadata": {},
   "source": [
    "### 타입 변환"
   ]
  },
  {
   "cell_type": "code",
   "execution_count": 592,
   "metadata": {},
   "outputs": [],
   "source": [
    "merge_col = ['배출가스인증번호', '제원관리번호', '제작사명', '연식', '차종', '엔진형식', '배기량', '엔진출력', '차명', '유럽기준', '저감장치구분', '통계자료존재유무']"
   ]
  },
  {
   "cell_type": "code",
   "execution_count": 593,
   "metadata": {},
   "outputs": [
    {
     "data": {
      "text/plain": [
       "배출가스인증번호     598814\n",
       "제원관리번호            0\n",
       "제작사명              0\n",
       "연식                0\n",
       "차종                0\n",
       "엔진형식              0\n",
       "배기량               0\n",
       "엔진출력              1\n",
       "차명                0\n",
       "유럽기준        3375011\n",
       "저감장치구분      4433293\n",
       "통계자료존재유무    2327035\n",
       "dtype: int64"
      ]
     },
     "execution_count": 593,
     "metadata": {},
     "output_type": "execute_result"
    }
   ],
   "source": [
    "me[merge_col].isnull().sum()"
   ]
  },
  {
   "cell_type": "code",
   "execution_count": 594,
   "metadata": {},
   "outputs": [],
   "source": [
    "# '배출가스인증번호', '제원관리번호', '제작사명', '연식', '차종', '엔진형식', '배기량', '엔진출력', '차명', '유럽기준', '저감장치구분', '통계자료존재유무'\n",
    "me['배출가스인증번호'] = me['배출가스인증번호'].astype('str')\n",
    "# me['제원관리번호'] = me['제원관리번호'].astype('str') # 위에서 진행함\n",
    "me['제작사명'] = me['제작사명'].astype('str')\n",
    "me['연식'] = me['연식'].astype('int')\n",
    "me['차종'] = me['차종'].astype('str')\n",
    "# me['엔진형식'] = me['엔진형식'].astype('str') # 위에서 진행함\n",
    "me['배기량'] = me['배기량'].astype('int')\n",
    "me['엔진출력'] = pd.to_numeric(me['엔진출력'], errors='coerce')\n",
    "me['차명'] = me['차명'].astype('str')"
   ]
  },
  {
   "cell_type": "code",
   "execution_count": 595,
   "metadata": {},
   "outputs": [
    {
     "data": {
      "text/plain": [
       "배출가스인증번호    37550\n",
       "제원관리번호          0\n",
       "제작사명            0\n",
       "연식              0\n",
       "차종              0\n",
       "엔진형식            0\n",
       "배기량             0\n",
       "엔진출력            1\n",
       "차명              0\n",
       "유럽기준        47720\n",
       "저감장치구분      64834\n",
       "통계자료존재유무    42020\n",
       "dtype: int64"
      ]
     },
     "execution_count": 595,
     "metadata": {},
     "output_type": "execute_result"
    }
   ],
   "source": [
    "scr_ckm[merge_col].isnull().sum()"
   ]
  },
  {
   "cell_type": "code",
   "execution_count": 596,
   "metadata": {},
   "outputs": [],
   "source": [
    "# '배출가스인증번호', '제원관리번호', '제작사명', '연식', '차종', '엔진형식', '배기량', '엔진출력', '차명', '유럽기준', '저감장치구분', '통계자료존재유무'\n",
    "scr_ckm['배출가스인증번호'] = scr_ckm['배출가스인증번호'].astype('str')\n",
    "# scr_ckm['제원관리번호'] = scr_ckm['제원관리번호'].astype('str') # 위에서 진행함\n",
    "scr_ckm['제작사명'] = scr_ckm['제작사명'].astype('str')\n",
    "scr_ckm['연식'] = scr_ckm['연식'].astype('int')\n",
    "scr_ckm['차종'] = scr_ckm['차종'].astype('str')\n",
    "# scr_ckm['엔진형식'] = scr_ckm['엔진형식'].astype('str') # 위에서 진행함\n",
    "scr_ckm['배기량'] = scr_ckm['배기량'].astype('int')\n",
    "scr_ckm['엔진출력'] = pd.to_numeric(scr_ckm['엔진출력'], errors='coerce')\n",
    "scr_ckm['차명'] = scr_ckm['차명'].astype('str')"
   ]
  },
  {
   "cell_type": "code",
   "execution_count": 597,
   "metadata": {},
   "outputs": [
    {
     "data": {
      "text/plain": [
       "(4435665, 24)"
      ]
     },
     "execution_count": 597,
     "metadata": {},
     "output_type": "execute_result"
    }
   ],
   "source": [
    "# 6.0s\n",
    "merge_col = ['배출가스인증번호', '제원관리번호', '제작사명', '연식', '차종', '엔진형식', '배기량', '엔진출력', '차명']\n",
    "# '배출가스인증번호', '제원관리번호', '제작사명', '연식', '차종', '엔진형식', '배기량', '엔진출력', '차명', '유럽기준', '저감장치구분', '통계자료존재유무'\n",
    "me_pr = me.merge(scr_ckm[[\n",
    "    '배출가스인증번호',\n",
    "    '제원관리번호',\n",
    "    '제작사명',\n",
    "    '연식',\n",
    "    '차종',\n",
    "    '엔진형식',\n",
    "    '배기량',\n",
    "    '엔진출력',\n",
    "    '차명',\n",
    "    # '유럽기준',\n",
    "    # '저감장치구분',\n",
    "    # '통계자료존재유무',\n",
    "    # '차량대수',\n",
    "    'SCR 장착여부 확인 (1:장착, 2:미장착)',\n",
    "    '확인',\n",
    "    ]], on=merge_col, how='left')\n",
    "me_pr.shape"
   ]
  },
  {
   "cell_type": "code",
   "execution_count": 598,
   "metadata": {},
   "outputs": [
    {
     "data": {
      "text/plain": [
       "1    4435665\n",
       "Name: 확인, dtype: int64"
      ]
     },
     "execution_count": 598,
     "metadata": {},
     "output_type": "execute_result"
    }
   ],
   "source": [
    "me_pr['확인'].value_counts(dropna=False)"
   ]
  },
  {
   "cell_type": "code",
   "execution_count": 599,
   "metadata": {},
   "outputs": [
    {
     "data": {
      "text/plain": [
       "SCR 장착여부 확인 (1:장착, 2:미장착)\n",
       "1.00    3204754\n",
       "2.00    1228539\n",
       "NaN        2372\n",
       "Name: 차량대수, dtype: int64"
      ]
     },
     "execution_count": 599,
     "metadata": {},
     "output_type": "execute_result"
    }
   ],
   "source": [
    "scr_ck.groupby('SCR 장착여부 확인 (1:장착, 2:미장착)', dropna=False)['차량대수'].sum()"
   ]
  },
  {
   "cell_type": "code",
   "execution_count": 600,
   "metadata": {},
   "outputs": [
    {
     "data": {
      "text/plain": [
       "1.00    3204754\n",
       "2.00    1228539\n",
       "NaN        2372\n",
       "Name: SCR 장착여부 확인 (1:장착, 2:미장착), dtype: int64"
      ]
     },
     "execution_count": 600,
     "metadata": {},
     "output_type": "execute_result"
    }
   ],
   "source": [
    "me_pr['SCR 장착여부 확인 (1:장착, 2:미장착)'].value_counts(dropna=False)"
   ]
  },
  {
   "cell_type": "markdown",
   "metadata": {},
   "source": [
    "### 추가된 정보 확인\n",
    "- 컬럼별 데이터 타입 : 배기량만 int, float으로 다름.(merge는 정상적으로 작동)\n",
    "- megrp1(me의 groupby), scr_ck 모두 빈 값 개수 동일\n",
    "- me의 제원관리번호 중 int 타입이 존재.(1개)"
   ]
  },
  {
   "cell_type": "code",
   "execution_count": 284,
   "metadata": {},
   "outputs": [
    {
     "data": {
      "text/plain": [
       "1976"
      ]
     },
     "execution_count": 284,
     "metadata": {},
     "output_type": "execute_result"
    }
   ],
   "source": [
    "# '배출가스인증번호', '제원관리번호', '제작사명', '연식', '차종', '엔진형식', '배기량', '엔진출력', '차명', '유럽기준', '저감장치구분', '통계자료존재유무'\n",
    "# 결과\n",
    "    # 배출가스인증번호 : 0\n",
    "    # 제원관리번호 : 1\n",
    "    # 제작사명 : 0\n",
    "    # 연식 : 0\n",
    "    # 차종 : 0\n",
    "    # 엔진형식 : 15\n",
    "        # me : 020953, scr_ck : 20953\n",
    "        # 542972 : me : str, scr_ck : int\n",
    "    # 엔진출력 : 1 -> 문제 없음\n",
    "    # 유럽기준 : 2349 -> 문제 없음\n",
    "    # 저감장치구분 : 1640030 -> 문제 없음\n",
    "    # 통계자료존재유무 : 1976 -> 문제 없음\n",
    "name = '통계자료존재유무'\n",
    "len(set(me[name].to_list()) - set(scr_ck[name].to_list()))"
   ]
  },
  {
   "cell_type": "markdown",
   "metadata": {},
   "source": [
    "## 국내외 구분 빈 값 수정"
   ]
  },
  {
   "cell_type": "code",
   "execution_count": 749,
   "metadata": {},
   "outputs": [
    {
     "data": {
      "text/plain": [
       "array(['국내', '국외', nan], dtype=object)"
      ]
     },
     "execution_count": 749,
     "metadata": {},
     "output_type": "execute_result"
    }
   ],
   "source": [
    "me_pr['구분'].unique()"
   ]
  },
  {
   "cell_type": "code",
   "execution_count": 748,
   "metadata": {},
   "outputs": [
    {
     "data": {
      "text/plain": [
       "array(['한국', '독일', '스웨덴'], dtype=object)"
      ]
     },
     "execution_count": 748,
     "metadata": {},
     "output_type": "execute_result"
    }
   ],
   "source": [
    "me_pr.loc[me_pr['구분'].isnull(), '제작국'].unique()"
   ]
  },
  {
   "cell_type": "code",
   "execution_count": 750,
   "metadata": {},
   "outputs": [],
   "source": [
    "me_pr.loc[(me_pr['구분'].isnull()) & (me_pr['제작국'] == '한국'), '구분'] = '국내'\n",
    "me_pr.loc[(me_pr['구분'].isnull()) & (me_pr['제작국'] == '독일'), '구분'] = '국외'\n",
    "me_pr.loc[(me_pr['구분'].isnull()) & (me_pr['제작국'] == '스웨덴'), '구분'] = '국외'"
   ]
  },
  {
   "cell_type": "code",
   "execution_count": 751,
   "metadata": {},
   "outputs": [
    {
     "data": {
      "text/plain": [
       "국내    3602378\n",
       "국외     833287\n",
       "Name: 구분, dtype: int64"
      ]
     },
     "execution_count": 751,
     "metadata": {},
     "output_type": "execute_result"
    }
   ],
   "source": [
    "me_pr['구분'].value_counts(dropna=False)"
   ]
  },
  {
   "cell_type": "markdown",
   "metadata": {},
   "source": [
    "## SCR 차량과 나머지 차량 병합"
   ]
  },
  {
   "cell_type": "code",
   "execution_count": 752,
   "metadata": {},
   "outputs": [
    {
     "data": {
      "text/plain": [
       "True"
      ]
     },
     "execution_count": 752,
     "metadata": {},
     "output_type": "execute_result"
    }
   ],
   "source": [
    "pr.shape[0] == me_pr.shape[0] + rest.shape[0]"
   ]
  },
  {
   "cell_type": "code",
   "execution_count": 753,
   "metadata": {},
   "outputs": [
    {
     "data": {
      "text/plain": [
       "(4435665, 24)"
      ]
     },
     "execution_count": 753,
     "metadata": {},
     "output_type": "execute_result"
    }
   ],
   "source": [
    "me_pr.shape"
   ]
  },
  {
   "cell_type": "code",
   "execution_count": 754,
   "metadata": {},
   "outputs": [
    {
     "data": {
      "text/plain": [
       "(5098070, 22)"
      ]
     },
     "execution_count": 754,
     "metadata": {},
     "output_type": "execute_result"
    }
   ],
   "source": [
    "rest.shape"
   ]
  },
  {
   "cell_type": "code",
   "execution_count": 755,
   "metadata": {},
   "outputs": [
    {
     "data": {
      "text/plain": [
       "Index(['배출가스인증번호', '배출가스등급', '최초등록일자', '용도', '제원관리번호', '차량말소유무', '연식', '차종',\n",
       "       '차대번호', '배기량', '엔진출력', '엔진형식', '연료', '제작사명', '총중량', '차명', '제작국', '유럽기준',\n",
       "       'SCR유무', '저감장치구분', '구분', '통계자료존재유무', 'SCR 장착여부 확인 (1:장착, 2:미장착)', '확인'],\n",
       "      dtype='object')"
      ]
     },
     "execution_count": 755,
     "metadata": {},
     "output_type": "execute_result"
    }
   ],
   "source": [
    "me_pr.columns"
   ]
  },
  {
   "cell_type": "code",
   "execution_count": 756,
   "metadata": {},
   "outputs": [
    {
     "data": {
      "text/plain": [
       "Index(['배출가스인증번호', '배출가스등급', '최초등록일자', '용도', '제원관리번호', '차량말소유무', '연식', '차종',\n",
       "       '차대번호', '배기량', '엔진출력', '엔진형식', '연료', '제작사명', '총중량', '차명', '제작국', '유럽기준',\n",
       "       'SCR유무', '저감장치구분', '구분', '통계자료존재유무'],\n",
       "      dtype='object')"
      ]
     },
     "execution_count": 756,
     "metadata": {},
     "output_type": "execute_result"
    }
   ],
   "source": [
    "rest.columns"
   ]
  },
  {
   "cell_type": "code",
   "execution_count": 757,
   "metadata": {},
   "outputs": [
    {
     "data": {
      "text/plain": [
       "(9533735, 22)"
      ]
     },
     "execution_count": 757,
     "metadata": {},
     "output_type": "execute_result"
    }
   ],
   "source": [
    "pr.shape"
   ]
  },
  {
   "cell_type": "code",
   "execution_count": 758,
   "metadata": {},
   "outputs": [
    {
     "data": {
      "text/plain": [
       "(9533735, 24)"
      ]
     },
     "execution_count": 758,
     "metadata": {},
     "output_type": "execute_result"
    }
   ],
   "source": [
    "total_pr = pd.concat([me_pr, rest], ignore_index=True)\n",
    "total_pr.shape"
   ]
  },
  {
   "cell_type": "markdown",
   "metadata": {},
   "source": [
    "### [출력] 경유 차량 전체"
   ]
  },
  {
   "cell_type": "code",
   "execution_count": 759,
   "metadata": {},
   "outputs": [
    {
     "data": {
      "text/plain": [
       "'20231218_AM_113432'"
      ]
     },
     "execution_count": 759,
     "metadata": {},
     "output_type": "execute_result"
    }
   ],
   "source": [
    "today_date_dtl = today_date = datetime.today().strftime('%Y%m%d_%p_%I%M%S')\n",
    "today_date_dtl"
   ]
  },
  {
   "cell_type": "code",
   "execution_count": 760,
   "metadata": {},
   "outputs": [
    {
     "name": "stdout",
     "output_type": "stream",
     "text": [
      "D:/data/processing/urea/raw\\전처리_경유차량전체_20231218_AM_113432.csv\n"
     ]
    }
   ],
   "source": [
    "# 1m 45.0s\n",
    "total_pr.to_csv(os.path.join(raw_fold, f'전처리_경유차량전체_{today_date_dtl}.csv'), index=False)\n",
    "print(os.path.join(raw_fold, f'전처리_경유차량전체_{today_date_dtl}.csv'))"
   ]
  },
  {
   "cell_type": "code",
   "execution_count": 761,
   "metadata": {},
   "outputs": [
    {
     "data": {
      "text/plain": [
       "Index(['배출가스인증번호', '배출가스등급', '최초등록일자', '용도', '제원관리번호', '차량말소유무', '연식', '차종',\n",
       "       '차대번호', '배기량', '엔진출력', '엔진형식', '연료', '제작사명', '총중량', '차명', '제작국', '유럽기준',\n",
       "       'SCR유무', '저감장치구분', '구분', '통계자료존재유무', '확인'],\n",
       "      dtype='object')"
      ]
     },
     "execution_count": 761,
     "metadata": {},
     "output_type": "execute_result"
    }
   ],
   "source": [
    "total_pr = total_pr.drop('확인', axis=1)\n",
    "total_pr = total_pr.rename(columns={'SCR 장착여부 확인 (1:장착, 2:미장착)':'확인'})\n",
    "total_pr.columns"
   ]
  },
  {
   "cell_type": "markdown",
   "metadata": {},
   "source": [
    "## 1\\. 차종별 차량 대수"
   ]
  },
  {
   "cell_type": "code",
   "execution_count": 762,
   "metadata": {},
   "outputs": [
    {
     "data": {
      "text/plain": [
       "(9533735, 23)"
      ]
     },
     "execution_count": 762,
     "metadata": {},
     "output_type": "execute_result"
    }
   ],
   "source": [
    "total_pr.shape"
   ]
  },
  {
   "cell_type": "code",
   "execution_count": 763,
   "metadata": {},
   "outputs": [
    {
     "data": {
      "text/html": [
       "<div>\n",
       "<style scoped>\n",
       "    .dataframe tbody tr th:only-of-type {\n",
       "        vertical-align: middle;\n",
       "    }\n",
       "\n",
       "    .dataframe tbody tr th {\n",
       "        vertical-align: top;\n",
       "    }\n",
       "\n",
       "    .dataframe thead th {\n",
       "        text-align: right;\n",
       "    }\n",
       "</style>\n",
       "<table border=\"1\" class=\"dataframe\">\n",
       "  <thead>\n",
       "    <tr style=\"text-align: right;\">\n",
       "      <th></th>\n",
       "      <th>차종</th>\n",
       "      <th>자동차 등록대수(경유차)</th>\n",
       "    </tr>\n",
       "  </thead>\n",
       "  <tbody>\n",
       "    <tr>\n",
       "      <th>0</th>\n",
       "      <td>승용</td>\n",
       "      <td>6128177.00</td>\n",
       "    </tr>\n",
       "    <tr>\n",
       "      <th>1</th>\n",
       "      <td>승합</td>\n",
       "      <td>608850.00</td>\n",
       "    </tr>\n",
       "    <tr>\n",
       "      <th>2</th>\n",
       "      <td>특수</td>\n",
       "      <td>84447.00</td>\n",
       "    </tr>\n",
       "    <tr>\n",
       "      <th>3</th>\n",
       "      <td>화물</td>\n",
       "      <td>2712261.00</td>\n",
       "    </tr>\n",
       "    <tr>\n",
       "      <th>4</th>\n",
       "      <td>계</td>\n",
       "      <td>9533735.00</td>\n",
       "    </tr>\n",
       "  </tbody>\n",
       "</table>\n",
       "</div>"
      ],
      "text/plain": [
       "   차종  자동차 등록대수(경유차)\n",
       "0  승용     6128177.00\n",
       "1  승합      608850.00\n",
       "2  특수       84447.00\n",
       "3  화물     2712261.00\n",
       "4   계     9533735.00"
      ]
     },
     "execution_count": 763,
     "metadata": {},
     "output_type": "execute_result"
    }
   ],
   "source": [
    "grp1 = total_pr.groupby('차종', dropna=False)['차대번호'].count().reset_index()\n",
    "grp1.loc[grp1.shape[0], ['차종', '차대번호']] = ['계', grp1['차대번호'].sum()]\n",
    "grp1 = grp1.rename(columns={'차대번호':'자동차 등록대수(경유차)'})\n",
    "grp1"
   ]
  },
  {
   "cell_type": "code",
   "execution_count": 764,
   "metadata": {},
   "outputs": [
    {
     "data": {
      "text/plain": [
       "(3204754, 23)"
      ]
     },
     "execution_count": 764,
     "metadata": {},
     "output_type": "execute_result"
    }
   ],
   "source": [
    "total_pr[total_pr['확인'] == 1].shape"
   ]
  },
  {
   "cell_type": "code",
   "execution_count": 765,
   "metadata": {},
   "outputs": [
    {
     "data": {
      "text/html": [
       "<div>\n",
       "<style scoped>\n",
       "    .dataframe tbody tr th:only-of-type {\n",
       "        vertical-align: middle;\n",
       "    }\n",
       "\n",
       "    .dataframe tbody tr th {\n",
       "        vertical-align: top;\n",
       "    }\n",
       "\n",
       "    .dataframe thead th {\n",
       "        text-align: right;\n",
       "    }\n",
       "</style>\n",
       "<table border=\"1\" class=\"dataframe\">\n",
       "  <thead>\n",
       "    <tr style=\"text-align: right;\">\n",
       "      <th></th>\n",
       "      <th>차종</th>\n",
       "      <th>SCR 부착차량 대수</th>\n",
       "    </tr>\n",
       "  </thead>\n",
       "  <tbody>\n",
       "    <tr>\n",
       "      <th>0</th>\n",
       "      <td>승용</td>\n",
       "      <td>2704075.00</td>\n",
       "    </tr>\n",
       "    <tr>\n",
       "      <th>1</th>\n",
       "      <td>승합</td>\n",
       "      <td>183868.00</td>\n",
       "    </tr>\n",
       "    <tr>\n",
       "      <th>2</th>\n",
       "      <td>특수</td>\n",
       "      <td>26894.00</td>\n",
       "    </tr>\n",
       "    <tr>\n",
       "      <th>3</th>\n",
       "      <td>화물</td>\n",
       "      <td>289917.00</td>\n",
       "    </tr>\n",
       "    <tr>\n",
       "      <th>4</th>\n",
       "      <td>계</td>\n",
       "      <td>3204754.00</td>\n",
       "    </tr>\n",
       "  </tbody>\n",
       "</table>\n",
       "</div>"
      ],
      "text/plain": [
       "   차종  SCR 부착차량 대수\n",
       "0  승용   2704075.00\n",
       "1  승합    183868.00\n",
       "2  특수     26894.00\n",
       "3  화물    289917.00\n",
       "4   계   3204754.00"
      ]
     },
     "execution_count": 765,
     "metadata": {},
     "output_type": "execute_result"
    }
   ],
   "source": [
    "grp2 = total_pr[total_pr['확인'] == 1].groupby('차종', dropna=False)['차대번호'].count().reset_index()\n",
    "grp2.loc[grp2.shape[0], ['차종', '차대번호']] = ['계', grp2['차대번호'].sum()]\n",
    "grp2 = grp2.rename(columns={'차대번호':'SCR 부착차량 대수'})\n",
    "grp2"
   ]
  },
  {
   "cell_type": "code",
   "execution_count": 766,
   "metadata": {},
   "outputs": [
    {
     "data": {
      "text/plain": [
       "array(['국내', '국외', nan], dtype=object)"
      ]
     },
     "execution_count": 766,
     "metadata": {},
     "output_type": "execute_result"
    }
   ],
   "source": [
    "total_pr['구분'].unique()"
   ]
  },
  {
   "cell_type": "code",
   "execution_count": 770,
   "metadata": {},
   "outputs": [
    {
     "data": {
      "text/html": [
       "<div>\n",
       "<style scoped>\n",
       "    .dataframe tbody tr th:only-of-type {\n",
       "        vertical-align: middle;\n",
       "    }\n",
       "\n",
       "    .dataframe tbody tr th {\n",
       "        vertical-align: top;\n",
       "    }\n",
       "\n",
       "    .dataframe thead th {\n",
       "        text-align: right;\n",
       "    }\n",
       "</style>\n",
       "<table border=\"1\" class=\"dataframe\">\n",
       "  <thead>\n",
       "    <tr style=\"text-align: right;\">\n",
       "      <th>구분</th>\n",
       "      <th>차종</th>\n",
       "      <th>국내</th>\n",
       "      <th>국외</th>\n",
       "    </tr>\n",
       "  </thead>\n",
       "  <tbody>\n",
       "    <tr>\n",
       "      <th>0</th>\n",
       "      <td>승용</td>\n",
       "      <td>1976077.00</td>\n",
       "      <td>727998.00</td>\n",
       "    </tr>\n",
       "    <tr>\n",
       "      <th>1</th>\n",
       "      <td>승합</td>\n",
       "      <td>182953.00</td>\n",
       "      <td>915.00</td>\n",
       "    </tr>\n",
       "    <tr>\n",
       "      <th>2</th>\n",
       "      <td>특수</td>\n",
       "      <td>19079.00</td>\n",
       "      <td>7815.00</td>\n",
       "    </tr>\n",
       "    <tr>\n",
       "      <th>3</th>\n",
       "      <td>화물</td>\n",
       "      <td>229021.00</td>\n",
       "      <td>60896.00</td>\n",
       "    </tr>\n",
       "    <tr>\n",
       "      <th>4</th>\n",
       "      <td>계</td>\n",
       "      <td>2407130.00</td>\n",
       "      <td>797624.00</td>\n",
       "    </tr>\n",
       "  </tbody>\n",
       "</table>\n",
       "</div>"
      ],
      "text/plain": [
       "구분  차종         국내        국외\n",
       "0   승용 1976077.00 727998.00\n",
       "1   승합  182953.00    915.00\n",
       "2   특수   19079.00   7815.00\n",
       "3   화물  229021.00  60896.00\n",
       "4    계 2407130.00 797624.00"
      ]
     },
     "execution_count": 770,
     "metadata": {},
     "output_type": "execute_result"
    }
   ],
   "source": [
    "grp3 = total_pr[total_pr['확인'] == 1].groupby(['차종', '구분'], dropna=False)['차대번호'].count().unstack().reset_index()\n",
    "grp3.loc[grp3.shape[0], ['차종', '국내', '국외']] = ['계', grp3['국내'].sum(), grp3['국외'].sum()]\n",
    "grp3"
   ]
  },
  {
   "cell_type": "code",
   "execution_count": 771,
   "metadata": {},
   "outputs": [
    {
     "data": {
      "text/plain": [
       "3204754.0"
      ]
     },
     "execution_count": 771,
     "metadata": {},
     "output_type": "execute_result"
    }
   ],
   "source": [
    "grp3.loc[4, ['국내', '국외']].sum()"
   ]
  },
  {
   "cell_type": "markdown",
   "metadata": {},
   "source": [
    "## 2\\. SCR 부착 화물 차량 현황"
   ]
  },
  {
   "cell_type": "code",
   "execution_count": 772,
   "metadata": {},
   "outputs": [
    {
     "data": {
      "text/plain": [
       "(2712261, 23)"
      ]
     },
     "execution_count": 772,
     "metadata": {},
     "output_type": "execute_result"
    }
   ],
   "source": [
    "srt2 = total_pr[total_pr['차종'] == '화물'].reset_index(drop=True)\n",
    "srt2.shape"
   ]
  },
  {
   "cell_type": "code",
   "execution_count": 773,
   "metadata": {},
   "outputs": [
    {
     "data": {
      "text/plain": [
       "count   2712261.00\n",
       "mean       4998.62\n",
       "std        6372.46\n",
       "min           0.00\n",
       "25%        2925.00\n",
       "50%        3030.00\n",
       "75%        3270.00\n",
       "max      999999.00\n",
       "Name: 총중량, dtype: float64"
      ]
     },
     "execution_count": 773,
     "metadata": {},
     "output_type": "execute_result"
    }
   ],
   "source": [
    "srt2['총중량'].describe()"
   ]
  },
  {
   "cell_type": "code",
   "execution_count": 774,
   "metadata": {},
   "outputs": [
    {
     "data": {
      "text/plain": [
       "3.5톤 미만(소형)    2238420\n",
       "10톤 이상(대형)      265717\n",
       "10톤 미만(중형)      208124\n",
       "Name: 중량구분, dtype: int64"
      ]
     },
     "execution_count": 774,
     "metadata": {},
     "output_type": "execute_result"
    }
   ],
   "source": [
    "srt2.loc[srt2['총중량'] >= 10000, '중량구분'] = '10톤 이상(대형)'\n",
    "srt2.loc[(srt2['총중량'] >= 3500) & (srt2['총중량'] < 10000), '중량구분'] = '10톤 미만(중형)'\n",
    "srt2.loc[srt2['총중량'] < 3500, '중량구분'] = '3.5톤 미만(소형)'\n",
    "srt2['중량구분'].value_counts(dropna=False)"
   ]
  },
  {
   "cell_type": "code",
   "execution_count": 775,
   "metadata": {},
   "outputs": [
    {
     "data": {
      "text/plain": [
       "개인용    2378184\n",
       "영업용     311152\n",
       "관용       22925\n",
       "Name: 용도, dtype: int64"
      ]
     },
     "execution_count": 775,
     "metadata": {},
     "output_type": "execute_result"
    }
   ],
   "source": [
    "srt2['용도'].value_counts(dropna=False)"
   ]
  },
  {
   "cell_type": "code",
   "execution_count": 776,
   "metadata": {},
   "outputs": [],
   "source": [
    "srt2.loc[srt2['용도'] == '영업용', '용도구분'] = '사업용'\n",
    "srt2.loc[srt2['용도'] != '영업용', '용도구분'] = '비사업용'"
   ]
  },
  {
   "cell_type": "code",
   "execution_count": 777,
   "metadata": {},
   "outputs": [
    {
     "data": {
      "text/html": [
       "<div>\n",
       "<style scoped>\n",
       "    .dataframe tbody tr th:only-of-type {\n",
       "        vertical-align: middle;\n",
       "    }\n",
       "\n",
       "    .dataframe tbody tr th {\n",
       "        vertical-align: top;\n",
       "    }\n",
       "\n",
       "    .dataframe thead th {\n",
       "        text-align: right;\n",
       "    }\n",
       "</style>\n",
       "<table border=\"1\" class=\"dataframe\">\n",
       "  <thead>\n",
       "    <tr style=\"text-align: right;\">\n",
       "      <th></th>\n",
       "      <th>용도구분</th>\n",
       "      <th>중량구분</th>\n",
       "      <th>차량대수</th>\n",
       "    </tr>\n",
       "  </thead>\n",
       "  <tbody>\n",
       "    <tr>\n",
       "      <th>0</th>\n",
       "      <td>비사업용</td>\n",
       "      <td>10톤 미만(중형)</td>\n",
       "      <td>165261.00</td>\n",
       "    </tr>\n",
       "    <tr>\n",
       "      <th>1</th>\n",
       "      <td>비사업용</td>\n",
       "      <td>10톤 이상(대형)</td>\n",
       "      <td>111870.00</td>\n",
       "    </tr>\n",
       "    <tr>\n",
       "      <th>2</th>\n",
       "      <td>비사업용</td>\n",
       "      <td>3.5톤 미만(소형)</td>\n",
       "      <td>2123978.00</td>\n",
       "    </tr>\n",
       "    <tr>\n",
       "      <th>3</th>\n",
       "      <td>사업용</td>\n",
       "      <td>10톤 미만(중형)</td>\n",
       "      <td>42863.00</td>\n",
       "    </tr>\n",
       "    <tr>\n",
       "      <th>4</th>\n",
       "      <td>사업용</td>\n",
       "      <td>10톤 이상(대형)</td>\n",
       "      <td>153847.00</td>\n",
       "    </tr>\n",
       "    <tr>\n",
       "      <th>5</th>\n",
       "      <td>사업용</td>\n",
       "      <td>3.5톤 미만(소형)</td>\n",
       "      <td>114442.00</td>\n",
       "    </tr>\n",
       "    <tr>\n",
       "      <th>6</th>\n",
       "      <td>계</td>\n",
       "      <td>NaN</td>\n",
       "      <td>2712261.00</td>\n",
       "    </tr>\n",
       "  </tbody>\n",
       "</table>\n",
       "</div>"
      ],
      "text/plain": [
       "   용도구분         중량구분       차량대수\n",
       "0  비사업용   10톤 미만(중형)  165261.00\n",
       "1  비사업용   10톤 이상(대형)  111870.00\n",
       "2  비사업용  3.5톤 미만(소형) 2123978.00\n",
       "3   사업용   10톤 미만(중형)   42863.00\n",
       "4   사업용   10톤 이상(대형)  153847.00\n",
       "5   사업용  3.5톤 미만(소형)  114442.00\n",
       "6     계          NaN 2712261.00"
      ]
     },
     "execution_count": 777,
     "metadata": {},
     "output_type": "execute_result"
    }
   ],
   "source": [
    "grp4 = srt2.groupby(['용도구분', '중량구분'])['차대번호'].count().reset_index()\n",
    "grp4.loc[grp4.shape[0], ['용도구분', '차대번호']] = ['계', grp4['차대번호'].sum()]\n",
    "grp4 = grp4.rename(columns={'차대번호':'차량대수'})\n",
    "grp4"
   ]
  },
  {
   "cell_type": "code",
   "execution_count": 778,
   "metadata": {},
   "outputs": [
    {
     "data": {
      "text/html": [
       "<div>\n",
       "<style scoped>\n",
       "    .dataframe tbody tr th:only-of-type {\n",
       "        vertical-align: middle;\n",
       "    }\n",
       "\n",
       "    .dataframe tbody tr th {\n",
       "        vertical-align: top;\n",
       "    }\n",
       "\n",
       "    .dataframe thead th {\n",
       "        text-align: right;\n",
       "    }\n",
       "</style>\n",
       "<table border=\"1\" class=\"dataframe\">\n",
       "  <thead>\n",
       "    <tr style=\"text-align: right;\">\n",
       "      <th></th>\n",
       "      <th>용도구분</th>\n",
       "      <th>중량구분</th>\n",
       "      <th>차량대수</th>\n",
       "    </tr>\n",
       "  </thead>\n",
       "  <tbody>\n",
       "    <tr>\n",
       "      <th>0</th>\n",
       "      <td>비사업용</td>\n",
       "      <td>10톤 미만(중형)</td>\n",
       "      <td>11979.00</td>\n",
       "    </tr>\n",
       "    <tr>\n",
       "      <th>1</th>\n",
       "      <td>비사업용</td>\n",
       "      <td>10톤 이상(대형)</td>\n",
       "      <td>30122.00</td>\n",
       "    </tr>\n",
       "    <tr>\n",
       "      <th>2</th>\n",
       "      <td>비사업용</td>\n",
       "      <td>3.5톤 미만(소형)</td>\n",
       "      <td>145179.00</td>\n",
       "    </tr>\n",
       "    <tr>\n",
       "      <th>3</th>\n",
       "      <td>사업용</td>\n",
       "      <td>10톤 미만(중형)</td>\n",
       "      <td>7813.00</td>\n",
       "    </tr>\n",
       "    <tr>\n",
       "      <th>4</th>\n",
       "      <td>사업용</td>\n",
       "      <td>10톤 이상(대형)</td>\n",
       "      <td>81027.00</td>\n",
       "    </tr>\n",
       "    <tr>\n",
       "      <th>5</th>\n",
       "      <td>사업용</td>\n",
       "      <td>3.5톤 미만(소형)</td>\n",
       "      <td>13797.00</td>\n",
       "    </tr>\n",
       "    <tr>\n",
       "      <th>6</th>\n",
       "      <td>계</td>\n",
       "      <td>NaN</td>\n",
       "      <td>289917.00</td>\n",
       "    </tr>\n",
       "  </tbody>\n",
       "</table>\n",
       "</div>"
      ],
      "text/plain": [
       "   용도구분         중량구분      차량대수\n",
       "0  비사업용   10톤 미만(중형)  11979.00\n",
       "1  비사업용   10톤 이상(대형)  30122.00\n",
       "2  비사업용  3.5톤 미만(소형) 145179.00\n",
       "3   사업용   10톤 미만(중형)   7813.00\n",
       "4   사업용   10톤 이상(대형)  81027.00\n",
       "5   사업용  3.5톤 미만(소형)  13797.00\n",
       "6     계          NaN 289917.00"
      ]
     },
     "execution_count": 778,
     "metadata": {},
     "output_type": "execute_result"
    }
   ],
   "source": [
    "grp5 = srt2[srt2['확인'] == 1].groupby(['용도구분', '중량구분'])['차대번호'].count().reset_index()\n",
    "grp5.loc[grp5.shape[0], ['용도구분', '차대번호']] = ['계', grp5['차대번호'].sum()]\n",
    "grp5 = grp5.rename(columns={'차대번호':'차량대수'})\n",
    "grp5"
   ]
  },
  {
   "cell_type": "code",
   "execution_count": 779,
   "metadata": {},
   "outputs": [
    {
     "data": {
      "text/plain": [
       "(289917, 25)"
      ]
     },
     "execution_count": 779,
     "metadata": {},
     "output_type": "execute_result"
    }
   ],
   "source": [
    "srt2[srt2['확인'] == 1].shape"
   ]
  },
  {
   "cell_type": "markdown",
   "metadata": {},
   "source": [
    "## 3\\. 제작년도 기준 SCR 부착 현황"
   ]
  },
  {
   "cell_type": "code",
   "execution_count": 780,
   "metadata": {},
   "outputs": [
    {
     "data": {
      "text/plain": [
       "(3204754, 23)"
      ]
     },
     "execution_count": 780,
     "metadata": {},
     "output_type": "execute_result"
    }
   ],
   "source": [
    "srt3 = total_pr[total_pr['확인'] == 1].reset_index(drop=True)\n",
    "srt3.shape"
   ]
  },
  {
   "cell_type": "code",
   "execution_count": 781,
   "metadata": {},
   "outputs": [
    {
     "data": {
      "text/html": [
       "<div>\n",
       "<style scoped>\n",
       "    .dataframe tbody tr th:only-of-type {\n",
       "        vertical-align: middle;\n",
       "    }\n",
       "\n",
       "    .dataframe tbody tr th {\n",
       "        vertical-align: top;\n",
       "    }\n",
       "\n",
       "    .dataframe thead th {\n",
       "        text-align: right;\n",
       "    }\n",
       "</style>\n",
       "<table border=\"1\" class=\"dataframe\">\n",
       "  <thead>\n",
       "    <tr style=\"text-align: right;\">\n",
       "      <th>차종</th>\n",
       "      <th>연식</th>\n",
       "      <th>승용</th>\n",
       "      <th>승합</th>\n",
       "      <th>특수</th>\n",
       "      <th>화물</th>\n",
       "      <th>계</th>\n",
       "    </tr>\n",
       "  </thead>\n",
       "  <tbody>\n",
       "    <tr>\n",
       "      <th>0</th>\n",
       "      <td>2008.00</td>\n",
       "      <td>NaN</td>\n",
       "      <td>60.00</td>\n",
       "      <td>NaN</td>\n",
       "      <td>NaN</td>\n",
       "      <td>60.00</td>\n",
       "    </tr>\n",
       "    <tr>\n",
       "      <th>1</th>\n",
       "      <td>2009.00</td>\n",
       "      <td>NaN</td>\n",
       "      <td>204.00</td>\n",
       "      <td>NaN</td>\n",
       "      <td>292.00</td>\n",
       "      <td>496.00</td>\n",
       "    </tr>\n",
       "    <tr>\n",
       "      <th>2</th>\n",
       "      <td>2010.00</td>\n",
       "      <td>NaN</td>\n",
       "      <td>67.00</td>\n",
       "      <td>3.00</td>\n",
       "      <td>781.00</td>\n",
       "      <td>851.00</td>\n",
       "    </tr>\n",
       "    <tr>\n",
       "      <th>3</th>\n",
       "      <td>2011.00</td>\n",
       "      <td>NaN</td>\n",
       "      <td>339.00</td>\n",
       "      <td>206.00</td>\n",
       "      <td>3546.00</td>\n",
       "      <td>4091.00</td>\n",
       "    </tr>\n",
       "    <tr>\n",
       "      <th>4</th>\n",
       "      <td>2012.00</td>\n",
       "      <td>1991.00</td>\n",
       "      <td>595.00</td>\n",
       "      <td>243.00</td>\n",
       "      <td>4312.00</td>\n",
       "      <td>7141.00</td>\n",
       "    </tr>\n",
       "    <tr>\n",
       "      <th>5</th>\n",
       "      <td>2013.00</td>\n",
       "      <td>62.00</td>\n",
       "      <td>1693.00</td>\n",
       "      <td>440.00</td>\n",
       "      <td>3369.00</td>\n",
       "      <td>5564.00</td>\n",
       "    </tr>\n",
       "    <tr>\n",
       "      <th>6</th>\n",
       "      <td>2014.00</td>\n",
       "      <td>8752.00</td>\n",
       "      <td>2355.00</td>\n",
       "      <td>737.00</td>\n",
       "      <td>2930.00</td>\n",
       "      <td>14774.00</td>\n",
       "    </tr>\n",
       "    <tr>\n",
       "      <th>7</th>\n",
       "      <td>2015.00</td>\n",
       "      <td>137268.00</td>\n",
       "      <td>16514.00</td>\n",
       "      <td>741.00</td>\n",
       "      <td>8132.00</td>\n",
       "      <td>162655.00</td>\n",
       "    </tr>\n",
       "    <tr>\n",
       "      <th>8</th>\n",
       "      <td>2016.00</td>\n",
       "      <td>173433.00</td>\n",
       "      <td>11544.00</td>\n",
       "      <td>540.00</td>\n",
       "      <td>6924.00</td>\n",
       "      <td>192441.00</td>\n",
       "    </tr>\n",
       "    <tr>\n",
       "      <th>9</th>\n",
       "      <td>2017.00</td>\n",
       "      <td>247821.00</td>\n",
       "      <td>24457.00</td>\n",
       "      <td>2665.00</td>\n",
       "      <td>18767.00</td>\n",
       "      <td>293710.00</td>\n",
       "    </tr>\n",
       "    <tr>\n",
       "      <th>10</th>\n",
       "      <td>2018.00</td>\n",
       "      <td>261576.00</td>\n",
       "      <td>21275.00</td>\n",
       "      <td>1616.00</td>\n",
       "      <td>19591.00</td>\n",
       "      <td>304058.00</td>\n",
       "    </tr>\n",
       "    <tr>\n",
       "      <th>11</th>\n",
       "      <td>2019.00</td>\n",
       "      <td>444491.00</td>\n",
       "      <td>18311.00</td>\n",
       "      <td>509.00</td>\n",
       "      <td>8208.00</td>\n",
       "      <td>471519.00</td>\n",
       "    </tr>\n",
       "    <tr>\n",
       "      <th>12</th>\n",
       "      <td>2020.00</td>\n",
       "      <td>500812.00</td>\n",
       "      <td>26783.00</td>\n",
       "      <td>2636.00</td>\n",
       "      <td>10557.00</td>\n",
       "      <td>540788.00</td>\n",
       "    </tr>\n",
       "    <tr>\n",
       "      <th>13</th>\n",
       "      <td>2021.00</td>\n",
       "      <td>402385.00</td>\n",
       "      <td>12125.00</td>\n",
       "      <td>5007.00</td>\n",
       "      <td>13909.00</td>\n",
       "      <td>433426.00</td>\n",
       "    </tr>\n",
       "    <tr>\n",
       "      <th>14</th>\n",
       "      <td>2022.00</td>\n",
       "      <td>334542.00</td>\n",
       "      <td>11722.00</td>\n",
       "      <td>8694.00</td>\n",
       "      <td>46212.00</td>\n",
       "      <td>401170.00</td>\n",
       "    </tr>\n",
       "    <tr>\n",
       "      <th>15</th>\n",
       "      <td>2023.00</td>\n",
       "      <td>174486.00</td>\n",
       "      <td>30998.00</td>\n",
       "      <td>2191.00</td>\n",
       "      <td>126709.00</td>\n",
       "      <td>334384.00</td>\n",
       "    </tr>\n",
       "    <tr>\n",
       "      <th>16</th>\n",
       "      <td>2024.00</td>\n",
       "      <td>16456.00</td>\n",
       "      <td>4826.00</td>\n",
       "      <td>666.00</td>\n",
       "      <td>15678.00</td>\n",
       "      <td>37626.00</td>\n",
       "    </tr>\n",
       "    <tr>\n",
       "      <th>17</th>\n",
       "      <td>계</td>\n",
       "      <td>2704075.00</td>\n",
       "      <td>183868.00</td>\n",
       "      <td>26894.00</td>\n",
       "      <td>289917.00</td>\n",
       "      <td>3204754.00</td>\n",
       "    </tr>\n",
       "  </tbody>\n",
       "</table>\n",
       "</div>"
      ],
      "text/plain": [
       "차종      연식         승용        승합       특수        화물          계\n",
       "0  2008.00        NaN     60.00      NaN       NaN      60.00\n",
       "1  2009.00        NaN    204.00      NaN    292.00     496.00\n",
       "2  2010.00        NaN     67.00     3.00    781.00     851.00\n",
       "3  2011.00        NaN    339.00   206.00   3546.00    4091.00\n",
       "4  2012.00    1991.00    595.00   243.00   4312.00    7141.00\n",
       "5  2013.00      62.00   1693.00   440.00   3369.00    5564.00\n",
       "6  2014.00    8752.00   2355.00   737.00   2930.00   14774.00\n",
       "7  2015.00  137268.00  16514.00   741.00   8132.00  162655.00\n",
       "8  2016.00  173433.00  11544.00   540.00   6924.00  192441.00\n",
       "9  2017.00  247821.00  24457.00  2665.00  18767.00  293710.00\n",
       "10 2018.00  261576.00  21275.00  1616.00  19591.00  304058.00\n",
       "11 2019.00  444491.00  18311.00   509.00   8208.00  471519.00\n",
       "12 2020.00  500812.00  26783.00  2636.00  10557.00  540788.00\n",
       "13 2021.00  402385.00  12125.00  5007.00  13909.00  433426.00\n",
       "14 2022.00  334542.00  11722.00  8694.00  46212.00  401170.00\n",
       "15 2023.00  174486.00  30998.00  2191.00 126709.00  334384.00\n",
       "16 2024.00   16456.00   4826.00   666.00  15678.00   37626.00\n",
       "17       계 2704075.00 183868.00 26894.00 289917.00 3204754.00"
      ]
     },
     "execution_count": 781,
     "metadata": {},
     "output_type": "execute_result"
    }
   ],
   "source": [
    "grp6 = srt3.groupby(['연식', '차종'], dropna=False)['차대번호'].count().unstack().reset_index()\n",
    "grp6.loc[grp6.shape[0], grp6.columns] = ['계', grp6.iloc[:, 1].sum(), grp6.iloc[:, 2].sum(), grp6.iloc[:, 3].sum(), grp6.iloc[:, 4].sum()]\n",
    "grp6['계'] = grp6.iloc[:, 1:].sum(axis=1)\n",
    "grp6"
   ]
  },
  {
   "cell_type": "code",
   "execution_count": 782,
   "metadata": {},
   "outputs": [
    {
     "data": {
      "text/html": [
       "<div>\n",
       "<style scoped>\n",
       "    .dataframe tbody tr th:only-of-type {\n",
       "        vertical-align: middle;\n",
       "    }\n",
       "\n",
       "    .dataframe tbody tr th {\n",
       "        vertical-align: top;\n",
       "    }\n",
       "\n",
       "    .dataframe thead th {\n",
       "        text-align: right;\n",
       "    }\n",
       "</style>\n",
       "<table border=\"1\" class=\"dataframe\">\n",
       "  <thead>\n",
       "    <tr style=\"text-align: right;\">\n",
       "      <th></th>\n",
       "      <th>연식</th>\n",
       "      <th>제작사명</th>\n",
       "      <th>차종</th>\n",
       "      <th>차명</th>\n",
       "      <th>SCR 부착 대수</th>\n",
       "    </tr>\n",
       "  </thead>\n",
       "  <tbody>\n",
       "    <tr>\n",
       "      <th>0</th>\n",
       "      <td>2022</td>\n",
       "      <td>현대기아</td>\n",
       "      <td>승용</td>\n",
       "      <td>포터 2.5디젤 초장축 더블캡 AT</td>\n",
       "      <td>86498</td>\n",
       "    </tr>\n",
       "    <tr>\n",
       "      <th>1</th>\n",
       "      <td>2020</td>\n",
       "      <td>현대기아</td>\n",
       "      <td>승용</td>\n",
       "      <td>포터 2.5디젤 초장축 더블캡 AT</td>\n",
       "      <td>81404</td>\n",
       "    </tr>\n",
       "    <tr>\n",
       "      <th>2</th>\n",
       "      <td>2019</td>\n",
       "      <td>현대기아</td>\n",
       "      <td>승용</td>\n",
       "      <td>카니발 2.2 디젤 9인</td>\n",
       "      <td>71017</td>\n",
       "    </tr>\n",
       "    <tr>\n",
       "      <th>3</th>\n",
       "      <td>2017</td>\n",
       "      <td>기아자동차(주)</td>\n",
       "      <td>승용</td>\n",
       "      <td>쏘렌토</td>\n",
       "      <td>62647</td>\n",
       "    </tr>\n",
       "    <tr>\n",
       "      <th>4</th>\n",
       "      <td>2019</td>\n",
       "      <td>현대기아</td>\n",
       "      <td>승용</td>\n",
       "      <td>싼타페 2.0디젤 2WD</td>\n",
       "      <td>61610</td>\n",
       "    </tr>\n",
       "    <tr>\n",
       "      <th>...</th>\n",
       "      <td>...</td>\n",
       "      <td>...</td>\n",
       "      <td>...</td>\n",
       "      <td>...</td>\n",
       "      <td>...</td>\n",
       "    </tr>\n",
       "    <tr>\n",
       "      <th>19607</th>\n",
       "      <td>2020</td>\n",
       "      <td>SOFA차량</td>\n",
       "      <td>화물</td>\n",
       "      <td>포터Ⅱ (PORTERⅡ)</td>\n",
       "      <td>1</td>\n",
       "    </tr>\n",
       "    <tr>\n",
       "      <th>19608</th>\n",
       "      <td>2020</td>\n",
       "      <td>강원도청</td>\n",
       "      <td>특수</td>\n",
       "      <td>마기루스고가사다리소방차</td>\n",
       "      <td>1</td>\n",
       "    </tr>\n",
       "    <tr>\n",
       "      <th>19609</th>\n",
       "      <td>2020</td>\n",
       "      <td>경북종합특장</td>\n",
       "      <td>화물</td>\n",
       "      <td>경북4.2톤암롤트럭</td>\n",
       "      <td>1</td>\n",
       "    </tr>\n",
       "    <tr>\n",
       "      <th>19610</th>\n",
       "      <td>2020</td>\n",
       "      <td>경북종합특장</td>\n",
       "      <td>화물</td>\n",
       "      <td>경북4X4롱바디트럭</td>\n",
       "      <td>1</td>\n",
       "    </tr>\n",
       "    <tr>\n",
       "      <th>19611</th>\n",
       "      <td>2024</td>\n",
       "      <td>흥국정공 (주)</td>\n",
       "      <td>화물</td>\n",
       "      <td>흥국8KL버큠로리</td>\n",
       "      <td>1</td>\n",
       "    </tr>\n",
       "  </tbody>\n",
       "</table>\n",
       "<p>19612 rows × 5 columns</p>\n",
       "</div>"
      ],
      "text/plain": [
       "         연식      제작사명  차종                   차명  SCR 부착 대수\n",
       "0      2022      현대기아  승용  포터 2.5디젤 초장축 더블캡 AT      86498\n",
       "1      2020      현대기아  승용  포터 2.5디젤 초장축 더블캡 AT      81404\n",
       "2      2019      현대기아  승용        카니발 2.2 디젤 9인      71017\n",
       "3      2017  기아자동차(주)  승용                  쏘렌토      62647\n",
       "4      2019      현대기아  승용        싼타페 2.0디젤 2WD      61610\n",
       "...     ...       ...  ..                  ...        ...\n",
       "19607  2020    SOFA차량  화물        포터Ⅱ (PORTERⅡ)          1\n",
       "19608  2020      강원도청  특수         마기루스고가사다리소방차          1\n",
       "19609  2020    경북종합특장  화물           경북4.2톤암롤트럭          1\n",
       "19610  2020    경북종합특장  화물           경북4X4롱바디트럭          1\n",
       "19611  2024  흥국정공 (주)  화물            흥국8KL버큠로리          1\n",
       "\n",
       "[19612 rows x 5 columns]"
      ]
     },
     "execution_count": 782,
     "metadata": {},
     "output_type": "execute_result"
    }
   ],
   "source": [
    "grp7 = srt3.groupby(['연식', '제작사명', '차종', '차명'], dropna=False)['차대번호'].count().reset_index()\n",
    "grp7 = grp7.rename(columns={'차대번호':'SCR 부착 대수'})\n",
    "grp7 = grp7.sort_values(['SCR 부착 대수'], ascending=False).reset_index(drop=True)\n",
    "grp7"
   ]
  },
  {
   "cell_type": "markdown",
   "metadata": {},
   "source": [
    "### [출력] 통계"
   ]
  },
  {
   "cell_type": "code",
   "execution_count": 783,
   "metadata": {},
   "outputs": [
    {
     "data": {
      "text/plain": [
       "'2023.12.18'"
      ]
     },
     "execution_count": 783,
     "metadata": {},
     "output_type": "execute_result"
    }
   ],
   "source": [
    "today_date_dot = datetime.today().strftime('%Y.%m.%d')\n",
    "today_date_dot"
   ]
  },
  {
   "cell_type": "code",
   "execution_count": 784,
   "metadata": {},
   "outputs": [],
   "source": [
    "# 3.2s\n",
    "with pd.ExcelWriter(os.path.join(an_fold, f'SCR부착 차량 통계({today_date_dot}).xlsx')) as writer:\n",
    "    grp1.to_excel(writer, sheet_name='전체_차종', index=False)\n",
    "    grp2.to_excel(writer, sheet_name='SCR_차종', index=False)\n",
    "    grp3.to_excel(writer, sheet_name='SCR_국내외', index=False)\n",
    "    grp4.to_excel(writer, sheet_name='화물_용도', index=False)\n",
    "    grp5.to_excel(writer, sheet_name='SCR화물_용도', index=False)\n",
    "    grp6.to_excel(writer, sheet_name='SCR_연식_차종', index=False)\n",
    "    grp7.to_excel(writer, sheet_name='SCR_연식_제작사_차종_차명', index=False)"
   ]
  },
  {
   "cell_type": "markdown",
   "metadata": {},
   "source": [
    "### [출력] SCR장착 차량"
   ]
  },
  {
   "cell_type": "code",
   "execution_count": 785,
   "metadata": {},
   "outputs": [
    {
     "data": {
      "text/plain": [
       "(3204754, 23)"
      ]
     },
     "execution_count": 785,
     "metadata": {},
     "output_type": "execute_result"
    }
   ],
   "source": [
    "srt3.shape"
   ]
  },
  {
   "cell_type": "code",
   "execution_count": 786,
   "metadata": {},
   "outputs": [
    {
     "data": {
      "text/plain": [
       "['배출가스인증번호',\n",
       " '배출가스등급',\n",
       " '최초등록일자',\n",
       " '용도',\n",
       " '제원관리번호',\n",
       " '차량말소유무',\n",
       " '연식',\n",
       " '차종',\n",
       " '차대번호',\n",
       " '배기량',\n",
       " '엔진출력',\n",
       " '엔진형식',\n",
       " '연료',\n",
       " '제작사명',\n",
       " '총중량',\n",
       " '차명',\n",
       " '제작국',\n",
       " '유럽기준',\n",
       " 'SCR유무',\n",
       " '저감장치구분',\n",
       " '구분',\n",
       " '통계자료존재유무',\n",
       " '확인']"
      ]
     },
     "execution_count": 786,
     "metadata": {},
     "output_type": "execute_result"
    }
   ],
   "source": [
    "srt3.columns.to_list()"
   ]
  },
  {
   "cell_type": "code",
   "execution_count": 787,
   "metadata": {},
   "outputs": [
    {
     "data": {
      "text/plain": [
       "Index(['차대번호', '배출가스인증번호', '제원관리번호', '차종', '용도', '연식', '구분', '배기량', '엔진출력',\n",
       "       '엔진형식', '연료', '제작사명', '총중량', '차명', '제작국'],\n",
       "      dtype='object')"
      ]
     },
     "execution_count": 787,
     "metadata": {},
     "output_type": "execute_result"
    }
   ],
   "source": [
    "scr_car = srt3[[\n",
    "    '차대번호',\n",
    "    '배출가스인증번호',\n",
    "    '제원관리번호',\n",
    "    '차종',\n",
    "    '용도',\n",
    "    '연식',\n",
    "    '구분',\n",
    "    '배기량',\n",
    "    '엔진출력',\n",
    "    '엔진형식',\n",
    "    '연료',\n",
    "    '제작사명',\n",
    "    '총중량',\n",
    "    '차명',\n",
    "    '제작국',\n",
    "    \n",
    "    # '배출가스등급',\n",
    "    # '최초등록일자',\n",
    "    # '차량말소유무',\n",
    "    # '유럽기준',\n",
    "    # 'SCR유무',\n",
    "    # '저감장치구분',\n",
    "    # '통계자료존재유무',\n",
    "    # '확인'\n",
    "]]\n",
    "scr_car.columns"
   ]
  },
  {
   "cell_type": "code",
   "execution_count": 788,
   "metadata": {},
   "outputs": [
    {
     "data": {
      "text/plain": [
       "3204754"
      ]
     },
     "execution_count": 788,
     "metadata": {},
     "output_type": "execute_result"
    }
   ],
   "source": [
    "scr_ckm.loc[scr_ckm['SCR 장착여부 확인 (1:장착, 2:미장착)'] == 1, '차량대수'].sum()"
   ]
  },
  {
   "cell_type": "code",
   "execution_count": 789,
   "metadata": {},
   "outputs": [
    {
     "data": {
      "text/plain": [
       "(3204754, 15)"
      ]
     },
     "execution_count": 789,
     "metadata": {},
     "output_type": "execute_result"
    }
   ],
   "source": [
    "scr_car.shape"
   ]
  },
  {
   "cell_type": "code",
   "execution_count": 790,
   "metadata": {},
   "outputs": [
    {
     "name": "stdout",
     "output_type": "stream",
     "text": [
      "0 500000\n",
      "500000 1000000\n",
      "1000000 1500000\n",
      "1500000 2000000\n",
      "2000000 2500000\n",
      "2500000 3000000\n",
      "3000000 3500000\n"
     ]
    }
   ],
   "source": [
    "div = 50 * 10**4\n",
    "for n in range(scr_car.shape[0] // div + 1):\n",
    "    print(n*div, (n+1) *div)"
   ]
  },
  {
   "cell_type": "code",
   "execution_count": 791,
   "metadata": {},
   "outputs": [
    {
     "data": {
      "text/plain": [
       "'2023.12.18'"
      ]
     },
     "execution_count": 791,
     "metadata": {},
     "output_type": "execute_result"
    }
   ],
   "source": [
    "today_date_dot = datetime.today().strftime('%Y.%m.%d')\n",
    "today_date_dot"
   ]
  },
  {
   "cell_type": "code",
   "execution_count": 792,
   "metadata": {},
   "outputs": [],
   "source": [
    "# 20m 46.9s\n",
    "div = 50 * 10**4\n",
    "for n in range(scr_car.shape[0] // div + 1):\n",
    "    # print(n*div, (n+1) *div)\n",
    "    scr_car.iloc[n*div:(n+1)*div].to_excel(os.path.join(df_fold, f'SCR 장착 차량 샘플{n+1}({today_date_dot}).xlsx'), index=False)"
   ]
  },
  {
   "cell_type": "markdown",
   "metadata": {},
   "source": [
    "### [출력] 국내외 구분 비어있는 데이터"
   ]
  },
  {
   "cell_type": "code",
   "execution_count": 744,
   "metadata": {},
   "outputs": [
    {
     "data": {
      "text/plain": [
       "(427820, 15)"
      ]
     },
     "execution_count": 744,
     "metadata": {},
     "output_type": "execute_result"
    }
   ],
   "source": [
    "scr_car[scr_car['구분'].isnull()].reset_index(drop=True).shape"
   ]
  },
  {
   "cell_type": "code",
   "execution_count": 745,
   "metadata": {},
   "outputs": [],
   "source": [
    "# # 2m 58.6s\n",
    "# scr_car[scr_car['구분'].isnull()].reset_index(drop=True).to_excel(os.path.join(raw_fold, f'국내외구분빈값 샘플_{today_date_dot}.xlsx'), index=False)"
   ]
  },
  {
   "cell_type": "markdown",
   "metadata": {},
   "source": [
    "## 저공해조치 차량 현황"
   ]
  },
  {
   "cell_type": "code",
   "execution_count": 371,
   "metadata": {},
   "outputs": [
    {
     "data": {
      "text/html": [
       "<div>\n",
       "<style scoped>\n",
       "    .dataframe tbody tr th:only-of-type {\n",
       "        vertical-align: middle;\n",
       "    }\n",
       "\n",
       "    .dataframe tbody tr th {\n",
       "        vertical-align: top;\n",
       "    }\n",
       "\n",
       "    .dataframe thead th {\n",
       "        text-align: right;\n",
       "    }\n",
       "</style>\n",
       "<table border=\"1\" class=\"dataframe\">\n",
       "  <thead>\n",
       "    <tr style=\"text-align: right;\">\n",
       "      <th></th>\n",
       "      <th>구분</th>\n",
       "      <th>차량대수</th>\n",
       "    </tr>\n",
       "  </thead>\n",
       "  <tbody>\n",
       "    <tr>\n",
       "      <th>0</th>\n",
       "      <td>국내</td>\n",
       "      <td>2102.0</td>\n",
       "    </tr>\n",
       "    <tr>\n",
       "      <th>1</th>\n",
       "      <td>국외</td>\n",
       "      <td>270.0</td>\n",
       "    </tr>\n",
       "    <tr>\n",
       "      <th>2</th>\n",
       "      <td>합계</td>\n",
       "      <td>2372.0</td>\n",
       "    </tr>\n",
       "  </tbody>\n",
       "</table>\n",
       "</div>"
      ],
      "text/plain": [
       "   구분    차량대수\n",
       "0  국내  2102.0\n",
       "1  국외   270.0\n",
       "2  합계  2372.0"
      ]
     },
     "execution_count": 371,
     "metadata": {},
     "output_type": "execute_result"
    }
   ],
   "source": [
    "mgrp1 = mnt.groupby(['구분'], dropna=False)['차대번호'].count().reset_index()\n",
    "mgrp1 = mgrp1.rename(columns={'차대번호':'차량대수'})\n",
    "mgrp1.loc[mgrp1.shape[0], ['구분', '차량대수']] = ['합계', mgrp1['차량대수'].sum()]\n",
    "mgrp1"
   ]
  },
  {
   "cell_type": "code",
   "execution_count": 372,
   "metadata": {},
   "outputs": [
    {
     "data": {
      "text/html": [
       "<div>\n",
       "<style scoped>\n",
       "    .dataframe tbody tr th:only-of-type {\n",
       "        vertical-align: middle;\n",
       "    }\n",
       "\n",
       "    .dataframe tbody tr th {\n",
       "        vertical-align: top;\n",
       "    }\n",
       "\n",
       "    .dataframe thead th {\n",
       "        text-align: right;\n",
       "    }\n",
       "</style>\n",
       "<table border=\"1\" class=\"dataframe\">\n",
       "  <thead>\n",
       "    <tr style=\"text-align: right;\">\n",
       "      <th></th>\n",
       "      <th>구분</th>\n",
       "      <th>차종</th>\n",
       "      <th>차량대수</th>\n",
       "    </tr>\n",
       "  </thead>\n",
       "  <tbody>\n",
       "    <tr>\n",
       "      <th>0</th>\n",
       "      <td>국내</td>\n",
       "      <td>승합</td>\n",
       "      <td>38.0</td>\n",
       "    </tr>\n",
       "    <tr>\n",
       "      <th>1</th>\n",
       "      <td>국내</td>\n",
       "      <td>화물</td>\n",
       "      <td>2064.0</td>\n",
       "    </tr>\n",
       "    <tr>\n",
       "      <th>2</th>\n",
       "      <td>국외</td>\n",
       "      <td>화물</td>\n",
       "      <td>270.0</td>\n",
       "    </tr>\n",
       "    <tr>\n",
       "      <th>3</th>\n",
       "      <td>합계</td>\n",
       "      <td>NaN</td>\n",
       "      <td>2372.0</td>\n",
       "    </tr>\n",
       "  </tbody>\n",
       "</table>\n",
       "</div>"
      ],
      "text/plain": [
       "   구분   차종    차량대수\n",
       "0  국내   승합    38.0\n",
       "1  국내   화물  2064.0\n",
       "2  국외   화물   270.0\n",
       "3  합계  NaN  2372.0"
      ]
     },
     "execution_count": 372,
     "metadata": {},
     "output_type": "execute_result"
    }
   ],
   "source": [
    "mgrp2 = mnt.groupby(['구분', '차종'], dropna=False)['차대번호'].count().reset_index()\n",
    "mgrp2 = mgrp2.rename(columns={'차대번호':'차량대수'})\n",
    "mgrp2.loc[mgrp2.shape[0], ['구분', '차량대수']] = ['합계', mgrp2['차량대수'].sum()]\n",
    "mgrp2"
   ]
  },
  {
   "cell_type": "code",
   "execution_count": 373,
   "metadata": {},
   "outputs": [
    {
     "data": {
      "text/html": [
       "<div>\n",
       "<style scoped>\n",
       "    .dataframe tbody tr th:only-of-type {\n",
       "        vertical-align: middle;\n",
       "    }\n",
       "\n",
       "    .dataframe tbody tr th {\n",
       "        vertical-align: top;\n",
       "    }\n",
       "\n",
       "    .dataframe thead th {\n",
       "        text-align: right;\n",
       "    }\n",
       "</style>\n",
       "<table border=\"1\" class=\"dataframe\">\n",
       "  <thead>\n",
       "    <tr style=\"text-align: right;\">\n",
       "      <th></th>\n",
       "      <th>구분</th>\n",
       "      <th>차종유형</th>\n",
       "      <th>차량대수</th>\n",
       "    </tr>\n",
       "  </thead>\n",
       "  <tbody>\n",
       "    <tr>\n",
       "      <th>0</th>\n",
       "      <td>국내</td>\n",
       "      <td>대형</td>\n",
       "      <td>2102.0</td>\n",
       "    </tr>\n",
       "    <tr>\n",
       "      <th>1</th>\n",
       "      <td>국외</td>\n",
       "      <td>대형</td>\n",
       "      <td>270.0</td>\n",
       "    </tr>\n",
       "    <tr>\n",
       "      <th>2</th>\n",
       "      <td>합계</td>\n",
       "      <td>NaN</td>\n",
       "      <td>2372.0</td>\n",
       "    </tr>\n",
       "  </tbody>\n",
       "</table>\n",
       "</div>"
      ],
      "text/plain": [
       "   구분 차종유형    차량대수\n",
       "0  국내   대형  2102.0\n",
       "1  국외   대형   270.0\n",
       "2  합계  NaN  2372.0"
      ]
     },
     "execution_count": 373,
     "metadata": {},
     "output_type": "execute_result"
    }
   ],
   "source": [
    "mgrp3 = mnt.groupby(['구분', '차종유형'], dropna=False)['차대번호'].count().reset_index()\n",
    "mgrp3 = mgrp3.rename(columns={'차대번호':'차량대수'})\n",
    "mgrp3.loc[mgrp3.shape[0], ['구분', '차량대수']] = ['합계', mgrp3['차량대수'].sum()]\n",
    "mgrp3"
   ]
  },
  {
   "cell_type": "code",
   "execution_count": null,
   "metadata": {},
   "outputs": [],
   "source": [
    "mgrp4 = mnt.groupby(['구분', '용도'], dropna=False)['차대번호'].count().reset_index()\n",
    "mgrp4 = mgrp4.rename(columns={'차대번호':'차량대수'})\n",
    "mgrp4.loc[mgrp4.shape[0], ['구분', '차량대수']] = ['합계', mgrp4['차량대수'].sum()]\n",
    "mgrp4"
   ]
  },
  {
   "cell_type": "code",
   "execution_count": 374,
   "metadata": {},
   "outputs": [
    {
     "data": {
      "text/html": [
       "<div>\n",
       "<style scoped>\n",
       "    .dataframe tbody tr th:only-of-type {\n",
       "        vertical-align: middle;\n",
       "    }\n",
       "\n",
       "    .dataframe tbody tr th {\n",
       "        vertical-align: top;\n",
       "    }\n",
       "\n",
       "    .dataframe thead th {\n",
       "        text-align: right;\n",
       "    }\n",
       "</style>\n",
       "<table border=\"1\" class=\"dataframe\">\n",
       "  <thead>\n",
       "    <tr style=\"text-align: right;\">\n",
       "      <th></th>\n",
       "      <th>구분</th>\n",
       "      <th>차종</th>\n",
       "      <th>차종유형</th>\n",
       "      <th>용도</th>\n",
       "      <th>차량대수</th>\n",
       "    </tr>\n",
       "  </thead>\n",
       "  <tbody>\n",
       "    <tr>\n",
       "      <th>0</th>\n",
       "      <td>국내</td>\n",
       "      <td>승합</td>\n",
       "      <td>대형</td>\n",
       "      <td>개인용</td>\n",
       "      <td>34.0</td>\n",
       "    </tr>\n",
       "    <tr>\n",
       "      <th>1</th>\n",
       "      <td>국내</td>\n",
       "      <td>승합</td>\n",
       "      <td>대형</td>\n",
       "      <td>영업용</td>\n",
       "      <td>4.0</td>\n",
       "    </tr>\n",
       "    <tr>\n",
       "      <th>2</th>\n",
       "      <td>국내</td>\n",
       "      <td>화물</td>\n",
       "      <td>대형</td>\n",
       "      <td>개인용</td>\n",
       "      <td>291.0</td>\n",
       "    </tr>\n",
       "    <tr>\n",
       "      <th>3</th>\n",
       "      <td>국내</td>\n",
       "      <td>화물</td>\n",
       "      <td>대형</td>\n",
       "      <td>영업용</td>\n",
       "      <td>1773.0</td>\n",
       "    </tr>\n",
       "    <tr>\n",
       "      <th>4</th>\n",
       "      <td>국외</td>\n",
       "      <td>화물</td>\n",
       "      <td>대형</td>\n",
       "      <td>개인용</td>\n",
       "      <td>97.0</td>\n",
       "    </tr>\n",
       "    <tr>\n",
       "      <th>5</th>\n",
       "      <td>국외</td>\n",
       "      <td>화물</td>\n",
       "      <td>대형</td>\n",
       "      <td>영업용</td>\n",
       "      <td>173.0</td>\n",
       "    </tr>\n",
       "    <tr>\n",
       "      <th>6</th>\n",
       "      <td>합계</td>\n",
       "      <td>NaN</td>\n",
       "      <td>NaN</td>\n",
       "      <td>NaN</td>\n",
       "      <td>2372.0</td>\n",
       "    </tr>\n",
       "  </tbody>\n",
       "</table>\n",
       "</div>"
      ],
      "text/plain": [
       "   구분   차종 차종유형   용도    차량대수\n",
       "0  국내   승합   대형  개인용    34.0\n",
       "1  국내   승합   대형  영업용     4.0\n",
       "2  국내   화물   대형  개인용   291.0\n",
       "3  국내   화물   대형  영업용  1773.0\n",
       "4  국외   화물   대형  개인용    97.0\n",
       "5  국외   화물   대형  영업용   173.0\n",
       "6  합계  NaN  NaN  NaN  2372.0"
      ]
     },
     "execution_count": 374,
     "metadata": {},
     "output_type": "execute_result"
    }
   ],
   "source": [
    "mgrp5 = mnt.groupby(['구분', '차종', '차종유형', '용도'], dropna=False)['차대번호'].count().reset_index()\n",
    "mgrp5 = mgrp5.rename(columns={'차대번호':'차량대수'})\n",
    "mgrp5.loc[mgrp5.shape[0], ['구분', '차량대수']] = ['합계', mgrp5['차량대수'].sum()]\n",
    "mgrp5"
   ]
  },
  {
   "cell_type": "markdown",
   "metadata": {},
   "source": [
    "## SCR장착 차량 현황"
   ]
  },
  {
   "cell_type": "code",
   "execution_count": 375,
   "metadata": {},
   "outputs": [
    {
     "data": {
      "text/html": [
       "<div>\n",
       "<style scoped>\n",
       "    .dataframe tbody tr th:only-of-type {\n",
       "        vertical-align: middle;\n",
       "    }\n",
       "\n",
       "    .dataframe tbody tr th {\n",
       "        vertical-align: top;\n",
       "    }\n",
       "\n",
       "    .dataframe thead th {\n",
       "        text-align: right;\n",
       "    }\n",
       "</style>\n",
       "<table border=\"1\" class=\"dataframe\">\n",
       "  <thead>\n",
       "    <tr style=\"text-align: right;\">\n",
       "      <th></th>\n",
       "      <th>구분</th>\n",
       "      <th>차량대수</th>\n",
       "    </tr>\n",
       "  </thead>\n",
       "  <tbody>\n",
       "    <tr>\n",
       "      <th>0</th>\n",
       "      <td>국내</td>\n",
       "      <td>3592589.0</td>\n",
       "    </tr>\n",
       "    <tr>\n",
       "      <th>1</th>\n",
       "      <td>국외</td>\n",
       "      <td>840704.0</td>\n",
       "    </tr>\n",
       "    <tr>\n",
       "      <th>2</th>\n",
       "      <td>합계</td>\n",
       "      <td>4433293.0</td>\n",
       "    </tr>\n",
       "  </tbody>\n",
       "</table>\n",
       "</div>"
      ],
      "text/plain": [
       "   구분       차량대수\n",
       "0  국내  3592589.0\n",
       "1  국외   840704.0\n",
       "2  합계  4433293.0"
      ]
     },
     "execution_count": 375,
     "metadata": {},
     "output_type": "execute_result"
    }
   ],
   "source": [
    "egrp1 = euro.groupby(['구분'], dropna=False)['차대번호'].count().reset_index()\n",
    "egrp1 = egrp1.rename(columns={'차대번호':'차량대수'})\n",
    "egrp1.loc[egrp1.shape[0], ['구분', '차량대수']] = ['합계', egrp1['차량대수'].sum()]\n",
    "egrp1"
   ]
  },
  {
   "cell_type": "code",
   "execution_count": 376,
   "metadata": {},
   "outputs": [
    {
     "data": {
      "text/html": [
       "<div>\n",
       "<style scoped>\n",
       "    .dataframe tbody tr th:only-of-type {\n",
       "        vertical-align: middle;\n",
       "    }\n",
       "\n",
       "    .dataframe tbody tr th {\n",
       "        vertical-align: top;\n",
       "    }\n",
       "\n",
       "    .dataframe thead th {\n",
       "        text-align: right;\n",
       "    }\n",
       "</style>\n",
       "<table border=\"1\" class=\"dataframe\">\n",
       "  <thead>\n",
       "    <tr style=\"text-align: right;\">\n",
       "      <th></th>\n",
       "      <th>구분</th>\n",
       "      <th>차종</th>\n",
       "      <th>차량대수</th>\n",
       "    </tr>\n",
       "  </thead>\n",
       "  <tbody>\n",
       "    <tr>\n",
       "      <th>0</th>\n",
       "      <td>국내</td>\n",
       "      <td>승용</td>\n",
       "      <td>1853816.0</td>\n",
       "    </tr>\n",
       "    <tr>\n",
       "      <th>1</th>\n",
       "      <td>국내</td>\n",
       "      <td>승합</td>\n",
       "      <td>198959.0</td>\n",
       "    </tr>\n",
       "    <tr>\n",
       "      <th>2</th>\n",
       "      <td>국내</td>\n",
       "      <td>특수</td>\n",
       "      <td>56761.0</td>\n",
       "    </tr>\n",
       "    <tr>\n",
       "      <th>3</th>\n",
       "      <td>국내</td>\n",
       "      <td>화물</td>\n",
       "      <td>1483053.0</td>\n",
       "    </tr>\n",
       "    <tr>\n",
       "      <th>4</th>\n",
       "      <td>국외</td>\n",
       "      <td>승용</td>\n",
       "      <td>763067.0</td>\n",
       "    </tr>\n",
       "    <tr>\n",
       "      <th>5</th>\n",
       "      <td>국외</td>\n",
       "      <td>승합</td>\n",
       "      <td>1562.0</td>\n",
       "    </tr>\n",
       "    <tr>\n",
       "      <th>6</th>\n",
       "      <td>국외</td>\n",
       "      <td>특수</td>\n",
       "      <td>23544.0</td>\n",
       "    </tr>\n",
       "    <tr>\n",
       "      <th>7</th>\n",
       "      <td>국외</td>\n",
       "      <td>화물</td>\n",
       "      <td>52531.0</td>\n",
       "    </tr>\n",
       "    <tr>\n",
       "      <th>8</th>\n",
       "      <td>합계</td>\n",
       "      <td>NaN</td>\n",
       "      <td>4433293.0</td>\n",
       "    </tr>\n",
       "  </tbody>\n",
       "</table>\n",
       "</div>"
      ],
      "text/plain": [
       "   구분   차종       차량대수\n",
       "0  국내   승용  1853816.0\n",
       "1  국내   승합   198959.0\n",
       "2  국내   특수    56761.0\n",
       "3  국내   화물  1483053.0\n",
       "4  국외   승용   763067.0\n",
       "5  국외   승합     1562.0\n",
       "6  국외   특수    23544.0\n",
       "7  국외   화물    52531.0\n",
       "8  합계  NaN  4433293.0"
      ]
     },
     "execution_count": 376,
     "metadata": {},
     "output_type": "execute_result"
    }
   ],
   "source": [
    "egrp2 = euro.groupby(['구분', '차종'], dropna=False)['차대번호'].count().reset_index()\n",
    "egrp2 = egrp2.rename(columns={'차대번호':'차량대수'})\n",
    "egrp2.loc[egrp2.shape[0], ['구분', '차량대수']] = ['합계', egrp2['차량대수'].sum()]\n",
    "egrp2"
   ]
  },
  {
   "cell_type": "code",
   "execution_count": 377,
   "metadata": {},
   "outputs": [
    {
     "data": {
      "text/html": [
       "<div>\n",
       "<style scoped>\n",
       "    .dataframe tbody tr th:only-of-type {\n",
       "        vertical-align: middle;\n",
       "    }\n",
       "\n",
       "    .dataframe tbody tr th {\n",
       "        vertical-align: top;\n",
       "    }\n",
       "\n",
       "    .dataframe thead th {\n",
       "        text-align: right;\n",
       "    }\n",
       "</style>\n",
       "<table border=\"1\" class=\"dataframe\">\n",
       "  <thead>\n",
       "    <tr style=\"text-align: right;\">\n",
       "      <th></th>\n",
       "      <th>구분</th>\n",
       "      <th>차종유형</th>\n",
       "      <th>차량대수</th>\n",
       "    </tr>\n",
       "  </thead>\n",
       "  <tbody>\n",
       "    <tr>\n",
       "      <th>0</th>\n",
       "      <td>국내</td>\n",
       "      <td>대형</td>\n",
       "      <td>1169593.0</td>\n",
       "    </tr>\n",
       "    <tr>\n",
       "      <th>1</th>\n",
       "      <td>국내</td>\n",
       "      <td>소형</td>\n",
       "      <td>1317655.0</td>\n",
       "    </tr>\n",
       "    <tr>\n",
       "      <th>2</th>\n",
       "      <td>국내</td>\n",
       "      <td>중형</td>\n",
       "      <td>1105341.0</td>\n",
       "    </tr>\n",
       "    <tr>\n",
       "      <th>3</th>\n",
       "      <td>국외</td>\n",
       "      <td>대형</td>\n",
       "      <td>291046.0</td>\n",
       "    </tr>\n",
       "    <tr>\n",
       "      <th>4</th>\n",
       "      <td>국외</td>\n",
       "      <td>소형</td>\n",
       "      <td>4637.0</td>\n",
       "    </tr>\n",
       "    <tr>\n",
       "      <th>5</th>\n",
       "      <td>국외</td>\n",
       "      <td>중형</td>\n",
       "      <td>545021.0</td>\n",
       "    </tr>\n",
       "    <tr>\n",
       "      <th>6</th>\n",
       "      <td>합계</td>\n",
       "      <td>NaN</td>\n",
       "      <td>4433293.0</td>\n",
       "    </tr>\n",
       "  </tbody>\n",
       "</table>\n",
       "</div>"
      ],
      "text/plain": [
       "   구분 차종유형       차량대수\n",
       "0  국내   대형  1169593.0\n",
       "1  국내   소형  1317655.0\n",
       "2  국내   중형  1105341.0\n",
       "3  국외   대형   291046.0\n",
       "4  국외   소형     4637.0\n",
       "5  국외   중형   545021.0\n",
       "6  합계  NaN  4433293.0"
      ]
     },
     "execution_count": 377,
     "metadata": {},
     "output_type": "execute_result"
    }
   ],
   "source": [
    "egrp3 = euro.groupby(['구분', '차종유형'], dropna=False)['차대번호'].count().reset_index()\n",
    "egrp3 = egrp3.rename(columns={'차대번호':'차량대수'})\n",
    "egrp3.loc[egrp3.shape[0], ['구분', '차량대수']] = ['합계', egrp3['차량대수'].sum()]\n",
    "egrp3"
   ]
  },
  {
   "cell_type": "code",
   "execution_count": 378,
   "metadata": {},
   "outputs": [
    {
     "data": {
      "text/html": [
       "<div>\n",
       "<style scoped>\n",
       "    .dataframe tbody tr th:only-of-type {\n",
       "        vertical-align: middle;\n",
       "    }\n",
       "\n",
       "    .dataframe tbody tr th {\n",
       "        vertical-align: top;\n",
       "    }\n",
       "\n",
       "    .dataframe thead th {\n",
       "        text-align: right;\n",
       "    }\n",
       "</style>\n",
       "<table border=\"1\" class=\"dataframe\">\n",
       "  <thead>\n",
       "    <tr style=\"text-align: right;\">\n",
       "      <th></th>\n",
       "      <th>구분</th>\n",
       "      <th>용도</th>\n",
       "      <th>차량대수</th>\n",
       "    </tr>\n",
       "  </thead>\n",
       "  <tbody>\n",
       "    <tr>\n",
       "      <th>0</th>\n",
       "      <td>국내</td>\n",
       "      <td>개인용</td>\n",
       "      <td>3089301.0</td>\n",
       "    </tr>\n",
       "    <tr>\n",
       "      <th>1</th>\n",
       "      <td>국내</td>\n",
       "      <td>관용</td>\n",
       "      <td>41461.0</td>\n",
       "    </tr>\n",
       "    <tr>\n",
       "      <th>2</th>\n",
       "      <td>국내</td>\n",
       "      <td>영업용</td>\n",
       "      <td>461827.0</td>\n",
       "    </tr>\n",
       "    <tr>\n",
       "      <th>3</th>\n",
       "      <td>국외</td>\n",
       "      <td>개인용</td>\n",
       "      <td>765866.0</td>\n",
       "    </tr>\n",
       "    <tr>\n",
       "      <th>4</th>\n",
       "      <td>국외</td>\n",
       "      <td>관용</td>\n",
       "      <td>1736.0</td>\n",
       "    </tr>\n",
       "    <tr>\n",
       "      <th>5</th>\n",
       "      <td>국외</td>\n",
       "      <td>영업용</td>\n",
       "      <td>73102.0</td>\n",
       "    </tr>\n",
       "    <tr>\n",
       "      <th>6</th>\n",
       "      <td>합계</td>\n",
       "      <td>NaN</td>\n",
       "      <td>4433293.0</td>\n",
       "    </tr>\n",
       "  </tbody>\n",
       "</table>\n",
       "</div>"
      ],
      "text/plain": [
       "   구분   용도       차량대수\n",
       "0  국내  개인용  3089301.0\n",
       "1  국내   관용    41461.0\n",
       "2  국내  영업용   461827.0\n",
       "3  국외  개인용   765866.0\n",
       "4  국외   관용     1736.0\n",
       "5  국외  영업용    73102.0\n",
       "6  합계  NaN  4433293.0"
      ]
     },
     "execution_count": 378,
     "metadata": {},
     "output_type": "execute_result"
    }
   ],
   "source": [
    "egrp4 = euro.groupby(['구분', '용도'], dropna=False)['차대번호'].count().reset_index()\n",
    "egrp4 = egrp4.rename(columns={'차대번호':'차량대수'})\n",
    "egrp4.loc[egrp4.shape[0], ['구분', '차량대수']] = ['합계', egrp4['차량대수'].sum()]\n",
    "egrp4"
   ]
  },
  {
   "cell_type": "code",
   "execution_count": 379,
   "metadata": {},
   "outputs": [
    {
     "data": {
      "text/html": [
       "<div>\n",
       "<style scoped>\n",
       "    .dataframe tbody tr th:only-of-type {\n",
       "        vertical-align: middle;\n",
       "    }\n",
       "\n",
       "    .dataframe tbody tr th {\n",
       "        vertical-align: top;\n",
       "    }\n",
       "\n",
       "    .dataframe thead th {\n",
       "        text-align: right;\n",
       "    }\n",
       "</style>\n",
       "<table border=\"1\" class=\"dataframe\">\n",
       "  <thead>\n",
       "    <tr style=\"text-align: right;\">\n",
       "      <th></th>\n",
       "      <th>구분</th>\n",
       "      <th>차종</th>\n",
       "      <th>차종유형</th>\n",
       "      <th>용도</th>\n",
       "      <th>차량대수</th>\n",
       "    </tr>\n",
       "  </thead>\n",
       "  <tbody>\n",
       "    <tr>\n",
       "      <th>0</th>\n",
       "      <td>국내</td>\n",
       "      <td>승용</td>\n",
       "      <td>대형</td>\n",
       "      <td>개인용</td>\n",
       "      <td>884473.0</td>\n",
       "    </tr>\n",
       "    <tr>\n",
       "      <th>1</th>\n",
       "      <td>국내</td>\n",
       "      <td>승용</td>\n",
       "      <td>대형</td>\n",
       "      <td>관용</td>\n",
       "      <td>2186.0</td>\n",
       "    </tr>\n",
       "    <tr>\n",
       "      <th>2</th>\n",
       "      <td>국내</td>\n",
       "      <td>승용</td>\n",
       "      <td>대형</td>\n",
       "      <td>영업용</td>\n",
       "      <td>150335.0</td>\n",
       "    </tr>\n",
       "    <tr>\n",
       "      <th>3</th>\n",
       "      <td>국내</td>\n",
       "      <td>승용</td>\n",
       "      <td>소형</td>\n",
       "      <td>개인용</td>\n",
       "      <td>1.0</td>\n",
       "    </tr>\n",
       "    <tr>\n",
       "      <th>4</th>\n",
       "      <td>국내</td>\n",
       "      <td>승용</td>\n",
       "      <td>중형</td>\n",
       "      <td>개인용</td>\n",
       "      <td>761883.0</td>\n",
       "    </tr>\n",
       "    <tr>\n",
       "      <th>...</th>\n",
       "      <td>...</td>\n",
       "      <td>...</td>\n",
       "      <td>...</td>\n",
       "      <td>...</td>\n",
       "      <td>...</td>\n",
       "    </tr>\n",
       "    <tr>\n",
       "      <th>60</th>\n",
       "      <td>국외</td>\n",
       "      <td>화물</td>\n",
       "      <td>소형</td>\n",
       "      <td>영업용</td>\n",
       "      <td>6.0</td>\n",
       "    </tr>\n",
       "    <tr>\n",
       "      <th>61</th>\n",
       "      <td>국외</td>\n",
       "      <td>화물</td>\n",
       "      <td>중형</td>\n",
       "      <td>개인용</td>\n",
       "      <td>2007.0</td>\n",
       "    </tr>\n",
       "    <tr>\n",
       "      <th>62</th>\n",
       "      <td>국외</td>\n",
       "      <td>화물</td>\n",
       "      <td>중형</td>\n",
       "      <td>관용</td>\n",
       "      <td>20.0</td>\n",
       "    </tr>\n",
       "    <tr>\n",
       "      <th>63</th>\n",
       "      <td>국외</td>\n",
       "      <td>화물</td>\n",
       "      <td>중형</td>\n",
       "      <td>영업용</td>\n",
       "      <td>2898.0</td>\n",
       "    </tr>\n",
       "    <tr>\n",
       "      <th>64</th>\n",
       "      <td>합계</td>\n",
       "      <td>NaN</td>\n",
       "      <td>NaN</td>\n",
       "      <td>NaN</td>\n",
       "      <td>4433293.0</td>\n",
       "    </tr>\n",
       "  </tbody>\n",
       "</table>\n",
       "<p>65 rows × 5 columns</p>\n",
       "</div>"
      ],
      "text/plain": [
       "    구분   차종 차종유형   용도       차량대수\n",
       "0   국내   승용   대형  개인용   884473.0\n",
       "1   국내   승용   대형   관용     2186.0\n",
       "2   국내   승용   대형  영업용   150335.0\n",
       "3   국내   승용   소형  개인용        1.0\n",
       "4   국내   승용   중형  개인용   761883.0\n",
       "..  ..  ...  ...  ...        ...\n",
       "60  국외   화물   소형  영업용        6.0\n",
       "61  국외   화물   중형  개인용     2007.0\n",
       "62  국외   화물   중형   관용       20.0\n",
       "63  국외   화물   중형  영업용     2898.0\n",
       "64  합계  NaN  NaN  NaN  4433293.0\n",
       "\n",
       "[65 rows x 5 columns]"
      ]
     },
     "execution_count": 379,
     "metadata": {},
     "output_type": "execute_result"
    }
   ],
   "source": [
    "egrp5 = euro.groupby(['구분', '차종', '차종유형', '용도'], dropna=False)['차대번호'].count().reset_index()\n",
    "egrp5 = egrp5.rename(columns={'차대번호':'차량대수'})\n",
    "egrp5.loc[egrp5.shape[0], ['구분', '차량대수']] = ['합계', egrp5['차량대수'].sum()]\n",
    "egrp5"
   ]
  },
  {
   "cell_type": "markdown",
   "metadata": {},
   "source": [
    "### [출력] 요소수 차량 현황"
   ]
  },
  {
   "cell_type": "code",
   "execution_count": null,
   "metadata": {},
   "outputs": [],
   "source": [
    "today_date_dtl = today_date = datetime.today().strftime('%Y%m%d_%p_%I%M%S')\n",
    "today_date_dtl"
   ]
  },
  {
   "cell_type": "code",
   "execution_count": null,
   "metadata": {},
   "outputs": [],
   "source": [
    "with pd.ExcelWriter(os.path.join(df_fold, f'요소수차량현황_{today_date_dtl}.xlsx')) as writer:\n",
    "    mgrp1.to_excel(writer, sheet_name='저공해차량', index=False)\n",
    "    mgrp2.to_excel(writer, sheet_name='저공해차량_차종', index=False)\n",
    "    mgrp3.to_excel(writer, sheet_name='저공해차량_차종유형', index=False)\n",
    "    mgrp4.to_excel(writer, sheet_name='저공해차량_용도', index=False)\n",
    "    mgrp5.to_excel(writer, sheet_name='저공해차량_분류', index=False)\n",
    "    egrp1.to_excel(writer, sheet_name='SCR장착차량', index=False)\n",
    "    egrp2.to_excel(writer, sheet_name='SCR장착차량_차종', index=False)\n",
    "    egrp3.to_excel(writer, sheet_name='SCR장착차량_차종유형', index=False)\n",
    "    egrp4.to_excel(writer, sheet_name='SCR장착차량_용도', index=False)\n",
    "    egrp5.to_excel(writer, sheet_name='SCR장착차량_분류', index=False)"
   ]
  }
 ],
 "metadata": {
  "interpreter": {
   "hash": "569b4317022eb29baeafb3d0f1f739310808ea28ce83ca127a35db1c01070585"
  },
  "kernelspec": {
   "display_name": "Python 3.9.12 ('base')",
   "language": "python",
   "name": "python3"
  },
  "language_info": {
   "codemirror_mode": {
    "name": "ipython",
    "version": 3
   },
   "file_extension": ".py",
   "mimetype": "text/x-python",
   "name": "python",
   "nbconvert_exporter": "python",
   "pygments_lexer": "ipython3",
   "version": "3.11.4"
  }
 },
 "nbformat": 4,
 "nbformat_minor": 2
}
