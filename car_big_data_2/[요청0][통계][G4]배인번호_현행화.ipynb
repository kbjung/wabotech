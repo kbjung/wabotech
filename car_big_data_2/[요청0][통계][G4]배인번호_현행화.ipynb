{
 "cells": [
  {
   "attachments": {},
   "cell_type": "markdown",
   "metadata": {},
   "source": [
    "# Library"
   ]
  },
  {
   "cell_type": "code",
   "execution_count": 36,
   "metadata": {},
   "outputs": [],
   "source": [
    "import pandas as pd\n",
    "import os, datetime\n",
    "import numpy as np\n",
    "from tqdm import tqdm"
   ]
  },
  {
   "attachments": {},
   "cell_type": "markdown",
   "metadata": {},
   "source": [
    "# File Load\n",
    "- [병합]4등급_차량_리스트_양식_result\n",
    "- [배인번호]업체확인_리스트"
   ]
  },
  {
   "cell_type": "code",
   "execution_count": 2,
   "metadata": {},
   "outputs": [],
   "source": [
    "fold = 'D:/data/big2/BD1_4등급_데이터_점검1'"
   ]
  },
  {
   "cell_type": "code",
   "execution_count": 3,
   "metadata": {},
   "outputs": [],
   "source": [
    "# about 21s\n",
    "file_name = '[병합]4등급_차량_리스트_양식_result.csv'\n",
    "df = pd.read_csv(os.path.join(fold, file_name), encoding='cp949', low_memory=False)"
   ]
  },
  {
   "cell_type": "code",
   "execution_count": 4,
   "metadata": {},
   "outputs": [],
   "source": [
    "file_name = '[배인번호]업체확인_리스트.xlsx'\n",
    "mod = pd.read_excel(os.path.join(fold, file_name), sheet_name='확인')"
   ]
  },
  {
   "cell_type": "code",
   "execution_count": 5,
   "metadata": {},
   "outputs": [
    {
     "data": {
      "text/plain": [
       "((1153813, 64), (1592, 11))"
      ]
     },
     "execution_count": 5,
     "metadata": {},
     "output_type": "execute_result"
    }
   ],
   "source": [
    "df.shape, mod.shape"
   ]
  },
  {
   "cell_type": "code",
   "execution_count": 6,
   "metadata": {},
   "outputs": [
    {
     "data": {
      "text/plain": [
       "Index(['차대번호', '차량번호_x', '제원관리번호', '차종_원본', '용도', '최초등록일', '연식', '제작일자',\n",
       "       '검사유효일', '배출가스인증번호', '등급', '차명_x', '차종분류', '차종유형', '자동차형식', '제작사명',\n",
       "       '연료', '엔진형식_x', '총중량', '적재중량', '엔진출력', '배기량', '법정동코드', '시도명', '시군구명',\n",
       "       '소유자구분', '말소여부', '일치유무', '사용연료', '주행거리', '차명_y', '차량번호_y', '차종', '차량연식',\n",
       "       '엔진형식_y', '검사방법', '검사일자', '검사종류', '검사판정시각', '검사판정', '산소값', '이산화탄소값',\n",
       "       '무부하매연판정1', '무부하매연판정2', '무부하매연판정3', '무부하매연판정4', '무부하매연판정5', '무부하매연판정6',\n",
       "       '무부하매연허용치1', '무부하매연허용치2', '무부하매연허용치3', '무부하매연허용치4', '무부하매연허용치5',\n",
       "       '무부하매연허용치6', '무부하매연측정치1', '무부하매연측정치2', '무부하매연측정치3', '무부하매연측정치4',\n",
       "       '무부하매연측정치5', '무부하매연측정치6', '정기정밀', 'vin10', 'vin_year', 'DPF유무'],\n",
       "      dtype='object')"
      ]
     },
     "execution_count": 6,
     "metadata": {},
     "output_type": "execute_result"
    }
   ],
   "source": [
    "df.columns"
   ]
  },
  {
   "cell_type": "code",
   "execution_count": 7,
   "metadata": {},
   "outputs": [],
   "source": [
    "# 매칭조건 컬럼 : '배출가스인증번호', '자동차형식', '엔진형식_x'\n",
    "# 수정할 컬럼 : '배출가스인증번호', '등급', 'DPF유무'"
   ]
  },
  {
   "cell_type": "code",
   "execution_count": 8,
   "metadata": {},
   "outputs": [
    {
     "data": {
      "text/plain": [
       "Index(['등급(현재)', '등급(수정)', '배인번호(현재)', '배인번호(수정)', '차명', '제작사', '자동차형식',\n",
       "       '엔진형식', 'DPF유무(현재)', 'DPF유무(수정)', '기타'],\n",
       "      dtype='object')"
      ]
     },
     "execution_count": 8,
     "metadata": {},
     "output_type": "execute_result"
    }
   ],
   "source": [
    "mod.columns"
   ]
  },
  {
   "cell_type": "code",
   "execution_count": 9,
   "metadata": {},
   "outputs": [
    {
     "data": {
      "text/html": [
       "<div>\n",
       "<style scoped>\n",
       "    .dataframe tbody tr th:only-of-type {\n",
       "        vertical-align: middle;\n",
       "    }\n",
       "\n",
       "    .dataframe tbody tr th {\n",
       "        vertical-align: top;\n",
       "    }\n",
       "\n",
       "    .dataframe thead th {\n",
       "        text-align: right;\n",
       "    }\n",
       "</style>\n",
       "<table border=\"1\" class=\"dataframe\">\n",
       "  <thead>\n",
       "    <tr style=\"text-align: right;\">\n",
       "      <th></th>\n",
       "      <th>등급(현재)</th>\n",
       "      <th>등급(수정)</th>\n",
       "      <th>배인번호(현재)</th>\n",
       "      <th>배인번호(수정)</th>\n",
       "      <th>차명</th>\n",
       "      <th>제작사</th>\n",
       "      <th>자동차형식</th>\n",
       "      <th>엔진형식</th>\n",
       "      <th>DPF유무(현재)</th>\n",
       "      <th>DPF유무(수정)</th>\n",
       "      <th>기타</th>\n",
       "    </tr>\n",
       "  </thead>\n",
       "  <tbody>\n",
       "    <tr>\n",
       "      <th>0</th>\n",
       "      <td>4</td>\n",
       "      <td>4</td>\n",
       "      <td>7MY-SM-14-36</td>\n",
       "      <td>7MY-SM-14-36</td>\n",
       "      <td>QM5</td>\n",
       "      <td>르노삼성자동차(주)</td>\n",
       "      <td>H1D20-VC-0-11</td>\n",
       "      <td>M9R</td>\n",
       "      <td>유</td>\n",
       "      <td>유</td>\n",
       "      <td>Euro4 기준에 맞춰 개발된 차량</td>\n",
       "    </tr>\n",
       "    <tr>\n",
       "      <th>1</th>\n",
       "      <td>4</td>\n",
       "      <td>4</td>\n",
       "      <td>7MY-SM-14-36</td>\n",
       "      <td>7MY-SM-14-36</td>\n",
       "      <td>QM5</td>\n",
       "      <td>르노삼성자동차(주)</td>\n",
       "      <td>H1D20-VC-0-12</td>\n",
       "      <td>M9R</td>\n",
       "      <td>유</td>\n",
       "      <td>유</td>\n",
       "      <td>Euro4 기준에 맞춰 개발된 차량</td>\n",
       "    </tr>\n",
       "    <tr>\n",
       "      <th>2</th>\n",
       "      <td>4</td>\n",
       "      <td>4</td>\n",
       "      <td>7MY-SM-14-36</td>\n",
       "      <td>7MY-SM-14-36</td>\n",
       "      <td>QM5</td>\n",
       "      <td>르노삼성자동차(주)</td>\n",
       "      <td>H1D20-VC-0-21</td>\n",
       "      <td>M9R</td>\n",
       "      <td>유</td>\n",
       "      <td>유</td>\n",
       "      <td>Euro4 기준에 맞춰 개발된 차량</td>\n",
       "    </tr>\n",
       "    <tr>\n",
       "      <th>3</th>\n",
       "      <td>4</td>\n",
       "      <td>4</td>\n",
       "      <td>7MY-SM-14-36</td>\n",
       "      <td>7MY-SM-14-36</td>\n",
       "      <td>QM5</td>\n",
       "      <td>르노삼성자동차(주)</td>\n",
       "      <td>H1D20-VC-0-22</td>\n",
       "      <td>M9R</td>\n",
       "      <td>유</td>\n",
       "      <td>유</td>\n",
       "      <td>Euro4 기준에 맞춰 개발된 차량</td>\n",
       "    </tr>\n",
       "    <tr>\n",
       "      <th>4</th>\n",
       "      <td>4</td>\n",
       "      <td>4</td>\n",
       "      <td>7MY-SM-14-36</td>\n",
       "      <td>7MY-SM-14-36</td>\n",
       "      <td>QM5</td>\n",
       "      <td>르노삼성자동차(주)</td>\n",
       "      <td>H1D20-VC-0-31</td>\n",
       "      <td>M9R</td>\n",
       "      <td>유</td>\n",
       "      <td>유</td>\n",
       "      <td>Euro4 기준에 맞춰 개발된 차량</td>\n",
       "    </tr>\n",
       "  </tbody>\n",
       "</table>\n",
       "</div>"
      ],
      "text/plain": [
       "   등급(현재)  등급(수정)      배인번호(현재)      배인번호(수정)   차명         제작사          자동차형식  \\\n",
       "0       4       4  7MY-SM-14-36  7MY-SM-14-36  QM5  르노삼성자동차(주)  H1D20-VC-0-11   \n",
       "1       4       4  7MY-SM-14-36  7MY-SM-14-36  QM5  르노삼성자동차(주)  H1D20-VC-0-12   \n",
       "2       4       4  7MY-SM-14-36  7MY-SM-14-36  QM5  르노삼성자동차(주)  H1D20-VC-0-21   \n",
       "3       4       4  7MY-SM-14-36  7MY-SM-14-36  QM5  르노삼성자동차(주)  H1D20-VC-0-22   \n",
       "4       4       4  7MY-SM-14-36  7MY-SM-14-36  QM5  르노삼성자동차(주)  H1D20-VC-0-31   \n",
       "\n",
       "  엔진형식 DPF유무(현재) DPF유무(수정)                   기타  \n",
       "0  M9R         유         유  Euro4 기준에 맞춰 개발된 차량  \n",
       "1  M9R         유         유  Euro4 기준에 맞춰 개발된 차량  \n",
       "2  M9R         유         유  Euro4 기준에 맞춰 개발된 차량  \n",
       "3  M9R         유         유  Euro4 기준에 맞춰 개발된 차량  \n",
       "4  M9R         유         유  Euro4 기준에 맞춰 개발된 차량  "
      ]
     },
     "execution_count": 9,
     "metadata": {},
     "output_type": "execute_result"
    }
   ],
   "source": [
    "mod.head()"
   ]
  },
  {
   "cell_type": "code",
   "execution_count": 10,
   "metadata": {},
   "outputs": [
    {
     "data": {
      "text/html": [
       "<div>\n",
       "<style scoped>\n",
       "    .dataframe tbody tr th:only-of-type {\n",
       "        vertical-align: middle;\n",
       "    }\n",
       "\n",
       "    .dataframe tbody tr th {\n",
       "        vertical-align: top;\n",
       "    }\n",
       "\n",
       "    .dataframe thead th {\n",
       "        text-align: right;\n",
       "    }\n",
       "</style>\n",
       "<table border=\"1\" class=\"dataframe\">\n",
       "  <thead>\n",
       "    <tr style=\"text-align: right;\">\n",
       "      <th></th>\n",
       "      <th>등급(현재)</th>\n",
       "      <th>등급(수정)</th>\n",
       "      <th>배인번호(현재)</th>\n",
       "      <th>배인번호(수정)</th>\n",
       "      <th>차명</th>\n",
       "      <th>제작사</th>\n",
       "      <th>자동차형식</th>\n",
       "      <th>엔진형식</th>\n",
       "      <th>DPF유무(현재)</th>\n",
       "      <th>DPF유무(수정)</th>\n",
       "      <th>기타</th>\n",
       "    </tr>\n",
       "  </thead>\n",
       "  <tbody>\n",
       "    <tr>\n",
       "      <th>29</th>\n",
       "      <td>4</td>\n",
       "      <td>4</td>\n",
       "      <td>7MY-MT-24-01</td>\n",
       "      <td>7MY-MT-24-01</td>\n",
       "      <td>만 트랙터</td>\n",
       "      <td>만트럭버스코리아(주)</td>\n",
       "      <td>TGA26.4806X4BLS</td>\n",
       "      <td>D2676LF01</td>\n",
       "      <td>무</td>\n",
       "      <td>유</td>\n",
       "      <td>유로 4 배출가스 기준 엔진 장착된 경유 차량</td>\n",
       "    </tr>\n",
       "    <tr>\n",
       "      <th>30</th>\n",
       "      <td>4</td>\n",
       "      <td>4</td>\n",
       "      <td>7MY-MT-24-01</td>\n",
       "      <td>7MY-MT-24-01</td>\n",
       "      <td>만 트랙터</td>\n",
       "      <td>만트럭버스코리아(주)</td>\n",
       "      <td>TGA28.4806X2-2BLS</td>\n",
       "      <td>D2676LF01</td>\n",
       "      <td>무</td>\n",
       "      <td>유</td>\n",
       "      <td>유로 4 배출가스 기준 엔진 장착된 경유 차량</td>\n",
       "    </tr>\n",
       "    <tr>\n",
       "      <th>31</th>\n",
       "      <td>4</td>\n",
       "      <td>4</td>\n",
       "      <td>7MY-MT-24-01</td>\n",
       "      <td>7MY-MT-24-01</td>\n",
       "      <td>만 트랙터</td>\n",
       "      <td>만트럭버스코리아(주)</td>\n",
       "      <td>TGX26.4806X4BLS</td>\n",
       "      <td>D2676LF05</td>\n",
       "      <td>무</td>\n",
       "      <td>유</td>\n",
       "      <td>유로 4 배출가스 기준 엔진 장착된 경유 차량</td>\n",
       "    </tr>\n",
       "    <tr>\n",
       "      <th>32</th>\n",
       "      <td>4</td>\n",
       "      <td>4</td>\n",
       "      <td>7MY-MT-24-01</td>\n",
       "      <td>7MY-MT-24-01</td>\n",
       "      <td>만 트랙터</td>\n",
       "      <td>만트럭버스코리아(주)</td>\n",
       "      <td>TGX28.4806X2-2BLS</td>\n",
       "      <td>D2676LF05</td>\n",
       "      <td>무</td>\n",
       "      <td>유</td>\n",
       "      <td>유로 4 배출가스 기준 엔진 장착된 경유 차량</td>\n",
       "    </tr>\n",
       "  </tbody>\n",
       "</table>\n",
       "</div>"
      ],
      "text/plain": [
       "    등급(현재)  등급(수정)      배인번호(현재)      배인번호(수정)     차명          제작사  \\\n",
       "29       4       4  7MY-MT-24-01  7MY-MT-24-01  만 트랙터  만트럭버스코리아(주)   \n",
       "30       4       4  7MY-MT-24-01  7MY-MT-24-01  만 트랙터  만트럭버스코리아(주)   \n",
       "31       4       4  7MY-MT-24-01  7MY-MT-24-01  만 트랙터  만트럭버스코리아(주)   \n",
       "32       4       4  7MY-MT-24-01  7MY-MT-24-01  만 트랙터  만트럭버스코리아(주)   \n",
       "\n",
       "                자동차형식       엔진형식 DPF유무(현재) DPF유무(수정)  \\\n",
       "29    TGA26.4806X4BLS  D2676LF01         무         유   \n",
       "30  TGA28.4806X2-2BLS  D2676LF01         무         유   \n",
       "31    TGX26.4806X4BLS  D2676LF05         무         유   \n",
       "32  TGX28.4806X2-2BLS  D2676LF05         무         유   \n",
       "\n",
       "                           기타  \n",
       "29  유로 4 배출가스 기준 엔진 장착된 경유 차량  \n",
       "30  유로 4 배출가스 기준 엔진 장착된 경유 차량  \n",
       "31  유로 4 배출가스 기준 엔진 장착된 경유 차량  \n",
       "32  유로 4 배출가스 기준 엔진 장착된 경유 차량  "
      ]
     },
     "execution_count": 10,
     "metadata": {},
     "output_type": "execute_result"
    }
   ],
   "source": [
    "mod[mod['배인번호(수정)'] == '7MY-MT-24-01']"
   ]
  },
  {
   "cell_type": "code",
   "execution_count": 11,
   "metadata": {},
   "outputs": [
    {
     "data": {
      "text/plain": [
       "array(['TGA26.4806X4BLS', 'TGA28.4806X2-2BLS', 'TGX26.4806X4BLS',\n",
       "       'TGX28.4806X2-2BLS'], dtype=object)"
      ]
     },
     "execution_count": 11,
     "metadata": {},
     "output_type": "execute_result"
    }
   ],
   "source": [
    "mod.loc[mod['배인번호(수정)'] == '7MY-MT-24-01', '자동차형식'].unique()"
   ]
  },
  {
   "cell_type": "code",
   "execution_count": 12,
   "metadata": {},
   "outputs": [
    {
     "data": {
      "text/plain": [
       "array(['D2676LF01', 'D2676LF05'], dtype=object)"
      ]
     },
     "execution_count": 12,
     "metadata": {},
     "output_type": "execute_result"
    }
   ],
   "source": [
    "mod.loc[mod['배인번호(수정)'] == '7MY-MT-24-01', '엔진형식'].unique()"
   ]
  },
  {
   "cell_type": "code",
   "execution_count": 13,
   "metadata": {},
   "outputs": [
    {
     "data": {
      "text/plain": [
       "array(['TGX28.4806X2-2BLS', 'TGA26.4806X4BLS', 'TGA28.4806X2-2BLS',\n",
       "       'TGX26.4806X4BLS'], dtype=object)"
      ]
     },
     "execution_count": 13,
     "metadata": {},
     "output_type": "execute_result"
    }
   ],
   "source": [
    "df.loc[df['배출가스인증번호'] == '7MY-MT-24-01', '자동차형식'].unique()"
   ]
  },
  {
   "cell_type": "code",
   "execution_count": 14,
   "metadata": {},
   "outputs": [
    {
     "data": {
      "text/plain": [
       "array(['D2676LF05', 'D2676LF01'], dtype=object)"
      ]
     },
     "execution_count": 14,
     "metadata": {},
     "output_type": "execute_result"
    }
   ],
   "source": [
    "df.loc[df['배출가스인증번호'] == '7MY-MT-24-01', '엔진형식_x'].unique()"
   ]
  },
  {
   "attachments": {},
   "cell_type": "markdown",
   "metadata": {},
   "source": [
    "# 수정사항 반영"
   ]
  },
  {
   "cell_type": "code",
   "execution_count": 15,
   "metadata": {},
   "outputs": [],
   "source": [
    "# 매칭조건 컬럼 : '배출가스인증번호', '자동차형식', '엔진형식_x'\n",
    "# 수정할 컬럼 : '배출가스인증번호', '등급', 'DPF유무'"
   ]
  },
  {
   "cell_type": "code",
   "execution_count": 16,
   "metadata": {},
   "outputs": [],
   "source": [
    "# 확인 샘플\n",
    "# 수정\n",
    "# '등급', 배출가스인증번호, 차명, 제작사명, 자동차형식, 엔진형식, 'DPF유무'\n",
    "# 전 : 4, 4MY-DC-33, 대우11.5톤장축카고트럭(DPF), 타타대우상용차(주), K9ARF5, DV11, 무\n",
    "# 후 : 5, 6MY-DC-23-17(적용X), 대우11.5톤장축카고트럭(DPF), 타타대우상용차(주), K9ARF5, DV11, 유"
   ]
  },
  {
   "cell_type": "code",
   "execution_count": 17,
   "metadata": {},
   "outputs": [
    {
     "data": {
      "text/html": [
       "<div>\n",
       "<style scoped>\n",
       "    .dataframe tbody tr th:only-of-type {\n",
       "        vertical-align: middle;\n",
       "    }\n",
       "\n",
       "    .dataframe tbody tr th {\n",
       "        vertical-align: top;\n",
       "    }\n",
       "\n",
       "    .dataframe thead th {\n",
       "        text-align: right;\n",
       "    }\n",
       "</style>\n",
       "<table border=\"1\" class=\"dataframe\">\n",
       "  <thead>\n",
       "    <tr style=\"text-align: right;\">\n",
       "      <th></th>\n",
       "      <th>배출가스인증번호</th>\n",
       "      <th>등급</th>\n",
       "      <th>차명_x</th>\n",
       "      <th>자동차형식</th>\n",
       "      <th>제작사명</th>\n",
       "      <th>엔진형식_x</th>\n",
       "      <th>DPF유무</th>\n",
       "    </tr>\n",
       "  </thead>\n",
       "  <tbody>\n",
       "    <tr>\n",
       "      <th>0</th>\n",
       "      <td>9MY-KM-14-41</td>\n",
       "      <td>4</td>\n",
       "      <td>카니발</td>\n",
       "      <td>VQS96BB-G</td>\n",
       "      <td>기아자동차(주)</td>\n",
       "      <td>D4HB</td>\n",
       "      <td>무</td>\n",
       "    </tr>\n",
       "    <tr>\n",
       "      <th>1</th>\n",
       "      <td>7MY-SY-14-60</td>\n",
       "      <td>4</td>\n",
       "      <td>액티언스포츠</td>\n",
       "      <td>Q5D20A2-008D</td>\n",
       "      <td>쌍용자동차(주)</td>\n",
       "      <td>664951</td>\n",
       "      <td>무</td>\n",
       "    </tr>\n",
       "    <tr>\n",
       "      <th>2</th>\n",
       "      <td>9MY-KM-14-22</td>\n",
       "      <td>4</td>\n",
       "      <td>쏘렌토</td>\n",
       "      <td>XM75BA-S</td>\n",
       "      <td>기아자동차(주)</td>\n",
       "      <td>D4HA</td>\n",
       "      <td>무</td>\n",
       "    </tr>\n",
       "    <tr>\n",
       "      <th>3</th>\n",
       "      <td>NaN</td>\n",
       "      <td>4</td>\n",
       "      <td>금강24㎘경질유탱크로리</td>\n",
       "      <td>KK-T23.5SD-415</td>\n",
       "      <td>주식회사 카셈(KASEM Co.,Ltd)</td>\n",
       "      <td>ISM</td>\n",
       "      <td>무</td>\n",
       "    </tr>\n",
       "    <tr>\n",
       "      <th>4</th>\n",
       "      <td>9MY-KM-14-41</td>\n",
       "      <td>4</td>\n",
       "      <td>그랜드 카니발</td>\n",
       "      <td>VQLB6BA-S</td>\n",
       "      <td>기아자동차(주)</td>\n",
       "      <td>D4HB</td>\n",
       "      <td>무</td>\n",
       "    </tr>\n",
       "    <tr>\n",
       "      <th>5</th>\n",
       "      <td>9MY-KM-14-22</td>\n",
       "      <td>4</td>\n",
       "      <td>쏘렌토</td>\n",
       "      <td>XM75BB-S</td>\n",
       "      <td>기아자동차(주)</td>\n",
       "      <td>D4HA</td>\n",
       "      <td>무</td>\n",
       "    </tr>\n",
       "  </tbody>\n",
       "</table>\n",
       "</div>"
      ],
      "text/plain": [
       "       배출가스인증번호  등급          차명_x           자동차형식                    제작사명  \\\n",
       "0  9MY-KM-14-41   4           카니발       VQS96BB-G                기아자동차(주)   \n",
       "1  7MY-SY-14-60   4        액티언스포츠    Q5D20A2-008D                쌍용자동차(주)   \n",
       "2  9MY-KM-14-22   4           쏘렌토        XM75BA-S                기아자동차(주)   \n",
       "3           NaN   4  금강24㎘경질유탱크로리  KK-T23.5SD-415  주식회사 카셈(KASEM Co.,Ltd)   \n",
       "4  9MY-KM-14-41   4       그랜드 카니발       VQLB6BA-S                기아자동차(주)   \n",
       "5  9MY-KM-14-22   4           쏘렌토        XM75BB-S                기아자동차(주)   \n",
       "\n",
       "   엔진형식_x DPF유무  \n",
       "0    D4HB     무  \n",
       "1  664951     무  \n",
       "2    D4HA     무  \n",
       "3     ISM     무  \n",
       "4    D4HB     무  \n",
       "5    D4HA     무  "
      ]
     },
     "execution_count": 17,
     "metadata": {},
     "output_type": "execute_result"
    }
   ],
   "source": [
    "df.loc[:5, ['배출가스인증번호', '등급', '차명_x', '자동차형식', '제작사명', '엔진형식_x', 'DPF유무']]"
   ]
  },
  {
   "cell_type": "code",
   "execution_count": 18,
   "metadata": {},
   "outputs": [
    {
     "data": {
      "text/html": [
       "<div>\n",
       "<style scoped>\n",
       "    .dataframe tbody tr th:only-of-type {\n",
       "        vertical-align: middle;\n",
       "    }\n",
       "\n",
       "    .dataframe tbody tr th {\n",
       "        vertical-align: top;\n",
       "    }\n",
       "\n",
       "    .dataframe thead th {\n",
       "        text-align: right;\n",
       "    }\n",
       "</style>\n",
       "<table border=\"1\" class=\"dataframe\">\n",
       "  <thead>\n",
       "    <tr style=\"text-align: right;\">\n",
       "      <th></th>\n",
       "      <th>배출가스인증번호</th>\n",
       "      <th>등급</th>\n",
       "      <th>차명_x</th>\n",
       "      <th>자동차형식</th>\n",
       "      <th>제작사명</th>\n",
       "      <th>엔진형식_x</th>\n",
       "      <th>DPF유무</th>\n",
       "    </tr>\n",
       "  </thead>\n",
       "  <tbody>\n",
       "    <tr>\n",
       "      <th>75251</th>\n",
       "      <td>4MY-DC-33</td>\n",
       "      <td>4</td>\n",
       "      <td>대우11.5톤장축카고트럭(DPF)</td>\n",
       "      <td>K9ARF5</td>\n",
       "      <td>타타대우상용차(주)</td>\n",
       "      <td>DV11</td>\n",
       "      <td>무</td>\n",
       "    </tr>\n",
       "    <tr>\n",
       "      <th>97568</th>\n",
       "      <td>4MY-DC-33</td>\n",
       "      <td>4</td>\n",
       "      <td>대우11.5톤장축카고트럭(DPF)</td>\n",
       "      <td>K9ARF5</td>\n",
       "      <td>타타대우상용차(주)</td>\n",
       "      <td>DV11</td>\n",
       "      <td>무</td>\n",
       "    </tr>\n",
       "    <tr>\n",
       "      <th>162876</th>\n",
       "      <td>4MY-DC-33</td>\n",
       "      <td>4</td>\n",
       "      <td>대우11.5톤장축카고트럭(DPF)</td>\n",
       "      <td>K9ARF5</td>\n",
       "      <td>타타대우상용차(주)</td>\n",
       "      <td>DV11</td>\n",
       "      <td>무</td>\n",
       "    </tr>\n",
       "    <tr>\n",
       "      <th>169067</th>\n",
       "      <td>4MY-DC-33</td>\n",
       "      <td>4</td>\n",
       "      <td>대우11.5톤장축카고트럭(DPF)</td>\n",
       "      <td>K9ARF5</td>\n",
       "      <td>타타대우상용차(주)</td>\n",
       "      <td>DV11</td>\n",
       "      <td>무</td>\n",
       "    </tr>\n",
       "    <tr>\n",
       "      <th>349831</th>\n",
       "      <td>4MY-DC-33</td>\n",
       "      <td>4</td>\n",
       "      <td>대우11.5톤장축카고트럭(DPF)</td>\n",
       "      <td>K9ARF5</td>\n",
       "      <td>타타대우상용차(주)</td>\n",
       "      <td>DV11</td>\n",
       "      <td>무</td>\n",
       "    </tr>\n",
       "    <tr>\n",
       "      <th>484265</th>\n",
       "      <td>4MY-DC-33</td>\n",
       "      <td>4</td>\n",
       "      <td>대우11.5톤장축카고트럭(DPF)</td>\n",
       "      <td>K9ARF5</td>\n",
       "      <td>타타대우상용차(주)</td>\n",
       "      <td>DV11</td>\n",
       "      <td>무</td>\n",
       "    </tr>\n",
       "    <tr>\n",
       "      <th>713111</th>\n",
       "      <td>4MY-DC-33</td>\n",
       "      <td>4</td>\n",
       "      <td>대우11.5톤장축카고트럭(DPF)</td>\n",
       "      <td>K9ARF5</td>\n",
       "      <td>타타대우상용차(주)</td>\n",
       "      <td>DV11</td>\n",
       "      <td>무</td>\n",
       "    </tr>\n",
       "  </tbody>\n",
       "</table>\n",
       "</div>"
      ],
      "text/plain": [
       "         배출가스인증번호  등급                차명_x   자동차형식        제작사명 엔진형식_x DPF유무\n",
       "75251   4MY-DC-33   4  대우11.5톤장축카고트럭(DPF)  K9ARF5  타타대우상용차(주)   DV11     무\n",
       "97568   4MY-DC-33   4  대우11.5톤장축카고트럭(DPF)  K9ARF5  타타대우상용차(주)   DV11     무\n",
       "162876  4MY-DC-33   4  대우11.5톤장축카고트럭(DPF)  K9ARF5  타타대우상용차(주)   DV11     무\n",
       "169067  4MY-DC-33   4  대우11.5톤장축카고트럭(DPF)  K9ARF5  타타대우상용차(주)   DV11     무\n",
       "349831  4MY-DC-33   4  대우11.5톤장축카고트럭(DPF)  K9ARF5  타타대우상용차(주)   DV11     무\n",
       "484265  4MY-DC-33   4  대우11.5톤장축카고트럭(DPF)  K9ARF5  타타대우상용차(주)   DV11     무\n",
       "713111  4MY-DC-33   4  대우11.5톤장축카고트럭(DPF)  K9ARF5  타타대우상용차(주)   DV11     무"
      ]
     },
     "execution_count": 18,
     "metadata": {},
     "output_type": "execute_result"
    }
   ],
   "source": [
    "df.loc[df['배출가스인증번호'] == '4MY-DC-33', ['배출가스인증번호', '등급', '차명_x', '자동차형식', '제작사명', '엔진형식_x', 'DPF유무']]"
   ]
  },
  {
   "cell_type": "code",
   "execution_count": 19,
   "metadata": {},
   "outputs": [],
   "source": [
    "# 확인 샘플\n",
    "# 수정\n",
    "# 등급, 배출가스인증번호, 차명, 제작사명, 자동차형식, 엔진형식, 'DPF유무'\n",
    "# 전 : 4, 7MY-MT-24-01, 만 트랙터, 만트럭버스코리아(주), TGA28.4806X2-2BLS, D2676LF05, 무\n",
    "# 후 : 4, 7MY-MT-24-01, 만 트랙터, 만트럭버스코리아(주), TGA28.4806X2-2BLS, D2676LF05, 유"
   ]
  },
  {
   "cell_type": "code",
   "execution_count": 20,
   "metadata": {},
   "outputs": [
    {
     "data": {
      "text/html": [
       "<div>\n",
       "<style scoped>\n",
       "    .dataframe tbody tr th:only-of-type {\n",
       "        vertical-align: middle;\n",
       "    }\n",
       "\n",
       "    .dataframe tbody tr th {\n",
       "        vertical-align: top;\n",
       "    }\n",
       "\n",
       "    .dataframe thead th {\n",
       "        text-align: right;\n",
       "    }\n",
       "</style>\n",
       "<table border=\"1\" class=\"dataframe\">\n",
       "  <thead>\n",
       "    <tr style=\"text-align: right;\">\n",
       "      <th></th>\n",
       "      <th>배출가스인증번호</th>\n",
       "      <th>등급</th>\n",
       "      <th>차명_x</th>\n",
       "      <th>자동차형식</th>\n",
       "      <th>제작사명</th>\n",
       "      <th>엔진형식_x</th>\n",
       "      <th>DPF유무</th>\n",
       "    </tr>\n",
       "  </thead>\n",
       "  <tbody>\n",
       "    <tr>\n",
       "      <th>2417</th>\n",
       "      <td>7MY-MT-24-01</td>\n",
       "      <td>4</td>\n",
       "      <td>만 트랙터</td>\n",
       "      <td>TGX28.4806X2-2BLS</td>\n",
       "      <td>만트럭버스코리아(주)</td>\n",
       "      <td>D2676LF05</td>\n",
       "      <td>무</td>\n",
       "    </tr>\n",
       "    <tr>\n",
       "      <th>3609</th>\n",
       "      <td>7MY-MT-24-01</td>\n",
       "      <td>4</td>\n",
       "      <td>만 트랙터</td>\n",
       "      <td>TGX28.4806X2-2BLS</td>\n",
       "      <td>만트럭버스코리아(주)</td>\n",
       "      <td>D2676LF05</td>\n",
       "      <td>무</td>\n",
       "    </tr>\n",
       "    <tr>\n",
       "      <th>29872</th>\n",
       "      <td>7MY-MT-24-01</td>\n",
       "      <td>4</td>\n",
       "      <td>만 트랙터</td>\n",
       "      <td>TGX28.4806X2-2BLS</td>\n",
       "      <td>만트럭버스코리아(주)</td>\n",
       "      <td>D2676LF05</td>\n",
       "      <td>무</td>\n",
       "    </tr>\n",
       "    <tr>\n",
       "      <th>30993</th>\n",
       "      <td>7MY-MT-24-01</td>\n",
       "      <td>4</td>\n",
       "      <td>만 트랙터</td>\n",
       "      <td>TGX28.4806X2-2BLS</td>\n",
       "      <td>만트럭버스코리아(주)</td>\n",
       "      <td>D2676LF05</td>\n",
       "      <td>무</td>\n",
       "    </tr>\n",
       "    <tr>\n",
       "      <th>32921</th>\n",
       "      <td>7MY-MT-24-01</td>\n",
       "      <td>4</td>\n",
       "      <td>만 트랙터</td>\n",
       "      <td>TGX28.4806X2-2BLS</td>\n",
       "      <td>만트럭버스코리아(주)</td>\n",
       "      <td>D2676LF05</td>\n",
       "      <td>무</td>\n",
       "    </tr>\n",
       "    <tr>\n",
       "      <th>...</th>\n",
       "      <td>...</td>\n",
       "      <td>...</td>\n",
       "      <td>...</td>\n",
       "      <td>...</td>\n",
       "      <td>...</td>\n",
       "      <td>...</td>\n",
       "      <td>...</td>\n",
       "    </tr>\n",
       "    <tr>\n",
       "      <th>1135425</th>\n",
       "      <td>7MY-MT-24-01</td>\n",
       "      <td>4</td>\n",
       "      <td>만 트랙터</td>\n",
       "      <td>TGX28.4806X2-2BLS</td>\n",
       "      <td>만트럭버스코리아(주)</td>\n",
       "      <td>D2676LF05</td>\n",
       "      <td>무</td>\n",
       "    </tr>\n",
       "    <tr>\n",
       "      <th>1138392</th>\n",
       "      <td>7MY-MT-24-01</td>\n",
       "      <td>4</td>\n",
       "      <td>만 트랙터</td>\n",
       "      <td>TGX28.4806X2-2BLS</td>\n",
       "      <td>만트럭버스코리아(주)</td>\n",
       "      <td>D2676LF05</td>\n",
       "      <td>무</td>\n",
       "    </tr>\n",
       "    <tr>\n",
       "      <th>1145376</th>\n",
       "      <td>7MY-MT-24-01</td>\n",
       "      <td>4</td>\n",
       "      <td>만 트랙터</td>\n",
       "      <td>TGX28.4806X2-2BLS</td>\n",
       "      <td>만트럭버스코리아(주)</td>\n",
       "      <td>D2676LF05</td>\n",
       "      <td>무</td>\n",
       "    </tr>\n",
       "    <tr>\n",
       "      <th>1146804</th>\n",
       "      <td>7MY-MT-24-01</td>\n",
       "      <td>4</td>\n",
       "      <td>만 트랙터</td>\n",
       "      <td>TGX28.4806X2-2BLS</td>\n",
       "      <td>만트럭버스코리아(주)</td>\n",
       "      <td>D2676LF05</td>\n",
       "      <td>무</td>\n",
       "    </tr>\n",
       "    <tr>\n",
       "      <th>1153494</th>\n",
       "      <td>7MY-MT-24-01</td>\n",
       "      <td>4</td>\n",
       "      <td>만 트랙터</td>\n",
       "      <td>TGX28.4806X2-2BLS</td>\n",
       "      <td>만트럭버스코리아(주)</td>\n",
       "      <td>D2676LF05</td>\n",
       "      <td>무</td>\n",
       "    </tr>\n",
       "  </tbody>\n",
       "</table>\n",
       "<p>293 rows × 7 columns</p>\n",
       "</div>"
      ],
      "text/plain": [
       "             배출가스인증번호  등급   차명_x              자동차형식         제작사명     엔진형식_x  \\\n",
       "2417     7MY-MT-24-01   4  만 트랙터  TGX28.4806X2-2BLS  만트럭버스코리아(주)  D2676LF05   \n",
       "3609     7MY-MT-24-01   4  만 트랙터  TGX28.4806X2-2BLS  만트럭버스코리아(주)  D2676LF05   \n",
       "29872    7MY-MT-24-01   4  만 트랙터  TGX28.4806X2-2BLS  만트럭버스코리아(주)  D2676LF05   \n",
       "30993    7MY-MT-24-01   4  만 트랙터  TGX28.4806X2-2BLS  만트럭버스코리아(주)  D2676LF05   \n",
       "32921    7MY-MT-24-01   4  만 트랙터  TGX28.4806X2-2BLS  만트럭버스코리아(주)  D2676LF05   \n",
       "...               ...  ..    ...                ...          ...        ...   \n",
       "1135425  7MY-MT-24-01   4  만 트랙터  TGX28.4806X2-2BLS  만트럭버스코리아(주)  D2676LF05   \n",
       "1138392  7MY-MT-24-01   4  만 트랙터  TGX28.4806X2-2BLS  만트럭버스코리아(주)  D2676LF05   \n",
       "1145376  7MY-MT-24-01   4  만 트랙터  TGX28.4806X2-2BLS  만트럭버스코리아(주)  D2676LF05   \n",
       "1146804  7MY-MT-24-01   4  만 트랙터  TGX28.4806X2-2BLS  만트럭버스코리아(주)  D2676LF05   \n",
       "1153494  7MY-MT-24-01   4  만 트랙터  TGX28.4806X2-2BLS  만트럭버스코리아(주)  D2676LF05   \n",
       "\n",
       "        DPF유무  \n",
       "2417        무  \n",
       "3609        무  \n",
       "29872       무  \n",
       "30993       무  \n",
       "32921       무  \n",
       "...       ...  \n",
       "1135425     무  \n",
       "1138392     무  \n",
       "1145376     무  \n",
       "1146804     무  \n",
       "1153494     무  \n",
       "\n",
       "[293 rows x 7 columns]"
      ]
     },
     "execution_count": 20,
     "metadata": {},
     "output_type": "execute_result"
    }
   ],
   "source": [
    "df.loc[df['배출가스인증번호'] == '7MY-MT-24-01', ['배출가스인증번호', '등급', '차명_x', '자동차형식', '제작사명', '엔진형식_x', 'DPF유무']]"
   ]
  },
  {
   "cell_type": "code",
   "execution_count": 21,
   "metadata": {},
   "outputs": [],
   "source": [
    "df['제작사확인_DPF유무'] = np.nan\n",
    "df['확인유무'] = np.nan\n",
    "df['비고'] = np.nan"
   ]
  },
  {
   "attachments": {},
   "cell_type": "markdown",
   "metadata": {},
   "source": [
    "## 수정 적용"
   ]
  },
  {
   "cell_type": "code",
   "execution_count": 22,
   "metadata": {},
   "outputs": [
    {
     "name": "stderr",
     "output_type": "stream",
     "text": [
      "1592it [04:59,  5.32it/s]\n"
     ]
    }
   ],
   "source": [
    "# about 50s\n",
    "for m_grade, p_emis, m_emis, car_form, engine_form, m_dpf in tqdm(zip(mod['등급(수정)'], mod['배인번호(현재)'], mod['배인번호(수정)'], mod['자동차형식'], mod['엔진형식'], mod['DPF유무(수정)'])):\n",
    "    df.loc[(df['배출가스인증번호'] == p_emis) & (df['자동차형식'] == car_form) & (df['엔진형식_x'] == engine_form), ['등급', '제작사확인_DPF유무', '확인유무']] = [m_grade, m_dpf, 'Y']"
   ]
  },
  {
   "cell_type": "code",
   "execution_count": 23,
   "metadata": {},
   "outputs": [
    {
     "data": {
      "text/html": [
       "<div>\n",
       "<style scoped>\n",
       "    .dataframe tbody tr th:only-of-type {\n",
       "        vertical-align: middle;\n",
       "    }\n",
       "\n",
       "    .dataframe tbody tr th {\n",
       "        vertical-align: top;\n",
       "    }\n",
       "\n",
       "    .dataframe thead th {\n",
       "        text-align: right;\n",
       "    }\n",
       "</style>\n",
       "<table border=\"1\" class=\"dataframe\">\n",
       "  <thead>\n",
       "    <tr style=\"text-align: right;\">\n",
       "      <th></th>\n",
       "      <th>배출가스인증번호</th>\n",
       "      <th>등급</th>\n",
       "      <th>차명_x</th>\n",
       "      <th>자동차형식</th>\n",
       "      <th>제작사명</th>\n",
       "      <th>엔진형식_x</th>\n",
       "      <th>DPF유무</th>\n",
       "      <th>제작사확인_DPF유무</th>\n",
       "      <th>확인유무</th>\n",
       "      <th>비고</th>\n",
       "    </tr>\n",
       "  </thead>\n",
       "  <tbody>\n",
       "    <tr>\n",
       "      <th>75251</th>\n",
       "      <td>4MY-DC-33</td>\n",
       "      <td>5</td>\n",
       "      <td>대우11.5톤장축카고트럭(DPF)</td>\n",
       "      <td>K9ARF5</td>\n",
       "      <td>타타대우상용차(주)</td>\n",
       "      <td>DV11</td>\n",
       "      <td>무</td>\n",
       "      <td>유</td>\n",
       "      <td>Y</td>\n",
       "      <td>NaN</td>\n",
       "    </tr>\n",
       "    <tr>\n",
       "      <th>97568</th>\n",
       "      <td>4MY-DC-33</td>\n",
       "      <td>5</td>\n",
       "      <td>대우11.5톤장축카고트럭(DPF)</td>\n",
       "      <td>K9ARF5</td>\n",
       "      <td>타타대우상용차(주)</td>\n",
       "      <td>DV11</td>\n",
       "      <td>무</td>\n",
       "      <td>유</td>\n",
       "      <td>Y</td>\n",
       "      <td>NaN</td>\n",
       "    </tr>\n",
       "    <tr>\n",
       "      <th>162876</th>\n",
       "      <td>4MY-DC-33</td>\n",
       "      <td>5</td>\n",
       "      <td>대우11.5톤장축카고트럭(DPF)</td>\n",
       "      <td>K9ARF5</td>\n",
       "      <td>타타대우상용차(주)</td>\n",
       "      <td>DV11</td>\n",
       "      <td>무</td>\n",
       "      <td>유</td>\n",
       "      <td>Y</td>\n",
       "      <td>NaN</td>\n",
       "    </tr>\n",
       "    <tr>\n",
       "      <th>169067</th>\n",
       "      <td>4MY-DC-33</td>\n",
       "      <td>5</td>\n",
       "      <td>대우11.5톤장축카고트럭(DPF)</td>\n",
       "      <td>K9ARF5</td>\n",
       "      <td>타타대우상용차(주)</td>\n",
       "      <td>DV11</td>\n",
       "      <td>무</td>\n",
       "      <td>유</td>\n",
       "      <td>Y</td>\n",
       "      <td>NaN</td>\n",
       "    </tr>\n",
       "    <tr>\n",
       "      <th>349831</th>\n",
       "      <td>4MY-DC-33</td>\n",
       "      <td>5</td>\n",
       "      <td>대우11.5톤장축카고트럭(DPF)</td>\n",
       "      <td>K9ARF5</td>\n",
       "      <td>타타대우상용차(주)</td>\n",
       "      <td>DV11</td>\n",
       "      <td>무</td>\n",
       "      <td>유</td>\n",
       "      <td>Y</td>\n",
       "      <td>NaN</td>\n",
       "    </tr>\n",
       "    <tr>\n",
       "      <th>484265</th>\n",
       "      <td>4MY-DC-33</td>\n",
       "      <td>5</td>\n",
       "      <td>대우11.5톤장축카고트럭(DPF)</td>\n",
       "      <td>K9ARF5</td>\n",
       "      <td>타타대우상용차(주)</td>\n",
       "      <td>DV11</td>\n",
       "      <td>무</td>\n",
       "      <td>유</td>\n",
       "      <td>Y</td>\n",
       "      <td>NaN</td>\n",
       "    </tr>\n",
       "    <tr>\n",
       "      <th>713111</th>\n",
       "      <td>4MY-DC-33</td>\n",
       "      <td>5</td>\n",
       "      <td>대우11.5톤장축카고트럭(DPF)</td>\n",
       "      <td>K9ARF5</td>\n",
       "      <td>타타대우상용차(주)</td>\n",
       "      <td>DV11</td>\n",
       "      <td>무</td>\n",
       "      <td>유</td>\n",
       "      <td>Y</td>\n",
       "      <td>NaN</td>\n",
       "    </tr>\n",
       "  </tbody>\n",
       "</table>\n",
       "</div>"
      ],
      "text/plain": [
       "         배출가스인증번호  등급                차명_x   자동차형식        제작사명 엔진형식_x DPF유무  \\\n",
       "75251   4MY-DC-33   5  대우11.5톤장축카고트럭(DPF)  K9ARF5  타타대우상용차(주)   DV11     무   \n",
       "97568   4MY-DC-33   5  대우11.5톤장축카고트럭(DPF)  K9ARF5  타타대우상용차(주)   DV11     무   \n",
       "162876  4MY-DC-33   5  대우11.5톤장축카고트럭(DPF)  K9ARF5  타타대우상용차(주)   DV11     무   \n",
       "169067  4MY-DC-33   5  대우11.5톤장축카고트럭(DPF)  K9ARF5  타타대우상용차(주)   DV11     무   \n",
       "349831  4MY-DC-33   5  대우11.5톤장축카고트럭(DPF)  K9ARF5  타타대우상용차(주)   DV11     무   \n",
       "484265  4MY-DC-33   5  대우11.5톤장축카고트럭(DPF)  K9ARF5  타타대우상용차(주)   DV11     무   \n",
       "713111  4MY-DC-33   5  대우11.5톤장축카고트럭(DPF)  K9ARF5  타타대우상용차(주)   DV11     무   \n",
       "\n",
       "       제작사확인_DPF유무 확인유무  비고  \n",
       "75251            유    Y NaN  \n",
       "97568            유    Y NaN  \n",
       "162876           유    Y NaN  \n",
       "169067           유    Y NaN  \n",
       "349831           유    Y NaN  \n",
       "484265           유    Y NaN  \n",
       "713111           유    Y NaN  "
      ]
     },
     "execution_count": 23,
     "metadata": {},
     "output_type": "execute_result"
    }
   ],
   "source": [
    "df.loc[df['배출가스인증번호'] == '4MY-DC-33', ['배출가스인증번호', '등급', '차명_x', '자동차형식', '제작사명', '엔진형식_x', 'DPF유무', '제작사확인_DPF유무', '확인유무', '비고']]"
   ]
  },
  {
   "cell_type": "code",
   "execution_count": 24,
   "metadata": {},
   "outputs": [
    {
     "data": {
      "text/html": [
       "<div>\n",
       "<style scoped>\n",
       "    .dataframe tbody tr th:only-of-type {\n",
       "        vertical-align: middle;\n",
       "    }\n",
       "\n",
       "    .dataframe tbody tr th {\n",
       "        vertical-align: top;\n",
       "    }\n",
       "\n",
       "    .dataframe thead th {\n",
       "        text-align: right;\n",
       "    }\n",
       "</style>\n",
       "<table border=\"1\" class=\"dataframe\">\n",
       "  <thead>\n",
       "    <tr style=\"text-align: right;\">\n",
       "      <th></th>\n",
       "      <th>배출가스인증번호</th>\n",
       "      <th>등급</th>\n",
       "      <th>차명_x</th>\n",
       "      <th>자동차형식</th>\n",
       "      <th>제작사명</th>\n",
       "      <th>엔진형식_x</th>\n",
       "      <th>DPF유무</th>\n",
       "      <th>제작사확인_DPF유무</th>\n",
       "      <th>확인유무</th>\n",
       "      <th>비고</th>\n",
       "    </tr>\n",
       "  </thead>\n",
       "  <tbody>\n",
       "  </tbody>\n",
       "</table>\n",
       "</div>"
      ],
      "text/plain": [
       "Empty DataFrame\n",
       "Columns: [배출가스인증번호, 등급, 차명_x, 자동차형식, 제작사명, 엔진형식_x, DPF유무, 제작사확인_DPF유무, 확인유무, 비고]\n",
       "Index: []"
      ]
     },
     "execution_count": 24,
     "metadata": {},
     "output_type": "execute_result"
    }
   ],
   "source": [
    "df.loc[df['배출가스인증번호'] == '6MY-DC-23-17', ['배출가스인증번호', '등급', '차명_x', '자동차형식', '제작사명', '엔진형식_x', 'DPF유무', '제작사확인_DPF유무', '확인유무', '비고']]"
   ]
  },
  {
   "cell_type": "code",
   "execution_count": 25,
   "metadata": {},
   "outputs": [
    {
     "data": {
      "text/html": [
       "<div>\n",
       "<style scoped>\n",
       "    .dataframe tbody tr th:only-of-type {\n",
       "        vertical-align: middle;\n",
       "    }\n",
       "\n",
       "    .dataframe tbody tr th {\n",
       "        vertical-align: top;\n",
       "    }\n",
       "\n",
       "    .dataframe thead th {\n",
       "        text-align: right;\n",
       "    }\n",
       "</style>\n",
       "<table border=\"1\" class=\"dataframe\">\n",
       "  <thead>\n",
       "    <tr style=\"text-align: right;\">\n",
       "      <th></th>\n",
       "      <th>배출가스인증번호</th>\n",
       "      <th>등급</th>\n",
       "      <th>차명_x</th>\n",
       "      <th>자동차형식</th>\n",
       "      <th>제작사명</th>\n",
       "      <th>엔진형식_x</th>\n",
       "      <th>DPF유무</th>\n",
       "      <th>제작사확인_DPF유무</th>\n",
       "      <th>확인유무</th>\n",
       "      <th>비고</th>\n",
       "    </tr>\n",
       "  </thead>\n",
       "  <tbody>\n",
       "    <tr>\n",
       "      <th>2417</th>\n",
       "      <td>7MY-MT-24-01</td>\n",
       "      <td>4</td>\n",
       "      <td>만 트랙터</td>\n",
       "      <td>TGX28.4806X2-2BLS</td>\n",
       "      <td>만트럭버스코리아(주)</td>\n",
       "      <td>D2676LF05</td>\n",
       "      <td>무</td>\n",
       "      <td>유</td>\n",
       "      <td>Y</td>\n",
       "      <td>NaN</td>\n",
       "    </tr>\n",
       "    <tr>\n",
       "      <th>3609</th>\n",
       "      <td>7MY-MT-24-01</td>\n",
       "      <td>4</td>\n",
       "      <td>만 트랙터</td>\n",
       "      <td>TGX28.4806X2-2BLS</td>\n",
       "      <td>만트럭버스코리아(주)</td>\n",
       "      <td>D2676LF05</td>\n",
       "      <td>무</td>\n",
       "      <td>유</td>\n",
       "      <td>Y</td>\n",
       "      <td>NaN</td>\n",
       "    </tr>\n",
       "    <tr>\n",
       "      <th>29872</th>\n",
       "      <td>7MY-MT-24-01</td>\n",
       "      <td>4</td>\n",
       "      <td>만 트랙터</td>\n",
       "      <td>TGX28.4806X2-2BLS</td>\n",
       "      <td>만트럭버스코리아(주)</td>\n",
       "      <td>D2676LF05</td>\n",
       "      <td>무</td>\n",
       "      <td>유</td>\n",
       "      <td>Y</td>\n",
       "      <td>NaN</td>\n",
       "    </tr>\n",
       "    <tr>\n",
       "      <th>30993</th>\n",
       "      <td>7MY-MT-24-01</td>\n",
       "      <td>4</td>\n",
       "      <td>만 트랙터</td>\n",
       "      <td>TGX28.4806X2-2BLS</td>\n",
       "      <td>만트럭버스코리아(주)</td>\n",
       "      <td>D2676LF05</td>\n",
       "      <td>무</td>\n",
       "      <td>유</td>\n",
       "      <td>Y</td>\n",
       "      <td>NaN</td>\n",
       "    </tr>\n",
       "    <tr>\n",
       "      <th>32921</th>\n",
       "      <td>7MY-MT-24-01</td>\n",
       "      <td>4</td>\n",
       "      <td>만 트랙터</td>\n",
       "      <td>TGX28.4806X2-2BLS</td>\n",
       "      <td>만트럭버스코리아(주)</td>\n",
       "      <td>D2676LF05</td>\n",
       "      <td>무</td>\n",
       "      <td>유</td>\n",
       "      <td>Y</td>\n",
       "      <td>NaN</td>\n",
       "    </tr>\n",
       "    <tr>\n",
       "      <th>...</th>\n",
       "      <td>...</td>\n",
       "      <td>...</td>\n",
       "      <td>...</td>\n",
       "      <td>...</td>\n",
       "      <td>...</td>\n",
       "      <td>...</td>\n",
       "      <td>...</td>\n",
       "      <td>...</td>\n",
       "      <td>...</td>\n",
       "      <td>...</td>\n",
       "    </tr>\n",
       "    <tr>\n",
       "      <th>1135425</th>\n",
       "      <td>7MY-MT-24-01</td>\n",
       "      <td>4</td>\n",
       "      <td>만 트랙터</td>\n",
       "      <td>TGX28.4806X2-2BLS</td>\n",
       "      <td>만트럭버스코리아(주)</td>\n",
       "      <td>D2676LF05</td>\n",
       "      <td>무</td>\n",
       "      <td>유</td>\n",
       "      <td>Y</td>\n",
       "      <td>NaN</td>\n",
       "    </tr>\n",
       "    <tr>\n",
       "      <th>1138392</th>\n",
       "      <td>7MY-MT-24-01</td>\n",
       "      <td>4</td>\n",
       "      <td>만 트랙터</td>\n",
       "      <td>TGX28.4806X2-2BLS</td>\n",
       "      <td>만트럭버스코리아(주)</td>\n",
       "      <td>D2676LF05</td>\n",
       "      <td>무</td>\n",
       "      <td>유</td>\n",
       "      <td>Y</td>\n",
       "      <td>NaN</td>\n",
       "    </tr>\n",
       "    <tr>\n",
       "      <th>1145376</th>\n",
       "      <td>7MY-MT-24-01</td>\n",
       "      <td>4</td>\n",
       "      <td>만 트랙터</td>\n",
       "      <td>TGX28.4806X2-2BLS</td>\n",
       "      <td>만트럭버스코리아(주)</td>\n",
       "      <td>D2676LF05</td>\n",
       "      <td>무</td>\n",
       "      <td>유</td>\n",
       "      <td>Y</td>\n",
       "      <td>NaN</td>\n",
       "    </tr>\n",
       "    <tr>\n",
       "      <th>1146804</th>\n",
       "      <td>7MY-MT-24-01</td>\n",
       "      <td>4</td>\n",
       "      <td>만 트랙터</td>\n",
       "      <td>TGX28.4806X2-2BLS</td>\n",
       "      <td>만트럭버스코리아(주)</td>\n",
       "      <td>D2676LF05</td>\n",
       "      <td>무</td>\n",
       "      <td>유</td>\n",
       "      <td>Y</td>\n",
       "      <td>NaN</td>\n",
       "    </tr>\n",
       "    <tr>\n",
       "      <th>1153494</th>\n",
       "      <td>7MY-MT-24-01</td>\n",
       "      <td>4</td>\n",
       "      <td>만 트랙터</td>\n",
       "      <td>TGX28.4806X2-2BLS</td>\n",
       "      <td>만트럭버스코리아(주)</td>\n",
       "      <td>D2676LF05</td>\n",
       "      <td>무</td>\n",
       "      <td>유</td>\n",
       "      <td>Y</td>\n",
       "      <td>NaN</td>\n",
       "    </tr>\n",
       "  </tbody>\n",
       "</table>\n",
       "<p>293 rows × 10 columns</p>\n",
       "</div>"
      ],
      "text/plain": [
       "             배출가스인증번호  등급   차명_x              자동차형식         제작사명     엔진형식_x  \\\n",
       "2417     7MY-MT-24-01   4  만 트랙터  TGX28.4806X2-2BLS  만트럭버스코리아(주)  D2676LF05   \n",
       "3609     7MY-MT-24-01   4  만 트랙터  TGX28.4806X2-2BLS  만트럭버스코리아(주)  D2676LF05   \n",
       "29872    7MY-MT-24-01   4  만 트랙터  TGX28.4806X2-2BLS  만트럭버스코리아(주)  D2676LF05   \n",
       "30993    7MY-MT-24-01   4  만 트랙터  TGX28.4806X2-2BLS  만트럭버스코리아(주)  D2676LF05   \n",
       "32921    7MY-MT-24-01   4  만 트랙터  TGX28.4806X2-2BLS  만트럭버스코리아(주)  D2676LF05   \n",
       "...               ...  ..    ...                ...          ...        ...   \n",
       "1135425  7MY-MT-24-01   4  만 트랙터  TGX28.4806X2-2BLS  만트럭버스코리아(주)  D2676LF05   \n",
       "1138392  7MY-MT-24-01   4  만 트랙터  TGX28.4806X2-2BLS  만트럭버스코리아(주)  D2676LF05   \n",
       "1145376  7MY-MT-24-01   4  만 트랙터  TGX28.4806X2-2BLS  만트럭버스코리아(주)  D2676LF05   \n",
       "1146804  7MY-MT-24-01   4  만 트랙터  TGX28.4806X2-2BLS  만트럭버스코리아(주)  D2676LF05   \n",
       "1153494  7MY-MT-24-01   4  만 트랙터  TGX28.4806X2-2BLS  만트럭버스코리아(주)  D2676LF05   \n",
       "\n",
       "        DPF유무 제작사확인_DPF유무 확인유무  비고  \n",
       "2417        무           유    Y NaN  \n",
       "3609        무           유    Y NaN  \n",
       "29872       무           유    Y NaN  \n",
       "30993       무           유    Y NaN  \n",
       "32921       무           유    Y NaN  \n",
       "...       ...         ...  ...  ..  \n",
       "1135425     무           유    Y NaN  \n",
       "1138392     무           유    Y NaN  \n",
       "1145376     무           유    Y NaN  \n",
       "1146804     무           유    Y NaN  \n",
       "1153494     무           유    Y NaN  \n",
       "\n",
       "[293 rows x 10 columns]"
      ]
     },
     "execution_count": 25,
     "metadata": {},
     "output_type": "execute_result"
    }
   ],
   "source": [
    "df.loc[df['배출가스인증번호'] == '7MY-MT-24-01', ['배출가스인증번호', '등급', '차명_x', '자동차형식', '제작사명', '엔진형식_x', 'DPF유무', '제작사확인_DPF유무', '확인유무', '비고']]"
   ]
  },
  {
   "cell_type": "code",
   "execution_count": 26,
   "metadata": {},
   "outputs": [
    {
     "data": {
      "text/plain": [
       "(1153813, 67)"
      ]
     },
     "execution_count": 26,
     "metadata": {},
     "output_type": "execute_result"
    }
   ],
   "source": [
    "df.shape"
   ]
  },
  {
   "cell_type": "code",
   "execution_count": 27,
   "metadata": {},
   "outputs": [
    {
     "data": {
      "text/html": [
       "<div>\n",
       "<style scoped>\n",
       "    .dataframe tbody tr th:only-of-type {\n",
       "        vertical-align: middle;\n",
       "    }\n",
       "\n",
       "    .dataframe tbody tr th {\n",
       "        vertical-align: top;\n",
       "    }\n",
       "\n",
       "    .dataframe thead th {\n",
       "        text-align: right;\n",
       "    }\n",
       "</style>\n",
       "<table border=\"1\" class=\"dataframe\">\n",
       "  <thead>\n",
       "    <tr style=\"text-align: right;\">\n",
       "      <th></th>\n",
       "      <th>배출가스인증번호</th>\n",
       "      <th>등급</th>\n",
       "      <th>차명_x</th>\n",
       "      <th>자동차형식</th>\n",
       "      <th>제작사명</th>\n",
       "      <th>엔진형식_x</th>\n",
       "      <th>DPF유무</th>\n",
       "      <th>제작사확인_DPF유무</th>\n",
       "      <th>확인유무</th>\n",
       "      <th>비고</th>\n",
       "    </tr>\n",
       "  </thead>\n",
       "  <tbody>\n",
       "    <tr>\n",
       "      <th>0</th>\n",
       "      <td>9MY-KM-14-41</td>\n",
       "      <td>4</td>\n",
       "      <td>카니발</td>\n",
       "      <td>VQS96BB-G</td>\n",
       "      <td>기아자동차(주)</td>\n",
       "      <td>D4HB</td>\n",
       "      <td>무</td>\n",
       "      <td>NaN</td>\n",
       "      <td>NaN</td>\n",
       "      <td>NaN</td>\n",
       "    </tr>\n",
       "    <tr>\n",
       "      <th>1</th>\n",
       "      <td>7MY-SY-14-60</td>\n",
       "      <td>4</td>\n",
       "      <td>액티언스포츠</td>\n",
       "      <td>Q5D20A2-008D</td>\n",
       "      <td>쌍용자동차(주)</td>\n",
       "      <td>664951</td>\n",
       "      <td>무</td>\n",
       "      <td>NaN</td>\n",
       "      <td>NaN</td>\n",
       "      <td>NaN</td>\n",
       "    </tr>\n",
       "    <tr>\n",
       "      <th>2</th>\n",
       "      <td>9MY-KM-14-22</td>\n",
       "      <td>4</td>\n",
       "      <td>쏘렌토</td>\n",
       "      <td>XM75BA-S</td>\n",
       "      <td>기아자동차(주)</td>\n",
       "      <td>D4HA</td>\n",
       "      <td>무</td>\n",
       "      <td>NaN</td>\n",
       "      <td>NaN</td>\n",
       "      <td>NaN</td>\n",
       "    </tr>\n",
       "    <tr>\n",
       "      <th>3</th>\n",
       "      <td>NaN</td>\n",
       "      <td>4</td>\n",
       "      <td>금강24㎘경질유탱크로리</td>\n",
       "      <td>KK-T23.5SD-415</td>\n",
       "      <td>주식회사 카셈(KASEM Co.,Ltd)</td>\n",
       "      <td>ISM</td>\n",
       "      <td>무</td>\n",
       "      <td>NaN</td>\n",
       "      <td>NaN</td>\n",
       "      <td>NaN</td>\n",
       "    </tr>\n",
       "    <tr>\n",
       "      <th>4</th>\n",
       "      <td>9MY-KM-14-41</td>\n",
       "      <td>4</td>\n",
       "      <td>그랜드 카니발</td>\n",
       "      <td>VQLB6BA-S</td>\n",
       "      <td>기아자동차(주)</td>\n",
       "      <td>D4HB</td>\n",
       "      <td>무</td>\n",
       "      <td>NaN</td>\n",
       "      <td>NaN</td>\n",
       "      <td>NaN</td>\n",
       "    </tr>\n",
       "    <tr>\n",
       "      <th>5</th>\n",
       "      <td>9MY-KM-14-22</td>\n",
       "      <td>4</td>\n",
       "      <td>쏘렌토</td>\n",
       "      <td>XM75BB-S</td>\n",
       "      <td>기아자동차(주)</td>\n",
       "      <td>D4HA</td>\n",
       "      <td>무</td>\n",
       "      <td>NaN</td>\n",
       "      <td>NaN</td>\n",
       "      <td>NaN</td>\n",
       "    </tr>\n",
       "  </tbody>\n",
       "</table>\n",
       "</div>"
      ],
      "text/plain": [
       "       배출가스인증번호  등급          차명_x           자동차형식                    제작사명  \\\n",
       "0  9MY-KM-14-41   4           카니발       VQS96BB-G                기아자동차(주)   \n",
       "1  7MY-SY-14-60   4        액티언스포츠    Q5D20A2-008D                쌍용자동차(주)   \n",
       "2  9MY-KM-14-22   4           쏘렌토        XM75BA-S                기아자동차(주)   \n",
       "3           NaN   4  금강24㎘경질유탱크로리  KK-T23.5SD-415  주식회사 카셈(KASEM Co.,Ltd)   \n",
       "4  9MY-KM-14-41   4       그랜드 카니발       VQLB6BA-S                기아자동차(주)   \n",
       "5  9MY-KM-14-22   4           쏘렌토        XM75BB-S                기아자동차(주)   \n",
       "\n",
       "   엔진형식_x DPF유무 제작사확인_DPF유무 확인유무  비고  \n",
       "0    D4HB     무         NaN  NaN NaN  \n",
       "1  664951     무         NaN  NaN NaN  \n",
       "2    D4HA     무         NaN  NaN NaN  \n",
       "3     ISM     무         NaN  NaN NaN  \n",
       "4    D4HB     무         NaN  NaN NaN  \n",
       "5    D4HA     무         NaN  NaN NaN  "
      ]
     },
     "execution_count": 27,
     "metadata": {},
     "output_type": "execute_result"
    }
   ],
   "source": [
    "df.loc[:5, ['배출가스인증번호', '등급', '차명_x', '자동차형식', '제작사명', '엔진형식_x', 'DPF유무', '제작사확인_DPF유무', '확인유무', '비고']]"
   ]
  },
  {
   "attachments": {},
   "cell_type": "markdown",
   "metadata": {},
   "source": [
    "## 배인번호별 통계"
   ]
  },
  {
   "cell_type": "code",
   "execution_count": 28,
   "metadata": {},
   "outputs": [
    {
     "data": {
      "text/plain": [
       "배출가스인증번호   차명_x                    제작사명           자동차형식            엔진형식_x   제작사확인_DPF유무  확인유무\n",
       "4MY-AD-20  아우디 A6 3.0 TDI Quattro  아우디폭스바겐코리아(주)  4F               BMK      NaN          NaN     29\n",
       "4MY-DC-33  대우11.5톤장축카고트럭(DPF)      타타대우상용차(주)     K9ARF5           DV11     유            Y        7\n",
       "4MY-PA-06  프리랜더 2.0D               (주)볼보자동차코리아    2.0LN3DR         204D     NaN          NaN      1\n",
       "                                                  2.0LN5DR         204D     NaN          NaN      8\n",
       "           프리랜더2.0D                (주)볼보자동차코리아    2.0LN5DR         204D     NaN          NaN      4\n",
       "                                                                                                 ..\n",
       "NaN        현대15톤덤프트럭               현대자동차(주)       HD150-8DU1-DHLc  D6CC     NaN          NaN      1\n",
       "           호룡스카이 210S고소작업차         (주)호룡          SKY210S-N1B0     D4DD     NaN          NaN      1\n",
       "           화학소방펌프자동차               (주)화이어텍        FTF1C-B160A-1    OM502LA  NaN          NaN      1\n",
       "           히노카고트럭                  스카니아코리아그룹(주)   FD8JLUA          J08EUR   NaN          NaN     25\n",
       "           히노활어트럭                  스카니아코리아그룹(주)   FD8JLUAF         J08EUR   NaN          NaN      5\n",
       "Name: 차대번호, Length: 5799, dtype: int64"
      ]
     },
     "execution_count": 28,
     "metadata": {},
     "output_type": "execute_result"
    }
   ],
   "source": [
    "df.groupby(['배출가스인증번호', '차명_x', '제작사명', '자동차형식', '엔진형식_x', '제작사확인_DPF유무', '확인유무'], dropna=False)['차대번호'].count()"
   ]
  },
  {
   "attachments": {},
   "cell_type": "markdown",
   "metadata": {},
   "source": [
    "### [출력] 배인번호별 통계"
   ]
  },
  {
   "cell_type": "code",
   "execution_count": 29,
   "metadata": {},
   "outputs": [],
   "source": [
    "# df.groupby(['배출가스인증번호', '제작사확인_DPF유무', '확인유무'], dropna=False)['차대번호'].count().to_excel('analysis2/DPF현행화/배인번호별_제작사확인DPF유무_확인유무.xlsx')"
   ]
  },
  {
   "attachments": {},
   "cell_type": "markdown",
   "metadata": {},
   "source": [
    "# [출력] 수정파일"
   ]
  },
  {
   "cell_type": "code",
   "execution_count": 30,
   "metadata": {},
   "outputs": [
    {
     "data": {
      "text/plain": [
       "'D:/data/big2/BD1_4등급_데이터_점검1'"
      ]
     },
     "execution_count": 30,
     "metadata": {},
     "output_type": "execute_result"
    }
   ],
   "source": [
    "fold"
   ]
  },
  {
   "cell_type": "code",
   "execution_count": 49,
   "metadata": {},
   "outputs": [
    {
     "data": {
      "text/plain": [
       "'2023.02.20'"
      ]
     },
     "execution_count": 49,
     "metadata": {},
     "output_type": "execute_result"
    }
   ],
   "source": [
    "today_date = datetime.datetime.today().strftime(\"%Y.%m.%d\")\n",
    "today_date"
   ]
  },
  {
   "cell_type": "code",
   "execution_count": 32,
   "metadata": {},
   "outputs": [],
   "source": [
    "# about 32s\n",
    "df.to_csv(os.path.join(fold, f'4등급_차량_리스트_양식_result(수정)({today_date}).csv'), index=False, encoding='cp949')"
   ]
  },
  {
   "cell_type": "code",
   "execution_count": 33,
   "metadata": {},
   "outputs": [],
   "source": [
    "# about 32s\n",
    "df.iloc[:580000].to_csv(os.path.join(fold, f'4등급_차량_리스트_양식_result(수정)({today_date})01.csv'), index=False, encoding='cp949')\n",
    "df.iloc[580000:].to_csv(os.path.join(fold, f'4등급_차량_리스트_양식_result(수정)({today_date})02.csv'), index=False, encoding='cp949')"
   ]
  },
  {
   "cell_type": "code",
   "execution_count": 34,
   "metadata": {},
   "outputs": [],
   "source": [
    "# # about 18m 25s\n",
    "# df.iloc[:580000].to_excel(os.path.join(fold, '4등급_차량_리스트_양식_result(수정)(2023.02.09)01.xlsx'), index=False)\n",
    "# df.iloc[580000:].to_excel(os.path.join(fold, '4등급_차량_리스트_양식_result(수정)(2023.02.09)02.xlsx'), index=False)"
   ]
  },
  {
   "attachments": {},
   "cell_type": "markdown",
   "metadata": {},
   "source": [
    "# CODE End"
   ]
  }
 ],
 "metadata": {
  "kernelspec": {
   "display_name": "base",
   "language": "python",
   "name": "python3"
  },
  "language_info": {
   "codemirror_mode": {
    "name": "ipython",
    "version": 3
   },
   "file_extension": ".py",
   "mimetype": "text/x-python",
   "name": "python",
   "nbconvert_exporter": "python",
   "pygments_lexer": "ipython3",
   "version": "3.9.13"
  },
  "orig_nbformat": 4,
  "vscode": {
   "interpreter": {
    "hash": "ad2bdc8ecc057115af97d19610ffacc2b4e99fae6737bb82f5d7fb13d2f2c186"
   }
  }
 },
 "nbformat": 4,
 "nbformat_minor": 2
}
