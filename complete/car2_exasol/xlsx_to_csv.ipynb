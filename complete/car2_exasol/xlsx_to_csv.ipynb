{
 "cells": [
  {
   "cell_type": "markdown",
   "metadata": {},
   "source": [
    "# Library"
   ]
  },
  {
   "cell_type": "code",
   "execution_count": 1,
   "metadata": {},
   "outputs": [],
   "source": [
    "import pandas as pd\n",
    "import os\n",
    "from glob import glob\n",
    "from datetime import datetime"
   ]
  },
  {
   "attachments": {},
   "cell_type": "markdown",
   "metadata": {},
   "source": [
    "# FOLD"
   ]
  },
  {
   "cell_type": "code",
   "execution_count": 7,
   "metadata": {},
   "outputs": [],
   "source": [
    "# drive = 'D'\n",
    "drive = 'E'"
   ]
  },
  {
   "cell_type": "code",
   "execution_count": 8,
   "metadata": {},
   "outputs": [],
   "source": [
    "ods_fold = f'{drive}:/data/complete/big2/ods'\n",
    "\n",
    "raw1_fold = f'{drive}:/data/complete/big2/BD1/raw'\n",
    "df1_fold = f'{drive}:/data/complete/big2/BD1/df'\n",
    "\n",
    "raw3_fold = f'{drive}:/data/complete/big2/BD3/raw'\n",
    "df3_fold = f'{drive}:/data/complete/big2/BD3/df'"
   ]
  },
  {
   "cell_type": "code",
   "execution_count": 5,
   "metadata": {},
   "outputs": [],
   "source": [
    "def etoc(name, fold):\n",
    "    file_name = f'{name}.xlsx'\n",
    "    df = pd.read_excel(os.path.join(fold, file_name))\n",
    "    df.to_csv(os.path.join(fold, f'{name}.csv'), index=False)\n",
    "    print(os.path.join(fold, f'{name}.csv 출력완료.'))"
   ]
  },
  {
   "cell_type": "code",
   "execution_count": 6,
   "metadata": {},
   "outputs": [],
   "source": [
    "def ctoc(name, fold):\n",
    "    file_name = f'{name}.csv'\n",
    "    df = pd.read_csv(os.path.join(fold, file_name), encoding='cp949')\n",
    "    df.to_csv(os.path.join(fold, f'{name}.csv'), index=False)\n",
    "    print(os.path.join(fold, f'{name}.csv 출력완료.'))"
   ]
  },
  {
   "cell_type": "code",
   "execution_count": 6,
   "metadata": {},
   "outputs": [],
   "source": [
    "def multi_etoc(fold):\n",
    "    for file_name in glob(os.path.join(fold, '*.xlsx')):\n",
    "        name = file_name.split('\\\\')[-1]\n",
    "        csv_name = name.split('.')[0] + '.csv'\n",
    "        df = pd.read_excel(os.path.join(fold, name))\n",
    "        df.to_csv(os.path.join(fold, csv_name), index=False)\n",
    "        print(os.path.join(fold, csv_name), '출력완료.')"
   ]
  },
  {
   "cell_type": "code",
   "execution_count": 13,
   "metadata": {},
   "outputs": [
    {
     "name": "stdout",
     "output_type": "stream",
     "text": [
      "D:/data/big2/BD3/raw\\STD_BD_CAR_CURSTT_MOD.csv 출력완료.\n"
     ]
    }
   ],
   "source": [
    "name = 'STD_BD_CAR_CURSTT_MOD'\n",
    "fold = raw3_fold\n",
    "etoc(name, fold)"
   ]
  },
  {
   "cell_type": "code",
   "execution_count": 10,
   "metadata": {},
   "outputs": [
    {
     "name": "stdout",
     "output_type": "stream",
     "text": [
      "D:/data/big2/BD3/raw\\5등급_저공해미조치.csv 출력완료.\n"
     ]
    }
   ],
   "source": [
    "name = '5등급_저공해미조치'\n",
    "fold = raw3_fold\n",
    "etoc(name, fold)"
   ]
  },
  {
   "cell_type": "code",
   "execution_count": 22,
   "metadata": {},
   "outputs": [
    {
     "name": "stdout",
     "output_type": "stream",
     "text": [
      "D:/data/big2/BD1/raw\\용도별_차종별_시군구별_자동차1일평균주행거리(2021).csv 출력완료.\n"
     ]
    }
   ],
   "source": [
    "name = '용도별_차종별_시군구별_자동차1일평균주행거리(2021)'\n",
    "fold = raw1_fold\n",
    "etoc(name, fold)"
   ]
  },
  {
   "cell_type": "code",
   "execution_count": 8,
   "metadata": {},
   "outputs": [
    {
     "name": "stdout",
     "output_type": "stream",
     "text": [
      "D:/data/big2/BD3/df\\STD_BD_ECO_CAR_PRET.csv 출력완료.\n"
     ]
    }
   ],
   "source": [
    "name = 'STD_BD_ECO_CAR_PRET'\n",
    "fold = df3_fold\n",
    "ctoc(name, fold)"
   ]
  },
  {
   "cell_type": "code",
   "execution_count": 22,
   "metadata": {},
   "outputs": [
    {
     "name": "stdout",
     "output_type": "stream",
     "text": [
      "D:/data/big2/BD3/df\\STD_BD_CAR_CURSTT_MOD.csv 출력완료.\n",
      "D:/data/big2/BD3/df\\STD_BD_CAR_CURSTT_MOD2.csv 출력완료.\n",
      "D:/data/big2/BD3/df\\STD_BD_CAR_PRET.csv 출력완료.\n",
      "D:/data/big2/BD3/df\\STD_BD_CAR_REG_MKCNT.csv 출력완료.\n",
      "D:/data/big2/BD3/df\\STD_BD_ECO_CAR_PRET.csv 출력완료.\n",
      "D:/data/big2/BD3/df\\STD_BD_GRD4_DS_CRRLTN_CFFCNT.csv 출력완료.\n",
      "D:/data/big2/BD3/df\\STD_BD_GRD5_DS_DPF_CRRLTN_CFFCNT.csv 출력완료.\n",
      "D:/data/big2/BD3/df\\STD_BD_GRD5_DS_ELPDSRC_CRRLTN_CFFCNT.csv 출력완료.\n",
      "D:/data/big2/BD3/df\\STD_BD_GRD5_ELPDSRC_CURSTT.csv 출력완료.\n",
      "D:/data/big2/BD3/df\\STD_BD_GRD5_LEM_N_MOD.csv 출력완료.\n"
     ]
    }
   ],
   "source": [
    "multi_etoc(df3_fold)"
   ]
  },
  {
   "cell_type": "code",
   "execution_count": 21,
   "metadata": {},
   "outputs": [
    {
     "name": "stdout",
     "output_type": "stream",
     "text": [
      "<class 'pandas.core.frame.DataFrame'>\n",
      "RangeIndex: 7 entries, 0 to 6\n",
      "Data columns (total 9 columns):\n",
      " #   Column               Non-Null Count  Dtype  \n",
      "---  ------               --------------  -----  \n",
      " 0   LIST                 7 non-null      object \n",
      " 1   NOLOD_SMO_MEVLU1     7 non-null      float64\n",
      " 2   DY_AVRG_DRVNG_DSTNC  7 non-null      float64\n",
      " 3   RCNT_INSP_ELPSD_WHL  7 non-null      float64\n",
      " 4   RUN_LMT_CRDN_INFO    7 non-null      float64\n",
      " 5   SPRT_CST_ELPDSRC     7 non-null      float64\n",
      " 6   DSPLVL               7 non-null      float64\n",
      " 7   TOTL_WGHT            7 non-null      float64\n",
      " 8   TOT_CRRLTN_CFFCNT    7 non-null      float64\n",
      "dtypes: float64(8), object(1)\n",
      "memory usage: 632.0+ bytes\n"
     ]
    }
   ],
   "source": [
    "# about \n",
    "name = 'STD_BD_GRD5_DS_ELPDSRC_CRRLTN_CFFCNT'\n",
    "file_name = f'{name}.xlsx'\n",
    "df = pd.read_excel(os.path.join(df1_fold, file_name))\n",
    "df.info()"
   ]
  },
  {
   "cell_type": "code",
   "execution_count": 7,
   "metadata": {},
   "outputs": [
    {
     "name": "stdout",
     "output_type": "stream",
     "text": [
      "<class 'pandas.core.frame.DataFrame'>\n",
      "RangeIndex: 163294 entries, 0 to 163293\n",
      "Data columns (total 9 columns):\n",
      " #   Column  Non-Null Count   Dtype  \n",
      "---  ------  --------------   -----  \n",
      " 0   적발지역    163294 non-null  object \n",
      " 1   적발시도    163294 non-null  object \n",
      " 2   차대번호    163294 non-null  object \n",
      " 3   계절제_1차  39111 non-null   float64\n",
      " 4   계절제_2차  58088 non-null   float64\n",
      " 5   계절제_3차  73775 non-null   float64\n",
      " 6   계절제_4차  31673 non-null   float64\n",
      " 7   차종      162378 non-null  object \n",
      " 8   차종유형    162378 non-null  object \n",
      "dtypes: float64(4), object(5)\n",
      "memory usage: 11.2+ MB\n"
     ]
    }
   ],
   "source": [
    "# about \n",
    "name = '계절제 적발지역 차대번호'\n",
    "file_name = f'{name}.csv'\n",
    "df = pd.read_csv(os.path.join(df3_fold, file_name), encoding='cp949')\n",
    "df.info()"
   ]
  },
  {
   "cell_type": "code",
   "execution_count": 8,
   "metadata": {},
   "outputs": [
    {
     "data": {
      "text/plain": [
       "Index(['적발지역', '적발시도', '차대번호', '계절제_1차', '계절제_2차', '계절제_3차', '계절제_4차', '차종',\n",
       "       '차종유형'],\n",
       "      dtype='object')"
      ]
     },
     "execution_count": 8,
     "metadata": {},
     "output_type": "execute_result"
    }
   ],
   "source": [
    "df.columns"
   ]
  },
  {
   "cell_type": "code",
   "execution_count": 9,
   "metadata": {},
   "outputs": [],
   "source": [
    "chc_dict = {\n",
    "    '적발지역':'DSCL_RGN',\n",
    "    '적발시도':'DSCL_CTPV',\n",
    "    '차대번호':'VIN',\n",
    "    '계절제_1차':'SEASON_1ODR_CRDN_NOCS',\n",
    "    '계절제_2차':'SEASON_2ODR_CRDN_NOCS',\n",
    "    '계절제_3차':'SEASON_3ODR_CRDN_NOCS',\n",
    "    '계절제_4차':'SEASON_4ODR_CRDN_NOCS',\n",
    "    '차종':'VHCTY_CD',\n",
    "    '차종유형':'VHCTY_TY',\n",
    "            }"
   ]
  },
  {
   "cell_type": "code",
   "execution_count": 10,
   "metadata": {},
   "outputs": [
    {
     "data": {
      "text/plain": [
       "Index(['DSCL_RGN', 'DSCL_CTPV', 'VIN', 'SEASON_1ODR_CRDN_NOCS',\n",
       "       'SEASON_2ODR_CRDN_NOCS', 'SEASON_3ODR_CRDN_NOCS',\n",
       "       'SEASON_4ODR_CRDN_NOCS', 'VHCTY_CD', 'VHCTY_TY'],\n",
       "      dtype='object')"
      ]
     },
     "execution_count": 10,
     "metadata": {},
     "output_type": "execute_result"
    }
   ],
   "source": [
    "df = df.rename(columns=chc_dict)\n",
    "df.columns"
   ]
  },
  {
   "cell_type": "code",
   "execution_count": 11,
   "metadata": {},
   "outputs": [],
   "source": [
    "df.to_csv(os.path.join(df3_fold, f'{name}.csv'), index=False)"
   ]
  },
  {
   "cell_type": "code",
   "execution_count": null,
   "metadata": {},
   "outputs": [],
   "source": []
  },
  {
   "cell_type": "code",
   "execution_count": 12,
   "metadata": {},
   "outputs": [
    {
     "name": "stdout",
     "output_type": "stream",
     "text": [
      "<class 'pandas.core.frame.DataFrame'>\n",
      "RangeIndex: 153422 entries, 0 to 153421\n",
      "Data columns (total 10 columns):\n",
      " #   Column   Non-Null Count   Dtype  \n",
      "---  ------   --------------   -----  \n",
      " 0   VIN      153422 non-null  object \n",
      " 1   계절제_1차   37861 non-null   float64\n",
      " 2   계절제_2차   54788 non-null   float64\n",
      " 3   계절제_3차   68278 non-null   float64\n",
      " 4   계절제_4차   29307 non-null   float64\n",
      " 5   지역       152547 non-null  object \n",
      " 6   시도       152547 non-null  object \n",
      " 7   DPF부착유무  153422 non-null  object \n",
      " 8   차종       152547 non-null  object \n",
      " 9   차종유형     152547 non-null  object \n",
      "dtypes: float64(4), object(6)\n",
      "memory usage: 11.7+ MB\n"
     ]
    }
   ],
   "source": [
    "# about \n",
    "name = '차대번호별 적발건수, 지역, 차종'\n",
    "file_name = f'{name}.csv'\n",
    "df = pd.read_csv(os.path.join(df3_fold, file_name), encoding='cp949')\n",
    "df.info()"
   ]
  },
  {
   "cell_type": "code",
   "execution_count": 13,
   "metadata": {},
   "outputs": [
    {
     "data": {
      "text/plain": [
       "Index(['VIN', '계절제_1차', '계절제_2차', '계절제_3차', '계절제_4차', '지역', '시도', 'DPF부착유무',\n",
       "       '차종', '차종유형'],\n",
       "      dtype='object')"
      ]
     },
     "execution_count": 13,
     "metadata": {},
     "output_type": "execute_result"
    }
   ],
   "source": [
    "df.columns"
   ]
  },
  {
   "cell_type": "code",
   "execution_count": 14,
   "metadata": {},
   "outputs": [],
   "source": [
    "chc_dict = {\n",
    "    '차대번호':'VIN',\n",
    "    '계절제_1차':'SEASON_1ODR_CRDN_NOCS',\n",
    "    '계절제_2차':'SEASON_2ODR_CRDN_NOCS',\n",
    "    '계절제_3차':'SEASON_3ODR_CRDN_NOCS',\n",
    "    '계절제_4차':'SEASON_4ODR_CRDN_NOCS',\n",
    "    '지역':'RGN',\n",
    "    '시도':'CTPV',\n",
    "    'DPF부착유무':'DPF_EXTRNS_YN',\n",
    "    '차종':'VHCTY_CD',\n",
    "    '차종유형':'VHCTY_TY',\n",
    "            }"
   ]
  },
  {
   "cell_type": "code",
   "execution_count": 15,
   "metadata": {},
   "outputs": [
    {
     "data": {
      "text/plain": [
       "Index(['VIN', 'SEASON_1ODR_CRDN_NOCS', 'SEASON_2ODR_CRDN_NOCS',\n",
       "       'SEASON_3ODR_CRDN_NOCS', 'SEASON_4ODR_CRDN_NOCS', 'RGN', 'CTPV',\n",
       "       'DPF_EXTRNS_YN', 'VHCTY_CD', 'VHCTY_TY'],\n",
       "      dtype='object')"
      ]
     },
     "execution_count": 15,
     "metadata": {},
     "output_type": "execute_result"
    }
   ],
   "source": [
    "df = df.rename(columns=chc_dict)\n",
    "df.columns"
   ]
  },
  {
   "cell_type": "code",
   "execution_count": 16,
   "metadata": {},
   "outputs": [],
   "source": [
    "df.to_csv(os.path.join(df3_fold, f'{name}.csv'), index=False)"
   ]
  },
  {
   "cell_type": "code",
   "execution_count": null,
   "metadata": {},
   "outputs": [],
   "source": []
  },
  {
   "cell_type": "code",
   "execution_count": null,
   "metadata": {},
   "outputs": [],
   "source": [
    "name = '용도별_차종별_시군구별_자동차1일평균주행거리(2021)'\n",
    "fold = raw1_fold\n",
    "etoc(name, fold)"
   ]
  },
  {
   "cell_type": "code",
   "execution_count": 23,
   "metadata": {},
   "outputs": [
    {
     "name": "stdout",
     "output_type": "stream",
     "text": [
      "<class 'pandas.core.frame.DataFrame'>\n",
      "RangeIndex: 1230 entries, 0 to 1229\n",
      "Data columns (total 4 columns):\n",
      " #   Column  Non-Null Count  Dtype  \n",
      "---  ------  --------------  -----  \n",
      " 0   시도명     1230 non-null   object \n",
      " 1   시군구명    1230 non-null   object \n",
      " 2   차종      1230 non-null   object \n",
      " 3   전체      1230 non-null   float64\n",
      "dtypes: float64(1), object(3)\n",
      "memory usage: 38.6+ KB\n"
     ]
    }
   ],
   "source": [
    "# about \n",
    "name = '용도별_차종별_시군구별_자동차1일평균주행거리(2021)'\n",
    "file_name = f'{name}.csv'\n",
    "df = pd.read_csv(os.path.join(raw1_fold, file_name))\n",
    "df.info()"
   ]
  },
  {
   "cell_type": "code",
   "execution_count": 24,
   "metadata": {},
   "outputs": [
    {
     "data": {
      "text/plain": [
       "Index(['시도명', '시군구명', '차종', '전체'], dtype='object')"
      ]
     },
     "execution_count": 24,
     "metadata": {},
     "output_type": "execute_result"
    }
   ],
   "source": [
    "df.columns"
   ]
  },
  {
   "cell_type": "code",
   "execution_count": 25,
   "metadata": {},
   "outputs": [],
   "source": [
    "chc_dict = {\n",
    "    '시도명':'CTPV', \n",
    "    '시군구명':'SGG', \n",
    "    '차종':'VHCTY_CD', \n",
    "    '전체':'DY_AVRG_DRVNG_DSTNC',\n",
    "            }"
   ]
  },
  {
   "cell_type": "code",
   "execution_count": 26,
   "metadata": {},
   "outputs": [
    {
     "data": {
      "text/plain": [
       "Index(['CTPV', 'SGG', 'VHCTY_CD', 'DY_AVRG_DRVNG_DSTNC'], dtype='object')"
      ]
     },
     "execution_count": 26,
     "metadata": {},
     "output_type": "execute_result"
    }
   ],
   "source": [
    "df = df.rename(columns=chc_dict)\n",
    "df.columns"
   ]
  },
  {
   "cell_type": "code",
   "execution_count": 13,
   "metadata": {},
   "outputs": [],
   "source": [
    "df.to_csv(os.path.join(raw1_fold, f'{name}.csv'), index=False)"
   ]
  },
  {
   "cell_type": "code",
   "execution_count": null,
   "metadata": {},
   "outputs": [],
   "source": []
  },
  {
   "cell_type": "code",
   "execution_count": 16,
   "metadata": {},
   "outputs": [
    {
     "name": "stdout",
     "output_type": "stream",
     "text": [
      "<class 'pandas.core.frame.DataFrame'>\n",
      "RangeIndex: 111071 entries, 0 to 111070\n",
      "Data columns (total 6 columns):\n",
      " #   Column    Non-Null Count   Dtype  \n",
      "---  ------    --------------   -----  \n",
      " 0   저감장치      111071 non-null  object \n",
      " 1   배출가스인증번호  111071 non-null  object \n",
      " 2   장치일련번호    111071 non-null  object \n",
      " 3   장치인증번호    303 non-null     object \n",
      " 4   장치구분      261 non-null     object \n",
      " 5   저감효율      303 non-null     float64\n",
      "dtypes: float64(1), object(5)\n",
      "memory usage: 5.1+ MB\n"
     ]
    }
   ],
   "source": [
    "# about \n",
    "name = '저감장치_효율(2022.12.28)'\n",
    "file_name = f'{name}.csv'\n",
    "df = pd.read_csv(os.path.join(ods_fold, file_name), encoding='cp949')\n",
    "df.info()"
   ]
  },
  {
   "cell_type": "code",
   "execution_count": 17,
   "metadata": {},
   "outputs": [
    {
     "data": {
      "text/plain": [
       "Index(['저감장치', '배출가스인증번호', '장치일련번호', '장치인증번호', '장치구분', '저감효율'], dtype='object')"
      ]
     },
     "execution_count": 17,
     "metadata": {},
     "output_type": "execute_result"
    }
   ],
   "source": [
    "df.columns"
   ]
  },
  {
   "cell_type": "code",
   "execution_count": 18,
   "metadata": {},
   "outputs": [],
   "source": [
    "chc_dict = {\n",
    "    '저감장치':'RDCDVC', \n",
    "    '배출가스인증번호':'EXHST_GAS_CERT_NO', \n",
    "    '장치일련번호':'DVICE_SN', \n",
    "    '장치인증번호':'DVICE_CERT_NO', \n",
    "    '장치구분':'RDCDVC_SE', \n",
    "    '저감효율':'REDUC_EFCNY',\n",
    "            }"
   ]
  },
  {
   "cell_type": "code",
   "execution_count": 19,
   "metadata": {},
   "outputs": [
    {
     "data": {
      "text/plain": [
       "Index(['RDCDVC', 'EXHST_GAS_CERT_NO', 'DVICE_SN', 'DVICE_CERT_NO', 'RDCDVC_SE',\n",
       "       'REDUC_EFCNY'],\n",
       "      dtype='object')"
      ]
     },
     "execution_count": 19,
     "metadata": {},
     "output_type": "execute_result"
    }
   ],
   "source": [
    "df = df.rename(columns=chc_dict)\n",
    "df.columns"
   ]
  },
  {
   "cell_type": "code",
   "execution_count": 20,
   "metadata": {},
   "outputs": [],
   "source": [
    "df.to_csv(os.path.join(ods_fold, f'{name}.csv'), index=False)"
   ]
  },
  {
   "cell_type": "markdown",
   "metadata": {},
   "source": [
    "## STD_BD_CAR_CURSTT_MOD"
   ]
  },
  {
   "cell_type": "code",
   "execution_count": 18,
   "metadata": {},
   "outputs": [
    {
     "data": {
      "text/plain": [
       "'20240103'"
      ]
     },
     "execution_count": 18,
     "metadata": {},
     "output_type": "execute_result"
    }
   ],
   "source": [
    "today_date = datetime.today().strftime('%Y%m%d')\n",
    "today_date"
   ]
  },
  {
   "cell_type": "code",
   "execution_count": 20,
   "metadata": {},
   "outputs": [
    {
     "name": "stdout",
     "output_type": "stream",
     "text": [
      "<class 'pandas.core.frame.DataFrame'>\n",
      "RangeIndex: 5304 entries, 0 to 5303\n",
      "Data columns (total 7 columns):\n",
      " #   Column            Non-Null Count  Dtype \n",
      "---  ------            --------------  ----- \n",
      " 0   CRTR_YM           5304 non-null   int64 \n",
      " 1   YR                5304 non-null   int64 \n",
      " 2   RGN               5304 non-null   object\n",
      " 3   CTPV_NM           5304 non-null   object\n",
      " 4   EXHST_GAS_GRD_CD  5304 non-null   object\n",
      " 5   VHCL_MKCNT        5304 non-null   int64 \n",
      " 6   LOAD_DT           5304 non-null   int64 \n",
      "dtypes: int64(4), object(3)\n",
      "memory usage: 290.2+ KB\n"
     ]
    }
   ],
   "source": [
    "# about \n",
    "name = f'STD_BD_CAR_CURSTT_MOD_{today_date}'\n",
    "file_name = f'{name}.xlsx'\n",
    "df = pd.read_excel(os.path.join(raw3_fold, file_name))\n",
    "df.info()"
   ]
  },
  {
   "cell_type": "code",
   "execution_count": 21,
   "metadata": {},
   "outputs": [
    {
     "data": {
      "text/html": [
       "<div>\n",
       "<style scoped>\n",
       "    .dataframe tbody tr th:only-of-type {\n",
       "        vertical-align: middle;\n",
       "    }\n",
       "\n",
       "    .dataframe tbody tr th {\n",
       "        vertical-align: top;\n",
       "    }\n",
       "\n",
       "    .dataframe thead th {\n",
       "        text-align: right;\n",
       "    }\n",
       "</style>\n",
       "<table border=\"1\" class=\"dataframe\">\n",
       "  <thead>\n",
       "    <tr style=\"text-align: right;\">\n",
       "      <th></th>\n",
       "      <th>CRTR_YM</th>\n",
       "      <th>YR</th>\n",
       "      <th>RGN</th>\n",
       "      <th>CTPV_NM</th>\n",
       "      <th>EXHST_GAS_GRD_CD</th>\n",
       "      <th>VHCL_MKCNT</th>\n",
       "      <th>LOAD_DT</th>\n",
       "    </tr>\n",
       "  </thead>\n",
       "  <tbody>\n",
       "    <tr>\n",
       "      <th>5299</th>\n",
       "      <td>202312</td>\n",
       "      <td>2023</td>\n",
       "      <td>비수도권</td>\n",
       "      <td>제주특별자치도</td>\n",
       "      <td>2</td>\n",
       "      <td>320153</td>\n",
       "      <td>20240103</td>\n",
       "    </tr>\n",
       "    <tr>\n",
       "      <th>5300</th>\n",
       "      <td>202312</td>\n",
       "      <td>2023</td>\n",
       "      <td>비수도권</td>\n",
       "      <td>제주특별자치도</td>\n",
       "      <td>3</td>\n",
       "      <td>206334</td>\n",
       "      <td>20240103</td>\n",
       "    </tr>\n",
       "    <tr>\n",
       "      <th>5301</th>\n",
       "      <td>202312</td>\n",
       "      <td>2023</td>\n",
       "      <td>비수도권</td>\n",
       "      <td>제주특별자치도</td>\n",
       "      <td>4</td>\n",
       "      <td>24170</td>\n",
       "      <td>20240103</td>\n",
       "    </tr>\n",
       "    <tr>\n",
       "      <th>5302</th>\n",
       "      <td>202312</td>\n",
       "      <td>2023</td>\n",
       "      <td>비수도권</td>\n",
       "      <td>제주특별자치도</td>\n",
       "      <td>5</td>\n",
       "      <td>18680</td>\n",
       "      <td>20240103</td>\n",
       "    </tr>\n",
       "    <tr>\n",
       "      <th>5303</th>\n",
       "      <td>202312</td>\n",
       "      <td>2023</td>\n",
       "      <td>비수도권</td>\n",
       "      <td>제주특별자치도</td>\n",
       "      <td>X</td>\n",
       "      <td>1059</td>\n",
       "      <td>20240103</td>\n",
       "    </tr>\n",
       "  </tbody>\n",
       "</table>\n",
       "</div>"
      ],
      "text/plain": [
       "      CRTR_YM    YR   RGN  CTPV_NM EXHST_GAS_GRD_CD  VHCL_MKCNT   LOAD_DT\n",
       "5299   202312  2023  비수도권  제주특별자치도                2      320153  20240103\n",
       "5300   202312  2023  비수도권  제주특별자치도                3      206334  20240103\n",
       "5301   202312  2023  비수도권  제주특별자치도                4       24170  20240103\n",
       "5302   202312  2023  비수도권  제주특별자치도                5       18680  20240103\n",
       "5303   202312  2023  비수도권  제주특별자치도                X        1059  20240103"
      ]
     },
     "execution_count": 21,
     "metadata": {},
     "output_type": "execute_result"
    }
   ],
   "source": [
    "df.tail()"
   ]
  },
  {
   "cell_type": "code",
   "execution_count": 22,
   "metadata": {},
   "outputs": [],
   "source": [
    "# df.LOAD_DT = int(today_date)\n",
    "# df.head()"
   ]
  },
  {
   "cell_type": "code",
   "execution_count": 23,
   "metadata": {},
   "outputs": [
    {
     "name": "stdout",
     "output_type": "stream",
     "text": [
      "<class 'pandas.core.frame.DataFrame'>\n",
      "RangeIndex: 5304 entries, 0 to 5303\n",
      "Data columns (total 7 columns):\n",
      " #   Column            Non-Null Count  Dtype \n",
      "---  ------            --------------  ----- \n",
      " 0   CRTR_YM           5304 non-null   int64 \n",
      " 1   YR                5304 non-null   int64 \n",
      " 2   RGN               5304 non-null   object\n",
      " 3   CTPV_NM           5304 non-null   object\n",
      " 4   EXHST_GAS_GRD_CD  5304 non-null   object\n",
      " 5   VHCL_MKCNT        5304 non-null   int64 \n",
      " 6   LOAD_DT           5304 non-null   int64 \n",
      "dtypes: int64(4), object(3)\n",
      "memory usage: 290.2+ KB\n"
     ]
    }
   ],
   "source": [
    "df.info()"
   ]
  },
  {
   "cell_type": "code",
   "execution_count": 24,
   "metadata": {},
   "outputs": [
    {
     "data": {
      "text/plain": [
       "array([1, 2, 3, 4, 5, 'X'], dtype=object)"
      ]
     },
     "execution_count": 24,
     "metadata": {},
     "output_type": "execute_result"
    }
   ],
   "source": [
    "df.EXHST_GAS_GRD_CD.unique()"
   ]
  },
  {
   "cell_type": "code",
   "execution_count": 25,
   "metadata": {},
   "outputs": [
    {
     "data": {
      "text/plain": [
       "array(['1', '2', '3', '4', '5', '미분류'], dtype=object)"
      ]
     },
     "execution_count": 25,
     "metadata": {},
     "output_type": "execute_result"
    }
   ],
   "source": [
    "grd_dict = {\n",
    "    1:'1', \n",
    "    2:'2', \n",
    "    3:'3', \n",
    "    4:'4', \n",
    "    5:'5', \n",
    "    'X':'미분류', \n",
    "}\n",
    "df.EXHST_GAS_GRD_CD = df.EXHST_GAS_GRD_CD.replace(grd_dict)\n",
    "df.EXHST_GAS_GRD_CD.unique()"
   ]
  },
  {
   "cell_type": "code",
   "execution_count": 26,
   "metadata": {},
   "outputs": [],
   "source": [
    "# 0.1s\n",
    "df.to_csv(os.path.join(df3_fold, f'{name}.csv'), index=False)"
   ]
  },
  {
   "cell_type": "markdown",
   "metadata": {},
   "source": [
    "## STD_BD_CAR_CURSTT_MOD2"
   ]
  },
  {
   "cell_type": "code",
   "execution_count": 27,
   "metadata": {},
   "outputs": [
    {
     "data": {
      "text/plain": [
       "'20240103'"
      ]
     },
     "execution_count": 27,
     "metadata": {},
     "output_type": "execute_result"
    }
   ],
   "source": [
    "today_date = datetime.today().strftime('%Y%m%d')\n",
    "today_date"
   ]
  },
  {
   "cell_type": "code",
   "execution_count": 28,
   "metadata": {},
   "outputs": [
    {
     "name": "stdout",
     "output_type": "stream",
     "text": [
      "<class 'pandas.core.frame.DataFrame'>\n",
      "RangeIndex: 884 entries, 0 to 883\n",
      "Data columns (total 6 columns):\n",
      " #   Column            Non-Null Count  Dtype \n",
      "---  ------            --------------  ----- \n",
      " 0   CRTR_YM           884 non-null    int64 \n",
      " 1   YR                884 non-null    int64 \n",
      " 2   FUEL_CD           884 non-null    object\n",
      " 3   EXHST_GAS_GRD_CD  884 non-null    int64 \n",
      " 4   VHCL_MKCNT        884 non-null    int64 \n",
      " 5   LOAD_DT           884 non-null    int64 \n",
      "dtypes: int64(5), object(1)\n",
      "memory usage: 41.6+ KB\n"
     ]
    }
   ],
   "source": [
    "# about \n",
    "name = f'STD_BD_CAR_CURSTT_MOD2_{today_date}'\n",
    "file_name = f'{name}.xlsx'\n",
    "df = pd.read_excel(os.path.join(raw3_fold, file_name))\n",
    "df.info()"
   ]
  },
  {
   "cell_type": "code",
   "execution_count": 29,
   "metadata": {},
   "outputs": [
    {
     "data": {
      "text/plain": [
       "array([1, 2, 3, 4, 5], dtype=int64)"
      ]
     },
     "execution_count": 29,
     "metadata": {},
     "output_type": "execute_result"
    }
   ],
   "source": [
    "df.EXHST_GAS_GRD_CD.unique()"
   ]
  },
  {
   "cell_type": "code",
   "execution_count": 30,
   "metadata": {},
   "outputs": [
    {
     "data": {
      "text/html": [
       "<div>\n",
       "<style scoped>\n",
       "    .dataframe tbody tr th:only-of-type {\n",
       "        vertical-align: middle;\n",
       "    }\n",
       "\n",
       "    .dataframe tbody tr th {\n",
       "        vertical-align: top;\n",
       "    }\n",
       "\n",
       "    .dataframe thead th {\n",
       "        text-align: right;\n",
       "    }\n",
       "</style>\n",
       "<table border=\"1\" class=\"dataframe\">\n",
       "  <thead>\n",
       "    <tr style=\"text-align: right;\">\n",
       "      <th></th>\n",
       "      <th>CRTR_YM</th>\n",
       "      <th>YR</th>\n",
       "      <th>FUEL_CD</th>\n",
       "      <th>EXHST_GAS_GRD_CD</th>\n",
       "      <th>VHCL_MKCNT</th>\n",
       "      <th>LOAD_DT</th>\n",
       "    </tr>\n",
       "  </thead>\n",
       "  <tbody>\n",
       "    <tr>\n",
       "      <th>879</th>\n",
       "      <td>202312</td>\n",
       "      <td>2023</td>\n",
       "      <td>LPG(액화석유가스)</td>\n",
       "      <td>5</td>\n",
       "      <td>437</td>\n",
       "      <td>20240103</td>\n",
       "    </tr>\n",
       "    <tr>\n",
       "      <th>880</th>\n",
       "      <td>202312</td>\n",
       "      <td>2023</td>\n",
       "      <td>전기수소</td>\n",
       "      <td>1</td>\n",
       "      <td>578123</td>\n",
       "      <td>20240103</td>\n",
       "    </tr>\n",
       "    <tr>\n",
       "      <th>881</th>\n",
       "      <td>202312</td>\n",
       "      <td>2023</td>\n",
       "      <td>기타</td>\n",
       "      <td>3</td>\n",
       "      <td>3</td>\n",
       "      <td>20240103</td>\n",
       "    </tr>\n",
       "    <tr>\n",
       "      <th>882</th>\n",
       "      <td>202312</td>\n",
       "      <td>2023</td>\n",
       "      <td>기타</td>\n",
       "      <td>4</td>\n",
       "      <td>36</td>\n",
       "      <td>20240103</td>\n",
       "    </tr>\n",
       "    <tr>\n",
       "      <th>883</th>\n",
       "      <td>202312</td>\n",
       "      <td>2023</td>\n",
       "      <td>기타</td>\n",
       "      <td>5</td>\n",
       "      <td>26</td>\n",
       "      <td>20240103</td>\n",
       "    </tr>\n",
       "  </tbody>\n",
       "</table>\n",
       "</div>"
      ],
      "text/plain": [
       "     CRTR_YM    YR      FUEL_CD  EXHST_GAS_GRD_CD  VHCL_MKCNT   LOAD_DT\n",
       "879   202312  2023  LPG(액화석유가스)                 5         437  20240103\n",
       "880   202312  2023         전기수소                 1      578123  20240103\n",
       "881   202312  2023           기타                 3           3  20240103\n",
       "882   202312  2023           기타                 4          36  20240103\n",
       "883   202312  2023           기타                 5          26  20240103"
      ]
     },
     "execution_count": 30,
     "metadata": {},
     "output_type": "execute_result"
    }
   ],
   "source": [
    "df.tail()"
   ]
  },
  {
   "cell_type": "code",
   "execution_count": 31,
   "metadata": {},
   "outputs": [],
   "source": [
    "# df.LOAD_DT = int(today_date)\n",
    "# df.head()"
   ]
  },
  {
   "cell_type": "code",
   "execution_count": 32,
   "metadata": {},
   "outputs": [],
   "source": [
    "# 0.1s\n",
    "df.to_csv(os.path.join(df3_fold, f'{name}.csv'), index=False)"
   ]
  },
  {
   "cell_type": "markdown",
   "metadata": {},
   "source": [
    "## STD_BD_CAR_CURSTT_MOD_4RD_INS"
   ]
  },
  {
   "cell_type": "code",
   "execution_count": 9,
   "metadata": {},
   "outputs": [
    {
     "data": {
      "text/plain": [
       "'2024.01.03'"
      ]
     },
     "execution_count": 9,
     "metadata": {},
     "output_type": "execute_result"
    }
   ],
   "source": [
    "today_date = datetime.today().strftime('%Y.%m.%d')\n",
    "today_date"
   ]
  },
  {
   "cell_type": "code",
   "execution_count": 11,
   "metadata": {},
   "outputs": [
    {
     "name": "stdout",
     "output_type": "stream",
     "text": [
      "<class 'pandas.core.frame.DataFrame'>\n",
      "RangeIndex: 663 entries, 0 to 662\n",
      "Data columns (total 7 columns):\n",
      " #   Column      Non-Null Count  Dtype         \n",
      "---  ------      --------------  -----         \n",
      " 0   YR          663 non-null    int64         \n",
      " 1   CRTR_YM     663 non-null    int64         \n",
      " 2   FUEL_CD     663 non-null    object        \n",
      " 3   RGN         663 non-null    object        \n",
      " 4   CTPV_NM     663 non-null    object        \n",
      " 5   VHCL_MKCNT  663 non-null    int64         \n",
      " 6   LOAD_DT     663 non-null    datetime64[ns]\n",
      "dtypes: datetime64[ns](1), int64(3), object(3)\n",
      "memory usage: 36.4+ KB\n"
     ]
    }
   ],
   "source": [
    "# about \n",
    "name = f'STD_BD_CAR_CURSTT_MOD_4RD_INS({today_date})'\n",
    "file_name = f'{name}.xlsx'\n",
    "df = pd.read_excel(os.path.join(raw3_fold, file_name))\n",
    "df.info()"
   ]
  },
  {
   "cell_type": "code",
   "execution_count": 12,
   "metadata": {},
   "outputs": [
    {
     "data": {
      "text/html": [
       "<div>\n",
       "<style scoped>\n",
       "    .dataframe tbody tr th:only-of-type {\n",
       "        vertical-align: middle;\n",
       "    }\n",
       "\n",
       "    .dataframe tbody tr th {\n",
       "        vertical-align: top;\n",
       "    }\n",
       "\n",
       "    .dataframe thead th {\n",
       "        text-align: right;\n",
       "    }\n",
       "</style>\n",
       "<table border=\"1\" class=\"dataframe\">\n",
       "  <thead>\n",
       "    <tr style=\"text-align: right;\">\n",
       "      <th></th>\n",
       "      <th>YR</th>\n",
       "      <th>CRTR_YM</th>\n",
       "      <th>FUEL_CD</th>\n",
       "      <th>RGN</th>\n",
       "      <th>CTPV_NM</th>\n",
       "      <th>VHCL_MKCNT</th>\n",
       "      <th>LOAD_DT</th>\n",
       "    </tr>\n",
       "  </thead>\n",
       "  <tbody>\n",
       "    <tr>\n",
       "      <th>658</th>\n",
       "      <td>2023</td>\n",
       "      <td>202312</td>\n",
       "      <td>LPG</td>\n",
       "      <td>비수도권</td>\n",
       "      <td>전북</td>\n",
       "      <td>94</td>\n",
       "      <td>2024-01-03</td>\n",
       "    </tr>\n",
       "    <tr>\n",
       "      <th>659</th>\n",
       "      <td>2023</td>\n",
       "      <td>202312</td>\n",
       "      <td>LPG</td>\n",
       "      <td>비수도권</td>\n",
       "      <td>전남</td>\n",
       "      <td>86</td>\n",
       "      <td>2024-01-03</td>\n",
       "    </tr>\n",
       "    <tr>\n",
       "      <th>660</th>\n",
       "      <td>2023</td>\n",
       "      <td>202312</td>\n",
       "      <td>LPG</td>\n",
       "      <td>비수도권</td>\n",
       "      <td>경북</td>\n",
       "      <td>168</td>\n",
       "      <td>2024-01-03</td>\n",
       "    </tr>\n",
       "    <tr>\n",
       "      <th>661</th>\n",
       "      <td>2023</td>\n",
       "      <td>202312</td>\n",
       "      <td>LPG</td>\n",
       "      <td>비수도권</td>\n",
       "      <td>경남</td>\n",
       "      <td>186</td>\n",
       "      <td>2024-01-03</td>\n",
       "    </tr>\n",
       "    <tr>\n",
       "      <th>662</th>\n",
       "      <td>2023</td>\n",
       "      <td>202312</td>\n",
       "      <td>LPG</td>\n",
       "      <td>비수도권</td>\n",
       "      <td>제주</td>\n",
       "      <td>36</td>\n",
       "      <td>2024-01-03</td>\n",
       "    </tr>\n",
       "  </tbody>\n",
       "</table>\n",
       "</div>"
      ],
      "text/plain": [
       "       YR  CRTR_YM FUEL_CD   RGN CTPV_NM  VHCL_MKCNT    LOAD_DT\n",
       "658  2023   202312     LPG  비수도권      전북          94 2024-01-03\n",
       "659  2023   202312     LPG  비수도권      전남          86 2024-01-03\n",
       "660  2023   202312     LPG  비수도권      경북         168 2024-01-03\n",
       "661  2023   202312     LPG  비수도권      경남         186 2024-01-03\n",
       "662  2023   202312     LPG  비수도권      제주          36 2024-01-03"
      ]
     },
     "execution_count": 12,
     "metadata": {},
     "output_type": "execute_result"
    }
   ],
   "source": [
    "df.tail()"
   ]
  },
  {
   "cell_type": "code",
   "execution_count": 13,
   "metadata": {},
   "outputs": [],
   "source": [
    "# 0.1s\n",
    "df.to_csv(os.path.join(df3_fold, f'{name}.csv'), index=False)"
   ]
  },
  {
   "cell_type": "markdown",
   "metadata": {},
   "source": [
    "## STD_BD_CAR_CURSTT_MOD2_4RD_INS"
   ]
  },
  {
   "cell_type": "code",
   "execution_count": 14,
   "metadata": {},
   "outputs": [
    {
     "data": {
      "text/plain": [
       "'2024.01.03'"
      ]
     },
     "execution_count": 14,
     "metadata": {},
     "output_type": "execute_result"
    }
   ],
   "source": [
    "today_date = datetime.today().strftime('%Y.%m.%d')\n",
    "today_date"
   ]
  },
  {
   "cell_type": "code",
   "execution_count": 15,
   "metadata": {},
   "outputs": [
    {
     "name": "stdout",
     "output_type": "stream",
     "text": [
      "<class 'pandas.core.frame.DataFrame'>\n",
      "RangeIndex: 208 entries, 0 to 207\n",
      "Data columns (total 6 columns):\n",
      " #   Column       Non-Null Count  Dtype         \n",
      "---  ------       --------------  -----         \n",
      " 0   YR           208 non-null    int64         \n",
      " 1   CRTR_YM      208 non-null    int64         \n",
      " 2   VHCTY_CD_NM  208 non-null    object        \n",
      " 3   FUEL_CD      208 non-null    object        \n",
      " 4   VHCL_MKCNT   182 non-null    float64       \n",
      " 5   LOAD_DT      208 non-null    datetime64[ns]\n",
      "dtypes: datetime64[ns](1), float64(1), int64(2), object(2)\n",
      "memory usage: 9.9+ KB\n"
     ]
    }
   ],
   "source": [
    "# about \n",
    "name = f'STD_BD_CAR_CURSTT_MOD2_4RD_INS({today_date})'\n",
    "file_name = f'{name}.xlsx'\n",
    "df = pd.read_excel(os.path.join(raw3_fold, file_name))\n",
    "df.info()"
   ]
  },
  {
   "cell_type": "code",
   "execution_count": 16,
   "metadata": {},
   "outputs": [
    {
     "data": {
      "text/html": [
       "<div>\n",
       "<style scoped>\n",
       "    .dataframe tbody tr th:only-of-type {\n",
       "        vertical-align: middle;\n",
       "    }\n",
       "\n",
       "    .dataframe tbody tr th {\n",
       "        vertical-align: top;\n",
       "    }\n",
       "\n",
       "    .dataframe thead th {\n",
       "        text-align: right;\n",
       "    }\n",
       "</style>\n",
       "<table border=\"1\" class=\"dataframe\">\n",
       "  <thead>\n",
       "    <tr style=\"text-align: right;\">\n",
       "      <th></th>\n",
       "      <th>YR</th>\n",
       "      <th>CRTR_YM</th>\n",
       "      <th>VHCTY_CD_NM</th>\n",
       "      <th>FUEL_CD</th>\n",
       "      <th>VHCL_MKCNT</th>\n",
       "      <th>LOAD_DT</th>\n",
       "    </tr>\n",
       "  </thead>\n",
       "  <tbody>\n",
       "    <tr>\n",
       "      <th>203</th>\n",
       "      <td>2023</td>\n",
       "      <td>202312</td>\n",
       "      <td>특수</td>\n",
       "      <td>LPG</td>\n",
       "      <td>3.0</td>\n",
       "      <td>2024-01-03</td>\n",
       "    </tr>\n",
       "    <tr>\n",
       "      <th>204</th>\n",
       "      <td>2023</td>\n",
       "      <td>202312</td>\n",
       "      <td>승용</td>\n",
       "      <td>기타</td>\n",
       "      <td>2.0</td>\n",
       "      <td>2024-01-03</td>\n",
       "    </tr>\n",
       "    <tr>\n",
       "      <th>205</th>\n",
       "      <td>2023</td>\n",
       "      <td>202312</td>\n",
       "      <td>승합</td>\n",
       "      <td>기타</td>\n",
       "      <td>NaN</td>\n",
       "      <td>2024-01-03</td>\n",
       "    </tr>\n",
       "    <tr>\n",
       "      <th>206</th>\n",
       "      <td>2023</td>\n",
       "      <td>202312</td>\n",
       "      <td>화물</td>\n",
       "      <td>기타</td>\n",
       "      <td>1.0</td>\n",
       "      <td>2024-01-03</td>\n",
       "    </tr>\n",
       "    <tr>\n",
       "      <th>207</th>\n",
       "      <td>2023</td>\n",
       "      <td>202312</td>\n",
       "      <td>특수</td>\n",
       "      <td>기타</td>\n",
       "      <td>NaN</td>\n",
       "      <td>2024-01-03</td>\n",
       "    </tr>\n",
       "  </tbody>\n",
       "</table>\n",
       "</div>"
      ],
      "text/plain": [
       "       YR  CRTR_YM VHCTY_CD_NM FUEL_CD  VHCL_MKCNT    LOAD_DT\n",
       "203  2023   202312          특수     LPG         3.0 2024-01-03\n",
       "204  2023   202312          승용      기타         2.0 2024-01-03\n",
       "205  2023   202312          승합      기타         NaN 2024-01-03\n",
       "206  2023   202312          화물      기타         1.0 2024-01-03\n",
       "207  2023   202312          특수      기타         NaN 2024-01-03"
      ]
     },
     "execution_count": 16,
     "metadata": {},
     "output_type": "execute_result"
    }
   ],
   "source": [
    "df.tail()"
   ]
  },
  {
   "cell_type": "code",
   "execution_count": 17,
   "metadata": {},
   "outputs": [],
   "source": [
    "# 0.1s\n",
    "df.to_csv(os.path.join(df3_fold, f'{name}.csv'), index=False)"
   ]
  },
  {
   "cell_type": "code",
   "execution_count": null,
   "metadata": {},
   "outputs": [],
   "source": []
  }
 ],
 "metadata": {
  "interpreter": {
   "hash": "569b4317022eb29baeafb3d0f1f739310808ea28ce83ca127a35db1c01070585"
  },
  "kernelspec": {
   "display_name": "Python 3.9.12 ('base')",
   "language": "python",
   "name": "python3"
  },
  "language_info": {
   "codemirror_mode": {
    "name": "ipython",
    "version": 3
   },
   "file_extension": ".py",
   "mimetype": "text/x-python",
   "name": "python",
   "nbconvert_exporter": "python",
   "pygments_lexer": "ipython3",
   "version": "3.9.12"
  },
  "orig_nbformat": 4
 },
 "nbformat": 4,
 "nbformat_minor": 2
}
