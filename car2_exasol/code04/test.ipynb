{
 "cells": [
  {
   "cell_type": "markdown",
   "metadata": {},
   "source": [
    "# Library"
   ]
  },
  {
   "cell_type": "code",
   "execution_count": 1,
   "metadata": {},
   "outputs": [],
   "source": [
    "# Library\n",
    "import pandas as pd\n",
    "import numpy as np\n",
    "import pyexasol"
   ]
  },
  {
   "cell_type": "code",
   "execution_count": 2,
   "metadata": {},
   "outputs": [],
   "source": [
    "import os"
   ]
  },
  {
   "cell_type": "code",
   "execution_count": 3,
   "metadata": {},
   "outputs": [],
   "source": [
    "df1_fold = 'D:/data/big2/BD1/df'\n",
    "raw1_fold = 'D:/data/big2/BD1/raw'"
   ]
  },
  {
   "cell_type": "code",
   "execution_count": 4,
   "metadata": {},
   "outputs": [],
   "source": [
    "# 소수점 옵션\n",
    "pd.options.display.float_format = '{:.2f}'.format\n",
    "# pd.reset_option('display.float_format')"
   ]
  },
  {
   "cell_type": "markdown",
   "metadata": {},
   "source": [
    "# Server"
   ]
  },
  {
   "cell_type": "code",
   "execution_count": 2,
   "metadata": {},
   "outputs": [],
   "source": [
    "# # insider db\n",
    "# wd = pyexasol.connect(dsn='172.29.135.35/F99FAB2444F86051A9A467F6313FAAB48AF7C4760663430958E3B89A9DC53361:8563', user='sys', password='exasol', compression=True, schema='VSYSD')\n",
    "# we = pyexasol.connect(dsn='172.29.135.35/F99FAB2444F86051A9A467F6313FAAB48AF7C4760663430958E3B89A9DC53361:8563', user='sys', password='exasol', compression=True, schema='vsyse')"
   ]
  },
  {
   "cell_type": "code",
   "execution_count": 8,
   "metadata": {},
   "outputs": [],
   "source": [
    "# exasol db\n",
    "ws = pyexasol.connect(dsn='dev.openankus.org:8563', user='sys', password='djslzja', compression=True, schema='VSYS')\n",
    "wd = pyexasol.connect(dsn='dev.openankus.org:8563', user='sys', password='djslzja', compression=True, schema='VSYSD')\n",
    "we = pyexasol.connect(dsn='dev.openankus.org:8563', user='sys', password='djslzja', compression=True, schema='VSYSE')"
   ]
  },
  {
   "cell_type": "markdown",
   "metadata": {},
   "source": [
    "# Data"
   ]
  },
  {
   "cell_type": "code",
   "execution_count": 3,
   "metadata": {},
   "outputs": [
    {
     "name": "stdout",
     "output_type": "stream",
     "text": [
      "<class 'pandas.core.frame.DataFrame'>\n",
      "RangeIndex: 1125999 entries, 0 to 1125998\n",
      "Data columns (total 16 columns):\n",
      " #   Column               Non-Null Count    Dtype  \n",
      "---  ------               --------------    -----  \n",
      " 0   VIN                  1125999 non-null  object \n",
      " 1   VHRNO                1125999 non-null  object \n",
      " 2   STDG_CD              1125999 non-null  int64  \n",
      " 3   CTPV_NM              1125999 non-null  object \n",
      " 4   SGG_NM               1125980 non-null  object \n",
      " 5   YRIDNW               1125999 non-null  int64  \n",
      " 6   PURPS_CD2            1125999 non-null  object \n",
      " 7   VHCTY_CD             1125999 non-null  object \n",
      " 8   VHCTY_TY             1125999 non-null  object \n",
      " 9   RDCDVC               144534 non-null   object \n",
      " 10  PRIO_GRD             1125999 non-null  int64  \n",
      " 11  SELCT_PNT            666281 non-null   float64\n",
      " 12  NOLOD_SMO_MEVLU1     769835 non-null   float64\n",
      " 13  DY_AVRG_DRVNG_DSTNC  817694 non-null   float64\n",
      " 14  RCNT_INSP_ELPSD_WHL  817694 non-null   float64\n",
      " 15  RUN_LMT_NOCS         1125999 non-null  float64\n",
      "dtypes: float64(5), int64(3), object(8)\n",
      "memory usage: 137.5+ MB\n"
     ]
    }
   ],
   "source": [
    "# 9.6s\n",
    "df = we.export_to_pandas(\"SELECT * from STD_BD_GRD5_LEM_PRIO_ORD_SELCT_CURSTT;\")\n",
    "df.info()"
   ]
  },
  {
   "cell_type": "code",
   "execution_count": 5,
   "metadata": {},
   "outputs": [
    {
     "data": {
      "text/html": [
       "<div>\n",
       "<style scoped>\n",
       "    .dataframe tbody tr th:only-of-type {\n",
       "        vertical-align: middle;\n",
       "    }\n",
       "\n",
       "    .dataframe tbody tr th {\n",
       "        vertical-align: top;\n",
       "    }\n",
       "\n",
       "    .dataframe thead th {\n",
       "        text-align: right;\n",
       "    }\n",
       "</style>\n",
       "<table border=\"1\" class=\"dataframe\">\n",
       "  <thead>\n",
       "    <tr style=\"text-align: right;\">\n",
       "      <th></th>\n",
       "      <th>VIN</th>\n",
       "      <th>VHRNO</th>\n",
       "      <th>STDG_CD</th>\n",
       "      <th>CTPV_NM</th>\n",
       "      <th>SGG_NM</th>\n",
       "      <th>YRIDNW</th>\n",
       "      <th>PURPS_CD2</th>\n",
       "      <th>VHCTY_CD</th>\n",
       "      <th>VHCTY_TY</th>\n",
       "      <th>RDCDVC</th>\n",
       "      <th>PRIO_GRD</th>\n",
       "      <th>SELCT_PNT</th>\n",
       "      <th>NOLOD_SMO_MEVLU1</th>\n",
       "      <th>DY_AVRG_DRVNG_DSTNC</th>\n",
       "      <th>RCNT_INSP_ELPSD_WHL</th>\n",
       "      <th>RUN_LMT_NOCS</th>\n",
       "    </tr>\n",
       "  </thead>\n",
       "  <tbody>\n",
       "    <tr>\n",
       "      <th>459720</th>\n",
       "      <td>KMYKP17CPYU414954</td>\n",
       "      <td>05루9403</td>\n",
       "      <td>2871025022</td>\n",
       "      <td>인천광역시</td>\n",
       "      <td>강화군</td>\n",
       "      <td>2000</td>\n",
       "      <td>자가용</td>\n",
       "      <td>승합</td>\n",
       "      <td>중형</td>\n",
       "      <td>NaN</td>\n",
       "      <td>3</td>\n",
       "      <td>25429.0</td>\n",
       "      <td>21.0</td>\n",
       "      <td>102073.363010</td>\n",
       "      <td>263.0</td>\n",
       "      <td>5.0</td>\n",
       "    </tr>\n",
       "    <tr>\n",
       "      <th>459721</th>\n",
       "      <td>KMFLA18EP7C022656</td>\n",
       "      <td>충남94바1614</td>\n",
       "      <td>4427010100</td>\n",
       "      <td>충청남도</td>\n",
       "      <td>당진시</td>\n",
       "      <td>2007</td>\n",
       "      <td>영업용</td>\n",
       "      <td>화물</td>\n",
       "      <td>대형</td>\n",
       "      <td>NaN</td>\n",
       "      <td>3</td>\n",
       "      <td>572.0</td>\n",
       "      <td>5.0</td>\n",
       "      <td>1185.562304</td>\n",
       "      <td>1065.0</td>\n",
       "      <td>0.0</td>\n",
       "    </tr>\n",
       "    <tr>\n",
       "      <th>459722</th>\n",
       "      <td>410234338117</td>\n",
       "      <td>90더7549</td>\n",
       "      <td>4137010300</td>\n",
       "      <td>경기도</td>\n",
       "      <td>오산시</td>\n",
       "      <td>2002</td>\n",
       "      <td>자가용</td>\n",
       "      <td>화물</td>\n",
       "      <td>대형</td>\n",
       "      <td>DPF</td>\n",
       "      <td>3</td>\n",
       "      <td>561.0</td>\n",
       "      <td>0.0</td>\n",
       "      <td>1278.551677</td>\n",
       "      <td>939.0</td>\n",
       "      <td>0.0</td>\n",
       "    </tr>\n",
       "    <tr>\n",
       "      <th>459723</th>\n",
       "      <td>KN3HDP3361K740793</td>\n",
       "      <td>86두9741</td>\n",
       "      <td>4215033024</td>\n",
       "      <td>강원도</td>\n",
       "      <td>강릉시</td>\n",
       "      <td>2001</td>\n",
       "      <td>자가용</td>\n",
       "      <td>화물</td>\n",
       "      <td>중형</td>\n",
       "      <td>NaN</td>\n",
       "      <td>3</td>\n",
       "      <td>516.0</td>\n",
       "      <td>999.9</td>\n",
       "      <td>50.910037</td>\n",
       "      <td>1023.0</td>\n",
       "      <td>0.0</td>\n",
       "    </tr>\n",
       "    <tr>\n",
       "      <th>459724</th>\n",
       "      <td>KMFGA17PP7C067736</td>\n",
       "      <td>서울85바5177</td>\n",
       "      <td>1150010500</td>\n",
       "      <td>서울특별시</td>\n",
       "      <td>강서구</td>\n",
       "      <td>2007</td>\n",
       "      <td>영업용</td>\n",
       "      <td>화물</td>\n",
       "      <td>중형</td>\n",
       "      <td>NaN</td>\n",
       "      <td>3</td>\n",
       "      <td>503.0</td>\n",
       "      <td>12.0</td>\n",
       "      <td>1629.004208</td>\n",
       "      <td>368.0</td>\n",
       "      <td>0.0</td>\n",
       "    </tr>\n",
       "    <tr>\n",
       "      <th>459725</th>\n",
       "      <td>KMFLA18EP7C020816</td>\n",
       "      <td>경기89아3220</td>\n",
       "      <td>4141010400</td>\n",
       "      <td>경기도</td>\n",
       "      <td>군포시</td>\n",
       "      <td>2007</td>\n",
       "      <td>영업용</td>\n",
       "      <td>화물</td>\n",
       "      <td>대형</td>\n",
       "      <td>DPF</td>\n",
       "      <td>3</td>\n",
       "      <td>491.0</td>\n",
       "      <td>1.0</td>\n",
       "      <td>1498.629521</td>\n",
       "      <td>457.0</td>\n",
       "      <td>0.0</td>\n",
       "    </tr>\n",
       "    <tr>\n",
       "      <th>459726</th>\n",
       "      <td>KMHSC81VP1U107601</td>\n",
       "      <td>52어8475</td>\n",
       "      <td>4272031029</td>\n",
       "      <td>강원도</td>\n",
       "      <td>홍천군</td>\n",
       "      <td>2001</td>\n",
       "      <td>자가용</td>\n",
       "      <td>승용</td>\n",
       "      <td>중형</td>\n",
       "      <td>NaN</td>\n",
       "      <td>3</td>\n",
       "      <td>437.0</td>\n",
       "      <td>999.9</td>\n",
       "      <td>44.664576</td>\n",
       "      <td>723.0</td>\n",
       "      <td>1.0</td>\n",
       "    </tr>\n",
       "    <tr>\n",
       "      <th>459727</th>\n",
       "      <td>KL3C5CHF17K001032</td>\n",
       "      <td>전북86사9320</td>\n",
       "      <td>4571025326</td>\n",
       "      <td>전라북도</td>\n",
       "      <td>완주군</td>\n",
       "      <td>2007</td>\n",
       "      <td>영업용</td>\n",
       "      <td>화물</td>\n",
       "      <td>대형</td>\n",
       "      <td>NaN</td>\n",
       "      <td>3</td>\n",
       "      <td>426.0</td>\n",
       "      <td>8.0</td>\n",
       "      <td>1416.968850</td>\n",
       "      <td>273.0</td>\n",
       "      <td>6.0</td>\n",
       "    </tr>\n",
       "    <tr>\n",
       "      <th>459728</th>\n",
       "      <td>KMFLA19AP2C029792</td>\n",
       "      <td>경기90아2687</td>\n",
       "      <td>4163011600</td>\n",
       "      <td>경기도</td>\n",
       "      <td>양주시</td>\n",
       "      <td>2002</td>\n",
       "      <td>영업용</td>\n",
       "      <td>화물</td>\n",
       "      <td>중형</td>\n",
       "      <td>DPF</td>\n",
       "      <td>3</td>\n",
       "      <td>418.0</td>\n",
       "      <td>26.0</td>\n",
       "      <td>996.542561</td>\n",
       "      <td>631.0</td>\n",
       "      <td>0.0</td>\n",
       "    </tr>\n",
       "    <tr>\n",
       "      <th>459729</th>\n",
       "      <td>KMFZCS7JP7U277255</td>\n",
       "      <td>91고7943</td>\n",
       "      <td>4139011800</td>\n",
       "      <td>경기도</td>\n",
       "      <td>시흥시</td>\n",
       "      <td>2007</td>\n",
       "      <td>자가용</td>\n",
       "      <td>화물</td>\n",
       "      <td>소형</td>\n",
       "      <td>NaN</td>\n",
       "      <td>3</td>\n",
       "      <td>394.0</td>\n",
       "      <td>7.0</td>\n",
       "      <td>705.200585</td>\n",
       "      <td>835.0</td>\n",
       "      <td>1.0</td>\n",
       "    </tr>\n",
       "  </tbody>\n",
       "</table>\n",
       "</div>"
      ],
      "text/plain": [
       "                      VIN      VHRNO     STDG_CD CTPV_NM SGG_NM  YRIDNW   \n",
       "459720  KMYKP17CPYU414954    05루9403  2871025022   인천광역시    강화군    2000  \\\n",
       "459721  KMFLA18EP7C022656  충남94바1614  4427010100    충청남도    당진시    2007   \n",
       "459722       410234338117    90더7549  4137010300     경기도    오산시    2002   \n",
       "459723  KN3HDP3361K740793    86두9741  4215033024     강원도    강릉시    2001   \n",
       "459724  KMFGA17PP7C067736  서울85바5177  1150010500   서울특별시    강서구    2007   \n",
       "459725  KMFLA18EP7C020816  경기89아3220  4141010400     경기도    군포시    2007   \n",
       "459726  KMHSC81VP1U107601    52어8475  4272031029     강원도    홍천군    2001   \n",
       "459727  KL3C5CHF17K001032  전북86사9320  4571025326    전라북도    완주군    2007   \n",
       "459728  KMFLA19AP2C029792  경기90아2687  4163011600     경기도    양주시    2002   \n",
       "459729  KMFZCS7JP7U277255    91고7943  4139011800     경기도    시흥시    2007   \n",
       "\n",
       "       PURPS_CD2 VHCTY_CD VHCTY_TY RDCDVC  PRIO_GRD  SELCT_PNT   \n",
       "459720       자가용       승합       중형    NaN         3    25429.0  \\\n",
       "459721       영업용       화물       대형    NaN         3      572.0   \n",
       "459722       자가용       화물       대형    DPF         3      561.0   \n",
       "459723       자가용       화물       중형    NaN         3      516.0   \n",
       "459724       영업용       화물       중형    NaN         3      503.0   \n",
       "459725       영업용       화물       대형    DPF         3      491.0   \n",
       "459726       자가용       승용       중형    NaN         3      437.0   \n",
       "459727       영업용       화물       대형    NaN         3      426.0   \n",
       "459728       영업용       화물       중형    DPF         3      418.0   \n",
       "459729       자가용       화물       소형    NaN         3      394.0   \n",
       "\n",
       "        NOLOD_SMO_MEVLU1  DY_AVRG_DRVNG_DSTNC  RCNT_INSP_ELPSD_WHL   \n",
       "459720              21.0        102073.363010                263.0  \\\n",
       "459721               5.0          1185.562304               1065.0   \n",
       "459722               0.0          1278.551677                939.0   \n",
       "459723             999.9            50.910037               1023.0   \n",
       "459724              12.0          1629.004208                368.0   \n",
       "459725               1.0          1498.629521                457.0   \n",
       "459726             999.9            44.664576                723.0   \n",
       "459727               8.0          1416.968850                273.0   \n",
       "459728              26.0           996.542561                631.0   \n",
       "459729               7.0           705.200585                835.0   \n",
       "\n",
       "        RUN_LMT_NOCS  \n",
       "459720           5.0  \n",
       "459721           0.0  \n",
       "459722           0.0  \n",
       "459723           0.0  \n",
       "459724           0.0  \n",
       "459725           0.0  \n",
       "459726           1.0  \n",
       "459727           6.0  \n",
       "459728           0.0  \n",
       "459729           1.0  "
      ]
     },
     "execution_count": 5,
     "metadata": {},
     "output_type": "execute_result"
    }
   ],
   "source": [
    "df.sort_values('SELCT_PNT', ascending=False).head(10)"
   ]
  },
  {
   "cell_type": "markdown",
   "metadata": {},
   "source": [
    "## STD_BD_GRD4_ELPDSRC_CURSTT"
   ]
  },
  {
   "cell_type": "code",
   "execution_count": 6,
   "metadata": {},
   "outputs": [
    {
     "name": "stdout",
     "output_type": "stream",
     "text": [
      "<class 'pandas.core.frame.DataFrame'>\n",
      "RangeIndex: 1156240 entries, 0 to 1156239\n",
      "Data columns (total 12 columns):\n",
      " #   Column               Non-Null Count    Dtype  \n",
      "---  ------               --------------    -----  \n",
      " 0   CRTR_YM              1156240 non-null  float64\n",
      " 1   VIN                  1156240 non-null  object \n",
      " 2   STDG_CD              1156240 non-null  int64  \n",
      " 3   VHCTY_CD             1156240 non-null  object \n",
      " 4   PURPS_CD2            1156240 non-null  object \n",
      " 5   FUEL_CD              1156240 non-null  object \n",
      " 6   VHCTY_TY             1156240 non-null  object \n",
      " 7   CTPV                 1156240 non-null  object \n",
      " 8   SGG                  1156240 non-null  object \n",
      " 9   ELPDSRC_STTS_CD      6696 non-null     object \n",
      " 10  ELPDSRC_LST_APRV_YN  6696 non-null     object \n",
      " 11  LOAD_DT              1156240 non-null  int64  \n",
      "dtypes: float64(1), int64(2), object(9)\n",
      "memory usage: 105.9+ MB\n"
     ]
    }
   ],
   "source": [
    "# 1.3s\n",
    "df = pd.read_csv(os.path.join(df1_fold, 'STD_BD_GRD4_ELPDSRC_CURSTT.csv'))\n",
    "df.info()"
   ]
  },
  {
   "cell_type": "code",
   "execution_count": 7,
   "metadata": {},
   "outputs": [
    {
     "data": {
      "text/plain": [
       "array([nan, 'Y'], dtype=object)"
      ]
     },
     "execution_count": 7,
     "metadata": {},
     "output_type": "execute_result"
    }
   ],
   "source": [
    "df['ELPDSRC_LST_APRV_YN'].unique()"
   ]
  },
  {
   "cell_type": "code",
   "execution_count": 10,
   "metadata": {},
   "outputs": [
    {
     "name": "stderr",
     "output_type": "stream",
     "text": [
      "C:\\Users\\kbjung\\AppData\\Roaming\\Python\\Python39\\site-packages\\pyexasol\\callback.py:42: DtypeWarning: Columns (2) have mixed types. Specify dtype option on import or set low_memory=False.\n",
      "  return pandas.read_csv(pipe, skip_blank_lines=False, **kwargs)\n"
     ]
    },
    {
     "name": "stdout",
     "output_type": "stream",
     "text": [
      "<class 'pandas.core.frame.DataFrame'>\n",
      "RangeIndex: 2378648 entries, 0 to 2378647\n",
      "Data columns (total 11 columns):\n",
      " #   Column                Dtype  \n",
      "---  ------                -----  \n",
      " 0   CRTR_YM               float64\n",
      " 1   VIN                   object \n",
      " 2   MANG_MNG_NO           object \n",
      " 3   CTPV                  object \n",
      " 4   SGG                   object \n",
      " 5   VHCTY_CD              object \n",
      " 6   VHCTY_TY              object \n",
      " 7   PURPS_CD2             object \n",
      " 8   FUEL_CD               object \n",
      " 9   ELPDSRC_STTS_CD       object \n",
      " 10  ELPDSRC_LAST_APRV_YN  object \n",
      "dtypes: float64(1), object(10)\n",
      "memory usage: 199.6+ MB\n"
     ]
    }
   ],
   "source": [
    "# 1.3s\n",
    "df = we.export_to_pandas(\"SELECT * FROM STD_BD_GRD4_ELPDSRC_CURSTT;\")\n",
    "df.info()"
   ]
  },
  {
   "cell_type": "code",
   "execution_count": 12,
   "metadata": {},
   "outputs": [
    {
     "data": {
      "text/plain": [
       "ELPDSRC_LAST_APRV_YN\n",
       "Y    366244\n",
       "Name: count, dtype: int64"
      ]
     },
     "execution_count": 12,
     "metadata": {},
     "output_type": "execute_result"
    }
   ],
   "source": [
    "df['ELPDSRC_LAST_APRV_YN'].value_counts()"
   ]
  },
  {
   "cell_type": "markdown",
   "metadata": {},
   "source": [
    "# STD_BJCD_INFO(법정동코드)"
   ]
  },
  {
   "cell_type": "code",
   "execution_count": 4,
   "metadata": {},
   "outputs": [
    {
     "name": "stdout",
     "output_type": "stream",
     "text": [
      "<class 'pandas.core.frame.DataFrame'>\n",
      "RangeIndex: 47916 entries, 0 to 47915\n",
      "Data columns (total 5 columns):\n",
      " #   Column        Non-Null Count  Dtype \n",
      "---  ------        --------------  ----- \n",
      " 0   STDG_CD       47916 non-null  int64 \n",
      " 1   STDG_CTPV_CD  47916 non-null  int64 \n",
      " 2   STDG_SGG_CD   47916 non-null  int64 \n",
      " 3   STDG_CTPV_NM  47916 non-null  object\n",
      " 4   STDG_SGG_NM   47892 non-null  object\n",
      "dtypes: int64(3), object(2)\n",
      "memory usage: 1.8+ MB\n"
     ]
    }
   ],
   "source": [
    "# 1.3s\n",
    "code = wd.export_to_pandas(\"SELECT STDG_CD, STDG_CTPV_CD, STDG_SGG_CD, STDG_CTPV_NM, STDG_SGG_NM FROM STD_BJCD_INFO;\")\n",
    "code.info()"
   ]
  },
  {
   "cell_type": "code",
   "execution_count": 5,
   "metadata": {},
   "outputs": [
    {
     "data": {
      "text/plain": [
       "Index(['STDG_CD', 'STDG_CTPV_CD', 'STDG_SGG_CD', 'STDG_CTPV_NM',\n",
       "       'STDG_SGG_NM'],\n",
       "      dtype='object')"
      ]
     },
     "execution_count": 5,
     "metadata": {},
     "output_type": "execute_result"
    }
   ],
   "source": [
    "code.columns"
   ]
  },
  {
   "cell_type": "code",
   "execution_count": 6,
   "metadata": {},
   "outputs": [],
   "source": [
    "code_ch_col = {\n",
    "    'STDG_CD':'법정동코드', \n",
    "    'STDG_CTPV_NM':'시도', \n",
    "    'STDG_SGG_NM':'시군구', \n",
    "    'STDG_CTPV_CD':'시도코드', \n",
    "    'STDG_SGG_CD':'시군구코드',\n",
    "}"
   ]
  },
  {
   "cell_type": "code",
   "execution_count": 7,
   "metadata": {},
   "outputs": [
    {
     "data": {
      "text/plain": [
       "Index(['법정동코드', '시도코드', '시군구코드', '시도', '시군구'], dtype='object')"
      ]
     },
     "execution_count": 7,
     "metadata": {},
     "output_type": "execute_result"
    }
   ],
   "source": [
    "coder = code.rename(columns=code_ch_col)\n",
    "coder.columns"
   ]
  },
  {
   "cell_type": "code",
   "execution_count": 11,
   "metadata": {},
   "outputs": [
    {
     "data": {
      "text/html": [
       "<div>\n",
       "<style scoped>\n",
       "    .dataframe tbody tr th:only-of-type {\n",
       "        vertical-align: middle;\n",
       "    }\n",
       "\n",
       "    .dataframe tbody tr th {\n",
       "        vertical-align: top;\n",
       "    }\n",
       "\n",
       "    .dataframe thead th {\n",
       "        text-align: right;\n",
       "    }\n",
       "</style>\n",
       "<table border=\"1\" class=\"dataframe\">\n",
       "  <thead>\n",
       "    <tr style=\"text-align: right;\">\n",
       "      <th></th>\n",
       "      <th>법정동코드</th>\n",
       "      <th>시도코드</th>\n",
       "      <th>시군구코드</th>\n",
       "      <th>시도</th>\n",
       "      <th>시군구</th>\n",
       "    </tr>\n",
       "  </thead>\n",
       "  <tbody>\n",
       "    <tr>\n",
       "      <th>43594</th>\n",
       "      <td>5183035042</td>\n",
       "      <td>51</td>\n",
       "      <td>830</td>\n",
       "      <td>강원특별자치도</td>\n",
       "      <td>양양군</td>\n",
       "    </tr>\n",
       "    <tr>\n",
       "      <th>46444</th>\n",
       "      <td>5100000000</td>\n",
       "      <td>51</td>\n",
       "      <td>0</td>\n",
       "      <td>강원특별자치도</td>\n",
       "      <td>NaN</td>\n",
       "    </tr>\n",
       "    <tr>\n",
       "      <th>46445</th>\n",
       "      <td>5111000000</td>\n",
       "      <td>51</td>\n",
       "      <td>110</td>\n",
       "      <td>강원특별자치도</td>\n",
       "      <td>춘천시</td>\n",
       "    </tr>\n",
       "    <tr>\n",
       "      <th>46446</th>\n",
       "      <td>5111010100</td>\n",
       "      <td>51</td>\n",
       "      <td>110</td>\n",
       "      <td>강원특별자치도</td>\n",
       "      <td>춘천시</td>\n",
       "    </tr>\n",
       "    <tr>\n",
       "      <th>46447</th>\n",
       "      <td>5111010200</td>\n",
       "      <td>51</td>\n",
       "      <td>110</td>\n",
       "      <td>강원특별자치도</td>\n",
       "      <td>춘천시</td>\n",
       "    </tr>\n",
       "    <tr>\n",
       "      <th>...</th>\n",
       "      <td>...</td>\n",
       "      <td>...</td>\n",
       "      <td>...</td>\n",
       "      <td>...</td>\n",
       "      <td>...</td>\n",
       "    </tr>\n",
       "    <tr>\n",
       "      <th>47911</th>\n",
       "      <td>5183035037</td>\n",
       "      <td>51</td>\n",
       "      <td>830</td>\n",
       "      <td>강원특별자치도</td>\n",
       "      <td>양양군</td>\n",
       "    </tr>\n",
       "    <tr>\n",
       "      <th>47912</th>\n",
       "      <td>5183035038</td>\n",
       "      <td>51</td>\n",
       "      <td>830</td>\n",
       "      <td>강원특별자치도</td>\n",
       "      <td>양양군</td>\n",
       "    </tr>\n",
       "    <tr>\n",
       "      <th>47913</th>\n",
       "      <td>5183035039</td>\n",
       "      <td>51</td>\n",
       "      <td>830</td>\n",
       "      <td>강원특별자치도</td>\n",
       "      <td>양양군</td>\n",
       "    </tr>\n",
       "    <tr>\n",
       "      <th>47914</th>\n",
       "      <td>5183035040</td>\n",
       "      <td>51</td>\n",
       "      <td>830</td>\n",
       "      <td>강원특별자치도</td>\n",
       "      <td>양양군</td>\n",
       "    </tr>\n",
       "    <tr>\n",
       "      <th>47915</th>\n",
       "      <td>5183035041</td>\n",
       "      <td>51</td>\n",
       "      <td>830</td>\n",
       "      <td>강원특별자치도</td>\n",
       "      <td>양양군</td>\n",
       "    </tr>\n",
       "  </tbody>\n",
       "</table>\n",
       "<p>1473 rows × 5 columns</p>\n",
       "</div>"
      ],
      "text/plain": [
       "            법정동코드  시도코드  시군구코드       시도  시군구\n",
       "43594  5183035042    51    830  강원특별자치도  양양군\n",
       "46444  5100000000    51      0  강원특별자치도  NaN\n",
       "46445  5111000000    51    110  강원특별자치도  춘천시\n",
       "46446  5111010100    51    110  강원특별자치도  춘천시\n",
       "46447  5111010200    51    110  강원특별자치도  춘천시\n",
       "...           ...   ...    ...      ...  ...\n",
       "47911  5183035037    51    830  강원특별자치도  양양군\n",
       "47912  5183035038    51    830  강원특별자치도  양양군\n",
       "47913  5183035039    51    830  강원특별자치도  양양군\n",
       "47914  5183035040    51    830  강원특별자치도  양양군\n",
       "47915  5183035041    51    830  강원특별자치도  양양군\n",
       "\n",
       "[1473 rows x 5 columns]"
      ]
     },
     "execution_count": 11,
     "metadata": {},
     "output_type": "execute_result"
    }
   ],
   "source": [
    "coder[coder['시도'].str.contains('강원특별') == True]"
   ]
  },
  {
   "cell_type": "markdown",
   "metadata": {},
   "source": [
    "## STD_BD_GRD4_RESULT"
   ]
  },
  {
   "cell_type": "code",
   "execution_count": 7,
   "metadata": {},
   "outputs": [
    {
     "name": "stderr",
     "output_type": "stream",
     "text": [
      "C:\\Users\\kbjung\\AppData\\Local\\Temp\\ipykernel_412\\4284546125.py:2: DtypeWarning: Columns (11) have mixed types. Specify dtype option on import or set low_memory=False.\n",
      "  df = pd.read_csv(os.path.join(df1_fold, 'STD_BD_GRD4_MLSFC_RSLT.csv'))\n"
     ]
    },
    {
     "name": "stdout",
     "output_type": "stream",
     "text": [
      "<class 'pandas.core.frame.DataFrame'>\n",
      "RangeIndex: 1515737 entries, 0 to 1515736\n",
      "Data columns (total 14 columns):\n",
      " #   Column        Non-Null Count    Dtype \n",
      "---  ------        --------------    ----- \n",
      " 0   LOAD_DT       1515737 non-null  int64 \n",
      " 1   VIN           1515737 non-null  object\n",
      " 2   MANG_MNG_NO   1515737 non-null  object\n",
      " 3   VHCTY_CD      1515735 non-null  object\n",
      " 4   PURPS_CD2     1515737 non-null  object\n",
      " 5   YRIDNW        1515737 non-null  int64 \n",
      " 6   VHCTY_TY      1515737 non-null  object\n",
      " 7   FUEL_CD       1515666 non-null  object\n",
      " 8   STDG_CD       1515737 non-null  int64 \n",
      " 9   CTPV_NM       1515737 non-null  object\n",
      " 10  SGG_NM        1515732 non-null  object\n",
      " 11  DPF_MNTNG_YN  1114160 non-null  object\n",
      " 12  GRD4_MLSFC    1515737 non-null  object\n",
      " 13  STDG_CD_MOD   1515737 non-null  int64 \n",
      "dtypes: int64(4), object(10)\n",
      "memory usage: 161.9+ MB\n"
     ]
    }
   ],
   "source": [
    "# 1.3s\n",
    "df = pd.read_csv(os.path.join(df1_fold, 'STD_BD_GRD4_MLSFC_RSLT.csv'))\n",
    "df.info()"
   ]
  },
  {
   "cell_type": "code",
   "execution_count": 11,
   "metadata": {},
   "outputs": [
    {
     "data": {
      "text/plain": [
       "count   1515737.00\n",
       "mean       2005.81\n",
       "std           6.85\n",
       "min        1901.00\n",
       "25%        2006.00\n",
       "50%        2009.00\n",
       "75%        2010.00\n",
       "max        2020.00\n",
       "Name: YRIDNW, dtype: float64"
      ]
     },
     "execution_count": 11,
     "metadata": {},
     "output_type": "execute_result"
    }
   ],
   "source": [
    "df['YRIDNW'].describe()"
   ]
  },
  {
   "cell_type": "code",
   "execution_count": 12,
   "metadata": {},
   "outputs": [
    {
     "data": {
      "text/html": [
       "<div>\n",
       "<style scoped>\n",
       "    .dataframe tbody tr th:only-of-type {\n",
       "        vertical-align: middle;\n",
       "    }\n",
       "\n",
       "    .dataframe tbody tr th {\n",
       "        vertical-align: top;\n",
       "    }\n",
       "\n",
       "    .dataframe thead th {\n",
       "        text-align: right;\n",
       "    }\n",
       "</style>\n",
       "<table border=\"1\" class=\"dataframe\">\n",
       "  <thead>\n",
       "    <tr style=\"text-align: right;\">\n",
       "      <th></th>\n",
       "      <th>LOAD_DT</th>\n",
       "      <th>VIN</th>\n",
       "      <th>MANG_MNG_NO</th>\n",
       "      <th>VHCTY_CD</th>\n",
       "      <th>PURPS_CD2</th>\n",
       "      <th>YRIDNW</th>\n",
       "      <th>VHCTY_TY</th>\n",
       "      <th>FUEL_CD</th>\n",
       "      <th>STDG_CD</th>\n",
       "      <th>CTPV_NM</th>\n",
       "      <th>SGG_NM</th>\n",
       "      <th>DPF_MNTNG_YN</th>\n",
       "      <th>GRD4_MLSFC</th>\n",
       "      <th>STDG_CD_MOD</th>\n",
       "    </tr>\n",
       "  </thead>\n",
       "  <tbody>\n",
       "    <tr>\n",
       "      <th>1420990</th>\n",
       "      <td>20230715</td>\n",
       "      <td>119111200127</td>\n",
       "      <td>20019500040000</td>\n",
       "      <td>승용</td>\n",
       "      <td>개인용</td>\n",
       "      <td>1901</td>\n",
       "      <td>중형</td>\n",
       "      <td>휘발유</td>\n",
       "      <td>4711133025</td>\n",
       "      <td>경상북도</td>\n",
       "      <td>포항시</td>\n",
       "      <td>NaN</td>\n",
       "      <td>B</td>\n",
       "      <td>4711100000</td>\n",
       "    </tr>\n",
       "  </tbody>\n",
       "</table>\n",
       "</div>"
      ],
      "text/plain": [
       "          LOAD_DT           VIN     MANG_MNG_NO VHCTY_CD PURPS_CD2  YRIDNW   \n",
       "1420990  20230715  119111200127  20019500040000       승용       개인용    1901  \\\n",
       "\n",
       "        VHCTY_TY FUEL_CD     STDG_CD CTPV_NM SGG_NM DPF_MNTNG_YN GRD4_MLSFC   \n",
       "1420990       중형     휘발유  4711133025    경상북도    포항시          NaN          B  \\\n",
       "\n",
       "         STDG_CD_MOD  \n",
       "1420990   4711100000  "
      ]
     },
     "execution_count": 12,
     "metadata": {},
     "output_type": "execute_result"
    }
   ],
   "source": [
    "df.loc[df['YRIDNW'] == 1901]"
   ]
  },
  {
   "cell_type": "code",
   "execution_count": 24,
   "metadata": {},
   "outputs": [
    {
     "data": {
      "text/html": [
       "<div>\n",
       "<style scoped>\n",
       "    .dataframe tbody tr th:only-of-type {\n",
       "        vertical-align: middle;\n",
       "    }\n",
       "\n",
       "    .dataframe tbody tr th {\n",
       "        vertical-align: top;\n",
       "    }\n",
       "\n",
       "    .dataframe thead th {\n",
       "        text-align: right;\n",
       "    }\n",
       "</style>\n",
       "<table border=\"1\" class=\"dataframe\">\n",
       "  <thead>\n",
       "    <tr style=\"text-align: right;\">\n",
       "      <th></th>\n",
       "      <th>LOAD_DT</th>\n",
       "      <th>VIN</th>\n",
       "      <th>MANG_MNG_NO</th>\n",
       "      <th>VHCTY_CD</th>\n",
       "      <th>PURPS_CD2</th>\n",
       "      <th>YRIDNW</th>\n",
       "      <th>VHCTY_TY</th>\n",
       "      <th>FUEL_CD</th>\n",
       "      <th>STDG_CD</th>\n",
       "      <th>CTPV_NM</th>\n",
       "      <th>SGG_NM</th>\n",
       "      <th>DPF_MNTNG_YN</th>\n",
       "      <th>GRD4_MLSFC</th>\n",
       "      <th>STDG_CD_MOD</th>\n",
       "    </tr>\n",
       "  </thead>\n",
       "  <tbody>\n",
       "    <tr>\n",
       "      <th>1515735</th>\n",
       "      <td>20230715</td>\n",
       "      <td>SL68T032460</td>\n",
       "      <td>10017500140000</td>\n",
       "      <td>승용</td>\n",
       "      <td>개인용</td>\n",
       "      <td>1968</td>\n",
       "      <td>대형</td>\n",
       "      <td>휘발유</td>\n",
       "      <td>1165010100</td>\n",
       "      <td>서울특별시</td>\n",
       "      <td>서초구</td>\n",
       "      <td>NaN</td>\n",
       "      <td>B</td>\n",
       "      <td>1165000000</td>\n",
       "    </tr>\n",
       "  </tbody>\n",
       "</table>\n",
       "</div>"
      ],
      "text/plain": [
       "          LOAD_DT          VIN     MANG_MNG_NO VHCTY_CD PURPS_CD2  YRIDNW   \n",
       "1515735  20230715  SL68T032460  10017500140000       승용       개인용    1968  \\\n",
       "\n",
       "        VHCTY_TY FUEL_CD     STDG_CD CTPV_NM SGG_NM DPF_MNTNG_YN GRD4_MLSFC   \n",
       "1515735       대형     휘발유  1165010100   서울특별시    서초구          NaN          B  \\\n",
       "\n",
       "         STDG_CD_MOD  \n",
       "1515735   1165000000  "
      ]
     },
     "execution_count": 24,
     "metadata": {},
     "output_type": "execute_result"
    }
   ],
   "source": [
    "df.loc[df['YRIDNW'] == 1968]"
   ]
  },
  {
   "cell_type": "code",
   "execution_count": 26,
   "metadata": {},
   "outputs": [
    {
     "data": {
      "text/html": [
       "<div>\n",
       "<style scoped>\n",
       "    .dataframe tbody tr th:only-of-type {\n",
       "        vertical-align: middle;\n",
       "    }\n",
       "\n",
       "    .dataframe tbody tr th {\n",
       "        vertical-align: top;\n",
       "    }\n",
       "\n",
       "    .dataframe thead th {\n",
       "        text-align: right;\n",
       "    }\n",
       "</style>\n",
       "<table border=\"1\" class=\"dataframe\">\n",
       "  <thead>\n",
       "    <tr style=\"text-align: right;\">\n",
       "      <th></th>\n",
       "      <th>LOAD_DT</th>\n",
       "      <th>VIN</th>\n",
       "      <th>MANG_MNG_NO</th>\n",
       "      <th>VHCTY_CD</th>\n",
       "      <th>PURPS_CD2</th>\n",
       "      <th>YRIDNW</th>\n",
       "      <th>VHCTY_TY</th>\n",
       "      <th>FUEL_CD</th>\n",
       "      <th>STDG_CD</th>\n",
       "      <th>CTPV_NM</th>\n",
       "      <th>SGG_NM</th>\n",
       "      <th>DPF_MNTNG_YN</th>\n",
       "      <th>GRD4_MLSFC</th>\n",
       "      <th>STDG_CD_MOD</th>\n",
       "    </tr>\n",
       "  </thead>\n",
       "  <tbody>\n",
       "    <tr>\n",
       "      <th>1297448</th>\n",
       "      <td>20230715</td>\n",
       "      <td>417313295785</td>\n",
       "      <td>30111800000286</td>\n",
       "      <td>승용</td>\n",
       "      <td>개인용</td>\n",
       "      <td>1973</td>\n",
       "      <td>소형</td>\n",
       "      <td>휘발유</td>\n",
       "      <td>4159012900</td>\n",
       "      <td>경기도</td>\n",
       "      <td>화성시</td>\n",
       "      <td>NaN</td>\n",
       "      <td>B</td>\n",
       "      <td>4159000000</td>\n",
       "    </tr>\n",
       "  </tbody>\n",
       "</table>\n",
       "</div>"
      ],
      "text/plain": [
       "          LOAD_DT           VIN     MANG_MNG_NO VHCTY_CD PURPS_CD2  YRIDNW   \n",
       "1297448  20230715  417313295785  30111800000286       승용       개인용    1973  \\\n",
       "\n",
       "        VHCTY_TY FUEL_CD     STDG_CD CTPV_NM SGG_NM DPF_MNTNG_YN GRD4_MLSFC   \n",
       "1297448       소형     휘발유  4159012900     경기도    화성시          NaN          B  \\\n",
       "\n",
       "         STDG_CD_MOD  \n",
       "1297448   4159000000  "
      ]
     },
     "execution_count": 26,
     "metadata": {},
     "output_type": "execute_result"
    }
   ],
   "source": [
    "df.loc[df['YRIDNW'] == 1973]"
   ]
  },
  {
   "cell_type": "code",
   "execution_count": null,
   "metadata": {},
   "outputs": [],
   "source": []
  },
  {
   "cell_type": "code",
   "execution_count": 19,
   "metadata": {},
   "outputs": [
    {
     "name": "stderr",
     "output_type": "stream",
     "text": [
      "C:\\Users\\kbjung\\AppData\\Local\\Temp\\ipykernel_412\\3793727572.py:2: DtypeWarning: Columns (3,16) have mixed types. Specify dtype option on import or set low_memory=False.\n",
      "  rs = pd.read_csv(os.path.join(df1_fold, 'STD_BD_GRD4_CAR_CURSTT.csv'))\n"
     ]
    },
    {
     "name": "stdout",
     "output_type": "stream",
     "text": [
      "<class 'pandas.core.frame.DataFrame'>\n",
      "RangeIndex: 1515736 entries, 0 to 1515735\n",
      "Data columns (total 26 columns):\n",
      " #   Column                 Non-Null Count    Dtype  \n",
      "---  ------                 --------------    -----  \n",
      " 0   LOAD_DT                1515736 non-null  int64  \n",
      " 1   CRTR_YM                1515736 non-null  float64\n",
      " 2   VIN                    1515736 non-null  object \n",
      " 3   MANG_MNG_NO            1515736 non-null  object \n",
      " 4   VHCTY_CD               1515734 non-null  object \n",
      " 5   PURPS_CD2              1515736 non-null  object \n",
      " 6   YRIDNW                 1515736 non-null  int64  \n",
      " 7   VHCTY_TY               1515736 non-null  object \n",
      " 8   FUEL_CD                1515665 non-null  object \n",
      " 9   STDG_CD                1515736 non-null  int64  \n",
      " 10  CTPV_NM                1515736 non-null  object \n",
      " 11  SGG_NM                 1515731 non-null  object \n",
      " 12  VHCNM                  1515736 non-null  object \n",
      " 13  MNFCTR_NM              1505649 non-null  object \n",
      " 14  EXHST_GAS_CERT_NO_MOD  1391801 non-null  object \n",
      " 15  EXHST_GAS_GRD_CD_MOD   1515736 non-null  int64  \n",
      " 16  DPF_MNTNG_YN           1114158 non-null  object \n",
      " 17  INSP_MTHD              1257599 non-null  object \n",
      " 18  INSP_KND               1257596 non-null  object \n",
      " 19  INSP_JGMT              1257599 non-null  object \n",
      " 20  NOLOD_SMO_MEVLU1       1246283 non-null  float64\n",
      " 21  NOLOD_SMO_JGMT_YN1     1246279 non-null  object \n",
      " 22  NOLOD_SMO_MEVLU2       474800 non-null   float64\n",
      " 23  NOLOD_SMO_MEVLU3       439518 non-null   float64\n",
      " 24  STDG_CD_MOD            1515736 non-null  int64  \n",
      " 25  GRD4_MLSFC             1515736 non-null  object \n",
      "dtypes: float64(4), int64(5), object(17)\n",
      "memory usage: 300.7+ MB\n"
     ]
    }
   ],
   "source": [
    "# 1.3s\n",
    "rs = pd.read_csv(os.path.join(df1_fold, 'STD_BD_GRD4_CAR_CURSTT.csv'))\n",
    "rs.info()"
   ]
  },
  {
   "cell_type": "code",
   "execution_count": 23,
   "metadata": {},
   "outputs": [
    {
     "data": {
      "text/plain": [
       "array([[20230719, 2022.12, '119111200127', 20019500040000, '승용', '개인용',\n",
       "        1901, '중형', '휘발유', 4711133025, '경상북도', '포항시', '크로마터보i.e', nan,\n",
       "        nan, 4, nan, nan, nan, nan, nan, nan, nan, nan, 4711100000, 'B']],\n",
       "      dtype=object)"
      ]
     },
     "execution_count": 23,
     "metadata": {},
     "output_type": "execute_result"
    }
   ],
   "source": [
    "rs.loc[rs['VIN'] == '119111200127'].values"
   ]
  },
  {
   "cell_type": "code",
   "execution_count": 25,
   "metadata": {},
   "outputs": [
    {
     "data": {
      "text/plain": [
       "array([[20230719, 2022.12, 'SL68T032460', '10017500140000', '승용', '개인용',\n",
       "        1968, '대형', '휘발유', 1165010100, '서울특별시', '서초구', '쏘나타 오토매틱',\n",
       "        '현대자동차', 'KMY-HD-03', 4, nan, nan, nan, nan, nan, nan, nan, nan,\n",
       "        1165000000, 'B']], dtype=object)"
      ]
     },
     "execution_count": 25,
     "metadata": {},
     "output_type": "execute_result"
    }
   ],
   "source": [
    "rs.loc[rs['VIN'] == 'SL68T032460'].values"
   ]
  },
  {
   "cell_type": "code",
   "execution_count": 27,
   "metadata": {},
   "outputs": [
    {
     "data": {
      "text/plain": [
       "array([[20230719, 2022.12, '417313295785', '30111800000286', '승용', '개인용',\n",
       "        1973, '소형', '휘발유', 4159012900, '경기도', '화성시', '폭스바겐짚컨버터블',\n",
       "        '**기타**', nan, 4, nan, '부하검사(ASM-Idling)', '종합검사', 'N', 1.81,\n",
       "        'N', 101.0, 1435.0, 4159000000, 'B']], dtype=object)"
      ]
     },
     "execution_count": 27,
     "metadata": {},
     "output_type": "execute_result"
    }
   ],
   "source": [
    "rs.loc[rs['VIN'] == '417313295785'].values"
   ]
  },
  {
   "cell_type": "code",
   "execution_count": null,
   "metadata": {},
   "outputs": [],
   "source": []
  }
 ],
 "metadata": {
  "kernelspec": {
   "display_name": "base",
   "language": "python",
   "name": "python3"
  },
  "language_info": {
   "codemirror_mode": {
    "name": "ipython",
    "version": 3
   },
   "file_extension": ".py",
   "mimetype": "text/x-python",
   "name": "python",
   "nbconvert_exporter": "python",
   "pygments_lexer": "ipython3",
   "version": "3.9.13"
  },
  "orig_nbformat": 4
 },
 "nbformat": 4,
 "nbformat_minor": 2
}
