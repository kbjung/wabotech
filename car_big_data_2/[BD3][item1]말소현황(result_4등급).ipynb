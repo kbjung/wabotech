{
 "cells": [
  {
   "attachments": {},
   "cell_type": "markdown",
   "metadata": {},
   "source": [
    "# Library"
   ]
  },
  {
   "cell_type": "code",
   "execution_count": 1,
   "metadata": {},
   "outputs": [],
   "source": [
    "import pandas as pd\n",
    "import os\n",
    "import math\n",
    "from tqdm import tqdm\n",
    "from datetime import datetime\n",
    "import numpy as np"
   ]
  },
  {
   "cell_type": "code",
   "execution_count": 2,
   "metadata": {},
   "outputs": [],
   "source": [
    "# 소수점 옵션\n",
    "pd.options.display.float_format = '{:.2f}'.format\n",
    "# pd.reset_option('display.float_format')"
   ]
  },
  {
   "attachments": {},
   "cell_type": "markdown",
   "metadata": {},
   "source": [
    "# fold"
   ]
  },
  {
   "cell_type": "code",
   "execution_count": 3,
   "metadata": {},
   "outputs": [],
   "source": [
    "raw1_fold = 'D:/data/big2/BD1/raw'\n",
    "an3_fold = 'D:/data/big2/BD3/an'\n",
    "ods_fold = 'D:/data/big2/ODS'\n",
    "big2_fold = 'D:/data/big2'"
   ]
  },
  {
   "attachments": {},
   "cell_type": "markdown",
   "metadata": {},
   "source": [
    "# 차량 폐차 현황"
   ]
  },
  {
   "attachments": {},
   "cell_type": "markdown",
   "metadata": {},
   "source": [
    "## 1\\. [로드] 데이터"
   ]
  },
  {
   "attachments": {},
   "cell_type": "markdown",
   "metadata": {},
   "source": [
    "### 1-1\\. 등록&제원(result 4등급)"
   ]
  },
  {
   "cell_type": "code",
   "execution_count": 12,
   "metadata": {},
   "outputs": [
    {
     "name": "stdout",
     "output_type": "stream",
     "text": [
      "<class 'pandas.core.frame.DataFrame'>\n",
      "RangeIndex: 5 entries, 0 to 4\n",
      "Data columns (total 38 columns):\n",
      " #   Column         Non-Null Count  Dtype  \n",
      "---  ------         --------------  -----  \n",
      " 0   차대번호           5 non-null      object \n",
      " 1   차량번호           5 non-null      object \n",
      " 2   제원관리번호         5 non-null      int64  \n",
      " 3   차종             5 non-null      object \n",
      " 4   용도             5 non-null      object \n",
      " 5   최초등록일          5 non-null      int64  \n",
      " 6   연식             5 non-null      int64  \n",
      " 7   제작일자           5 non-null      float64\n",
      " 8   검사유효일          5 non-null      float64\n",
      " 9   배출가스인증번호       5 non-null      object \n",
      " 10  등급             5 non-null      int64  \n",
      " 11  차명             5 non-null      object \n",
      " 12  차종분류           5 non-null      object \n",
      " 13  차종유형           5 non-null      object \n",
      " 14  자동차형식          5 non-null      object \n",
      " 15  제작사명           5 non-null      object \n",
      " 16  연료             5 non-null      object \n",
      " 17  엔진형식           5 non-null      object \n",
      " 18  총중량            5 non-null      float64\n",
      " 19  적재중량           5 non-null      float64\n",
      " 20  엔진출력           5 non-null      float64\n",
      " 21  배기량            5 non-null      float64\n",
      " 22  법정동코드          5 non-null      int64  \n",
      " 23  시도명            5 non-null      object \n",
      " 24  시군구명           5 non-null      object \n",
      " 25  소유자구분          5 non-null      object \n",
      " 26  말소여부           5 non-null      object \n",
      " 27  배인번호_수정        5 non-null      object \n",
      " 28  등급_수정          5 non-null      float64\n",
      " 29  DPF유무_수정       5 non-null      object \n",
      " 30  Grade          5 non-null      object \n",
      " 31  시군구명_수정        5 non-null      object \n",
      " 32  dong_code      5 non-null      int64  \n",
      " 33  E_CO_total     5 non-null      float64\n",
      " 34  E_HC_total     5 non-null      float64\n",
      " 35  E_NOx_total    5 non-null      float64\n",
      " 36  E_PM10_total   5 non-null      float64\n",
      " 37  E_PM2_5_total  5 non-null      float64\n",
      "dtypes: float64(12), int64(6), object(20)\n",
      "memory usage: 1.6+ KB\n"
     ]
    }
   ],
   "source": [
    "# about 11.1s\n",
    "name = 'result(전체)_CAPSS_배출량(Grade추가)(dong_code추가)(2023.05.18_AM.09.49.29)'\n",
    "file_name = f'{name}.csv'\n",
    "smig = pd.read_csv(os.path.join(raw1_fold, file_name), low_memory=False, nrows=5)\n",
    "smig.info()"
   ]
  },
  {
   "cell_type": "code",
   "execution_count": 8,
   "metadata": {},
   "outputs": [
    {
     "data": {
      "text/plain": [
       "등급_수정\n",
       "4.00    1497678\n",
       "Name: count, dtype: int64"
      ]
     },
     "execution_count": 8,
     "metadata": {},
     "output_type": "execute_result"
    }
   ],
   "source": [
    "smig['등급_수정'].value_counts(dropna=False)"
   ]
  },
  {
   "cell_type": "code",
   "execution_count": 10,
   "metadata": {},
   "outputs": [
    {
     "data": {
      "text/plain": [
       "((29534047, 12), 29534043)"
      ]
     },
     "execution_count": 10,
     "metadata": {},
     "output_type": "execute_result"
    }
   ],
   "source": [
    "smig.shape, len(smig['차량관리번호'].unique())"
   ]
  },
  {
   "cell_type": "code",
   "execution_count": 11,
   "metadata": {},
   "outputs": [
    {
     "data": {
      "text/plain": [
       "29521505"
      ]
     },
     "execution_count": 11,
     "metadata": {},
     "output_type": "execute_result"
    }
   ],
   "source": [
    "len(smig['차대번호'].unique())"
   ]
  },
  {
   "attachments": {},
   "cell_type": "markdown",
   "metadata": {},
   "source": [
    "### 1-2\\. CEG_CAR_HISTORY_MIG_230420_수정01\n",
    "- 변경구분코드 : CEGO, CEGC 제외"
   ]
  },
  {
   "cell_type": "code",
   "execution_count": 12,
   "metadata": {},
   "outputs": [
    {
     "name": "stdout",
     "output_type": "stream",
     "text": [
      "<class 'pandas.core.frame.DataFrame'>\n",
      "RangeIndex: 36267031 entries, 0 to 36267030\n",
      "Data columns (total 5 columns):\n",
      " #   Column  Dtype  \n",
      "---  ------  -----  \n",
      " 0   차량관리번호  object \n",
      " 1   차대번호    object \n",
      " 2   차량말소YN  object \n",
      " 3   변경일자    float64\n",
      " 4   변경구분코드  int64  \n",
      "dtypes: float64(1), int64(1), object(3)\n",
      "memory usage: 1.4+ GB\n"
     ]
    }
   ],
   "source": [
    "# about 2m 25.8s\n",
    "name = 'CEG_CAR_HISTORY_MIG_230420_수정01'\n",
    "file_name = f'{name}.csv'\n",
    "his = pd.read_csv(os.path.join(raw1_fold, file_name), low_memory=False)\n",
    "his.info()"
   ]
  },
  {
   "cell_type": "code",
   "execution_count": 13,
   "metadata": {},
   "outputs": [],
   "source": [
    "his.shape, len(his['차량관리번호'].unique())"
   ]
  },
  {
   "cell_type": "code",
   "execution_count": null,
   "metadata": {},
   "outputs": [
    {
     "data": {
      "text/plain": [
       "19400662"
      ]
     },
     "execution_count": 15,
     "metadata": {},
     "output_type": "execute_result"
    }
   ],
   "source": [
    "len(his['차대번호'].unique())"
   ]
  },
  {
   "attachments": {},
   "cell_type": "markdown",
   "metadata": {},
   "source": [
    "### 1-3\\. 법정동코드"
   ]
  },
  {
   "cell_type": "code",
   "execution_count": null,
   "metadata": {},
   "outputs": [
    {
     "name": "stdout",
     "output_type": "stream",
     "text": [
      "<class 'pandas.core.frame.DataFrame'>\n",
      "RangeIndex: 46342 entries, 0 to 46341\n",
      "Data columns (total 9 columns):\n",
      " #   Column    Non-Null Count  Dtype  \n",
      "---  ------    --------------  -----  \n",
      " 0   법정동코드     46342 non-null  int64  \n",
      " 1   시도        46342 non-null  object \n",
      " 2   시구군       46319 non-null  object \n",
      " 3   읍면동       45849 non-null  object \n",
      " 4   리         33682 non-null  object \n",
      " 5   지역3       0 non-null      float64\n",
      " 6   폐지여부      46342 non-null  object \n",
      " 7   대기관리권역    46342 non-null  object \n",
      " 8   대기관리권역YN  46337 non-null  object \n",
      "dtypes: float64(1), int64(1), object(7)\n",
      "memory usage: 3.2+ MB\n"
     ]
    }
   ],
   "source": [
    "# about 8.9s\n",
    "name = '법정동코드_2022.10.14(수정2023.05.04)'\n",
    "file_name = f'{name}.xlsx'\n",
    "code = pd.read_excel(os.path.join(big2_fold, file_name))\n",
    "code.info()"
   ]
  },
  {
   "attachments": {},
   "cell_type": "markdown",
   "metadata": {},
   "source": [
    "## 2\\. 차량관리번호 기준으로 병합"
   ]
  },
  {
   "cell_type": "code",
   "execution_count": 17,
   "metadata": {},
   "outputs": [
    {
     "data": {
      "text/plain": [
       "(46401826, 16)"
      ]
     },
     "execution_count": 17,
     "metadata": {},
     "output_type": "execute_result"
    }
   ],
   "source": [
    "# about 2m 0.3s\n",
    "df = smig.merge(his, on='차량관리번호', how='left')\n",
    "df.shape"
   ]
  },
  {
   "cell_type": "code",
   "execution_count": 18,
   "metadata": {},
   "outputs": [
    {
     "data": {
      "text/plain": [
       "Index(['차량관리번호', '본거지법정동코드', '차종_등록정보', '차대번호_x', '차량연식', '제원관리번호', '배출가스인증번호',\n",
       "       '배출가스등급', '차량말소YN_x', '차명', '연료', '등급', '차대번호_y', '차량말소YN_y', '변경일자',\n",
       "       '변경구분코드'],\n",
       "      dtype='object')"
      ]
     },
     "execution_count": 18,
     "metadata": {},
     "output_type": "execute_result"
    }
   ],
   "source": [
    "df.columns"
   ]
  },
  {
   "cell_type": "code",
   "execution_count": 19,
   "metadata": {},
   "outputs": [
    {
     "data": {
      "text/plain": [
       "Index(['차량관리번호', '본거지법정동코드', '차종_등록정보', '차대번호', '차량연식', '제원관리번호', '배출가스인증번호',\n",
       "       '배출가스등급', '차량말소YN_등록정보', '차명', '연료', '등급', '차량말소YN_변경이력', '변경일자',\n",
       "       '변경구분코드'],\n",
       "      dtype='object')"
      ]
     },
     "execution_count": 19,
     "metadata": {},
     "output_type": "execute_result"
    }
   ],
   "source": [
    "df = df.drop('차대번호_y', axis=1)\n",
    "df = df.rename(columns={'차량말소YN_x':'차량말소YN_등록정보', '차량말소YN_y':'차량말소YN_변경이력', '차대번호_x':'차대번호'})\n",
    "df.columns"
   ]
  },
  {
   "attachments": {},
   "cell_type": "markdown",
   "metadata": {},
   "source": [
    "## 3\\. 차량말소(등록과 변경이력) : Y 추출"
   ]
  },
  {
   "cell_type": "code",
   "execution_count": 20,
   "metadata": {},
   "outputs": [
    {
     "data": {
      "text/plain": [
       "(3671025, 15)"
      ]
     },
     "execution_count": 20,
     "metadata": {},
     "output_type": "execute_result"
    }
   ],
   "source": [
    "df = df.loc[(df['차량말소YN_등록정보'] == 'Y') & (df['차량말소YN_변경이력'] == 'Y')].reset_index(drop=True)\n",
    "df.shape"
   ]
  },
  {
   "cell_type": "code",
   "execution_count": 21,
   "metadata": {},
   "outputs": [
    {
     "data": {
      "text/plain": [
       "0"
      ]
     },
     "execution_count": 21,
     "metadata": {},
     "output_type": "execute_result"
    }
   ],
   "source": [
    "df['변경일자'].isnull().sum()"
   ]
  },
  {
   "cell_type": "code",
   "execution_count": 22,
   "metadata": {},
   "outputs": [
    {
     "data": {
      "text/plain": [
       "count    3671025.00\n",
       "mean    20204821.91\n",
       "std         9403.21\n",
       "min     19971111.00\n",
       "25%     20200306.00\n",
       "50%     20201130.00\n",
       "75%     20210818.00\n",
       "max     20220628.00\n",
       "Name: 변경일자, dtype: float64"
      ]
     },
     "execution_count": 22,
     "metadata": {},
     "output_type": "execute_result"
    }
   ],
   "source": [
    "df['변경일자'].describe()"
   ]
  },
  {
   "attachments": {},
   "cell_type": "markdown",
   "metadata": {},
   "source": [
    "## 4\\. 차대번호 중복 제거(최신 변경일자 기준)"
   ]
  },
  {
   "cell_type": "code",
   "execution_count": 23,
   "metadata": {},
   "outputs": [
    {
     "data": {
      "text/plain": [
       "(3642360, 15)"
      ]
     },
     "execution_count": 23,
     "metadata": {},
     "output_type": "execute_result"
    }
   ],
   "source": [
    "# about 13.5s\n",
    "df = df.sort_values('변경일자', ascending=False).drop_duplicates('차대번호').reset_index(drop=True)\n",
    "df.shape"
   ]
  },
  {
   "attachments": {},
   "cell_type": "markdown",
   "metadata": {},
   "source": [
    "## 5\\. 변경일자 2019.01.01 이후만 추출"
   ]
  },
  {
   "cell_type": "code",
   "execution_count": 24,
   "metadata": {},
   "outputs": [
    {
     "data": {
      "text/plain": [
       "(3642251, 15)"
      ]
     },
     "execution_count": 24,
     "metadata": {},
     "output_type": "execute_result"
    }
   ],
   "source": [
    "df.loc[df['변경일자'] >= 20190101].shape"
   ]
  },
  {
   "cell_type": "code",
   "execution_count": 25,
   "metadata": {},
   "outputs": [
    {
     "data": {
      "text/plain": [
       "(3642251, 15)"
      ]
     },
     "execution_count": 25,
     "metadata": {},
     "output_type": "execute_result"
    }
   ],
   "source": [
    "# about 1.4s\n",
    "df = df.loc[df['변경일자'] >= 20190101].reset_index(drop=True)\n",
    "df.shape"
   ]
  },
  {
   "cell_type": "code",
   "execution_count": 26,
   "metadata": {},
   "outputs": [
    {
     "data": {
      "text/plain": [
       "count    3642251.00\n",
       "mean    20204829.13\n",
       "std         9393.15\n",
       "min     20190108.00\n",
       "25%     20200306.00\n",
       "50%     20201130.00\n",
       "75%     20210818.00\n",
       "max     20220628.00\n",
       "Name: 변경일자, dtype: float64"
      ]
     },
     "execution_count": 26,
     "metadata": {},
     "output_type": "execute_result"
    }
   ],
   "source": [
    "df['변경일자'].describe()"
   ]
  },
  {
   "attachments": {},
   "cell_type": "markdown",
   "metadata": {},
   "source": [
    "## 6\\. 법정동 코드 병합"
   ]
  },
  {
   "cell_type": "code",
   "execution_count": 27,
   "metadata": {},
   "outputs": [
    {
     "data": {
      "text/plain": [
       "Index(['차량관리번호', '본거지법정동코드', '차종_등록정보', '차대번호', '차량연식', '제원관리번호', '배출가스인증번호',\n",
       "       '배출가스등급', '차량말소YN_등록정보', '차명', '연료', '등급', '차량말소YN_변경이력', '변경일자',\n",
       "       '변경구분코드'],\n",
       "      dtype='object')"
      ]
     },
     "execution_count": 27,
     "metadata": {},
     "output_type": "execute_result"
    }
   ],
   "source": [
    "df.columns"
   ]
  },
  {
   "cell_type": "code",
   "execution_count": 28,
   "metadata": {},
   "outputs": [
    {
     "data": {
      "text/plain": [
       "Index(['법정동코드', '시도', '시구군', '읍면동', '리', '지역3', '폐지여부', '대기관리권역', '대기관리권역YN'], dtype='object')"
      ]
     },
     "execution_count": 28,
     "metadata": {},
     "output_type": "execute_result"
    }
   ],
   "source": [
    "code.columns"
   ]
  },
  {
   "cell_type": "code",
   "execution_count": 29,
   "metadata": {},
   "outputs": [
    {
     "data": {
      "text/plain": [
       "(3642251, 15)"
      ]
     },
     "execution_count": 29,
     "metadata": {},
     "output_type": "execute_result"
    }
   ],
   "source": [
    "df.shape"
   ]
  },
  {
   "cell_type": "code",
   "execution_count": 30,
   "metadata": {},
   "outputs": [
    {
     "data": {
      "text/plain": [
       "(3642251, 24)"
      ]
     },
     "execution_count": 30,
     "metadata": {},
     "output_type": "execute_result"
    }
   ],
   "source": [
    "df = df.merge(code, left_on='본거지법정동코드', right_on='법정동코드', how='left')\n",
    "df.shape"
   ]
  },
  {
   "cell_type": "code",
   "execution_count": 31,
   "metadata": {},
   "outputs": [
    {
     "data": {
      "text/plain": [
       "0"
      ]
     },
     "execution_count": 31,
     "metadata": {},
     "output_type": "execute_result"
    }
   ],
   "source": [
    "df['시도'].isnull().sum()"
   ]
  },
  {
   "attachments": {},
   "cell_type": "markdown",
   "metadata": {},
   "source": [
    "### [출력] 전처리 완료 파일"
   ]
  },
  {
   "cell_type": "code",
   "execution_count": 32,
   "metadata": {},
   "outputs": [
    {
     "data": {
      "text/plain": [
       "'2023.05.24'"
      ]
     },
     "execution_count": 32,
     "metadata": {},
     "output_type": "execute_result"
    }
   ],
   "source": [
    "today_date = datetime.today().strftime(\"%Y.%m.%d\")\n",
    "today_date"
   ]
  },
  {
   "cell_type": "code",
   "execution_count": 33,
   "metadata": {},
   "outputs": [],
   "source": [
    "# # about 33.3s\n",
    "# df.to_csv(os.path.join(ods_fold, f'말소정보_전처리완료({today_date}).csv'), index=False)"
   ]
  },
  {
   "attachments": {},
   "cell_type": "markdown",
   "metadata": {},
   "source": [
    "# [로드] 전처리 완료 파일"
   ]
  },
  {
   "cell_type": "code",
   "execution_count": 7,
   "metadata": {},
   "outputs": [
    {
     "name": "stdout",
     "output_type": "stream",
     "text": [
      "<class 'pandas.core.frame.DataFrame'>\n",
      "RangeIndex: 3642251 entries, 0 to 3642250\n",
      "Data columns (total 24 columns):\n",
      " #   Column       Dtype  \n",
      "---  ------       -----  \n",
      " 0   차량관리번호       object \n",
      " 1   본거지법정동코드     int64  \n",
      " 2   차종_등록정보      object \n",
      " 3   차대번호         object \n",
      " 4   차량연식         int64  \n",
      " 5   제원관리번호       object \n",
      " 6   배출가스인증번호     object \n",
      " 7   배출가스등급       object \n",
      " 8   차량말소YN_등록정보  object \n",
      " 9   차명           object \n",
      " 10  연료           object \n",
      " 11  등급           object \n",
      " 12  차량말소YN_변경이력  object \n",
      " 13  변경일자         float64\n",
      " 14  변경구분코드       float64\n",
      " 15  법정동코드        int64  \n",
      " 16  시도           object \n",
      " 17  시구군          object \n",
      " 18  읍면동          object \n",
      " 19  리            object \n",
      " 20  지역3          float64\n",
      " 21  폐지여부         object \n",
      " 22  대기관리권역       object \n",
      " 23  대기관리권역YN     object \n",
      "dtypes: float64(3), int64(3), object(18)\n",
      "memory usage: 666.9+ MB\n"
     ]
    }
   ],
   "source": [
    "# # about 5m 3.9s\n",
    "# name = '말소정보_전처리완료(2023.05.24)'\n",
    "# file_name = f'{name}.csv'\n",
    "# df = pd.read_csv(os.path.join(ods_fold, file_name), low_memory=False)\n",
    "# df.info()"
   ]
  },
  {
   "attachments": {},
   "cell_type": "markdown",
   "metadata": {},
   "source": [
    "## 7\\. 월별 폐차 현황"
   ]
  },
  {
   "cell_type": "code",
   "execution_count": 9,
   "metadata": {},
   "outputs": [
    {
     "data": {
      "text/plain": [
       "(3642251, 24)"
      ]
     },
     "execution_count": 9,
     "metadata": {},
     "output_type": "execute_result"
    }
   ],
   "source": [
    "df.shape"
   ]
  },
  {
   "cell_type": "code",
   "execution_count": 10,
   "metadata": {},
   "outputs": [
    {
     "data": {
      "text/plain": [
       "Index(['차량관리번호', '본거지법정동코드', '차종_등록정보', '차대번호', '차량연식', '제원관리번호', '배출가스인증번호',\n",
       "       '배출가스등급', '차량말소YN_등록정보', '차명', '연료', '등급', '차량말소YN_변경이력', '변경일자',\n",
       "       '변경구분코드', '법정동코드', '시도', '시구군', '읍면동', '리', '지역3', '폐지여부', '대기관리권역',\n",
       "       '대기관리권역YN'],\n",
       "      dtype='object')"
      ]
     },
     "execution_count": 10,
     "metadata": {},
     "output_type": "execute_result"
    }
   ],
   "source": [
    "df.columns"
   ]
  },
  {
   "cell_type": "code",
   "execution_count": 11,
   "metadata": {},
   "outputs": [
    {
     "data": {
      "text/plain": [
       "('2019', '01', '01')"
      ]
     },
     "execution_count": 11,
     "metadata": {},
     "output_type": "execute_result"
    }
   ],
   "source": [
    "'20190101'[:4], '20190101'[4:6], '20190101'[6:]"
   ]
  },
  {
   "cell_type": "code",
   "execution_count": 12,
   "metadata": {},
   "outputs": [],
   "source": [
    "df['변경일자'] = df['변경일자'].astype('str')"
   ]
  },
  {
   "cell_type": "code",
   "execution_count": 13,
   "metadata": {},
   "outputs": [],
   "source": [
    "df['변경일자_년'] = df['변경일자'].str[:4]\n",
    "df['변경일자_월'] = df['변경일자'].str[4:6]\n",
    "df['변경일자_일'] = df['변경일자'].str[6:8]"
   ]
  },
  {
   "cell_type": "code",
   "execution_count": 14,
   "metadata": {},
   "outputs": [],
   "source": [
    "df['변경일자_년_월'] = df['변경일자_년'] + '.' + df['변경일자_월']"
   ]
  },
  {
   "cell_type": "code",
   "execution_count": 15,
   "metadata": {},
   "outputs": [
    {
     "data": {
      "text/html": [
       "<div>\n",
       "<style scoped>\n",
       "    .dataframe tbody tr th:only-of-type {\n",
       "        vertical-align: middle;\n",
       "    }\n",
       "\n",
       "    .dataframe tbody tr th {\n",
       "        vertical-align: top;\n",
       "    }\n",
       "\n",
       "    .dataframe thead th {\n",
       "        text-align: right;\n",
       "    }\n",
       "</style>\n",
       "<table border=\"1\" class=\"dataframe\">\n",
       "  <thead>\n",
       "    <tr style=\"text-align: right;\">\n",
       "      <th></th>\n",
       "      <th>변경일자_년</th>\n",
       "      <th>변경일자_월</th>\n",
       "      <th>변경일자_일</th>\n",
       "      <th>변경일자_년_월</th>\n",
       "    </tr>\n",
       "  </thead>\n",
       "  <tbody>\n",
       "    <tr>\n",
       "      <th>0</th>\n",
       "      <td>2022</td>\n",
       "      <td>06</td>\n",
       "      <td>28</td>\n",
       "      <td>2022.06</td>\n",
       "    </tr>\n",
       "    <tr>\n",
       "      <th>1</th>\n",
       "      <td>2022</td>\n",
       "      <td>06</td>\n",
       "      <td>28</td>\n",
       "      <td>2022.06</td>\n",
       "    </tr>\n",
       "    <tr>\n",
       "      <th>2</th>\n",
       "      <td>2022</td>\n",
       "      <td>06</td>\n",
       "      <td>28</td>\n",
       "      <td>2022.06</td>\n",
       "    </tr>\n",
       "    <tr>\n",
       "      <th>3</th>\n",
       "      <td>2022</td>\n",
       "      <td>06</td>\n",
       "      <td>28</td>\n",
       "      <td>2022.06</td>\n",
       "    </tr>\n",
       "    <tr>\n",
       "      <th>4</th>\n",
       "      <td>2022</td>\n",
       "      <td>06</td>\n",
       "      <td>28</td>\n",
       "      <td>2022.06</td>\n",
       "    </tr>\n",
       "  </tbody>\n",
       "</table>\n",
       "</div>"
      ],
      "text/plain": [
       "  변경일자_년 변경일자_월 변경일자_일 변경일자_년_월\n",
       "0   2022     06     28  2022.06\n",
       "1   2022     06     28  2022.06\n",
       "2   2022     06     28  2022.06\n",
       "3   2022     06     28  2022.06\n",
       "4   2022     06     28  2022.06"
      ]
     },
     "execution_count": 15,
     "metadata": {},
     "output_type": "execute_result"
    }
   ],
   "source": [
    "df[['변경일자_년', '변경일자_월', '변경일자_일', '변경일자_년_월']].head()"
   ]
  },
  {
   "cell_type": "code",
   "execution_count": 16,
   "metadata": {},
   "outputs": [],
   "source": [
    "df[['변경일자_년', '변경일자_월', '변경일자_일']] = df[['변경일자_년', '변경일자_월', '변경일자_일']].astype('int')"
   ]
  },
  {
   "cell_type": "code",
   "execution_count": 17,
   "metadata": {},
   "outputs": [],
   "source": [
    "df['변경일자'] = df['변경일자_년'] + df['변경일자_월'] + df['변경일자_일']\n",
    "df['변경일자'] = df['변경일자'].astype('int')"
   ]
  },
  {
   "cell_type": "code",
   "execution_count": 18,
   "metadata": {},
   "outputs": [
    {
     "data": {
      "text/plain": [
       "0"
      ]
     },
     "execution_count": 18,
     "metadata": {},
     "output_type": "execute_result"
    }
   ],
   "source": [
    "df['변경일자'].isnull().sum()"
   ]
  },
  {
   "cell_type": "code",
   "execution_count": 19,
   "metadata": {},
   "outputs": [
    {
     "data": {
      "text/plain": [
       "Index(['차량관리번호', '본거지법정동코드', '차종_등록정보', '차대번호', '차량연식', '제원관리번호', '배출가스인증번호',\n",
       "       '배출가스등급', '차량말소YN_등록정보', '차명', '연료', '등급', '차량말소YN_변경이력', '변경일자',\n",
       "       '변경구분코드', '법정동코드', '시도', '시구군', '읍면동', '리', '지역3', '폐지여부', '대기관리권역',\n",
       "       '대기관리권역YN', '변경일자_년', '변경일자_월', '변경일자_일', '변경일자_년_월'],\n",
       "      dtype='object')"
      ]
     },
     "execution_count": 19,
     "metadata": {},
     "output_type": "execute_result"
    }
   ],
   "source": [
    "df.columns"
   ]
  },
  {
   "cell_type": "code",
   "execution_count": 20,
   "metadata": {},
   "outputs": [
    {
     "data": {
      "text/plain": [
       "array(['X', '2.0', '5.0', '3.0', '4.0', '1.0', nan], dtype=object)"
      ]
     },
     "execution_count": 20,
     "metadata": {},
     "output_type": "execute_result"
    }
   ],
   "source": [
    "df['등급'].unique()"
   ]
  },
  {
   "attachments": {},
   "cell_type": "markdown",
   "metadata": {},
   "source": [
    "## 4등급 차량에 EG 정보 추가"
   ]
  },
  {
   "cell_type": "code",
   "execution_count": 22,
   "metadata": {},
   "outputs": [
    {
     "data": {
      "text/plain": [
       "Index(['차량관리번호', '본거지법정동코드', '차종_등록정보', '차대번호', '차량연식', '제원관리번호', '배출가스인증번호',\n",
       "       '배출가스등급', '차량말소YN_등록정보', '차명', '연료', '등급', '차량말소YN_변경이력', '변경일자',\n",
       "       '변경구분코드', '법정동코드', '시도', '시구군', '읍면동', '리', '지역3', '폐지여부', '대기관리권역',\n",
       "       '대기관리권역YN', '변경일자_년', '변경일자_월', '변경일자_일', '변경일자_년_월'],\n",
       "      dtype='object')"
      ]
     },
     "execution_count": 22,
     "metadata": {},
     "output_type": "execute_result"
    }
   ],
   "source": [
    "smig.columns"
   ]
  },
  {
   "cell_type": "code",
   "execution_count": 23,
   "metadata": {},
   "outputs": [
    {
     "data": {
      "text/plain": [
       "Index(['차대번호', '차종유형', 'Grade'], dtype='object')"
      ]
     },
     "execution_count": 23,
     "metadata": {},
     "output_type": "execute_result"
    }
   ],
   "source": [
    "df.columns"
   ]
  },
  {
   "cell_type": "code",
   "execution_count": null,
   "metadata": {},
   "outputs": [],
   "source": [
    "dg4 = smig.merge(df, on='차대번호', how='left')\n",
    "dg4.shape"
   ]
  },
  {
   "cell_type": "code",
   "execution_count": 29,
   "metadata": {},
   "outputs": [
    {
     "data": {
      "text/plain": [
       "366924"
      ]
     },
     "execution_count": 29,
     "metadata": {},
     "output_type": "execute_result"
    }
   ],
   "source": [
    "dg4['Grade'].isnull().sum()"
   ]
  },
  {
   "cell_type": "code",
   "execution_count": null,
   "metadata": {},
   "outputs": [],
   "source": [
    "chc_col = {\n",
    "    '차량관리번호',\n",
    "    '본거지법정동코드', \n",
    "    '차종_등록정보', \n",
    "    '차대번호', '차량연식', '제원관리번호', '배출가스인증번호',\n",
    "       '배출가스등급', '차량말소YN_등록정보', '차명', '연료', '등급', '차량말소YN_변경이력', '변경일자',\n",
    "       '변경구분코드', '법정동코드', '시도', '시구군', '읍면동', '리', '지역3', '폐지여부', '대기관리권역',\n",
    "       '대기관리권역YN', '변경일자_년', '변경일자_월', '변경일자_일', '변경일자_년_월', '차종유형', 'Grade'\n",
    "}"
   ]
  },
  {
   "cell_type": "code",
   "execution_count": null,
   "metadata": {},
   "outputs": [],
   "source": [
    "dg4 = dg4.rename(columns=chc_col)\n",
    "dg4.columns"
   ]
  },
  {
   "cell_type": "code",
   "execution_count": null,
   "metadata": {},
   "outputs": [],
   "source": []
  },
  {
   "attachments": {},
   "cell_type": "markdown",
   "metadata": {},
   "source": [
    "# 코드 마지막"
   ]
  }
 ],
 "metadata": {
  "kernelspec": {
   "display_name": "base",
   "language": "python",
   "name": "python3"
  },
  "language_info": {
   "codemirror_mode": {
    "name": "ipython",
    "version": 3
   },
   "file_extension": ".py",
   "mimetype": "text/x-python",
   "name": "python",
   "nbconvert_exporter": "python",
   "pygments_lexer": "ipython3",
   "version": "3.9.13"
  },
  "orig_nbformat": 4
 },
 "nbformat": 4,
 "nbformat_minor": 2
}
