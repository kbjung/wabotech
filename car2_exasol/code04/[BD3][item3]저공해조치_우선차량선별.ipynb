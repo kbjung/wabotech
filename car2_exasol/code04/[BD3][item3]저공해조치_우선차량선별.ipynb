{
 "cells": [
  {
   "cell_type": "markdown",
   "metadata": {},
   "source": [
    "# Library\n"
   ]
  },
  {
   "cell_type": "code",
   "execution_count": 1,
   "metadata": {
    "tags": []
   },
   "outputs": [],
   "source": [
    "import pandas as pd\n",
    "import numpy as np\n",
    "import os\n",
    "from tqdm import tqdm\n",
    "from datetime import datetime\n",
    "import pyexasol"
   ]
  },
  {
   "cell_type": "code",
   "execution_count": 2,
   "metadata": {
    "tags": []
   },
   "outputs": [],
   "source": [
    "# 소수점 옵션\n",
    "pd.options.display.float_format = '{:.2f}'.format\n",
    "# pd.reset_option('display.float_format')"
   ]
  },
  {
   "cell_type": "markdown",
   "metadata": {},
   "source": [
    "# fold"
   ]
  },
  {
   "cell_type": "code",
   "execution_count": 3,
   "metadata": {},
   "outputs": [],
   "source": [
    "df3_fold = 'D:/data/big2/BD3/df'"
   ]
  },
  {
   "cell_type": "markdown",
   "metadata": {},
   "source": [
    "# server"
   ]
  },
  {
   "cell_type": "code",
   "execution_count": 4,
   "metadata": {
    "tags": []
   },
   "outputs": [],
   "source": [
    "# # insider db\n",
    "# wd = pyexasol.connect(dsn='172.29.135.35/F99FAB2444F86051A9A467F6313FAAB48AF7C4760663430958E3B89A9DC53361:8563', user='sys', password='exasol', compression=True, schema='VSYSD')\n",
    "# we = pyexasol.connect(dsn='172.29.135.35/F99FAB2444F86051A9A467F6313FAAB48AF7C4760663430958E3B89A9DC53361:8563', user='sys', password='exasol', compression=True, schema='vsyse')"
   ]
  },
  {
   "cell_type": "code",
   "execution_count": 5,
   "metadata": {},
   "outputs": [],
   "source": [
    "# exasol db\n",
    "ws = pyexasol.connect(dsn='dev.openankus.org:8563', user='sys', password='djslzja', compression=True, schema='VSYS')\n",
    "wd = pyexasol.connect(dsn='dev.openankus.org:8563', user='sys', password='djslzja', compression=True, schema='VSYSD')\n",
    "we = pyexasol.connect(dsn='dev.openankus.org:8563', user='sys', password='djslzja', compression=True, schema='vsyse')"
   ]
  },
  {
   "cell_type": "markdown",
   "metadata": {},
   "source": [
    "# Load\n",
    "- 등록&제원 -> 4, 5등급"
   ]
  },
  {
   "cell_type": "markdown",
   "metadata": {},
   "source": [
    "## 등록정보(STD_CEG_CAR_MIG) 4, 5등급만"
   ]
  },
  {
   "cell_type": "code",
   "execution_count": 6,
   "metadata": {
    "tags": []
   },
   "outputs": [
    {
     "name": "stderr",
     "output_type": "stream",
     "text": [
      "C:\\Users\\kbjung\\AppData\\Roaming\\Python\\Python39\\site-packages\\pyexasol\\callback.py:42: DtypeWarning: Columns (3,9) have mixed types. Specify dtype option on import or set low_memory=False.\n",
      "  return pandas.read_csv(pipe, skip_blank_lines=False, **kwargs)\n"
     ]
    }
   ],
   "source": [
    "# 20.2s\n",
    "car = wd.export_to_pandas(\"SELECT VIN, BSPL_STDG_CD, VHCL_ERSR_YN, MANP_MNG_NO, EXHST_GAS_GRD_CD, YRIDNW, VHCTY_CD, PURPS_CD2, FRST_REG_YMD, VHCL_FBCTN_YMD, VHRNO FROM STD_CEG_CAR_MIG WHERE EXHST_GAS_GRD_CD = 'A0504' OR EXHST_GAS_GRD_CD = 'A05T4' OR EXHST_GAS_GRD_CD = 'A0505' OR EXHST_GAS_GRD_CD = 'A05T5';\")"
   ]
  },
  {
   "cell_type": "code",
   "execution_count": 7,
   "metadata": {
    "tags": []
   },
   "outputs": [
    {
     "name": "stdout",
     "output_type": "stream",
     "text": [
      "<class 'pandas.core.frame.DataFrame'>\n",
      "RangeIndex: 4277460 entries, 0 to 4277459\n",
      "Data columns (total 11 columns):\n",
      " #   Column            Dtype \n",
      "---  ------            ----- \n",
      " 0   VIN               object\n",
      " 1   BSPL_STDG_CD      int64 \n",
      " 2   VHCL_ERSR_YN      object\n",
      " 3   MANP_MNG_NO       object\n",
      " 4   EXHST_GAS_GRD_CD  object\n",
      " 5   YRIDNW            int64 \n",
      " 6   VHCTY_CD          object\n",
      " 7   PURPS_CD2         object\n",
      " 8   FRST_REG_YMD      int64 \n",
      " 9   VHCL_FBCTN_YMD    object\n",
      " 10  VHRNO             object\n",
      "dtypes: int64(3), object(8)\n",
      "memory usage: 359.0+ MB\n"
     ]
    }
   ],
   "source": [
    "car.info()"
   ]
  },
  {
   "cell_type": "code",
   "execution_count": 8,
   "metadata": {
    "tags": []
   },
   "outputs": [],
   "source": [
    "car_ch_col = {\n",
    "    'VIN':'차대번호', \n",
    "    'BSPL_STDG_CD':'법정동코드', \n",
    "    'VHCL_ERSR_YN':'차량말소YN',\n",
    "    'MANP_MNG_NO':'제원관리번호', \n",
    "    'EXHST_GAS_GRD_CD':'배출가스등급', \n",
    "    'YRIDNW':'차량연식', \n",
    "    'VHCTY_CD':'차종', \n",
    "    'PURPS_CD2':'용도', \n",
    "    'FRST_REG_YMD':'최초등록일자',\n",
    "    'VHCL_FBCTN_YMD':'제작일자',\n",
    "    'VHRNO':'차량번호',\n",
    "}"
   ]
  },
  {
   "cell_type": "code",
   "execution_count": 9,
   "metadata": {
    "tags": []
   },
   "outputs": [],
   "source": [
    "carr = car.rename(columns=car_ch_col)"
   ]
  },
  {
   "cell_type": "code",
   "execution_count": 10,
   "metadata": {
    "tags": []
   },
   "outputs": [
    {
     "data": {
      "text/plain": [
       "Index(['차대번호', '법정동코드', '차량말소YN', '제원관리번호', '배출가스등급', '차량연식', '차종', '용도',\n",
       "       '최초등록일자', '제작일자', '차량번호'],\n",
       "      dtype='object')"
      ]
     },
     "execution_count": 10,
     "metadata": {},
     "output_type": "execute_result"
    }
   ],
   "source": [
    "carr.columns"
   ]
  },
  {
   "cell_type": "markdown",
   "metadata": {},
   "source": [
    "## 제원정보(STD_CEG_CAR_SRC_MIG)"
   ]
  },
  {
   "cell_type": "code",
   "execution_count": 11,
   "metadata": {
    "tags": []
   },
   "outputs": [
    {
     "name": "stdout",
     "output_type": "stream",
     "text": [
      "<class 'pandas.core.frame.DataFrame'>\n",
      "RangeIndex: 561153 entries, 0 to 561152\n",
      "Data columns (total 3 columns):\n",
      " #   Column        Non-Null Count   Dtype \n",
      "---  ------        --------------   ----- \n",
      " 0   MANP_MNG_NO   561153 non-null  object\n",
      " 1   FUEL_CD       518235 non-null  object\n",
      " 2   VHCTY_TY_CD2  546198 non-null  object\n",
      "dtypes: object(3)\n",
      "memory usage: 12.8+ MB\n"
     ]
    }
   ],
   "source": [
    "# 3.8s\n",
    "src = wd.export_to_pandas(\"SELECT MANP_MNG_NO, FUEL_CD, VHCTY_TY_CD2 FROM STD_CEG_CAR_SRC_MIG;\")\n",
    "src.info()"
   ]
  },
  {
   "cell_type": "code",
   "execution_count": 12,
   "metadata": {
    "tags": []
   },
   "outputs": [],
   "source": [
    "src_ch_col = {\n",
    "    'MANP_MNG_NO':'제원관리번호', \n",
    "    'FUEL_CD':'연료',\n",
    "    'VHCTY_TY_CD2':'차종유형', \n",
    "}"
   ]
  },
  {
   "cell_type": "code",
   "execution_count": 13,
   "metadata": {
    "tags": []
   },
   "outputs": [
    {
     "data": {
      "text/plain": [
       "Index(['제원관리번호', '연료', '차종유형'], dtype='object')"
      ]
     },
     "execution_count": 13,
     "metadata": {},
     "output_type": "execute_result"
    }
   ],
   "source": [
    "srcr = src.rename(columns=src_ch_col)\n",
    "srcr.columns"
   ]
  },
  {
   "cell_type": "markdown",
   "metadata": {},
   "source": [
    "## 정기검사(STD_TB_JGT_HIS)"
   ]
  },
  {
   "cell_type": "code",
   "execution_count": 14,
   "metadata": {
    "tags": []
   },
   "outputs": [
    {
     "name": "stdout",
     "output_type": "stream",
     "text": [
      "<class 'pandas.core.frame.DataFrame'>\n",
      "RangeIndex: 64316863 entries, 0 to 64316862\n",
      "Data columns (total 11 columns):\n",
      " #   Column                  Dtype  \n",
      "---  ------                  -----  \n",
      " 0   VIN                     object \n",
      " 1   FDRM_INSP_INSP_MTHD_CD  object \n",
      " 2   FDRM_INSP_KND_CD        object \n",
      " 3   FDRM_INSP_JGMT          object \n",
      " 4   FDRM_NLOD_SMO_MSTVL1    float64\n",
      " 5   FDRM_NLOD_SMO_MSTVL2    float64\n",
      " 6   FDRM_NLOD_SMO_MSTVL3    float64\n",
      " 7   FDRM_NLOD_SMO_JT_YN1    object \n",
      " 8   FDRM_INSP_YMD           int64  \n",
      " 9   FDRM_DRVNG_DSTNC        float64\n",
      " 10  FDRM_NLOD_SMO_PRMVL1    float64\n",
      "dtypes: float64(5), int64(1), object(5)\n",
      "memory usage: 5.3+ GB\n"
     ]
    }
   ],
   "source": [
    "# 3m 34.9s\n",
    "# jgt = wb.export_to_pandas(\"SELECT VIN, FDRM_INSP_INSP_MTHD_CD, FDRM_INSP_KND_CD, FDRM_INSP_JGMT, FDRM_NLOD_SMO_MSTVL1, FDRM_NLOD_SMO_MSTVL2, FDRM_NLOD_SMO_MSTVL3, FDRM_NLOD_SMO_JT_YN1, FDRM_INSP_YMD, FDRM_DRVNG_DSTNC, FDRM_NLOD_SMO_PRMVL1 FROM STD_TB_JGT_HIS WHERE rownum <= 1000;\") # 테스트용\n",
    "jgt = wd.export_to_pandas(\"SELECT VIN, FDRM_INSP_INSP_MTHD_CD, FDRM_INSP_KND_CD, FDRM_INSP_JGMT, FDRM_NLOD_SMO_MSTVL1, FDRM_NLOD_SMO_MSTVL2, FDRM_NLOD_SMO_MSTVL3, FDRM_NLOD_SMO_JT_YN1, FDRM_INSP_YMD, FDRM_DRVNG_DSTNC, FDRM_NLOD_SMO_PRMVL1 FROM STD_TB_JGT_HIS;\")\n",
    "jgt.info()"
   ]
  },
  {
   "cell_type": "code",
   "execution_count": 15,
   "metadata": {
    "tags": []
   },
   "outputs": [],
   "source": [
    "jgt_ch_col = {\n",
    "    'VIN':'차대번호', \n",
    "    'FDRM_INSP_INSP_MTHD_CD':'검사방법', \n",
    "    'FDRM_INSP_KND_CD':'검사종류', \n",
    "    'FDRM_INSP_JGMT':'검사판정', \n",
    "    'FDRM_NLOD_SMO_MSTVL1':'무부하매연측정치1', \n",
    "    'FDRM_NLOD_SMO_MSTVL2':'무부하매연측정치2', \n",
    "    'FDRM_NLOD_SMO_MSTVL3':'무부하매연측정치3', \n",
    "    'FDRM_NLOD_SMO_JT_YN1':'무부하매연판정1', \n",
    "    'FDRM_INSP_YMD':'검사일자',\n",
    "    'FDRM_DRVNG_DSTNC':'주행거리',\n",
    "    'FDRM_NLOD_SMO_PRMVL1':'무부하매연허용치1', \n",
    "}"
   ]
  },
  {
   "cell_type": "code",
   "execution_count": 16,
   "metadata": {
    "tags": []
   },
   "outputs": [
    {
     "data": {
      "text/plain": [
       "Index(['차대번호', '검사방법', '검사종류', '검사판정', '무부하매연측정치1', '무부하매연측정치2', '무부하매연측정치3',\n",
       "       '무부하매연판정1', '검사일자', '주행거리', '무부하매연허용치1'],\n",
       "      dtype='object')"
      ]
     },
     "execution_count": 16,
     "metadata": {},
     "output_type": "execute_result"
    }
   ],
   "source": [
    "jgtr = jgt.rename(columns=jgt_ch_col)\n",
    "jgtr.columns"
   ]
  },
  {
   "cell_type": "markdown",
   "metadata": {},
   "source": [
    "## 정밀검사(STD_TB_EET_HIS_ME)"
   ]
  },
  {
   "cell_type": "code",
   "execution_count": 17,
   "metadata": {
    "tags": []
   },
   "outputs": [
    {
     "name": "stdout",
     "output_type": "stream",
     "text": [
      "<class 'pandas.core.frame.DataFrame'>\n",
      "RangeIndex: 99608917 entries, 0 to 99608916\n",
      "Data columns (total 11 columns):\n",
      " #   Column                 Dtype  \n",
      "---  ------                 -----  \n",
      " 0   VIN                    object \n",
      " 1   PRCINSP_MSRMT_MTHD_CD  object \n",
      " 2   PRCINSP_KND_CD         object \n",
      " 3   PRCINSP_JGMT           object \n",
      " 4   PREC_NLOD_SMO_MSTVL1   float64\n",
      " 5   PREC_NLOD_SMO_MSTVL2   float64\n",
      " 6   PREC_NLOD_SMO_MSTVL3   float64\n",
      " 7   PREC_NLOD_SMO_JT_YN1   object \n",
      " 8   PRCINSP_YMD            int64  \n",
      " 9   PRCINSP_DRVNG_DSTNC    float64\n",
      " 10  PREC_NLOD_SMO_PRMVL1   float64\n",
      "dtypes: float64(5), int64(1), object(5)\n",
      "memory usage: 8.2+ GB\n"
     ]
    }
   ],
   "source": [
    "# 6m 36.1s\n",
    "# eet = wb.export_to_pandas(\"SELECT VIN, PRCINSP_MSRMT_MTHD_CD, PRCINSP_KND_CD, PRCINSP_JGMT, PREC_NLOD_SMO_MSTVL1, PREC_NLOD_SMO_MSTVL2, PREC_NLOD_SMO_MSTVL3, PREC_NLOD_SMO_JT_YN1, PRCINSP_YMD, PRCINSP_DRVNG_DSTNC FROM STD_TB_EET_HIS_ME WHERE rownum <= 1000;\") # 테스트용\n",
    "eet = wd.export_to_pandas(\"SELECT VIN, PRCINSP_MSRMT_MTHD_CD, PRCINSP_KND_CD, PRCINSP_JGMT, PREC_NLOD_SMO_MSTVL1, PREC_NLOD_SMO_MSTVL2, PREC_NLOD_SMO_MSTVL3, PREC_NLOD_SMO_JT_YN1, PRCINSP_YMD, PRCINSP_DRVNG_DSTNC, PREC_NLOD_SMO_PRMVL1 FROM STD_TB_EET_HIS_ME;\")\n",
    "eet.info()"
   ]
  },
  {
   "cell_type": "code",
   "execution_count": 18,
   "metadata": {
    "tags": []
   },
   "outputs": [
    {
     "data": {
      "text/plain": [
       "Index(['VIN', 'PRCINSP_MSRMT_MTHD_CD', 'PRCINSP_KND_CD', 'PRCINSP_JGMT',\n",
       "       'PREC_NLOD_SMO_MSTVL1', 'PREC_NLOD_SMO_MSTVL2', 'PREC_NLOD_SMO_MSTVL3',\n",
       "       'PREC_NLOD_SMO_JT_YN1', 'PRCINSP_YMD', 'PRCINSP_DRVNG_DSTNC',\n",
       "       'PREC_NLOD_SMO_PRMVL1'],\n",
       "      dtype='object')"
      ]
     },
     "execution_count": 18,
     "metadata": {},
     "output_type": "execute_result"
    }
   ],
   "source": [
    "eet.columns"
   ]
  },
  {
   "cell_type": "code",
   "execution_count": 19,
   "metadata": {
    "tags": []
   },
   "outputs": [],
   "source": [
    "eet_ch_col = {\n",
    "    'VIN':'차대번호', \n",
    "    'PRCINSP_MSRMT_MTHD_CD':'검사방법', \n",
    "    'PRCINSP_KND_CD':'검사종류', \n",
    "    'PRCINSP_JGMT':'검사판정', \n",
    "    'PREC_NLOD_SMO_MSTVL1':'무부하매연측정치1', \n",
    "    'PREC_NLOD_SMO_MSTVL2':'무부하매연측정치2', \n",
    "    'PREC_NLOD_SMO_MSTVL3':'무부하매연측정치3', \n",
    "    'PREC_NLOD_SMO_JT_YN1':'무부하매연판정1', \n",
    "    'PRCINSP_YMD':'검사일자',\n",
    "    'PRCINSP_DRVNG_DSTNC':'주행거리', \n",
    "    'PREC_NLOD_SMO_PRMVL1':'무부하매연허용치1', \n",
    "}"
   ]
  },
  {
   "cell_type": "code",
   "execution_count": 20,
   "metadata": {
    "tags": []
   },
   "outputs": [
    {
     "data": {
      "text/plain": [
       "Index(['차대번호', '검사방법', '검사종류', '검사판정', '무부하매연측정치1', '무부하매연측정치2', '무부하매연측정치3',\n",
       "       '무부하매연판정1', '검사일자', '주행거리', '무부하매연허용치1'],\n",
       "      dtype='object')"
      ]
     },
     "execution_count": 20,
     "metadata": {},
     "output_type": "execute_result"
    }
   ],
   "source": [
    "eetr = eet.rename(columns=eet_ch_col)\n",
    "eetr.columns"
   ]
  },
  {
   "cell_type": "markdown",
   "metadata": {},
   "source": [
    "## 법정동코드(STD_BJCD_INFO)"
   ]
  },
  {
   "cell_type": "code",
   "execution_count": 21,
   "metadata": {
    "tags": []
   },
   "outputs": [
    {
     "name": "stdout",
     "output_type": "stream",
     "text": [
      "<class 'pandas.core.frame.DataFrame'>\n",
      "RangeIndex: 47916 entries, 0 to 47915\n",
      "Data columns (total 3 columns):\n",
      " #   Column        Non-Null Count  Dtype \n",
      "---  ------        --------------  ----- \n",
      " 0   STDG_CD       47916 non-null  int64 \n",
      " 1   STDG_CTPV_NM  47916 non-null  object\n",
      " 2   STDG_SGG_NM   47892 non-null  object\n",
      "dtypes: int64(1), object(2)\n",
      "memory usage: 1.1+ MB\n"
     ]
    }
   ],
   "source": [
    "# 1.3s\n",
    "code = wd.export_to_pandas(\"SELECT STDG_CD, STDG_CTPV_NM, STDG_SGG_NM FROM STD_BJCD_INFO;\")\n",
    "code.info()"
   ]
  },
  {
   "cell_type": "code",
   "execution_count": 22,
   "metadata": {
    "tags": []
   },
   "outputs": [
    {
     "data": {
      "text/plain": [
       "Index(['STDG_CD', 'STDG_CTPV_NM', 'STDG_SGG_NM'], dtype='object')"
      ]
     },
     "execution_count": 22,
     "metadata": {},
     "output_type": "execute_result"
    }
   ],
   "source": [
    "code.columns"
   ]
  },
  {
   "cell_type": "code",
   "execution_count": 23,
   "metadata": {
    "tags": []
   },
   "outputs": [],
   "source": [
    "code_ch_col = {\n",
    "    'STDG_CD':'법정동코드', \n",
    "    'STDG_CTPV_NM':'시도', \n",
    "    'STDG_SGG_NM':'시군구',  \n",
    "}"
   ]
  },
  {
   "cell_type": "code",
   "execution_count": 24,
   "metadata": {
    "tags": []
   },
   "outputs": [
    {
     "data": {
      "text/plain": [
       "Index(['법정동코드', '시도', '시군구'], dtype='object')"
      ]
     },
     "execution_count": 24,
     "metadata": {},
     "output_type": "execute_result"
    }
   ],
   "source": [
    "coder = code.rename(columns=code_ch_col)\n",
    "coder.columns"
   ]
  },
  {
   "cell_type": "markdown",
   "metadata": {},
   "source": [
    "## 저감장치 부착이력(STD_DLM_TB_ERP_ATT_HIS)"
   ]
  },
  {
   "cell_type": "code",
   "execution_count": 25,
   "metadata": {
    "tags": []
   },
   "outputs": [
    {
     "name": "stdout",
     "output_type": "stream",
     "text": [
      "<class 'pandas.core.frame.DataFrame'>\n",
      "RangeIndex: 1010946 entries, 0 to 1010945\n",
      "Data columns (total 2 columns):\n",
      " #   Column        Non-Null Count    Dtype \n",
      "---  ------        --------------    ----- \n",
      " 0   VIN           1010946 non-null  object\n",
      " 1   RDCDVC_SE_CD  1010946 non-null  object\n",
      "dtypes: object(2)\n",
      "memory usage: 15.4+ MB\n"
     ]
    }
   ],
   "source": [
    "# 3.0s\n",
    "att = wd.export_to_pandas(\"SELECT VIN, RDCDVC_SE_CD FROM STD_DLM_TB_ERP_ATT_HIS;\")\n",
    "att.info()"
   ]
  },
  {
   "cell_type": "code",
   "execution_count": 26,
   "metadata": {
    "tags": []
   },
   "outputs": [],
   "source": [
    "att_ch_col = {\n",
    "    'VIN':'차대번호', \n",
    "    'RDCDVC_SE_CD':'저감장치구분', \n",
    "}"
   ]
  },
  {
   "cell_type": "code",
   "execution_count": 27,
   "metadata": {
    "tags": []
   },
   "outputs": [
    {
     "data": {
      "text/plain": [
       "Index(['차대번호', '저감장치구분'], dtype='object')"
      ]
     },
     "execution_count": 27,
     "metadata": {},
     "output_type": "execute_result"
    }
   ],
   "source": [
    "attr = att.rename(columns=att_ch_col)\n",
    "attr.columns"
   ]
  },
  {
   "cell_type": "markdown",
   "metadata": {},
   "source": [
    "## 법정동코드(STD_BJCD_INFO)"
   ]
  },
  {
   "cell_type": "code",
   "execution_count": 28,
   "metadata": {},
   "outputs": [
    {
     "name": "stdout",
     "output_type": "stream",
     "text": [
      "<class 'pandas.core.frame.DataFrame'>\n",
      "RangeIndex: 47916 entries, 0 to 47915\n",
      "Data columns (total 5 columns):\n",
      " #   Column        Non-Null Count  Dtype \n",
      "---  ------        --------------  ----- \n",
      " 0   STDG_CD       47916 non-null  int64 \n",
      " 1   STDG_CTPV_CD  47916 non-null  int64 \n",
      " 2   STDG_SGG_CD   47916 non-null  int64 \n",
      " 3   STDG_CTPV_NM  47916 non-null  object\n",
      " 4   STDG_SGG_NM   47892 non-null  object\n",
      "dtypes: int64(3), object(2)\n",
      "memory usage: 1.8+ MB\n"
     ]
    }
   ],
   "source": [
    "# 1.3s\n",
    "code = wd.export_to_pandas(\"SELECT STDG_CD, STDG_CTPV_CD, STDG_SGG_CD, STDG_CTPV_NM, STDG_SGG_NM FROM STD_BJCD_INFO;\")\n",
    "code.info()"
   ]
  },
  {
   "cell_type": "code",
   "execution_count": 29,
   "metadata": {},
   "outputs": [
    {
     "data": {
      "text/plain": [
       "Index(['STDG_CD', 'STDG_CTPV_CD', 'STDG_SGG_CD', 'STDG_CTPV_NM',\n",
       "       'STDG_SGG_NM'],\n",
       "      dtype='object')"
      ]
     },
     "execution_count": 29,
     "metadata": {},
     "output_type": "execute_result"
    }
   ],
   "source": [
    "code.columns"
   ]
  },
  {
   "cell_type": "code",
   "execution_count": 30,
   "metadata": {},
   "outputs": [],
   "source": [
    "code_ch_col = {\n",
    "    'STDG_CD':'법정동코드', \n",
    "    'STDG_CTPV_NM':'시도', \n",
    "    'STDG_SGG_NM':'시군구', \n",
    "    'STDG_CTPV_CD':'시도코드', \n",
    "    'STDG_SGG_CD':'시군구코드',\n",
    "}"
   ]
  },
  {
   "cell_type": "code",
   "execution_count": 31,
   "metadata": {},
   "outputs": [
    {
     "data": {
      "text/plain": [
       "Index(['법정동코드', '시도코드', '시군구코드', '시도', '시군구'], dtype='object')"
      ]
     },
     "execution_count": 31,
     "metadata": {},
     "output_type": "execute_result"
    }
   ],
   "source": [
    "coder = code.rename(columns=code_ch_col)\n",
    "coder.columns"
   ]
  },
  {
   "cell_type": "markdown",
   "metadata": {},
   "source": [
    "## 운행제한 건수 데이터"
   ]
  },
  {
   "cell_type": "code",
   "execution_count": 32,
   "metadata": {
    "tags": []
   },
   "outputs": [
    {
     "name": "stdout",
     "output_type": "stream",
     "text": [
      "<class 'pandas.core.frame.DataFrame'>\n",
      "RangeIndex: 408196 entries, 0 to 408195\n",
      "Data columns (total 7 columns):\n",
      " #   Column  Non-Null Count   Dtype \n",
      "---  ------  --------------   ----- \n",
      " 0   차대번호    408196 non-null  object\n",
      " 1   계절제_1차  408196 non-null  int64 \n",
      " 2   계절제_2차  408196 non-null  int64 \n",
      " 3   계절제_3차  408196 non-null  int64 \n",
      " 4   계절제_4차  408196 non-null  int64 \n",
      " 5   비상시     408196 non-null  int64 \n",
      " 6   상시      408196 non-null  int64 \n",
      "dtypes: int64(6), object(1)\n",
      "memory usage: 21.8+ MB\n"
     ]
    }
   ],
   "source": [
    "# 3.0s\n",
    "lmt = we.export_to_pandas(\"SELECT * FROM GRD5_LMT_NOCS;\")\n",
    "lmt.info()"
   ]
  },
  {
   "cell_type": "code",
   "execution_count": 33,
   "metadata": {
    "tags": []
   },
   "outputs": [
    {
     "data": {
      "text/plain": [
       "Index(['차대번호', '계절제_1차', '계절제_2차', '계절제_3차', '계절제_4차', '비상시', '상시'], dtype='object')"
      ]
     },
     "execution_count": 33,
     "metadata": {},
     "output_type": "execute_result"
    }
   ],
   "source": [
    "lmt.columns"
   ]
  },
  {
   "cell_type": "code",
   "execution_count": 34,
   "metadata": {
    "tags": []
   },
   "outputs": [
    {
     "data": {
      "text/html": [
       "<div>\n",
       "<style scoped>\n",
       "    .dataframe tbody tr th:only-of-type {\n",
       "        vertical-align: middle;\n",
       "    }\n",
       "\n",
       "    .dataframe tbody tr th {\n",
       "        vertical-align: top;\n",
       "    }\n",
       "\n",
       "    .dataframe thead th {\n",
       "        text-align: right;\n",
       "    }\n",
       "</style>\n",
       "<table border=\"1\" class=\"dataframe\">\n",
       "  <thead>\n",
       "    <tr style=\"text-align: right;\">\n",
       "      <th></th>\n",
       "      <th>차대번호</th>\n",
       "      <th>계절제_1차</th>\n",
       "      <th>계절제_2차</th>\n",
       "      <th>계절제_3차</th>\n",
       "      <th>계절제_4차</th>\n",
       "      <th>비상시</th>\n",
       "      <th>상시</th>\n",
       "      <th>운행제한건수</th>\n",
       "    </tr>\n",
       "  </thead>\n",
       "  <tbody>\n",
       "    <tr>\n",
       "      <th>0</th>\n",
       "      <td>000000JN44C000673</td>\n",
       "      <td>0</td>\n",
       "      <td>0</td>\n",
       "      <td>9</td>\n",
       "      <td>0</td>\n",
       "      <td>1</td>\n",
       "      <td>0</td>\n",
       "      <td>10</td>\n",
       "    </tr>\n",
       "    <tr>\n",
       "      <th>1</th>\n",
       "      <td>01451201380</td>\n",
       "      <td>0</td>\n",
       "      <td>0</td>\n",
       "      <td>0</td>\n",
       "      <td>0</td>\n",
       "      <td>0</td>\n",
       "      <td>0</td>\n",
       "      <td>0</td>\n",
       "    </tr>\n",
       "    <tr>\n",
       "      <th>2</th>\n",
       "      <td>01751300580</td>\n",
       "      <td>0</td>\n",
       "      <td>1</td>\n",
       "      <td>0</td>\n",
       "      <td>0</td>\n",
       "      <td>0</td>\n",
       "      <td>0</td>\n",
       "      <td>1</td>\n",
       "    </tr>\n",
       "    <tr>\n",
       "      <th>3</th>\n",
       "      <td>01761300921</td>\n",
       "      <td>0</td>\n",
       "      <td>0</td>\n",
       "      <td>0</td>\n",
       "      <td>0</td>\n",
       "      <td>0</td>\n",
       "      <td>0</td>\n",
       "      <td>0</td>\n",
       "    </tr>\n",
       "    <tr>\n",
       "      <th>4</th>\n",
       "      <td>01761301128</td>\n",
       "      <td>0</td>\n",
       "      <td>0</td>\n",
       "      <td>1</td>\n",
       "      <td>0</td>\n",
       "      <td>0</td>\n",
       "      <td>0</td>\n",
       "      <td>1</td>\n",
       "    </tr>\n",
       "  </tbody>\n",
       "</table>\n",
       "</div>"
      ],
      "text/plain": [
       "                차대번호  계절제_1차  계절제_2차  계절제_3차  계절제_4차  비상시  상시  운행제한건수\n",
       "0  000000JN44C000673       0       0       9       0    1   0      10\n",
       "1        01451201380       0       0       0       0    0   0       0\n",
       "2        01751300580       0       1       0       0    0   0       1\n",
       "3        01761300921       0       0       0       0    0   0       0\n",
       "4        01761301128       0       0       1       0    0   0       1"
      ]
     },
     "execution_count": 34,
     "metadata": {},
     "output_type": "execute_result"
    }
   ],
   "source": [
    "lmt['운행제한건수'] = lmt[['계절제_1차', '계절제_2차', '계절제_3차', '계절제_4차', '비상시', '상시']].sum(axis=1)\n",
    "lmt.head()"
   ]
  },
  {
   "cell_type": "markdown",
   "metadata": {},
   "source": [
    "## 4등급 result(for DPF유무)"
   ]
  },
  {
   "cell_type": "code",
   "execution_count": 35,
   "metadata": {
    "tags": []
   },
   "outputs": [
    {
     "name": "stdout",
     "output_type": "stream",
     "text": [
      "<class 'pandas.core.frame.DataFrame'>\n",
      "RangeIndex: 1502235 entries, 0 to 1502234\n",
      "Data columns (total 2 columns):\n",
      " #   Column    Non-Null Count    Dtype \n",
      "---  ------    --------------    ----- \n",
      " 0   차대번호      1502235 non-null  object\n",
      " 1   DPF유무_수정  1153813 non-null  object\n",
      "dtypes: object(2)\n",
      "memory usage: 22.9+ MB\n"
     ]
    }
   ],
   "source": [
    "# 3.0s\n",
    "rs = we.export_to_pandas(\"SELECT 차대번호, DPF유무_수정 FROM GRD4_RESULT;\")\n",
    "rs.info()"
   ]
  },
  {
   "cell_type": "markdown",
   "metadata": {},
   "source": [
    "## STD_KOSIS"
   ]
  },
  {
   "cell_type": "code",
   "execution_count": 36,
   "metadata": {
    "tags": []
   },
   "outputs": [
    {
     "name": "stdout",
     "output_type": "stream",
     "text": [
      "<class 'pandas.core.frame.DataFrame'>\n",
      "RangeIndex: 1230 entries, 0 to 1229\n",
      "Data columns (total 4 columns):\n",
      " #   Column               Non-Null Count  Dtype  \n",
      "---  ------               --------------  -----  \n",
      " 0   CTPV                 1230 non-null   object \n",
      " 1   SGG                  1230 non-null   object \n",
      " 2   VHCTY_CD             1230 non-null   object \n",
      " 3   DY_AVRG_DRVNG_DSTNC  1230 non-null   float64\n",
      "dtypes: float64(1), object(3)\n",
      "memory usage: 38.6+ KB\n"
     ]
    }
   ],
   "source": [
    "kosis = we.export_to_pandas(\"SELECT CTPV, SGG, VHCTY_CD, DY_AVRG_DRVNG_DSTNC FROM STD_KOSIS;\")\n",
    "kosis.info()"
   ]
  },
  {
   "cell_type": "code",
   "execution_count": 37,
   "metadata": {
    "tags": []
   },
   "outputs": [],
   "source": [
    "kosis_ch_col = {\n",
    "    'CTPV':'시도', \n",
    "    'SGG':'시군구', \n",
    "    'VHCTY_CD':'차종', \n",
    "    'DY_AVRG_DRVNG_DSTNC':'일일평균주행거리', \n",
    "}"
   ]
  },
  {
   "cell_type": "code",
   "execution_count": 38,
   "metadata": {
    "tags": []
   },
   "outputs": [
    {
     "data": {
      "text/plain": [
       "Index(['시도', '시군구', '차종', '일일평균주행거리'], dtype='object')"
      ]
     },
     "execution_count": 38,
     "metadata": {},
     "output_type": "execute_result"
    }
   ],
   "source": [
    "kosisr = kosis.rename(columns=kosis_ch_col)\n",
    "kosisr.columns"
   ]
  },
  {
   "cell_type": "code",
   "execution_count": 39,
   "metadata": {
    "tags": []
   },
   "outputs": [
    {
     "data": {
      "text/html": [
       "<div>\n",
       "<style scoped>\n",
       "    .dataframe tbody tr th:only-of-type {\n",
       "        vertical-align: middle;\n",
       "    }\n",
       "\n",
       "    .dataframe tbody tr th {\n",
       "        vertical-align: top;\n",
       "    }\n",
       "\n",
       "    .dataframe thead th {\n",
       "        text-align: right;\n",
       "    }\n",
       "</style>\n",
       "<table border=\"1\" class=\"dataframe\">\n",
       "  <thead>\n",
       "    <tr style=\"text-align: right;\">\n",
       "      <th></th>\n",
       "      <th>시도</th>\n",
       "      <th>시군구</th>\n",
       "      <th>차종</th>\n",
       "      <th>일일평균주행거리</th>\n",
       "    </tr>\n",
       "  </thead>\n",
       "  <tbody>\n",
       "    <tr>\n",
       "      <th>0</th>\n",
       "      <td>서울특별시</td>\n",
       "      <td>소계</td>\n",
       "      <td>합계</td>\n",
       "      <td>36.60</td>\n",
       "    </tr>\n",
       "    <tr>\n",
       "      <th>1</th>\n",
       "      <td>서울특별시</td>\n",
       "      <td>소계</td>\n",
       "      <td>승용</td>\n",
       "      <td>33.90</td>\n",
       "    </tr>\n",
       "    <tr>\n",
       "      <th>2</th>\n",
       "      <td>서울특별시</td>\n",
       "      <td>소계</td>\n",
       "      <td>승합</td>\n",
       "      <td>48.30</td>\n",
       "    </tr>\n",
       "    <tr>\n",
       "      <th>3</th>\n",
       "      <td>서울특별시</td>\n",
       "      <td>소계</td>\n",
       "      <td>화물</td>\n",
       "      <td>54.40</td>\n",
       "    </tr>\n",
       "    <tr>\n",
       "      <th>4</th>\n",
       "      <td>서울특별시</td>\n",
       "      <td>소계</td>\n",
       "      <td>특수</td>\n",
       "      <td>49.30</td>\n",
       "    </tr>\n",
       "  </tbody>\n",
       "</table>\n",
       "</div>"
      ],
      "text/plain": [
       "      시도 시군구  차종  일일평균주행거리\n",
       "0  서울특별시  소계  합계     36.60\n",
       "1  서울특별시  소계  승용     33.90\n",
       "2  서울특별시  소계  승합     48.30\n",
       "3  서울특별시  소계  화물     54.40\n",
       "4  서울특별시  소계  특수     49.30"
      ]
     },
     "execution_count": 39,
     "metadata": {},
     "output_type": "execute_result"
    }
   ],
   "source": [
    "kosisr.head()"
   ]
  },
  {
   "cell_type": "markdown",
   "metadata": {},
   "source": [
    "# 전처리"
   ]
  },
  {
   "cell_type": "markdown",
   "metadata": {},
   "source": [
    "## 중복 차대번호 제거"
   ]
  },
  {
   "cell_type": "code",
   "execution_count": 40,
   "metadata": {
    "tags": []
   },
   "outputs": [
    {
     "data": {
      "text/plain": [
       "((4277460, 11), 4277361)"
      ]
     },
     "execution_count": 40,
     "metadata": {},
     "output_type": "execute_result"
    }
   ],
   "source": [
    "carr.shape, len(carr['차대번호'].unique())"
   ]
  },
  {
   "cell_type": "code",
   "execution_count": 41,
   "metadata": {
    "tags": []
   },
   "outputs": [
    {
     "data": {
      "text/plain": [
       "(4277361, 11)"
      ]
     },
     "execution_count": 41,
     "metadata": {},
     "output_type": "execute_result"
    }
   ],
   "source": [
    "carr['최초등록일자'] = pd.to_numeric(carr['최초등록일자'], errors='coerce')\n",
    "carr = carr.sort_values('최초등록일자', ascending=False).drop_duplicates('차대번호').reset_index(drop=True)\n",
    "carr.shape"
   ]
  },
  {
   "cell_type": "markdown",
   "metadata": {},
   "source": [
    "## 배출가스등급 코드 변환"
   ]
  },
  {
   "cell_type": "code",
   "execution_count": 42,
   "metadata": {
    "tags": []
   },
   "outputs": [
    {
     "data": {
      "text/plain": [
       "array(['5', '4'], dtype=object)"
      ]
     },
     "execution_count": 42,
     "metadata": {},
     "output_type": "execute_result"
    }
   ],
   "source": [
    "grd_dict = {\n",
    "    'A0501':'1', \n",
    "    'A0502':'2', \n",
    "    'A0503':'3', \n",
    "    'A0504':'4', \n",
    "    'A0505':'5', \n",
    "    'A05T2':'2',\n",
    "    'A05T3':'3', \n",
    "    'A05T4':'4', \n",
    "    'A05T5':'5', \n",
    "    'A05X':'X', \n",
    "}\n",
    "carr['배출가스등급'] = carr['배출가스등급'].replace(grd_dict)\n",
    "carr['배출가스등급'].unique()"
   ]
  },
  {
   "cell_type": "markdown",
   "metadata": {},
   "source": [
    "## 차종 코드 변환"
   ]
  },
  {
   "cell_type": "code",
   "execution_count": 43,
   "metadata": {
    "tags": []
   },
   "outputs": [
    {
     "data": {
      "text/plain": [
       "array(['화물', '승합', '승용', '특수', nan], dtype=object)"
      ]
     },
     "execution_count": 43,
     "metadata": {},
     "output_type": "execute_result"
    }
   ],
   "source": [
    "cd_dict = {\n",
    "    'A31M':'이륜', \n",
    "    'A31P':'승용', \n",
    "    'A31S':'특수', \n",
    "    'A31T':'화물', \n",
    "    'A31V':'승합'\n",
    "}\n",
    "carr['차종'] = carr['차종'].replace(cd_dict)\n",
    "carr['차종'].unique()"
   ]
  },
  {
   "cell_type": "markdown",
   "metadata": {},
   "source": [
    "## 용도 코드 변환"
   ]
  },
  {
   "cell_type": "code",
   "execution_count": 44,
   "metadata": {
    "tags": []
   },
   "outputs": [
    {
     "data": {
      "text/plain": [
       "array(['개인용', '영업용', '관용'], dtype=object)"
      ]
     },
     "execution_count": 44,
     "metadata": {},
     "output_type": "execute_result"
    }
   ],
   "source": [
    "purps_dict = {\n",
    "    'A08P':'개인용', \n",
    "    'A08B':'영업용', \n",
    "    'A08O':'관용',\n",
    "}\n",
    "carr['용도'] = carr['용도'].replace(purps_dict)\n",
    "carr['용도'].unique()"
   ]
  },
  {
   "cell_type": "markdown",
   "metadata": {},
   "source": [
    "## 등록정보 말소 제거"
   ]
  },
  {
   "cell_type": "code",
   "execution_count": 45,
   "metadata": {
    "tags": []
   },
   "outputs": [
    {
     "data": {
      "text/plain": [
       "(2678048, 11)"
      ]
     },
     "execution_count": 45,
     "metadata": {},
     "output_type": "execute_result"
    }
   ],
   "source": [
    "carm = carr[carr['차량말소YN'] == 'N'].reset_index(drop=True)\n",
    "carm.shape"
   ]
  },
  {
   "cell_type": "markdown",
   "metadata": {},
   "source": [
    "## 연료 코드 변환"
   ]
  },
  {
   "cell_type": "code",
   "execution_count": 46,
   "metadata": {
    "tags": []
   },
   "outputs": [
    {
     "data": {
      "text/plain": [
       "array(['경유', '휘발유', 'CNG(압축천연가스)', nan, 'LPG(액화석유가스)', '기타연료',\n",
       "       '휘발유 하이브리드', '전기', '알코올', '태양열', '등유', 'CNG 하이브리드', '경유 하이브리드',\n",
       "       'LPG 하이브리드', '수소', 'LNG(액화천연가스)'], dtype=object)"
      ]
     },
     "execution_count": 46,
     "metadata": {},
     "output_type": "execute_result"
    }
   ],
   "source": [
    "fuel_dict = {\n",
    "    'A90GS':'휘발유', \n",
    "    'A91DS':'경유',\n",
    "    'A92LP':'LPG(액화석유가스)', \n",
    "    'A90GH':'휘발유 하이브리드', \n",
    "    'A93EV':'전기', \n",
    "    'A91DH':'경유 하이브리드', \n",
    "    'A92CN':'CNG(압축천연가스)', \n",
    "    'A93HD':'수소', \n",
    "    'A92LH':'LPG 하이브리드', \n",
    "    'A94OT':'기타연료', \n",
    "    'A92CH':'CNG 하이브리드',\n",
    "    'A90AC':'알코올', \n",
    "    'A93SH':'태양열', \n",
    "    'A91KS':'등유', \n",
    "    'A92LN':'LNG(액화천연가스)', \n",
    "    'A90PH':'플러그인 하이브리드', \n",
    "}\n",
    "srcr['연료'] = srcr['연료'].replace(fuel_dict)\n",
    "srcr['연료'].unique()"
   ]
  },
  {
   "cell_type": "markdown",
   "metadata": {},
   "source": [
    "## 차종유형 코드 변환"
   ]
  },
  {
   "cell_type": "code",
   "execution_count": 47,
   "metadata": {
    "tags": []
   },
   "outputs": [
    {
     "data": {
      "text/plain": [
       "array(['대형', '소형', '중형', '경형', nan], dtype=object)"
      ]
     },
     "execution_count": 47,
     "metadata": {},
     "output_type": "execute_result"
    }
   ],
   "source": [
    "ty_dict = {\n",
    "    'A30C':'경형', \n",
    "    'A30L':'대형', \n",
    "    'A30M':'중형', \n",
    "    'A30S':'소형',\n",
    "}\n",
    "srcr['차종유형'] = srcr['차종유형'].replace(ty_dict)\n",
    "srcr['차종유형'].unique()"
   ]
  },
  {
   "cell_type": "markdown",
   "metadata": {},
   "source": [
    "## 저감장치구분 코드 변환"
   ]
  },
  {
   "cell_type": "code",
   "execution_count": 48,
   "metadata": {
    "tags": []
   },
   "outputs": [
    {
     "data": {
      "text/plain": [
       "array(['A1001', 'A1003', 'A1005', 'A1006', 'A1002', 'A1004', 'A1007'],\n",
       "      dtype=object)"
      ]
     },
     "execution_count": 48,
     "metadata": {},
     "output_type": "execute_result"
    }
   ],
   "source": [
    "# 4m 14.3s\n",
    "attr['저감장치구분'].unique()"
   ]
  },
  {
   "cell_type": "code",
   "execution_count": 49,
   "metadata": {
    "tags": []
   },
   "outputs": [
    {
     "data": {
      "text/plain": [
       "array(['1종', '3종', '엔진개조', '엔진교체', '2종', '1종+SCR', '삼원촉매'], dtype=object)"
      ]
     },
     "execution_count": 49,
     "metadata": {},
     "output_type": "execute_result"
    }
   ],
   "source": [
    "# 27.5s\n",
    "rdcdvc_dict = {\n",
    "    'A1001':'1종', \n",
    "    'A1002':'2종', \n",
    "    'A1003':'3종', \n",
    "    'A1004':'1종+SCR', \n",
    "    'A1005':'엔진개조', \n",
    "    'A1006':'엔진교체',\n",
    "    'A1007':'삼원촉매',\n",
    "}\n",
    "attr['저감장치구분'] = attr['저감장치구분'].replace(rdcdvc_dict)\n",
    "attr['저감장치구분'].unique()"
   ]
  },
  {
   "cell_type": "markdown",
   "metadata": {},
   "source": [
    "## 저감장치 부착 유무"
   ]
  },
  {
   "cell_type": "code",
   "execution_count": 50,
   "metadata": {},
   "outputs": [],
   "source": [
    "attr.loc[(attr['저감장치구분'] == '1종') | (attr['저감장치구분'] == '1종+SCR'), 'DPF_YN'] = '유'"
   ]
  },
  {
   "cell_type": "code",
   "execution_count": 51,
   "metadata": {},
   "outputs": [
    {
     "data": {
      "text/plain": [
       "DPF_YN\n",
       "NaN    531833\n",
       "유      479113\n",
       "Name: count, dtype: int64"
      ]
     },
     "execution_count": 51,
     "metadata": {},
     "output_type": "execute_result"
    }
   ],
   "source": [
    "attr['DPF_YN'].value_counts(dropna=False)"
   ]
  },
  {
   "cell_type": "markdown",
   "metadata": {},
   "source": [
    "## 등록&제원 병합"
   ]
  },
  {
   "cell_type": "code",
   "execution_count": 52,
   "metadata": {},
   "outputs": [
    {
     "data": {
      "text/plain": [
       "(2678048, 13)"
      ]
     },
     "execution_count": 52,
     "metadata": {},
     "output_type": "execute_result"
    }
   ],
   "source": [
    "# 0.7s\n",
    "cs = carm.merge(srcr, on='제원관리번호', how='left')\n",
    "cs.shape"
   ]
  },
  {
   "cell_type": "markdown",
   "metadata": {},
   "source": [
    "## 정기&정밀 병합"
   ]
  },
  {
   "cell_type": "code",
   "execution_count": 53,
   "metadata": {},
   "outputs": [
    {
     "data": {
      "text/plain": [
       "Index(['차대번호', '검사방법', '검사종류', '검사판정', '무부하매연측정치1', '무부하매연측정치2', '무부하매연측정치3',\n",
       "       '무부하매연판정1', '검사일자', '주행거리', '무부하매연허용치1'],\n",
       "      dtype='object')"
      ]
     },
     "execution_count": 53,
     "metadata": {},
     "output_type": "execute_result"
    }
   ],
   "source": [
    "jgtr.columns"
   ]
  },
  {
   "cell_type": "code",
   "execution_count": 54,
   "metadata": {},
   "outputs": [
    {
     "data": {
      "text/plain": [
       "Index(['차대번호', '검사방법', '검사종류', '검사판정', '무부하매연측정치1', '무부하매연측정치2', '무부하매연측정치3',\n",
       "       '무부하매연판정1', '검사일자', '주행거리', '무부하매연허용치1'],\n",
       "      dtype='object')"
      ]
     },
     "execution_count": 54,
     "metadata": {},
     "output_type": "execute_result"
    }
   ],
   "source": [
    "eetr.columns"
   ]
  },
  {
   "cell_type": "code",
   "execution_count": 55,
   "metadata": {},
   "outputs": [],
   "source": [
    "jgtr['정기정밀'] = '정기'\n",
    "eetr['정기정밀'] = '정밀'"
   ]
  },
  {
   "cell_type": "code",
   "execution_count": 56,
   "metadata": {},
   "outputs": [
    {
     "data": {
      "text/plain": [
       "(163925780, 12)"
      ]
     },
     "execution_count": 56,
     "metadata": {},
     "output_type": "execute_result"
    }
   ],
   "source": [
    "# 3m 1.9s\n",
    "ins = pd.concat([jgtr, eetr], ignore_index=True)\n",
    "ins.shape"
   ]
  },
  {
   "cell_type": "markdown",
   "metadata": {},
   "source": [
    "### 최근 검사만 활용"
   ]
  },
  {
   "cell_type": "code",
   "execution_count": 57,
   "metadata": {},
   "outputs": [
    {
     "data": {
      "text/plain": [
       "(34114272, 12)"
      ]
     },
     "execution_count": 57,
     "metadata": {},
     "output_type": "execute_result"
    }
   ],
   "source": [
    "# 4m 14.3s\n",
    "insm = ins.sort_values('검사일자', ascending=False).drop_duplicates('차대번호').reset_index(drop=True)\n",
    "insm.shape"
   ]
  },
  {
   "cell_type": "markdown",
   "metadata": {},
   "source": [
    "## 검사종류 코드 변환"
   ]
  },
  {
   "cell_type": "code",
   "execution_count": 58,
   "metadata": {},
   "outputs": [
    {
     "data": {
      "text/plain": [
       "array(['종합검사', '종합검사(경과)', '1부재검사(종합)', '2부재검사(종합)', '정기검사', '재검사(1부재검사)',\n",
       "       '재검사(2부재검사)', '정기(경과)검사', '배출재검사(구변)', nan, '구조변경검사',\n",
       "       '종합(정밀) 1부재검사', '종합(정밀) 2부재검사', '종합(정밀)', '종합(경과:정밀)', '정밀검사',\n",
       "       '특정검사', '특정재검사(배출)', '임시검사', '배출재검사', '관능재검사', '특정재검사(관능)',\n",
       "       '특정검사(경과)', '정밀검사(경과)', 'A21R05', 'A21R06', '관능재검사(임시)'],\n",
       "      dtype=object)"
      ]
     },
     "execution_count": 58,
     "metadata": {},
     "output_type": "execute_result"
    }
   ],
   "source": [
    "# 27.5s\n",
    "knd_dict = {\n",
    "    'A21P01':'정밀검사', \n",
    "    'A1904':'정기검사', \n",
    "    'A21T06':'종합검사(경과)', \n",
    "    'A21T05':'종합검사', \n",
    "    'A21S01':'특정검사', \n",
    "    'A1902':'재검사(2부재검사)',\n",
    "    'A21R02':'2부재검사(종합)', \n",
    "    'A21P02':'정밀검사(경과)', \n",
    "    'A1903':'정기(경과)검사', \n",
    "    'A21S04':'특정재검사(배출)', \n",
    "    'A21E01':'배출재검사', \n",
    "    'A21R01':'1부재검사(종합)',\n",
    "    'A21C02':'구조변경검사', \n",
    "    'A21002':'관능재검사(임시)', \n",
    "    'A21S03':'특정재검사(관능)', \n",
    "    'A21S02':'특정검사(경과)', \n",
    "    'A1901':'재검사(1부재검사)', \n",
    "    'A21T02':'종합(정밀)',\n",
    "    'A21E02':'배출재검사(구변)', \n",
    "    'A21T01':'종합(경과:정밀)', \n",
    "    'A21T04':'종합(정밀) 2부재검사', \n",
    "    'A21001':'관능재검사', \n",
    "    'A21T03':'종합(정밀) 1부재검사', \n",
    "    'A21TMP':'임시검사', \n",
    "}\n",
    "insm['검사종류'] = insm['검사종류'].replace(knd_dict)\n",
    "insm['검사종류'].unique()"
   ]
  },
  {
   "cell_type": "markdown",
   "metadata": {},
   "source": [
    "## 검사방법 코드 변환"
   ]
  },
  {
   "cell_type": "code",
   "execution_count": 59,
   "metadata": {},
   "outputs": [
    {
     "data": {
      "text/plain": [
       "array(['무부하검사(급가속)', '부하검사(KD-147)', '부하검사(ASM-Idling)', '부하검사(LUG DOWN)',\n",
       "       '무부하검사(TSI)', '무부하검사(정지가동)', '부하검사(ASM2525)'], dtype=object)"
      ]
     },
     "execution_count": 59,
     "metadata": {},
     "output_type": "execute_result"
    }
   ],
   "source": [
    "# 14.9s\n",
    "mth_dict = {\n",
    "    'A18A':'무부하검사(TSI)', \n",
    "    'A18B':'무부하검사(급가속)', \n",
    "    'A18C':'무부하검사(정지가동)',\n",
    "    'A2301':'무부하검사(급가속)', \n",
    "    'A2302':'무부하검사(정지가동)',\n",
    "    'A2303':'무부하검사(TSI)', \n",
    "    'A2304':'부하검사(LUG DOWN)', \n",
    "    'A2305':'부하검사(ASM-Idling)', \n",
    "    'A2306':'부하검사(KD-147)', \n",
    "    'A2307':'부하검사(ASM2525)', \n",
    "}\n",
    "insm['검사방법'] = insm['검사방법'].replace(mth_dict)\n",
    "insm['검사방법'].unique()"
   ]
  },
  {
   "cell_type": "markdown",
   "metadata": {},
   "source": [
    "## 등록&제원&정기&정밀 병합"
   ]
  },
  {
   "cell_type": "code",
   "execution_count": 60,
   "metadata": {},
   "outputs": [
    {
     "data": {
      "text/plain": [
       "(2678048, 24)"
      ]
     },
     "execution_count": 60,
     "metadata": {},
     "output_type": "execute_result"
    }
   ],
   "source": [
    "# 2m 0.5s\n",
    "csi = cs.merge(insm, on='차대번호', how='left')\n",
    "csi.shape"
   ]
  },
  {
   "cell_type": "code",
   "execution_count": 61,
   "metadata": {},
   "outputs": [
    {
     "data": {
      "text/plain": [
       "Index(['차대번호', '법정동코드', '차량말소YN', '제원관리번호', '배출가스등급', '차량연식', '차종', '용도',\n",
       "       '최초등록일자', '제작일자', '차량번호', '연료', '차종유형', '검사방법', '검사종류', '검사판정',\n",
       "       '무부하매연측정치1', '무부하매연측정치2', '무부하매연측정치3', '무부하매연판정1', '검사일자', '주행거리',\n",
       "       '무부하매연허용치1', '정기정밀'],\n",
       "      dtype='object')"
      ]
     },
     "execution_count": 61,
     "metadata": {},
     "output_type": "execute_result"
    }
   ],
   "source": [
    "csi.columns"
   ]
  },
  {
   "cell_type": "markdown",
   "metadata": {},
   "source": [
    "## 등록&제원&정기&정밀&법정동 병합"
   ]
  },
  {
   "cell_type": "code",
   "execution_count": 62,
   "metadata": {},
   "outputs": [
    {
     "data": {
      "text/plain": [
       "(2678048, 24)"
      ]
     },
     "execution_count": 62,
     "metadata": {},
     "output_type": "execute_result"
    }
   ],
   "source": [
    "csi.shape"
   ]
  },
  {
   "cell_type": "code",
   "execution_count": 63,
   "metadata": {},
   "outputs": [
    {
     "data": {
      "text/plain": [
       "(2678048, 28)"
      ]
     },
     "execution_count": 63,
     "metadata": {},
     "output_type": "execute_result"
    }
   ],
   "source": [
    "csic = csi.merge(coder, on='법정동코드', how='left')\n",
    "csic.shape"
   ]
  },
  {
   "cell_type": "code",
   "execution_count": 64,
   "metadata": {},
   "outputs": [
    {
     "data": {
      "text/plain": [
       "2"
      ]
     },
     "execution_count": 64,
     "metadata": {},
     "output_type": "execute_result"
    }
   ],
   "source": [
    "csic['시도'].isnull().sum()"
   ]
  },
  {
   "cell_type": "code",
   "execution_count": 65,
   "metadata": {},
   "outputs": [
    {
     "data": {
      "text/plain": [
       "1844463    4165052000\n",
       "2426611    4163055000\n",
       "Name: 법정동코드, dtype: int64"
      ]
     },
     "execution_count": 65,
     "metadata": {},
     "output_type": "execute_result"
    }
   ],
   "source": [
    "csic.loc[csic['시도'].isnull() == True, '법정동코드']"
   ]
  },
  {
   "cell_type": "code",
   "execution_count": 66,
   "metadata": {},
   "outputs": [],
   "source": [
    "# 주소 수정\n",
    "csic.loc[csic['법정동코드'] == 4165052000, ['시도', '시군구']] = ['경기도', '포천시'] # 경기도 포천시 선단동\n",
    "csic.loc[csic['법정동코드'] == 4163055000, ['시도', '시군구']] = ['경기도', '양주시'] # 경기도 양주시 회천3동"
   ]
  },
  {
   "cell_type": "code",
   "execution_count": 67,
   "metadata": {},
   "outputs": [
    {
     "data": {
      "text/plain": [
       "0"
      ]
     },
     "execution_count": 67,
     "metadata": {},
     "output_type": "execute_result"
    }
   ],
   "source": [
    "csic['시도'].isnull().sum()"
   ]
  },
  {
   "cell_type": "markdown",
   "metadata": {},
   "source": [
    "## 등록&제원&정기&정밀&법정동&저감 병합"
   ]
  },
  {
   "cell_type": "code",
   "execution_count": 68,
   "metadata": {},
   "outputs": [
    {
     "data": {
      "text/plain": [
       "(2678048, 28)"
      ]
     },
     "execution_count": 68,
     "metadata": {},
     "output_type": "execute_result"
    }
   ],
   "source": [
    "csic.shape"
   ]
  },
  {
   "cell_type": "code",
   "execution_count": 69,
   "metadata": {},
   "outputs": [
    {
     "data": {
      "text/plain": [
       "(1010946, 3)"
      ]
     },
     "execution_count": 69,
     "metadata": {},
     "output_type": "execute_result"
    }
   ],
   "source": [
    "attr.shape"
   ]
  },
  {
   "cell_type": "code",
   "execution_count": 70,
   "metadata": {},
   "outputs": [
    {
     "data": {
      "text/plain": [
       "(1009373, 3)"
      ]
     },
     "execution_count": 70,
     "metadata": {},
     "output_type": "execute_result"
    }
   ],
   "source": [
    "attr = attr.drop_duplicates('차대번호').reset_index(drop=True)\n",
    "attr.shape"
   ]
  },
  {
   "cell_type": "code",
   "execution_count": 71,
   "metadata": {},
   "outputs": [
    {
     "data": {
      "text/plain": [
       "(2678048, 30)"
      ]
     },
     "execution_count": 71,
     "metadata": {},
     "output_type": "execute_result"
    }
   ],
   "source": [
    "csica = csic.merge(attr, on='차대번호', how='left')\n",
    "csica.shape"
   ]
  },
  {
   "cell_type": "markdown",
   "metadata": {},
   "source": [
    "## 등록&제원&정기&정밀&법정동&저감&운행제한건수 병합"
   ]
  },
  {
   "cell_type": "code",
   "execution_count": 72,
   "metadata": {},
   "outputs": [
    {
     "data": {
      "text/plain": [
       "(2678048, 30)"
      ]
     },
     "execution_count": 72,
     "metadata": {},
     "output_type": "execute_result"
    }
   ],
   "source": [
    "csica.shape"
   ]
  },
  {
   "cell_type": "code",
   "execution_count": 73,
   "metadata": {},
   "outputs": [
    {
     "data": {
      "text/plain": [
       "(2678048, 31)"
      ]
     },
     "execution_count": 73,
     "metadata": {},
     "output_type": "execute_result"
    }
   ],
   "source": [
    "df = csica.merge(lmt[['차대번호', '운행제한건수']], on='차대번호', how='left')\n",
    "df.shape"
   ]
  },
  {
   "cell_type": "markdown",
   "metadata": {},
   "source": [
    "## 저감장치 부착 여부 result로 수정"
   ]
  },
  {
   "cell_type": "markdown",
   "metadata": {},
   "source": [
    "## 4등급 result 파일 참고하여 DPF유무 수정"
   ]
  },
  {
   "cell_type": "code",
   "execution_count": 74,
   "metadata": {},
   "outputs": [],
   "source": [
    "rdf = df.copy()"
   ]
  },
  {
   "cell_type": "code",
   "execution_count": 75,
   "metadata": {},
   "outputs": [
    {
     "data": {
      "text/plain": [
       "1215495"
      ]
     },
     "execution_count": 75,
     "metadata": {},
     "output_type": "execute_result"
    }
   ],
   "source": [
    "len(set(rdf['차대번호'].unique()) - set(rs['차대번호'].unique()))"
   ]
  },
  {
   "cell_type": "code",
   "execution_count": 76,
   "metadata": {},
   "outputs": [
    {
     "data": {
      "text/plain": [
       "DPF_YN\n",
       "NaN    2358952\n",
       "유       319096\n",
       "Name: count, dtype: int64"
      ]
     },
     "execution_count": 76,
     "metadata": {},
     "output_type": "execute_result"
    }
   ],
   "source": [
    "rdf['DPF_YN'].value_counts(dropna=False)"
   ]
  },
  {
   "cell_type": "code",
   "execution_count": 77,
   "metadata": {},
   "outputs": [
    {
     "data": {
      "text/plain": [
       "DPF유무_수정\n",
       "무       879481\n",
       "NaN     348422\n",
       "유       261897\n",
       "확인불가     12435\n",
       "Name: count, dtype: int64"
      ]
     },
     "execution_count": 77,
     "metadata": {},
     "output_type": "execute_result"
    }
   ],
   "source": [
    "rs['DPF유무_수정'].value_counts(dropna=False)"
   ]
  },
  {
   "cell_type": "code",
   "execution_count": 78,
   "metadata": {},
   "outputs": [
    {
     "data": {
      "text/plain": [
       "(1502213, 2)"
      ]
     },
     "execution_count": 78,
     "metadata": {},
     "output_type": "execute_result"
    }
   ],
   "source": [
    "rs = rs.drop_duplicates('차대번호').reset_index(drop=True)\n",
    "rs.shape"
   ]
  },
  {
   "cell_type": "code",
   "execution_count": 79,
   "metadata": {},
   "outputs": [],
   "source": [
    "rdf1 = rdf.merge(rs, on='차대번호', how='left')"
   ]
  },
  {
   "cell_type": "code",
   "execution_count": 80,
   "metadata": {},
   "outputs": [],
   "source": [
    "rdf1.loc[(rdf1['DPF_YN'] == '유') | (rdf1['DPF유무_수정'] == '유'), 'DPF_YN'] = '유'\n",
    "rdf1.loc[(rdf1['DPF유무_수정'] == '무'), 'DPF_YN'] = '무'\n",
    "rdf1.loc[(rdf1['DPF유무_수정'] == '확인불가'), 'DPF_YN'] = '확인불가'"
   ]
  },
  {
   "cell_type": "code",
   "execution_count": 81,
   "metadata": {},
   "outputs": [
    {
     "data": {
      "text/plain": [
       "DPF_YN\n",
       "NaN     1244853\n",
       "무        839835\n",
       "유        580927\n",
       "확인불가      12433\n",
       "Name: count, dtype: int64"
      ]
     },
     "execution_count": 81,
     "metadata": {},
     "output_type": "execute_result"
    }
   ],
   "source": [
    "rdf1['DPF_YN'].value_counts(dropna=False)"
   ]
  },
  {
   "cell_type": "code",
   "execution_count": 82,
   "metadata": {},
   "outputs": [
    {
     "data": {
      "text/plain": [
       "Index(['차대번호', '법정동코드', '차량말소YN', '제원관리번호', '배출가스등급', '차량연식', '차종', '용도',\n",
       "       '최초등록일자', '제작일자', '차량번호', '연료', '차종유형', '검사방법', '검사종류', '검사판정',\n",
       "       '무부하매연측정치1', '무부하매연측정치2', '무부하매연측정치3', '무부하매연판정1', '검사일자', '주행거리',\n",
       "       '무부하매연허용치1', '정기정밀', '시도코드', '시군구코드', '시도', '시군구', '저감장치구분', 'DPF_YN',\n",
       "       '운행제한건수', 'DPF유무_수정'],\n",
       "      dtype='object')"
      ]
     },
     "execution_count": 82,
     "metadata": {},
     "output_type": "execute_result"
    }
   ],
   "source": [
    "rdf1.columns"
   ]
  },
  {
   "cell_type": "code",
   "execution_count": 83,
   "metadata": {},
   "outputs": [],
   "source": [
    "df = rdf1.drop('DPF유무_수정', axis=1)"
   ]
  },
  {
   "cell_type": "code",
   "execution_count": 84,
   "metadata": {},
   "outputs": [
    {
     "data": {
      "text/plain": [
       "(2678048, 31)"
      ]
     },
     "execution_count": 84,
     "metadata": {},
     "output_type": "execute_result"
    }
   ],
   "source": [
    "df.shape"
   ]
  },
  {
   "cell_type": "markdown",
   "metadata": {},
   "source": [
    "# 전처리"
   ]
  },
  {
   "cell_type": "markdown",
   "metadata": {},
   "source": [
    "## 일일평균주행거리 계산"
   ]
  },
  {
   "cell_type": "code",
   "execution_count": 85,
   "metadata": {},
   "outputs": [
    {
     "data": {
      "text/plain": [
       "count    2678048.00\n",
       "mean    20035942.32\n",
       "std        68449.91\n",
       "min     19501231.00\n",
       "25%     20000417.00\n",
       "50%     20060619.00\n",
       "75%     20090414.00\n",
       "max     20220711.00\n",
       "Name: 최초등록일자, dtype: float64"
      ]
     },
     "execution_count": 85,
     "metadata": {},
     "output_type": "execute_result"
    }
   ],
   "source": [
    "df['최초등록일자'].describe()"
   ]
  },
  {
   "cell_type": "code",
   "execution_count": 86,
   "metadata": {},
   "outputs": [
    {
     "data": {
      "text/plain": [
       "count    2145620.00\n",
       "mean    20211122.55\n",
       "std        32137.85\n",
       "min     20020520.00\n",
       "25%     20210923.00\n",
       "50%     20220617.00\n",
       "75%     20230102.00\n",
       "max     20230605.00\n",
       "Name: 검사일자, dtype: float64"
      ]
     },
     "execution_count": 86,
     "metadata": {},
     "output_type": "execute_result"
    }
   ],
   "source": [
    "df['검사일자'].describe()"
   ]
  },
  {
   "cell_type": "code",
   "execution_count": 87,
   "metadata": {},
   "outputs": [
    {
     "data": {
      "text/plain": [
       "dtype('float64')"
      ]
     },
     "execution_count": 87,
     "metadata": {},
     "output_type": "execute_result"
    }
   ],
   "source": [
    "df['주행거리'].dtype"
   ]
  },
  {
   "cell_type": "code",
   "execution_count": 88,
   "metadata": {},
   "outputs": [
    {
     "data": {
      "text/plain": [
       "0   2022-07-11\n",
       "1   2022-06-14\n",
       "2   2022-04-19\n",
       "3   2022-04-13\n",
       "4   2022-04-07\n",
       "Name: 최초등록일자, dtype: datetime64[ns]"
      ]
     },
     "execution_count": 88,
     "metadata": {},
     "output_type": "execute_result"
    }
   ],
   "source": [
    "df['최초등록일자'] = pd.to_datetime(df['최초등록일자'], format=\"%Y%m%d\", errors='coerce')\n",
    "df['최초등록일자'].head()"
   ]
  },
  {
   "cell_type": "code",
   "execution_count": 89,
   "metadata": {},
   "outputs": [
    {
     "data": {
      "text/plain": [
       "0          NaT\n",
       "1          NaT\n",
       "2   2023-03-30\n",
       "3   2023-05-23\n",
       "4   2023-05-23\n",
       "Name: 검사일자, dtype: datetime64[ns]"
      ]
     },
     "execution_count": 89,
     "metadata": {},
     "output_type": "execute_result"
    }
   ],
   "source": [
    "df['검사일자'] = pd.to_datetime(df['검사일자'], format=\"%Y%m%d\", errors='coerce')\n",
    "df['검사일자'].head()"
   ]
  },
  {
   "cell_type": "code",
   "execution_count": 90,
   "metadata": {},
   "outputs": [
    {
     "data": {
      "text/plain": [
       "0   2023-07-21\n",
       "1   2023-07-21\n",
       "2   2023-07-21\n",
       "3   2023-07-21\n",
       "4   2023-07-21\n",
       "Name: 현재날짜, dtype: datetime64[ns]"
      ]
     },
     "execution_count": 90,
     "metadata": {},
     "output_type": "execute_result"
    }
   ],
   "source": [
    "today_date = datetime.today().strftime(\"%Y-%m-%d\")\n",
    "df['현재날짜'] = today_date\n",
    "df['현재날짜'] = pd.to_datetime(df['현재날짜'], format='%Y-%m-%d', errors='coerce')\n",
    "df['현재날짜'].head()"
   ]
  },
  {
   "cell_type": "code",
   "execution_count": 91,
   "metadata": {},
   "outputs": [
    {
     "data": {
      "text/plain": [
       "0        NaT\n",
       "1        NaT\n",
       "2   113 days\n",
       "3    59 days\n",
       "4    59 days\n",
       "Name: 최근검사경과일, dtype: timedelta64[ns]"
      ]
     },
     "execution_count": 91,
     "metadata": {},
     "output_type": "execute_result"
    }
   ],
   "source": [
    "df['최근검사경과일'] = df['현재날짜'] - df['검사일자']\n",
    "df['최근검사경과일'].head()"
   ]
  },
  {
   "cell_type": "code",
   "execution_count": 92,
   "metadata": {},
   "outputs": [
    {
     "data": {
      "text/plain": [
       "0         NaT\n",
       "1         NaT\n",
       "2    113 days\n",
       "3     59 days\n",
       "4     59 days\n",
       "Name: 최근검사경과일, dtype: object"
      ]
     },
     "execution_count": 92,
     "metadata": {},
     "output_type": "execute_result"
    }
   ],
   "source": [
    "df['최근검사경과일'] = df['최근검사경과일'].astype('str')\n",
    "df['최근검사경과일'].head()"
   ]
  },
  {
   "cell_type": "code",
   "execution_count": 93,
   "metadata": {},
   "outputs": [
    {
     "data": {
      "text/plain": [
       "0      NaN\n",
       "1      NaN\n",
       "2   113.00\n",
       "3    59.00\n",
       "4    59.00\n",
       "Name: 최근검사경과일, dtype: float64"
      ]
     },
     "execution_count": 93,
     "metadata": {},
     "output_type": "execute_result"
    }
   ],
   "source": [
    "df['최근검사경과일'] = df['최근검사경과일'].str.split(' ').str[0]\n",
    "df['최근검사경과일'] = pd.to_numeric(df['최근검사경과일'], errors='coerce')\n",
    "df['최근검사경과일'].head()"
   ]
  },
  {
   "cell_type": "code",
   "execution_count": 94,
   "metadata": {},
   "outputs": [],
   "source": [
    "df['등록일기준검사일'] = df['검사일자'] - df['최초등록일자']\n",
    "df['등록일기준검사일'] = df['등록일기준검사일'].astype('str')\n",
    "df['등록일기준검사일'] = df['등록일기준검사일'].str.split(' ').str[0]\n",
    "df['등록일기준검사일'] = pd.to_numeric(df['등록일기준검사일'], errors='coerce')"
   ]
  },
  {
   "cell_type": "code",
   "execution_count": 95,
   "metadata": {},
   "outputs": [
    {
     "data": {
      "text/plain": [
       "count   2145620.00\n",
       "mean       5439.40\n",
       "std        1417.53\n",
       "min       -3628.00\n",
       "25%        4410.00\n",
       "50%        5128.00\n",
       "75%        6026.00\n",
       "max       22197.00\n",
       "Name: 등록일기준검사일, dtype: float64"
      ]
     },
     "execution_count": 95,
     "metadata": {},
     "output_type": "execute_result"
    }
   ],
   "source": [
    "df['등록일기준검사일'].describe()"
   ]
  },
  {
   "cell_type": "code",
   "execution_count": 96,
   "metadata": {},
   "outputs": [
    {
     "data": {
      "text/plain": [
       "0      NaN\n",
       "1      NaN\n",
       "2    13.84\n",
       "3   559.55\n",
       "4   193.25\n",
       "Name: 일일평균주행거리, dtype: float64"
      ]
     },
     "execution_count": 96,
     "metadata": {},
     "output_type": "execute_result"
    }
   ],
   "source": [
    "df['일일평균주행거리'] = df['주행거리'] / df['등록일기준검사일']\n",
    "df['일일평균주행거리'].head()"
   ]
  },
  {
   "cell_type": "code",
   "execution_count": 97,
   "metadata": {},
   "outputs": [
    {
     "data": {
      "text/plain": [
       "533547"
      ]
     },
     "execution_count": 97,
     "metadata": {},
     "output_type": "execute_result"
    }
   ],
   "source": [
    "df['일일평균주행거리'].isnull().sum()"
   ]
  },
  {
   "cell_type": "markdown",
   "metadata": {},
   "source": [
    "## KOSIS 데이터 활용 일일평균주행거리 수정"
   ]
  },
  {
   "cell_type": "markdown",
   "metadata": {},
   "source": [
    "### 빈 값 kosis로 대체"
   ]
  },
  {
   "cell_type": "code",
   "execution_count": 98,
   "metadata": {},
   "outputs": [
    {
     "data": {
      "text/plain": [
       "((2144501, 35), (533547, 35))"
      ]
     },
     "execution_count": 98,
     "metadata": {},
     "output_type": "execute_result"
    }
   ],
   "source": [
    "df1y = df[df['일일평균주행거리'].isnull() == False]\n",
    "df1n = df[df['일일평균주행거리'].isnull() == True]\n",
    "df1y.shape, df1n.shape"
   ]
  },
  {
   "cell_type": "code",
   "execution_count": 99,
   "metadata": {},
   "outputs": [],
   "source": [
    "df1n = df1n.drop('일일평균주행거리', axis=1)"
   ]
  },
  {
   "cell_type": "code",
   "execution_count": 100,
   "metadata": {},
   "outputs": [
    {
     "data": {
      "text/plain": [
       "2156"
      ]
     },
     "execution_count": 100,
     "metadata": {},
     "output_type": "execute_result"
    }
   ],
   "source": [
    "df1nm = df1n.merge(kosisr, on=['시도', '시군구', '차종'], how='left')\n",
    "df1nm['일일평균주행거리'].isnull().sum()"
   ]
  },
  {
   "cell_type": "code",
   "execution_count": 101,
   "metadata": {},
   "outputs": [],
   "source": [
    "df2y = df1nm[df1nm['일일평균주행거리'].isnull() == False]\n",
    "df2n = df1nm[df1nm['일일평균주행거리'].isnull() == True]"
   ]
  },
  {
   "cell_type": "code",
   "execution_count": 102,
   "metadata": {},
   "outputs": [],
   "source": [
    "df2n = df2n.drop('일일평균주행거리', axis=1)"
   ]
  },
  {
   "cell_type": "code",
   "execution_count": 103,
   "metadata": {},
   "outputs": [],
   "source": [
    "df2nm = df2n.merge(kosisr.drop_duplicates(['시도', '차종'])[['시도', '차종', '일일평균주행거리']], on=['시도', '차종'], how='left')"
   ]
  },
  {
   "cell_type": "code",
   "execution_count": 104,
   "metadata": {},
   "outputs": [],
   "source": [
    "df3y = df2nm[df2nm['일일평균주행거리'].isnull() == False]\n",
    "df3n = df2nm[df2nm['일일평균주행거리'].isnull() == True]"
   ]
  },
  {
   "cell_type": "code",
   "execution_count": 105,
   "metadata": {},
   "outputs": [
    {
     "data": {
      "text/plain": [
       "Index(['차대번호', '법정동코드', '차량말소YN', '제원관리번호', '배출가스등급', '차량연식', '차종', '용도',\n",
       "       '최초등록일자', '제작일자', '차량번호', '연료', '차종유형', '검사방법', '검사종류', '검사판정',\n",
       "       '무부하매연측정치1', '무부하매연측정치2', '무부하매연측정치3', '무부하매연판정1', '검사일자', '주행거리',\n",
       "       '무부하매연허용치1', '정기정밀', '시도코드', '시군구코드', '시도', '시군구', '저감장치구분', 'DPF_YN',\n",
       "       '운행제한건수', '현재날짜', '최근검사경과일', '등록일기준검사일', '일일평균주행거리'],\n",
       "      dtype='object')"
      ]
     },
     "execution_count": 105,
     "metadata": {},
     "output_type": "execute_result"
    }
   ],
   "source": [
    "df3n.columns"
   ]
  },
  {
   "cell_type": "code",
   "execution_count": 106,
   "metadata": {},
   "outputs": [
    {
     "data": {
      "text/plain": [
       "Index(['시도', '시군구', '차종', '일일평균주행거리'], dtype='object')"
      ]
     },
     "execution_count": 106,
     "metadata": {},
     "output_type": "execute_result"
    }
   ],
   "source": [
    "kosisr.columns"
   ]
  },
  {
   "cell_type": "code",
   "execution_count": 107,
   "metadata": {},
   "outputs": [
    {
     "data": {
      "text/plain": [
       "array(['합계', '승용', '승합', '화물', '특수'], dtype=object)"
      ]
     },
     "execution_count": 107,
     "metadata": {},
     "output_type": "execute_result"
    }
   ],
   "source": [
    "kosisr['차종'].unique()"
   ]
  },
  {
   "cell_type": "code",
   "execution_count": 108,
   "metadata": {},
   "outputs": [],
   "source": [
    "for ctpv, sgg, cd in df3n.loc[df3n['일일평균주행거리'].isnull() == True, ['시도', '시군구', '차종']].values:\n",
    "        df3n.loc[(df3n['일일평균주행거리'].isnull() == True) & (df3n['시도'] == ctpv) & (df3n['시군구'] == sgg), '일일평균주행거리'] = kosisr.loc[(kosisr['시도'] == ctpv) & (kosisr['시군구'] == '소계') & (kosisr['차종'] == '합계'), '일일평균주행거리'].values[0]"
   ]
  },
  {
   "cell_type": "code",
   "execution_count": 109,
   "metadata": {},
   "outputs": [
    {
     "data": {
      "text/plain": [
       "0"
      ]
     },
     "execution_count": 109,
     "metadata": {},
     "output_type": "execute_result"
    }
   ],
   "source": [
    "df3n['일일평균주행거리'].isnull().sum()"
   ]
  },
  {
   "cell_type": "code",
   "execution_count": 110,
   "metadata": {},
   "outputs": [],
   "source": [
    "df2nm = pd.concat([df3y, df3n], ignore_index=True)"
   ]
  },
  {
   "cell_type": "code",
   "execution_count": 111,
   "metadata": {},
   "outputs": [],
   "source": [
    "df1nm = pd.concat([df2y, df2nm], ignore_index=True)"
   ]
  },
  {
   "cell_type": "code",
   "execution_count": 112,
   "metadata": {},
   "outputs": [],
   "source": [
    "df = pd.concat([df1y, df1nm], ignore_index=True)"
   ]
  },
  {
   "cell_type": "code",
   "execution_count": 113,
   "metadata": {},
   "outputs": [
    {
     "data": {
      "text/plain": [
       "0"
      ]
     },
     "execution_count": 113,
     "metadata": {},
     "output_type": "execute_result"
    }
   ],
   "source": [
    "df['일일평균주행거리'].isnull().sum()"
   ]
  },
  {
   "cell_type": "markdown",
   "metadata": {},
   "source": [
    "## 4, 5등급 분리"
   ]
  },
  {
   "cell_type": "code",
   "execution_count": 114,
   "metadata": {},
   "outputs": [
    {
     "data": {
      "text/plain": [
       "Index(['차대번호', '법정동코드', '차량말소YN', '제원관리번호', '배출가스등급', '차량연식', '차종', '용도',\n",
       "       '최초등록일자', '제작일자', '차량번호', '연료', '차종유형', '검사방법', '검사종류', '검사판정',\n",
       "       '무부하매연측정치1', '무부하매연측정치2', '무부하매연측정치3', '무부하매연판정1', '검사일자', '주행거리',\n",
       "       '무부하매연허용치1', '정기정밀', '시도코드', '시군구코드', '시도', '시군구', '저감장치구분', 'DPF_YN',\n",
       "       '운행제한건수', '현재날짜', '최근검사경과일', '등록일기준검사일', '일일평균주행거리'],\n",
       "      dtype='object')"
      ]
     },
     "execution_count": 114,
     "metadata": {},
     "output_type": "execute_result"
    }
   ],
   "source": [
    "df.columns"
   ]
  },
  {
   "cell_type": "code",
   "execution_count": 115,
   "metadata": {},
   "outputs": [
    {
     "data": {
      "text/plain": [
       "array(['4', '5'], dtype=object)"
      ]
     },
     "execution_count": 115,
     "metadata": {},
     "output_type": "execute_result"
    }
   ],
   "source": [
    "df['배출가스등급'].unique()"
   ]
  },
  {
   "cell_type": "code",
   "execution_count": 116,
   "metadata": {},
   "outputs": [
    {
     "data": {
      "text/plain": [
       "((1515737, 35), (1162311, 35))"
      ]
     },
     "execution_count": 116,
     "metadata": {},
     "output_type": "execute_result"
    }
   ],
   "source": [
    "g4 = df.loc[df['배출가스등급'] == '4'].reset_index(drop=True)\n",
    "g5 = df.loc[df['배출가스등급'] == '5'].reset_index(drop=True)\n",
    "g4.shape, g5.shape"
   ]
  },
  {
   "cell_type": "markdown",
   "metadata": {},
   "source": [
    "### 코란KJ 연료 휘발유로 수정\n",
    "- 차량번호 : 31고7134\n",
    "- 연식 : 1996\n",
    "- 연료 : 휘발유"
   ]
  },
  {
   "cell_type": "code",
   "execution_count": 117,
   "metadata": {},
   "outputs": [
    {
     "data": {
      "text/plain": [
       "1227871    경유\n",
       "Name: 연료, dtype: object"
      ]
     },
     "execution_count": 117,
     "metadata": {},
     "output_type": "execute_result"
    }
   ],
   "source": [
    "g4.loc[g4['차량번호'] == '31고7134', '연료']"
   ]
  },
  {
   "cell_type": "code",
   "execution_count": 118,
   "metadata": {},
   "outputs": [],
   "source": [
    "g4.loc[g4['차량번호'] == '31고7134', '연료'] = '휘발유'"
   ]
  },
  {
   "cell_type": "markdown",
   "metadata": {},
   "source": [
    "# 전처리"
   ]
  },
  {
   "cell_type": "code",
   "execution_count": 119,
   "metadata": {},
   "outputs": [
    {
     "data": {
      "text/plain": [
       "연료\n",
       "경유             1156238\n",
       "휘발유             302907\n",
       "NaN              32291\n",
       "LPG(액화석유가스)      24261\n",
       "기타연료                39\n",
       "CNG(압축천연가스)          1\n",
       "Name: count, dtype: int64"
      ]
     },
     "execution_count": 119,
     "metadata": {},
     "output_type": "execute_result"
    }
   ],
   "source": [
    "g4['연료'].value_counts(dropna=False)"
   ]
  },
  {
   "cell_type": "code",
   "execution_count": 120,
   "metadata": {},
   "outputs": [
    {
     "data": {
      "text/plain": [
       "배출가스등급\n",
       "4    1515737\n",
       "Name: count, dtype: int64"
      ]
     },
     "execution_count": 120,
     "metadata": {},
     "output_type": "execute_result"
    }
   ],
   "source": [
    "g4['배출가스등급'].value_counts(dropna=False)"
   ]
  },
  {
   "cell_type": "code",
   "execution_count": 121,
   "metadata": {},
   "outputs": [
    {
     "data": {
      "text/plain": [
       "(1156238, 35)"
      ]
     },
     "execution_count": 121,
     "metadata": {},
     "output_type": "execute_result"
    }
   ],
   "source": [
    "gm4d = g4.loc[g4['연료'] == '경유'].reset_index(drop=True)\n",
    "gm4d.shape"
   ]
  },
  {
   "cell_type": "code",
   "execution_count": 122,
   "metadata": {},
   "outputs": [
    {
     "data": {
      "text/plain": [
       "(359499, 35)"
      ]
     },
     "execution_count": 122,
     "metadata": {},
     "output_type": "execute_result"
    }
   ],
   "source": [
    "gm4r = g4.loc[g4['연료'] != '경유'].reset_index(drop=True)\n",
    "gm4r.shape"
   ]
  },
  {
   "cell_type": "code",
   "execution_count": 123,
   "metadata": {},
   "outputs": [
    {
     "data": {
      "text/plain": [
       "Index(['차대번호', '법정동코드', '차량말소YN', '제원관리번호', '배출가스등급', '차량연식', '차종', '용도',\n",
       "       '최초등록일자', '제작일자', '차량번호', '연료', '차종유형', '검사방법', '검사종류', '검사판정',\n",
       "       '무부하매연측정치1', '무부하매연측정치2', '무부하매연측정치3', '무부하매연판정1', '검사일자', '주행거리',\n",
       "       '무부하매연허용치1', '정기정밀', '시도코드', '시군구코드', '시도', '시군구', '저감장치구분', 'DPF_YN',\n",
       "       '운행제한건수', '현재날짜', '최근검사경과일', '등록일기준검사일', '일일평균주행거리'],\n",
       "      dtype='object')"
      ]
     },
     "execution_count": 123,
     "metadata": {},
     "output_type": "execute_result"
    }
   ],
   "source": [
    "gm4d.columns"
   ]
  },
  {
   "cell_type": "markdown",
   "metadata": {},
   "source": [
    "## 5등급 경유차 추출(gm5d)"
   ]
  },
  {
   "cell_type": "code",
   "execution_count": 124,
   "metadata": {},
   "outputs": [
    {
     "data": {
      "text/plain": [
       "연료\n",
       "경유             1107341\n",
       "휘발유              30040\n",
       "NaN              24463\n",
       "LPG(액화석유가스)        436\n",
       "기타연료                25\n",
       "CNG(압축천연가스)          5\n",
       "알코올                  1\n",
       "Name: count, dtype: int64"
      ]
     },
     "execution_count": 124,
     "metadata": {},
     "output_type": "execute_result"
    }
   ],
   "source": [
    "g5['연료'].value_counts(dropna=False)"
   ]
  },
  {
   "cell_type": "code",
   "execution_count": 125,
   "metadata": {},
   "outputs": [
    {
     "data": {
      "text/plain": [
       "배출가스등급\n",
       "5    1162311\n",
       "Name: count, dtype: int64"
      ]
     },
     "execution_count": 125,
     "metadata": {},
     "output_type": "execute_result"
    }
   ],
   "source": [
    "g5['배출가스등급'].value_counts(dropna=False)"
   ]
  },
  {
   "cell_type": "code",
   "execution_count": 126,
   "metadata": {},
   "outputs": [
    {
     "data": {
      "text/plain": [
       "(1107341, 35)"
      ]
     },
     "execution_count": 126,
     "metadata": {},
     "output_type": "execute_result"
    }
   ],
   "source": [
    "gm5d = g5.loc[g5['연료'] == '경유'].reset_index(drop=True)\n",
    "gm5d.shape"
   ]
  },
  {
   "cell_type": "code",
   "execution_count": 127,
   "metadata": {},
   "outputs": [
    {
     "data": {
      "text/plain": [
       "(54970, 35)"
      ]
     },
     "execution_count": 127,
     "metadata": {},
     "output_type": "execute_result"
    }
   ],
   "source": [
    "gm5r = g5.loc[g5['연료'] != '경유'].reset_index(drop=True)\n",
    "gm5r.shape"
   ]
  },
  {
   "cell_type": "code",
   "execution_count": 128,
   "metadata": {},
   "outputs": [
    {
     "data": {
      "text/plain": [
       "Index(['차대번호', '법정동코드', '차량말소YN', '제원관리번호', '배출가스등급', '차량연식', '차종', '용도',\n",
       "       '최초등록일자', '제작일자', '차량번호', '연료', '차종유형', '검사방법', '검사종류', '검사판정',\n",
       "       '무부하매연측정치1', '무부하매연측정치2', '무부하매연측정치3', '무부하매연판정1', '검사일자', '주행거리',\n",
       "       '무부하매연허용치1', '정기정밀', '시도코드', '시군구코드', '시도', '시군구', '저감장치구분', 'DPF_YN',\n",
       "       '운행제한건수', '현재날짜', '최근검사경과일', '등록일기준검사일', '일일평균주행거리'],\n",
       "      dtype='object')"
      ]
     },
     "execution_count": 128,
     "metadata": {},
     "output_type": "execute_result"
    }
   ],
   "source": [
    "gm5d.columns"
   ]
  },
  {
   "cell_type": "markdown",
   "metadata": {},
   "source": [
    "## 필수 컬럼 추출"
   ]
  },
  {
   "cell_type": "code",
   "execution_count": 129,
   "metadata": {},
   "outputs": [],
   "source": [
    "gm4d = gm4d.rename(columns={'차량연식':'연식', 'DPF_YN':'저감장치'})"
   ]
  },
  {
   "cell_type": "code",
   "execution_count": 130,
   "metadata": {},
   "outputs": [
    {
     "data": {
      "text/plain": [
       "Index(['차대번호', '차량번호', '법정동코드', '시도', '시군구', '연식', '용도', '차종', '차종유형', '저감장치',\n",
       "       '무부하매연측정치1', '일일평균주행거리', '최근검사경과일', '운행제한건수'],\n",
       "      dtype='object')"
      ]
     },
     "execution_count": 130,
     "metadata": {},
     "output_type": "execute_result"
    }
   ],
   "source": [
    "gm4d = gm4d[[\n",
    "    '차대번호', \n",
    "    '차량번호', \n",
    "    '법정동코드', \n",
    "    '시도', \n",
    "    '시군구', \n",
    "    '연식', \n",
    "    '용도', \n",
    "    '차종', \n",
    "    '차종유형', \n",
    "    '저감장치', \n",
    "    '무부하매연측정치1', \n",
    "    '일일평균주행거리',\n",
    "    '최근검사경과일', \n",
    "    '운행제한건수', \n",
    "    ]]\n",
    "gm4d.columns"
   ]
  },
  {
   "cell_type": "code",
   "execution_count": 131,
   "metadata": {},
   "outputs": [],
   "source": [
    "gm5d = gm5d.rename(columns={'차량등록번호':'차량번호', '본거지법정동코드':'법정동코드', '차량연식':'연식', 'DPF_YN':'저감장치'})"
   ]
  },
  {
   "cell_type": "code",
   "execution_count": 132,
   "metadata": {},
   "outputs": [
    {
     "data": {
      "text/plain": [
       "Index(['차대번호', '차량번호', '법정동코드', '시도', '시군구', '연식', '용도', '차종', '차종유형', '저감장치',\n",
       "       '무부하매연측정치1', '일일평균주행거리', '최근검사경과일', '운행제한건수'],\n",
       "      dtype='object')"
      ]
     },
     "execution_count": 132,
     "metadata": {},
     "output_type": "execute_result"
    }
   ],
   "source": [
    "gm5d = gm5d[[\n",
    "    '차대번호', \n",
    "    '차량번호', \n",
    "    '법정동코드', \n",
    "    '시도', \n",
    "    '시군구', \n",
    "    '연식', \n",
    "    '용도', \n",
    "    '차종', \n",
    "    '차종유형', \n",
    "    '저감장치',\n",
    "    '무부하매연측정치1', \n",
    "    '일일평균주행거리',\n",
    "    '최근검사경과일', \n",
    "    '운행제한건수', \n",
    "    ]]\n",
    "gm5d.columns"
   ]
  },
  {
   "cell_type": "markdown",
   "metadata": {},
   "source": [
    "# 이상값 추출"
   ]
  },
  {
   "cell_type": "code",
   "execution_count": 133,
   "metadata": {},
   "outputs": [
    {
     "data": {
      "text/plain": [
       "1156215"
      ]
     },
     "execution_count": 133,
     "metadata": {},
     "output_type": "execute_result"
    }
   ],
   "source": [
    "gm4d['운행제한건수'].isnull().sum()"
   ]
  },
  {
   "cell_type": "code",
   "execution_count": 134,
   "metadata": {},
   "outputs": [
    {
     "data": {
      "text/plain": [
       "0"
      ]
     },
     "execution_count": 134,
     "metadata": {},
     "output_type": "execute_result"
    }
   ],
   "source": [
    "gm4d['운행제한건수'] = gm4d['운행제한건수'].fillna(0)\n",
    "gm4d['운행제한건수'].isnull().sum()"
   ]
  },
  {
   "cell_type": "code",
   "execution_count": 135,
   "metadata": {},
   "outputs": [
    {
     "data": {
      "text/plain": [
       "804040"
      ]
     },
     "execution_count": 135,
     "metadata": {},
     "output_type": "execute_result"
    }
   ],
   "source": [
    "gm5d['운행제한건수'].isnull().sum()"
   ]
  },
  {
   "cell_type": "code",
   "execution_count": 136,
   "metadata": {},
   "outputs": [
    {
     "data": {
      "text/plain": [
       "0"
      ]
     },
     "execution_count": 136,
     "metadata": {},
     "output_type": "execute_result"
    }
   ],
   "source": [
    "gm5d['운행제한건수'] = gm5d['운행제한건수'].fillna(0)\n",
    "gm5d['운행제한건수'].isnull().sum()"
   ]
  },
  {
   "cell_type": "code",
   "execution_count": 137,
   "metadata": {},
   "outputs": [
    {
     "data": {
      "text/plain": [
       "((1156238, 14), (1107341, 14))"
      ]
     },
     "execution_count": 137,
     "metadata": {},
     "output_type": "execute_result"
    }
   ],
   "source": [
    "gm4d.shape, gm5d.shape"
   ]
  },
  {
   "cell_type": "code",
   "execution_count": 138,
   "metadata": {},
   "outputs": [
    {
     "data": {
      "text/plain": [
       "1156238"
      ]
     },
     "execution_count": 138,
     "metadata": {},
     "output_type": "execute_result"
    }
   ],
   "source": [
    "idx4 = set(gm4d.index)\n",
    "len(idx4)"
   ]
  },
  {
   "cell_type": "code",
   "execution_count": 139,
   "metadata": {},
   "outputs": [
    {
     "data": {
      "text/plain": [
       "1107341"
      ]
     },
     "execution_count": 139,
     "metadata": {},
     "output_type": "execute_result"
    }
   ],
   "source": [
    "idx5 = set(gm5d.index)\n",
    "len(idx5)"
   ]
  },
  {
   "cell_type": "markdown",
   "metadata": {},
   "source": [
    "## A급\n",
    "- 최근검사경과일 365*3 = 1095 초과 또는 최근검사경과일 없는 경우\n",
    "- 운행제한건수 1이상"
   ]
  },
  {
   "cell_type": "code",
   "execution_count": 140,
   "metadata": {},
   "outputs": [
    {
     "data": {
      "text/plain": [
       "0"
      ]
     },
     "execution_count": 140,
     "metadata": {},
     "output_type": "execute_result"
    }
   ],
   "source": [
    "idx4a = gm4d.loc[((gm4d['최근검사경과일'] > 1095) | (gm4d['최근검사경과일'].isnull() == True)) & (gm4d['운행제한건수'] >= 1)].index\n",
    "len(idx4a)"
   ]
  },
  {
   "cell_type": "code",
   "execution_count": 141,
   "metadata": {},
   "outputs": [
    {
     "data": {
      "text/html": [
       "<div>\n",
       "<style scoped>\n",
       "    .dataframe tbody tr th:only-of-type {\n",
       "        vertical-align: middle;\n",
       "    }\n",
       "\n",
       "    .dataframe tbody tr th {\n",
       "        vertical-align: top;\n",
       "    }\n",
       "\n",
       "    .dataframe thead th {\n",
       "        text-align: right;\n",
       "    }\n",
       "</style>\n",
       "<table border=\"1\" class=\"dataframe\">\n",
       "  <thead>\n",
       "    <tr style=\"text-align: right;\">\n",
       "      <th></th>\n",
       "      <th>차대번호</th>\n",
       "      <th>차량번호</th>\n",
       "      <th>법정동코드</th>\n",
       "      <th>시도</th>\n",
       "      <th>시군구</th>\n",
       "      <th>연식</th>\n",
       "      <th>용도</th>\n",
       "      <th>차종</th>\n",
       "      <th>차종유형</th>\n",
       "      <th>저감장치</th>\n",
       "      <th>무부하매연측정치1</th>\n",
       "      <th>일일평균주행거리</th>\n",
       "      <th>최근검사경과일</th>\n",
       "      <th>운행제한건수</th>\n",
       "      <th>우선순위</th>\n",
       "    </tr>\n",
       "  </thead>\n",
       "  <tbody>\n",
       "  </tbody>\n",
       "</table>\n",
       "</div>"
      ],
      "text/plain": [
       "Empty DataFrame\n",
       "Columns: [차대번호, 차량번호, 법정동코드, 시도, 시군구, 연식, 용도, 차종, 차종유형, 저감장치, 무부하매연측정치1, 일일평균주행거리, 최근검사경과일, 운행제한건수, 우선순위]\n",
       "Index: []"
      ]
     },
     "execution_count": 141,
     "metadata": {},
     "output_type": "execute_result"
    }
   ],
   "source": [
    "gm4da = gm4d.loc[idx4a]\n",
    "gm4da['우선순위'] = 1\n",
    "gm4da.head()"
   ]
  },
  {
   "cell_type": "code",
   "execution_count": 142,
   "metadata": {},
   "outputs": [
    {
     "data": {
      "text/plain": [
       "15633"
      ]
     },
     "execution_count": 142,
     "metadata": {},
     "output_type": "execute_result"
    }
   ],
   "source": [
    "idx5a = gm5d.loc[((gm5d['최근검사경과일'] > 1095) | (gm5d['최근검사경과일'].isnull() == True)) & (gm5d['운행제한건수'] >= 1)].index\n",
    "len(idx5a)"
   ]
  },
  {
   "cell_type": "code",
   "execution_count": 143,
   "metadata": {},
   "outputs": [
    {
     "data": {
      "text/html": [
       "<div>\n",
       "<style scoped>\n",
       "    .dataframe tbody tr th:only-of-type {\n",
       "        vertical-align: middle;\n",
       "    }\n",
       "\n",
       "    .dataframe tbody tr th {\n",
       "        vertical-align: top;\n",
       "    }\n",
       "\n",
       "    .dataframe thead th {\n",
       "        text-align: right;\n",
       "    }\n",
       "</style>\n",
       "<table border=\"1\" class=\"dataframe\">\n",
       "  <thead>\n",
       "    <tr style=\"text-align: right;\">\n",
       "      <th></th>\n",
       "      <th>차대번호</th>\n",
       "      <th>차량번호</th>\n",
       "      <th>법정동코드</th>\n",
       "      <th>시도</th>\n",
       "      <th>시군구</th>\n",
       "      <th>연식</th>\n",
       "      <th>용도</th>\n",
       "      <th>차종</th>\n",
       "      <th>차종유형</th>\n",
       "      <th>저감장치</th>\n",
       "      <th>무부하매연측정치1</th>\n",
       "      <th>일일평균주행거리</th>\n",
       "      <th>최근검사경과일</th>\n",
       "      <th>운행제한건수</th>\n",
       "      <th>우선순위</th>\n",
       "    </tr>\n",
       "  </thead>\n",
       "  <tbody>\n",
       "    <tr>\n",
       "      <th>57</th>\n",
       "      <td>KNAJC52182A082279</td>\n",
       "      <td>04보1352</td>\n",
       "      <td>4122025041</td>\n",
       "      <td>경기도</td>\n",
       "      <td>평택시</td>\n",
       "      <td>2002</td>\n",
       "      <td>개인용</td>\n",
       "      <td>승용</td>\n",
       "      <td>대형</td>\n",
       "      <td>NaN</td>\n",
       "      <td>8.00</td>\n",
       "      <td>-1394.53</td>\n",
       "      <td>1661.00</td>\n",
       "      <td>8.00</td>\n",
       "      <td>1</td>\n",
       "    </tr>\n",
       "    <tr>\n",
       "      <th>82</th>\n",
       "      <td>KMHMJ81VP3U191659</td>\n",
       "      <td>65주9741</td>\n",
       "      <td>4785025000</td>\n",
       "      <td>경상북도</td>\n",
       "      <td>칠곡군</td>\n",
       "      <td>2003</td>\n",
       "      <td>개인용</td>\n",
       "      <td>승용</td>\n",
       "      <td>중형</td>\n",
       "      <td>NaN</td>\n",
       "      <td>8.00</td>\n",
       "      <td>-185.70</td>\n",
       "      <td>2150.00</td>\n",
       "      <td>1.00</td>\n",
       "      <td>1</td>\n",
       "    </tr>\n",
       "    <tr>\n",
       "      <th>87</th>\n",
       "      <td>KPBFA2AF15P147164</td>\n",
       "      <td>58주3416</td>\n",
       "      <td>2720010300</td>\n",
       "      <td>대구광역시</td>\n",
       "      <td>남구</td>\n",
       "      <td>2005</td>\n",
       "      <td>개인용</td>\n",
       "      <td>승용</td>\n",
       "      <td>대형</td>\n",
       "      <td>NaN</td>\n",
       "      <td>14.00</td>\n",
       "      <td>-221.84</td>\n",
       "      <td>2520.00</td>\n",
       "      <td>1.00</td>\n",
       "      <td>1</td>\n",
       "    </tr>\n",
       "    <tr>\n",
       "      <th>88</th>\n",
       "      <td>KNAJE55135K097976</td>\n",
       "      <td>27루3463</td>\n",
       "      <td>4125010600</td>\n",
       "      <td>경기도</td>\n",
       "      <td>동두천시</td>\n",
       "      <td>2005</td>\n",
       "      <td>개인용</td>\n",
       "      <td>승용</td>\n",
       "      <td>중형</td>\n",
       "      <td>NaN</td>\n",
       "      <td>4.00</td>\n",
       "      <td>-256.62</td>\n",
       "      <td>2293.00</td>\n",
       "      <td>1.00</td>\n",
       "      <td>1</td>\n",
       "    </tr>\n",
       "    <tr>\n",
       "      <th>91</th>\n",
       "      <td>KNAJC52133A161560</td>\n",
       "      <td>27루2798</td>\n",
       "      <td>1117012400</td>\n",
       "      <td>서울특별시</td>\n",
       "      <td>용산구</td>\n",
       "      <td>2003</td>\n",
       "      <td>개인용</td>\n",
       "      <td>승용</td>\n",
       "      <td>대형</td>\n",
       "      <td>NaN</td>\n",
       "      <td>10.00</td>\n",
       "      <td>-403.50</td>\n",
       "      <td>2222.00</td>\n",
       "      <td>7.00</td>\n",
       "      <td>1</td>\n",
       "    </tr>\n",
       "  </tbody>\n",
       "</table>\n",
       "</div>"
      ],
      "text/plain": [
       "                 차대번호     차량번호       법정동코드     시도   시군구    연식   용도  차종 차종유형   \n",
       "57  KNAJC52182A082279  04보1352  4122025041    경기도   평택시  2002  개인용  승용   대형  \\\n",
       "82  KMHMJ81VP3U191659  65주9741  4785025000   경상북도   칠곡군  2003  개인용  승용   중형   \n",
       "87  KPBFA2AF15P147164  58주3416  2720010300  대구광역시    남구  2005  개인용  승용   대형   \n",
       "88  KNAJE55135K097976  27루3463  4125010600    경기도  동두천시  2005  개인용  승용   중형   \n",
       "91  KNAJC52133A161560  27루2798  1117012400  서울특별시   용산구  2003  개인용  승용   대형   \n",
       "\n",
       "   저감장치  무부하매연측정치1  일일평균주행거리  최근검사경과일  운행제한건수  우선순위  \n",
       "57  NaN       8.00  -1394.53  1661.00    8.00     1  \n",
       "82  NaN       8.00   -185.70  2150.00    1.00     1  \n",
       "87  NaN      14.00   -221.84  2520.00    1.00     1  \n",
       "88  NaN       4.00   -256.62  2293.00    1.00     1  \n",
       "91  NaN      10.00   -403.50  2222.00    7.00     1  "
      ]
     },
     "execution_count": 143,
     "metadata": {},
     "output_type": "execute_result"
    }
   ],
   "source": [
    "gm5da = gm5d.loc[idx5a]\n",
    "gm5da['우선순위'] = 1\n",
    "gm5da.head()"
   ]
  },
  {
   "cell_type": "markdown",
   "metadata": {},
   "source": [
    "## B급\n",
    "- 최근검사경과일 365*3 = 1095 초과 또는 최근검사경과일 없는 경우\n",
    "- 운행제한건수 1미만"
   ]
  },
  {
   "cell_type": "code",
   "execution_count": 144,
   "metadata": {},
   "outputs": [
    {
     "data": {
      "text/plain": [
       "33850"
      ]
     },
     "execution_count": 144,
     "metadata": {},
     "output_type": "execute_result"
    }
   ],
   "source": [
    "idx4b = gm4d.loc[((gm4d['최근검사경과일'] > 1095) | (gm4d['최근검사경과일'].isnull() == True)) & (gm4d['운행제한건수'] < 1)].index\n",
    "len(idx4b)"
   ]
  },
  {
   "cell_type": "code",
   "execution_count": 145,
   "metadata": {},
   "outputs": [
    {
     "data": {
      "text/html": [
       "<div>\n",
       "<style scoped>\n",
       "    .dataframe tbody tr th:only-of-type {\n",
       "        vertical-align: middle;\n",
       "    }\n",
       "\n",
       "    .dataframe tbody tr th {\n",
       "        vertical-align: top;\n",
       "    }\n",
       "\n",
       "    .dataframe thead th {\n",
       "        text-align: right;\n",
       "    }\n",
       "</style>\n",
       "<table border=\"1\" class=\"dataframe\">\n",
       "  <thead>\n",
       "    <tr style=\"text-align: right;\">\n",
       "      <th></th>\n",
       "      <th>차대번호</th>\n",
       "      <th>차량번호</th>\n",
       "      <th>법정동코드</th>\n",
       "      <th>시도</th>\n",
       "      <th>시군구</th>\n",
       "      <th>연식</th>\n",
       "      <th>용도</th>\n",
       "      <th>차종</th>\n",
       "      <th>차종유형</th>\n",
       "      <th>저감장치</th>\n",
       "      <th>무부하매연측정치1</th>\n",
       "      <th>일일평균주행거리</th>\n",
       "      <th>최근검사경과일</th>\n",
       "      <th>운행제한건수</th>\n",
       "      <th>우선순위</th>\n",
       "    </tr>\n",
       "  </thead>\n",
       "  <tbody>\n",
       "    <tr>\n",
       "      <th>20</th>\n",
       "      <td>KNHMB76438S243174</td>\n",
       "      <td>70보0919</td>\n",
       "      <td>4122025041</td>\n",
       "      <td>경기도</td>\n",
       "      <td>평택시</td>\n",
       "      <td>2008</td>\n",
       "      <td>개인용</td>\n",
       "      <td>승합</td>\n",
       "      <td>중형</td>\n",
       "      <td>NaN</td>\n",
       "      <td>10.00</td>\n",
       "      <td>-284.82</td>\n",
       "      <td>1740.00</td>\n",
       "      <td>0.00</td>\n",
       "      <td>2</td>\n",
       "    </tr>\n",
       "    <tr>\n",
       "      <th>25</th>\n",
       "      <td>KNME5C2MM8P006761</td>\n",
       "      <td>112무9587</td>\n",
       "      <td>4125010300</td>\n",
       "      <td>경기도</td>\n",
       "      <td>동두천시</td>\n",
       "      <td>2008</td>\n",
       "      <td>개인용</td>\n",
       "      <td>승용</td>\n",
       "      <td>중형</td>\n",
       "      <td>유</td>\n",
       "      <td>0.00</td>\n",
       "      <td>-952.69</td>\n",
       "      <td>1294.00</td>\n",
       "      <td>0.00</td>\n",
       "      <td>2</td>\n",
       "    </tr>\n",
       "    <tr>\n",
       "      <th>48</th>\n",
       "      <td>KNHMB76438S237215</td>\n",
       "      <td>75누4809</td>\n",
       "      <td>4122032027</td>\n",
       "      <td>경기도</td>\n",
       "      <td>평택시</td>\n",
       "      <td>2008</td>\n",
       "      <td>개인용</td>\n",
       "      <td>승합</td>\n",
       "      <td>중형</td>\n",
       "      <td>NaN</td>\n",
       "      <td>5.00</td>\n",
       "      <td>-1122.85</td>\n",
       "      <td>1521.00</td>\n",
       "      <td>0.00</td>\n",
       "      <td>2</td>\n",
       "    </tr>\n",
       "    <tr>\n",
       "      <th>64</th>\n",
       "      <td>KLACA26RD8B185772</td>\n",
       "      <td>27주6938</td>\n",
       "      <td>4513040000</td>\n",
       "      <td>전라북도</td>\n",
       "      <td>군산시</td>\n",
       "      <td>2008</td>\n",
       "      <td>개인용</td>\n",
       "      <td>승용</td>\n",
       "      <td>중형</td>\n",
       "      <td>NaN</td>\n",
       "      <td>0.00</td>\n",
       "      <td>-269.02</td>\n",
       "      <td>2023.00</td>\n",
       "      <td>0.00</td>\n",
       "      <td>2</td>\n",
       "    </tr>\n",
       "    <tr>\n",
       "      <th>69</th>\n",
       "      <td>KLACA26RD6B001897</td>\n",
       "      <td>54주8409</td>\n",
       "      <td>4122025041</td>\n",
       "      <td>경기도</td>\n",
       "      <td>평택시</td>\n",
       "      <td>2006</td>\n",
       "      <td>개인용</td>\n",
       "      <td>승용</td>\n",
       "      <td>중형</td>\n",
       "      <td>NaN</td>\n",
       "      <td>2.00</td>\n",
       "      <td>-453.47</td>\n",
       "      <td>1822.00</td>\n",
       "      <td>0.00</td>\n",
       "      <td>2</td>\n",
       "    </tr>\n",
       "  </tbody>\n",
       "</table>\n",
       "</div>"
      ],
      "text/plain": [
       "                 차대번호      차량번호       법정동코드    시도   시군구    연식   용도  차종 차종유형   \n",
       "20  KNHMB76438S243174   70보0919  4122025041   경기도   평택시  2008  개인용  승합   중형  \\\n",
       "25  KNME5C2MM8P006761  112무9587  4125010300   경기도  동두천시  2008  개인용  승용   중형   \n",
       "48  KNHMB76438S237215   75누4809  4122032027   경기도   평택시  2008  개인용  승합   중형   \n",
       "64  KLACA26RD8B185772   27주6938  4513040000  전라북도   군산시  2008  개인용  승용   중형   \n",
       "69  KLACA26RD6B001897   54주8409  4122025041   경기도   평택시  2006  개인용  승용   중형   \n",
       "\n",
       "   저감장치  무부하매연측정치1  일일평균주행거리  최근검사경과일  운행제한건수  우선순위  \n",
       "20  NaN      10.00   -284.82  1740.00    0.00     2  \n",
       "25    유       0.00   -952.69  1294.00    0.00     2  \n",
       "48  NaN       5.00  -1122.85  1521.00    0.00     2  \n",
       "64  NaN       0.00   -269.02  2023.00    0.00     2  \n",
       "69  NaN       2.00   -453.47  1822.00    0.00     2  "
      ]
     },
     "execution_count": 145,
     "metadata": {},
     "output_type": "execute_result"
    }
   ],
   "source": [
    "gm4db = gm4d.loc[idx4b]\n",
    "gm4db['우선순위'] = 2\n",
    "gm4db.head()"
   ]
  },
  {
   "cell_type": "code",
   "execution_count": 146,
   "metadata": {},
   "outputs": [
    {
     "data": {
      "text/plain": [
       "392125"
      ]
     },
     "execution_count": 146,
     "metadata": {},
     "output_type": "execute_result"
    }
   ],
   "source": [
    "idx5b = gm5d.loc[((gm5d['최근검사경과일'] > 1095) | (gm5d['최근검사경과일'].isnull() == True)) & (gm5d['운행제한건수'] < 1)].index\n",
    "len(idx5b)"
   ]
  },
  {
   "cell_type": "code",
   "execution_count": 147,
   "metadata": {},
   "outputs": [
    {
     "data": {
      "text/html": [
       "<div>\n",
       "<style scoped>\n",
       "    .dataframe tbody tr th:only-of-type {\n",
       "        vertical-align: middle;\n",
       "    }\n",
       "\n",
       "    .dataframe tbody tr th {\n",
       "        vertical-align: top;\n",
       "    }\n",
       "\n",
       "    .dataframe thead th {\n",
       "        text-align: right;\n",
       "    }\n",
       "</style>\n",
       "<table border=\"1\" class=\"dataframe\">\n",
       "  <thead>\n",
       "    <tr style=\"text-align: right;\">\n",
       "      <th></th>\n",
       "      <th>차대번호</th>\n",
       "      <th>차량번호</th>\n",
       "      <th>법정동코드</th>\n",
       "      <th>시도</th>\n",
       "      <th>시군구</th>\n",
       "      <th>연식</th>\n",
       "      <th>용도</th>\n",
       "      <th>차종</th>\n",
       "      <th>차종유형</th>\n",
       "      <th>저감장치</th>\n",
       "      <th>무부하매연측정치1</th>\n",
       "      <th>일일평균주행거리</th>\n",
       "      <th>최근검사경과일</th>\n",
       "      <th>운행제한건수</th>\n",
       "      <th>우선순위</th>\n",
       "    </tr>\n",
       "  </thead>\n",
       "  <tbody>\n",
       "    <tr>\n",
       "      <th>51</th>\n",
       "      <td>KPBLC2AC13P191538</td>\n",
       "      <td>55오2201</td>\n",
       "      <td>4122025041</td>\n",
       "      <td>경기도</td>\n",
       "      <td>평택시</td>\n",
       "      <td>2003</td>\n",
       "      <td>개인용</td>\n",
       "      <td>승용</td>\n",
       "      <td>대형</td>\n",
       "      <td>NaN</td>\n",
       "      <td>NaN</td>\n",
       "      <td>-2155.13</td>\n",
       "      <td>1606.00</td>\n",
       "      <td>0.00</td>\n",
       "      <td>2</td>\n",
       "    </tr>\n",
       "    <tr>\n",
       "      <th>52</th>\n",
       "      <td>KPBCH3AB16P016724</td>\n",
       "      <td>45라6726</td>\n",
       "      <td>2720010300</td>\n",
       "      <td>대구광역시</td>\n",
       "      <td>남구</td>\n",
       "      <td>2006</td>\n",
       "      <td>개인용</td>\n",
       "      <td>승용</td>\n",
       "      <td>중형</td>\n",
       "      <td>NaN</td>\n",
       "      <td>0.00</td>\n",
       "      <td>-4544.14</td>\n",
       "      <td>1592.00</td>\n",
       "      <td>0.00</td>\n",
       "      <td>2</td>\n",
       "    </tr>\n",
       "    <tr>\n",
       "      <th>53</th>\n",
       "      <td>KNAJE55135K021161</td>\n",
       "      <td>17마1400</td>\n",
       "      <td>4122032027</td>\n",
       "      <td>경기도</td>\n",
       "      <td>평택시</td>\n",
       "      <td>2005</td>\n",
       "      <td>개인용</td>\n",
       "      <td>승용</td>\n",
       "      <td>중형</td>\n",
       "      <td>NaN</td>\n",
       "      <td>17.00</td>\n",
       "      <td>-952.16</td>\n",
       "      <td>1702.00</td>\n",
       "      <td>0.00</td>\n",
       "      <td>2</td>\n",
       "    </tr>\n",
       "    <tr>\n",
       "      <th>54</th>\n",
       "      <td>KPBFA2AD14P098256</td>\n",
       "      <td>16수1620</td>\n",
       "      <td>4122025041</td>\n",
       "      <td>경기도</td>\n",
       "      <td>평택시</td>\n",
       "      <td>2004</td>\n",
       "      <td>개인용</td>\n",
       "      <td>승용</td>\n",
       "      <td>대형</td>\n",
       "      <td>NaN</td>\n",
       "      <td>10.00</td>\n",
       "      <td>-304.01</td>\n",
       "      <td>1997.00</td>\n",
       "      <td>0.00</td>\n",
       "      <td>2</td>\n",
       "    </tr>\n",
       "    <tr>\n",
       "      <th>55</th>\n",
       "      <td>KMHSD81VP4U806323</td>\n",
       "      <td>04보2492</td>\n",
       "      <td>4122025041</td>\n",
       "      <td>경기도</td>\n",
       "      <td>평택시</td>\n",
       "      <td>2004</td>\n",
       "      <td>개인용</td>\n",
       "      <td>승용</td>\n",
       "      <td>중형</td>\n",
       "      <td>NaN</td>\n",
       "      <td>21.00</td>\n",
       "      <td>-498.59</td>\n",
       "      <td>1890.00</td>\n",
       "      <td>0.00</td>\n",
       "      <td>2</td>\n",
       "    </tr>\n",
       "  </tbody>\n",
       "</table>\n",
       "</div>"
      ],
      "text/plain": [
       "                 차대번호     차량번호       법정동코드     시도  시군구    연식   용도  차종 차종유형   \n",
       "51  KPBLC2AC13P191538  55오2201  4122025041    경기도  평택시  2003  개인용  승용   대형  \\\n",
       "52  KPBCH3AB16P016724  45라6726  2720010300  대구광역시   남구  2006  개인용  승용   중형   \n",
       "53  KNAJE55135K021161  17마1400  4122032027    경기도  평택시  2005  개인용  승용   중형   \n",
       "54  KPBFA2AD14P098256  16수1620  4122025041    경기도  평택시  2004  개인용  승용   대형   \n",
       "55  KMHSD81VP4U806323  04보2492  4122025041    경기도  평택시  2004  개인용  승용   중형   \n",
       "\n",
       "   저감장치  무부하매연측정치1  일일평균주행거리  최근검사경과일  운행제한건수  우선순위  \n",
       "51  NaN        NaN  -2155.13  1606.00    0.00     2  \n",
       "52  NaN       0.00  -4544.14  1592.00    0.00     2  \n",
       "53  NaN      17.00   -952.16  1702.00    0.00     2  \n",
       "54  NaN      10.00   -304.01  1997.00    0.00     2  \n",
       "55  NaN      21.00   -498.59  1890.00    0.00     2  "
      ]
     },
     "execution_count": 147,
     "metadata": {},
     "output_type": "execute_result"
    }
   ],
   "source": [
    "gm5db = gm5d.loc[idx5b]\n",
    "gm5db['우선순위'] = 2\n",
    "gm5db.head()"
   ]
  },
  {
   "cell_type": "markdown",
   "metadata": {},
   "source": [
    "## C급\n",
    "- 최근검사경과일 365*3 = 1095 이하"
   ]
  },
  {
   "cell_type": "code",
   "execution_count": 148,
   "metadata": {},
   "outputs": [
    {
     "data": {
      "text/plain": [
       "1122388"
      ]
     },
     "execution_count": 148,
     "metadata": {},
     "output_type": "execute_result"
    }
   ],
   "source": [
    "idx4c = gm4d.loc[gm4d['최근검사경과일'] <= 1095].index\n",
    "len(idx4c)"
   ]
  },
  {
   "cell_type": "code",
   "execution_count": 149,
   "metadata": {},
   "outputs": [
    {
     "data": {
      "text/html": [
       "<div>\n",
       "<style scoped>\n",
       "    .dataframe tbody tr th:only-of-type {\n",
       "        vertical-align: middle;\n",
       "    }\n",
       "\n",
       "    .dataframe tbody tr th {\n",
       "        vertical-align: top;\n",
       "    }\n",
       "\n",
       "    .dataframe thead th {\n",
       "        text-align: right;\n",
       "    }\n",
       "</style>\n",
       "<table border=\"1\" class=\"dataframe\">\n",
       "  <thead>\n",
       "    <tr style=\"text-align: right;\">\n",
       "      <th></th>\n",
       "      <th>차대번호</th>\n",
       "      <th>차량번호</th>\n",
       "      <th>법정동코드</th>\n",
       "      <th>시도</th>\n",
       "      <th>시군구</th>\n",
       "      <th>연식</th>\n",
       "      <th>용도</th>\n",
       "      <th>차종</th>\n",
       "      <th>차종유형</th>\n",
       "      <th>저감장치</th>\n",
       "      <th>무부하매연측정치1</th>\n",
       "      <th>일일평균주행거리</th>\n",
       "      <th>최근검사경과일</th>\n",
       "      <th>운행제한건수</th>\n",
       "      <th>우선순위</th>\n",
       "    </tr>\n",
       "  </thead>\n",
       "  <tbody>\n",
       "    <tr>\n",
       "      <th>0</th>\n",
       "      <td>KMFLA18KP8C031274</td>\n",
       "      <td>92도0997</td>\n",
       "      <td>4482533000</td>\n",
       "      <td>충청남도</td>\n",
       "      <td>태안군</td>\n",
       "      <td>2008</td>\n",
       "      <td>개인용</td>\n",
       "      <td>화물</td>\n",
       "      <td>대형</td>\n",
       "      <td>확인불가</td>\n",
       "      <td>7.00</td>\n",
       "      <td>13.84</td>\n",
       "      <td>113.00</td>\n",
       "      <td>0.00</td>\n",
       "      <td>3</td>\n",
       "    </tr>\n",
       "    <tr>\n",
       "      <th>1</th>\n",
       "      <td>KMCGK17HP9C112030</td>\n",
       "      <td>93루6527</td>\n",
       "      <td>4518010400</td>\n",
       "      <td>전라북도</td>\n",
       "      <td>정읍시</td>\n",
       "      <td>2009</td>\n",
       "      <td>개인용</td>\n",
       "      <td>화물</td>\n",
       "      <td>중형</td>\n",
       "      <td>유</td>\n",
       "      <td>5.00</td>\n",
       "      <td>193.25</td>\n",
       "      <td>59.00</td>\n",
       "      <td>0.00</td>\n",
       "      <td>3</td>\n",
       "    </tr>\n",
       "    <tr>\n",
       "      <th>2</th>\n",
       "      <td>KNCSE01429K388374</td>\n",
       "      <td>87너9428</td>\n",
       "      <td>2771026522</td>\n",
       "      <td>대구광역시</td>\n",
       "      <td>달성군</td>\n",
       "      <td>2009</td>\n",
       "      <td>개인용</td>\n",
       "      <td>화물</td>\n",
       "      <td>소형</td>\n",
       "      <td>무</td>\n",
       "      <td>14.00</td>\n",
       "      <td>151.01</td>\n",
       "      <td>345.00</td>\n",
       "      <td>0.00</td>\n",
       "      <td>3</td>\n",
       "    </tr>\n",
       "    <tr>\n",
       "      <th>3</th>\n",
       "      <td>KNCSE01429K388695</td>\n",
       "      <td>96구5394</td>\n",
       "      <td>2626010300</td>\n",
       "      <td>부산광역시</td>\n",
       "      <td>동래구</td>\n",
       "      <td>2009</td>\n",
       "      <td>개인용</td>\n",
       "      <td>화물</td>\n",
       "      <td>소형</td>\n",
       "      <td>무</td>\n",
       "      <td>7.00</td>\n",
       "      <td>79.89</td>\n",
       "      <td>228.00</td>\n",
       "      <td>0.00</td>\n",
       "      <td>3</td>\n",
       "    </tr>\n",
       "    <tr>\n",
       "      <th>4</th>\n",
       "      <td>KNFSE0A439K387582</td>\n",
       "      <td>96구5391</td>\n",
       "      <td>3020011900</td>\n",
       "      <td>대전광역시</td>\n",
       "      <td>유성구</td>\n",
       "      <td>2009</td>\n",
       "      <td>개인용</td>\n",
       "      <td>화물</td>\n",
       "      <td>소형</td>\n",
       "      <td>무</td>\n",
       "      <td>0.00</td>\n",
       "      <td>416.88</td>\n",
       "      <td>324.00</td>\n",
       "      <td>0.00</td>\n",
       "      <td>3</td>\n",
       "    </tr>\n",
       "  </tbody>\n",
       "</table>\n",
       "</div>"
      ],
      "text/plain": [
       "                차대번호     차량번호       법정동코드     시도  시군구    연식   용도  차종 차종유형   \n",
       "0  KMFLA18KP8C031274  92도0997  4482533000   충청남도  태안군  2008  개인용  화물   대형  \\\n",
       "1  KMCGK17HP9C112030  93루6527  4518010400   전라북도  정읍시  2009  개인용  화물   중형   \n",
       "2  KNCSE01429K388374  87너9428  2771026522  대구광역시  달성군  2009  개인용  화물   소형   \n",
       "3  KNCSE01429K388695  96구5394  2626010300  부산광역시  동래구  2009  개인용  화물   소형   \n",
       "4  KNFSE0A439K387582  96구5391  3020011900  대전광역시  유성구  2009  개인용  화물   소형   \n",
       "\n",
       "   저감장치  무부하매연측정치1  일일평균주행거리  최근검사경과일  운행제한건수  우선순위  \n",
       "0  확인불가       7.00     13.84   113.00    0.00     3  \n",
       "1     유       5.00    193.25    59.00    0.00     3  \n",
       "2     무      14.00    151.01   345.00    0.00     3  \n",
       "3     무       7.00     79.89   228.00    0.00     3  \n",
       "4     무       0.00    416.88   324.00    0.00     3  "
      ]
     },
     "execution_count": 149,
     "metadata": {},
     "output_type": "execute_result"
    }
   ],
   "source": [
    "gm4dc = gm4d.loc[idx4c]\n",
    "gm4dc['우선순위'] = 3\n",
    "gm4dc.head()"
   ]
  },
  {
   "cell_type": "code",
   "execution_count": 150,
   "metadata": {},
   "outputs": [
    {
     "data": {
      "text/plain": [
       "699583"
      ]
     },
     "execution_count": 150,
     "metadata": {},
     "output_type": "execute_result"
    }
   ],
   "source": [
    "idx5c = gm5d.loc[gm5d['최근검사경과일'] <= 1095].index\n",
    "len(idx5c)"
   ]
  },
  {
   "cell_type": "code",
   "execution_count": 151,
   "metadata": {},
   "outputs": [
    {
     "data": {
      "text/html": [
       "<div>\n",
       "<style scoped>\n",
       "    .dataframe tbody tr th:only-of-type {\n",
       "        vertical-align: middle;\n",
       "    }\n",
       "\n",
       "    .dataframe tbody tr th {\n",
       "        vertical-align: top;\n",
       "    }\n",
       "\n",
       "    .dataframe thead th {\n",
       "        text-align: right;\n",
       "    }\n",
       "</style>\n",
       "<table border=\"1\" class=\"dataframe\">\n",
       "  <thead>\n",
       "    <tr style=\"text-align: right;\">\n",
       "      <th></th>\n",
       "      <th>차대번호</th>\n",
       "      <th>차량번호</th>\n",
       "      <th>법정동코드</th>\n",
       "      <th>시도</th>\n",
       "      <th>시군구</th>\n",
       "      <th>연식</th>\n",
       "      <th>용도</th>\n",
       "      <th>차종</th>\n",
       "      <th>차종유형</th>\n",
       "      <th>저감장치</th>\n",
       "      <th>무부하매연측정치1</th>\n",
       "      <th>일일평균주행거리</th>\n",
       "      <th>최근검사경과일</th>\n",
       "      <th>운행제한건수</th>\n",
       "      <th>우선순위</th>\n",
       "    </tr>\n",
       "  </thead>\n",
       "  <tbody>\n",
       "    <tr>\n",
       "      <th>0</th>\n",
       "      <td>KL3C3AHF27K000068</td>\n",
       "      <td>84라1558</td>\n",
       "      <td>4372033032</td>\n",
       "      <td>충청북도</td>\n",
       "      <td>보은군</td>\n",
       "      <td>2007</td>\n",
       "      <td>개인용</td>\n",
       "      <td>화물</td>\n",
       "      <td>대형</td>\n",
       "      <td>NaN</td>\n",
       "      <td>0.00</td>\n",
       "      <td>559.55</td>\n",
       "      <td>59.00</td>\n",
       "      <td>0.00</td>\n",
       "      <td>3</td>\n",
       "    </tr>\n",
       "    <tr>\n",
       "      <th>1</th>\n",
       "      <td>KMCYSS7JP7U084697</td>\n",
       "      <td>99도4857</td>\n",
       "      <td>4423038028</td>\n",
       "      <td>충청남도</td>\n",
       "      <td>논산시</td>\n",
       "      <td>2007</td>\n",
       "      <td>개인용</td>\n",
       "      <td>특수</td>\n",
       "      <td>중형</td>\n",
       "      <td>NaN</td>\n",
       "      <td>9.00</td>\n",
       "      <td>31.29</td>\n",
       "      <td>352.00</td>\n",
       "      <td>0.00</td>\n",
       "      <td>3</td>\n",
       "    </tr>\n",
       "    <tr>\n",
       "      <th>2</th>\n",
       "      <td>KMFZCD7HP6U177736</td>\n",
       "      <td>88더0229</td>\n",
       "      <td>4413310800</td>\n",
       "      <td>충청남도</td>\n",
       "      <td>천안시</td>\n",
       "      <td>2006</td>\n",
       "      <td>개인용</td>\n",
       "      <td>화물</td>\n",
       "      <td>중형</td>\n",
       "      <td>유</td>\n",
       "      <td>13.00</td>\n",
       "      <td>269.69</td>\n",
       "      <td>375.00</td>\n",
       "      <td>0.00</td>\n",
       "      <td>3</td>\n",
       "    </tr>\n",
       "    <tr>\n",
       "      <th>3</th>\n",
       "      <td>KL3C3AHF27K000062</td>\n",
       "      <td>83노0270</td>\n",
       "      <td>4792025023</td>\n",
       "      <td>경상북도</td>\n",
       "      <td>봉화군</td>\n",
       "      <td>2007</td>\n",
       "      <td>개인용</td>\n",
       "      <td>화물</td>\n",
       "      <td>대형</td>\n",
       "      <td>NaN</td>\n",
       "      <td>8.00</td>\n",
       "      <td>332.99</td>\n",
       "      <td>185.00</td>\n",
       "      <td>0.00</td>\n",
       "      <td>3</td>\n",
       "    </tr>\n",
       "    <tr>\n",
       "      <th>4</th>\n",
       "      <td>KMCGK17PP7C072513</td>\n",
       "      <td>90로1655</td>\n",
       "      <td>3171034000</td>\n",
       "      <td>울산광역시</td>\n",
       "      <td>울주군</td>\n",
       "      <td>2007</td>\n",
       "      <td>개인용</td>\n",
       "      <td>화물</td>\n",
       "      <td>중형</td>\n",
       "      <td>NaN</td>\n",
       "      <td>3.00</td>\n",
       "      <td>28.17</td>\n",
       "      <td>51.00</td>\n",
       "      <td>0.00</td>\n",
       "      <td>3</td>\n",
       "    </tr>\n",
       "  </tbody>\n",
       "</table>\n",
       "</div>"
      ],
      "text/plain": [
       "                차대번호     차량번호       법정동코드     시도  시군구    연식   용도  차종 차종유형   \n",
       "0  KL3C3AHF27K000068  84라1558  4372033032   충청북도  보은군  2007  개인용  화물   대형  \\\n",
       "1  KMCYSS7JP7U084697  99도4857  4423038028   충청남도  논산시  2007  개인용  특수   중형   \n",
       "2  KMFZCD7HP6U177736  88더0229  4413310800   충청남도  천안시  2006  개인용  화물   중형   \n",
       "3  KL3C3AHF27K000062  83노0270  4792025023   경상북도  봉화군  2007  개인용  화물   대형   \n",
       "4  KMCGK17PP7C072513  90로1655  3171034000  울산광역시  울주군  2007  개인용  화물   중형   \n",
       "\n",
       "  저감장치  무부하매연측정치1  일일평균주행거리  최근검사경과일  운행제한건수  우선순위  \n",
       "0  NaN       0.00    559.55    59.00    0.00     3  \n",
       "1  NaN       9.00     31.29   352.00    0.00     3  \n",
       "2    유      13.00    269.69   375.00    0.00     3  \n",
       "3  NaN       8.00    332.99   185.00    0.00     3  \n",
       "4  NaN       3.00     28.17    51.00    0.00     3  "
      ]
     },
     "execution_count": 151,
     "metadata": {},
     "output_type": "execute_result"
    }
   ],
   "source": [
    "gm5dc = gm5d.loc[idx5c]\n",
    "gm5dc['우선순위'] = 3\n",
    "gm5dc.head()"
   ]
  },
  {
   "cell_type": "markdown",
   "metadata": {},
   "source": [
    "# 분석"
   ]
  },
  {
   "cell_type": "markdown",
   "metadata": {},
   "source": [
    "## 가중치 설정을 위한 상관계수 확인\n",
    "- 선별 조건(4가지)\n",
    "    - 매연\n",
    "    - 일일평균주행거리\n",
    "    - 최근검사경과일\n",
    "    - 운행제한단속건수"
   ]
  },
  {
   "cell_type": "code",
   "execution_count": 152,
   "metadata": {},
   "outputs": [],
   "source": [
    "gm4di = gm4dc.copy()\n",
    "gm5di = gm5dc.copy()"
   ]
  },
  {
   "cell_type": "code",
   "execution_count": 153,
   "metadata": {},
   "outputs": [
    {
     "data": {
      "text/plain": [
       "((1122388, 15), (699583, 15))"
      ]
     },
     "execution_count": 153,
     "metadata": {},
     "output_type": "execute_result"
    }
   ],
   "source": [
    "gm4di.shape, gm5di.shape"
   ]
  },
  {
   "cell_type": "markdown",
   "metadata": {},
   "source": [
    "### 4등급 경유 C급"
   ]
  },
  {
   "cell_type": "code",
   "execution_count": 154,
   "metadata": {},
   "outputs": [
    {
     "data": {
      "text/plain": [
       "Index(['차대번호', '차량번호', '법정동코드', '시도', '시군구', '연식', '용도', '차종', '차종유형', '저감장치',\n",
       "       '무부하매연측정치1', '일일평균주행거리', '최근검사경과일', '운행제한건수', '우선순위'],\n",
       "      dtype='object')"
      ]
     },
     "execution_count": 154,
     "metadata": {},
     "output_type": "execute_result"
    }
   ],
   "source": [
    "gm4di.columns"
   ]
  },
  {
   "cell_type": "code",
   "execution_count": 155,
   "metadata": {},
   "outputs": [
    {
     "data": {
      "text/plain": [
       "0"
      ]
     },
     "execution_count": 155,
     "metadata": {},
     "output_type": "execute_result"
    }
   ],
   "source": [
    "gm4di['일일평균주행거리'].isnull().sum()"
   ]
  },
  {
   "cell_type": "code",
   "execution_count": 156,
   "metadata": {},
   "outputs": [],
   "source": [
    "# 선별조건선정\n",
    "col = ['무부하매연측정치1', '일일평균주행거리', '최근검사경과일', '운행제한건수']"
   ]
  },
  {
   "cell_type": "code",
   "execution_count": 157,
   "metadata": {},
   "outputs": [
    {
     "data": {
      "text/plain": [
       "무부하매연측정치1    float64\n",
       "일일평균주행거리     float64\n",
       "최근검사경과일      float64\n",
       "운행제한건수       float64\n",
       "dtype: object"
      ]
     },
     "execution_count": 157,
     "metadata": {},
     "output_type": "execute_result"
    }
   ],
   "source": [
    "gm4di[col].dtypes"
   ]
  },
  {
   "cell_type": "code",
   "execution_count": 158,
   "metadata": {},
   "outputs": [
    {
     "data": {
      "text/plain": [
       "무부하매연측정치1    9310\n",
       "일일평균주행거리        0\n",
       "최근검사경과일         0\n",
       "운행제한건수          0\n",
       "dtype: int64"
      ]
     },
     "execution_count": 158,
     "metadata": {},
     "output_type": "execute_result"
    }
   ],
   "source": [
    "gm4di[col].isnull().sum()"
   ]
  },
  {
   "cell_type": "code",
   "execution_count": 159,
   "metadata": {},
   "outputs": [
    {
     "data": {
      "text/plain": [
       "무부하매연측정치1    0\n",
       "일일평균주행거리     0\n",
       "최근검사경과일      0\n",
       "운행제한건수       0\n",
       "dtype: int64"
      ]
     },
     "execution_count": 159,
     "metadata": {},
     "output_type": "execute_result"
    }
   ],
   "source": [
    "gm4di[col] = gm4di[col].fillna(0)\n",
    "gm4di[col].isnull().sum()"
   ]
  },
  {
   "cell_type": "code",
   "execution_count": 160,
   "metadata": {},
   "outputs": [
    {
     "data": {
      "text/html": [
       "<div>\n",
       "<style scoped>\n",
       "    .dataframe tbody tr th:only-of-type {\n",
       "        vertical-align: middle;\n",
       "    }\n",
       "\n",
       "    .dataframe tbody tr th {\n",
       "        vertical-align: top;\n",
       "    }\n",
       "\n",
       "    .dataframe thead th {\n",
       "        text-align: right;\n",
       "    }\n",
       "</style>\n",
       "<table border=\"1\" class=\"dataframe\">\n",
       "  <thead>\n",
       "    <tr style=\"text-align: right;\">\n",
       "      <th></th>\n",
       "      <th>무부하매연측정치1</th>\n",
       "      <th>일일평균주행거리</th>\n",
       "      <th>최근검사경과일</th>\n",
       "      <th>운행제한건수</th>\n",
       "    </tr>\n",
       "  </thead>\n",
       "  <tbody>\n",
       "    <tr>\n",
       "      <th>무부하매연측정치1</th>\n",
       "      <td>1.00</td>\n",
       "      <td>-0.00</td>\n",
       "      <td>-0.03</td>\n",
       "      <td>-0.00</td>\n",
       "    </tr>\n",
       "    <tr>\n",
       "      <th>일일평균주행거리</th>\n",
       "      <td>-0.00</td>\n",
       "      <td>1.00</td>\n",
       "      <td>-0.02</td>\n",
       "      <td>0.01</td>\n",
       "    </tr>\n",
       "    <tr>\n",
       "      <th>최근검사경과일</th>\n",
       "      <td>-0.03</td>\n",
       "      <td>-0.02</td>\n",
       "      <td>1.00</td>\n",
       "      <td>-0.00</td>\n",
       "    </tr>\n",
       "    <tr>\n",
       "      <th>운행제한건수</th>\n",
       "      <td>-0.00</td>\n",
       "      <td>0.01</td>\n",
       "      <td>-0.00</td>\n",
       "      <td>1.00</td>\n",
       "    </tr>\n",
       "  </tbody>\n",
       "</table>\n",
       "</div>"
      ],
      "text/plain": [
       "           무부하매연측정치1  일일평균주행거리  최근검사경과일  운행제한건수\n",
       "무부하매연측정치1       1.00     -0.00    -0.03   -0.00\n",
       "일일평균주행거리       -0.00      1.00    -0.02    0.01\n",
       "최근검사경과일        -0.03     -0.02     1.00   -0.00\n",
       "운행제한건수         -0.00      0.01    -0.00    1.00"
      ]
     },
     "execution_count": 160,
     "metadata": {},
     "output_type": "execute_result"
    }
   ],
   "source": [
    "gm4di_corr = gm4di[col].corr()\n",
    "gm4di_corr"
   ]
  },
  {
   "cell_type": "markdown",
   "metadata": {},
   "source": [
    "#### 4등급 경유차 선별조건 상관계수"
   ]
  },
  {
   "cell_type": "code",
   "execution_count": 161,
   "metadata": {},
   "outputs": [
    {
     "data": {
      "text/html": [
       "<div>\n",
       "<style scoped>\n",
       "    .dataframe tbody tr th:only-of-type {\n",
       "        vertical-align: middle;\n",
       "    }\n",
       "\n",
       "    .dataframe tbody tr th {\n",
       "        vertical-align: top;\n",
       "    }\n",
       "\n",
       "    .dataframe thead th {\n",
       "        text-align: right;\n",
       "    }\n",
       "</style>\n",
       "<table border=\"1\" class=\"dataframe\">\n",
       "  <thead>\n",
       "    <tr style=\"text-align: right;\">\n",
       "      <th></th>\n",
       "      <th>index</th>\n",
       "      <th>무부하매연측정치1</th>\n",
       "      <th>일일평균주행거리</th>\n",
       "      <th>최근검사경과일</th>\n",
       "      <th>운행제한건수</th>\n",
       "      <th>합계</th>\n",
       "    </tr>\n",
       "  </thead>\n",
       "  <tbody>\n",
       "    <tr>\n",
       "      <th>0</th>\n",
       "      <td>무부하매연측정치1</td>\n",
       "      <td>1.00</td>\n",
       "      <td>-0.00</td>\n",
       "      <td>-0.03</td>\n",
       "      <td>-0.00</td>\n",
       "      <td>0.96</td>\n",
       "    </tr>\n",
       "    <tr>\n",
       "      <th>1</th>\n",
       "      <td>일일평균주행거리</td>\n",
       "      <td>-0.00</td>\n",
       "      <td>1.00</td>\n",
       "      <td>-0.02</td>\n",
       "      <td>0.01</td>\n",
       "      <td>0.99</td>\n",
       "    </tr>\n",
       "    <tr>\n",
       "      <th>2</th>\n",
       "      <td>최근검사경과일</td>\n",
       "      <td>-0.03</td>\n",
       "      <td>-0.02</td>\n",
       "      <td>1.00</td>\n",
       "      <td>-0.00</td>\n",
       "      <td>0.94</td>\n",
       "    </tr>\n",
       "    <tr>\n",
       "      <th>3</th>\n",
       "      <td>운행제한건수</td>\n",
       "      <td>-0.00</td>\n",
       "      <td>0.01</td>\n",
       "      <td>-0.00</td>\n",
       "      <td>1.00</td>\n",
       "      <td>1.01</td>\n",
       "    </tr>\n",
       "  </tbody>\n",
       "</table>\n",
       "</div>"
      ],
      "text/plain": [
       "       index  무부하매연측정치1  일일평균주행거리  최근검사경과일  운행제한건수   합계\n",
       "0  무부하매연측정치1       1.00     -0.00    -0.03   -0.00 0.96\n",
       "1   일일평균주행거리      -0.00      1.00    -0.02    0.01 0.99\n",
       "2    최근검사경과일      -0.03     -0.02     1.00   -0.00 0.94\n",
       "3     운행제한건수      -0.00      0.01    -0.00    1.00 1.01"
      ]
     },
     "execution_count": 161,
     "metadata": {},
     "output_type": "execute_result"
    }
   ],
   "source": [
    "t4 = pd.concat([gm4di_corr, gm4di_corr.sum()], axis=1)\n",
    "t4 = t4.rename(columns={0:'합계'})\n",
    "t4 = t4.reset_index()\n",
    "t4"
   ]
  },
  {
   "cell_type": "code",
   "execution_count": 162,
   "metadata": {},
   "outputs": [
    {
     "data": {
      "text/plain": [
       "Index(['index', '무부하매연측정치1', '일일평균주행거리', '최근검사경과일', '운행제한건수', '합계'], dtype='object')"
      ]
     },
     "execution_count": 162,
     "metadata": {},
     "output_type": "execute_result"
    }
   ],
   "source": [
    "t4.columns"
   ]
  },
  {
   "cell_type": "code",
   "execution_count": 163,
   "metadata": {},
   "outputs": [
    {
     "data": {
      "text/plain": [
       "'20232107'"
      ]
     },
     "execution_count": 163,
     "metadata": {},
     "output_type": "execute_result"
    }
   ],
   "source": [
    "today_date = datetime.today().strftime(\"%Y%d%m\")\n",
    "today_date"
   ]
  },
  {
   "cell_type": "code",
   "execution_count": 164,
   "metadata": {},
   "outputs": [],
   "source": [
    "t4['테이블생성일자'] = today_date"
   ]
  },
  {
   "cell_type": "code",
   "execution_count": 165,
   "metadata": {},
   "outputs": [],
   "source": [
    "chc_col = {\n",
    "    '테이블생성일자':'LOAD_DT', \n",
    "    'index':'LIST', \n",
    "    '무부하매연측정치1':'NOLOD_SMO_MEVLU1', \n",
    "    '일일평균주행거리':'DY_AVRG_DRVNG_DSTNC', \n",
    "    '최근검사경과일':'RCNT_INSP_ELPSD_WHL', \n",
    "    '운행제한건수':'RUN_LMT_NOCS', \n",
    "    '합계':'TOT_CRRLTN_CFFCNT',\n",
    "}"
   ]
  },
  {
   "cell_type": "code",
   "execution_count": 166,
   "metadata": {},
   "outputs": [
    {
     "data": {
      "text/html": [
       "<div>\n",
       "<style scoped>\n",
       "    .dataframe tbody tr th:only-of-type {\n",
       "        vertical-align: middle;\n",
       "    }\n",
       "\n",
       "    .dataframe tbody tr th {\n",
       "        vertical-align: top;\n",
       "    }\n",
       "\n",
       "    .dataframe thead th {\n",
       "        text-align: right;\n",
       "    }\n",
       "</style>\n",
       "<table border=\"1\" class=\"dataframe\">\n",
       "  <thead>\n",
       "    <tr style=\"text-align: right;\">\n",
       "      <th></th>\n",
       "      <th>LIST</th>\n",
       "      <th>NOLOD_SMO_MEVLU1</th>\n",
       "      <th>DY_AVRG_DRVNG_DSTNC</th>\n",
       "      <th>RCNT_INSP_ELPSD_WHL</th>\n",
       "      <th>RUN_LMT_NOCS</th>\n",
       "      <th>TOT_CRRLTN_CFFCNT</th>\n",
       "      <th>LOAD_DT</th>\n",
       "    </tr>\n",
       "  </thead>\n",
       "  <tbody>\n",
       "    <tr>\n",
       "      <th>0</th>\n",
       "      <td>무부하매연측정치1</td>\n",
       "      <td>1.00</td>\n",
       "      <td>-0.00</td>\n",
       "      <td>-0.03</td>\n",
       "      <td>-0.00</td>\n",
       "      <td>0.96</td>\n",
       "      <td>20232107</td>\n",
       "    </tr>\n",
       "    <tr>\n",
       "      <th>1</th>\n",
       "      <td>일일평균주행거리</td>\n",
       "      <td>-0.00</td>\n",
       "      <td>1.00</td>\n",
       "      <td>-0.02</td>\n",
       "      <td>0.01</td>\n",
       "      <td>0.99</td>\n",
       "      <td>20232107</td>\n",
       "    </tr>\n",
       "    <tr>\n",
       "      <th>2</th>\n",
       "      <td>최근검사경과일</td>\n",
       "      <td>-0.03</td>\n",
       "      <td>-0.02</td>\n",
       "      <td>1.00</td>\n",
       "      <td>-0.00</td>\n",
       "      <td>0.94</td>\n",
       "      <td>20232107</td>\n",
       "    </tr>\n",
       "    <tr>\n",
       "      <th>3</th>\n",
       "      <td>운행제한건수</td>\n",
       "      <td>-0.00</td>\n",
       "      <td>0.01</td>\n",
       "      <td>-0.00</td>\n",
       "      <td>1.00</td>\n",
       "      <td>1.01</td>\n",
       "      <td>20232107</td>\n",
       "    </tr>\n",
       "  </tbody>\n",
       "</table>\n",
       "</div>"
      ],
      "text/plain": [
       "        LIST  NOLOD_SMO_MEVLU1  DY_AVRG_DRVNG_DSTNC  RCNT_INSP_ELPSD_WHL   \n",
       "0  무부하매연측정치1              1.00                -0.00                -0.03  \\\n",
       "1   일일평균주행거리             -0.00                 1.00                -0.02   \n",
       "2    최근검사경과일             -0.03                -0.02                 1.00   \n",
       "3     운행제한건수             -0.00                 0.01                -0.00   \n",
       "\n",
       "   RUN_LMT_NOCS  TOT_CRRLTN_CFFCNT   LOAD_DT  \n",
       "0         -0.00               0.96  20232107  \n",
       "1          0.01               0.99  20232107  \n",
       "2         -0.00               0.94  20232107  \n",
       "3          1.00               1.01  20232107  "
      ]
     },
     "execution_count": 166,
     "metadata": {},
     "output_type": "execute_result"
    }
   ],
   "source": [
    "STD_BD_GRD4_DS_CRRLTN_CFFCNT = t4.rename(columns=chc_col)\n",
    "STD_BD_GRD4_DS_CRRLTN_CFFCNT"
   ]
  },
  {
   "cell_type": "markdown",
   "metadata": {},
   "source": [
    "##### [출력] STD_BD_GRD4_DS_CRRLTN_CFFCNT"
   ]
  },
  {
   "cell_type": "code",
   "execution_count": 167,
   "metadata": {},
   "outputs": [],
   "source": [
    "expdf = STD_BD_GRD4_DS_CRRLTN_CFFCNT\n",
    "table_nm = 'STD_BD_GRD4_DS_CRRLTN_CFFCNT'.upper()\n",
    "\n",
    "# 테이블 생성\n",
    "sql = 'create or replace table ' + table_nm + '( \\n'\n",
    "\n",
    "for idx,column in enumerate(expdf.columns):\n",
    "    if 'float' in expdf[column].dtype.name:\n",
    "        sql += column + ' float'\n",
    "    elif 'int' in expdf[column].dtype.name:\n",
    "        sql += column + ' number'\n",
    "    else:\n",
    "        sql += column + ' varchar(255)'\n",
    "\n",
    "    if len(expdf.columns) - 1 != idx:\n",
    "        sql += ','\n",
    "    sql += '\\n'\n",
    "sql += ')'    \n",
    "we.execute(sql)\n",
    "\n",
    "# 데이터 추가\n",
    "# 5s\n",
    "we.import_from_pandas(expdf, table_nm)"
   ]
  },
  {
   "cell_type": "code",
   "execution_count": 168,
   "metadata": {},
   "outputs": [],
   "source": [
    "# 7.6s\n",
    "# BD3-3_4등급경유차_상관계수\n",
    "STD_BD_GRD4_DS_CRRLTN_CFFCNT.to_csv(os.path.join(df3_fold, 'STD_BD_GRD4_DS_CRRLTN_CFFCNT.csv'), index=False)"
   ]
  },
  {
   "cell_type": "markdown",
   "metadata": {},
   "source": [
    "#### 4등급 경유차 선별포인트"
   ]
  },
  {
   "cell_type": "code",
   "execution_count": 169,
   "metadata": {},
   "outputs": [
    {
     "data": {
      "text/plain": [
       "무부하매연측정치1   0.96\n",
       "일일평균주행거리    0.99\n",
       "최근검사경과일     0.94\n",
       "운행제한건수      1.01\n",
       "dtype: float64"
      ]
     },
     "execution_count": 169,
     "metadata": {},
     "output_type": "execute_result"
    }
   ],
   "source": [
    "gm4di_corr.sum()[col]"
   ]
  },
  {
   "cell_type": "code",
   "execution_count": 170,
   "metadata": {},
   "outputs": [
    {
     "data": {
      "text/plain": [
       "(0.24682699614820372,\n",
       " 0.25259838915344257,\n",
       " 0.2417354893901402,\n",
       " 0.2588391253082136)"
      ]
     },
     "execution_count": 170,
     "metadata": {},
     "output_type": "execute_result"
    }
   ],
   "source": [
    "c1, c2, c3, c4 = gm4di_corr.sum()[col]\n",
    "sc1 = c1 + c2 + c3 + c4 \n",
    "w1, w2, w3, w4 = c1/sc1, c2/sc1, c3/sc1, c4/sc1\n",
    "w1, w2, w3, w4"
   ]
  },
  {
   "cell_type": "code",
   "execution_count": 171,
   "metadata": {},
   "outputs": [
    {
     "data": {
      "text/plain": [
       "0"
      ]
     },
     "execution_count": 171,
     "metadata": {},
     "output_type": "execute_result"
    }
   ],
   "source": [
    "gm4di['선별포인트'] = np.round(w1 * gm4di['무부하매연측정치1'] + w2 * gm4di['일일평균주행거리'] + w3 * gm4di['최근검사경과일'] + w4 * gm4di['운행제한건수'] , 0)\n",
    "gm4di['선별포인트'].isnull().sum()"
   ]
  },
  {
   "cell_type": "code",
   "execution_count": 172,
   "metadata": {},
   "outputs": [
    {
     "data": {
      "text/html": [
       "<div>\n",
       "<style scoped>\n",
       "    .dataframe tbody tr th:only-of-type {\n",
       "        vertical-align: middle;\n",
       "    }\n",
       "\n",
       "    .dataframe tbody tr th {\n",
       "        vertical-align: top;\n",
       "    }\n",
       "\n",
       "    .dataframe thead th {\n",
       "        text-align: right;\n",
       "    }\n",
       "</style>\n",
       "<table border=\"1\" class=\"dataframe\">\n",
       "  <thead>\n",
       "    <tr style=\"text-align: right;\">\n",
       "      <th></th>\n",
       "      <th>차량번호</th>\n",
       "      <th>차종</th>\n",
       "      <th>선별포인트</th>\n",
       "    </tr>\n",
       "  </thead>\n",
       "  <tbody>\n",
       "    <tr>\n",
       "      <th>1117</th>\n",
       "      <td>서울88아7380</td>\n",
       "      <td>화물</td>\n",
       "      <td>1015.00</td>\n",
       "    </tr>\n",
       "    <tr>\n",
       "      <th>1601</th>\n",
       "      <td>경기99아2305</td>\n",
       "      <td>특수</td>\n",
       "      <td>799.00</td>\n",
       "    </tr>\n",
       "    <tr>\n",
       "      <th>1370</th>\n",
       "      <td>경북98사8301</td>\n",
       "      <td>특수</td>\n",
       "      <td>738.00</td>\n",
       "    </tr>\n",
       "    <tr>\n",
       "      <th>560881</th>\n",
       "      <td>22소6078</td>\n",
       "      <td>승용</td>\n",
       "      <td>690.00</td>\n",
       "    </tr>\n",
       "    <tr>\n",
       "      <th>422480</th>\n",
       "      <td>경남82아9185</td>\n",
       "      <td>화물</td>\n",
       "      <td>624.00</td>\n",
       "    </tr>\n",
       "    <tr>\n",
       "      <th>381770</th>\n",
       "      <td>73조2921</td>\n",
       "      <td>승합</td>\n",
       "      <td>605.00</td>\n",
       "    </tr>\n",
       "    <tr>\n",
       "      <th>200147</th>\n",
       "      <td>경기94아9304</td>\n",
       "      <td>화물</td>\n",
       "      <td>604.00</td>\n",
       "    </tr>\n",
       "    <tr>\n",
       "      <th>451577</th>\n",
       "      <td>충북80자4400</td>\n",
       "      <td>화물</td>\n",
       "      <td>586.00</td>\n",
       "    </tr>\n",
       "    <tr>\n",
       "      <th>848801</th>\n",
       "      <td>인천98바2249</td>\n",
       "      <td>특수</td>\n",
       "      <td>559.00</td>\n",
       "    </tr>\n",
       "    <tr>\n",
       "      <th>772830</th>\n",
       "      <td>93나4050</td>\n",
       "      <td>화물</td>\n",
       "      <td>515.00</td>\n",
       "    </tr>\n",
       "  </tbody>\n",
       "</table>\n",
       "</div>"
      ],
      "text/plain": [
       "             차량번호  차종   선별포인트\n",
       "1117    서울88아7380  화물 1015.00\n",
       "1601    경기99아2305  특수  799.00\n",
       "1370    경북98사8301  특수  738.00\n",
       "560881    22소6078  승용  690.00\n",
       "422480  경남82아9185  화물  624.00\n",
       "381770    73조2921  승합  605.00\n",
       "200147  경기94아9304  화물  604.00\n",
       "451577  충북80자4400  화물  586.00\n",
       "848801  인천98바2249  특수  559.00\n",
       "772830    93나4050  화물  515.00"
      ]
     },
     "execution_count": 172,
     "metadata": {},
     "output_type": "execute_result"
    }
   ],
   "source": [
    "gm4di.sort_values('선별포인트', ascending=False)[['차량번호', '차종', '선별포인트']].head(10)"
   ]
  },
  {
   "cell_type": "code",
   "execution_count": 173,
   "metadata": {},
   "outputs": [
    {
     "data": {
      "text/plain": [
       "count   1122388.00\n",
       "mean        104.88\n",
       "std          57.20\n",
       "min          11.00\n",
       "25%          56.00\n",
       "50%          98.00\n",
       "75%         150.00\n",
       "max        1015.00\n",
       "Name: 선별포인트, dtype: float64"
      ]
     },
     "execution_count": 173,
     "metadata": {},
     "output_type": "execute_result"
    }
   ],
   "source": [
    "gm4di['선별포인트'].describe()"
   ]
  },
  {
   "cell_type": "code",
   "execution_count": 174,
   "metadata": {},
   "outputs": [
    {
     "data": {
      "image/png": "[encoded data removed]",
      "text/plain": [
       "<Figure size 640x480 with 1 Axes>"
      ]
     },
     "metadata": {},
     "output_type": "display_data"
    }
   ],
   "source": [
    "gm4di['선별포인트'].hist();"
   ]
  },
  {
   "cell_type": "code",
   "execution_count": 175,
   "metadata": {},
   "outputs": [
    {
     "data": {
      "text/plain": [
       "Index(['차대번호', '차량번호', '법정동코드', '시도', '시군구', '연식', '용도', '차종', '차종유형', '저감장치',\n",
       "       '무부하매연측정치1', '일일평균주행거리', '최근검사경과일', '운행제한건수', '우선순위', '선별포인트'],\n",
       "      dtype='object')"
      ]
     },
     "execution_count": 175,
     "metadata": {},
     "output_type": "execute_result"
    }
   ],
   "source": [
    "gm4di.columns"
   ]
  },
  {
   "cell_type": "code",
   "execution_count": 176,
   "metadata": {},
   "outputs": [
    {
     "data": {
      "text/html": [
       "<div>\n",
       "<style scoped>\n",
       "    .dataframe tbody tr th:only-of-type {\n",
       "        vertical-align: middle;\n",
       "    }\n",
       "\n",
       "    .dataframe tbody tr th {\n",
       "        vertical-align: top;\n",
       "    }\n",
       "\n",
       "    .dataframe thead th {\n",
       "        text-align: right;\n",
       "    }\n",
       "</style>\n",
       "<table border=\"1\" class=\"dataframe\">\n",
       "  <thead>\n",
       "    <tr style=\"text-align: right;\">\n",
       "      <th></th>\n",
       "      <th>차대번호</th>\n",
       "      <th>차량번호</th>\n",
       "      <th>법정동코드</th>\n",
       "      <th>시도</th>\n",
       "      <th>시군구</th>\n",
       "      <th>연식</th>\n",
       "      <th>용도</th>\n",
       "      <th>차종</th>\n",
       "      <th>차종유형</th>\n",
       "      <th>저감장치</th>\n",
       "      <th>무부하매연측정치1</th>\n",
       "      <th>일일평균주행거리</th>\n",
       "      <th>최근검사경과일</th>\n",
       "      <th>운행제한건수</th>\n",
       "      <th>우선순위</th>\n",
       "      <th>선별포인트</th>\n",
       "    </tr>\n",
       "  </thead>\n",
       "  <tbody>\n",
       "    <tr>\n",
       "      <th>0</th>\n",
       "      <td>KMFLA18KP8C031274</td>\n",
       "      <td>92도0997</td>\n",
       "      <td>4482533000</td>\n",
       "      <td>충청남도</td>\n",
       "      <td>태안군</td>\n",
       "      <td>2008</td>\n",
       "      <td>개인용</td>\n",
       "      <td>화물</td>\n",
       "      <td>대형</td>\n",
       "      <td>확인불가</td>\n",
       "      <td>7.00</td>\n",
       "      <td>13.84</td>\n",
       "      <td>113.00</td>\n",
       "      <td>0.00</td>\n",
       "      <td>3</td>\n",
       "      <td>33.00</td>\n",
       "    </tr>\n",
       "    <tr>\n",
       "      <th>1</th>\n",
       "      <td>KMCGK17HP9C112030</td>\n",
       "      <td>93루6527</td>\n",
       "      <td>4518010400</td>\n",
       "      <td>전라북도</td>\n",
       "      <td>정읍시</td>\n",
       "      <td>2009</td>\n",
       "      <td>개인용</td>\n",
       "      <td>화물</td>\n",
       "      <td>중형</td>\n",
       "      <td>유</td>\n",
       "      <td>5.00</td>\n",
       "      <td>193.25</td>\n",
       "      <td>59.00</td>\n",
       "      <td>0.00</td>\n",
       "      <td>3</td>\n",
       "      <td>64.00</td>\n",
       "    </tr>\n",
       "    <tr>\n",
       "      <th>2</th>\n",
       "      <td>KNCSE01429K388374</td>\n",
       "      <td>87너9428</td>\n",
       "      <td>2771026522</td>\n",
       "      <td>대구광역시</td>\n",
       "      <td>달성군</td>\n",
       "      <td>2009</td>\n",
       "      <td>개인용</td>\n",
       "      <td>화물</td>\n",
       "      <td>소형</td>\n",
       "      <td>무</td>\n",
       "      <td>14.00</td>\n",
       "      <td>151.01</td>\n",
       "      <td>345.00</td>\n",
       "      <td>0.00</td>\n",
       "      <td>3</td>\n",
       "      <td>125.00</td>\n",
       "    </tr>\n",
       "    <tr>\n",
       "      <th>3</th>\n",
       "      <td>KNCSE01429K388695</td>\n",
       "      <td>96구5394</td>\n",
       "      <td>2626010300</td>\n",
       "      <td>부산광역시</td>\n",
       "      <td>동래구</td>\n",
       "      <td>2009</td>\n",
       "      <td>개인용</td>\n",
       "      <td>화물</td>\n",
       "      <td>소형</td>\n",
       "      <td>무</td>\n",
       "      <td>7.00</td>\n",
       "      <td>79.89</td>\n",
       "      <td>228.00</td>\n",
       "      <td>0.00</td>\n",
       "      <td>3</td>\n",
       "      <td>77.00</td>\n",
       "    </tr>\n",
       "    <tr>\n",
       "      <th>4</th>\n",
       "      <td>KNFSE0A439K387582</td>\n",
       "      <td>96구5391</td>\n",
       "      <td>3020011900</td>\n",
       "      <td>대전광역시</td>\n",
       "      <td>유성구</td>\n",
       "      <td>2009</td>\n",
       "      <td>개인용</td>\n",
       "      <td>화물</td>\n",
       "      <td>소형</td>\n",
       "      <td>무</td>\n",
       "      <td>0.00</td>\n",
       "      <td>416.88</td>\n",
       "      <td>324.00</td>\n",
       "      <td>0.00</td>\n",
       "      <td>3</td>\n",
       "      <td>184.00</td>\n",
       "    </tr>\n",
       "  </tbody>\n",
       "</table>\n",
       "</div>"
      ],
      "text/plain": [
       "                차대번호     차량번호       법정동코드     시도  시군구    연식   용도  차종 차종유형   \n",
       "0  KMFLA18KP8C031274  92도0997  4482533000   충청남도  태안군  2008  개인용  화물   대형  \\\n",
       "1  KMCGK17HP9C112030  93루6527  4518010400   전라북도  정읍시  2009  개인용  화물   중형   \n",
       "2  KNCSE01429K388374  87너9428  2771026522  대구광역시  달성군  2009  개인용  화물   소형   \n",
       "3  KNCSE01429K388695  96구5394  2626010300  부산광역시  동래구  2009  개인용  화물   소형   \n",
       "4  KNFSE0A439K387582  96구5391  3020011900  대전광역시  유성구  2009  개인용  화물   소형   \n",
       "\n",
       "   저감장치  무부하매연측정치1  일일평균주행거리  최근검사경과일  운행제한건수  우선순위  선별포인트  \n",
       "0  확인불가       7.00     13.84   113.00    0.00     3  33.00  \n",
       "1     유       5.00    193.25    59.00    0.00     3  64.00  \n",
       "2     무      14.00    151.01   345.00    0.00     3 125.00  \n",
       "3     무       7.00     79.89   228.00    0.00     3  77.00  \n",
       "4     무       0.00    416.88   324.00    0.00     3 184.00  "
      ]
     },
     "execution_count": 176,
     "metadata": {},
     "output_type": "execute_result"
    }
   ],
   "source": [
    "gm4di.head()"
   ]
  },
  {
   "cell_type": "code",
   "execution_count": 177,
   "metadata": {},
   "outputs": [
    {
     "data": {
      "text/plain": [
       "(1156238, 14)"
      ]
     },
     "execution_count": 177,
     "metadata": {},
     "output_type": "execute_result"
    }
   ],
   "source": [
    "gm4d.shape"
   ]
  },
  {
   "cell_type": "code",
   "execution_count": 178,
   "metadata": {},
   "outputs": [
    {
     "data": {
      "text/plain": [
       "Index(['차대번호', '차량번호', '법정동코드', '시도', '시군구', '연식', '용도', '차종', '차종유형', '저감장치',\n",
       "       '무부하매연측정치1', '일일평균주행거리', '최근검사경과일', '운행제한건수', '우선순위'],\n",
       "      dtype='object')"
      ]
     },
     "execution_count": 178,
     "metadata": {},
     "output_type": "execute_result"
    }
   ],
   "source": [
    "gm4da.columns"
   ]
  },
  {
   "cell_type": "code",
   "execution_count": 179,
   "metadata": {},
   "outputs": [
    {
     "data": {
      "text/plain": [
       "Index(['차대번호', '차량번호', '법정동코드', '시도', '시군구', '연식', '용도', '차종', '차종유형', '저감장치',\n",
       "       '무부하매연측정치1', '일일평균주행거리', '최근검사경과일', '운행제한건수', '우선순위'],\n",
       "      dtype='object')"
      ]
     },
     "execution_count": 179,
     "metadata": {},
     "output_type": "execute_result"
    }
   ],
   "source": [
    "gm4db.columns"
   ]
  },
  {
   "cell_type": "code",
   "execution_count": 180,
   "metadata": {},
   "outputs": [
    {
     "data": {
      "text/plain": [
       "Index(['차대번호', '차량번호', '법정동코드', '시도', '시군구', '연식', '용도', '차종', '차종유형', '저감장치',\n",
       "       '무부하매연측정치1', '일일평균주행거리', '최근검사경과일', '운행제한건수', '우선순위', '선별포인트'],\n",
       "      dtype='object')"
      ]
     },
     "execution_count": 180,
     "metadata": {},
     "output_type": "execute_result"
    }
   ],
   "source": [
    "gm4di.columns"
   ]
  },
  {
   "cell_type": "code",
   "execution_count": 181,
   "metadata": {},
   "outputs": [],
   "source": [
    "gm4da['선별포인트'] = np.nan\n",
    "gm4db['선별포인트'] = np.nan"
   ]
  },
  {
   "cell_type": "code",
   "execution_count": 182,
   "metadata": {},
   "outputs": [
    {
     "data": {
      "text/plain": [
       "(1156238, 16)"
      ]
     },
     "execution_count": 182,
     "metadata": {},
     "output_type": "execute_result"
    }
   ],
   "source": [
    "total4d = pd.concat([gm4da, gm4db, gm4di], ignore_index=True)\n",
    "total4d.shape"
   ]
  },
  {
   "cell_type": "code",
   "execution_count": 183,
   "metadata": {},
   "outputs": [
    {
     "data": {
      "text/html": [
       "<div>\n",
       "<style scoped>\n",
       "    .dataframe tbody tr th:only-of-type {\n",
       "        vertical-align: middle;\n",
       "    }\n",
       "\n",
       "    .dataframe tbody tr th {\n",
       "        vertical-align: top;\n",
       "    }\n",
       "\n",
       "    .dataframe thead th {\n",
       "        text-align: right;\n",
       "    }\n",
       "</style>\n",
       "<table border=\"1\" class=\"dataframe\">\n",
       "  <thead>\n",
       "    <tr style=\"text-align: right;\">\n",
       "      <th></th>\n",
       "      <th>차대번호</th>\n",
       "      <th>차량번호</th>\n",
       "      <th>법정동코드</th>\n",
       "      <th>시도</th>\n",
       "      <th>시군구</th>\n",
       "      <th>연식</th>\n",
       "      <th>용도</th>\n",
       "      <th>차종</th>\n",
       "      <th>차종유형</th>\n",
       "      <th>저감장치</th>\n",
       "      <th>무부하매연측정치1</th>\n",
       "      <th>일일평균주행거리</th>\n",
       "      <th>최근검사경과일</th>\n",
       "      <th>운행제한건수</th>\n",
       "      <th>우선순위</th>\n",
       "      <th>선별포인트</th>\n",
       "    </tr>\n",
       "  </thead>\n",
       "  <tbody>\n",
       "    <tr>\n",
       "      <th>1156233</th>\n",
       "      <td>KPBSA3AB18P092016</td>\n",
       "      <td>32저4778</td>\n",
       "      <td>4580042027</td>\n",
       "      <td>전라북도</td>\n",
       "      <td>부안군</td>\n",
       "      <td>2008</td>\n",
       "      <td>개인용</td>\n",
       "      <td>승용</td>\n",
       "      <td>중형</td>\n",
       "      <td>무</td>\n",
       "      <td>0.00</td>\n",
       "      <td>40.40</td>\n",
       "      <td>557.00</td>\n",
       "      <td>0.00</td>\n",
       "      <td>3</td>\n",
       "      <td>145.00</td>\n",
       "    </tr>\n",
       "    <tr>\n",
       "      <th>1156234</th>\n",
       "      <td>KMHJN81VP8U750086</td>\n",
       "      <td>39고5154</td>\n",
       "      <td>5011010800</td>\n",
       "      <td>제주특별자치도</td>\n",
       "      <td>제주시</td>\n",
       "      <td>2008</td>\n",
       "      <td>개인용</td>\n",
       "      <td>승용</td>\n",
       "      <td>중형</td>\n",
       "      <td>NaN</td>\n",
       "      <td>0.00</td>\n",
       "      <td>46.40</td>\n",
       "      <td>365.00</td>\n",
       "      <td>0.00</td>\n",
       "      <td>3</td>\n",
       "      <td>100.00</td>\n",
       "    </tr>\n",
       "    <tr>\n",
       "      <th>1156235</th>\n",
       "      <td>KMHNU81WP7U000675</td>\n",
       "      <td>52부8723</td>\n",
       "      <td>4571025324</td>\n",
       "      <td>전라북도</td>\n",
       "      <td>완주군</td>\n",
       "      <td>2007</td>\n",
       "      <td>개인용</td>\n",
       "      <td>승용</td>\n",
       "      <td>대형</td>\n",
       "      <td>무</td>\n",
       "      <td>0.00</td>\n",
       "      <td>40.20</td>\n",
       "      <td>141.00</td>\n",
       "      <td>0.00</td>\n",
       "      <td>3</td>\n",
       "      <td>44.00</td>\n",
       "    </tr>\n",
       "    <tr>\n",
       "      <th>1156236</th>\n",
       "      <td>KMHJN81VP6U436152</td>\n",
       "      <td>06버6715</td>\n",
       "      <td>4684025622</td>\n",
       "      <td>전라남도</td>\n",
       "      <td>무안군</td>\n",
       "      <td>2006</td>\n",
       "      <td>개인용</td>\n",
       "      <td>승용</td>\n",
       "      <td>중형</td>\n",
       "      <td>NaN</td>\n",
       "      <td>0.00</td>\n",
       "      <td>39.40</td>\n",
       "      <td>466.00</td>\n",
       "      <td>0.00</td>\n",
       "      <td>3</td>\n",
       "      <td>123.00</td>\n",
       "    </tr>\n",
       "    <tr>\n",
       "      <th>1156237</th>\n",
       "      <td>KMHJM81VP6U374353</td>\n",
       "      <td>04로6836</td>\n",
       "      <td>4873032023</td>\n",
       "      <td>경상남도</td>\n",
       "      <td>함안군</td>\n",
       "      <td>2006</td>\n",
       "      <td>개인용</td>\n",
       "      <td>승용</td>\n",
       "      <td>중형</td>\n",
       "      <td>유</td>\n",
       "      <td>0.00</td>\n",
       "      <td>45.60</td>\n",
       "      <td>538.00</td>\n",
       "      <td>0.00</td>\n",
       "      <td>3</td>\n",
       "      <td>142.00</td>\n",
       "    </tr>\n",
       "  </tbody>\n",
       "</table>\n",
       "</div>"
      ],
      "text/plain": [
       "                      차대번호     차량번호       법정동코드       시도  시군구    연식   용도  차종   \n",
       "1156233  KPBSA3AB18P092016  32저4778  4580042027     전라북도  부안군  2008  개인용  승용  \\\n",
       "1156234  KMHJN81VP8U750086  39고5154  5011010800  제주특별자치도  제주시  2008  개인용  승용   \n",
       "1156235  KMHNU81WP7U000675  52부8723  4571025324     전라북도  완주군  2007  개인용  승용   \n",
       "1156236  KMHJN81VP6U436152  06버6715  4684025622     전라남도  무안군  2006  개인용  승용   \n",
       "1156237  KMHJM81VP6U374353  04로6836  4873032023     경상남도  함안군  2006  개인용  승용   \n",
       "\n",
       "        차종유형 저감장치  무부하매연측정치1  일일평균주행거리  최근검사경과일  운행제한건수  우선순위  선별포인트  \n",
       "1156233   중형    무       0.00     40.40   557.00    0.00     3 145.00  \n",
       "1156234   중형  NaN       0.00     46.40   365.00    0.00     3 100.00  \n",
       "1156235   대형    무       0.00     40.20   141.00    0.00     3  44.00  \n",
       "1156236   중형  NaN       0.00     39.40   466.00    0.00     3 123.00  \n",
       "1156237   중형    유       0.00     45.60   538.00    0.00     3 142.00  "
      ]
     },
     "execution_count": 183,
     "metadata": {},
     "output_type": "execute_result"
    }
   ],
   "source": [
    "total4d.tail()"
   ]
  },
  {
   "cell_type": "code",
   "execution_count": 184,
   "metadata": {},
   "outputs": [
    {
     "data": {
      "text/plain": [
       "0"
      ]
     },
     "execution_count": 184,
     "metadata": {},
     "output_type": "execute_result"
    }
   ],
   "source": [
    "total4d['우선순위'].isnull().sum()"
   ]
  },
  {
   "cell_type": "code",
   "execution_count": 185,
   "metadata": {},
   "outputs": [],
   "source": [
    "total4d['테이블생성일자'] = today_date"
   ]
  },
  {
   "cell_type": "code",
   "execution_count": 186,
   "metadata": {},
   "outputs": [],
   "source": [
    "STD_BD_GRD4_LEM_PRIO_ORD_SELCT_CURSTT = total4d[[\n",
    "    '테이블생성일자', \n",
    "    '차대번호', \n",
    "    '차량번호', \n",
    "    '법정동코드', \n",
    "    '시도', \n",
    "    '시군구', \n",
    "    '연식', \n",
    "    '용도', \n",
    "    '차종', \n",
    "    '차종유형', \n",
    "    '우선순위',\n",
    "    '선별포인트',\n",
    "    '무부하매연측정치1', \n",
    "    '일일평균주행거리',\n",
    "    '최근검사경과일', \n",
    "    '운행제한건수', \n",
    "    ]]"
   ]
  },
  {
   "cell_type": "code",
   "execution_count": 187,
   "metadata": {},
   "outputs": [],
   "source": [
    "chc_col = {\n",
    "    '테이블생성일자':'LOAD_DT', \n",
    "    '차대번호':'VIN', \n",
    "    '차량번호':'VHRNO', # 자동차등록번호\n",
    "    '법정동코드':'STDG_CD', \n",
    "    '시도':'CTPV_NM', \n",
    "    '시군구':'SGG_NM', \n",
    "    '연식':'YRIDNW', \n",
    "    '용도':'PURPS_CD2', \n",
    "    '차종':'VHCTY_CD', # 차종코드\n",
    "    '차종유형':'VHCTY_TY', \n",
    "    '우선순위':'PRIO_GRD', \n",
    "    '선별포인트':'SELCT_PNT',\n",
    "    '무부하매연측정치1':'NOLOD_SMO_MEVLU1', \n",
    "    '일일평균주행거리':'DY_AVRG_DRVNG_DSTNC',\n",
    "    '최근검사경과일':'RCNT_INSP_ELPSD_WHL', \n",
    "    '운행제한건수':'RUN_LMT_NOCS', \n",
    "    '지원비용_백만원':'SPRT_CST',\n",
    "    '배기량_리터':'DSPLVL',\n",
    "    '총중량_톤':'TOTL_WGHT',\n",
    "}"
   ]
  },
  {
   "cell_type": "code",
   "execution_count": 188,
   "metadata": {},
   "outputs": [
    {
     "data": {
      "text/plain": [
       "Index(['LOAD_DT', 'VIN', 'VHRNO', 'STDG_CD', 'CTPV_NM', 'SGG_NM', 'YRIDNW',\n",
       "       'PURPS_CD2', 'VHCTY_CD', 'VHCTY_TY', 'PRIO_GRD', 'SELCT_PNT',\n",
       "       'NOLOD_SMO_MEVLU1', 'DY_AVRG_DRVNG_DSTNC', 'RCNT_INSP_ELPSD_WHL',\n",
       "       'RUN_LMT_NOCS'],\n",
       "      dtype='object')"
      ]
     },
     "execution_count": 188,
     "metadata": {},
     "output_type": "execute_result"
    }
   ],
   "source": [
    "STD_BD_GRD4_LEM_PRIO_ORD_SELCT_CURSTT = STD_BD_GRD4_LEM_PRIO_ORD_SELCT_CURSTT.rename(columns=chc_col)\n",
    "STD_BD_GRD4_LEM_PRIO_ORD_SELCT_CURSTT.columns"
   ]
  },
  {
   "cell_type": "code",
   "execution_count": 189,
   "metadata": {},
   "outputs": [
    {
     "data": {
      "text/plain": [
       "(1156238, 16)"
      ]
     },
     "execution_count": 189,
     "metadata": {},
     "output_type": "execute_result"
    }
   ],
   "source": [
    "STD_BD_GRD4_LEM_PRIO_ORD_SELCT_CURSTT.shape"
   ]
  },
  {
   "cell_type": "markdown",
   "metadata": {},
   "source": [
    "##### [출력] STD_BD_GRD4_LEM_PRIO_ORD_SELCT_CURSTT"
   ]
  },
  {
   "cell_type": "code",
   "execution_count": 234,
   "metadata": {},
   "outputs": [
    {
     "name": "stderr",
     "output_type": "stream",
     "text": [
      "----------------------------------------\n",
      "Exception occurred during processing of request from ('106.245.232.34', 8563)\n",
      "Traceback (most recent call last):\n",
      "  File \"c:\\ProgramData\\Anaconda3\\lib\\socketserver.py\", line 316, in _handle_request_noblock\n",
      "    self.process_request(request, client_address)\n",
      "  File \"c:\\ProgramData\\Anaconda3\\lib\\socketserver.py\", line 347, in process_request\n",
      "    self.finish_request(request, client_address)\n",
      "  File \"c:\\ProgramData\\Anaconda3\\lib\\socketserver.py\", line 360, in finish_request\n",
      "    self.RequestHandlerClass(request, client_address, self)\n",
      "  File \"c:\\ProgramData\\Anaconda3\\lib\\socketserver.py\", line 747, in __init__\n",
      "    self.handle()\n",
      "  File \"C:\\Users\\kbjung\\AppData\\Roaming\\Python\\Python39\\site-packages\\pyexasol\\http_transport.py\", line 478, in handle\n",
      "    self.method_get_compressed()\n",
      "  File \"C:\\Users\\kbjung\\AppData\\Roaming\\Python\\Python39\\site-packages\\pyexasol\\http_transport.py\", line 567, in method_get_compressed\n",
      "    raise e\n",
      "  File \"C:\\Users\\kbjung\\AppData\\Roaming\\Python\\Python39\\site-packages\\pyexasol\\http_transport.py\", line 564, in method_get_compressed\n",
      "    self.write_chunk(c.compress(data))\n",
      "  File \"C:\\Users\\kbjung\\AppData\\Roaming\\Python\\Python39\\site-packages\\pyexasol\\http_transport.py\", line 599, in write_chunk\n",
      "    self.wfile.write(b'%X\\r\\n%b\\r\\n' % (chunk_len, data))\n",
      "  File \"c:\\ProgramData\\Anaconda3\\lib\\socketserver.py\", line 826, in write\n",
      "    self._sock.sendall(b)\n",
      "  File \"c:\\ProgramData\\Anaconda3\\lib\\ssl.py\", line 1205, in sendall\n",
      "    v = self.send(byte_view[count:])\n",
      "  File \"c:\\ProgramData\\Anaconda3\\lib\\ssl.py\", line 1174, in send\n",
      "    return self._sslobj.write(data)\n",
      "ConnectionAbortedError: [WinError 10053] 현재 연결은 사용자의 호스트 시스템의 소프트웨어의 의해 중단되었습니다\n",
      "----------------------------------------\n"
     ]
    },
    {
     "ename": "ExaQueryError",
     "evalue": "\n(\n    message     =>  ETL-3051: [Column=13 Row=39] [Transformation of value='inf' failed - invalid character value for cast; Value: 'inf'] (Session: 1772017034326245376)\n    dsn         =>  dev.openankus.org:8563\n    user        =>  sys\n    schema      =>  vsyse\n    session_id  =>  1772017034326245376\n    code        =>  42636\n    query       =>  IMPORT INTO STD_BD_GRD4_LEM_PRIO_ORD_SELCT_CURSTT FROM CSV\nAT 'https://10.17.1.10:39145' FILE '000.gz'\n)\n",
     "output_type": "error",
     "traceback": [
      "\u001b[1;31m---------------------------------------------------------------------------\u001b[0m",
      "\u001b[1;31mBrokenPipeError\u001b[0m                           Traceback (most recent call last)",
      "\u001b[1;32m~\\AppData\\Roaming\\Python\\Python39\\site-packages\\pyexasol\\connection.py\u001b[0m in \u001b[0;36mimport_from_callback\u001b[1;34m(self, callback, src, table, callback_params, import_params)\u001b[0m\n\u001b[0;32m    360\u001b[0m             \u001b[1;32mwith\u001b[0m \u001b[0mhttp_thread\u001b[0m\u001b[1;33m.\u001b[0m\u001b[0mwrite_pipe\u001b[0m \u001b[1;32mas\u001b[0m \u001b[0mpipe\u001b[0m\u001b[1;33m:\u001b[0m\u001b[1;33m\u001b[0m\u001b[1;33m\u001b[0m\u001b[0m\n\u001b[1;32m--> 361\u001b[1;33m                 \u001b[0mresult\u001b[0m \u001b[1;33m=\u001b[0m \u001b[0mcallback\u001b[0m\u001b[1;33m(\u001b[0m\u001b[0mpipe\u001b[0m\u001b[1;33m,\u001b[0m \u001b[0msrc\u001b[0m\u001b[1;33m,\u001b[0m \u001b[1;33m**\u001b[0m\u001b[0mcallback_params\u001b[0m\u001b[1;33m)\u001b[0m\u001b[1;33m\u001b[0m\u001b[1;33m\u001b[0m\u001b[0m\n\u001b[0m\u001b[0;32m    362\u001b[0m \u001b[1;33m\u001b[0m\u001b[0m\n",
      "\u001b[1;32m~\\AppData\\Roaming\\Python\\Python39\\site-packages\\pyexasol\\callback.py\u001b[0m in \u001b[0;36mimport_from_pandas\u001b[1;34m(pipe, src, **kwargs)\u001b[0m\n\u001b[0;32m     83\u001b[0m     \u001b[1;32mif\u001b[0m \u001b[0mpackaging\u001b[0m\u001b[1;33m.\u001b[0m\u001b[0mversion\u001b[0m\u001b[1;33m.\u001b[0m\u001b[0mparse\u001b[0m\u001b[1;33m(\u001b[0m\u001b[0mpandas\u001b[0m\u001b[1;33m.\u001b[0m\u001b[0m__version__\u001b[0m\u001b[1;33m)\u001b[0m \u001b[1;33m>=\u001b[0m \u001b[0mpackaging\u001b[0m\u001b[1;33m.\u001b[0m\u001b[0mversion\u001b[0m\u001b[1;33m.\u001b[0m\u001b[0mparse\u001b[0m\u001b[1;33m(\u001b[0m\u001b[1;34m\"1.5.0\"\u001b[0m\u001b[1;33m)\u001b[0m\u001b[1;33m:\u001b[0m\u001b[1;33m\u001b[0m\u001b[1;33m\u001b[0m\u001b[0m\n\u001b[1;32m---> 84\u001b[1;33m         \u001b[1;32mreturn\u001b[0m \u001b[0msrc\u001b[0m\u001b[1;33m.\u001b[0m\u001b[0mto_csv\u001b[0m\u001b[1;33m(\u001b[0m\u001b[0mwrapped_pipe\u001b[0m\u001b[1;33m,\u001b[0m \u001b[0mheader\u001b[0m\u001b[1;33m=\u001b[0m\u001b[1;32mFalse\u001b[0m\u001b[1;33m,\u001b[0m \u001b[0mindex\u001b[0m\u001b[1;33m=\u001b[0m\u001b[1;32mFalse\u001b[0m\u001b[1;33m,\u001b[0m \u001b[0mlineterminator\u001b[0m\u001b[1;33m=\u001b[0m\u001b[1;34m'\\n'\u001b[0m\u001b[1;33m,\u001b[0m \u001b[0mquoting\u001b[0m\u001b[1;33m=\u001b[0m\u001b[0mcsv\u001b[0m\u001b[1;33m.\u001b[0m\u001b[0mQUOTE_NONNUMERIC\u001b[0m\u001b[1;33m,\u001b[0m \u001b[1;33m**\u001b[0m\u001b[0mkwargs\u001b[0m\u001b[1;33m)\u001b[0m\u001b[1;33m\u001b[0m\u001b[1;33m\u001b[0m\u001b[0m\n\u001b[0m\u001b[0;32m     85\u001b[0m     \u001b[1;32melse\u001b[0m\u001b[1;33m:\u001b[0m\u001b[1;33m\u001b[0m\u001b[1;33m\u001b[0m\u001b[0m\n",
      "\u001b[1;32m~\\AppData\\Roaming\\Python\\Python39\\site-packages\\pandas\\core\\generic.py\u001b[0m in \u001b[0;36mto_csv\u001b[1;34m(self, path_or_buf, sep, na_rep, float_format, columns, header, index, index_label, mode, encoding, compression, quoting, quotechar, lineterminator, chunksize, date_format, doublequote, escapechar, decimal, errors, storage_options)\u001b[0m\n\u001b[0;32m   3771\u001b[0m \u001b[1;33m\u001b[0m\u001b[0m\n\u001b[1;32m-> 3772\u001b[1;33m         return DataFrameRenderer(formatter).to_csv(\n\u001b[0m\u001b[0;32m   3773\u001b[0m             \u001b[0mpath_or_buf\u001b[0m\u001b[1;33m,\u001b[0m\u001b[1;33m\u001b[0m\u001b[1;33m\u001b[0m\u001b[0m\n",
      "\u001b[1;32m~\\AppData\\Roaming\\Python\\Python39\\site-packages\\pandas\\io\\formats\\format.py\u001b[0m in \u001b[0;36mto_csv\u001b[1;34m(self, path_or_buf, encoding, sep, columns, index_label, mode, compression, quoting, quotechar, lineterminator, chunksize, date_format, doublequote, escapechar, errors, storage_options)\u001b[0m\n\u001b[0;32m   1185\u001b[0m         )\n\u001b[1;32m-> 1186\u001b[1;33m         \u001b[0mcsv_formatter\u001b[0m\u001b[1;33m.\u001b[0m\u001b[0msave\u001b[0m\u001b[1;33m(\u001b[0m\u001b[1;33m)\u001b[0m\u001b[1;33m\u001b[0m\u001b[1;33m\u001b[0m\u001b[0m\n\u001b[0m\u001b[0;32m   1187\u001b[0m \u001b[1;33m\u001b[0m\u001b[0m\n",
      "\u001b[1;32m~\\AppData\\Roaming\\Python\\Python39\\site-packages\\pandas\\io\\formats\\csvs.py\u001b[0m in \u001b[0;36msave\u001b[1;34m(self)\u001b[0m\n\u001b[0;32m    258\u001b[0m \u001b[1;33m\u001b[0m\u001b[0m\n\u001b[1;32m--> 259\u001b[1;33m             \u001b[0mself\u001b[0m\u001b[1;33m.\u001b[0m\u001b[0m_save\u001b[0m\u001b[1;33m(\u001b[0m\u001b[1;33m)\u001b[0m\u001b[1;33m\u001b[0m\u001b[1;33m\u001b[0m\u001b[0m\n\u001b[0m\u001b[0;32m    260\u001b[0m \u001b[1;33m\u001b[0m\u001b[0m\n",
      "\u001b[1;32m~\\AppData\\Roaming\\Python\\Python39\\site-packages\\pandas\\io\\formats\\csvs.py\u001b[0m in \u001b[0;36m_save\u001b[1;34m(self)\u001b[0m\n\u001b[0;32m    263\u001b[0m             \u001b[0mself\u001b[0m\u001b[1;33m.\u001b[0m\u001b[0m_save_header\u001b[0m\u001b[1;33m(\u001b[0m\u001b[1;33m)\u001b[0m\u001b[1;33m\u001b[0m\u001b[1;33m\u001b[0m\u001b[0m\n\u001b[1;32m--> 264\u001b[1;33m         \u001b[0mself\u001b[0m\u001b[1;33m.\u001b[0m\u001b[0m_save_body\u001b[0m\u001b[1;33m(\u001b[0m\u001b[1;33m)\u001b[0m\u001b[1;33m\u001b[0m\u001b[1;33m\u001b[0m\u001b[0m\n\u001b[0m\u001b[0;32m    265\u001b[0m \u001b[1;33m\u001b[0m\u001b[0m\n",
      "\u001b[1;32m~\\AppData\\Roaming\\Python\\Python39\\site-packages\\pandas\\io\\formats\\csvs.py\u001b[0m in \u001b[0;36m_save_body\u001b[1;34m(self)\u001b[0m\n\u001b[0;32m    301\u001b[0m                 \u001b[1;32mbreak\u001b[0m\u001b[1;33m\u001b[0m\u001b[1;33m\u001b[0m\u001b[0m\n\u001b[1;32m--> 302\u001b[1;33m             \u001b[0mself\u001b[0m\u001b[1;33m.\u001b[0m\u001b[0m_save_chunk\u001b[0m\u001b[1;33m(\u001b[0m\u001b[0mstart_i\u001b[0m\u001b[1;33m,\u001b[0m \u001b[0mend_i\u001b[0m\u001b[1;33m)\u001b[0m\u001b[1;33m\u001b[0m\u001b[1;33m\u001b[0m\u001b[0m\n\u001b[0m\u001b[0;32m    303\u001b[0m \u001b[1;33m\u001b[0m\u001b[0m\n",
      "\u001b[1;32m~\\AppData\\Roaming\\Python\\Python39\\site-packages\\pandas\\io\\formats\\csvs.py\u001b[0m in \u001b[0;36m_save_chunk\u001b[1;34m(self, start_i, end_i)\u001b[0m\n\u001b[0;32m    312\u001b[0m         \u001b[0mix\u001b[0m \u001b[1;33m=\u001b[0m \u001b[0mself\u001b[0m\u001b[1;33m.\u001b[0m\u001b[0mdata_index\u001b[0m\u001b[1;33m[\u001b[0m\u001b[0mslicer\u001b[0m\u001b[1;33m]\u001b[0m\u001b[1;33m.\u001b[0m\u001b[0m_format_native_types\u001b[0m\u001b[1;33m(\u001b[0m\u001b[1;33m**\u001b[0m\u001b[0mself\u001b[0m\u001b[1;33m.\u001b[0m\u001b[0m_number_format\u001b[0m\u001b[1;33m)\u001b[0m\u001b[1;33m\u001b[0m\u001b[1;33m\u001b[0m\u001b[0m\n\u001b[1;32m--> 313\u001b[1;33m         libwriters.write_csv_rows(\n\u001b[0m\u001b[0;32m    314\u001b[0m             \u001b[0mdata\u001b[0m\u001b[1;33m,\u001b[0m\u001b[1;33m\u001b[0m\u001b[1;33m\u001b[0m\u001b[0m\n",
      "\u001b[1;32m~\\AppData\\Roaming\\Python\\Python39\\site-packages\\pandas\\_libs\\writers.pyx\u001b[0m in \u001b[0;36mpandas._libs.writers.write_csv_rows\u001b[1;34m()\u001b[0m\n",
      "\u001b[1;31mBrokenPipeError\u001b[0m: [Errno 32] Broken pipe",
      "\nDuring handling of the above exception, another exception occurred:\n",
      "\u001b[1;31mExaQueryError\u001b[0m                             Traceback (most recent call last)",
      "\u001b[1;32m~\\AppData\\Local\\Temp\\ipykernel_18292\\776441711.py\u001b[0m in \u001b[0;36m<module>\u001b[1;34m\u001b[0m\n\u001b[0;32m     21\u001b[0m \u001b[1;31m# 데이터 추가\u001b[0m\u001b[1;33m\u001b[0m\u001b[1;33m\u001b[0m\u001b[0m\n\u001b[0;32m     22\u001b[0m \u001b[1;31m# 5s\u001b[0m\u001b[1;33m\u001b[0m\u001b[1;33m\u001b[0m\u001b[0m\n\u001b[1;32m---> 23\u001b[1;33m \u001b[0mwe\u001b[0m\u001b[1;33m.\u001b[0m\u001b[0mimport_from_pandas\u001b[0m\u001b[1;33m(\u001b[0m\u001b[0mexpdf\u001b[0m\u001b[1;33m,\u001b[0m \u001b[0mtable_nm\u001b[0m\u001b[1;33m)\u001b[0m\u001b[1;33m\u001b[0m\u001b[1;33m\u001b[0m\u001b[0m\n\u001b[0m",
      "\u001b[1;32m~\\AppData\\Roaming\\Python\\Python39\\site-packages\\pyexasol\\connection.py\u001b[0m in \u001b[0;36mimport_from_pandas\u001b[1;34m(self, src, table, callback_params, import_params)\u001b[0m\n\u001b[0;32m    286\u001b[0m \u001b[1;33m\u001b[0m\u001b[0m\n\u001b[0;32m    287\u001b[0m     \u001b[1;32mdef\u001b[0m \u001b[0mimport_from_pandas\u001b[0m\u001b[1;33m(\u001b[0m\u001b[0mself\u001b[0m\u001b[1;33m,\u001b[0m \u001b[0msrc\u001b[0m\u001b[1;33m,\u001b[0m \u001b[0mtable\u001b[0m\u001b[1;33m,\u001b[0m \u001b[0mcallback_params\u001b[0m\u001b[1;33m=\u001b[0m\u001b[1;32mNone\u001b[0m\u001b[1;33m,\u001b[0m \u001b[0mimport_params\u001b[0m\u001b[1;33m=\u001b[0m\u001b[1;32mNone\u001b[0m\u001b[1;33m)\u001b[0m\u001b[1;33m:\u001b[0m\u001b[1;33m\u001b[0m\u001b[1;33m\u001b[0m\u001b[0m\n\u001b[1;32m--> 288\u001b[1;33m         \u001b[1;32mreturn\u001b[0m \u001b[0mself\u001b[0m\u001b[1;33m.\u001b[0m\u001b[0mimport_from_callback\u001b[0m\u001b[1;33m(\u001b[0m\u001b[0mcb\u001b[0m\u001b[1;33m.\u001b[0m\u001b[0mimport_from_pandas\u001b[0m\u001b[1;33m,\u001b[0m \u001b[0msrc\u001b[0m\u001b[1;33m,\u001b[0m \u001b[0mtable\u001b[0m\u001b[1;33m,\u001b[0m \u001b[0mcallback_params\u001b[0m\u001b[1;33m,\u001b[0m \u001b[0mimport_params\u001b[0m\u001b[1;33m)\u001b[0m\u001b[1;33m\u001b[0m\u001b[1;33m\u001b[0m\u001b[0m\n\u001b[0m\u001b[0;32m    289\u001b[0m \u001b[1;33m\u001b[0m\u001b[0m\n\u001b[0;32m    290\u001b[0m     \u001b[1;32mdef\u001b[0m \u001b[0mexport_to_callback\u001b[0m\u001b[1;33m(\u001b[0m\u001b[0mself\u001b[0m\u001b[1;33m,\u001b[0m \u001b[0mcallback\u001b[0m\u001b[1;33m,\u001b[0m \u001b[0mdst\u001b[0m\u001b[1;33m,\u001b[0m \u001b[0mquery_or_table\u001b[0m\u001b[1;33m,\u001b[0m \u001b[0mquery_params\u001b[0m\u001b[1;33m=\u001b[0m\u001b[1;32mNone\u001b[0m\u001b[1;33m,\u001b[0m \u001b[0mcallback_params\u001b[0m\u001b[1;33m=\u001b[0m\u001b[1;32mNone\u001b[0m\u001b[1;33m,\u001b[0m \u001b[0mexport_params\u001b[0m\u001b[1;33m=\u001b[0m\u001b[1;32mNone\u001b[0m\u001b[1;33m)\u001b[0m\u001b[1;33m:\u001b[0m\u001b[1;33m\u001b[0m\u001b[1;33m\u001b[0m\u001b[0m\n",
      "\u001b[1;32m~\\AppData\\Roaming\\Python\\Python39\\site-packages\\pyexasol\\connection.py\u001b[0m in \u001b[0;36mimport_from_callback\u001b[1;34m(self, callback, src, table, callback_params, import_params)\u001b[0m\n\u001b[0;32m    379\u001b[0m             \u001b[1;31m# Give SQL exception higher priority\u001b[0m\u001b[1;33m\u001b[0m\u001b[1;33m\u001b[0m\u001b[0m\n\u001b[0;32m    380\u001b[0m             \u001b[1;32mif\u001b[0m \u001b[0msql_thread\u001b[0m\u001b[1;33m.\u001b[0m\u001b[0mexc\u001b[0m\u001b[1;33m:\u001b[0m\u001b[1;33m\u001b[0m\u001b[1;33m\u001b[0m\u001b[0m\n\u001b[1;32m--> 381\u001b[1;33m                 \u001b[1;32mraise\u001b[0m \u001b[0msql_thread\u001b[0m\u001b[1;33m.\u001b[0m\u001b[0mexc\u001b[0m\u001b[1;33m\u001b[0m\u001b[1;33m\u001b[0m\u001b[0m\n\u001b[0m\u001b[0;32m    382\u001b[0m \u001b[1;33m\u001b[0m\u001b[0m\n\u001b[0;32m    383\u001b[0m             \u001b[1;32mraise\u001b[0m \u001b[0me\u001b[0m\u001b[1;33m\u001b[0m\u001b[1;33m\u001b[0m\u001b[0m\n",
      "\u001b[1;32m~\\AppData\\Roaming\\Python\\Python39\\site-packages\\pyexasol\\http_transport.py\u001b[0m in \u001b[0;36mrun\u001b[1;34m(self)\u001b[0m\n\u001b[0;32m     33\u001b[0m     \u001b[1;32mdef\u001b[0m \u001b[0mrun\u001b[0m\u001b[1;33m(\u001b[0m\u001b[0mself\u001b[0m\u001b[1;33m)\u001b[0m\u001b[1;33m:\u001b[0m\u001b[1;33m\u001b[0m\u001b[1;33m\u001b[0m\u001b[0m\n\u001b[0;32m     34\u001b[0m         \u001b[1;32mtry\u001b[0m\u001b[1;33m:\u001b[0m\u001b[1;33m\u001b[0m\u001b[1;33m\u001b[0m\u001b[0m\n\u001b[1;32m---> 35\u001b[1;33m             \u001b[0mself\u001b[0m\u001b[1;33m.\u001b[0m\u001b[0mrun_sql\u001b[0m\u001b[1;33m(\u001b[0m\u001b[1;33m)\u001b[0m\u001b[1;33m\u001b[0m\u001b[1;33m\u001b[0m\u001b[0m\n\u001b[0m\u001b[0;32m     36\u001b[0m         \u001b[1;32mexcept\u001b[0m \u001b[0mBaseException\u001b[0m \u001b[1;32mas\u001b[0m \u001b[0me\u001b[0m\u001b[1;33m:\u001b[0m\u001b[1;33m\u001b[0m\u001b[1;33m\u001b[0m\u001b[0m\n\u001b[0;32m     37\u001b[0m             \u001b[0mself\u001b[0m\u001b[1;33m.\u001b[0m\u001b[0mexc\u001b[0m \u001b[1;33m=\u001b[0m \u001b[0me\u001b[0m\u001b[1;33m\u001b[0m\u001b[1;33m\u001b[0m\u001b[0m\n",
      "\u001b[1;32m~\\AppData\\Roaming\\Python\\Python39\\site-packages\\pyexasol\\http_transport.py\u001b[0m in \u001b[0;36mrun_sql\u001b[1;34m(self)\u001b[0m\n\u001b[0;32m    205\u001b[0m             \u001b[0mparts\u001b[0m\u001b[1;33m.\u001b[0m\u001b[0mappend\u001b[0m\u001b[1;33m(\u001b[0m\u001b[1;34mf\"COLUMN DELIMITER = {self.connection.format.quote(self.params['column_delimiter'])}\"\u001b[0m\u001b[1;33m)\u001b[0m\u001b[1;33m\u001b[0m\u001b[1;33m\u001b[0m\u001b[0m\n\u001b[0;32m    206\u001b[0m \u001b[1;33m\u001b[0m\u001b[0m\n\u001b[1;32m--> 207\u001b[1;33m         \u001b[0mself\u001b[0m\u001b[1;33m.\u001b[0m\u001b[0mconnection\u001b[0m\u001b[1;33m.\u001b[0m\u001b[0mexecute\u001b[0m\u001b[1;33m(\u001b[0m\u001b[1;34m\"\\n\"\u001b[0m\u001b[1;33m.\u001b[0m\u001b[0mjoin\u001b[0m\u001b[1;33m(\u001b[0m\u001b[0mparts\u001b[0m\u001b[1;33m)\u001b[0m\u001b[1;33m)\u001b[0m\u001b[1;33m\u001b[0m\u001b[1;33m\u001b[0m\u001b[0m\n\u001b[0m\u001b[0;32m    208\u001b[0m \u001b[1;33m\u001b[0m\u001b[0m\n\u001b[0;32m    209\u001b[0m \u001b[1;33m\u001b[0m\u001b[0m\n",
      "\u001b[1;32m~\\AppData\\Roaming\\Python\\Python39\\site-packages\\pyexasol\\connection.py\u001b[0m in \u001b[0;36mexecute\u001b[1;34m(self, query, query_params)\u001b[0m\n\u001b[0;32m    192\u001b[0m         \u001b[0mReturn\u001b[0m \u001b[0mExaStatement\u001b[0m \u001b[0mobject\u001b[0m\u001b[1;33m\u001b[0m\u001b[1;33m\u001b[0m\u001b[0m\n\u001b[0;32m    193\u001b[0m         \"\"\"\n\u001b[1;32m--> 194\u001b[1;33m         \u001b[1;32mreturn\u001b[0m \u001b[0mself\u001b[0m\u001b[1;33m.\u001b[0m\u001b[0mcls_statement\u001b[0m\u001b[1;33m(\u001b[0m\u001b[0mself\u001b[0m\u001b[1;33m,\u001b[0m \u001b[0mquery\u001b[0m\u001b[1;33m,\u001b[0m \u001b[0mquery_params\u001b[0m\u001b[1;33m)\u001b[0m\u001b[1;33m\u001b[0m\u001b[1;33m\u001b[0m\u001b[0m\n\u001b[0m\u001b[0;32m    195\u001b[0m \u001b[1;33m\u001b[0m\u001b[0m\n\u001b[0;32m    196\u001b[0m     \u001b[1;32mdef\u001b[0m \u001b[0mexecute_udf_output\u001b[0m\u001b[1;33m(\u001b[0m\u001b[0mself\u001b[0m\u001b[1;33m,\u001b[0m \u001b[0mquery\u001b[0m\u001b[1;33m,\u001b[0m \u001b[0mquery_params\u001b[0m\u001b[1;33m=\u001b[0m\u001b[1;32mNone\u001b[0m\u001b[1;33m)\u001b[0m\u001b[1;33m:\u001b[0m\u001b[1;33m\u001b[0m\u001b[1;33m\u001b[0m\u001b[0m\n",
      "\u001b[1;32m~\\AppData\\Roaming\\Python\\Python39\\site-packages\\pyexasol\\statement.py\u001b[0m in \u001b[0;36m__init__\u001b[1;34m(self, connection, query, query_params, prepare, meta_nosql, **options)\u001b[0m\n\u001b[0;32m     53\u001b[0m             \u001b[0mself\u001b[0m\u001b[1;33m.\u001b[0m\u001b[0m_execute_meta_nosql\u001b[0m\u001b[1;33m(\u001b[0m\u001b[1;33m)\u001b[0m\u001b[1;33m\u001b[0m\u001b[1;33m\u001b[0m\u001b[0m\n\u001b[0;32m     54\u001b[0m         \u001b[1;32melse\u001b[0m\u001b[1;33m:\u001b[0m\u001b[1;33m\u001b[0m\u001b[1;33m\u001b[0m\u001b[0m\n\u001b[1;32m---> 55\u001b[1;33m             \u001b[0mself\u001b[0m\u001b[1;33m.\u001b[0m\u001b[0m_execute\u001b[0m\u001b[1;33m(\u001b[0m\u001b[1;33m)\u001b[0m\u001b[1;33m\u001b[0m\u001b[1;33m\u001b[0m\u001b[0m\n\u001b[0m\u001b[0;32m     56\u001b[0m \u001b[1;33m\u001b[0m\u001b[0m\n\u001b[0;32m     57\u001b[0m     \u001b[1;32mdef\u001b[0m \u001b[0m__iter__\u001b[0m\u001b[1;33m(\u001b[0m\u001b[0mself\u001b[0m\u001b[1;33m)\u001b[0m\u001b[1;33m:\u001b[0m\u001b[1;33m\u001b[0m\u001b[1;33m\u001b[0m\u001b[0m\n",
      "\u001b[1;32m~\\AppData\\Roaming\\Python\\Python39\\site-packages\\pyexasol\\statement.py\u001b[0m in \u001b[0;36m_execute\u001b[1;34m(self)\u001b[0m\n\u001b[0;32m    155\u001b[0m \u001b[1;33m\u001b[0m\u001b[0m\n\u001b[0;32m    156\u001b[0m     \u001b[1;32mdef\u001b[0m \u001b[0m_execute\u001b[0m\u001b[1;33m(\u001b[0m\u001b[0mself\u001b[0m\u001b[1;33m)\u001b[0m\u001b[1;33m:\u001b[0m\u001b[1;33m\u001b[0m\u001b[1;33m\u001b[0m\u001b[0m\n\u001b[1;32m--> 157\u001b[1;33m         ret = self.connection.req({\n\u001b[0m\u001b[0;32m    158\u001b[0m             \u001b[1;34m'command'\u001b[0m\u001b[1;33m:\u001b[0m \u001b[1;34m'execute'\u001b[0m\u001b[1;33m,\u001b[0m\u001b[1;33m\u001b[0m\u001b[1;33m\u001b[0m\u001b[0m\n\u001b[0;32m    159\u001b[0m             \u001b[1;34m'sqlText'\u001b[0m\u001b[1;33m:\u001b[0m \u001b[0mself\u001b[0m\u001b[1;33m.\u001b[0m\u001b[0mquery\u001b[0m\u001b[1;33m,\u001b[0m\u001b[1;33m\u001b[0m\u001b[1;33m\u001b[0m\u001b[0m\n",
      "\u001b[1;32m~\\AppData\\Roaming\\Python\\Python39\\site-packages\\pyexasol\\connection.py\u001b[0m in \u001b[0;36mreq\u001b[1;34m(self, req)\u001b[0m\n\u001b[0;32m    556\u001b[0m                     \u001b[0mcls_err\u001b[0m \u001b[1;33m=\u001b[0m \u001b[0mExaQueryError\u001b[0m\u001b[1;33m\u001b[0m\u001b[1;33m\u001b[0m\u001b[0m\n\u001b[0;32m    557\u001b[0m \u001b[1;33m\u001b[0m\u001b[0m\n\u001b[1;32m--> 558\u001b[1;33m                 \u001b[1;32mraise\u001b[0m \u001b[0mcls_err\u001b[0m\u001b[1;33m(\u001b[0m\u001b[0mself\u001b[0m\u001b[1;33m,\u001b[0m \u001b[0mreq\u001b[0m\u001b[1;33m[\u001b[0m\u001b[1;34m'sqlText'\u001b[0m\u001b[1;33m]\u001b[0m\u001b[1;33m,\u001b[0m \u001b[0mret\u001b[0m\u001b[1;33m[\u001b[0m\u001b[1;34m'exception'\u001b[0m\u001b[1;33m]\u001b[0m\u001b[1;33m[\u001b[0m\u001b[1;34m'sqlCode'\u001b[0m\u001b[1;33m]\u001b[0m\u001b[1;33m,\u001b[0m \u001b[0mret\u001b[0m\u001b[1;33m[\u001b[0m\u001b[1;34m'exception'\u001b[0m\u001b[1;33m]\u001b[0m\u001b[1;33m[\u001b[0m\u001b[1;34m'text'\u001b[0m\u001b[1;33m]\u001b[0m\u001b[1;33m)\u001b[0m\u001b[1;33m\u001b[0m\u001b[1;33m\u001b[0m\u001b[0m\n\u001b[0m\u001b[0;32m    559\u001b[0m             \u001b[1;32melif\u001b[0m \u001b[0mreq\u001b[0m\u001b[1;33m.\u001b[0m\u001b[0mget\u001b[0m\u001b[1;33m(\u001b[0m\u001b[1;34m'username'\u001b[0m\u001b[1;33m)\u001b[0m \u001b[1;32mis\u001b[0m \u001b[1;32mnot\u001b[0m \u001b[1;32mNone\u001b[0m\u001b[1;33m:\u001b[0m\u001b[1;33m\u001b[0m\u001b[1;33m\u001b[0m\u001b[0m\n\u001b[0;32m    560\u001b[0m                 \u001b[1;32mraise\u001b[0m \u001b[0mExaAuthError\u001b[0m\u001b[1;33m(\u001b[0m\u001b[0mself\u001b[0m\u001b[1;33m,\u001b[0m \u001b[0mret\u001b[0m\u001b[1;33m[\u001b[0m\u001b[1;34m'exception'\u001b[0m\u001b[1;33m]\u001b[0m\u001b[1;33m[\u001b[0m\u001b[1;34m'sqlCode'\u001b[0m\u001b[1;33m]\u001b[0m\u001b[1;33m,\u001b[0m \u001b[0mret\u001b[0m\u001b[1;33m[\u001b[0m\u001b[1;34m'exception'\u001b[0m\u001b[1;33m]\u001b[0m\u001b[1;33m[\u001b[0m\u001b[1;34m'text'\u001b[0m\u001b[1;33m]\u001b[0m\u001b[1;33m)\u001b[0m\u001b[1;33m\u001b[0m\u001b[1;33m\u001b[0m\u001b[0m\n",
      "\u001b[1;31mExaQueryError\u001b[0m: \n(\n    message     =>  ETL-3051: [Column=13 Row=39] [Transformation of value='inf' failed - invalid character value for cast; Value: 'inf'] (Session: 1772017034326245376)\n    dsn         =>  dev.openankus.org:8563\n    user        =>  sys\n    schema      =>  vsyse\n    session_id  =>  1772017034326245376\n    code        =>  42636\n    query       =>  IMPORT INTO STD_BD_GRD4_LEM_PRIO_ORD_SELCT_CURSTT FROM CSV\nAT 'https://10.17.1.10:39145' FILE '000.gz'\n)\n"
     ]
    }
   ],
   "source": [
    "expdf = STD_BD_GRD4_LEM_PRIO_ORD_SELCT_CURSTT\n",
    "table_nm = 'STD_BD_GRD4_LEM_PRIO_ORD_SELCT_CURSTT'.upper()\n",
    "\n",
    "# 테이블 생성\n",
    "sql = 'create or replace table ' + table_nm + '( \\n'\n",
    "\n",
    "for idx,column in enumerate(expdf.columns):\n",
    "    if 'float' in expdf[column].dtype.name:\n",
    "        sql += column + ' float'\n",
    "    elif 'int' in expdf[column].dtype.name:\n",
    "        sql += column + ' number'\n",
    "    else:\n",
    "        sql += column + ' varchar(255)'\n",
    "\n",
    "    if len(expdf.columns) - 1 != idx:\n",
    "        sql += ','\n",
    "    sql += '\\n'\n",
    "sql += ')'    \n",
    "we.execute(sql)\n",
    "\n",
    "# 데이터 추가\n",
    "# 5s\n",
    "we.import_from_pandas(expdf, table_nm)"
   ]
  },
  {
   "cell_type": "code",
   "execution_count": 193,
   "metadata": {},
   "outputs": [],
   "source": [
    "# 7.6s\n",
    "# BD3-3_4등급경유차_우선차량선별\n",
    "STD_BD_GRD4_LEM_PRIO_ORD_SELCT_CURSTT.to_csv(os.path.join(df3_fold, 'STD_BD_GRD4_LEM_PRIO_ORD_SELCT_CURSTT.csv'), index=False)"
   ]
  },
  {
   "cell_type": "markdown",
   "metadata": {},
   "source": [
    "### 5등급 경유 C급"
   ]
  },
  {
   "cell_type": "code",
   "execution_count": 194,
   "metadata": {},
   "outputs": [
    {
     "data": {
      "text/plain": [
       "Index(['차대번호', '차량번호', '법정동코드', '시도', '시군구', '연식', '용도', '차종', '차종유형', '저감장치',\n",
       "       '무부하매연측정치1', '일일평균주행거리', '최근검사경과일', '운행제한건수', '우선순위'],\n",
       "      dtype='object')"
      ]
     },
     "execution_count": 194,
     "metadata": {},
     "output_type": "execute_result"
    }
   ],
   "source": [
    "gm5di.columns"
   ]
  },
  {
   "cell_type": "code",
   "execution_count": 195,
   "metadata": {},
   "outputs": [
    {
     "data": {
      "text/plain": [
       "0"
      ]
     },
     "execution_count": 195,
     "metadata": {},
     "output_type": "execute_result"
    }
   ],
   "source": [
    "gm5di['일일평균주행거리'].isnull().sum()"
   ]
  },
  {
   "cell_type": "code",
   "execution_count": 196,
   "metadata": {},
   "outputs": [],
   "source": [
    "# 선별조건선정\n",
    "col = ['무부하매연측정치1', '일일평균주행거리', '최근검사경과일', '운행제한건수']"
   ]
  },
  {
   "cell_type": "code",
   "execution_count": 197,
   "metadata": {},
   "outputs": [
    {
     "data": {
      "text/plain": [
       "무부하매연측정치1    float64\n",
       "일일평균주행거리     float64\n",
       "최근검사경과일      float64\n",
       "운행제한건수       float64\n",
       "dtype: object"
      ]
     },
     "execution_count": 197,
     "metadata": {},
     "output_type": "execute_result"
    }
   ],
   "source": [
    "gm5di[col].dtypes"
   ]
  },
  {
   "cell_type": "code",
   "execution_count": 198,
   "metadata": {},
   "outputs": [
    {
     "data": {
      "text/plain": [
       "무부하매연측정치1    6453\n",
       "일일평균주행거리        0\n",
       "최근검사경과일         0\n",
       "운행제한건수          0\n",
       "dtype: int64"
      ]
     },
     "execution_count": 198,
     "metadata": {},
     "output_type": "execute_result"
    }
   ],
   "source": [
    "gm5di[col].isnull().sum()"
   ]
  },
  {
   "cell_type": "code",
   "execution_count": 199,
   "metadata": {},
   "outputs": [
    {
     "data": {
      "text/plain": [
       "무부하매연측정치1    0\n",
       "일일평균주행거리     0\n",
       "최근검사경과일      0\n",
       "운행제한건수       0\n",
       "dtype: int64"
      ]
     },
     "execution_count": 199,
     "metadata": {},
     "output_type": "execute_result"
    }
   ],
   "source": [
    "# nan 값 0으로 채우기\n",
    "gm5di[col] = gm5di[col].fillna(0)\n",
    "gm5di[col].isnull().sum()"
   ]
  },
  {
   "cell_type": "code",
   "execution_count": 200,
   "metadata": {},
   "outputs": [
    {
     "data": {
      "text/html": [
       "<div>\n",
       "<style scoped>\n",
       "    .dataframe tbody tr th:only-of-type {\n",
       "        vertical-align: middle;\n",
       "    }\n",
       "\n",
       "    .dataframe tbody tr th {\n",
       "        vertical-align: top;\n",
       "    }\n",
       "\n",
       "    .dataframe thead th {\n",
       "        text-align: right;\n",
       "    }\n",
       "</style>\n",
       "<table border=\"1\" class=\"dataframe\">\n",
       "  <thead>\n",
       "    <tr style=\"text-align: right;\">\n",
       "      <th></th>\n",
       "      <th>무부하매연측정치1</th>\n",
       "      <th>일일평균주행거리</th>\n",
       "      <th>최근검사경과일</th>\n",
       "      <th>운행제한건수</th>\n",
       "    </tr>\n",
       "  </thead>\n",
       "  <tbody>\n",
       "    <tr>\n",
       "      <th>무부하매연측정치1</th>\n",
       "      <td>1.00</td>\n",
       "      <td>-0.02</td>\n",
       "      <td>0.02</td>\n",
       "      <td>-0.03</td>\n",
       "    </tr>\n",
       "    <tr>\n",
       "      <th>일일평균주행거리</th>\n",
       "      <td>-0.02</td>\n",
       "      <td>1.00</td>\n",
       "      <td>0.01</td>\n",
       "      <td>0.01</td>\n",
       "    </tr>\n",
       "    <tr>\n",
       "      <th>최근검사경과일</th>\n",
       "      <td>0.02</td>\n",
       "      <td>0.01</td>\n",
       "      <td>1.00</td>\n",
       "      <td>0.02</td>\n",
       "    </tr>\n",
       "    <tr>\n",
       "      <th>운행제한건수</th>\n",
       "      <td>-0.03</td>\n",
       "      <td>0.01</td>\n",
       "      <td>0.02</td>\n",
       "      <td>1.00</td>\n",
       "    </tr>\n",
       "  </tbody>\n",
       "</table>\n",
       "</div>"
      ],
      "text/plain": [
       "           무부하매연측정치1  일일평균주행거리  최근검사경과일  운행제한건수\n",
       "무부하매연측정치1       1.00     -0.02     0.02   -0.03\n",
       "일일평균주행거리       -0.02      1.00     0.01    0.01\n",
       "최근검사경과일         0.02      0.01     1.00    0.02\n",
       "운행제한건수         -0.03      0.01     0.02    1.00"
      ]
     },
     "execution_count": 200,
     "metadata": {},
     "output_type": "execute_result"
    }
   ],
   "source": [
    "gm5di_corr = gm5di[col].corr()\n",
    "gm5di_corr"
   ]
  },
  {
   "cell_type": "markdown",
   "metadata": {},
   "source": [
    "#### 5등급 경유차 선별조건 상관계수"
   ]
  },
  {
   "cell_type": "code",
   "execution_count": 201,
   "metadata": {},
   "outputs": [
    {
     "data": {
      "text/html": [
       "<div>\n",
       "<style scoped>\n",
       "    .dataframe tbody tr th:only-of-type {\n",
       "        vertical-align: middle;\n",
       "    }\n",
       "\n",
       "    .dataframe tbody tr th {\n",
       "        vertical-align: top;\n",
       "    }\n",
       "\n",
       "    .dataframe thead th {\n",
       "        text-align: right;\n",
       "    }\n",
       "</style>\n",
       "<table border=\"1\" class=\"dataframe\">\n",
       "  <thead>\n",
       "    <tr style=\"text-align: right;\">\n",
       "      <th></th>\n",
       "      <th>index</th>\n",
       "      <th>무부하매연측정치1</th>\n",
       "      <th>일일평균주행거리</th>\n",
       "      <th>최근검사경과일</th>\n",
       "      <th>운행제한건수</th>\n",
       "      <th>합계</th>\n",
       "    </tr>\n",
       "  </thead>\n",
       "  <tbody>\n",
       "    <tr>\n",
       "      <th>0</th>\n",
       "      <td>무부하매연측정치1</td>\n",
       "      <td>1.00</td>\n",
       "      <td>-0.02</td>\n",
       "      <td>0.02</td>\n",
       "      <td>-0.03</td>\n",
       "      <td>0.98</td>\n",
       "    </tr>\n",
       "    <tr>\n",
       "      <th>1</th>\n",
       "      <td>일일평균주행거리</td>\n",
       "      <td>-0.02</td>\n",
       "      <td>1.00</td>\n",
       "      <td>0.01</td>\n",
       "      <td>0.01</td>\n",
       "      <td>1.00</td>\n",
       "    </tr>\n",
       "    <tr>\n",
       "      <th>2</th>\n",
       "      <td>최근검사경과일</td>\n",
       "      <td>0.02</td>\n",
       "      <td>0.01</td>\n",
       "      <td>1.00</td>\n",
       "      <td>0.02</td>\n",
       "      <td>1.04</td>\n",
       "    </tr>\n",
       "    <tr>\n",
       "      <th>3</th>\n",
       "      <td>운행제한건수</td>\n",
       "      <td>-0.03</td>\n",
       "      <td>0.01</td>\n",
       "      <td>0.02</td>\n",
       "      <td>1.00</td>\n",
       "      <td>1.01</td>\n",
       "    </tr>\n",
       "  </tbody>\n",
       "</table>\n",
       "</div>"
      ],
      "text/plain": [
       "       index  무부하매연측정치1  일일평균주행거리  최근검사경과일  운행제한건수   합계\n",
       "0  무부하매연측정치1       1.00     -0.02     0.02   -0.03 0.98\n",
       "1   일일평균주행거리      -0.02      1.00     0.01    0.01 1.00\n",
       "2    최근검사경과일       0.02      0.01     1.00    0.02 1.04\n",
       "3     운행제한건수      -0.03      0.01     0.02    1.00 1.01"
      ]
     },
     "execution_count": 201,
     "metadata": {},
     "output_type": "execute_result"
    }
   ],
   "source": [
    "t5 = pd.concat([gm5di_corr, gm5di_corr.sum()], axis=1)\n",
    "t5 = t5.rename(columns={0:'합계'})\n",
    "t5 = t5.reset_index()\n",
    "t5"
   ]
  },
  {
   "cell_type": "code",
   "execution_count": 202,
   "metadata": {},
   "outputs": [
    {
     "data": {
      "text/plain": [
       "Index(['index', '무부하매연측정치1', '일일평균주행거리', '최근검사경과일', '운행제한건수', '합계'], dtype='object')"
      ]
     },
     "execution_count": 202,
     "metadata": {},
     "output_type": "execute_result"
    }
   ],
   "source": [
    "t5.columns"
   ]
  },
  {
   "cell_type": "code",
   "execution_count": 203,
   "metadata": {},
   "outputs": [],
   "source": [
    "t5['테이블생성일자'] = today_date"
   ]
  },
  {
   "cell_type": "code",
   "execution_count": 204,
   "metadata": {},
   "outputs": [],
   "source": [
    "chc_col = {\n",
    "    '테이블생성일자':'LOAD_DT', \n",
    "    'index':'LIST', \n",
    "    '무부하매연측정치1':'NOLOD_SMO_MEVLU1', \n",
    "    '일일평균주행거리':'DY_AVRG_DRVNG_DSTNC', \n",
    "    '최근검사경과일':'RCNT_INSP_ELPSD_WHL', \n",
    "    '운행제한건수':'RUN_LMT_NOCS', \n",
    "    '합계':'TOT_CRRLTN_CFFCNT',\n",
    "}"
   ]
  },
  {
   "cell_type": "code",
   "execution_count": 205,
   "metadata": {},
   "outputs": [
    {
     "data": {
      "text/html": [
       "<div>\n",
       "<style scoped>\n",
       "    .dataframe tbody tr th:only-of-type {\n",
       "        vertical-align: middle;\n",
       "    }\n",
       "\n",
       "    .dataframe tbody tr th {\n",
       "        vertical-align: top;\n",
       "    }\n",
       "\n",
       "    .dataframe thead th {\n",
       "        text-align: right;\n",
       "    }\n",
       "</style>\n",
       "<table border=\"1\" class=\"dataframe\">\n",
       "  <thead>\n",
       "    <tr style=\"text-align: right;\">\n",
       "      <th></th>\n",
       "      <th>LIST</th>\n",
       "      <th>NOLOD_SMO_MEVLU1</th>\n",
       "      <th>DY_AVRG_DRVNG_DSTNC</th>\n",
       "      <th>RCNT_INSP_ELPSD_WHL</th>\n",
       "      <th>RUN_LMT_NOCS</th>\n",
       "      <th>TOT_CRRLTN_CFFCNT</th>\n",
       "      <th>LOAD_DT</th>\n",
       "    </tr>\n",
       "  </thead>\n",
       "  <tbody>\n",
       "    <tr>\n",
       "      <th>0</th>\n",
       "      <td>무부하매연측정치1</td>\n",
       "      <td>1.00</td>\n",
       "      <td>-0.02</td>\n",
       "      <td>0.02</td>\n",
       "      <td>-0.03</td>\n",
       "      <td>0.98</td>\n",
       "      <td>20232107</td>\n",
       "    </tr>\n",
       "    <tr>\n",
       "      <th>1</th>\n",
       "      <td>일일평균주행거리</td>\n",
       "      <td>-0.02</td>\n",
       "      <td>1.00</td>\n",
       "      <td>0.01</td>\n",
       "      <td>0.01</td>\n",
       "      <td>1.00</td>\n",
       "      <td>20232107</td>\n",
       "    </tr>\n",
       "    <tr>\n",
       "      <th>2</th>\n",
       "      <td>최근검사경과일</td>\n",
       "      <td>0.02</td>\n",
       "      <td>0.01</td>\n",
       "      <td>1.00</td>\n",
       "      <td>0.02</td>\n",
       "      <td>1.04</td>\n",
       "      <td>20232107</td>\n",
       "    </tr>\n",
       "    <tr>\n",
       "      <th>3</th>\n",
       "      <td>운행제한건수</td>\n",
       "      <td>-0.03</td>\n",
       "      <td>0.01</td>\n",
       "      <td>0.02</td>\n",
       "      <td>1.00</td>\n",
       "      <td>1.01</td>\n",
       "      <td>20232107</td>\n",
       "    </tr>\n",
       "  </tbody>\n",
       "</table>\n",
       "</div>"
      ],
      "text/plain": [
       "        LIST  NOLOD_SMO_MEVLU1  DY_AVRG_DRVNG_DSTNC  RCNT_INSP_ELPSD_WHL   \n",
       "0  무부하매연측정치1              1.00                -0.02                 0.02  \\\n",
       "1   일일평균주행거리             -0.02                 1.00                 0.01   \n",
       "2    최근검사경과일              0.02                 0.01                 1.00   \n",
       "3     운행제한건수             -0.03                 0.01                 0.02   \n",
       "\n",
       "   RUN_LMT_NOCS  TOT_CRRLTN_CFFCNT   LOAD_DT  \n",
       "0         -0.03               0.98  20232107  \n",
       "1          0.01               1.00  20232107  \n",
       "2          0.02               1.04  20232107  \n",
       "3          1.00               1.01  20232107  "
      ]
     },
     "execution_count": 205,
     "metadata": {},
     "output_type": "execute_result"
    }
   ],
   "source": [
    "STD_BD_GRD5_DS_CRRLTN_CFFCNT = t5.rename(columns=chc_col)\n",
    "STD_BD_GRD5_DS_CRRLTN_CFFCNT"
   ]
  },
  {
   "cell_type": "markdown",
   "metadata": {},
   "source": [
    "##### [출력] STD_BD_GRD5_DS_CRRLTN_CFFCNT"
   ]
  },
  {
   "cell_type": "code",
   "execution_count": 206,
   "metadata": {},
   "outputs": [],
   "source": [
    "expdf = STD_BD_GRD5_DS_CRRLTN_CFFCNT\n",
    "table_nm = 'STD_BD_GRD5_DS_CRRLTN_CFFCNT'.upper()\n",
    "\n",
    "# 테이블 생성\n",
    "sql = 'create or replace table ' + table_nm + '( \\n'\n",
    "\n",
    "for idx,column in enumerate(expdf.columns):\n",
    "    if 'float' in expdf[column].dtype.name:\n",
    "        sql += column + ' float'\n",
    "    elif 'int' in expdf[column].dtype.name:\n",
    "        sql += column + ' number'\n",
    "    else:\n",
    "        sql += column + ' varchar(255)'\n",
    "\n",
    "    if len(expdf.columns) - 1 != idx:\n",
    "        sql += ','\n",
    "    sql += '\\n'\n",
    "sql += ')'    \n",
    "we.execute(sql)\n",
    "\n",
    "# 데이터 추가\n",
    "# 5s\n",
    "we.import_from_pandas(expdf, table_nm)"
   ]
  },
  {
   "cell_type": "code",
   "execution_count": 207,
   "metadata": {},
   "outputs": [],
   "source": [
    "# 5.5s\n",
    "# BD3-3_5등급경유차_상관계수\n",
    "STD_BD_GRD5_DS_CRRLTN_CFFCNT.to_csv(os.path.join(df3_fold, 'STD_BD_GRD5_DS_CRRLTN_CFFCNT.csv'), index=False)"
   ]
  },
  {
   "cell_type": "code",
   "execution_count": 208,
   "metadata": {},
   "outputs": [
    {
     "data": {
      "text/plain": [
       "무부하매연측정치1   0.98\n",
       "일일평균주행거리    1.00\n",
       "최근검사경과일     1.04\n",
       "운행제한건수      1.01\n",
       "dtype: float64"
      ]
     },
     "execution_count": 208,
     "metadata": {},
     "output_type": "execute_result"
    }
   ],
   "source": [
    "gm5di_corr.sum()[col]"
   ]
  },
  {
   "cell_type": "code",
   "execution_count": 209,
   "metadata": {},
   "outputs": [
    {
     "data": {
      "text/plain": [
       "(0.2421946741140463,\n",
       " 0.24889167097498802,\n",
       " 0.2589054835564994,\n",
       " 0.25000817135446624)"
      ]
     },
     "execution_count": 209,
     "metadata": {},
     "output_type": "execute_result"
    }
   ],
   "source": [
    "c1, c2, c3, c4 = gm5di_corr.sum()[col]\n",
    "sc1 = c1 + c2 + c3 + c4\n",
    "w1, w2, w3, w4 = c1/sc1, c2/sc1, c3/sc1, c4/sc1\n",
    "w1, w2, w3, w4"
   ]
  },
  {
   "cell_type": "code",
   "execution_count": 210,
   "metadata": {},
   "outputs": [
    {
     "data": {
      "text/plain": [
       "0"
      ]
     },
     "execution_count": 210,
     "metadata": {},
     "output_type": "execute_result"
    }
   ],
   "source": [
    "gm5di['선별포인트'] = np.round(w1 * gm5di['무부하매연측정치1'] + w2 * gm5di['일일평균주행거리'] + w3 * gm5di['최근검사경과일'] + w4 * gm5di['운행제한건수'], 0)\n",
    "gm5di['선별포인트'].isnull().sum()"
   ]
  },
  {
   "cell_type": "code",
   "execution_count": 211,
   "metadata": {},
   "outputs": [
    {
     "data": {
      "text/plain": [
       "count   699583.00\n",
       "mean       119.95\n",
       "std         75.91\n",
       "min         12.00\n",
       "25%         60.00\n",
       "50%        107.00\n",
       "75%        171.00\n",
       "max      25487.00\n",
       "Name: 선별포인트, dtype: float64"
      ]
     },
     "execution_count": 211,
     "metadata": {},
     "output_type": "execute_result"
    }
   ],
   "source": [
    "gm5di['선별포인트'].describe()"
   ]
  },
  {
   "cell_type": "code",
   "execution_count": 212,
   "metadata": {},
   "outputs": [
    {
     "data": {
      "image/png": "[encoded data removed]",
      "text/plain": [
       "<Figure size 640x480 with 1 Axes>"
      ]
     },
     "metadata": {},
     "output_type": "display_data"
    }
   ],
   "source": [
    "gm5di['선별포인트'].hist();"
   ]
  },
  {
   "cell_type": "markdown",
   "metadata": {},
   "source": [
    "#### 5등급 경유차 선별포인트 샘플"
   ]
  },
  {
   "cell_type": "code",
   "execution_count": 213,
   "metadata": {},
   "outputs": [
    {
     "data": {
      "text/plain": [
       "Index(['차대번호', '차량번호', '법정동코드', '시도', '시군구', '연식', '용도', '차종', '차종유형', '저감장치',\n",
       "       '무부하매연측정치1', '일일평균주행거리', '최근검사경과일', '운행제한건수', '우선순위', '선별포인트'],\n",
       "      dtype='object')"
      ]
     },
     "execution_count": 213,
     "metadata": {},
     "output_type": "execute_result"
    }
   ],
   "source": [
    "gm5di.columns"
   ]
  },
  {
   "cell_type": "code",
   "execution_count": 214,
   "metadata": {},
   "outputs": [
    {
     "data": {
      "text/plain": [
       "저감장치\n",
       "유    229679\n",
       "Name: count, dtype: int64"
      ]
     },
     "execution_count": 214,
     "metadata": {},
     "output_type": "execute_result"
    }
   ],
   "source": [
    "gm5di['저감장치'].value_counts()"
   ]
  },
  {
   "cell_type": "code",
   "execution_count": 215,
   "metadata": {},
   "outputs": [
    {
     "data": {
      "text/html": [
       "<div>\n",
       "<style scoped>\n",
       "    .dataframe tbody tr th:only-of-type {\n",
       "        vertical-align: middle;\n",
       "    }\n",
       "\n",
       "    .dataframe tbody tr th {\n",
       "        vertical-align: top;\n",
       "    }\n",
       "\n",
       "    .dataframe thead th {\n",
       "        text-align: right;\n",
       "    }\n",
       "</style>\n",
       "<table border=\"1\" class=\"dataframe\">\n",
       "  <thead>\n",
       "    <tr style=\"text-align: right;\">\n",
       "      <th></th>\n",
       "      <th>차대번호</th>\n",
       "      <th>차량번호</th>\n",
       "      <th>법정동코드</th>\n",
       "      <th>시도</th>\n",
       "      <th>시군구</th>\n",
       "      <th>연식</th>\n",
       "      <th>용도</th>\n",
       "      <th>차종</th>\n",
       "      <th>차종유형</th>\n",
       "      <th>저감장치</th>\n",
       "      <th>무부하매연측정치1</th>\n",
       "      <th>일일평균주행거리</th>\n",
       "      <th>최근검사경과일</th>\n",
       "      <th>운행제한건수</th>\n",
       "      <th>우선순위</th>\n",
       "      <th>선별포인트</th>\n",
       "    </tr>\n",
       "  </thead>\n",
       "  <tbody>\n",
       "    <tr>\n",
       "      <th>0</th>\n",
       "      <td>KL3C3AHF27K000068</td>\n",
       "      <td>84라1558</td>\n",
       "      <td>4372033032</td>\n",
       "      <td>충청북도</td>\n",
       "      <td>보은군</td>\n",
       "      <td>2007</td>\n",
       "      <td>개인용</td>\n",
       "      <td>화물</td>\n",
       "      <td>대형</td>\n",
       "      <td>NaN</td>\n",
       "      <td>0.00</td>\n",
       "      <td>559.55</td>\n",
       "      <td>59.00</td>\n",
       "      <td>0.00</td>\n",
       "      <td>3</td>\n",
       "      <td>155.00</td>\n",
       "    </tr>\n",
       "    <tr>\n",
       "      <th>1</th>\n",
       "      <td>KMCYSS7JP7U084697</td>\n",
       "      <td>99도4857</td>\n",
       "      <td>4423038028</td>\n",
       "      <td>충청남도</td>\n",
       "      <td>논산시</td>\n",
       "      <td>2007</td>\n",
       "      <td>개인용</td>\n",
       "      <td>특수</td>\n",
       "      <td>중형</td>\n",
       "      <td>NaN</td>\n",
       "      <td>9.00</td>\n",
       "      <td>31.29</td>\n",
       "      <td>352.00</td>\n",
       "      <td>0.00</td>\n",
       "      <td>3</td>\n",
       "      <td>101.00</td>\n",
       "    </tr>\n",
       "    <tr>\n",
       "      <th>2</th>\n",
       "      <td>KMFZCD7HP6U177736</td>\n",
       "      <td>88더0229</td>\n",
       "      <td>4413310800</td>\n",
       "      <td>충청남도</td>\n",
       "      <td>천안시</td>\n",
       "      <td>2006</td>\n",
       "      <td>개인용</td>\n",
       "      <td>화물</td>\n",
       "      <td>중형</td>\n",
       "      <td>유</td>\n",
       "      <td>13.00</td>\n",
       "      <td>269.69</td>\n",
       "      <td>375.00</td>\n",
       "      <td>0.00</td>\n",
       "      <td>3</td>\n",
       "      <td>167.00</td>\n",
       "    </tr>\n",
       "    <tr>\n",
       "      <th>3</th>\n",
       "      <td>KL3C3AHF27K000062</td>\n",
       "      <td>83노0270</td>\n",
       "      <td>4792025023</td>\n",
       "      <td>경상북도</td>\n",
       "      <td>봉화군</td>\n",
       "      <td>2007</td>\n",
       "      <td>개인용</td>\n",
       "      <td>화물</td>\n",
       "      <td>대형</td>\n",
       "      <td>NaN</td>\n",
       "      <td>8.00</td>\n",
       "      <td>332.99</td>\n",
       "      <td>185.00</td>\n",
       "      <td>0.00</td>\n",
       "      <td>3</td>\n",
       "      <td>133.00</td>\n",
       "    </tr>\n",
       "    <tr>\n",
       "      <th>4</th>\n",
       "      <td>KMCGK17PP7C072513</td>\n",
       "      <td>90로1655</td>\n",
       "      <td>3171034000</td>\n",
       "      <td>울산광역시</td>\n",
       "      <td>울주군</td>\n",
       "      <td>2007</td>\n",
       "      <td>개인용</td>\n",
       "      <td>화물</td>\n",
       "      <td>중형</td>\n",
       "      <td>NaN</td>\n",
       "      <td>3.00</td>\n",
       "      <td>28.17</td>\n",
       "      <td>51.00</td>\n",
       "      <td>0.00</td>\n",
       "      <td>3</td>\n",
       "      <td>21.00</td>\n",
       "    </tr>\n",
       "  </tbody>\n",
       "</table>\n",
       "</div>"
      ],
      "text/plain": [
       "                차대번호     차량번호       법정동코드     시도  시군구    연식   용도  차종 차종유형   \n",
       "0  KL3C3AHF27K000068  84라1558  4372033032   충청북도  보은군  2007  개인용  화물   대형  \\\n",
       "1  KMCYSS7JP7U084697  99도4857  4423038028   충청남도  논산시  2007  개인용  특수   중형   \n",
       "2  KMFZCD7HP6U177736  88더0229  4413310800   충청남도  천안시  2006  개인용  화물   중형   \n",
       "3  KL3C3AHF27K000062  83노0270  4792025023   경상북도  봉화군  2007  개인용  화물   대형   \n",
       "4  KMCGK17PP7C072513  90로1655  3171034000  울산광역시  울주군  2007  개인용  화물   중형   \n",
       "\n",
       "  저감장치  무부하매연측정치1  일일평균주행거리  최근검사경과일  운행제한건수  우선순위  선별포인트  \n",
       "0  NaN       0.00    559.55    59.00    0.00     3 155.00  \n",
       "1  NaN       9.00     31.29   352.00    0.00     3 101.00  \n",
       "2    유      13.00    269.69   375.00    0.00     3 167.00  \n",
       "3  NaN       8.00    332.99   185.00    0.00     3 133.00  \n",
       "4  NaN       3.00     28.17    51.00    0.00     3  21.00  "
      ]
     },
     "execution_count": 215,
     "metadata": {},
     "output_type": "execute_result"
    }
   ],
   "source": [
    "gm5di.head()"
   ]
  },
  {
   "cell_type": "code",
   "execution_count": 216,
   "metadata": {},
   "outputs": [
    {
     "data": {
      "text/plain": [
       "(1107341, 14)"
      ]
     },
     "execution_count": 216,
     "metadata": {},
     "output_type": "execute_result"
    }
   ],
   "source": [
    "gm5d.shape"
   ]
  },
  {
   "cell_type": "code",
   "execution_count": 217,
   "metadata": {},
   "outputs": [],
   "source": [
    "gm5da['선별포인트'] = np.nan\n",
    "gm5db['선별포인트'] = np.nan"
   ]
  },
  {
   "cell_type": "code",
   "execution_count": 218,
   "metadata": {},
   "outputs": [
    {
     "data": {
      "text/plain": [
       "(1107341, 16)"
      ]
     },
     "execution_count": 218,
     "metadata": {},
     "output_type": "execute_result"
    }
   ],
   "source": [
    "total5d = pd.concat([gm5da, gm5db, gm5di], ignore_index=True)\n",
    "total5d.shape"
   ]
  },
  {
   "cell_type": "code",
   "execution_count": 219,
   "metadata": {},
   "outputs": [
    {
     "data": {
      "text/html": [
       "<div>\n",
       "<style scoped>\n",
       "    .dataframe tbody tr th:only-of-type {\n",
       "        vertical-align: middle;\n",
       "    }\n",
       "\n",
       "    .dataframe tbody tr th {\n",
       "        vertical-align: top;\n",
       "    }\n",
       "\n",
       "    .dataframe thead th {\n",
       "        text-align: right;\n",
       "    }\n",
       "</style>\n",
       "<table border=\"1\" class=\"dataframe\">\n",
       "  <thead>\n",
       "    <tr style=\"text-align: right;\">\n",
       "      <th></th>\n",
       "      <th>차대번호</th>\n",
       "      <th>차량번호</th>\n",
       "      <th>법정동코드</th>\n",
       "      <th>시도</th>\n",
       "      <th>시군구</th>\n",
       "      <th>연식</th>\n",
       "      <th>용도</th>\n",
       "      <th>차종</th>\n",
       "      <th>차종유형</th>\n",
       "      <th>저감장치</th>\n",
       "      <th>무부하매연측정치1</th>\n",
       "      <th>일일평균주행거리</th>\n",
       "      <th>최근검사경과일</th>\n",
       "      <th>운행제한건수</th>\n",
       "      <th>우선순위</th>\n",
       "      <th>선별포인트</th>\n",
       "    </tr>\n",
       "  </thead>\n",
       "  <tbody>\n",
       "    <tr>\n",
       "      <th>0</th>\n",
       "      <td>KNAJC52182A082279</td>\n",
       "      <td>04보1352</td>\n",
       "      <td>4122025041</td>\n",
       "      <td>경기도</td>\n",
       "      <td>평택시</td>\n",
       "      <td>2002</td>\n",
       "      <td>개인용</td>\n",
       "      <td>승용</td>\n",
       "      <td>대형</td>\n",
       "      <td>NaN</td>\n",
       "      <td>8.00</td>\n",
       "      <td>-1394.53</td>\n",
       "      <td>1661.00</td>\n",
       "      <td>8.00</td>\n",
       "      <td>1</td>\n",
       "      <td>NaN</td>\n",
       "    </tr>\n",
       "    <tr>\n",
       "      <th>1</th>\n",
       "      <td>KMHMJ81VP3U191659</td>\n",
       "      <td>65주9741</td>\n",
       "      <td>4785025000</td>\n",
       "      <td>경상북도</td>\n",
       "      <td>칠곡군</td>\n",
       "      <td>2003</td>\n",
       "      <td>개인용</td>\n",
       "      <td>승용</td>\n",
       "      <td>중형</td>\n",
       "      <td>NaN</td>\n",
       "      <td>8.00</td>\n",
       "      <td>-185.70</td>\n",
       "      <td>2150.00</td>\n",
       "      <td>1.00</td>\n",
       "      <td>1</td>\n",
       "      <td>NaN</td>\n",
       "    </tr>\n",
       "    <tr>\n",
       "      <th>2</th>\n",
       "      <td>KPBFA2AF15P147164</td>\n",
       "      <td>58주3416</td>\n",
       "      <td>2720010300</td>\n",
       "      <td>대구광역시</td>\n",
       "      <td>남구</td>\n",
       "      <td>2005</td>\n",
       "      <td>개인용</td>\n",
       "      <td>승용</td>\n",
       "      <td>대형</td>\n",
       "      <td>NaN</td>\n",
       "      <td>14.00</td>\n",
       "      <td>-221.84</td>\n",
       "      <td>2520.00</td>\n",
       "      <td>1.00</td>\n",
       "      <td>1</td>\n",
       "      <td>NaN</td>\n",
       "    </tr>\n",
       "    <tr>\n",
       "      <th>3</th>\n",
       "      <td>KNAJE55135K097976</td>\n",
       "      <td>27루3463</td>\n",
       "      <td>4125010600</td>\n",
       "      <td>경기도</td>\n",
       "      <td>동두천시</td>\n",
       "      <td>2005</td>\n",
       "      <td>개인용</td>\n",
       "      <td>승용</td>\n",
       "      <td>중형</td>\n",
       "      <td>NaN</td>\n",
       "      <td>4.00</td>\n",
       "      <td>-256.62</td>\n",
       "      <td>2293.00</td>\n",
       "      <td>1.00</td>\n",
       "      <td>1</td>\n",
       "      <td>NaN</td>\n",
       "    </tr>\n",
       "    <tr>\n",
       "      <th>4</th>\n",
       "      <td>KNAJC52133A161560</td>\n",
       "      <td>27루2798</td>\n",
       "      <td>1117012400</td>\n",
       "      <td>서울특별시</td>\n",
       "      <td>용산구</td>\n",
       "      <td>2003</td>\n",
       "      <td>개인용</td>\n",
       "      <td>승용</td>\n",
       "      <td>대형</td>\n",
       "      <td>NaN</td>\n",
       "      <td>10.00</td>\n",
       "      <td>-403.50</td>\n",
       "      <td>2222.00</td>\n",
       "      <td>7.00</td>\n",
       "      <td>1</td>\n",
       "      <td>NaN</td>\n",
       "    </tr>\n",
       "  </tbody>\n",
       "</table>\n",
       "</div>"
      ],
      "text/plain": [
       "                차대번호     차량번호       법정동코드     시도   시군구    연식   용도  차종 차종유형   \n",
       "0  KNAJC52182A082279  04보1352  4122025041    경기도   평택시  2002  개인용  승용   대형  \\\n",
       "1  KMHMJ81VP3U191659  65주9741  4785025000   경상북도   칠곡군  2003  개인용  승용   중형   \n",
       "2  KPBFA2AF15P147164  58주3416  2720010300  대구광역시    남구  2005  개인용  승용   대형   \n",
       "3  KNAJE55135K097976  27루3463  4125010600    경기도  동두천시  2005  개인용  승용   중형   \n",
       "4  KNAJC52133A161560  27루2798  1117012400  서울특별시   용산구  2003  개인용  승용   대형   \n",
       "\n",
       "  저감장치  무부하매연측정치1  일일평균주행거리  최근검사경과일  운행제한건수  우선순위  선별포인트  \n",
       "0  NaN       8.00  -1394.53  1661.00    8.00     1    NaN  \n",
       "1  NaN       8.00   -185.70  2150.00    1.00     1    NaN  \n",
       "2  NaN      14.00   -221.84  2520.00    1.00     1    NaN  \n",
       "3  NaN       4.00   -256.62  2293.00    1.00     1    NaN  \n",
       "4  NaN      10.00   -403.50  2222.00    7.00     1    NaN  "
      ]
     },
     "execution_count": 219,
     "metadata": {},
     "output_type": "execute_result"
    }
   ],
   "source": [
    "total5d.head()"
   ]
  },
  {
   "cell_type": "code",
   "execution_count": 220,
   "metadata": {},
   "outputs": [
    {
     "data": {
      "text/html": [
       "<div>\n",
       "<style scoped>\n",
       "    .dataframe tbody tr th:only-of-type {\n",
       "        vertical-align: middle;\n",
       "    }\n",
       "\n",
       "    .dataframe tbody tr th {\n",
       "        vertical-align: top;\n",
       "    }\n",
       "\n",
       "    .dataframe thead th {\n",
       "        text-align: right;\n",
       "    }\n",
       "</style>\n",
       "<table border=\"1\" class=\"dataframe\">\n",
       "  <thead>\n",
       "    <tr style=\"text-align: right;\">\n",
       "      <th></th>\n",
       "      <th>차대번호</th>\n",
       "      <th>차량번호</th>\n",
       "      <th>법정동코드</th>\n",
       "      <th>시도</th>\n",
       "      <th>시군구</th>\n",
       "      <th>연식</th>\n",
       "      <th>용도</th>\n",
       "      <th>차종</th>\n",
       "      <th>차종유형</th>\n",
       "      <th>저감장치</th>\n",
       "      <th>무부하매연측정치1</th>\n",
       "      <th>일일평균주행거리</th>\n",
       "      <th>최근검사경과일</th>\n",
       "      <th>운행제한건수</th>\n",
       "      <th>우선순위</th>\n",
       "      <th>선별포인트</th>\n",
       "    </tr>\n",
       "  </thead>\n",
       "  <tbody>\n",
       "    <tr>\n",
       "      <th>1107336</th>\n",
       "      <td>KPAHB6CY1PP057643</td>\n",
       "      <td>37어9733</td>\n",
       "      <td>4874037024</td>\n",
       "      <td>경상남도</td>\n",
       "      <td>창녕군</td>\n",
       "      <td>1993</td>\n",
       "      <td>개인용</td>\n",
       "      <td>승용</td>\n",
       "      <td>소형</td>\n",
       "      <td>NaN</td>\n",
       "      <td>0.00</td>\n",
       "      <td>39.80</td>\n",
       "      <td>760.00</td>\n",
       "      <td>0.00</td>\n",
       "      <td>3</td>\n",
       "      <td>207.00</td>\n",
       "    </tr>\n",
       "    <tr>\n",
       "      <th>1107337</th>\n",
       "      <td>KPKHB7AY1LP038323</td>\n",
       "      <td>78도1671</td>\n",
       "      <td>5011025930</td>\n",
       "      <td>제주특별자치도</td>\n",
       "      <td>제주시</td>\n",
       "      <td>1990</td>\n",
       "      <td>개인용</td>\n",
       "      <td>승합</td>\n",
       "      <td>소형</td>\n",
       "      <td>NaN</td>\n",
       "      <td>19.00</td>\n",
       "      <td>50.20</td>\n",
       "      <td>942.00</td>\n",
       "      <td>0.00</td>\n",
       "      <td>3</td>\n",
       "      <td>261.00</td>\n",
       "    </tr>\n",
       "    <tr>\n",
       "      <th>1107338</th>\n",
       "      <td>KMFFA17XPLU108506</td>\n",
       "      <td>강원8마5061</td>\n",
       "      <td>4276033021</td>\n",
       "      <td>강원도</td>\n",
       "      <td>평창군</td>\n",
       "      <td>1990</td>\n",
       "      <td>개인용</td>\n",
       "      <td>화물</td>\n",
       "      <td>소형</td>\n",
       "      <td>NaN</td>\n",
       "      <td>0.00</td>\n",
       "      <td>32.50</td>\n",
       "      <td>631.00</td>\n",
       "      <td>0.00</td>\n",
       "      <td>3</td>\n",
       "      <td>171.00</td>\n",
       "    </tr>\n",
       "    <tr>\n",
       "      <th>1107339</th>\n",
       "      <td>WDB435110KW147741</td>\n",
       "      <td>93어2646</td>\n",
       "      <td>4215034022</td>\n",
       "      <td>강원도</td>\n",
       "      <td>강릉시</td>\n",
       "      <td>1989</td>\n",
       "      <td>개인용</td>\n",
       "      <td>화물</td>\n",
       "      <td>중형</td>\n",
       "      <td>NaN</td>\n",
       "      <td>0.00</td>\n",
       "      <td>42.20</td>\n",
       "      <td>399.00</td>\n",
       "      <td>0.00</td>\n",
       "      <td>3</td>\n",
       "      <td>114.00</td>\n",
       "    </tr>\n",
       "    <tr>\n",
       "      <th>1107340</th>\n",
       "      <td>KPCKCSHT5KP000043</td>\n",
       "      <td>강원81다9833</td>\n",
       "      <td>4215011100</td>\n",
       "      <td>강원도</td>\n",
       "      <td>강릉시</td>\n",
       "      <td>1989</td>\n",
       "      <td>개인용</td>\n",
       "      <td>화물</td>\n",
       "      <td>대형</td>\n",
       "      <td>NaN</td>\n",
       "      <td>0.00</td>\n",
       "      <td>42.20</td>\n",
       "      <td>493.00</td>\n",
       "      <td>0.00</td>\n",
       "      <td>3</td>\n",
       "      <td>138.00</td>\n",
       "    </tr>\n",
       "  </tbody>\n",
       "</table>\n",
       "</div>"
      ],
      "text/plain": [
       "                      차대번호       차량번호       법정동코드       시도  시군구    연식   용도   \n",
       "1107336  KPAHB6CY1PP057643    37어9733  4874037024     경상남도  창녕군  1993  개인용  \\\n",
       "1107337  KPKHB7AY1LP038323    78도1671  5011025930  제주특별자치도  제주시  1990  개인용   \n",
       "1107338  KMFFA17XPLU108506   강원8마5061  4276033021      강원도  평창군  1990  개인용   \n",
       "1107339  WDB435110KW147741    93어2646  4215034022      강원도  강릉시  1989  개인용   \n",
       "1107340  KPCKCSHT5KP000043  강원81다9833  4215011100      강원도  강릉시  1989  개인용   \n",
       "\n",
       "         차종 차종유형 저감장치  무부하매연측정치1  일일평균주행거리  최근검사경과일  운행제한건수  우선순위  선별포인트  \n",
       "1107336  승용   소형  NaN       0.00     39.80   760.00    0.00     3 207.00  \n",
       "1107337  승합   소형  NaN      19.00     50.20   942.00    0.00     3 261.00  \n",
       "1107338  화물   소형  NaN       0.00     32.50   631.00    0.00     3 171.00  \n",
       "1107339  화물   중형  NaN       0.00     42.20   399.00    0.00     3 114.00  \n",
       "1107340  화물   대형  NaN       0.00     42.20   493.00    0.00     3 138.00  "
      ]
     },
     "execution_count": 220,
     "metadata": {},
     "output_type": "execute_result"
    }
   ],
   "source": [
    "total5d.tail()"
   ]
  },
  {
   "cell_type": "code",
   "execution_count": 221,
   "metadata": {},
   "outputs": [
    {
     "data": {
      "text/plain": [
       "0"
      ]
     },
     "execution_count": 221,
     "metadata": {},
     "output_type": "execute_result"
    }
   ],
   "source": [
    "total5d['우선순위'].isnull().sum()"
   ]
  },
  {
   "cell_type": "code",
   "execution_count": 222,
   "metadata": {},
   "outputs": [],
   "source": [
    "total5d['테이블생성일자'] = today_date"
   ]
  },
  {
   "cell_type": "code",
   "execution_count": 223,
   "metadata": {},
   "outputs": [],
   "source": [
    "chc_col = {\n",
    "    '테이블생성일자':'LOAD_DT', \n",
    "    '차대번호':'VIN', \n",
    "    '차량번호':'VHRNO', # 자동차등록번호\n",
    "    '법정동코드':'STDG_CD', \n",
    "    '연식':'YRIDNW', # 연식\n",
    "    '용도':'PURPS_CD2', \n",
    "    '차종':'VHCTY_CD', # 차종코드\n",
    "    '차종유형':'VHCTY_TY', \n",
    "    '저감장치':'RDCDVC',\n",
    "    '우선순위':'PRIO_GRD',\n",
    "    '선별포인트':'SELCT_PNT',\n",
    "    '무부하매연측정치1':'NOLOD_SMO_MEVLU1', \n",
    "    '일일평균주행거리':'DY_AVRG_DRVNG_DSTNC',\n",
    "    '최근검사경과일':'RCNT_INSP_ELPSD_WHL', \n",
    "    '운행제한건수':'RUN_LMT_NOCS', \n",
    "    '지원비용_조기폐차_백만원':'SPRT_CST_ELPDSRC',\n",
    "    '지원비용_DPF_백만원':'SPRT_CST_DPF', \n",
    "    '배기량_리터':'DSPLVL',\n",
    "    '총중량_톤':'TOTL_WGHT',\n",
    "}"
   ]
  },
  {
   "cell_type": "code",
   "execution_count": 224,
   "metadata": {},
   "outputs": [
    {
     "data": {
      "text/plain": [
       "Index(['VIN', 'VHRNO', 'STDG_CD', '시도', '시군구', 'YRIDNW', 'PURPS_CD2',\n",
       "       'VHCTY_CD', 'VHCTY_TY', 'RDCDVC', 'NOLOD_SMO_MEVLU1',\n",
       "       'DY_AVRG_DRVNG_DSTNC', 'RCNT_INSP_ELPSD_WHL', 'RUN_LMT_NOCS',\n",
       "       'PRIO_GRD', 'SELCT_PNT', 'LOAD_DT'],\n",
       "      dtype='object')"
      ]
     },
     "execution_count": 224,
     "metadata": {},
     "output_type": "execute_result"
    }
   ],
   "source": [
    "STD_BD_GRD5_LEM_PRIO_ORD_SELCT_CURSTT = total5d.rename(columns=chc_col)\n",
    "STD_BD_GRD5_LEM_PRIO_ORD_SELCT_CURSTT.columns"
   ]
  },
  {
   "cell_type": "code",
   "execution_count": 225,
   "metadata": {},
   "outputs": [
    {
     "data": {
      "text/plain": [
       "(1107341, 17)"
      ]
     },
     "execution_count": 225,
     "metadata": {},
     "output_type": "execute_result"
    }
   ],
   "source": [
    "STD_BD_GRD5_LEM_PRIO_ORD_SELCT_CURSTT.shape"
   ]
  },
  {
   "cell_type": "markdown",
   "metadata": {},
   "source": [
    "##### [출력] STD_BD_GRD5_LEM_PRIO_ORD_SELCT_CURSTT"
   ]
  },
  {
   "cell_type": "code",
   "execution_count": 226,
   "metadata": {},
   "outputs": [],
   "source": [
    "expdf = STD_BD_GRD5_LEM_PRIO_ORD_SELCT_CURSTT\n",
    "table_nm = 'STD_BD_GRD5_LEM_PRIO_ORD_SELCT_CURSTT'.upper()\n",
    "\n",
    "# 테이블 생성\n",
    "sql = 'create or replace table ' + table_nm + '( \\n'\n",
    "\n",
    "for idx,column in enumerate(expdf.columns):\n",
    "    if 'float' in expdf[column].dtype.name:\n",
    "        sql += column + ' float'\n",
    "    elif 'int' in expdf[column].dtype.name:\n",
    "        sql += column + ' number'\n",
    "    else:\n",
    "        sql += column + ' varchar(255)'\n",
    "\n",
    "    if len(expdf.columns) - 1 != idx:\n",
    "        sql += ','\n",
    "    sql += '\\n'\n",
    "sql += ')'    \n",
    "we.execute(sql)\n",
    "\n",
    "# 데이터 추가\n",
    "# 5s\n",
    "we.import_from_pandas(expdf, table_nm)"
   ]
  },
  {
   "cell_type": "code",
   "execution_count": 227,
   "metadata": {},
   "outputs": [],
   "source": [
    "# 8.1s\n",
    "# BD3-3_5등급경유차_우선차량선별\n",
    "STD_BD_GRD5_LEM_PRIO_ORD_SELCT_CURSTT.to_csv(os.path.join(df3_fold, 'STD_BD_GRD5_LEM_PRIO_ORD_SELCT_CURSTT.csv'), index=False)"
   ]
  },
  {
   "cell_type": "markdown",
   "metadata": {},
   "source": [
    "## 저공해조치선별"
   ]
  },
  {
   "cell_type": "code",
   "execution_count": 228,
   "metadata": {},
   "outputs": [
    {
     "data": {
      "text/plain": [
       "Index(['차대번호', '차량번호', '법정동코드', '시도', '시군구', '연식', '용도', '차종', '차종유형', '저감장치',\n",
       "       '무부하매연측정치1', '일일평균주행거리', '최근검사경과일', '운행제한건수', '우선순위', '선별포인트',\n",
       "       '테이블생성일자'],\n",
       "      dtype='object')"
      ]
     },
     "execution_count": 228,
     "metadata": {},
     "output_type": "execute_result"
    }
   ],
   "source": [
    "total4d.columns"
   ]
  },
  {
   "cell_type": "code",
   "execution_count": 229,
   "metadata": {},
   "outputs": [
    {
     "data": {
      "text/plain": [
       "(1156238, 17)"
      ]
     },
     "execution_count": 229,
     "metadata": {},
     "output_type": "execute_result"
    }
   ],
   "source": [
    "total4d.shape"
   ]
  },
  {
   "cell_type": "code",
   "execution_count": 230,
   "metadata": {},
   "outputs": [
    {
     "data": {
      "text/plain": [
       "(1156238, 18)"
      ]
     },
     "execution_count": 230,
     "metadata": {},
     "output_type": "execute_result"
    }
   ],
   "source": [
    "lem4d = total4d.merge(coder[['법정동코드', '시도']], on='법정동코드', how='left')\n",
    "lem4d.shape"
   ]
  },
  {
   "cell_type": "code",
   "execution_count": 231,
   "metadata": {},
   "outputs": [
    {
     "ename": "KeyError",
     "evalue": "'시도'",
     "output_type": "error",
     "traceback": [
      "\u001b[1;31m---------------------------------------------------------------------------\u001b[0m",
      "\u001b[1;31mKeyError\u001b[0m                                  Traceback (most recent call last)",
      "\u001b[1;32m~\\AppData\\Roaming\\Python\\Python39\\site-packages\\pandas\\core\\indexes\\base.py\u001b[0m in \u001b[0;36mget_loc\u001b[1;34m(self, key)\u001b[0m\n\u001b[0;32m   3651\u001b[0m         \u001b[1;32mtry\u001b[0m\u001b[1;33m:\u001b[0m\u001b[1;33m\u001b[0m\u001b[1;33m\u001b[0m\u001b[0m\n\u001b[1;32m-> 3652\u001b[1;33m             \u001b[1;32mreturn\u001b[0m \u001b[0mself\u001b[0m\u001b[1;33m.\u001b[0m\u001b[0m_engine\u001b[0m\u001b[1;33m.\u001b[0m\u001b[0mget_loc\u001b[0m\u001b[1;33m(\u001b[0m\u001b[0mcasted_key\u001b[0m\u001b[1;33m)\u001b[0m\u001b[1;33m\u001b[0m\u001b[1;33m\u001b[0m\u001b[0m\n\u001b[0m\u001b[0;32m   3653\u001b[0m         \u001b[1;32mexcept\u001b[0m \u001b[0mKeyError\u001b[0m \u001b[1;32mas\u001b[0m \u001b[0merr\u001b[0m\u001b[1;33m:\u001b[0m\u001b[1;33m\u001b[0m\u001b[1;33m\u001b[0m\u001b[0m\n",
      "\u001b[1;32m~\\AppData\\Roaming\\Python\\Python39\\site-packages\\pandas\\_libs\\index.pyx\u001b[0m in \u001b[0;36mpandas._libs.index.IndexEngine.get_loc\u001b[1;34m()\u001b[0m\n",
      "\u001b[1;32m~\\AppData\\Roaming\\Python\\Python39\\site-packages\\pandas\\_libs\\index.pyx\u001b[0m in \u001b[0;36mpandas._libs.index.IndexEngine.get_loc\u001b[1;34m()\u001b[0m\n",
      "\u001b[1;32mpandas\\_libs\\hashtable_class_helper.pxi\u001b[0m in \u001b[0;36mpandas._libs.hashtable.PyObjectHashTable.get_item\u001b[1;34m()\u001b[0m\n",
      "\u001b[1;32mpandas\\_libs\\hashtable_class_helper.pxi\u001b[0m in \u001b[0;36mpandas._libs.hashtable.PyObjectHashTable.get_item\u001b[1;34m()\u001b[0m\n",
      "\u001b[1;31mKeyError\u001b[0m: '시도'",
      "\nThe above exception was the direct cause of the following exception:\n",
      "\u001b[1;31mKeyError\u001b[0m                                  Traceback (most recent call last)",
      "\u001b[1;32m~\\AppData\\Local\\Temp\\ipykernel_18292\\2873513938.py\u001b[0m in \u001b[0;36m<module>\u001b[1;34m\u001b[0m\n\u001b[1;32m----> 1\u001b[1;33m \u001b[0mlem4d\u001b[0m\u001b[1;33m[\u001b[0m\u001b[1;34m'시도'\u001b[0m\u001b[1;33m]\u001b[0m\u001b[1;33m.\u001b[0m\u001b[0misnull\u001b[0m\u001b[1;33m(\u001b[0m\u001b[1;33m)\u001b[0m\u001b[1;33m.\u001b[0m\u001b[0msum\u001b[0m\u001b[1;33m(\u001b[0m\u001b[1;33m)\u001b[0m\u001b[1;33m\u001b[0m\u001b[1;33m\u001b[0m\u001b[0m\n\u001b[0m",
      "\u001b[1;32m~\\AppData\\Roaming\\Python\\Python39\\site-packages\\pandas\\core\\frame.py\u001b[0m in \u001b[0;36m__getitem__\u001b[1;34m(self, key)\u001b[0m\n\u001b[0;32m   3759\u001b[0m             \u001b[1;32mif\u001b[0m \u001b[0mself\u001b[0m\u001b[1;33m.\u001b[0m\u001b[0mcolumns\u001b[0m\u001b[1;33m.\u001b[0m\u001b[0mnlevels\u001b[0m \u001b[1;33m>\u001b[0m \u001b[1;36m1\u001b[0m\u001b[1;33m:\u001b[0m\u001b[1;33m\u001b[0m\u001b[1;33m\u001b[0m\u001b[0m\n\u001b[0;32m   3760\u001b[0m                 \u001b[1;32mreturn\u001b[0m \u001b[0mself\u001b[0m\u001b[1;33m.\u001b[0m\u001b[0m_getitem_multilevel\u001b[0m\u001b[1;33m(\u001b[0m\u001b[0mkey\u001b[0m\u001b[1;33m)\u001b[0m\u001b[1;33m\u001b[0m\u001b[1;33m\u001b[0m\u001b[0m\n\u001b[1;32m-> 3761\u001b[1;33m             \u001b[0mindexer\u001b[0m \u001b[1;33m=\u001b[0m \u001b[0mself\u001b[0m\u001b[1;33m.\u001b[0m\u001b[0mcolumns\u001b[0m\u001b[1;33m.\u001b[0m\u001b[0mget_loc\u001b[0m\u001b[1;33m(\u001b[0m\u001b[0mkey\u001b[0m\u001b[1;33m)\u001b[0m\u001b[1;33m\u001b[0m\u001b[1;33m\u001b[0m\u001b[0m\n\u001b[0m\u001b[0;32m   3762\u001b[0m             \u001b[1;32mif\u001b[0m \u001b[0mis_integer\u001b[0m\u001b[1;33m(\u001b[0m\u001b[0mindexer\u001b[0m\u001b[1;33m)\u001b[0m\u001b[1;33m:\u001b[0m\u001b[1;33m\u001b[0m\u001b[1;33m\u001b[0m\u001b[0m\n\u001b[0;32m   3763\u001b[0m                 \u001b[0mindexer\u001b[0m \u001b[1;33m=\u001b[0m \u001b[1;33m[\u001b[0m\u001b[0mindexer\u001b[0m\u001b[1;33m]\u001b[0m\u001b[1;33m\u001b[0m\u001b[1;33m\u001b[0m\u001b[0m\n",
      "\u001b[1;32m~\\AppData\\Roaming\\Python\\Python39\\site-packages\\pandas\\core\\indexes\\base.py\u001b[0m in \u001b[0;36mget_loc\u001b[1;34m(self, key)\u001b[0m\n\u001b[0;32m   3652\u001b[0m             \u001b[1;32mreturn\u001b[0m \u001b[0mself\u001b[0m\u001b[1;33m.\u001b[0m\u001b[0m_engine\u001b[0m\u001b[1;33m.\u001b[0m\u001b[0mget_loc\u001b[0m\u001b[1;33m(\u001b[0m\u001b[0mcasted_key\u001b[0m\u001b[1;33m)\u001b[0m\u001b[1;33m\u001b[0m\u001b[1;33m\u001b[0m\u001b[0m\n\u001b[0;32m   3653\u001b[0m         \u001b[1;32mexcept\u001b[0m \u001b[0mKeyError\u001b[0m \u001b[1;32mas\u001b[0m \u001b[0merr\u001b[0m\u001b[1;33m:\u001b[0m\u001b[1;33m\u001b[0m\u001b[1;33m\u001b[0m\u001b[0m\n\u001b[1;32m-> 3654\u001b[1;33m             \u001b[1;32mraise\u001b[0m \u001b[0mKeyError\u001b[0m\u001b[1;33m(\u001b[0m\u001b[0mkey\u001b[0m\u001b[1;33m)\u001b[0m \u001b[1;32mfrom\u001b[0m \u001b[0merr\u001b[0m\u001b[1;33m\u001b[0m\u001b[1;33m\u001b[0m\u001b[0m\n\u001b[0m\u001b[0;32m   3655\u001b[0m         \u001b[1;32mexcept\u001b[0m \u001b[0mTypeError\u001b[0m\u001b[1;33m:\u001b[0m\u001b[1;33m\u001b[0m\u001b[1;33m\u001b[0m\u001b[0m\n\u001b[0;32m   3656\u001b[0m             \u001b[1;31m# If we have a listlike key, _check_indexing_error will raise\u001b[0m\u001b[1;33m\u001b[0m\u001b[1;33m\u001b[0m\u001b[0m\n",
      "\u001b[1;31mKeyError\u001b[0m: '시도'"
     ]
    }
   ],
   "source": [
    "lem4d['시도'].isnull().sum()"
   ]
  },
  {
   "cell_type": "code",
   "execution_count": null,
   "metadata": {},
   "outputs": [
    {
     "data": {
      "text/plain": [
       "Index(['차대번호', '차량번호', '법정동코드', '연식', '용도', '차종', '차종유형', '저감장치', '우선순위',\n",
       "       '선별포인트', '무부하매연측정치1', '일일평균주행거리', '최근검사경과일', '운행제한건수', '테이블생성일자'],\n",
       "      dtype='object')"
      ]
     },
     "execution_count": 561,
     "metadata": {},
     "output_type": "execute_result"
    }
   ],
   "source": [
    "total5d.columns"
   ]
  },
  {
   "cell_type": "code",
   "execution_count": null,
   "metadata": {},
   "outputs": [
    {
     "data": {
      "text/plain": [
       "(1131764, 15)"
      ]
     },
     "execution_count": 562,
     "metadata": {},
     "output_type": "execute_result"
    }
   ],
   "source": [
    "total5d.shape"
   ]
  },
  {
   "cell_type": "code",
   "execution_count": null,
   "metadata": {},
   "outputs": [
    {
     "data": {
      "text/plain": [
       "(1131764, 16)"
      ]
     },
     "execution_count": 563,
     "metadata": {},
     "output_type": "execute_result"
    }
   ],
   "source": [
    "lem5d = total5d.merge(coder[['법정동코드', '시도']], on='법정동코드', how='left')\n",
    "lem5d.shape"
   ]
  },
  {
   "cell_type": "code",
   "execution_count": null,
   "metadata": {},
   "outputs": [
    {
     "data": {
      "text/plain": [
       "1"
      ]
     },
     "execution_count": 564,
     "metadata": {},
     "output_type": "execute_result"
    }
   ],
   "source": [
    "lem5d['시도'].isnull().sum()"
   ]
  },
  {
   "cell_type": "code",
   "execution_count": null,
   "metadata": {},
   "outputs": [
    {
     "data": {
      "text/plain": [
       "119195    4165052000\n",
       "Name: 법정동코드, dtype: int64"
      ]
     },
     "execution_count": 565,
     "metadata": {},
     "output_type": "execute_result"
    }
   ],
   "source": [
    "lem5d.loc[lem5d['시도'].isnull(), '법정동코드']"
   ]
  },
  {
   "cell_type": "code",
   "execution_count": null,
   "metadata": {},
   "outputs": [],
   "source": [
    "lem5d.loc[lem5d['법정동코드'] == 4165052000, '시도'] = '경기도' # 경기도 포천시 선단동"
   ]
  },
  {
   "cell_type": "code",
   "execution_count": null,
   "metadata": {},
   "outputs": [
    {
     "data": {
      "text/plain": [
       "0"
      ]
     },
     "execution_count": 567,
     "metadata": {},
     "output_type": "execute_result"
    }
   ],
   "source": [
    "lem5d['시도'].isnull().sum()"
   ]
  },
  {
   "cell_type": "code",
   "execution_count": null,
   "metadata": {},
   "outputs": [],
   "source": [
    "lem4d['배출가스등급'] = '4'\n",
    "lem5d['배출가스등급'] = '5'"
   ]
  },
  {
   "cell_type": "code",
   "execution_count": null,
   "metadata": {},
   "outputs": [
    {
     "data": {
      "text/plain": [
       "Index(['차대번호', '차량번호', '법정동코드', '연식', '용도', '차종', '차종유형', '저감장치', '무부하매연측정치1',\n",
       "       '일일평균주행거리', '최근검사경과일', '운행제한건수', '우선순위', '선별포인트', '테이블생성일자', '시도',\n",
       "       '배출가스등급'],\n",
       "      dtype='object')"
      ]
     },
     "execution_count": 569,
     "metadata": {},
     "output_type": "execute_result"
    }
   ],
   "source": [
    "lem = pd.concat([lem4d, lem5d], ignore_index=True)\n",
    "lem.columns"
   ]
  },
  {
   "cell_type": "code",
   "execution_count": null,
   "metadata": {},
   "outputs": [
    {
     "data": {
      "text/html": [
       "<div>\n",
       "<style scoped>\n",
       "    .dataframe tbody tr th:only-of-type {\n",
       "        vertical-align: middle;\n",
       "    }\n",
       "\n",
       "    .dataframe tbody tr th {\n",
       "        vertical-align: top;\n",
       "    }\n",
       "\n",
       "    .dataframe thead th {\n",
       "        text-align: right;\n",
       "    }\n",
       "</style>\n",
       "<table border=\"1\" class=\"dataframe\">\n",
       "  <thead>\n",
       "    <tr style=\"text-align: right;\">\n",
       "      <th></th>\n",
       "      <th>시도</th>\n",
       "      <th>배출가스등급</th>\n",
       "      <th>차종</th>\n",
       "      <th>차종유형</th>\n",
       "      <th>선별대수</th>\n",
       "      <th>1순위(대수)</th>\n",
       "      <th>1순위(비율)</th>\n",
       "      <th>2순위(대수)</th>\n",
       "      <th>2순위(비율)</th>\n",
       "      <th>3순위(대수)</th>\n",
       "      <th>3순위(비율)</th>\n",
       "    </tr>\n",
       "  </thead>\n",
       "  <tbody>\n",
       "    <tr>\n",
       "      <th>0</th>\n",
       "      <td>강원도</td>\n",
       "      <td>4</td>\n",
       "      <td>승용</td>\n",
       "      <td>대형</td>\n",
       "      <td>6353.00</td>\n",
       "      <td>0.00</td>\n",
       "      <td>0.00</td>\n",
       "      <td>94.00</td>\n",
       "      <td>0.01</td>\n",
       "      <td>6259.00</td>\n",
       "      <td>0.99</td>\n",
       "    </tr>\n",
       "    <tr>\n",
       "      <th>1</th>\n",
       "      <td>강원도</td>\n",
       "      <td>4</td>\n",
       "      <td>승용</td>\n",
       "      <td>소형</td>\n",
       "      <td>723.00</td>\n",
       "      <td>0.00</td>\n",
       "      <td>0.00</td>\n",
       "      <td>21.00</td>\n",
       "      <td>0.03</td>\n",
       "      <td>702.00</td>\n",
       "      <td>0.97</td>\n",
       "    </tr>\n",
       "    <tr>\n",
       "      <th>2</th>\n",
       "      <td>강원도</td>\n",
       "      <td>4</td>\n",
       "      <td>승용</td>\n",
       "      <td>중형</td>\n",
       "      <td>12276.00</td>\n",
       "      <td>0.00</td>\n",
       "      <td>0.00</td>\n",
       "      <td>189.00</td>\n",
       "      <td>0.02</td>\n",
       "      <td>12087.00</td>\n",
       "      <td>0.98</td>\n",
       "    </tr>\n",
       "    <tr>\n",
       "      <th>3</th>\n",
       "      <td>강원도</td>\n",
       "      <td>4</td>\n",
       "      <td>승합</td>\n",
       "      <td>대형</td>\n",
       "      <td>126.00</td>\n",
       "      <td>0.00</td>\n",
       "      <td>0.00</td>\n",
       "      <td>30.00</td>\n",
       "      <td>0.24</td>\n",
       "      <td>96.00</td>\n",
       "      <td>0.76</td>\n",
       "    </tr>\n",
       "    <tr>\n",
       "      <th>4</th>\n",
       "      <td>강원도</td>\n",
       "      <td>4</td>\n",
       "      <td>승합</td>\n",
       "      <td>중형</td>\n",
       "      <td>4967.00</td>\n",
       "      <td>0.00</td>\n",
       "      <td>0.00</td>\n",
       "      <td>117.00</td>\n",
       "      <td>0.02</td>\n",
       "      <td>4850.00</td>\n",
       "      <td>0.98</td>\n",
       "    </tr>\n",
       "    <tr>\n",
       "      <th>...</th>\n",
       "      <td>...</td>\n",
       "      <td>...</td>\n",
       "      <td>...</td>\n",
       "      <td>...</td>\n",
       "      <td>...</td>\n",
       "      <td>...</td>\n",
       "      <td>...</td>\n",
       "      <td>...</td>\n",
       "      <td>...</td>\n",
       "      <td>...</td>\n",
       "      <td>...</td>\n",
       "    </tr>\n",
       "    <tr>\n",
       "      <th>391</th>\n",
       "      <td>충청북도</td>\n",
       "      <td>5</td>\n",
       "      <td>특수</td>\n",
       "      <td>소형</td>\n",
       "      <td>60.00</td>\n",
       "      <td>1.00</td>\n",
       "      <td>0.02</td>\n",
       "      <td>19.00</td>\n",
       "      <td>0.32</td>\n",
       "      <td>40.00</td>\n",
       "      <td>0.67</td>\n",
       "    </tr>\n",
       "    <tr>\n",
       "      <th>392</th>\n",
       "      <td>충청북도</td>\n",
       "      <td>5</td>\n",
       "      <td>특수</td>\n",
       "      <td>중형</td>\n",
       "      <td>258.00</td>\n",
       "      <td>2.00</td>\n",
       "      <td>0.01</td>\n",
       "      <td>74.00</td>\n",
       "      <td>0.29</td>\n",
       "      <td>182.00</td>\n",
       "      <td>0.71</td>\n",
       "    </tr>\n",
       "    <tr>\n",
       "      <th>393</th>\n",
       "      <td>충청북도</td>\n",
       "      <td>5</td>\n",
       "      <td>화물</td>\n",
       "      <td>대형</td>\n",
       "      <td>3900.00</td>\n",
       "      <td>77.00</td>\n",
       "      <td>0.02</td>\n",
       "      <td>1025.00</td>\n",
       "      <td>0.26</td>\n",
       "      <td>2798.00</td>\n",
       "      <td>0.72</td>\n",
       "    </tr>\n",
       "    <tr>\n",
       "      <th>394</th>\n",
       "      <td>충청북도</td>\n",
       "      <td>5</td>\n",
       "      <td>화물</td>\n",
       "      <td>소형</td>\n",
       "      <td>14585.00</td>\n",
       "      <td>63.00</td>\n",
       "      <td>0.00</td>\n",
       "      <td>6281.00</td>\n",
       "      <td>0.43</td>\n",
       "      <td>8241.00</td>\n",
       "      <td>0.57</td>\n",
       "    </tr>\n",
       "    <tr>\n",
       "      <th>395</th>\n",
       "      <td>충청북도</td>\n",
       "      <td>5</td>\n",
       "      <td>화물</td>\n",
       "      <td>중형</td>\n",
       "      <td>9443.00</td>\n",
       "      <td>80.00</td>\n",
       "      <td>0.01</td>\n",
       "      <td>2806.00</td>\n",
       "      <td>0.30</td>\n",
       "      <td>6557.00</td>\n",
       "      <td>0.69</td>\n",
       "    </tr>\n",
       "  </tbody>\n",
       "</table>\n",
       "<p>396 rows × 11 columns</p>\n",
       "</div>"
      ],
      "text/plain": [
       "       시도 배출가스등급  차종 차종유형     선별대수  1순위(대수)  1순위(비율)  2순위(대수)  2순위(비율)   \n",
       "0     강원도      4  승용   대형  6353.00     0.00     0.00    94.00     0.01  \\\n",
       "1     강원도      4  승용   소형   723.00     0.00     0.00    21.00     0.03   \n",
       "2     강원도      4  승용   중형 12276.00     0.00     0.00   189.00     0.02   \n",
       "3     강원도      4  승합   대형   126.00     0.00     0.00    30.00     0.24   \n",
       "4     강원도      4  승합   중형  4967.00     0.00     0.00   117.00     0.02   \n",
       "..    ...    ...  ..  ...      ...      ...      ...      ...      ...   \n",
       "391  충청북도      5  특수   소형    60.00     1.00     0.02    19.00     0.32   \n",
       "392  충청북도      5  특수   중형   258.00     2.00     0.01    74.00     0.29   \n",
       "393  충청북도      5  화물   대형  3900.00    77.00     0.02  1025.00     0.26   \n",
       "394  충청북도      5  화물   소형 14585.00    63.00     0.00  6281.00     0.43   \n",
       "395  충청북도      5  화물   중형  9443.00    80.00     0.01  2806.00     0.30   \n",
       "\n",
       "     3순위(대수)  3순위(비율)  \n",
       "0    6259.00     0.99  \n",
       "1     702.00     0.97  \n",
       "2   12087.00     0.98  \n",
       "3      96.00     0.76  \n",
       "4    4850.00     0.98  \n",
       "..       ...      ...  \n",
       "391    40.00     0.67  \n",
       "392   182.00     0.71  \n",
       "393  2798.00     0.72  \n",
       "394  8241.00     0.57  \n",
       "395  6557.00     0.69  \n",
       "\n",
       "[396 rows x 11 columns]"
      ]
     },
     "execution_count": 570,
     "metadata": {},
     "output_type": "execute_result"
    }
   ],
   "source": [
    "grp1 = lem.groupby(['시도', '배출가스등급', '차종', '차종유형', '우선순위']).agg({'차대번호':'count'}).unstack('우선순위').reset_index()\n",
    "grp1.columns = ['시도', '배출가스등급', '차종', '차종유형', '1순위(대수)', '2순위(대수)', '3순위(대수)']\n",
    "grp1[['1순위(대수)', '2순위(대수)', '3순위(대수)']] = grp1[['1순위(대수)', '2순위(대수)', '3순위(대수)']].fillna(0)\n",
    "grp1['합계'] = grp1.iloc[:, -3:].sum(axis=1)\n",
    "grp1['1순위(비율)'] = grp1['1순위(대수)'] / grp1['합계']\n",
    "grp1['2순위(비율)'] = grp1['2순위(대수)'] / grp1['합계']\n",
    "grp1['3순위(비율)'] = grp1['3순위(대수)'] / grp1['합계']\n",
    "grp1 = grp1[['시도', '배출가스등급', '차종', '차종유형', '합계', '1순위(대수)', '1순위(비율)', '2순위(대수)', '2순위(비율)', '3순위(대수)', '3순위(비율)']]\n",
    "grp1 = grp1.rename(columns={'합계':'선별대수'})\n",
    "grp1"
   ]
  },
  {
   "cell_type": "code",
   "execution_count": null,
   "metadata": {},
   "outputs": [
    {
     "data": {
      "text/html": [
       "<div>\n",
       "<style scoped>\n",
       "    .dataframe tbody tr th:only-of-type {\n",
       "        vertical-align: middle;\n",
       "    }\n",
       "\n",
       "    .dataframe tbody tr th {\n",
       "        vertical-align: top;\n",
       "    }\n",
       "\n",
       "    .dataframe thead th {\n",
       "        text-align: right;\n",
       "    }\n",
       "</style>\n",
       "<table border=\"1\" class=\"dataframe\">\n",
       "  <thead>\n",
       "    <tr style=\"text-align: right;\">\n",
       "      <th></th>\n",
       "      <th>시도</th>\n",
       "      <th>배출가스등급</th>\n",
       "      <th>차종</th>\n",
       "      <th>차종유형</th>\n",
       "      <th>저감장치부착대수</th>\n",
       "    </tr>\n",
       "  </thead>\n",
       "  <tbody>\n",
       "    <tr>\n",
       "      <th>0</th>\n",
       "      <td>강원도</td>\n",
       "      <td>4</td>\n",
       "      <td>승용</td>\n",
       "      <td>대형</td>\n",
       "      <td>6206</td>\n",
       "    </tr>\n",
       "    <tr>\n",
       "      <th>1</th>\n",
       "      <td>강원도</td>\n",
       "      <td>4</td>\n",
       "      <td>승용</td>\n",
       "      <td>소형</td>\n",
       "      <td>657</td>\n",
       "    </tr>\n",
       "    <tr>\n",
       "      <th>2</th>\n",
       "      <td>강원도</td>\n",
       "      <td>4</td>\n",
       "      <td>승용</td>\n",
       "      <td>중형</td>\n",
       "      <td>11756</td>\n",
       "    </tr>\n",
       "    <tr>\n",
       "      <th>3</th>\n",
       "      <td>강원도</td>\n",
       "      <td>4</td>\n",
       "      <td>승합</td>\n",
       "      <td>대형</td>\n",
       "      <td>117</td>\n",
       "    </tr>\n",
       "    <tr>\n",
       "      <th>4</th>\n",
       "      <td>강원도</td>\n",
       "      <td>4</td>\n",
       "      <td>승합</td>\n",
       "      <td>중형</td>\n",
       "      <td>4817</td>\n",
       "    </tr>\n",
       "    <tr>\n",
       "      <th>...</th>\n",
       "      <td>...</td>\n",
       "      <td>...</td>\n",
       "      <td>...</td>\n",
       "      <td>...</td>\n",
       "      <td>...</td>\n",
       "    </tr>\n",
       "    <tr>\n",
       "      <th>391</th>\n",
       "      <td>충청북도</td>\n",
       "      <td>5</td>\n",
       "      <td>특수</td>\n",
       "      <td>소형</td>\n",
       "      <td>5</td>\n",
       "    </tr>\n",
       "    <tr>\n",
       "      <th>392</th>\n",
       "      <td>충청북도</td>\n",
       "      <td>5</td>\n",
       "      <td>특수</td>\n",
       "      <td>중형</td>\n",
       "      <td>44</td>\n",
       "    </tr>\n",
       "    <tr>\n",
       "      <th>393</th>\n",
       "      <td>충청북도</td>\n",
       "      <td>5</td>\n",
       "      <td>화물</td>\n",
       "      <td>대형</td>\n",
       "      <td>2053</td>\n",
       "    </tr>\n",
       "    <tr>\n",
       "      <th>394</th>\n",
       "      <td>충청북도</td>\n",
       "      <td>5</td>\n",
       "      <td>화물</td>\n",
       "      <td>소형</td>\n",
       "      <td>2078</td>\n",
       "    </tr>\n",
       "    <tr>\n",
       "      <th>395</th>\n",
       "      <td>충청북도</td>\n",
       "      <td>5</td>\n",
       "      <td>화물</td>\n",
       "      <td>중형</td>\n",
       "      <td>2828</td>\n",
       "    </tr>\n",
       "  </tbody>\n",
       "</table>\n",
       "<p>396 rows × 5 columns</p>\n",
       "</div>"
      ],
      "text/plain": [
       "       시도 배출가스등급  차종 차종유형  저감장치부착대수\n",
       "0     강원도      4  승용   대형      6206\n",
       "1     강원도      4  승용   소형       657\n",
       "2     강원도      4  승용   중형     11756\n",
       "3     강원도      4  승합   대형       117\n",
       "4     강원도      4  승합   중형      4817\n",
       "..    ...    ...  ..  ...       ...\n",
       "391  충청북도      5  특수   소형         5\n",
       "392  충청북도      5  특수   중형        44\n",
       "393  충청북도      5  화물   대형      2053\n",
       "394  충청북도      5  화물   소형      2078\n",
       "395  충청북도      5  화물   중형      2828\n",
       "\n",
       "[396 rows x 5 columns]"
      ]
     },
     "execution_count": 571,
     "metadata": {},
     "output_type": "execute_result"
    }
   ],
   "source": [
    "grp2 = lem.groupby(['시도', '배출가스등급', '차종', '차종유형']).agg({'저감장치':'count'}).reset_index()\n",
    "grp2 = grp2.rename(columns={'저감장치':'저감장치부착대수'})\n",
    "grp2"
   ]
  },
  {
   "cell_type": "code",
   "execution_count": null,
   "metadata": {},
   "outputs": [
    {
     "data": {
      "text/plain": [
       "(396, 12)"
      ]
     },
     "execution_count": 572,
     "metadata": {},
     "output_type": "execute_result"
    }
   ],
   "source": [
    "grp = grp1.merge(grp2, on=['시도', '배출가스등급', '차종', '차종유형'], how='left')\n",
    "grp.shape"
   ]
  },
  {
   "cell_type": "code",
   "execution_count": null,
   "metadata": {},
   "outputs": [
    {
     "data": {
      "text/html": [
       "<div>\n",
       "<style scoped>\n",
       "    .dataframe tbody tr th:only-of-type {\n",
       "        vertical-align: middle;\n",
       "    }\n",
       "\n",
       "    .dataframe tbody tr th {\n",
       "        vertical-align: top;\n",
       "    }\n",
       "\n",
       "    .dataframe thead th {\n",
       "        text-align: right;\n",
       "    }\n",
       "</style>\n",
       "<table border=\"1\" class=\"dataframe\">\n",
       "  <thead>\n",
       "    <tr style=\"text-align: right;\">\n",
       "      <th></th>\n",
       "      <th>시도</th>\n",
       "      <th>배출가스등급</th>\n",
       "      <th>차종</th>\n",
       "      <th>차종유형</th>\n",
       "      <th>선별대수</th>\n",
       "      <th>1순위(대수)</th>\n",
       "      <th>1순위(비율)</th>\n",
       "      <th>2순위(대수)</th>\n",
       "      <th>2순위(비율)</th>\n",
       "      <th>3순위(대수)</th>\n",
       "      <th>3순위(비율)</th>\n",
       "      <th>저감장치부착대수</th>\n",
       "    </tr>\n",
       "  </thead>\n",
       "  <tbody>\n",
       "    <tr>\n",
       "      <th>0</th>\n",
       "      <td>강원도</td>\n",
       "      <td>4</td>\n",
       "      <td>승용</td>\n",
       "      <td>대형</td>\n",
       "      <td>6353.00</td>\n",
       "      <td>0.00</td>\n",
       "      <td>0.00</td>\n",
       "      <td>94.00</td>\n",
       "      <td>0.01</td>\n",
       "      <td>6259.00</td>\n",
       "      <td>0.99</td>\n",
       "      <td>6206</td>\n",
       "    </tr>\n",
       "    <tr>\n",
       "      <th>1</th>\n",
       "      <td>강원도</td>\n",
       "      <td>4</td>\n",
       "      <td>승용</td>\n",
       "      <td>소형</td>\n",
       "      <td>723.00</td>\n",
       "      <td>0.00</td>\n",
       "      <td>0.00</td>\n",
       "      <td>21.00</td>\n",
       "      <td>0.03</td>\n",
       "      <td>702.00</td>\n",
       "      <td>0.97</td>\n",
       "      <td>657</td>\n",
       "    </tr>\n",
       "    <tr>\n",
       "      <th>2</th>\n",
       "      <td>강원도</td>\n",
       "      <td>4</td>\n",
       "      <td>승용</td>\n",
       "      <td>중형</td>\n",
       "      <td>12276.00</td>\n",
       "      <td>0.00</td>\n",
       "      <td>0.00</td>\n",
       "      <td>189.00</td>\n",
       "      <td>0.02</td>\n",
       "      <td>12087.00</td>\n",
       "      <td>0.98</td>\n",
       "      <td>11756</td>\n",
       "    </tr>\n",
       "    <tr>\n",
       "      <th>3</th>\n",
       "      <td>강원도</td>\n",
       "      <td>4</td>\n",
       "      <td>승합</td>\n",
       "      <td>대형</td>\n",
       "      <td>126.00</td>\n",
       "      <td>0.00</td>\n",
       "      <td>0.00</td>\n",
       "      <td>30.00</td>\n",
       "      <td>0.24</td>\n",
       "      <td>96.00</td>\n",
       "      <td>0.76</td>\n",
       "      <td>117</td>\n",
       "    </tr>\n",
       "    <tr>\n",
       "      <th>4</th>\n",
       "      <td>강원도</td>\n",
       "      <td>4</td>\n",
       "      <td>승합</td>\n",
       "      <td>중형</td>\n",
       "      <td>4967.00</td>\n",
       "      <td>0.00</td>\n",
       "      <td>0.00</td>\n",
       "      <td>117.00</td>\n",
       "      <td>0.02</td>\n",
       "      <td>4850.00</td>\n",
       "      <td>0.98</td>\n",
       "      <td>4817</td>\n",
       "    </tr>\n",
       "    <tr>\n",
       "      <th>...</th>\n",
       "      <td>...</td>\n",
       "      <td>...</td>\n",
       "      <td>...</td>\n",
       "      <td>...</td>\n",
       "      <td>...</td>\n",
       "      <td>...</td>\n",
       "      <td>...</td>\n",
       "      <td>...</td>\n",
       "      <td>...</td>\n",
       "      <td>...</td>\n",
       "      <td>...</td>\n",
       "      <td>...</td>\n",
       "    </tr>\n",
       "    <tr>\n",
       "      <th>391</th>\n",
       "      <td>충청북도</td>\n",
       "      <td>5</td>\n",
       "      <td>특수</td>\n",
       "      <td>소형</td>\n",
       "      <td>60.00</td>\n",
       "      <td>1.00</td>\n",
       "      <td>0.02</td>\n",
       "      <td>19.00</td>\n",
       "      <td>0.32</td>\n",
       "      <td>40.00</td>\n",
       "      <td>0.67</td>\n",
       "      <td>5</td>\n",
       "    </tr>\n",
       "    <tr>\n",
       "      <th>392</th>\n",
       "      <td>충청북도</td>\n",
       "      <td>5</td>\n",
       "      <td>특수</td>\n",
       "      <td>중형</td>\n",
       "      <td>258.00</td>\n",
       "      <td>2.00</td>\n",
       "      <td>0.01</td>\n",
       "      <td>74.00</td>\n",
       "      <td>0.29</td>\n",
       "      <td>182.00</td>\n",
       "      <td>0.71</td>\n",
       "      <td>44</td>\n",
       "    </tr>\n",
       "    <tr>\n",
       "      <th>393</th>\n",
       "      <td>충청북도</td>\n",
       "      <td>5</td>\n",
       "      <td>화물</td>\n",
       "      <td>대형</td>\n",
       "      <td>3900.00</td>\n",
       "      <td>77.00</td>\n",
       "      <td>0.02</td>\n",
       "      <td>1025.00</td>\n",
       "      <td>0.26</td>\n",
       "      <td>2798.00</td>\n",
       "      <td>0.72</td>\n",
       "      <td>2053</td>\n",
       "    </tr>\n",
       "    <tr>\n",
       "      <th>394</th>\n",
       "      <td>충청북도</td>\n",
       "      <td>5</td>\n",
       "      <td>화물</td>\n",
       "      <td>소형</td>\n",
       "      <td>14585.00</td>\n",
       "      <td>63.00</td>\n",
       "      <td>0.00</td>\n",
       "      <td>6281.00</td>\n",
       "      <td>0.43</td>\n",
       "      <td>8241.00</td>\n",
       "      <td>0.57</td>\n",
       "      <td>2078</td>\n",
       "    </tr>\n",
       "    <tr>\n",
       "      <th>395</th>\n",
       "      <td>충청북도</td>\n",
       "      <td>5</td>\n",
       "      <td>화물</td>\n",
       "      <td>중형</td>\n",
       "      <td>9443.00</td>\n",
       "      <td>80.00</td>\n",
       "      <td>0.01</td>\n",
       "      <td>2806.00</td>\n",
       "      <td>0.30</td>\n",
       "      <td>6557.00</td>\n",
       "      <td>0.69</td>\n",
       "      <td>2828</td>\n",
       "    </tr>\n",
       "  </tbody>\n",
       "</table>\n",
       "<p>396 rows × 12 columns</p>\n",
       "</div>"
      ],
      "text/plain": [
       "       시도 배출가스등급  차종 차종유형     선별대수  1순위(대수)  1순위(비율)  2순위(대수)  2순위(비율)   \n",
       "0     강원도      4  승용   대형  6353.00     0.00     0.00    94.00     0.01  \\\n",
       "1     강원도      4  승용   소형   723.00     0.00     0.00    21.00     0.03   \n",
       "2     강원도      4  승용   중형 12276.00     0.00     0.00   189.00     0.02   \n",
       "3     강원도      4  승합   대형   126.00     0.00     0.00    30.00     0.24   \n",
       "4     강원도      4  승합   중형  4967.00     0.00     0.00   117.00     0.02   \n",
       "..    ...    ...  ..  ...      ...      ...      ...      ...      ...   \n",
       "391  충청북도      5  특수   소형    60.00     1.00     0.02    19.00     0.32   \n",
       "392  충청북도      5  특수   중형   258.00     2.00     0.01    74.00     0.29   \n",
       "393  충청북도      5  화물   대형  3900.00    77.00     0.02  1025.00     0.26   \n",
       "394  충청북도      5  화물   소형 14585.00    63.00     0.00  6281.00     0.43   \n",
       "395  충청북도      5  화물   중형  9443.00    80.00     0.01  2806.00     0.30   \n",
       "\n",
       "     3순위(대수)  3순위(비율)  저감장치부착대수  \n",
       "0    6259.00     0.99      6206  \n",
       "1     702.00     0.97       657  \n",
       "2   12087.00     0.98     11756  \n",
       "3      96.00     0.76       117  \n",
       "4    4850.00     0.98      4817  \n",
       "..       ...      ...       ...  \n",
       "391    40.00     0.67         5  \n",
       "392   182.00     0.71        44  \n",
       "393  2798.00     0.72      2053  \n",
       "394  8241.00     0.57      2078  \n",
       "395  6557.00     0.69      2828  \n",
       "\n",
       "[396 rows x 12 columns]"
      ]
     },
     "execution_count": 573,
     "metadata": {},
     "output_type": "execute_result"
    }
   ],
   "source": [
    "grp"
   ]
  },
  {
   "cell_type": "code",
   "execution_count": null,
   "metadata": {},
   "outputs": [],
   "source": [
    "grp['테이블생성일자'] = today_date"
   ]
  },
  {
   "cell_type": "code",
   "execution_count": null,
   "metadata": {},
   "outputs": [
    {
     "data": {
      "text/plain": [
       "['시도',\n",
       " '배출가스등급',\n",
       " '차종',\n",
       " '차종유형',\n",
       " '선별대수',\n",
       " '1순위(대수)',\n",
       " '1순위(비율)',\n",
       " '2순위(대수)',\n",
       " '2순위(비율)',\n",
       " '3순위(대수)',\n",
       " '3순위(비율)',\n",
       " '저감장치부착대수',\n",
       " '테이블생성일자']"
      ]
     },
     "execution_count": 575,
     "metadata": {},
     "output_type": "execute_result"
    }
   ],
   "source": [
    "grp.columns.to_list()"
   ]
  },
  {
   "cell_type": "code",
   "execution_count": null,
   "metadata": {},
   "outputs": [
    {
     "data": {
      "text/plain": [
       "Index(['CTPV', 'EXHST_GAS_GRD_CD', 'VHCTY_CD', 'VHCTY_TY', 'SELCT_MKCNT',\n",
       "       'SENO1_MKCNT', 'SENO1_RT', 'SENO2_MKCNT', 'SENO2_RT', 'SENO3_MKCNT',\n",
       "       'SENO3_RT', 'RDCDVC_EXTRNS_MKCNT', 'LOAD_DT'],\n",
       "      dtype='object')"
      ]
     },
     "execution_count": 576,
     "metadata": {},
     "output_type": "execute_result"
    }
   ],
   "source": [
    "cdict = {\n",
    "    '시도':'CTPV',\n",
    "    '배출가스등급':'EXHST_GAS_GRD_CD',\n",
    "    '차종':'VHCTY_CD',\n",
    "    '차종유형':'VHCTY_TY',\n",
    "    '선별대수':'SELCT_MKCNT',\n",
    "    '1순위(대수)':'SENO1_MKCNT',\n",
    "    '1순위(비율)':'SENO1_RT',\n",
    "    '2순위(대수)':'SENO2_MKCNT',\n",
    "    '2순위(비율)':'SENO2_RT',\n",
    "    '3순위(대수)':'SENO3_MKCNT',\n",
    "    '3순위(비율)':'SENO3_RT',\n",
    "    '저감장치부착대수':'RDCDVC_EXTRNS_MKCNT',\n",
    "    '테이블생성일자':'LOAD_DT', \n",
    "}\n",
    "STD_BD_DAT_LEM_SELCT = grp.rename(columns=cdict)\n",
    "STD_BD_DAT_LEM_SELCT.columns"
   ]
  },
  {
   "cell_type": "code",
   "execution_count": 577,
   "metadata": {},
   "outputs": [
    {
     "data": {
      "text/plain": [
       "['CTPV',\n",
       " 'EXHST_GAS_GRD_CD',\n",
       " 'VHCTY_CD',\n",
       " 'VHCTY_TY',\n",
       " 'SELCT_MKCNT',\n",
       " 'SENO1_MKCNT',\n",
       " 'SENO1_RT',\n",
       " 'SENO2_MKCNT',\n",
       " 'SENO2_RT',\n",
       " 'SENO3_MKCNT',\n",
       " 'SENO3_RT',\n",
       " 'RDCDVC_EXTRNS_MKCNT',\n",
       " 'LOAD_DT']"
      ]
     },
     "execution_count": 577,
     "metadata": {},
     "output_type": "execute_result"
    }
   ],
   "source": [
    "STD_BD_DAT_LEM_SELCT.columns.to_list()"
   ]
  },
  {
   "cell_type": "markdown",
   "metadata": {},
   "source": [
    "### [출력] STD_BD_DAT_LEM_SELCT"
   ]
  },
  {
   "cell_type": "code",
   "execution_count": 578,
   "metadata": {},
   "outputs": [],
   "source": [
    "# expdf = STD_BD_DAT_LEM_SELCT\n",
    "# table_nm = 'STD_BD_DAT_LEM_SELCT'.upper()\n",
    "\n",
    "# # 테이블 생성\n",
    "# sql = 'create or replace table ' + table_nm + '( \\n'\n",
    "\n",
    "# for idx,column in enumerate(expdf.columns):\n",
    "#     if 'float' in expdf[column].dtype.name:\n",
    "#         sql += column + ' float'\n",
    "#     elif 'int' in expdf[column].dtype.name:\n",
    "#         sql += column + ' number'\n",
    "#     else:\n",
    "#         sql += column + ' varchar(255)'\n",
    "\n",
    "#     if len(expdf.columns) - 1 != idx:\n",
    "#         sql += ','\n",
    "#     sql += '\\n'\n",
    "# sql += ')'    \n",
    "# we.execute(sql)\n",
    "\n",
    "# # 데이터 추가\n",
    "# # 5s\n",
    "# we.import_from_pandas(expdf, table_nm)"
   ]
  },
  {
   "cell_type": "code",
   "execution_count": 579,
   "metadata": {},
   "outputs": [],
   "source": [
    "# # 0s\n",
    "# STD_BD_DAT_LEM_SELCT.to_csv(os.path.join(df3_fold, 'STD_BD_DAT_LEM_SELCT.csv'), index=False)"
   ]
  },
  {
   "cell_type": "markdown",
   "metadata": {},
   "source": [
    "## 선별포인트현황"
   ]
  },
  {
   "cell_type": "code",
   "execution_count": 580,
   "metadata": {},
   "outputs": [
    {
     "data": {
      "text/plain": [
       "Index(['차대번호', '차량번호', '법정동코드', '연식', '용도', '차종', '차종유형', '저감장치', '무부하매연측정치1',\n",
       "       '일일평균주행거리', '최근검사경과일', '운행제한건수', '우선순위', '선별포인트', '테이블생성일자', '시도',\n",
       "       '배출가스등급'],\n",
       "      dtype='object')"
      ]
     },
     "execution_count": 580,
     "metadata": {},
     "output_type": "execute_result"
    }
   ],
   "source": [
    "lem.columns"
   ]
  },
  {
   "cell_type": "code",
   "execution_count": 581,
   "metadata": {},
   "outputs": [
    {
     "data": {
      "text/plain": [
       "count   1824591.00\n",
       "mean        110.70\n",
       "std          65.45\n",
       "min          11.00\n",
       "25%          57.00\n",
       "50%         101.00\n",
       "75%         158.00\n",
       "max       25491.00\n",
       "Name: 선별포인트, dtype: float64"
      ]
     },
     "execution_count": 581,
     "metadata": {},
     "output_type": "execute_result"
    }
   ],
   "source": [
    "lem['선별포인트'].describe()"
   ]
  },
  {
   "cell_type": "code",
   "execution_count": 583,
   "metadata": {},
   "outputs": [
    {
     "data": {
      "text/plain": [
       "[0, 50, 100, 150, 200, 250, 300]"
      ]
     },
     "execution_count": 583,
     "metadata": {},
     "output_type": "execute_result"
    }
   ],
   "source": [
    "[x for x in range(0, 350, 50)]"
   ]
  },
  {
   "cell_type": "code",
   "execution_count": 584,
   "metadata": {},
   "outputs": [],
   "source": [
    "for n in range(0, 350, 50):\n",
    "    if n <= 300:\n",
    "        lem.loc[(lem['선별포인트'] >= n) & (lem['선별포인트'] < n + 50), '선별포인트구간'] = f'{n} ~ {n+49}'\n",
    "    else:\n",
    "        lem.loc[lem['선별포인트'] >= n, '선별포인트구간'] = f'{n}이상'"
   ]
  },
  {
   "cell_type": "code",
   "execution_count": 586,
   "metadata": {},
   "outputs": [
    {
     "data": {
      "text/html": [
       "<div>\n",
       "<style scoped>\n",
       "    .dataframe tbody tr th:only-of-type {\n",
       "        vertical-align: middle;\n",
       "    }\n",
       "\n",
       "    .dataframe tbody tr th {\n",
       "        vertical-align: top;\n",
       "    }\n",
       "\n",
       "    .dataframe thead th {\n",
       "        text-align: right;\n",
       "    }\n",
       "</style>\n",
       "<table border=\"1\" class=\"dataframe\">\n",
       "  <thead>\n",
       "    <tr style=\"text-align: right;\">\n",
       "      <th></th>\n",
       "      <th>차대번호</th>\n",
       "      <th>차량번호</th>\n",
       "      <th>법정동코드</th>\n",
       "      <th>연식</th>\n",
       "      <th>용도</th>\n",
       "      <th>차종</th>\n",
       "      <th>차종유형</th>\n",
       "      <th>저감장치</th>\n",
       "      <th>무부하매연측정치1</th>\n",
       "      <th>일일평균주행거리</th>\n",
       "      <th>최근검사경과일</th>\n",
       "      <th>운행제한건수</th>\n",
       "      <th>우선순위</th>\n",
       "      <th>선별포인트</th>\n",
       "      <th>테이블생성일자</th>\n",
       "      <th>시도</th>\n",
       "      <th>배출가스등급</th>\n",
       "      <th>선별포인트구간</th>\n",
       "    </tr>\n",
       "  </thead>\n",
       "  <tbody>\n",
       "    <tr>\n",
       "      <th>2287998</th>\n",
       "      <td>KMHSD81VP5U958338</td>\n",
       "      <td>53저8375</td>\n",
       "      <td>3023011500</td>\n",
       "      <td>2005</td>\n",
       "      <td>개인용</td>\n",
       "      <td>승용</td>\n",
       "      <td>중형</td>\n",
       "      <td>유</td>\n",
       "      <td>0.00</td>\n",
       "      <td>0.00</td>\n",
       "      <td>46.00</td>\n",
       "      <td>0.00</td>\n",
       "      <td>3</td>\n",
       "      <td>12.00</td>\n",
       "      <td>20232107</td>\n",
       "      <td>대전광역시</td>\n",
       "      <td>5</td>\n",
       "      <td>0 ~ 49</td>\n",
       "    </tr>\n",
       "    <tr>\n",
       "      <th>2287999</th>\n",
       "      <td>KNAJE55135K117199</td>\n",
       "      <td>02보5773</td>\n",
       "      <td>2820011000</td>\n",
       "      <td>2005</td>\n",
       "      <td>개인용</td>\n",
       "      <td>승용</td>\n",
       "      <td>중형</td>\n",
       "      <td>유</td>\n",
       "      <td>0.00</td>\n",
       "      <td>0.00</td>\n",
       "      <td>48.00</td>\n",
       "      <td>0.00</td>\n",
       "      <td>3</td>\n",
       "      <td>12.00</td>\n",
       "      <td>20232107</td>\n",
       "      <td>인천광역시</td>\n",
       "      <td>5</td>\n",
       "      <td>0 ~ 49</td>\n",
       "    </tr>\n",
       "    <tr>\n",
       "      <th>2288000</th>\n",
       "      <td>KNCSC0342RS742571</td>\n",
       "      <td>충북82다4659</td>\n",
       "      <td>4313040026</td>\n",
       "      <td>1994</td>\n",
       "      <td>개인용</td>\n",
       "      <td>화물</td>\n",
       "      <td>소형</td>\n",
       "      <td>NaN</td>\n",
       "      <td>0.00</td>\n",
       "      <td>0.00</td>\n",
       "      <td>48.00</td>\n",
       "      <td>0.00</td>\n",
       "      <td>3</td>\n",
       "      <td>12.00</td>\n",
       "      <td>20232107</td>\n",
       "      <td>충청북도</td>\n",
       "      <td>5</td>\n",
       "      <td>0 ~ 49</td>\n",
       "    </tr>\n",
       "    <tr>\n",
       "      <th>2288001</th>\n",
       "      <td>KNHMB76137S151938</td>\n",
       "      <td>72모5225</td>\n",
       "      <td>4413325622</td>\n",
       "      <td>2007</td>\n",
       "      <td>개인용</td>\n",
       "      <td>승합</td>\n",
       "      <td>중형</td>\n",
       "      <td>유</td>\n",
       "      <td>0.00</td>\n",
       "      <td>0.00</td>\n",
       "      <td>46.00</td>\n",
       "      <td>0.00</td>\n",
       "      <td>3</td>\n",
       "      <td>12.00</td>\n",
       "      <td>20232107</td>\n",
       "      <td>충청남도</td>\n",
       "      <td>5</td>\n",
       "      <td>0 ~ 49</td>\n",
       "    </tr>\n",
       "    <tr>\n",
       "      <th>2288002</th>\n",
       "      <td>KPPGD8GW4VA000127</td>\n",
       "      <td>99로3556</td>\n",
       "      <td>4683031000</td>\n",
       "      <td>1997</td>\n",
       "      <td>개인용</td>\n",
       "      <td>특수</td>\n",
       "      <td>중형</td>\n",
       "      <td>NaN</td>\n",
       "      <td>0.00</td>\n",
       "      <td>2.32</td>\n",
       "      <td>46.00</td>\n",
       "      <td>0.00</td>\n",
       "      <td>3</td>\n",
       "      <td>12.00</td>\n",
       "      <td>20232107</td>\n",
       "      <td>전라남도</td>\n",
       "      <td>5</td>\n",
       "      <td>0 ~ 49</td>\n",
       "    </tr>\n",
       "  </tbody>\n",
       "</table>\n",
       "</div>"
      ],
      "text/plain": [
       "                      차대번호       차량번호       법정동코드    연식   용도  차종 차종유형 저감장치   \n",
       "2287998  KMHSD81VP5U958338    53저8375  3023011500  2005  개인용  승용   중형    유  \\\n",
       "2287999  KNAJE55135K117199    02보5773  2820011000  2005  개인용  승용   중형    유   \n",
       "2288000  KNCSC0342RS742571  충북82다4659  4313040026  1994  개인용  화물   소형  NaN   \n",
       "2288001  KNHMB76137S151938    72모5225  4413325622  2007  개인용  승합   중형    유   \n",
       "2288002  KPPGD8GW4VA000127    99로3556  4683031000  1997  개인용  특수   중형  NaN   \n",
       "\n",
       "         무부하매연측정치1  일일평균주행거리  최근검사경과일  운행제한건수  우선순위  선별포인트   테이블생성일자     시도   \n",
       "2287998       0.00      0.00    46.00    0.00     3  12.00  20232107  대전광역시  \\\n",
       "2287999       0.00      0.00    48.00    0.00     3  12.00  20232107  인천광역시   \n",
       "2288000       0.00      0.00    48.00    0.00     3  12.00  20232107   충청북도   \n",
       "2288001       0.00      0.00    46.00    0.00     3  12.00  20232107   충청남도   \n",
       "2288002       0.00      2.32    46.00    0.00     3  12.00  20232107   전라남도   \n",
       "\n",
       "        배출가스등급 선별포인트구간  \n",
       "2287998      5  0 ~ 49  \n",
       "2287999      5  0 ~ 49  \n",
       "2288000      5  0 ~ 49  \n",
       "2288001      5  0 ~ 49  \n",
       "2288002      5  0 ~ 49  "
      ]
     },
     "execution_count": 586,
     "metadata": {},
     "output_type": "execute_result"
    }
   ],
   "source": [
    "lem.tail()"
   ]
  },
  {
   "cell_type": "code",
   "execution_count": 591,
   "metadata": {},
   "outputs": [
    {
     "data": {
      "text/html": [
       "<div>\n",
       "<style scoped>\n",
       "    .dataframe tbody tr th:only-of-type {\n",
       "        vertical-align: middle;\n",
       "    }\n",
       "\n",
       "    .dataframe tbody tr th {\n",
       "        vertical-align: top;\n",
       "    }\n",
       "\n",
       "    .dataframe thead th {\n",
       "        text-align: right;\n",
       "    }\n",
       "</style>\n",
       "<table border=\"1\" class=\"dataframe\">\n",
       "  <thead>\n",
       "    <tr style=\"text-align: right;\">\n",
       "      <th></th>\n",
       "      <th>배출가스등급</th>\n",
       "      <th>선별포인트구간</th>\n",
       "      <th>차종</th>\n",
       "      <th>차종유형</th>\n",
       "      <th>차량대수</th>\n",
       "      <th>매연측정값</th>\n",
       "      <th>일일평균주행거리</th>\n",
       "      <th>최근검사경과일</th>\n",
       "      <th>운행제한건수</th>\n",
       "    </tr>\n",
       "  </thead>\n",
       "  <tbody>\n",
       "    <tr>\n",
       "      <th>0</th>\n",
       "      <td>4</td>\n",
       "      <td>0 ~ 49</td>\n",
       "      <td>승용</td>\n",
       "      <td>대형</td>\n",
       "      <td>21089</td>\n",
       "      <td>7.70</td>\n",
       "      <td>40.57</td>\n",
       "      <td>98.40</td>\n",
       "      <td>0.00</td>\n",
       "    </tr>\n",
       "    <tr>\n",
       "      <th>1</th>\n",
       "      <td>4</td>\n",
       "      <td>0 ~ 49</td>\n",
       "      <td>승용</td>\n",
       "      <td>소형</td>\n",
       "      <td>1288</td>\n",
       "      <td>13.64</td>\n",
       "      <td>34.24</td>\n",
       "      <td>101.25</td>\n",
       "      <td>0.00</td>\n",
       "    </tr>\n",
       "    <tr>\n",
       "      <th>2</th>\n",
       "      <td>4</td>\n",
       "      <td>0 ~ 49</td>\n",
       "      <td>승용</td>\n",
       "      <td>중형</td>\n",
       "      <td>39631</td>\n",
       "      <td>3.82</td>\n",
       "      <td>33.98</td>\n",
       "      <td>104.15</td>\n",
       "      <td>0.00</td>\n",
       "    </tr>\n",
       "    <tr>\n",
       "      <th>3</th>\n",
       "      <td>4</td>\n",
       "      <td>0 ~ 49</td>\n",
       "      <td>승합</td>\n",
       "      <td>대형</td>\n",
       "      <td>638</td>\n",
       "      <td>3.00</td>\n",
       "      <td>42.22</td>\n",
       "      <td>101.47</td>\n",
       "      <td>0.00</td>\n",
       "    </tr>\n",
       "    <tr>\n",
       "      <th>4</th>\n",
       "      <td>4</td>\n",
       "      <td>0 ~ 49</td>\n",
       "      <td>승합</td>\n",
       "      <td>중형</td>\n",
       "      <td>37937</td>\n",
       "      <td>6.42</td>\n",
       "      <td>39.37</td>\n",
       "      <td>101.98</td>\n",
       "      <td>0.00</td>\n",
       "    </tr>\n",
       "    <tr>\n",
       "      <th>...</th>\n",
       "      <td>...</td>\n",
       "      <td>...</td>\n",
       "      <td>...</td>\n",
       "      <td>...</td>\n",
       "      <td>...</td>\n",
       "      <td>...</td>\n",
       "      <td>...</td>\n",
       "      <td>...</td>\n",
       "      <td>...</td>\n",
       "    </tr>\n",
       "    <tr>\n",
       "      <th>156</th>\n",
       "      <td>5</td>\n",
       "      <td>50 ~ 99</td>\n",
       "      <td>특수</td>\n",
       "      <td>소형</td>\n",
       "      <td>252</td>\n",
       "      <td>12.64</td>\n",
       "      <td>45.65</td>\n",
       "      <td>212.32</td>\n",
       "      <td>0.64</td>\n",
       "    </tr>\n",
       "    <tr>\n",
       "      <th>157</th>\n",
       "      <td>5</td>\n",
       "      <td>50 ~ 99</td>\n",
       "      <td>특수</td>\n",
       "      <td>중형</td>\n",
       "      <td>1398</td>\n",
       "      <td>13.13</td>\n",
       "      <td>29.32</td>\n",
       "      <td>229.55</td>\n",
       "      <td>1.13</td>\n",
       "    </tr>\n",
       "    <tr>\n",
       "      <th>158</th>\n",
       "      <td>5</td>\n",
       "      <td>50 ~ 99</td>\n",
       "      <td>화물</td>\n",
       "      <td>대형</td>\n",
       "      <td>21926</td>\n",
       "      <td>8.42</td>\n",
       "      <td>56.43</td>\n",
       "      <td>207.58</td>\n",
       "      <td>2.48</td>\n",
       "    </tr>\n",
       "    <tr>\n",
       "      <th>159</th>\n",
       "      <td>5</td>\n",
       "      <td>50 ~ 99</td>\n",
       "      <td>화물</td>\n",
       "      <td>소형</td>\n",
       "      <td>64507</td>\n",
       "      <td>13.71</td>\n",
       "      <td>30.81</td>\n",
       "      <td>241.71</td>\n",
       "      <td>0.50</td>\n",
       "    </tr>\n",
       "    <tr>\n",
       "      <th>160</th>\n",
       "      <td>5</td>\n",
       "      <td>50 ~ 99</td>\n",
       "      <td>화물</td>\n",
       "      <td>중형</td>\n",
       "      <td>53676</td>\n",
       "      <td>10.68</td>\n",
       "      <td>40.16</td>\n",
       "      <td>229.25</td>\n",
       "      <td>0.92</td>\n",
       "    </tr>\n",
       "  </tbody>\n",
       "</table>\n",
       "<p>161 rows × 9 columns</p>\n",
       "</div>"
      ],
      "text/plain": [
       "    배출가스등급  선별포인트구간  차종 차종유형   차량대수  매연측정값  일일평균주행거리  최근검사경과일  운행제한건수\n",
       "0        4   0 ~ 49  승용   대형  21089   7.70     40.57    98.40    0.00\n",
       "1        4   0 ~ 49  승용   소형   1288  13.64     34.24   101.25    0.00\n",
       "2        4   0 ~ 49  승용   중형  39631   3.82     33.98   104.15    0.00\n",
       "3        4   0 ~ 49  승합   대형    638   3.00     42.22   101.47    0.00\n",
       "4        4   0 ~ 49  승합   중형  37937   6.42     39.37   101.98    0.00\n",
       "..     ...      ...  ..  ...    ...    ...       ...      ...     ...\n",
       "156      5  50 ~ 99  특수   소형    252  12.64     45.65   212.32    0.64\n",
       "157      5  50 ~ 99  특수   중형   1398  13.13     29.32   229.55    1.13\n",
       "158      5  50 ~ 99  화물   대형  21926   8.42     56.43   207.58    2.48\n",
       "159      5  50 ~ 99  화물   소형  64507  13.71     30.81   241.71    0.50\n",
       "160      5  50 ~ 99  화물   중형  53676  10.68     40.16   229.25    0.92\n",
       "\n",
       "[161 rows x 9 columns]"
      ]
     },
     "execution_count": 591,
     "metadata": {},
     "output_type": "execute_result"
    }
   ],
   "source": [
    "stat = lem.groupby(['배출가스등급', '선별포인트구간', '차종', '차종유형']).agg({'차대번호':'count', '무부하매연측정치1':'mean', '일일평균주행거리':'mean', '최근검사경과일':'mean', '운행제한건수':'mean'}).reset_index()\n",
    "stat = stat.rename(columns={'차대번호':'차량대수', '무부하매연측정치1':'매연측정값'})\n",
    "stat"
   ]
  },
  {
   "cell_type": "code",
   "execution_count": 592,
   "metadata": {},
   "outputs": [],
   "source": [
    "stat['테이블생성일자'] = today_date"
   ]
  },
  {
   "cell_type": "code",
   "execution_count": 593,
   "metadata": {},
   "outputs": [
    {
     "data": {
      "text/plain": [
       "['배출가스등급',\n",
       " '선별포인트구간',\n",
       " '차종',\n",
       " '차종유형',\n",
       " '차량대수',\n",
       " '매연측정값',\n",
       " '일일평균주행거리',\n",
       " '최근검사경과일',\n",
       " '운행제한건수',\n",
       " '테이블생성일자']"
      ]
     },
     "execution_count": 593,
     "metadata": {},
     "output_type": "execute_result"
    }
   ],
   "source": [
    "stat.columns.to_list()"
   ]
  },
  {
   "cell_type": "code",
   "execution_count": 594,
   "metadata": {},
   "outputs": [
    {
     "data": {
      "text/plain": [
       "Index(['EXHST_GAS_GRD_CD', 'SELCT_PNT_RNG', 'VHCTY_CD', 'VHCTY_TY',\n",
       "       'VHCL_MKCNT', 'SMO_MSRMT_VAL', 'DY_AVRG_DRVNG_DSTNC',\n",
       "       'RCNT_INSP_ELPSD_WHL', 'RUN_LMT_NOCS', 'LOAD_DT'],\n",
       "      dtype='object')"
      ]
     },
     "execution_count": 594,
     "metadata": {},
     "output_type": "execute_result"
    }
   ],
   "source": [
    "cdict = {\n",
    "    '배출가스등급':'EXHST_GAS_GRD_CD',\n",
    "    '선별포인트구간':'SELCT_PNT_RNG',\n",
    "    '차종':'VHCTY_CD',\n",
    "    '차종유형':'VHCTY_TY',\n",
    "    '차량대수':'VHCL_MKCNT',\n",
    "    '매연측정값':'SMO_MSRMT_VAL',\n",
    "    '일일평균주행거리':'DY_AVRG_DRVNG_DSTNC',\n",
    "    '최근검사경과일':'RCNT_INSP_ELPSD_WHL',\n",
    "    '운행제한건수':'RUN_LMT_NOCS',\n",
    "    '테이블생성일자':'LOAD_DT', \n",
    "}\n",
    "STD_BD_DAT_SELCT_PNT_CURSTT = stat.rename(columns=cdict)\n",
    "STD_BD_DAT_SELCT_PNT_CURSTT.columns"
   ]
  },
  {
   "cell_type": "code",
   "execution_count": 595,
   "metadata": {},
   "outputs": [
    {
     "data": {
      "text/plain": [
       "['EXHST_GAS_GRD_CD',\n",
       " 'SELCT_PNT_RNG',\n",
       " 'VHCTY_CD',\n",
       " 'VHCTY_TY',\n",
       " 'VHCL_MKCNT',\n",
       " 'SMO_MSRMT_VAL',\n",
       " 'DY_AVRG_DRVNG_DSTNC',\n",
       " 'RCNT_INSP_ELPSD_WHL',\n",
       " 'RUN_LMT_NOCS',\n",
       " 'LOAD_DT']"
      ]
     },
     "execution_count": 595,
     "metadata": {},
     "output_type": "execute_result"
    }
   ],
   "source": [
    "STD_BD_DAT_SELCT_PNT_CURSTT.columns.to_list()"
   ]
  },
  {
   "cell_type": "markdown",
   "metadata": {},
   "source": [
    "## [출력] STD_BD_DAT_SELCT_PNT_CURSTT"
   ]
  },
  {
   "cell_type": "code",
   "execution_count": null,
   "metadata": {},
   "outputs": [],
   "source": [
    "# expdf = STD_BD_DAT_SELCT_PNT_CURSTT\n",
    "# table_nm = 'STD_BD_DAT_SELCT_PNT_CURSTT'.upper()\n",
    "\n",
    "# # 테이블 생성\n",
    "# sql = 'create or replace table ' + table_nm + '( \\n'\n",
    "\n",
    "# for idx,column in enumerate(expdf.columns):\n",
    "#     if 'float' in expdf[column].dtype.name:\n",
    "#         sql += column + ' float'\n",
    "#     elif 'int' in expdf[column].dtype.name:\n",
    "#         sql += column + ' number'\n",
    "#     else:\n",
    "#         sql += column + ' varchar(255)'\n",
    "\n",
    "#     if len(expdf.columns) - 1 != idx:\n",
    "#         sql += ','\n",
    "#     sql += '\\n'\n",
    "# sql += ')'    \n",
    "# we.execute(sql)\n",
    "\n",
    "# # 데이터 추가\n",
    "# # 5s\n",
    "# we.import_from_pandas(expdf, table_nm)"
   ]
  },
  {
   "cell_type": "code",
   "execution_count": 596,
   "metadata": {},
   "outputs": [],
   "source": [
    "# # 0s\n",
    "# STD_BD_DAT_SELCT_PNT_CURSTT.to_csv(os.path.join(df3_fold, 'STD_BD_DAT_SELCT_PNT_CURSTT.csv'), index=False)"
   ]
  },
  {
   "cell_type": "markdown",
   "metadata": {},
   "source": [
    "# code end"
   ]
  }
 ],
 "metadata": {
  "kernelspec": {
   "display_name": "Python 3 (ipykernel)",
   "language": "python",
   "name": "python3"
  },
  "language_info": {
   "codemirror_mode": {
    "name": "ipython",
    "version": 3
   },
   "file_extension": ".py",
   "mimetype": "text/x-python",
   "name": "python",
   "nbconvert_exporter": "python",
   "pygments_lexer": "ipython3",
   "version": "3.9.13"
  },
  "vscode": {
   "interpreter": {
    "hash": "ad2bdc8ecc057115af97d19610ffacc2b4e99fae6737bb82f5d7fb13d2f2c186"
   }
  }
 },
 "nbformat": 4,
 "nbformat_minor": 4
}
