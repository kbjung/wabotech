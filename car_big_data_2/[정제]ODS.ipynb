{
 "cells": [
  {
   "attachments": {},
   "cell_type": "markdown",
   "metadata": {},
   "source": [
    "# Library"
   ]
  },
  {
   "cell_type": "code",
   "execution_count": 1,
   "metadata": {},
   "outputs": [],
   "source": [
    "import pandas as pd\n",
    "import numpy as np\n",
    "from tqdm import tqdm\n",
    "import os, re"
   ]
  },
  {
   "attachments": {},
   "cell_type": "markdown",
   "metadata": {},
   "source": [
    "# fold path"
   ]
  },
  {
   "cell_type": "code",
   "execution_count": 4,
   "metadata": {},
   "outputs": [],
   "source": [
    "ods_fold = 'D:/data/big2/ODS'\n",
    "col_fold = 'C:/Users/kbjung/Documents/GitHub/wabotech/car_big_data_2/analysis/ODSvsSTD'"
   ]
  },
  {
   "attachments": {},
   "cell_type": "markdown",
   "metadata": {},
   "source": [
    "# 1\\. 등록정보(ODS_CEG_CAR_MIG)"
   ]
  },
  {
   "cell_type": "code",
   "execution_count": 10,
   "metadata": {},
   "outputs": [
    {
     "name": "stdout",
     "output_type": "stream",
     "text": [
      "<class 'pandas.core.frame.DataFrame'>\n",
      "Int64Index: 29534047 entries, 0 to 29534046\n",
      "Data columns (total 32 columns):\n",
      " #   Column             Dtype  \n",
      "---  ------             -----  \n",
      " 0   VHMNO              object \n",
      " 1   VHRNO              object \n",
      " 2   BSPL_LEDO_CD       int64  \n",
      " 3   OWNR_SE            object \n",
      " 4   VHCTY              object \n",
      " 5   PURPS              object \n",
      " 6   NOW_OWNR_NM        object \n",
      " 7   NOW_MBERNO         object \n",
      " 8   BSPL_ADRS          object \n",
      " 9   OWNR_ADRS          object \n",
      " 10  VIN                object \n",
      " 11  FST_REG_DE         int64  \n",
      " 12  VHCL_YRIDNW        int64  \n",
      " 13  VHCL_MNFCT_DE      object \n",
      " 14  EMIS_INSP_EFCT_DE  float64\n",
      " 15  SRCMNNO            object \n",
      " 16  EMIS_CRTCNO        object \n",
      " 17  EMIS_GRD           object \n",
      " 18  LEM_YN             object \n",
      " 19  LEM_KND            float64\n",
      " 20  LEM_STRCHG_YN      object \n",
      " 21  BSPL_ZIP           float64\n",
      " 22  VHRNO_NUM_INFO     int64  \n",
      " 23  VHCL_ERSR_YN       object \n",
      " 24  FST_OWNR_NM        object \n",
      " 25  FST_MBERNO         object \n",
      " 26  ACQS_DE            object \n",
      " 27  ACQS_AMT           float64\n",
      " 28  RMK                object \n",
      " 29  CRTN_DT            object \n",
      " 30  UPDT_DT            object \n",
      " 31  USER_ID            object \n",
      "dtypes: float64(4), int64(4), object(24)\n",
      "memory usage: 7.3+ GB\n"
     ]
    }
   ],
   "source": [
    "# about 9m 45s\n",
    "name = 'CEG_CAR_MIG'\n",
    "file_name = f'ODS_{name}.csv'\n",
    "df = pd.read_csv(os.path.join(ods_fold, file_name), low_memory=False, index_col=0)\n",
    "df.info()"
   ]
  },
  {
   "cell_type": "code",
   "execution_count": 11,
   "metadata": {},
   "outputs": [
    {
     "data": {
      "text/html": [
       "<div>\n",
       "<style scoped>\n",
       "    .dataframe tbody tr th:only-of-type {\n",
       "        vertical-align: middle;\n",
       "    }\n",
       "\n",
       "    .dataframe tbody tr th {\n",
       "        vertical-align: top;\n",
       "    }\n",
       "\n",
       "    .dataframe thead th {\n",
       "        text-align: right;\n",
       "    }\n",
       "</style>\n",
       "<table border=\"1\" class=\"dataframe\">\n",
       "  <thead>\n",
       "    <tr style=\"text-align: right;\">\n",
       "      <th></th>\n",
       "      <th>컬럼</th>\n",
       "      <th>내용</th>\n",
       "    </tr>\n",
       "  </thead>\n",
       "  <tbody>\n",
       "    <tr>\n",
       "      <th>0</th>\n",
       "      <td>UPDT_DT</td>\n",
       "      <td>수정일시</td>\n",
       "    </tr>\n",
       "    <tr>\n",
       "      <th>1</th>\n",
       "      <td>OWNR_SE</td>\n",
       "      <td>소유자구분</td>\n",
       "    </tr>\n",
       "    <tr>\n",
       "      <th>2</th>\n",
       "      <td>VHRNO</td>\n",
       "      <td>차량등록번호</td>\n",
       "    </tr>\n",
       "    <tr>\n",
       "      <th>3</th>\n",
       "      <td>BSPL_LEDO_CD</td>\n",
       "      <td>본거지법정동코드</td>\n",
       "    </tr>\n",
       "    <tr>\n",
       "      <th>4</th>\n",
       "      <td>CRTN_DT</td>\n",
       "      <td>생성일시</td>\n",
       "    </tr>\n",
       "  </tbody>\n",
       "</table>\n",
       "</div>"
      ],
      "text/plain": [
       "             컬럼        내용\n",
       "0       UPDT_DT      수정일시\n",
       "1       OWNR_SE     소유자구분\n",
       "2         VHRNO    차량등록번호\n",
       "3  BSPL_LEDO_CD  본거지법정동코드\n",
       "4       CRTN_DT      생성일시"
      ]
     },
     "execution_count": 11,
     "metadata": {},
     "output_type": "execute_result"
    }
   ],
   "source": [
    "file_name = f'[정제]{name}.xlsx'\n",
    "col_df = pd.read_excel(os.path.join(col_fold, file_name), sheet_name='ODS_col')\n",
    "col_df.head()"
   ]
  },
  {
   "cell_type": "code",
   "execution_count": 12,
   "metadata": {},
   "outputs": [
    {
     "data": {
      "text/plain": [
       "{'UPDT_DT': '수정일시',\n",
       " 'OWNR_SE': '소유자구분',\n",
       " 'VHRNO': '차량등록번호',\n",
       " 'BSPL_LEDO_CD': '본거지법정동코드',\n",
       " 'CRTN_DT': '생성일시',\n",
       " 'PURPS': '용도',\n",
       " 'EMIS_INSP_EFCT_DE': '배출가스검사유효일자',\n",
       " 'EMIS_CRTCNO': '배출가스인증번호',\n",
       " 'NOW_MBERNO': '현재회원번호',\n",
       " 'ACQS_DE': '취득일자',\n",
       " 'ACQS_AMT': '취득금액',\n",
       " 'FST_MBERNO': '최초회원번호',\n",
       " 'FST_REG_DE': '최초등록일자',\n",
       " 'VHCTY': '차종',\n",
       " 'VHRNO_NUM_INFO': '차량등록번호숫자정보',\n",
       " 'VHMNO': '차량관리번호',\n",
       " 'VHCL_MNFCT_DE': '차량제작일자',\n",
       " 'VHCL_YRIDNW': '차량연식',\n",
       " 'VHCL_ERSR_YN': '차량말소YN',\n",
       " 'VIN': '차대번호',\n",
       " 'SRCMNNO': '제원관리번호',\n",
       " 'EMIS_GRD': '배출가스등급',\n",
       " 'LEM_KND': '저공해조치종류',\n",
       " 'LEM_STRCHG_YN': '저공해조치구조변경YN',\n",
       " 'LEM_YN': '저공해조치YN(미사용)',\n",
       " 'NOW_OWNR_NM': '미정',\n",
       " 'BSPL_ADRS': '미정',\n",
       " 'OWNR_ADRS': '미정',\n",
       " 'BSPL_ZIP': '미정',\n",
       " 'FST_OWNR_NM': '미정',\n",
       " 'RMK': '미정',\n",
       " 'USER_ID': '미정'}"
      ]
     },
     "execution_count": 12,
     "metadata": {},
     "output_type": "execute_result"
    }
   ],
   "source": [
    "col_dict = {a:b for a,b in col_df[['컬럼', '내용']].values}\n",
    "col_dict"
   ]
  },
  {
   "cell_type": "code",
   "execution_count": 13,
   "metadata": {},
   "outputs": [
    {
     "data": {
      "text/plain": [
       "Index(['차량관리번호', '차량등록번호', '본거지법정동코드', '소유자구분', '차종', '용도', '미정', '현재회원번호',\n",
       "       '미정', '미정', '차대번호', '최초등록일자', '차량연식', '차량제작일자', '배출가스검사유효일자', '제원관리번호',\n",
       "       '배출가스인증번호', '배출가스등급', '저공해조치YN(미사용)', '저공해조치종류', '저공해조치구조변경YN', '미정',\n",
       "       '차량등록번호숫자정보', '차량말소YN', '미정', '최초회원번호', '취득일자', '취득금액', '미정', '생성일시',\n",
       "       '수정일시', '미정'],\n",
       "      dtype='object')"
      ]
     },
     "execution_count": 13,
     "metadata": {},
     "output_type": "execute_result"
    }
   ],
   "source": [
    "df.columns = [col_dict[x] for x in df.columns]\n",
    "df.columns"
   ]
  },
  {
   "attachments": {},
   "cell_type": "markdown",
   "metadata": {},
   "source": [
    "## 차량등록번호"
   ]
  },
  {
   "cell_type": "code",
   "execution_count": 18,
   "metadata": {},
   "outputs": [
    {
     "data": {
      "text/plain": [
       "(29534047, 32)"
      ]
     },
     "execution_count": 18,
     "metadata": {},
     "output_type": "execute_result"
    }
   ],
   "source": [
    "df.shape"
   ]
  },
  {
   "cell_type": "code",
   "execution_count": 14,
   "metadata": {},
   "outputs": [
    {
     "data": {
      "text/plain": [
       "0"
      ]
     },
     "execution_count": 14,
     "metadata": {},
     "output_type": "execute_result"
    }
   ],
   "source": [
    "# 결측치 확인\n",
    "df['차량등록번호'].isnull().sum()"
   ]
  },
  {
   "cell_type": "code",
   "execution_count": 19,
   "metadata": {},
   "outputs": [
    {
     "name": "stderr",
     "output_type": "stream",
     "text": [
      "100%|██████████| 29534047/29534047 [00:36<00:00, 806311.78it/s]\n"
     ]
    },
    {
     "data": {
      "text/plain": [
       "1"
      ]
     },
     "execution_count": 19,
     "metadata": {},
     "output_type": "execute_result"
    }
   ],
   "source": [
    "p1 = re.compile('[가-힣]{2}[0-9]{1,2}[가-힣]{1}[0-9]{4}')\n",
    "p2 = re.compile('[0-9]{2}[가-힣]{1}[0-9]{4}')\n",
    "wrong_vhrno_list = []\n",
    "for one in tqdm(df['차량등록번호']):\n",
    "    if not p1.search(str(one)) and not p2.search(str(one)):\n",
    "        wrong_vhrno_list.append(one)\n",
    "len(wrong_vhrno_list)"
   ]
  },
  {
   "cell_type": "code",
   "execution_count": 20,
   "metadata": {},
   "outputs": [
    {
     "data": {
      "text/plain": [
       "['서울703**575']"
      ]
     },
     "execution_count": 20,
     "metadata": {},
     "output_type": "execute_result"
    }
   ],
   "source": [
    "wrong_vhrno_list"
   ]
  },
  {
   "attachments": {},
   "cell_type": "markdown",
   "metadata": {},
   "source": [
    "## 본거지 법정동 코드"
   ]
  },
  {
   "cell_type": "code",
   "execution_count": 21,
   "metadata": {},
   "outputs": [
    {
     "data": {
      "text/plain": [
       "0"
      ]
     },
     "execution_count": 21,
     "metadata": {},
     "output_type": "execute_result"
    }
   ],
   "source": [
    "df['본거지법정동코드'].isnull().sum()"
   ]
  },
  {
   "cell_type": "code",
   "execution_count": 23,
   "metadata": {},
   "outputs": [
    {
     "name": "stderr",
     "output_type": "stream",
     "text": [
      "100%|██████████| 29534047/29534047 [00:18<00:00, 1594328.87it/s]\n"
     ]
    },
    {
     "data": {
      "text/plain": [
       "0"
      ]
     },
     "execution_count": 23,
     "metadata": {},
     "output_type": "execute_result"
    }
   ],
   "source": [
    "wrong_localcode_list = []\n",
    "for one in tqdm(df['본거지법정동코드']):\n",
    "    if len(str(one)) != 10:\n",
    "        wrong_localcode_list.append(one)\n",
    "len(wrong_localcode_list)"
   ]
  },
  {
   "cell_type": "code",
   "execution_count": 24,
   "metadata": {},
   "outputs": [
    {
     "name": "stderr",
     "output_type": "stream",
     "text": [
      "100%|██████████| 29534047/29534047 [00:27<00:00, 1061012.15it/s]\n"
     ]
    },
    {
     "data": {
      "text/plain": [
       "0"
      ]
     },
     "execution_count": 24,
     "metadata": {},
     "output_type": "execute_result"
    }
   ],
   "source": [
    "p = re.compile('[0-9]{10}')\n",
    "wrong_localcode_list = []\n",
    "for one in tqdm(df['본거지법정동코드']):\n",
    "    if not p.search(str(one)):\n",
    "        wrong_localcode_list.append(one)\n",
    "len(wrong_localcode_list)"
   ]
  },
  {
   "attachments": {},
   "cell_type": "markdown",
   "metadata": {},
   "source": [
    "## 배출가스검사유효일자"
   ]
  },
  {
   "cell_type": "code",
   "execution_count": 25,
   "metadata": {},
   "outputs": [
    {
     "data": {
      "text/plain": [
       "0    19850225.0\n",
       "1    19760706.0\n",
       "2           NaN\n",
       "3    20191220.0\n",
       "4    19930227.0\n",
       "Name: 배출가스검사유효일자, dtype: float64"
      ]
     },
     "execution_count": 25,
     "metadata": {},
     "output_type": "execute_result"
    }
   ],
   "source": [
    "df['배출가스검사유효일자'].head()"
   ]
  },
  {
   "cell_type": "code",
   "execution_count": 26,
   "metadata": {},
   "outputs": [
    {
     "data": {
      "text/plain": [
       "635"
      ]
     },
     "execution_count": 26,
     "metadata": {},
     "output_type": "execute_result"
    }
   ],
   "source": [
    "df['배출가스검사유효일자'].isnull().sum()"
   ]
  },
  {
   "cell_type": "code",
   "execution_count": 27,
   "metadata": {},
   "outputs": [
    {
     "data": {
      "text/plain": [
       "635"
      ]
     },
     "execution_count": 27,
     "metadata": {},
     "output_type": "execute_result"
    }
   ],
   "source": [
    "null_idx = df[df['배출가스검사유효일자'].isnull() == True].index\n",
    "len(null_idx)"
   ]
  },
  {
   "cell_type": "code",
   "execution_count": 30,
   "metadata": {},
   "outputs": [
    {
     "name": "stderr",
     "output_type": "stream",
     "text": [
      "29534047it [00:35, 831502.03it/s]\n"
     ]
    },
    {
     "data": {
      "text/plain": [
       "637"
      ]
     },
     "execution_count": 30,
     "metadata": {},
     "output_type": "execute_result"
    }
   ],
   "source": [
    "p = re.compile('[0-9]{8}[.][0]')\n",
    "wrong_gascheckdate_idx = []\n",
    "for i, one in tqdm(enumerate(df['배출가스검사유효일자'].to_list())):\n",
    "    if not p.search(str(one)):\n",
    "        wrong_gascheckdate_idx.append(i)\n",
    "len(wrong_gascheckdate_idx)"
   ]
  },
  {
   "cell_type": "code",
   "execution_count": 31,
   "metadata": {},
   "outputs": [
    {
     "data": {
      "text/plain": [
       "{4124, 15938}"
      ]
     },
     "execution_count": 31,
     "metadata": {},
     "output_type": "execute_result"
    }
   ],
   "source": [
    "set(wrong_gascheckdate_idx) - set(null_idx)"
   ]
  },
  {
   "cell_type": "code",
   "execution_count": 33,
   "metadata": {},
   "outputs": [
    {
     "data": {
      "text/plain": [
       "15938    1990604.0\n",
       "4124     1990118.0\n",
       "Name: 배출가스검사유효일자, dtype: float64"
      ]
     },
     "execution_count": 33,
     "metadata": {},
     "output_type": "execute_result"
    }
   ],
   "source": [
    "df.loc[list(set(wrong_gascheckdate_idx) - set(null_idx)), '배출가스검사유효일자']"
   ]
  },
  {
   "cell_type": "code",
   "execution_count": 34,
   "metadata": {},
   "outputs": [
    {
     "data": {
      "text/html": [
       "<div>\n",
       "<style scoped>\n",
       "    .dataframe tbody tr th:only-of-type {\n",
       "        vertical-align: middle;\n",
       "    }\n",
       "\n",
       "    .dataframe tbody tr th {\n",
       "        vertical-align: top;\n",
       "    }\n",
       "\n",
       "    .dataframe thead th {\n",
       "        text-align: right;\n",
       "    }\n",
       "</style>\n",
       "<table border=\"1\" class=\"dataframe\">\n",
       "  <thead>\n",
       "    <tr style=\"text-align: right;\">\n",
       "      <th></th>\n",
       "      <th>배출가스검사유효일자</th>\n",
       "      <th>차량연식</th>\n",
       "      <th>배출가스인증번호</th>\n",
       "    </tr>\n",
       "  </thead>\n",
       "  <tbody>\n",
       "    <tr>\n",
       "      <th>15938</th>\n",
       "      <td>1990604.0</td>\n",
       "      <td>1983</td>\n",
       "      <td>NaN</td>\n",
       "    </tr>\n",
       "    <tr>\n",
       "      <th>4124</th>\n",
       "      <td>1990118.0</td>\n",
       "      <td>1979</td>\n",
       "      <td>NaN</td>\n",
       "    </tr>\n",
       "  </tbody>\n",
       "</table>\n",
       "</div>"
      ],
      "text/plain": [
       "       배출가스검사유효일자  차량연식 배출가스인증번호\n",
       "15938   1990604.0  1983      NaN\n",
       "4124    1990118.0  1979      NaN"
      ]
     },
     "execution_count": 34,
     "metadata": {},
     "output_type": "execute_result"
    }
   ],
   "source": [
    "df.loc[list(set(wrong_gascheckdate_idx) - set(null_idx)), ['배출가스검사유효일자', '차량연식', '배출가스인증번호']]"
   ]
  },
  {
   "cell_type": "code",
   "execution_count": 36,
   "metadata": {},
   "outputs": [
    {
     "data": {
      "text/html": [
       "<div>\n",
       "<style scoped>\n",
       "    .dataframe tbody tr th:only-of-type {\n",
       "        vertical-align: middle;\n",
       "    }\n",
       "\n",
       "    .dataframe tbody tr th {\n",
       "        vertical-align: top;\n",
       "    }\n",
       "\n",
       "    .dataframe thead th {\n",
       "        text-align: right;\n",
       "    }\n",
       "</style>\n",
       "<table border=\"1\" class=\"dataframe\">\n",
       "  <thead>\n",
       "    <tr style=\"text-align: right;\">\n",
       "      <th></th>\n",
       "      <th>차대번호</th>\n",
       "      <th>배출가스검사유효일자</th>\n",
       "      <th>차량연식</th>\n",
       "      <th>배출가스인증번호</th>\n",
       "    </tr>\n",
       "  </thead>\n",
       "  <tbody>\n",
       "    <tr>\n",
       "      <th>2</th>\n",
       "      <td>10762211783</td>\n",
       "      <td>NaN</td>\n",
       "      <td>1976</td>\n",
       "      <td>NaN</td>\n",
       "    </tr>\n",
       "    <tr>\n",
       "      <th>8</th>\n",
       "      <td>10762211682</td>\n",
       "      <td>NaN</td>\n",
       "      <td>1976</td>\n",
       "      <td>NaN</td>\n",
       "    </tr>\n",
       "    <tr>\n",
       "      <th>10</th>\n",
       "      <td>10762212246</td>\n",
       "      <td>NaN</td>\n",
       "      <td>1976</td>\n",
       "      <td>NaN</td>\n",
       "    </tr>\n",
       "    <tr>\n",
       "      <th>47</th>\n",
       "      <td>10762213150</td>\n",
       "      <td>NaN</td>\n",
       "      <td>1976</td>\n",
       "      <td>NaN</td>\n",
       "    </tr>\n",
       "    <tr>\n",
       "      <th>52</th>\n",
       "      <td>03761307405</td>\n",
       "      <td>NaN</td>\n",
       "      <td>1976</td>\n",
       "      <td>NaN</td>\n",
       "    </tr>\n",
       "    <tr>\n",
       "      <th>...</th>\n",
       "      <td>...</td>\n",
       "      <td>...</td>\n",
       "      <td>...</td>\n",
       "      <td>...</td>\n",
       "    </tr>\n",
       "    <tr>\n",
       "      <th>8087297</th>\n",
       "      <td>KNAKU815BAA058010</td>\n",
       "      <td>NaN</td>\n",
       "      <td>2010</td>\n",
       "      <td>9MY-KM-14-22</td>\n",
       "    </tr>\n",
       "    <tr>\n",
       "      <th>8251095</th>\n",
       "      <td>KMFZCY7JAAU616346</td>\n",
       "      <td>NaN</td>\n",
       "      <td>2010</td>\n",
       "      <td>7MY-HD-14-68</td>\n",
       "    </tr>\n",
       "    <tr>\n",
       "      <th>20922089</th>\n",
       "      <td>KMHK4815GJU081024</td>\n",
       "      <td>NaN</td>\n",
       "      <td>2018</td>\n",
       "      <td>HMY-HD-14-31</td>\n",
       "    </tr>\n",
       "    <tr>\n",
       "      <th>26101534</th>\n",
       "      <td>KNANE81BBMS034872</td>\n",
       "      <td>NaN</td>\n",
       "      <td>2021</td>\n",
       "      <td>JMY-KM-14-29</td>\n",
       "    </tr>\n",
       "    <tr>\n",
       "      <th>28249951</th>\n",
       "      <td>KPADM4AE1NP167376</td>\n",
       "      <td>NaN</td>\n",
       "      <td>2022</td>\n",
       "      <td>NaN</td>\n",
       "    </tr>\n",
       "  </tbody>\n",
       "</table>\n",
       "<p>635 rows × 4 columns</p>\n",
       "</div>"
      ],
      "text/plain": [
       "                       차대번호  배출가스검사유효일자  차량연식      배출가스인증번호\n",
       "2               10762211783         NaN  1976           NaN\n",
       "8               10762211682         NaN  1976           NaN\n",
       "10              10762212246         NaN  1976           NaN\n",
       "47              10762213150         NaN  1976           NaN\n",
       "52              03761307405         NaN  1976           NaN\n",
       "...                     ...         ...   ...           ...\n",
       "8087297   KNAKU815BAA058010         NaN  2010  9MY-KM-14-22\n",
       "8251095   KMFZCY7JAAU616346         NaN  2010  7MY-HD-14-68\n",
       "20922089  KMHK4815GJU081024         NaN  2018  HMY-HD-14-31\n",
       "26101534  KNANE81BBMS034872         NaN  2021  JMY-KM-14-29\n",
       "28249951  KPADM4AE1NP167376         NaN  2022           NaN\n",
       "\n",
       "[635 rows x 4 columns]"
      ]
     },
     "execution_count": 36,
     "metadata": {},
     "output_type": "execute_result"
    }
   ],
   "source": [
    "df.loc[null_idx, ['차대번호', '배출가스검사유효일자', '차량연식', '배출가스인증번호']]"
   ]
  },
  {
   "cell_type": "code",
   "execution_count": 45,
   "metadata": {},
   "outputs": [
    {
     "data": {
      "text/plain": [
       "17"
      ]
     },
     "execution_count": 45,
     "metadata": {},
     "output_type": "execute_result"
    }
   ],
   "source": [
    "len('KMHK4815GJU081024')"
   ]
  },
  {
   "cell_type": "code",
   "execution_count": 47,
   "metadata": {},
   "outputs": [
    {
     "data": {
      "text/plain": [
       "차대번호            0\n",
       "배출가스검사유효일자    635\n",
       "차량연식            0\n",
       "배출가스인증번호      540\n",
       "dtype: int64"
      ]
     },
     "execution_count": 47,
     "metadata": {},
     "output_type": "execute_result"
    }
   ],
   "source": [
    "df.loc[null_idx, ['차대번호', '배출가스검사유효일자', '차량연식', '배출가스인증번호']].isnull().sum()"
   ]
  },
  {
   "attachments": {},
   "cell_type": "markdown",
   "metadata": {},
   "source": [
    "# 정기검사"
   ]
  },
  {
   "cell_type": "code",
   "execution_count": 39,
   "metadata": {},
   "outputs": [
    {
     "name": "stdout",
     "output_type": "stream",
     "text": [
      "<class 'pandas.core.frame.DataFrame'>\n",
      "RangeIndex: 22006426 entries, 0 to 22006425\n",
      "Data columns (total 39 columns):\n",
      " #   Column     Dtype  \n",
      "---  ------     -----  \n",
      " 0   사용연료       object \n",
      " 1   주행거리       object \n",
      " 2   차명         object \n",
      " 3   차량번호       object \n",
      " 4   차대번호       object \n",
      " 5   차종         object \n",
      " 6   차량연식       int64  \n",
      " 7   엔진형식       object \n",
      " 8   검사방법       object \n",
      " 9   검사일자       int64  \n",
      " 10  검사종류       object \n",
      " 11  검사판정시각     object \n",
      " 12  검사판정       object \n",
      " 13  산소값        float64\n",
      " 14  이산화탄소값     float64\n",
      " 15  무부하매연판정1   object \n",
      " 16  무부하매연판정2   object \n",
      " 17  무부하매연판정3   object \n",
      " 18  무부하매연판정4   object \n",
      " 19  무부하매연판정5   object \n",
      " 20  무부하매연판정6   object \n",
      " 21  무부하매연허용치1  float64\n",
      " 22  무부하매연허용치2  float64\n",
      " 23  무부하매연허용치3  float64\n",
      " 24  무부하매연허용치4  float64\n",
      " 25  무부하매연허용치5  float64\n",
      " 26  무부하매연허용치6  float64\n",
      " 27  무부하매연측정치1  float64\n",
      " 28  무부하매연측정치2  float64\n",
      " 29  무부하매연측정치3  float64\n",
      " 30  무부하매연측정치4  float64\n",
      " 31  무부하매연측정치5  float64\n",
      " 32  무부하매연측정치6  float64\n",
      " 33  차량용도       object \n",
      " 34  최대출력허용치    float64\n",
      " 35  최대출력측정값    float64\n",
      " 36  검사접수번호     object \n",
      " 37  검사소명       object \n",
      " 38  재검사기간      object \n",
      "dtypes: float64(16), int64(2), object(21)\n",
      "memory usage: 6.4+ GB\n"
     ]
    }
   ],
   "source": [
    "# about 3m 34s\n",
    "file_name = '[ODS]정기검사(2022.12.28).csv'\n",
    "ins = pd.read_csv(os.path.join(ods_fold, file_name), low_memory=False)\n",
    "ins.info()"
   ]
  },
  {
   "cell_type": "code",
   "execution_count": 41,
   "metadata": {},
   "outputs": [
    {
     "data": {
      "text/plain": [
       "0    20190102\n",
       "1    20190102\n",
       "2    20190102\n",
       "3    20190102\n",
       "4    20190102\n",
       "Name: 검사일자, dtype: int64"
      ]
     },
     "execution_count": 41,
     "metadata": {},
     "output_type": "execute_result"
    }
   ],
   "source": [
    "ins['검사일자'].head()"
   ]
  },
  {
   "cell_type": "code",
   "execution_count": 46,
   "metadata": {},
   "outputs": [
    {
     "data": {
      "text/plain": [
       "18083379    20220124\n",
       "Name: 검사일자, dtype: int64"
      ]
     },
     "execution_count": 46,
     "metadata": {},
     "output_type": "execute_result"
    }
   ],
   "source": [
    "ins.loc[ins['차대번호'] == 'KMHK4815GJU081024', '검사일자']"
   ]
  },
  {
   "attachments": {},
   "cell_type": "markdown",
   "metadata": {},
   "source": [
    "## 배출가스 인증번호"
   ]
  },
  {
   "cell_type": "code",
   "execution_count": 48,
   "metadata": {},
   "outputs": [
    {
     "data": {
      "text/plain": [
       "3414724"
      ]
     },
     "execution_count": 48,
     "metadata": {},
     "output_type": "execute_result"
    }
   ],
   "source": [
    "df['배출가스인증번호'].isnull().sum()"
   ]
  },
  {
   "attachments": {},
   "cell_type": "markdown",
   "metadata": {},
   "source": [
    "## 차종"
   ]
  },
  {
   "attachments": {},
   "cell_type": "markdown",
   "metadata": {},
   "source": [
    "### 등록&제원정보"
   ]
  },
  {
   "cell_type": "code",
   "execution_count": 59,
   "metadata": {},
   "outputs": [
    {
     "data": {
      "text/plain": [
       "(29534047, 49)"
      ]
     },
     "execution_count": 59,
     "metadata": {},
     "output_type": "execute_result"
    }
   ],
   "source": [
    "# about 9m 24s\n",
    "file_name = '[ODS]등록정보&제원정보(2022.12.28).csv'\n",
    "df = pd.read_csv(os.path.join(ods_fold, file_name), encoding='cp949', low_memory=False)\n",
    "df.shape"
   ]
  },
  {
   "cell_type": "code",
   "execution_count": 60,
   "metadata": {},
   "outputs": [
    {
     "data": {
      "text/html": [
       "<div>\n",
       "<style scoped>\n",
       "    .dataframe tbody tr th:only-of-type {\n",
       "        vertical-align: middle;\n",
       "    }\n",
       "\n",
       "    .dataframe tbody tr th {\n",
       "        vertical-align: top;\n",
       "    }\n",
       "\n",
       "    .dataframe thead th {\n",
       "        text-align: right;\n",
       "    }\n",
       "</style>\n",
       "<table border=\"1\" class=\"dataframe\">\n",
       "  <thead>\n",
       "    <tr style=\"text-align: right;\">\n",
       "      <th></th>\n",
       "      <th>차대번호</th>\n",
       "      <th>배출가스인증번호</th>\n",
       "      <th>자동차형식</th>\n",
       "      <th>엔진형식</th>\n",
       "      <th>차명</th>\n",
       "    </tr>\n",
       "  </thead>\n",
       "  <tbody>\n",
       "    <tr>\n",
       "      <th>0</th>\n",
       "      <td>10762211742</td>\n",
       "      <td>NaN</td>\n",
       "      <td>EP-01C</td>\n",
       "      <td>GTS</td>\n",
       "      <td>포니</td>\n",
       "    </tr>\n",
       "    <tr>\n",
       "      <th>1</th>\n",
       "      <td>KG68T122688*</td>\n",
       "      <td>NaN</td>\n",
       "      <td>UP26LV</td>\n",
       "      <td>NaN</td>\n",
       "      <td>퍼브리카</td>\n",
       "    </tr>\n",
       "    <tr>\n",
       "      <th>2</th>\n",
       "      <td>10762211783</td>\n",
       "      <td>NaN</td>\n",
       "      <td>EP-01C</td>\n",
       "      <td>GTS</td>\n",
       "      <td>포니</td>\n",
       "    </tr>\n",
       "    <tr>\n",
       "      <th>3</th>\n",
       "      <td>PN71C018511000000</td>\n",
       "      <td>NaN</td>\n",
       "      <td>NaN</td>\n",
       "      <td>10781152968</td>\n",
       "      <td>JAM담프</td>\n",
       "    </tr>\n",
       "    <tr>\n",
       "      <th>4</th>\n",
       "      <td>KMHLA11FPGU060639</td>\n",
       "      <td>NaN</td>\n",
       "      <td>FX-2</td>\n",
       "      <td>G4AGG 220982</td>\n",
       "      <td>포니엑셀</td>\n",
       "    </tr>\n",
       "  </tbody>\n",
       "</table>\n",
       "</div>"
      ],
      "text/plain": [
       "                차대번호 배출가스인증번호   자동차형식          엔진형식     차명\n",
       "0        10762211742      NaN  EP-01C           GTS     포니\n",
       "1       KG68T122688*      NaN  UP26LV           NaN   퍼브리카\n",
       "2        10762211783      NaN  EP-01C           GTS     포니\n",
       "3  PN71C018511000000      NaN     NaN   10781152968  JAM담프\n",
       "4  KMHLA11FPGU060639      NaN    FX-2  G4AGG 220982   포니엑셀"
      ]
     },
     "execution_count": 60,
     "metadata": {},
     "output_type": "execute_result"
    }
   ],
   "source": [
    "df.loc[df['배출가스인증번호'].isnull() == True, ['차대번호', '배출가스인증번호', '자동차형식', '엔진형식', '차명']].head()"
   ]
  },
  {
   "cell_type": "code",
   "execution_count": 63,
   "metadata": {},
   "outputs": [
    {
     "data": {
      "text/plain": [
       "LMY-HD-08    32\n",
       "KMY-HD-02     3\n",
       "KMY-HD-04     1\n",
       "Name: 배출가스인증번호, dtype: int64"
      ]
     },
     "execution_count": 63,
     "metadata": {},
     "output_type": "execute_result"
    }
   ],
   "source": [
    "df.loc[df['자동차형식'] == 'FX-2', '배출가스인증번호'].value_counts()"
   ]
  },
  {
   "attachments": {},
   "cell_type": "markdown",
   "metadata": {},
   "source": [
    "## 차량 제작 일자"
   ]
  },
  {
   "cell_type": "code",
   "execution_count": null,
   "metadata": {},
   "outputs": [],
   "source": []
  },
  {
   "attachments": {},
   "cell_type": "markdown",
   "metadata": {},
   "source": [
    "## 차량 연식"
   ]
  },
  {
   "cell_type": "code",
   "execution_count": null,
   "metadata": {},
   "outputs": [],
   "source": []
  },
  {
   "attachments": {},
   "cell_type": "markdown",
   "metadata": {},
   "source": [
    "## 차량 말소 YN"
   ]
  },
  {
   "cell_type": "code",
   "execution_count": null,
   "metadata": {},
   "outputs": [],
   "source": []
  },
  {
   "attachments": {},
   "cell_type": "markdown",
   "metadata": {},
   "source": [
    "## 차대번호"
   ]
  },
  {
   "cell_type": "code",
   "execution_count": null,
   "metadata": {},
   "outputs": [],
   "source": []
  },
  {
   "attachments": {},
   "cell_type": "markdown",
   "metadata": {},
   "source": [
    "## 제원관리번호"
   ]
  },
  {
   "cell_type": "code",
   "execution_count": null,
   "metadata": {},
   "outputs": [],
   "source": []
  },
  {
   "attachments": {},
   "cell_type": "markdown",
   "metadata": {},
   "source": [
    "## 배출가스 등급"
   ]
  },
  {
   "cell_type": "code",
   "execution_count": null,
   "metadata": {},
   "outputs": [],
   "source": []
  }
 ],
 "metadata": {
  "kernelspec": {
   "display_name": "base",
   "language": "python",
   "name": "python3"
  },
  "language_info": {
   "codemirror_mode": {
    "name": "ipython",
    "version": 3
   },
   "file_extension": ".py",
   "mimetype": "text/x-python",
   "name": "python",
   "nbconvert_exporter": "python",
   "pygments_lexer": "ipython3",
   "version": "3.9.13"
  },
  "orig_nbformat": 4,
  "vscode": {
   "interpreter": {
    "hash": "ad2bdc8ecc057115af97d19610ffacc2b4e99fae6737bb82f5d7fb13d2f2c186"
   }
  }
 },
 "nbformat": 4,
 "nbformat_minor": 2
}
