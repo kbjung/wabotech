{
 "cells": [
  {
   "attachments": {},
   "cell_type": "markdown",
   "metadata": {},
   "source": [
    "# Library"
   ]
  },
  {
   "cell_type": "code",
   "execution_count": 1,
   "metadata": {},
   "outputs": [],
   "source": [
    "import pandas as pd\n",
    "import numpy as np\n",
    "import os"
   ]
  },
  {
   "cell_type": "code",
   "execution_count": 2,
   "metadata": {},
   "outputs": [],
   "source": [
    "ods_fold = 'D:\\과업\\[한국환경공단]자동차_환경_빅데이터_구축_2차\\data\\ODS'"
   ]
  },
  {
   "attachments": {},
   "cell_type": "markdown",
   "metadata": {},
   "source": [
    "# [ODS] 자동차 등록정보(중복차대제거)"
   ]
  },
  {
   "cell_type": "code",
   "execution_count": 6,
   "metadata": {},
   "outputs": [
    {
     "name": "stdout",
     "output_type": "stream",
     "text": [
      "<class 'pandas.core.frame.DataFrame'>\n",
      "RangeIndex: 29521505 entries, 0 to 29521504\n",
      "Data columns (total 32 columns):\n",
      " #   Column         Dtype  \n",
      "---  ------         -----  \n",
      " 0   차량관리번호         object \n",
      " 1   차량등록번호         object \n",
      " 2   본거지 법정동 코드     int64  \n",
      " 3   소유자 구분         object \n",
      " 4   차종             object \n",
      " 5   용도             object \n",
      " 6   미정             object \n",
      " 7   현재 회원번호        object \n",
      " 8   미정.1           object \n",
      " 9   미정.2           object \n",
      " 10  차대번호           object \n",
      " 11  최초 등록 일자       int64  \n",
      " 12  차량 연식          int64  \n",
      " 13  차량 제작 일자       float64\n",
      " 14  배출가스검사유효일자     float64\n",
      " 15  제원관리번호         object \n",
      " 16  배출가스 인증번호      object \n",
      " 17  배출가스 등급        object \n",
      " 18  저공해조치 YN(미사용)  object \n",
      " 19  저공해조치 종류       float64\n",
      " 20  저공해조치 구조변경 YN  object \n",
      " 21  미정.3           float64\n",
      " 22  차량등록번호 숫자 정보   int64  \n",
      " 23  차량 말소 YN       object \n",
      " 24  미정.4           object \n",
      " 25  최초 회원번호        object \n",
      " 26  취득 일자          object \n",
      " 27  취득 금액          float64\n",
      " 28  미정.5           object \n",
      " 29  생성 일시          object \n",
      " 30  수정 일시          object \n",
      " 31  미정.6           object \n",
      "dtypes: float64(5), int64(4), object(23)\n",
      "memory usage: 7.0+ GB\n"
     ]
    }
   ],
   "source": [
    "# about 9m 30s\n",
    "file_name = '[ODS]자동차_등록정보(중복차대제거)(한글컬럼)(2022.12.29).csv'\n",
    "ods_path = os.path.join(ods_fold, file_name)\n",
    "df1 = pd.read_csv(ods_path, low_memory=False)\n",
    "df1.info()"
   ]
  },
  {
   "cell_type": "code",
   "execution_count": 7,
   "metadata": {},
   "outputs": [
    {
     "data": {
      "text/plain": [
       "Index(['차량관리번호', '차량등록번호', '본거지 법정동 코드', '소유자 구분', '차종', '용도', '미정', '현재 회원번호',\n",
       "       '미정.1', '미정.2', '차대번호', '최초 등록 일자', '차량 연식', '차량 제작 일자', '배출가스검사유효일자',\n",
       "       '제원관리번호', '배출가스 인증번호', '배출가스 등급', '저공해조치 YN(미사용)', '저공해조치 종류',\n",
       "       '저공해조치 구조변경 YN', '미정.3', '차량등록번호 숫자 정보', '차량 말소 YN', '미정.4', '최초 회원번호',\n",
       "       '취득 일자', '취득 금액', '미정.5', '생성 일시', '수정 일시', '미정.6'],\n",
       "      dtype='object')"
      ]
     },
     "execution_count": 7,
     "metadata": {},
     "output_type": "execute_result"
    }
   ],
   "source": [
    "df1.columns"
   ]
  },
  {
   "cell_type": "code",
   "execution_count": 8,
   "metadata": {},
   "outputs": [],
   "source": [
    "df1.columns = ['차량관리번호', '차량등록번호', '본거지법정동코드', '소유자구분', '차종_등록정보', '용도', '미정1', '현재회원번호', '미정2', '미정3', '차대번호', '최초등록일자', '차량연식', '차량제작일자', \n",
    "               '배출가스검사유효일자', '제원관리번호', '배출가스인증번호', '배출가스등급', '저공해조치YN(미사용)', '저공해조치종류', '저공해조치구조변경YN', '미정4', '차량등록번호숫자정보', '차량말소YN', \n",
    "               '미정5', '최초회원번호', '취득일자', '취득금액', '미정6', '생성일시_등록정보', '수정일시_등록정보', '미정7']"
   ]
  },
  {
   "attachments": {},
   "cell_type": "markdown",
   "metadata": {},
   "source": [
    "# [ODS] 자동차 제원정보"
   ]
  },
  {
   "cell_type": "code",
   "execution_count": 9,
   "metadata": {},
   "outputs": [
    {
     "name": "stdout",
     "output_type": "stream",
     "text": [
      "<class 'pandas.core.frame.DataFrame'>\n",
      "RangeIndex: 545374 entries, 0 to 545373\n",
      "Data columns (total 28 columns):\n",
      " #   Column       Non-Null Count   Dtype  \n",
      "---  ------       --------------   -----  \n",
      " 0   제원관리번호       545374 non-null  object \n",
      " 1   차명           545272 non-null  object \n",
      " 2   차종           545370 non-null  object \n",
      " 3   차종 분류        531367 non-null  object \n",
      " 4   차종 유형 (소분류)  531332 non-null  object \n",
      " 5   자동차 형식       516295 non-null  object \n",
      " 6   제작사 명        529017 non-null  object \n",
      " 7   연료           503254 non-null  object \n",
      " 8   엔진형식         494157 non-null  object \n",
      " 9   공차중량         0 non-null       float64\n",
      " 10  총 중량         541702 non-null  float64\n",
      " 11  적재 중량        446181 non-null  float64\n",
      " 12  엔진출력         471948 non-null  float64\n",
      " 13  배기량          510521 non-null  float64\n",
      " 14  승차 인원        545313 non-null  float64\n",
      " 15  차량 길이        514786 non-null  float64\n",
      " 16  차량 너비        514799 non-null  float64\n",
      " 17  차량 높이        514732 non-null  float64\n",
      " 18  원산지 명        540392 non-null  object \n",
      " 19  미정           0 non-null       float64\n",
      " 20  삭제 YN        545374 non-null  object \n",
      " 21  승인 일자        532881 non-null  object \n",
      " 22  구동 형식        114619 non-null  object \n",
      " 23  변속기 종류       540165 non-null  object \n",
      " 24  미정.1         1 non-null       object \n",
      " 25  생성 일시        545374 non-null  object \n",
      " 26  수정 일시        14578 non-null   object \n",
      " 27  미정.2         545374 non-null  object \n",
      "dtypes: float64(10), object(18)\n",
      "memory usage: 116.5+ MB\n"
     ]
    }
   ],
   "source": [
    "# about 4s\n",
    "file_name = '[ODS]자동차_제원정보(한글컬럼)(2022.12.29).csv'\n",
    "ods_path = os.path.join(ods_fold, file_name)\n",
    "df2 = pd.read_csv(ods_path, low_memory=False, encoding='cp949')\n",
    "df2.info()"
   ]
  },
  {
   "cell_type": "code",
   "execution_count": 10,
   "metadata": {},
   "outputs": [
    {
     "data": {
      "text/plain": [
       "Index(['제원관리번호', '차명', '차종', '차종 분류', '차종 유형 (소분류)', '자동차 형식', '제작사 명', '연료',\n",
       "       '엔진형식', '공차중량', '총 중량', '적재 중량', '엔진출력', '배기량', '승차 인원', '차량 길이',\n",
       "       '차량 너비', '차량 높이', '원산지 명', '미정', '삭제 YN', '승인 일자', '구동 형식', '변속기 종류',\n",
       "       '미정.1', '생성 일시', '수정 일시', '미정.2'],\n",
       "      dtype='object')"
      ]
     },
     "execution_count": 10,
     "metadata": {},
     "output_type": "execute_result"
    }
   ],
   "source": [
    "df2.columns"
   ]
  },
  {
   "cell_type": "code",
   "execution_count": 11,
   "metadata": {},
   "outputs": [],
   "source": [
    "df2.columns = ['제원관리번호', '차명', '차종_제원정보', '차종분류', '차종유형(소분류)', '자동차형식', '제작사명', '연료', '엔진형식', '공차중량', '총중량', '적재중량', '엔진출력', '배기량', '승차인원', \n",
    "               '차량길이', '차량너비', '차량높이', '원산지명', '미정1', '삭제YN', '승인일자', '구동형식', '변속기종류', '미정2', '생성일시_제원정보', '수정일시_제원정보', '미정3']"
   ]
  },
  {
   "attachments": {},
   "cell_type": "markdown",
   "metadata": {},
   "source": [
    "## [병합] 등록정보와 제원정보"
   ]
  },
  {
   "cell_type": "code",
   "execution_count": 12,
   "metadata": {},
   "outputs": [
    {
     "name": "stdout",
     "output_type": "stream",
     "text": [
      "<class 'pandas.core.frame.DataFrame'>\n",
      "Int64Index: 29521505 entries, 0 to 29521504\n",
      "Data columns (total 59 columns):\n",
      " #   Column        Dtype  \n",
      "---  ------        -----  \n",
      " 0   차량관리번호        object \n",
      " 1   차량등록번호        object \n",
      " 2   본거지법정동코드      int64  \n",
      " 3   소유자구분         object \n",
      " 4   차종_등록정보       object \n",
      " 5   용도            object \n",
      " 6   미정1_x         object \n",
      " 7   현재회원번호        object \n",
      " 8   미정2_x         object \n",
      " 9   미정3_x         object \n",
      " 10  차대번호          object \n",
      " 11  최초등록일자        int64  \n",
      " 12  차량연식          int64  \n",
      " 13  차량제작일자        float64\n",
      " 14  배출가스검사유효일자    float64\n",
      " 15  제원관리번호        object \n",
      " 16  배출가스인증번호      object \n",
      " 17  배출가스등급        object \n",
      " 18  저공해조치YN(미사용)  object \n",
      " 19  저공해조치종류       float64\n",
      " 20  저공해조치구조변경YN   object \n",
      " 21  미정4           float64\n",
      " 22  차량등록번호숫자정보    int64  \n",
      " 23  차량말소YN        object \n",
      " 24  미정5           object \n",
      " 25  최초회원번호        object \n",
      " 26  취득일자          object \n",
      " 27  취득금액          float64\n",
      " 28  미정6           object \n",
      " 29  생성일시_등록정보     object \n",
      " 30  수정일시_등록정보     object \n",
      " 31  미정7           object \n",
      " 32  차명            object \n",
      " 33  차종_제원정보       object \n",
      " 34  차종분류          object \n",
      " 35  차종유형(소분류)     object \n",
      " 36  자동차형식         object \n",
      " 37  제작사명          object \n",
      " 38  연료            object \n",
      " 39  엔진형식          object \n",
      " 40  공차중량          float64\n",
      " 41  총중량           float64\n",
      " 42  적재중량          float64\n",
      " 43  엔진출력          float64\n",
      " 44  배기량           float64\n",
      " 45  승차인원          float64\n",
      " 46  차량길이          float64\n",
      " 47  차량너비          float64\n",
      " 48  차량높이          float64\n",
      " 49  원산지명          object \n",
      " 50  미정1_y         float64\n",
      " 51  삭제YN          object \n",
      " 52  승인일자          object \n",
      " 53  구동형식          object \n",
      " 54  변속기종류         object \n",
      " 55  미정2_y         object \n",
      " 56  생성일시_제원정보     object \n",
      " 57  수정일시_제원정보     object \n",
      " 58  미정3_y         object \n",
      "dtypes: float64(15), int64(4), object(40)\n",
      "memory usage: 13.2+ GB\n"
     ]
    }
   ],
   "source": [
    "# about 45s\n",
    "total = df1.merge(df2, on='제원관리번호', how='left')\n",
    "total.info()"
   ]
  },
  {
   "cell_type": "code",
   "execution_count": 13,
   "metadata": {},
   "outputs": [
    {
     "data": {
      "text/plain": [
       "N    25692466\n",
       "Y     3829039\n",
       "Name: 차량말소YN, dtype: int64"
      ]
     },
     "execution_count": 13,
     "metadata": {},
     "output_type": "execute_result"
    }
   ],
   "source": [
    "total['차량말소YN'].value_counts()"
   ]
  },
  {
   "cell_type": "code",
   "execution_count": 14,
   "metadata": {},
   "outputs": [
    {
     "data": {
      "text/plain": [
       "(25692466, 59)"
      ]
     },
     "execution_count": 14,
     "metadata": {},
     "output_type": "execute_result"
    }
   ],
   "source": [
    "total1 = total[total['차량말소YN'] == 'N'].reset_index(drop=True)\n",
    "total1.shape"
   ]
  },
  {
   "attachments": {},
   "cell_type": "markdown",
   "metadata": {},
   "source": [
    "## [출력] 등록정보와 제원정보"
   ]
  },
  {
   "cell_type": "code",
   "execution_count": 15,
   "metadata": {},
   "outputs": [],
   "source": [
    "# about 17m\n",
    "total.to_csv(os.path.join(ods_fold, '[ODS]등록정보&제원정보(중복차대제거)(한글컬럼)(2022.12.29).csv'), index=False, encoding='cp949')"
   ]
  },
  {
   "attachments": {},
   "cell_type": "markdown",
   "metadata": {},
   "source": [
    "## [출력] 등록정보와 제원정보(말소제거)"
   ]
  },
  {
   "cell_type": "code",
   "execution_count": 16,
   "metadata": {},
   "outputs": [],
   "source": [
    "# about 15m\n",
    "total1.to_csv(os.path.join(ods_fold, '[ODS]등록정보&제원정보(말소제거)(중복차대제거)(한글컬럼)(2022.12.29).csv'), index=False, encoding='cp949')"
   ]
  },
  {
   "attachments": {},
   "cell_type": "markdown",
   "metadata": {},
   "source": [
    "# [ODS]1등급"
   ]
  },
  {
   "attachments": {},
   "cell_type": "markdown",
   "metadata": {},
   "source": [
    "## [로드]"
   ]
  },
  {
   "cell_type": "code",
   "execution_count": 18,
   "metadata": {},
   "outputs": [
    {
     "name": "stdout",
     "output_type": "stream",
     "text": [
      "<class 'pandas.core.frame.DataFrame'>\n",
      "RangeIndex: 2869999 entries, 0 to 2869998\n",
      "Data columns (total 32 columns):\n",
      " #   Column         Dtype  \n",
      "---  ------         -----  \n",
      " 0   차량관리번호         object \n",
      " 1   차량등록번호         object \n",
      " 2   본거지 법정동 코드     int64  \n",
      " 3   소유자 구분         object \n",
      " 4   차종             object \n",
      " 5   용도             object \n",
      " 6   미정             object \n",
      " 7   현재 회원번호        object \n",
      " 8   미정.1           object \n",
      " 9   미정.2           object \n",
      " 10  차대번호           object \n",
      " 11  최초 등록 일자       int64  \n",
      " 12  차량 연식          int64  \n",
      " 13  차량 제작 일자       float64\n",
      " 14  배출가스검사유효일자     float64\n",
      " 15  제원관리번호         object \n",
      " 16  배출가스 인증번호      object \n",
      " 17  배출가스 등급        int64  \n",
      " 18  저공해조치 YN(미사용)  object \n",
      " 19  저공해조치 종류       float64\n",
      " 20  저공해조치 구조변경 YN  object \n",
      " 21  미정.3           float64\n",
      " 22  차량등록번호 숫자 정보   int64  \n",
      " 23  차량 말소 YN       object \n",
      " 24  미정.4           object \n",
      " 25  최초 회원번호        object \n",
      " 26  취득 일자          float64\n",
      " 27  취득 금액          float64\n",
      " 28  미정.5           object \n",
      " 29  생성 일시          object \n",
      " 30  수정 일시          object \n",
      " 31  미정.6           object \n",
      "dtypes: float64(6), int64(5), object(21)\n",
      "memory usage: 700.7+ MB\n"
     ]
    }
   ],
   "source": [
    "# about 1m\n",
    "file_name = '[ODS][G1]자동차_등록정보(중복차대제거)(한글컬럼)(2022.12.29).csv'\n",
    "ods_path = os.path.join(ods_fold, file_name)\n",
    "df1 = pd.read_csv(ods_path, low_memory=False, encoding='cp949')\n",
    "df1.info()"
   ]
  },
  {
   "cell_type": "code",
   "execution_count": 19,
   "metadata": {},
   "outputs": [
    {
     "ename": "UnicodeDecodeError",
     "evalue": "'utf-8' codec can't decode byte 0xc1 in position 0: invalid start byte",
     "output_type": "error",
     "traceback": [
      "\u001b[1;31m---------------------------------------------------------------------------\u001b[0m",
      "\u001b[1;31mUnicodeDecodeError\u001b[0m                        Traceback (most recent call last)",
      "\u001b[1;32m~\\AppData\\Local\\Temp\\ipykernel_13056\\1484147167.py\u001b[0m in \u001b[0;36m<module>\u001b[1;34m\u001b[0m\n\u001b[0;32m      2\u001b[0m \u001b[0mfile_name\u001b[0m \u001b[1;33m=\u001b[0m \u001b[1;34m'[ODS]자동차_제원정보(한글컬럼)(2022.12.29).csv'\u001b[0m\u001b[1;33m\u001b[0m\u001b[1;33m\u001b[0m\u001b[0m\n\u001b[0;32m      3\u001b[0m \u001b[0mods_path\u001b[0m \u001b[1;33m=\u001b[0m \u001b[0mos\u001b[0m\u001b[1;33m.\u001b[0m\u001b[0mpath\u001b[0m\u001b[1;33m.\u001b[0m\u001b[0mjoin\u001b[0m\u001b[1;33m(\u001b[0m\u001b[0mods_fold\u001b[0m\u001b[1;33m,\u001b[0m \u001b[0mfile_name\u001b[0m\u001b[1;33m)\u001b[0m\u001b[1;33m\u001b[0m\u001b[1;33m\u001b[0m\u001b[0m\n\u001b[1;32m----> 4\u001b[1;33m \u001b[0mdf2\u001b[0m \u001b[1;33m=\u001b[0m \u001b[0mpd\u001b[0m\u001b[1;33m.\u001b[0m\u001b[0mread_csv\u001b[0m\u001b[1;33m(\u001b[0m\u001b[0mods_path\u001b[0m\u001b[1;33m,\u001b[0m \u001b[0mlow_memory\u001b[0m\u001b[1;33m=\u001b[0m\u001b[1;32mFalse\u001b[0m\u001b[1;33m)\u001b[0m\u001b[1;33m\u001b[0m\u001b[1;33m\u001b[0m\u001b[0m\n\u001b[0m\u001b[0;32m      5\u001b[0m \u001b[0mdf2\u001b[0m\u001b[1;33m.\u001b[0m\u001b[0minfo\u001b[0m\u001b[1;33m(\u001b[0m\u001b[1;33m)\u001b[0m\u001b[1;33m\u001b[0m\u001b[1;33m\u001b[0m\u001b[0m\n",
      "\u001b[1;32m~\\AppData\\Roaming\\Python\\Python39\\site-packages\\pandas\\util\\_decorators.py\u001b[0m in \u001b[0;36mwrapper\u001b[1;34m(*args, **kwargs)\u001b[0m\n\u001b[0;32m    209\u001b[0m                 \u001b[1;32melse\u001b[0m\u001b[1;33m:\u001b[0m\u001b[1;33m\u001b[0m\u001b[1;33m\u001b[0m\u001b[0m\n\u001b[0;32m    210\u001b[0m                     \u001b[0mkwargs\u001b[0m\u001b[1;33m[\u001b[0m\u001b[0mnew_arg_name\u001b[0m\u001b[1;33m]\u001b[0m \u001b[1;33m=\u001b[0m \u001b[0mnew_arg_value\u001b[0m\u001b[1;33m\u001b[0m\u001b[1;33m\u001b[0m\u001b[0m\n\u001b[1;32m--> 211\u001b[1;33m             \u001b[1;32mreturn\u001b[0m \u001b[0mfunc\u001b[0m\u001b[1;33m(\u001b[0m\u001b[1;33m*\u001b[0m\u001b[0margs\u001b[0m\u001b[1;33m,\u001b[0m \u001b[1;33m**\u001b[0m\u001b[0mkwargs\u001b[0m\u001b[1;33m)\u001b[0m\u001b[1;33m\u001b[0m\u001b[1;33m\u001b[0m\u001b[0m\n\u001b[0m\u001b[0;32m    212\u001b[0m \u001b[1;33m\u001b[0m\u001b[0m\n\u001b[0;32m    213\u001b[0m         \u001b[1;32mreturn\u001b[0m \u001b[0mcast\u001b[0m\u001b[1;33m(\u001b[0m\u001b[0mF\u001b[0m\u001b[1;33m,\u001b[0m \u001b[0mwrapper\u001b[0m\u001b[1;33m)\u001b[0m\u001b[1;33m\u001b[0m\u001b[1;33m\u001b[0m\u001b[0m\n",
      "\u001b[1;32m~\\AppData\\Roaming\\Python\\Python39\\site-packages\\pandas\\util\\_decorators.py\u001b[0m in \u001b[0;36mwrapper\u001b[1;34m(*args, **kwargs)\u001b[0m\n\u001b[0;32m    329\u001b[0m                     \u001b[0mstacklevel\u001b[0m\u001b[1;33m=\u001b[0m\u001b[0mfind_stack_level\u001b[0m\u001b[1;33m(\u001b[0m\u001b[1;33m)\u001b[0m\u001b[1;33m,\u001b[0m\u001b[1;33m\u001b[0m\u001b[1;33m\u001b[0m\u001b[0m\n\u001b[0;32m    330\u001b[0m                 )\n\u001b[1;32m--> 331\u001b[1;33m             \u001b[1;32mreturn\u001b[0m \u001b[0mfunc\u001b[0m\u001b[1;33m(\u001b[0m\u001b[1;33m*\u001b[0m\u001b[0margs\u001b[0m\u001b[1;33m,\u001b[0m \u001b[1;33m**\u001b[0m\u001b[0mkwargs\u001b[0m\u001b[1;33m)\u001b[0m\u001b[1;33m\u001b[0m\u001b[1;33m\u001b[0m\u001b[0m\n\u001b[0m\u001b[0;32m    332\u001b[0m \u001b[1;33m\u001b[0m\u001b[0m\n\u001b[0;32m    333\u001b[0m         \u001b[1;31m# error: \"Callable[[VarArg(Any), KwArg(Any)], Any]\" has no\u001b[0m\u001b[1;33m\u001b[0m\u001b[1;33m\u001b[0m\u001b[0m\n",
      "\u001b[1;32m~\\AppData\\Roaming\\Python\\Python39\\site-packages\\pandas\\io\\parsers\\readers.py\u001b[0m in \u001b[0;36mread_csv\u001b[1;34m(filepath_or_buffer, sep, delimiter, header, names, index_col, usecols, squeeze, prefix, mangle_dupe_cols, dtype, engine, converters, true_values, false_values, skipinitialspace, skiprows, skipfooter, nrows, na_values, keep_default_na, na_filter, verbose, skip_blank_lines, parse_dates, infer_datetime_format, keep_date_col, date_parser, dayfirst, cache_dates, iterator, chunksize, compression, thousands, decimal, lineterminator, quotechar, quoting, doublequote, escapechar, comment, encoding, encoding_errors, dialect, error_bad_lines, warn_bad_lines, on_bad_lines, delim_whitespace, low_memory, memory_map, float_precision, storage_options)\u001b[0m\n\u001b[0;32m    948\u001b[0m     \u001b[0mkwds\u001b[0m\u001b[1;33m.\u001b[0m\u001b[0mupdate\u001b[0m\u001b[1;33m(\u001b[0m\u001b[0mkwds_defaults\u001b[0m\u001b[1;33m)\u001b[0m\u001b[1;33m\u001b[0m\u001b[1;33m\u001b[0m\u001b[0m\n\u001b[0;32m    949\u001b[0m \u001b[1;33m\u001b[0m\u001b[0m\n\u001b[1;32m--> 950\u001b[1;33m     \u001b[1;32mreturn\u001b[0m \u001b[0m_read\u001b[0m\u001b[1;33m(\u001b[0m\u001b[0mfilepath_or_buffer\u001b[0m\u001b[1;33m,\u001b[0m \u001b[0mkwds\u001b[0m\u001b[1;33m)\u001b[0m\u001b[1;33m\u001b[0m\u001b[1;33m\u001b[0m\u001b[0m\n\u001b[0m\u001b[0;32m    951\u001b[0m \u001b[1;33m\u001b[0m\u001b[0m\n\u001b[0;32m    952\u001b[0m \u001b[1;33m\u001b[0m\u001b[0m\n",
      "\u001b[1;32m~\\AppData\\Roaming\\Python\\Python39\\site-packages\\pandas\\io\\parsers\\readers.py\u001b[0m in \u001b[0;36m_read\u001b[1;34m(filepath_or_buffer, kwds)\u001b[0m\n\u001b[0;32m    603\u001b[0m \u001b[1;33m\u001b[0m\u001b[0m\n\u001b[0;32m    604\u001b[0m     \u001b[1;31m# Create the parser.\u001b[0m\u001b[1;33m\u001b[0m\u001b[1;33m\u001b[0m\u001b[0m\n\u001b[1;32m--> 605\u001b[1;33m     \u001b[0mparser\u001b[0m \u001b[1;33m=\u001b[0m \u001b[0mTextFileReader\u001b[0m\u001b[1;33m(\u001b[0m\u001b[0mfilepath_or_buffer\u001b[0m\u001b[1;33m,\u001b[0m \u001b[1;33m**\u001b[0m\u001b[0mkwds\u001b[0m\u001b[1;33m)\u001b[0m\u001b[1;33m\u001b[0m\u001b[1;33m\u001b[0m\u001b[0m\n\u001b[0m\u001b[0;32m    606\u001b[0m \u001b[1;33m\u001b[0m\u001b[0m\n\u001b[0;32m    607\u001b[0m     \u001b[1;32mif\u001b[0m \u001b[0mchunksize\u001b[0m \u001b[1;32mor\u001b[0m \u001b[0miterator\u001b[0m\u001b[1;33m:\u001b[0m\u001b[1;33m\u001b[0m\u001b[1;33m\u001b[0m\u001b[0m\n",
      "\u001b[1;32m~\\AppData\\Roaming\\Python\\Python39\\site-packages\\pandas\\io\\parsers\\readers.py\u001b[0m in \u001b[0;36m__init__\u001b[1;34m(self, f, engine, **kwds)\u001b[0m\n\u001b[0;32m   1440\u001b[0m \u001b[1;33m\u001b[0m\u001b[0m\n\u001b[0;32m   1441\u001b[0m         \u001b[0mself\u001b[0m\u001b[1;33m.\u001b[0m\u001b[0mhandles\u001b[0m\u001b[1;33m:\u001b[0m \u001b[0mIOHandles\u001b[0m \u001b[1;33m|\u001b[0m \u001b[1;32mNone\u001b[0m \u001b[1;33m=\u001b[0m \u001b[1;32mNone\u001b[0m\u001b[1;33m\u001b[0m\u001b[1;33m\u001b[0m\u001b[0m\n\u001b[1;32m-> 1442\u001b[1;33m         \u001b[0mself\u001b[0m\u001b[1;33m.\u001b[0m\u001b[0m_engine\u001b[0m \u001b[1;33m=\u001b[0m \u001b[0mself\u001b[0m\u001b[1;33m.\u001b[0m\u001b[0m_make_engine\u001b[0m\u001b[1;33m(\u001b[0m\u001b[0mf\u001b[0m\u001b[1;33m,\u001b[0m \u001b[0mself\u001b[0m\u001b[1;33m.\u001b[0m\u001b[0mengine\u001b[0m\u001b[1;33m)\u001b[0m\u001b[1;33m\u001b[0m\u001b[1;33m\u001b[0m\u001b[0m\n\u001b[0m\u001b[0;32m   1443\u001b[0m \u001b[1;33m\u001b[0m\u001b[0m\n\u001b[0;32m   1444\u001b[0m     \u001b[1;32mdef\u001b[0m \u001b[0mclose\u001b[0m\u001b[1;33m(\u001b[0m\u001b[0mself\u001b[0m\u001b[1;33m)\u001b[0m \u001b[1;33m->\u001b[0m \u001b[1;32mNone\u001b[0m\u001b[1;33m:\u001b[0m\u001b[1;33m\u001b[0m\u001b[1;33m\u001b[0m\u001b[0m\n",
      "\u001b[1;32m~\\AppData\\Roaming\\Python\\Python39\\site-packages\\pandas\\io\\parsers\\readers.py\u001b[0m in \u001b[0;36m_make_engine\u001b[1;34m(self, f, engine)\u001b[0m\n\u001b[0;32m   1751\u001b[0m \u001b[1;33m\u001b[0m\u001b[0m\n\u001b[0;32m   1752\u001b[0m         \u001b[1;32mtry\u001b[0m\u001b[1;33m:\u001b[0m\u001b[1;33m\u001b[0m\u001b[1;33m\u001b[0m\u001b[0m\n\u001b[1;32m-> 1753\u001b[1;33m             \u001b[1;32mreturn\u001b[0m \u001b[0mmapping\u001b[0m\u001b[1;33m[\u001b[0m\u001b[0mengine\u001b[0m\u001b[1;33m]\u001b[0m\u001b[1;33m(\u001b[0m\u001b[0mf\u001b[0m\u001b[1;33m,\u001b[0m \u001b[1;33m**\u001b[0m\u001b[0mself\u001b[0m\u001b[1;33m.\u001b[0m\u001b[0moptions\u001b[0m\u001b[1;33m)\u001b[0m\u001b[1;33m\u001b[0m\u001b[1;33m\u001b[0m\u001b[0m\n\u001b[0m\u001b[0;32m   1754\u001b[0m         \u001b[1;32mexcept\u001b[0m \u001b[0mException\u001b[0m\u001b[1;33m:\u001b[0m\u001b[1;33m\u001b[0m\u001b[1;33m\u001b[0m\u001b[0m\n\u001b[0;32m   1755\u001b[0m             \u001b[1;32mif\u001b[0m \u001b[0mself\u001b[0m\u001b[1;33m.\u001b[0m\u001b[0mhandles\u001b[0m \u001b[1;32mis\u001b[0m \u001b[1;32mnot\u001b[0m \u001b[1;32mNone\u001b[0m\u001b[1;33m:\u001b[0m\u001b[1;33m\u001b[0m\u001b[1;33m\u001b[0m\u001b[0m\n",
      "\u001b[1;32m~\\AppData\\Roaming\\Python\\Python39\\site-packages\\pandas\\io\\parsers\\c_parser_wrapper.py\u001b[0m in \u001b[0;36m__init__\u001b[1;34m(self, src, **kwds)\u001b[0m\n\u001b[0;32m     77\u001b[0m \u001b[1;33m\u001b[0m\u001b[0m\n\u001b[0;32m     78\u001b[0m         \u001b[0mkwds\u001b[0m\u001b[1;33m[\u001b[0m\u001b[1;34m\"dtype\"\u001b[0m\u001b[1;33m]\u001b[0m \u001b[1;33m=\u001b[0m \u001b[0mensure_dtype_objs\u001b[0m\u001b[1;33m(\u001b[0m\u001b[0mkwds\u001b[0m\u001b[1;33m.\u001b[0m\u001b[0mget\u001b[0m\u001b[1;33m(\u001b[0m\u001b[1;34m\"dtype\"\u001b[0m\u001b[1;33m,\u001b[0m \u001b[1;32mNone\u001b[0m\u001b[1;33m)\u001b[0m\u001b[1;33m)\u001b[0m\u001b[1;33m\u001b[0m\u001b[1;33m\u001b[0m\u001b[0m\n\u001b[1;32m---> 79\u001b[1;33m         \u001b[0mself\u001b[0m\u001b[1;33m.\u001b[0m\u001b[0m_reader\u001b[0m \u001b[1;33m=\u001b[0m \u001b[0mparsers\u001b[0m\u001b[1;33m.\u001b[0m\u001b[0mTextReader\u001b[0m\u001b[1;33m(\u001b[0m\u001b[0msrc\u001b[0m\u001b[1;33m,\u001b[0m \u001b[1;33m**\u001b[0m\u001b[0mkwds\u001b[0m\u001b[1;33m)\u001b[0m\u001b[1;33m\u001b[0m\u001b[1;33m\u001b[0m\u001b[0m\n\u001b[0m\u001b[0;32m     80\u001b[0m \u001b[1;33m\u001b[0m\u001b[0m\n\u001b[0;32m     81\u001b[0m         \u001b[0mself\u001b[0m\u001b[1;33m.\u001b[0m\u001b[0munnamed_cols\u001b[0m \u001b[1;33m=\u001b[0m \u001b[0mself\u001b[0m\u001b[1;33m.\u001b[0m\u001b[0m_reader\u001b[0m\u001b[1;33m.\u001b[0m\u001b[0munnamed_cols\u001b[0m\u001b[1;33m\u001b[0m\u001b[1;33m\u001b[0m\u001b[0m\n",
      "\u001b[1;32m~\\AppData\\Roaming\\Python\\Python39\\site-packages\\pandas\\_libs\\parsers.pyx\u001b[0m in \u001b[0;36mpandas._libs.parsers.TextReader.__cinit__\u001b[1;34m()\u001b[0m\n",
      "\u001b[1;32m~\\AppData\\Roaming\\Python\\Python39\\site-packages\\pandas\\_libs\\parsers.pyx\u001b[0m in \u001b[0;36mpandas._libs.parsers.TextReader._get_header\u001b[1;34m()\u001b[0m\n",
      "\u001b[1;32m~\\AppData\\Roaming\\Python\\Python39\\site-packages\\pandas\\_libs\\parsers.pyx\u001b[0m in \u001b[0;36mpandas._libs.parsers.TextReader._tokenize_rows\u001b[1;34m()\u001b[0m\n",
      "\u001b[1;32m~\\AppData\\Roaming\\Python\\Python39\\site-packages\\pandas\\_libs\\parsers.pyx\u001b[0m in \u001b[0;36mpandas._libs.parsers.raise_parser_error\u001b[1;34m()\u001b[0m\n",
      "\u001b[1;31mUnicodeDecodeError\u001b[0m: 'utf-8' codec can't decode byte 0xc1 in position 0: invalid start byte"
     ]
    }
   ],
   "source": [
    "# about 3s\n",
    "file_name = '[ODS]자동차_제원정보(중복차대제거)(한글컬럼)(2022.12.29).csv'\n",
    "ods_path = os.path.join(ods_fold, file_name)\n",
    "df2 = pd.read_csv(ods_path, low_memory=False)\n",
    "df2.info()"
   ]
  },
  {
   "attachments": {},
   "cell_type": "markdown",
   "metadata": {},
   "source": [
    "### 정리\n",
    "- 컬럼명, 컬럼순서, 컬럼"
   ]
  },
  {
   "cell_type": "code",
   "execution_count": null,
   "metadata": {},
   "outputs": [
    {
     "data": {
      "text/plain": [
       "Index(['차량관리번호', '차량등록번호', '본거지 법정동 코드', '소유자 구분', '차종', '용도', '미정', '현재 회원번호',\n",
       "       '미정.1', '미정.2', '차대번호', '최초 등록 일자', '차량 연식', '차량 제작 일자', '배출가스검사유효일자',\n",
       "       '제원관리번호', '배출가스 인증번호', '배출가스 등급', '저공해조치 YN(미사용)', '저공해조치 종류',\n",
       "       '저공해조치 구조변경 YN', '미정.3', '차량등록번호 숫자 정보', '차량 말소 YN', '미정.4', '최초 회원번호',\n",
       "       '취득 일자', '취득 금액', '미정.5', '생성 일시', '수정 일시', '미정.6'],\n",
       "      dtype='object')"
      ]
     },
     "execution_count": 21,
     "metadata": {},
     "output_type": "execute_result"
    }
   ],
   "source": [
    "df1.columns"
   ]
  },
  {
   "cell_type": "code",
   "execution_count": null,
   "metadata": {},
   "outputs": [],
   "source": [
    "df1.columns = ['차량관리번호', '차량등록번호', '본거지법정동코드', '소유자구분', '차종_등록정보', '용도', '미정1', '현재회원번호', '미정2', '미정3', '차대번호', '최초등록일자', '차량연식', '차량제작일자', \n",
    "               '배출가스검사유효일자', '제원관리번호', '배출가스인증번호', '배출가스등급', '저공해조치YN(미사용)', '저공해조치종류', '저공해조치구조변경YN', '미정4', '차량등록번호숫자정보', '차량말소YN', '미정5', '최초회원번호', '취득일자', '취득금액', '미정6', '생성일시_등록정보', '수정일시_등록정보', '미정7']"
   ]
  },
  {
   "cell_type": "code",
   "execution_count": null,
   "metadata": {},
   "outputs": [
    {
     "data": {
      "text/plain": [
       "Index(['제원관리번호', '차명', '차종', '차종 분류', '차종 유형 (소분류)', '자동차 형식', '제작사 명', '연료',\n",
       "       '엔진형식', '공차중량', '총 중량', '적재 중량', '엔진출력', '배기량', '승차 인원', '차량 길이',\n",
       "       '차량 너비', '차량 높이', '원산지 명', '미정', '삭제 YN', '승인 일자', '구동 형식', '변속기 종류',\n",
       "       '미정.1', '생성 일시', '수정 일시', '미정.2'],\n",
       "      dtype='object')"
      ]
     },
     "execution_count": 24,
     "metadata": {},
     "output_type": "execute_result"
    }
   ],
   "source": [
    "df2.columns"
   ]
  },
  {
   "cell_type": "code",
   "execution_count": null,
   "metadata": {},
   "outputs": [],
   "source": [
    "df2.columns = ['제원관리번호', '차명', '차종_제원정보', '차종분류', '차종유형(소분류)', '자동차형식', '제작사명', '연료',\n",
    "       '엔진형식', '공차중량', '총중량', '적재중량', '엔진출력', '배기량', '승차인원', '차량길이',\n",
    "       '차량너비', '차량높이', '원산지명', '미정1', '삭제YN', '승인일자', '구동형식', '변속기종류',\n",
    "       '미정2', '생성일시_제원정보', '수정일시_제원정보', '미정3']"
   ]
  },
  {
   "cell_type": "code",
   "execution_count": null,
   "metadata": {},
   "outputs": [
    {
     "data": {
      "text/plain": [
       "1    2870152\n",
       "Name: 배출가스등급, dtype: int64"
      ]
     },
     "execution_count": 27,
     "metadata": {},
     "output_type": "execute_result"
    }
   ],
   "source": [
    "df1['배출가스등급'].value_counts()"
   ]
  },
  {
   "attachments": {},
   "cell_type": "markdown",
   "metadata": {},
   "source": [
    "## [병합] 등록정보와 제원정보"
   ]
  },
  {
   "cell_type": "code",
   "execution_count": null,
   "metadata": {},
   "outputs": [
    {
     "name": "stdout",
     "output_type": "stream",
     "text": [
      "<class 'pandas.core.frame.DataFrame'>\n",
      "Int64Index: 2870152 entries, 0 to 2870151\n",
      "Data columns (total 49 columns):\n",
      " #   Column        Dtype  \n",
      "---  ------        -----  \n",
      " 0   차량관리번호        object \n",
      " 1   차량등록번호        object \n",
      " 2   본거지법정동코드      int64  \n",
      " 3   소유자구분         object \n",
      " 4   차종_등록정보       object \n",
      " 5   용도            object \n",
      " 6   현재회원번호        object \n",
      " 7   차대번호          object \n",
      " 8   최초등록일자        int64  \n",
      " 9   차량연식          int64  \n",
      " 10  차량제작일자        float64\n",
      " 11  배출가스검사유효일자    float64\n",
      " 12  제원관리번호        object \n",
      " 13  배출가스인증번호      object \n",
      " 14  배출가스등급        int64  \n",
      " 15  저공해조치YN(미사용)  object \n",
      " 16  저공해조치종류       float64\n",
      " 17  저공해조치구조변경YN   object \n",
      " 18  차량등록번호숫자정보    int64  \n",
      " 19  차량말소YN        object \n",
      " 20  최초회원번호        object \n",
      " 21  취득일자          float64\n",
      " 22  취득금액          float64\n",
      " 23  생성일시_등록정보     object \n",
      " 24  수정일시_등록정보     object \n",
      " 25  차명            object \n",
      " 26  차종_제원정보       object \n",
      " 27  차종분류          object \n",
      " 28  차종유형(소분류)     object \n",
      " 29  자동차형식         object \n",
      " 30  제작사명          object \n",
      " 31  연료            object \n",
      " 32  엔진형식          object \n",
      " 33  공차중량          float64\n",
      " 34  총중량           float64\n",
      " 35  적재중량          float64\n",
      " 36  엔진출력          float64\n",
      " 37  배기량           float64\n",
      " 38  승차인원          float64\n",
      " 39  차량길이          float64\n",
      " 40  차량너비          float64\n",
      " 41  차량높이          float64\n",
      " 42  원산지명          object \n",
      " 43  삭제YN          object \n",
      " 44  승인일자          object \n",
      " 45  구동형식          object \n",
      " 46  변속기종류         object \n",
      " 47  생성일시_제원정보     object \n",
      " 48  수정일시_제원정보     object \n",
      "dtypes: float64(14), int64(5), object(30)\n",
      "memory usage: 1.1+ GB\n"
     ]
    }
   ],
   "source": [
    "total = df1.merge(df2, on='제원관리번호', how='left')\n",
    "total.info()"
   ]
  },
  {
   "attachments": {},
   "cell_type": "markdown",
   "metadata": {},
   "source": [
    "## [출력] 등록정보와 제원정보"
   ]
  },
  {
   "cell_type": "code",
   "execution_count": null,
   "metadata": {},
   "outputs": [],
   "source": [
    "# about 1m\n",
    "total.to_csv(os.path.join(ods_fold, '[ODS][G1]등록정보&제원정보(중복차대제거)(한글컬럼)(2022.12.29).csv'), index=False, encoding='cp949')"
   ]
  },
  {
   "attachments": {},
   "cell_type": "markdown",
   "metadata": {},
   "source": [
    "# [ODS]2등급"
   ]
  },
  {
   "attachments": {},
   "cell_type": "markdown",
   "metadata": {},
   "source": [
    "## [로드]"
   ]
  },
  {
   "cell_type": "code",
   "execution_count": null,
   "metadata": {},
   "outputs": [
    {
     "name": "stdout",
     "output_type": "stream",
     "text": [
      "<class 'pandas.core.frame.DataFrame'>\n",
      "RangeIndex: 12053653 entries, 0 to 12053652\n",
      "Data columns (total 32 columns):\n",
      " #   Column         Dtype  \n",
      "---  ------         -----  \n",
      " 0   차량관리번호         object \n",
      " 1   차량등록번호         object \n",
      " 2   본거지 법정동 코드     int64  \n",
      " 3   소유자 구분         object \n",
      " 4   차종             object \n",
      " 5   용도             object \n",
      " 6   미정             object \n",
      " 7   현재 회원번호        object \n",
      " 8   미정.1           object \n",
      " 9   미정.2           object \n",
      " 10  차대번호           object \n",
      " 11  최초 등록 일자       int64  \n",
      " 12  차량 연식          int64  \n",
      " 13  차량 제작 일자       float64\n",
      " 14  배출가스검사유효일자     float64\n",
      " 15  제원관리번호         object \n",
      " 16  배출가스 인증번호      object \n",
      " 17  배출가스 등급        object \n",
      " 18  저공해조치 YN(미사용)  object \n",
      " 19  저공해조치 종류       float64\n",
      " 20  저공해조치 구조변경 YN  object \n",
      " 21  미정.3           float64\n",
      " 22  차량등록번호 숫자 정보   int64  \n",
      " 23  차량 말소 YN       object \n",
      " 24  미정.4           object \n",
      " 25  최초 회원번호        object \n",
      " 26  취득 일자          float64\n",
      " 27  취득 금액          float64\n",
      " 28  미정.5           object \n",
      " 29  생성 일시          object \n",
      " 30  수정 일시          object \n",
      " 31  미정.6           object \n",
      "dtypes: float64(6), int64(4), object(22)\n",
      "memory usage: 2.9+ GB\n"
     ]
    }
   ],
   "source": [
    "# about 4m\n",
    "file_name = '[ODS][G2]자동차_등록정보(중복차대제거)(한글컬럼)(2022.12.29).csv'\n",
    "ods_path = os.path.join(ods_fold, file_name)\n",
    "df1 = pd.read_csv(ods_path, low_memory=False, encoding='cp949')\n",
    "df1.info()"
   ]
  },
  {
   "attachments": {},
   "cell_type": "markdown",
   "metadata": {},
   "source": [
    "### 정리\n",
    "- 컬럼명, 컬럼순서, 컬럼"
   ]
  },
  {
   "cell_type": "code",
   "execution_count": null,
   "metadata": {},
   "outputs": [
    {
     "data": {
      "text/plain": [
       "Index(['차량관리번호', '차량등록번호', '본거지 법정동 코드', '소유자 구분', '차종', '용도', '미정', '현재 회원번호',\n",
       "       '미정.1', '미정.2', '차대번호', '최초 등록 일자', '차량 연식', '차량 제작 일자', '배출가스검사유효일자',\n",
       "       '제원관리번호', '배출가스 인증번호', '배출가스 등급', '저공해조치 YN(미사용)', '저공해조치 종류',\n",
       "       '저공해조치 구조변경 YN', '미정.3', '차량등록번호 숫자 정보', '차량 말소 YN', '미정.4', '최초 회원번호',\n",
       "       '취득 일자', '취득 금액', '미정.5', '생성 일시', '수정 일시', '미정.6'],\n",
       "      dtype='object')"
      ]
     },
     "execution_count": 32,
     "metadata": {},
     "output_type": "execute_result"
    }
   ],
   "source": [
    "df1.columns"
   ]
  },
  {
   "cell_type": "code",
   "execution_count": null,
   "metadata": {},
   "outputs": [],
   "source": [
    "df1.columns = ['차량관리번호', '차량등록번호', '본거지법정동코드', '소유자구분', '차종_등록정보', '용도', '미정1', '현재회원번호',\n",
    "       '미정2', '미정3', '차대번호', '최초등록일자', '차량연식', '차량제작일자', '배출가스검사유효일자',\n",
    "       '제원관리번호', '배출가스인증번호', '배출가스등급', '저공해조치YN(미사용)', '저공해조치종류',\n",
    "       '저공해조치구조변경YN', '미정4', '차량등록번호숫자정보', '차량말소YN', '미정5', '최초회원번호',\n",
    "       '취득일자', '취득금액', '미정6', '생성일시_등록정보', '수정일시_등록정보', '미정7']"
   ]
  },
  {
   "cell_type": "code",
   "execution_count": null,
   "metadata": {},
   "outputs": [
    {
     "data": {
      "text/plain": [
       "2     11803371\n",
       "T2      250282\n",
       "Name: 배출가스등급, dtype: int64"
      ]
     },
     "execution_count": 35,
     "metadata": {},
     "output_type": "execute_result"
    }
   ],
   "source": [
    "df1['배출가스등급'].value_counts()"
   ]
  },
  {
   "attachments": {},
   "cell_type": "markdown",
   "metadata": {},
   "source": [
    "## [병합] 등록정보와 제원정보"
   ]
  },
  {
   "cell_type": "code",
   "execution_count": null,
   "metadata": {},
   "outputs": [
    {
     "name": "stdout",
     "output_type": "stream",
     "text": [
      "<class 'pandas.core.frame.DataFrame'>\n",
      "Int64Index: 12053653 entries, 0 to 12053652\n",
      "Data columns (total 49 columns):\n",
      " #   Column        Dtype  \n",
      "---  ------        -----  \n",
      " 0   차량관리번호        object \n",
      " 1   차량등록번호        object \n",
      " 2   본거지법정동코드      int64  \n",
      " 3   소유자구분         object \n",
      " 4   차종_등록정보       object \n",
      " 5   용도            object \n",
      " 6   현재회원번호        object \n",
      " 7   차대번호          object \n",
      " 8   최초등록일자        int64  \n",
      " 9   차량연식          int64  \n",
      " 10  차량제작일자        float64\n",
      " 11  배출가스검사유효일자    float64\n",
      " 12  제원관리번호        object \n",
      " 13  배출가스인증번호      object \n",
      " 14  배출가스등급        object \n",
      " 15  저공해조치YN(미사용)  object \n",
      " 16  저공해조치종류       float64\n",
      " 17  저공해조치구조변경YN   object \n",
      " 18  차량등록번호숫자정보    int64  \n",
      " 19  차량말소YN        object \n",
      " 20  최초회원번호        object \n",
      " 21  취득일자          float64\n",
      " 22  취득금액          float64\n",
      " 23  생성일시_등록정보     object \n",
      " 24  수정일시_등록정보     object \n",
      " 25  차명            object \n",
      " 26  차종_제원정보       object \n",
      " 27  차종분류          object \n",
      " 28  차종유형(소분류)     object \n",
      " 29  자동차형식         object \n",
      " 30  제작사명          object \n",
      " 31  연료            object \n",
      " 32  엔진형식          object \n",
      " 33  공차중량          float64\n",
      " 34  총중량           float64\n",
      " 35  적재중량          float64\n",
      " 36  엔진출력          float64\n",
      " 37  배기량           float64\n",
      " 38  승차인원          float64\n",
      " 39  차량길이          float64\n",
      " 40  차량너비          float64\n",
      " 41  차량높이          float64\n",
      " 42  원산지명          object \n",
      " 43  삭제YN          object \n",
      " 44  승인일자          object \n",
      " 45  구동형식          object \n",
      " 46  변속기종류         object \n",
      " 47  생성일시_제원정보     object \n",
      " 48  수정일시_제원정보     object \n",
      "dtypes: float64(14), int64(4), object(31)\n",
      "memory usage: 4.5+ GB\n"
     ]
    }
   ],
   "source": [
    "total = df1.merge(df2, on='제원관리번호', how='left')\n",
    "total.info()"
   ]
  },
  {
   "attachments": {},
   "cell_type": "markdown",
   "metadata": {},
   "source": [
    "## [출력] 등록정보와 제원정보"
   ]
  },
  {
   "cell_type": "code",
   "execution_count": null,
   "metadata": {},
   "outputs": [],
   "source": [
    "# about 5m\n",
    "total.to_csv(os.path.join(ods_fold, '[ODS][G2]등록정보&제원정보(중복차대제거)(한글컬럼)(2022.12.29).csv'), index=False, encoding='cp949')"
   ]
  },
  {
   "attachments": {},
   "cell_type": "markdown",
   "metadata": {},
   "source": [
    "# [ODS]3등급"
   ]
  },
  {
   "attachments": {},
   "cell_type": "markdown",
   "metadata": {},
   "source": [
    "## [로드]"
   ]
  },
  {
   "cell_type": "code",
   "execution_count": null,
   "metadata": {},
   "outputs": [
    {
     "name": "stdout",
     "output_type": "stream",
     "text": [
      "<class 'pandas.core.frame.DataFrame'>\n",
      "RangeIndex: 10027407 entries, 0 to 10027406\n",
      "Data columns (total 32 columns):\n",
      " #   Column         Dtype  \n",
      "---  ------         -----  \n",
      " 0   차량관리번호         object \n",
      " 1   차량등록번호         object \n",
      " 2   본거지 법정동 코드     int64  \n",
      " 3   소유자 구분         object \n",
      " 4   차종             object \n",
      " 5   용도             object \n",
      " 6   미정             object \n",
      " 7   현재 회원번호        object \n",
      " 8   미정.1           object \n",
      " 9   미정.2           object \n",
      " 10  차대번호           object \n",
      " 11  최초 등록 일자       int64  \n",
      " 12  차량 연식          int64  \n",
      " 13  차량 제작 일자       float64\n",
      " 14  배출가스검사유효일자     float64\n",
      " 15  제원관리번호         object \n",
      " 16  배출가스 인증번호      object \n",
      " 17  배출가스 등급        object \n",
      " 18  저공해조치 YN(미사용)  object \n",
      " 19  저공해조치 종류       float64\n",
      " 20  저공해조치 구조변경 YN  object \n",
      " 21  미정.3           float64\n",
      " 22  차량등록번호 숫자 정보   int64  \n",
      " 23  차량 말소 YN       object \n",
      " 24  미정.4           object \n",
      " 25  최초 회원번호        object \n",
      " 26  취득 일자          float64\n",
      " 27  취득 금액          float64\n",
      " 28  미정.5           object \n",
      " 29  생성 일시          object \n",
      " 30  수정 일시          object \n",
      " 31  미정.6           object \n",
      "dtypes: float64(6), int64(4), object(22)\n",
      "memory usage: 2.4+ GB\n"
     ]
    }
   ],
   "source": [
    "# about 3m\n",
    "file_name = '[ODS][G3]자동차_등록정보(중복차대제거)(한글컬럼)(2022.12.29).csv'\n",
    "ods_path = os.path.join(ods_fold, file_name)\n",
    "df1 = pd.read_csv(ods_path, low_memory=False, encoding='cp949')\n",
    "df1.info()"
   ]
  },
  {
   "attachments": {},
   "cell_type": "markdown",
   "metadata": {},
   "source": [
    "### 정리\n",
    "- 컬럼명, 컬럼순서, 컬럼"
   ]
  },
  {
   "cell_type": "code",
   "execution_count": null,
   "metadata": {},
   "outputs": [
    {
     "data": {
      "text/plain": [
       "Index(['차량관리번호', '차량등록번호', '본거지 법정동 코드', '소유자 구분', '차종', '용도', '미정', '현재 회원번호',\n",
       "       '미정.1', '미정.2', '차대번호', '최초 등록 일자', '차량 연식', '차량 제작 일자', '배출가스검사유효일자',\n",
       "       '제원관리번호', '배출가스 인증번호', '배출가스 등급', '저공해조치 YN(미사용)', '저공해조치 종류',\n",
       "       '저공해조치 구조변경 YN', '미정.3', '차량등록번호 숫자 정보', '차량 말소 YN', '미정.4', '최초 회원번호',\n",
       "       '취득 일자', '취득 금액', '미정.5', '생성 일시', '수정 일시', '미정.6'],\n",
       "      dtype='object')"
      ]
     },
     "execution_count": 40,
     "metadata": {},
     "output_type": "execute_result"
    }
   ],
   "source": [
    "df1.columns"
   ]
  },
  {
   "cell_type": "code",
   "execution_count": null,
   "metadata": {},
   "outputs": [],
   "source": [
    "df1.columns = ['차량관리번호', '차량등록번호', '본거지법정동코드', '소유자구분', '차종_등록정보', '용도', '미정1', '현재회원번호',\n",
    "       '미정2', '미정3', '차대번호', '최초등록일자', '차량연식', '차량제작일자', '배출가스검사유효일자',\n",
    "       '제원관리번호', '배출가스인증번호', '배출가스등급', '저공해조치YN(미사용)', '저공해조치종류',\n",
    "       '저공해조치구조변경YN', '미정4', '차량등록번호숫자정보', '차량말소YN', '미정5', '최초회원번호',\n",
    "       '취득일자', '취득금액', '미정6', '생성일시_등록정보', '수정일시_등록정보', '미정7']"
   ]
  },
  {
   "cell_type": "code",
   "execution_count": null,
   "metadata": {},
   "outputs": [
    {
     "data": {
      "text/plain": [
       "3     9890563\n",
       "T3     136844\n",
       "Name: 배출가스등급, dtype: int64"
      ]
     },
     "execution_count": 43,
     "metadata": {},
     "output_type": "execute_result"
    }
   ],
   "source": [
    "df1['배출가스등급'].value_counts()"
   ]
  },
  {
   "attachments": {},
   "cell_type": "markdown",
   "metadata": {},
   "source": [
    "## [병합] 등록정보와 제원정보"
   ]
  },
  {
   "cell_type": "code",
   "execution_count": null,
   "metadata": {},
   "outputs": [
    {
     "name": "stdout",
     "output_type": "stream",
     "text": [
      "<class 'pandas.core.frame.DataFrame'>\n",
      "Int64Index: 10027407 entries, 0 to 10027406\n",
      "Data columns (total 49 columns):\n",
      " #   Column        Dtype  \n",
      "---  ------        -----  \n",
      " 0   차량관리번호        object \n",
      " 1   차량등록번호        object \n",
      " 2   본거지법정동코드      int64  \n",
      " 3   소유자구분         object \n",
      " 4   차종_등록정보       object \n",
      " 5   용도            object \n",
      " 6   현재회원번호        object \n",
      " 7   차대번호          object \n",
      " 8   최초등록일자        int64  \n",
      " 9   차량연식          int64  \n",
      " 10  차량제작일자        float64\n",
      " 11  배출가스검사유효일자    float64\n",
      " 12  제원관리번호        object \n",
      " 13  배출가스인증번호      object \n",
      " 14  배출가스등급        object \n",
      " 15  저공해조치YN(미사용)  object \n",
      " 16  저공해조치종류       float64\n",
      " 17  저공해조치구조변경YN   object \n",
      " 18  차량등록번호숫자정보    int64  \n",
      " 19  차량말소YN        object \n",
      " 20  최초회원번호        object \n",
      " 21  취득일자          float64\n",
      " 22  취득금액          float64\n",
      " 23  생성일시_등록정보     object \n",
      " 24  수정일시_등록정보     object \n",
      " 25  차명            object \n",
      " 26  차종_제원정보       object \n",
      " 27  차종분류          object \n",
      " 28  차종유형(소분류)     object \n",
      " 29  자동차형식         object \n",
      " 30  제작사명          object \n",
      " 31  연료            object \n",
      " 32  엔진형식          object \n",
      " 33  공차중량          float64\n",
      " 34  총중량           float64\n",
      " 35  적재중량          float64\n",
      " 36  엔진출력          float64\n",
      " 37  배기량           float64\n",
      " 38  승차인원          float64\n",
      " 39  차량길이          float64\n",
      " 40  차량너비          float64\n",
      " 41  차량높이          float64\n",
      " 42  원산지명          object \n",
      " 43  삭제YN          object \n",
      " 44  승인일자          object \n",
      " 45  구동형식          object \n",
      " 46  변속기종류         object \n",
      " 47  생성일시_제원정보     object \n",
      " 48  수정일시_제원정보     object \n",
      "dtypes: float64(14), int64(4), object(31)\n",
      "memory usage: 3.7+ GB\n"
     ]
    }
   ],
   "source": [
    "total = df1.merge(df2, on='제원관리번호', how='left')\n",
    "total.info()"
   ]
  },
  {
   "attachments": {},
   "cell_type": "markdown",
   "metadata": {},
   "source": [
    "## [출력] 등록정보와 제원정보"
   ]
  },
  {
   "cell_type": "code",
   "execution_count": null,
   "metadata": {},
   "outputs": [],
   "source": [
    "# about 4m\n",
    "total.to_csv(os.path.join(ods_fold, '[ODS][G3]등록정보&제원정보(중복차대제거)(한글컬럼)(2022.12.29).csv'), index=False, encoding='cp949')"
   ]
  },
  {
   "attachments": {},
   "cell_type": "markdown",
   "metadata": {},
   "source": [
    "# [ODS]4등급"
   ]
  },
  {
   "attachments": {},
   "cell_type": "markdown",
   "metadata": {},
   "source": [
    "## [로드]"
   ]
  },
  {
   "cell_type": "code",
   "execution_count": null,
   "metadata": {},
   "outputs": [
    {
     "name": "stdout",
     "output_type": "stream",
     "text": [
      "<class 'pandas.core.frame.DataFrame'>\n",
      "RangeIndex: 1898816 entries, 0 to 1898815\n",
      "Data columns (total 32 columns):\n",
      " #   Column         Dtype  \n",
      "---  ------         -----  \n",
      " 0   차량관리번호         object \n",
      " 1   차량등록번호         object \n",
      " 2   본거지 법정동 코드     int64  \n",
      " 3   소유자 구분         object \n",
      " 4   차종             object \n",
      " 5   용도             object \n",
      " 6   미정             object \n",
      " 7   현재 회원번호        object \n",
      " 8   미정.1           object \n",
      " 9   미정.2           object \n",
      " 10  차대번호           object \n",
      " 11  최초 등록 일자       int64  \n",
      " 12  차량 연식          int64  \n",
      " 13  차량 제작 일자       float64\n",
      " 14  배출가스검사유효일자     float64\n",
      " 15  제원관리번호         object \n",
      " 16  배출가스 인증번호      object \n",
      " 17  배출가스 등급        object \n",
      " 18  저공해조치 YN(미사용)  object \n",
      " 19  저공해조치 종류       float64\n",
      " 20  저공해조치 구조변경 YN  object \n",
      " 21  미정.3           float64\n",
      " 22  차량등록번호 숫자 정보   int64  \n",
      " 23  차량 말소 YN       object \n",
      " 24  미정.4           object \n",
      " 25  최초 회원번호        object \n",
      " 26  취득 일자          object \n",
      " 27  취득 금액          float64\n",
      " 28  미정.5           object \n",
      " 29  생성 일시          object \n",
      " 30  수정 일시          object \n",
      " 31  미정.6           object \n",
      "dtypes: float64(5), int64(4), object(23)\n",
      "memory usage: 463.6+ MB\n"
     ]
    }
   ],
   "source": [
    "# about 40s\n",
    "file_name = '[ODS][G4]자동차_등록정보(중복차대제거)(한글컬럼)(2022.12.29).csv'\n",
    "ods_path = os.path.join(ods_fold, file_name)\n",
    "df1 = pd.read_csv(ods_path, low_memory=False, encoding='cp949')\n",
    "df1.info()"
   ]
  },
  {
   "attachments": {},
   "cell_type": "markdown",
   "metadata": {},
   "source": [
    "### 정리\n",
    "- 컬럼명, 컬럼순서, 컬럼"
   ]
  },
  {
   "cell_type": "code",
   "execution_count": null,
   "metadata": {},
   "outputs": [
    {
     "data": {
      "text/plain": [
       "Index(['차량관리번호', '차량등록번호', '본거지 법정동 코드', '소유자 구분', '차종', '용도', '미정', '현재 회원번호',\n",
       "       '미정.1', '미정.2', '차대번호', '최초 등록 일자', '차량 연식', '차량 제작 일자', '배출가스검사유효일자',\n",
       "       '제원관리번호', '배출가스 인증번호', '배출가스 등급', '저공해조치 YN(미사용)', '저공해조치 종류',\n",
       "       '저공해조치 구조변경 YN', '미정.3', '차량등록번호 숫자 정보', '차량 말소 YN', '미정.4', '최초 회원번호',\n",
       "       '취득 일자', '취득 금액', '미정.5', '생성 일시', '수정 일시', '미정.6'],\n",
       "      dtype='object')"
      ]
     },
     "execution_count": 47,
     "metadata": {},
     "output_type": "execute_result"
    }
   ],
   "source": [
    "df1.columns"
   ]
  },
  {
   "cell_type": "code",
   "execution_count": null,
   "metadata": {},
   "outputs": [],
   "source": [
    "df1.columns = ['차량관리번호', '차량등록번호', '본거지법정동코드', '소유자구분', '차종_등록정보', '용도', '미정1', '현재회원번호',\n",
    "       '미정2', '미정3', '차대번호', '최초등록일자', '차량연식', '차량제작일자', '배출가스검사유효일자',\n",
    "       '제원관리번호', '배출가스인증번호', '배출가스등급', '저공해조치YN(미사용)', '저공해조치종류',\n",
    "       '저공해조치구조변경YN', '미정4', '차량등록번호숫자정보', '차량말소YN', '미정5', '최초회원번호',\n",
    "       '취득일자', '취득금액', '미정6', '생성일시_등록정보', '수정일시_등록정보', '미정7']"
   ]
  },
  {
   "cell_type": "code",
   "execution_count": null,
   "metadata": {},
   "outputs": [
    {
     "data": {
      "text/plain": [
       "4     1898773\n",
       "T4         43\n",
       "Name: 배출가스등급, dtype: int64"
      ]
     },
     "execution_count": 50,
     "metadata": {},
     "output_type": "execute_result"
    }
   ],
   "source": [
    "df1['배출가스등급'].value_counts()"
   ]
  },
  {
   "attachments": {},
   "cell_type": "markdown",
   "metadata": {},
   "source": [
    "## [병합] 등록정보와 제원정보"
   ]
  },
  {
   "cell_type": "code",
   "execution_count": null,
   "metadata": {},
   "outputs": [
    {
     "name": "stdout",
     "output_type": "stream",
     "text": [
      "<class 'pandas.core.frame.DataFrame'>\n",
      "Int64Index: 1898816 entries, 0 to 1898815\n",
      "Data columns (total 49 columns):\n",
      " #   Column        Dtype  \n",
      "---  ------        -----  \n",
      " 0   차량관리번호        object \n",
      " 1   차량등록번호        object \n",
      " 2   본거지법정동코드      int64  \n",
      " 3   소유자구분         object \n",
      " 4   차종_등록정보       object \n",
      " 5   용도            object \n",
      " 6   현재회원번호        object \n",
      " 7   차대번호          object \n",
      " 8   최초등록일자        int64  \n",
      " 9   차량연식          int64  \n",
      " 10  차량제작일자        float64\n",
      " 11  배출가스검사유효일자    float64\n",
      " 12  제원관리번호        object \n",
      " 13  배출가스인증번호      object \n",
      " 14  배출가스등급        object \n",
      " 15  저공해조치YN(미사용)  object \n",
      " 16  저공해조치종류       float64\n",
      " 17  저공해조치구조변경YN   object \n",
      " 18  차량등록번호숫자정보    int64  \n",
      " 19  차량말소YN        object \n",
      " 20  최초회원번호        object \n",
      " 21  취득일자          object \n",
      " 22  취득금액          float64\n",
      " 23  생성일시_등록정보     object \n",
      " 24  수정일시_등록정보     object \n",
      " 25  차명            object \n",
      " 26  차종_제원정보       object \n",
      " 27  차종분류          object \n",
      " 28  차종유형(소분류)     object \n",
      " 29  자동차형식         object \n",
      " 30  제작사명          object \n",
      " 31  연료            object \n",
      " 32  엔진형식          object \n",
      " 33  공차중량          float64\n",
      " 34  총중량           float64\n",
      " 35  적재중량          float64\n",
      " 36  엔진출력          float64\n",
      " 37  배기량           float64\n",
      " 38  승차인원          float64\n",
      " 39  차량길이          float64\n",
      " 40  차량너비          float64\n",
      " 41  차량높이          float64\n",
      " 42  원산지명          object \n",
      " 43  삭제YN          object \n",
      " 44  승인일자          object \n",
      " 45  구동형식          object \n",
      " 46  변속기종류         object \n",
      " 47  생성일시_제원정보     object \n",
      " 48  수정일시_제원정보     object \n",
      "dtypes: float64(13), int64(4), object(32)\n",
      "memory usage: 724.3+ MB\n"
     ]
    }
   ],
   "source": [
    "total = df1.merge(df2, on='제원관리번호', how='left')\n",
    "total.info()"
   ]
  },
  {
   "attachments": {},
   "cell_type": "markdown",
   "metadata": {},
   "source": [
    "## [출력] 등록정보와 제원정보"
   ]
  },
  {
   "cell_type": "code",
   "execution_count": null,
   "metadata": {},
   "outputs": [],
   "source": [
    "# about 45s\n",
    "total.to_csv(os.path.join(ods_fold, '[ODS][G4]등록정보&제원정보(중복차대제거)(한글컬럼)(2022.12.29).csv'), index=False, encoding='cp949')"
   ]
  },
  {
   "attachments": {},
   "cell_type": "markdown",
   "metadata": {},
   "source": [
    "# [ODS]5등급"
   ]
  },
  {
   "attachments": {},
   "cell_type": "markdown",
   "metadata": {},
   "source": [
    "## [로드]"
   ]
  },
  {
   "cell_type": "code",
   "execution_count": null,
   "metadata": {},
   "outputs": [
    {
     "name": "stdout",
     "output_type": "stream",
     "text": [
      "<class 'pandas.core.frame.DataFrame'>\n",
      "RangeIndex: 2378648 entries, 0 to 2378647\n",
      "Data columns (total 32 columns):\n",
      " #   Column         Dtype  \n",
      "---  ------         -----  \n",
      " 0   차량관리번호         object \n",
      " 1   차량등록번호         object \n",
      " 2   본거지 법정동 코드     int64  \n",
      " 3   소유자 구분         object \n",
      " 4   차종             object \n",
      " 5   용도             object \n",
      " 6   미정             object \n",
      " 7   현재 회원번호        object \n",
      " 8   미정.1           object \n",
      " 9   미정.2           object \n",
      " 10  차대번호           object \n",
      " 11  최초 등록 일자       int64  \n",
      " 12  차량 연식          int64  \n",
      " 13  차량 제작 일자       object \n",
      " 14  배출가스검사유효일자     float64\n",
      " 15  제원관리번호         object \n",
      " 16  배출가스 인증번호      object \n",
      " 17  배출가스 등급        object \n",
      " 18  저공해조치 YN(미사용)  object \n",
      " 19  저공해조치 종류       float64\n",
      " 20  저공해조치 구조변경 YN  object \n",
      " 21  미정.3           float64\n",
      " 22  차량등록번호 숫자 정보   int64  \n",
      " 23  차량 말소 YN       object \n",
      " 24  미정.4           object \n",
      " 25  최초 회원번호        object \n",
      " 26  취득 일자          float64\n",
      " 27  취득 금액          float64\n",
      " 28  미정.5           object \n",
      " 29  생성 일시          object \n",
      " 30  수정 일시          object \n",
      " 31  미정.6           object \n",
      "dtypes: float64(5), int64(4), object(23)\n",
      "memory usage: 580.7+ MB\n"
     ]
    }
   ],
   "source": [
    "# about 50s\n",
    "file_name = '[ODS][G5]자동차_등록정보(중복차대제거)(한글컬럼)(2022.12.29).csv'\n",
    "ods_path = os.path.join(ods_fold, file_name)\n",
    "df1 = pd.read_csv(ods_path, low_memory=False, encoding='cp949')\n",
    "df1.info()"
   ]
  },
  {
   "attachments": {},
   "cell_type": "markdown",
   "metadata": {},
   "source": [
    "### 정리\n",
    "- 컬럼명, 컬럼순서, 컬럼"
   ]
  },
  {
   "cell_type": "code",
   "execution_count": null,
   "metadata": {},
   "outputs": [
    {
     "data": {
      "text/plain": [
       "Index(['차량관리번호', '차량등록번호', '본거지 법정동 코드', '소유자 구분', '차종', '용도', '미정', '현재 회원번호',\n",
       "       '미정.1', '미정.2', '차대번호', '최초 등록 일자', '차량 연식', '차량 제작 일자', '배출가스검사유효일자',\n",
       "       '제원관리번호', '배출가스 인증번호', '배출가스 등급', '저공해조치 YN(미사용)', '저공해조치 종류',\n",
       "       '저공해조치 구조변경 YN', '미정.3', '차량등록번호 숫자 정보', '차량 말소 YN', '미정.4', '최초 회원번호',\n",
       "       '취득 일자', '취득 금액', '미정.5', '생성 일시', '수정 일시', '미정.6'],\n",
       "      dtype='object')"
      ]
     },
     "execution_count": 54,
     "metadata": {},
     "output_type": "execute_result"
    }
   ],
   "source": [
    "df1.columns"
   ]
  },
  {
   "cell_type": "code",
   "execution_count": null,
   "metadata": {},
   "outputs": [],
   "source": [
    "df1.columns = ['차량관리번호', '차량등록번호', '본거지법정동코드', '소유자구분', '차종_등록정보', '용도', '미정1', '현재회원번호',\n",
    "       '미정2', '미정3', '차대번호', '최초등록일자', '차량연식', '차량제작일자', '배출가스검사유효일자',\n",
    "       '제원관리번호', '배출가스인증번호', '배출가스등급', '저공해조치YN(미사용)', '저공해조치종류',\n",
    "       '저공해조치구조변경YN', '미정4', '차량등록번호숫자정보', '차량말소YN', '미정5', '최초회원번호',\n",
    "       '취득일자', '취득금액', '미정6', '생성일시_등록정보', '수정일시_등록정보', '미정7']"
   ]
  },
  {
   "cell_type": "code",
   "execution_count": null,
   "metadata": {},
   "outputs": [
    {
     "data": {
      "text/plain": [
       "5     2378599\n",
       "T5         49\n",
       "Name: 배출가스등급, dtype: int64"
      ]
     },
     "execution_count": 57,
     "metadata": {},
     "output_type": "execute_result"
    }
   ],
   "source": [
    "df1['배출가스등급'].value_counts()"
   ]
  },
  {
   "attachments": {},
   "cell_type": "markdown",
   "metadata": {},
   "source": [
    "## [병합] 등록정보와 제원정보"
   ]
  },
  {
   "cell_type": "code",
   "execution_count": null,
   "metadata": {},
   "outputs": [
    {
     "name": "stdout",
     "output_type": "stream",
     "text": [
      "<class 'pandas.core.frame.DataFrame'>\n",
      "Int64Index: 2378648 entries, 0 to 2378647\n",
      "Data columns (total 49 columns):\n",
      " #   Column        Dtype  \n",
      "---  ------        -----  \n",
      " 0   차량관리번호        object \n",
      " 1   차량등록번호        object \n",
      " 2   본거지법정동코드      int64  \n",
      " 3   소유자구분         object \n",
      " 4   차종_등록정보       object \n",
      " 5   용도            object \n",
      " 6   현재회원번호        object \n",
      " 7   차대번호          object \n",
      " 8   최초등록일자        int64  \n",
      " 9   차량연식          int64  \n",
      " 10  차량제작일자        object \n",
      " 11  배출가스검사유효일자    float64\n",
      " 12  제원관리번호        object \n",
      " 13  배출가스인증번호      object \n",
      " 14  배출가스등급        object \n",
      " 15  저공해조치YN(미사용)  object \n",
      " 16  저공해조치종류       float64\n",
      " 17  저공해조치구조변경YN   object \n",
      " 18  차량등록번호숫자정보    int64  \n",
      " 19  차량말소YN        object \n",
      " 20  최초회원번호        object \n",
      " 21  취득일자          float64\n",
      " 22  취득금액          float64\n",
      " 23  생성일시_등록정보     object \n",
      " 24  수정일시_등록정보     object \n",
      " 25  차명            object \n",
      " 26  차종_제원정보       object \n",
      " 27  차종분류          object \n",
      " 28  차종유형(소분류)     object \n",
      " 29  자동차형식         object \n",
      " 30  제작사명          object \n",
      " 31  연료            object \n",
      " 32  엔진형식          object \n",
      " 33  공차중량          float64\n",
      " 34  총중량           float64\n",
      " 35  적재중량          float64\n",
      " 36  엔진출력          float64\n",
      " 37  배기량           float64\n",
      " 38  승차인원          float64\n",
      " 39  차량길이          float64\n",
      " 40  차량너비          float64\n",
      " 41  차량높이          float64\n",
      " 42  원산지명          object \n",
      " 43  삭제YN          object \n",
      " 44  승인일자          object \n",
      " 45  구동형식          object \n",
      " 46  변속기종류         object \n",
      " 47  생성일시_제원정보     object \n",
      " 48  수정일시_제원정보     object \n",
      "dtypes: float64(13), int64(4), object(32)\n",
      "memory usage: 907.4+ MB\n"
     ]
    }
   ],
   "source": [
    "total = df1.merge(df2, on='제원관리번호', how='left')\n",
    "total.info()"
   ]
  },
  {
   "attachments": {},
   "cell_type": "markdown",
   "metadata": {},
   "source": [
    "## [출력] 등록정보와 제원정보"
   ]
  },
  {
   "cell_type": "code",
   "execution_count": null,
   "metadata": {},
   "outputs": [],
   "source": [
    "# about 1m\n",
    "total.to_csv(os.path.join(ods_fold, '[ODS][G5]등록정보&제원정보(중복차대제거)(한글컬럼)(2022.12.29).csv'), index=False, encoding='cp949')"
   ]
  },
  {
   "attachments": {},
   "cell_type": "markdown",
   "metadata": {},
   "source": [
    "# [ODS]1등급(말소제거)"
   ]
  },
  {
   "attachments": {},
   "cell_type": "markdown",
   "metadata": {},
   "source": [
    "## [로드]"
   ]
  },
  {
   "cell_type": "code",
   "execution_count": null,
   "metadata": {},
   "outputs": [
    {
     "name": "stdout",
     "output_type": "stream",
     "text": [
      "<class 'pandas.core.frame.DataFrame'>\n",
      "RangeIndex: 2771395 entries, 0 to 2771394\n",
      "Data columns (total 32 columns):\n",
      " #   Column         Dtype  \n",
      "---  ------         -----  \n",
      " 0   차량관리번호         object \n",
      " 1   차량등록번호         object \n",
      " 2   본거지 법정동 코드     int64  \n",
      " 3   소유자 구분         object \n",
      " 4   차종             object \n",
      " 5   용도             object \n",
      " 6   미정             object \n",
      " 7   현재 회원번호        object \n",
      " 8   미정.1           object \n",
      " 9   미정.2           object \n",
      " 10  차대번호           object \n",
      " 11  최초 등록 일자       int64  \n",
      " 12  차량 연식          int64  \n",
      " 13  차량 제작 일자       float64\n",
      " 14  배출가스검사유효일자     float64\n",
      " 15  제원관리번호         object \n",
      " 16  배출가스 인증번호      object \n",
      " 17  배출가스 등급        int64  \n",
      " 18  저공해조치 YN(미사용)  object \n",
      " 19  저공해조치 종류       float64\n",
      " 20  저공해조치 구조변경 YN  object \n",
      " 21  미정.3           float64\n",
      " 22  차량등록번호 숫자 정보   int64  \n",
      " 23  차량 말소 YN       object \n",
      " 24  미정.4           object \n",
      " 25  최초 회원번호        object \n",
      " 26  취득 일자          float64\n",
      " 27  취득 금액          float64\n",
      " 28  미정.5           object \n",
      " 29  생성 일시          object \n",
      " 30  수정 일시          object \n",
      " 31  미정.6           object \n",
      "dtypes: float64(6), int64(5), object(21)\n",
      "memory usage: 676.6+ MB\n"
     ]
    }
   ],
   "source": [
    "# about 1m 10s\n",
    "grade = 1\n",
    "file_name = f'[ODS][G{grade}]자동차_등록정보(말소제거)(중복차대제거)(한글컬럼)(2022.12.29).csv'\n",
    "ods_path = os.path.join(ods_fold, file_name)\n",
    "df1 = pd.read_csv(ods_path, low_memory=False, encoding='cp949')\n",
    "df1.info()"
   ]
  },
  {
   "cell_type": "code",
   "execution_count": null,
   "metadata": {},
   "outputs": [
    {
     "name": "stdout",
     "output_type": "stream",
     "text": [
      "<class 'pandas.core.frame.DataFrame'>\n",
      "RangeIndex: 545374 entries, 0 to 545373\n",
      "Data columns (total 28 columns):\n",
      " #   Column       Non-Null Count   Dtype  \n",
      "---  ------       --------------   -----  \n",
      " 0   제원관리번호       545374 non-null  object \n",
      " 1   차명           545272 non-null  object \n",
      " 2   차종           545370 non-null  object \n",
      " 3   차종 분류        531367 non-null  object \n",
      " 4   차종 유형 (소분류)  531332 non-null  object \n",
      " 5   자동차 형식       516295 non-null  object \n",
      " 6   제작사 명        529017 non-null  object \n",
      " 7   연료           503254 non-null  object \n",
      " 8   엔진형식         494157 non-null  object \n",
      " 9   공차중량         0 non-null       float64\n",
      " 10  총 중량         541702 non-null  float64\n",
      " 11  적재 중량        446181 non-null  float64\n",
      " 12  엔진출력         471948 non-null  float64\n",
      " 13  배기량          510521 non-null  float64\n",
      " 14  승차 인원        545313 non-null  float64\n",
      " 15  차량 길이        514786 non-null  float64\n",
      " 16  차량 너비        514799 non-null  float64\n",
      " 17  차량 높이        514732 non-null  float64\n",
      " 18  원산지 명        540392 non-null  object \n",
      " 19  미정           0 non-null       float64\n",
      " 20  삭제 YN        545374 non-null  object \n",
      " 21  승인 일자        532881 non-null  object \n",
      " 22  구동 형식        114619 non-null  object \n",
      " 23  변속기 종류       540165 non-null  object \n",
      " 24  미정.1         1 non-null       object \n",
      " 25  생성 일시        545374 non-null  object \n",
      " 26  수정 일시        14578 non-null   object \n",
      " 27  미정.2         545374 non-null  object \n",
      "dtypes: float64(10), object(18)\n",
      "memory usage: 116.5+ MB\n"
     ]
    }
   ],
   "source": [
    "# about 3s\n",
    "file_name = '[ODS]자동차_제원정보(한글컬럼)(2022.12.29).csv'\n",
    "ods_path = os.path.join(ods_fold, file_name)\n",
    "df2 = pd.read_csv(ods_path, low_memory=False, encoding='cp949')\n",
    "df2.info()"
   ]
  },
  {
   "attachments": {},
   "cell_type": "markdown",
   "metadata": {},
   "source": [
    "### 정리\n",
    "- 컬럼명, 컬럼순서, 컬럼"
   ]
  },
  {
   "cell_type": "code",
   "execution_count": null,
   "metadata": {},
   "outputs": [
    {
     "data": {
      "text/plain": [
       "Index(['차량관리번호', '차량등록번호', '본거지 법정동 코드', '소유자 구분', '차종', '용도', '미정', '현재 회원번호',\n",
       "       '미정.1', '미정.2', '차대번호', '최초 등록 일자', '차량 연식', '차량 제작 일자', '배출가스검사유효일자',\n",
       "       '제원관리번호', '배출가스 인증번호', '배출가스 등급', '저공해조치 YN(미사용)', '저공해조치 종류',\n",
       "       '저공해조치 구조변경 YN', '미정.3', '차량등록번호 숫자 정보', '차량 말소 YN', '미정.4', '최초 회원번호',\n",
       "       '취득 일자', '취득 금액', '미정.5', '생성 일시', '수정 일시', '미정.6'],\n",
       "      dtype='object')"
      ]
     },
     "execution_count": 22,
     "metadata": {},
     "output_type": "execute_result"
    }
   ],
   "source": [
    "df1.columns"
   ]
  },
  {
   "cell_type": "code",
   "execution_count": null,
   "metadata": {},
   "outputs": [],
   "source": [
    "df1.columns = ['차량관리번호', '차량등록번호', '본거지법정동코드', '소유자구분', '차종_등록정보', '용도', '미정1', '현재회원번호', '미정2', '미정3', '차대번호', '최초등록일자', '차량연식', '차량제작일자', \n",
    "               '배출가스검사유효일자', '제원관리번호', '배출가스인증번호', '배출가스등급', '저공해조치YN(미사용)', '저공해조치종류', '저공해조치구조변경YN', '미정4', '차량등록번호숫자정보', '차량말소YN', '미정5', '최초회원번호', '취득일자', '취득금액', '미정6', '생성일시_등록정보', '수정일시_등록정보', '미정7']"
   ]
  },
  {
   "cell_type": "code",
   "execution_count": null,
   "metadata": {},
   "outputs": [
    {
     "data": {
      "text/plain": [
       "Index(['제원관리번호', '차명', '차종', '차종 분류', '차종 유형 (소분류)', '자동차 형식', '제작사 명', '연료',\n",
       "       '엔진형식', '공차중량', '총 중량', '적재 중량', '엔진출력', '배기량', '승차 인원', '차량 길이',\n",
       "       '차량 너비', '차량 높이', '원산지 명', '미정', '삭제 YN', '승인 일자', '구동 형식', '변속기 종류',\n",
       "       '미정.1', '생성 일시', '수정 일시', '미정.2'],\n",
       "      dtype='object')"
      ]
     },
     "execution_count": 24,
     "metadata": {},
     "output_type": "execute_result"
    }
   ],
   "source": [
    "df2.columns"
   ]
  },
  {
   "cell_type": "code",
   "execution_count": null,
   "metadata": {},
   "outputs": [],
   "source": [
    "df2.columns = ['제원관리번호', '차명', '차종_제원정보', '차종분류', '차종유형(소분류)', '자동차형식', '제작사명', '연료',\n",
    "       '엔진형식', '공차중량', '총중량', '적재중량', '엔진출력', '배기량', '승차인원', '차량길이',\n",
    "       '차량너비', '차량높이', '원산지명', '미정1', '삭제YN', '승인일자', '구동형식', '변속기종류',\n",
    "       '미정2', '생성일시_제원정보', '수정일시_제원정보', '미정3']"
   ]
  },
  {
   "cell_type": "code",
   "execution_count": null,
   "metadata": {},
   "outputs": [
    {
     "data": {
      "text/plain": [
       "1    2771395\n",
       "Name: 배출가스등급, dtype: int64"
      ]
     },
     "execution_count": 26,
     "metadata": {},
     "output_type": "execute_result"
    }
   ],
   "source": [
    "df1['배출가스등급'].value_counts()"
   ]
  },
  {
   "attachments": {},
   "cell_type": "markdown",
   "metadata": {},
   "source": [
    "## [병합] 등록정보와 제원정보"
   ]
  },
  {
   "cell_type": "code",
   "execution_count": null,
   "metadata": {},
   "outputs": [
    {
     "name": "stdout",
     "output_type": "stream",
     "text": [
      "<class 'pandas.core.frame.DataFrame'>\n",
      "Int64Index: 2771395 entries, 0 to 2771394\n",
      "Data columns (total 59 columns):\n",
      " #   Column        Dtype  \n",
      "---  ------        -----  \n",
      " 0   차량관리번호        object \n",
      " 1   차량등록번호        object \n",
      " 2   본거지법정동코드      int64  \n",
      " 3   소유자구분         object \n",
      " 4   차종_등록정보       object \n",
      " 5   용도            object \n",
      " 6   미정1_x         object \n",
      " 7   현재회원번호        object \n",
      " 8   미정2_x         object \n",
      " 9   미정3_x         object \n",
      " 10  차대번호          object \n",
      " 11  최초등록일자        int64  \n",
      " 12  차량연식          int64  \n",
      " 13  차량제작일자        float64\n",
      " 14  배출가스검사유효일자    float64\n",
      " 15  제원관리번호        object \n",
      " 16  배출가스인증번호      object \n",
      " 17  배출가스등급        int64  \n",
      " 18  저공해조치YN(미사용)  object \n",
      " 19  저공해조치종류       float64\n",
      " 20  저공해조치구조변경YN   object \n",
      " 21  미정4           float64\n",
      " 22  차량등록번호숫자정보    int64  \n",
      " 23  차량말소YN        object \n",
      " 24  미정5           object \n",
      " 25  최초회원번호        object \n",
      " 26  취득일자          float64\n",
      " 27  취득금액          float64\n",
      " 28  미정6           object \n",
      " 29  생성일시_등록정보     object \n",
      " 30  수정일시_등록정보     object \n",
      " 31  미정7           object \n",
      " 32  차명            object \n",
      " 33  차종_제원정보       object \n",
      " 34  차종분류          object \n",
      " 35  차종유형(소분류)     object \n",
      " 36  자동차형식         object \n",
      " 37  제작사명          object \n",
      " 38  연료            object \n",
      " 39  엔진형식          object \n",
      " 40  공차중량          float64\n",
      " 41  총중량           float64\n",
      " 42  적재중량          float64\n",
      " 43  엔진출력          float64\n",
      " 44  배기량           float64\n",
      " 45  승차인원          float64\n",
      " 46  차량길이          float64\n",
      " 47  차량너비          float64\n",
      " 48  차량높이          float64\n",
      " 49  원산지명          object \n",
      " 50  미정1_y         float64\n",
      " 51  삭제YN          object \n",
      " 52  승인일자          object \n",
      " 53  구동형식          object \n",
      " 54  변속기종류         object \n",
      " 55  미정2_y         object \n",
      " 56  생성일시_제원정보     object \n",
      " 57  수정일시_제원정보     object \n",
      " 58  미정3_y         object \n",
      "dtypes: float64(16), int64(5), object(38)\n",
      "memory usage: 1.2+ GB\n"
     ]
    }
   ],
   "source": [
    "total = df1.merge(df2, on='제원관리번호', how='left')\n",
    "total.info()"
   ]
  },
  {
   "attachments": {},
   "cell_type": "markdown",
   "metadata": {},
   "source": [
    "## [출력] 등록정보와 제원정보"
   ]
  },
  {
   "cell_type": "code",
   "execution_count": null,
   "metadata": {},
   "outputs": [],
   "source": [
    "# about 2m\n",
    "total.to_csv(os.path.join(ods_fold, f'[ODS][G{grade}]등록정보&제원정보(말소제거)(중복차대제거)(한글컬럼)(2022.12.29).csv'), index=False, encoding='cp949')"
   ]
  },
  {
   "attachments": {},
   "cell_type": "markdown",
   "metadata": {},
   "source": [
    "# [ODS]2등급(말소제거)"
   ]
  },
  {
   "attachments": {},
   "cell_type": "markdown",
   "metadata": {},
   "source": [
    "## [로드]"
   ]
  },
  {
   "cell_type": "code",
   "execution_count": null,
   "metadata": {},
   "outputs": [
    {
     "name": "stdout",
     "output_type": "stream",
     "text": [
      "<class 'pandas.core.frame.DataFrame'>\n",
      "RangeIndex: 11207727 entries, 0 to 11207726\n",
      "Data columns (total 32 columns):\n",
      " #   Column         Dtype  \n",
      "---  ------         -----  \n",
      " 0   차량관리번호         object \n",
      " 1   차량등록번호         object \n",
      " 2   본거지 법정동 코드     int64  \n",
      " 3   소유자 구분         object \n",
      " 4   차종             object \n",
      " 5   용도             object \n",
      " 6   미정             object \n",
      " 7   현재 회원번호        object \n",
      " 8   미정.1           object \n",
      " 9   미정.2           object \n",
      " 10  차대번호           object \n",
      " 11  최초 등록 일자       int64  \n",
      " 12  차량 연식          int64  \n",
      " 13  차량 제작 일자       float64\n",
      " 14  배출가스검사유효일자     float64\n",
      " 15  제원관리번호         object \n",
      " 16  배출가스 인증번호      object \n",
      " 17  배출가스 등급        object \n",
      " 18  저공해조치 YN(미사용)  object \n",
      " 19  저공해조치 종류       float64\n",
      " 20  저공해조치 구조변경 YN  object \n",
      " 21  미정.3           float64\n",
      " 22  차량등록번호 숫자 정보   int64  \n",
      " 23  차량 말소 YN       object \n",
      " 24  미정.4           object \n",
      " 25  최초 회원번호        object \n",
      " 26  취득 일자          float64\n",
      " 27  취득 금액          float64\n",
      " 28  미정.5           object \n",
      " 29  생성 일시          object \n",
      " 30  수정 일시          object \n",
      " 31  미정.6           object \n",
      "dtypes: float64(6), int64(4), object(22)\n",
      "memory usage: 2.7+ GB\n"
     ]
    }
   ],
   "source": [
    "# about 4m\n",
    "grade = 2\n",
    "file_name = f'[ODS][G{grade}]자동차_등록정보(말소제거)(중복차대제거)(한글컬럼)(2022.12.29).csv'\n",
    "ods_path = os.path.join(ods_fold, file_name)\n",
    "df1 = pd.read_csv(ods_path, low_memory=False, encoding='cp949')\n",
    "df1.info()"
   ]
  },
  {
   "attachments": {},
   "cell_type": "markdown",
   "metadata": {},
   "source": [
    "### 정리\n",
    "- 컬럼명, 컬럼순서, 컬럼"
   ]
  },
  {
   "cell_type": "code",
   "execution_count": null,
   "metadata": {},
   "outputs": [
    {
     "data": {
      "text/plain": [
       "Index(['차량관리번호', '차량등록번호', '본거지 법정동 코드', '소유자 구분', '차종', '용도', '미정', '현재 회원번호',\n",
       "       '미정.1', '미정.2', '차대번호', '최초 등록 일자', '차량 연식', '차량 제작 일자', '배출가스검사유효일자',\n",
       "       '제원관리번호', '배출가스 인증번호', '배출가스 등급', '저공해조치 YN(미사용)', '저공해조치 종류',\n",
       "       '저공해조치 구조변경 YN', '미정.3', '차량등록번호 숫자 정보', '차량 말소 YN', '미정.4', '최초 회원번호',\n",
       "       '취득 일자', '취득 금액', '미정.5', '생성 일시', '수정 일시', '미정.6'],\n",
       "      dtype='object')"
      ]
     },
     "execution_count": 30,
     "metadata": {},
     "output_type": "execute_result"
    }
   ],
   "source": [
    "df1.columns"
   ]
  },
  {
   "cell_type": "code",
   "execution_count": null,
   "metadata": {},
   "outputs": [],
   "source": [
    "df1.columns = ['차량관리번호', '차량등록번호', '본거지법정동코드', '소유자구분', '차종_등록정보', '용도', '미정1', '현재회원번호', '미정2', '미정3', '차대번호', '최초등록일자', '차량연식', '차량제작일자', \n",
    "               '배출가스검사유효일자', '제원관리번호', '배출가스인증번호', '배출가스등급', '저공해조치YN(미사용)', '저공해조치종류', '저공해조치구조변경YN', '미정4', '차량등록번호숫자정보', '차량말소YN', '미정5', '최초회원번호', '취득일자', '취득금액', '미정6', '생성일시_등록정보', '수정일시_등록정보', '미정7']"
   ]
  },
  {
   "cell_type": "code",
   "execution_count": null,
   "metadata": {},
   "outputs": [
    {
     "data": {
      "text/plain": [
       "2     10960244\n",
       "T2      247483\n",
       "Name: 배출가스등급, dtype: int64"
      ]
     },
     "execution_count": 32,
     "metadata": {},
     "output_type": "execute_result"
    }
   ],
   "source": [
    "df1['배출가스등급'].value_counts()"
   ]
  },
  {
   "attachments": {},
   "cell_type": "markdown",
   "metadata": {},
   "source": [
    "## [병합] 등록정보와 제원정보"
   ]
  },
  {
   "cell_type": "code",
   "execution_count": null,
   "metadata": {},
   "outputs": [
    {
     "name": "stdout",
     "output_type": "stream",
     "text": [
      "<class 'pandas.core.frame.DataFrame'>\n",
      "Int64Index: 11207727 entries, 0 to 11207726\n",
      "Data columns (total 59 columns):\n",
      " #   Column        Dtype  \n",
      "---  ------        -----  \n",
      " 0   차량관리번호        object \n",
      " 1   차량등록번호        object \n",
      " 2   본거지법정동코드      int64  \n",
      " 3   소유자구분         object \n",
      " 4   차종_등록정보       object \n",
      " 5   용도            object \n",
      " 6   미정1_x         object \n",
      " 7   현재회원번호        object \n",
      " 8   미정2_x         object \n",
      " 9   미정3_x         object \n",
      " 10  차대번호          object \n",
      " 11  최초등록일자        int64  \n",
      " 12  차량연식          int64  \n",
      " 13  차량제작일자        float64\n",
      " 14  배출가스검사유효일자    float64\n",
      " 15  제원관리번호        object \n",
      " 16  배출가스인증번호      object \n",
      " 17  배출가스등급        object \n",
      " 18  저공해조치YN(미사용)  object \n",
      " 19  저공해조치종류       float64\n",
      " 20  저공해조치구조변경YN   object \n",
      " 21  미정4           float64\n",
      " 22  차량등록번호숫자정보    int64  \n",
      " 23  차량말소YN        object \n",
      " 24  미정5           object \n",
      " 25  최초회원번호        object \n",
      " 26  취득일자          float64\n",
      " 27  취득금액          float64\n",
      " 28  미정6           object \n",
      " 29  생성일시_등록정보     object \n",
      " 30  수정일시_등록정보     object \n",
      " 31  미정7           object \n",
      " 32  차명            object \n",
      " 33  차종_제원정보       object \n",
      " 34  차종분류          object \n",
      " 35  차종유형(소분류)     object \n",
      " 36  자동차형식         object \n",
      " 37  제작사명          object \n",
      " 38  연료            object \n",
      " 39  엔진형식          object \n",
      " 40  공차중량          float64\n",
      " 41  총중량           float64\n",
      " 42  적재중량          float64\n",
      " 43  엔진출력          float64\n",
      " 44  배기량           float64\n",
      " 45  승차인원          float64\n",
      " 46  차량길이          float64\n",
      " 47  차량너비          float64\n",
      " 48  차량높이          float64\n",
      " 49  원산지명          object \n",
      " 50  미정1_y         float64\n",
      " 51  삭제YN          object \n",
      " 52  승인일자          object \n",
      " 53  구동형식          object \n",
      " 54  변속기종류         object \n",
      " 55  미정2_y         object \n",
      " 56  생성일시_제원정보     object \n",
      " 57  수정일시_제원정보     object \n",
      " 58  미정3_y         object \n",
      "dtypes: float64(16), int64(4), object(39)\n",
      "memory usage: 5.0+ GB\n"
     ]
    }
   ],
   "source": [
    "total = df1.merge(df2, on='제원관리번호', how='left')\n",
    "total.info()"
   ]
  },
  {
   "attachments": {},
   "cell_type": "markdown",
   "metadata": {},
   "source": [
    "## [출력] 등록정보와 제원정보"
   ]
  },
  {
   "cell_type": "code",
   "execution_count": null,
   "metadata": {},
   "outputs": [],
   "source": [
    "# about 6m 50s\n",
    "total.to_csv(os.path.join(ods_fold, f'[ODS][G{grade}]등록정보&제원정보(말소제거)(중복차대제거)(한글컬럼)(2022.12.29).csv'), index=False, encoding='cp949')"
   ]
  },
  {
   "attachments": {},
   "cell_type": "markdown",
   "metadata": {},
   "source": [
    "# [ODS]3등급(말소제거)"
   ]
  },
  {
   "attachments": {},
   "cell_type": "markdown",
   "metadata": {},
   "source": [
    "## [로드]"
   ]
  },
  {
   "cell_type": "code",
   "execution_count": null,
   "metadata": {},
   "outputs": [
    {
     "name": "stdout",
     "output_type": "stream",
     "text": [
      "<class 'pandas.core.frame.DataFrame'>\n",
      "RangeIndex: 8759431 entries, 0 to 8759430\n",
      "Data columns (total 32 columns):\n",
      " #   Column         Dtype  \n",
      "---  ------         -----  \n",
      " 0   차량관리번호         object \n",
      " 1   차량등록번호         object \n",
      " 2   본거지 법정동 코드     int64  \n",
      " 3   소유자 구분         object \n",
      " 4   차종             object \n",
      " 5   용도             object \n",
      " 6   미정             object \n",
      " 7   현재 회원번호        object \n",
      " 8   미정.1           object \n",
      " 9   미정.2           object \n",
      " 10  차대번호           object \n",
      " 11  최초 등록 일자       int64  \n",
      " 12  차량 연식          int64  \n",
      " 13  차량 제작 일자       float64\n",
      " 14  배출가스검사유효일자     float64\n",
      " 15  제원관리번호         object \n",
      " 16  배출가스 인증번호      object \n",
      " 17  배출가스 등급        object \n",
      " 18  저공해조치 YN(미사용)  object \n",
      " 19  저공해조치 종류       float64\n",
      " 20  저공해조치 구조변경 YN  object \n",
      " 21  미정.3           float64\n",
      " 22  차량등록번호 숫자 정보   int64  \n",
      " 23  차량 말소 YN       object \n",
      " 24  미정.4           object \n",
      " 25  최초 회원번호        object \n",
      " 26  취득 일자          float64\n",
      " 27  취득 금액          float64\n",
      " 28  미정.5           object \n",
      " 29  생성 일시          object \n",
      " 30  수정 일시          object \n",
      " 31  미정.6           object \n",
      "dtypes: float64(6), int64(4), object(22)\n",
      "memory usage: 2.1+ GB\n"
     ]
    }
   ],
   "source": [
    "# about 3m 15s\n",
    "grade = 3\n",
    "file_name = f'[ODS][G{grade}]자동차_등록정보(말소제거)(중복차대제거)(한글컬럼)(2022.12.29).csv'\n",
    "ods_path = os.path.join(ods_fold, file_name)\n",
    "df1 = pd.read_csv(ods_path, low_memory=False, encoding='cp949')\n",
    "df1.info()"
   ]
  },
  {
   "attachments": {},
   "cell_type": "markdown",
   "metadata": {},
   "source": [
    "### 정리\n",
    "- 컬럼명, 컬럼순서, 컬럼"
   ]
  },
  {
   "cell_type": "code",
   "execution_count": null,
   "metadata": {},
   "outputs": [
    {
     "data": {
      "text/plain": [
       "Index(['차량관리번호', '차량등록번호', '본거지 법정동 코드', '소유자 구분', '차종', '용도', '미정', '현재 회원번호',\n",
       "       '미정.1', '미정.2', '차대번호', '최초 등록 일자', '차량 연식', '차량 제작 일자', '배출가스검사유효일자',\n",
       "       '제원관리번호', '배출가스 인증번호', '배출가스 등급', '저공해조치 YN(미사용)', '저공해조치 종류',\n",
       "       '저공해조치 구조변경 YN', '미정.3', '차량등록번호 숫자 정보', '차량 말소 YN', '미정.4', '최초 회원번호',\n",
       "       '취득 일자', '취득 금액', '미정.5', '생성 일시', '수정 일시', '미정.6'],\n",
       "      dtype='object')"
      ]
     },
     "execution_count": 36,
     "metadata": {},
     "output_type": "execute_result"
    }
   ],
   "source": [
    "df1.columns"
   ]
  },
  {
   "cell_type": "code",
   "execution_count": null,
   "metadata": {},
   "outputs": [],
   "source": [
    "df1.columns = ['차량관리번호', '차량등록번호', '본거지법정동코드', '소유자구분', '차종_등록정보', '용도', '미정1', '현재회원번호', '미정2', '미정3', '차대번호', '최초등록일자', '차량연식', '차량제작일자', \n",
    "               '배출가스검사유효일자', '제원관리번호', '배출가스인증번호', '배출가스등급', '저공해조치YN(미사용)', '저공해조치종류', '저공해조치구조변경YN', '미정4', '차량등록번호숫자정보', '차량말소YN', '미정5', '최초회원번호', '취득일자', '취득금액', '미정6', '생성일시_등록정보', '수정일시_등록정보', '미정7']"
   ]
  },
  {
   "cell_type": "code",
   "execution_count": null,
   "metadata": {},
   "outputs": [
    {
     "data": {
      "text/plain": [
       "3     8623130\n",
       "T3     136301\n",
       "Name: 배출가스등급, dtype: int64"
      ]
     },
     "execution_count": 38,
     "metadata": {},
     "output_type": "execute_result"
    }
   ],
   "source": [
    "df1['배출가스등급'].value_counts()"
   ]
  },
  {
   "attachments": {},
   "cell_type": "markdown",
   "metadata": {},
   "source": [
    "## [병합] 등록정보와 제원정보"
   ]
  },
  {
   "cell_type": "code",
   "execution_count": null,
   "metadata": {},
   "outputs": [
    {
     "name": "stdout",
     "output_type": "stream",
     "text": [
      "<class 'pandas.core.frame.DataFrame'>\n",
      "Int64Index: 8759431 entries, 0 to 8759430\n",
      "Data columns (total 59 columns):\n",
      " #   Column        Dtype  \n",
      "---  ------        -----  \n",
      " 0   차량관리번호        object \n",
      " 1   차량등록번호        object \n",
      " 2   본거지법정동코드      int64  \n",
      " 3   소유자구분         object \n",
      " 4   차종_등록정보       object \n",
      " 5   용도            object \n",
      " 6   미정1_x         object \n",
      " 7   현재회원번호        object \n",
      " 8   미정2_x         object \n",
      " 9   미정3_x         object \n",
      " 10  차대번호          object \n",
      " 11  최초등록일자        int64  \n",
      " 12  차량연식          int64  \n",
      " 13  차량제작일자        float64\n",
      " 14  배출가스검사유효일자    float64\n",
      " 15  제원관리번호        object \n",
      " 16  배출가스인증번호      object \n",
      " 17  배출가스등급        object \n",
      " 18  저공해조치YN(미사용)  object \n",
      " 19  저공해조치종류       float64\n",
      " 20  저공해조치구조변경YN   object \n",
      " 21  미정4           float64\n",
      " 22  차량등록번호숫자정보    int64  \n",
      " 23  차량말소YN        object \n",
      " 24  미정5           object \n",
      " 25  최초회원번호        object \n",
      " 26  취득일자          float64\n",
      " 27  취득금액          float64\n",
      " 28  미정6           object \n",
      " 29  생성일시_등록정보     object \n",
      " 30  수정일시_등록정보     object \n",
      " 31  미정7           object \n",
      " 32  차명            object \n",
      " 33  차종_제원정보       object \n",
      " 34  차종분류          object \n",
      " 35  차종유형(소분류)     object \n",
      " 36  자동차형식         object \n",
      " 37  제작사명          object \n",
      " 38  연료            object \n",
      " 39  엔진형식          object \n",
      " 40  공차중량          float64\n",
      " 41  총중량           float64\n",
      " 42  적재중량          float64\n",
      " 43  엔진출력          float64\n",
      " 44  배기량           float64\n",
      " 45  승차인원          float64\n",
      " 46  차량길이          float64\n",
      " 47  차량너비          float64\n",
      " 48  차량높이          float64\n",
      " 49  원산지명          object \n",
      " 50  미정1_y         float64\n",
      " 51  삭제YN          object \n",
      " 52  승인일자          object \n",
      " 53  구동형식          object \n",
      " 54  변속기종류         object \n",
      " 55  미정2_y         object \n",
      " 56  생성일시_제원정보     object \n",
      " 57  수정일시_제원정보     object \n",
      " 58  미정3_y         object \n",
      "dtypes: float64(16), int64(4), object(39)\n",
      "memory usage: 3.9+ GB\n"
     ]
    }
   ],
   "source": [
    "total = df1.merge(df2, on='제원관리번호', how='left')\n",
    "total.info()"
   ]
  },
  {
   "attachments": {},
   "cell_type": "markdown",
   "metadata": {},
   "source": [
    "## [출력] 등록정보와 제원정보"
   ]
  },
  {
   "cell_type": "code",
   "execution_count": null,
   "metadata": {},
   "outputs": [],
   "source": [
    "# about 5m 21s\n",
    "total.to_csv(os.path.join(ods_fold, f'[ODS][G{grade}]등록정보&제원정보(말소제거)(중복차대제거)(한글컬럼)(2022.12.29).csv'), index=False, encoding='cp949')"
   ]
  },
  {
   "attachments": {},
   "cell_type": "markdown",
   "metadata": {},
   "source": [
    "# [ODS]4등급(말소제거)"
   ]
  },
  {
   "attachments": {},
   "cell_type": "markdown",
   "metadata": {},
   "source": [
    "## [로드]"
   ]
  },
  {
   "cell_type": "code",
   "execution_count": null,
   "metadata": {},
   "outputs": [
    {
     "name": "stdout",
     "output_type": "stream",
     "text": [
      "<class 'pandas.core.frame.DataFrame'>\n",
      "RangeIndex: 1511251 entries, 0 to 1511250\n",
      "Data columns (total 32 columns):\n",
      " #   Column         Non-Null Count    Dtype  \n",
      "---  ------         --------------    -----  \n",
      " 0   차량관리번호         1511251 non-null  object \n",
      " 1   차량등록번호         1511251 non-null  object \n",
      " 2   본거지 법정동 코드     1511251 non-null  int64  \n",
      " 3   소유자 구분         1511251 non-null  object \n",
      " 4   차종             1511249 non-null  object \n",
      " 5   용도             1511251 non-null  object \n",
      " 6   미정             1511251 non-null  object \n",
      " 7   현재 회원번호        1510412 non-null  object \n",
      " 8   미정.1           1511251 non-null  object \n",
      " 9   미정.2           1511251 non-null  object \n",
      " 10  차대번호           1511251 non-null  object \n",
      " 11  최초 등록 일자       1511251 non-null  int64  \n",
      " 12  차량 연식          1511251 non-null  int64  \n",
      " 13  차량 제작 일자       1342461 non-null  float64\n",
      " 14  배출가스검사유효일자     1511239 non-null  float64\n",
      " 15  제원관리번호         1511251 non-null  object \n",
      " 16  배출가스 인증번호      1387542 non-null  object \n",
      " 17  배출가스 등급        1511251 non-null  object \n",
      " 18  저공해조치 YN(미사용)  1511096 non-null  object \n",
      " 19  저공해조치 종류       189 non-null      float64\n",
      " 20  저공해조치 구조변경 YN  1511251 non-null  object \n",
      " 21  미정.3           0 non-null        float64\n",
      " 22  차량등록번호 숫자 정보   1511251 non-null  int64  \n",
      " 23  차량 말소 YN       1511251 non-null  object \n",
      " 24  미정.4           1511230 non-null  object \n",
      " 25  최초 회원번호        1506595 non-null  object \n",
      " 26  취득 일자          1418010 non-null  object \n",
      " 27  취득 금액          1436843 non-null  float64\n",
      " 28  미정.5           403099 non-null   object \n",
      " 29  생성 일시          1511251 non-null  object \n",
      " 30  수정 일시          915041 non-null   object \n",
      " 31  미정.6           1511251 non-null  object \n",
      "dtypes: float64(5), int64(4), object(23)\n",
      "memory usage: 369.0+ MB\n"
     ]
    }
   ],
   "source": [
    "# about 35s\n",
    "grade = 4\n",
    "file_name = f'[ODS][G{grade}]자동차_등록정보(말소제거)(중복차대제거)(한글컬럼)(2022.12.29).csv'\n",
    "ods_path = os.path.join(ods_fold, file_name)\n",
    "df1 = pd.read_csv(ods_path, low_memory=False, encoding='cp949')\n",
    "df1.info()"
   ]
  },
  {
   "attachments": {},
   "cell_type": "markdown",
   "metadata": {},
   "source": [
    "### 정리\n",
    "- 컬럼명, 컬럼순서, 컬럼"
   ]
  },
  {
   "cell_type": "code",
   "execution_count": null,
   "metadata": {},
   "outputs": [
    {
     "data": {
      "text/plain": [
       "Index(['차량관리번호', '차량등록번호', '본거지 법정동 코드', '소유자 구분', '차종', '용도', '미정', '현재 회원번호',\n",
       "       '미정.1', '미정.2', '차대번호', '최초 등록 일자', '차량 연식', '차량 제작 일자', '배출가스검사유효일자',\n",
       "       '제원관리번호', '배출가스 인증번호', '배출가스 등급', '저공해조치 YN(미사용)', '저공해조치 종류',\n",
       "       '저공해조치 구조변경 YN', '미정.3', '차량등록번호 숫자 정보', '차량 말소 YN', '미정.4', '최초 회원번호',\n",
       "       '취득 일자', '취득 금액', '미정.5', '생성 일시', '수정 일시', '미정.6'],\n",
       "      dtype='object')"
      ]
     },
     "execution_count": 42,
     "metadata": {},
     "output_type": "execute_result"
    }
   ],
   "source": [
    "df1.columns"
   ]
  },
  {
   "cell_type": "code",
   "execution_count": null,
   "metadata": {},
   "outputs": [],
   "source": [
    "df1.columns = ['차량관리번호', '차량등록번호', '본거지법정동코드', '소유자구분', '차종_등록정보', '용도', '미정1', '현재회원번호', '미정2', '미정3', '차대번호', '최초등록일자', '차량연식', '차량제작일자', \n",
    "               '배출가스검사유효일자', '제원관리번호', '배출가스인증번호', '배출가스등급', '저공해조치YN(미사용)', '저공해조치종류', '저공해조치구조변경YN', '미정4', '차량등록번호숫자정보', '차량말소YN', '미정5', '최초회원번호', '취득일자', '취득금액', '미정6', '생성일시_등록정보', '수정일시_등록정보', '미정7']"
   ]
  },
  {
   "cell_type": "code",
   "execution_count": null,
   "metadata": {},
   "outputs": [
    {
     "data": {
      "text/plain": [
       "4     1511214\n",
       "T4         37\n",
       "Name: 배출가스등급, dtype: int64"
      ]
     },
     "execution_count": 44,
     "metadata": {},
     "output_type": "execute_result"
    }
   ],
   "source": [
    "df1['배출가스등급'].value_counts()"
   ]
  },
  {
   "attachments": {},
   "cell_type": "markdown",
   "metadata": {},
   "source": [
    "## [병합] 등록정보와 제원정보"
   ]
  },
  {
   "cell_type": "code",
   "execution_count": null,
   "metadata": {},
   "outputs": [
    {
     "name": "stdout",
     "output_type": "stream",
     "text": [
      "<class 'pandas.core.frame.DataFrame'>\n",
      "Int64Index: 1511251 entries, 0 to 1511250\n",
      "Data columns (total 59 columns):\n",
      " #   Column        Non-Null Count    Dtype  \n",
      "---  ------        --------------    -----  \n",
      " 0   차량관리번호        1511251 non-null  object \n",
      " 1   차량등록번호        1511251 non-null  object \n",
      " 2   본거지법정동코드      1511251 non-null  int64  \n",
      " 3   소유자구분         1511251 non-null  object \n",
      " 4   차종_등록정보       1511249 non-null  object \n",
      " 5   용도            1511251 non-null  object \n",
      " 6   미정1_x         1511251 non-null  object \n",
      " 7   현재회원번호        1510412 non-null  object \n",
      " 8   미정2_x         1511251 non-null  object \n",
      " 9   미정3_x         1511251 non-null  object \n",
      " 10  차대번호          1511251 non-null  object \n",
      " 11  최초등록일자        1511251 non-null  int64  \n",
      " 12  차량연식          1511251 non-null  int64  \n",
      " 13  차량제작일자        1342461 non-null  float64\n",
      " 14  배출가스검사유효일자    1511239 non-null  float64\n",
      " 15  제원관리번호        1511251 non-null  object \n",
      " 16  배출가스인증번호      1387542 non-null  object \n",
      " 17  배출가스등급        1511251 non-null  object \n",
      " 18  저공해조치YN(미사용)  1511096 non-null  object \n",
      " 19  저공해조치종류       189 non-null      float64\n",
      " 20  저공해조치구조변경YN   1511251 non-null  object \n",
      " 21  미정4           0 non-null        float64\n",
      " 22  차량등록번호숫자정보    1511251 non-null  int64  \n",
      " 23  차량말소YN        1511251 non-null  object \n",
      " 24  미정5           1511230 non-null  object \n",
      " 25  최초회원번호        1506595 non-null  object \n",
      " 26  취득일자          1418010 non-null  object \n",
      " 27  취득금액          1436843 non-null  float64\n",
      " 28  미정6           403099 non-null   object \n",
      " 29  생성일시_등록정보     1511251 non-null  object \n",
      " 30  수정일시_등록정보     915041 non-null   object \n",
      " 31  미정7           1511251 non-null  object \n",
      " 32  차명            1511251 non-null  object \n",
      " 33  차종_제원정보       1511251 non-null  object \n",
      " 34  차종분류          1511251 non-null  object \n",
      " 35  차종유형(소분류)     1511251 non-null  object \n",
      " 36  자동차형식         1510723 non-null  object \n",
      " 37  제작사명          1501221 non-null  object \n",
      " 38  연료            1511180 non-null  object \n",
      " 39  엔진형식          1509249 non-null  object \n",
      " 40  공차중량          0 non-null        float64\n",
      " 41  총중량           1511226 non-null  float64\n",
      " 42  적재중량          1510714 non-null  float64\n",
      " 43  엔진출력          1510623 non-null  float64\n",
      " 44  배기량           1511240 non-null  float64\n",
      " 45  승차인원          1511251 non-null  float64\n",
      " 46  차량길이          1511176 non-null  float64\n",
      " 47  차량너비          1511176 non-null  float64\n",
      " 48  차량높이          1511174 non-null  float64\n",
      " 49  원산지명          1492122 non-null  object \n",
      " 50  미정1_y         0 non-null        float64\n",
      " 51  삭제YN          1511251 non-null  object \n",
      " 52  승인일자          1510704 non-null  object \n",
      " 53  구동형식          47 non-null       object \n",
      " 54  변속기종류         1511091 non-null  object \n",
      " 55  미정2_y         0 non-null        object \n",
      " 56  생성일시_제원정보     1511251 non-null  object \n",
      " 57  수정일시_제원정보     497 non-null      object \n",
      " 58  미정3_y         1511251 non-null  object \n",
      "dtypes: float64(15), int64(4), object(40)\n",
      "memory usage: 691.8+ MB\n"
     ]
    }
   ],
   "source": [
    "total = df1.merge(df2, on='제원관리번호', how='left')\n",
    "total.info()"
   ]
  },
  {
   "attachments": {},
   "cell_type": "markdown",
   "metadata": {},
   "source": [
    "## [출력] 등록정보와 제원정보"
   ]
  },
  {
   "cell_type": "code",
   "execution_count": null,
   "metadata": {},
   "outputs": [],
   "source": [
    "# about 53s\n",
    "total.to_csv(os.path.join(ods_fold, f'[ODS][G{grade}]등록정보&제원정보(말소제거)(중복차대제거)(한글컬럼)(2022.12.29).csv'), index=False, encoding='cp949')"
   ]
  },
  {
   "attachments": {},
   "cell_type": "markdown",
   "metadata": {},
   "source": [
    "# [ODS]5등급(말소제거)"
   ]
  },
  {
   "attachments": {},
   "cell_type": "markdown",
   "metadata": {},
   "source": [
    "## [로드]"
   ]
  },
  {
   "cell_type": "code",
   "execution_count": null,
   "metadata": {},
   "outputs": [
    {
     "name": "stdout",
     "output_type": "stream",
     "text": [
      "<class 'pandas.core.frame.DataFrame'>\n",
      "RangeIndex: 1154762 entries, 0 to 1154761\n",
      "Data columns (total 32 columns):\n",
      " #   Column         Non-Null Count    Dtype  \n",
      "---  ------         --------------    -----  \n",
      " 0   차량관리번호         1154762 non-null  object \n",
      " 1   차량등록번호         1154762 non-null  object \n",
      " 2   본거지 법정동 코드     1154762 non-null  int64  \n",
      " 3   소유자 구분         1154762 non-null  object \n",
      " 4   차종             1154750 non-null  object \n",
      " 5   용도             1154762 non-null  object \n",
      " 6   미정             1154761 non-null  object \n",
      " 7   현재 회원번호        1146089 non-null  object \n",
      " 8   미정.1           1154742 non-null  object \n",
      " 9   미정.2           1154762 non-null  object \n",
      " 10  차대번호           1154762 non-null  object \n",
      " 11  최초 등록 일자       1154762 non-null  int64  \n",
      " 12  차량 연식          1154762 non-null  int64  \n",
      " 13  차량 제작 일자       959061 non-null   object \n",
      " 14  배출가스검사유효일자     1154250 non-null  float64\n",
      " 15  제원관리번호         1154762 non-null  object \n",
      " 16  배출가스 인증번호      542955 non-null   object \n",
      " 17  배출가스 등급        1154762 non-null  object \n",
      " 18  저공해조치 YN(미사용)  1154688 non-null  object \n",
      " 19  저공해조치 종류       361634 non-null   float64\n",
      " 20  저공해조치 구조변경 YN  1154762 non-null  object \n",
      " 21  미정.3           0 non-null        float64\n",
      " 22  차량등록번호 숫자 정보   1154762 non-null  int64  \n",
      " 23  차량 말소 YN       1154762 non-null  object \n",
      " 24  미정.4           1154749 non-null  object \n",
      " 25  최초 회원번호        1129482 non-null  object \n",
      " 26  취득 일자          1014515 non-null  float64\n",
      " 27  취득 금액          1040455 non-null  float64\n",
      " 28  미정.5           219239 non-null   object \n",
      " 29  생성 일시          1154762 non-null  object \n",
      " 30  수정 일시          556092 non-null   object \n",
      " 31  미정.6           1154762 non-null  object \n",
      "dtypes: float64(5), int64(4), object(23)\n",
      "memory usage: 281.9+ MB\n"
     ]
    }
   ],
   "source": [
    "# about 30s\n",
    "grade = 5\n",
    "file_name = f'[ODS][G{grade}]자동차_등록정보(말소제거)(중복차대제거)(한글컬럼)(2022.12.29).csv'\n",
    "ods_path = os.path.join(ods_fold, file_name)\n",
    "df1 = pd.read_csv(ods_path, low_memory=False, encoding='cp949')\n",
    "df1.info()"
   ]
  },
  {
   "attachments": {},
   "cell_type": "markdown",
   "metadata": {},
   "source": [
    "### 정리\n",
    "- 컬럼명, 컬럼순서, 컬럼"
   ]
  },
  {
   "cell_type": "code",
   "execution_count": null,
   "metadata": {},
   "outputs": [
    {
     "data": {
      "text/plain": [
       "Index(['차량관리번호', '차량등록번호', '본거지 법정동 코드', '소유자 구분', '차종', '용도', '미정', '현재 회원번호',\n",
       "       '미정.1', '미정.2', '차대번호', '최초 등록 일자', '차량 연식', '차량 제작 일자', '배출가스검사유효일자',\n",
       "       '제원관리번호', '배출가스 인증번호', '배출가스 등급', '저공해조치 YN(미사용)', '저공해조치 종류',\n",
       "       '저공해조치 구조변경 YN', '미정.3', '차량등록번호 숫자 정보', '차량 말소 YN', '미정.4', '최초 회원번호',\n",
       "       '취득 일자', '취득 금액', '미정.5', '생성 일시', '수정 일시', '미정.6'],\n",
       "      dtype='object')"
      ]
     },
     "execution_count": 48,
     "metadata": {},
     "output_type": "execute_result"
    }
   ],
   "source": [
    "df1.columns"
   ]
  },
  {
   "cell_type": "code",
   "execution_count": null,
   "metadata": {},
   "outputs": [],
   "source": [
    "df1.columns = ['차량관리번호', '차량등록번호', '본거지법정동코드', '소유자구분', '차종_등록정보', '용도', '미정1', '현재회원번호', '미정2', '미정3', '차대번호', '최초등록일자', '차량연식', '차량제작일자', \n",
    "               '배출가스검사유효일자', '제원관리번호', '배출가스인증번호', '배출가스등급', '저공해조치YN(미사용)', '저공해조치종류', '저공해조치구조변경YN', '미정4', '차량등록번호숫자정보', '차량말소YN', '미정5', '최초회원번호', '취득일자', '취득금액', '미정6', '생성일시_등록정보', '수정일시_등록정보', '미정7']"
   ]
  },
  {
   "cell_type": "code",
   "execution_count": null,
   "metadata": {},
   "outputs": [
    {
     "data": {
      "text/plain": [
       "5     1154733\n",
       "T5         29\n",
       "Name: 배출가스등급, dtype: int64"
      ]
     },
     "execution_count": 50,
     "metadata": {},
     "output_type": "execute_result"
    }
   ],
   "source": [
    "df1['배출가스등급'].value_counts()"
   ]
  },
  {
   "attachments": {},
   "cell_type": "markdown",
   "metadata": {},
   "source": [
    "## [병합] 등록정보와 제원정보"
   ]
  },
  {
   "cell_type": "code",
   "execution_count": null,
   "metadata": {},
   "outputs": [
    {
     "name": "stdout",
     "output_type": "stream",
     "text": [
      "<class 'pandas.core.frame.DataFrame'>\n",
      "Int64Index: 1154762 entries, 0 to 1154761\n",
      "Data columns (total 59 columns):\n",
      " #   Column        Non-Null Count    Dtype  \n",
      "---  ------        --------------    -----  \n",
      " 0   차량관리번호        1154762 non-null  object \n",
      " 1   차량등록번호        1154762 non-null  object \n",
      " 2   본거지법정동코드      1154762 non-null  int64  \n",
      " 3   소유자구분         1154762 non-null  object \n",
      " 4   차종_등록정보       1154750 non-null  object \n",
      " 5   용도            1154762 non-null  object \n",
      " 6   미정1_x         1154761 non-null  object \n",
      " 7   현재회원번호        1146089 non-null  object \n",
      " 8   미정2_x         1154742 non-null  object \n",
      " 9   미정3_x         1154762 non-null  object \n",
      " 10  차대번호          1154762 non-null  object \n",
      " 11  최초등록일자        1154762 non-null  int64  \n",
      " 12  차량연식          1154762 non-null  int64  \n",
      " 13  차량제작일자        959061 non-null   object \n",
      " 14  배출가스검사유효일자    1154250 non-null  float64\n",
      " 15  제원관리번호        1154762 non-null  object \n",
      " 16  배출가스인증번호      542955 non-null   object \n",
      " 17  배출가스등급        1154762 non-null  object \n",
      " 18  저공해조치YN(미사용)  1154688 non-null  object \n",
      " 19  저공해조치종류       361634 non-null   float64\n",
      " 20  저공해조치구조변경YN   1154762 non-null  object \n",
      " 21  미정4           0 non-null        float64\n",
      " 22  차량등록번호숫자정보    1154762 non-null  int64  \n",
      " 23  차량말소YN        1154762 non-null  object \n",
      " 24  미정5           1154749 non-null  object \n",
      " 25  최초회원번호        1129482 non-null  object \n",
      " 26  취득일자          1014515 non-null  float64\n",
      " 27  취득금액          1040455 non-null  float64\n",
      " 28  미정6           219239 non-null   object \n",
      " 29  생성일시_등록정보     1154762 non-null  object \n",
      " 30  수정일시_등록정보     556092 non-null   object \n",
      " 31  미정7           1154762 non-null  object \n",
      " 32  차명            1154761 non-null  object \n",
      " 33  차종_제원정보       1154762 non-null  object \n",
      " 34  차종분류          1154762 non-null  object \n",
      " 35  차종유형(소분류)     1154762 non-null  object \n",
      " 36  자동차형식         1154240 non-null  object \n",
      " 37  제작사명          1151542 non-null  object \n",
      " 38  연료            1154733 non-null  object \n",
      " 39  엔진형식          1151256 non-null  object \n",
      " 40  공차중량          0 non-null        float64\n",
      " 41  총중량           1154761 non-null  float64\n",
      " 42  적재중량          1154751 non-null  float64\n",
      " 43  엔진출력          1154450 non-null  float64\n",
      " 44  배기량           1154760 non-null  float64\n",
      " 45  승차인원          1154761 non-null  float64\n",
      " 46  차량길이          1154761 non-null  float64\n",
      " 47  차량너비          1154761 non-null  float64\n",
      " 48  차량높이          1154761 non-null  float64\n",
      " 49  원산지명          1113130 non-null  object \n",
      " 50  미정1_y         0 non-null        float64\n",
      " 51  삭제YN          1154762 non-null  object \n",
      " 52  승인일자          1153569 non-null  object \n",
      " 53  구동형식          7 non-null        object \n",
      " 54  변속기종류         1154760 non-null  object \n",
      " 55  미정2_y         1 non-null        object \n",
      " 56  생성일시_제원정보     1154762 non-null  object \n",
      " 57  수정일시_제원정보     218 non-null      object \n",
      " 58  미정3_y         1154762 non-null  object \n",
      "dtypes: float64(15), int64(4), object(40)\n",
      "memory usage: 528.6+ MB\n"
     ]
    }
   ],
   "source": [
    "total = df1.merge(df2, on='제원관리번호', how='left')\n",
    "total.info()"
   ]
  },
  {
   "attachments": {},
   "cell_type": "markdown",
   "metadata": {},
   "source": [
    "## [출력] 등록정보와 제원정보"
   ]
  },
  {
   "cell_type": "code",
   "execution_count": null,
   "metadata": {},
   "outputs": [],
   "source": [
    "# about 40s\n",
    "total.to_csv(os.path.join(ods_fold, f'[ODS][G{grade}]등록정보&제원정보(말소제거)(중복차대제거)(한글컬럼)(2022.12.29).csv'), index=False, encoding='cp949')"
   ]
  },
  {
   "cell_type": "markdown",
   "metadata": {},
   "source": [
    "# 코드 마지막"
   ]
  }
 ],
 "metadata": {
  "kernelspec": {
   "display_name": "base",
   "language": "python",
   "name": "python3"
  },
  "language_info": {
   "codemirror_mode": {
    "name": "ipython",
    "version": 3
   },
   "file_extension": ".py",
   "mimetype": "text/x-python",
   "name": "python",
   "nbconvert_exporter": "python",
   "pygments_lexer": "ipython3",
   "version": "3.9.13"
  },
  "orig_nbformat": 4,
  "vscode": {
   "interpreter": {
    "hash": "ad2bdc8ecc057115af97d19610ffacc2b4e99fae6737bb82f5d7fb13d2f2c186"
   }
  }
 },
 "nbformat": 4,
 "nbformat_minor": 2
}
