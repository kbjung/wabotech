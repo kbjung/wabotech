{
 "cells": [
  {
   "attachments": {},
   "cell_type": "markdown",
   "metadata": {},
   "source": [
    "# Library"
   ]
  },
  {
   "cell_type": "code",
   "execution_count": 5,
   "metadata": {},
   "outputs": [],
   "source": [
    "import pandas as pd\n",
    "import os\n",
    "import numpy as np\n",
    "from tqdm import tqdm"
   ]
  },
  {
   "attachments": {},
   "cell_type": "markdown",
   "metadata": {},
   "source": [
    "# [로드]"
   ]
  },
  {
   "cell_type": "code",
   "execution_count": 3,
   "metadata": {},
   "outputs": [],
   "source": [
    "fold = 'D:\\과업\\[한국환경공단]자동차_환경_빅데이터_구축_2차\\data\\[BD1]4등급_데이터_점검(23.02.03)(ing)'"
   ]
  },
  {
   "cell_type": "code",
   "execution_count": 2,
   "metadata": {},
   "outputs": [],
   "source": [
    "file_name = '검증요청_33573.xlsx'\n",
    "path = os.path.join(fold, file_name)"
   ]
  },
  {
   "cell_type": "code",
   "execution_count": 4,
   "metadata": {},
   "outputs": [
    {
     "name": "stdout",
     "output_type": "stream",
     "text": [
      "<class 'pandas.core.frame.DataFrame'>\n",
      "Int64Index: 33573 entries, 82 to 702221\n",
      "Data columns (total 28 columns):\n",
      " #   Column  Non-Null Count  Dtype  \n",
      "---  ------  --------------  -----  \n",
      " 0   차대번호    33573 non-null  object \n",
      " 1   차량번호    33573 non-null  object \n",
      " 2   제원관리번호  33573 non-null  object \n",
      " 3   차종      33573 non-null  object \n",
      " 4   용도      33573 non-null  object \n",
      " 5   최초등록일   33573 non-null  int64  \n",
      " 6   연식      33573 non-null  int64  \n",
      " 7   제작일자    33571 non-null  float64\n",
      " 8   검사유효일   33572 non-null  float64\n",
      " 9   인증번호    32978 non-null  object \n",
      " 10  등급      33573 non-null  int64  \n",
      " 11  차명      33573 non-null  object \n",
      " 12  차종분류    33573 non-null  object \n",
      " 13  차종유형    33573 non-null  object \n",
      " 14  자동차형식   33573 non-null  object \n",
      " 15  제작사명    33571 non-null  object \n",
      " 16  연료      33573 non-null  object \n",
      " 17  엔진형식    33573 non-null  object \n",
      " 18  총중량     33573 non-null  int64  \n",
      " 19  적재중량    33376 non-null  float64\n",
      " 20  엔진출력    33573 non-null  int64  \n",
      " 21  배기량     33573 non-null  int64  \n",
      " 22  법정동코드   33573 non-null  int64  \n",
      " 23  시도명     33573 non-null  object \n",
      " 24  시군구명    33573 non-null  object \n",
      " 25  소유자구분   33573 non-null  object \n",
      " 26  말소여부    33573 non-null  object \n",
      " 27  일치유무    33573 non-null  object \n",
      "dtypes: float64(3), int64(7), object(18)\n",
      "memory usage: 7.4+ MB\n"
     ]
    }
   ],
   "source": [
    "# about \n",
    "df = pd.read_excel(path, index_col=0, skiprows=[0])\n",
    "df.info()"
   ]
  },
  {
   "cell_type": "code",
   "execution_count": 5,
   "metadata": {},
   "outputs": [
    {
     "data": {
      "text/plain": [
       "Index(['차대번호', '차량번호', '제원관리번호', '차종', '용도', '최초등록일', '연식', '제작일자', '검사유효일',\n",
       "       '인증번호', '등급', '차명', '차종분류', '차종유형', '자동차형식', '제작사명', '연료', '엔진형식',\n",
       "       '총중량', '적재중량', '엔진출력', '배기량', '법정동코드', '시도명', '시군구명', '소유자구분', '말소여부',\n",
       "       '일치유무'],\n",
       "      dtype='object')"
      ]
     },
     "execution_count": 5,
     "metadata": {},
     "output_type": "execute_result"
    }
   ],
   "source": [
    "df.columns"
   ]
  },
  {
   "cell_type": "code",
   "execution_count": 6,
   "metadata": {},
   "outputs": [
    {
     "data": {
      "text/plain": [
       "33573"
      ]
     },
     "execution_count": 6,
     "metadata": {},
     "output_type": "execute_result"
    }
   ],
   "source": [
    "len(df['차대번호'].unique())"
   ]
  },
  {
   "cell_type": "code",
   "execution_count": 7,
   "metadata": {},
   "outputs": [
    {
     "name": "stdout",
     "output_type": "stream",
     "text": [
      "<class 'pandas.core.frame.DataFrame'>\n",
      "RangeIndex: 33573 entries, 0 to 33572\n",
      "Data columns (total 28 columns):\n",
      " #   Column  Non-Null Count  Dtype  \n",
      "---  ------  --------------  -----  \n",
      " 0   차대번호    33573 non-null  object \n",
      " 1   차량번호    33573 non-null  object \n",
      " 2   제원관리번호  33573 non-null  object \n",
      " 3   차종      33573 non-null  object \n",
      " 4   용도      33573 non-null  object \n",
      " 5   최초등록일   33573 non-null  int64  \n",
      " 6   연식      33573 non-null  int64  \n",
      " 7   제작일자    33571 non-null  float64\n",
      " 8   검사유효일   33572 non-null  float64\n",
      " 9   인증번호    32978 non-null  object \n",
      " 10  등급      33573 non-null  int64  \n",
      " 11  차명      33573 non-null  object \n",
      " 12  차종분류    33573 non-null  object \n",
      " 13  차종유형    33573 non-null  object \n",
      " 14  자동차형식   33573 non-null  object \n",
      " 15  제작사명    33571 non-null  object \n",
      " 16  연료      33573 non-null  object \n",
      " 17  엔진형식    33573 non-null  object \n",
      " 18  총중량     33573 non-null  int64  \n",
      " 19  적재중량    33376 non-null  float64\n",
      " 20  엔진출력    33573 non-null  int64  \n",
      " 21  배기량     33573 non-null  int64  \n",
      " 22  법정동코드   33573 non-null  int64  \n",
      " 23  시도명     33573 non-null  object \n",
      " 24  시군구명    33573 non-null  object \n",
      " 25  소유자구분   33573 non-null  object \n",
      " 26  말소여부    33573 non-null  object \n",
      " 27  일치유무    33573 non-null  object \n",
      "dtypes: float64(3), int64(7), object(18)\n",
      "memory usage: 7.2+ MB\n"
     ]
    }
   ],
   "source": [
    "df = df.reset_index(drop=True)\n",
    "df.info()"
   ]
  },
  {
   "attachments": {},
   "cell_type": "markdown",
   "metadata": {},
   "source": [
    "## [출력] 첫줄 제거, 인덱스 초기화"
   ]
  },
  {
   "cell_type": "code",
   "execution_count": 7,
   "metadata": {},
   "outputs": [],
   "source": [
    "df.to_csv(os.path.join(fold, '검증요청_33573(수정).csv'), index=False, encoding='cp949')"
   ]
  },
  {
   "attachments": {},
   "cell_type": "markdown",
   "metadata": {},
   "source": [
    "## [로드] 검증요청 파일"
   ]
  },
  {
   "cell_type": "code",
   "execution_count": 8,
   "metadata": {},
   "outputs": [],
   "source": [
    "df = pd.read_csv(os.path.join(fold, '검증요청_33573(수정).csv'), encoding='cp949')"
   ]
  },
  {
   "cell_type": "code",
   "execution_count": 10,
   "metadata": {},
   "outputs": [
    {
     "name": "stdout",
     "output_type": "stream",
     "text": [
      "<class 'pandas.core.frame.DataFrame'>\n",
      "RangeIndex: 33573 entries, 0 to 33572\n",
      "Data columns (total 28 columns):\n",
      " #   Column  Non-Null Count  Dtype  \n",
      "---  ------  --------------  -----  \n",
      " 0   차대번호    33573 non-null  object \n",
      " 1   차량번호    33573 non-null  object \n",
      " 2   제원관리번호  33573 non-null  object \n",
      " 3   차종      33573 non-null  object \n",
      " 4   용도      33573 non-null  object \n",
      " 5   최초등록일   33573 non-null  int64  \n",
      " 6   연식      33573 non-null  int64  \n",
      " 7   제작일자    33571 non-null  float64\n",
      " 8   검사유효일   33572 non-null  float64\n",
      " 9   인증번호    32978 non-null  object \n",
      " 10  등급      33573 non-null  int64  \n",
      " 11  차명      33573 non-null  object \n",
      " 12  차종분류    33573 non-null  object \n",
      " 13  차종유형    33573 non-null  object \n",
      " 14  자동차형식   33573 non-null  object \n",
      " 15  제작사명    33571 non-null  object \n",
      " 16  연료      33573 non-null  object \n",
      " 17  엔진형식    33573 non-null  object \n",
      " 18  총중량     33573 non-null  int64  \n",
      " 19  적재중량    33376 non-null  float64\n",
      " 20  엔진출력    33573 non-null  int64  \n",
      " 21  배기량     33573 non-null  int64  \n",
      " 22  법정동코드   33573 non-null  int64  \n",
      " 23  시도명     33573 non-null  object \n",
      " 24  시군구명    33573 non-null  object \n",
      " 25  소유자구분   33573 non-null  object \n",
      " 26  말소여부    33573 non-null  object \n",
      " 27  일치유무    33573 non-null  object \n",
      "dtypes: float64(3), int64(7), object(18)\n",
      "memory usage: 7.2+ MB\n"
     ]
    }
   ],
   "source": [
    "df.info()"
   ]
  },
  {
   "cell_type": "code",
   "execution_count": 9,
   "metadata": {},
   "outputs": [
    {
     "data": {
      "text/html": [
       "<div>\n",
       "<style scoped>\n",
       "    .dataframe tbody tr th:only-of-type {\n",
       "        vertical-align: middle;\n",
       "    }\n",
       "\n",
       "    .dataframe tbody tr th {\n",
       "        vertical-align: top;\n",
       "    }\n",
       "\n",
       "    .dataframe thead th {\n",
       "        text-align: right;\n",
       "    }\n",
       "</style>\n",
       "<table border=\"1\" class=\"dataframe\">\n",
       "  <thead>\n",
       "    <tr style=\"text-align: right;\">\n",
       "      <th></th>\n",
       "      <th>차대번호</th>\n",
       "      <th>차량번호</th>\n",
       "      <th>제원관리번호</th>\n",
       "      <th>차종</th>\n",
       "      <th>용도</th>\n",
       "      <th>최초등록일</th>\n",
       "      <th>연식</th>\n",
       "      <th>제작일자</th>\n",
       "      <th>검사유효일</th>\n",
       "      <th>인증번호</th>\n",
       "      <th>...</th>\n",
       "      <th>총중량</th>\n",
       "      <th>적재중량</th>\n",
       "      <th>엔진출력</th>\n",
       "      <th>배기량</th>\n",
       "      <th>법정동코드</th>\n",
       "      <th>시도명</th>\n",
       "      <th>시군구명</th>\n",
       "      <th>소유자구분</th>\n",
       "      <th>말소여부</th>\n",
       "      <th>일치유무</th>\n",
       "    </tr>\n",
       "  </thead>\n",
       "  <tbody>\n",
       "    <tr>\n",
       "      <th>0</th>\n",
       "      <td>KNAJE55538K488660</td>\n",
       "      <td>31어4928</td>\n",
       "      <td>A0110003400501207</td>\n",
       "      <td>승용</td>\n",
       "      <td>자가용</td>\n",
       "      <td>20080118</td>\n",
       "      <td>2008</td>\n",
       "      <td>20071009.0</td>\n",
       "      <td>20160305.0</td>\n",
       "      <td>6MY-KM-14-61</td>\n",
       "      <td>...</td>\n",
       "      <td>1960</td>\n",
       "      <td>0.0</td>\n",
       "      <td>151</td>\n",
       "      <td>1991</td>\n",
       "      <td>1154510200</td>\n",
       "      <td>서울특별시</td>\n",
       "      <td>금천구</td>\n",
       "      <td>주민</td>\n",
       "      <td>N</td>\n",
       "      <td>N</td>\n",
       "    </tr>\n",
       "    <tr>\n",
       "      <th>1</th>\n",
       "      <td>KMHSJ81VP8U264640</td>\n",
       "      <td>45수2247</td>\n",
       "      <td>A0810006800831207</td>\n",
       "      <td>승용</td>\n",
       "      <td>자가용</td>\n",
       "      <td>20070907</td>\n",
       "      <td>2008</td>\n",
       "      <td>20070821.0</td>\n",
       "      <td>20110906.0</td>\n",
       "      <td>6MY-HD-24-100</td>\n",
       "      <td>...</td>\n",
       "      <td>2345</td>\n",
       "      <td>0.0</td>\n",
       "      <td>151</td>\n",
       "      <td>1991</td>\n",
       "      <td>4825010200</td>\n",
       "      <td>경상남도</td>\n",
       "      <td>김해시</td>\n",
       "      <td>법인</td>\n",
       "      <td>N</td>\n",
       "      <td>N</td>\n",
       "    </tr>\n",
       "    <tr>\n",
       "      <th>2</th>\n",
       "      <td>KMHSJ81VP9U437824</td>\n",
       "      <td>57우7716</td>\n",
       "      <td>A0810006801411208</td>\n",
       "      <td>승용</td>\n",
       "      <td>자가용</td>\n",
       "      <td>20081007</td>\n",
       "      <td>2009</td>\n",
       "      <td>20080919.0</td>\n",
       "      <td>20201006.0</td>\n",
       "      <td>7MY-HD-14-57</td>\n",
       "      <td>...</td>\n",
       "      <td>2345</td>\n",
       "      <td>0.0</td>\n",
       "      <td>151</td>\n",
       "      <td>1991</td>\n",
       "      <td>4812112700</td>\n",
       "      <td>경상남도</td>\n",
       "      <td>창원시 의창구</td>\n",
       "      <td>주민</td>\n",
       "      <td>N</td>\n",
       "      <td>N</td>\n",
       "    </tr>\n",
       "    <tr>\n",
       "      <th>3</th>\n",
       "      <td>KMHJN81VP7U714285</td>\n",
       "      <td>24도2516</td>\n",
       "      <td>A0810006301201206</td>\n",
       "      <td>승용</td>\n",
       "      <td>자가용</td>\n",
       "      <td>20070713</td>\n",
       "      <td>2007</td>\n",
       "      <td>20070521.0</td>\n",
       "      <td>20190712.0</td>\n",
       "      <td>5MY-HD-24-59</td>\n",
       "      <td>...</td>\n",
       "      <td>1965</td>\n",
       "      <td>0.0</td>\n",
       "      <td>146</td>\n",
       "      <td>1991</td>\n",
       "      <td>4480025026</td>\n",
       "      <td>충청남도</td>\n",
       "      <td>홍성군</td>\n",
       "      <td>주민</td>\n",
       "      <td>N</td>\n",
       "      <td>N</td>\n",
       "    </tr>\n",
       "    <tr>\n",
       "      <th>4</th>\n",
       "      <td>KMJWA37JBBU348189</td>\n",
       "      <td>71소8695</td>\n",
       "      <td>A0810007402962210</td>\n",
       "      <td>승합</td>\n",
       "      <td>자가용</td>\n",
       "      <td>20110318</td>\n",
       "      <td>2011</td>\n",
       "      <td>20110303.0</td>\n",
       "      <td>20200317.0</td>\n",
       "      <td>7MY-HD-14-46</td>\n",
       "      <td>...</td>\n",
       "      <td>2990</td>\n",
       "      <td>0.0</td>\n",
       "      <td>174</td>\n",
       "      <td>2497</td>\n",
       "      <td>4374040022</td>\n",
       "      <td>충청북도</td>\n",
       "      <td>영동군</td>\n",
       "      <td>주민</td>\n",
       "      <td>N</td>\n",
       "      <td>N</td>\n",
       "    </tr>\n",
       "  </tbody>\n",
       "</table>\n",
       "<p>5 rows × 28 columns</p>\n",
       "</div>"
      ],
      "text/plain": [
       "                차대번호     차량번호             제원관리번호  차종   용도     최초등록일    연식  \\\n",
       "0  KNAJE55538K488660  31어4928  A0110003400501207  승용  자가용  20080118  2008   \n",
       "1  KMHSJ81VP8U264640  45수2247  A0810006800831207  승용  자가용  20070907  2008   \n",
       "2  KMHSJ81VP9U437824  57우7716  A0810006801411208  승용  자가용  20081007  2009   \n",
       "3  KMHJN81VP7U714285  24도2516  A0810006301201206  승용  자가용  20070713  2007   \n",
       "4  KMJWA37JBBU348189  71소8695  A0810007402962210  승합  자가용  20110318  2011   \n",
       "\n",
       "         제작일자       검사유효일           인증번호  ...   총중량 적재중량 엔진출력   배기량  \\\n",
       "0  20071009.0  20160305.0   6MY-KM-14-61  ...  1960  0.0  151  1991   \n",
       "1  20070821.0  20110906.0  6MY-HD-24-100  ...  2345  0.0  151  1991   \n",
       "2  20080919.0  20201006.0   7MY-HD-14-57  ...  2345  0.0  151  1991   \n",
       "3  20070521.0  20190712.0   5MY-HD-24-59  ...  1965  0.0  146  1991   \n",
       "4  20110303.0  20200317.0   7MY-HD-14-46  ...  2990  0.0  174  2497   \n",
       "\n",
       "        법정동코드    시도명     시군구명 소유자구분  말소여부  일치유무  \n",
       "0  1154510200  서울특별시      금천구    주민     N     N  \n",
       "1  4825010200   경상남도      김해시    법인     N     N  \n",
       "2  4812112700   경상남도  창원시 의창구    주민     N     N  \n",
       "3  4480025026   충청남도      홍성군    주민     N     N  \n",
       "4  4374040022   충청북도      영동군    주민     N     N  \n",
       "\n",
       "[5 rows x 28 columns]"
      ]
     },
     "execution_count": 9,
     "metadata": {},
     "output_type": "execute_result"
    }
   ],
   "source": [
    "df.head()"
   ]
  },
  {
   "attachments": {},
   "cell_type": "markdown",
   "metadata": {},
   "source": [
    "# 1\\. 3등급 차량으로 유추되는 다수의 차량 확인\n",
    "- 인증번호 : 8MY-KM-13\n",
    "- 사용 데이터 : ODS \"CEG_EMIS_CERTI_VEH_MIG(배출가스 인증 자동차정보)\""
   ]
  },
  {
   "attachments": {},
   "cell_type": "markdown",
   "metadata": {},
   "source": [
    "## [로드] CEG_EMIS_CERTI_VEH_MIG(배출가스 인증 자동차정보)"
   ]
  },
  {
   "cell_type": "code",
   "execution_count": 11,
   "metadata": {},
   "outputs": [
    {
     "name": "stdout",
     "output_type": "stream",
     "text": [
      "<class 'pandas.core.frame.DataFrame'>\n",
      "RangeIndex: 109269 entries, 0 to 109268\n",
      "Data columns (total 25 columns):\n",
      " #   Column           Non-Null Count   Dtype  \n",
      "---  ------           --------------   -----  \n",
      " 0   EMIS_CRTCNO      109269 non-null  object \n",
      " 1   EMIS_CRTC_SNO    109269 non-null  int64  \n",
      " 2   VHCL_SNO         109269 non-null  object \n",
      " 3   VHCNM            109241 non-null  object \n",
      " 4   CAR_FRM          109181 non-null  object \n",
      " 5   VIN              72498 non-null   object \n",
      " 6   EMIS_VHCTY       84041 non-null   object \n",
      " 7   VHCL_YRIDNW      104332 non-null  float64\n",
      " 8   DRV_FRM          91142 non-null   object \n",
      " 9   PURPS            96950 non-null   object \n",
      " 10  GEARBOX_KND      108853 non-null  object \n",
      " 11  EMPV_WGHT        109166 non-null  object \n",
      " 12  TOT_WGHT         109027 non-null  object \n",
      " 13  EGINTY           108279 non-null  object \n",
      " 14  DSPLVL           108249 non-null  float64\n",
      " 15  FUEL             108746 non-null  object \n",
      " 16  EGINPWR          99675 non-null   object \n",
      " 17  VHCL_LT_INFO     102659 non-null  object \n",
      " 18  VHCL_WH_INFO     102662 non-null  object \n",
      " 19  VHCL_HG_INFO     102660 non-null  object \n",
      " 20  TKCAR_NMPR_INFO  82499 non-null   object \n",
      " 21  TIRE_MG_PRE_DTL  76202 non-null   object \n",
      " 22  TIRE_MG_RR_DTL   76172 non-null   object \n",
      " 23  RECP_FILE_NM     109265 non-null  object \n",
      " 24  STRE_DE          109265 non-null  object \n",
      "dtypes: float64(2), int64(1), object(22)\n",
      "memory usage: 20.8+ MB\n"
     ]
    }
   ],
   "source": [
    "ods_fold = 'D:\\과업\\[한국환경공단]자동차_환경_빅데이터_구축_2차\\data\\ODS'\n",
    "file_name = 'ODS_CEG_EMIS_CERTI_VEH_MIG.csv'\n",
    "ods_path = os.path.join(ods_fold, file_name)\n",
    "\n",
    "emis = pd.read_csv(ods_path, low_memory=False)\n",
    "emis.info()"
   ]
  },
  {
   "attachments": {},
   "cell_type": "markdown",
   "metadata": {},
   "source": [
    "### [로드] 컬럼명"
   ]
  },
  {
   "cell_type": "code",
   "execution_count": 12,
   "metadata": {},
   "outputs": [
    {
     "data": {
      "text/html": [
       "<div>\n",
       "<style scoped>\n",
       "    .dataframe tbody tr th:only-of-type {\n",
       "        vertical-align: middle;\n",
       "    }\n",
       "\n",
       "    .dataframe tbody tr th {\n",
       "        vertical-align: top;\n",
       "    }\n",
       "\n",
       "    .dataframe thead th {\n",
       "        text-align: right;\n",
       "    }\n",
       "</style>\n",
       "<table border=\"1\" class=\"dataframe\">\n",
       "  <thead>\n",
       "    <tr style=\"text-align: right;\">\n",
       "      <th></th>\n",
       "      <th>컬럼</th>\n",
       "      <th>내용</th>\n",
       "    </tr>\n",
       "  </thead>\n",
       "  <tbody>\n",
       "    <tr>\n",
       "      <th>0</th>\n",
       "      <td>EMIS_VHCTY</td>\n",
       "      <td>배출가스 차종</td>\n",
       "    </tr>\n",
       "    <tr>\n",
       "      <th>1</th>\n",
       "      <td>EMPV_WGHT</td>\n",
       "      <td>공차중량</td>\n",
       "    </tr>\n",
       "    <tr>\n",
       "      <th>2</th>\n",
       "      <td>PURPS</td>\n",
       "      <td>용도</td>\n",
       "    </tr>\n",
       "    <tr>\n",
       "      <th>3</th>\n",
       "      <td>EMIS_CRTCNO</td>\n",
       "      <td>배출가스 인증번호</td>\n",
       "    </tr>\n",
       "    <tr>\n",
       "      <th>4</th>\n",
       "      <td>EMIS_CRTC_SNO</td>\n",
       "      <td>배출가스 인증 일련번호</td>\n",
       "    </tr>\n",
       "    <tr>\n",
       "      <th>5</th>\n",
       "      <td>DSPLVL</td>\n",
       "      <td>배기량</td>\n",
       "    </tr>\n",
       "    <tr>\n",
       "      <th>6</th>\n",
       "      <td>DRV_FRM</td>\n",
       "      <td>구동 형식</td>\n",
       "    </tr>\n",
       "    <tr>\n",
       "      <th>7</th>\n",
       "      <td>FUEL</td>\n",
       "      <td>연료</td>\n",
       "    </tr>\n",
       "    <tr>\n",
       "      <th>8</th>\n",
       "      <td>EGINTY</td>\n",
       "      <td>엔진형식</td>\n",
       "    </tr>\n",
       "    <tr>\n",
       "      <th>9</th>\n",
       "      <td>EGINPWR</td>\n",
       "      <td>엔진출력</td>\n",
       "    </tr>\n",
       "    <tr>\n",
       "      <th>10</th>\n",
       "      <td>VIN</td>\n",
       "      <td>차대번호</td>\n",
       "    </tr>\n",
       "    <tr>\n",
       "      <th>11</th>\n",
       "      <td>TKCAR_NMPR_INFO</td>\n",
       "      <td>승차 인원 정보</td>\n",
       "    </tr>\n",
       "    <tr>\n",
       "      <th>12</th>\n",
       "      <td>GEARBOX_KND</td>\n",
       "      <td>변속기 종류</td>\n",
       "    </tr>\n",
       "    <tr>\n",
       "      <th>13</th>\n",
       "      <td>STRE_DE</td>\n",
       "      <td>저장 일자</td>\n",
       "    </tr>\n",
       "    <tr>\n",
       "      <th>14</th>\n",
       "      <td>VHCL_LT_INFO</td>\n",
       "      <td>차량 길이 정보</td>\n",
       "    </tr>\n",
       "    <tr>\n",
       "      <th>15</th>\n",
       "      <td>VHCL_WH_INFO</td>\n",
       "      <td>차량 너비 정보</td>\n",
       "    </tr>\n",
       "    <tr>\n",
       "      <th>16</th>\n",
       "      <td>VHCL_HG_INFO</td>\n",
       "      <td>차량 높이 정보</td>\n",
       "    </tr>\n",
       "    <tr>\n",
       "      <th>17</th>\n",
       "      <td>VHCL_YRIDNW</td>\n",
       "      <td>차량 연식</td>\n",
       "    </tr>\n",
       "    <tr>\n",
       "      <th>18</th>\n",
       "      <td>VHCL_SNO</td>\n",
       "      <td>차량 일련번호</td>\n",
       "    </tr>\n",
       "    <tr>\n",
       "      <th>19</th>\n",
       "      <td>VHCNM</td>\n",
       "      <td>차명</td>\n",
       "    </tr>\n",
       "    <tr>\n",
       "      <th>20</th>\n",
       "      <td>TOT_WGHT</td>\n",
       "      <td>총 중량</td>\n",
       "    </tr>\n",
       "    <tr>\n",
       "      <th>21</th>\n",
       "      <td>CAR_FRM</td>\n",
       "      <td>자동차 형식</td>\n",
       "    </tr>\n",
       "    <tr>\n",
       "      <th>22</th>\n",
       "      <td>TIRE_MG_PRE_DTL</td>\n",
       "      <td>미정</td>\n",
       "    </tr>\n",
       "    <tr>\n",
       "      <th>23</th>\n",
       "      <td>TIRE_MG_RR_DTL</td>\n",
       "      <td>미정</td>\n",
       "    </tr>\n",
       "    <tr>\n",
       "      <th>24</th>\n",
       "      <td>RECP_FILE_NM</td>\n",
       "      <td>미정</td>\n",
       "    </tr>\n",
       "  </tbody>\n",
       "</table>\n",
       "</div>"
      ],
      "text/plain": [
       "                 컬럼            내용\n",
       "0        EMIS_VHCTY       배출가스 차종\n",
       "1         EMPV_WGHT          공차중량\n",
       "2             PURPS            용도\n",
       "3       EMIS_CRTCNO     배출가스 인증번호\n",
       "4     EMIS_CRTC_SNO  배출가스 인증 일련번호\n",
       "5            DSPLVL           배기량\n",
       "6           DRV_FRM         구동 형식\n",
       "7              FUEL            연료\n",
       "8            EGINTY          엔진형식\n",
       "9           EGINPWR          엔진출력\n",
       "10              VIN          차대번호\n",
       "11  TKCAR_NMPR_INFO      승차 인원 정보\n",
       "12      GEARBOX_KND        변속기 종류\n",
       "13          STRE_DE         저장 일자\n",
       "14     VHCL_LT_INFO      차량 길이 정보\n",
       "15     VHCL_WH_INFO      차량 너비 정보\n",
       "16     VHCL_HG_INFO      차량 높이 정보\n",
       "17      VHCL_YRIDNW         차량 연식\n",
       "18         VHCL_SNO       차량 일련번호\n",
       "19            VHCNM            차명\n",
       "20         TOT_WGHT          총 중량\n",
       "21          CAR_FRM        자동차 형식\n",
       "22  TIRE_MG_PRE_DTL            미정\n",
       "23   TIRE_MG_RR_DTL            미정\n",
       "24     RECP_FILE_NM            미정"
      ]
     },
     "execution_count": 12,
     "metadata": {},
     "output_type": "execute_result"
    }
   ],
   "source": [
    "col_fold = 'C:/Users/kbjung/Documents/GitHub/wabotech/car_big_data_2/analysis/ODSvsSTD'\n",
    "file_name = '[정제][ODS]CEG_EMIS_CERTI_VEH_MIG.xlsx'\n",
    "col_path = os.path.join(col_fold, file_name)\n",
    "\n",
    "col = pd.read_excel(col_path, sheet_name='ODS_col')\n",
    "col"
   ]
  },
  {
   "attachments": {},
   "cell_type": "markdown",
   "metadata": {},
   "source": [
    "### 컬럼명 한글화"
   ]
  },
  {
   "cell_type": "code",
   "execution_count": 13,
   "metadata": {},
   "outputs": [
    {
     "data": {
      "text/plain": [
       "{'EMIS_VHCTY': '배출가스 차종',\n",
       " 'EMPV_WGHT': '공차중량',\n",
       " 'PURPS': '용도',\n",
       " 'EMIS_CRTCNO': '배출가스 인증번호',\n",
       " 'EMIS_CRTC_SNO': '배출가스 인증 일련번호'}"
      ]
     },
     "execution_count": 13,
     "metadata": {},
     "output_type": "execute_result"
    }
   ],
   "source": [
    "col_dict = {a:b for a, b in zip(col['컬럼'], col['내용'])}\n",
    "dict(list(col_dict.items())[:5])"
   ]
  },
  {
   "cell_type": "code",
   "execution_count": 14,
   "metadata": {},
   "outputs": [
    {
     "data": {
      "text/plain": [
       "['배출가스 인증번호',\n",
       " '배출가스 인증 일련번호',\n",
       " '차량 일련번호',\n",
       " '차명',\n",
       " '자동차 형식',\n",
       " '차대번호',\n",
       " '배출가스 차종',\n",
       " '차량 연식',\n",
       " '구동 형식',\n",
       " '용도',\n",
       " '변속기 종류',\n",
       " '공차중량',\n",
       " '총 중량',\n",
       " '엔진형식',\n",
       " '배기량',\n",
       " '연료',\n",
       " '엔진출력',\n",
       " '차량 길이 정보',\n",
       " '차량 너비 정보',\n",
       " '차량 높이 정보',\n",
       " '승차 인원 정보',\n",
       " '미정',\n",
       " '미정',\n",
       " '미정',\n",
       " '저장 일자']"
      ]
     },
     "execution_count": 14,
     "metadata": {},
     "output_type": "execute_result"
    }
   ],
   "source": [
    "col_list = [col_dict[x] for x in emis.columns]\n",
    "col_list"
   ]
  },
  {
   "cell_type": "code",
   "execution_count": 15,
   "metadata": {},
   "outputs": [
    {
     "name": "stdout",
     "output_type": "stream",
     "text": [
      "<class 'pandas.core.frame.DataFrame'>\n",
      "RangeIndex: 109269 entries, 0 to 109268\n",
      "Data columns (total 25 columns):\n",
      " #   Column        Non-Null Count   Dtype  \n",
      "---  ------        --------------   -----  \n",
      " 0   배출가스 인증번호     109269 non-null  object \n",
      " 1   배출가스 인증 일련번호  109269 non-null  int64  \n",
      " 2   차량 일련번호       109269 non-null  object \n",
      " 3   차명            109241 non-null  object \n",
      " 4   자동차 형식        109181 non-null  object \n",
      " 5   차대번호          72498 non-null   object \n",
      " 6   배출가스 차종       84041 non-null   object \n",
      " 7   차량 연식         104332 non-null  float64\n",
      " 8   구동 형식         91142 non-null   object \n",
      " 9   용도            96950 non-null   object \n",
      " 10  변속기 종류        108853 non-null  object \n",
      " 11  공차중량          109166 non-null  object \n",
      " 12  총 중량          109027 non-null  object \n",
      " 13  엔진형식          108279 non-null  object \n",
      " 14  배기량           108249 non-null  float64\n",
      " 15  연료            108746 non-null  object \n",
      " 16  엔진출력          99675 non-null   object \n",
      " 17  차량 길이 정보      102659 non-null  object \n",
      " 18  차량 너비 정보      102662 non-null  object \n",
      " 19  차량 높이 정보      102660 non-null  object \n",
      " 20  승차 인원 정보      82499 non-null   object \n",
      " 21  미정            76202 non-null   object \n",
      " 22  미정            76172 non-null   object \n",
      " 23  미정            109265 non-null  object \n",
      " 24  저장 일자         109265 non-null  object \n",
      "dtypes: float64(2), int64(1), object(22)\n",
      "memory usage: 20.8+ MB\n"
     ]
    }
   ],
   "source": [
    "emis.columns = col_list\n",
    "emis.info()"
   ]
  },
  {
   "attachments": {},
   "cell_type": "markdown",
   "metadata": {},
   "source": [
    "## 해당 인증번호 정보 확인\n",
    "- 인증번호 : 8MY-KM-13 (❌)\n",
    "    - 8MY-KM-13 포함한 1개만 존재\n",
    "- 인증번호 : 8MY-KM-13-19 (⭕)"
   ]
  },
  {
   "cell_type": "code",
   "execution_count": 16,
   "metadata": {},
   "outputs": [
    {
     "data": {
      "text/html": [
       "<div>\n",
       "<style scoped>\n",
       "    .dataframe tbody tr th:only-of-type {\n",
       "        vertical-align: middle;\n",
       "    }\n",
       "\n",
       "    .dataframe tbody tr th {\n",
       "        vertical-align: top;\n",
       "    }\n",
       "\n",
       "    .dataframe thead th {\n",
       "        text-align: right;\n",
       "    }\n",
       "</style>\n",
       "<table border=\"1\" class=\"dataframe\">\n",
       "  <thead>\n",
       "    <tr style=\"text-align: right;\">\n",
       "      <th></th>\n",
       "      <th>배출가스 인증번호</th>\n",
       "      <th>배출가스 인증 일련번호</th>\n",
       "      <th>차량 일련번호</th>\n",
       "      <th>차명</th>\n",
       "      <th>자동차 형식</th>\n",
       "      <th>차대번호</th>\n",
       "      <th>배출가스 차종</th>\n",
       "      <th>차량 연식</th>\n",
       "      <th>구동 형식</th>\n",
       "      <th>용도</th>\n",
       "      <th>...</th>\n",
       "      <th>연료</th>\n",
       "      <th>엔진출력</th>\n",
       "      <th>차량 길이 정보</th>\n",
       "      <th>차량 너비 정보</th>\n",
       "      <th>차량 높이 정보</th>\n",
       "      <th>승차 인원 정보</th>\n",
       "      <th>미정</th>\n",
       "      <th>미정</th>\n",
       "      <th>미정</th>\n",
       "      <th>저장 일자</th>\n",
       "    </tr>\n",
       "  </thead>\n",
       "  <tbody>\n",
       "  </tbody>\n",
       "</table>\n",
       "<p>0 rows × 25 columns</p>\n",
       "</div>"
      ],
      "text/plain": [
       "Empty DataFrame\n",
       "Columns: [배출가스 인증번호, 배출가스 인증 일련번호, 차량 일련번호, 차명, 자동차 형식, 차대번호, 배출가스 차종, 차량 연식, 구동 형식, 용도, 변속기 종류, 공차중량, 총 중량, 엔진형식, 배기량, 연료, 엔진출력, 차량 길이 정보, 차량 너비 정보, 차량 높이 정보, 승차 인원 정보, 미정, 미정, 미정, 저장 일자]\n",
       "Index: []\n",
       "\n",
       "[0 rows x 25 columns]"
      ]
     },
     "execution_count": 16,
     "metadata": {},
     "output_type": "execute_result"
    }
   ],
   "source": [
    "emis[emis['배출가스 인증번호'] == '8MY-KM-13']"
   ]
  },
  {
   "cell_type": "code",
   "execution_count": 17,
   "metadata": {},
   "outputs": [
    {
     "data": {
      "text/html": [
       "<div>\n",
       "<style scoped>\n",
       "    .dataframe tbody tr th:only-of-type {\n",
       "        vertical-align: middle;\n",
       "    }\n",
       "\n",
       "    .dataframe tbody tr th {\n",
       "        vertical-align: top;\n",
       "    }\n",
       "\n",
       "    .dataframe thead th {\n",
       "        text-align: right;\n",
       "    }\n",
       "</style>\n",
       "<table border=\"1\" class=\"dataframe\">\n",
       "  <thead>\n",
       "    <tr style=\"text-align: right;\">\n",
       "      <th></th>\n",
       "      <th>배출가스 인증번호</th>\n",
       "      <th>배출가스 인증 일련번호</th>\n",
       "      <th>차량 일련번호</th>\n",
       "      <th>차명</th>\n",
       "      <th>자동차 형식</th>\n",
       "      <th>차대번호</th>\n",
       "      <th>배출가스 차종</th>\n",
       "      <th>차량 연식</th>\n",
       "      <th>구동 형식</th>\n",
       "      <th>용도</th>\n",
       "      <th>...</th>\n",
       "      <th>연료</th>\n",
       "      <th>엔진출력</th>\n",
       "      <th>차량 길이 정보</th>\n",
       "      <th>차량 너비 정보</th>\n",
       "      <th>차량 높이 정보</th>\n",
       "      <th>승차 인원 정보</th>\n",
       "      <th>미정</th>\n",
       "      <th>미정</th>\n",
       "      <th>미정</th>\n",
       "      <th>저장 일자</th>\n",
       "    </tr>\n",
       "  </thead>\n",
       "  <tbody>\n",
       "    <tr>\n",
       "      <th>3603</th>\n",
       "      <td>8MY-KM-13-19</td>\n",
       "      <td>0</td>\n",
       "      <td>000</td>\n",
       "      <td>봉고1톤초장축 수퍼캡</td>\n",
       "      <td>PU1.0-29D-L6-SE-2W5M</td>\n",
       "      <td>NaN</td>\n",
       "      <td>FM</td>\n",
       "      <td>NaN</td>\n",
       "      <td>NaN</td>\n",
       "      <td>NaN</td>\n",
       "      <td>...</td>\n",
       "      <td>DS</td>\n",
       "      <td>126</td>\n",
       "      <td>NaN</td>\n",
       "      <td>NaN</td>\n",
       "      <td>NaN</td>\n",
       "      <td>NaN</td>\n",
       "      <td>NaN</td>\n",
       "      <td>NaN</td>\n",
       "      <td>초기데이터</td>\n",
       "      <td>19/06/28</td>\n",
       "    </tr>\n",
       "  </tbody>\n",
       "</table>\n",
       "<p>1 rows × 25 columns</p>\n",
       "</div>"
      ],
      "text/plain": [
       "         배출가스 인증번호  배출가스 인증 일련번호 차량 일련번호           차명                자동차 형식  \\\n",
       "3603  8MY-KM-13-19             0     000  봉고1톤초장축 수퍼캡  PU1.0-29D-L6-SE-2W5M   \n",
       "\n",
       "     차대번호 배출가스 차종  차량 연식 구동 형식   용도  ...  연료 엔진출력 차량 길이 정보 차량 너비 정보  차량 높이 정보  \\\n",
       "3603  NaN      FM    NaN   NaN  NaN  ...  DS  126      NaN      NaN       NaN   \n",
       "\n",
       "     승차 인원 정보   미정   미정     미정     저장 일자  \n",
       "3603      NaN  NaN  NaN  초기데이터  19/06/28  \n",
       "\n",
       "[1 rows x 25 columns]"
      ]
     },
     "execution_count": 17,
     "metadata": {},
     "output_type": "execute_result"
    }
   ],
   "source": [
    "emis[emis['배출가스 인증번호'] == '8MY-KM-13-19']"
   ]
  },
  {
   "cell_type": "code",
   "execution_count": 18,
   "metadata": {},
   "outputs": [
    {
     "name": "stdout",
     "output_type": "stream",
     "text": [
      "8MY-KM-13-19\n"
     ]
    }
   ],
   "source": [
    "emis_no = '8MY-KM-13'\n",
    "for one in emis['배출가스 인증번호']:\n",
    "    if emis_no in one:\n",
    "        print(one)"
   ]
  },
  {
   "attachments": {},
   "cell_type": "markdown",
   "metadata": {},
   "source": [
    "### [로드] [G4]등록정보&제원정보"
   ]
  },
  {
   "cell_type": "code",
   "execution_count": 19,
   "metadata": {},
   "outputs": [
    {
     "name": "stdout",
     "output_type": "stream",
     "text": [
      "<class 'pandas.core.frame.DataFrame'>\n",
      "RangeIndex: 1511139 entries, 0 to 1511138\n",
      "Data columns (total 49 columns):\n",
      " #   Column        Non-Null Count    Dtype  \n",
      "---  ------        --------------    -----  \n",
      " 0   차량관리번호        1511139 non-null  object \n",
      " 1   차량등록번호        1511139 non-null  object \n",
      " 2   본거지법정동코드      1511139 non-null  int64  \n",
      " 3   소유자구분         1511139 non-null  object \n",
      " 4   차종_등록정보       1511137 non-null  object \n",
      " 5   용도            1511139 non-null  object \n",
      " 6   현재회원번호        1510300 non-null  object \n",
      " 7   차대번호          1511139 non-null  object \n",
      " 8   최초등록일자        1511139 non-null  int64  \n",
      " 9   차량연식          1511139 non-null  int64  \n",
      " 10  차량제작일자        1342367 non-null  float64\n",
      " 11  배출가스검사유효일자    1511127 non-null  float64\n",
      " 12  제원관리번호        1511139 non-null  object \n",
      " 13  배출가스인증번호      1387441 non-null  object \n",
      " 14  배출가스등급        1511139 non-null  object \n",
      " 15  저공해조치YN(미사용)  1510984 non-null  object \n",
      " 16  저공해조치종류       189 non-null      float64\n",
      " 17  저공해조치구조변경YN   1511139 non-null  object \n",
      " 18  차량등록번호숫자정보    1511139 non-null  int64  \n",
      " 19  차량말소YN        1511139 non-null  object \n",
      " 20  최초회원번호        1506484 non-null  object \n",
      " 21  취득일자          1417927 non-null  object \n",
      " 22  취득금액          1436738 non-null  float64\n",
      " 23  생성일시_등록정보     1511139 non-null  object \n",
      " 24  수정일시_등록정보     914957 non-null   object \n",
      " 25  차명            1511139 non-null  object \n",
      " 26  차종_제원정보       1511139 non-null  object \n",
      " 27  차종분류          1511139 non-null  object \n",
      " 28  차종유형(소분류)     1511139 non-null  object \n",
      " 29  자동차형식         1510611 non-null  object \n",
      " 30  제작사명          1501112 non-null  object \n",
      " 31  연료            1511068 non-null  object \n",
      " 32  엔진형식          1509138 non-null  object \n",
      " 33  공차중량          0 non-null        float64\n",
      " 34  총중량           1511114 non-null  float64\n",
      " 35  적재중량          1510602 non-null  float64\n",
      " 36  엔진출력          1510511 non-null  float64\n",
      " 37  배기량           1511128 non-null  float64\n",
      " 38  승차인원          1511139 non-null  float64\n",
      " 39  차량길이          1511064 non-null  float64\n",
      " 40  차량너비          1511064 non-null  float64\n",
      " 41  차량높이          1511062 non-null  float64\n",
      " 42  원산지명          1492014 non-null  object \n",
      " 43  삭제YN          1511139 non-null  object \n",
      " 44  승인일자          1510592 non-null  object \n",
      " 45  구동형식          47 non-null       float64\n",
      " 46  변속기종류         1510979 non-null  object \n",
      " 47  생성일시_제원정보     1511139 non-null  object \n",
      " 48  수정일시_제원정보     497 non-null      object \n",
      "dtypes: float64(14), int64(4), object(31)\n",
      "memory usage: 564.9+ MB\n"
     ]
    }
   ],
   "source": [
    "# about 30s\n",
    "file_name = '[ODS][G4]등록정보&제원정보(말소제거)(중복차대제거)(한글컬럼)(2022.12.29).csv'\n",
    "car_path = os.path.join(ods_fold, file_name)\n",
    "car4 = pd.read_csv(car_path, low_memory=False)\n",
    "car4.info()"
   ]
  },
  {
   "cell_type": "code",
   "execution_count": 20,
   "metadata": {},
   "outputs": [
    {
     "data": {
      "text/plain": [
       "Index(['차량관리번호', '차량등록번호', '본거지법정동코드', '소유자구분', '차종_등록정보', '용도', '현재회원번호',\n",
       "       '차대번호', '최초등록일자', '차량연식', '차량제작일자', '배출가스검사유효일자', '제원관리번호', '배출가스인증번호',\n",
       "       '배출가스등급', '저공해조치YN(미사용)', '저공해조치종류', '저공해조치구조변경YN', '차량등록번호숫자정보',\n",
       "       '차량말소YN', '최초회원번호', '취득일자', '취득금액', '생성일시_등록정보', '수정일시_등록정보', '차명',\n",
       "       '차종_제원정보', '차종분류', '차종유형(소분류)', '자동차형식', '제작사명', '연료', '엔진형식', '공차중량',\n",
       "       '총중량', '적재중량', '엔진출력', '배기량', '승차인원', '차량길이', '차량너비', '차량높이', '원산지명',\n",
       "       '삭제YN', '승인일자', '구동형식', '변속기종류', '생성일시_제원정보', '수정일시_제원정보'],\n",
       "      dtype='object')"
      ]
     },
     "execution_count": 20,
     "metadata": {},
     "output_type": "execute_result"
    }
   ],
   "source": [
    "car4.columns"
   ]
  },
  {
   "cell_type": "code",
   "execution_count": 21,
   "metadata": {},
   "outputs": [
    {
     "data": {
      "text/plain": [
       "(92265, 49)"
      ]
     },
     "execution_count": 21,
     "metadata": {},
     "output_type": "execute_result"
    }
   ],
   "source": [
    "emis_no = '8MY-KM-13-19'\n",
    "cond1 = car4[car4['배출가스인증번호'] == emis_no]\n",
    "cond1.shape"
   ]
  },
  {
   "cell_type": "code",
   "execution_count": 22,
   "metadata": {},
   "outputs": [
    {
     "data": {
      "text/plain": [
       "array(['봉고Ⅲ 1톤', '봉고Ⅲ 4륜구동', '봉고Ⅲ 운교차', '평강봉고Ⅲ렉커', '삼오봉고홈로리', '삼오봉고4륜홈로리',\n",
       "       '봉고Ⅲ 냉동차', '봉고Ⅲ 내장차', '봉고Ⅲ 일반덤프', '봉고Ⅲ 플러스내장차', '봉고Ⅲ 보냉차',\n",
       "       '봉고Ⅲ 파워게이트', '봉고Ⅲ 3방덤프', '봉고Ⅲ 워크스루밴', '봉고Ⅲ 윙바디', '봉고Ⅲ 홈로리',\n",
       "       '봉고Ⅲ 플러스냉동차', '봉고Ⅲ 냉장차', '봉고Ⅲ 다용도탑차', '봉고Ⅲ 활어수송차', '봉고Ⅲ 냉온장차',\n",
       "       '수성 봉고3 언더리프트', '삼오봉고탱크로리', '봉고Ⅲ활어수송차', '고호1.0톤이삿짐사다리차',\n",
       "       '평강봉고렉커4륜', '드림사다리차', '호룡 엘리카 고가사다리차', '봉고Ⅲ크레인', '평강이삿짐사다리차',\n",
       "       '대진홈로리', '드림 사다리차', '천하 사다리차', '평강봉고렉커', '에코다목적방제차', '봉고Ⅲ 원박스냉동차',\n",
       "       '금강홈로리', 'KJM렉커', '다산고소작업차', '동아홈로리', '한아방제차', '라헬4륜내장탑차',\n",
       "       '반도크레인탑차', '동해10M고소작업차-0801', '에스알중계차'], dtype=object)"
      ]
     },
     "execution_count": 22,
     "metadata": {},
     "output_type": "execute_result"
    }
   ],
   "source": [
    "car4[car4['배출가스인증번호'] == emis_no]['차명'].unique()"
   ]
  },
  {
   "cell_type": "code",
   "execution_count": 23,
   "metadata": {},
   "outputs": [
    {
     "data": {
      "text/plain": [
       "(55824, 49)"
      ]
     },
     "execution_count": 23,
     "metadata": {},
     "output_type": "execute_result"
    }
   ],
   "source": [
    "car4[(car4['배출가스인증번호'] == emis_no) & (car4['차명'] == '봉고Ⅲ 1톤')].shape"
   ]
  },
  {
   "cell_type": "code",
   "execution_count": 24,
   "metadata": {},
   "outputs": [
    {
     "data": {
      "text/plain": [
       "(92265, 1)"
      ]
     },
     "execution_count": 24,
     "metadata": {},
     "output_type": "execute_result"
    }
   ],
   "source": [
    "emis_no = '8MY-KM-13'\n",
    "temp = []\n",
    "for one in car4['배출가스인증번호']:\n",
    "    if emis_no in str(one):\n",
    "        temp.append(one)\n",
    "len(temp), len(set(temp))"
   ]
  },
  {
   "attachments": {},
   "cell_type": "markdown",
   "metadata": {},
   "source": [
    "### [로드] [G3]등록정보&제원정보"
   ]
  },
  {
   "cell_type": "code",
   "execution_count": 25,
   "metadata": {},
   "outputs": [
    {
     "name": "stdout",
     "output_type": "stream",
     "text": [
      "<class 'pandas.core.frame.DataFrame'>\n",
      "RangeIndex: 8759209 entries, 0 to 8759208\n",
      "Data columns (total 49 columns):\n",
      " #   Column        Dtype  \n",
      "---  ------        -----  \n",
      " 0   차량관리번호        object \n",
      " 1   차량등록번호        object \n",
      " 2   본거지법정동코드      int64  \n",
      " 3   소유자구분         object \n",
      " 4   차종_등록정보       object \n",
      " 5   용도            object \n",
      " 6   현재회원번호        object \n",
      " 7   차대번호          object \n",
      " 8   최초등록일자        int64  \n",
      " 9   차량연식          int64  \n",
      " 10  차량제작일자        float64\n",
      " 11  배출가스검사유효일자    float64\n",
      " 12  제원관리번호        object \n",
      " 13  배출가스인증번호      object \n",
      " 14  배출가스등급        object \n",
      " 15  저공해조치YN(미사용)  object \n",
      " 16  저공해조치종류       float64\n",
      " 17  저공해조치구조변경YN   object \n",
      " 18  차량등록번호숫자정보    int64  \n",
      " 19  차량말소YN        object \n",
      " 20  최초회원번호        object \n",
      " 21  취득일자          float64\n",
      " 22  취득금액          float64\n",
      " 23  생성일시_등록정보     object \n",
      " 24  수정일시_등록정보     object \n",
      " 25  차명            object \n",
      " 26  차종_제원정보       object \n",
      " 27  차종분류          object \n",
      " 28  차종유형(소분류)     object \n",
      " 29  자동차형식         object \n",
      " 30  제작사명          object \n",
      " 31  연료            object \n",
      " 32  엔진형식          object \n",
      " 33  공차중량          float64\n",
      " 34  총중량           float64\n",
      " 35  적재중량          float64\n",
      " 36  엔진출력          float64\n",
      " 37  배기량           float64\n",
      " 38  승차인원          float64\n",
      " 39  차량길이          float64\n",
      " 40  차량너비          float64\n",
      " 41  차량높이          float64\n",
      " 42  원산지명          object \n",
      " 43  삭제YN          object \n",
      " 44  승인일자          float64\n",
      " 45  구동형식          float64\n",
      " 46  변속기종류         object \n",
      " 47  생성일시_제원정보     object \n",
      " 48  수정일시_제원정보     object \n",
      "dtypes: float64(16), int64(4), object(29)\n",
      "memory usage: 3.2+ GB\n"
     ]
    }
   ],
   "source": [
    "# about 2m 10s\n",
    "file_name = '[ODS][G3]등록정보&제원정보(말소제거)(중복차대제거)(한글컬럼)(2022.12.29).csv'\n",
    "car_path = os.path.join(ods_fold, file_name)\n",
    "car3 = pd.read_csv(car_path, low_memory=False)\n",
    "car3.info()"
   ]
  },
  {
   "cell_type": "code",
   "execution_count": 26,
   "metadata": {},
   "outputs": [
    {
     "data": {
      "text/plain": [
       "(0, 49)"
      ]
     },
     "execution_count": 26,
     "metadata": {},
     "output_type": "execute_result"
    }
   ],
   "source": [
    "cond2 = car3[car3['배출가스인증번호'] == emis_no]\n",
    "cond2.shape"
   ]
  },
  {
   "cell_type": "code",
   "execution_count": 27,
   "metadata": {},
   "outputs": [
    {
     "data": {
      "text/plain": [
       "array([], dtype=object)"
      ]
     },
     "execution_count": 27,
     "metadata": {},
     "output_type": "execute_result"
    }
   ],
   "source": [
    "cond2['차명'].unique()"
   ]
  },
  {
   "cell_type": "code",
   "execution_count": 28,
   "metadata": {},
   "outputs": [
    {
     "data": {
      "text/plain": [
       "(0, 49)"
      ]
     },
     "execution_count": 28,
     "metadata": {},
     "output_type": "execute_result"
    }
   ],
   "source": [
    "car3[(car3['배출가스인증번호'] == emis_no) & (car3['차명'] == '봉고Ⅲ 1톤')].shape"
   ]
  },
  {
   "attachments": {},
   "cell_type": "markdown",
   "metadata": {},
   "source": [
    "### [로드] [G4]정기, 정밀"
   ]
  },
  {
   "cell_type": "code",
   "execution_count": 31,
   "metadata": {},
   "outputs": [
    {
     "name": "stdout",
     "output_type": "stream",
     "text": [
      "<class 'pandas.core.frame.DataFrame'>\n",
      "RangeIndex: 2563244 entries, 0 to 2563243\n",
      "Data columns (total 38 columns):\n",
      " #   Column     Dtype  \n",
      "---  ------     -----  \n",
      " 0   사용연료       object \n",
      " 1   주행거리       float64\n",
      " 2   차명         object \n",
      " 3   차량번호       object \n",
      " 4   차종         object \n",
      " 5   차량연식       float64\n",
      " 6   검사방법       object \n",
      " 7   이산화탄소값     float64\n",
      " 8   최대출력허용치    float64\n",
      " 9   최대출력측정값    float64\n",
      " 10  엔진형식       object \n",
      " 11  검사접수번호     object \n",
      " 12  정기검사일자     float64\n",
      " 13  검사종류       object \n",
      " 14  검사소명       object \n",
      " 15  검사판정시각     object \n",
      " 16  정기검사판정     object \n",
      " 17  산소값        float64\n",
      " 18  재검사기간      object \n",
      " 19  무부하매연판정1   object \n",
      " 20  무부하매연판정2   object \n",
      " 21  무부하매연판정3   object \n",
      " 22  무부하매연판정4   object \n",
      " 23  무부하매연판정5   object \n",
      " 24  무부하매연판정6   object \n",
      " 25  무부하매연허용치1  float64\n",
      " 26  무부하매연허용치2  float64\n",
      " 27  무부하매연허용치3  float64\n",
      " 28  무부하매연허용치4  float64\n",
      " 29  무부하매연허용치5  float64\n",
      " 30  무부하매연허용치6  float64\n",
      " 31  무부하매연측정치1  float64\n",
      " 32  무부하매연측정치2  float64\n",
      " 33  무부하매연측정치3  float64\n",
      " 34  무부하매연측정치4  float64\n",
      " 35  무부하매연측정치5  float64\n",
      " 36  무부하매연측정치6  float64\n",
      " 37  차량용도       object \n",
      "dtypes: float64(19), object(19)\n",
      "memory usage: 743.1+ MB\n"
     ]
    }
   ],
   "source": [
    "# about 13s\n",
    "grade = 4\n",
    "file_name = f'[ODS][G{grade}]정기검사(말소제거)(2022.12.29).csv'\n",
    "ins4_path = os.path.join(ods_fold, file_name)\n",
    "ins4 = pd.read_csv(ins4_path, low_memory=False)\n",
    "ins4.info()"
   ]
  },
  {
   "cell_type": "code",
   "execution_count": 32,
   "metadata": {},
   "outputs": [
    {
     "name": "stdout",
     "output_type": "stream",
     "text": [
      "<class 'pandas.core.frame.DataFrame'>\n",
      "RangeIndex: 3431740 entries, 0 to 3431739\n",
      "Data columns (total 40 columns):\n",
      " #   Column      Dtype  \n",
      "---  ------      -----  \n",
      " 0   사용연료        object \n",
      " 1   주행거리        float64\n",
      " 2   차명          object \n",
      " 3   차량번호        object \n",
      " 4   차종          object \n",
      " 5   차량연식        float64\n",
      " 6   정밀검사 검사소코드  object \n",
      " 7   이산화탄소값      float64\n",
      " 8   최대출력허용치     float64\n",
      " 9   최대출력측정값     float64\n",
      " 10  엔진형식        object \n",
      " 11  산소값         float64\n",
      " 12  재검사기간       object \n",
      " 13  정밀검사일자      float64\n",
      " 14  정밀검사판정      object \n",
      " 15  정밀검사측정방법    object \n",
      " 16  정밀검사소명      object \n",
      " 17  정밀검사접수번호    object \n",
      " 18  정밀검사종류      object \n",
      " 19  정밀검사시각정보    object \n",
      " 20  무부하매연판정1    object \n",
      " 21  무부하매연판정2    object \n",
      " 22  무부하매연판정3    object \n",
      " 23  무부하매연판정4    object \n",
      " 24  무부하매연판정5    object \n",
      " 25  무부하매연판정6    object \n",
      " 26  무부하매연허용치1   float64\n",
      " 27  무부하매연허용치2   float64\n",
      " 28  무부하매연허용치3   float64\n",
      " 29  무부하매연허용치4   float64\n",
      " 30  무부하매연허용치5   float64\n",
      " 31  무부하매연허용치6   float64\n",
      " 32  무부하매연측정치1   float64\n",
      " 33  무부하매연측정치2   float64\n",
      " 34  무부하매연측정치3   float64\n",
      " 35  무부하매연측정치4   float64\n",
      " 36  무부하매연측정치5   float64\n",
      " 37  무부하매연측정치6   float64\n",
      " 38  차량용도        object \n",
      " 39  정밀검사유효기간    float64\n",
      "dtypes: float64(20), object(20)\n",
      "memory usage: 1.0+ GB\n"
     ]
    }
   ],
   "source": [
    "# about 26s\n",
    "file_name = f'[ODS][G{grade}]정밀검사(말소제거)(2022.12.29).csv'\n",
    "dins4_path = os.path.join(ods_fold, file_name)\n",
    "dins4 = pd.read_csv(dins4_path, low_memory=False)\n",
    "dins4.info()"
   ]
  },
  {
   "attachments": {},
   "cell_type": "markdown",
   "metadata": {},
   "source": [
    "### [로드] [G3]정기, 정밀"
   ]
  },
  {
   "cell_type": "code",
   "execution_count": 33,
   "metadata": {},
   "outputs": [
    {
     "name": "stdout",
     "output_type": "stream",
     "text": [
      "<class 'pandas.core.frame.DataFrame'>\n",
      "RangeIndex: 12885150 entries, 0 to 12885149\n",
      "Data columns (total 38 columns):\n",
      " #   Column     Dtype  \n",
      "---  ------     -----  \n",
      " 0   사용연료       object \n",
      " 1   주행거리       float64\n",
      " 2   차명         object \n",
      " 3   차량번호       object \n",
      " 4   차종         object \n",
      " 5   차량연식       float64\n",
      " 6   검사방법       object \n",
      " 7   이산화탄소값     float64\n",
      " 8   최대출력허용치    float64\n",
      " 9   최대출력측정값    float64\n",
      " 10  엔진형식       object \n",
      " 11  검사접수번호     object \n",
      " 12  정기검사일자     float64\n",
      " 13  검사종류       object \n",
      " 14  검사소명       object \n",
      " 15  검사판정시각     object \n",
      " 16  정기검사판정     object \n",
      " 17  산소값        float64\n",
      " 18  재검사기간      object \n",
      " 19  무부하매연판정1   object \n",
      " 20  무부하매연판정2   object \n",
      " 21  무부하매연판정3   object \n",
      " 22  무부하매연판정4   object \n",
      " 23  무부하매연판정5   object \n",
      " 24  무부하매연판정6   object \n",
      " 25  무부하매연허용치1  float64\n",
      " 26  무부하매연허용치2  float64\n",
      " 27  무부하매연허용치3  float64\n",
      " 28  무부하매연허용치4  float64\n",
      " 29  무부하매연허용치5  float64\n",
      " 30  무부하매연허용치6  float64\n",
      " 31  무부하매연측정치1  float64\n",
      " 32  무부하매연측정치2  float64\n",
      " 33  무부하매연측정치3  float64\n",
      " 34  무부하매연측정치4  float64\n",
      " 35  무부하매연측정치5  float64\n",
      " 36  무부하매연측정치6  float64\n",
      " 37  차량용도       object \n",
      "dtypes: float64(19), object(19)\n",
      "memory usage: 3.6+ GB\n"
     ]
    }
   ],
   "source": [
    "# about 13s\n",
    "grade = 3\n",
    "file_name = f'[ODS][G{grade}]정기검사(말소제거)(2022.12.29).csv'\n",
    "ins3_path = os.path.join(ods_fold, file_name)\n",
    "ins3 = pd.read_csv(ins3_path, low_memory=False)\n",
    "ins3.info()"
   ]
  },
  {
   "cell_type": "code",
   "execution_count": 34,
   "metadata": {},
   "outputs": [
    {
     "name": "stdout",
     "output_type": "stream",
     "text": [
      "<class 'pandas.core.frame.DataFrame'>\n",
      "RangeIndex: 13612266 entries, 0 to 13612265\n",
      "Data columns (total 40 columns):\n",
      " #   Column      Dtype  \n",
      "---  ------      -----  \n",
      " 0   사용연료        object \n",
      " 1   주행거리        float64\n",
      " 2   차명          object \n",
      " 3   차량번호        object \n",
      " 4   차종          object \n",
      " 5   차량연식        float64\n",
      " 6   정밀검사 검사소코드  object \n",
      " 7   이산화탄소값      float64\n",
      " 8   최대출력허용치     float64\n",
      " 9   최대출력측정값     float64\n",
      " 10  엔진형식        object \n",
      " 11  산소값         float64\n",
      " 12  재검사기간       object \n",
      " 13  정밀검사일자      float64\n",
      " 14  정밀검사판정      object \n",
      " 15  정밀검사측정방법    object \n",
      " 16  정밀검사소명      object \n",
      " 17  정밀검사접수번호    object \n",
      " 18  정밀검사종류      object \n",
      " 19  정밀검사시각정보    object \n",
      " 20  무부하매연판정1    object \n",
      " 21  무부하매연판정2    object \n",
      " 22  무부하매연판정3    object \n",
      " 23  무부하매연판정4    object \n",
      " 24  무부하매연판정5    object \n",
      " 25  무부하매연판정6    object \n",
      " 26  무부하매연허용치1   float64\n",
      " 27  무부하매연허용치2   float64\n",
      " 28  무부하매연허용치3   float64\n",
      " 29  무부하매연허용치4   float64\n",
      " 30  무부하매연허용치5   float64\n",
      " 31  무부하매연허용치6   float64\n",
      " 32  무부하매연측정치1   float64\n",
      " 33  무부하매연측정치2   float64\n",
      " 34  무부하매연측정치3   float64\n",
      " 35  무부하매연측정치4   float64\n",
      " 36  무부하매연측정치5   float64\n",
      " 37  무부하매연측정치6   float64\n",
      " 38  차량용도        object \n",
      " 39  정밀검사유효기간    float64\n",
      "dtypes: float64(20), object(20)\n",
      "memory usage: 4.1+ GB\n"
     ]
    }
   ],
   "source": [
    "# about 1m 50s\n",
    "file_name = f'[ODS][G{grade}]정밀검사(말소제거)(2022.12.29).csv'\n",
    "dins3_path = os.path.join(ods_fold, file_name)\n",
    "dins3 = pd.read_csv(dins3_path, low_memory=False)\n",
    "dins3.info()"
   ]
  },
  {
   "attachments": {},
   "cell_type": "markdown",
   "metadata": {},
   "source": [
    "## 최신 정기&정밀 데이터 정보 추가"
   ]
  },
  {
   "attachments": {},
   "cell_type": "markdown",
   "metadata": {},
   "source": [
    "### 최신 데이터만 남기기\n",
    "- ins(정기검사) : '정기검사일자' 기준 정렬\n",
    "- dins(정밀검사) : '정밀검사일자' 기준 정렬"
   ]
  },
  {
   "cell_type": "code",
   "execution_count": 35,
   "metadata": {},
   "outputs": [
    {
     "data": {
      "text/plain": [
       "Index(['사용연료', '주행거리', '차명', '차량번호', '차종', '차량연식', '검사방법', '이산화탄소값', '최대출력허용치',\n",
       "       '최대출력측정값', '엔진형식', '검사접수번호', '정기검사일자', '검사종류', '검사소명', '검사판정시각',\n",
       "       '정기검사판정', '산소값', '재검사기간', '무부하매연판정1', '무부하매연판정2', '무부하매연판정3',\n",
       "       '무부하매연판정4', '무부하매연판정5', '무부하매연판정6', '무부하매연허용치1', '무부하매연허용치2',\n",
       "       '무부하매연허용치3', '무부하매연허용치4', '무부하매연허용치5', '무부하매연허용치6', '무부하매연측정치1',\n",
       "       '무부하매연측정치2', '무부하매연측정치3', '무부하매연측정치4', '무부하매연측정치5', '무부하매연측정치6',\n",
       "       '차량용도'],\n",
       "      dtype='object')"
      ]
     },
     "execution_count": 35,
     "metadata": {},
     "output_type": "execute_result"
    }
   ],
   "source": [
    "ins4.columns"
   ]
  },
  {
   "cell_type": "code",
   "execution_count": 37,
   "metadata": {},
   "outputs": [
    {
     "data": {
      "text/plain": [
       "38"
      ]
     },
     "execution_count": 37,
     "metadata": {},
     "output_type": "execute_result"
    }
   ],
   "source": [
    "len(ins4.columns)"
   ]
  },
  {
   "cell_type": "code",
   "execution_count": 44,
   "metadata": {},
   "outputs": [],
   "source": [
    "ins4.columns = ['사용연료', '주행거리', '차명', '차량번호', '차종', '차량연식', '검사방법', '이산화탄소값', '최대출력허용치',\n",
    "       '최대출력측정값', '엔진형식', '검사접수번호', '검사일자', '검사종류', '검사소명', '검사판정시각',\n",
    "       '검사판정', '산소값', '재검사기간', '무부하매연판정1', '무부하매연판정2', '무부하매연판정3',\n",
    "       '무부하매연판정4', '무부하매연판정5', '무부하매연판정6', '무부하매연허용치1', '무부하매연허용치2',\n",
    "       '무부하매연허용치3', '무부하매연허용치4', '무부하매연허용치5', '무부하매연허용치6', '무부하매연측정치1',\n",
    "       '무부하매연측정치2', '무부하매연측정치3', '무부하매연측정치4', '무부하매연측정치5', '무부하매연측정치6',\n",
    "       '차량용도']"
   ]
  },
  {
   "cell_type": "code",
   "execution_count": 45,
   "metadata": {},
   "outputs": [],
   "source": [
    "ins4['정기정밀'] = '정기'"
   ]
  },
  {
   "cell_type": "code",
   "execution_count": 36,
   "metadata": {},
   "outputs": [
    {
     "data": {
      "text/plain": [
       "Index(['사용연료', '주행거리', '차명', '차량번호', '차종', '차량연식', '정밀검사 검사소코드', '이산화탄소값',\n",
       "       '최대출력허용치', '최대출력측정값', '엔진형식', '산소값', '재검사기간', '정밀검사일자', '정밀검사판정',\n",
       "       '정밀검사측정방법', '정밀검사소명', '정밀검사접수번호', '정밀검사종류', '정밀검사시각정보', '무부하매연판정1',\n",
       "       '무부하매연판정2', '무부하매연판정3', '무부하매연판정4', '무부하매연판정5', '무부하매연판정6', '무부하매연허용치1',\n",
       "       '무부하매연허용치2', '무부하매연허용치3', '무부하매연허용치4', '무부하매연허용치5', '무부하매연허용치6',\n",
       "       '무부하매연측정치1', '무부하매연측정치2', '무부하매연측정치3', '무부하매연측정치4', '무부하매연측정치5',\n",
       "       '무부하매연측정치6', '차량용도', '정밀검사유효기간'],\n",
       "      dtype='object')"
      ]
     },
     "execution_count": 36,
     "metadata": {},
     "output_type": "execute_result"
    }
   ],
   "source": [
    "dins4.columns"
   ]
  },
  {
   "cell_type": "code",
   "execution_count": 40,
   "metadata": {},
   "outputs": [
    {
     "data": {
      "text/plain": [
       "40"
      ]
     },
     "execution_count": 40,
     "metadata": {},
     "output_type": "execute_result"
    }
   ],
   "source": [
    "len(dins4.columns)"
   ]
  },
  {
   "cell_type": "code",
   "execution_count": 42,
   "metadata": {},
   "outputs": [],
   "source": [
    "dins4 = dins4[['사용연료', '주행거리', '차명', '차량번호', '차종', '차량연식', '정밀검사측정방법', '이산화탄소값',\n",
    "       '최대출력허용치', '최대출력측정값', '엔진형식', '정밀검사접수번호', '정밀검사일자', '정밀검사종류', '정밀검사소명', '정밀검사시각정보', '정밀검사판정', \n",
    "       '산소값', '재검사기간',  '무부하매연판정1', '무부하매연판정2', '무부하매연판정3', '무부하매연판정4', '무부하매연판정5', '무부하매연판정6', '무부하매연허용치1',\n",
    "       '무부하매연허용치2', '무부하매연허용치3', '무부하매연허용치4', '무부하매연허용치5', '무부하매연허용치6',\n",
    "       '무부하매연측정치1', '무부하매연측정치2', '무부하매연측정치3', '무부하매연측정치4', '무부하매연측정치5',\n",
    "       '무부하매연측정치6', '차량용도']]"
   ]
  },
  {
   "cell_type": "code",
   "execution_count": 43,
   "metadata": {},
   "outputs": [
    {
     "data": {
      "text/plain": [
       "38"
      ]
     },
     "execution_count": 43,
     "metadata": {},
     "output_type": "execute_result"
    }
   ],
   "source": [
    "len(dins4.columns)"
   ]
  },
  {
   "cell_type": "code",
   "execution_count": 46,
   "metadata": {},
   "outputs": [],
   "source": [
    "dins4.columns = ['사용연료', '주행거리', '차명', '차량번호', '차종', '차량연식', '검사방법', '이산화탄소값', '최대출력허용치',\n",
    "       '최대출력측정값', '엔진형식', '검사접수번호', '검사일자', '검사종류', '검사소명', '검사판정시각',\n",
    "       '검사판정', '산소값', '재검사기간', '무부하매연판정1', '무부하매연판정2', '무부하매연판정3',\n",
    "       '무부하매연판정4', '무부하매연판정5', '무부하매연판정6', '무부하매연허용치1', '무부하매연허용치2',\n",
    "       '무부하매연허용치3', '무부하매연허용치4', '무부하매연허용치5', '무부하매연허용치6', '무부하매연측정치1',\n",
    "       '무부하매연측정치2', '무부하매연측정치3', '무부하매연측정치4', '무부하매연측정치5', '무부하매연측정치6',\n",
    "       '차량용도']"
   ]
  },
  {
   "cell_type": "code",
   "execution_count": 47,
   "metadata": {},
   "outputs": [],
   "source": [
    "dins4['정기정밀'] = '정밀'"
   ]
  },
  {
   "cell_type": "code",
   "execution_count": 48,
   "metadata": {},
   "outputs": [
    {
     "data": {
      "text/plain": [
       "(5994984, 39)"
      ]
     },
     "execution_count": 48,
     "metadata": {},
     "output_type": "execute_result"
    }
   ],
   "source": [
    "tins4 = pd.concat([ins4, dins4], ignore_index=True)\n",
    "tins4.shape"
   ]
  },
  {
   "cell_type": "code",
   "execution_count": 50,
   "metadata": {},
   "outputs": [
    {
     "data": {
      "text/plain": [
       "3178081    20230107.0\n",
       "3892803    20230107.0\n",
       "2620998    20230107.0\n",
       "2620997    20230107.0\n",
       "2890488    20230107.0\n",
       "Name: 검사일자, dtype: float64"
      ]
     },
     "execution_count": 50,
     "metadata": {},
     "output_type": "execute_result"
    }
   ],
   "source": [
    "tins4.sort_values('검사일자', ascending=False)['검사일자'].head()"
   ]
  },
  {
   "cell_type": "code",
   "execution_count": 52,
   "metadata": {},
   "outputs": [
    {
     "ename": "KeyError",
     "evalue": "Index(['차대번호'], dtype='object')",
     "output_type": "error",
     "traceback": [
      "\u001b[1;31m---------------------------------------------------------------------------\u001b[0m",
      "\u001b[1;31mKeyError\u001b[0m                                  Traceback (most recent call last)",
      "\u001b[1;32m~\\AppData\\Local\\Temp\\ipykernel_18400\\1422847406.py\u001b[0m in \u001b[0;36m<module>\u001b[1;34m\u001b[0m\n\u001b[1;32m----> 1\u001b[1;33m \u001b[0mtins4_m\u001b[0m \u001b[1;33m=\u001b[0m \u001b[0mtins4\u001b[0m\u001b[1;33m.\u001b[0m\u001b[0msort_values\u001b[0m\u001b[1;33m(\u001b[0m\u001b[1;34m'검사일자'\u001b[0m\u001b[1;33m,\u001b[0m \u001b[0mascending\u001b[0m\u001b[1;33m=\u001b[0m\u001b[1;32mFalse\u001b[0m\u001b[1;33m)\u001b[0m\u001b[1;33m.\u001b[0m\u001b[0mdrop_duplicates\u001b[0m\u001b[1;33m(\u001b[0m\u001b[0msubset\u001b[0m\u001b[1;33m=\u001b[0m\u001b[1;33m[\u001b[0m\u001b[1;34m'차대번호'\u001b[0m\u001b[1;33m]\u001b[0m\u001b[1;33m)\u001b[0m\u001b[1;33m.\u001b[0m\u001b[0mreset_index\u001b[0m\u001b[1;33m(\u001b[0m\u001b[0mdrop\u001b[0m\u001b[1;33m=\u001b[0m\u001b[1;32mTrue\u001b[0m\u001b[1;33m)\u001b[0m\u001b[1;33m\u001b[0m\u001b[1;33m\u001b[0m\u001b[0m\n\u001b[0m\u001b[0;32m      2\u001b[0m \u001b[0mtins4_m\u001b[0m\u001b[1;33m.\u001b[0m\u001b[0mshape\u001b[0m\u001b[1;33m\u001b[0m\u001b[1;33m\u001b[0m\u001b[0m\n",
      "\u001b[1;32m~\\AppData\\Roaming\\Python\\Python39\\site-packages\\pandas\\util\\_decorators.py\u001b[0m in \u001b[0;36mwrapper\u001b[1;34m(*args, **kwargs)\u001b[0m\n\u001b[0;32m    329\u001b[0m                     \u001b[0mstacklevel\u001b[0m\u001b[1;33m=\u001b[0m\u001b[0mfind_stack_level\u001b[0m\u001b[1;33m(\u001b[0m\u001b[1;33m)\u001b[0m\u001b[1;33m,\u001b[0m\u001b[1;33m\u001b[0m\u001b[1;33m\u001b[0m\u001b[0m\n\u001b[0;32m    330\u001b[0m                 )\n\u001b[1;32m--> 331\u001b[1;33m             \u001b[1;32mreturn\u001b[0m \u001b[0mfunc\u001b[0m\u001b[1;33m(\u001b[0m\u001b[1;33m*\u001b[0m\u001b[0margs\u001b[0m\u001b[1;33m,\u001b[0m \u001b[1;33m**\u001b[0m\u001b[0mkwargs\u001b[0m\u001b[1;33m)\u001b[0m\u001b[1;33m\u001b[0m\u001b[1;33m\u001b[0m\u001b[0m\n\u001b[0m\u001b[0;32m    332\u001b[0m \u001b[1;33m\u001b[0m\u001b[0m\n\u001b[0;32m    333\u001b[0m         \u001b[1;31m# error: \"Callable[[VarArg(Any), KwArg(Any)], Any]\" has no\u001b[0m\u001b[1;33m\u001b[0m\u001b[1;33m\u001b[0m\u001b[0m\n",
      "\u001b[1;32m~\\AppData\\Roaming\\Python\\Python39\\site-packages\\pandas\\core\\frame.py\u001b[0m in \u001b[0;36mdrop_duplicates\u001b[1;34m(self, subset, keep, inplace, ignore_index)\u001b[0m\n\u001b[0;32m   6667\u001b[0m         \u001b[0minplace\u001b[0m \u001b[1;33m=\u001b[0m \u001b[0mvalidate_bool_kwarg\u001b[0m\u001b[1;33m(\u001b[0m\u001b[0minplace\u001b[0m\u001b[1;33m,\u001b[0m \u001b[1;34m\"inplace\"\u001b[0m\u001b[1;33m)\u001b[0m\u001b[1;33m\u001b[0m\u001b[1;33m\u001b[0m\u001b[0m\n\u001b[0;32m   6668\u001b[0m         \u001b[0mignore_index\u001b[0m \u001b[1;33m=\u001b[0m \u001b[0mvalidate_bool_kwarg\u001b[0m\u001b[1;33m(\u001b[0m\u001b[0mignore_index\u001b[0m\u001b[1;33m,\u001b[0m \u001b[1;34m\"ignore_index\"\u001b[0m\u001b[1;33m)\u001b[0m\u001b[1;33m\u001b[0m\u001b[1;33m\u001b[0m\u001b[0m\n\u001b[1;32m-> 6669\u001b[1;33m         \u001b[0mduplicated\u001b[0m \u001b[1;33m=\u001b[0m \u001b[0mself\u001b[0m\u001b[1;33m.\u001b[0m\u001b[0mduplicated\u001b[0m\u001b[1;33m(\u001b[0m\u001b[0msubset\u001b[0m\u001b[1;33m,\u001b[0m \u001b[0mkeep\u001b[0m\u001b[1;33m=\u001b[0m\u001b[0mkeep\u001b[0m\u001b[1;33m)\u001b[0m\u001b[1;33m\u001b[0m\u001b[1;33m\u001b[0m\u001b[0m\n\u001b[0m\u001b[0;32m   6670\u001b[0m \u001b[1;33m\u001b[0m\u001b[0m\n\u001b[0;32m   6671\u001b[0m         \u001b[0mresult\u001b[0m \u001b[1;33m=\u001b[0m \u001b[0mself\u001b[0m\u001b[1;33m[\u001b[0m\u001b[1;33m-\u001b[0m\u001b[0mduplicated\u001b[0m\u001b[1;33m]\u001b[0m\u001b[1;33m\u001b[0m\u001b[1;33m\u001b[0m\u001b[0m\n",
      "\u001b[1;32m~\\AppData\\Roaming\\Python\\Python39\\site-packages\\pandas\\core\\frame.py\u001b[0m in \u001b[0;36mduplicated\u001b[1;34m(self, subset, keep)\u001b[0m\n\u001b[0;32m   6801\u001b[0m         \u001b[0mdiff\u001b[0m \u001b[1;33m=\u001b[0m \u001b[0mset\u001b[0m\u001b[1;33m(\u001b[0m\u001b[0msubset\u001b[0m\u001b[1;33m)\u001b[0m \u001b[1;33m-\u001b[0m \u001b[0mset\u001b[0m\u001b[1;33m(\u001b[0m\u001b[0mself\u001b[0m\u001b[1;33m.\u001b[0m\u001b[0mcolumns\u001b[0m\u001b[1;33m)\u001b[0m\u001b[1;33m\u001b[0m\u001b[1;33m\u001b[0m\u001b[0m\n\u001b[0;32m   6802\u001b[0m         \u001b[1;32mif\u001b[0m \u001b[0mdiff\u001b[0m\u001b[1;33m:\u001b[0m\u001b[1;33m\u001b[0m\u001b[1;33m\u001b[0m\u001b[0m\n\u001b[1;32m-> 6803\u001b[1;33m             \u001b[1;32mraise\u001b[0m \u001b[0mKeyError\u001b[0m\u001b[1;33m(\u001b[0m\u001b[0mIndex\u001b[0m\u001b[1;33m(\u001b[0m\u001b[0mdiff\u001b[0m\u001b[1;33m)\u001b[0m\u001b[1;33m)\u001b[0m\u001b[1;33m\u001b[0m\u001b[1;33m\u001b[0m\u001b[0m\n\u001b[0m\u001b[0;32m   6804\u001b[0m \u001b[1;33m\u001b[0m\u001b[0m\n\u001b[0;32m   6805\u001b[0m         \u001b[1;32mif\u001b[0m \u001b[0mlen\u001b[0m\u001b[1;33m(\u001b[0m\u001b[0msubset\u001b[0m\u001b[1;33m)\u001b[0m \u001b[1;33m==\u001b[0m \u001b[1;36m1\u001b[0m \u001b[1;32mand\u001b[0m \u001b[0mself\u001b[0m\u001b[1;33m.\u001b[0m\u001b[0mcolumns\u001b[0m\u001b[1;33m.\u001b[0m\u001b[0mis_unique\u001b[0m\u001b[1;33m:\u001b[0m\u001b[1;33m\u001b[0m\u001b[1;33m\u001b[0m\u001b[0m\n",
      "\u001b[1;31mKeyError\u001b[0m: Index(['차대번호'], dtype='object')"
     ]
    }
   ],
   "source": [
    "tins4_m = tins4.sort_values('검사일자', ascending=False).drop_duplicates(subset=['차대번호']).reset_index(drop=True)\n",
    "tins4_m.shape"
   ]
  },
  {
   "cell_type": "code",
   "execution_count": null,
   "metadata": {},
   "outputs": [],
   "source": []
  },
  {
   "cell_type": "code",
   "execution_count": null,
   "metadata": {},
   "outputs": [],
   "source": []
  },
  {
   "attachments": {},
   "cell_type": "markdown",
   "metadata": {},
   "source": [
    "# 2\\. 오류부적합 차량 확인\n",
    "- 18대 차량의 전체 정기, 정밀 검사 데이터\n",
    "- \"자동차 등록정보\"의 '구조변경여부'"
   ]
  },
  {
   "cell_type": "code",
   "execution_count": null,
   "metadata": {},
   "outputs": [],
   "source": [
    "sort_ins = ins4[(ins4['차대번호'] == 'KNADA2322JS052345') | (ins4['차대번호'] == 'KL90E3ADDPKZ00001') | (ins4['차대번호'] == '119213302764다') | (ins4['차대번호'] == '2J4FY29P6NJ557922') |\n",
    "               (ins4['차대번호'] == '1J4FY19P2VP499580') | (ins4['차대번호'] == '119111200133') | (ins4['차대번호'] == '1J4FY29P0SP273538') | (ins4['차대번호'] == '1J4FY19P8VP531416') |\n",
    "               (ins4['차대번호'] == '4TAVN13D6RZ211218') | (ins4['차대번호'] == 'KN3SAP2T2JK000655') | (ins4['차대번호'] == '1J4FY19PXVP480887') | (ins4['차대번호'] == 'WDB2010241F648322') |\n",
    "               (ins4['차대번호'] == '1J4FY19P8VP480886') | (ins4['차대번호'] == '1J4FY19P6VP499582') | (ins4['차대번호'] == 'SALLPAMM4XA423884') | (ins4['차대번호'] == '1J4FY19P4VP531431') |\n",
    "               (ins4['차대번호'] == 'KLAPM69P1LB214595') | (ins4['차대번호'] == 'KL3K8CGFA5K000018')\n",
    "              ].sort_values('차대번호').reset_index(drop=True)\n",
    "sort_ins.shape"
   ]
  },
  {
   "cell_type": "code",
   "execution_count": null,
   "metadata": {},
   "outputs": [],
   "source": [
    "sort_dins = dins4[(dins4['차대번호'] == 'KNADA2322JS052345') | (dins4['차대번호'] == 'KL90E3ADDPKZ00001') | (dins4['차대번호'] == '119213302764다') | (dins4['차대번호'] == '2J4FY29P6NJ557922') |\n",
    "               (dins4['차대번호'] == '1J4FY19P2VP499580') | (dins4['차대번호'] == '119111200133') | (dins4['차대번호'] == '1J4FY29P0SP273538') | (dins4['차대번호'] == '1J4FY19P8VP531416') |\n",
    "               (dins4['차대번호'] == '4TAVN13D6RZ211218') | (dins4['차대번호'] == 'KN3SAP2T2JK000655') | (dins4['차대번호'] == '1J4FY19PXVP480887') | (dins4['차대번호'] == 'WDB2010241F648322') |\n",
    "               (dins4['차대번호'] == '1J4FY19P8VP480886') | (dins4['차대번호'] == '1J4FY19P6VP499582') | (dins4['차대번호'] == 'SALLPAMM4XA423884') | (dins4['차대번호'] == '1J4FY19P4VP531431') |\n",
    "               (dins4['차대번호'] == 'KLAPM69P1LB214595') | (dins4['차대번호'] == 'KL3K8CGFA5K000018')\n",
    "              ].sort_values('차대번호').reset_index(drop=True)\n",
    "sort_dins.shape"
   ]
  },
  {
   "attachments": {},
   "cell_type": "markdown",
   "metadata": {},
   "source": [
    "### [출력]"
   ]
  },
  {
   "cell_type": "code",
   "execution_count": 53,
   "metadata": {},
   "outputs": [],
   "source": [
    "# about 1m 15s\n",
    "g4dc_fold = 'C:/Users/kbjung/Documents/GitHub/wabotech/car_big_data_2/analysis2/4등급_데이터_점검'\n",
    "file_name = '[BD1]4등급_데이터_점검(8MY-KM-13-19).xlsx'\n",
    "g4dc_path = os.path.join(g4dc_fold, file_name)\n",
    "with pd.ExcelWriter(g4dc_path) as writer:\n",
    "    emis[emis['배출가스 인증번호'] == '8MY-KM-13-19'].to_excel(writer, sheet_name='배출가스인증 자동차정보', index=False)\n",
    "    cond1.to_excel(writer, sheet_name='4등급', index=False)\n",
    "    cond2.to_excel(writer, sheet_name='3등급', index=False)\n",
    "    sort_ins.to_excel(writer, sheet_name='오류부적합_정기', index=False)\n",
    "    sort_dins.to_excel(writer, sheet_name='오류부적합_정밀', index=False)"
   ]
  },
  {
   "cell_type": "code",
   "execution_count": null,
   "metadata": {},
   "outputs": [],
   "source": []
  }
 ],
 "metadata": {
  "kernelspec": {
   "display_name": "base",
   "language": "python",
   "name": "python3"
  },
  "language_info": {
   "codemirror_mode": {
    "name": "ipython",
    "version": 3
   },
   "file_extension": ".py",
   "mimetype": "text/x-python",
   "name": "python",
   "nbconvert_exporter": "python",
   "pygments_lexer": "ipython3",
   "version": "3.9.13"
  },
  "orig_nbformat": 4,
  "vscode": {
   "interpreter": {
    "hash": "ad2bdc8ecc057115af97d19610ffacc2b4e99fae6737bb82f5d7fb13d2f2c186"
   }
  }
 },
 "nbformat": 4,
 "nbformat_minor": 2
}
