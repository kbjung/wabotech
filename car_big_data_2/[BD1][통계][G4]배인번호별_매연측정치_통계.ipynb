{
 "cells": [
  {
   "attachments": {},
   "cell_type": "markdown",
   "metadata": {},
   "source": [
    "# Library"
   ]
  },
  {
   "cell_type": "code",
   "execution_count": 2,
   "metadata": {},
   "outputs": [],
   "source": [
    "import pandas as pd\n",
    "import os\n",
    "import numpy as np\n",
    "from tqdm import tqdm"
   ]
  },
  {
   "attachments": {},
   "cell_type": "markdown",
   "metadata": {},
   "source": [
    "# File Load\n",
    "- 4등급_차량_리스트_양식_result\n",
    "- 정기\n",
    "- 정밀\n",
    "- 3등급 등록&제원\n",
    "- 5등급 등록&제원"
   ]
  },
  {
   "cell_type": "code",
   "execution_count": 3,
   "metadata": {},
   "outputs": [],
   "source": [
    "ods_fold = 'D:/data/big2/ODS'\n",
    "fold = 'D:/data/big2/BD1_4등급_데이터_점검1'"
   ]
  },
  {
   "cell_type": "code",
   "execution_count": 4,
   "metadata": {},
   "outputs": [],
   "source": [
    "# about 11s\n",
    "file_name = '4등급_차량_리스트_양식_result.csv'\n",
    "df = pd.read_csv(os.path.join(fold, file_name), encoding='cp949', low_memory=False)"
   ]
  },
  {
   "cell_type": "code",
   "execution_count": 5,
   "metadata": {},
   "outputs": [],
   "source": [
    "# about 3m 33s\n",
    "file_name = '[ODS]정기검사(2022.12.29).csv'\n",
    "ins = pd.read_csv(os.path.join(ods_fold, file_name), low_memory=False)"
   ]
  },
  {
   "cell_type": "code",
   "execution_count": 6,
   "metadata": {},
   "outputs": [],
   "source": [
    "# about 5m 55s\n",
    "file_name = '[ODS]정밀검사(2022.12.29).csv'\n",
    "dins = pd.read_csv(os.path.join(ods_fold, file_name), low_memory=False)"
   ]
  },
  {
   "cell_type": "code",
   "execution_count": 130,
   "metadata": {},
   "outputs": [],
   "source": [
    "# about 2m 26s\n",
    "file_name = '[ODS][G3]등록정보&제원정보(말소제거)(2022.12.29).csv'\n",
    "g3 = pd.read_csv(os.path.join(ods_fold, file_name), encoding='cp949', low_memory=False)"
   ]
  },
  {
   "cell_type": "code",
   "execution_count": 131,
   "metadata": {},
   "outputs": [],
   "source": [
    "# about 18s\n",
    "file_name = '[ODS][G5]등록정보&제원정보(말소제거)(2022.12.29).csv'\n",
    "g5 = pd.read_csv(os.path.join(ods_fold, file_name), encoding='cp949', low_memory=False)"
   ]
  },
  {
   "cell_type": "code",
   "execution_count": 132,
   "metadata": {},
   "outputs": [
    {
     "data": {
      "text/plain": [
       "((1153813, 28), (22006426, 34), (28682228, 34), (8759431, 49), (1154762, 49))"
      ]
     },
     "execution_count": 132,
     "metadata": {},
     "output_type": "execute_result"
    }
   ],
   "source": [
    "df.shape, ins.shape, dins.shape, g3.shape, g5.shape"
   ]
  },
  {
   "cell_type": "code",
   "execution_count": 8,
   "metadata": {},
   "outputs": [
    {
     "data": {
      "text/plain": [
       "Index(['차대번호', '차량번호', '제원관리번호', '차종', '용도', '최초등록일', '연식', '제작일자', '검사유효일',\n",
       "       '인증번호', '등급', '차명', '차종분류', '차종유형', '자동차형식', '제작사명', '연료', '엔진형식',\n",
       "       '총중량', '적재중량', '엔진출력', '배기량', '법정동코드', '시도명', '시군구명', '소유자구분', '말소여부',\n",
       "       '일치유무'],\n",
       "      dtype='object')"
      ]
     },
     "execution_count": 8,
     "metadata": {},
     "output_type": "execute_result"
    }
   ],
   "source": [
    "df.columns"
   ]
  },
  {
   "cell_type": "code",
   "execution_count": 9,
   "metadata": {},
   "outputs": [
    {
     "data": {
      "text/plain": [
       "Index(['사용연료', '주행거리', '차명', '차량번호', '차대번호', '차종', '차량연식', '엔진형식', '검사방법',\n",
       "       '검사일자', '검사종류', '검사판정시각', '검사판정', '산소값', '이산화탄소값', '무부하매연판정1',\n",
       "       '무부하매연판정2', '무부하매연판정3', '무부하매연판정4', '무부하매연판정5', '무부하매연판정6', '무부하매연허용치1',\n",
       "       '무부하매연허용치2', '무부하매연허용치3', '무부하매연허용치4', '무부하매연허용치5', '무부하매연허용치6',\n",
       "       '무부하매연측정치1', '무부하매연측정치2', '무부하매연측정치3', '무부하매연측정치4', '무부하매연측정치5',\n",
       "       '무부하매연측정치6', '차량용도', '최대출력허용치', '최대출력측정값', '검사접수번호', '검사소명', '재검사기간'],\n",
       "      dtype='object')"
      ]
     },
     "execution_count": 9,
     "metadata": {},
     "output_type": "execute_result"
    }
   ],
   "source": [
    "ins.columns"
   ]
  },
  {
   "cell_type": "code",
   "execution_count": 10,
   "metadata": {},
   "outputs": [
    {
     "data": {
      "text/plain": [
       "Index(['사용연료', '주행거리', '차명', '차량번호', '차대번호', '차종', '차량연식', '엔진형식', '검사방법',\n",
       "       '검사일자', '검사종류', '검사판정시각', '검사판정', '산소값', '이산화탄소값', '무부하매연판정1',\n",
       "       '무부하매연판정2', '무부하매연판정3', '무부하매연판정4', '무부하매연판정5', '무부하매연판정6', '무부하매연허용치1',\n",
       "       '무부하매연허용치2', '무부하매연허용치3', '무부하매연허용치4', '무부하매연허용치5', '무부하매연허용치6',\n",
       "       '무부하매연측정치1', '무부하매연측정치2', '무부하매연측정치3', '무부하매연측정치4', '무부하매연측정치5',\n",
       "       '무부하매연측정치6', '차량용도', '최대출력허용치', '최대출력측정값', '검사접수번호', '검사소명', '재검사기간',\n",
       "       '검사 검사소코드', '검사유효기간'],\n",
       "      dtype='object')"
      ]
     },
     "execution_count": 10,
     "metadata": {},
     "output_type": "execute_result"
    }
   ],
   "source": [
    "dins.columns"
   ]
  },
  {
   "cell_type": "code",
   "execution_count": 133,
   "metadata": {},
   "outputs": [
    {
     "data": {
      "text/plain": [
       "Index(['차량관리번호', '차량등록번호', '본거지법정동코드', '소유자구분', '차종_등록정보', '용도', '현재회원번호',\n",
       "       '차대번호', '최초등록일자', '차량연식', '차량제작일자', '배출가스검사유효일자', '제원관리번호', '배출가스인증번호',\n",
       "       '배출가스등급', '저공해조치YN(미사용)', '저공해조치종류', '저공해조치구조변경YN', '차량등록번호숫자정보',\n",
       "       '차량말소YN', '최초회원번호', '취득일자', '취득금액', '생성일시_등록정보', '수정일시_등록정보', '차명',\n",
       "       '차종_제원정보', '차종분류', '차종유형(소분류)', '자동차형식', '제작사명', '연료', '엔진형식', '공차중량',\n",
       "       '총중량', '적재중량', '엔진출력', '배기량', '승차인원', '차량길이', '차량너비', '차량높이', '원산지명',\n",
       "       '삭제YN', '승인일자', '구동형식', '변속기종류', '생성일시_제원정보', '수정일시_제원정보'],\n",
       "      dtype='object')"
      ]
     },
     "execution_count": 133,
     "metadata": {},
     "output_type": "execute_result"
    }
   ],
   "source": [
    "g3.columns"
   ]
  },
  {
   "cell_type": "code",
   "execution_count": 134,
   "metadata": {},
   "outputs": [
    {
     "data": {
      "text/plain": [
       "Index(['차량관리번호', '차량등록번호', '본거지법정동코드', '소유자구분', '차종_등록정보', '용도', '현재회원번호',\n",
       "       '차대번호', '최초등록일자', '차량연식', '차량제작일자', '배출가스검사유효일자', '제원관리번호', '배출가스인증번호',\n",
       "       '배출가스등급', '저공해조치YN(미사용)', '저공해조치종류', '저공해조치구조변경YN', '차량등록번호숫자정보',\n",
       "       '차량말소YN', '최초회원번호', '취득일자', '취득금액', '생성일시_등록정보', '수정일시_등록정보', '차명',\n",
       "       '차종_제원정보', '차종분류', '차종유형(소분류)', '자동차형식', '제작사명', '연료', '엔진형식', '공차중량',\n",
       "       '총중량', '적재중량', '엔진출력', '배기량', '승차인원', '차량길이', '차량너비', '차량높이', '원산지명',\n",
       "       '삭제YN', '승인일자', '구동형식', '변속기종류', '생성일시_제원정보', '수정일시_제원정보'],\n",
       "      dtype='object')"
      ]
     },
     "execution_count": 134,
     "metadata": {},
     "output_type": "execute_result"
    }
   ],
   "source": [
    "g5.columns"
   ]
  },
  {
   "attachments": {},
   "cell_type": "markdown",
   "metadata": {},
   "source": [
    "# Preprocessing"
   ]
  },
  {
   "attachments": {},
   "cell_type": "markdown",
   "metadata": {},
   "source": [
    "## 전처리 : 4등급_차량_리스트_양식_result\n",
    "- 컬럼명 정리\n",
    "    - '차종' : '차종_원본', '인증번호':'배출가스인증번호'\n",
    "- ~~중복 차대번호 처리 : '최초등록일', '검사유효일, 내림차순 정렬(ascending=[False, False])~~\n",
    "- 배출가스등급 : 4등급\n",
    "- 연료 : 경유차"
   ]
  },
  {
   "cell_type": "code",
   "execution_count": 11,
   "metadata": {},
   "outputs": [
    {
     "data": {
      "text/plain": [
       "Index(['차대번호', '차량번호', '제원관리번호', '차종', '용도', '최초등록일', '연식', '제작일자', '검사유효일',\n",
       "       '인증번호', '등급', '차명', '차종분류', '차종유형', '자동차형식', '제작사명', '연료', '엔진형식',\n",
       "       '총중량', '적재중량', '엔진출력', '배기량', '법정동코드', '시도명', '시군구명', '소유자구분', '말소여부',\n",
       "       '일치유무'],\n",
       "      dtype='object')"
      ]
     },
     "execution_count": 11,
     "metadata": {},
     "output_type": "execute_result"
    }
   ],
   "source": [
    "df.columns"
   ]
  },
  {
   "cell_type": "code",
   "execution_count": 12,
   "metadata": {},
   "outputs": [
    {
     "data": {
      "text/plain": [
       "Index(['차대번호', '차량번호', '제원관리번호', '차종_원본', '용도', '최초등록일', '연식', '제작일자', '검사유효일',\n",
       "       '배출가스인증번호', '등급', '차명', '차종분류', '차종유형', '자동차형식', '제작사명', '연료', '엔진형식',\n",
       "       '총중량', '적재중량', '엔진출력', '배기량', '법정동코드', '시도명', '시군구명', '소유자구분', '말소여부',\n",
       "       '일치유무'],\n",
       "      dtype='object')"
      ]
     },
     "execution_count": 12,
     "metadata": {},
     "output_type": "execute_result"
    }
   ],
   "source": [
    "df = df.rename(columns={'차종':'차종_원본', '인증번호':'배출가스인증번호'})\n",
    "df.columns"
   ]
  },
  {
   "cell_type": "code",
   "execution_count": 13,
   "metadata": {},
   "outputs": [
    {
     "data": {
      "text/plain": [
       "((1502235, 28), 1502213)"
      ]
     },
     "execution_count": 13,
     "metadata": {},
     "output_type": "execute_result"
    }
   ],
   "source": [
    "df.shape, len(df['차대번호'].unique())"
   ]
  },
  {
   "cell_type": "code",
   "execution_count": 14,
   "metadata": {},
   "outputs": [],
   "source": [
    "# df = df.sort_values(['최초등록일', '검사유효일'], ascending=[False, False]).drop_duplicates('차대번호').reset_index(drop=True)\n",
    "# df.shape"
   ]
  },
  {
   "cell_type": "code",
   "execution_count": 15,
   "metadata": {},
   "outputs": [
    {
     "data": {
      "text/plain": [
       "4    1502235\n",
       "Name: 등급, dtype: int64"
      ]
     },
     "execution_count": 15,
     "metadata": {},
     "output_type": "execute_result"
    }
   ],
   "source": [
    "df['등급'].value_counts(dropna=False)"
   ]
  },
  {
   "cell_type": "code",
   "execution_count": 16,
   "metadata": {},
   "outputs": [
    {
     "data": {
      "text/plain": [
       "경유             1153813\n",
       "휘발유             322983\n",
       "LPG(액화석유가스)      25400\n",
       "기타연료                37\n",
       "알코올                  1\n",
       "CNG(압축천연가스)          1\n",
       "Name: 연료, dtype: int64"
      ]
     },
     "execution_count": 16,
     "metadata": {},
     "output_type": "execute_result"
    }
   ],
   "source": [
    "df['연료'].value_counts(dropna=False)"
   ]
  },
  {
   "cell_type": "code",
   "execution_count": 17,
   "metadata": {},
   "outputs": [
    {
     "data": {
      "text/plain": [
       "(1502235, 28)"
      ]
     },
     "execution_count": 17,
     "metadata": {},
     "output_type": "execute_result"
    }
   ],
   "source": [
    "df.shape"
   ]
  },
  {
   "cell_type": "code",
   "execution_count": 18,
   "metadata": {},
   "outputs": [
    {
     "data": {
      "text/plain": [
       "(1153813, 28)"
      ]
     },
     "execution_count": 18,
     "metadata": {},
     "output_type": "execute_result"
    }
   ],
   "source": [
    "df = df[df['연료'] == '경유'].reset_index(drop=True)\n",
    "df.shape"
   ]
  },
  {
   "attachments": {},
   "cell_type": "markdown",
   "metadata": {},
   "source": [
    "## 전처리 : 정기, 정밀 검사\n",
    "- 정기, 정밀 검사 필요한 컬럼만 추출\n",
    "- 정기, 정밀 검사 샘플에 '정기, 정밀' 검사 표기\n",
    "- 정기, 정밀 통합하여 중복 차대번호 제거(최신 '검사일자'만 사용)"
   ]
  },
  {
   "cell_type": "code",
   "execution_count": 19,
   "metadata": {},
   "outputs": [
    {
     "data": {
      "text/plain": [
       "(39, 41)"
      ]
     },
     "execution_count": 19,
     "metadata": {},
     "output_type": "execute_result"
    }
   ],
   "source": [
    "len(ins.columns), len(dins.columns)"
   ]
  },
  {
   "cell_type": "code",
   "execution_count": 20,
   "metadata": {},
   "outputs": [
    {
     "data": {
      "text/plain": [
       "33"
      ]
     },
     "execution_count": 20,
     "metadata": {},
     "output_type": "execute_result"
    }
   ],
   "source": [
    "col = ['사용연료', '주행거리', '차명', '차량번호', '차대번호', '차종', '차량연식', '엔진형식', '검사방법',\n",
    "       '검사일자', '검사종류', '검사판정시각', '검사판정', '산소값', '이산화탄소값', '무부하매연판정1',\n",
    "       '무부하매연판정2', '무부하매연판정3', '무부하매연판정4', '무부하매연판정5', '무부하매연판정6', '무부하매연허용치1',\n",
    "       '무부하매연허용치2', '무부하매연허용치3', '무부하매연허용치4', '무부하매연허용치5', '무부하매연허용치6',\n",
    "       '무부하매연측정치1', '무부하매연측정치2', '무부하매연측정치3', '무부하매연측정치4', '무부하매연측정치5',\n",
    "       '무부하매연측정치6',]\n",
    "len(col)"
   ]
  },
  {
   "cell_type": "code",
   "execution_count": 21,
   "metadata": {},
   "outputs": [
    {
     "data": {
      "text/plain": [
       "((22006426, 33), (28682228, 33))"
      ]
     },
     "execution_count": 21,
     "metadata": {},
     "output_type": "execute_result"
    }
   ],
   "source": [
    "# about 30s\n",
    "ins = ins[col]\n",
    "dins = dins[col]\n",
    "ins.shape, dins.shape"
   ]
  },
  {
   "cell_type": "code",
   "execution_count": 22,
   "metadata": {},
   "outputs": [],
   "source": [
    "ins['정기정밀'] = '정기'\n",
    "dins['정기정밀'] = '정밀'"
   ]
  },
  {
   "cell_type": "code",
   "execution_count": 23,
   "metadata": {},
   "outputs": [
    {
     "data": {
      "text/plain": [
       "((22006426, 34), 12601262)"
      ]
     },
     "execution_count": 23,
     "metadata": {},
     "output_type": "execute_result"
    }
   ],
   "source": [
    "# about 13s\n",
    "ins.shape, len(ins['차대번호'].unique())"
   ]
  },
  {
   "cell_type": "code",
   "execution_count": 24,
   "metadata": {},
   "outputs": [
    {
     "data": {
      "text/plain": [
       "((28682228, 34), 15367596)"
      ]
     },
     "execution_count": 24,
     "metadata": {},
     "output_type": "execute_result"
    }
   ],
   "source": [
    "# 20s\n",
    "dins.shape, len(dins['차대번호'].unique())"
   ]
  },
  {
   "cell_type": "code",
   "execution_count": 25,
   "metadata": {},
   "outputs": [
    {
     "data": {
      "text/plain": [
       "(50688654, 34)"
      ]
     },
     "execution_count": 25,
     "metadata": {},
     "output_type": "execute_result"
    }
   ],
   "source": [
    "# about \n",
    "tin = pd.concat([ins, dins], ignore_index=True)\n",
    "tin.shape"
   ]
  },
  {
   "cell_type": "code",
   "execution_count": 26,
   "metadata": {},
   "outputs": [
    {
     "data": {
      "text/plain": [
       "True"
      ]
     },
     "execution_count": 26,
     "metadata": {},
     "output_type": "execute_result"
    }
   ],
   "source": [
    "tin.shape[0] == ins.shape[0] + dins.shape[0]"
   ]
  },
  {
   "cell_type": "code",
   "execution_count": 27,
   "metadata": {},
   "outputs": [
    {
     "data": {
      "text/plain": [
       "(22044208, 34)"
      ]
     },
     "execution_count": 27,
     "metadata": {},
     "output_type": "execute_result"
    }
   ],
   "source": [
    "tin = tin.sort_values('검사일자', ascending=False).drop_duplicates('차대번호').reset_index(drop=True)\n",
    "tin.shape"
   ]
  },
  {
   "attachments": {},
   "cell_type": "markdown",
   "metadata": {},
   "source": [
    "## 전처리 : 등록&제원과 정기,정밀 병합\n",
    "- 4등급 경유 등록&제원 : df\n",
    "- 최신 검사일자 중복 차대번호 제거 정기, 정밀 : tin\n",
    "- 병합 : total"
   ]
  },
  {
   "cell_type": "code",
   "execution_count": 99,
   "metadata": {},
   "outputs": [
    {
     "data": {
      "text/plain": [
       "(1153813, 61)"
      ]
     },
     "execution_count": 99,
     "metadata": {},
     "output_type": "execute_result"
    }
   ],
   "source": [
    "# about 45s\n",
    "total = df.merge(tin, on='차대번호', how='left')\n",
    "total.shape"
   ]
  },
  {
   "attachments": {},
   "cell_type": "markdown",
   "metadata": {},
   "source": [
    "## 전처리 : 배인번호 빈칸, 빈칸 포함 문자열 처리"
   ]
  },
  {
   "cell_type": "code",
   "execution_count": 100,
   "metadata": {},
   "outputs": [
    {
     "data": {
      "text/plain": [
       "7147"
      ]
     },
     "execution_count": 100,
     "metadata": {},
     "output_type": "execute_result"
    }
   ],
   "source": [
    "total['배출가스인증번호'].isnull().sum()"
   ]
  },
  {
   "cell_type": "code",
   "execution_count": null,
   "metadata": {},
   "outputs": [],
   "source": [
    "count = 0\n",
    "for one in total['배출가스인증번호']:\n",
    "    if ' ' == str(one) or ' ' in str(one):\n",
    "        count += 1\n",
    "count"
   ]
  },
  {
   "cell_type": "code",
   "execution_count": 101,
   "metadata": {},
   "outputs": [
    {
     "data": {
      "text/plain": [
       "3"
      ]
     },
     "execution_count": 101,
     "metadata": {},
     "output_type": "execute_result"
    }
   ],
   "source": [
    "count = 0\n",
    "for one in total['배출가스인증번호']:\n",
    "    if ' ' == str(one):\n",
    "        count += 1\n",
    "count"
   ]
  },
  {
   "cell_type": "code",
   "execution_count": 102,
   "metadata": {},
   "outputs": [
    {
     "data": {
      "text/plain": [
       "3"
      ]
     },
     "execution_count": 102,
     "metadata": {},
     "output_type": "execute_result"
    }
   ],
   "source": [
    "idx = []\n",
    "for i, one in enumerate(total['배출가스인증번호']):\n",
    "    if ' ' == str(one):\n",
    "        idx.append(i)\n",
    "len(idx)"
   ]
  },
  {
   "cell_type": "code",
   "execution_count": 103,
   "metadata": {},
   "outputs": [],
   "source": [
    "total.loc[idx, '배출가스인증번호'] = np.nan"
   ]
  },
  {
   "cell_type": "code",
   "execution_count": 104,
   "metadata": {},
   "outputs": [
    {
     "data": {
      "text/plain": [
       "0"
      ]
     },
     "execution_count": 104,
     "metadata": {},
     "output_type": "execute_result"
    }
   ],
   "source": [
    "count = 0\n",
    "for one in total['배출가스인증번호']:\n",
    "    if ' ' == str(one):\n",
    "        count += 1\n",
    "count"
   ]
  },
  {
   "cell_type": "code",
   "execution_count": 105,
   "metadata": {},
   "outputs": [
    {
     "data": {
      "text/plain": [
       "10"
      ]
     },
     "execution_count": 105,
     "metadata": {},
     "output_type": "execute_result"
    }
   ],
   "source": [
    "count = 0\n",
    "for one in total['배출가스인증번호']:\n",
    "    if ' ' in str(one):\n",
    "        count += 1\n",
    "count"
   ]
  },
  {
   "cell_type": "code",
   "execution_count": 106,
   "metadata": {},
   "outputs": [],
   "source": [
    "total['배출가스인증번호'] = total['배출가스인증번호'].str.strip()"
   ]
  },
  {
   "cell_type": "code",
   "execution_count": 108,
   "metadata": {},
   "outputs": [
    {
     "data": {
      "text/plain": [
       "0"
      ]
     },
     "execution_count": 108,
     "metadata": {},
     "output_type": "execute_result"
    }
   ],
   "source": [
    "count = 0\n",
    "for one in total['배출가스인증번호']:\n",
    "    if ' ' in str(one):\n",
    "        count += 1\n",
    "count"
   ]
  },
  {
   "cell_type": "code",
   "execution_count": 109,
   "metadata": {},
   "outputs": [
    {
     "data": {
      "text/plain": [
       "0"
      ]
     },
     "execution_count": 109,
     "metadata": {},
     "output_type": "execute_result"
    }
   ],
   "source": [
    "count = 0\n",
    "for one in total['배출가스인증번호']:\n",
    "    if ' ' == str(one) or ' ' in str(one):\n",
    "        count += 1\n",
    "count"
   ]
  },
  {
   "attachments": {},
   "cell_type": "markdown",
   "metadata": {},
   "source": [
    "## 전처리 : 빈값 문자열 형식으로 변환"
   ]
  },
  {
   "cell_type": "code",
   "execution_count": 110,
   "metadata": {},
   "outputs": [
    {
     "data": {
      "text/plain": [
       "7MY-HD-14-68     252249\n",
       "8MY-KM-13-19      90619\n",
       "6MY-KM-14-61      71965\n",
       "9MY-KM-14-41      65879\n",
       "7MY-HD-14-46      58125\n",
       "                  ...  \n",
       "8MY-EC-0M-24          1\n",
       "8MY-DH-0M-24          1\n",
       "9MY-PP-14-409         1\n",
       "7MY-MM-0M-24          1\n",
       "8MY-FM-0M-24          1\n",
       "Name: 배출가스인증번호, Length: 206, dtype: int64"
      ]
     },
     "execution_count": 110,
     "metadata": {},
     "output_type": "execute_result"
    }
   ],
   "source": [
    "total['배출가스인증번호'].value_counts(dropna=False)"
   ]
  },
  {
   "cell_type": "code",
   "execution_count": 111,
   "metadata": {},
   "outputs": [
    {
     "data": {
      "text/plain": [
       "7150"
      ]
     },
     "execution_count": 111,
     "metadata": {},
     "output_type": "execute_result"
    }
   ],
   "source": [
    "total['배출가스인증번호'].isnull().sum()"
   ]
  },
  {
   "cell_type": "code",
   "execution_count": 112,
   "metadata": {},
   "outputs": [
    {
     "data": {
      "text/plain": [
       "부하검사(KD-147)        798238\n",
       "무부하검사(급가속)          289263\n",
       "부하검사(LUG DOWN)       43669\n",
       "NaN                  22637\n",
       "부하검사(ASM-Idling)         3\n",
       "무부하검사(정지가동)              2\n",
       "무부하검사(TSI)               1\n",
       "Name: 검사방법, dtype: int64"
      ]
     },
     "execution_count": 112,
     "metadata": {},
     "output_type": "execute_result"
    }
   ],
   "source": [
    "total['검사방법'].value_counts(dropna=False)"
   ]
  },
  {
   "cell_type": "code",
   "execution_count": 113,
   "metadata": {},
   "outputs": [
    {
     "data": {
      "text/plain": [
       "Y      1087888\n",
       "N        34609\n",
       "NaN      31316\n",
       "Name: 무부하매연판정1, dtype: int64"
      ]
     },
     "execution_count": 113,
     "metadata": {},
     "output_type": "execute_result"
    }
   ],
   "source": [
    "total['무부하매연판정1'].value_counts(dropna=False)"
   ]
  },
  {
   "cell_type": "code",
   "execution_count": 114,
   "metadata": {},
   "outputs": [
    {
     "data": {
      "text/plain": [
       "0.00      276379\n",
       "1.00       84223\n",
       "2.00       70398\n",
       "3.00       63318\n",
       "4.00       62680\n",
       "           ...  \n",
       "0.01           1\n",
       "99.90          1\n",
       "2.50           1\n",
       "135.00         1\n",
       "103.00         1\n",
       "Name: 무부하매연측정치1, Length: 111, dtype: int64"
      ]
     },
     "execution_count": 114,
     "metadata": {},
     "output_type": "execute_result"
    }
   ],
   "source": [
    "total['무부하매연측정치1'].value_counts(dropna=False)"
   ]
  },
  {
   "cell_type": "code",
   "execution_count": 115,
   "metadata": {},
   "outputs": [
    {
     "data": {
      "text/plain": [
       "31312"
      ]
     },
     "execution_count": 115,
     "metadata": {},
     "output_type": "execute_result"
    }
   ],
   "source": [
    "total['무부하매연측정치1'].isnull().sum()"
   ]
  },
  {
   "cell_type": "code",
   "execution_count": 116,
   "metadata": {},
   "outputs": [],
   "source": [
    "total['검사방법'] = total['검사방법'].astype('str')\n",
    "total['무부하매연판정1'] = total['무부하매연판정1'].astype('str')\n",
    "total['배출가스인증번호'] = total['배출가스인증번호'].astype('str')"
   ]
  },
  {
   "cell_type": "code",
   "execution_count": 117,
   "metadata": {},
   "outputs": [
    {
     "data": {
      "text/plain": [
       "부하검사(KD-147)        798238\n",
       "무부하검사(급가속)          289263\n",
       "부하검사(LUG DOWN)       43669\n",
       "nan                  22637\n",
       "부하검사(ASM-Idling)         3\n",
       "무부하검사(정지가동)              2\n",
       "무부하검사(TSI)               1\n",
       "Name: 검사방법, dtype: int64"
      ]
     },
     "execution_count": 117,
     "metadata": {},
     "output_type": "execute_result"
    }
   ],
   "source": [
    "total['검사방법'].value_counts()"
   ]
  },
  {
   "cell_type": "code",
   "execution_count": 118,
   "metadata": {},
   "outputs": [
    {
     "data": {
      "text/plain": [
       "Y      1087888\n",
       "N        34609\n",
       "nan      31316\n",
       "Name: 무부하매연판정1, dtype: int64"
      ]
     },
     "execution_count": 118,
     "metadata": {},
     "output_type": "execute_result"
    }
   ],
   "source": [
    "total['무부하매연판정1'].value_counts()"
   ]
  },
  {
   "cell_type": "code",
   "execution_count": 119,
   "metadata": {},
   "outputs": [
    {
     "data": {
      "text/plain": [
       "0"
      ]
     },
     "execution_count": 119,
     "metadata": {},
     "output_type": "execute_result"
    }
   ],
   "source": [
    "total['배출가스인증번호'].isnull().sum()"
   ]
  },
  {
   "attachments": {},
   "cell_type": "markdown",
   "metadata": {},
   "source": [
    "## 전처리 : 3등급 중복 차대번호 제거"
   ]
  },
  {
   "cell_type": "code",
   "execution_count": 135,
   "metadata": {},
   "outputs": [
    {
     "data": {
      "text/plain": [
       "((8759431, 49), 8759393)"
      ]
     },
     "execution_count": 135,
     "metadata": {},
     "output_type": "execute_result"
    }
   ],
   "source": [
    "g3.shape, len(g3['차대번호'].unique())"
   ]
  },
  {
   "cell_type": "code",
   "execution_count": 136,
   "metadata": {},
   "outputs": [],
   "source": [
    "g3 = g3.sort_values(['최초등록일자', '배출가스검사유효일자'], ascending=[False, False]).drop_duplicates('차대번호').reset_index(drop=True)"
   ]
  },
  {
   "cell_type": "code",
   "execution_count": 139,
   "metadata": {},
   "outputs": [
    {
     "data": {
      "text/plain": [
       "(8759393, 49)"
      ]
     },
     "execution_count": 139,
     "metadata": {},
     "output_type": "execute_result"
    }
   ],
   "source": [
    "g3.shape"
   ]
  },
  {
   "attachments": {},
   "cell_type": "markdown",
   "metadata": {},
   "source": [
    "## 전처리 : 5등급 중복 차대번호 제거"
   ]
  },
  {
   "cell_type": "code",
   "execution_count": 137,
   "metadata": {},
   "outputs": [
    {
     "data": {
      "text/plain": [
       "((1154762, 49), 1154724)"
      ]
     },
     "execution_count": 137,
     "metadata": {},
     "output_type": "execute_result"
    }
   ],
   "source": [
    "g5.shape, len(g5['차대번호'].unique())"
   ]
  },
  {
   "cell_type": "code",
   "execution_count": 138,
   "metadata": {},
   "outputs": [],
   "source": [
    "g5 = g5.sort_values(['최초등록일자', '배출가스검사유효일자'], ascending=[False, False]).drop_duplicates('차대번호').reset_index(drop=True)"
   ]
  },
  {
   "cell_type": "code",
   "execution_count": 140,
   "metadata": {},
   "outputs": [
    {
     "data": {
      "text/plain": [
       "(1154724, 49)"
      ]
     },
     "execution_count": 140,
     "metadata": {},
     "output_type": "execute_result"
    }
   ],
   "source": [
    "g5.shape"
   ]
  },
  {
   "attachments": {},
   "cell_type": "markdown",
   "metadata": {},
   "source": [
    "## 전처리 : 4등급 차대번호 10자리 연식 추출"
   ]
  },
  {
   "cell_type": "code",
   "execution_count": 141,
   "metadata": {},
   "outputs": [
    {
     "data": {
      "text/html": [
       "<div>\n",
       "<style scoped>\n",
       "    .dataframe tbody tr th:only-of-type {\n",
       "        vertical-align: middle;\n",
       "    }\n",
       "\n",
       "    .dataframe tbody tr th {\n",
       "        vertical-align: top;\n",
       "    }\n",
       "\n",
       "    .dataframe thead th {\n",
       "        text-align: right;\n",
       "    }\n",
       "</style>\n",
       "<table border=\"1\" class=\"dataframe\">\n",
       "  <thead>\n",
       "    <tr style=\"text-align: right;\">\n",
       "      <th></th>\n",
       "      <th>차대번호</th>\n",
       "      <th>vin10</th>\n",
       "    </tr>\n",
       "  </thead>\n",
       "  <tbody>\n",
       "    <tr>\n",
       "      <th>0</th>\n",
       "      <td>KNAMM816BBS461795</td>\n",
       "      <td>B</td>\n",
       "    </tr>\n",
       "    <tr>\n",
       "      <th>1</th>\n",
       "      <td>KPACE4AB19P052332</td>\n",
       "      <td>9</td>\n",
       "    </tr>\n",
       "    <tr>\n",
       "      <th>2</th>\n",
       "      <td>KNAKU815BAA068990</td>\n",
       "      <td>A</td>\n",
       "    </tr>\n",
       "    <tr>\n",
       "      <th>3</th>\n",
       "      <td>KL3M8BNF37K000098</td>\n",
       "      <td>7</td>\n",
       "    </tr>\n",
       "    <tr>\n",
       "      <th>4</th>\n",
       "      <td>KNHMD376BAS393884</td>\n",
       "      <td>A</td>\n",
       "    </tr>\n",
       "  </tbody>\n",
       "</table>\n",
       "</div>"
      ],
      "text/plain": [
       "                차대번호 vin10\n",
       "0  KNAMM816BBS461795     B\n",
       "1  KPACE4AB19P052332     9\n",
       "2  KNAKU815BAA068990     A\n",
       "3  KL3M8BNF37K000098     7\n",
       "4  KNHMD376BAS393884     A"
      ]
     },
     "execution_count": 141,
     "metadata": {},
     "output_type": "execute_result"
    }
   ],
   "source": [
    "total['vin10']  = total['차대번호'].str[9]\n",
    "total[['차대번호', 'vin10']].head()"
   ]
  },
  {
   "cell_type": "code",
   "execution_count": 142,
   "metadata": {},
   "outputs": [
    {
     "data": {
      "text/plain": [
       "(0, dtype('O'))"
      ]
     },
     "execution_count": 142,
     "metadata": {},
     "output_type": "execute_result"
    }
   ],
   "source": [
    "total['vin10'].isnull().sum(), total['vin10'].dtype"
   ]
  },
  {
   "cell_type": "code",
   "execution_count": 143,
   "metadata": {},
   "outputs": [],
   "source": [
    "vin10_dict = {'M':1991, 'N':1992, 'P':1993, 'R':1994, 'S':1995, 'T':1996, 'V':1997, 'W':1998, 'X':1999, 'Y':2000, '1':2001, '2':2002, '3':2003, '4':2004, '5':2005, '6':2006, '7':2007, '8':2008, '9':2009, 'A':2010, 'B':2011, 'C':2012, 'D':2013, 'E':2014, 'F':2015, 'G':2016, 'H':2017, 'J':2018, 'K':2019, 'L':2020}"
   ]
  },
  {
   "cell_type": "code",
   "execution_count": 144,
   "metadata": {},
   "outputs": [
    {
     "data": {
      "text/html": [
       "<div>\n",
       "<style scoped>\n",
       "    .dataframe tbody tr th:only-of-type {\n",
       "        vertical-align: middle;\n",
       "    }\n",
       "\n",
       "    .dataframe tbody tr th {\n",
       "        vertical-align: top;\n",
       "    }\n",
       "\n",
       "    .dataframe thead th {\n",
       "        text-align: right;\n",
       "    }\n",
       "</style>\n",
       "<table border=\"1\" class=\"dataframe\">\n",
       "  <thead>\n",
       "    <tr style=\"text-align: right;\">\n",
       "      <th></th>\n",
       "      <th>차대번호</th>\n",
       "      <th>vin10</th>\n",
       "      <th>vin_year</th>\n",
       "    </tr>\n",
       "  </thead>\n",
       "  <tbody>\n",
       "    <tr>\n",
       "      <th>0</th>\n",
       "      <td>KNAMM816BBS461795</td>\n",
       "      <td>B</td>\n",
       "      <td>2011.0</td>\n",
       "    </tr>\n",
       "    <tr>\n",
       "      <th>1</th>\n",
       "      <td>KPACE4AB19P052332</td>\n",
       "      <td>9</td>\n",
       "      <td>2009.0</td>\n",
       "    </tr>\n",
       "    <tr>\n",
       "      <th>2</th>\n",
       "      <td>KNAKU815BAA068990</td>\n",
       "      <td>A</td>\n",
       "      <td>2010.0</td>\n",
       "    </tr>\n",
       "    <tr>\n",
       "      <th>3</th>\n",
       "      <td>KL3M8BNF37K000098</td>\n",
       "      <td>7</td>\n",
       "      <td>2007.0</td>\n",
       "    </tr>\n",
       "    <tr>\n",
       "      <th>4</th>\n",
       "      <td>KNHMD376BAS393884</td>\n",
       "      <td>A</td>\n",
       "      <td>2010.0</td>\n",
       "    </tr>\n",
       "  </tbody>\n",
       "</table>\n",
       "</div>"
      ],
      "text/plain": [
       "                차대번호 vin10  vin_year\n",
       "0  KNAMM816BBS461795     B    2011.0\n",
       "1  KPACE4AB19P052332     9    2009.0\n",
       "2  KNAKU815BAA068990     A    2010.0\n",
       "3  KL3M8BNF37K000098     7    2007.0\n",
       "4  KNHMD376BAS393884     A    2010.0"
      ]
     },
     "execution_count": 144,
     "metadata": {},
     "output_type": "execute_result"
    }
   ],
   "source": [
    "total['vin_year'] = total['vin10'].map(vin10_dict)\n",
    "total[['차대번호', 'vin10', 'vin_year']].head()"
   ]
  },
  {
   "attachments": {},
   "cell_type": "markdown",
   "metadata": {},
   "source": [
    "# Analysis\n",
    "- '배출가스인증번호'별 '무부하매연판정1'별 '차대번호' 개수\n",
    "- '배출가스인증번호'별 '검사방법', '무부하매연판정1'별 '차대번호' 개수\n",
    "- '배출가스인증번호'별 '검사방법', '무부하매연판정1'별 '무부하매연측정치1'의 통계"
   ]
  },
  {
   "attachments": {},
   "cell_type": "markdown",
   "metadata": {},
   "source": [
    "## 차대번호 이상 확인\n",
    "- 17자리 아님 : 10개\n",
    "- 중복 없음"
   ]
  },
  {
   "cell_type": "code",
   "execution_count": 167,
   "metadata": {},
   "outputs": [
    {
     "data": {
      "text/plain": [
       "10"
      ]
     },
     "execution_count": 167,
     "metadata": {},
     "output_type": "execute_result"
    }
   ],
   "source": [
    "vin_idx = []\n",
    "for i, one in enumerate(total['차대번호']):\n",
    "    if len(one) != 17:\n",
    "        vin_idx.append(i)\n",
    "len(vin_idx)"
   ]
  },
  {
   "cell_type": "code",
   "execution_count": 168,
   "metadata": {},
   "outputs": [
    {
     "data": {
      "text/plain": [
       "232819     KNAJC52438A78075\n",
       "281813     KNCSJX4AAK452185\n",
       "299478     KMFZC7JP9U519465\n",
       "400425     KMFZC7JP9U481571\n",
       "467880     KMFWBX7ABU267970\n",
       "828838     KMFZCS7JP8U43881\n",
       "926825     KLTBT9CM29K00095\n",
       "928545     WAUZZZ4L87D67998\n",
       "953328     KMFZCZ7JAB640917\n",
       "1030687    KNME5C2MM8P00423\n",
       "Name: 차대번호, dtype: object"
      ]
     },
     "execution_count": 168,
     "metadata": {},
     "output_type": "execute_result"
    }
   ],
   "source": [
    "total.loc[vin_idx, '차대번호']"
   ]
  },
  {
   "cell_type": "code",
   "execution_count": 169,
   "metadata": {},
   "outputs": [
    {
     "data": {
      "text/plain": [
       "((1153813, 63), 1153813)"
      ]
     },
     "execution_count": 169,
     "metadata": {},
     "output_type": "execute_result"
    }
   ],
   "source": [
    "total.shape, len(total['차대번호'].unique())"
   ]
  },
  {
   "attachments": {},
   "cell_type": "markdown",
   "metadata": {},
   "source": [
    "## 차량연식과 vin10자리 연식 비교\n",
    "- 63개 다름"
   ]
  },
  {
   "cell_type": "code",
   "execution_count": 170,
   "metadata": {},
   "outputs": [
    {
     "data": {
      "text/plain": [
       "Index(['차대번호', '차량번호_x', '제원관리번호', '차종_원본', '용도', '최초등록일', '연식', '제작일자',\n",
       "       '검사유효일', '배출가스인증번호', '등급', '차명_x', '차종분류', '차종유형', '자동차형식', '제작사명',\n",
       "       '연료', '엔진형식_x', '총중량', '적재중량', '엔진출력', '배기량', '법정동코드', '시도명', '시군구명',\n",
       "       '소유자구분', '말소여부', '일치유무', '사용연료', '주행거리', '차명_y', '차량번호_y', '차종', '차량연식',\n",
       "       '엔진형식_y', '검사방법', '검사일자', '검사종류', '검사판정시각', '검사판정', '산소값', '이산화탄소값',\n",
       "       '무부하매연판정1', '무부하매연판정2', '무부하매연판정3', '무부하매연판정4', '무부하매연판정5', '무부하매연판정6',\n",
       "       '무부하매연허용치1', '무부하매연허용치2', '무부하매연허용치3', '무부하매연허용치4', '무부하매연허용치5',\n",
       "       '무부하매연허용치6', '무부하매연측정치1', '무부하매연측정치2', '무부하매연측정치3', '무부하매연측정치4',\n",
       "       '무부하매연측정치5', '무부하매연측정치6', '정기정밀', 'vin10', 'vin_year'],\n",
       "      dtype='object')"
      ]
     },
     "execution_count": 170,
     "metadata": {},
     "output_type": "execute_result"
    }
   ],
   "source": [
    "total.columns"
   ]
  },
  {
   "cell_type": "code",
   "execution_count": 173,
   "metadata": {},
   "outputs": [
    {
     "data": {
      "text/plain": [
       "(63, 63)"
      ]
     },
     "execution_count": 173,
     "metadata": {},
     "output_type": "execute_result"
    }
   ],
   "source": [
    "total[total['연식'] != total['vin_year']].shape"
   ]
  },
  {
   "cell_type": "code",
   "execution_count": 175,
   "metadata": {},
   "outputs": [
    {
     "data": {
      "text/html": [
       "<div>\n",
       "<style scoped>\n",
       "    .dataframe tbody tr th:only-of-type {\n",
       "        vertical-align: middle;\n",
       "    }\n",
       "\n",
       "    .dataframe tbody tr th {\n",
       "        vertical-align: top;\n",
       "    }\n",
       "\n",
       "    .dataframe thead th {\n",
       "        text-align: right;\n",
       "    }\n",
       "</style>\n",
       "<table border=\"1\" class=\"dataframe\">\n",
       "  <thead>\n",
       "    <tr style=\"text-align: right;\">\n",
       "      <th></th>\n",
       "      <th>연식</th>\n",
       "      <th>vin10</th>\n",
       "      <th>vin_year</th>\n",
       "    </tr>\n",
       "  </thead>\n",
       "  <tbody>\n",
       "    <tr>\n",
       "      <th>3</th>\n",
       "      <td>2008</td>\n",
       "      <td>7</td>\n",
       "      <td>2007.0</td>\n",
       "    </tr>\n",
       "    <tr>\n",
       "      <th>4943</th>\n",
       "      <td>2010</td>\n",
       "      <td>9</td>\n",
       "      <td>2009.0</td>\n",
       "    </tr>\n",
       "    <tr>\n",
       "      <th>7088</th>\n",
       "      <td>2007</td>\n",
       "      <td>8</td>\n",
       "      <td>2008.0</td>\n",
       "    </tr>\n",
       "    <tr>\n",
       "      <th>24336</th>\n",
       "      <td>2007</td>\n",
       "      <td>8</td>\n",
       "      <td>2008.0</td>\n",
       "    </tr>\n",
       "    <tr>\n",
       "      <th>37918</th>\n",
       "      <td>2010</td>\n",
       "      <td>B</td>\n",
       "      <td>2011.0</td>\n",
       "    </tr>\n",
       "    <tr>\n",
       "      <th>...</th>\n",
       "      <td>...</td>\n",
       "      <td>...</td>\n",
       "      <td>...</td>\n",
       "    </tr>\n",
       "    <tr>\n",
       "      <th>1094374</th>\n",
       "      <td>2009</td>\n",
       "      <td>8</td>\n",
       "      <td>2008.0</td>\n",
       "    </tr>\n",
       "    <tr>\n",
       "      <th>1095546</th>\n",
       "      <td>2010</td>\n",
       "      <td>B</td>\n",
       "      <td>2011.0</td>\n",
       "    </tr>\n",
       "    <tr>\n",
       "      <th>1103828</th>\n",
       "      <td>2010</td>\n",
       "      <td>9</td>\n",
       "      <td>2009.0</td>\n",
       "    </tr>\n",
       "    <tr>\n",
       "      <th>1120030</th>\n",
       "      <td>2011</td>\n",
       "      <td>A</td>\n",
       "      <td>2010.0</td>\n",
       "    </tr>\n",
       "    <tr>\n",
       "      <th>1150351</th>\n",
       "      <td>2009</td>\n",
       "      <td>A</td>\n",
       "      <td>2010.0</td>\n",
       "    </tr>\n",
       "  </tbody>\n",
       "</table>\n",
       "<p>63 rows × 3 columns</p>\n",
       "</div>"
      ],
      "text/plain": [
       "           연식 vin10  vin_year\n",
       "3        2008     7    2007.0\n",
       "4943     2010     9    2009.0\n",
       "7088     2007     8    2008.0\n",
       "24336    2007     8    2008.0\n",
       "37918    2010     B    2011.0\n",
       "...       ...   ...       ...\n",
       "1094374  2009     8    2008.0\n",
       "1095546  2010     B    2011.0\n",
       "1103828  2010     9    2009.0\n",
       "1120030  2011     A    2010.0\n",
       "1150351  2009     A    2010.0\n",
       "\n",
       "[63 rows x 3 columns]"
      ]
     },
     "execution_count": 175,
     "metadata": {},
     "output_type": "execute_result"
    }
   ],
   "source": [
    "total.loc[total['연식'] != total['vin_year'], ['연식', 'vin10', 'vin_year']]"
   ]
  },
  {
   "attachments": {},
   "cell_type": "markdown",
   "metadata": {},
   "source": [
    "## 배인번호별_검사방법별_매연측정치_통계"
   ]
  },
  {
   "cell_type": "code",
   "execution_count": 120,
   "metadata": {},
   "outputs": [
    {
     "data": {
      "text/html": [
       "<div>\n",
       "<style scoped>\n",
       "    .dataframe tbody tr th:only-of-type {\n",
       "        vertical-align: middle;\n",
       "    }\n",
       "\n",
       "    .dataframe tbody tr th {\n",
       "        vertical-align: top;\n",
       "    }\n",
       "\n",
       "    .dataframe thead th {\n",
       "        text-align: right;\n",
       "    }\n",
       "</style>\n",
       "<table border=\"1\" class=\"dataframe\">\n",
       "  <thead>\n",
       "    <tr style=\"text-align: right;\">\n",
       "      <th></th>\n",
       "      <th>count</th>\n",
       "    </tr>\n",
       "    <tr>\n",
       "      <th>무부하매연판정1</th>\n",
       "      <th></th>\n",
       "    </tr>\n",
       "  </thead>\n",
       "  <tbody>\n",
       "    <tr>\n",
       "      <th>N</th>\n",
       "      <td>34609</td>\n",
       "    </tr>\n",
       "    <tr>\n",
       "      <th>Y</th>\n",
       "      <td>1087888</td>\n",
       "    </tr>\n",
       "    <tr>\n",
       "      <th>nan</th>\n",
       "      <td>31316</td>\n",
       "    </tr>\n",
       "  </tbody>\n",
       "</table>\n",
       "</div>"
      ],
      "text/plain": [
       "            count\n",
       "무부하매연판정1         \n",
       "N           34609\n",
       "Y         1087888\n",
       "nan         31316"
      ]
     },
     "execution_count": 120,
     "metadata": {},
     "output_type": "execute_result"
    }
   ],
   "source": [
    "total.groupby(['무부하매연판정1'], dropna=False)['차대번호'].agg(['count'])"
   ]
  },
  {
   "cell_type": "code",
   "execution_count": 121,
   "metadata": {},
   "outputs": [
    {
     "data": {
      "text/html": [
       "<div>\n",
       "<style scoped>\n",
       "    .dataframe tbody tr th:only-of-type {\n",
       "        vertical-align: middle;\n",
       "    }\n",
       "\n",
       "    .dataframe tbody tr th {\n",
       "        vertical-align: top;\n",
       "    }\n",
       "\n",
       "    .dataframe thead tr th {\n",
       "        text-align: left;\n",
       "    }\n",
       "\n",
       "    .dataframe thead tr:last-of-type th {\n",
       "        text-align: right;\n",
       "    }\n",
       "</style>\n",
       "<table border=\"1\" class=\"dataframe\">\n",
       "  <thead>\n",
       "    <tr>\n",
       "      <th></th>\n",
       "      <th colspan=\"7\" halign=\"left\">count</th>\n",
       "    </tr>\n",
       "    <tr>\n",
       "      <th>검사방법</th>\n",
       "      <th>nan</th>\n",
       "      <th>무부하검사(TSI)</th>\n",
       "      <th>무부하검사(급가속)</th>\n",
       "      <th>무부하검사(정지가동)</th>\n",
       "      <th>부하검사(ASM-Idling)</th>\n",
       "      <th>부하검사(KD-147)</th>\n",
       "      <th>부하검사(LUG DOWN)</th>\n",
       "    </tr>\n",
       "    <tr>\n",
       "      <th>무부하매연판정1</th>\n",
       "      <th></th>\n",
       "      <th></th>\n",
       "      <th></th>\n",
       "      <th></th>\n",
       "      <th></th>\n",
       "      <th></th>\n",
       "      <th></th>\n",
       "    </tr>\n",
       "  </thead>\n",
       "  <tbody>\n",
       "    <tr>\n",
       "      <th>N</th>\n",
       "      <td>NaN</td>\n",
       "      <td>NaN</td>\n",
       "      <td>5724.0</td>\n",
       "      <td>NaN</td>\n",
       "      <td>NaN</td>\n",
       "      <td>27614.0</td>\n",
       "      <td>1271.0</td>\n",
       "    </tr>\n",
       "    <tr>\n",
       "      <th>Y</th>\n",
       "      <td>NaN</td>\n",
       "      <td>1.0</td>\n",
       "      <td>283244.0</td>\n",
       "      <td>2.0</td>\n",
       "      <td>3.0</td>\n",
       "      <td>762382.0</td>\n",
       "      <td>42256.0</td>\n",
       "    </tr>\n",
       "    <tr>\n",
       "      <th>nan</th>\n",
       "      <td>22637.0</td>\n",
       "      <td>NaN</td>\n",
       "      <td>295.0</td>\n",
       "      <td>NaN</td>\n",
       "      <td>NaN</td>\n",
       "      <td>8242.0</td>\n",
       "      <td>142.0</td>\n",
       "    </tr>\n",
       "  </tbody>\n",
       "</table>\n",
       "</div>"
      ],
      "text/plain": [
       "            count                                                     \\\n",
       "검사방법          nan 무부하검사(TSI) 무부하검사(급가속) 무부하검사(정지가동) 부하검사(ASM-Idling)   \n",
       "무부하매연판정1                                                               \n",
       "N             NaN        NaN     5724.0         NaN              NaN   \n",
       "Y             NaN        1.0   283244.0         2.0              3.0   \n",
       "nan       22637.0        NaN      295.0         NaN              NaN   \n",
       "\n",
       "                                      \n",
       "검사방법     부하검사(KD-147) 부하검사(LUG DOWN)  \n",
       "무부하매연판정1                              \n",
       "N             27614.0         1271.0  \n",
       "Y            762382.0        42256.0  \n",
       "nan            8242.0          142.0  "
      ]
     },
     "execution_count": 121,
     "metadata": {},
     "output_type": "execute_result"
    }
   ],
   "source": [
    "gas_total_group = total.groupby(['무부하매연판정1', '검사방법'], dropna=False)['차대번호'].agg(['count']).unstack()\n",
    "gas_total_group"
   ]
  },
  {
   "cell_type": "code",
   "execution_count": 122,
   "metadata": {},
   "outputs": [
    {
     "data": {
      "text/html": [
       "<div>\n",
       "<style scoped>\n",
       "    .dataframe tbody tr th:only-of-type {\n",
       "        vertical-align: middle;\n",
       "    }\n",
       "\n",
       "    .dataframe tbody tr th {\n",
       "        vertical-align: top;\n",
       "    }\n",
       "\n",
       "    .dataframe thead tr th {\n",
       "        text-align: left;\n",
       "    }\n",
       "\n",
       "    .dataframe thead tr:last-of-type th {\n",
       "        text-align: right;\n",
       "    }\n",
       "</style>\n",
       "<table border=\"1\" class=\"dataframe\">\n",
       "  <thead>\n",
       "    <tr>\n",
       "      <th></th>\n",
       "      <th>검사방법</th>\n",
       "      <th colspan=\"4\" halign=\"left\">nan</th>\n",
       "      <th colspan=\"4\" halign=\"left\">무부하검사(TSI)</th>\n",
       "      <th colspan=\"2\" halign=\"left\">무부하검사(급가속)</th>\n",
       "      <th>...</th>\n",
       "      <th colspan=\"2\" halign=\"left\">부하검사(ASM-Idling)</th>\n",
       "      <th colspan=\"4\" halign=\"left\">부하검사(KD-147)</th>\n",
       "      <th colspan=\"4\" halign=\"left\">부하검사(LUG DOWN)</th>\n",
       "    </tr>\n",
       "    <tr>\n",
       "      <th></th>\n",
       "      <th></th>\n",
       "      <th>count</th>\n",
       "      <th>mean</th>\n",
       "      <th>min</th>\n",
       "      <th>max</th>\n",
       "      <th>count</th>\n",
       "      <th>mean</th>\n",
       "      <th>min</th>\n",
       "      <th>max</th>\n",
       "      <th>count</th>\n",
       "      <th>mean</th>\n",
       "      <th>...</th>\n",
       "      <th>min</th>\n",
       "      <th>max</th>\n",
       "      <th>count</th>\n",
       "      <th>mean</th>\n",
       "      <th>min</th>\n",
       "      <th>max</th>\n",
       "      <th>count</th>\n",
       "      <th>mean</th>\n",
       "      <th>min</th>\n",
       "      <th>max</th>\n",
       "    </tr>\n",
       "    <tr>\n",
       "      <th>배출가스인증번호</th>\n",
       "      <th>무부하매연판정1</th>\n",
       "      <th></th>\n",
       "      <th></th>\n",
       "      <th></th>\n",
       "      <th></th>\n",
       "      <th></th>\n",
       "      <th></th>\n",
       "      <th></th>\n",
       "      <th></th>\n",
       "      <th></th>\n",
       "      <th></th>\n",
       "      <th></th>\n",
       "      <th></th>\n",
       "      <th></th>\n",
       "      <th></th>\n",
       "      <th></th>\n",
       "      <th></th>\n",
       "      <th></th>\n",
       "      <th></th>\n",
       "      <th></th>\n",
       "      <th></th>\n",
       "      <th></th>\n",
       "    </tr>\n",
       "  </thead>\n",
       "  <tbody>\n",
       "    <tr>\n",
       "      <th rowspan=\"3\" valign=\"top\">4MY-AD-20</th>\n",
       "      <th>N</th>\n",
       "      <td>NaN</td>\n",
       "      <td>NaN</td>\n",
       "      <td>NaN</td>\n",
       "      <td>NaN</td>\n",
       "      <td>NaN</td>\n",
       "      <td>NaN</td>\n",
       "      <td>NaN</td>\n",
       "      <td>NaN</td>\n",
       "      <td>1.0</td>\n",
       "      <td>51.000000</td>\n",
       "      <td>...</td>\n",
       "      <td>NaN</td>\n",
       "      <td>NaN</td>\n",
       "      <td>NaN</td>\n",
       "      <td>NaN</td>\n",
       "      <td>NaN</td>\n",
       "      <td>NaN</td>\n",
       "      <td>NaN</td>\n",
       "      <td>NaN</td>\n",
       "      <td>NaN</td>\n",
       "      <td>NaN</td>\n",
       "    </tr>\n",
       "    <tr>\n",
       "      <th>Y</th>\n",
       "      <td>NaN</td>\n",
       "      <td>NaN</td>\n",
       "      <td>NaN</td>\n",
       "      <td>NaN</td>\n",
       "      <td>NaN</td>\n",
       "      <td>NaN</td>\n",
       "      <td>NaN</td>\n",
       "      <td>NaN</td>\n",
       "      <td>26.0</td>\n",
       "      <td>13.269231</td>\n",
       "      <td>...</td>\n",
       "      <td>NaN</td>\n",
       "      <td>NaN</td>\n",
       "      <td>NaN</td>\n",
       "      <td>NaN</td>\n",
       "      <td>NaN</td>\n",
       "      <td>NaN</td>\n",
       "      <td>NaN</td>\n",
       "      <td>NaN</td>\n",
       "      <td>NaN</td>\n",
       "      <td>NaN</td>\n",
       "    </tr>\n",
       "    <tr>\n",
       "      <th>nan</th>\n",
       "      <td>0.0</td>\n",
       "      <td>NaN</td>\n",
       "      <td>NaN</td>\n",
       "      <td>NaN</td>\n",
       "      <td>NaN</td>\n",
       "      <td>NaN</td>\n",
       "      <td>NaN</td>\n",
       "      <td>NaN</td>\n",
       "      <td>NaN</td>\n",
       "      <td>NaN</td>\n",
       "      <td>...</td>\n",
       "      <td>NaN</td>\n",
       "      <td>NaN</td>\n",
       "      <td>NaN</td>\n",
       "      <td>NaN</td>\n",
       "      <td>NaN</td>\n",
       "      <td>NaN</td>\n",
       "      <td>NaN</td>\n",
       "      <td>NaN</td>\n",
       "      <td>NaN</td>\n",
       "      <td>NaN</td>\n",
       "    </tr>\n",
       "    <tr>\n",
       "      <th rowspan=\"2\" valign=\"top\">4MY-DC-33</th>\n",
       "      <th>Y</th>\n",
       "      <td>NaN</td>\n",
       "      <td>NaN</td>\n",
       "      <td>NaN</td>\n",
       "      <td>NaN</td>\n",
       "      <td>NaN</td>\n",
       "      <td>NaN</td>\n",
       "      <td>NaN</td>\n",
       "      <td>NaN</td>\n",
       "      <td>2.0</td>\n",
       "      <td>0.000000</td>\n",
       "      <td>...</td>\n",
       "      <td>NaN</td>\n",
       "      <td>NaN</td>\n",
       "      <td>NaN</td>\n",
       "      <td>NaN</td>\n",
       "      <td>NaN</td>\n",
       "      <td>NaN</td>\n",
       "      <td>4.0</td>\n",
       "      <td>9.000000</td>\n",
       "      <td>0.0</td>\n",
       "      <td>20.0</td>\n",
       "    </tr>\n",
       "    <tr>\n",
       "      <th>nan</th>\n",
       "      <td>0.0</td>\n",
       "      <td>NaN</td>\n",
       "      <td>NaN</td>\n",
       "      <td>NaN</td>\n",
       "      <td>NaN</td>\n",
       "      <td>NaN</td>\n",
       "      <td>NaN</td>\n",
       "      <td>NaN</td>\n",
       "      <td>NaN</td>\n",
       "      <td>NaN</td>\n",
       "      <td>...</td>\n",
       "      <td>NaN</td>\n",
       "      <td>NaN</td>\n",
       "      <td>NaN</td>\n",
       "      <td>NaN</td>\n",
       "      <td>NaN</td>\n",
       "      <td>NaN</td>\n",
       "      <td>NaN</td>\n",
       "      <td>NaN</td>\n",
       "      <td>NaN</td>\n",
       "      <td>NaN</td>\n",
       "    </tr>\n",
       "    <tr>\n",
       "      <th>...</th>\n",
       "      <th>...</th>\n",
       "      <td>...</td>\n",
       "      <td>...</td>\n",
       "      <td>...</td>\n",
       "      <td>...</td>\n",
       "      <td>...</td>\n",
       "      <td>...</td>\n",
       "      <td>...</td>\n",
       "      <td>...</td>\n",
       "      <td>...</td>\n",
       "      <td>...</td>\n",
       "      <td>...</td>\n",
       "      <td>...</td>\n",
       "      <td>...</td>\n",
       "      <td>...</td>\n",
       "      <td>...</td>\n",
       "      <td>...</td>\n",
       "      <td>...</td>\n",
       "      <td>...</td>\n",
       "      <td>...</td>\n",
       "      <td>...</td>\n",
       "      <td>...</td>\n",
       "    </tr>\n",
       "    <tr>\n",
       "      <th>FMY-VTK-14-3</th>\n",
       "      <th>nan</th>\n",
       "      <td>0.0</td>\n",
       "      <td>NaN</td>\n",
       "      <td>NaN</td>\n",
       "      <td>NaN</td>\n",
       "      <td>NaN</td>\n",
       "      <td>NaN</td>\n",
       "      <td>NaN</td>\n",
       "      <td>NaN</td>\n",
       "      <td>NaN</td>\n",
       "      <td>NaN</td>\n",
       "      <td>...</td>\n",
       "      <td>NaN</td>\n",
       "      <td>NaN</td>\n",
       "      <td>NaN</td>\n",
       "      <td>NaN</td>\n",
       "      <td>NaN</td>\n",
       "      <td>NaN</td>\n",
       "      <td>NaN</td>\n",
       "      <td>NaN</td>\n",
       "      <td>NaN</td>\n",
       "      <td>NaN</td>\n",
       "    </tr>\n",
       "    <tr>\n",
       "      <th>FMY-VTK-14-4</th>\n",
       "      <th>Y</th>\n",
       "      <td>NaN</td>\n",
       "      <td>NaN</td>\n",
       "      <td>NaN</td>\n",
       "      <td>NaN</td>\n",
       "      <td>NaN</td>\n",
       "      <td>NaN</td>\n",
       "      <td>NaN</td>\n",
       "      <td>NaN</td>\n",
       "      <td>25.0</td>\n",
       "      <td>1.360000</td>\n",
       "      <td>...</td>\n",
       "      <td>NaN</td>\n",
       "      <td>NaN</td>\n",
       "      <td>NaN</td>\n",
       "      <td>NaN</td>\n",
       "      <td>NaN</td>\n",
       "      <td>NaN</td>\n",
       "      <td>24.0</td>\n",
       "      <td>0.458333</td>\n",
       "      <td>0.0</td>\n",
       "      <td>4.0</td>\n",
       "    </tr>\n",
       "    <tr>\n",
       "      <th rowspan=\"3\" valign=\"top\">nan</th>\n",
       "      <th>N</th>\n",
       "      <td>NaN</td>\n",
       "      <td>NaN</td>\n",
       "      <td>NaN</td>\n",
       "      <td>NaN</td>\n",
       "      <td>NaN</td>\n",
       "      <td>NaN</td>\n",
       "      <td>NaN</td>\n",
       "      <td>NaN</td>\n",
       "      <td>6.0</td>\n",
       "      <td>43.833333</td>\n",
       "      <td>...</td>\n",
       "      <td>NaN</td>\n",
       "      <td>NaN</td>\n",
       "      <td>96.0</td>\n",
       "      <td>36.395833</td>\n",
       "      <td>10.0</td>\n",
       "      <td>94.0</td>\n",
       "      <td>3.0</td>\n",
       "      <td>17.666667</td>\n",
       "      <td>17.0</td>\n",
       "      <td>19.0</td>\n",
       "    </tr>\n",
       "    <tr>\n",
       "      <th>Y</th>\n",
       "      <td>NaN</td>\n",
       "      <td>NaN</td>\n",
       "      <td>NaN</td>\n",
       "      <td>NaN</td>\n",
       "      <td>1.0</td>\n",
       "      <td>0.0</td>\n",
       "      <td>0.0</td>\n",
       "      <td>0.0</td>\n",
       "      <td>1939.0</td>\n",
       "      <td>2.832388</td>\n",
       "      <td>...</td>\n",
       "      <td>0.03</td>\n",
       "      <td>0.03</td>\n",
       "      <td>4391.0</td>\n",
       "      <td>3.682305</td>\n",
       "      <td>0.0</td>\n",
       "      <td>25.0</td>\n",
       "      <td>305.0</td>\n",
       "      <td>3.442623</td>\n",
       "      <td>0.0</td>\n",
       "      <td>26.0</td>\n",
       "    </tr>\n",
       "    <tr>\n",
       "      <th>nan</th>\n",
       "      <td>0.0</td>\n",
       "      <td>NaN</td>\n",
       "      <td>NaN</td>\n",
       "      <td>NaN</td>\n",
       "      <td>NaN</td>\n",
       "      <td>NaN</td>\n",
       "      <td>NaN</td>\n",
       "      <td>NaN</td>\n",
       "      <td>0.0</td>\n",
       "      <td>NaN</td>\n",
       "      <td>...</td>\n",
       "      <td>NaN</td>\n",
       "      <td>NaN</td>\n",
       "      <td>0.0</td>\n",
       "      <td>NaN</td>\n",
       "      <td>NaN</td>\n",
       "      <td>NaN</td>\n",
       "      <td>NaN</td>\n",
       "      <td>NaN</td>\n",
       "      <td>NaN</td>\n",
       "      <td>NaN</td>\n",
       "    </tr>\n",
       "  </tbody>\n",
       "</table>\n",
       "<p>452 rows × 28 columns</p>\n",
       "</div>"
      ],
      "text/plain": [
       "검사방법                    nan              무부하검사(TSI)                무부하검사(급가속)  \\\n",
       "                      count mean min max      count mean  min  max      count   \n",
       "배출가스인증번호     무부하매연판정1                                                           \n",
       "4MY-AD-20    N          NaN  NaN NaN NaN        NaN  NaN  NaN  NaN        1.0   \n",
       "             Y          NaN  NaN NaN NaN        NaN  NaN  NaN  NaN       26.0   \n",
       "             nan        0.0  NaN NaN NaN        NaN  NaN  NaN  NaN        NaN   \n",
       "4MY-DC-33    Y          NaN  NaN NaN NaN        NaN  NaN  NaN  NaN        2.0   \n",
       "             nan        0.0  NaN NaN NaN        NaN  NaN  NaN  NaN        NaN   \n",
       "...                     ...  ...  ..  ..        ...  ...  ...  ...        ...   \n",
       "FMY-VTK-14-3 nan        0.0  NaN NaN NaN        NaN  NaN  NaN  NaN        NaN   \n",
       "FMY-VTK-14-4 Y          NaN  NaN NaN NaN        NaN  NaN  NaN  NaN       25.0   \n",
       "nan          N          NaN  NaN NaN NaN        NaN  NaN  NaN  NaN        6.0   \n",
       "             Y          NaN  NaN NaN NaN        1.0  0.0  0.0  0.0     1939.0   \n",
       "             nan        0.0  NaN NaN NaN        NaN  NaN  NaN  NaN        0.0   \n",
       "\n",
       "검사방법                              ... 부하검사(ASM-Idling)       부하검사(KD-147)  \\\n",
       "                            mean  ...              min   max        count   \n",
       "배출가스인증번호     무부하매연판정1             ...                                       \n",
       "4MY-AD-20    N         51.000000  ...              NaN   NaN          NaN   \n",
       "             Y         13.269231  ...              NaN   NaN          NaN   \n",
       "             nan             NaN  ...              NaN   NaN          NaN   \n",
       "4MY-DC-33    Y          0.000000  ...              NaN   NaN          NaN   \n",
       "             nan             NaN  ...              NaN   NaN          NaN   \n",
       "...                          ...  ...              ...   ...          ...   \n",
       "FMY-VTK-14-3 nan             NaN  ...              NaN   NaN          NaN   \n",
       "FMY-VTK-14-4 Y          1.360000  ...              NaN   NaN          NaN   \n",
       "nan          N         43.833333  ...              NaN   NaN         96.0   \n",
       "             Y          2.832388  ...             0.03  0.03       4391.0   \n",
       "             nan             NaN  ...              NaN   NaN          0.0   \n",
       "\n",
       "검사방법                                         부하검사(LUG DOWN)                   \\\n",
       "                            mean   min   max          count       mean   min   \n",
       "배출가스인증번호     무부하매연판정1                                                          \n",
       "4MY-AD-20    N               NaN   NaN   NaN            NaN        NaN   NaN   \n",
       "             Y               NaN   NaN   NaN            NaN        NaN   NaN   \n",
       "             nan             NaN   NaN   NaN            NaN        NaN   NaN   \n",
       "4MY-DC-33    Y               NaN   NaN   NaN            4.0   9.000000   0.0   \n",
       "             nan             NaN   NaN   NaN            NaN        NaN   NaN   \n",
       "...                          ...   ...   ...            ...        ...   ...   \n",
       "FMY-VTK-14-3 nan             NaN   NaN   NaN            NaN        NaN   NaN   \n",
       "FMY-VTK-14-4 Y               NaN   NaN   NaN           24.0   0.458333   0.0   \n",
       "nan          N         36.395833  10.0  94.0            3.0  17.666667  17.0   \n",
       "             Y          3.682305   0.0  25.0          305.0   3.442623   0.0   \n",
       "             nan             NaN   NaN   NaN            NaN        NaN   NaN   \n",
       "\n",
       "검사방법                         \n",
       "                        max  \n",
       "배출가스인증번호     무부하매연판정1        \n",
       "4MY-AD-20    N          NaN  \n",
       "             Y          NaN  \n",
       "             nan        NaN  \n",
       "4MY-DC-33    Y         20.0  \n",
       "             nan        NaN  \n",
       "...                     ...  \n",
       "FMY-VTK-14-3 nan        NaN  \n",
       "FMY-VTK-14-4 Y          4.0  \n",
       "nan          N         19.0  \n",
       "             Y         26.0  \n",
       "             nan        NaN  \n",
       "\n",
       "[452 rows x 28 columns]"
      ]
     },
     "execution_count": 122,
     "metadata": {},
     "output_type": "execute_result"
    }
   ],
   "source": [
    "gas_grp = total.groupby(['배출가스인증번호', '무부하매연판정1', '검사방법'], dropna=False)['무부하매연측정치1'].agg(['count', 'mean', 'min', 'max']).stack().unstack('검사방법').unstack()\n",
    "gas_grp"
   ]
  },
  {
   "cell_type": "code",
   "execution_count": 123,
   "metadata": {},
   "outputs": [
    {
     "data": {
      "text/html": [
       "<div>\n",
       "<style scoped>\n",
       "    .dataframe tbody tr th:only-of-type {\n",
       "        vertical-align: middle;\n",
       "    }\n",
       "\n",
       "    .dataframe tbody tr th {\n",
       "        vertical-align: top;\n",
       "    }\n",
       "\n",
       "    .dataframe thead tr th {\n",
       "        text-align: left;\n",
       "    }\n",
       "\n",
       "    .dataframe thead tr:last-of-type th {\n",
       "        text-align: right;\n",
       "    }\n",
       "</style>\n",
       "<table border=\"1\" class=\"dataframe\">\n",
       "  <thead>\n",
       "    <tr>\n",
       "      <th></th>\n",
       "      <th></th>\n",
       "      <th colspan=\"7\" halign=\"left\">count</th>\n",
       "    </tr>\n",
       "    <tr>\n",
       "      <th></th>\n",
       "      <th>검사방법</th>\n",
       "      <th>nan</th>\n",
       "      <th>무부하검사(TSI)</th>\n",
       "      <th>무부하검사(급가속)</th>\n",
       "      <th>무부하검사(정지가동)</th>\n",
       "      <th>부하검사(ASM-Idling)</th>\n",
       "      <th>부하검사(KD-147)</th>\n",
       "      <th>부하검사(LUG DOWN)</th>\n",
       "    </tr>\n",
       "    <tr>\n",
       "      <th>배출가스인증번호</th>\n",
       "      <th>무부하매연판정1</th>\n",
       "      <th></th>\n",
       "      <th></th>\n",
       "      <th></th>\n",
       "      <th></th>\n",
       "      <th></th>\n",
       "      <th></th>\n",
       "      <th></th>\n",
       "    </tr>\n",
       "  </thead>\n",
       "  <tbody>\n",
       "    <tr>\n",
       "      <th rowspan=\"3\" valign=\"top\">4MY-AD-20</th>\n",
       "      <th>N</th>\n",
       "      <td>NaN</td>\n",
       "      <td>NaN</td>\n",
       "      <td>1.0</td>\n",
       "      <td>NaN</td>\n",
       "      <td>NaN</td>\n",
       "      <td>NaN</td>\n",
       "      <td>NaN</td>\n",
       "    </tr>\n",
       "    <tr>\n",
       "      <th>Y</th>\n",
       "      <td>NaN</td>\n",
       "      <td>NaN</td>\n",
       "      <td>26.0</td>\n",
       "      <td>NaN</td>\n",
       "      <td>NaN</td>\n",
       "      <td>NaN</td>\n",
       "      <td>NaN</td>\n",
       "    </tr>\n",
       "    <tr>\n",
       "      <th>nan</th>\n",
       "      <td>2.0</td>\n",
       "      <td>NaN</td>\n",
       "      <td>NaN</td>\n",
       "      <td>NaN</td>\n",
       "      <td>NaN</td>\n",
       "      <td>NaN</td>\n",
       "      <td>NaN</td>\n",
       "    </tr>\n",
       "    <tr>\n",
       "      <th rowspan=\"2\" valign=\"top\">4MY-DC-33</th>\n",
       "      <th>Y</th>\n",
       "      <td>NaN</td>\n",
       "      <td>NaN</td>\n",
       "      <td>2.0</td>\n",
       "      <td>NaN</td>\n",
       "      <td>NaN</td>\n",
       "      <td>NaN</td>\n",
       "      <td>4.0</td>\n",
       "    </tr>\n",
       "    <tr>\n",
       "      <th>nan</th>\n",
       "      <td>1.0</td>\n",
       "      <td>NaN</td>\n",
       "      <td>NaN</td>\n",
       "      <td>NaN</td>\n",
       "      <td>NaN</td>\n",
       "      <td>NaN</td>\n",
       "      <td>NaN</td>\n",
       "    </tr>\n",
       "    <tr>\n",
       "      <th>...</th>\n",
       "      <th>...</th>\n",
       "      <td>...</td>\n",
       "      <td>...</td>\n",
       "      <td>...</td>\n",
       "      <td>...</td>\n",
       "      <td>...</td>\n",
       "      <td>...</td>\n",
       "      <td>...</td>\n",
       "    </tr>\n",
       "    <tr>\n",
       "      <th>FMY-VTK-14-3</th>\n",
       "      <th>nan</th>\n",
       "      <td>2.0</td>\n",
       "      <td>NaN</td>\n",
       "      <td>NaN</td>\n",
       "      <td>NaN</td>\n",
       "      <td>NaN</td>\n",
       "      <td>NaN</td>\n",
       "      <td>NaN</td>\n",
       "    </tr>\n",
       "    <tr>\n",
       "      <th>FMY-VTK-14-4</th>\n",
       "      <th>Y</th>\n",
       "      <td>NaN</td>\n",
       "      <td>NaN</td>\n",
       "      <td>25.0</td>\n",
       "      <td>NaN</td>\n",
       "      <td>NaN</td>\n",
       "      <td>NaN</td>\n",
       "      <td>24.0</td>\n",
       "    </tr>\n",
       "    <tr>\n",
       "      <th rowspan=\"3\" valign=\"top\">nan</th>\n",
       "      <th>N</th>\n",
       "      <td>NaN</td>\n",
       "      <td>NaN</td>\n",
       "      <td>6.0</td>\n",
       "      <td>NaN</td>\n",
       "      <td>NaN</td>\n",
       "      <td>96.0</td>\n",
       "      <td>3.0</td>\n",
       "    </tr>\n",
       "    <tr>\n",
       "      <th>Y</th>\n",
       "      <td>NaN</td>\n",
       "      <td>1.0</td>\n",
       "      <td>1939.0</td>\n",
       "      <td>NaN</td>\n",
       "      <td>1.0</td>\n",
       "      <td>4391.0</td>\n",
       "      <td>305.0</td>\n",
       "    </tr>\n",
       "    <tr>\n",
       "      <th>nan</th>\n",
       "      <td>378.0</td>\n",
       "      <td>NaN</td>\n",
       "      <td>5.0</td>\n",
       "      <td>NaN</td>\n",
       "      <td>NaN</td>\n",
       "      <td>25.0</td>\n",
       "      <td>NaN</td>\n",
       "    </tr>\n",
       "  </tbody>\n",
       "</table>\n",
       "<p>452 rows × 7 columns</p>\n",
       "</div>"
      ],
      "text/plain": [
       "                       count                                    \\\n",
       "검사방법                     nan 무부하검사(TSI) 무부하검사(급가속) 무부하검사(정지가동)   \n",
       "배출가스인증번호     무부하매연판정1                                            \n",
       "4MY-AD-20    N           NaN        NaN        1.0         NaN   \n",
       "             Y           NaN        NaN       26.0         NaN   \n",
       "             nan         2.0        NaN        NaN         NaN   \n",
       "4MY-DC-33    Y           NaN        NaN        2.0         NaN   \n",
       "             nan         1.0        NaN        NaN         NaN   \n",
       "...                      ...        ...        ...         ...   \n",
       "FMY-VTK-14-3 nan         2.0        NaN        NaN         NaN   \n",
       "FMY-VTK-14-4 Y           NaN        NaN       25.0         NaN   \n",
       "nan          N           NaN        NaN        6.0         NaN   \n",
       "             Y           NaN        1.0     1939.0         NaN   \n",
       "             nan       378.0        NaN        5.0         NaN   \n",
       "\n",
       "                                                                    \n",
       "검사방법                  부하검사(ASM-Idling) 부하검사(KD-147) 부하검사(LUG DOWN)  \n",
       "배출가스인증번호     무부하매연판정1                                               \n",
       "4MY-AD-20    N                     NaN          NaN            NaN  \n",
       "             Y                     NaN          NaN            NaN  \n",
       "             nan                   NaN          NaN            NaN  \n",
       "4MY-DC-33    Y                     NaN          NaN            4.0  \n",
       "             nan                   NaN          NaN            NaN  \n",
       "...                                ...          ...            ...  \n",
       "FMY-VTK-14-3 nan                   NaN          NaN            NaN  \n",
       "FMY-VTK-14-4 Y                     NaN          NaN           24.0  \n",
       "nan          N                     NaN         96.0            3.0  \n",
       "             Y                     1.0       4391.0          305.0  \n",
       "             nan                   NaN         25.0            NaN  \n",
       "\n",
       "[452 rows x 7 columns]"
      ]
     },
     "execution_count": 123,
     "metadata": {},
     "output_type": "execute_result"
    }
   ],
   "source": [
    "gas_vin_grp = total.groupby(['배출가스인증번호', '무부하매연판정1', '검사방법'], dropna=False)['차대번호'].agg(['count']).unstack()\n",
    "gas_vin_grp"
   ]
  },
  {
   "cell_type": "code",
   "execution_count": 124,
   "metadata": {},
   "outputs": [
    {
     "data": {
      "text/html": [
       "<div>\n",
       "<style scoped>\n",
       "    .dataframe tbody tr th:only-of-type {\n",
       "        vertical-align: middle;\n",
       "    }\n",
       "\n",
       "    .dataframe tbody tr th {\n",
       "        vertical-align: top;\n",
       "    }\n",
       "\n",
       "    .dataframe thead tr th {\n",
       "        text-align: left;\n",
       "    }\n",
       "\n",
       "    .dataframe thead tr:last-of-type th {\n",
       "        text-align: right;\n",
       "    }\n",
       "</style>\n",
       "<table border=\"1\" class=\"dataframe\">\n",
       "  <thead>\n",
       "    <tr>\n",
       "      <th></th>\n",
       "      <th>검사방법</th>\n",
       "      <th colspan=\"4\" halign=\"left\">무부하검사(TSI)</th>\n",
       "      <th colspan=\"4\" halign=\"left\">무부하검사(급가속)</th>\n",
       "      <th colspan=\"2\" halign=\"left\">무부하검사(정지가동)</th>\n",
       "      <th>...</th>\n",
       "      <th colspan=\"2\" halign=\"left\">부하검사(ASM-Idling)</th>\n",
       "      <th colspan=\"4\" halign=\"left\">부하검사(KD-147)</th>\n",
       "      <th colspan=\"4\" halign=\"left\">부하검사(LUG DOWN)</th>\n",
       "    </tr>\n",
       "    <tr>\n",
       "      <th></th>\n",
       "      <th></th>\n",
       "      <th>count</th>\n",
       "      <th>mean</th>\n",
       "      <th>min</th>\n",
       "      <th>max</th>\n",
       "      <th>count</th>\n",
       "      <th>mean</th>\n",
       "      <th>min</th>\n",
       "      <th>max</th>\n",
       "      <th>count</th>\n",
       "      <th>mean</th>\n",
       "      <th>...</th>\n",
       "      <th>min</th>\n",
       "      <th>max</th>\n",
       "      <th>count</th>\n",
       "      <th>mean</th>\n",
       "      <th>min</th>\n",
       "      <th>max</th>\n",
       "      <th>count</th>\n",
       "      <th>mean</th>\n",
       "      <th>min</th>\n",
       "      <th>max</th>\n",
       "    </tr>\n",
       "    <tr>\n",
       "      <th>배출가스인증번호</th>\n",
       "      <th>무부하매연판정1</th>\n",
       "      <th></th>\n",
       "      <th></th>\n",
       "      <th></th>\n",
       "      <th></th>\n",
       "      <th></th>\n",
       "      <th></th>\n",
       "      <th></th>\n",
       "      <th></th>\n",
       "      <th></th>\n",
       "      <th></th>\n",
       "      <th></th>\n",
       "      <th></th>\n",
       "      <th></th>\n",
       "      <th></th>\n",
       "      <th></th>\n",
       "      <th></th>\n",
       "      <th></th>\n",
       "      <th></th>\n",
       "      <th></th>\n",
       "      <th></th>\n",
       "      <th></th>\n",
       "    </tr>\n",
       "  </thead>\n",
       "  <tbody>\n",
       "    <tr>\n",
       "      <th>4MY-AD-20</th>\n",
       "      <th>Y</th>\n",
       "      <td>NaN</td>\n",
       "      <td>NaN</td>\n",
       "      <td>NaN</td>\n",
       "      <td>NaN</td>\n",
       "      <td>26.0</td>\n",
       "      <td>13.269231</td>\n",
       "      <td>0.0</td>\n",
       "      <td>31.0</td>\n",
       "      <td>NaN</td>\n",
       "      <td>NaN</td>\n",
       "      <td>...</td>\n",
       "      <td>NaN</td>\n",
       "      <td>NaN</td>\n",
       "      <td>NaN</td>\n",
       "      <td>NaN</td>\n",
       "      <td>NaN</td>\n",
       "      <td>NaN</td>\n",
       "      <td>NaN</td>\n",
       "      <td>NaN</td>\n",
       "      <td>NaN</td>\n",
       "      <td>NaN</td>\n",
       "    </tr>\n",
       "    <tr>\n",
       "      <th>4MY-DC-33</th>\n",
       "      <th>Y</th>\n",
       "      <td>NaN</td>\n",
       "      <td>NaN</td>\n",
       "      <td>NaN</td>\n",
       "      <td>NaN</td>\n",
       "      <td>2.0</td>\n",
       "      <td>0.000000</td>\n",
       "      <td>0.0</td>\n",
       "      <td>0.0</td>\n",
       "      <td>NaN</td>\n",
       "      <td>NaN</td>\n",
       "      <td>...</td>\n",
       "      <td>NaN</td>\n",
       "      <td>NaN</td>\n",
       "      <td>NaN</td>\n",
       "      <td>NaN</td>\n",
       "      <td>NaN</td>\n",
       "      <td>NaN</td>\n",
       "      <td>4.0</td>\n",
       "      <td>9.000000</td>\n",
       "      <td>0.0</td>\n",
       "      <td>20.0</td>\n",
       "    </tr>\n",
       "    <tr>\n",
       "      <th>4MY-PA-06</th>\n",
       "      <th>Y</th>\n",
       "      <td>NaN</td>\n",
       "      <td>NaN</td>\n",
       "      <td>NaN</td>\n",
       "      <td>NaN</td>\n",
       "      <td>12.0</td>\n",
       "      <td>14.500000</td>\n",
       "      <td>0.0</td>\n",
       "      <td>40.0</td>\n",
       "      <td>NaN</td>\n",
       "      <td>NaN</td>\n",
       "      <td>...</td>\n",
       "      <td>NaN</td>\n",
       "      <td>NaN</td>\n",
       "      <td>NaN</td>\n",
       "      <td>NaN</td>\n",
       "      <td>NaN</td>\n",
       "      <td>NaN</td>\n",
       "      <td>NaN</td>\n",
       "      <td>NaN</td>\n",
       "      <td>NaN</td>\n",
       "      <td>NaN</td>\n",
       "    </tr>\n",
       "    <tr>\n",
       "      <th>5MY-AD-13-06</th>\n",
       "      <th>Y</th>\n",
       "      <td>NaN</td>\n",
       "      <td>NaN</td>\n",
       "      <td>NaN</td>\n",
       "      <td>NaN</td>\n",
       "      <td>311.0</td>\n",
       "      <td>1.202572</td>\n",
       "      <td>0.0</td>\n",
       "      <td>27.0</td>\n",
       "      <td>NaN</td>\n",
       "      <td>NaN</td>\n",
       "      <td>...</td>\n",
       "      <td>NaN</td>\n",
       "      <td>NaN</td>\n",
       "      <td>NaN</td>\n",
       "      <td>NaN</td>\n",
       "      <td>NaN</td>\n",
       "      <td>NaN</td>\n",
       "      <td>NaN</td>\n",
       "      <td>NaN</td>\n",
       "      <td>NaN</td>\n",
       "      <td>NaN</td>\n",
       "    </tr>\n",
       "    <tr>\n",
       "      <th>5MY-AD-13-07</th>\n",
       "      <th>Y</th>\n",
       "      <td>NaN</td>\n",
       "      <td>NaN</td>\n",
       "      <td>NaN</td>\n",
       "      <td>NaN</td>\n",
       "      <td>108.0</td>\n",
       "      <td>1.712963</td>\n",
       "      <td>0.0</td>\n",
       "      <td>45.0</td>\n",
       "      <td>NaN</td>\n",
       "      <td>NaN</td>\n",
       "      <td>...</td>\n",
       "      <td>NaN</td>\n",
       "      <td>NaN</td>\n",
       "      <td>NaN</td>\n",
       "      <td>NaN</td>\n",
       "      <td>NaN</td>\n",
       "      <td>NaN</td>\n",
       "      <td>NaN</td>\n",
       "      <td>NaN</td>\n",
       "      <td>NaN</td>\n",
       "      <td>NaN</td>\n",
       "    </tr>\n",
       "    <tr>\n",
       "      <th>...</th>\n",
       "      <th>...</th>\n",
       "      <td>...</td>\n",
       "      <td>...</td>\n",
       "      <td>...</td>\n",
       "      <td>...</td>\n",
       "      <td>...</td>\n",
       "      <td>...</td>\n",
       "      <td>...</td>\n",
       "      <td>...</td>\n",
       "      <td>...</td>\n",
       "      <td>...</td>\n",
       "      <td>...</td>\n",
       "      <td>...</td>\n",
       "      <td>...</td>\n",
       "      <td>...</td>\n",
       "      <td>...</td>\n",
       "      <td>...</td>\n",
       "      <td>...</td>\n",
       "      <td>...</td>\n",
       "      <td>...</td>\n",
       "      <td>...</td>\n",
       "      <td>...</td>\n",
       "    </tr>\n",
       "    <tr>\n",
       "      <th>FMY-VTK-14-1</th>\n",
       "      <th>Y</th>\n",
       "      <td>NaN</td>\n",
       "      <td>NaN</td>\n",
       "      <td>NaN</td>\n",
       "      <td>NaN</td>\n",
       "      <td>337.0</td>\n",
       "      <td>0.952522</td>\n",
       "      <td>0.0</td>\n",
       "      <td>19.0</td>\n",
       "      <td>NaN</td>\n",
       "      <td>NaN</td>\n",
       "      <td>...</td>\n",
       "      <td>NaN</td>\n",
       "      <td>NaN</td>\n",
       "      <td>NaN</td>\n",
       "      <td>NaN</td>\n",
       "      <td>NaN</td>\n",
       "      <td>NaN</td>\n",
       "      <td>1419.0</td>\n",
       "      <td>0.879493</td>\n",
       "      <td>-1.0</td>\n",
       "      <td>15.0</td>\n",
       "    </tr>\n",
       "    <tr>\n",
       "      <th>FMY-VTK-14-2</th>\n",
       "      <th>Y</th>\n",
       "      <td>NaN</td>\n",
       "      <td>NaN</td>\n",
       "      <td>NaN</td>\n",
       "      <td>NaN</td>\n",
       "      <td>13.0</td>\n",
       "      <td>0.000000</td>\n",
       "      <td>0.0</td>\n",
       "      <td>0.0</td>\n",
       "      <td>NaN</td>\n",
       "      <td>NaN</td>\n",
       "      <td>...</td>\n",
       "      <td>NaN</td>\n",
       "      <td>NaN</td>\n",
       "      <td>NaN</td>\n",
       "      <td>NaN</td>\n",
       "      <td>NaN</td>\n",
       "      <td>NaN</td>\n",
       "      <td>73.0</td>\n",
       "      <td>0.671233</td>\n",
       "      <td>0.0</td>\n",
       "      <td>10.0</td>\n",
       "    </tr>\n",
       "    <tr>\n",
       "      <th>FMY-VTK-14-3</th>\n",
       "      <th>Y</th>\n",
       "      <td>NaN</td>\n",
       "      <td>NaN</td>\n",
       "      <td>NaN</td>\n",
       "      <td>NaN</td>\n",
       "      <td>11.0</td>\n",
       "      <td>0.000000</td>\n",
       "      <td>0.0</td>\n",
       "      <td>0.0</td>\n",
       "      <td>NaN</td>\n",
       "      <td>NaN</td>\n",
       "      <td>...</td>\n",
       "      <td>NaN</td>\n",
       "      <td>NaN</td>\n",
       "      <td>NaN</td>\n",
       "      <td>NaN</td>\n",
       "      <td>NaN</td>\n",
       "      <td>NaN</td>\n",
       "      <td>63.0</td>\n",
       "      <td>0.238095</td>\n",
       "      <td>0.0</td>\n",
       "      <td>6.0</td>\n",
       "    </tr>\n",
       "    <tr>\n",
       "      <th>FMY-VTK-14-4</th>\n",
       "      <th>Y</th>\n",
       "      <td>NaN</td>\n",
       "      <td>NaN</td>\n",
       "      <td>NaN</td>\n",
       "      <td>NaN</td>\n",
       "      <td>25.0</td>\n",
       "      <td>1.360000</td>\n",
       "      <td>0.0</td>\n",
       "      <td>21.0</td>\n",
       "      <td>NaN</td>\n",
       "      <td>NaN</td>\n",
       "      <td>...</td>\n",
       "      <td>NaN</td>\n",
       "      <td>NaN</td>\n",
       "      <td>NaN</td>\n",
       "      <td>NaN</td>\n",
       "      <td>NaN</td>\n",
       "      <td>NaN</td>\n",
       "      <td>24.0</td>\n",
       "      <td>0.458333</td>\n",
       "      <td>0.0</td>\n",
       "      <td>4.0</td>\n",
       "    </tr>\n",
       "    <tr>\n",
       "      <th>nan</th>\n",
       "      <th>Y</th>\n",
       "      <td>1.0</td>\n",
       "      <td>0.0</td>\n",
       "      <td>0.0</td>\n",
       "      <td>0.0</td>\n",
       "      <td>1939.0</td>\n",
       "      <td>2.832388</td>\n",
       "      <td>0.0</td>\n",
       "      <td>41.0</td>\n",
       "      <td>NaN</td>\n",
       "      <td>NaN</td>\n",
       "      <td>...</td>\n",
       "      <td>0.03</td>\n",
       "      <td>0.03</td>\n",
       "      <td>4391.0</td>\n",
       "      <td>3.682305</td>\n",
       "      <td>0.0</td>\n",
       "      <td>25.0</td>\n",
       "      <td>305.0</td>\n",
       "      <td>3.442623</td>\n",
       "      <td>0.0</td>\n",
       "      <td>26.0</td>\n",
       "    </tr>\n",
       "  </tbody>\n",
       "</table>\n",
       "<p>205 rows × 24 columns</p>\n",
       "</div>"
      ],
      "text/plain": [
       "검사방법                  무부하검사(TSI)                무부하검사(급가속)                  \\\n",
       "                           count mean  min  max      count       mean  min   \n",
       "배출가스인증번호     무부하매연판정1                                                        \n",
       "4MY-AD-20    Y               NaN  NaN  NaN  NaN       26.0  13.269231  0.0   \n",
       "4MY-DC-33    Y               NaN  NaN  NaN  NaN        2.0   0.000000  0.0   \n",
       "4MY-PA-06    Y               NaN  NaN  NaN  NaN       12.0  14.500000  0.0   \n",
       "5MY-AD-13-06 Y               NaN  NaN  NaN  NaN      311.0   1.202572  0.0   \n",
       "5MY-AD-13-07 Y               NaN  NaN  NaN  NaN      108.0   1.712963  0.0   \n",
       "...                          ...  ...  ...  ...        ...        ...  ...   \n",
       "FMY-VTK-14-1 Y               NaN  NaN  NaN  NaN      337.0   0.952522  0.0   \n",
       "FMY-VTK-14-2 Y               NaN  NaN  NaN  NaN       13.0   0.000000  0.0   \n",
       "FMY-VTK-14-3 Y               NaN  NaN  NaN  NaN       11.0   0.000000  0.0   \n",
       "FMY-VTK-14-4 Y               NaN  NaN  NaN  NaN       25.0   1.360000  0.0   \n",
       "nan          Y               1.0  0.0  0.0  0.0     1939.0   2.832388  0.0   \n",
       "\n",
       "검사방법                        무부하검사(정지가동)       ... 부하검사(ASM-Idling)        \\\n",
       "                        max       count mean  ...              min   max   \n",
       "배출가스인증번호     무부하매연판정1                         ...                          \n",
       "4MY-AD-20    Y         31.0         NaN  NaN  ...              NaN   NaN   \n",
       "4MY-DC-33    Y          0.0         NaN  NaN  ...              NaN   NaN   \n",
       "4MY-PA-06    Y         40.0         NaN  NaN  ...              NaN   NaN   \n",
       "5MY-AD-13-06 Y         27.0         NaN  NaN  ...              NaN   NaN   \n",
       "5MY-AD-13-07 Y         45.0         NaN  NaN  ...              NaN   NaN   \n",
       "...                     ...         ...  ...  ...              ...   ...   \n",
       "FMY-VTK-14-1 Y         19.0         NaN  NaN  ...              NaN   NaN   \n",
       "FMY-VTK-14-2 Y          0.0         NaN  NaN  ...              NaN   NaN   \n",
       "FMY-VTK-14-3 Y          0.0         NaN  NaN  ...              NaN   NaN   \n",
       "FMY-VTK-14-4 Y         21.0         NaN  NaN  ...              NaN   NaN   \n",
       "nan          Y         41.0         NaN  NaN  ...             0.03  0.03   \n",
       "\n",
       "검사방법                  부하검사(KD-147)                      부하검사(LUG DOWN)  \\\n",
       "                             count      mean  min   max          count   \n",
       "배출가스인증번호     무부하매연판정1                                                    \n",
       "4MY-AD-20    Y                 NaN       NaN  NaN   NaN            NaN   \n",
       "4MY-DC-33    Y                 NaN       NaN  NaN   NaN            4.0   \n",
       "4MY-PA-06    Y                 NaN       NaN  NaN   NaN            NaN   \n",
       "5MY-AD-13-06 Y                 NaN       NaN  NaN   NaN            NaN   \n",
       "5MY-AD-13-07 Y                 NaN       NaN  NaN   NaN            NaN   \n",
       "...                            ...       ...  ...   ...            ...   \n",
       "FMY-VTK-14-1 Y                 NaN       NaN  NaN   NaN         1419.0   \n",
       "FMY-VTK-14-2 Y                 NaN       NaN  NaN   NaN           73.0   \n",
       "FMY-VTK-14-3 Y                 NaN       NaN  NaN   NaN           63.0   \n",
       "FMY-VTK-14-4 Y                 NaN       NaN  NaN   NaN           24.0   \n",
       "nan          Y              4391.0  3.682305  0.0  25.0          305.0   \n",
       "\n",
       "검사방법                                        \n",
       "                           mean  min   max  \n",
       "배출가스인증번호     무부하매연판정1                       \n",
       "4MY-AD-20    Y              NaN  NaN   NaN  \n",
       "4MY-DC-33    Y         9.000000  0.0  20.0  \n",
       "4MY-PA-06    Y              NaN  NaN   NaN  \n",
       "5MY-AD-13-06 Y              NaN  NaN   NaN  \n",
       "5MY-AD-13-07 Y              NaN  NaN   NaN  \n",
       "...                         ...  ...   ...  \n",
       "FMY-VTK-14-1 Y         0.879493 -1.0  15.0  \n",
       "FMY-VTK-14-2 Y         0.671233  0.0  10.0  \n",
       "FMY-VTK-14-3 Y         0.238095  0.0   6.0  \n",
       "FMY-VTK-14-4 Y         0.458333  0.0   4.0  \n",
       "nan          Y         3.442623  0.0  26.0  \n",
       "\n",
       "[205 rows x 24 columns]"
      ]
     },
     "execution_count": 124,
     "metadata": {},
     "output_type": "execute_result"
    }
   ],
   "source": [
    "gas_grp_y = total[total['무부하매연판정1'] == 'Y'].groupby(['배출가스인증번호', '무부하매연판정1', '검사방법'], dropna=False)['무부하매연측정치1'].agg(['count', 'mean', 'min', 'max']).stack().unstack('검사방법').unstack()\n",
    "gas_grp_y"
   ]
  },
  {
   "cell_type": "code",
   "execution_count": 125,
   "metadata": {},
   "outputs": [
    {
     "data": {
      "text/html": [
       "<div>\n",
       "<style scoped>\n",
       "    .dataframe tbody tr th:only-of-type {\n",
       "        vertical-align: middle;\n",
       "    }\n",
       "\n",
       "    .dataframe tbody tr th {\n",
       "        vertical-align: top;\n",
       "    }\n",
       "\n",
       "    .dataframe thead th {\n",
       "        text-align: right;\n",
       "    }\n",
       "</style>\n",
       "<table border=\"1\" class=\"dataframe\">\n",
       "  <thead>\n",
       "    <tr style=\"text-align: right;\">\n",
       "      <th></th>\n",
       "      <th>검사방법</th>\n",
       "      <th>무부하검사(TSI)</th>\n",
       "      <th>무부하검사(급가속)</th>\n",
       "      <th>무부하검사(정지가동)</th>\n",
       "      <th>부하검사(ASM-Idling)</th>\n",
       "      <th>부하검사(KD-147)</th>\n",
       "      <th>부하검사(LUG DOWN)</th>\n",
       "    </tr>\n",
       "    <tr>\n",
       "      <th>배출가스인증번호</th>\n",
       "      <th>무부하매연판정1</th>\n",
       "      <th></th>\n",
       "      <th></th>\n",
       "      <th></th>\n",
       "      <th></th>\n",
       "      <th></th>\n",
       "      <th></th>\n",
       "    </tr>\n",
       "  </thead>\n",
       "  <tbody>\n",
       "    <tr>\n",
       "      <th>4MY-AD-20</th>\n",
       "      <th>Y</th>\n",
       "      <td>NaN</td>\n",
       "      <td>26.0</td>\n",
       "      <td>NaN</td>\n",
       "      <td>NaN</td>\n",
       "      <td>NaN</td>\n",
       "      <td>NaN</td>\n",
       "    </tr>\n",
       "    <tr>\n",
       "      <th>4MY-DC-33</th>\n",
       "      <th>Y</th>\n",
       "      <td>NaN</td>\n",
       "      <td>2.0</td>\n",
       "      <td>NaN</td>\n",
       "      <td>NaN</td>\n",
       "      <td>NaN</td>\n",
       "      <td>4.0</td>\n",
       "    </tr>\n",
       "    <tr>\n",
       "      <th>4MY-PA-06</th>\n",
       "      <th>Y</th>\n",
       "      <td>NaN</td>\n",
       "      <td>12.0</td>\n",
       "      <td>NaN</td>\n",
       "      <td>NaN</td>\n",
       "      <td>NaN</td>\n",
       "      <td>NaN</td>\n",
       "    </tr>\n",
       "    <tr>\n",
       "      <th>5MY-AD-13-06</th>\n",
       "      <th>Y</th>\n",
       "      <td>NaN</td>\n",
       "      <td>311.0</td>\n",
       "      <td>NaN</td>\n",
       "      <td>NaN</td>\n",
       "      <td>NaN</td>\n",
       "      <td>NaN</td>\n",
       "    </tr>\n",
       "    <tr>\n",
       "      <th>5MY-AD-13-07</th>\n",
       "      <th>Y</th>\n",
       "      <td>NaN</td>\n",
       "      <td>108.0</td>\n",
       "      <td>NaN</td>\n",
       "      <td>NaN</td>\n",
       "      <td>NaN</td>\n",
       "      <td>NaN</td>\n",
       "    </tr>\n",
       "    <tr>\n",
       "      <th>...</th>\n",
       "      <th>...</th>\n",
       "      <td>...</td>\n",
       "      <td>...</td>\n",
       "      <td>...</td>\n",
       "      <td>...</td>\n",
       "      <td>...</td>\n",
       "      <td>...</td>\n",
       "    </tr>\n",
       "    <tr>\n",
       "      <th>FMY-VTK-14-1</th>\n",
       "      <th>Y</th>\n",
       "      <td>NaN</td>\n",
       "      <td>337.0</td>\n",
       "      <td>NaN</td>\n",
       "      <td>NaN</td>\n",
       "      <td>NaN</td>\n",
       "      <td>1419.0</td>\n",
       "    </tr>\n",
       "    <tr>\n",
       "      <th>FMY-VTK-14-2</th>\n",
       "      <th>Y</th>\n",
       "      <td>NaN</td>\n",
       "      <td>13.0</td>\n",
       "      <td>NaN</td>\n",
       "      <td>NaN</td>\n",
       "      <td>NaN</td>\n",
       "      <td>73.0</td>\n",
       "    </tr>\n",
       "    <tr>\n",
       "      <th>FMY-VTK-14-3</th>\n",
       "      <th>Y</th>\n",
       "      <td>NaN</td>\n",
       "      <td>11.0</td>\n",
       "      <td>NaN</td>\n",
       "      <td>NaN</td>\n",
       "      <td>NaN</td>\n",
       "      <td>63.0</td>\n",
       "    </tr>\n",
       "    <tr>\n",
       "      <th>FMY-VTK-14-4</th>\n",
       "      <th>Y</th>\n",
       "      <td>NaN</td>\n",
       "      <td>25.0</td>\n",
       "      <td>NaN</td>\n",
       "      <td>NaN</td>\n",
       "      <td>NaN</td>\n",
       "      <td>24.0</td>\n",
       "    </tr>\n",
       "    <tr>\n",
       "      <th>nan</th>\n",
       "      <th>Y</th>\n",
       "      <td>1.0</td>\n",
       "      <td>1939.0</td>\n",
       "      <td>NaN</td>\n",
       "      <td>1.0</td>\n",
       "      <td>4391.0</td>\n",
       "      <td>305.0</td>\n",
       "    </tr>\n",
       "  </tbody>\n",
       "</table>\n",
       "<p>205 rows × 6 columns</p>\n",
       "</div>"
      ],
      "text/plain": [
       "검사방법                   무부하검사(TSI)  무부하검사(급가속)  무부하검사(정지가동)  부하검사(ASM-Idling)  \\\n",
       "배출가스인증번호     무부하매연판정1                                                          \n",
       "4MY-AD-20    Y                NaN        26.0          NaN               NaN   \n",
       "4MY-DC-33    Y                NaN         2.0          NaN               NaN   \n",
       "4MY-PA-06    Y                NaN        12.0          NaN               NaN   \n",
       "5MY-AD-13-06 Y                NaN       311.0          NaN               NaN   \n",
       "5MY-AD-13-07 Y                NaN       108.0          NaN               NaN   \n",
       "...                           ...         ...          ...               ...   \n",
       "FMY-VTK-14-1 Y                NaN       337.0          NaN               NaN   \n",
       "FMY-VTK-14-2 Y                NaN        13.0          NaN               NaN   \n",
       "FMY-VTK-14-3 Y                NaN        11.0          NaN               NaN   \n",
       "FMY-VTK-14-4 Y                NaN        25.0          NaN               NaN   \n",
       "nan          Y                1.0      1939.0          NaN               1.0   \n",
       "\n",
       "검사방법                   부하검사(KD-147)  부하검사(LUG DOWN)  \n",
       "배출가스인증번호     무부하매연판정1                                \n",
       "4MY-AD-20    Y                  NaN             NaN  \n",
       "4MY-DC-33    Y                  NaN             4.0  \n",
       "4MY-PA-06    Y                  NaN             NaN  \n",
       "5MY-AD-13-06 Y                  NaN             NaN  \n",
       "5MY-AD-13-07 Y                  NaN             NaN  \n",
       "...                             ...             ...  \n",
       "FMY-VTK-14-1 Y                  NaN          1419.0  \n",
       "FMY-VTK-14-2 Y                  NaN            73.0  \n",
       "FMY-VTK-14-3 Y                  NaN            63.0  \n",
       "FMY-VTK-14-4 Y                  NaN            24.0  \n",
       "nan          Y               4391.0           305.0  \n",
       "\n",
       "[205 rows x 6 columns]"
      ]
     },
     "execution_count": 125,
     "metadata": {},
     "output_type": "execute_result"
    }
   ],
   "source": [
    "gas_grp_y_vin = total[total['무부하매연판정1'] == 'Y'].groupby(['배출가스인증번호', '무부하매연판정1', '검사방법'], dropna=False)['차대번호'].agg('count').unstack()\n",
    "gas_grp_y_vin"
   ]
  },
  {
   "cell_type": "code",
   "execution_count": 126,
   "metadata": {},
   "outputs": [
    {
     "data": {
      "text/html": [
       "<div>\n",
       "<style scoped>\n",
       "    .dataframe tbody tr th:only-of-type {\n",
       "        vertical-align: middle;\n",
       "    }\n",
       "\n",
       "    .dataframe tbody tr th {\n",
       "        vertical-align: top;\n",
       "    }\n",
       "\n",
       "    .dataframe thead tr th {\n",
       "        text-align: left;\n",
       "    }\n",
       "\n",
       "    .dataframe thead tr:last-of-type th {\n",
       "        text-align: right;\n",
       "    }\n",
       "</style>\n",
       "<table border=\"1\" class=\"dataframe\">\n",
       "  <thead>\n",
       "    <tr>\n",
       "      <th></th>\n",
       "      <th>검사방법</th>\n",
       "      <th colspan=\"4\" halign=\"left\">무부하검사(급가속)</th>\n",
       "      <th colspan=\"4\" halign=\"left\">부하검사(KD-147)</th>\n",
       "      <th colspan=\"4\" halign=\"left\">부하검사(LUG DOWN)</th>\n",
       "    </tr>\n",
       "    <tr>\n",
       "      <th></th>\n",
       "      <th></th>\n",
       "      <th>count</th>\n",
       "      <th>mean</th>\n",
       "      <th>min</th>\n",
       "      <th>max</th>\n",
       "      <th>count</th>\n",
       "      <th>mean</th>\n",
       "      <th>min</th>\n",
       "      <th>max</th>\n",
       "      <th>count</th>\n",
       "      <th>mean</th>\n",
       "      <th>min</th>\n",
       "      <th>max</th>\n",
       "    </tr>\n",
       "    <tr>\n",
       "      <th>배출가스인증번호</th>\n",
       "      <th>무부하매연판정1</th>\n",
       "      <th></th>\n",
       "      <th></th>\n",
       "      <th></th>\n",
       "      <th></th>\n",
       "      <th></th>\n",
       "      <th></th>\n",
       "      <th></th>\n",
       "      <th></th>\n",
       "      <th></th>\n",
       "      <th></th>\n",
       "      <th></th>\n",
       "      <th></th>\n",
       "    </tr>\n",
       "  </thead>\n",
       "  <tbody>\n",
       "    <tr>\n",
       "      <th>4MY-AD-20</th>\n",
       "      <th>N</th>\n",
       "      <td>1.0</td>\n",
       "      <td>51.000000</td>\n",
       "      <td>51.0</td>\n",
       "      <td>51.0</td>\n",
       "      <td>NaN</td>\n",
       "      <td>NaN</td>\n",
       "      <td>NaN</td>\n",
       "      <td>NaN</td>\n",
       "      <td>NaN</td>\n",
       "      <td>NaN</td>\n",
       "      <td>NaN</td>\n",
       "      <td>NaN</td>\n",
       "    </tr>\n",
       "    <tr>\n",
       "      <th>5MY-AD-13-06</th>\n",
       "      <th>N</th>\n",
       "      <td>1.0</td>\n",
       "      <td>51.000000</td>\n",
       "      <td>51.0</td>\n",
       "      <td>51.0</td>\n",
       "      <td>NaN</td>\n",
       "      <td>NaN</td>\n",
       "      <td>NaN</td>\n",
       "      <td>NaN</td>\n",
       "      <td>NaN</td>\n",
       "      <td>NaN</td>\n",
       "      <td>NaN</td>\n",
       "      <td>NaN</td>\n",
       "    </tr>\n",
       "    <tr>\n",
       "      <th>5MY-AD-14-08</th>\n",
       "      <th>N</th>\n",
       "      <td>NaN</td>\n",
       "      <td>NaN</td>\n",
       "      <td>NaN</td>\n",
       "      <td>NaN</td>\n",
       "      <td>1.0</td>\n",
       "      <td>65.000000</td>\n",
       "      <td>65.0</td>\n",
       "      <td>65.0</td>\n",
       "      <td>NaN</td>\n",
       "      <td>NaN</td>\n",
       "      <td>NaN</td>\n",
       "      <td>NaN</td>\n",
       "    </tr>\n",
       "    <tr>\n",
       "      <th>5MY-AD-14-18</th>\n",
       "      <th>N</th>\n",
       "      <td>1.0</td>\n",
       "      <td>45.000000</td>\n",
       "      <td>45.0</td>\n",
       "      <td>45.0</td>\n",
       "      <td>3.0</td>\n",
       "      <td>31.666667</td>\n",
       "      <td>20.0</td>\n",
       "      <td>49.0</td>\n",
       "      <td>NaN</td>\n",
       "      <td>NaN</td>\n",
       "      <td>NaN</td>\n",
       "      <td>NaN</td>\n",
       "    </tr>\n",
       "    <tr>\n",
       "      <th>5MY-HB-24-02</th>\n",
       "      <th>N</th>\n",
       "      <td>NaN</td>\n",
       "      <td>NaN</td>\n",
       "      <td>NaN</td>\n",
       "      <td>NaN</td>\n",
       "      <td>5.0</td>\n",
       "      <td>48.600000</td>\n",
       "      <td>30.0</td>\n",
       "      <td>80.0</td>\n",
       "      <td>NaN</td>\n",
       "      <td>NaN</td>\n",
       "      <td>NaN</td>\n",
       "      <td>NaN</td>\n",
       "    </tr>\n",
       "    <tr>\n",
       "      <th>...</th>\n",
       "      <th>...</th>\n",
       "      <td>...</td>\n",
       "      <td>...</td>\n",
       "      <td>...</td>\n",
       "      <td>...</td>\n",
       "      <td>...</td>\n",
       "      <td>...</td>\n",
       "      <td>...</td>\n",
       "      <td>...</td>\n",
       "      <td>...</td>\n",
       "      <td>...</td>\n",
       "      <td>...</td>\n",
       "      <td>...</td>\n",
       "    </tr>\n",
       "    <tr>\n",
       "      <th>9MY-KM-14-41</th>\n",
       "      <th>N</th>\n",
       "      <td>162.0</td>\n",
       "      <td>43.469136</td>\n",
       "      <td>21.0</td>\n",
       "      <td>99.0</td>\n",
       "      <td>2081.0</td>\n",
       "      <td>41.281115</td>\n",
       "      <td>16.0</td>\n",
       "      <td>99.0</td>\n",
       "      <td>1.0</td>\n",
       "      <td>21.000000</td>\n",
       "      <td>21.0</td>\n",
       "      <td>21.0</td>\n",
       "    </tr>\n",
       "    <tr>\n",
       "      <th>9MY-PA-13-1</th>\n",
       "      <th>N</th>\n",
       "      <td>1.0</td>\n",
       "      <td>22.000000</td>\n",
       "      <td>22.0</td>\n",
       "      <td>22.0</td>\n",
       "      <td>NaN</td>\n",
       "      <td>NaN</td>\n",
       "      <td>NaN</td>\n",
       "      <td>NaN</td>\n",
       "      <td>NaN</td>\n",
       "      <td>NaN</td>\n",
       "      <td>NaN</td>\n",
       "      <td>NaN</td>\n",
       "    </tr>\n",
       "    <tr>\n",
       "      <th>C135</th>\n",
       "      <th>N</th>\n",
       "      <td>1.0</td>\n",
       "      <td>59.000000</td>\n",
       "      <td>59.0</td>\n",
       "      <td>59.0</td>\n",
       "      <td>1.0</td>\n",
       "      <td>53.000000</td>\n",
       "      <td>53.0</td>\n",
       "      <td>53.0</td>\n",
       "      <td>NaN</td>\n",
       "      <td>NaN</td>\n",
       "      <td>NaN</td>\n",
       "      <td>NaN</td>\n",
       "    </tr>\n",
       "    <tr>\n",
       "      <th>FMY-VTK-14-1</th>\n",
       "      <th>N</th>\n",
       "      <td>NaN</td>\n",
       "      <td>NaN</td>\n",
       "      <td>NaN</td>\n",
       "      <td>NaN</td>\n",
       "      <td>NaN</td>\n",
       "      <td>NaN</td>\n",
       "      <td>NaN</td>\n",
       "      <td>NaN</td>\n",
       "      <td>4.0</td>\n",
       "      <td>24.750000</td>\n",
       "      <td>18.0</td>\n",
       "      <td>38.0</td>\n",
       "    </tr>\n",
       "    <tr>\n",
       "      <th>nan</th>\n",
       "      <th>N</th>\n",
       "      <td>6.0</td>\n",
       "      <td>43.833333</td>\n",
       "      <td>16.0</td>\n",
       "      <td>91.0</td>\n",
       "      <td>96.0</td>\n",
       "      <td>36.395833</td>\n",
       "      <td>10.0</td>\n",
       "      <td>94.0</td>\n",
       "      <td>3.0</td>\n",
       "      <td>17.666667</td>\n",
       "      <td>17.0</td>\n",
       "      <td>19.0</td>\n",
       "    </tr>\n",
       "  </tbody>\n",
       "</table>\n",
       "<p>105 rows × 12 columns</p>\n",
       "</div>"
      ],
      "text/plain": [
       "검사방법                  무부하검사(급가속)                        부하검사(KD-147)  \\\n",
       "                           count       mean   min   max        count   \n",
       "배출가스인증번호     무부하매연판정1                                                  \n",
       "4MY-AD-20    N               1.0  51.000000  51.0  51.0          NaN   \n",
       "5MY-AD-13-06 N               1.0  51.000000  51.0  51.0          NaN   \n",
       "5MY-AD-14-08 N               NaN        NaN   NaN   NaN          1.0   \n",
       "5MY-AD-14-18 N               1.0  45.000000  45.0  45.0          3.0   \n",
       "5MY-HB-24-02 N               NaN        NaN   NaN   NaN          5.0   \n",
       "...                          ...        ...   ...   ...          ...   \n",
       "9MY-KM-14-41 N             162.0  43.469136  21.0  99.0       2081.0   \n",
       "9MY-PA-13-1  N               1.0  22.000000  22.0  22.0          NaN   \n",
       "C135         N               1.0  59.000000  59.0  59.0          1.0   \n",
       "FMY-VTK-14-1 N               NaN        NaN   NaN   NaN          NaN   \n",
       "nan          N               6.0  43.833333  16.0  91.0         96.0   \n",
       "\n",
       "검사방법                                         부하검사(LUG DOWN)                   \\\n",
       "                            mean   min   max          count       mean   min   \n",
       "배출가스인증번호     무부하매연판정1                                                          \n",
       "4MY-AD-20    N               NaN   NaN   NaN            NaN        NaN   NaN   \n",
       "5MY-AD-13-06 N               NaN   NaN   NaN            NaN        NaN   NaN   \n",
       "5MY-AD-14-08 N         65.000000  65.0  65.0            NaN        NaN   NaN   \n",
       "5MY-AD-14-18 N         31.666667  20.0  49.0            NaN        NaN   NaN   \n",
       "5MY-HB-24-02 N         48.600000  30.0  80.0            NaN        NaN   NaN   \n",
       "...                          ...   ...   ...            ...        ...   ...   \n",
       "9MY-KM-14-41 N         41.281115  16.0  99.0            1.0  21.000000  21.0   \n",
       "9MY-PA-13-1  N               NaN   NaN   NaN            NaN        NaN   NaN   \n",
       "C135         N         53.000000  53.0  53.0            NaN        NaN   NaN   \n",
       "FMY-VTK-14-1 N               NaN   NaN   NaN            4.0  24.750000  18.0   \n",
       "nan          N         36.395833  10.0  94.0            3.0  17.666667  17.0   \n",
       "\n",
       "검사방법                         \n",
       "                        max  \n",
       "배출가스인증번호     무부하매연판정1        \n",
       "4MY-AD-20    N          NaN  \n",
       "5MY-AD-13-06 N          NaN  \n",
       "5MY-AD-14-08 N          NaN  \n",
       "5MY-AD-14-18 N          NaN  \n",
       "5MY-HB-24-02 N          NaN  \n",
       "...                     ...  \n",
       "9MY-KM-14-41 N         21.0  \n",
       "9MY-PA-13-1  N          NaN  \n",
       "C135         N          NaN  \n",
       "FMY-VTK-14-1 N         38.0  \n",
       "nan          N         19.0  \n",
       "\n",
       "[105 rows x 12 columns]"
      ]
     },
     "execution_count": 126,
     "metadata": {},
     "output_type": "execute_result"
    }
   ],
   "source": [
    "gas_grp_n = total[total['무부하매연판정1'] == 'N'].groupby(['배출가스인증번호', '무부하매연판정1', '검사방법'], dropna=False)['무부하매연측정치1'].agg(['count', 'mean', 'min', 'max']).stack().unstack('검사방법').unstack()\n",
    "gas_grp_n"
   ]
  },
  {
   "cell_type": "code",
   "execution_count": 127,
   "metadata": {},
   "outputs": [
    {
     "data": {
      "text/html": [
       "<div>\n",
       "<style scoped>\n",
       "    .dataframe tbody tr th:only-of-type {\n",
       "        vertical-align: middle;\n",
       "    }\n",
       "\n",
       "    .dataframe tbody tr th {\n",
       "        vertical-align: top;\n",
       "    }\n",
       "\n",
       "    .dataframe thead th {\n",
       "        text-align: right;\n",
       "    }\n",
       "</style>\n",
       "<table border=\"1\" class=\"dataframe\">\n",
       "  <thead>\n",
       "    <tr style=\"text-align: right;\">\n",
       "      <th></th>\n",
       "      <th>검사방법</th>\n",
       "      <th>무부하검사(급가속)</th>\n",
       "      <th>부하검사(KD-147)</th>\n",
       "      <th>부하검사(LUG DOWN)</th>\n",
       "    </tr>\n",
       "    <tr>\n",
       "      <th>배출가스인증번호</th>\n",
       "      <th>무부하매연판정1</th>\n",
       "      <th></th>\n",
       "      <th></th>\n",
       "      <th></th>\n",
       "    </tr>\n",
       "  </thead>\n",
       "  <tbody>\n",
       "    <tr>\n",
       "      <th>4MY-AD-20</th>\n",
       "      <th>N</th>\n",
       "      <td>1.0</td>\n",
       "      <td>NaN</td>\n",
       "      <td>NaN</td>\n",
       "    </tr>\n",
       "    <tr>\n",
       "      <th>5MY-AD-13-06</th>\n",
       "      <th>N</th>\n",
       "      <td>1.0</td>\n",
       "      <td>NaN</td>\n",
       "      <td>NaN</td>\n",
       "    </tr>\n",
       "    <tr>\n",
       "      <th>5MY-AD-14-08</th>\n",
       "      <th>N</th>\n",
       "      <td>NaN</td>\n",
       "      <td>1.0</td>\n",
       "      <td>NaN</td>\n",
       "    </tr>\n",
       "    <tr>\n",
       "      <th>5MY-AD-14-18</th>\n",
       "      <th>N</th>\n",
       "      <td>1.0</td>\n",
       "      <td>3.0</td>\n",
       "      <td>NaN</td>\n",
       "    </tr>\n",
       "    <tr>\n",
       "      <th>5MY-HB-24-02</th>\n",
       "      <th>N</th>\n",
       "      <td>NaN</td>\n",
       "      <td>5.0</td>\n",
       "      <td>NaN</td>\n",
       "    </tr>\n",
       "    <tr>\n",
       "      <th>...</th>\n",
       "      <th>...</th>\n",
       "      <td>...</td>\n",
       "      <td>...</td>\n",
       "      <td>...</td>\n",
       "    </tr>\n",
       "    <tr>\n",
       "      <th>9MY-KM-14-41</th>\n",
       "      <th>N</th>\n",
       "      <td>162.0</td>\n",
       "      <td>2081.0</td>\n",
       "      <td>1.0</td>\n",
       "    </tr>\n",
       "    <tr>\n",
       "      <th>9MY-PA-13-1</th>\n",
       "      <th>N</th>\n",
       "      <td>1.0</td>\n",
       "      <td>NaN</td>\n",
       "      <td>NaN</td>\n",
       "    </tr>\n",
       "    <tr>\n",
       "      <th>C135</th>\n",
       "      <th>N</th>\n",
       "      <td>1.0</td>\n",
       "      <td>1.0</td>\n",
       "      <td>NaN</td>\n",
       "    </tr>\n",
       "    <tr>\n",
       "      <th>FMY-VTK-14-1</th>\n",
       "      <th>N</th>\n",
       "      <td>NaN</td>\n",
       "      <td>NaN</td>\n",
       "      <td>4.0</td>\n",
       "    </tr>\n",
       "    <tr>\n",
       "      <th>nan</th>\n",
       "      <th>N</th>\n",
       "      <td>6.0</td>\n",
       "      <td>96.0</td>\n",
       "      <td>3.0</td>\n",
       "    </tr>\n",
       "  </tbody>\n",
       "</table>\n",
       "<p>105 rows × 3 columns</p>\n",
       "</div>"
      ],
      "text/plain": [
       "검사방법                   무부하검사(급가속)  부하검사(KD-147)  부하검사(LUG DOWN)\n",
       "배출가스인증번호     무부하매연판정1                                          \n",
       "4MY-AD-20    N                1.0           NaN             NaN\n",
       "5MY-AD-13-06 N                1.0           NaN             NaN\n",
       "5MY-AD-14-08 N                NaN           1.0             NaN\n",
       "5MY-AD-14-18 N                1.0           3.0             NaN\n",
       "5MY-HB-24-02 N                NaN           5.0             NaN\n",
       "...                           ...           ...             ...\n",
       "9MY-KM-14-41 N              162.0        2081.0             1.0\n",
       "9MY-PA-13-1  N                1.0           NaN             NaN\n",
       "C135         N                1.0           1.0             NaN\n",
       "FMY-VTK-14-1 N                NaN           NaN             4.0\n",
       "nan          N                6.0          96.0             3.0\n",
       "\n",
       "[105 rows x 3 columns]"
      ]
     },
     "execution_count": 127,
     "metadata": {},
     "output_type": "execute_result"
    }
   ],
   "source": [
    "gas_grp_n_vin = total[total['무부하매연판정1'] == 'N'].groupby(['배출가스인증번호', '무부하매연판정1', '검사방법'], dropna=False)['차대번호'].agg('count').unstack()\n",
    "gas_grp_n_vin"
   ]
  },
  {
   "cell_type": "code",
   "execution_count": 128,
   "metadata": {},
   "outputs": [
    {
     "name": "stderr",
     "output_type": "stream",
     "text": [
      "C:\\Users\\kbjung\\AppData\\Local\\Temp\\ipykernel_9420\\183258868.py:1: PerformanceWarning: dropping on a non-lexsorted multi-index without a level parameter may impact performance.\n",
      "  pd.merge(gas_grp_y.reset_index(), gas_grp_n.reset_index(), on='배출가스인증번호', how='outer')\n"
     ]
    },
    {
     "data": {
      "text/html": [
       "<div>\n",
       "<style scoped>\n",
       "    .dataframe tbody tr th:only-of-type {\n",
       "        vertical-align: middle;\n",
       "    }\n",
       "\n",
       "    .dataframe tbody tr th {\n",
       "        vertical-align: top;\n",
       "    }\n",
       "\n",
       "    .dataframe thead tr th {\n",
       "        text-align: left;\n",
       "    }\n",
       "</style>\n",
       "<table border=\"1\" class=\"dataframe\">\n",
       "  <thead>\n",
       "    <tr>\n",
       "      <th>검사방법</th>\n",
       "      <th>배출가스인증번호</th>\n",
       "      <th>무부하매연판정1_x</th>\n",
       "      <th colspan=\"4\" halign=\"left\">무부하검사(TSI)</th>\n",
       "      <th colspan=\"4\" halign=\"left\">무부하검사(급가속)_x</th>\n",
       "      <th>...</th>\n",
       "      <th colspan=\"2\" halign=\"left\">무부하검사(급가속)_y</th>\n",
       "      <th colspan=\"4\" halign=\"left\">부하검사(KD-147)_y</th>\n",
       "      <th colspan=\"4\" halign=\"left\">부하검사(LUG DOWN)_y</th>\n",
       "    </tr>\n",
       "    <tr>\n",
       "      <th></th>\n",
       "      <th></th>\n",
       "      <th></th>\n",
       "      <th>count</th>\n",
       "      <th>mean</th>\n",
       "      <th>min</th>\n",
       "      <th>max</th>\n",
       "      <th>count</th>\n",
       "      <th>mean</th>\n",
       "      <th>min</th>\n",
       "      <th>max</th>\n",
       "      <th>...</th>\n",
       "      <th>min</th>\n",
       "      <th>max</th>\n",
       "      <th>count</th>\n",
       "      <th>mean</th>\n",
       "      <th>min</th>\n",
       "      <th>max</th>\n",
       "      <th>count</th>\n",
       "      <th>mean</th>\n",
       "      <th>min</th>\n",
       "      <th>max</th>\n",
       "    </tr>\n",
       "  </thead>\n",
       "  <tbody>\n",
       "    <tr>\n",
       "      <th>0</th>\n",
       "      <td>4MY-AD-20</td>\n",
       "      <td>Y</td>\n",
       "      <td>NaN</td>\n",
       "      <td>NaN</td>\n",
       "      <td>NaN</td>\n",
       "      <td>NaN</td>\n",
       "      <td>26.0</td>\n",
       "      <td>13.269231</td>\n",
       "      <td>0.0</td>\n",
       "      <td>31.0</td>\n",
       "      <td>...</td>\n",
       "      <td>51.0</td>\n",
       "      <td>51.0</td>\n",
       "      <td>NaN</td>\n",
       "      <td>NaN</td>\n",
       "      <td>NaN</td>\n",
       "      <td>NaN</td>\n",
       "      <td>NaN</td>\n",
       "      <td>NaN</td>\n",
       "      <td>NaN</td>\n",
       "      <td>NaN</td>\n",
       "    </tr>\n",
       "    <tr>\n",
       "      <th>1</th>\n",
       "      <td>4MY-DC-33</td>\n",
       "      <td>Y</td>\n",
       "      <td>NaN</td>\n",
       "      <td>NaN</td>\n",
       "      <td>NaN</td>\n",
       "      <td>NaN</td>\n",
       "      <td>2.0</td>\n",
       "      <td>0.000000</td>\n",
       "      <td>0.0</td>\n",
       "      <td>0.0</td>\n",
       "      <td>...</td>\n",
       "      <td>NaN</td>\n",
       "      <td>NaN</td>\n",
       "      <td>NaN</td>\n",
       "      <td>NaN</td>\n",
       "      <td>NaN</td>\n",
       "      <td>NaN</td>\n",
       "      <td>NaN</td>\n",
       "      <td>NaN</td>\n",
       "      <td>NaN</td>\n",
       "      <td>NaN</td>\n",
       "    </tr>\n",
       "    <tr>\n",
       "      <th>2</th>\n",
       "      <td>4MY-PA-06</td>\n",
       "      <td>Y</td>\n",
       "      <td>NaN</td>\n",
       "      <td>NaN</td>\n",
       "      <td>NaN</td>\n",
       "      <td>NaN</td>\n",
       "      <td>12.0</td>\n",
       "      <td>14.500000</td>\n",
       "      <td>0.0</td>\n",
       "      <td>40.0</td>\n",
       "      <td>...</td>\n",
       "      <td>NaN</td>\n",
       "      <td>NaN</td>\n",
       "      <td>NaN</td>\n",
       "      <td>NaN</td>\n",
       "      <td>NaN</td>\n",
       "      <td>NaN</td>\n",
       "      <td>NaN</td>\n",
       "      <td>NaN</td>\n",
       "      <td>NaN</td>\n",
       "      <td>NaN</td>\n",
       "    </tr>\n",
       "    <tr>\n",
       "      <th>3</th>\n",
       "      <td>5MY-AD-13-06</td>\n",
       "      <td>Y</td>\n",
       "      <td>NaN</td>\n",
       "      <td>NaN</td>\n",
       "      <td>NaN</td>\n",
       "      <td>NaN</td>\n",
       "      <td>311.0</td>\n",
       "      <td>1.202572</td>\n",
       "      <td>0.0</td>\n",
       "      <td>27.0</td>\n",
       "      <td>...</td>\n",
       "      <td>51.0</td>\n",
       "      <td>51.0</td>\n",
       "      <td>NaN</td>\n",
       "      <td>NaN</td>\n",
       "      <td>NaN</td>\n",
       "      <td>NaN</td>\n",
       "      <td>NaN</td>\n",
       "      <td>NaN</td>\n",
       "      <td>NaN</td>\n",
       "      <td>NaN</td>\n",
       "    </tr>\n",
       "    <tr>\n",
       "      <th>4</th>\n",
       "      <td>5MY-AD-13-07</td>\n",
       "      <td>Y</td>\n",
       "      <td>NaN</td>\n",
       "      <td>NaN</td>\n",
       "      <td>NaN</td>\n",
       "      <td>NaN</td>\n",
       "      <td>108.0</td>\n",
       "      <td>1.712963</td>\n",
       "      <td>0.0</td>\n",
       "      <td>45.0</td>\n",
       "      <td>...</td>\n",
       "      <td>NaN</td>\n",
       "      <td>NaN</td>\n",
       "      <td>NaN</td>\n",
       "      <td>NaN</td>\n",
       "      <td>NaN</td>\n",
       "      <td>NaN</td>\n",
       "      <td>NaN</td>\n",
       "      <td>NaN</td>\n",
       "      <td>NaN</td>\n",
       "      <td>NaN</td>\n",
       "    </tr>\n",
       "    <tr>\n",
       "      <th>...</th>\n",
       "      <td>...</td>\n",
       "      <td>...</td>\n",
       "      <td>...</td>\n",
       "      <td>...</td>\n",
       "      <td>...</td>\n",
       "      <td>...</td>\n",
       "      <td>...</td>\n",
       "      <td>...</td>\n",
       "      <td>...</td>\n",
       "      <td>...</td>\n",
       "      <td>...</td>\n",
       "      <td>...</td>\n",
       "      <td>...</td>\n",
       "      <td>...</td>\n",
       "      <td>...</td>\n",
       "      <td>...</td>\n",
       "      <td>...</td>\n",
       "      <td>...</td>\n",
       "      <td>...</td>\n",
       "      <td>...</td>\n",
       "      <td>...</td>\n",
       "    </tr>\n",
       "    <tr>\n",
       "      <th>201</th>\n",
       "      <td>FMY-VTK-14-2</td>\n",
       "      <td>Y</td>\n",
       "      <td>NaN</td>\n",
       "      <td>NaN</td>\n",
       "      <td>NaN</td>\n",
       "      <td>NaN</td>\n",
       "      <td>13.0</td>\n",
       "      <td>0.000000</td>\n",
       "      <td>0.0</td>\n",
       "      <td>0.0</td>\n",
       "      <td>...</td>\n",
       "      <td>NaN</td>\n",
       "      <td>NaN</td>\n",
       "      <td>NaN</td>\n",
       "      <td>NaN</td>\n",
       "      <td>NaN</td>\n",
       "      <td>NaN</td>\n",
       "      <td>NaN</td>\n",
       "      <td>NaN</td>\n",
       "      <td>NaN</td>\n",
       "      <td>NaN</td>\n",
       "    </tr>\n",
       "    <tr>\n",
       "      <th>202</th>\n",
       "      <td>FMY-VTK-14-3</td>\n",
       "      <td>Y</td>\n",
       "      <td>NaN</td>\n",
       "      <td>NaN</td>\n",
       "      <td>NaN</td>\n",
       "      <td>NaN</td>\n",
       "      <td>11.0</td>\n",
       "      <td>0.000000</td>\n",
       "      <td>0.0</td>\n",
       "      <td>0.0</td>\n",
       "      <td>...</td>\n",
       "      <td>NaN</td>\n",
       "      <td>NaN</td>\n",
       "      <td>NaN</td>\n",
       "      <td>NaN</td>\n",
       "      <td>NaN</td>\n",
       "      <td>NaN</td>\n",
       "      <td>NaN</td>\n",
       "      <td>NaN</td>\n",
       "      <td>NaN</td>\n",
       "      <td>NaN</td>\n",
       "    </tr>\n",
       "    <tr>\n",
       "      <th>203</th>\n",
       "      <td>FMY-VTK-14-4</td>\n",
       "      <td>Y</td>\n",
       "      <td>NaN</td>\n",
       "      <td>NaN</td>\n",
       "      <td>NaN</td>\n",
       "      <td>NaN</td>\n",
       "      <td>25.0</td>\n",
       "      <td>1.360000</td>\n",
       "      <td>0.0</td>\n",
       "      <td>21.0</td>\n",
       "      <td>...</td>\n",
       "      <td>NaN</td>\n",
       "      <td>NaN</td>\n",
       "      <td>NaN</td>\n",
       "      <td>NaN</td>\n",
       "      <td>NaN</td>\n",
       "      <td>NaN</td>\n",
       "      <td>NaN</td>\n",
       "      <td>NaN</td>\n",
       "      <td>NaN</td>\n",
       "      <td>NaN</td>\n",
       "    </tr>\n",
       "    <tr>\n",
       "      <th>204</th>\n",
       "      <td>nan</td>\n",
       "      <td>Y</td>\n",
       "      <td>1.0</td>\n",
       "      <td>0.0</td>\n",
       "      <td>0.0</td>\n",
       "      <td>0.0</td>\n",
       "      <td>1939.0</td>\n",
       "      <td>2.832388</td>\n",
       "      <td>0.0</td>\n",
       "      <td>41.0</td>\n",
       "      <td>...</td>\n",
       "      <td>16.0</td>\n",
       "      <td>91.0</td>\n",
       "      <td>96.0</td>\n",
       "      <td>36.395833</td>\n",
       "      <td>10.0</td>\n",
       "      <td>94.0</td>\n",
       "      <td>3.0</td>\n",
       "      <td>17.666667</td>\n",
       "      <td>17.0</td>\n",
       "      <td>19.0</td>\n",
       "    </tr>\n",
       "    <tr>\n",
       "      <th>205</th>\n",
       "      <td>8MY-BD-0M-24</td>\n",
       "      <td>NaN</td>\n",
       "      <td>NaN</td>\n",
       "      <td>NaN</td>\n",
       "      <td>NaN</td>\n",
       "      <td>NaN</td>\n",
       "      <td>NaN</td>\n",
       "      <td>NaN</td>\n",
       "      <td>NaN</td>\n",
       "      <td>NaN</td>\n",
       "      <td>...</td>\n",
       "      <td>NaN</td>\n",
       "      <td>NaN</td>\n",
       "      <td>NaN</td>\n",
       "      <td>NaN</td>\n",
       "      <td>NaN</td>\n",
       "      <td>NaN</td>\n",
       "      <td>1.0</td>\n",
       "      <td>16.000000</td>\n",
       "      <td>16.0</td>\n",
       "      <td>16.0</td>\n",
       "    </tr>\n",
       "  </tbody>\n",
       "</table>\n",
       "<p>206 rows × 39 columns</p>\n",
       "</div>"
      ],
      "text/plain": [
       "검사방법      배출가스인증번호 무부하매연판정1_x 무부하검사(TSI)                무부하검사(급가속)_x  \\\n",
       "                                   count mean  min  max        count   \n",
       "0        4MY-AD-20          Y        NaN  NaN  NaN  NaN         26.0   \n",
       "1        4MY-DC-33          Y        NaN  NaN  NaN  NaN          2.0   \n",
       "2        4MY-PA-06          Y        NaN  NaN  NaN  NaN         12.0   \n",
       "3     5MY-AD-13-06          Y        NaN  NaN  NaN  NaN        311.0   \n",
       "4     5MY-AD-13-07          Y        NaN  NaN  NaN  NaN        108.0   \n",
       "..             ...        ...        ...  ...  ...  ...          ...   \n",
       "201   FMY-VTK-14-2          Y        NaN  NaN  NaN  NaN         13.0   \n",
       "202   FMY-VTK-14-3          Y        NaN  NaN  NaN  NaN         11.0   \n",
       "203   FMY-VTK-14-4          Y        NaN  NaN  NaN  NaN         25.0   \n",
       "204            nan          Y        1.0  0.0  0.0  0.0       1939.0   \n",
       "205   8MY-BD-0M-24        NaN        NaN  NaN  NaN  NaN          NaN   \n",
       "\n",
       "검사방법                        ... 무부하검사(급가속)_y       부하검사(KD-147)_y             \\\n",
       "           mean  min   max  ...          min   max          count       mean   \n",
       "0     13.269231  0.0  31.0  ...         51.0  51.0            NaN        NaN   \n",
       "1      0.000000  0.0   0.0  ...          NaN   NaN            NaN        NaN   \n",
       "2     14.500000  0.0  40.0  ...          NaN   NaN            NaN        NaN   \n",
       "3      1.202572  0.0  27.0  ...         51.0  51.0            NaN        NaN   \n",
       "4      1.712963  0.0  45.0  ...          NaN   NaN            NaN        NaN   \n",
       "..          ...  ...   ...  ...          ...   ...            ...        ...   \n",
       "201    0.000000  0.0   0.0  ...          NaN   NaN            NaN        NaN   \n",
       "202    0.000000  0.0   0.0  ...          NaN   NaN            NaN        NaN   \n",
       "203    1.360000  0.0  21.0  ...          NaN   NaN            NaN        NaN   \n",
       "204    2.832388  0.0  41.0  ...         16.0  91.0           96.0  36.395833   \n",
       "205         NaN  NaN   NaN  ...          NaN   NaN            NaN        NaN   \n",
       "\n",
       "검사방법             부하검사(LUG DOWN)_y                         \n",
       "       min   max            count       mean   min   max  \n",
       "0      NaN   NaN              NaN        NaN   NaN   NaN  \n",
       "1      NaN   NaN              NaN        NaN   NaN   NaN  \n",
       "2      NaN   NaN              NaN        NaN   NaN   NaN  \n",
       "3      NaN   NaN              NaN        NaN   NaN   NaN  \n",
       "4      NaN   NaN              NaN        NaN   NaN   NaN  \n",
       "..     ...   ...              ...        ...   ...   ...  \n",
       "201    NaN   NaN              NaN        NaN   NaN   NaN  \n",
       "202    NaN   NaN              NaN        NaN   NaN   NaN  \n",
       "203    NaN   NaN              NaN        NaN   NaN   NaN  \n",
       "204   10.0  94.0              3.0  17.666667  17.0  19.0  \n",
       "205    NaN   NaN              1.0  16.000000  16.0  16.0  \n",
       "\n",
       "[206 rows x 39 columns]"
      ]
     },
     "execution_count": 128,
     "metadata": {},
     "output_type": "execute_result"
    }
   ],
   "source": [
    "pd.merge(gas_grp_y.reset_index(), gas_grp_n.reset_index(), on='배출가스인증번호', how='outer')"
   ]
  },
  {
   "attachments": {},
   "cell_type": "markdown",
   "metadata": {},
   "source": [
    "## Export [BD1][통계][G4]배인번호별_검사방법별_매연측정치_통계"
   ]
  },
  {
   "cell_type": "code",
   "execution_count": 129,
   "metadata": {},
   "outputs": [
    {
     "name": "stderr",
     "output_type": "stream",
     "text": [
      "C:\\Users\\kbjung\\AppData\\Local\\Temp\\ipykernel_9420\\1178978199.py:13: PerformanceWarning: dropping on a non-lexsorted multi-index without a level parameter may impact performance.\n",
      "  pd.merge(gas_grp_y.reset_index(), gas_grp_n.reset_index(), on='배출가스인증번호', how='outer').to_excel(writer, sheet_name='합격_불합격_매연측정치_통계_비교')\n"
     ]
    }
   ],
   "source": [
    "with pd.ExcelWriter('analysis2/4등급_데이터_점검/[BD1][통계][G4]배인번호별_검사방법별_매연측정치_통계.xlsx') as writer:\n",
    "    # 전체 합격/불합격별 대수 통계\n",
    "    gas_total_group.to_excel(writer, sheet_name='판정별_통계')\n",
    "    # 배출가스인증번호, 판정별 매연측정치 통계\n",
    "    gas_grp.to_excel(writer, sheet_name = '매연측정치_통계')\n",
    "    gas_vin_grp.to_excel(writer, sheet_name = '매연측정치_차대번호_통계')\n",
    "    # 매연판정 합격/불합격별 매연측정치 통계\n",
    "    gas_grp_y.to_excel(writer, sheet_name='합격_매연측정치_통계')\n",
    "    gas_grp_y_vin.to_excel(writer, sheet_name='합격_매연측정치_차대번호_통계')\n",
    "    gas_grp_n.to_excel(writer, sheet_name='불합격_매연측정치_통계')\n",
    "    gas_grp_n_vin.to_excel(writer, sheet_name='불합격_매연측정치_차대번호_통계')\n",
    "    # 합격/불합격 매연측정치 비교 통계\n",
    "    pd.merge(gas_grp_y.reset_index(), gas_grp_n.reset_index(), on='배출가스인증번호', how='outer').to_excel(writer, sheet_name='합격_불합격_매연측정치_통계_비교')"
   ]
  },
  {
   "attachments": {},
   "cell_type": "markdown",
   "metadata": {},
   "source": [
    "## 3등급, 5등급에 동일 배출가스인증번호 존재 여부 확인"
   ]
  },
  {
   "cell_type": "code",
   "execution_count": 145,
   "metadata": {},
   "outputs": [
    {
     "data": {
      "text/plain": [
       "Index(['차대번호', '차량번호_x', '제원관리번호', '차종_원본', '용도', '최초등록일', '연식', '제작일자',\n",
       "       '검사유효일', '배출가스인증번호', '등급', '차명_x', '차종분류', '차종유형', '자동차형식', '제작사명',\n",
       "       '연료', '엔진형식_x', '총중량', '적재중량', '엔진출력', '배기량', '법정동코드', '시도명', '시군구명',\n",
       "       '소유자구분', '말소여부', '일치유무', '사용연료', '주행거리', '차명_y', '차량번호_y', '차종', '차량연식',\n",
       "       '엔진형식_y', '검사방법', '검사일자', '검사종류', '검사판정시각', '검사판정', '산소값', '이산화탄소값',\n",
       "       '무부하매연판정1', '무부하매연판정2', '무부하매연판정3', '무부하매연판정4', '무부하매연판정5', '무부하매연판정6',\n",
       "       '무부하매연허용치1', '무부하매연허용치2', '무부하매연허용치3', '무부하매연허용치4', '무부하매연허용치5',\n",
       "       '무부하매연허용치6', '무부하매연측정치1', '무부하매연측정치2', '무부하매연측정치3', '무부하매연측정치4',\n",
       "       '무부하매연측정치5', '무부하매연측정치6', '정기정밀', 'vin10', 'vin_year'],\n",
       "      dtype='object')"
      ]
     },
     "execution_count": 145,
     "metadata": {},
     "output_type": "execute_result"
    }
   ],
   "source": [
    "total.columns"
   ]
  },
  {
   "cell_type": "code",
   "execution_count": 146,
   "metadata": {},
   "outputs": [
    {
     "name": "stderr",
     "output_type": "stream",
     "text": [
      "100%|██████████| 206/206 [00:16<00:00, 12.70it/s]\n"
     ]
    },
    {
     "data": {
      "text/plain": [
       "(206, 206, 206)"
      ]
     },
     "execution_count": 146,
     "metadata": {},
     "output_type": "execute_result"
    }
   ],
   "source": [
    "# about 59s\n",
    "gasnm_list = []\n",
    "car_y_list = []\n",
    "vin10_y_list = []\n",
    "for one in tqdm(total['배출가스인증번호'].unique()):\n",
    "    temp = total[total['배출가스인증번호'] == one].reset_index(drop=True)\n",
    "    try:\n",
    "        cary_min = int(temp['차량연식'].min())\n",
    "        cary_max = int(temp['차량연식'].max())\n",
    "    except:\n",
    "        cary_min = temp['차량연식'].min()\n",
    "        cary_max = temp['차량연식'].max()\n",
    "\n",
    "    car_y_list.append(f'{cary_min}-{cary_max}')\n",
    "    try:\n",
    "        vin10y_min = int(temp['vin_year'].min())\n",
    "        vin10y_max = int(temp['vin_year'].max())\n",
    "    except:\n",
    "        vin10y_min = temp['vin_year'].min()\n",
    "        vin10y_max = temp['vin_year'].max()\n",
    "    vin10_y_list.append(f'{vin10y_min}-{vin10y_max}')\n",
    "    \n",
    "    gasnm_list.append(one)\n",
    "len(gasnm_list), len(car_y_list), len(vin10_y_list)"
   ]
  },
  {
   "cell_type": "code",
   "execution_count": 147,
   "metadata": {},
   "outputs": [
    {
     "data": {
      "text/plain": [
       "(206, 3)"
      ]
     },
     "execution_count": 147,
     "metadata": {},
     "output_type": "execute_result"
    }
   ],
   "source": [
    "year_df = pd.DataFrame({'배출가스인증번호':gasnm_list, '차량연식_범위':car_y_list, 'vin10자리연식_범위':vin10_y_list})\n",
    "year_df.shape"
   ]
  },
  {
   "cell_type": "code",
   "execution_count": 148,
   "metadata": {},
   "outputs": [
    {
     "name": "stderr",
     "output_type": "stream",
     "text": [
      "100%|██████████| 206/206 [00:16<00:00, 12.63it/s]\n"
     ]
    },
    {
     "data": {
      "text/plain": [
       "(206, 206, 206, 206, 206)"
      ]
     },
     "execution_count": 148,
     "metadata": {},
     "output_type": "execute_result"
    }
   ],
   "source": [
    "# about 16s\n",
    "gas3 = g3['배출가스인증번호'].unique()\n",
    "gas5 = g5['배출가스인증번호'].unique()\n",
    "\n",
    "gasnm_list = []\n",
    "gas3_jud_list = []\n",
    "gas5_jud_list = []\n",
    "gas3_num_car_list = []\n",
    "gas5_num_car_list = []\n",
    "\n",
    "for one in tqdm(total['배출가스인증번호'].unique()):\n",
    "    if one in gas3:\n",
    "        gas3_jud_list.append('Y')\n",
    "        n3 = g3[g3['배출가스인증번호'] == one].shape[0]\n",
    "        gas3_num_car_list.append(n3)\n",
    "    else:\n",
    "        gas3_jud_list.append('N')\n",
    "        gas3_num_car_list.append(0)\n",
    "    if one in gas5:\n",
    "        gas5_jud_list.append('Y')\n",
    "        n5 = g5[g5['배출가스인증번호'] == one].shape[0]\n",
    "        gas5_num_car_list.append(n5)\n",
    "    else:\n",
    "        gas5_jud_list.append('N')\n",
    "        gas5_num_car_list.append(0)\n",
    "    gasnm_list.append(one)\n",
    "len(gasnm_list), len(gas3_jud_list), len(gas3_num_car_list), len(gas5_num_car_list), len(gas5_jud_list)"
   ]
  },
  {
   "cell_type": "code",
   "execution_count": 149,
   "metadata": {},
   "outputs": [
    {
     "data": {
      "text/html": [
       "<div>\n",
       "<style scoped>\n",
       "    .dataframe tbody tr th:only-of-type {\n",
       "        vertical-align: middle;\n",
       "    }\n",
       "\n",
       "    .dataframe tbody tr th {\n",
       "        vertical-align: top;\n",
       "    }\n",
       "\n",
       "    .dataframe thead th {\n",
       "        text-align: right;\n",
       "    }\n",
       "</style>\n",
       "<table border=\"1\" class=\"dataframe\">\n",
       "  <thead>\n",
       "    <tr style=\"text-align: right;\">\n",
       "      <th></th>\n",
       "      <th>배출가스인증번호</th>\n",
       "      <th>3등급에_존재</th>\n",
       "      <th>5등급에_존재</th>\n",
       "      <th>3등급에_존재_차량_대수</th>\n",
       "      <th>5등급에_존재_차량_대수</th>\n",
       "    </tr>\n",
       "  </thead>\n",
       "  <tbody>\n",
       "    <tr>\n",
       "      <th>0</th>\n",
       "      <td>9MY-KM-14-41</td>\n",
       "      <td>N</td>\n",
       "      <td>Y</td>\n",
       "      <td>0</td>\n",
       "      <td>36</td>\n",
       "    </tr>\n",
       "    <tr>\n",
       "      <th>1</th>\n",
       "      <td>7MY-SY-14-60</td>\n",
       "      <td>N</td>\n",
       "      <td>N</td>\n",
       "      <td>0</td>\n",
       "      <td>0</td>\n",
       "    </tr>\n",
       "    <tr>\n",
       "      <th>2</th>\n",
       "      <td>9MY-KM-14-22</td>\n",
       "      <td>Y</td>\n",
       "      <td>N</td>\n",
       "      <td>87217</td>\n",
       "      <td>0</td>\n",
       "    </tr>\n",
       "    <tr>\n",
       "      <th>3</th>\n",
       "      <td>nan</td>\n",
       "      <td>N</td>\n",
       "      <td>N</td>\n",
       "      <td>0</td>\n",
       "      <td>0</td>\n",
       "    </tr>\n",
       "    <tr>\n",
       "      <th>4</th>\n",
       "      <td>7MY-HD-14-47</td>\n",
       "      <td>N</td>\n",
       "      <td>N</td>\n",
       "      <td>0</td>\n",
       "      <td>0</td>\n",
       "    </tr>\n",
       "  </tbody>\n",
       "</table>\n",
       "</div>"
      ],
      "text/plain": [
       "       배출가스인증번호 3등급에_존재 5등급에_존재  3등급에_존재_차량_대수  5등급에_존재_차량_대수\n",
       "0  9MY-KM-14-41       N       Y              0             36\n",
       "1  7MY-SY-14-60       N       N              0              0\n",
       "2  9MY-KM-14-22       Y       N          87217              0\n",
       "3           nan       N       N              0              0\n",
       "4  7MY-HD-14-47       N       N              0              0"
      ]
     },
     "execution_count": 149,
     "metadata": {},
     "output_type": "execute_result"
    }
   ],
   "source": [
    "gas35_jud_df = pd.DataFrame({'배출가스인증번호': gasnm_list, '3등급에_존재':gas3_jud_list, '5등급에_존재':gas5_jud_list, '3등급에_존재_차량_대수':gas3_num_car_list, '5등급에_존재_차량_대수':gas5_num_car_list})\n",
    "gas35_jud_df.head()"
   ]
  },
  {
   "cell_type": "code",
   "execution_count": 150,
   "metadata": {},
   "outputs": [
    {
     "data": {
      "text/html": [
       "<div>\n",
       "<style scoped>\n",
       "    .dataframe tbody tr th:only-of-type {\n",
       "        vertical-align: middle;\n",
       "    }\n",
       "\n",
       "    .dataframe tbody tr th {\n",
       "        vertical-align: top;\n",
       "    }\n",
       "\n",
       "    .dataframe thead th {\n",
       "        text-align: right;\n",
       "    }\n",
       "</style>\n",
       "<table border=\"1\" class=\"dataframe\">\n",
       "  <thead>\n",
       "    <tr style=\"text-align: right;\">\n",
       "      <th></th>\n",
       "      <th>배출가스인증번호</th>\n",
       "      <th>차대번호</th>\n",
       "    </tr>\n",
       "  </thead>\n",
       "  <tbody>\n",
       "    <tr>\n",
       "      <th>0</th>\n",
       "      <td>4MY-AD-20</td>\n",
       "      <td>29</td>\n",
       "    </tr>\n",
       "    <tr>\n",
       "      <th>1</th>\n",
       "      <td>4MY-DC-33</td>\n",
       "      <td>7</td>\n",
       "    </tr>\n",
       "    <tr>\n",
       "      <th>2</th>\n",
       "      <td>4MY-PA-06</td>\n",
       "      <td>13</td>\n",
       "    </tr>\n",
       "    <tr>\n",
       "      <th>3</th>\n",
       "      <td>5MY-AD-13-06</td>\n",
       "      <td>348</td>\n",
       "    </tr>\n",
       "    <tr>\n",
       "      <th>4</th>\n",
       "      <td>5MY-AD-13-07</td>\n",
       "      <td>118</td>\n",
       "    </tr>\n",
       "  </tbody>\n",
       "</table>\n",
       "</div>"
      ],
      "text/plain": [
       "       배출가스인증번호  차대번호\n",
       "0     4MY-AD-20    29\n",
       "1     4MY-DC-33     7\n",
       "2     4MY-PA-06    13\n",
       "3  5MY-AD-13-06   348\n",
       "4  5MY-AD-13-07   118"
      ]
     },
     "execution_count": 150,
     "metadata": {},
     "output_type": "execute_result"
    }
   ],
   "source": [
    "g4_gasnm_grp = total.groupby(['배출가스인증번호'], as_index=False)['차대번호'].count()\n",
    "g4_gasnm_grp.head()"
   ]
  },
  {
   "cell_type": "code",
   "execution_count": 151,
   "metadata": {},
   "outputs": [
    {
     "data": {
      "text/plain": [
       "(206, 4)"
      ]
     },
     "execution_count": 151,
     "metadata": {},
     "output_type": "execute_result"
    }
   ],
   "source": [
    "g4_gasnm_info1 = g4_gasnm_grp.merge(year_df, on='배출가스인증번호', how='left')\n",
    "g4_gasnm_info1.shape"
   ]
  },
  {
   "cell_type": "code",
   "execution_count": 152,
   "metadata": {},
   "outputs": [
    {
     "data": {
      "text/plain": [
       "(206, 8)"
      ]
     },
     "execution_count": 152,
     "metadata": {},
     "output_type": "execute_result"
    }
   ],
   "source": [
    "g4_gasnm_info2 = g4_gasnm_info1.merge(gas35_jud_df, on='배출가스인증번호', how='left')\n",
    "g4_gasnm_info2.shape"
   ]
  },
  {
   "attachments": {},
   "cell_type": "markdown",
   "metadata": {},
   "source": [
    "### [출력] 4등급과_3등급_5등급_동일_배출가스인증번호_대수"
   ]
  },
  {
   "cell_type": "code",
   "execution_count": 153,
   "metadata": {},
   "outputs": [],
   "source": [
    "g4_gasnm_info2.to_excel('analysis2/4등급_데이터_점검/[통계][배출가스인증번호별]4등급과_3등급_5등급_동일_배출가스인증번호_대수.xlsx', index=False)"
   ]
  },
  {
   "attachments": {},
   "cell_type": "markdown",
   "metadata": {},
   "source": [
    "### 배인번호별 추가 컬럼\n",
    "- 제작사, 엔진형식, 3등급에 존재 차량대수, 5등급에 존재 차량 대수, DPF 유무"
   ]
  },
  {
   "attachments": {},
   "cell_type": "markdown",
   "metadata": {},
   "source": [
    "#### [로드] euro4"
   ]
  },
  {
   "cell_type": "code",
   "execution_count": 154,
   "metadata": {},
   "outputs": [
    {
     "data": {
      "text/html": [
       "<div>\n",
       "<style scoped>\n",
       "    .dataframe tbody tr th:only-of-type {\n",
       "        vertical-align: middle;\n",
       "    }\n",
       "\n",
       "    .dataframe tbody tr th {\n",
       "        vertical-align: top;\n",
       "    }\n",
       "\n",
       "    .dataframe thead th {\n",
       "        text-align: right;\n",
       "    }\n",
       "</style>\n",
       "<table border=\"1\" class=\"dataframe\">\n",
       "  <thead>\n",
       "    <tr style=\"text-align: right;\">\n",
       "      <th></th>\n",
       "      <th>배출가스인증번호</th>\n",
       "      <th>DPF유무</th>\n",
       "    </tr>\n",
       "  </thead>\n",
       "  <tbody>\n",
       "    <tr>\n",
       "      <th>0</th>\n",
       "      <td>5MY-HD-24-59</td>\n",
       "      <td>유</td>\n",
       "    </tr>\n",
       "    <tr>\n",
       "      <th>1</th>\n",
       "      <td>6MY-HD-24-100</td>\n",
       "      <td>유</td>\n",
       "    </tr>\n",
       "    <tr>\n",
       "      <th>2</th>\n",
       "      <td>7MY-HD-24-57</td>\n",
       "      <td>무</td>\n",
       "    </tr>\n",
       "    <tr>\n",
       "      <th>3</th>\n",
       "      <td>7MY-HD-13-58</td>\n",
       "      <td>유</td>\n",
       "    </tr>\n",
       "    <tr>\n",
       "      <th>4</th>\n",
       "      <td>5MY-HD-24-35</td>\n",
       "      <td>무</td>\n",
       "    </tr>\n",
       "    <tr>\n",
       "      <th>...</th>\n",
       "      <td>...</td>\n",
       "      <td>...</td>\n",
       "    </tr>\n",
       "    <tr>\n",
       "      <th>77</th>\n",
       "      <td>8MY-FK-14-1</td>\n",
       "      <td>유</td>\n",
       "    </tr>\n",
       "    <tr>\n",
       "      <th>78</th>\n",
       "      <td>8MY-FK-14-2</td>\n",
       "      <td>유</td>\n",
       "    </tr>\n",
       "    <tr>\n",
       "      <th>79</th>\n",
       "      <td>5MY-HB-14-1</td>\n",
       "      <td>유</td>\n",
       "    </tr>\n",
       "    <tr>\n",
       "      <th>80</th>\n",
       "      <td>5MY-HB-14-4</td>\n",
       "      <td>유</td>\n",
       "    </tr>\n",
       "    <tr>\n",
       "      <th>81</th>\n",
       "      <td>8MY-HB-14-1</td>\n",
       "      <td>유</td>\n",
       "    </tr>\n",
       "  </tbody>\n",
       "</table>\n",
       "<p>82 rows × 2 columns</p>\n",
       "</div>"
      ],
      "text/plain": [
       "         배출가스인증번호 DPF유무\n",
       "0    5MY-HD-24-59     유\n",
       "1   6MY-HD-24-100     유\n",
       "2    7MY-HD-24-57     무\n",
       "3    7MY-HD-13-58     유\n",
       "4    5MY-HD-24-35     무\n",
       "..            ...   ...\n",
       "77    8MY-FK-14-1     유\n",
       "78    8MY-FK-14-2     유\n",
       "79    5MY-HB-14-1     유\n",
       "80    5MY-HB-14-4     유\n",
       "81    8MY-HB-14-1     유\n",
       "\n",
       "[82 rows x 2 columns]"
      ]
     },
     "execution_count": 154,
     "metadata": {},
     "output_type": "execute_result"
    }
   ],
   "source": [
    "euro = pd.read_excel(os.path.join('D:/data/big2', 'dpf.xlsx'))\n",
    "euro"
   ]
  },
  {
   "cell_type": "code",
   "execution_count": 155,
   "metadata": {},
   "outputs": [
    {
     "data": {
      "text/plain": [
       "무    857433\n",
       "유    296380\n",
       "Name: DPF유무, dtype: int64"
      ]
     },
     "execution_count": 155,
     "metadata": {},
     "output_type": "execute_result"
    }
   ],
   "source": [
    "tot1 = total.merge(euro, on='배출가스인증번호', how='left')\n",
    "tot1['DPF유무'] = tot1['DPF유무'].fillna('무')\n",
    "tot1['DPF유무'].value_counts(dropna=True)"
   ]
  },
  {
   "cell_type": "code",
   "execution_count": 156,
   "metadata": {},
   "outputs": [
    {
     "data": {
      "text/plain": [
       "(1153813, 64)"
      ]
     },
     "execution_count": 156,
     "metadata": {},
     "output_type": "execute_result"
    }
   ],
   "source": [
    "tot1.shape"
   ]
  },
  {
   "cell_type": "code",
   "execution_count": 157,
   "metadata": {},
   "outputs": [
    {
     "data": {
      "text/plain": [
       "Index(['차대번호', '차량번호_x', '제원관리번호', '차종_원본', '용도', '최초등록일', '연식', '제작일자',\n",
       "       '검사유효일', '배출가스인증번호', '등급', '차명_x', '차종분류', '차종유형', '자동차형식', '제작사명',\n",
       "       '연료', '엔진형식_x', '총중량', '적재중량', '엔진출력', '배기량', '법정동코드', '시도명', '시군구명',\n",
       "       '소유자구분', '말소여부', '일치유무', '사용연료', '주행거리', '차명_y', '차량번호_y', '차종', '차량연식',\n",
       "       '엔진형식_y', '검사방법', '검사일자', '검사종류', '검사판정시각', '검사판정', '산소값', '이산화탄소값',\n",
       "       '무부하매연판정1', '무부하매연판정2', '무부하매연판정3', '무부하매연판정4', '무부하매연판정5', '무부하매연판정6',\n",
       "       '무부하매연허용치1', '무부하매연허용치2', '무부하매연허용치3', '무부하매연허용치4', '무부하매연허용치5',\n",
       "       '무부하매연허용치6', '무부하매연측정치1', '무부하매연측정치2', '무부하매연측정치3', '무부하매연측정치4',\n",
       "       '무부하매연측정치5', '무부하매연측정치6', '정기정밀', 'vin10', 'vin_year', 'DPF유무'],\n",
       "      dtype='object')"
      ]
     },
     "execution_count": 157,
     "metadata": {},
     "output_type": "execute_result"
    }
   ],
   "source": [
    "tot1.columns"
   ]
  },
  {
   "cell_type": "code",
   "execution_count": 158,
   "metadata": {},
   "outputs": [
    {
     "name": "stderr",
     "output_type": "stream",
     "text": [
      "100%|██████████| 206/206 [00:17<00:00, 12.00it/s]\n"
     ]
    },
    {
     "data": {
      "text/plain": [
       "(1069, 11)"
      ]
     },
     "execution_count": 158,
     "metadata": {},
     "output_type": "execute_result"
    }
   ],
   "source": [
    "# about 16s\n",
    "total_ss = pd.DataFrame()\n",
    "for one in tqdm(g4_gasnm_info2['배출가스인증번호'].unique()):\n",
    "    s1 = g4_gasnm_info2[g4_gasnm_info2['배출가스인증번호'] == one]\n",
    "    temp = tot1[tot1['배출가스인증번호'] == one]\n",
    "    s2 = pd.DataFrame(temp['제작사명'].dropna().unique())\n",
    "    s3 = pd.DataFrame(temp['엔진형식_x'].dropna().unique())\n",
    "    s4 = pd.DataFrame(temp['DPF유무'].dropna().unique())\n",
    "    ss = pd.concat([s1, s2, s3, s4], axis=1)\n",
    "    total_ss = pd.concat([total_ss, ss], ignore_index=True)\n",
    "total_ss.shape"
   ]
  },
  {
   "cell_type": "code",
   "execution_count": 159,
   "metadata": {},
   "outputs": [
    {
     "data": {
      "text/html": [
       "<div>\n",
       "<style scoped>\n",
       "    .dataframe tbody tr th:only-of-type {\n",
       "        vertical-align: middle;\n",
       "    }\n",
       "\n",
       "    .dataframe tbody tr th {\n",
       "        vertical-align: top;\n",
       "    }\n",
       "\n",
       "    .dataframe thead th {\n",
       "        text-align: right;\n",
       "    }\n",
       "</style>\n",
       "<table border=\"1\" class=\"dataframe\">\n",
       "  <thead>\n",
       "    <tr style=\"text-align: right;\">\n",
       "      <th></th>\n",
       "      <th>배출가스인증번호</th>\n",
       "      <th>차대번호</th>\n",
       "      <th>차량연식_범위</th>\n",
       "      <th>vin10자리연식_범위</th>\n",
       "      <th>3등급에_존재</th>\n",
       "      <th>5등급에_존재</th>\n",
       "      <th>3등급에_존재_차량_대수</th>\n",
       "      <th>5등급에_존재_차량_대수</th>\n",
       "      <th>0</th>\n",
       "      <th>0</th>\n",
       "      <th>0</th>\n",
       "    </tr>\n",
       "  </thead>\n",
       "  <tbody>\n",
       "    <tr>\n",
       "      <th>0</th>\n",
       "      <td>4MY-AD-20</td>\n",
       "      <td>29.0</td>\n",
       "      <td>2006-2006</td>\n",
       "      <td>2006-2006</td>\n",
       "      <td>N</td>\n",
       "      <td>N</td>\n",
       "      <td>0.0</td>\n",
       "      <td>0.0</td>\n",
       "      <td>아우디폭스바겐코리아(주)</td>\n",
       "      <td>BMK</td>\n",
       "      <td>무</td>\n",
       "    </tr>\n",
       "    <tr>\n",
       "      <th>1</th>\n",
       "      <td>4MY-DC-33</td>\n",
       "      <td>7.0</td>\n",
       "      <td>2007-2007</td>\n",
       "      <td>2007-2007</td>\n",
       "      <td>N</td>\n",
       "      <td>Y</td>\n",
       "      <td>0.0</td>\n",
       "      <td>1502.0</td>\n",
       "      <td>NaN</td>\n",
       "      <td>NaN</td>\n",
       "      <td>NaN</td>\n",
       "    </tr>\n",
       "    <tr>\n",
       "      <th>2</th>\n",
       "      <td>NaN</td>\n",
       "      <td>NaN</td>\n",
       "      <td>NaN</td>\n",
       "      <td>NaN</td>\n",
       "      <td>NaN</td>\n",
       "      <td>NaN</td>\n",
       "      <td>NaN</td>\n",
       "      <td>NaN</td>\n",
       "      <td>타타대우상용차(주)</td>\n",
       "      <td>DV11</td>\n",
       "      <td>무</td>\n",
       "    </tr>\n",
       "    <tr>\n",
       "      <th>3</th>\n",
       "      <td>4MY-PA-06</td>\n",
       "      <td>13.0</td>\n",
       "      <td>2005-2006</td>\n",
       "      <td>2005-2006</td>\n",
       "      <td>N</td>\n",
       "      <td>N</td>\n",
       "      <td>0.0</td>\n",
       "      <td>0.0</td>\n",
       "      <td>NaN</td>\n",
       "      <td>NaN</td>\n",
       "      <td>NaN</td>\n",
       "    </tr>\n",
       "    <tr>\n",
       "      <th>4</th>\n",
       "      <td>NaN</td>\n",
       "      <td>NaN</td>\n",
       "      <td>NaN</td>\n",
       "      <td>NaN</td>\n",
       "      <td>NaN</td>\n",
       "      <td>NaN</td>\n",
       "      <td>NaN</td>\n",
       "      <td>NaN</td>\n",
       "      <td>(주)볼보자동차코리아</td>\n",
       "      <td>204D</td>\n",
       "      <td>무</td>\n",
       "    </tr>\n",
       "  </tbody>\n",
       "</table>\n",
       "</div>"
      ],
      "text/plain": [
       "    배출가스인증번호  차대번호    차량연식_범위 vin10자리연식_범위 3등급에_존재 5등급에_존재  3등급에_존재_차량_대수  \\\n",
       "0  4MY-AD-20  29.0  2006-2006    2006-2006       N       N            0.0   \n",
       "1  4MY-DC-33   7.0  2007-2007    2007-2007       N       Y            0.0   \n",
       "2        NaN   NaN        NaN          NaN     NaN     NaN            NaN   \n",
       "3  4MY-PA-06  13.0  2005-2006    2005-2006       N       N            0.0   \n",
       "4        NaN   NaN        NaN          NaN     NaN     NaN            NaN   \n",
       "\n",
       "   5등급에_존재_차량_대수              0     0    0  \n",
       "0            0.0  아우디폭스바겐코리아(주)   BMK    무  \n",
       "1         1502.0            NaN   NaN  NaN  \n",
       "2            NaN     타타대우상용차(주)  DV11    무  \n",
       "3            0.0            NaN   NaN  NaN  \n",
       "4            NaN    (주)볼보자동차코리아  204D    무  "
      ]
     },
     "execution_count": 159,
     "metadata": {},
     "output_type": "execute_result"
    }
   ],
   "source": [
    "total_ss.head()"
   ]
  },
  {
   "cell_type": "code",
   "execution_count": 160,
   "metadata": {},
   "outputs": [
    {
     "data": {
      "text/html": [
       "<div>\n",
       "<style scoped>\n",
       "    .dataframe tbody tr th:only-of-type {\n",
       "        vertical-align: middle;\n",
       "    }\n",
       "\n",
       "    .dataframe tbody tr th {\n",
       "        vertical-align: top;\n",
       "    }\n",
       "\n",
       "    .dataframe thead th {\n",
       "        text-align: right;\n",
       "    }\n",
       "</style>\n",
       "<table border=\"1\" class=\"dataframe\">\n",
       "  <thead>\n",
       "    <tr style=\"text-align: right;\">\n",
       "      <th></th>\n",
       "      <th>배출가스인증번호</th>\n",
       "      <th>차대번호</th>\n",
       "      <th>차량연식_범위</th>\n",
       "      <th>vin10자리연식_범위</th>\n",
       "      <th>3등급에_존재</th>\n",
       "      <th>5등급에_존재</th>\n",
       "      <th>3등급에_존재_차량_대수</th>\n",
       "      <th>5등급에_존재_차량_대수</th>\n",
       "      <th>0</th>\n",
       "      <th>0</th>\n",
       "      <th>0</th>\n",
       "    </tr>\n",
       "  </thead>\n",
       "  <tbody>\n",
       "    <tr>\n",
       "      <th>1064</th>\n",
       "      <td>NaN</td>\n",
       "      <td>NaN</td>\n",
       "      <td>NaN</td>\n",
       "      <td>NaN</td>\n",
       "      <td>NaN</td>\n",
       "      <td>NaN</td>\n",
       "      <td>NaN</td>\n",
       "      <td>NaN</td>\n",
       "      <td>NaN</td>\n",
       "      <td>642 993</td>\n",
       "      <td>NaN</td>\n",
       "    </tr>\n",
       "    <tr>\n",
       "      <th>1065</th>\n",
       "      <td>NaN</td>\n",
       "      <td>NaN</td>\n",
       "      <td>NaN</td>\n",
       "      <td>NaN</td>\n",
       "      <td>NaN</td>\n",
       "      <td>NaN</td>\n",
       "      <td>NaN</td>\n",
       "      <td>NaN</td>\n",
       "      <td>NaN</td>\n",
       "      <td>C12</td>\n",
       "      <td>NaN</td>\n",
       "    </tr>\n",
       "    <tr>\n",
       "      <th>1066</th>\n",
       "      <td>NaN</td>\n",
       "      <td>NaN</td>\n",
       "      <td>NaN</td>\n",
       "      <td>NaN</td>\n",
       "      <td>NaN</td>\n",
       "      <td>NaN</td>\n",
       "      <td>NaN</td>\n",
       "      <td>NaN</td>\n",
       "      <td>NaN</td>\n",
       "      <td>M9R</td>\n",
       "      <td>NaN</td>\n",
       "    </tr>\n",
       "    <tr>\n",
       "      <th>1067</th>\n",
       "      <td>NaN</td>\n",
       "      <td>NaN</td>\n",
       "      <td>NaN</td>\n",
       "      <td>NaN</td>\n",
       "      <td>NaN</td>\n",
       "      <td>NaN</td>\n",
       "      <td>NaN</td>\n",
       "      <td>NaN</td>\n",
       "      <td>NaN</td>\n",
       "      <td>Z20S</td>\n",
       "      <td>NaN</td>\n",
       "    </tr>\n",
       "    <tr>\n",
       "      <th>1068</th>\n",
       "      <td>NaN</td>\n",
       "      <td>NaN</td>\n",
       "      <td>NaN</td>\n",
       "      <td>NaN</td>\n",
       "      <td>NaN</td>\n",
       "      <td>NaN</td>\n",
       "      <td>NaN</td>\n",
       "      <td>NaN</td>\n",
       "      <td>NaN</td>\n",
       "      <td>D2676 LOH02</td>\n",
       "      <td>NaN</td>\n",
       "    </tr>\n",
       "  </tbody>\n",
       "</table>\n",
       "</div>"
      ],
      "text/plain": [
       "     배출가스인증번호  차대번호 차량연식_범위 vin10자리연식_범위 3등급에_존재 5등급에_존재  3등급에_존재_차량_대수  \\\n",
       "1064      NaN   NaN     NaN          NaN     NaN     NaN            NaN   \n",
       "1065      NaN   NaN     NaN          NaN     NaN     NaN            NaN   \n",
       "1066      NaN   NaN     NaN          NaN     NaN     NaN            NaN   \n",
       "1067      NaN   NaN     NaN          NaN     NaN     NaN            NaN   \n",
       "1068      NaN   NaN     NaN          NaN     NaN     NaN            NaN   \n",
       "\n",
       "      5등급에_존재_차량_대수    0            0    0  \n",
       "1064            NaN  NaN      642 993  NaN  \n",
       "1065            NaN  NaN          C12  NaN  \n",
       "1066            NaN  NaN          M9R  NaN  \n",
       "1067            NaN  NaN         Z20S  NaN  \n",
       "1068            NaN  NaN  D2676 LOH02  NaN  "
      ]
     },
     "execution_count": 160,
     "metadata": {},
     "output_type": "execute_result"
    }
   ],
   "source": [
    "total_ss.tail()"
   ]
  },
  {
   "cell_type": "code",
   "execution_count": 161,
   "metadata": {},
   "outputs": [
    {
     "data": {
      "text/plain": [
       "Index([     '배출가스인증번호',          '차대번호',       '차량연식_범위',  'vin10자리연식_범위',\n",
       "             '3등급에_존재',       '5등급에_존재', '3등급에_존재_차량_대수', '5등급에_존재_차량_대수',\n",
       "                     0,               0,               0],\n",
       "      dtype='object')"
      ]
     },
     "execution_count": 161,
     "metadata": {},
     "output_type": "execute_result"
    }
   ],
   "source": [
    "total_ss.columns"
   ]
  },
  {
   "cell_type": "code",
   "execution_count": 162,
   "metadata": {},
   "outputs": [],
   "source": [
    "total_ss.columns = ['배출가스인증번호', '차대번호', '차량연식_범위', 'vin10자리연식_범위', '3등급에_존재', '5등급에_존재', '3등급에_존재_차량_대수', '5등급에_존재_차량_대수', '제작사명', '엔진형식', 'DPF유무']"
   ]
  },
  {
   "cell_type": "code",
   "execution_count": 163,
   "metadata": {},
   "outputs": [
    {
     "data": {
      "text/plain": [
       "Index(['배출가스인증번호', '차대번호', '차량연식_범위', 'vin10자리연식_범위', '3등급에_존재', '5등급에_존재',\n",
       "       '3등급에_존재_차량_대수', '5등급에_존재_차량_대수', '제작사명', '엔진형식', 'DPF유무'],\n",
       "      dtype='object')"
      ]
     },
     "execution_count": 163,
     "metadata": {},
     "output_type": "execute_result"
    }
   ],
   "source": [
    "total_ss.columns"
   ]
  },
  {
   "attachments": {},
   "cell_type": "markdown",
   "metadata": {},
   "source": [
    "#### [출력] [통계][배출가스인증번호별]4등급과_3등급_5등급_동일_배출가스인증번호_대수_제작사_엔진형식_DPF유무"
   ]
  },
  {
   "cell_type": "code",
   "execution_count": 164,
   "metadata": {},
   "outputs": [],
   "source": [
    "total_ss.to_excel('analysis2/4등급_데이터_점검/[통계][배출가스인증번호별]4등급과_3등급_5등급_동일_배출가스인증번호_대수_제작사_엔진형식_DPF유무.xlsx', index=False)"
   ]
  },
  {
   "attachments": {},
   "cell_type": "markdown",
   "metadata": {},
   "source": [
    "# CODE End"
   ]
  }
 ],
 "metadata": {
  "kernelspec": {
   "display_name": "base",
   "language": "python",
   "name": "python3"
  },
  "language_info": {
   "codemirror_mode": {
    "name": "ipython",
    "version": 3
   },
   "file_extension": ".py",
   "mimetype": "text/x-python",
   "name": "python",
   "nbconvert_exporter": "python",
   "pygments_lexer": "ipython3",
   "version": "3.9.13"
  },
  "orig_nbformat": 4,
  "vscode": {
   "interpreter": {
    "hash": "ad2bdc8ecc057115af97d19610ffacc2b4e99fae6737bb82f5d7fb13d2f2c186"
   }
  }
 },
 "nbformat": 4,
 "nbformat_minor": 2
}
