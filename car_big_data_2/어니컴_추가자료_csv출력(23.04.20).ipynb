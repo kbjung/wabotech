{
 "cells": [
  {
   "attachments": {},
   "cell_type": "markdown",
   "metadata": {},
   "source": [
    "# Library"
   ]
  },
  {
   "cell_type": "code",
   "execution_count": 1,
   "metadata": {},
   "outputs": [],
   "source": [
    "import pandas as pd\n",
    "import os\n",
    "import math\n",
    "from tqdm import tqdm\n",
    "from datetime import datetime"
   ]
  },
  {
   "cell_type": "code",
   "execution_count": 2,
   "metadata": {},
   "outputs": [],
   "source": [
    "# 소수점 옵션\n",
    "pd.options.display.float_format = '{:.2f}'.format\n",
    "# pd.reset_option('display.float_format')"
   ]
  },
  {
   "attachments": {},
   "cell_type": "markdown",
   "metadata": {},
   "source": [
    "# fold"
   ]
  },
  {
   "cell_type": "code",
   "execution_count": 3,
   "metadata": {},
   "outputs": [],
   "source": [
    "raw_fold = 'D:/data/big2/BD1/raw'"
   ]
  },
  {
   "attachments": {},
   "cell_type": "markdown",
   "metadata": {},
   "source": [
    "# dsv to csv"
   ]
  },
  {
   "attachments": {},
   "cell_type": "markdown",
   "metadata": {},
   "source": [
    "## STD_CEG_CAR_CONF_CHG_MIG_230420"
   ]
  },
  {
   "cell_type": "code",
   "execution_count": 3,
   "metadata": {},
   "outputs": [
    {
     "name": "stderr",
     "output_type": "stream",
     "text": [
      "C:\\Users\\kbjung\\AppData\\Local\\Temp\\ipykernel_12788\\1058226554.py:1: DtypeWarning: Columns (1) have mixed types. Specify dtype option on import or set low_memory=False.\n",
      "  df = pd.read_csv(os.path.join(raw_fold, file_name), sep='|')\n"
     ]
    }
   ],
   "source": [
    "# about 13.6s\n",
    "name = 'STD_CEG_CAR_CONF_CHG_MIG_230420'\n",
    "file_name = f'{name}.dsv'\n",
    "df = pd.read_csv(os.path.join(raw_fold, file_name), sep='|')"
   ]
  },
  {
   "cell_type": "code",
   "execution_count": 4,
   "metadata": {},
   "outputs": [
    {
     "name": "stdout",
     "output_type": "stream",
     "text": [
      "<class 'pandas.core.frame.DataFrame'>\n",
      "RangeIndex: 2564738 entries, 0 to 2564737\n",
      "Data columns (total 16 columns):\n",
      " #   Column                 Dtype  \n",
      "---  ------                 -----  \n",
      " 0   CRT_DT                 object \n",
      " 1   DRVE_AFMUL             object \n",
      " 2   GEARBOX_KND            object \n",
      " 3   MOLIT_LINK_FILE_NM     object \n",
      " 4   STRCT_CHG_YMD          int64  \n",
      " 5   STRCT_CHG_SPEC         object \n",
      " 6   STRCT_CHG_DTL_SPEC     object \n",
      " 7   STRCT_CHG_DTL_SPEC_CD  object \n",
      " 8   STRCT_CHG_INSPOF_NM    object \n",
      " 9   STRCT_CHG_SE           object \n",
      " 10  STRCT_CHG_SE_CD        object \n",
      " 11  MDFCN_DT               float64\n",
      " 12  USER_ID                object \n",
      " 13  VHCL_MNG_NO            object \n",
      " 14  VHRNO                  object \n",
      " 15  VIN                    object \n",
      "dtypes: float64(1), int64(1), object(14)\n",
      "memory usage: 313.1+ MB\n"
     ]
    }
   ],
   "source": [
    "df.info()"
   ]
  },
  {
   "cell_type": "code",
   "execution_count": 5,
   "metadata": {},
   "outputs": [
    {
     "data": {
      "text/html": [
       "<div>\n",
       "<style scoped>\n",
       "    .dataframe tbody tr th:only-of-type {\n",
       "        vertical-align: middle;\n",
       "    }\n",
       "\n",
       "    .dataframe tbody tr th {\n",
       "        vertical-align: top;\n",
       "    }\n",
       "\n",
       "    .dataframe thead th {\n",
       "        text-align: right;\n",
       "    }\n",
       "</style>\n",
       "<table border=\"1\" class=\"dataframe\">\n",
       "  <thead>\n",
       "    <tr style=\"text-align: right;\">\n",
       "      <th></th>\n",
       "      <th>CRT_DT</th>\n",
       "      <th>DRVE_AFMUL</th>\n",
       "      <th>GEARBOX_KND</th>\n",
       "      <th>MOLIT_LINK_FILE_NM</th>\n",
       "      <th>STRCT_CHG_YMD</th>\n",
       "      <th>STRCT_CHG_SPEC</th>\n",
       "      <th>STRCT_CHG_DTL_SPEC</th>\n",
       "      <th>STRCT_CHG_DTL_SPEC_CD</th>\n",
       "      <th>STRCT_CHG_INSPOF_NM</th>\n",
       "      <th>STRCT_CHG_SE</th>\n",
       "      <th>STRCT_CHG_SE_CD</th>\n",
       "      <th>MDFCN_DT</th>\n",
       "      <th>USER_ID</th>\n",
       "      <th>VHCL_MNG_NO</th>\n",
       "      <th>VHRNO</th>\n",
       "      <th>VIN</th>\n",
       "    </tr>\n",
       "  </thead>\n",
       "  <tbody>\n",
       "    <tr>\n",
       "      <th>0</th>\n",
       "      <td>19/06/20</td>\n",
       "      <td>NaN</td>\n",
       "      <td>M</td>\n",
       "      <td>20190619_EARLY_DATA</td>\n",
       "      <td>19780926</td>\n",
       "      <td>탱크로리구변</td>\n",
       "      <td>NaN</td>\n",
       "      <td>NaN</td>\n",
       "      <td>NaN</td>\n",
       "      <td>물품적재장치</td>\n",
       "      <td>6</td>\n",
       "      <td>NaN</td>\n",
       "      <td>SYSTEM</td>\n",
       "      <td>03781228812-01</td>\n",
       "      <td>서울8라3077</td>\n",
       "      <td>03781228812</td>\n",
       "    </tr>\n",
       "    <tr>\n",
       "      <th>1</th>\n",
       "      <td>19/06/20</td>\n",
       "      <td>NaN</td>\n",
       "      <td>M</td>\n",
       "      <td>20190619_EARLY_DATA</td>\n",
       "      <td>19780928</td>\n",
       "      <td>탱크로리구변</td>\n",
       "      <td>NaN</td>\n",
       "      <td>NaN</td>\n",
       "      <td>NaN</td>\n",
       "      <td>물품적재장치</td>\n",
       "      <td>6</td>\n",
       "      <td>NaN</td>\n",
       "      <td>SYSTEM</td>\n",
       "      <td>03781230159-01</td>\n",
       "      <td>서울7나5894</td>\n",
       "      <td>03781230159</td>\n",
       "    </tr>\n",
       "    <tr>\n",
       "      <th>2</th>\n",
       "      <td>19/06/20</td>\n",
       "      <td>NaN</td>\n",
       "      <td>M</td>\n",
       "      <td>20190619_EARLY_DATA</td>\n",
       "      <td>19781002</td>\n",
       "      <td>탱크로리구변</td>\n",
       "      <td>NaN</td>\n",
       "      <td>NaN</td>\n",
       "      <td>NaN</td>\n",
       "      <td>물품적재장치</td>\n",
       "      <td>6</td>\n",
       "      <td>NaN</td>\n",
       "      <td>SYSTEM</td>\n",
       "      <td>03781229694-01</td>\n",
       "      <td>서울7나5910</td>\n",
       "      <td>03781229694</td>\n",
       "    </tr>\n",
       "    <tr>\n",
       "      <th>3</th>\n",
       "      <td>19/06/20</td>\n",
       "      <td>NaN</td>\n",
       "      <td>M</td>\n",
       "      <td>20190619_EARLY_DATA</td>\n",
       "      <td>19781019</td>\n",
       "      <td>탱크로리구변</td>\n",
       "      <td>NaN</td>\n",
       "      <td>NaN</td>\n",
       "      <td>NaN</td>\n",
       "      <td>물품적재장치</td>\n",
       "      <td>6</td>\n",
       "      <td>NaN</td>\n",
       "      <td>SYSTEM</td>\n",
       "      <td>03781227715-01</td>\n",
       "      <td>서울8라2197</td>\n",
       "      <td>03781227715</td>\n",
       "    </tr>\n",
       "    <tr>\n",
       "      <th>4</th>\n",
       "      <td>19/06/20</td>\n",
       "      <td>NaN</td>\n",
       "      <td>M</td>\n",
       "      <td>20190619_EARLY_DATA</td>\n",
       "      <td>19781030</td>\n",
       "      <td>카고에서 탱크로 구변</td>\n",
       "      <td>NaN</td>\n",
       "      <td>NaN</td>\n",
       "      <td>NaN</td>\n",
       "      <td>물품적재장치</td>\n",
       "      <td>6</td>\n",
       "      <td>NaN</td>\n",
       "      <td>SYSTEM</td>\n",
       "      <td>03781201355-01</td>\n",
       "      <td>경기8다4041</td>\n",
       "      <td>03781201355</td>\n",
       "    </tr>\n",
       "  </tbody>\n",
       "</table>\n",
       "</div>"
      ],
      "text/plain": [
       "     CRT_DT DRVE_AFMUL GEARBOX_KND   MOLIT_LINK_FILE_NM  STRCT_CHG_YMD  \\\n",
       "0  19/06/20        NaN           M  20190619_EARLY_DATA       19780926   \n",
       "1  19/06/20        NaN           M  20190619_EARLY_DATA       19780928   \n",
       "2  19/06/20        NaN           M  20190619_EARLY_DATA       19781002   \n",
       "3  19/06/20        NaN           M  20190619_EARLY_DATA       19781019   \n",
       "4  19/06/20        NaN           M  20190619_EARLY_DATA       19781030   \n",
       "\n",
       "  STRCT_CHG_SPEC STRCT_CHG_DTL_SPEC STRCT_CHG_DTL_SPEC_CD STRCT_CHG_INSPOF_NM  \\\n",
       "0         탱크로리구변                NaN                   NaN                 NaN   \n",
       "1         탱크로리구변                NaN                   NaN                 NaN   \n",
       "2         탱크로리구변                NaN                   NaN                 NaN   \n",
       "3         탱크로리구변                NaN                   NaN                 NaN   \n",
       "4    카고에서 탱크로 구변                NaN                   NaN                 NaN   \n",
       "\n",
       "  STRCT_CHG_SE STRCT_CHG_SE_CD  MDFCN_DT USER_ID     VHCL_MNG_NO     VHRNO  \\\n",
       "0       물품적재장치               6       NaN  SYSTEM  03781228812-01  서울8라3077   \n",
       "1       물품적재장치               6       NaN  SYSTEM  03781230159-01  서울7나5894   \n",
       "2       물품적재장치               6       NaN  SYSTEM  03781229694-01  서울7나5910   \n",
       "3       물품적재장치               6       NaN  SYSTEM  03781227715-01  서울8라2197   \n",
       "4       물품적재장치               6       NaN  SYSTEM  03781201355-01  경기8다4041   \n",
       "\n",
       "           VIN  \n",
       "0  03781228812  \n",
       "1  03781230159  \n",
       "2  03781229694  \n",
       "3  03781227715  \n",
       "4  03781201355  "
      ]
     },
     "execution_count": 5,
     "metadata": {},
     "output_type": "execute_result"
    }
   ],
   "source": [
    "df.head()"
   ]
  },
  {
   "attachments": {},
   "cell_type": "markdown",
   "metadata": {},
   "source": [
    "### csv"
   ]
  },
  {
   "cell_type": "code",
   "execution_count": 6,
   "metadata": {},
   "outputs": [],
   "source": [
    "# about 44.1s\n",
    "file_name = f'{name}.csv'\n",
    "df.to_csv(os.path.join(raw_fold, file_name), index=False)"
   ]
  },
  {
   "attachments": {},
   "cell_type": "markdown",
   "metadata": {},
   "source": [
    "## CEG_CAR_HISTORY_MIG_230420"
   ]
  },
  {
   "cell_type": "code",
   "execution_count": 3,
   "metadata": {},
   "outputs": [
    {
     "name": "stderr",
     "output_type": "stream",
     "text": [
      "C:\\Users\\kbjung\\AppData\\Local\\Temp\\ipykernel_11772\\4258192127.py:4: DtypeWarning: Columns (3,9,10,11,12,19,20,21,23,27,29,30,32) have mixed types. Specify dtype option on import or set low_memory=False.\n",
      "  df = pd.read_csv(os.path.join(raw_fold, file_name), sep='|')\n"
     ]
    }
   ],
   "source": [
    "# # about 22m 17.9s\n",
    "# name = 'CEG_CAR_HISTORY_MIG_230420'\n",
    "# file_name = f'{name}.dsv'\n",
    "# df = pd.read_csv(os.path.join(raw_fold, file_name), sep='|')"
   ]
  },
  {
   "cell_type": "code",
   "execution_count": 4,
   "metadata": {},
   "outputs": [
    {
     "name": "stdout",
     "output_type": "stream",
     "text": [
      "<class 'pandas.core.frame.DataFrame'>\n",
      "RangeIndex: 50044248 entries, 0 to 50044247\n",
      "Data columns (total 34 columns):\n",
      " #   Column              Dtype  \n",
      "---  ------              -----  \n",
      " 0   VHMNO               object \n",
      " 1   PRCS_SNO            object \n",
      " 2   CHNG_DE             float64\n",
      " 3   CHNG_SE_CD          object \n",
      " 4   VHRNO               object \n",
      " 5   BSPL_LEDO_CD        float64\n",
      " 6   OWNR_SE             object \n",
      " 7   VHCTY               object \n",
      " 8   PURPS               object \n",
      " 9   NOW_OWNR_NM         object \n",
      " 10  NOW_MBERNO          object \n",
      " 11  BSPL_ADRS           object \n",
      " 12  OWNR_ADRS           object \n",
      " 13  VIN                 object \n",
      " 14  FST_REG_DE          float64\n",
      " 15  VHCL_YRIDNW         int64  \n",
      " 16  VHCL_MNFCT_DE       float64\n",
      " 17  EMIS_INSP_EFCT_DE   float64\n",
      " 18  SRCMNNO             object \n",
      " 19  EMIS_CRTCNO         object \n",
      " 20  EMIS_GRD            object \n",
      " 21  LEM_YN              object \n",
      " 22  LEM_KND             float64\n",
      " 23  LEM_STRCHG_YN       object \n",
      " 24  BSPL_ZIP            float64\n",
      " 25  VHRNO_NUM_INFO      int64  \n",
      " 26  VHCL_ERSR_YN        object \n",
      " 27  ACQS_DE             object \n",
      " 28  ACQS_AMT            float64\n",
      " 29  RMK                 object \n",
      " 30  MOLIT_LINK_FILE_NM  object \n",
      " 31  CRTN_DT             object \n",
      " 32  UPDT_DT             object \n",
      " 33  USER_ID             object \n",
      "dtypes: float64(8), int64(2), object(24)\n",
      "memory usage: 12.7+ GB\n"
     ]
    }
   ],
   "source": [
    "df.info()"
   ]
  },
  {
   "cell_type": "code",
   "execution_count": 5,
   "metadata": {},
   "outputs": [
    {
     "data": {
      "text/html": [
       "<div>\n",
       "<style scoped>\n",
       "    .dataframe tbody tr th:only-of-type {\n",
       "        vertical-align: middle;\n",
       "    }\n",
       "\n",
       "    .dataframe tbody tr th {\n",
       "        vertical-align: top;\n",
       "    }\n",
       "\n",
       "    .dataframe thead th {\n",
       "        text-align: right;\n",
       "    }\n",
       "</style>\n",
       "<table border=\"1\" class=\"dataframe\">\n",
       "  <thead>\n",
       "    <tr style=\"text-align: right;\">\n",
       "      <th></th>\n",
       "      <th>VHMNO</th>\n",
       "      <th>PRCS_SNO</th>\n",
       "      <th>CHNG_DE</th>\n",
       "      <th>CHNG_SE_CD</th>\n",
       "      <th>VHRNO</th>\n",
       "      <th>BSPL_LEDO_CD</th>\n",
       "      <th>OWNR_SE</th>\n",
       "      <th>VHCTY</th>\n",
       "      <th>PURPS</th>\n",
       "      <th>NOW_OWNR_NM</th>\n",
       "      <th>...</th>\n",
       "      <th>BSPL_ZIP</th>\n",
       "      <th>VHRNO_NUM_INFO</th>\n",
       "      <th>VHCL_ERSR_YN</th>\n",
       "      <th>ACQS_DE</th>\n",
       "      <th>ACQS_AMT</th>\n",
       "      <th>RMK</th>\n",
       "      <th>MOLIT_LINK_FILE_NM</th>\n",
       "      <th>CRTN_DT</th>\n",
       "      <th>UPDT_DT</th>\n",
       "      <th>USER_ID</th>\n",
       "    </tr>\n",
       "  </thead>\n",
       "  <tbody>\n",
       "    <tr>\n",
       "      <th>0</th>\n",
       "      <td>1G1F76E01J4121141-01</td>\n",
       "      <td>20190319170247470050401</td>\n",
       "      <td>20190319.0</td>\n",
       "      <td>CEGO</td>\n",
       "      <td>49마2725</td>\n",
       "      <td>4.812512e+09</td>\n",
       "      <td>R</td>\n",
       "      <td>P</td>\n",
       "      <td>P</td>\n",
       "      <td>NaN</td>\n",
       "      <td>...</td>\n",
       "      <td>NaN</td>\n",
       "      <td>492725</td>\n",
       "      <td>N</td>\n",
       "      <td>NaN</td>\n",
       "      <td>NaN</td>\n",
       "      <td>190319_DB위원회요청_1등급확정</td>\n",
       "      <td>NaN</td>\n",
       "      <td>19/03/19</td>\n",
       "      <td>NaN</td>\n",
       "      <td>SYSTEM</td>\n",
       "    </tr>\n",
       "    <tr>\n",
       "      <th>1</th>\n",
       "      <td>1G1F76E01J4121155-01</td>\n",
       "      <td>20190319170247470047403</td>\n",
       "      <td>20190319.0</td>\n",
       "      <td>CEGO</td>\n",
       "      <td>17고2413</td>\n",
       "      <td>3.020012e+09</td>\n",
       "      <td>R</td>\n",
       "      <td>P</td>\n",
       "      <td>P</td>\n",
       "      <td>NaN</td>\n",
       "      <td>...</td>\n",
       "      <td>NaN</td>\n",
       "      <td>172413</td>\n",
       "      <td>N</td>\n",
       "      <td>NaN</td>\n",
       "      <td>NaN</td>\n",
       "      <td>190319_DB위원회요청_1등급확정</td>\n",
       "      <td>NaN</td>\n",
       "      <td>19/03/19</td>\n",
       "      <td>NaN</td>\n",
       "      <td>SYSTEM</td>\n",
       "    </tr>\n",
       "    <tr>\n",
       "      <th>2</th>\n",
       "      <td>1G1F76E01J4121186-01</td>\n",
       "      <td>20190319170247470050625</td>\n",
       "      <td>20190319.0</td>\n",
       "      <td>CEGO</td>\n",
       "      <td>42보9269</td>\n",
       "      <td>2.820010e+09</td>\n",
       "      <td>R</td>\n",
       "      <td>P</td>\n",
       "      <td>P</td>\n",
       "      <td>NaN</td>\n",
       "      <td>...</td>\n",
       "      <td>NaN</td>\n",
       "      <td>429269</td>\n",
       "      <td>N</td>\n",
       "      <td>NaN</td>\n",
       "      <td>NaN</td>\n",
       "      <td>190319_DB위원회요청_1등급확정</td>\n",
       "      <td>NaN</td>\n",
       "      <td>19/03/19</td>\n",
       "      <td>NaN</td>\n",
       "      <td>SYSTEM</td>\n",
       "    </tr>\n",
       "    <tr>\n",
       "      <th>3</th>\n",
       "      <td>1G1F76E01J4121222-01</td>\n",
       "      <td>20190319170247470048594</td>\n",
       "      <td>20190319.0</td>\n",
       "      <td>CEGO</td>\n",
       "      <td>32주6567</td>\n",
       "      <td>1.126010e+09</td>\n",
       "      <td>R</td>\n",
       "      <td>P</td>\n",
       "      <td>P</td>\n",
       "      <td>NaN</td>\n",
       "      <td>...</td>\n",
       "      <td>NaN</td>\n",
       "      <td>326567</td>\n",
       "      <td>N</td>\n",
       "      <td>NaN</td>\n",
       "      <td>NaN</td>\n",
       "      <td>190319_DB위원회요청_1등급확정</td>\n",
       "      <td>NaN</td>\n",
       "      <td>19/03/19</td>\n",
       "      <td>NaN</td>\n",
       "      <td>SYSTEM</td>\n",
       "    </tr>\n",
       "    <tr>\n",
       "      <th>4</th>\n",
       "      <td>1G1F76E01J4121303-01</td>\n",
       "      <td>20190319170247470047614</td>\n",
       "      <td>20190319.0</td>\n",
       "      <td>CEGO</td>\n",
       "      <td>60로8573</td>\n",
       "      <td>4.136011e+09</td>\n",
       "      <td>R</td>\n",
       "      <td>P</td>\n",
       "      <td>P</td>\n",
       "      <td>NaN</td>\n",
       "      <td>...</td>\n",
       "      <td>NaN</td>\n",
       "      <td>608573</td>\n",
       "      <td>N</td>\n",
       "      <td>NaN</td>\n",
       "      <td>NaN</td>\n",
       "      <td>190319_DB위원회요청_1등급확정</td>\n",
       "      <td>NaN</td>\n",
       "      <td>19/03/19</td>\n",
       "      <td>NaN</td>\n",
       "      <td>SYSTEM</td>\n",
       "    </tr>\n",
       "  </tbody>\n",
       "</table>\n",
       "<p>5 rows × 34 columns</p>\n",
       "</div>"
      ],
      "text/plain": [
       "                  VHMNO                 PRCS_SNO     CHNG_DE CHNG_SE_CD  \\\n",
       "0  1G1F76E01J4121141-01  20190319170247470050401  20190319.0       CEGO   \n",
       "1  1G1F76E01J4121155-01  20190319170247470047403  20190319.0       CEGO   \n",
       "2  1G1F76E01J4121186-01  20190319170247470050625  20190319.0       CEGO   \n",
       "3  1G1F76E01J4121222-01  20190319170247470048594  20190319.0       CEGO   \n",
       "4  1G1F76E01J4121303-01  20190319170247470047614  20190319.0       CEGO   \n",
       "\n",
       "     VHRNO  BSPL_LEDO_CD OWNR_SE VHCTY PURPS NOW_OWNR_NM  ... BSPL_ZIP  \\\n",
       "0  49마2725  4.812512e+09       R     P     P         NaN  ...      NaN   \n",
       "1  17고2413  3.020012e+09       R     P     P         NaN  ...      NaN   \n",
       "2  42보9269  2.820010e+09       R     P     P         NaN  ...      NaN   \n",
       "3  32주6567  1.126010e+09       R     P     P         NaN  ...      NaN   \n",
       "4  60로8573  4.136011e+09       R     P     P         NaN  ...      NaN   \n",
       "\n",
       "  VHRNO_NUM_INFO VHCL_ERSR_YN ACQS_DE  ACQS_AMT                   RMK  \\\n",
       "0         492725            N     NaN       NaN  190319_DB위원회요청_1등급확정   \n",
       "1         172413            N     NaN       NaN  190319_DB위원회요청_1등급확정   \n",
       "2         429269            N     NaN       NaN  190319_DB위원회요청_1등급확정   \n",
       "3         326567            N     NaN       NaN  190319_DB위원회요청_1등급확정   \n",
       "4         608573            N     NaN       NaN  190319_DB위원회요청_1등급확정   \n",
       "\n",
       "   MOLIT_LINK_FILE_NM   CRTN_DT UPDT_DT USER_ID  \n",
       "0                 NaN  19/03/19     NaN  SYSTEM  \n",
       "1                 NaN  19/03/19     NaN  SYSTEM  \n",
       "2                 NaN  19/03/19     NaN  SYSTEM  \n",
       "3                 NaN  19/03/19     NaN  SYSTEM  \n",
       "4                 NaN  19/03/19     NaN  SYSTEM  \n",
       "\n",
       "[5 rows x 34 columns]"
      ]
     },
     "execution_count": 5,
     "metadata": {},
     "output_type": "execute_result"
    }
   ],
   "source": [
    "df.head()"
   ]
  },
  {
   "attachments": {},
   "cell_type": "markdown",
   "metadata": {},
   "source": [
    "### csv"
   ]
  },
  {
   "cell_type": "code",
   "execution_count": 8,
   "metadata": {},
   "outputs": [],
   "source": [
    "per = 10000000"
   ]
  },
  {
   "cell_type": "code",
   "execution_count": 9,
   "metadata": {},
   "outputs": [
    {
     "data": {
      "text/plain": [
       "7"
      ]
     },
     "execution_count": 9,
     "metadata": {},
     "output_type": "execute_result"
    }
   ],
   "source": [
    "num = math.ceil(df.shape[0] / per) + 1\n",
    "num"
   ]
  },
  {
   "cell_type": "code",
   "execution_count": 10,
   "metadata": {},
   "outputs": [],
   "source": [
    "# about 21m 42.6s\n",
    "for i in range(1, num):\n",
    "    file_name = f'{name}_{i:0>2}.csv'\n",
    "    df.iloc[per*(i-1):per*i].to_csv(os.path.join(raw_fold, file_name), index=False)"
   ]
  },
  {
   "cell_type": "code",
   "execution_count": 11,
   "metadata": {},
   "outputs": [],
   "source": [
    "# about 21m 9.8s\n",
    "file_name = f'{name}.csv'\n",
    "df.to_csv(os.path.join(raw_fold, file_name), index=False)"
   ]
  },
  {
   "attachments": {},
   "cell_type": "markdown",
   "metadata": {},
   "source": [
    "# csv 로드"
   ]
  },
  {
   "attachments": {},
   "cell_type": "markdown",
   "metadata": {},
   "source": [
    "## STD_CEG_CAR_CONF_CHG_MIG_230420"
   ]
  },
  {
   "cell_type": "code",
   "execution_count": 6,
   "metadata": {},
   "outputs": [],
   "source": [
    "# about 13.7s\n",
    "# 구조변경 테이블(추정)\n",
    "name = 'STD_CEG_CAR_CONF_CHG_MIG_230420'\n",
    "file_name = f'{name}.csv'\n",
    "std = pd.read_csv(os.path.join(raw_fold, file_name), nrows=1000)"
   ]
  },
  {
   "cell_type": "code",
   "execution_count": 7,
   "metadata": {},
   "outputs": [
    {
     "name": "stdout",
     "output_type": "stream",
     "text": [
      "<class 'pandas.core.frame.DataFrame'>\n",
      "RangeIndex: 1000 entries, 0 to 999\n",
      "Data columns (total 16 columns):\n",
      " #   Column                 Non-Null Count  Dtype  \n",
      "---  ------                 --------------  -----  \n",
      " 0   CRT_DT                 1000 non-null   object \n",
      " 1   DRVE_AFMUL             0 non-null      float64\n",
      " 2   GEARBOX_KND            1000 non-null   object \n",
      " 3   MOLIT_LINK_FILE_NM     1000 non-null   object \n",
      " 4   STRCT_CHG_YMD          1000 non-null   int64  \n",
      " 5   STRCT_CHG_SPEC         968 non-null    object \n",
      " 6   STRCT_CHG_DTL_SPEC     2 non-null      object \n",
      " 7   STRCT_CHG_DTL_SPEC_CD  2 non-null      float64\n",
      " 8   STRCT_CHG_INSPOF_NM    179 non-null    object \n",
      " 9   STRCT_CHG_SE           987 non-null    object \n",
      " 10  STRCT_CHG_SE_CD        987 non-null    object \n",
      " 11  MDFCN_DT               0 non-null      float64\n",
      " 12  USER_ID                1000 non-null   object \n",
      " 13  VHCL_MNG_NO            1000 non-null   object \n",
      " 14  VHRNO                  1000 non-null   object \n",
      " 15  VIN                    1000 non-null   object \n",
      "dtypes: float64(3), int64(1), object(12)\n",
      "memory usage: 125.1+ KB\n"
     ]
    }
   ],
   "source": [
    "std.info()"
   ]
  },
  {
   "cell_type": "code",
   "execution_count": 8,
   "metadata": {},
   "outputs": [
    {
     "data": {
      "text/html": [
       "<div>\n",
       "<style scoped>\n",
       "    .dataframe tbody tr th:only-of-type {\n",
       "        vertical-align: middle;\n",
       "    }\n",
       "\n",
       "    .dataframe tbody tr th {\n",
       "        vertical-align: top;\n",
       "    }\n",
       "\n",
       "    .dataframe thead th {\n",
       "        text-align: right;\n",
       "    }\n",
       "</style>\n",
       "<table border=\"1\" class=\"dataframe\">\n",
       "  <thead>\n",
       "    <tr style=\"text-align: right;\">\n",
       "      <th></th>\n",
       "      <th>CRT_DT</th>\n",
       "      <th>DRVE_AFMUL</th>\n",
       "      <th>GEARBOX_KND</th>\n",
       "      <th>MOLIT_LINK_FILE_NM</th>\n",
       "      <th>STRCT_CHG_YMD</th>\n",
       "      <th>STRCT_CHG_SPEC</th>\n",
       "      <th>STRCT_CHG_DTL_SPEC</th>\n",
       "      <th>STRCT_CHG_DTL_SPEC_CD</th>\n",
       "      <th>STRCT_CHG_INSPOF_NM</th>\n",
       "      <th>STRCT_CHG_SE</th>\n",
       "      <th>STRCT_CHG_SE_CD</th>\n",
       "      <th>MDFCN_DT</th>\n",
       "      <th>USER_ID</th>\n",
       "      <th>VHCL_MNG_NO</th>\n",
       "      <th>VHRNO</th>\n",
       "      <th>VIN</th>\n",
       "    </tr>\n",
       "  </thead>\n",
       "  <tbody>\n",
       "    <tr>\n",
       "      <th>0</th>\n",
       "      <td>19/06/20</td>\n",
       "      <td>NaN</td>\n",
       "      <td>M</td>\n",
       "      <td>20190619_EARLY_DATA</td>\n",
       "      <td>19780926</td>\n",
       "      <td>탱크로리구변</td>\n",
       "      <td>NaN</td>\n",
       "      <td>NaN</td>\n",
       "      <td>NaN</td>\n",
       "      <td>물품적재장치</td>\n",
       "      <td>6</td>\n",
       "      <td>NaN</td>\n",
       "      <td>SYSTEM</td>\n",
       "      <td>03781228812-01</td>\n",
       "      <td>서울8라3077</td>\n",
       "      <td>03781228812</td>\n",
       "    </tr>\n",
       "    <tr>\n",
       "      <th>1</th>\n",
       "      <td>19/06/20</td>\n",
       "      <td>NaN</td>\n",
       "      <td>M</td>\n",
       "      <td>20190619_EARLY_DATA</td>\n",
       "      <td>19780928</td>\n",
       "      <td>탱크로리구변</td>\n",
       "      <td>NaN</td>\n",
       "      <td>NaN</td>\n",
       "      <td>NaN</td>\n",
       "      <td>물품적재장치</td>\n",
       "      <td>6</td>\n",
       "      <td>NaN</td>\n",
       "      <td>SYSTEM</td>\n",
       "      <td>03781230159-01</td>\n",
       "      <td>서울7나5894</td>\n",
       "      <td>03781230159</td>\n",
       "    </tr>\n",
       "    <tr>\n",
       "      <th>2</th>\n",
       "      <td>19/06/20</td>\n",
       "      <td>NaN</td>\n",
       "      <td>M</td>\n",
       "      <td>20190619_EARLY_DATA</td>\n",
       "      <td>19781002</td>\n",
       "      <td>탱크로리구변</td>\n",
       "      <td>NaN</td>\n",
       "      <td>NaN</td>\n",
       "      <td>NaN</td>\n",
       "      <td>물품적재장치</td>\n",
       "      <td>6</td>\n",
       "      <td>NaN</td>\n",
       "      <td>SYSTEM</td>\n",
       "      <td>03781229694-01</td>\n",
       "      <td>서울7나5910</td>\n",
       "      <td>03781229694</td>\n",
       "    </tr>\n",
       "    <tr>\n",
       "      <th>3</th>\n",
       "      <td>19/06/20</td>\n",
       "      <td>NaN</td>\n",
       "      <td>M</td>\n",
       "      <td>20190619_EARLY_DATA</td>\n",
       "      <td>19781019</td>\n",
       "      <td>탱크로리구변</td>\n",
       "      <td>NaN</td>\n",
       "      <td>NaN</td>\n",
       "      <td>NaN</td>\n",
       "      <td>물품적재장치</td>\n",
       "      <td>6</td>\n",
       "      <td>NaN</td>\n",
       "      <td>SYSTEM</td>\n",
       "      <td>03781227715-01</td>\n",
       "      <td>서울8라2197</td>\n",
       "      <td>03781227715</td>\n",
       "    </tr>\n",
       "    <tr>\n",
       "      <th>4</th>\n",
       "      <td>19/06/20</td>\n",
       "      <td>NaN</td>\n",
       "      <td>M</td>\n",
       "      <td>20190619_EARLY_DATA</td>\n",
       "      <td>19781030</td>\n",
       "      <td>카고에서 탱크로 구변</td>\n",
       "      <td>NaN</td>\n",
       "      <td>NaN</td>\n",
       "      <td>NaN</td>\n",
       "      <td>물품적재장치</td>\n",
       "      <td>6</td>\n",
       "      <td>NaN</td>\n",
       "      <td>SYSTEM</td>\n",
       "      <td>03781201355-01</td>\n",
       "      <td>경기8다4041</td>\n",
       "      <td>03781201355</td>\n",
       "    </tr>\n",
       "  </tbody>\n",
       "</table>\n",
       "</div>"
      ],
      "text/plain": [
       "     CRT_DT  DRVE_AFMUL GEARBOX_KND   MOLIT_LINK_FILE_NM  STRCT_CHG_YMD   \n",
       "0  19/06/20         NaN           M  20190619_EARLY_DATA       19780926  \\\n",
       "1  19/06/20         NaN           M  20190619_EARLY_DATA       19780928   \n",
       "2  19/06/20         NaN           M  20190619_EARLY_DATA       19781002   \n",
       "3  19/06/20         NaN           M  20190619_EARLY_DATA       19781019   \n",
       "4  19/06/20         NaN           M  20190619_EARLY_DATA       19781030   \n",
       "\n",
       "  STRCT_CHG_SPEC STRCT_CHG_DTL_SPEC  STRCT_CHG_DTL_SPEC_CD   \n",
       "0         탱크로리구변                NaN                    NaN  \\\n",
       "1         탱크로리구변                NaN                    NaN   \n",
       "2         탱크로리구변                NaN                    NaN   \n",
       "3         탱크로리구변                NaN                    NaN   \n",
       "4    카고에서 탱크로 구변                NaN                    NaN   \n",
       "\n",
       "  STRCT_CHG_INSPOF_NM STRCT_CHG_SE STRCT_CHG_SE_CD  MDFCN_DT USER_ID   \n",
       "0                 NaN       물품적재장치               6       NaN  SYSTEM  \\\n",
       "1                 NaN       물품적재장치               6       NaN  SYSTEM   \n",
       "2                 NaN       물품적재장치               6       NaN  SYSTEM   \n",
       "3                 NaN       물품적재장치               6       NaN  SYSTEM   \n",
       "4                 NaN       물품적재장치               6       NaN  SYSTEM   \n",
       "\n",
       "      VHCL_MNG_NO     VHRNO          VIN  \n",
       "0  03781228812-01  서울8라3077  03781228812  \n",
       "1  03781230159-01  서울7나5894  03781230159  \n",
       "2  03781229694-01  서울7나5910  03781229694  \n",
       "3  03781227715-01  서울8라2197  03781227715  \n",
       "4  03781201355-01  경기8다4041  03781201355  "
      ]
     },
     "execution_count": 8,
     "metadata": {},
     "output_type": "execute_result"
    }
   ],
   "source": [
    "std.head()"
   ]
  },
  {
   "cell_type": "code",
   "execution_count": 9,
   "metadata": {},
   "outputs": [
    {
     "data": {
      "text/plain": [
       "CRT_DT                      0\n",
       "DRVE_AFMUL               1000\n",
       "GEARBOX_KND                 0\n",
       "MOLIT_LINK_FILE_NM          0\n",
       "STRCT_CHG_YMD               0\n",
       "STRCT_CHG_SPEC             32\n",
       "STRCT_CHG_DTL_SPEC        998\n",
       "STRCT_CHG_DTL_SPEC_CD     998\n",
       "STRCT_CHG_INSPOF_NM       821\n",
       "STRCT_CHG_SE               13\n",
       "STRCT_CHG_SE_CD            13\n",
       "MDFCN_DT                 1000\n",
       "USER_ID                     0\n",
       "VHCL_MNG_NO                 0\n",
       "VHRNO                       0\n",
       "VIN                         0\n",
       "dtype: int64"
      ]
     },
     "execution_count": 9,
     "metadata": {},
     "output_type": "execute_result"
    }
   ],
   "source": [
    "std.isnull().sum()"
   ]
  },
  {
   "cell_type": "code",
   "execution_count": 10,
   "metadata": {},
   "outputs": [
    {
     "data": {
      "text/plain": [
       "Index(['CRT_DT', 'DRVE_AFMUL', 'GEARBOX_KND', 'MOLIT_LINK_FILE_NM',\n",
       "       'STRCT_CHG_YMD', 'STRCT_CHG_SPEC', 'STRCT_CHG_DTL_SPEC',\n",
       "       'STRCT_CHG_DTL_SPEC_CD', 'STRCT_CHG_INSPOF_NM', 'STRCT_CHG_SE',\n",
       "       'STRCT_CHG_SE_CD', 'MDFCN_DT', 'USER_ID', 'VHCL_MNG_NO', 'VHRNO',\n",
       "       'VIN'],\n",
       "      dtype='object')"
      ]
     },
     "execution_count": 10,
     "metadata": {},
     "output_type": "execute_result"
    }
   ],
   "source": [
    "std.columns"
   ]
  },
  {
   "cell_type": "code",
   "execution_count": 11,
   "metadata": {},
   "outputs": [],
   "source": [
    "# 컬럼 한글화\n",
    "col_dict = {\n",
    "    'CRT_DT':'생성일시',\n",
    "    'DRVE_AFMUL':'구동방식',\n",
    "    'GEARBOX_KND':'변속기종류',\n",
    "    'MOLIT_LINK_FILE_NM':'미정',\n",
    "    'STRCT_CHG_YMD':'구조변경일자',\n",
    "    'STRCT_CHG_SPEC':'미정',\n",
    "    'STRCT_CHG_DTL_SPEC':'미정',\n",
    "    'STRCT_CHG_DTL_SPEC_CD':'미정',\n",
    "    'STRCT_CHG_INSPOF_NM':'미정',\n",
    "    'STRCT_CHG_SE':'미정',\n",
    "    'STRCT_CHG_SE_CD':'미정',\n",
    "    'MDFCN_DT':'수정일시',\n",
    "    'USER_ID':'사용자ID',\n",
    "    'VHCL_MNG_NO':'차량관리번호',\n",
    "    'VHRNO':'자동차등록정보',\n",
    "    'VIN':'차대번호',\n",
    "    }"
   ]
  },
  {
   "cell_type": "code",
   "execution_count": 12,
   "metadata": {},
   "outputs": [
    {
     "data": {
      "text/plain": [
       "Index(['생성일시', '구동방식', '변속기종류', '미정', '구조변경일자', '미정', '미정', '미정', '미정', '미정',\n",
       "       '미정', '수정일시', '사용자ID', '차량관리번호', '자동차등록정보', '차대번호'],\n",
       "      dtype='object')"
      ]
     },
     "execution_count": 12,
     "metadata": {},
     "output_type": "execute_result"
    }
   ],
   "source": [
    "std.columns = [col_dict[x] for x in std.columns]\n",
    "std.columns"
   ]
  },
  {
   "attachments": {},
   "cell_type": "markdown",
   "metadata": {},
   "source": [
    "### 샘플"
   ]
  },
  {
   "cell_type": "code",
   "execution_count": 13,
   "metadata": {},
   "outputs": [],
   "source": [
    "std.to_excel(os.path.join(raw_fold, '샘플_STD_CEG_CAR_CONF_CHG_MIG_230420.xlsx'), index=False)"
   ]
  },
  {
   "attachments": {},
   "cell_type": "markdown",
   "metadata": {},
   "source": [
    "## CEG_CAR_HISTORY_MIG_230420"
   ]
  },
  {
   "cell_type": "code",
   "execution_count": 51,
   "metadata": {},
   "outputs": [],
   "source": [
    "# about 25m 0.8s\n",
    "name = 'CEG_CAR_HISTORY_MIG_230420'\n",
    "file_name = f'{name}.csv'\n",
    "his = pd.read_csv(os.path.join(raw_fold, file_name), low_memory=False, nrows=500000)"
   ]
  },
  {
   "cell_type": "code",
   "execution_count": 52,
   "metadata": {},
   "outputs": [
    {
     "name": "stdout",
     "output_type": "stream",
     "text": [
      "<class 'pandas.core.frame.DataFrame'>\n",
      "RangeIndex: 500000 entries, 0 to 499999\n",
      "Data columns (total 34 columns):\n",
      " #   Column              Non-Null Count   Dtype  \n",
      "---  ------              --------------   -----  \n",
      " 0   VHMNO               500000 non-null  object \n",
      " 1   PRCS_SNO            500000 non-null  object \n",
      " 2   CHNG_DE             500000 non-null  float64\n",
      " 3   CHNG_SE_CD          500000 non-null  object \n",
      " 4   VHRNO               500000 non-null  object \n",
      " 5   BSPL_LEDO_CD        500000 non-null  float64\n",
      " 6   OWNR_SE             500000 non-null  object \n",
      " 7   VHCTY               500000 non-null  object \n",
      " 8   PURPS               500000 non-null  object \n",
      " 9   NOW_OWNR_NM         175 non-null     object \n",
      " 10  NOW_MBERNO          0 non-null       float64\n",
      " 11  BSPL_ADRS           175 non-null     object \n",
      " 12  OWNR_ADRS           0 non-null       float64\n",
      " 13  VIN                 500000 non-null  object \n",
      " 14  FST_REG_DE          500000 non-null  float64\n",
      " 15  VHCL_YRIDNW         500000 non-null  int64  \n",
      " 16  VHCL_MNFCT_DE       499999 non-null  float64\n",
      " 17  EMIS_INSP_EFCT_DE   500000 non-null  float64\n",
      " 18  SRCMNNO             500000 non-null  object \n",
      " 19  EMIS_CRTCNO         492810 non-null  object \n",
      " 20  EMIS_GRD            500000 non-null  int64  \n",
      " 21  LEM_YN              486983 non-null  object \n",
      " 22  LEM_KND             25 non-null      float64\n",
      " 23  LEM_STRCHG_YN       486984 non-null  object \n",
      " 24  BSPL_ZIP            0 non-null       float64\n",
      " 25  VHRNO_NUM_INFO      500000 non-null  int64  \n",
      " 26  VHCL_ERSR_YN        500000 non-null  object \n",
      " 27  ACQS_DE             0 non-null       float64\n",
      " 28  ACQS_AMT            0 non-null       float64\n",
      " 29  RMK                 500000 non-null  object \n",
      " 30  MOLIT_LINK_FILE_NM  0 non-null       float64\n",
      " 31  CRTN_DT             500000 non-null  object \n",
      " 32  UPDT_DT             125 non-null     object \n",
      " 33  USER_ID             500000 non-null  object \n",
      "dtypes: float64(12), int64(3), object(19)\n",
      "memory usage: 129.7+ MB\n"
     ]
    }
   ],
   "source": [
    "his.info()"
   ]
  },
  {
   "cell_type": "code",
   "execution_count": 53,
   "metadata": {},
   "outputs": [],
   "source": [
    "# 0   VHMNO               object  -> \n",
    "# 1   PRCS_SNO            object  -> \n",
    "# 2   CHNG_DE             float64 ->\n",
    "# 3   CHNG_SE_CD          object  ->\n",
    "# 4   VHRNO               object  ->\n",
    "# 5   BSPL_LEDO_CD        float64 ->\n",
    "# 6   OWNR_SE             object  ->\n",
    "# 7   VHCTY               object  ->\n",
    "# 8   PURPS               object  ->\n",
    "# 9   NOW_OWNR_NM         object  ->\n",
    "# 10  NOW_MBERNO          object  ->\n",
    "# 11  BSPL_ADRS           object  ->\n",
    "# 12  OWNR_ADRS           object  ->\n",
    "# 13  VIN                 object  ->\n",
    "# 14  FST_REG_DE          float64 ->\n",
    "# 15  VHCL_YRIDNW         int64   ->\n",
    "# 16  VHCL_MNFCT_DE       float64 ->\n",
    "# 17  EMIS_INSP_EFCT_DE   float64 ->\n",
    "# 18  SRCMNNO             object  ->\n",
    "# 19  EMIS_CRTCNO         object  ->\n",
    "# 20  EMIS_GRD            object  ->\n",
    "# 21  LEM_YN              object  ->\n",
    "# 22  LEM_KND             float64 ->\n",
    "# 23  LEM_STRCHG_YN       object  ->\n",
    "# 24  BSPL_ZIP            float64 ->\n",
    "# 25  VHRNO_NUM_INFO      int64   ->\n",
    "# 26  VHCL_ERSR_YN        object  ->\n",
    "# 27  ACQS_DE             object  ->\n",
    "# 28  ACQS_AMT            float64 ->\n",
    "# 29  RMK                 object  ->\n",
    "# 30  MOLIT_LINK_FILE_NM  object  ->\n",
    "# 31  CRTN_DT             object  ->\n",
    "# 32  UPDT_DT             object  ->\n",
    "# 33  USER_ID             object  ->"
   ]
  },
  {
   "cell_type": "code",
   "execution_count": 54,
   "metadata": {},
   "outputs": [],
   "source": [
    "col_dict = {\n",
    "    'VHMNO':'차량관리번호',\n",
    "    'PRCS_SNO':'처리SNO', # 처리SNO\n",
    "    'CHNG_DE':'변경일자', # 변경일자\n",
    "    'CHNG_SE_CD':'변경구분코드', # 변경구분코드\n",
    "    'VHRNO':'차량등록번호',\n",
    "    'BSPL_LEDO_CD':'본거지법정동코드',\n",
    "    'OWNR_SE':'소유자구분',\n",
    "    'VHCTY':'차종',\n",
    "    'PURPS':'용도',\n",
    "    'NOW_OWNR_NM':'현재소유자명', # 현재소유자명\n",
    "    'NOW_MBERNO':'현재회원번호',\n",
    "    'BSPL_ADRS':'본거지주소', # 본거지주소\n",
    "    'OWNR_ADRS':'소유자주소', # 소유자주소\n",
    "    'VIN':'차대번호',\n",
    "    'FST_REG_DE':'최초등록일자',\n",
    "    'VHCL_YRIDNW':'차량연식',\n",
    "    'VHCL_MNFCT_DE':'차량제작일자',\n",
    "    'EMIS_INSP_EFCT_DE':'배출가스검사유효일자',\n",
    "    'SRCMNNO':'제원관리번호',\n",
    "    'EMIS_CRTCNO':'배출가스인증번호',\n",
    "    'EMIS_GRD':'배출가스등급',\n",
    "    'LEM_YN':'저공해조치YN',\n",
    "    'LEM_KND':'저공해조치종류',\n",
    "    'LEM_STRCHG_YN':'저공해조치구조변경YN',\n",
    "    'BSPL_ZIP':'본거지우편번호', # 본거지우편번호\n",
    "    'VHRNO_NUM_INFO':'차량등록번호숫자정보',\n",
    "    'VHCL_ERSR_YN':'차량말소YN',\n",
    "    'ACQS_DE':'취득일자',\n",
    "    'ACQS_AMT':'취득금액',\n",
    "    'RMK':'비고',\n",
    "    'MOLIT_LINK_FILE_NM':'국토부연계파일명', # 국토부연계파일명\n",
    "    'CRTN_DT':'생성일시',\n",
    "    'UPDT_DT':'수정일시',\n",
    "    'USER_ID':'사용자ID'}"
   ]
  },
  {
   "cell_type": "code",
   "execution_count": 55,
   "metadata": {},
   "outputs": [
    {
     "data": {
      "text/plain": [
       "Index(['차량관리번호', '처리SNO', '변경일자', '변경구분코드', '차량등록번호', '본거지법정동코드', '소유자구분',\n",
       "       '차종', '용도', '현재소유자명', '현재회원번호', '본거지주소', '소유자주소', '차대번호', '최초등록일자',\n",
       "       '차량연식', '차량제작일자', '배출가스검사유효일자', '제원관리번호', '배출가스인증번호', '배출가스등급',\n",
       "       '저공해조치YN', '저공해조치종류', '저공해조치구조변경YN', '본거지우편번호', '차량등록번호숫자정보', '차량말소YN',\n",
       "       '취득일자', '취득금액', '비고', '국토부연계파일명', '생성일시', '수정일시', '사용자ID'],\n",
       "      dtype='object')"
      ]
     },
     "execution_count": 55,
     "metadata": {},
     "output_type": "execute_result"
    }
   ],
   "source": [
    "his.columns = [col_dict[x] for x in his.columns]\n",
    "his.columns"
   ]
  },
  {
   "cell_type": "code",
   "execution_count": 56,
   "metadata": {},
   "outputs": [
    {
     "data": {
      "text/plain": [
       "count     500000.00\n",
       "mean    20190319.57\n",
       "std           12.83\n",
       "min     20190218.00\n",
       "25%     20190319.00\n",
       "50%     20190319.00\n",
       "75%     20190319.00\n",
       "max     20190617.00\n",
       "Name: 변경일자, dtype: float64"
      ]
     },
     "execution_count": 56,
     "metadata": {},
     "output_type": "execute_result"
    }
   ],
   "source": [
    "his['변경일자'].describe()"
   ]
  },
  {
   "cell_type": "code",
   "execution_count": 57,
   "metadata": {},
   "outputs": [
    {
     "data": {
      "text/plain": [
       "0    CEGO\n",
       "1    CEGO\n",
       "2    CEGO\n",
       "3    CEGO\n",
       "4    CEGO\n",
       "Name: 변경구분코드, dtype: object"
      ]
     },
     "execution_count": 57,
     "metadata": {},
     "output_type": "execute_result"
    }
   ],
   "source": [
    "his['변경구분코드'].head()"
   ]
  },
  {
   "cell_type": "code",
   "execution_count": 58,
   "metadata": {},
   "outputs": [
    {
     "data": {
      "text/plain": [
       "array(['CEGO', 'CEGC'], dtype=object)"
      ]
     },
     "execution_count": 58,
     "metadata": {},
     "output_type": "execute_result"
    }
   ],
   "source": [
    "his['변경구분코드'].unique()"
   ]
  },
  {
   "cell_type": "code",
   "execution_count": 59,
   "metadata": {},
   "outputs": [
    {
     "data": {
      "text/plain": [
       "0   20180515.00\n",
       "1   20180621.00\n",
       "2   20180531.00\n",
       "3   20180622.00\n",
       "4   20180615.00\n",
       "Name: 최초등록일자, dtype: float64"
      ]
     },
     "execution_count": 59,
     "metadata": {},
     "output_type": "execute_result"
    }
   ],
   "source": [
    "his['최초등록일자'].head()"
   ]
  },
  {
   "cell_type": "code",
   "execution_count": 60,
   "metadata": {},
   "outputs": [
    {
     "data": {
      "text/plain": [
       "count          125\n",
       "unique           2\n",
       "top       19/05/29\n",
       "freq            98\n",
       "Name: 수정일시, dtype: object"
      ]
     },
     "execution_count": 60,
     "metadata": {},
     "output_type": "execute_result"
    }
   ],
   "source": [
    "his['수정일시'].describe()"
   ]
  },
  {
   "cell_type": "code",
   "execution_count": 61,
   "metadata": {},
   "outputs": [
    {
     "data": {
      "text/plain": [
       "0"
      ]
     },
     "execution_count": 61,
     "metadata": {},
     "output_type": "execute_result"
    }
   ],
   "source": [
    "his['차량말소YN'].isnull().sum()"
   ]
  },
  {
   "cell_type": "code",
   "execution_count": 62,
   "metadata": {},
   "outputs": [
    {
     "data": {
      "text/plain": [
       "array(['N', 'Y'], dtype=object)"
      ]
     },
     "execution_count": 62,
     "metadata": {},
     "output_type": "execute_result"
    }
   ],
   "source": [
    "his['차량말소YN'].unique()"
   ]
  },
  {
   "cell_type": "code",
   "execution_count": 63,
   "metadata": {},
   "outputs": [
    {
     "data": {
      "text/plain": [
       "84127     NaN\n",
       "87898     NaN\n",
       "87922     NaN\n",
       "92378     NaN\n",
       "93380     NaN\n",
       "97881     NaN\n",
       "100591    NaN\n",
       "110974    NaN\n",
       "124702    NaN\n",
       "141373    NaN\n",
       "161201    NaN\n",
       "188840    NaN\n",
       "189434    NaN\n",
       "208845    NaN\n",
       "211400    NaN\n",
       "341087    NaN\n",
       "346129    NaN\n",
       "350656    NaN\n",
       "355125    NaN\n",
       "424241    NaN\n",
       "441252    NaN\n",
       "445885    NaN\n",
       "474467    NaN\n",
       "480307    NaN\n",
       "481504    NaN\n",
       "Name: 수정일시, dtype: object"
      ]
     },
     "execution_count": 63,
     "metadata": {},
     "output_type": "execute_result"
    }
   ],
   "source": [
    "his.loc[his['차량말소YN'] == 'Y', '수정일시']"
   ]
  },
  {
   "cell_type": "code",
   "execution_count": 64,
   "metadata": {},
   "outputs": [
    {
     "data": {
      "text/plain": [
       "차량말소YN\n",
       "N    125\n",
       "Name: count, dtype: int64"
      ]
     },
     "execution_count": 64,
     "metadata": {},
     "output_type": "execute_result"
    }
   ],
   "source": [
    "his.loc[his['수정일시'].isnull() == False, '차량말소YN'].value_counts(dropna=False)"
   ]
  },
  {
   "attachments": {},
   "cell_type": "markdown",
   "metadata": {},
   "source": [
    "### 샘플"
   ]
  },
  {
   "cell_type": "code",
   "execution_count": 37,
   "metadata": {},
   "outputs": [],
   "source": [
    "# about 25.4s\n",
    "his.to_excel(os.path.join(raw_fold, '샘플_CEG_CAR_HISTORY_MIG_230420.xlsx'), index=False)"
   ]
  },
  {
   "attachments": {},
   "cell_type": "markdown",
   "metadata": {},
   "source": [
    "# 코드 마지막"
   ]
  }
 ],
 "metadata": {
  "kernelspec": {
   "display_name": "base",
   "language": "python",
   "name": "python3"
  },
  "language_info": {
   "codemirror_mode": {
    "name": "ipython",
    "version": 3
   },
   "file_extension": ".py",
   "mimetype": "text/x-python",
   "name": "python",
   "nbconvert_exporter": "python",
   "pygments_lexer": "ipython3",
   "version": "3.9.13"
  },
  "orig_nbformat": 4
 },
 "nbformat": 4,
 "nbformat_minor": 2
}
