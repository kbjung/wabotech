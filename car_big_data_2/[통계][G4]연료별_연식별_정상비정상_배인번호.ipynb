{
 "cells": [
  {
   "attachments": {},
   "cell_type": "markdown",
   "metadata": {},
   "source": [
    "# Library"
   ]
  },
  {
   "cell_type": "code",
   "execution_count": 33,
   "metadata": {},
   "outputs": [],
   "source": [
    "import pandas as pd\n",
    "import numpy as np\n",
    "import os\n",
    "from tqdm import tqdm\n",
    "import re"
   ]
  },
  {
   "cell_type": "code",
   "execution_count": 2,
   "metadata": {},
   "outputs": [],
   "source": [
    "ods_fold = 'D:/data/big2/ODS'"
   ]
  },
  {
   "cell_type": "code",
   "execution_count": 10,
   "metadata": {},
   "outputs": [],
   "source": [
    "# about 8m 42s\n",
    "file_name = '[ODS][G4]등록정보&제원정보(말소제거)(2022.12.29).csv'\n",
    "df = pd.read_csv(os.path.join(ods_fold, file_name), encoding='cp949', low_memory=False)"
   ]
  },
  {
   "cell_type": "code",
   "execution_count": 11,
   "metadata": {},
   "outputs": [
    {
     "data": {
      "text/plain": [
       "Index(['차량관리번호', '차량등록번호', '본거지법정동코드', '소유자구분', '차종_등록정보', '용도', '현재회원번호',\n",
       "       '차대번호', '최초등록일자', '차량연식', '차량제작일자', '배출가스검사유효일자', '제원관리번호', '배출가스인증번호',\n",
       "       '배출가스등급', '저공해조치YN(미사용)', '저공해조치종류', '저공해조치구조변경YN', '차량등록번호숫자정보',\n",
       "       '차량말소YN', '최초회원번호', '취득일자', '취득금액', '생성일시_등록정보', '수정일시_등록정보', '차명',\n",
       "       '차종_제원정보', '차종분류', '차종유형(소분류)', '자동차형식', '제작사명', '연료', '엔진형식', '공차중량',\n",
       "       '총중량', '적재중량', '엔진출력', '배기량', '승차인원', '차량길이', '차량너비', '차량높이', '원산지명',\n",
       "       '삭제YN', '승인일자', '구동형식', '변속기종류', '생성일시_제원정보', '수정일시_제원정보'],\n",
       "      dtype='object')"
      ]
     },
     "execution_count": 11,
     "metadata": {},
     "output_type": "execute_result"
    }
   ],
   "source": [
    "df.columns"
   ]
  },
  {
   "cell_type": "code",
   "execution_count": 12,
   "metadata": {},
   "outputs": [
    {
     "data": {
      "text/plain": [
       "(1511251, 49)"
      ]
     },
     "execution_count": 12,
     "metadata": {},
     "output_type": "execute_result"
    }
   ],
   "source": [
    "df.shape"
   ]
  },
  {
   "cell_type": "code",
   "execution_count": 14,
   "metadata": {},
   "outputs": [
    {
     "data": {
      "text/plain": [
       "4     1511214\n",
       "T4         37\n",
       "Name: 배출가스등급, dtype: int64"
      ]
     },
     "execution_count": 14,
     "metadata": {},
     "output_type": "execute_result"
    }
   ],
   "source": [
    "df['배출가스등급'].value_counts(dropna=False)"
   ]
  },
  {
   "cell_type": "code",
   "execution_count": 15,
   "metadata": {},
   "outputs": [
    {
     "data": {
      "text/plain": [
       "N    1511251\n",
       "Name: 차량말소YN, dtype: int64"
      ]
     },
     "execution_count": 15,
     "metadata": {},
     "output_type": "execute_result"
    }
   ],
   "source": [
    "df['차량말소YN'].value_counts(dropna=False)\n"
   ]
  },
  {
   "cell_type": "code",
   "execution_count": 16,
   "metadata": {},
   "outputs": [
    {
     "data": {
      "text/plain": [
       "(1511211, 49)"
      ]
     },
     "execution_count": 16,
     "metadata": {},
     "output_type": "execute_result"
    }
   ],
   "source": [
    "g4 = df.sort_values(['최초등록일자', '배출가스검사유효일자'], ascending=[False, False]).drop_duplicates('차대번호').reset_index(drop=True)\n",
    "g4.shape"
   ]
  },
  {
   "cell_type": "code",
   "execution_count": 17,
   "metadata": {},
   "outputs": [
    {
     "data": {
      "text/plain": [
       "2001"
      ]
     },
     "execution_count": 17,
     "metadata": {},
     "output_type": "execute_result"
    }
   ],
   "source": [
    "g4['엔진형식'].isnull().sum()"
   ]
  },
  {
   "cell_type": "code",
   "execution_count": 18,
   "metadata": {},
   "outputs": [
    {
     "data": {
      "text/plain": [
       "9"
      ]
     },
     "execution_count": 18,
     "metadata": {},
     "output_type": "execute_result"
    }
   ],
   "source": [
    "engine_form = ['G4AJ', 'G15CF', 'B5', 'H20MR', 'G16SF', 'MSV3', 'ZB', '1NZ', '2AZ']\n",
    "len(engine_form)"
   ]
  },
  {
   "cell_type": "code",
   "execution_count": 19,
   "metadata": {},
   "outputs": [
    {
     "name": "stdout",
     "output_type": "stream",
     "text": [
      "(2388, 49)\n",
      "(1513, 49)\n",
      "(16111, 49)\n",
      "(2835, 49)\n",
      "(45, 49)\n",
      "(1089, 49)\n",
      "(0, 49)\n",
      "(1, 49)\n",
      "(3, 49)\n"
     ]
    }
   ],
   "source": [
    "for one in engine_form:\n",
    "    print(g4[g4['엔진형식'] == one].shape)"
   ]
  },
  {
   "cell_type": "code",
   "execution_count": 20,
   "metadata": {},
   "outputs": [],
   "source": [
    "g4.loc[g4['엔진형식'] == 'G4AJ', '연료'] = '휘발유'\n",
    "g4.loc[g4['엔진형식'] == 'G15CF', '연료'] = '휘발유'\n",
    "g4.loc[g4['엔진형식'] == 'B5', '연료'] = '휘발유'\n",
    "g4.loc[g4['엔진형식'] == 'H20MR', '연료'] = '휘발유'\n",
    "g4.loc[g4['엔진형식'] == 'G16SF', '연료'] = '휘발유'\n",
    "g4.loc[g4['엔진형식'] == 'MSV3', '연료'] = '휘발유'\n",
    "g4.loc[g4['엔진형식'] == 'ZB', '연료'] = '경유'\n",
    "g4.loc[g4['엔진형식'] == '1NZ', '연료'] = '경유'\n",
    "g4.loc[g4['엔진형식'] == '2AZ', '연료'] = '경유'"
   ]
  },
  {
   "cell_type": "code",
   "execution_count": 21,
   "metadata": {},
   "outputs": [
    {
     "data": {
      "text/plain": [
       "경유             1152701\n",
       "휘발유             332345\n",
       "LPG(액화석유가스)      26089\n",
       "NaN                 69\n",
       "기타연료                 5\n",
       "CNG(압축천연가스)          1\n",
       "알코올                  1\n",
       "Name: 연료, dtype: int64"
      ]
     },
     "execution_count": 21,
     "metadata": {},
     "output_type": "execute_result"
    }
   ],
   "source": [
    "g4['연료'].value_counts(dropna=False)"
   ]
  },
  {
   "cell_type": "code",
   "execution_count": 22,
   "metadata": {},
   "outputs": [
    {
     "data": {
      "text/plain": [
       "array(['에어스트림탐지견수송트레일러', '스텔라오토매틱', '벤즈 230E', '벤즈230E', '도요다크라운로얄싸롱'],\n",
       "      dtype=object)"
      ]
     },
     "execution_count": 22,
     "metadata": {},
     "output_type": "execute_result"
    }
   ],
   "source": [
    "g4.loc[g4['연료'] == '기타연료', '차명'].unique()"
   ]
  },
  {
   "cell_type": "code",
   "execution_count": 27,
   "metadata": {},
   "outputs": [
    {
     "data": {
      "text/plain": [
       "5"
      ]
     },
     "execution_count": 27,
     "metadata": {},
     "output_type": "execute_result"
    }
   ],
   "source": [
    "car_name = [\n",
    "    '에어스트림탐지견수송트레일러', #\n",
    "    '스텔라오토매틱', # 휘발유\n",
    "    '벤즈 230E', # 휘발유\n",
    "    '벤즈230E', # 휘발유\n",
    "    '도요다크라운로얄싸롱', # 휘발유\n",
    "]\n",
    "len(car_name)"
   ]
  },
  {
   "cell_type": "code",
   "execution_count": 28,
   "metadata": {},
   "outputs": [],
   "source": [
    "g4.loc[g4['차명'] == '스텔라오토매틱', '연료'] = '휘발유'\n",
    "g4.loc[g4['차명'] == '벤즈 230E', '연료'] = '휘발유'\n",
    "g4.loc[g4['차명'] == '벤즈230E', '연료'] = '휘발유'\n",
    "g4.loc[g4['차명'] == '도요다크라운로얄싸롱', '연료'] = '휘발유'"
   ]
  },
  {
   "cell_type": "code",
   "execution_count": 29,
   "metadata": {},
   "outputs": [
    {
     "data": {
      "text/plain": [
       "경유             1152701\n",
       "휘발유             332353\n",
       "LPG(액화석유가스)      26088\n",
       "NaN                 66\n",
       "기타연료                 1\n",
       "CNG(압축천연가스)          1\n",
       "알코올                  1\n",
       "Name: 연료, dtype: int64"
      ]
     },
     "execution_count": 29,
     "metadata": {},
     "output_type": "execute_result"
    }
   ],
   "source": [
    "g4['연료'].value_counts(dropna=False)"
   ]
  },
  {
   "cell_type": "code",
   "execution_count": 30,
   "metadata": {},
   "outputs": [
    {
     "data": {
      "text/plain": [
       "연료\n",
       "CNG(압축천연가스)          1\n",
       "LPG(액화석유가스)      26088\n",
       "경유             1152701\n",
       "기타연료                 1\n",
       "알코올                  1\n",
       "휘발유             332353\n",
       "NaN                 66\n",
       "Name: 차대번호, dtype: int64"
      ]
     },
     "execution_count": 30,
     "metadata": {},
     "output_type": "execute_result"
    }
   ],
   "source": [
    "g4.groupby('연료', dropna=False)['차대번호'].count()"
   ]
  },
  {
   "cell_type": "code",
   "execution_count": 31,
   "metadata": {},
   "outputs": [],
   "source": [
    "g4.groupby('연료', dropna=False)['차대번호'].count().to_excel('analysis2/통계_4등급_연료별.xlsx')"
   ]
  },
  {
   "cell_type": "code",
   "execution_count": 32,
   "metadata": {},
   "outputs": [],
   "source": [
    "g4.groupby('차량연식', dropna=False)['차대번호'].count().to_excel('analysis2/통계_4등급_차량연식.xlsx')"
   ]
  },
  {
   "attachments": {},
   "cell_type": "markdown",
   "metadata": {},
   "source": [
    "# 배출가스 인증번호 정상 확인"
   ]
  },
  {
   "cell_type": "code",
   "execution_count": 34,
   "metadata": {},
   "outputs": [],
   "source": [
    "for one in g4['배출가스인증번호']:\n",
    "    if ' ' in str(one):\n",
    "        print('y')"
   ]
  },
  {
   "cell_type": "code",
   "execution_count": 35,
   "metadata": {},
   "outputs": [],
   "source": [
    "p_before = re.compile('[a-zA-Z0-9]{3}[-][a-zA-Z]{2}[-][0-9]{2}')\n",
    "p_after = re.compile('[a-zA-Z0-9]{3}[-][a-zA-Z]{2}[-][0-9]{2}[-][0-9]{2}')"
   ]
  },
  {
   "cell_type": "code",
   "execution_count": 44,
   "metadata": {},
   "outputs": [
    {
     "name": "stderr",
     "output_type": "stream",
     "text": [
      "100%|██████████| 1511211/1511211 [00:01<00:00, 862825.38it/s]\n"
     ]
    },
    {
     "data": {
      "text/plain": [
       "1511211"
      ]
     },
     "execution_count": 44,
     "metadata": {},
     "output_type": "execute_result"
    }
   ],
   "source": [
    "check_list = []\n",
    "for one in tqdm(g4['배출가스인증번호']):\n",
    "    if p_before.search(str(one)) or p_after.search(str(one)):\n",
    "        check_list.append('정상')\n",
    "    elif str(one) == 'nan':\n",
    "        check_list.append(np.nan)\n",
    "    else:\n",
    "        check_list.append('규격외')\n",
    "len(check_list)"
   ]
  },
  {
   "cell_type": "code",
   "execution_count": 45,
   "metadata": {},
   "outputs": [
    {
     "data": {
      "text/plain": [
       "0             NaN\n",
       "1             NaN\n",
       "2             NaN\n",
       "3    7MY-HD-24-28\n",
       "4             NaN\n",
       "Name: 배출가스인증번호, dtype: object"
      ]
     },
     "execution_count": 45,
     "metadata": {},
     "output_type": "execute_result"
    }
   ],
   "source": [
    "g4['배출가스인증번호'].head()"
   ]
  },
  {
   "cell_type": "code",
   "execution_count": 46,
   "metadata": {},
   "outputs": [
    {
     "data": {
      "text/plain": [
       "[nan, nan, nan, '정상', nan]"
      ]
     },
     "execution_count": 46,
     "metadata": {},
     "output_type": "execute_result"
    }
   ],
   "source": [
    "check_list[:5]"
   ]
  },
  {
   "cell_type": "code",
   "execution_count": 47,
   "metadata": {},
   "outputs": [],
   "source": [
    "g4['배인번호_정상_판단'] = check_list"
   ]
  },
  {
   "cell_type": "code",
   "execution_count": 48,
   "metadata": {},
   "outputs": [
    {
     "data": {
      "text/plain": [
       "123700"
      ]
     },
     "execution_count": 48,
     "metadata": {},
     "output_type": "execute_result"
    }
   ],
   "source": [
    "g4['배출가스인증번호'].isnull().sum()"
   ]
  },
  {
   "cell_type": "code",
   "execution_count": 52,
   "metadata": {},
   "outputs": [
    {
     "data": {
      "text/plain": [
       "배인번호_정상_판단\n",
       "규격외      21959\n",
       "정상     1365552\n",
       "NaN     123700\n",
       "Name: 차대번호, dtype: int64"
      ]
     },
     "execution_count": 52,
     "metadata": {},
     "output_type": "execute_result"
    }
   ],
   "source": [
    "g4.groupby(['배인번호_정상_판단'], dropna=False)['차대번호'].count()"
   ]
  },
  {
   "cell_type": "code",
   "execution_count": 50,
   "metadata": {},
   "outputs": [
    {
     "data": {
      "text/html": [
       "<div>\n",
       "<style scoped>\n",
       "    .dataframe tbody tr th:only-of-type {\n",
       "        vertical-align: middle;\n",
       "    }\n",
       "\n",
       "    .dataframe tbody tr th {\n",
       "        vertical-align: top;\n",
       "    }\n",
       "\n",
       "    .dataframe thead th {\n",
       "        text-align: right;\n",
       "    }\n",
       "</style>\n",
       "<table border=\"1\" class=\"dataframe\">\n",
       "  <thead>\n",
       "    <tr style=\"text-align: right;\">\n",
       "      <th>배인번호_정상_판단</th>\n",
       "      <th>규격외</th>\n",
       "      <th>정상</th>\n",
       "      <th>NaN</th>\n",
       "    </tr>\n",
       "    <tr>\n",
       "      <th>연료</th>\n",
       "      <th></th>\n",
       "      <th></th>\n",
       "      <th></th>\n",
       "    </tr>\n",
       "  </thead>\n",
       "  <tbody>\n",
       "    <tr>\n",
       "      <th>CNG(압축천연가스)</th>\n",
       "      <td>NaN</td>\n",
       "      <td>1.0</td>\n",
       "      <td>NaN</td>\n",
       "    </tr>\n",
       "    <tr>\n",
       "      <th>LPG(액화석유가스)</th>\n",
       "      <td>NaN</td>\n",
       "      <td>23363.0</td>\n",
       "      <td>2725.0</td>\n",
       "    </tr>\n",
       "    <tr>\n",
       "      <th>경유</th>\n",
       "      <td>4151.0</td>\n",
       "      <td>1140926.0</td>\n",
       "      <td>7624.0</td>\n",
       "    </tr>\n",
       "    <tr>\n",
       "      <th>기타연료</th>\n",
       "      <td>NaN</td>\n",
       "      <td>NaN</td>\n",
       "      <td>1.0</td>\n",
       "    </tr>\n",
       "    <tr>\n",
       "      <th>알코올</th>\n",
       "      <td>NaN</td>\n",
       "      <td>NaN</td>\n",
       "      <td>1.0</td>\n",
       "    </tr>\n",
       "    <tr>\n",
       "      <th>휘발유</th>\n",
       "      <td>17808.0</td>\n",
       "      <td>201262.0</td>\n",
       "      <td>113283.0</td>\n",
       "    </tr>\n",
       "    <tr>\n",
       "      <th>NaN</th>\n",
       "      <td>NaN</td>\n",
       "      <td>NaN</td>\n",
       "      <td>66.0</td>\n",
       "    </tr>\n",
       "  </tbody>\n",
       "</table>\n",
       "</div>"
      ],
      "text/plain": [
       "배인번호_정상_판단       규격외         정상       NaN\n",
       "연료                                       \n",
       "CNG(압축천연가스)      NaN        1.0       NaN\n",
       "LPG(액화석유가스)      NaN    23363.0    2725.0\n",
       "경유            4151.0  1140926.0    7624.0\n",
       "기타연료             NaN        NaN       1.0\n",
       "알코올              NaN        NaN       1.0\n",
       "휘발유          17808.0   201262.0  113283.0\n",
       "NaN              NaN        NaN      66.0"
      ]
     },
     "execution_count": 50,
     "metadata": {},
     "output_type": "execute_result"
    }
   ],
   "source": [
    "g4.groupby(['연료', '배인번호_정상_판단'], dropna=False)['차대번호'].count().unstack()"
   ]
  },
  {
   "cell_type": "code",
   "execution_count": 53,
   "metadata": {},
   "outputs": [],
   "source": [
    "with pd.ExcelWriter('analysis2/통계_4등급_연료별_차량연식별_배인번호_정상여부별.xlsx') as writer:\n",
    "    g4.groupby(['연료', '배인번호_정상_판단'], dropna=False)['차대번호'].count().unstack().to_excel(writer, sheet_name='연료별_배인번호_정상여부')\n",
    "    g4.groupby('연료', dropna=False)['차대번호'].count().to_excel(writer, sheet_name='연료별')\n",
    "    g4.groupby('차량연식', dropna=False)['차대번호'].count().to_excel(writer, sheet_name='차량연식별')\n",
    "    g4.groupby(['배인번호_정상_판단'], dropna=False)['차대번호'].count().to_excel(writer, sheet_name='배인번호_정상여부')"
   ]
  },
  {
   "attachments": {},
   "cell_type": "markdown",
   "metadata": {},
   "source": [
    "# Code End"
   ]
  }
 ],
 "metadata": {
  "kernelspec": {
   "display_name": "base",
   "language": "python",
   "name": "python3"
  },
  "language_info": {
   "codemirror_mode": {
    "name": "ipython",
    "version": 3
   },
   "file_extension": ".py",
   "mimetype": "text/x-python",
   "name": "python",
   "nbconvert_exporter": "python",
   "pygments_lexer": "ipython3",
   "version": "3.9.13"
  },
  "orig_nbformat": 4,
  "vscode": {
   "interpreter": {
    "hash": "ad2bdc8ecc057115af97d19610ffacc2b4e99fae6737bb82f5d7fb13d2f2c186"
   }
  }
 },
 "nbformat": 4,
 "nbformat_minor": 2
}
