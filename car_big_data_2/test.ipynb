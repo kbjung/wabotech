{
 "cells": [
  {
   "cell_type": "code",
   "execution_count": 2,
   "metadata": {},
   "outputs": [],
   "source": [
    "import pandas as pd\n",
    "import os"
   ]
  },
  {
   "cell_type": "code",
   "execution_count": 7,
   "metadata": {},
   "outputs": [],
   "source": [
    "path = 'D:/data/big2/ODS'\n",
    "raw_fold = 'D:/data/big2/result/raw'"
   ]
  },
  {
   "cell_type": "code",
   "execution_count": 5,
   "metadata": {},
   "outputs": [
    {
     "name": "stderr",
     "output_type": "stream",
     "text": [
      "C:\\Users\\kbjung\\AppData\\Local\\Temp\\ipykernel_11940\\3822293697.py:1: DtypeWarning: Columns (12,14,21,44,48) have mixed types. Specify dtype option on import or set low_memory=False.\n",
      "  df = pd.read_csv(os.path.join(path, '[ODS][G4]등록정보&제원정보(2022.12.28).csv'), encoding='cp949')\n"
     ]
    }
   ],
   "source": [
    "df = pd.read_csv(os.path.join(path, '[ODS][G4]등록정보&제원정보(2022.12.28).csv'), encoding='cp949')"
   ]
  },
  {
   "cell_type": "code",
   "execution_count": 12,
   "metadata": {},
   "outputs": [
    {
     "data": {
      "text/plain": [
       "dtype('O')"
      ]
     },
     "execution_count": 12,
     "metadata": {},
     "output_type": "execute_result"
    }
   ],
   "source": [
    "df['제원관리번호'].dtype"
   ]
  },
  {
   "cell_type": "code",
   "execution_count": 18,
   "metadata": {},
   "outputs": [
    {
     "data": {
      "text/plain": [
       "20042500000003       353\n",
       "20042500000003       212\n",
       "20042500000001       181\n",
       "20042500000000       159\n",
       "20042500000000        75\n",
       "20042500000004        33\n",
       "20042500000001        21\n",
       "20042500000004        15\n",
       "20029400000000        12\n",
       "20018700000001         5\n",
       "30110500000077         2\n",
       "30431200000033         1\n",
       "00031123015731309      1\n",
       "20018700000001         1\n",
       "30431200000033         1\n",
       "Name: 제원관리번호, dtype: int64"
      ]
     },
     "execution_count": 18,
     "metadata": {},
     "output_type": "execute_result"
    }
   ],
   "source": [
    "df.loc[df['배출가스인증번호'] == '3MY-FK-08', '제원관리번호'].value_counts()"
   ]
  },
  {
   "cell_type": "code",
   "execution_count": 6,
   "metadata": {},
   "outputs": [
    {
     "data": {
      "text/plain": [
       "02420011500011209    674\n",
       "02420011500031210    236\n",
       "02420011500001209    217\n",
       "Name: 제원관리번호, dtype: int64"
      ]
     },
     "execution_count": 6,
     "metadata": {},
     "output_type": "execute_result"
    }
   ],
   "source": [
    "df.loc[df['배출가스인증번호'] == '9MY-AD-14-04', '제원관리번호'].value_counts()"
   ]
  },
  {
   "cell_type": "code",
   "execution_count": 16,
   "metadata": {},
   "outputs": [
    {
     "data": {
      "text/html": [
       "<div>\n",
       "<style scoped>\n",
       "    .dataframe tbody tr th:only-of-type {\n",
       "        vertical-align: middle;\n",
       "    }\n",
       "\n",
       "    .dataframe tbody tr th {\n",
       "        vertical-align: top;\n",
       "    }\n",
       "\n",
       "    .dataframe thead th {\n",
       "        text-align: right;\n",
       "    }\n",
       "</style>\n",
       "<table border=\"1\" class=\"dataframe\">\n",
       "  <thead>\n",
       "    <tr style=\"text-align: right;\">\n",
       "      <th></th>\n",
       "      <th>배출가스인증번호</th>\n",
       "      <th>제원관리번호</th>\n",
       "      <th>차대번호</th>\n",
       "    </tr>\n",
       "  </thead>\n",
       "  <tbody>\n",
       "    <tr>\n",
       "      <th>0</th>\n",
       "      <td>3MY-FK-08</td>\n",
       "      <td>20018700000001</td>\n",
       "      <td>1</td>\n",
       "    </tr>\n",
       "    <tr>\n",
       "      <th>1</th>\n",
       "      <td>3MY-FK-08</td>\n",
       "      <td>20042500000000</td>\n",
       "      <td>75</td>\n",
       "    </tr>\n",
       "    <tr>\n",
       "      <th>2</th>\n",
       "      <td>3MY-FK-08</td>\n",
       "      <td>20042500000001</td>\n",
       "      <td>181</td>\n",
       "    </tr>\n",
       "    <tr>\n",
       "      <th>3</th>\n",
       "      <td>3MY-FK-08</td>\n",
       "      <td>20042500000003</td>\n",
       "      <td>353</td>\n",
       "    </tr>\n",
       "    <tr>\n",
       "      <th>4</th>\n",
       "      <td>3MY-FK-08</td>\n",
       "      <td>20042500000004</td>\n",
       "      <td>33</td>\n",
       "    </tr>\n",
       "    <tr>\n",
       "      <th>...</th>\n",
       "      <td>...</td>\n",
       "      <td>...</td>\n",
       "      <td>...</td>\n",
       "    </tr>\n",
       "    <tr>\n",
       "      <th>9673</th>\n",
       "      <td>XMY-KM-47</td>\n",
       "      <td>10124800030001</td>\n",
       "      <td>690</td>\n",
       "    </tr>\n",
       "    <tr>\n",
       "      <th>9674</th>\n",
       "      <td>YKM-KM-12</td>\n",
       "      <td>10016400440000</td>\n",
       "      <td>79</td>\n",
       "    </tr>\n",
       "    <tr>\n",
       "      <th>9675</th>\n",
       "      <td>YKM-KM-12</td>\n",
       "      <td>10016400450000</td>\n",
       "      <td>4</td>\n",
       "    </tr>\n",
       "    <tr>\n",
       "      <th>9676</th>\n",
       "      <td>YKM-KM-12</td>\n",
       "      <td>10150600000000</td>\n",
       "      <td>20</td>\n",
       "    </tr>\n",
       "    <tr>\n",
       "      <th>9677</th>\n",
       "      <td>YKM-KM-12</td>\n",
       "      <td>99934125020813405</td>\n",
       "      <td>1</td>\n",
       "    </tr>\n",
       "  </tbody>\n",
       "</table>\n",
       "<p>9678 rows × 3 columns</p>\n",
       "</div>"
      ],
      "text/plain": [
       "       배출가스인증번호             제원관리번호  차대번호\n",
       "0     3MY-FK-08     20018700000001     1\n",
       "1     3MY-FK-08     20042500000000    75\n",
       "2     3MY-FK-08     20042500000001   181\n",
       "3     3MY-FK-08     20042500000003   353\n",
       "4     3MY-FK-08     20042500000004    33\n",
       "...         ...                ...   ...\n",
       "9673  XMY-KM-47     10124800030001   690\n",
       "9674  YKM-KM-12     10016400440000    79\n",
       "9675  YKM-KM-12     10016400450000     4\n",
       "9676  YKM-KM-12     10150600000000    20\n",
       "9677  YKM-KM-12  99934125020813405     1\n",
       "\n",
       "[9678 rows x 3 columns]"
      ]
     },
     "execution_count": 16,
     "metadata": {},
     "output_type": "execute_result"
    }
   ],
   "source": [
    "df.groupby(['배출가스인증번호', '제원관리번호'])['차대번호'].count().reset_index()"
   ]
  },
  {
   "cell_type": "code",
   "execution_count": null,
   "metadata": {},
   "outputs": [],
   "source": []
  },
  {
   "cell_type": "code",
   "execution_count": 17,
   "metadata": {},
   "outputs": [],
   "source": [
    "df.groupby(['배출가스인증번호', '제원관리번호'])['차대번호'].count().reset_index().to_excel('test.xlsx', index=False)"
   ]
  },
  {
   "cell_type": "code",
   "execution_count": 20,
   "metadata": {},
   "outputs": [],
   "source": [
    "df.groupby(['배출가스인증번호', '제원관리번호'])['차대번호'].count().reset_index().to_csv('test.csv', index=False, encoding='cp949')"
   ]
  },
  {
   "cell_type": "code",
   "execution_count": 23,
   "metadata": {},
   "outputs": [],
   "source": [
    "df.groupby(['배출가스인증번호', '제원관리번호'])['차대번호'].count().reset_index().to_csv('test.txt', index=False, encoding='cp949')"
   ]
  },
  {
   "cell_type": "code",
   "execution_count": 10,
   "metadata": {},
   "outputs": [
    {
     "data": {
      "text/plain": [
       "아우디폭스바겐코리아(주)    1127\n",
       "Name: 제작사명, dtype: int64"
      ]
     },
     "execution_count": 10,
     "metadata": {},
     "output_type": "execute_result"
    }
   ],
   "source": [
    "df.loc[df['배출가스인증번호'] == '9MY-AD-14-04', '제작사명'].value_counts()"
   ]
  },
  {
   "cell_type": "code",
   "execution_count": 8,
   "metadata": {},
   "outputs": [
    {
     "name": "stderr",
     "output_type": "stream",
     "text": [
      "C:\\Users\\kbjung\\AppData\\Local\\Temp\\ipykernel_11940\\2958224972.py:1: DtypeWarning: Columns (17,35) have mixed types. Specify dtype option on import or set low_memory=False.\n",
      "  rw = pd.read_csv(os.path.join(raw_fold, '4등급 차량 리스트 양식 result 최종_수정-작업.csv'), encoding='cp949')\n"
     ]
    }
   ],
   "source": [
    "rw = pd.read_csv(os.path.join(raw_fold, '4등급 차량 리스트 양식 result 최종_수정-작업.csv'), encoding='cp949')"
   ]
  },
  {
   "cell_type": "code",
   "execution_count": 9,
   "metadata": {},
   "outputs": [
    {
     "data": {
      "text/plain": [
       "2420010000000000     976\n",
       "Name: 제원관리번호, dtype: int64"
      ]
     },
     "execution_count": 9,
     "metadata": {},
     "output_type": "execute_result"
    }
   ],
   "source": [
    "rw.loc[rw['배출가스인증번호'] == '9MY-AD-14-04', '제원관리번호'].value_counts()"
   ]
  },
  {
   "cell_type": "code",
   "execution_count": null,
   "metadata": {},
   "outputs": [],
   "source": []
  }
 ],
 "metadata": {
  "kernelspec": {
   "display_name": "base",
   "language": "python",
   "name": "python3"
  },
  "language_info": {
   "codemirror_mode": {
    "name": "ipython",
    "version": 3
   },
   "file_extension": ".py",
   "mimetype": "text/x-python",
   "name": "python",
   "nbconvert_exporter": "python",
   "pygments_lexer": "ipython3",
   "version": "3.9.13"
  },
  "orig_nbformat": 4
 },
 "nbformat": 4,
 "nbformat_minor": 2
}
